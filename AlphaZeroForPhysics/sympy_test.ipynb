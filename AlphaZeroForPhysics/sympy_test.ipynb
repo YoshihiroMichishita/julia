{
 "cells": [
  {
   "cell_type": "code",
   "execution_count": 1,
   "metadata": {},
   "outputs": [
    {
     "data": {
      "text/plain": [
       "score_test (generic function with 1 method)"
      ]
     },
     "metadata": {},
     "output_type": "display_data"
    }
   ],
   "source": [
    "include(\"AZP_env.jl\")"
   ]
  },
  {
   "cell_type": "code",
   "execution_count": 2,
   "metadata": {},
   "outputs": [
    {
     "data": {
      "text/plain": [
       "calc_Kt_sym (generic function with 1 method)"
      ]
     },
     "metadata": {},
     "output_type": "display_data"
    }
   ],
   "source": [
    "function calc_Kt_sym(history::Vector{Int}, env::Env)\n",
    "    MV = []\n",
    "    his = copy(history)\n",
    "    #println(length(his))\n",
    "    for it in 1:length(his)\n",
    "        sw = pop!(his)\n",
    "        if(sw==1)\n",
    "            push!(MV, env.H_0)\n",
    "        elseif(sw==2)\n",
    "            push!(MV, env.V_t*sx)\n",
    "        elseif(sw==3)\n",
    "            A = pop!(MV)\n",
    "            B = pop!(MV)\n",
    "            C = A + B\n",
    "            push!(MV, C)\n",
    "        elseif(sw==4)\n",
    "            A = pop!(MV)\n",
    "            B = pop!(MV)\n",
    "            C = -1im*(A*B - B*A)\n",
    "            push!(MV, C)\n",
    "        elseif(sw==5)\n",
    "            A = pop!(MV)\n",
    "            B = pop!(MV)\n",
    "            C = (A*B + B*A)/2\n",
    "            push!(MV, C)\n",
    "        elseif(sw==6)\n",
    "            A = pop!(MV)\n",
    "            try\n",
    "                #B = A.integrate((x, 0, x))/env.Ω\n",
    "                B = A.integrate(x)/env.Ω\n",
    "            catch\n",
    "                B = A\n",
    "            end\n",
    "            push!(MV, B)\n",
    "        end\n",
    "        #@show MV\n",
    "    end\n",
    "    return MV[end]\n",
    "end"
   ]
  },
  {
   "cell_type": "code",
   "execution_count": 6,
   "metadata": {},
   "outputs": [
    {
     "data": {
      "text/plain": [
       "Env(15, 200, 2, 3, 1, 6, 90, 64, 7, 5, 1000, 200, 500, 1, 1.0f-5, 0.9f0, 512, 0.3f0, 0.25f0, 0.1f0, 1.0f0, 100, 4, 10.0f0, 0.4f0, 1.0f0, 0.7f0, 0.5f0, ComplexF32[-2.0f0 + 0.0f0im 0.0f0 + 0.0f0im 0.0f0 + 0.0f0im -0.7f0 + 0.0f0im; 0.0f0 - 0.0f0im 1.0f0 + 0.0f0im -0.7f0 + 0.0f0im 0.0f0 + 0.0f0im; 0.0f0 - 0.0f0im -0.7f0 - 0.0f0im 1.0f0 + 0.0f0im 0.0f0 + 0.0f0im; -0.7f0 - 0.0f0im 0.0f0 - 0.0f0im 0.0f0 - 0.0f0im 0.0f0 + 0.0f0im], ComplexF32[0.0f0 + 0.0f0im -0.4f0 + 0.0f0im -0.4f0 + 0.0f0im 0.0f0 + 0.0f0im; -0.4f0 - 0.0f0im 0.0f0 + 0.0f0im 0.0f0 + 0.0f0im -0.4f0 + 0.0f0im; -0.4f0 - 0.0f0im 0.0f0 - 0.0f0im 0.0f0 + 0.0f0im -0.4f0 + 0.0f0im; 0.0f0 - 0.0f0im -0.4f0 - 0.0f0im -0.4f0 - 0.0f0im 0.0f0 + 0.0f0im], 0.0062831854f0, 72, 1.0f0, 1.0f-6)"
      ]
     },
     "metadata": {},
     "output_type": "display_data"
    }
   ],
   "source": [
    "en = init_Env_quick([\"15\", \"64\", \"5\", \"0.25\"], Any[0.3, Int(72), 1.0])"
   ]
  },
  {
   "cell_type": "code",
   "execution_count": 9,
   "metadata": {},
   "outputs": [
    {
     "data": {
      "text/plain": [
       "100-element Vector{Float64}:\n",
       " 0.0\n",
       " 0.06283185631036758\n",
       " 0.12566371262073517\n",
       " 0.18849556893110275\n",
       " 0.25132742524147034\n",
       " 0.3141592815518379\n",
       " 0.3769911378622055\n",
       " 0.4398229941725731\n",
       " 0.5026548504829407\n",
       " 0.5654867067933083\n",
       " ⋮\n",
       " 5.71769892424345\n",
       " 5.780530780553818\n",
       " 5.843362636864185\n",
       " 5.906194493174553\n",
       " 5.9690263494849205\n",
       " 6.031858205795288\n",
       " 6.094690062105656\n",
       " 6.157521918416023\n",
       " 6.220353774726391"
      ]
     },
     "metadata": {},
     "output_type": "display_data"
    }
   ],
   "source": [
    "t = collect(0:en.Ω*en.dt:2pi)"
   ]
  },
  {
   "cell_type": "code",
   "execution_count": 42,
   "metadata": {},
   "outputs": [
    {
     "name": "stdout",
     "output_type": "stream",
     "text": [
      "  0.393549 seconds (460.89 k allocations: 31.670 MiB, 98.41% compilation time)\n"
     ]
    },
    {
     "data": {
      "text/latex": [
       "$\\left[ \\begin{array}{rrrr}-2.0&0&0&-0.699999988079071\\\\0&1.0&-0.699999988079071&0\\\\0&-0.699999988079071&1.0&0\\\\-0.699999988079071&0&0&0\\end{array}\\right]$\n"
      ],
      "text/plain": [
       "4×4 Matrix{Sym}:\n",
       "  -2.00000000000000                   0  …  -0.699999988079071\n",
       "                  0    1.00000000000000                      0\n",
       "                  0  -0.699999988079071                      0\n",
       " -0.699999988079071                   0                      0"
      ]
     },
     "metadata": {},
     "output_type": "display_data"
    }
   ],
   "source": [
    "hist = [3, 1, 4, 2, 2]\n",
    "@time Ks = calc_Kt_sym(hist, en)"
   ]
  },
  {
   "cell_type": "code",
   "execution_count": 43,
   "metadata": {},
   "outputs": [
    {
     "name": "stdout",
     "output_type": "stream",
     "text": [
      "  0.000431 seconds (289 allocations: 7.438 KiB)\n"
     ]
    },
    {
     "data": {
      "text/plain": [
       "4×4 Matrix{ComplexF32}:\n",
       " -2.0+0.0im   0.0+0.0im   0.0+0.0im  -0.7+0.0im\n",
       "  0.0+0.0im   1.0+0.0im  -0.7+0.0im   0.0+0.0im\n",
       "  0.0+0.0im  -0.7+0.0im   1.0+0.0im   0.0+0.0im\n",
       " -0.7+0.0im   0.0+0.0im   0.0+0.0im   0.0+0.0im"
      ]
     },
     "metadata": {},
     "output_type": "display_data"
    }
   ],
   "source": [
    "@time K0 = convert(Matrix{ComplexF32}, Ks)"
   ]
  },
  {
   "cell_type": "code",
   "execution_count": 32,
   "metadata": {},
   "outputs": [
    {
     "data": {
      "text/plain": [
       "4×4 Matrix{Real}:\n",
       " 0     0.04  0.04  0\n",
       " 0.04  0     0     0.04\n",
       " 0.04  0     0     0.04\n",
       " 0     0.04  0.04  0"
      ]
     },
     "metadata": {},
     "output_type": "display_data"
    }
   ],
   "source": [
    "#K0 = N(Ks.subs(x,t[1]))"
   ]
  },
  {
   "cell_type": "code",
   "execution_count": 37,
   "metadata": {},
   "outputs": [
    {
     "name": "stdout",
     "output_type": "stream",
     "text": [
      "  3.611101 seconds (691.99 k allocations: 22.648 MiB, 0.92% compilation time)\n"
     ]
    },
    {
     "name": "stdout",
     "output_type": "stream",
     "text": [
      "  1.071003 seconds (72.37 k allocations: 3.039 MiB, 2.69% compilation time)\n",
      "\n"
     ]
    }
   ],
   "source": [
    "@time Kt = [Hermitian(ComplexF32.(N(Ks.subs(x,t[i]))-K0)) for i in 1:en.t_step]\n",
    "@time Kt = [Hermitian(convert(Matrix{ComplexF32}, Ks.subs(x,t[i]))-K0) for i in 1:en.t_step]\n",
    "println(\"\")"
   ]
  },
  {
   "cell_type": "code",
   "execution_count": null,
   "metadata": {},
   "outputs": [],
   "source": []
  }
 ],
 "metadata": {
  "kernelspec": {
   "display_name": "Julia 1.9.3",
   "language": "julia",
   "name": "julia-1.9"
  },
  "language_info": {
   "file_extension": ".jl",
   "mimetype": "application/julia",
   "name": "julia",
   "version": "1.9.3"
  }
 },
 "nbformat": 4,
 "nbformat_minor": 2
}
