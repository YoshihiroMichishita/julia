{
 "cells": [
  {
   "cell_type": "code",
   "execution_count": 15,
   "metadata": {},
   "outputs": [
    {
     "data": {
      "text/plain": [
       "main (generic function with 1 method)"
      ]
     },
     "metadata": {},
     "output_type": "display_data"
    }
   ],
   "source": [
    "include(\"e-Greedy.jl\")"
   ]
  },
  {
   "cell_type": "code",
   "execution_count": 7,
   "metadata": {},
   "outputs": [
    {
     "name": "stdout",
     "output_type": "stream",
     "text": [
      "Start!\n"
     ]
    },
    {
     "name": "stdout",
     "output_type": "stream",
     "text": [
      "max_turn:  8\n",
      "num_player:  240\n",
      "middle_dim:  128\n",
      "depth:  12\n",
      "training_step:  200\n",
      "batch_size:  48\n",
      "batch_num:  1\n",
      "num_simulation:  500\n",
      "α:  0.3\n",
      "frac:  0.05\n",
      "ratio:  12.0\n",
      "ratio_r:  1.0\n"
     ]
    },
    {
     "data": {
      "text/plain": [
       "Dict{Vector{Int64}, Float32}()"
      ]
     },
     "metadata": {},
     "output_type": "display_data"
    }
   ],
   "source": [
    "println(\"Start!\")\n",
    "env = init_Env([\"8\", \"240\", \"128\", \"12\", \"200\", \"48\", \"1\", \"500\", \"0.3\", \"0.05\", \"50\", \"4\", \"15.0\", \"0.4\", \"1.0\", \"0.7\", \"0.5\", \"4\", \"0.75\", \"0.000001\", \"12.0\", \"1.0\"])\n",
    "agt = init_agt()\n",
    "scores = Dict{Vector{Int}, Float32}()"
   ]
  },
  {
   "cell_type": "code",
   "execution_count": 8,
   "metadata": {},
   "outputs": [
    {
     "data": {
      "text/plain": [
       "6-element Vector{Int64}:\n",
       " 1\n",
       " 2\n",
       " 3\n",
       " 4\n",
       " 5\n",
       " 6"
      ]
     },
     "metadata": {},
     "output_type": "display_data"
    }
   ],
   "source": [
    "root = init_node(Float32(20.0))\n",
    "A = legal_action(env, agt)"
   ]
  },
  {
   "cell_type": "code",
   "execution_count": 9,
   "metadata": {},
   "outputs": [],
   "source": [
    "for a in A\n",
    "    root.children[a] = init_node(Float32(20.0))\n",
    "end"
   ]
  },
  {
   "cell_type": "code",
   "execution_count": 10,
   "metadata": {},
   "outputs": [
    {
     "name": "stdout",
     "output_type": "stream",
     "text": [
      "root = Node(20.0f0, Dict{Int64, Node}(5 => Node(20.0f0, Dict{Int64, Node}(), 0), 4 => Node(20.0f0, Dict{Int64, Node}(), 0), 6 => Node(20.0f0, Dict{Int64, Node}(), 0), 2 => Node(20.0f0, Dict{Int64, Node}(), 0), 3 => Node(20.0f0, Dict{Int64, Node}(), 0), 1 => Node(20.0f0, Dict{Int64, Node}(), 0)), 0)\n"
     ]
    },
    {
     "data": {
      "text/plain": [
       "Node(20.0f0, Dict{Int64, Node}(5 => Node(20.0f0, Dict{Int64, Node}(), 0), 4 => Node(20.0f0, Dict{Int64, Node}(), 0), 6 => Node(20.0f0, Dict{Int64, Node}(), 0), 2 => Node(20.0f0, Dict{Int64, Node}(), 0), 3 => Node(20.0f0, Dict{Int64, Node}(), 0), 1 => Node(20.0f0, Dict{Int64, Node}(), 0)), 0)"
      ]
     },
     "metadata": {},
     "output_type": "display_data"
    }
   ],
   "source": [
    "@show root"
   ]
  },
  {
   "cell_type": "code",
   "execution_count": 18,
   "metadata": {},
   "outputs": [
    {
     "data": {
      "text/plain": [
       "Node(20.0f0, Dict{Int64, Node}(5 => Node(20.0f0, Dict{Int64, Node}(), 0), 4 => Node(20.0f0, Dict{Int64, Node}(), 0), 6 => Node(20.0f0, Dict{Int64, Node}(), 0), 2 => Node(20.0f0, Dict{Int64, Node}(), 0), 3 => Node(20.0f0, Dict{Int64, Node}(), 0), 1 => Node(20.0f0, Dict{Int64, Node}(), 0)), 0)"
      ]
     },
     "metadata": {},
     "output_type": "display_data"
    }
   ],
   "source": [
    "node = root"
   ]
  },
  {
   "cell_type": "code",
   "execution_count": 22,
   "metadata": {},
   "outputs": [
    {
     "data": {
      "text/plain": [
       "6-element Vector{Int64}:\n",
       " 1\n",
       " 2\n",
       " 3\n",
       " 4\n",
       " 5\n",
       " 6"
      ]
     },
     "metadata": {},
     "output_type": "display_data"
    }
   ],
   "source": [
    "actions = Int.(keys(node.children))\n",
    "children = [node.children[a] for a in actions]\n",
    "score_v = [child.value_expect for child in children]\n",
    "its = findall(x -> x==maximum(score_v), score_v)"
   ]
  },
  {
   "cell_type": "code",
   "execution_count": 23,
   "metadata": {},
   "outputs": [
    {
     "data": {
      "text/plain": [
       "4"
      ]
     },
     "metadata": {},
     "output_type": "display_data"
    }
   ],
   "source": [
    "l = length(score_v)\n",
    "it = rand(its)"
   ]
  },
  {
   "cell_type": "code",
   "execution_count": 24,
   "metadata": {},
   "outputs": [
    {
     "name": "stdout",
     "output_type": "stream",
     "text": [
      "actions[it] = 2\n",
      "children[it] = Node(20.0f0, Dict{Int64, Node}(), 0)\n"
     ]
    },
    {
     "data": {
      "text/plain": [
       "Node(20.0f0, Dict{Int64, Node}(), 0)"
      ]
     },
     "metadata": {},
     "output_type": "display_data"
    }
   ],
   "source": [
    "@show actions[it]\n",
    "@show children[it]"
   ]
  },
  {
   "cell_type": "code",
   "execution_count": 17,
   "metadata": {},
   "outputs": [
    {
     "ename": "ArgumentError",
     "evalue": "ArgumentError: collection must be non-empty",
     "output_type": "error",
     "traceback": [
      "ArgumentError: collection must be non-empty\n",
      "\n",
      "Stacktrace:\n",
      " [1] SamplerRangeNDL\n",
      "   @ ~/.julia/juliaup/julia-1.9.2+0.x64.linux.gnu/share/julia/stdlib/v1.9/Random/src/generation.jl:333 [inlined]\n",
      " [2] Sampler\n",
      "   @ ~/.julia/juliaup/julia-1.9.2+0.x64.linux.gnu/share/julia/stdlib/v1.9/Random/src/generation.jl:189 [inlined]\n",
      " [3] Sampler\n",
      "   @ ~/.julia/juliaup/julia-1.9.2+0.x64.linux.gnu/share/julia/stdlib/v1.9/Random/src/generation.jl:418 [inlined]\n",
      " [4] Sampler\n",
      "   @ ~/.julia/juliaup/julia-1.9.2+0.x64.linux.gnu/share/julia/stdlib/v1.9/Random/src/Random.jl:140 [inlined]\n",
      " [5] rand\n",
      "   @ ~/.julia/juliaup/julia-1.9.2+0.x64.linux.gnu/share/julia/stdlib/v1.9/Random/src/Random.jl:256 [inlined]\n",
      " [6] rand\n",
      "   @ ~/.julia/juliaup/julia-1.9.2+0.x64.linux.gnu/share/julia/stdlib/v1.9/Random/src/Random.jl:261 [inlined]\n",
      " [7] select_child(env::Env, node::Node)\n",
      "   @ Main ~/Documents/Codes/julia/AlphaZeroForPhysics/e-Greedy.jl:82\n",
      " [8] top-level scope\n",
      "   @ ~/Documents/Codes/julia/AlphaZeroForPhysics/flux_gpu_test.ipynb:1"
     ]
    }
   ],
   "source": [
    "action, node = select_child(env, node)"
   ]
  },
  {
   "cell_type": "code",
   "execution_count": 1,
   "metadata": {},
   "outputs": [
    {
     "data": {
      "text/plain": [
       "4-element Vector{Float64}:\n",
       " 1.0\n",
       " 2.0\n",
       " 5.0\n",
       " 0.0"
      ]
     },
     "metadata": {},
     "output_type": "display_data"
    }
   ],
   "source": [
    "score_v = [1.0, 2.0, 5.0, 0.0]"
   ]
  },
  {
   "cell_type": "code",
   "execution_count": 3,
   "metadata": {},
   "outputs": [
    {
     "data": {
      "text/plain": [
       "5.0"
      ]
     },
     "metadata": {},
     "output_type": "display_data"
    }
   ],
   "source": [
    "maximum(score_v)"
   ]
  },
  {
   "cell_type": "code",
   "execution_count": 4,
   "metadata": {},
   "outputs": [
    {
     "data": {
      "text/plain": [
       "1-element Vector{Int64}:\n",
       " 3"
      ]
     },
     "metadata": {},
     "output_type": "display_data"
    }
   ],
   "source": [
    "its = findall(x -> x==maximum(score_v), score_v)"
   ]
  },
  {
   "cell_type": "code",
   "execution_count": 1,
   "metadata": {},
   "outputs": [],
   "source": [
    "using Distributed"
   ]
  },
  {
   "cell_type": "code",
   "execution_count": 2,
   "metadata": {},
   "outputs": [
    {
     "data": {
      "text/plain": [
       "4-element Vector{Int64}:\n",
       " 2\n",
       " 3\n",
       " 4\n",
       " 5"
      ]
     },
     "metadata": {},
     "output_type": "display_data"
    }
   ],
   "source": [
    "addprocs(4)"
   ]
  },
  {
   "cell_type": "code",
   "execution_count": 9,
   "metadata": {},
   "outputs": [],
   "source": [
    "@everywhere function getvec(x::Int, y::Int)\n",
    "    vec::Vector{Int} = []\n",
    "    for i in 1:5\n",
    "        push!(vec, (myid()+i+x+y)^2)\n",
    "    end\n",
    "    return vec\n",
    "end"
   ]
  },
  {
   "cell_type": "code",
   "execution_count": 10,
   "metadata": {},
   "outputs": [],
   "source": [
    "futures = Future[]\n",
    "for i in workers()\n",
    "    push!(futures, remotecall(getvec, i, 0, 0))\n",
    "end"
   ]
  },
  {
   "cell_type": "code",
   "execution_count": 11,
   "metadata": {},
   "outputs": [],
   "source": [
    "results = []\n",
    "for future in futures\n",
    "    push!(results, fetch(future))\n",
    "end"
   ]
  },
  {
   "cell_type": "code",
   "execution_count": 12,
   "metadata": {},
   "outputs": [
    {
     "name": "stdout",
     "output_type": "stream",
     "text": [
      "results = Any[[9, 16, 25, 36, 49], [16, 25, 36, 49, 64], [25, 36, 49, 64, 81], [36, 49, 64, 81, 100]]\n"
     ]
    },
    {
     "data": {
      "text/plain": [
       "4-element Vector{Any}:\n",
       " [9, 16, 25, 36, 49]\n",
       " [16, 25, 36, 49, 64]\n",
       " [25, 36, 49, 64, 81]\n",
       " [36, 49, 64, 81, 100]"
      ]
     },
     "metadata": {},
     "output_type": "display_data"
    }
   ],
   "source": [
    "@show results"
   ]
  },
  {
   "cell_type": "code",
   "execution_count": 8,
   "metadata": {},
   "outputs": [
    {
     "data": {
      "text/plain": [
       "4"
      ]
     },
     "metadata": {},
     "output_type": "display_data"
    }
   ],
   "source": [
    "nworkers()"
   ]
  },
  {
   "cell_type": "code",
   "execution_count": 15,
   "metadata": {},
   "outputs": [
    {
     "data": {
      "text/plain": [
       "check_RL (generic function with 1 method)"
      ]
     },
     "metadata": {},
     "output_type": "display_data"
    }
   ],
   "source": [
    "include(\"AZP_env.jl\")\n",
    "include(\"AZP_agt.jl\")\n",
    "include(\"AZP_mcts_valMAX.jl\")"
   ]
  },
  {
   "cell_type": "code",
   "execution_count": 5,
   "metadata": {},
   "outputs": [
    {
     "name": "stdout",
     "output_type": "stream",
     "text": [
      "max_turn:  9\n",
      "num_player:  240\n",
      "middle_dim:  128\n",
      "depth:  12\n",
      "training_step:  200\n",
      "batch_size:  48\n",
      "batch_num:  1\n",
      "num_simulation:  10\n",
      "α:  0.3\n",
      "frac:  0.25\n",
      "ratio:  12.0\n",
      "ratio_r:  1.0\n"
     ]
    },
    {
     "data": {
      "text/plain": [
       "Env(9, 240, 2, 3, 1, 6, 54, 128, 7, 12, 200, 200, 48, 1, 1.0f-5, 0.9f0, 10, 0.3f0, 0.25f0, 12.0f0, 1.0f0, 50, 4, 15.0f0, 0.4f0, 1.0f0, 0.7f0, 0.5f0, ComplexF32[-2.0f0 + 0.0f0im 0.0f0 + 0.0f0im 0.0f0 + 0.0f0im -0.7f0 + 0.0f0im; 0.0f0 - 0.0f0im 1.0f0 + 0.0f0im -0.7f0 + 0.0f0im 0.0f0 + 0.0f0im; 0.0f0 - 0.0f0im -0.7f0 - 0.0f0im 1.0f0 + 0.0f0im 0.0f0 + 0.0f0im; -0.7f0 - 0.0f0im 0.0f0 - 0.0f0im 0.0f0 - 0.0f0im 0.0f0 + 0.0f0im], ComplexF32[0.0f0 + 0.0f0im -0.4f0 + 0.0f0im -0.4f0 + 0.0f0im 0.0f0 + 0.0f0im; -0.4f0 - 0.0f0im 0.0f0 + 0.0f0im 0.0f0 + 0.0f0im -0.4f0 + 0.0f0im; -0.4f0 - 0.0f0im 0.0f0 - 0.0f0im 0.0f0 + 0.0f0im -0.4f0 + 0.0f0im; 0.0f0 - 0.0f0im -0.4f0 - 0.0f0im -0.4f0 - 0.0f0im 0.0f0 + 0.0f0im], 0.00837758f0, 4, 0.75f0, 1.0f-6)"
      ]
     },
     "metadata": {},
     "output_type": "display_data"
    }
   ],
   "source": [
    "env0 = init_Env([\"9\", \"240\", \"128\", \"12\", \"200\", \"48\", \"1\", \"10\", \"0.3\", \"0.25\", \"50\", \"4\", \"15.0\", \"0.4\", \"1.0\", \"0.7\", \"0.5\", \"4\", \"0.75\", \"0.000001\", \"12.0\", \"1.0\"])"
   ]
  },
  {
   "cell_type": "code",
   "execution_count": 6,
   "metadata": {},
   "outputs": [
    {
     "data": {
      "text/plain": [
       "Agent(Int64[], Float32[], [-1], Vector{Float32}[])"
      ]
     },
     "metadata": {},
     "output_type": "display_data"
    }
   ],
   "source": [
    "agt0 = init_agt()"
   ]
  },
  {
   "cell_type": "code",
   "execution_count": 8,
   "metadata": {},
   "outputs": [
    {
     "data": {
      "text/plain": [
       "tanh2 (generic function with 1 method)"
      ]
     },
     "metadata": {},
     "output_type": "display_data"
    }
   ],
   "source": [
    "tanh10(x) = Float32(12)*tanh(x/10)\n",
    "tanh2(x) = Float32(4)*tanh(x/4)"
   ]
  },
  {
   "cell_type": "code",
   "execution_count": 9,
   "metadata": {},
   "outputs": [],
   "source": [
    "using BSON: @save, @load\n",
    "@load \"/home/yoshihiro/Documents/Codes/julia/AlphaZeroForPhysics/AZP_valMAX_s_head1.bson\" model0"
   ]
  },
  {
   "cell_type": "code",
   "execution_count": 13,
   "metadata": {},
   "outputs": [
    {
     "data": {
      "text/plain": [
       "Chain(\n",
       "  Dense(54 => 256),                     \u001b[90m# 14_080 parameters\u001b[39m\n",
       "  BatchNorm(256),                       \u001b[90m# 512 parameters\u001b[39m\u001b[90m, plus 512\u001b[39m\n",
       "  Chain(\n",
       "    Parallel(\n",
       "      +,\n",
       "      Chain(\n",
       "        BatchNorm(256),                 \u001b[90m# 512 parameters\u001b[39m\u001b[90m, plus 512\u001b[39m\n",
       "        Dense(256 => 256, relu),        \u001b[90m# 65_792 parameters\u001b[39m\n",
       "        Dense(256 => 256, relu),        \u001b[90m# 65_792 parameters\u001b[39m\n",
       "      ),\n",
       "      identity,\n",
       "    ),\n",
       "  ),\n",
       "  Chain(\n",
       "    Parallel(\n",
       "      +,\n",
       "      Chain(\n",
       "        BatchNorm(256),                 \u001b[90m# 512 parameters\u001b[39m\u001b[90m, plus 512\u001b[39m\n",
       "        Dense(256 => 256, relu),        \u001b[90m# 65_792 parameters\u001b[39m\n",
       "        Dense(256 => 256, relu),        \u001b[90m# 65_792 parameters\u001b[39m\n",
       "      ),\n",
       "      identity,\n",
       "    ),\n",
       "  ),\n",
       "  Chain(\n",
       "    Parallel(\n",
       "      +,\n",
       "      Chain(\n",
       "        BatchNorm(256),                 \u001b[90m# 512 parameters\u001b[39m\u001b[90m, plus 512\u001b[39m\n",
       "        Dense(256 => 256, relu),        \u001b[90m# 65_792 parameters\u001b[39m\n",
       "        Dense(256 => 256, relu),        \u001b[90m# 65_792 parameters\u001b[39m\n",
       "      ),\n",
       "      identity,\n",
       "    ),\n",
       "  ),\n",
       "  Chain(\n",
       "    Parallel(\n",
       "      +,\n",
       "      Chain(\n",
       "        BatchNorm(256),                 \u001b[90m# 512 parameters\u001b[39m\u001b[90m, plus 512\u001b[39m\n",
       "        Dense(256 => 256, relu),        \u001b[90m# 65_792 parameters\u001b[39m\n",
       "        Dense(256 => 256, relu),        \u001b[90m# 65_792 parameters\u001b[39m\n",
       "      ),\n",
       "      identity,\n",
       "    ),\n",
       "  ),\n",
       "  Chain(\n",
       "    Parallel(\n",
       "      +,\n",
       "      Chain(\n",
       "        BatchNorm(256),                 \u001b[90m# 512 parameters\u001b[39m\u001b[90m, plus 512\u001b[39m\n",
       "        Dense(256 => 256, relu),        \u001b[90m# 65_792 parameters\u001b[39m\n",
       "        Dense(256 => 256, relu),        \u001b[90m# 65_792 parameters\u001b[39m\n",
       "      ),\n",
       "      identity,\n",
       "    ),\n",
       "  ),\n",
       "  Chain(\n",
       "    Parallel(\n",
       "      +,\n",
       "      Chain(\n",
       "        BatchNorm(256),                 \u001b[90m# 512 parameters\u001b[39m\u001b[90m, plus 512\u001b[39m\n",
       "        Dense(256 => 256, relu),        \u001b[90m# 65_792 parameters\u001b[39m\n",
       "        Dense(256 => 256, relu),        \u001b[90m# 65_792 parameters\u001b[39m\n",
       "      ),\n",
       "      identity,\n",
       "    ),\n",
       "  ),\n",
       "  Chain(\n",
       "    Parallel(\n",
       "      +,\n",
       "      Chain(\n",
       "        BatchNorm(256),                 \u001b[90m# 512 parameters\u001b[39m\u001b[90m, plus 512\u001b[39m\n",
       "        Dense(256 => 256, relu),        \u001b[90m# 65_792 parameters\u001b[39m\n",
       "        Dense(256 => 256, relu),        \u001b[90m# 65_792 parameters\u001b[39m\n",
       "      ),\n",
       "      identity,\n",
       "    ),\n",
       "  ),\n",
       "  Chain(\n",
       "    Parallel(\n",
       "      +,\n",
       "      Chain(\n",
       "        BatchNorm(256),                 \u001b[90m# 512 parameters\u001b[39m\u001b[90m, plus 512\u001b[39m\n",
       "        Dense(256 => 256, relu),        \u001b[90m# 65_792 parameters\u001b[39m\n",
       "        Dense(256 => 256, relu),        \u001b[90m# 65_792 parameters\u001b[39m\n",
       "      ),\n",
       "      identity,\n",
       "    ),\n",
       "  ),\n",
       "  Chain(\n",
       "    Parallel(\n",
       "      +,\n",
       "      Chain(\n",
       "        BatchNorm(256),                 \u001b[90m# 512 parameters\u001b[39m\u001b[90m, plus 512\u001b[39m\n",
       "        Dense(256 => 256, relu),        \u001b[90m# 65_792 parameters\u001b[39m\n",
       "        Dense(256 => 256, relu),        \u001b[90m# 65_792 parameters\u001b[39m\n",
       "      ),\n",
       "      identity,\n",
       "    ),\n",
       "  ),\n",
       "  Chain(\n",
       "    Parallel(\n",
       "      +,\n",
       "      Chain(\n",
       "        BatchNorm(256),                 \u001b[90m# 512 parameters\u001b[39m\u001b[90m, plus 512\u001b[39m\n",
       "        Dense(256 => 256, relu),        \u001b[90m# 65_792 parameters\u001b[39m\n",
       "        Dense(256 => 256, relu),        \u001b[90m# 65_792 parameters\u001b[39m\n",
       "      ),\n",
       "      identity,\n",
       "    ),\n",
       "  ),\n",
       "  Chain(\n",
       "    Parallel(\n",
       "      +,\n",
       "      Chain(\n",
       "        BatchNorm(256),                 \u001b[90m# 512 parameters\u001b[39m\u001b[90m, plus 512\u001b[39m\n",
       "        Dense(256 => 256, relu),        \u001b[90m# 65_792 parameters\u001b[39m\n",
       "        Dense(256 => 256, relu),        \u001b[90m# 65_792 parameters\u001b[39m\n",
       "      ),\n",
       "      identity,\n",
       "    ),\n",
       "  ),\n",
       "  Chain(\n",
       "    Parallel(\n",
       "      +,\n",
       "      Chain(\n",
       "        BatchNorm(256),                 \u001b[90m# 512 parameters\u001b[39m\u001b[90m, plus 512\u001b[39m\n",
       "        Dense(256 => 256, relu),        \u001b[90m# 65_792 parameters\u001b[39m\n",
       "        Dense(256 => 256, relu),        \u001b[90m# 65_792 parameters\u001b[39m\n",
       "      ),\n",
       "      identity,\n",
       "    ),\n",
       "  ),\n",
       "  Flux.flatten,\n",
       "  Parallel(\n",
       "    vcat,\n",
       "    Chain(\n",
       "      BatchNorm(256),                   \u001b[90m# 512 parameters\u001b[39m\u001b[90m, plus 512\u001b[39m\n",
       "      Dense(256 => 128, relu),          \u001b[90m# 32_896 parameters\u001b[39m\n",
       "      Dense(128 => 128, relu),          \u001b[90m# 16_512 parameters\u001b[39m\n",
       "      Dense(128 => 128, relu),          \u001b[90m# 16_512 parameters\u001b[39m\n",
       "      Dense(128 => 128, relu),          \u001b[90m# 16_512 parameters\u001b[39m\n",
       "      Dense(128 => 6, tanh2),           \u001b[90m# 774 parameters\u001b[39m\n",
       "    ),\n",
       "    Chain(\n",
       "      BatchNorm(256),                   \u001b[90m# 512 parameters\u001b[39m\u001b[90m, plus 512\u001b[39m\n",
       "      Dense(256 => 128, relu),          \u001b[90m# 32_896 parameters\u001b[39m\n",
       "      Dense(128 => 128, relu),          \u001b[90m# 16_512 parameters\u001b[39m\n",
       "      Dense(128 => 128, relu),          \u001b[90m# 16_512 parameters\u001b[39m\n",
       "      Dense(128 => 128, relu),          \u001b[90m# 16_512 parameters\u001b[39m\n",
       "      Dense(128 => 1, tanh10),          \u001b[90m# 129 parameters\u001b[39m\n",
       "    ),\n",
       "  ),\n",
       ") \u001b[90m        # Total: 100 trainable arrays, \u001b[39m1_766_535 parameters,\n",
       "\u001b[90m          # plus 30 non-trainable, 7_680 parameters, summarysize \u001b[39m20.703 KiB."
      ]
     },
     "metadata": {},
     "output_type": "display_data"
    }
   ],
   "source": [
    "model1 = gpu(model0)"
   ]
  },
  {
   "cell_type": "code",
   "execution_count": 16,
   "metadata": {},
   "outputs": [
    {
     "data": {
      "text/plain": [
       "Dict{Vector{Int64}, Float32}()"
      ]
     },
     "metadata": {},
     "output_type": "display_data"
    }
   ],
   "source": [
    "scores = Dict{Vector{Int}, Float32}()"
   ]
  },
  {
   "cell_type": "code",
   "execution_count": 17,
   "metadata": {},
   "outputs": [
    {
     "name": "stdout",
     "output_type": "stream",
     "text": [
      "isfinish?: true\n",
      "has_children?: false\n",
      "isfinish?: true\n",
      "has_children?: false\n",
      "isfinish?: false\n",
      "has_children?: false\n",
      "[3]\n",
      "isfinish?: true\n",
      "has_children?: false\n",
      "isfinish?: false\n",
      "has_children?: false\n",
      "[3, 6]\n",
      "isfinish?: true\n",
      "has_children?: false\n",
      "isfinish?: false\n",
      "has_children?: false\n",
      "[5]\n",
      "isfinish?: false\n",
      "has_children?: false\n",
      "[5, 3]\n",
      "isfinish?: false\n",
      "has_children?: false\n",
      "[3, 6, 5]\n",
      "isfinish?: false\n",
      "has_children?: false\n",
      "[6]\n"
     ]
    },
    {
     "data": {
      "text/plain": [
       "(1, Node(10, 0.0f0, 6.830665f0, Dict{Int64, Node}(5 => Node(2, 0.15226936f0, 3.9492064f0, Dict{Int64, Node}(4 => Node(0, 0.116853885f0, 0.0f0, Dict{Int64, Node}(), 0), 6 => Node(0, 0.30972093f0, 0.0f0, Dict{Int64, Node}(), 0), 2 => Node(0, 0.10977959f0, 0.0f0, Dict{Int64, Node}(), 0), 3 => Node(1, 0.37371558f0, 1.5548325f0, Dict{Int64, Node}(5 => Node(0, 0.41720852f0, 0.0f0, Dict{Int64, Node}(), 0), 4 => Node(0, 0.2261803f0, 0.0f0, Dict{Int64, Node}(), 0), 6 => Node(0, 0.05711125f0, 0.0f0, Dict{Int64, Node}(), 0), 2 => Node(0, 0.23829201f0, 0.0f0, Dict{Int64, Node}(), 0), 1 => Node(0, 0.06120792f0, 0.0f0, Dict{Int64, Node}(), 0)), 0), 1 => Node(0, 0.08993f0, 0.0f0, Dict{Int64, Node}(), 0)), 0), 4 => Node(0, 0.049558394f0, 0.0f0, Dict{Int64, Node}(), 0), 6 => Node(1, 0.13581413f0, 6.830665f0, Dict{Int64, Node}(5 => Node(0, 0.10327234f0, 0.0f0, Dict{Int64, Node}(), 0), 4 => Node(0, 0.039665285f0, 0.0f0, Dict{Int64, Node}(), 0), 2 => Node(0, 0.05450576f0, 0.0f0, Dict{Int64, Node}(), 0), 3 => Node(0, 0.8025565f0, 0.0f0, Dict{Int64, Node}(), 0)), 0), 2 => Node(0, 0.05173903f0, 0.0f0, Dict{Int64, Node}(), 0), 3 => Node(3, 0.35644376f0, 1.3420768f0, Dict{Int64, Node}(5 => Node(0, 0.17441167f0, 0.0f0, Dict{Int64, Node}(), 0), 4 => Node(0, 0.09253721f0, 0.0f0, Dict{Int64, Node}(), 0), 6 => Node(2, 0.55430126f0, 1.2260666f0, Dict{Int64, Node}(5 => Node(1, 0.47894585f0, 0.2562828f0, Dict{Int64, Node}(4 => Node(0, 0.2104119f0, 0.0f0, Dict{Int64, Node}(), 0), 6 => Node(0, 0.43537152f0, 0.0f0, Dict{Int64, Node}(), 0), 2 => Node(0, 0.19085862f0, 0.0f0, Dict{Int64, Node}(), 0), 3 => Node(0, 0.059092756f0, 0.0f0, Dict{Int64, Node}(), 0), 1 => Node(0, 0.10426517f0, 0.0f0, Dict{Int64, Node}(), 0)), 0), 4 => Node(0, 0.26457396f0, 0.0f0, Dict{Int64, Node}(), 0), 2 => Node(0, 0.21112221f0, 0.0f0, Dict{Int64, Node}(), 0), 3 => Node(0, 0.045358058f0, 0.0f0, Dict{Int64, Node}(), 0)), 0), 2 => Node(0, 0.064819805f0, 0.0f0, Dict{Int64, Node}(), 0), 1 => Node(0, 0.11393004f0, 0.0f0, Dict{Int64, Node}(), 0)), 0), 1 => Node(4, 0.25417534f0, 4.6365533f0, Dict{Int64, Node}(), 0)), 0), 1.7724547f0)"
      ]
     },
     "metadata": {},
     "output_type": "display_data"
    }
   ],
   "source": [
    "action, root, surp = run_MCTS_withS(env0, agt0, model1, env0.ratio, env0.ratio_r, scores)"
   ]
  },
  {
   "cell_type": "code",
   "execution_count": null,
   "metadata": {},
   "outputs": [],
   "source": []
  }
 ],
 "metadata": {
  "kernelspec": {
   "display_name": "Julia 1.9.2",
   "language": "julia",
   "name": "julia-1.9"
  },
  "language_info": {
   "file_extension": ".jl",
   "mimetype": "application/julia",
   "name": "julia",
   "version": "1.9.2"
  },
  "orig_nbformat": 4
 },
 "nbformat": 4,
 "nbformat_minor": 2
}
