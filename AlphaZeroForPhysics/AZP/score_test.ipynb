{
 "cells": [
  {
   "cell_type": "code",
   "execution_count": 1,
   "metadata": {},
   "outputs": [
    {
     "data": {
      "text/plain": [
       "score_test (generic function with 1 method)"
      ]
     },
     "execution_count": 1,
     "metadata": {},
     "output_type": "execute_result"
    }
   ],
   "source": [
    "include(\"AZP_env.jl\")"
   ]
  },
  {
   "cell_type": "code",
   "execution_count": 5,
   "metadata": {},
   "outputs": [
    {
     "name": "stdout",
     "output_type": "stream",
     "text": [
      "max_turn:  14\n",
      "num_player:  200\n",
      "middle_dim:  64\n",
      "depth:  12\n",
      "training_step:  100\n",
      "batch_size:  500\n",
      "batch_num:  1\n",
      "num_simulation:  1024\n",
      "α:  0.01\n",
      "frac:  0.25\n",
      "ratio:  0.1\n",
      "ratio_r:  1.0\n",
      "Ω:  10.0\n",
      "ξ:  0.4\n"
     ]
    },
    {
     "data": {
      "text/plain": [
       "Env(14, 200, 2, 3, 1, 6, 84, 64, 7, 12, 100, 200, 500, 1, 1.0f-5, 0.9f0, 1024, 0.01f0, 0.25f0, 0.1f0, 1.0f0, 100, 4, 10.0f0, 0.4f0, 1.0f0, 0.7f0, 0.5f0, ComplexF32[-2.0f0 + 0.0f0im 0.0f0 + 0.0f0im 0.0f0 + 0.0f0im -0.7f0 + 0.0f0im; 0.0f0 - 0.0f0im 1.0f0 + 0.0f0im -0.7f0 + 0.0f0im 0.0f0 + 0.0f0im; 0.0f0 - 0.0f0im -0.7f0 - 0.0f0im 1.0f0 + 0.0f0im 0.0f0 + 0.0f0im; -0.7f0 - 0.0f0im 0.0f0 - 0.0f0im 0.0f0 - 0.0f0im 0.0f0 + 0.0f0im], ComplexF32[0.0f0 + 0.0f0im -0.4f0 + 0.0f0im -0.4f0 + 0.0f0im 0.0f0 + 0.0f0im; -0.4f0 - 0.0f0im 0.0f0 + 0.0f0im 0.0f0 + 0.0f0im -0.4f0 + 0.0f0im; -0.4f0 - 0.0f0im 0.0f0 - 0.0f0im 0.0f0 + 0.0f0im -0.4f0 + 0.0f0im; 0.0f0 - 0.0f0im -0.4f0 - 0.0f0im -0.4f0 - 0.0f0im 0.0f0 + 0.0f0im], 0.0062831854f0, 256, 1.25f0, 1.0f-6)"
      ]
     },
     "execution_count": 5,
     "metadata": {},
     "output_type": "execute_result"
    }
   ],
   "source": [
    "env = init_Env([\"14\", \"200\", \"64\", \"12\", \"100\", \"500\", \"1\", \"1024\", \"0.01\", \"0.25\", \"100\", \"4\", \"10.0\", \"0.4\", \"1.0\", \"0.7\", \"0.5\", \"256\", \"1.25\", \"0.000001\", \"0.1\", \"1.0\"])"
   ]
  },
  {
   "cell_type": "code",
   "execution_count": 25,
   "metadata": {},
   "outputs": [
    {
     "name": "stdout",
     "output_type": "stream",
     "text": [
      "∱dt + V(t) ∱dt -i[,] V(t) + H_0 {,}/2 H_0 V(t) \n"
     ]
    },
    {
     "data": {
      "text/plain": [
       "1.3932257f0"
      ]
     },
     "execution_count": 25,
     "metadata": {},
     "output_type": "execute_result"
    }
   ],
   "source": [
    "history = Int[6, 3, 2, 6, 4, 2, 3, 1, 5, 1, 2]\n",
    "println(hist2eq(history))\n",
    "calc_score(history, env)"
   ]
  },
  {
   "cell_type": "code",
   "execution_count": 36,
   "metadata": {},
   "outputs": [
    {
     "name": "stdout",
     "output_type": "stream",
     "text": [
      "∱dt + V(t) -i[,] H_0 ∱dt + V(t) + H_0 ∱dt V(t) \n"
     ]
    },
    {
     "data": {
      "text/plain": [
       "10.884396f0"
      ]
     },
     "execution_count": 36,
     "metadata": {},
     "output_type": "execute_result"
    }
   ],
   "source": [
    "history = Int[6, 3, 2, 4, 1, 6, 3, 2, 3, 1, 6, 2]\n",
    "println(hist2eq(history))\n",
    "calc_score(history, env)"
   ]
  },
  {
   "cell_type": "code",
   "execution_count": null,
   "metadata": {},
   "outputs": [],
   "source": []
  }
 ],
 "metadata": {
  "kernelspec": {
   "display_name": "Julia 1.10.0",
   "language": "julia",
   "name": "julia-1.10"
  },
  "language_info": {
   "file_extension": ".jl",
   "mimetype": "application/julia",
   "name": "julia",
   "version": "1.10.0"
  }
 },
 "nbformat": 4,
 "nbformat_minor": 2
}
