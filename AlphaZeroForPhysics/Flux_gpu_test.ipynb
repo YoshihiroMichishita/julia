{
 "cells": [
  {
   "cell_type": "code",
   "execution_count": 1,
   "metadata": {},
   "outputs": [],
   "source": [
    "using StatsBase"
   ]
  },
  {
   "cell_type": "code",
   "execution_count": 58,
   "metadata": {},
   "outputs": [
    {
     "data": {
      "text/plain": [
       "true"
      ]
     },
     "metadata": {},
     "output_type": "display_data"
    }
   ],
   "source": [
    "Float32(0.0) ==0"
   ]
  },
  {
   "cell_type": "code",
   "execution_count": 2,
   "metadata": {},
   "outputs": [
    {
     "data": {
      "text/plain": [
       "3-element Vector{Vector{Int64}}:\n",
       " [2, 3, 5]\n",
       " [1]\n",
       " [4, 6, 7, 8, 9, 3, 2, 1, 1, 3]"
      ]
     },
     "metadata": {},
     "output_type": "display_data"
    }
   ],
   "source": [
    "buf = [[2,3,5], [1], [4,6,7,8,9,3, 2, 1, 1, 3]]"
   ]
  },
  {
   "cell_type": "code",
   "execution_count": 5,
   "metadata": {},
   "outputs": [
    {
     "data": {
      "text/plain": [
       "8-element Vector{Vector{Int64}}:\n",
       " [2, 3, 5]\n",
       " [2, 3, 5]\n",
       " [4, 6, 7, 8, 9, 3, 2, 1, 1, 3]\n",
       " [4, 6, 7, 8, 9, 3, 2, 1, 1, 3]\n",
       " [4, 6, 7, 8, 9, 3, 2, 1, 1, 3]\n",
       " [1]\n",
       " [4, 6, 7, 8, 9, 3, 2, 1, 1, 3]\n",
       " [4, 6, 7, 8, 9, 3, 2, 1, 1, 3]"
      ]
     },
     "metadata": {},
     "output_type": "display_data"
    }
   ],
   "source": [
    "test = sample(buf, weights([length(a) for a in buf]), 8, replace=true)"
   ]
  },
  {
   "cell_type": "code",
   "execution_count": 1,
   "metadata": {},
   "outputs": [],
   "source": [
    "using LinearAlgebra\n",
    "using Flux\n",
    "using CUDA"
   ]
  },
  {
   "cell_type": "code",
   "execution_count": 2,
   "metadata": {},
   "outputs": [],
   "source": [
    "using BSON: @save, @load"
   ]
  },
  {
   "cell_type": "code",
   "execution_count": 59,
   "metadata": {},
   "outputs": [],
   "source": [
    "@load \"/home/yoshihiro/Documents/Codes/julia/AlphaZeroForPhysics/AZP_valMAX_head21.bson\" model0"
   ]
  },
  {
   "cell_type": "code",
   "execution_count": 5,
   "metadata": {},
   "outputs": [
    {
     "data": {
      "text/plain": [
       "make_image (generic function with 1 method)"
      ]
     },
     "metadata": {},
     "output_type": "display_data"
    }
   ],
   "source": [
    "function make_image(history::Vector{Int}, turn::Int)\n",
    "    input_data = zeros(Int, 60, 1)\n",
    "    for act_ind in 1:6\n",
    "        ind = findall(x->x==act_ind, history[1:turn])\n",
    "        for it in ind\n",
    "            input_data[(act_ind-1)*10+it,1] = 1\n",
    "        end\n",
    "    end\n",
    "    return input_data\n",
    "    #append!(copy(agt.history[1:turn]), zeros(Int, env.max_turn-turn))\n",
    "end"
   ]
  },
  {
   "cell_type": "code",
   "execution_count": 60,
   "metadata": {},
   "outputs": [
    {
     "name": "stdout",
     "output_type": "stream",
     "text": [
      "Float32[-1.5937207; 0.904075; -0.6864185; -0.80848545; -0.042422794; -1.2154071; 0.782193;;]\n"
     ]
    },
    {
     "data": {
      "text/plain": [
       "1-element Vector{Any}:\n",
       " Float32[-1.5937207; 0.904075; … ; -1.2154071; 0.782193;;]"
      ]
     },
     "metadata": {},
     "output_type": "display_data"
    }
   ],
   "source": [
    "vp = []\n",
    "input0 = zeros(Int, 60, 1)\n",
    "y = model0(input0)\n",
    "println(y)\n",
    "push!(vp, y)"
   ]
  },
  {
   "cell_type": "code",
   "execution_count": 62,
   "metadata": {},
   "outputs": [
    {
     "name": "stdout",
     "output_type": "stream",
     "text": [
      "Float32[-1.703659; -0.61729234; 1.1616491; -1.5078244; -0.42510897; -1.8989457; -2.1731539;;]\n"
     ]
    }
   ],
   "source": [
    "input0 = make_image([3, 3], 1)\n",
    "y = model0(input0)\n",
    "println(y)\n",
    "#push!(vp, y)"
   ]
  },
  {
   "cell_type": "code",
   "execution_count": 2,
   "metadata": {},
   "outputs": [
    {
     "data": {
      "text/plain": [
       "true"
      ]
     },
     "metadata": {},
     "output_type": "display_data"
    }
   ],
   "source": [
    "CUDA.functional()"
   ]
  },
  {
   "cell_type": "code",
   "execution_count": 2,
   "metadata": {},
   "outputs": [
    {
     "data": {
      "text/plain": [
       "2"
      ]
     },
     "metadata": {},
     "output_type": "display_data"
    }
   ],
   "source": [
    "input = 4\n",
    "middle = 16\n",
    "output = 6\n",
    "depth = 2"
   ]
  },
  {
   "cell_type": "code",
   "execution_count": 3,
   "metadata": {},
   "outputs": [
    {
     "data": {
      "text/plain": [
       "tanh2 (generic function with 1 method)"
      ]
     },
     "metadata": {},
     "output_type": "display_data"
    }
   ],
   "source": [
    "tanh10(x) = Float32(10)*tanh(x)\n",
    "tanh2(x) = Float32(2)*tanh(x)"
   ]
  },
  {
   "cell_type": "code",
   "execution_count": 5,
   "metadata": {},
   "outputs": [
    {
     "data": {
      "text/plain": [
       "Chain(\n",
       "  Dense(4 => 16),                       \u001b[90m# 80 parameters\u001b[39m\n",
       "  Chain(\n",
       "    Parallel(\n",
       "      +,\n",
       "      Chain(\n",
       "        BatchNorm(16),                  \u001b[90m# 32 parameters\u001b[39m\u001b[90m, plus 32\u001b[39m\n",
       "        Dense(16 => 16, relu),          \u001b[90m# 272 parameters\u001b[39m\n",
       "      ),\n",
       "      Dense(16 => 16, relu),            \u001b[90m# 272 parameters\u001b[39m\n",
       "    ),\n",
       "    identity,\n",
       "  ),\n",
       "  Chain(\n",
       "    Parallel(\n",
       "      +,\n",
       "      Chain(\n",
       "        BatchNorm(16),                  \u001b[90m# 32 parameters\u001b[39m\u001b[90m, plus 32\u001b[39m\n",
       "        Dense(16 => 16, relu),          \u001b[90m# 272 parameters\u001b[39m\n",
       "      ),\n",
       "      Dense(16 => 16, relu),            \u001b[90m# 272 parameters\u001b[39m\n",
       "    ),\n",
       "    identity,\n",
       "  ),\n",
       "  Flux.flatten,\n",
       "  Parallel(\n",
       "    vcat,\n",
       "    Chain(\n",
       "      Dense(16 => 16, relu),            \u001b[90m# 272 parameters\u001b[39m\n",
       "      Dense(16 => 6),                   \u001b[90m# 102 parameters\u001b[39m\n",
       "    ),\n",
       "    Dense(16 => 1, tanh10),             \u001b[90m# 17 parameters\u001b[39m\n",
       "  ),\n",
       ") \u001b[90m        # Total: 20 trainable arrays, \u001b[39m1_623 parameters,\n",
       "\u001b[90m          # plus 4 non-trainable, 64 parameters, summarysize \u001b[39m8.605 KiB."
      ]
     },
     "metadata": {},
     "output_type": "display_data"
    }
   ],
   "source": [
    "model_cpu = Chain(Dense(input, middle), Tuple(Chain(Parallel(+, Chain(BatchNorm(middle), Dense(middle, middle, relu)),Dense(middle, middle, relu)), identity) for i in 1:depth)..., Flux.flatten , Parallel(vcat,Chain(Dense(middle, middle, relu),Dense(middle, output)), Dense(middle, 1, tanh10)))\n",
    "#model_gpu = gpu(model_cpu)"
   ]
  },
  {
   "cell_type": "code",
   "execution_count": 10,
   "metadata": {},
   "outputs": [
    {
     "data": {
      "text/plain": [
       "Dense(4 => 6, relu)  \u001b[90m# 30 parameters\u001b[39m"
      ]
     },
     "metadata": {},
     "output_type": "display_data"
    }
   ],
   "source": [
    "test = Dense(4, 6, relu)"
   ]
  },
  {
   "cell_type": "code",
   "execution_count": 11,
   "metadata": {},
   "outputs": [
    {
     "data": {
      "text/plain": [
       "6×4 Matrix{Float32}:\n",
       " -0.433935    -0.477517   -0.523373  -0.564463\n",
       " -0.186125     0.343634    0.687627  -0.21954\n",
       "  0.173528    -0.302567    0.45031   -0.207285\n",
       "  0.36449     -0.614085   -0.771836   0.486023\n",
       " -0.00439922  -0.0769562   0.348954   0.692657\n",
       "  0.0341693    0.649083   -0.104923  -0.0851435"
      ]
     },
     "metadata": {},
     "output_type": "display_data"
    }
   ],
   "source": [
    "test.weight"
   ]
  },
  {
   "cell_type": "code",
   "execution_count": 56,
   "metadata": {},
   "outputs": [
    {
     "data": {
      "text/plain": [
       "60×100 CuArray{Float32, 2, CUDA.Mem.DeviceBuffer}:\n",
       " 0.0114042  0.18332    0.765516   0.213516   …  0.192538  0.161262   0.441974\n",
       " 0.552777   0.527991   0.918638   0.66378       0.348115  0.550304   0.794597\n",
       " 0.724218   0.274861   0.615445   0.282499      0.85024   0.38275    0.128529\n",
       " 0.0950158  0.952007   0.822886   0.163181      0.552414  0.442852   0.181775\n",
       " 0.918159   0.727206   0.068696   0.0375364     0.12477   0.426927   0.196977\n",
       " 0.567396   0.559906   0.184195   0.231767   …  0.782175  0.225234   0.354886\n",
       " 0.312535   0.590902   0.542269   0.722829      0.506676  0.679475   0.632774\n",
       " 0.685422   0.347013   0.386121   0.299953      0.48325   0.615581   0.584196\n",
       " 0.675649   0.514681   0.516023   0.704495      0.627904  0.883244   0.233842\n",
       " 0.884922   0.346238   0.83194    0.806842      0.704898  0.235724   0.396564\n",
       " ⋮                                           ⋱                       \n",
       " 0.291204   0.525684   0.169917   0.642695      0.19706   0.489911   0.413687\n",
       " 0.475638   0.952229   0.942728   0.123342      0.956622  0.698073   0.768572\n",
       " 0.661271   0.51589    0.431882   0.233907      0.666491  0.731836   0.904205\n",
       " 0.801751   0.324904   0.26822    0.966595      0.266426  0.303823   0.472731\n",
       " 0.0373236  0.546192   0.777939   0.0334862  …  0.72641   0.7061     0.475106\n",
       " 0.0215088  0.687656   0.0297654  0.346815      0.761531  0.639013   0.730952\n",
       " 0.652303   0.739125   0.220801   0.6092        0.597073  0.984425   0.735021\n",
       " 0.32602    0.0388451  0.983568   0.165961      0.420522  0.0541806  0.549021\n",
       " 0.413815   0.680557   0.203023   0.267436      0.152803  0.0176162  0.692336"
      ]
     },
     "metadata": {},
     "output_type": "display_data"
    }
   ],
   "source": [
    "input_cpu = rand(Float32, input, 100)\n",
    "input_gpu = gpu(input_cpu)"
   ]
  },
  {
   "cell_type": "code",
   "execution_count": 8,
   "metadata": {},
   "outputs": [],
   "source": [
    "using BenchmarkTools"
   ]
  },
  {
   "cell_type": "code",
   "execution_count": 18,
   "metadata": {},
   "outputs": [
    {
     "data": {
      "text/plain": [
       "BenchmarkTools.Trial: 821 samples with 1 evaluation.\n",
       " Range \u001b[90m(\u001b[39m\u001b[36m\u001b[1mmin\u001b[22m\u001b[39m … \u001b[35mmax\u001b[39m\u001b[90m):  \u001b[39m\u001b[36m\u001b[1m5.325 ms\u001b[22m\u001b[39m … \u001b[35m17.850 ms\u001b[39m  \u001b[90m┊\u001b[39m GC \u001b[90m(\u001b[39mmin … max\u001b[90m): \u001b[39m0.00% …  0.00%\n",
       " Time  \u001b[90m(\u001b[39m\u001b[34m\u001b[1mmedian\u001b[22m\u001b[39m\u001b[90m):     \u001b[39m\u001b[34m\u001b[1m5.514 ms              \u001b[22m\u001b[39m\u001b[90m┊\u001b[39m GC \u001b[90m(\u001b[39mmedian\u001b[90m):    \u001b[39m0.00%\n",
       " Time  \u001b[90m(\u001b[39m\u001b[32m\u001b[1mmean\u001b[22m\u001b[39m ± \u001b[32mσ\u001b[39m\u001b[90m):   \u001b[39m\u001b[32m\u001b[1m6.086 ms\u001b[22m\u001b[39m ± \u001b[32m 1.190 ms\u001b[39m  \u001b[90m┊\u001b[39m GC \u001b[90m(\u001b[39mmean ± σ\u001b[90m):  \u001b[39m8.66% ± 12.39%\n",
       "\n",
       "  \u001b[39m \u001b[39m \u001b[39m▁\u001b[39m█\u001b[34m \u001b[39m\u001b[39m \u001b[39m \u001b[39m \u001b[39m \u001b[39m \u001b[39m \u001b[39m \u001b[39m \u001b[39m \u001b[39m \u001b[32m \u001b[39m\u001b[39m \u001b[39m \u001b[39m \u001b[39m \u001b[39m \u001b[39m \u001b[39m \u001b[39m \u001b[39m \u001b[39m \u001b[39m \u001b[39m \u001b[39m \u001b[39m \u001b[39m \u001b[39m \u001b[39m \u001b[39m \u001b[39m \u001b[39m \u001b[39m \u001b[39m \u001b[39m \u001b[39m \u001b[39m \u001b[39m \u001b[39m \u001b[39m \u001b[39m \u001b[39m \u001b[39m \u001b[39m \u001b[39m \u001b[39m \u001b[39m \u001b[39m \u001b[39m \u001b[39m \u001b[39m \u001b[39m \u001b[39m \u001b[39m \u001b[39m \u001b[39m \n",
       "  \u001b[39m▅\u001b[39m▅\u001b[39m█\u001b[39m█\u001b[34m▇\u001b[39m\u001b[39m▄\u001b[39m▃\u001b[39m▄\u001b[39m▂\u001b[39m▂\u001b[39m▂\u001b[39m▂\u001b[39m▂\u001b[39m▁\u001b[39m▂\u001b[32m▁\u001b[39m\u001b[39m▂\u001b[39m▂\u001b[39m▁\u001b[39m▁\u001b[39m▁\u001b[39m▁\u001b[39m▁\u001b[39m▁\u001b[39m▁\u001b[39m▁\u001b[39m▁\u001b[39m▁\u001b[39m▁\u001b[39m▁\u001b[39m▁\u001b[39m▁\u001b[39m▁\u001b[39m▁\u001b[39m▁\u001b[39m▁\u001b[39m▁\u001b[39m▁\u001b[39m▁\u001b[39m▁\u001b[39m▁\u001b[39m▁\u001b[39m▁\u001b[39m▁\u001b[39m▁\u001b[39m▁\u001b[39m▁\u001b[39m▂\u001b[39m▂\u001b[39m▄\u001b[39m▄\u001b[39m▅\u001b[39m▄\u001b[39m▃\u001b[39m▂\u001b[39m▂\u001b[39m▂\u001b[39m▂\u001b[39m \u001b[39m▂\n",
       "  5.33 ms\u001b[90m        Histogram: frequency by time\u001b[39m         8.2 ms \u001b[0m\u001b[1m<\u001b[22m\n",
       "\n",
       " Memory estimate\u001b[90m: \u001b[39m\u001b[33m9.84 MiB\u001b[39m, allocs estimate\u001b[90m: \u001b[39m\u001b[33m397\u001b[39m."
      ]
     },
     "metadata": {},
     "output_type": "display_data"
    }
   ],
   "source": [
    "@benchmark model_cpu(input_cpu)"
   ]
  },
  {
   "cell_type": "code",
   "execution_count": 19,
   "metadata": {},
   "outputs": [
    {
     "data": {
      "text/plain": [
       "BenchmarkTools.Trial: 3660 samples with 1 evaluation.\n",
       " Range \u001b[90m(\u001b[39m\u001b[36m\u001b[1mmin\u001b[22m\u001b[39m … \u001b[35mmax\u001b[39m\u001b[90m):  \u001b[39m\u001b[36m\u001b[1m1.159 ms\u001b[22m\u001b[39m … \u001b[35m71.857 ms\u001b[39m  \u001b[90m┊\u001b[39m GC \u001b[90m(\u001b[39mmin … max\u001b[90m): \u001b[39m0.00% … 22.89%\n",
       " Time  \u001b[90m(\u001b[39m\u001b[34m\u001b[1mmedian\u001b[22m\u001b[39m\u001b[90m):     \u001b[39m\u001b[34m\u001b[1m1.225 ms              \u001b[22m\u001b[39m\u001b[90m┊\u001b[39m GC \u001b[90m(\u001b[39mmedian\u001b[90m):    \u001b[39m0.00%\n",
       " Time  \u001b[90m(\u001b[39m\u001b[32m\u001b[1mmean\u001b[22m\u001b[39m ± \u001b[32mσ\u001b[39m\u001b[90m):   \u001b[39m\u001b[32m\u001b[1m1.363 ms\u001b[22m\u001b[39m ± \u001b[32m 3.004 ms\u001b[39m  \u001b[90m┊\u001b[39m GC \u001b[90m(\u001b[39mmean ± σ\u001b[90m):  \u001b[39m2.15% ±  0.96%\n",
       "\n",
       "  \u001b[39m \u001b[39m \u001b[39m \u001b[39m \u001b[39m \u001b[39m \u001b[39m \u001b[39m \u001b[39m \u001b[39m \u001b[39m \u001b[39m \u001b[39m \u001b[39m \u001b[39m▃\u001b[39m▃\u001b[39m▄\u001b[39m▆\u001b[39m▆\u001b[39m▇\u001b[39m█\u001b[39m█\u001b[39m█\u001b[34m█\u001b[39m\u001b[39m▇\u001b[39m▆\u001b[39m▆\u001b[39m▅\u001b[39m▄\u001b[39m▂\u001b[39m▂\u001b[39m▁\u001b[39m▁\u001b[39m \u001b[39m \u001b[39m \u001b[39m \u001b[39m \u001b[39m \u001b[39m \u001b[39m \u001b[39m▁\u001b[39m \u001b[39m▂\u001b[39m▁\u001b[39m \u001b[39m▁\u001b[39m \u001b[39m▁\u001b[39m \u001b[39m \u001b[39m▁\u001b[39m \u001b[39m \u001b[39m \u001b[39m \u001b[39m \u001b[39m \u001b[39m \u001b[39m▂\n",
       "  \u001b[39m▅\u001b[39m▆\u001b[39m▄\u001b[39m▅\u001b[39m▅\u001b[39m▅\u001b[39m▄\u001b[39m▄\u001b[39m▁\u001b[39m▅\u001b[39m▄\u001b[39m▁\u001b[39m█\u001b[39m▇\u001b[39m█\u001b[39m█\u001b[39m█\u001b[39m█\u001b[39m█\u001b[39m█\u001b[39m█\u001b[39m█\u001b[39m█\u001b[34m█\u001b[39m\u001b[39m█\u001b[39m█\u001b[39m█\u001b[39m█\u001b[39m█\u001b[39m█\u001b[39m█\u001b[39m█\u001b[39m█\u001b[39m█\u001b[39m█\u001b[39m▇\u001b[39m▆\u001b[39m█\u001b[39m█\u001b[39m█\u001b[39m█\u001b[39m█\u001b[39m█\u001b[39m█\u001b[39m█\u001b[39m█\u001b[39m█\u001b[39m█\u001b[39m█\u001b[39m█\u001b[39m█\u001b[39m█\u001b[39m█\u001b[39m█\u001b[39m█\u001b[39m▇\u001b[39m█\u001b[39m█\u001b[39m \u001b[39m█\n",
       "  1.16 ms\u001b[90m      \u001b[39m\u001b[90mHistogram: \u001b[39m\u001b[90m\u001b[1mlog(\u001b[22m\u001b[39m\u001b[90mfrequency\u001b[39m\u001b[90m\u001b[1m)\u001b[22m\u001b[39m\u001b[90m by time\u001b[39m     1.33 ms \u001b[0m\u001b[1m<\u001b[22m\n",
       "\n",
       " Memory estimate\u001b[90m: \u001b[39m\u001b[33m91.80 KiB\u001b[39m, allocs estimate\u001b[90m: \u001b[39m\u001b[33m2698\u001b[39m."
      ]
     },
     "metadata": {},
     "output_type": "display_data"
    }
   ],
   "source": [
    "@benchmark model_gpu(input_gpu)"
   ]
  },
  {
   "cell_type": "code",
   "execution_count": 9,
   "metadata": {},
   "outputs": [
    {
     "data": {
      "text/plain": [
       "7×100 CuArray{Float32, 2, CUDA.Mem.DeviceBuffer}:\n",
       " 0.359691  0.827861  0.701015  0.0665835  …  0.430494   0.538827  0.397607\n",
       " 0.144383  0.757298  0.606553  0.591512      0.150765   0.453557  0.250389\n",
       " 0.770996  0.658152  0.599976  0.923198      0.0534677  0.257332  0.220998\n",
       " 0.430496  0.556138  0.929259  0.961789      0.423929   0.95815   0.509097\n",
       " 0.977082  0.421876  0.229244  0.907603      0.689717   0.650201  0.0997217\n",
       " 0.264095  0.874885  0.705193  0.989678   …  0.924571   0.333843  0.218859\n",
       " 0.837614  0.927003  0.470668  0.370263      0.701419   0.907804  0.148546"
      ]
     },
     "metadata": {},
     "output_type": "display_data"
    }
   ],
   "source": [
    "target_cpu = rand(Float32, output+1, 100)\n",
    "target_gpu = gpu(target_cpu)"
   ]
  },
  {
   "cell_type": "code",
   "execution_count": 28,
   "metadata": {},
   "outputs": [
    {
     "data": {
      "text/plain": [
       "BenchmarkTools.Trial: 10000 samples with 6 evaluations.\n",
       " Range \u001b[90m(\u001b[39m\u001b[36m\u001b[1mmin\u001b[22m\u001b[39m … \u001b[35mmax\u001b[39m\u001b[90m):  \u001b[39m\u001b[36m\u001b[1m5.728 μs\u001b[22m\u001b[39m … \u001b[35m329.608 μs\u001b[39m  \u001b[90m┊\u001b[39m GC \u001b[90m(\u001b[39mmin … max\u001b[90m): \u001b[39m0.00% … 0.00%\n",
       " Time  \u001b[90m(\u001b[39m\u001b[34m\u001b[1mmedian\u001b[22m\u001b[39m\u001b[90m):     \u001b[39m\u001b[34m\u001b[1m6.360 μs               \u001b[22m\u001b[39m\u001b[90m┊\u001b[39m GC \u001b[90m(\u001b[39mmedian\u001b[90m):    \u001b[39m0.00%\n",
       " Time  \u001b[90m(\u001b[39m\u001b[32m\u001b[1mmean\u001b[22m\u001b[39m ± \u001b[32mσ\u001b[39m\u001b[90m):   \u001b[39m\u001b[32m\u001b[1m7.350 μs\u001b[22m\u001b[39m ± \u001b[32m 15.308 μs\u001b[39m  \u001b[90m┊\u001b[39m GC \u001b[90m(\u001b[39mmean ± σ\u001b[90m):  \u001b[39m0.00% ± 0.00%\n",
       "\n",
       "  \u001b[39m \u001b[39m \u001b[39m \u001b[39m \u001b[39m \u001b[39m \u001b[39m \u001b[39m \u001b[39m \u001b[39m \u001b[39m \u001b[39m \u001b[39m \u001b[39m \u001b[39m \u001b[39m \u001b[39m \u001b[39m \u001b[39m \u001b[39m \u001b[39m \u001b[39m▄\u001b[39m█\u001b[34m█\u001b[39m\u001b[39m▅\u001b[39m▁\u001b[39m \u001b[39m \u001b[39m \u001b[39m \u001b[39m \u001b[39m \u001b[39m \u001b[39m \u001b[39m \u001b[39m \u001b[39m \u001b[39m \u001b[39m \u001b[39m \u001b[39m \u001b[39m \u001b[39m \u001b[39m \u001b[39m \u001b[39m \u001b[39m \u001b[39m \u001b[39m \u001b[39m \u001b[39m \u001b[39m \u001b[39m \u001b[39m \u001b[39m \u001b[39m \u001b[39m \u001b[39m \u001b[39m \u001b[39m \u001b[32m \u001b[39m\n",
       "  \u001b[39m▂\u001b[39m▁\u001b[39m▂\u001b[39m▂\u001b[39m▂\u001b[39m▂\u001b[39m▂\u001b[39m▂\u001b[39m▁\u001b[39m▁\u001b[39m▂\u001b[39m▁\u001b[39m▁\u001b[39m▂\u001b[39m▂\u001b[39m▂\u001b[39m▂\u001b[39m▂\u001b[39m▃\u001b[39m▄\u001b[39m█\u001b[39m█\u001b[39m█\u001b[34m█\u001b[39m\u001b[39m█\u001b[39m█\u001b[39m▇\u001b[39m▅\u001b[39m▃\u001b[39m▃\u001b[39m▂\u001b[39m▂\u001b[39m▂\u001b[39m▂\u001b[39m▂\u001b[39m▂\u001b[39m▂\u001b[39m▂\u001b[39m▂\u001b[39m▂\u001b[39m▂\u001b[39m▂\u001b[39m▂\u001b[39m▂\u001b[39m▂\u001b[39m▂\u001b[39m▂\u001b[39m▂\u001b[39m▂\u001b[39m▂\u001b[39m▂\u001b[39m▂\u001b[39m▂\u001b[39m▂\u001b[39m▂\u001b[39m▂\u001b[39m▂\u001b[39m▂\u001b[39m▂\u001b[39m \u001b[32m▃\u001b[39m\n",
       "  5.73 μs\u001b[90m         Histogram: frequency by time\u001b[39m        7.32 μs \u001b[0m\u001b[1m<\u001b[22m\n",
       "\n",
       " Memory estimate\u001b[90m: \u001b[39m\u001b[33m608 bytes\u001b[39m, allocs estimate\u001b[90m: \u001b[39m\u001b[33m10\u001b[39m."
      ]
     },
     "metadata": {},
     "output_type": "display_data"
    }
   ],
   "source": [
    "@benchmark target_gpu = gpu(target_cpu)"
   ]
  },
  {
   "cell_type": "code",
   "execution_count": 10,
   "metadata": {},
   "outputs": [
    {
     "data": {
      "text/plain": [
       "800"
      ]
     },
     "metadata": {},
     "output_type": "display_data"
    }
   ],
   "source": [
    "training_step=800"
   ]
  },
  {
   "cell_type": "code",
   "execution_count": 12,
   "metadata": {},
   "outputs": [
    {
     "data": {
      "text/plain": [
       "Adam(0.001, (0.9, 0.999), 1.0e-8, IdDict{Any, Any}())"
      ]
     },
     "metadata": {},
     "output_type": "display_data"
    }
   ],
   "source": [
    "opt=ADAM()"
   ]
  },
  {
   "cell_type": "code",
   "execution_count": 51,
   "metadata": {},
   "outputs": [
    {
     "data": {
      "text/plain": [
       "loss (generic function with 3 methods)"
      ]
     },
     "metadata": {},
     "output_type": "display_data"
    }
   ],
   "source": [
    "loss(m::Chain, x, y, z) = sum((y .- m(x)).^2) + z^2"
   ]
  },
  {
   "cell_type": "code",
   "execution_count": 27,
   "metadata": {},
   "outputs": [
    {
     "data": {
      "text/plain": [
       "loss2 (generic function with 1 method)"
      ]
     },
     "metadata": {},
     "output_type": "display_data"
    }
   ],
   "source": [
    "loss2(x, y, z) = sum((y .- x).^2) + z^2"
   ]
  },
  {
   "cell_type": "code",
   "execution_count": 58,
   "metadata": {},
   "outputs": [
    {
     "name": "stdout",
     "output_type": "stream",
     "text": [
      " 45.769847 seconds (9.07 M allocations: 37.986 GiB, 4.46% gc time)\n"
     ]
    }
   ],
   "source": [
    "l = 0.0\n",
    "@time for it in 1:training_step\n",
    "    #Flux.train!(loss, Flux.params(model_cpu), [(model_cpu, input_cpu, target_cpu, Float32(0.2))], opt)\n",
    "    \n",
    "    val, grads = Flux.withgradient(Flux.params(model_cpu)) do\n",
    "        loss(model_cpu, input_cpu, target_cpu,Float32(0.2))\n",
    "        #loss(model_cpu(input_cpu),target_cpu,Float32(0.2))\n",
    "    end\n",
    "    Flux.Optimise.update!(opt, Flux.params(model_cpu), grads)\n",
    "    l += val/100/training_step\n",
    "end"
   ]
  },
  {
   "cell_type": "code",
   "execution_count": 62,
   "metadata": {},
   "outputs": [
    {
     "data": {
      "text/plain": [
       "Adam(0.001, (0.9, 0.999), 1.0e-8, IdDict{Any, Any}())"
      ]
     },
     "metadata": {},
     "output_type": "display_data"
    }
   ],
   "source": [
    "opt=ADAM()"
   ]
  },
  {
   "cell_type": "code",
   "execution_count": 50,
   "metadata": {},
   "outputs": [
    {
     "data": {
      "text/plain": [
       "loss3 (generic function with 2 methods)"
      ]
     },
     "metadata": {},
     "output_type": "display_data"
    }
   ],
   "source": [
    "function loss3(m::Chain, x::CuArray{Float32, 2}, y, z)\n",
    "    x2 = cpu(m(x))\n",
    "    return sum((y .- x2).^2) + z^2\n",
    "end"
   ]
  },
  {
   "cell_type": "code",
   "execution_count": 64,
   "metadata": {},
   "outputs": [
    {
     "data": {
      "text/plain": [
       "315.3853f0"
      ]
     },
     "metadata": {},
     "output_type": "display_data"
    }
   ],
   "source": [
    "sum(model_gpu(input_gpu))"
   ]
  },
  {
   "cell_type": "code",
   "execution_count": 63,
   "metadata": {},
   "outputs": [
    {
     "name": "stdout",
     "output_type": "stream",
     "text": [
      "  7.666558 seconds (24.52 M allocations: 1.801 GiB, 4.31% gc time)\n"
     ]
    }
   ],
   "source": [
    "@time for it in 1:training_step\n",
    "    Flux.train!(loss3, Flux.params(model_gpu), [(model_gpu, input_gpu, target_cpu, Float32(0.2))], opt)\n",
    "end"
   ]
  },
  {
   "cell_type": "code",
   "execution_count": 1,
   "metadata": {},
   "outputs": [],
   "source": [
    "using Plots"
   ]
  },
  {
   "cell_type": "code",
   "execution_count": 2,
   "metadata": {},
   "outputs": [],
   "source": [
    "using LinearAlgebra"
   ]
  },
  {
   "cell_type": "code",
   "execution_count": 3,
   "metadata": {},
   "outputs": [],
   "source": [
    "y = zeros(Float64, 10, 100)\n",
    "for it in 1:10\n",
    "    y[it,:] = [sin(it*x) for x in 0.02pi:0.02pi:2pi]\n",
    "end"
   ]
  },
  {
   "cell_type": "code",
   "execution_count": 9,
   "metadata": {},
   "outputs": [],
   "source": [
    "using ColorSchemes"
   ]
  },
  {
   "cell_type": "code",
   "execution_count": 12,
   "metadata": {},
   "outputs": [
    {
     "data": {
      "image/png": "[encoded data removed]",
      "image/svg+xml": [
       "<?xml version=\"1.0\" encoding=\"utf-8\"?>\n",
       "<svg xmlns=\"http://www.w3.org/2000/svg\" xmlns:xlink=\"http://www.w3.org/1999/xlink\" width=\"600\" height=\"400\" viewBox=\"0 0 2400 1600\">\n",
       "<defs>\n",
       "  <clipPath id=\"clip220\">\n",
       "    <rect x=\"0\" y=\"0\" width=\"2400\" height=\"1600\"/>\n",
       "  </clipPath>\n",
       "</defs>\n",
       "<path clip-path=\"url(#clip220)\" d=\"M0 1600 L2400 1600 L2400 0 L0 0  Z\" fill=\"#ffffff\" fill-rule=\"evenodd\" fill-opacity=\"1\"/>\n",
       "<defs>\n",
       "  <clipPath id=\"clip221\">\n",
       "    <rect x=\"480\" y=\"0\" width=\"1681\" height=\"1600\"/>\n",
       "  </clipPath>\n",
       "</defs>\n",
       "<path clip-path=\"url(#clip220)\" d=\"M193.936 1486.45 L2352.76 1486.45 L2352.76 47.2441 L193.936 47.2441  Z\" fill=\"#ffffff\" fill-rule=\"evenodd\" fill-opacity=\"1\"/>\n",
       "<defs>\n",
       "  <clipPath id=\"clip222\">\n",
       "    <rect x=\"193\" y=\"47\" width=\"2160\" height=\"1440\"/>\n",
       "  </clipPath>\n",
       "</defs>\n",
       "<polyline clip-path=\"url(#clip222)\" style=\"stroke:#000000; stroke-linecap:round; stroke-linejoin:round; stroke-width:2; stroke-opacity:0.1; fill:none\" points=\"234.463,1486.45 234.463,47.2441 \"/>\n",
       "<polyline clip-path=\"url(#clip222)\" style=\"stroke:#000000; stroke-linecap:round; stroke-linejoin:round; stroke-width:2; stroke-opacity:0.1; fill:none\" points=\"748.761,1486.45 748.761,47.2441 \"/>\n",
       "<polyline clip-path=\"url(#clip222)\" style=\"stroke:#000000; stroke-linecap:round; stroke-linejoin:round; stroke-width:2; stroke-opacity:0.1; fill:none\" points=\"1263.06,1486.45 1263.06,47.2441 \"/>\n",
       "<polyline clip-path=\"url(#clip222)\" style=\"stroke:#000000; stroke-linecap:round; stroke-linejoin:round; stroke-width:2; stroke-opacity:0.1; fill:none\" points=\"1777.36,1486.45 1777.36,47.2441 \"/>\n",
       "<polyline clip-path=\"url(#clip222)\" style=\"stroke:#000000; stroke-linecap:round; stroke-linejoin:round; stroke-width:2; stroke-opacity:0.1; fill:none\" points=\"2291.66,1486.45 2291.66,47.2441 \"/>\n",
       "<polyline clip-path=\"url(#clip220)\" style=\"stroke:#000000; stroke-linecap:round; stroke-linejoin:round; stroke-width:4; stroke-opacity:1; fill:none\" points=\"193.936,1486.45 2352.76,1486.45 \"/>\n",
       "<polyline clip-path=\"url(#clip220)\" style=\"stroke:#000000; stroke-linecap:round; stroke-linejoin:round; stroke-width:4; stroke-opacity:1; fill:none\" points=\"234.463,1486.45 234.463,1467.55 \"/>\n",
       "<polyline clip-path=\"url(#clip220)\" style=\"stroke:#000000; stroke-linecap:round; stroke-linejoin:round; stroke-width:4; stroke-opacity:1; fill:none\" points=\"748.761,1486.45 748.761,1467.55 \"/>\n",
       "<polyline clip-path=\"url(#clip220)\" style=\"stroke:#000000; stroke-linecap:round; stroke-linejoin:round; stroke-width:4; stroke-opacity:1; fill:none\" points=\"1263.06,1486.45 1263.06,1467.55 \"/>\n",
       "<polyline clip-path=\"url(#clip220)\" style=\"stroke:#000000; stroke-linecap:round; stroke-linejoin:round; stroke-width:4; stroke-opacity:1; fill:none\" points=\"1777.36,1486.45 1777.36,1467.55 \"/>\n",
       "<polyline clip-path=\"url(#clip220)\" style=\"stroke:#000000; stroke-linecap:round; stroke-linejoin:round; stroke-width:4; stroke-opacity:1; fill:none\" points=\"2291.66,1486.45 2291.66,1467.55 \"/>\n",
       "<path clip-path=\"url(#clip220)\" d=\"M234.463 1517.37 Q230.852 1517.37 229.023 1520.93 Q227.217 1524.47 227.217 1531.6 Q227.217 1538.71 229.023 1542.27 Q230.852 1545.82 234.463 1545.82 Q238.097 1545.82 239.903 1542.27 Q241.731 1538.71 241.731 1531.6 Q241.731 1524.47 239.903 1520.93 Q238.097 1517.37 234.463 1517.37 M234.463 1513.66 Q240.273 1513.66 243.328 1518.27 Q246.407 1522.85 246.407 1531.6 Q246.407 1540.33 243.328 1544.94 Q240.273 1549.52 234.463 1549.52 Q228.653 1549.52 225.574 1544.94 Q222.518 1540.33 222.518 1531.6 Q222.518 1522.85 225.574 1518.27 Q228.653 1513.66 234.463 1513.66 Z\" fill=\"#000000\" fill-rule=\"nonzero\" fill-opacity=\"1\" /><path clip-path=\"url(#clip220)\" d=\"M728.032 1544.91 L744.352 1544.91 L744.352 1548.85 L722.407 1548.85 L722.407 1544.91 Q725.069 1542.16 729.653 1537.53 Q734.259 1532.88 735.44 1531.53 Q737.685 1529.01 738.565 1527.27 Q739.467 1525.51 739.467 1523.82 Q739.467 1521.07 737.523 1519.33 Q735.602 1517.6 732.5 1517.6 Q730.301 1517.6 727.847 1518.36 Q725.417 1519.13 722.639 1520.68 L722.639 1515.95 Q725.463 1514.82 727.917 1514.24 Q730.37 1513.66 732.407 1513.66 Q737.778 1513.66 740.972 1516.35 Q744.166 1519.03 744.166 1523.52 Q744.166 1525.65 743.356 1527.57 Q742.569 1529.47 740.463 1532.07 Q739.884 1532.74 736.782 1535.95 Q733.68 1539.15 728.032 1544.91 Z\" fill=\"#000000\" fill-rule=\"nonzero\" fill-opacity=\"1\" /><path clip-path=\"url(#clip220)\" d=\"M754.213 1514.29 L772.569 1514.29 L772.569 1518.22 L758.495 1518.22 L758.495 1526.7 Q759.514 1526.35 760.532 1526.19 Q761.551 1526 762.569 1526 Q768.356 1526 771.736 1529.17 Q775.115 1532.34 775.115 1537.76 Q775.115 1543.34 771.643 1546.44 Q768.171 1549.52 761.852 1549.52 Q759.676 1549.52 757.407 1549.15 Q755.162 1548.78 752.754 1548.04 L752.754 1543.34 Q754.838 1544.47 757.06 1545.03 Q759.282 1545.58 761.759 1545.58 Q765.764 1545.58 768.102 1543.48 Q770.439 1541.37 770.439 1537.76 Q770.439 1534.15 768.102 1532.04 Q765.764 1529.94 761.759 1529.94 Q759.884 1529.94 758.009 1530.35 Q756.157 1530.77 754.213 1531.65 L754.213 1514.29 Z\" fill=\"#000000\" fill-rule=\"nonzero\" fill-opacity=\"1\" /><path clip-path=\"url(#clip220)\" d=\"M1237.76 1514.29 L1256.12 1514.29 L1256.12 1518.22 L1242.04 1518.22 L1242.04 1526.7 Q1243.06 1526.35 1244.08 1526.19 Q1245.1 1526 1246.12 1526 Q1251.9 1526 1255.28 1529.17 Q1258.66 1532.34 1258.66 1537.76 Q1258.66 1543.34 1255.19 1546.44 Q1251.72 1549.52 1245.4 1549.52 Q1243.22 1549.52 1240.95 1549.15 Q1238.71 1548.78 1236.3 1548.04 L1236.3 1543.34 Q1238.38 1544.47 1240.61 1545.03 Q1242.83 1545.58 1245.31 1545.58 Q1249.31 1545.58 1251.65 1543.48 Q1253.99 1541.37 1253.99 1537.76 Q1253.99 1534.15 1251.65 1532.04 Q1249.31 1529.94 1245.31 1529.94 Q1243.43 1529.94 1241.56 1530.35 Q1239.7 1530.77 1237.76 1531.65 L1237.76 1514.29 Z\" fill=\"#000000\" fill-rule=\"nonzero\" fill-opacity=\"1\" /><path clip-path=\"url(#clip220)\" d=\"M1277.87 1517.37 Q1274.26 1517.37 1272.43 1520.93 Q1270.63 1524.47 1270.63 1531.6 Q1270.63 1538.71 1272.43 1542.27 Q1274.26 1545.82 1277.87 1545.82 Q1281.51 1545.82 1283.31 1542.27 Q1285.14 1538.71 1285.14 1531.6 Q1285.14 1524.47 1283.31 1520.93 Q1281.51 1517.37 1277.87 1517.37 M1277.87 1513.66 Q1283.68 1513.66 1286.74 1518.27 Q1289.82 1522.85 1289.82 1531.6 Q1289.82 1540.33 1286.74 1544.94 Q1283.68 1549.52 1277.87 1549.52 Q1272.06 1549.52 1268.99 1544.94 Q1265.93 1540.33 1265.93 1531.6 Q1265.93 1522.85 1268.99 1518.27 Q1272.06 1513.66 1277.87 1513.66 Z\" fill=\"#000000\" fill-rule=\"nonzero\" fill-opacity=\"1\" /><path clip-path=\"url(#clip220)\" d=\"M1751.21 1514.29 L1773.44 1514.29 L1773.44 1516.28 L1760.89 1548.85 L1756 1548.85 L1767.81 1518.22 L1751.21 1518.22 L1751.21 1514.29 Z\" fill=\"#000000\" fill-rule=\"nonzero\" fill-opacity=\"1\" /><path clip-path=\"url(#clip220)\" d=\"M1782.6 1514.29 L1800.96 1514.29 L1800.96 1518.22 L1786.88 1518.22 L1786.88 1526.7 Q1787.9 1526.35 1788.92 1526.19 Q1789.94 1526 1790.96 1526 Q1796.75 1526 1800.12 1529.17 Q1803.5 1532.34 1803.5 1537.76 Q1803.5 1543.34 1800.03 1546.44 Q1796.56 1549.52 1790.24 1549.52 Q1788.06 1549.52 1785.8 1549.15 Q1783.55 1548.78 1781.14 1548.04 L1781.14 1543.34 Q1783.23 1544.47 1785.45 1545.03 Q1787.67 1545.58 1790.15 1545.58 Q1794.15 1545.58 1796.49 1543.48 Q1798.83 1541.37 1798.83 1537.76 Q1798.83 1534.15 1796.49 1532.04 Q1794.15 1529.94 1790.15 1529.94 Q1788.27 1529.94 1786.4 1530.35 Q1784.55 1530.77 1782.6 1531.65 L1782.6 1514.29 Z\" fill=\"#000000\" fill-rule=\"nonzero\" fill-opacity=\"1\" /><path clip-path=\"url(#clip220)\" d=\"M2251.26 1544.91 L2258.9 1544.91 L2258.9 1518.55 L2250.59 1520.21 L2250.59 1515.95 L2258.86 1514.29 L2263.53 1514.29 L2263.53 1544.91 L2271.17 1544.91 L2271.17 1548.85 L2251.26 1548.85 L2251.26 1544.91 Z\" fill=\"#000000\" fill-rule=\"nonzero\" fill-opacity=\"1\" /><path clip-path=\"url(#clip220)\" d=\"M2290.62 1517.37 Q2287 1517.37 2285.18 1520.93 Q2283.37 1524.47 2283.37 1531.6 Q2283.37 1538.71 2285.18 1542.27 Q2287 1545.82 2290.62 1545.82 Q2294.25 1545.82 2296.06 1542.27 Q2297.88 1538.71 2297.88 1531.6 Q2297.88 1524.47 2296.06 1520.93 Q2294.25 1517.37 2290.62 1517.37 M2290.62 1513.66 Q2296.43 1513.66 2299.48 1518.27 Q2302.56 1522.85 2302.56 1531.6 Q2302.56 1540.33 2299.48 1544.94 Q2296.43 1549.52 2290.62 1549.52 Q2284.81 1549.52 2281.73 1544.94 Q2278.67 1540.33 2278.67 1531.6 Q2278.67 1522.85 2281.73 1518.27 Q2284.81 1513.66 2290.62 1513.66 Z\" fill=\"#000000\" fill-rule=\"nonzero\" fill-opacity=\"1\" /><path clip-path=\"url(#clip220)\" d=\"M2320.78 1517.37 Q2317.17 1517.37 2315.34 1520.93 Q2313.53 1524.47 2313.53 1531.6 Q2313.53 1538.71 2315.34 1542.27 Q2317.17 1545.82 2320.78 1545.82 Q2324.41 1545.82 2326.22 1542.27 Q2328.05 1538.71 2328.05 1531.6 Q2328.05 1524.47 2326.22 1520.93 Q2324.41 1517.37 2320.78 1517.37 M2320.78 1513.66 Q2326.59 1513.66 2329.64 1518.27 Q2332.72 1522.85 2332.72 1531.6 Q2332.72 1540.33 2329.64 1544.94 Q2326.59 1549.52 2320.78 1549.52 Q2314.97 1549.52 2311.89 1544.94 Q2308.83 1540.33 2308.83 1531.6 Q2308.83 1522.85 2311.89 1518.27 Q2314.97 1513.66 2320.78 1513.66 Z\" fill=\"#000000\" fill-rule=\"nonzero\" fill-opacity=\"1\" /><polyline clip-path=\"url(#clip222)\" style=\"stroke:#000000; stroke-linecap:round; stroke-linejoin:round; stroke-width:2; stroke-opacity:0.1; fill:none\" points=\"193.936,1445.72 2352.76,1445.72 \"/>\n",
       "<polyline clip-path=\"url(#clip222)\" style=\"stroke:#000000; stroke-linecap:round; stroke-linejoin:round; stroke-width:2; stroke-opacity:0.1; fill:none\" points=\"193.936,1106.28 2352.76,1106.28 \"/>\n",
       "<polyline clip-path=\"url(#clip222)\" style=\"stroke:#000000; stroke-linecap:round; stroke-linejoin:round; stroke-width:2; stroke-opacity:0.1; fill:none\" points=\"193.936,766.846 2352.76,766.846 \"/>\n",
       "<polyline clip-path=\"url(#clip222)\" style=\"stroke:#000000; stroke-linecap:round; stroke-linejoin:round; stroke-width:2; stroke-opacity:0.1; fill:none\" points=\"193.936,427.411 2352.76,427.411 \"/>\n",
       "<polyline clip-path=\"url(#clip222)\" style=\"stroke:#000000; stroke-linecap:round; stroke-linejoin:round; stroke-width:2; stroke-opacity:0.1; fill:none\" points=\"193.936,87.9763 2352.76,87.9763 \"/>\n",
       "<polyline clip-path=\"url(#clip220)\" style=\"stroke:#000000; stroke-linecap:round; stroke-linejoin:round; stroke-width:4; stroke-opacity:1; fill:none\" points=\"193.936,1486.45 193.936,47.2441 \"/>\n",
       "<polyline clip-path=\"url(#clip220)\" style=\"stroke:#000000; stroke-linecap:round; stroke-linejoin:round; stroke-width:4; stroke-opacity:1; fill:none\" points=\"193.936,1445.72 212.834,1445.72 \"/>\n",
       "<polyline clip-path=\"url(#clip220)\" style=\"stroke:#000000; stroke-linecap:round; stroke-linejoin:round; stroke-width:4; stroke-opacity:1; fill:none\" points=\"193.936,1106.28 212.834,1106.28 \"/>\n",
       "<polyline clip-path=\"url(#clip220)\" style=\"stroke:#000000; stroke-linecap:round; stroke-linejoin:round; stroke-width:4; stroke-opacity:1; fill:none\" points=\"193.936,766.846 212.834,766.846 \"/>\n",
       "<polyline clip-path=\"url(#clip220)\" style=\"stroke:#000000; stroke-linecap:round; stroke-linejoin:round; stroke-width:4; stroke-opacity:1; fill:none\" points=\"193.936,427.411 212.834,427.411 \"/>\n",
       "<polyline clip-path=\"url(#clip220)\" style=\"stroke:#000000; stroke-linecap:round; stroke-linejoin:round; stroke-width:4; stroke-opacity:1; fill:none\" points=\"193.936,87.9763 212.834,87.9763 \"/>\n",
       "<path clip-path=\"url(#clip220)\" d=\"M50.9921 1446.17 L80.6679 1446.17 L80.6679 1450.1 L50.9921 1450.1 L50.9921 1446.17 Z\" fill=\"#000000\" fill-rule=\"nonzero\" fill-opacity=\"1\" /><path clip-path=\"url(#clip220)\" d=\"M91.5706 1459.06 L99.2095 1459.06 L99.2095 1432.69 L90.8993 1434.36 L90.8993 1430.1 L99.1632 1428.44 L103.839 1428.44 L103.839 1459.06 L111.478 1459.06 L111.478 1463 L91.5706 1463 L91.5706 1459.06 Z\" fill=\"#000000\" fill-rule=\"nonzero\" fill-opacity=\"1\" /><path clip-path=\"url(#clip220)\" d=\"M120.922 1457.12 L125.807 1457.12 L125.807 1463 L120.922 1463 L120.922 1457.12 Z\" fill=\"#000000\" fill-rule=\"nonzero\" fill-opacity=\"1\" /><path clip-path=\"url(#clip220)\" d=\"M145.992 1431.51 Q142.381 1431.51 140.552 1435.08 Q138.746 1438.62 138.746 1445.75 Q138.746 1452.86 140.552 1456.42 Q142.381 1459.96 145.992 1459.96 Q149.626 1459.96 151.431 1456.42 Q153.26 1452.86 153.26 1445.75 Q153.26 1438.62 151.431 1435.08 Q149.626 1431.51 145.992 1431.51 M145.992 1427.81 Q151.802 1427.81 154.857 1432.42 Q157.936 1437 157.936 1445.75 Q157.936 1454.48 154.857 1459.08 Q151.802 1463.67 145.992 1463.67 Q140.181 1463.67 137.103 1459.08 Q134.047 1454.48 134.047 1445.75 Q134.047 1437 137.103 1432.42 Q140.181 1427.81 145.992 1427.81 Z\" fill=\"#000000\" fill-rule=\"nonzero\" fill-opacity=\"1\" /><path clip-path=\"url(#clip220)\" d=\"M51.9875 1106.73 L81.6633 1106.73 L81.6633 1110.67 L51.9875 1110.67 L51.9875 1106.73 Z\" fill=\"#000000\" fill-rule=\"nonzero\" fill-opacity=\"1\" /><path clip-path=\"url(#clip220)\" d=\"M101.756 1092.08 Q98.1447 1092.08 96.316 1095.64 Q94.5104 1099.19 94.5104 1106.32 Q94.5104 1113.42 96.316 1116.99 Q98.1447 1120.53 101.756 1120.53 Q105.39 1120.53 107.196 1116.99 Q109.024 1113.42 109.024 1106.32 Q109.024 1099.19 107.196 1095.64 Q105.39 1092.08 101.756 1092.08 M101.756 1088.38 Q107.566 1088.38 110.621 1092.98 Q113.7 1097.57 113.7 1106.32 Q113.7 1115.04 110.621 1119.65 Q107.566 1124.23 101.756 1124.23 Q95.9456 1124.23 92.8669 1119.65 Q89.8114 1115.04 89.8114 1106.32 Q89.8114 1097.57 92.8669 1092.98 Q95.9456 1088.38 101.756 1088.38 Z\" fill=\"#000000\" fill-rule=\"nonzero\" fill-opacity=\"1\" /><path clip-path=\"url(#clip220)\" d=\"M121.918 1117.68 L126.802 1117.68 L126.802 1123.56 L121.918 1123.56 L121.918 1117.68 Z\" fill=\"#000000\" fill-rule=\"nonzero\" fill-opacity=\"1\" /><path clip-path=\"url(#clip220)\" d=\"M137.033 1089 L155.39 1089 L155.39 1092.94 L141.316 1092.94 L141.316 1101.41 Q142.334 1101.06 143.353 1100.9 Q144.371 1100.71 145.39 1100.71 Q151.177 1100.71 154.556 1103.89 Q157.936 1107.06 157.936 1112.47 Q157.936 1118.05 154.464 1121.15 Q150.992 1124.23 144.672 1124.23 Q142.496 1124.23 140.228 1123.86 Q137.982 1123.49 135.575 1122.75 L135.575 1118.05 Q137.658 1119.19 139.881 1119.74 Q142.103 1120.3 144.58 1120.3 Q148.584 1120.3 150.922 1118.19 Q153.26 1116.08 153.26 1112.47 Q153.26 1108.86 150.922 1106.76 Q148.584 1104.65 144.58 1104.65 Q142.705 1104.65 140.83 1105.07 Q138.978 1105.48 137.033 1106.36 L137.033 1089 Z\" fill=\"#000000\" fill-rule=\"nonzero\" fill-opacity=\"1\" /><path clip-path=\"url(#clip220)\" d=\"M100.76 752.645 Q97.1493 752.645 95.3206 756.209 Q93.515 759.751 93.515 766.881 Q93.515 773.987 95.3206 777.552 Q97.1493 781.094 100.76 781.094 Q104.395 781.094 106.2 777.552 Q108.029 773.987 108.029 766.881 Q108.029 759.751 106.2 756.209 Q104.395 752.645 100.76 752.645 M100.76 748.941 Q106.571 748.941 109.626 753.547 Q112.705 758.131 112.705 766.881 Q112.705 775.608 109.626 780.214 Q106.571 784.797 100.76 784.797 Q94.9502 784.797 91.8715 780.214 Q88.816 775.608 88.816 766.881 Q88.816 758.131 91.8715 753.547 Q94.9502 748.941 100.76 748.941 Z\" fill=\"#000000\" fill-rule=\"nonzero\" fill-opacity=\"1\" /><path clip-path=\"url(#clip220)\" d=\"M120.922 778.246 L125.807 778.246 L125.807 784.126 L120.922 784.126 L120.922 778.246 Z\" fill=\"#000000\" fill-rule=\"nonzero\" fill-opacity=\"1\" /><path clip-path=\"url(#clip220)\" d=\"M145.992 752.645 Q142.381 752.645 140.552 756.209 Q138.746 759.751 138.746 766.881 Q138.746 773.987 140.552 777.552 Q142.381 781.094 145.992 781.094 Q149.626 781.094 151.431 777.552 Q153.26 773.987 153.26 766.881 Q153.26 759.751 151.431 756.209 Q149.626 752.645 145.992 752.645 M145.992 748.941 Q151.802 748.941 154.857 753.547 Q157.936 758.131 157.936 766.881 Q157.936 775.608 154.857 780.214 Q151.802 784.797 145.992 784.797 Q140.181 784.797 137.103 780.214 Q134.047 775.608 134.047 766.881 Q134.047 758.131 137.103 753.547 Q140.181 748.941 145.992 748.941 Z\" fill=\"#000000\" fill-rule=\"nonzero\" fill-opacity=\"1\" /><path clip-path=\"url(#clip220)\" d=\"M101.756 413.21 Q98.1447 413.21 96.316 416.775 Q94.5104 420.316 94.5104 427.446 Q94.5104 434.552 96.316 438.117 Q98.1447 441.659 101.756 441.659 Q105.39 441.659 107.196 438.117 Q109.024 434.552 109.024 427.446 Q109.024 420.316 107.196 416.775 Q105.39 413.21 101.756 413.21 M101.756 409.506 Q107.566 409.506 110.621 414.113 Q113.7 418.696 113.7 427.446 Q113.7 436.173 110.621 440.779 Q107.566 445.362 101.756 445.362 Q95.9456 445.362 92.8669 440.779 Q89.8114 436.173 89.8114 427.446 Q89.8114 418.696 92.8669 414.113 Q95.9456 409.506 101.756 409.506 Z\" fill=\"#000000\" fill-rule=\"nonzero\" fill-opacity=\"1\" /><path clip-path=\"url(#clip220)\" d=\"M121.918 438.812 L126.802 438.812 L126.802 444.691 L121.918 444.691 L121.918 438.812 Z\" fill=\"#000000\" fill-rule=\"nonzero\" fill-opacity=\"1\" /><path clip-path=\"url(#clip220)\" d=\"M137.033 410.131 L155.39 410.131 L155.39 414.066 L141.316 414.066 L141.316 422.538 Q142.334 422.191 143.353 422.029 Q144.371 421.844 145.39 421.844 Q151.177 421.844 154.556 425.015 Q157.936 428.187 157.936 433.603 Q157.936 439.182 154.464 442.284 Q150.992 445.362 144.672 445.362 Q142.496 445.362 140.228 444.992 Q137.982 444.622 135.575 443.881 L135.575 439.182 Q137.658 440.316 139.881 440.872 Q142.103 441.427 144.58 441.427 Q148.584 441.427 150.922 439.321 Q153.26 437.214 153.26 433.603 Q153.26 429.992 150.922 427.886 Q148.584 425.779 144.58 425.779 Q142.705 425.779 140.83 426.196 Q138.978 426.613 137.033 427.492 L137.033 410.131 Z\" fill=\"#000000\" fill-rule=\"nonzero\" fill-opacity=\"1\" /><path clip-path=\"url(#clip220)\" d=\"M91.5706 101.321 L99.2095 101.321 L99.2095 74.9555 L90.8993 76.6222 L90.8993 72.3629 L99.1632 70.6963 L103.839 70.6963 L103.839 101.321 L111.478 101.321 L111.478 105.256 L91.5706 105.256 L91.5706 101.321 Z\" fill=\"#000000\" fill-rule=\"nonzero\" fill-opacity=\"1\" /><path clip-path=\"url(#clip220)\" d=\"M120.922 99.3767 L125.807 99.3767 L125.807 105.256 L120.922 105.256 L120.922 99.3767 Z\" fill=\"#000000\" fill-rule=\"nonzero\" fill-opacity=\"1\" /><path clip-path=\"url(#clip220)\" d=\"M145.992 73.775 Q142.381 73.775 140.552 77.3398 Q138.746 80.8814 138.746 88.011 Q138.746 95.1174 140.552 98.6822 Q142.381 102.224 145.992 102.224 Q149.626 102.224 151.431 98.6822 Q153.26 95.1174 153.26 88.011 Q153.26 80.8814 151.431 77.3398 Q149.626 73.775 145.992 73.775 M145.992 70.0713 Q151.802 70.0713 154.857 74.6777 Q157.936 79.261 157.936 88.011 Q157.936 96.7378 154.857 101.344 Q151.802 105.928 145.992 105.928 Q140.181 105.928 137.103 101.344 Q134.047 96.7378 134.047 88.011 Q134.047 79.261 137.103 74.6777 Q140.181 70.0713 145.992 70.0713 Z\" fill=\"#000000\" fill-rule=\"nonzero\" fill-opacity=\"1\" /><polyline clip-path=\"url(#clip222)\" style=\"stroke:#009af9; stroke-linecap:round; stroke-linejoin:round; stroke-width:8; stroke-opacity:1; fill:none\" points=\"255.035,724.219 275.607,681.761 296.179,639.638 316.751,598.018 337.322,557.064 357.894,516.937 378.466,477.797 399.038,439.798 419.61,403.089 440.182,367.816 460.754,334.118 481.326,302.128 501.898,271.971 522.47,243.768 543.042,217.629 563.614,193.657 584.186,171.948 604.758,152.586 625.33,135.649 645.902,121.203 666.474,109.304 687.046,100.001 707.617,93.3294 728.189,89.3159 748.761,87.9763 769.333,89.3159 789.905,93.3294 810.477,100.001 831.049,109.304 851.621,121.203 872.193,135.649 892.765,152.586 913.337,171.948 933.909,193.657 954.481,217.629 975.053,243.768 995.625,271.971 1016.2,302.128 1036.77,334.118 1057.34,367.816 1077.91,403.089 1098.48,439.798 1119.06,477.797 1139.63,516.937 1160.2,557.064 1180.77,598.018 1201.34,639.638 1221.92,681.761 1242.49,724.219 1263.06,766.846 1283.63,809.473 1304.2,851.931 1324.78,894.053 1345.35,935.674 1365.92,976.628 1386.49,1016.75 1407.06,1055.89 1427.64,1093.89 1448.21,1130.6 1468.78,1165.88 1489.35,1199.57 1509.92,1231.56 1530.5,1261.72 1551.07,1289.92 1571.64,1316.06 1592.21,1340.03 1612.78,1361.74 1633.35,1381.11 1653.93,1398.04 1674.5,1412.49 1695.07,1424.39 1715.64,1433.69 1736.21,1440.36 1756.79,1444.38 1777.36,1445.72 1797.93,1444.38 1818.5,1440.36 1839.07,1433.69 1859.65,1424.39 1880.22,1412.49 1900.79,1398.04 1921.36,1381.11 1941.93,1361.74 1962.51,1340.03 1983.08,1316.06 2003.65,1289.92 2024.22,1261.72 2044.79,1231.56 2065.37,1199.57 2085.94,1165.88 2106.51,1130.6 2127.08,1093.89 2147.65,1055.89 2168.23,1016.75 2188.8,976.628 2209.37,935.674 2229.94,894.053 2250.51,851.931 2271.09,809.473 2291.66,766.846 \"/>\n",
       "<polyline clip-path=\"url(#clip222)\" style=\"stroke:#e26f46; stroke-linecap:round; stroke-linejoin:round; stroke-width:8; stroke-opacity:1; fill:none\" points=\"255.035,681.761 275.607,598.018 296.179,516.937 316.751,439.798 337.322,367.816 357.894,302.128 378.466,243.768 399.038,193.657 419.61,152.586 440.182,121.203 460.754,100.001 481.326,89.3159 501.898,89.3159 522.47,100.001 543.042,121.203 563.614,152.586 584.186,193.657 604.758,243.768 625.33,302.128 645.902,367.816 666.474,439.798 687.046,516.937 707.617,598.018 728.189,681.761 748.761,766.846 769.333,851.931 789.905,935.674 810.477,1016.75 831.049,1093.89 851.621,1165.88 872.193,1231.56 892.765,1289.92 913.337,1340.03 933.909,1381.11 954.481,1412.49 975.053,1433.69 995.625,1444.38 1016.2,1444.38 1036.77,1433.69 1057.34,1412.49 1077.91,1381.11 1098.48,1340.03 1119.06,1289.92 1139.63,1231.56 1160.2,1165.88 1180.77,1093.89 1201.34,1016.75 1221.92,935.674 1242.49,851.931 1263.06,766.846 1283.63,681.761 1304.2,598.018 1324.78,516.937 1345.35,439.798 1365.92,367.816 1386.49,302.128 1407.06,243.768 1427.64,193.657 1448.21,152.586 1468.78,121.203 1489.35,100.001 1509.92,89.3159 1530.5,89.3159 1551.07,100.001 1571.64,121.203 1592.21,152.586 1612.78,193.657 1633.35,243.768 1653.93,302.128 1674.5,367.816 1695.07,439.798 1715.64,516.937 1736.21,598.018 1756.79,681.761 1777.36,766.846 1797.93,851.931 1818.5,935.674 1839.07,1016.75 1859.65,1093.89 1880.22,1165.88 1900.79,1231.56 1921.36,1289.92 1941.93,1340.03 1962.51,1381.11 1983.08,1412.49 2003.65,1433.69 2024.22,1444.38 2044.79,1444.38 2065.37,1433.69 2085.94,1412.49 2106.51,1381.11 2127.08,1340.03 2147.65,1289.92 2168.23,1231.56 2188.8,1165.88 2209.37,1093.89 2229.94,1016.75 2250.51,935.674 2271.09,851.931 2291.66,766.846 \"/>\n",
       "<path clip-path=\"url(#clip220)\" d=\"M2012.48 250.738 L2280.8 250.738 L2280.8 95.2176 L2012.48 95.2176  Z\" fill=\"#ffffff\" fill-rule=\"evenodd\" fill-opacity=\"1\"/>\n",
       "<polyline clip-path=\"url(#clip220)\" style=\"stroke:#000000; stroke-linecap:round; stroke-linejoin:round; stroke-width:4; stroke-opacity:1; fill:none\" points=\"2012.48,250.738 2280.8,250.738 2280.8,95.2176 2012.48,95.2176 2012.48,250.738 \"/>\n",
       "<polyline clip-path=\"url(#clip220)\" style=\"stroke:#009af9; stroke-linecap:round; stroke-linejoin:round; stroke-width:8; stroke-opacity:1; fill:none\" points=\"2036.47,147.058 2180.39,147.058 \"/>\n",
       "<path clip-path=\"url(#clip220)\" d=\"M2218.22 166.745 Q2216.42 171.375 2214.7 172.787 Q2212.99 174.199 2210.12 174.199 L2206.72 174.199 L2206.72 170.634 L2209.22 170.634 Q2210.98 170.634 2211.95 169.8 Q2212.92 168.967 2214.1 165.865 L2214.86 163.921 L2204.38 138.412 L2208.89 138.412 L2216.99 158.689 L2225.1 138.412 L2229.61 138.412 L2218.22 166.745 Z\" fill=\"#000000\" fill-rule=\"nonzero\" fill-opacity=\"1\" /><path clip-path=\"url(#clip220)\" d=\"M2236.9 160.402 L2244.54 160.402 L2244.54 134.037 L2236.23 135.703 L2236.23 131.444 L2244.49 129.778 L2249.17 129.778 L2249.17 160.402 L2256.81 160.402 L2256.81 164.338 L2236.9 164.338 L2236.9 160.402 Z\" fill=\"#000000\" fill-rule=\"nonzero\" fill-opacity=\"1\" /><polyline clip-path=\"url(#clip220)\" style=\"stroke:#e26f46; stroke-linecap:round; stroke-linejoin:round; stroke-width:8; stroke-opacity:1; fill:none\" points=\"2036.47,198.898 2180.39,198.898 \"/>\n",
       "<path clip-path=\"url(#clip220)\" d=\"M2218.22 218.585 Q2216.42 223.215 2214.7 224.627 Q2212.99 226.039 2210.12 226.039 L2206.72 226.039 L2206.72 222.474 L2209.22 222.474 Q2210.98 222.474 2211.95 221.64 Q2212.92 220.807 2214.1 217.705 L2214.86 215.761 L2204.38 190.252 L2208.89 190.252 L2216.99 210.529 L2225.1 190.252 L2229.61 190.252 L2218.22 218.585 Z\" fill=\"#000000\" fill-rule=\"nonzero\" fill-opacity=\"1\" /><path clip-path=\"url(#clip220)\" d=\"M2240.12 212.242 L2256.44 212.242 L2256.44 216.178 L2234.49 216.178 L2234.49 212.242 Q2237.16 209.488 2241.74 204.858 Q2246.35 200.205 2247.53 198.863 Q2249.77 196.34 2250.65 194.604 Q2251.55 192.844 2251.55 191.155 Q2251.55 188.4 2249.61 186.664 Q2247.69 184.928 2244.59 184.928 Q2242.39 184.928 2239.93 185.692 Q2237.5 186.455 2234.73 188.006 L2234.73 183.284 Q2237.55 182.15 2240 181.571 Q2242.46 180.993 2244.49 180.993 Q2249.86 180.993 2253.06 183.678 Q2256.25 186.363 2256.25 190.854 Q2256.25 192.983 2255.44 194.905 Q2254.66 196.803 2252.55 199.395 Q2251.97 200.067 2248.87 203.284 Q2245.77 206.479 2240.12 212.242 Z\" fill=\"#000000\" fill-rule=\"nonzero\" fill-opacity=\"1\" /></svg>\n"
      ],
      "text/html": [
       "<?xml version=\"1.0\" encoding=\"utf-8\"?>\n",
       "<svg xmlns=\"http://www.w3.org/2000/svg\" xmlns:xlink=\"http://www.w3.org/1999/xlink\" width=\"600\" height=\"400\" viewBox=\"0 0 2400 1600\">\n",
       "<defs>\n",
       "  <clipPath id=\"clip270\">\n",
       "    <rect x=\"0\" y=\"0\" width=\"2400\" height=\"1600\"/>\n",
       "  </clipPath>\n",
       "</defs>\n",
       "<path clip-path=\"url(#clip270)\" d=\"M0 1600 L2400 1600 L2400 0 L0 0  Z\" fill=\"#ffffff\" fill-rule=\"evenodd\" fill-opacity=\"1\"/>\n",
       "<defs>\n",
       "  <clipPath id=\"clip271\">\n",
       "    <rect x=\"480\" y=\"0\" width=\"1681\" height=\"1600\"/>\n",
       "  </clipPath>\n",
       "</defs>\n",
       "<path clip-path=\"url(#clip270)\" d=\"M193.936 1486.45 L2352.76 1486.45 L2352.76 47.2441 L193.936 47.2441  Z\" fill=\"#ffffff\" fill-rule=\"evenodd\" fill-opacity=\"1\"/>\n",
       "<defs>\n",
       "  <clipPath id=\"clip272\">\n",
       "    <rect x=\"193\" y=\"47\" width=\"2160\" height=\"1440\"/>\n",
       "  </clipPath>\n",
       "</defs>\n",
       "<polyline clip-path=\"url(#clip272)\" style=\"stroke:#000000; stroke-linecap:round; stroke-linejoin:round; stroke-width:2; stroke-opacity:0.1; fill:none\" points=\"234.463,1486.45 234.463,47.2441 \"/>\n",
       "<polyline clip-path=\"url(#clip272)\" style=\"stroke:#000000; stroke-linecap:round; stroke-linejoin:round; stroke-width:2; stroke-opacity:0.1; fill:none\" points=\"748.761,1486.45 748.761,47.2441 \"/>\n",
       "<polyline clip-path=\"url(#clip272)\" style=\"stroke:#000000; stroke-linecap:round; stroke-linejoin:round; stroke-width:2; stroke-opacity:0.1; fill:none\" points=\"1263.06,1486.45 1263.06,47.2441 \"/>\n",
       "<polyline clip-path=\"url(#clip272)\" style=\"stroke:#000000; stroke-linecap:round; stroke-linejoin:round; stroke-width:2; stroke-opacity:0.1; fill:none\" points=\"1777.36,1486.45 1777.36,47.2441 \"/>\n",
       "<polyline clip-path=\"url(#clip272)\" style=\"stroke:#000000; stroke-linecap:round; stroke-linejoin:round; stroke-width:2; stroke-opacity:0.1; fill:none\" points=\"2291.66,1486.45 2291.66,47.2441 \"/>\n",
       "<polyline clip-path=\"url(#clip270)\" style=\"stroke:#000000; stroke-linecap:round; stroke-linejoin:round; stroke-width:4; stroke-opacity:1; fill:none\" points=\"193.936,1486.45 2352.76,1486.45 \"/>\n",
       "<polyline clip-path=\"url(#clip270)\" style=\"stroke:#000000; stroke-linecap:round; stroke-linejoin:round; stroke-width:4; stroke-opacity:1; fill:none\" points=\"234.463,1486.45 234.463,1467.55 \"/>\n",
       "<polyline clip-path=\"url(#clip270)\" style=\"stroke:#000000; stroke-linecap:round; stroke-linejoin:round; stroke-width:4; stroke-opacity:1; fill:none\" points=\"748.761,1486.45 748.761,1467.55 \"/>\n",
       "<polyline clip-path=\"url(#clip270)\" style=\"stroke:#000000; stroke-linecap:round; stroke-linejoin:round; stroke-width:4; stroke-opacity:1; fill:none\" points=\"1263.06,1486.45 1263.06,1467.55 \"/>\n",
       "<polyline clip-path=\"url(#clip270)\" style=\"stroke:#000000; stroke-linecap:round; stroke-linejoin:round; stroke-width:4; stroke-opacity:1; fill:none\" points=\"1777.36,1486.45 1777.36,1467.55 \"/>\n",
       "<polyline clip-path=\"url(#clip270)\" style=\"stroke:#000000; stroke-linecap:round; stroke-linejoin:round; stroke-width:4; stroke-opacity:1; fill:none\" points=\"2291.66,1486.45 2291.66,1467.55 \"/>\n",
       "<path clip-path=\"url(#clip270)\" d=\"M234.463 1517.37 Q230.852 1517.37 229.023 1520.93 Q227.217 1524.47 227.217 1531.6 Q227.217 1538.71 229.023 1542.27 Q230.852 1545.82 234.463 1545.82 Q238.097 1545.82 239.903 1542.27 Q241.731 1538.71 241.731 1531.6 Q241.731 1524.47 239.903 1520.93 Q238.097 1517.37 234.463 1517.37 M234.463 1513.66 Q240.273 1513.66 243.328 1518.27 Q246.407 1522.85 246.407 1531.6 Q246.407 1540.33 243.328 1544.94 Q240.273 1549.52 234.463 1549.52 Q228.653 1549.52 225.574 1544.94 Q222.518 1540.33 222.518 1531.6 Q222.518 1522.85 225.574 1518.27 Q228.653 1513.66 234.463 1513.66 Z\" fill=\"#000000\" fill-rule=\"nonzero\" fill-opacity=\"1\" /><path clip-path=\"url(#clip270)\" d=\"M728.032 1544.91 L744.352 1544.91 L744.352 1548.85 L722.407 1548.85 L722.407 1544.91 Q725.069 1542.16 729.653 1537.53 Q734.259 1532.88 735.44 1531.53 Q737.685 1529.01 738.565 1527.27 Q739.467 1525.51 739.467 1523.82 Q739.467 1521.07 737.523 1519.33 Q735.602 1517.6 732.5 1517.6 Q730.301 1517.6 727.847 1518.36 Q725.417 1519.13 722.639 1520.68 L722.639 1515.95 Q725.463 1514.82 727.917 1514.24 Q730.37 1513.66 732.407 1513.66 Q737.778 1513.66 740.972 1516.35 Q744.166 1519.03 744.166 1523.52 Q744.166 1525.65 743.356 1527.57 Q742.569 1529.47 740.463 1532.07 Q739.884 1532.74 736.782 1535.95 Q733.68 1539.15 728.032 1544.91 Z\" fill=\"#000000\" fill-rule=\"nonzero\" fill-opacity=\"1\" /><path clip-path=\"url(#clip270)\" d=\"M754.213 1514.29 L772.569 1514.29 L772.569 1518.22 L758.495 1518.22 L758.495 1526.7 Q759.514 1526.35 760.532 1526.19 Q761.551 1526 762.569 1526 Q768.356 1526 771.736 1529.17 Q775.115 1532.34 775.115 1537.76 Q775.115 1543.34 771.643 1546.44 Q768.171 1549.52 761.852 1549.52 Q759.676 1549.52 757.407 1549.15 Q755.162 1548.78 752.754 1548.04 L752.754 1543.34 Q754.838 1544.47 757.06 1545.03 Q759.282 1545.58 761.759 1545.58 Q765.764 1545.58 768.102 1543.48 Q770.439 1541.37 770.439 1537.76 Q770.439 1534.15 768.102 1532.04 Q765.764 1529.94 761.759 1529.94 Q759.884 1529.94 758.009 1530.35 Q756.157 1530.77 754.213 1531.65 L754.213 1514.29 Z\" fill=\"#000000\" fill-rule=\"nonzero\" fill-opacity=\"1\" /><path clip-path=\"url(#clip270)\" d=\"M1237.76 1514.29 L1256.12 1514.29 L1256.12 1518.22 L1242.04 1518.22 L1242.04 1526.7 Q1243.06 1526.35 1244.08 1526.19 Q1245.1 1526 1246.12 1526 Q1251.9 1526 1255.28 1529.17 Q1258.66 1532.34 1258.66 1537.76 Q1258.66 1543.34 1255.19 1546.44 Q1251.72 1549.52 1245.4 1549.52 Q1243.22 1549.52 1240.95 1549.15 Q1238.71 1548.78 1236.3 1548.04 L1236.3 1543.34 Q1238.38 1544.47 1240.61 1545.03 Q1242.83 1545.58 1245.31 1545.58 Q1249.31 1545.58 1251.65 1543.48 Q1253.99 1541.37 1253.99 1537.76 Q1253.99 1534.15 1251.65 1532.04 Q1249.31 1529.94 1245.31 1529.94 Q1243.43 1529.94 1241.56 1530.35 Q1239.7 1530.77 1237.76 1531.65 L1237.76 1514.29 Z\" fill=\"#000000\" fill-rule=\"nonzero\" fill-opacity=\"1\" /><path clip-path=\"url(#clip270)\" d=\"M1277.87 1517.37 Q1274.26 1517.37 1272.43 1520.93 Q1270.63 1524.47 1270.63 1531.6 Q1270.63 1538.71 1272.43 1542.27 Q1274.26 1545.82 1277.87 1545.82 Q1281.51 1545.82 1283.31 1542.27 Q1285.14 1538.71 1285.14 1531.6 Q1285.14 1524.47 1283.31 1520.93 Q1281.51 1517.37 1277.87 1517.37 M1277.87 1513.66 Q1283.68 1513.66 1286.74 1518.27 Q1289.82 1522.85 1289.82 1531.6 Q1289.82 1540.33 1286.74 1544.94 Q1283.68 1549.52 1277.87 1549.52 Q1272.06 1549.52 1268.99 1544.94 Q1265.93 1540.33 1265.93 1531.6 Q1265.93 1522.85 1268.99 1518.27 Q1272.06 1513.66 1277.87 1513.66 Z\" fill=\"#000000\" fill-rule=\"nonzero\" fill-opacity=\"1\" /><path clip-path=\"url(#clip270)\" d=\"M1751.21 1514.29 L1773.44 1514.29 L1773.44 1516.28 L1760.89 1548.85 L1756 1548.85 L1767.81 1518.22 L1751.21 1518.22 L1751.21 1514.29 Z\" fill=\"#000000\" fill-rule=\"nonzero\" fill-opacity=\"1\" /><path clip-path=\"url(#clip270)\" d=\"M1782.6 1514.29 L1800.96 1514.29 L1800.96 1518.22 L1786.88 1518.22 L1786.88 1526.7 Q1787.9 1526.35 1788.92 1526.19 Q1789.94 1526 1790.96 1526 Q1796.75 1526 1800.12 1529.17 Q1803.5 1532.34 1803.5 1537.76 Q1803.5 1543.34 1800.03 1546.44 Q1796.56 1549.52 1790.24 1549.52 Q1788.06 1549.52 1785.8 1549.15 Q1783.55 1548.78 1781.14 1548.04 L1781.14 1543.34 Q1783.23 1544.47 1785.45 1545.03 Q1787.67 1545.58 1790.15 1545.58 Q1794.15 1545.58 1796.49 1543.48 Q1798.83 1541.37 1798.83 1537.76 Q1798.83 1534.15 1796.49 1532.04 Q1794.15 1529.94 1790.15 1529.94 Q1788.27 1529.94 1786.4 1530.35 Q1784.55 1530.77 1782.6 1531.65 L1782.6 1514.29 Z\" fill=\"#000000\" fill-rule=\"nonzero\" fill-opacity=\"1\" /><path clip-path=\"url(#clip270)\" d=\"M2251.26 1544.91 L2258.9 1544.91 L2258.9 1518.55 L2250.59 1520.21 L2250.59 1515.95 L2258.86 1514.29 L2263.53 1514.29 L2263.53 1544.91 L2271.17 1544.91 L2271.17 1548.85 L2251.26 1548.85 L2251.26 1544.91 Z\" fill=\"#000000\" fill-rule=\"nonzero\" fill-opacity=\"1\" /><path clip-path=\"url(#clip270)\" d=\"M2290.62 1517.37 Q2287 1517.37 2285.18 1520.93 Q2283.37 1524.47 2283.37 1531.6 Q2283.37 1538.71 2285.18 1542.27 Q2287 1545.82 2290.62 1545.82 Q2294.25 1545.82 2296.06 1542.27 Q2297.88 1538.71 2297.88 1531.6 Q2297.88 1524.47 2296.06 1520.93 Q2294.25 1517.37 2290.62 1517.37 M2290.62 1513.66 Q2296.43 1513.66 2299.48 1518.27 Q2302.56 1522.85 2302.56 1531.6 Q2302.56 1540.33 2299.48 1544.94 Q2296.43 1549.52 2290.62 1549.52 Q2284.81 1549.52 2281.73 1544.94 Q2278.67 1540.33 2278.67 1531.6 Q2278.67 1522.85 2281.73 1518.27 Q2284.81 1513.66 2290.62 1513.66 Z\" fill=\"#000000\" fill-rule=\"nonzero\" fill-opacity=\"1\" /><path clip-path=\"url(#clip270)\" d=\"M2320.78 1517.37 Q2317.17 1517.37 2315.34 1520.93 Q2313.53 1524.47 2313.53 1531.6 Q2313.53 1538.71 2315.34 1542.27 Q2317.17 1545.82 2320.78 1545.82 Q2324.41 1545.82 2326.22 1542.27 Q2328.05 1538.71 2328.05 1531.6 Q2328.05 1524.47 2326.22 1520.93 Q2324.41 1517.37 2320.78 1517.37 M2320.78 1513.66 Q2326.59 1513.66 2329.64 1518.27 Q2332.72 1522.85 2332.72 1531.6 Q2332.72 1540.33 2329.64 1544.94 Q2326.59 1549.52 2320.78 1549.52 Q2314.97 1549.52 2311.89 1544.94 Q2308.83 1540.33 2308.83 1531.6 Q2308.83 1522.85 2311.89 1518.27 Q2314.97 1513.66 2320.78 1513.66 Z\" fill=\"#000000\" fill-rule=\"nonzero\" fill-opacity=\"1\" /><polyline clip-path=\"url(#clip272)\" style=\"stroke:#000000; stroke-linecap:round; stroke-linejoin:round; stroke-width:2; stroke-opacity:0.1; fill:none\" points=\"193.936,1445.72 2352.76,1445.72 \"/>\n",
       "<polyline clip-path=\"url(#clip272)\" style=\"stroke:#000000; stroke-linecap:round; stroke-linejoin:round; stroke-width:2; stroke-opacity:0.1; fill:none\" points=\"193.936,1106.28 2352.76,1106.28 \"/>\n",
       "<polyline clip-path=\"url(#clip272)\" style=\"stroke:#000000; stroke-linecap:round; stroke-linejoin:round; stroke-width:2; stroke-opacity:0.1; fill:none\" points=\"193.936,766.846 2352.76,766.846 \"/>\n",
       "<polyline clip-path=\"url(#clip272)\" style=\"stroke:#000000; stroke-linecap:round; stroke-linejoin:round; stroke-width:2; stroke-opacity:0.1; fill:none\" points=\"193.936,427.411 2352.76,427.411 \"/>\n",
       "<polyline clip-path=\"url(#clip272)\" style=\"stroke:#000000; stroke-linecap:round; stroke-linejoin:round; stroke-width:2; stroke-opacity:0.1; fill:none\" points=\"193.936,87.9763 2352.76,87.9763 \"/>\n",
       "<polyline clip-path=\"url(#clip270)\" style=\"stroke:#000000; stroke-linecap:round; stroke-linejoin:round; stroke-width:4; stroke-opacity:1; fill:none\" points=\"193.936,1486.45 193.936,47.2441 \"/>\n",
       "<polyline clip-path=\"url(#clip270)\" style=\"stroke:#000000; stroke-linecap:round; stroke-linejoin:round; stroke-width:4; stroke-opacity:1; fill:none\" points=\"193.936,1445.72 212.834,1445.72 \"/>\n",
       "<polyline clip-path=\"url(#clip270)\" style=\"stroke:#000000; stroke-linecap:round; stroke-linejoin:round; stroke-width:4; stroke-opacity:1; fill:none\" points=\"193.936,1106.28 212.834,1106.28 \"/>\n",
       "<polyline clip-path=\"url(#clip270)\" style=\"stroke:#000000; stroke-linecap:round; stroke-linejoin:round; stroke-width:4; stroke-opacity:1; fill:none\" points=\"193.936,766.846 212.834,766.846 \"/>\n",
       "<polyline clip-path=\"url(#clip270)\" style=\"stroke:#000000; stroke-linecap:round; stroke-linejoin:round; stroke-width:4; stroke-opacity:1; fill:none\" points=\"193.936,427.411 212.834,427.411 \"/>\n",
       "<polyline clip-path=\"url(#clip270)\" style=\"stroke:#000000; stroke-linecap:round; stroke-linejoin:round; stroke-width:4; stroke-opacity:1; fill:none\" points=\"193.936,87.9763 212.834,87.9763 \"/>\n",
       "<path clip-path=\"url(#clip270)\" d=\"M50.9921 1446.17 L80.6679 1446.17 L80.6679 1450.1 L50.9921 1450.1 L50.9921 1446.17 Z\" fill=\"#000000\" fill-rule=\"nonzero\" fill-opacity=\"1\" /><path clip-path=\"url(#clip270)\" d=\"M91.5706 1459.06 L99.2095 1459.06 L99.2095 1432.69 L90.8993 1434.36 L90.8993 1430.1 L99.1632 1428.44 L103.839 1428.44 L103.839 1459.06 L111.478 1459.06 L111.478 1463 L91.5706 1463 L91.5706 1459.06 Z\" fill=\"#000000\" fill-rule=\"nonzero\" fill-opacity=\"1\" /><path clip-path=\"url(#clip270)\" d=\"M120.922 1457.12 L125.807 1457.12 L125.807 1463 L120.922 1463 L120.922 1457.12 Z\" fill=\"#000000\" fill-rule=\"nonzero\" fill-opacity=\"1\" /><path clip-path=\"url(#clip270)\" d=\"M145.992 1431.51 Q142.381 1431.51 140.552 1435.08 Q138.746 1438.62 138.746 1445.75 Q138.746 1452.86 140.552 1456.42 Q142.381 1459.96 145.992 1459.96 Q149.626 1459.96 151.431 1456.42 Q153.26 1452.86 153.26 1445.75 Q153.26 1438.62 151.431 1435.08 Q149.626 1431.51 145.992 1431.51 M145.992 1427.81 Q151.802 1427.81 154.857 1432.42 Q157.936 1437 157.936 1445.75 Q157.936 1454.48 154.857 1459.08 Q151.802 1463.67 145.992 1463.67 Q140.181 1463.67 137.103 1459.08 Q134.047 1454.48 134.047 1445.75 Q134.047 1437 137.103 1432.42 Q140.181 1427.81 145.992 1427.81 Z\" fill=\"#000000\" fill-rule=\"nonzero\" fill-opacity=\"1\" /><path clip-path=\"url(#clip270)\" d=\"M51.9875 1106.73 L81.6633 1106.73 L81.6633 1110.67 L51.9875 1110.67 L51.9875 1106.73 Z\" fill=\"#000000\" fill-rule=\"nonzero\" fill-opacity=\"1\" /><path clip-path=\"url(#clip270)\" d=\"M101.756 1092.08 Q98.1447 1092.08 96.316 1095.64 Q94.5104 1099.19 94.5104 1106.32 Q94.5104 1113.42 96.316 1116.99 Q98.1447 1120.53 101.756 1120.53 Q105.39 1120.53 107.196 1116.99 Q109.024 1113.42 109.024 1106.32 Q109.024 1099.19 107.196 1095.64 Q105.39 1092.08 101.756 1092.08 M101.756 1088.38 Q107.566 1088.38 110.621 1092.98 Q113.7 1097.57 113.7 1106.32 Q113.7 1115.04 110.621 1119.65 Q107.566 1124.23 101.756 1124.23 Q95.9456 1124.23 92.8669 1119.65 Q89.8114 1115.04 89.8114 1106.32 Q89.8114 1097.57 92.8669 1092.98 Q95.9456 1088.38 101.756 1088.38 Z\" fill=\"#000000\" fill-rule=\"nonzero\" fill-opacity=\"1\" /><path clip-path=\"url(#clip270)\" d=\"M121.918 1117.68 L126.802 1117.68 L126.802 1123.56 L121.918 1123.56 L121.918 1117.68 Z\" fill=\"#000000\" fill-rule=\"nonzero\" fill-opacity=\"1\" /><path clip-path=\"url(#clip270)\" d=\"M137.033 1089 L155.39 1089 L155.39 1092.94 L141.316 1092.94 L141.316 1101.41 Q142.334 1101.06 143.353 1100.9 Q144.371 1100.71 145.39 1100.71 Q151.177 1100.71 154.556 1103.89 Q157.936 1107.06 157.936 1112.47 Q157.936 1118.05 154.464 1121.15 Q150.992 1124.23 144.672 1124.23 Q142.496 1124.23 140.228 1123.86 Q137.982 1123.49 135.575 1122.75 L135.575 1118.05 Q137.658 1119.19 139.881 1119.74 Q142.103 1120.3 144.58 1120.3 Q148.584 1120.3 150.922 1118.19 Q153.26 1116.08 153.26 1112.47 Q153.26 1108.86 150.922 1106.76 Q148.584 1104.65 144.58 1104.65 Q142.705 1104.65 140.83 1105.07 Q138.978 1105.48 137.033 1106.36 L137.033 1089 Z\" fill=\"#000000\" fill-rule=\"nonzero\" fill-opacity=\"1\" /><path clip-path=\"url(#clip270)\" d=\"M100.76 752.645 Q97.1493 752.645 95.3206 756.209 Q93.515 759.751 93.515 766.881 Q93.515 773.987 95.3206 777.552 Q97.1493 781.094 100.76 781.094 Q104.395 781.094 106.2 777.552 Q108.029 773.987 108.029 766.881 Q108.029 759.751 106.2 756.209 Q104.395 752.645 100.76 752.645 M100.76 748.941 Q106.571 748.941 109.626 753.547 Q112.705 758.131 112.705 766.881 Q112.705 775.608 109.626 780.214 Q106.571 784.797 100.76 784.797 Q94.9502 784.797 91.8715 780.214 Q88.816 775.608 88.816 766.881 Q88.816 758.131 91.8715 753.547 Q94.9502 748.941 100.76 748.941 Z\" fill=\"#000000\" fill-rule=\"nonzero\" fill-opacity=\"1\" /><path clip-path=\"url(#clip270)\" d=\"M120.922 778.246 L125.807 778.246 L125.807 784.126 L120.922 784.126 L120.922 778.246 Z\" fill=\"#000000\" fill-rule=\"nonzero\" fill-opacity=\"1\" /><path clip-path=\"url(#clip270)\" d=\"M145.992 752.645 Q142.381 752.645 140.552 756.209 Q138.746 759.751 138.746 766.881 Q138.746 773.987 140.552 777.552 Q142.381 781.094 145.992 781.094 Q149.626 781.094 151.431 777.552 Q153.26 773.987 153.26 766.881 Q153.26 759.751 151.431 756.209 Q149.626 752.645 145.992 752.645 M145.992 748.941 Q151.802 748.941 154.857 753.547 Q157.936 758.131 157.936 766.881 Q157.936 775.608 154.857 780.214 Q151.802 784.797 145.992 784.797 Q140.181 784.797 137.103 780.214 Q134.047 775.608 134.047 766.881 Q134.047 758.131 137.103 753.547 Q140.181 748.941 145.992 748.941 Z\" fill=\"#000000\" fill-rule=\"nonzero\" fill-opacity=\"1\" /><path clip-path=\"url(#clip270)\" d=\"M101.756 413.21 Q98.1447 413.21 96.316 416.775 Q94.5104 420.316 94.5104 427.446 Q94.5104 434.552 96.316 438.117 Q98.1447 441.659 101.756 441.659 Q105.39 441.659 107.196 438.117 Q109.024 434.552 109.024 427.446 Q109.024 420.316 107.196 416.775 Q105.39 413.21 101.756 413.21 M101.756 409.506 Q107.566 409.506 110.621 414.113 Q113.7 418.696 113.7 427.446 Q113.7 436.173 110.621 440.779 Q107.566 445.362 101.756 445.362 Q95.9456 445.362 92.8669 440.779 Q89.8114 436.173 89.8114 427.446 Q89.8114 418.696 92.8669 414.113 Q95.9456 409.506 101.756 409.506 Z\" fill=\"#000000\" fill-rule=\"nonzero\" fill-opacity=\"1\" /><path clip-path=\"url(#clip270)\" d=\"M121.918 438.812 L126.802 438.812 L126.802 444.691 L121.918 444.691 L121.918 438.812 Z\" fill=\"#000000\" fill-rule=\"nonzero\" fill-opacity=\"1\" /><path clip-path=\"url(#clip270)\" d=\"M137.033 410.131 L155.39 410.131 L155.39 414.066 L141.316 414.066 L141.316 422.538 Q142.334 422.191 143.353 422.029 Q144.371 421.844 145.39 421.844 Q151.177 421.844 154.556 425.015 Q157.936 428.187 157.936 433.603 Q157.936 439.182 154.464 442.284 Q150.992 445.362 144.672 445.362 Q142.496 445.362 140.228 444.992 Q137.982 444.622 135.575 443.881 L135.575 439.182 Q137.658 440.316 139.881 440.872 Q142.103 441.427 144.58 441.427 Q148.584 441.427 150.922 439.321 Q153.26 437.214 153.26 433.603 Q153.26 429.992 150.922 427.886 Q148.584 425.779 144.58 425.779 Q142.705 425.779 140.83 426.196 Q138.978 426.613 137.033 427.492 L137.033 410.131 Z\" fill=\"#000000\" fill-rule=\"nonzero\" fill-opacity=\"1\" /><path clip-path=\"url(#clip270)\" d=\"M91.5706 101.321 L99.2095 101.321 L99.2095 74.9555 L90.8993 76.6222 L90.8993 72.3629 L99.1632 70.6963 L103.839 70.6963 L103.839 101.321 L111.478 101.321 L111.478 105.256 L91.5706 105.256 L91.5706 101.321 Z\" fill=\"#000000\" fill-rule=\"nonzero\" fill-opacity=\"1\" /><path clip-path=\"url(#clip270)\" d=\"M120.922 99.3767 L125.807 99.3767 L125.807 105.256 L120.922 105.256 L120.922 99.3767 Z\" fill=\"#000000\" fill-rule=\"nonzero\" fill-opacity=\"1\" /><path clip-path=\"url(#clip270)\" d=\"M145.992 73.775 Q142.381 73.775 140.552 77.3398 Q138.746 80.8814 138.746 88.011 Q138.746 95.1174 140.552 98.6822 Q142.381 102.224 145.992 102.224 Q149.626 102.224 151.431 98.6822 Q153.26 95.1174 153.26 88.011 Q153.26 80.8814 151.431 77.3398 Q149.626 73.775 145.992 73.775 M145.992 70.0713 Q151.802 70.0713 154.857 74.6777 Q157.936 79.261 157.936 88.011 Q157.936 96.7378 154.857 101.344 Q151.802 105.928 145.992 105.928 Q140.181 105.928 137.103 101.344 Q134.047 96.7378 134.047 88.011 Q134.047 79.261 137.103 74.6777 Q140.181 70.0713 145.992 70.0713 Z\" fill=\"#000000\" fill-rule=\"nonzero\" fill-opacity=\"1\" /><polyline clip-path=\"url(#clip272)\" style=\"stroke:#009af9; stroke-linecap:round; stroke-linejoin:round; stroke-width:8; stroke-opacity:1; fill:none\" points=\"255.035,724.219 275.607,681.761 296.179,639.638 316.751,598.018 337.322,557.064 357.894,516.937 378.466,477.797 399.038,439.798 419.61,403.089 440.182,367.816 460.754,334.118 481.326,302.128 501.898,271.971 522.47,243.768 543.042,217.629 563.614,193.657 584.186,171.948 604.758,152.586 625.33,135.649 645.902,121.203 666.474,109.304 687.046,100.001 707.617,93.3294 728.189,89.3159 748.761,87.9763 769.333,89.3159 789.905,93.3294 810.477,100.001 831.049,109.304 851.621,121.203 872.193,135.649 892.765,152.586 913.337,171.948 933.909,193.657 954.481,217.629 975.053,243.768 995.625,271.971 1016.2,302.128 1036.77,334.118 1057.34,367.816 1077.91,403.089 1098.48,439.798 1119.06,477.797 1139.63,516.937 1160.2,557.064 1180.77,598.018 1201.34,639.638 1221.92,681.761 1242.49,724.219 1263.06,766.846 1283.63,809.473 1304.2,851.931 1324.78,894.053 1345.35,935.674 1365.92,976.628 1386.49,1016.75 1407.06,1055.89 1427.64,1093.89 1448.21,1130.6 1468.78,1165.88 1489.35,1199.57 1509.92,1231.56 1530.5,1261.72 1551.07,1289.92 1571.64,1316.06 1592.21,1340.03 1612.78,1361.74 1633.35,1381.11 1653.93,1398.04 1674.5,1412.49 1695.07,1424.39 1715.64,1433.69 1736.21,1440.36 1756.79,1444.38 1777.36,1445.72 1797.93,1444.38 1818.5,1440.36 1839.07,1433.69 1859.65,1424.39 1880.22,1412.49 1900.79,1398.04 1921.36,1381.11 1941.93,1361.74 1962.51,1340.03 1983.08,1316.06 2003.65,1289.92 2024.22,1261.72 2044.79,1231.56 2065.37,1199.57 2085.94,1165.88 2106.51,1130.6 2127.08,1093.89 2147.65,1055.89 2168.23,1016.75 2188.8,976.628 2209.37,935.674 2229.94,894.053 2250.51,851.931 2271.09,809.473 2291.66,766.846 \"/>\n",
       "<polyline clip-path=\"url(#clip272)\" style=\"stroke:#e26f46; stroke-linecap:round; stroke-linejoin:round; stroke-width:8; stroke-opacity:1; fill:none\" points=\"255.035,681.761 275.607,598.018 296.179,516.937 316.751,439.798 337.322,367.816 357.894,302.128 378.466,243.768 399.038,193.657 419.61,152.586 440.182,121.203 460.754,100.001 481.326,89.3159 501.898,89.3159 522.47,100.001 543.042,121.203 563.614,152.586 584.186,193.657 604.758,243.768 625.33,302.128 645.902,367.816 666.474,439.798 687.046,516.937 707.617,598.018 728.189,681.761 748.761,766.846 769.333,851.931 789.905,935.674 810.477,1016.75 831.049,1093.89 851.621,1165.88 872.193,1231.56 892.765,1289.92 913.337,1340.03 933.909,1381.11 954.481,1412.49 975.053,1433.69 995.625,1444.38 1016.2,1444.38 1036.77,1433.69 1057.34,1412.49 1077.91,1381.11 1098.48,1340.03 1119.06,1289.92 1139.63,1231.56 1160.2,1165.88 1180.77,1093.89 1201.34,1016.75 1221.92,935.674 1242.49,851.931 1263.06,766.846 1283.63,681.761 1304.2,598.018 1324.78,516.937 1345.35,439.798 1365.92,367.816 1386.49,302.128 1407.06,243.768 1427.64,193.657 1448.21,152.586 1468.78,121.203 1489.35,100.001 1509.92,89.3159 1530.5,89.3159 1551.07,100.001 1571.64,121.203 1592.21,152.586 1612.78,193.657 1633.35,243.768 1653.93,302.128 1674.5,367.816 1695.07,439.798 1715.64,516.937 1736.21,598.018 1756.79,681.761 1777.36,766.846 1797.93,851.931 1818.5,935.674 1839.07,1016.75 1859.65,1093.89 1880.22,1165.88 1900.79,1231.56 1921.36,1289.92 1941.93,1340.03 1962.51,1381.11 1983.08,1412.49 2003.65,1433.69 2024.22,1444.38 2044.79,1444.38 2065.37,1433.69 2085.94,1412.49 2106.51,1381.11 2127.08,1340.03 2147.65,1289.92 2168.23,1231.56 2188.8,1165.88 2209.37,1093.89 2229.94,1016.75 2250.51,935.674 2271.09,851.931 2291.66,766.846 \"/>\n",
       "<path clip-path=\"url(#clip270)\" d=\"M2012.48 250.738 L2280.8 250.738 L2280.8 95.2176 L2012.48 95.2176  Z\" fill=\"#ffffff\" fill-rule=\"evenodd\" fill-opacity=\"1\"/>\n",
       "<polyline clip-path=\"url(#clip270)\" style=\"stroke:#000000; stroke-linecap:round; stroke-linejoin:round; stroke-width:4; stroke-opacity:1; fill:none\" points=\"2012.48,250.738 2280.8,250.738 2280.8,95.2176 2012.48,95.2176 2012.48,250.738 \"/>\n",
       "<polyline clip-path=\"url(#clip270)\" style=\"stroke:#009af9; stroke-linecap:round; stroke-linejoin:round; stroke-width:8; stroke-opacity:1; fill:none\" points=\"2036.47,147.058 2180.39,147.058 \"/>\n",
       "<path clip-path=\"url(#clip270)\" d=\"M2218.22 166.745 Q2216.42 171.375 2214.7 172.787 Q2212.99 174.199 2210.12 174.199 L2206.72 174.199 L2206.72 170.634 L2209.22 170.634 Q2210.98 170.634 2211.95 169.8 Q2212.92 168.967 2214.1 165.865 L2214.86 163.921 L2204.38 138.412 L2208.89 138.412 L2216.99 158.689 L2225.1 138.412 L2229.61 138.412 L2218.22 166.745 Z\" fill=\"#000000\" fill-rule=\"nonzero\" fill-opacity=\"1\" /><path clip-path=\"url(#clip270)\" d=\"M2236.9 160.402 L2244.54 160.402 L2244.54 134.037 L2236.23 135.703 L2236.23 131.444 L2244.49 129.778 L2249.17 129.778 L2249.17 160.402 L2256.81 160.402 L2256.81 164.338 L2236.9 164.338 L2236.9 160.402 Z\" fill=\"#000000\" fill-rule=\"nonzero\" fill-opacity=\"1\" /><polyline clip-path=\"url(#clip270)\" style=\"stroke:#e26f46; stroke-linecap:round; stroke-linejoin:round; stroke-width:8; stroke-opacity:1; fill:none\" points=\"2036.47,198.898 2180.39,198.898 \"/>\n",
       "<path clip-path=\"url(#clip270)\" d=\"M2218.22 218.585 Q2216.42 223.215 2214.7 224.627 Q2212.99 226.039 2210.12 226.039 L2206.72 226.039 L2206.72 222.474 L2209.22 222.474 Q2210.98 222.474 2211.95 221.64 Q2212.92 220.807 2214.1 217.705 L2214.86 215.761 L2204.38 190.252 L2208.89 190.252 L2216.99 210.529 L2225.1 190.252 L2229.61 190.252 L2218.22 218.585 Z\" fill=\"#000000\" fill-rule=\"nonzero\" fill-opacity=\"1\" /><path clip-path=\"url(#clip270)\" d=\"M2240.12 212.242 L2256.44 212.242 L2256.44 216.178 L2234.49 216.178 L2234.49 212.242 Q2237.16 209.488 2241.74 204.858 Q2246.35 200.205 2247.53 198.863 Q2249.77 196.34 2250.65 194.604 Q2251.55 192.844 2251.55 191.155 Q2251.55 188.4 2249.61 186.664 Q2247.69 184.928 2244.59 184.928 Q2242.39 184.928 2239.93 185.692 Q2237.5 186.455 2234.73 188.006 L2234.73 183.284 Q2237.55 182.15 2240 181.571 Q2242.46 180.993 2244.49 180.993 Q2249.86 180.993 2253.06 183.678 Q2256.25 186.363 2256.25 190.854 Q2256.25 192.983 2255.44 194.905 Q2254.66 196.803 2252.55 199.395 Q2251.97 200.067 2248.87 203.284 Q2245.77 206.479 2240.12 212.242 Z\" fill=\"#000000\" fill-rule=\"nonzero\" fill-opacity=\"1\" /></svg>\n"
      ]
     },
     "metadata": {},
     "output_type": "display_data"
    }
   ],
   "source": [
    "plot(y[1,:], linewidth=2.0, pallete=:acton, c=1)\n",
    "plot!(y[2,:], linewidth=2.0, pallete=:acton)"
   ]
  },
  {
   "cell_type": "code",
   "execution_count": null,
   "metadata": {},
   "outputs": [],
   "source": []
  }
 ],
 "metadata": {
  "kernelspec": {
   "display_name": "Julia 1.9.2",
   "language": "julia",
   "name": "julia-1.9"
  },
  "language_info": {
   "file_extension": ".jl",
   "mimetype": "application/julia",
   "name": "julia",
   "version": "1.9.2"
  },
  "orig_nbformat": 4
 },
 "nbformat": 4,
 "nbformat_minor": 2
}
