{
 "cells": [
  {
   "cell_type": "code",
   "execution_count": 51,
   "metadata": {},
   "outputs": [],
   "source": [
    "using Distributed"
   ]
  },
  {
   "cell_type": "code",
   "execution_count": 52,
   "metadata": {},
   "outputs": [
    {
     "data": {
      "text/plain": [
       "4-element Vector{Int64}:\n",
       " 2\n",
       " 3\n",
       " 4\n",
       " 5"
      ]
     },
     "execution_count": 52,
     "metadata": {},
     "output_type": "execute_result"
    }
   ],
   "source": [
    "addprocs(4)"
   ]
  },
  {
   "cell_type": "code",
   "execution_count": 56,
   "metadata": {},
   "outputs": [],
   "source": [
    "@everywhere using LinearAlgebra"
   ]
  },
  {
   "cell_type": "code",
   "execution_count": 53,
   "metadata": {},
   "outputs": [],
   "source": [
    "@everywhere function find_prime(vec)\n",
    "\twhile true\n",
    "\t\tn = rand(vec)\n",
    "\t\tisprime(n) && return n\n",
    "\tend\n",
    "end"
   ]
  },
  {
   "cell_type": "code",
   "execution_count": 54,
   "metadata": {},
   "outputs": [
    {
     "data": {
      "text/plain": [
       "find_prime_with_timeout_mp (generic function with 3 methods)"
      ]
     },
     "execution_count": 54,
     "metadata": {},
     "output_type": "execute_result"
    }
   ],
   "source": [
    "function find_prime_with_timeout_mp(vec, timeout=0.5, target_pid=first(workers()))\n",
    "    found_channel = Channel{Int}(1)\n",
    "    @async begin\n",
    "        value = remotecall_fetch(find_prime, target_pid, vec)\n",
    "        isopen(found_channel) && put!(found_channel, value)\n",
    "    end\n",
    "    result = timedwait(timeout) do\n",
    "        !isempty(found_channel)\n",
    "    end\n",
    "    @debug result\n",
    "    close(found_channel)\n",
    "    if result === :timed_out\n",
    "        interrupt(target_pid)  # to stop finding a prime\n",
    "        return  # `nothing`\n",
    "    end\n",
    "    fetch(found_channel)\n",
    "end"
   ]
  },
  {
   "cell_type": "code",
   "execution_count": 57,
   "metadata": {},
   "outputs": [
    {
     "name": "stdout",
     "output_type": "stream",
     "text": [
      "      From worker 2:\t\u001b[91m\u001b[1m┌ \u001b[22m\u001b[39m\u001b[91m\u001b[1mError: \u001b[22m\u001b[39mFatal error on process 2\n",
      "      From worker 2:\t\u001b[91m\u001b[1m│ \u001b[22m\u001b[39m  exception =\n",
      "      From worker 2:\t\u001b[91m\u001b[1m│ \u001b[22m\u001b[39m   InterruptException:\n",
      "      From worker 2:\t\u001b[91m\u001b[1m│ \u001b[22m\u001b[39m   Stacktrace:\n"
     ]
    },
    {
     "name": "stderr",
     "output_type": "stream",
     "text": [
      "Worker 2 terminated.\n"
     ]
    },
    {
     "name": "stdout",
     "output_type": "stream",
     "text": [
      "      From worker 2:\t\u001b[91m\u001b[1m│ \u001b[22m\u001b[39m    [1] \u001b[0m\u001b[1mserialize_msg\u001b[22m\u001b[0m\u001b[1m(\u001b[22m\u001b[90ms\u001b[39m::\u001b[0mDistributed.ClusterSerializer\u001b[90m{Sockets.TCPSocket}\u001b[39m, \u001b[90mo\u001b[39m::\u001b[0mDistributed.ResultMsg\u001b[0m\u001b[1m)\u001b[22m\n",
      "      From worker 2:\t\u001b[91m\u001b[1m│ \u001b[22m\u001b[39m   \u001b[90m   @\u001b[39m \u001b[35mDistributed\u001b[39m \u001b[90m~/.julia/juliaup/julia-1.9.2+0.aarch64.apple.darwin14/share/julia/stdlib/v1.9/Distributed/src/\u001b[39m\u001b[90m\u001b[4mmessages.jl:78\u001b[24m\u001b[39m\n",
      "      From worker 2:\t\u001b[91m\u001b[1m│ \u001b[22m\u001b[39m    [2] \u001b[0m\u001b[1m#invokelatest#2\u001b[22m\n",
      "      From worker 2:\t\u001b[91m\u001b[1m│ \u001b[22m\u001b[39m   \u001b[90m   @\u001b[39m \u001b[90m./\u001b[39m\u001b[90m\u001b[4messentials.jl:816\u001b[24m\u001b[39m\u001b[90m [inlined]\u001b[39m\n",
      "      From worker 2:\t\u001b[91m\u001b[1m│ \u001b[22m\u001b[39m    [3] \u001b[0m\u001b[1minvokelatest\u001b[22m\n",
      "      From worker 2:\t\u001b[91m\u001b[1m│ \u001b[22m\u001b[39m   \u001b[90m   @\u001b[39m \u001b[90m./\u001b[39m\u001b[90m\u001b[4messentials.jl:813\u001b[24m\u001b[39m\u001b[90m [inlined]\u001b[39m\n",
      "      From worker 2:\t\u001b[91m\u001b[1m│ \u001b[22m\u001b[39m    [4] \u001b[0m\u001b[1msend_msg_\u001b[22m\u001b[0m\u001b[1m(\u001b[22m\u001b[90mw\u001b[39m::\u001b[0mDistributed.Worker, \u001b[90mheader\u001b[39m::\u001b[0mDistributed.MsgHeader, \u001b[90mmsg\u001b[39m::\u001b[0mDistributed.ResultMsg, \u001b[90mnow\u001b[39m::\u001b[0mBool\u001b[0m\u001b[1m)\u001b[22m\n",
      "      From worker 2:\t\u001b[91m\u001b[1m│ \u001b[22m\u001b[39m   \u001b[90m   @\u001b[39m \u001b[35mDistributed\u001b[39m \u001b[90m~/.julia/juliaup/julia-1.9.2+0.aarch64.apple.darwin14/share/julia/stdlib/v1.9/Distributed/src/\u001b[39m\u001b[90m\u001b[4mmessages.jl:181\u001b[24m\u001b[39m\n",
      "      From worker 2:\t\u001b[91m\u001b[1m│ \u001b[22m\u001b[39m    [5] \u001b[0m\u001b[1msend_msg_now\u001b[22m\n",
      "      From worker 2:\t\u001b[91m\u001b[1m│ \u001b[22m\u001b[39m   \u001b[90m   @\u001b[39m \u001b[90m~/.julia/juliaup/julia-1.9.2+0.aarch64.apple.darwin14/share/julia/stdlib/v1.9/Distributed/src/\u001b[39m\u001b[90m\u001b[4mmessages.jl:118\u001b[24m\u001b[39m\u001b[90m [inlined]\u001b[39m\n",
      "      From worker 2:\t\u001b[91m\u001b[1m│ \u001b[22m\u001b[39m    [6] \u001b[0m\u001b[1msend_msg_now\u001b[22m\u001b[0m\u001b[1m(\u001b[22m\u001b[90ms\u001b[39m::\u001b[0mSockets.TCPSocket, \u001b[90mheader\u001b[39m::\u001b[0mDistributed.MsgHeader, \u001b[90mmsg\u001b[39m::\u001b[0mDistributed.ResultMsg\u001b[0m\u001b[1m)\u001b[22m\n",
      "      From worker 2:\t\u001b[91m\u001b[1m│ \u001b[22m\u001b[39m   \u001b[90m   @\u001b[39m \u001b[35mDistributed\u001b[39m \u001b[90m~/.julia/juliaup/julia-1.9.2+0.aarch64.apple.darwin14/share/julia/stdlib/v1.9/Distributed/src/\u001b[39m\u001b[90m\u001b[4mmessages.jl:113\u001b[24m\u001b[39m\n",
      "      From worker 2:\t\u001b[91m\u001b[1m│ \u001b[22m\u001b[39m    [7] \u001b[0m\u001b[1mdeliver_result\u001b[22m\u001b[0m\u001b[1m(\u001b[22m\u001b[90msock\u001b[39m::\u001b[0mSockets.TCPSocket, \u001b[90mmsg\u001b[39m::\u001b[0mSymbol, \u001b[90moid\u001b[39m::\u001b[0mDistributed.RRID, \u001b[90mvalue\u001b[39m::\u001b[0mRemoteException\u001b[0m\u001b[1m)\u001b[22m\n",
      "      From worker 2:\t\u001b[91m\u001b[1m│ \u001b[22m\u001b[39m   \u001b[90m   @\u001b[39m \u001b[35mDistributed\u001b[39m \u001b[90m~/.julia/juliaup/julia-1.9.2+0.aarch64.apple.darwin14/share/julia/stdlib/v1.9/Distributed/src/\u001b[39m\u001b[90m\u001b[4mprocess_messages.jl:102\u001b[24m\u001b[39m\n",
      "      From worker 2:\t\u001b[91m\u001b[1m│ \u001b[22m\u001b[39m    [8] \u001b[0m\u001b[1mmacro expansion\u001b[22m\n",
      "      From worker 2:\t\u001b[91m\u001b[1m│ \u001b[22m\u001b[39m   \u001b[90m   @\u001b[39m \u001b[90m~/.julia/juliaup/julia-1.9.2+0.aarch64.apple.darwin14/share/julia/stdlib/v1.9/Distributed/src/\u001b[39m\u001b[90m\u001b[4mprocess_messages.jl:293\u001b[24m\u001b[39m\u001b[90m [inlined]\u001b[39m\n",
      "      From worker 2:\t\u001b[91m\u001b[1m│ \u001b[22m\u001b[39m    [9] \u001b[0m\u001b[1m(::Distributed.var\"#109#111\"{Distributed.CallMsg{:call_fetch}, Distributed.MsgHeader, Sockets.TCPSocket})\u001b[22m\u001b[0m\u001b[1m(\u001b[22m\u001b[0m\u001b[1m)\u001b[22m\n",
      "      From worker 2:\t\u001b[91m\u001b[1m│ \u001b[22m\u001b[39m   \u001b[90m   @\u001b[39m \u001b[35mDistributed\u001b[39m \u001b[90m./\u001b[39m\u001b[90m\u001b[4mtask.jl:514\u001b[24m\u001b[39m\n",
      "      From worker 2:\t\u001b[91m\u001b[1m└ \u001b[22m\u001b[39m\u001b[90m@ Distributed ~/.julia/juliaup/julia-1.9.2+0.aarch64.apple.darwin14/share/julia/stdlib/v1.9/Distributed/src/process_messages.jl:106\u001b[39m\n"
     ]
    },
    {
     "name": "stderr",
     "output_type": "stream",
     "text": [
      "\u001b[91m\u001b[1mUnhandled Task \u001b[22m\u001b[39m\u001b[91m\u001b[1mERROR: \u001b[22m\u001b[39mEOFError: read end of file\n",
      "Stacktrace:\n",
      " [1] \u001b[0m\u001b[1m(::Base.var\"#wait_locked#715\")\u001b[22m\u001b[0m\u001b[1m(\u001b[22m\u001b[90ms\u001b[39m::\u001b[0mSockets.TCPSocket, \u001b[90mbuf\u001b[39m::\u001b[0mIOBuffer, \u001b[90mnb\u001b[39m::\u001b[0mInt64\u001b[0m\u001b[1m)\u001b[22m\n",
      "\u001b[90m   @\u001b[39m \u001b[90mBase\u001b[39m \u001b[90m./\u001b[39m\u001b[90m\u001b[4mstream.jl:947\u001b[24m\u001b[39m\n",
      " [2] \u001b[0m\u001b[1munsafe_read\u001b[22m\u001b[0m\u001b[1m(\u001b[22m\u001b[90ms\u001b[39m::\u001b[0mSockets.TCPSocket, \u001b[90mp\u001b[39m::\u001b[0mPtr\u001b[90m{UInt8}\u001b[39m, \u001b[90mnb\u001b[39m::\u001b[0mUInt64\u001b[0m\u001b[1m)\u001b[22m\n",
      "\u001b[90m   @\u001b[39m \u001b[90mBase\u001b[39m \u001b[90m./\u001b[39m\u001b[90m\u001b[4mstream.jl:955\u001b[24m\u001b[39m\n",
      " [3] \u001b[0m\u001b[1munsafe_read\u001b[22m\n",
      "\u001b[90m   @\u001b[39m \u001b[90m./\u001b[39m\u001b[90m\u001b[4mio.jl:761\u001b[24m\u001b[39m\u001b[90m [inlined]\u001b[39m\n",
      " [4] \u001b[0m\u001b[1munsafe_read\u001b[22m\u001b[0m\u001b[1m(\u001b[22m\u001b[90ms\u001b[39m::\u001b[0mSockets.TCPSocket, \u001b[90mp\u001b[39m::\u001b[0mBase.RefValue\u001b[90m{NTuple{4, Int64}}\u001b[39m, \u001b[90mn\u001b[39m::\u001b[0mInt64\u001b[0m\u001b[1m)\u001b[22m\n",
      "\u001b[90m   @\u001b[39m \u001b[90mBase\u001b[39m \u001b[90m./\u001b[39m\u001b[90m\u001b[4mio.jl:760\u001b[24m\u001b[39m\n",
      " [5] \u001b[0m\u001b[1mread!\u001b[22m\n",
      "\u001b[90m   @\u001b[39m \u001b[90m./\u001b[39m\u001b[90m\u001b[4mio.jl:762\u001b[24m\u001b[39m\u001b[90m [inlined]\u001b[39m\n",
      " [6] \u001b[0m\u001b[1mdeserialize_hdr_raw\u001b[22m\n",
      "\u001b[90m   @\u001b[39m \u001b[90m~/.julia/juliaup/julia-1.9.2+0.aarch64.apple.darwin14/share/julia/stdlib/v1.9/Distributed/src/\u001b[39m\u001b[90m\u001b[4mmessages.jl:167\u001b[24m\u001b[39m\u001b[90m [inlined]\u001b[39m\n",
      " [7] \u001b[0m\u001b[1mmessage_handler_loop\u001b[22m\u001b[0m\u001b[1m(\u001b[22m\u001b[90mr_stream\u001b[39m::\u001b[0mSockets.TCPSocket, \u001b[90mw_stream\u001b[39m::\u001b[0mSockets.TCPSocket, \u001b[90mincoming\u001b[39m::\u001b[0mBool\u001b[0m\u001b[1m)\u001b[22m\n",
      "\u001b[90m   @\u001b[39m \u001b[36mDistributed\u001b[39m \u001b[90m~/.julia/juliaup/julia-1.9.2+0.aarch64.apple.darwin14/share/julia/stdlib/v1.9/Distributed/src/\u001b[39m\u001b[90m\u001b[4mprocess_messages.jl:172\u001b[24m\u001b[39m\n",
      " [8] \u001b[0m\u001b[1mprocess_tcp_streams\u001b[22m\u001b[0m\u001b[1m(\u001b[22m\u001b[90mr_stream\u001b[39m::\u001b[0mSockets.TCPSocket, \u001b[90mw_stream\u001b[39m::\u001b[0mSockets.TCPSocket, \u001b[90mincoming\u001b[39m::\u001b[0mBool\u001b[0m\u001b[1m)\u001b[22m\n",
      "\u001b[90m   @\u001b[39m \u001b[36mDistributed\u001b[39m \u001b[90m~/.julia/juliaup/julia-1.9.2+0.aarch64.apple.darwin14/share/julia/stdlib/v1.9/Distributed/src/\u001b[39m\u001b[90m\u001b[4mprocess_messages.jl:133\u001b[24m\u001b[39m\n",
      " [9] \u001b[0m\u001b[1m(::Distributed.var\"#103#104\"{Sockets.TCPSocket, Sockets.TCPSocket, Bool})\u001b[22m\u001b[0m\u001b[1m(\u001b[22m\u001b[0m\u001b[1m)\u001b[22m\n",
      "\u001b[90m   @\u001b[39m \u001b[36mDistributed\u001b[39m \u001b[90m./\u001b[39m\u001b[90m\u001b[4mtask.jl:514\u001b[24m\u001b[39m\n"
     ]
    }
   ],
   "source": [
    "find_prime_with_timeout_mp(2:2:100_000_000_000, 0.2)"
   ]
  },
  {
   "cell_type": "code",
   "execution_count": 7,
   "metadata": {},
   "outputs": [],
   "source": [
    "@everywhere function do_work(jobs, results)\n",
    "    while true\n",
    "        job_id = take!(jobs)\n",
    "        exec_time = rand()\n",
    "        sleep(exec_time) # 実際の仕事をする処理時間をシミュレートする。\n",
    "        put!(results, (job_id, exec_time, myid()))\n",
    "    end\n",
    "end"
   ]
  },
  {
   "cell_type": "code",
   "execution_count": 3,
   "metadata": {},
   "outputs": [],
   "source": [
    "@everywhere using LinearAlgebra"
   ]
  },
  {
   "cell_type": "code",
   "execution_count": 5,
   "metadata": {},
   "outputs": [
    {
     "data": {
      "text/plain": [
       "test_sleep (generic function with 1 method)"
      ]
     },
     "execution_count": 5,
     "metadata": {},
     "output_type": "execute_result"
    }
   ],
   "source": [
    "function test_sleep()\n",
    "    @async begin\n",
    "        for i in 1:10\n",
    "            sleep(1)\n",
    "            print(\"#\")\n",
    "        end\n",
    "        return 10\n",
    "    end\n",
    "    sleep(2)\n",
    "    \n",
    "    return 2\n",
    "end"
   ]
  },
  {
   "cell_type": "code",
   "execution_count": 6,
   "metadata": {},
   "outputs": [
    {
     "name": "stdout",
     "output_type": "stream",
     "text": [
      "#"
     ]
    },
    {
     "data": {
      "text/plain": [
       "2"
      ]
     },
     "execution_count": 6,
     "metadata": {},
     "output_type": "execute_result"
    },
    {
     "name": "stdout",
     "output_type": "stream",
     "text": [
      "#########"
     ]
    }
   ],
   "source": [
    "test_sleep()"
   ]
  },
  {
   "cell_type": "code",
   "execution_count": 71,
   "metadata": {},
   "outputs": [
    {
     "data": {
      "text/plain": [
       "sleep6! (generic function with 2 methods)"
      ]
     },
     "execution_count": 71,
     "metadata": {},
     "output_type": "execute_result"
    }
   ],
   "source": [
    "function sleep6!(x::Vector{Int}, sw::Bool)\n",
    "    for it in 1:6\n",
    "        while(sw)\n",
    "            sleep(1)\n",
    "            print(\"#\")\n",
    "            push!(x, it)\n",
    "        end\n",
    "    end\n",
    "end"
   ]
  },
  {
   "cell_type": "code",
   "execution_count": 46,
   "metadata": {},
   "outputs": [],
   "source": [
    "using Distributed"
   ]
  },
  {
   "cell_type": "code",
   "execution_count": 69,
   "metadata": {},
   "outputs": [
    {
     "data": {
      "text/plain": [
       "test (generic function with 1 method)"
      ]
     },
     "execution_count": 69,
     "metadata": {},
     "output_type": "execute_result"
    }
   ],
   "source": [
    "function test()\n",
    "    x::Vector{Int} = []\n",
    "    sw = true\n",
    "    task1 = @task sleep6!(x, sw)\n",
    "    \n",
    "    schedule(task1)\n",
    "    @async begin\n",
    "        yield()\n",
    "    end\n",
    "    sleep(3)\n",
    "    interrupt(workers())\n",
    "    println(x)\n",
    "    sw = false\n",
    "    yield()\n",
    "    return nothing\n",
    "    #interrupt(workers())\n",
    "end"
   ]
  },
  {
   "cell_type": "code",
   "execution_count": 70,
   "metadata": {},
   "outputs": [
    {
     "name": "stdout",
     "output_type": "stream",
     "text": [
      "##[1, 2]\n"
     ]
    },
    {
     "name": "stdout",
     "output_type": "stream",
     "text": [
      "####"
     ]
    }
   ],
   "source": [
    "test()"
   ]
  },
  {
   "cell_type": "code",
   "execution_count": null,
   "metadata": {},
   "outputs": [],
   "source": [
    "function test2()\n",
    "    c = Channel(0)\n",
    "    x::Vector{Int} = []\n",
    "    task1 = @task sleep6!(x)"
   ]
  },
  {
   "cell_type": "code",
   "execution_count": 41,
   "metadata": {},
   "outputs": [
    {
     "data": {
      "text/plain": [
       "make_jobs (generic function with 1 method)"
      ]
     },
     "execution_count": 41,
     "metadata": {},
     "output_type": "execute_result"
    }
   ],
   "source": [
    "function make_jobs(n)\n",
    "    for i in 1:n\n",
    "        put!(jobs, i)\n",
    "    end\n",
    "end"
   ]
  },
  {
   "cell_type": "code",
   "execution_count": 9,
   "metadata": {},
   "outputs": [
    {
     "data": {
      "text/plain": [
       "Task (done) @0x0000000128740c90"
      ]
     },
     "execution_count": 9,
     "metadata": {},
     "output_type": "execute_result"
    }
   ],
   "source": [
    "@async make_jobs(12)"
   ]
  },
  {
   "cell_type": "code",
   "execution_count": 10,
   "metadata": {},
   "outputs": [
    {
     "name": "stdout",
     "output_type": "stream",
     "text": [
      "jobs = RemoteChannel{Channel{Int64}}(1, 1, 22)\n"
     ]
    },
    {
     "data": {
      "text/plain": [
       "RemoteChannel{Channel{Int64}}(1, 1, 22)"
      ]
     },
     "execution_count": 10,
     "metadata": {},
     "output_type": "execute_result"
    }
   ],
   "source": [
    "@show jobs"
   ]
  },
  {
   "cell_type": "code",
   "execution_count": 11,
   "metadata": {},
   "outputs": [],
   "source": [
    "for p in workers() # ワーカー上でタスクを開始して、リクエストを並列に処理する。\n",
    "    remote_do(do_work, p, jobs, results)\n",
    "end"
   ]
  },
  {
   "cell_type": "code",
   "execution_count": 13,
   "metadata": {},
   "outputs": [
    {
     "data": {
      "text/plain": [
       "12"
      ]
     },
     "execution_count": 13,
     "metadata": {},
     "output_type": "execute_result"
    }
   ],
   "source": [
    "n = 12"
   ]
  },
  {
   "cell_type": "code",
   "execution_count": 14,
   "metadata": {},
   "outputs": [
    {
     "name": "stdout",
     "output_type": "stream",
     "text": [
      "3 finished in 0.04 seconds on worker 2\n",
      "4 finished in 0.14 seconds on worker 3\n",
      "2 finished in 0.42 seconds on worker 4\n",
      "1 finished in 0.86 seconds on worker 5\n",
      "6 finished in 0.82 seconds on worker 3\n",
      "5 finished in 0.94 seconds on worker 2\n",
      "8 finished in 0.37 seconds on worker 5\n",
      "7 finished in 0.97 seconds on worker 4\n",
      "11 finished in 0.31 seconds on worker 5\n",
      "10 finished in 0.48 seconds on worker 2\n",
      "9 finished in 0.83 seconds on worker 3\n",
      "12 finished in 0.69 seconds on worker 4\n"
     ]
    },
    {
     "data": {
      "text/plain": [
       "0.044327708"
      ]
     },
     "execution_count": 14,
     "metadata": {},
     "output_type": "execute_result"
    }
   ],
   "source": [
    "@elapsed while n > 0 # 結果を出力する\n",
    "    job_id, exec_time, where = take!(results)\n",
    "    println(\"$job_id finished in $(round(exec_time; digits=2)) seconds on worker $where\")\n",
    "    global n = n - 1\n",
    "end"
   ]
  },
  {
   "cell_type": "code",
   "execution_count": 4,
   "metadata": {},
   "outputs": [],
   "source": [
    "@everywhere function workers_work(N::Int)\n",
    "    M = rand(Float32, N, N)\n",
    "    M = Hermitian(M)\n",
    "    e, v = eigen(M)\n",
    "    return e\n",
    "end"
   ]
  },
  {
   "cell_type": "code",
   "execution_count": null,
   "metadata": {},
   "outputs": [],
   "source": [
    "@everywhere function check_timeout(Int::N, timeout=0.5)\n",
    "    e = zeros(Float32, N)\n",
    "    result = timedwait(timeout) do \n",
    "        e\n",
    "    end"
   ]
  }
 ],
 "metadata": {
  "kernelspec": {
   "display_name": "Julia 1.9.2",
   "language": "julia",
   "name": "julia-1.9"
  },
  "language_info": {
   "file_extension": ".jl",
   "mimetype": "application/julia",
   "name": "julia",
   "version": "1.9.2"
  },
  "orig_nbformat": 4
 },
 "nbformat": 4,
 "nbformat_minor": 2
}
