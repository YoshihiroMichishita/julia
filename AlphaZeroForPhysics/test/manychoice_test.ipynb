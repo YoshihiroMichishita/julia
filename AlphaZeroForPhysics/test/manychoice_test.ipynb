{
 "cells": [
  {
   "cell_type": "code",
   "execution_count": 1,
   "metadata": {},
   "outputs": [
    {
     "data": {
      "text/plain": [
       "score_test (generic function with 1 method)"
      ]
     },
     "metadata": {},
     "output_type": "display_data"
    }
   ],
   "source": [
    "include(\"AZP_env_manychoice.jl\")"
   ]
  },
  {
   "cell_type": "code",
   "execution_count": 2,
   "metadata": {},
   "outputs": [
    {
     "data": {
      "text/plain": [
       "22-element Vector{String}:\n",
       " \"8\"\n",
       " \"120\"\n",
       " \"256\"\n",
       " \"16\"\n",
       " \"1000\"\n",
       " \"96\"\n",
       " \"1\"\n",
       " \"200\"\n",
       " \"0.2\"\n",
       " \"0.5\"\n",
       " ⋮\n",
       " \"0.5\"\n",
       " \"1.0\"\n",
       " \"0.7\"\n",
       " \"0.5\"\n",
       " \"50\"\n",
       " \"0.75\"\n",
       " \"0.000001\"\n",
       " \"10.0\"\n",
       " \"1.0\""
      ]
     },
     "metadata": {},
     "output_type": "display_data"
    }
   ],
   "source": [
    "pars = [\"8\", \"120\", \"256\", \"16\", \"1000\", \"96\", \"1\", \"200\", \"0.2\", \"0.5\", \"100\", \"4\", \"10.0\", \"0.5\", \"1.0\", \"0.7\", \"0.5\", \"50\", \"0.75\", \"0.000001\", \"10.0\", \"1.0\"]"
   ]
  },
  {
   "cell_type": "code",
   "execution_count": 3,
   "metadata": {},
   "outputs": [
    {
     "name": "stdout",
     "output_type": "stream",
     "text": [
      "max_turn:  8\n",
      "num_player:  120\n",
      "middle_dim:  256\n",
      "depth:  16\n",
      "training_step:  1000\n",
      "batch_size:  96\n",
      "batch_num:  1\n",
      "num_simulation:  200\n",
      "α:  0.2\n",
      "frac:  0.5\n",
      "ratio:  10.0\n",
      "ratio_r:  1.0\n"
     ]
    },
    {
     "data": {
      "text/plain": [
       "Env(8, 120, 2, 3, 5, 10, 80, 256, 11, 16, 1000, 200, 96, 1, 1.0f-5, 0.9f0, 200, 0.2f0, 0.5f0, 10.0f0, 1.0f0, 100, 4, 10.0f0, 0.5f0, 1.0f0, 0.7f0, 0.5f0, ComplexF32[-2.0f0 + 0.0f0im 0.0f0 + 0.0f0im 0.0f0 + 0.0f0im -0.7f0 + 0.0f0im; 0.0f0 - 0.0f0im 1.0f0 + 0.0f0im -0.7f0 + 0.0f0im 0.0f0 + 0.0f0im; 0.0f0 - 0.0f0im -0.7f0 - 0.0f0im 1.0f0 + 0.0f0im 0.0f0 + 0.0f0im; -0.7f0 - 0.0f0im 0.0f0 - 0.0f0im 0.0f0 - 0.0f0im 0.0f0 + 0.0f0im], ComplexF32[0.0f0 + 0.0f0im -0.5f0 + 0.0f0im -0.5f0 + 0.0f0im 0.0f0 + 0.0f0im; -0.5f0 - 0.0f0im 0.0f0 + 0.0f0im 0.0f0 + 0.0f0im -0.5f0 + 0.0f0im; -0.5f0 - 0.0f0im 0.0f0 - 0.0f0im 0.0f0 + 0.0f0im -0.5f0 + 0.0f0im; 0.0f0 - 0.0f0im -0.5f0 - 0.0f0im -0.5f0 - 0.0f0im 0.0f0 + 0.0f0im], 0.0062831854f0, 50, 0.75f0, 1.0f-6)"
      ]
     },
     "metadata": {},
     "output_type": "display_data"
    }
   ],
   "source": [
    "env = init_Env(pars)"
   ]
  },
  {
   "cell_type": "code",
   "execution_count": 5,
   "metadata": {},
   "outputs": [
    {
     "data": {
      "text/plain": [
       "8.454742f0"
      ]
     },
     "metadata": {},
     "output_type": "display_data"
    }
   ],
   "source": [
    "hist = [6, 2]\n",
    "calc_score(hist, env)"
   ]
  },
  {
   "cell_type": "code",
   "execution_count": 7,
   "metadata": {},
   "outputs": [
    {
     "data": {
      "text/plain": [
       "10.395253f0"
      ]
     },
     "metadata": {},
     "output_type": "display_data"
    }
   ],
   "source": [
    "hist = [6, 3, 2, 4, 1, 6, 2]\n",
    "calc_score(hist, env)"
   ]
  },
  {
   "cell_type": "code",
   "execution_count": 9,
   "metadata": {},
   "outputs": [
    {
     "data": {
      "text/latex": [
       "$\\left[ \\begin{array}{rrrr}0&- 0.5 \\sin{\\left(x \\right)}&- 0.5 \\sin{\\left(x \\right)}&0\\\\- 0.5 \\sin{\\left(x \\right)}&0&0&- 0.5 \\sin{\\left(x \\right)}\\\\- 0.5 \\sin{\\left(x \\right)}&0&0&- 0.5 \\sin{\\left(x \\right)}\\\\0&- 0.5 \\sin{\\left(x \\right)}&- 0.5 \\sin{\\left(x \\right)}&0\\end{array}\\right]$\n"
      ],
      "text/plain": [
       "4×4 Matrix{Sym}:\n",
       "           0  -0.5⋅sin(x)  -0.5⋅sin(x)            0\n",
       " -0.5⋅sin(x)            0            0  -0.5⋅sin(x)\n",
       " -0.5⋅sin(x)            0            0  -0.5⋅sin(x)\n",
       "           0  -0.5⋅sin(x)  -0.5⋅sin(x)            0"
      ]
     },
     "metadata": {},
     "output_type": "display_data"
    }
   ],
   "source": [
    "Vt = env.V_t*sx"
   ]
  },
  {
   "cell_type": "code",
   "execution_count": 11,
   "metadata": {},
   "outputs": [
    {
     "data": {
      "text/latex": [
       "$\\left[ \\begin{array}{rrrr}0&1.5 i \\cos{\\left(x \\right)}&1.5 i \\cos{\\left(x \\right)}&0\\\\- 1.5 i \\cos{\\left(x \\right)}&0&0&- 0.5 i \\cos{\\left(x \\right)}\\\\- 1.5 i \\cos{\\left(x \\right)}&0&0&- 0.5 i \\cos{\\left(x \\right)}\\\\0&0.5 i \\cos{\\left(x \\right)}&0.5 i \\cos{\\left(x \\right)}&0\\end{array}\\right]$\n"
      ],
      "text/plain": [
       "4×4 Matrix{Sym}:\n",
       "             0  1.5⋅ⅈ⋅cos(x)  1.5⋅ⅈ⋅cos(x)              0\n",
       " -1.5⋅ⅈ⋅cos(x)             0             0  -0.5⋅ⅈ⋅cos(x)\n",
       " -1.5⋅ⅈ⋅cos(x)             0             0  -0.5⋅ⅈ⋅cos(x)\n",
       "             0  0.5⋅ⅈ⋅cos(x)  0.5⋅ⅈ⋅cos(x)              0"
      ]
     },
     "metadata": {},
     "output_type": "display_data"
    }
   ],
   "source": [
    "s4162 = -1.0f0im*(env.H_0 * Vt.integrate(x) - Vt.integrate(x) * env.H_0)"
   ]
  },
  {
   "cell_type": "code",
   "execution_count": 12,
   "metadata": {},
   "outputs": [
    {
     "data": {
      "text/latex": [
       "$\\left[ \\begin{array}{rrrr}0&- 0.5 \\sin{\\left(x \\right)} + 1.5 i \\cos{\\left(x \\right)}&- 0.5 \\sin{\\left(x \\right)} + 1.5 i \\cos{\\left(x \\right)}&0\\\\- 0.5 \\sin{\\left(x \\right)} - 1.5 i \\cos{\\left(x \\right)}&0&0&- 0.5 \\sin{\\left(x \\right)} - 0.5 i \\cos{\\left(x \\right)}\\\\- 0.5 \\sin{\\left(x \\right)} - 1.5 i \\cos{\\left(x \\right)}&0&0&- 0.5 \\sin{\\left(x \\right)} - 0.5 i \\cos{\\left(x \\right)}\\\\0&- 0.5 \\sin{\\left(x \\right)} + 0.5 i \\cos{\\left(x \\right)}&- 0.5 \\sin{\\left(x \\right)} + 0.5 i \\cos{\\left(x \\right)}&0\\end{array}\\right]$\n"
      ],
      "text/plain": [
       "4×4 Matrix{Sym}:\n",
       "                          0  …                           0\n",
       " -0.5⋅sin(x) - 1.5⋅ⅈ⋅cos(x)     -0.5⋅sin(x) - 0.5⋅ⅈ⋅cos(x)\n",
       " -0.5⋅sin(x) - 1.5⋅ⅈ⋅cos(x)     -0.5⋅sin(x) - 0.5⋅ⅈ⋅cos(x)\n",
       "                          0                              0"
      ]
     },
     "metadata": {},
     "output_type": "display_data"
    }
   ],
   "source": [
    "s324162 = Vt + s4162"
   ]
  },
  {
   "cell_type": "code",
   "execution_count": 13,
   "metadata": {},
   "outputs": [
    {
     "data": {
      "text/latex": [
       "$\\left[ \\begin{array}{rrrr}0&1.0 e^{i x} - 0.5 e^{- i x}&1.0 e^{i x} - 0.5 e^{- i x}&0\\\\- 0.5 e^{i x} + 1.0 e^{- i x}&0&0&0.5 e^{- i x}\\\\- 0.5 e^{i x} + 1.0 e^{- i x}&0&0&0.5 e^{- i x}\\\\0&0.5 e^{i x}&0.5 e^{i x}&0\\end{array}\\right]$\n"
      ],
      "text/plain": [
       "4×4 Matrix{Sym}:\n",
       "                             0  …              0\n",
       " -0.5*exp(I*x) + 1.0*exp(-I*x)     0.5*exp(-I*x)\n",
       " -0.5*exp(I*x) + 1.0*exp(-I*x)     0.5*exp(-I*x)\n",
       "                             0                 0"
      ]
     },
     "metadata": {},
     "output_type": "display_data"
    }
   ],
   "source": [
    "s6324162 = s324162.integrate(x)"
   ]
  },
  {
   "cell_type": "code",
   "execution_count": 14,
   "metadata": {},
   "outputs": [
    {
     "ename": "PyCall.PyError",
     "evalue": "PyError ($(Expr(:escape, :(ccall(#= /home/yoshihiro/.julia/packages/PyCall/ilqDX/src/pyfncall.jl:43 =# @pysym(:PyObject_Call), PyPtr, (PyPtr, PyPtr, PyPtr), o, pyargsptr, kw))))) <class 'NotImplementedError'>\nNotImplementedError('Exponentiation is implemented only for matrices for which the Jordan normal form can be computed')\n  File \"/home/yoshihiro/anaconda3/lib/python3.10/site-packages/sympy/matrices/matrices.py\", line 1644, in exp\n    raise NotImplementedError(\n",
     "output_type": "error",
     "traceback": [
      "PyError ($(Expr(:escape, :(ccall(#= /home/yoshihiro/.julia/packages/PyCall/ilqDX/src/pyfncall.jl:43 =# @pysym(:PyObject_Call), PyPtr, (PyPtr, PyPtr, PyPtr), o, pyargsptr, kw))))) <class 'NotImplementedError'>\n",
      "NotImplementedError('Exponentiation is implemented only for matrices for which the Jordan normal form can be computed')\n",
      "  File \"/home/yoshihiro/anaconda3/lib/python3.10/site-packages/sympy/matrices/matrices.py\", line 1644, in exp\n",
      "    raise NotImplementedError(\n",
      "\n",
      "\n",
      "Stacktrace:\n",
      "  [1] pyerr_check\n",
      "    @ ~/.julia/packages/PyCall/ilqDX/src/exception.jl:75 [inlined]\n",
      "  [2] pyerr_check\n",
      "    @ ~/.julia/packages/PyCall/ilqDX/src/exception.jl:79 [inlined]\n",
      "  [3] _handle_error(msg::String)\n",
      "    @ PyCall ~/.julia/packages/PyCall/ilqDX/src/exception.jl:96\n",
      "  [4] macro expansion\n",
      "    @ ~/.julia/packages/PyCall/ilqDX/src/exception.jl:110 [inlined]\n",
      "  [5] #107\n",
      "    @ ~/.julia/packages/PyCall/ilqDX/src/pyfncall.jl:43 [inlined]\n",
      "  [6] disable_sigint\n",
      "    @ ./c.jl:473 [inlined]\n",
      "  [7] __pycall!\n",
      "    @ ~/.julia/packages/PyCall/ilqDX/src/pyfncall.jl:42 [inlined]\n",
      "  [8] _pycall!(ret::PyCall.PyObject, o::PyCall.PyObject, args::Tuple{}, nargs::Int64, kw::Ptr{Nothing})\n",
      "    @ PyCall ~/.julia/packages/PyCall/ilqDX/src/pyfncall.jl:29\n",
      "  [9] _pycall!\n",
      "    @ ~/.julia/packages/PyCall/ilqDX/src/pyfncall.jl:11 [inlined]\n",
      " [10] #_#114\n",
      "    @ ~/.julia/packages/PyCall/ilqDX/src/pyfncall.jl:86 [inlined]\n",
      " [11] (::PyCall.PyObject)()\n",
      "    @ PyCall ~/.julia/packages/PyCall/ilqDX/src/pyfncall.jl:86\n",
      " [12] exp(A::Matrix{Sym})\n",
      "    @ SymPy ~/.julia/packages/SymPy/mpN0u/src/matrix.jl:74\n",
      " [13] top-level scope\n",
      "    @ ~/Documents/Codes/julia/AlphaZeroForPhysics/manychoice_test.ipynb:1"
     ]
    }
   ],
   "source": [
    "s86324162 = exp(s6324162)"
   ]
  },
  {
   "cell_type": "code",
   "execution_count": 8,
   "metadata": {},
   "outputs": [
    {
     "ename": "PyCall.PyError",
     "evalue": "PyError ($(Expr(:escape, :(ccall(#= /home/yoshihiro/.julia/packages/PyCall/ilqDX/src/pyfncall.jl:43 =# @pysym(:PyObject_Call), PyPtr, (PyPtr, PyPtr, PyPtr), o, pyargsptr, kw))))) <class 'NotImplementedError'>\nNotImplementedError('Exponentiation is implemented only for matrices for which the Jordan normal form can be computed')\n  File \"/home/yoshihiro/anaconda3/lib/python3.10/site-packages/sympy/matrices/matrices.py\", line 1644, in exp\n    raise NotImplementedError(\n",
     "output_type": "error",
     "traceback": [
      "PyError ($(Expr(:escape, :(ccall(#= /home/yoshihiro/.julia/packages/PyCall/ilqDX/src/pyfncall.jl:43 =# @pysym(:PyObject_Call), PyPtr, (PyPtr, PyPtr, PyPtr), o, pyargsptr, kw))))) <class 'NotImplementedError'>\n",
      "NotImplementedError('Exponentiation is implemented only for matrices for which the Jordan normal form can be computed')\n",
      "  File \"/home/yoshihiro/anaconda3/lib/python3.10/site-packages/sympy/matrices/matrices.py\", line 1644, in exp\n",
      "    raise NotImplementedError(\n",
      "\n",
      "\n",
      "Stacktrace:\n",
      "  [1] pyerr_check\n",
      "    @ ~/.julia/packages/PyCall/ilqDX/src/exception.jl:75 [inlined]\n",
      "  [2] pyerr_check\n",
      "    @ ~/.julia/packages/PyCall/ilqDX/src/exception.jl:79 [inlined]\n",
      "  [3] _handle_error(msg::String)\n",
      "    @ PyCall ~/.julia/packages/PyCall/ilqDX/src/exception.jl:96\n",
      "  [4] macro expansion\n",
      "    @ ~/.julia/packages/PyCall/ilqDX/src/exception.jl:110 [inlined]\n",
      "  [5] #107\n",
      "    @ ~/.julia/packages/PyCall/ilqDX/src/pyfncall.jl:43 [inlined]\n",
      "  [6] disable_sigint\n",
      "    @ ./c.jl:473 [inlined]\n",
      "  [7] __pycall!\n",
      "    @ ~/.julia/packages/PyCall/ilqDX/src/pyfncall.jl:42 [inlined]\n",
      "  [8] _pycall!(ret::PyCall.PyObject, o::PyCall.PyObject, args::Tuple{}, nargs::Int64, kw::Ptr{Nothing})\n",
      "    @ PyCall ~/.julia/packages/PyCall/ilqDX/src/pyfncall.jl:29\n",
      "  [9] _pycall!\n",
      "    @ ~/.julia/packages/PyCall/ilqDX/src/pyfncall.jl:11 [inlined]\n",
      " [10] #_#114\n",
      "    @ ~/.julia/packages/PyCall/ilqDX/src/pyfncall.jl:86 [inlined]\n",
      " [11] (::PyCall.PyObject)()\n",
      "    @ PyCall ~/.julia/packages/PyCall/ilqDX/src/pyfncall.jl:86\n",
      " [12] exp(A::Matrix{Sym})\n",
      "    @ SymPy ~/.julia/packages/SymPy/mpN0u/src/matrix.jl:74\n",
      " [13] calc_Kt(history::Vector{Int64}, env::Env)\n",
      "    @ Main ~/Documents/Codes/julia/AlphaZeroForPhysics/AZP_env_manychoice.jl:212\n",
      " [14] calc_score(history::Vector{Int64}, env::Env)\n",
      "    @ Main ~/Documents/Codes/julia/AlphaZeroForPhysics/AZP_env_manychoice.jl:310\n",
      " [15] top-level scope\n",
      "    @ ~/Documents/Codes/julia/AlphaZeroForPhysics/manychoice_test.ipynb:2"
     ]
    }
   ],
   "source": [
    "hist = [8, 6, 3, 2, 4, 1, 6, 2]\n",
    "calc_score(hist, env)"
   ]
  },
  {
   "cell_type": "code",
   "execution_count": null,
   "metadata": {},
   "outputs": [],
   "source": []
  }
 ],
 "metadata": {
  "kernelspec": {
   "display_name": "Julia 1.9.3",
   "language": "julia",
   "name": "julia-1.9"
  },
  "language_info": {
   "file_extension": ".jl",
   "mimetype": "application/julia",
   "name": "julia",
   "version": "1.9.3"
  },
  "orig_nbformat": 4
 },
 "nbformat": 4,
 "nbformat_minor": 2
}
