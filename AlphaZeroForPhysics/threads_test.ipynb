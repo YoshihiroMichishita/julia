{
 "cells": [
  {
   "cell_type": "code",
   "execution_count": 1,
   "metadata": {},
   "outputs": [
    {
     "data": {
      "text/plain": [
       "24"
      ]
     },
     "execution_count": 1,
     "metadata": {},
     "output_type": "execute_result"
    }
   ],
   "source": [
    "Threads.nthreads()"
   ]
  },
  {
   "cell_type": "code",
   "execution_count": 2,
   "metadata": {},
   "outputs": [
    {
     "data": {
      "text/plain": [
       "check_RL (generic function with 1 method)"
      ]
     },
     "execution_count": 2,
     "metadata": {},
     "output_type": "execute_result"
    }
   ],
   "source": [
    "include(\"AZP_env.jl\")\n",
    "include(\"AZP_agt.jl\")\n",
    "include(\"AZP_mcts.jl\")"
   ]
  },
  {
   "cell_type": "code",
   "execution_count": 3,
   "metadata": {},
   "outputs": [
    {
     "data": {
      "text/plain": [
       "save_game! (generic function with 1 method)"
      ]
     },
     "execution_count": 3,
     "metadata": {},
     "output_type": "execute_result"
    }
   ],
   "source": [
    "mutable struct ReplayBuffer\n",
    "    @atomic buffer::Vector{Agent}\n",
    "    buffer_size::Int\n",
    "    batch_size::Int\n",
    "    #lk\n",
    "end\n",
    "\n",
    "function init_buffer(buffer_size::Int, batch_size::Int)\n",
    "    #return ReplayBuffer([], buffer_size, batch_size, ReentrantLock())\n",
    "    return ReplayBuffer([], buffer_size, batch_size)\n",
    "end\n",
    "\n",
    "function save_game!(buffer::ReplayBuffer, agt::Agent)\n",
    "    #@lock buffer.lk begin\n",
    "        if length(buffer.buffer) > buffer.buffer_size\n",
    "            popfirst!(buffer.buffer)\n",
    "        end\n",
    "        push!(buffer.buffer, agt)\n",
    "    #end\n",
    "end"
   ]
  },
  {
   "cell_type": "code",
   "execution_count": 4,
   "metadata": {},
   "outputs": [
    {
     "data": {
      "text/plain": [
       "latest_model (generic function with 1 method)"
      ]
     },
     "execution_count": 4,
     "metadata": {},
     "output_type": "execute_result"
    }
   ],
   "source": [
    "mutable struct Storage\n",
    "    storage::Dict{Int, Chain}\n",
    "    random_out::Chain\n",
    "    scores::Dict{Vector{Int}, Float32}\n",
    "end\n",
    "\n",
    "function init_storage(env)\n",
    "    return Storage(Dict(), Chain(Dense(zeros(Float32, env.output,env.input_dim))), Dict())\n",
    "end\n",
    "\n",
    "function latest_model(storage::Storage)\n",
    "    if(isempty(storage.storage))\n",
    "        return storage.random_out\n",
    "    else\n",
    "        return storage.storage[rand(keys(storage.storage))]\n",
    "    end\n",
    "end"
   ]
  },
  {
   "cell_type": "code",
   "execution_count": 5,
   "metadata": {},
   "outputs": [
    {
     "data": {
      "text/plain": [
       "sample_batch! (generic function with 1 method)"
      ]
     },
     "execution_count": 5,
     "metadata": {},
     "output_type": "execute_result"
    }
   ],
   "source": [
    "function sample_batch!(env::Env, buffer::ReplayBuffer, scores::Dict{Vector{Int}, Float32})\n",
    "    games = sample(buffer.buffer, weights([length(agt.history) for agt in buffer.buffer]), buffer.batch_size, replace=true)\n",
    "    g_turn = [(g, rand(1:length(g.history))) for g in games]\n",
    "    imag = zeros(Int, env.input_dim, buffer.batch_size)\n",
    "    target = zeros(Float32, env.output, buffer.batch_size)\n",
    "    println(\"ready!\")\n",
    "    Threads.@threads for it in 1:buffer.batch_size\n",
    "        g, turn = g_turn[it]\n",
    "        imag[:,it] = make_image(env, g, turn)\n",
    "        target[:,it] = make_target(env, g, scores, turn)\n",
    "    end\n",
    "    for it in 1:buffer.batch_size\n",
    "        g, turn = g_turn[it]\n",
    "        if(haskey(scores, g.history))\n",
    "        else\n",
    "            scores[g.history] = target[end,it]\n",
    "        end\n",
    "    end\n",
    "\n",
    "    return imag, target\n",
    "end"
   ]
  },
  {
   "cell_type": "code",
   "execution_count": 6,
   "metadata": {},
   "outputs": [
    {
     "data": {
      "text/plain": [
       "run_selfplay (generic function with 1 method)"
      ]
     },
     "execution_count": 6,
     "metadata": {},
     "output_type": "execute_result"
    }
   ],
   "source": [
    "function run_selfplay(env::Env, buffer::ReplayBuffer, storage::Storage, ratio::Float32)\n",
    "    model = latest_model(storage) |> gpu\n",
    "    synchronize()\n",
    "    Threads.@threads for it in 1:env.num_player\n",
    "        game = play_physics!(env, model, ratio)\n",
    "        @atomic save_game!(buffer, game)\n",
    "    end\n",
    "end"
   ]
  },
  {
   "cell_type": "code",
   "execution_count": 7,
   "metadata": {},
   "outputs": [
    {
     "data": {
      "text/plain": [
       "loss (generic function with 1 method)"
      ]
     },
     "execution_count": 7,
     "metadata": {},
     "output_type": "execute_result"
    }
   ],
   "source": [
    "sqnorm(x) = sum(abs2, x)\n",
    "\n",
    "function loss(image::CuArray{Int, 2}, target::Matrix{Float32}, env::Env, model::Chain)\n",
    "    y1 = cpu(model(image))\n",
    "    return sum([((y1[end,i]-target[end,i])^2 - target[1:end-1,i]' * log.(softmax(y1[1:end-1,i]).+1f-8)) for i in 1:env.batch_size])/env.batch_size\n",
    "end"
   ]
  },
  {
   "cell_type": "code",
   "execution_count": 8,
   "metadata": {},
   "outputs": [
    {
     "data": {
      "text/plain": [
       "tanh2 (generic function with 1 method)"
      ]
     },
     "execution_count": 8,
     "metadata": {},
     "output_type": "execute_result"
    }
   ],
   "source": [
    "tanh10(x) = Float32(10)*tanh(x)\n",
    "tanh2(x) = Float32(2)*tanh(x)"
   ]
  },
  {
   "cell_type": "code",
   "execution_count": 10,
   "metadata": {},
   "outputs": [
    {
     "data": {
      "text/plain": [
       "train_model! (generic function with 1 method)"
      ]
     },
     "execution_count": 10,
     "metadata": {},
     "output_type": "execute_result"
    }
   ],
   "source": [
    "function train_model!(env::Env, buffer::ReplayBuffer, storage::Storage)\n",
    "    for b_num in 1:env.batch_num\n",
    "        if(haskey(storage.storage, b_num))\n",
    "            model = storage.storage[b_num] |> gpu\n",
    "        else\n",
    "            model = Chain(Dense(env.input_dim, env.middle_dim), Tuple(Chain(Parallel(+, Chain(BatchNorm(env.middle_dim), Dense(env.middle_dim, env.middle_dim, relu)),Dense(env.middle_dim, env.middle_dim, relu)), identity) for i in 1:env.depth)..., Flux.flatten, Flux.Parallel(vcat, Chain(Dense(env.middle_dim, env.middle_dim, relu), Dense(env.middle_dim, env.act_ind)), Chain(Dense(env.middle_dim, env.middle_dim, relu), Dense(env.middle_dim, 1, tanh10)))) |> gpu\n",
    "        end\n",
    "        opt = Flux.Optimiser(WeightDecay(env.C), Adam(1f-5))\n",
    "        #ParameterSchedulers.Scheduler(env.scheduler, Momentum())\n",
    "        iv_batch = []\n",
    "        tv_batch = []\n",
    "        bn::Int = 5\n",
    "        for it in 1:bn\n",
    "            image_batch, target_batch = sample_batch!(env, buffer, storage.scores)\n",
    "            push!(iv_batch, image_batch)\n",
    "            push!(tv_batch, target_batch)\n",
    "        end\n",
    "        for it in 1:env.training_step\n",
    "            for s in 1:bn\n",
    "                Flux.train!(loss, Flux.params(model), [(cu(iv_batch[s]), tv_batch[s], env, model, 1.0f0)], opt)\n",
    "            end\n",
    "        end\n",
    "        storage.storage[b_num] = model\n",
    "    end\n",
    "end"
   ]
  },
  {
   "cell_type": "code",
   "execution_count": 11,
   "metadata": {},
   "outputs": [
    {
     "name": "stdout",
     "output_type": "stream",
     "text": [
      "max_turn:  10\n",
      "num_player:  240\n",
      "middle_dim:  128\n",
      "depth:  12\n",
      "training_step:  1200\n",
      "batch_size:  48\n",
      "batch_num:  1\n",
      "num_simulation:  600\n",
      "α:  0.3\n",
      "frac:  0.25\n"
     ]
    },
    {
     "data": {
      "text/plain": [
       "Env(10, 240, 2, 3, 1, 6, 60, 128, 7, 12, 1200, 400, 48, 1, 0.0001f0, 0.9f0, 600, 0.3f0, 0.25f0, 50, 4, 15.0f0, 0.4f0, 1.0f0, 0.7f0, 0.5f0, ComplexF32[-2.0f0 + 0.0f0im 0.0f0 + 0.0f0im 0.0f0 + 0.0f0im -0.7f0 + 0.0f0im; 0.0f0 - 0.0f0im 1.0f0 + 0.0f0im -0.7f0 + 0.0f0im 0.0f0 + 0.0f0im; 0.0f0 - 0.0f0im -0.7f0 - 0.0f0im 1.0f0 + 0.0f0im 0.0f0 + 0.0f0im; -0.7f0 - 0.0f0im 0.0f0 - 0.0f0im 0.0f0 - 0.0f0im 0.0f0 + 0.0f0im], ComplexF32[0.0f0 + 0.0f0im -0.4f0 + 0.0f0im -0.4f0 + 0.0f0im 0.0f0 + 0.0f0im; -0.4f0 - 0.0f0im 0.0f0 + 0.0f0im 0.0f0 + 0.0f0im -0.4f0 + 0.0f0im; -0.4f0 - 0.0f0im 0.0f0 - 0.0f0im 0.0f0 + 0.0f0im -0.4f0 + 0.0f0im; 0.0f0 - 0.0f0im -0.4f0 - 0.0f0im -0.4f0 - 0.0f0im 0.0f0 + 0.0f0im], 0.00837758f0, 120, 1.25f0, 1.0f-5)"
      ]
     },
     "execution_count": 11,
     "metadata": {},
     "output_type": "execute_result"
    }
   ],
   "source": [
    "env0 = init_Env([\"10\", \"240\", \"128\", \"12\", \"1200\", \"48\", \"1\", \"600\", \"0.3\", \"0.25\", \"50\", \"4\", \"15.0\", \"0.4\", \"1.0\", \"0.7\", \"0.5\", \"120\", \"1.25\", \"0.00001\"])"
   ]
  },
  {
   "cell_type": "code",
   "execution_count": 12,
   "metadata": {},
   "outputs": [
    {
     "data": {
      "text/plain": [
       "Storage(Dict{Int64, Chain}(), Chain(Dense(60 => 7)), Dict{Vector{Int64}, Float32}())"
      ]
     },
     "execution_count": 12,
     "metadata": {},
     "output_type": "execute_result"
    }
   ],
   "source": [
    "storage0 = init_storage(env0)"
   ]
  },
  {
   "cell_type": "code",
   "execution_count": 13,
   "metadata": {},
   "outputs": [
    {
     "data": {
      "text/plain": [
       "ReplayBuffer(Agent[], 1000, 48, ReentrantLock(nothing, 0x00000000, 0x00, Base.GenericCondition{Base.Threads.SpinLock}(Base.IntrusiveLinkedList{Task}(nothing, nothing), Base.Threads.SpinLock(0)), (0, 140053156873088, 0)))"
      ]
     },
     "execution_count": 13,
     "metadata": {},
     "output_type": "execute_result"
    }
   ],
   "source": [
    "replay_buffer = init_buffer(1000, env0.batch_size)"
   ]
  },
  {
   "cell_type": "code",
   "execution_count": 14,
   "metadata": {},
   "outputs": [
    {
     "name": "stdout",
     "output_type": "stream",
     "text": [
      " 93.646277 seconds (189.96 M allocations: 12.094 GiB, 3.15% gc time, 169.57% compilation time: <1% of which was recompilation)\n"
     ]
    }
   ],
   "source": [
    "ratio = Float32(8.0)\n",
    "@time run_selfplay(env0, replay_buffer, storage0, ratio)"
   ]
  },
  {
   "cell_type": "code",
   "execution_count": 16,
   "metadata": {},
   "outputs": [
    {
     "name": "stdout",
     "output_type": "stream",
     "text": [
      "generate\n"
     ]
    },
    {
     "data": {
      "text/plain": [
       "5"
      ]
     },
     "execution_count": 16,
     "metadata": {},
     "output_type": "execute_result"
    }
   ],
   "source": [
    "if(haskey(storage0.storage, 1))\n",
    "    model = storage0.storage[1] |> gpu\n",
    "else\n",
    "    println(\"generate\")\n",
    "    model = Chain(Dense(env0.input_dim, env0.middle_dim), Tuple(Chain(Parallel(+, Chain(BatchNorm(env0.middle_dim), Dense(env0.middle_dim, env0.middle_dim, relu)),Dense(env0.middle_dim, env0.middle_dim, relu)), identity) for i in 1:env0.depth)..., Flux.flatten, Flux.Parallel(vcat, Chain(Dense(env0.middle_dim, env0.middle_dim, relu), Dense(env0.middle_dim, env0.act_ind)), Chain(Dense(env0.middle_dim, env0.middle_dim, relu), Dense(env0.middle_dim, 1, tanh10)))) |> gpu\n",
    "end\n",
    "opt = Flux.Optimiser(WeightDecay(env0.C), Adam(1f-5))\n",
    "#ParameterSchedulers.Scheduler(env.scheduler, Momentum())\n",
    "iv_batch = []\n",
    "tv_batch = []\n",
    "bn = 5"
   ]
  },
  {
   "cell_type": "code",
   "execution_count": 17,
   "metadata": {},
   "outputs": [
    {
     "ename": "",
     "evalue": "",
     "output_type": "error",
     "traceback": [
      "\u001b[1;31mCannot execute code, session has been disposed. Please try restarting the Kernel."
     ]
    },
    {
     "ename": "",
     "evalue": "",
     "output_type": "error",
     "traceback": [
      "\u001b[1;31mThe Kernel crashed while executing code in the the current cell or a previous cell. Please review the code in the cell(s) to identify a possible cause of the failure. Click <a href='https://aka.ms/vscodeJupyterKernelCrash'>here</a> for more info. View Jupyter <a href='command:jupyter.viewOutput'>log</a> for further details."
     ]
    }
   ],
   "source": [
    "\n",
    "image_batch, target_batch = sample_batch!(env0, replay_buffer, storage0.scores)\n",
    "#push!(iv_batch, image_batch)\n",
    "#push!(tv_batch, target_batch)"
   ]
  },
  {
   "cell_type": "code",
   "execution_count": 25,
   "metadata": {},
   "outputs": [
    {
     "ename": "",
     "evalue": "",
     "output_type": "error",
     "traceback": [
      "\u001b[1;31mCannot execute code, session has been disposed. Please try restarting the Kernel."
     ]
    },
    {
     "ename": "",
     "evalue": "",
     "output_type": "error",
     "traceback": [
      "\u001b[1;31mThe Kernel crashed while executing code in the the current cell or a previous cell. Please review the code in the cell(s) to identify a possible cause of the failure. Click <a href='https://aka.ms/vscodeJupyterKernelCrash'>here</a> for more info. View Jupyter <a href='command:jupyter.viewOutput'>log</a> for further details."
     ]
    }
   ],
   "source": [
    "@time train_model!(env0, replay_buffer, storage0)"
   ]
  },
  {
   "cell_type": "code",
   "execution_count": null,
   "metadata": {},
   "outputs": [],
   "source": [
    "function AlphaZero_ForPhysics(env::Env, storage::Storage)\n",
    "\n",
    "    for it in 1:12\n",
    "        println(\"=============\")\n",
    "        println(\"it=$(it);\")\n",
    "\n",
    "        replay_buffer = init_buffer(1000, env.batch_size)\n",
    "        ratio = Float32(10.0)\n",
    "        if(it<5)\n",
    "            @time run_selfplay(env, replay_buffer, storage, ratio)\n",
    "            @time train_model!(env, replay_buffer, storage, ratio)\n",
    "        else\n",
    "            run_selfplay(env, replay_buffer, storage, ratio)\n",
    "            train_model!(env, replay_buffer, storage, ratio)\n",
    "        end\n",
    "        #@report_call run_selfplay(env, replay_buffer, storage)\n",
    "        #ll = @report_call train_model!(env, replay_buffer, storage)\n",
    "        println(\"loss_average: $(ll)\")\n",
    "        push!(ld,ll)\n",
    "        println(\"store data\")\n",
    "        println(length(storage.scores))\n",
    "        if(it%3==0)\n",
    "            for bb in 1:env.batch_num\n",
    "                model0 = storage.storage[bb] |> gpu\n",
    "                println(\"------------\")\n",
    "                println(\"head = $(bb);\")\n",
    "                for tes in 1:3\n",
    "                    game = play_physics!(env, model0)\n",
    "                    score = calc_score(game.history, env)\n",
    "                    println(\"$(game.history), score:$(score)\")\n",
    "                end\n",
    "            end\n",
    "        end\n",
    "    end\n",
    "    \n",
    "    return ld, latest_model(storage)\n",
    "end"
   ]
  }
 ],
 "metadata": {
  "kernelspec": {
   "display_name": "Julia (24 threads) 1.9.2",
   "language": "julia",
   "name": "julia-_24-threads_-1.9"
  },
  "language_info": {
   "file_extension": ".jl",
   "mimetype": "application/julia",
   "name": "julia",
   "version": "1.9.2"
  },
  "orig_nbformat": 4
 },
 "nbformat": 4,
 "nbformat_minor": 2
}
