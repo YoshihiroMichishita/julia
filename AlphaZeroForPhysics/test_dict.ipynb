{
 "cells": [
  {
   "cell_type": "code",
   "execution_count": 1,
   "metadata": {},
   "outputs": [
    {
     "data": {
      "text/plain": [
       "4-element Vector{Int64}:\n",
       " 2\n",
       " 3\n",
       " 4\n",
       " 5"
      ]
     },
     "metadata": {},
     "output_type": "display_data"
    }
   ],
   "source": [
    "using Distributed\n",
    "using Dates\n",
    "using SharedArrays\n",
    "#using JET\n",
    "addprocs(4)"
   ]
  },
  {
   "cell_type": "code",
   "execution_count": 2,
   "metadata": {},
   "outputs": [],
   "source": [
    "@everywhere include(\"AZP_env.jl\")\n",
    "@everywhere include(\"AZP_agt.jl\")\n",
    "@everywhere include(\"AZP_mcts_valMAX.jl\")"
   ]
  },
  {
   "cell_type": "code",
   "execution_count": 3,
   "metadata": {},
   "outputs": [
    {
     "data": {
      "text/plain": [
       "save_game! (generic function with 1 method)"
      ]
     },
     "metadata": {},
     "output_type": "display_data"
    }
   ],
   "source": [
    "mutable struct ReplayBuffer\n",
    "    buffer::Vector{Agent}\n",
    "    buffer_size::Int\n",
    "    batch_size::Int\n",
    "    #count::Int\n",
    "end\n",
    "\n",
    "function init_buffer(buffer_size::Int, batch_size::Int)\n",
    "    return ReplayBuffer([], buffer_size, batch_size)\n",
    "end\n",
    "\n",
    "function save_game!(buffer::ReplayBuffer, agt::Agent)\n",
    "    if length(buffer.buffer) > buffer.buffer_size\n",
    "        popfirst!(buffer.buffer)\n",
    "    end\n",
    "    push!(buffer.buffer, agt)\n",
    "end"
   ]
  },
  {
   "cell_type": "code",
   "execution_count": 4,
   "metadata": {},
   "outputs": [
    {
     "data": {
      "text/plain": [
       "latest_model (generic function with 1 method)"
      ]
     },
     "metadata": {},
     "output_type": "display_data"
    }
   ],
   "source": [
    "mutable struct Storage\n",
    "    storage::Dict{Int, Chain}\n",
    "    random_out::Chain\n",
    "    scores::Dict{Vector{Int}, Float32}\n",
    "end\n",
    "\n",
    "function init_storage(env)\n",
    "    return Storage(Dict(), Chain(Dense(zeros(Float32, env.output,env.input_dim))), Dict())\n",
    "end\n",
    "\n",
    "function latest_model(storage::Storage)\n",
    "    if(isempty(storage.storage))\n",
    "        return storage.random_out\n",
    "    else\n",
    "        return storage.storage[rand(keys(storage.storage))]\n",
    "    end\n",
    "end"
   ]
  },
  {
   "cell_type": "code",
   "execution_count": 5,
   "metadata": {},
   "outputs": [
    {
     "data": {
      "text/plain": [
       "sample_batch! (generic function with 1 method)"
      ]
     },
     "metadata": {},
     "output_type": "display_data"
    }
   ],
   "source": [
    "function WeightSample(hist::Vector{Int})\n",
    "    s = [i for i in 1:length(hist)]\n",
    "    ww = s/sum(s)\n",
    "    return sample(s, ProbabilityWeights(ww))\n",
    "end\n",
    "\n",
    "#cpu並列化予定\n",
    "function sample_batch!(env::Env, buffer::ReplayBuffer, scores::Dict{Vector{Int}, Float32})\n",
    "    games = sample(buffer.buffer, weights([length(agt.history) for agt in buffer.buffer]), env.batch_size, replace=true)\n",
    "    g_turn = [(g, WeightSample(g.history)) for g in games]\n",
    "    #g_turn = [(g, rand(1:length(g.history))) for g in games]\n",
    "\n",
    "    #imag = SharedArray(zeros(Int, env.input_dim, buffer.batch_size))\n",
    "    #target = SharedArray(zeros(Float32, env.output, buffer.batch_size))\n",
    "    if(isempty(scores))\n",
    "        imag = SharedArray(zeros(Int, env.input_dim, env.batch_size))\n",
    "        target = SharedArray(zeros(Float32, env.output, env.batch_size))\n",
    "        @sync @distributed for it in 1:env.batch_size\n",
    "            g, turn = g_turn[it]\n",
    "            imag[:,it] = make_image(env, g, turn)\n",
    "            target[:,it] = make_target(env, g, scores, turn)\n",
    "        end\n",
    "    else\n",
    "        imag = SharedArray(zeros(Int, env.input_dim, 4env.batch_size))\n",
    "        target = SharedArray(zeros(Float32, env.output, 4env.batch_size))\n",
    "        @sync @distributed for it in 1:env.batch_size\n",
    "            println(length(scores))\n",
    "            g, turn = g_turn[it]\n",
    "            imag[:,it] = make_image(env, g, turn)\n",
    "            target[:,it] = make_target(env, g, scores, turn)\n",
    "        end\n",
    "        @sync @distributed for it in 1:3env.batch_size\n",
    "            hist = rand(keys(scores))\n",
    "            imag[:,env.batch_size+it] = make_image(env, hist)\n",
    "            target[end,env.batch_size+it] = scores[hist]\n",
    "        end\n",
    "    end\n",
    "\n",
    "    tar_data = sdata(target)\n",
    "    for it in 1:env.batch_size\n",
    "        g, turn = g_turn[it]\n",
    "        for l in 1:length(g.history)\n",
    "            his = g.history[1:l]\n",
    "            if(haskey(scores, his))\n",
    "                scores[his] = max(scores[his], tar_data[end,it])\n",
    "            else\n",
    "                scores[his] = tar_data[end,it]\n",
    "            end\n",
    "        end\n",
    "    end\n",
    "    return sdata(imag), tar_data\n",
    "end"
   ]
  },
  {
   "cell_type": "code",
   "execution_count": 6,
   "metadata": {},
   "outputs": [
    {
     "data": {
      "text/plain": [
       "run_selfplay_pal (generic function with 1 method)"
      ]
     },
     "metadata": {},
     "output_type": "display_data"
    }
   ],
   "source": [
    "@everywhere function run_selfplay_worker(env::Env, model::Chain, ratio::Float32, noise_r::Float32)\n",
    "    games = Agent[]\n",
    "    for it in 1:div(env.num_player, nworkers())\n",
    "        game = play_physics!(env, model, ratio, noise_r)\n",
    "        push!(games, game)\n",
    "    end\n",
    "    return games\n",
    "end\n",
    "\n",
    "function run_selfplay_pal(env::Env, buffer::ReplayBuffer, storage::Storage, ratio::Float32, noise_r::Float32)\n",
    "    model = latest_model(storage) |> gpu\n",
    "    futures = Future[]\n",
    "    for i in workers()\n",
    "        push!(futures, remotecall(run_selfplay_worker, i, env, model, ratio, noise_r))\n",
    "    end\n",
    "    for f in futures\n",
    "        games = fetch(f)\n",
    "        for g in games\n",
    "            save_game!(buffer, g)\n",
    "        end\n",
    "    end\n",
    "end"
   ]
  },
  {
   "cell_type": "code",
   "execution_count": 7,
   "metadata": {},
   "outputs": [
    {
     "data": {
      "text/plain": [
       "train_model! (generic function with 1 method)"
      ]
     },
     "metadata": {},
     "output_type": "display_data"
    }
   ],
   "source": [
    "function loss(image::CuArray{Int, 2}, target::Matrix{Float32}, env::Env, model::Chain)\n",
    "    y1 = cpu(model(image))\n",
    "    return sum([(((y1[end,i]-target[end,i]))^2 - target[1:end-1,i]' * log.(softmax(y1[1:end-1,i]))) for i in 1:env.batch_size])/env.batch_size\n",
    "    # + env.C * sum(sqnorm, Flux.params(model))\n",
    "end\n",
    "\n",
    "function loss_check(image::CuArray{Int, 2}, target::Matrix{Float32}, env::Env, model::Chain)\n",
    "    y1 = cpu(model(image))\n",
    "    val = sum([(((y1[end,i]-target[end,i]))^2) for i in 1:env.batch_size])/env.batch_size\n",
    "    pol = sum([(-target[1:end-1,i]' * log.(softmax(y1[1:end-1,i]))) for i in 1:env.batch_size])/env.batch_size\n",
    "    return val, pol\n",
    "    # + env.C * sum(sqnorm, Flux.params(model))\n",
    "end\n",
    "\n",
    "@everywhere tanh10(x) = Float32(10)*tanh(x/10)\n",
    "@everywhere tanh2(x) = Float32(4)*tanh(x/4)\n",
    "\n",
    "#gpu並列化予定\n",
    "function train_model!(env::Env, buffer::ReplayBuffer, storage::Storage)\n",
    "    #ll = zeros(Float32, env.batch_num)\n",
    "    ll = zeros(Float32, env.batch_num, env.training_step)\n",
    "    for b_num in 1:env.batch_num\n",
    "        if(haskey(storage.storage, b_num))\n",
    "            model = storage.storage[b_num] |> gpu\n",
    "        else\n",
    "            #model = Chain(Dense(env.input_dim, env.middle_dim), Tuple(Chain(Parallel(+, Chain(BatchNorm(env.middle_dim), Dense(env.middle_dim, env.middle_dim, relu)),Dense(env.middle_dim, env.middle_dim, relu)), identity) for i in 1:env.depth)..., Flux.flatten, Flux.Parallel(vcat, Chain(Dense(env.middle_dim, div(env.middle_dim,4), relu), Dense(div(env.middle_dim,4), env.act_ind, tanh2)), Chain(Dense(env.middle_dim, div(env.middle_dim,4), relu), Dense(div(env.middle_dim,4), 1, tanh10)))) |> gpu\n",
    "            model = Chain(Dense(env.input_dim, env.middle_dim), BatchNorm(env.middle_dim), Tuple(Chain(Parallel(+, Chain(BatchNorm(env.middle_dim), Dense(env.middle_dim, env.middle_dim, relu),Dense(env.middle_dim, env.middle_dim, relu)), identity)) for i in 1:env.depth)..., Flux.flatten, Flux.Parallel(vcat, Chain(BatchNorm(env.middle_dim), Dense(env.middle_dim, env.middle_dim, relu),Dense(env.middle_dim, env.middle_dim, relu), Dense(env.middle_dim, env.act_ind, tanh2)), Chain(BatchNorm(env.middle_dim), Dense(env.middle_dim, div(env.middle_dim,2), relu), Dense(div(env.middle_dim,2), 1, tanh10)))) |> gpu\n",
    "            #model = Chain(Dense(env.input_dim, env.middle_dim), Tuple(Chain(Parallel(+, Chain(BatchNorm(env.middle_dim), Dense(env.middle_dim, env.middle_dim, relu)),Dense(env.middle_dim, env.middle_dim, relu)), identity) for i in 1:env.depth)..., Flux.flatten, Flux.Parallel(vcat, Chain(Dense(env.middle_dim, env.middle_dim, relu), Dense(env.middle_dim, env.act_ind, tanh2)), Chain(Dense(env.middle_dim, env.middle_dim, relu), Dense(env.middle_dim, 1, tanh10)))) |> gpu\n",
    "        end\n",
    "        opt = Flux.Optimiser(WeightDecay(env.C), Adam(1f-5))\n",
    "        #ParameterSchedulers.Scheduler(env.scheduler, Momentum())\n",
    "        for it in 1:env.training_step\n",
    "            if(it%(env.checkpoint_interval)==0)\n",
    "                opt = Flux.Optimiser(WeightDecay(env.C), Adam(1f-5))\n",
    "            end\n",
    "            image_batch, target_batch = sample_batch!(env, buffer, storage.scores)\n",
    "            val, grads = Flux.withgradient(Flux.params(model)) do\n",
    "                loss(cu(image_batch),target_batch,env,model)\n",
    "            end\n",
    "            Flux.Optimise.update!(opt, Flux.params(model), grads)\n",
    "            ll[b_num, it] = val\n",
    "            if(it > env.training_step-6)\n",
    "                val, pol = loss_check(cu(image_batch),target_batch,env,model)\n",
    "                println(\"val=$(val), pol=$(pol)\")\n",
    "            end\n",
    "        end\n",
    "        storage.storage[b_num] = model\n",
    "    end\n",
    "    return ll\n",
    "end"
   ]
  },
  {
   "cell_type": "code",
   "execution_count": 8,
   "metadata": {},
   "outputs": [
    {
     "data": {
      "text/plain": [
       "dict_copy (generic function with 1 method)"
      ]
     },
     "metadata": {},
     "output_type": "display_data"
    }
   ],
   "source": [
    "function dict_copy(orig::Dict{Vector{Int}, Float32})\n",
    "    c_dict = Dict{String, Float32}()\n",
    "    for k in keys(orig)\n",
    "        c_dict[\"$(k)\"] = orig[k] \n",
    "    end\n",
    "    return c_dict\n",
    "end"
   ]
  },
  {
   "cell_type": "code",
   "execution_count": 9,
   "metadata": {},
   "outputs": [
    {
     "name": "stdout",
     "output_type": "stream",
     "text": [
      "max_turn:  8\n",
      "num_player:  12\n",
      "middle_dim:  128\n",
      "depth:  12\n",
      "training_step:  1000\n",
      "batch_size:  12\n",
      "batch_num:  1\n",
      "num_simulation:  600\n",
      "α:  0.3\n",
      "frac:  0.25\n"
     ]
    },
    {
     "data": {
      "text/plain": [
       "Env(8, 12, 2, 3, 1, 6, 48, 128, 7, 12, 1000, 1000, 12, 1, 0.0001f0, 0.9f0, 600, 0.3f0, 0.25f0, 50, 4, 15.0f0, 0.4f0, 1.0f0, 0.7f0, 0.5f0, ComplexF32[-2.0f0 + 0.0f0im 0.0f0 + 0.0f0im 0.0f0 + 0.0f0im -0.7f0 + 0.0f0im; 0.0f0 - 0.0f0im 1.0f0 + 0.0f0im -0.7f0 + 0.0f0im 0.0f0 + 0.0f0im; 0.0f0 - 0.0f0im -0.7f0 - 0.0f0im 1.0f0 + 0.0f0im 0.0f0 + 0.0f0im; -0.7f0 - 0.0f0im 0.0f0 - 0.0f0im 0.0f0 - 0.0f0im 0.0f0 + 0.0f0im], ComplexF32[0.0f0 + 0.0f0im -0.4f0 + 0.0f0im -0.4f0 + 0.0f0im 0.0f0 + 0.0f0im; -0.4f0 - 0.0f0im 0.0f0 + 0.0f0im 0.0f0 + 0.0f0im -0.4f0 + 0.0f0im; -0.4f0 - 0.0f0im 0.0f0 - 0.0f0im 0.0f0 + 0.0f0im -0.4f0 + 0.0f0im; 0.0f0 - 0.0f0im -0.4f0 - 0.0f0im -0.4f0 - 0.0f0im 0.0f0 + 0.0f0im], 0.00837758f0, 120, 0.75f0, 1.0f-6)"
      ]
     },
     "metadata": {},
     "output_type": "display_data"
    }
   ],
   "source": [
    "env0 = init_Env([\"8\", \"12\", \"128\", \"12\", \"1000\", \"12\", \"1\", \"600\", \"0.3\", \"0.25\", \"50\", \"4\", \"15.0\", \"0.4\", \"1.0\", \"0.7\", \"0.5\", \"120\", \"0.75\", \"0.000001\"])"
   ]
  },
  {
   "cell_type": "code",
   "execution_count": 10,
   "metadata": {},
   "outputs": [
    {
     "data": {
      "text/plain": [
       "Storage(Dict{Int64, Chain}(), Chain(Dense(48 => 7)), Dict{Vector{Int64}, Float32}())"
      ]
     },
     "metadata": {},
     "output_type": "display_data"
    }
   ],
   "source": [
    "storage0 = init_storage(env0)"
   ]
  },
  {
   "cell_type": "code",
   "execution_count": 11,
   "metadata": {},
   "outputs": [
    {
     "data": {
      "text/plain": [
       "ReplayBuffer(Agent[], 1000, 12)"
      ]
     },
     "metadata": {},
     "output_type": "display_data"
    }
   ],
   "source": [
    "replay_buffer0 = init_buffer(1000, env0.batch_size)"
   ]
  },
  {
   "cell_type": "code",
   "execution_count": 12,
   "metadata": {},
   "outputs": [
    {
     "data": {
      "text/plain": [
       "5.0f0"
      ]
     },
     "metadata": {},
     "output_type": "display_data"
    }
   ],
   "source": [
    "ratio = Float32(5.0)"
   ]
  },
  {
   "cell_type": "code",
   "execution_count": 13,
   "metadata": {},
   "outputs": [],
   "source": [
    "run_selfplay_pal(env0, replay_buffer0, storage0, ratio, 1.0f0)"
   ]
  },
  {
   "cell_type": "code",
   "execution_count": null,
   "metadata": {},
   "outputs": [],
   "source": [
    "train_model!(env0, replay_buffer0, storage0)"
   ]
  },
  {
   "cell_type": "code",
   "execution_count": 49,
   "metadata": {},
   "outputs": [
    {
     "name": "stdout",
     "output_type": "stream",
     "text": [
      "storage0.scores = Dict{Vector{Int64}, Float32}([5, 4, 6, 3, 2, 2, 2, 2] => 4.636553, [6, 3, 5, 2, 3, 1] => 7.867267, [5, 1, 5, 1] => 4.636553, [6, 5, 3, 5, 1, 2] => 7.867267, [6, 3, 5, 2, 3] => 7.867267, [6, 5, 3, 5, 1, 2, 1] => 7.867267, [6, 3] => 7.867267, [5, 4, 6] => 4.636553, [6, 5, 3] => 7.867267, [6, 5, 3, 5, 1, 2, 1, 2] => 7.867267, [6, 3, 5, 2] => 7.867267, [5, 4] => 4.636553, [6, 3, 6, 2] => 7.867267, [6, 3, 5, 2, 3, 1, 2, 1] => 7.867267, [6, 3, 5] => 7.867267, [5, 4, 6, 3] => 4.636553, [5, 4, 6, 3, 2, 2] => 4.636553, [2] => -0.8215542, [6, 3, 6, 2, 6] => 7.867267, [6, 3, 6, 2, 6, 4] => 7.867267, [5, 1, 5] => 4.636553, [6, 2] => 7.867267, [6, 5, 3, 5, 1] => 7.867267, [5] => 4.636553, [6, 3, 6] => 7.867267, [6, 5] => 7.867267, [5, 1] => 4.636553, [5, 4, 6, 3, 2, 2, 2] => 4.636553, [5, 4, 6, 3, 2] => 4.636553, [6, 3, 6, 2, 6, 4, 1] => 7.867267, [6, 3, 5, 2, 3, 1, 2] => 7.867267, [1] => 4.6365533, [6] => 7.867267, [6, 3, 6, 2, 6, 4, 1, 2] => 7.867267, [6, 5, 3, 5] => 7.867267, [5, 1, 5, 1, 5, 2, 2] => 4.636553, [5, 1, 5, 1, 5] => 4.636553, [5, 1, 5, 1, 5, 2] => 4.636553)\n"
     ]
    },
    {
     "data": {
      "text/plain": [
       "Dict{Vector{Int64}, Float32} with 38 entries:\n",
       "  [5, 4, 6, 3, 2, 2, 2, 2] => 4.63655\n",
       "  [6, 3, 5, 2, 3, 1]       => 7.86727\n",
       "  [5, 1, 5, 1]             => 4.63655\n",
       "  [6, 5, 3, 5, 1, 2]       => 7.86727\n",
       "  [6, 3, 5, 2, 3]          => 7.86727\n",
       "  [6, 5, 3, 5, 1, 2, 1]    => 7.86727\n",
       "  [6, 3]                   => 7.86727\n",
       "  [5, 4, 6]                => 4.63655\n",
       "  [6, 5, 3]                => 7.86727\n",
       "  [6, 5, 3, 5, 1, 2, 1, 2] => 7.86727\n",
       "  [6, 3, 5, 2]             => 7.86727\n",
       "  [5, 4]                   => 4.63655\n",
       "  [6, 3, 6, 2]             => 7.86727\n",
       "  [6, 3, 5, 2, 3, 1, 2, 1] => 7.86727\n",
       "  [6, 3, 5]                => 7.86727\n",
       "  [5, 4, 6, 3]             => 4.63655\n",
       "  [5, 4, 6, 3, 2, 2]       => 4.63655\n",
       "  [2]                      => -0.821554\n",
       "  [6, 3, 6, 2, 6]          => 7.86727\n",
       "  ⋮                        => ⋮"
      ]
     },
     "metadata": {},
     "output_type": "display_data"
    }
   ],
   "source": [
    "@show storage0.scores"
   ]
  },
  {
   "cell_type": "code",
   "execution_count": 22,
   "metadata": {},
   "outputs": [
    {
     "data": {
      "text/plain": [
       "(4.636553f0, \"[5, 4, 6, 3, 2, 2, 2]\")"
      ]
     },
     "metadata": {},
     "output_type": "display_data"
    }
   ],
   "source": [
    "findmax(string_score)"
   ]
  },
  {
   "cell_type": "code",
   "execution_count": 41,
   "metadata": {},
   "outputs": [
    {
     "name": "stdout",
     "output_type": "stream",
     "text": [
      "max score:\n",
      "[5, 4, 6, 3, 2, 2, 2], 4.636553\n",
      "[5, 4], 4.636553\n",
      "[5, 4, 6, 3], 4.636553\n",
      "[5, 4, 6, 3, 2, 2], 4.636553\n",
      "[5, 4, 6, 3, 2], 4.636553\n",
      "[5], 4.636553\n",
      "[5, 4, 6], 4.636553\n",
      "[5, 4, 6, 3, 2, 2, 2, 2], 4.636553\n"
     ]
    }
   ],
   "source": [
    "string_score = dict_copy(storage0.scores)\n",
    "k = [keys(string_score)...]\n",
    "inds = findall(s -> string_score[s] == findmax(string_score)[1], k)\n",
    "println(\"max score:\")\n",
    "for i in inds\n",
    "    println(\"$(k[i]), $(string_score[k[i]])\")\n",
    "end"
   ]
  },
  {
   "cell_type": "code",
   "execution_count": 50,
   "metadata": {},
   "outputs": [
    {
     "data": {
      "text/plain": [
       "-1.0543102f0"
      ]
     },
     "metadata": {},
     "output_type": "display_data"
    }
   ],
   "source": [
    "calc_score([6, 5, 3, 5, 1, 2, 1, 2],env0)"
   ]
  },
  {
   "cell_type": "code",
   "execution_count": 57,
   "metadata": {},
   "outputs": [
    {
     "data": {
      "text/plain": [
       "7.867267f0"
      ]
     },
     "metadata": {},
     "output_type": "display_data"
    }
   ],
   "source": [
    "calc_score_his([6, 5, 3, 5, 1, 2, 1, 2],env0, storage0.scores, 8)"
   ]
  },
  {
   "cell_type": "code",
   "execution_count": 51,
   "metadata": {},
   "outputs": [
    {
     "data": {
      "text/plain": [
       "1-element Vector{Tuple{Agent, Int64}}:\n",
       " (Agent([5, 1, 5, 1, 5, 2, 2], Int64[], Vector{Float32}[[0.18, 0.125, 0.14333333, 0.14666666, 0.27833334, 0.12666667], [0.255, 0.18833333, 0.23333333, 0.15, 0.0, 0.17333333], [0.125, 0.125, 0.135, 0.125, 0.36333334, 0.12666667], [0.395, 0.15, 0.15333334, 0.15, 0.0, 0.15166667], [0.21666667, 0.13833334, 0.125, 0.12833333, 0.255, 0.13666667], [0.455, 0.545, 0.0, 0.0, 0.0, 0.0], [0.47, 0.53, 0.0, 0.0, 0.0, 0.0]]), 1)"
      ]
     },
     "metadata": {},
     "output_type": "display_data"
    }
   ],
   "source": [
    "games = sample(replay_buffer0.buffer, weights([length(agt.history) for agt in replay_buffer0.buffer]), 1, replace=true)\n",
    "g_turn = [(g, WeightSample(g.history)) for g in games]"
   ]
  },
  {
   "cell_type": "code",
   "execution_count": 52,
   "metadata": {},
   "outputs": [
    {
     "data": {
      "text/plain": [
       "7-element Vector{Float32}:\n",
       "  0.18\n",
       "  0.125\n",
       "  0.14333333\n",
       "  0.14666666\n",
       "  0.27833334\n",
       "  0.12666667\n",
       " -3.7118094"
      ]
     },
     "metadata": {},
     "output_type": "display_data"
    }
   ],
   "source": [
    "g_test, turn_test = g_turn[1]\n",
    "imag = make_image(env0, g_test, turn_test)\n",
    "target = make_target(env0, g_test, turn_test)"
   ]
  },
  {
   "cell_type": "code",
   "execution_count": 55,
   "metadata": {},
   "outputs": [
    {
     "data": {
      "text/plain": [
       "1"
      ]
     },
     "metadata": {},
     "output_type": "display_data"
    }
   ],
   "source": [
    "turn_test"
   ]
  },
  {
   "cell_type": "code",
   "execution_count": 54,
   "metadata": {},
   "outputs": [
    {
     "name": "stdout",
     "output_type": "stream",
     "text": [
      "true\n",
      "4.636553\n",
      "-3.7118094\n",
      "4.636553\n",
      "true\n",
      "4.636553\n",
      "-3.7118094\n",
      "4.636553\n",
      "true\n",
      "4.636553\n",
      "-3.7118094\n",
      "4.636553\n",
      "true\n",
      "4.636553\n",
      "-3.7118094\n",
      "4.636553\n",
      "true\n",
      "4.636553\n",
      "-3.7118094\n",
      "4.636553\n",
      "true\n",
      "4.636553\n",
      "-3.7118094\n",
      "4.636553\n",
      "true\n",
      "4.636553\n",
      "-3.7118094\n",
      "4.636553\n"
     ]
    }
   ],
   "source": [
    "for l in 1:length(g_test.history)\n",
    "    his = g_test.history[1:l]\n",
    "    println(haskey(storage0.scores, his))\n",
    "    #println(scores[his])\n",
    "    if(haskey(storage0.scores, his))\n",
    "        println(storage0.scores[his])\n",
    "        println(target[end])\n",
    "        println(max(storage0.scores[his], target[end]))\n",
    "        storage0.scores[his] = max(storage0.scores[his], target[end])\n",
    "    else\n",
    "        println(\"new!\")\n",
    "        storage0.scores[his] = target[end]\n",
    "    end\n",
    "end"
   ]
  },
  {
   "cell_type": "code",
   "execution_count": 31,
   "metadata": {},
   "outputs": [
    {
     "data": {
      "text/plain": [
       "Dict{Vector{Int64}, Float64} with 5 entries:\n",
       "  [1, 2, 3, 4, 5]    => 2.0\n",
       "  [1, 2, 3, 4, 5, 6] => 2.0\n",
       "  [1, 5]             => 1.0\n",
       "  [1, 2, 3]          => 2.0\n",
       "  [1, 2]             => 1.0"
      ]
     },
     "metadata": {},
     "output_type": "display_data"
    }
   ],
   "source": [
    "test = Dict([1,2] => 1.0, [1,2,3] => 2.0, [1,2,3,4,5] => 2.0, [1,2,3,4,5,6] => 2.0, [1,5] => 1.0)"
   ]
  },
  {
   "cell_type": "code",
   "execution_count": 40,
   "metadata": {},
   "outputs": [
    {
     "data": {
      "text/plain": [
       "2.0"
      ]
     },
     "metadata": {},
     "output_type": "display_data"
    }
   ],
   "source": [
    "findmax(test)[1]"
   ]
  },
  {
   "cell_type": "code",
   "execution_count": 36,
   "metadata": {},
   "outputs": [
    {
     "data": {
      "text/plain": [
       "5-element Vector{Int64}:\n",
       " 1\n",
       " 2\n",
       " 3\n",
       " 4\n",
       " 5"
      ]
     },
     "metadata": {},
     "output_type": "display_data"
    }
   ],
   "source": [
    "argmax(test)"
   ]
  },
  {
   "cell_type": "code",
   "execution_count": null,
   "metadata": {},
   "outputs": [],
   "source": []
  }
 ],
 "metadata": {
  "kernelspec": {
   "display_name": "Julia 1.9.2",
   "language": "julia",
   "name": "julia-1.9"
  },
  "language_info": {
   "file_extension": ".jl",
   "mimetype": "application/julia",
   "name": "julia",
   "version": "1.9.2"
  },
  "orig_nbformat": 4
 },
 "nbformat": 4,
 "nbformat_minor": 2
}
