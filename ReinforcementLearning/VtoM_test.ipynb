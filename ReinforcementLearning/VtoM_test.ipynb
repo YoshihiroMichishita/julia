{
 "cells": [
  {
   "cell_type": "code",
   "execution_count": 10,
   "metadata": {},
   "outputs": [],
   "source": [
    "using LinearAlgebra"
   ]
  },
  {
   "cell_type": "code",
   "execution_count": 38,
   "metadata": {},
   "outputs": [
    {
     "data": {
      "text/plain": [
       "Any[]"
      ]
     },
     "execution_count": 38,
     "metadata": {},
     "output_type": "execute_result"
    }
   ],
   "source": [
    "test_vec = []"
   ]
  },
  {
   "cell_type": "code",
   "execution_count": 39,
   "metadata": {},
   "outputs": [
    {
     "data": {
      "text/plain": [
       "1-element Vector{Any}:\n",
       " ComplexF64[0.0 + 0.0im 0.0 + 1.0im; -0.0 - 1.0im 0.0 + 0.0im]"
      ]
     },
     "execution_count": 39,
     "metadata": {},
     "output_type": "execute_result"
    }
   ],
   "source": [
    "test_M = [0.0 1.0im; -1.0im 0.0]\n",
    "push!(test_vec,test_M)\n",
    "#test_M = Hermitian(test_M)"
   ]
  },
  {
   "cell_type": "code",
   "execution_count": 40,
   "metadata": {},
   "outputs": [
    {
     "data": {
      "text/plain": [
       "2-element Vector{Any}:\n",
       " ComplexF64[0.0 + 0.0im 0.0 + 1.0im; -0.0 - 1.0im 0.0 + 0.0im]\n",
       " ComplexF64[1.0 + 0.0im 0.0 + 1.0im; -0.0 - 1.0im 1.0 + 0.0im]"
      ]
     },
     "execution_count": 40,
     "metadata": {},
     "output_type": "execute_result"
    }
   ],
   "source": [
    "test_M2 = [1.0 1.0im; -1.0im 1.0]\n",
    "push!(test_vec,test_M2)"
   ]
  },
  {
   "cell_type": "code",
   "execution_count": 62,
   "metadata": {},
   "outputs": [
    {
     "data": {
      "text/plain": [
       "2-element Vector{Float64}:\n",
       " 2.0\n",
       " 4.0"
      ]
     },
     "execution_count": 62,
     "metadata": {},
     "output_type": "execute_result"
    }
   ],
   "source": [
    "S_test = real.(tr.(test_vec .* (test_M2,)))"
   ]
  },
  {
   "cell_type": "code",
   "execution_count": 65,
   "metadata": {},
   "outputs": [
    {
     "data": {
      "text/plain": [
       "generate_Me (generic function with 1 method)"
      ]
     },
     "execution_count": 65,
     "metadata": {},
     "output_type": "execute_result"
    }
   ],
   "source": [
    "function generate_M(H_size::Int)\n",
    "    A::Vector{Hermitian{ComplexF64, Matrix{ComplexF64}}} =[]\n",
    "    for i in 1:H_size\n",
    "        for j in i:H_size\n",
    "            if(i==j)\n",
    "                #l = 2(d+1-i)*(i-1) + (i-1)^2 + 1\n",
    "                B = zeros(ComplexF64,H_size,H_size)\n",
    "                B[i,j] = 1.0\n",
    "                B = Hermitian(B)\n",
    "                push!(A,B)\n",
    "                #A[l,:,:] = B[:,:]\n",
    "            else\n",
    "                #l = 2(d+1-i)*(i-1) + (i-1)^2 + 2*(j-i)\n",
    "                B = zeros(ComplexF64,H_size,H_size)\n",
    "                B[i,j] = 0.5\n",
    "                B[j,i] = 0.5\n",
    "                B = Hermitian(B)\n",
    "                B2 = zeros(ComplexF64,H_size,H_size)\n",
    "                B2[i,j] = 0.5im\n",
    "                B2[j,i] = -0.5im\n",
    "                B2 = Hermitian(B2)\n",
    "                #A[l,:,:] = B[:,:]\n",
    "                #A[l+1,:,:] = B2[:,:]\n",
    "                push!(A,B)\n",
    "                push!(A,B2)\n",
    "            end\n",
    "        end\n",
    "    end\n",
    "    return A\n",
    "end"
   ]
  },
  {
   "cell_type": "code",
   "execution_count": 66,
   "metadata": {},
   "outputs": [
    {
     "data": {
      "text/plain": [
       "4-element Vector{Hermitian{ComplexF64, Matrix{ComplexF64}}}:\n",
       " [1.0 + 0.0im 0.0 + 0.0im; 0.0 - 0.0im 0.0 + 0.0im]\n",
       " [0.0 + 0.0im 0.5 + 0.0im; 0.5 - 0.0im 0.0 + 0.0im]\n",
       " [0.0 + 0.0im 0.0 + 0.5im; 0.0 - 0.5im 0.0 + 0.0im]\n",
       " [0.0 + 0.0im 0.0 + 0.0im; 0.0 - 0.0im 1.0 + 0.0im]"
      ]
     },
     "execution_count": 66,
     "metadata": {},
     "output_type": "execute_result"
    }
   ],
   "source": [
    "σ_vec = generate_Me(2)"
   ]
  },
  {
   "cell_type": "code",
   "execution_count": 67,
   "metadata": {},
   "outputs": [
    {
     "data": {
      "text/plain": [
       "VtoM (generic function with 1 method)"
      ]
     },
     "execution_count": 67,
     "metadata": {},
     "output_type": "execute_result"
    }
   ],
   "source": [
    "function VtoM(V::Vector{Float64})\n",
    "    M = V' * σ_vec\n",
    "    return M\n",
    "end"
   ]
  },
  {
   "cell_type": "code",
   "execution_count": 68,
   "metadata": {},
   "outputs": [
    {
     "data": {
      "text/plain": [
       "2×2 Hermitian{ComplexF64, Matrix{ComplexF64}}:\n",
       " 1.0+0.0im  0.0+1.0im\n",
       " 0.0-1.0im  1.0+0.0im"
      ]
     },
     "execution_count": 68,
     "metadata": {},
     "output_type": "execute_result"
    }
   ],
   "source": [
    "V_test = [1.0, 0.0, 2.0, 1.0]\n",
    "C = VtoM(V_test)"
   ]
  },
  {
   "cell_type": "code",
   "execution_count": 69,
   "metadata": {},
   "outputs": [
    {
     "data": {
      "text/plain": [
       "MtoV (generic function with 1 method)"
      ]
     },
     "execution_count": 69,
     "metadata": {},
     "output_type": "execute_result"
    }
   ],
   "source": [
    "function MtoV(M::Hermitian{ComplexF64, Matrix{ComplexF64}})\n",
    "    V = real.(tr.(en.σ_vec .* (M,)))\n",
    "    return V\n",
    "end"
   ]
  },
  {
   "cell_type": "code",
   "execution_count": 70,
   "metadata": {},
   "outputs": [
    {
     "data": {
      "text/plain": [
       "4-element Vector{Float64}:\n",
       " 1.0\n",
       " 0.0\n",
       " 1.0\n",
       " 1.0"
      ]
     },
     "execution_count": 70,
     "metadata": {},
     "output_type": "execute_result"
    }
   ],
   "source": [
    "V_test2 = MtoV(C)"
   ]
  },
  {
   "cell_type": "code",
   "execution_count": null,
   "metadata": {},
   "outputs": [],
   "source": []
  }
 ],
 "metadata": {
  "kernelspec": {
   "display_name": "Julia 1.7.2",
   "language": "julia",
   "name": "julia-1.7"
  },
  "language_info": {
   "file_extension": ".jl",
   "mimetype": "application/julia",
   "name": "julia",
   "version": "1.7.2"
  },
  "orig_nbformat": 4
 },
 "nbformat": 4,
 "nbformat_minor": 2
}
