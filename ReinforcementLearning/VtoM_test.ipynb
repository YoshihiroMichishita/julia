{
 "cells": [
  {
   "cell_type": "code",
   "execution_count": 10,
   "metadata": {},
   "outputs": [],
   "source": [
    "using LinearAlgebra"
   ]
  },
  {
   "cell_type": "code",
   "execution_count": 38,
   "metadata": {},
   "outputs": [
    {
     "data": {
      "text/plain": [
       "Any[]"
      ]
     },
     "execution_count": 38,
     "metadata": {},
     "output_type": "execute_result"
    }
   ],
   "source": [
    "test_vec = []"
   ]
  },
  {
   "cell_type": "code",
   "execution_count": 39,
   "metadata": {},
   "outputs": [
    {
     "data": {
      "text/plain": [
       "1-element Vector{Any}:\n",
       " ComplexF64[0.0 + 0.0im 0.0 + 1.0im; -0.0 - 1.0im 0.0 + 0.0im]"
      ]
     },
     "execution_count": 39,
     "metadata": {},
     "output_type": "execute_result"
    }
   ],
   "source": [
    "test_M = [0.0 1.0im; -1.0im 0.0]\n",
    "push!(test_vec,test_M)\n",
    "#test_M = Hermitian(test_M)"
   ]
  },
  {
   "cell_type": "code",
   "execution_count": 40,
   "metadata": {},
   "outputs": [
    {
     "data": {
      "text/plain": [
       "2-element Vector{Any}:\n",
       " ComplexF64[0.0 + 0.0im 0.0 + 1.0im; -0.0 - 1.0im 0.0 + 0.0im]\n",
       " ComplexF64[1.0 + 0.0im 0.0 + 1.0im; -0.0 - 1.0im 1.0 + 0.0im]"
      ]
     },
     "execution_count": 40,
     "metadata": {},
     "output_type": "execute_result"
    }
   ],
   "source": [
    "test_M2 = [1.0 1.0im; -1.0im 1.0]\n",
    "push!(test_vec,test_M2)"
   ]
  },
  {
   "cell_type": "code",
   "execution_count": 62,
   "metadata": {},
   "outputs": [
    {
     "data": {
      "text/plain": [
       "2-element Vector{Float64}:\n",
       " 2.0\n",
       " 4.0"
      ]
     },
     "execution_count": 62,
     "metadata": {},
     "output_type": "execute_result"
    }
   ],
   "source": [
    "S_test = real.(tr.(test_vec .* (test_M2,)))"
   ]
  },
  {
   "cell_type": "code",
   "execution_count": 65,
   "metadata": {},
   "outputs": [
    {
     "data": {
      "text/plain": [
       "generate_Me (generic function with 1 method)"
      ]
     },
     "execution_count": 65,
     "metadata": {},
     "output_type": "execute_result"
    }
   ],
   "source": [
    "function generate_M(H_size::Int)\n",
    "    A::Vector{Hermitian{ComplexF64, Matrix{ComplexF64}}} =[]\n",
    "    for i in 1:H_size\n",
    "        for j in i:H_size\n",
    "            if(i==j)\n",
    "                #l = 2(d+1-i)*(i-1) + (i-1)^2 + 1\n",
    "                B = zeros(ComplexF64,H_size,H_size)\n",
    "                B[i,j] = 1.0\n",
    "                B = Hermitian(B)\n",
    "                push!(A,B)\n",
    "                #A[l,:,:] = B[:,:]\n",
    "            else\n",
    "                #l = 2(d+1-i)*(i-1) + (i-1)^2 + 2*(j-i)\n",
    "                B = zeros(ComplexF64,H_size,H_size)\n",
    "                B[i,j] = 0.5\n",
    "                B[j,i] = 0.5\n",
    "                B = Hermitian(B)\n",
    "                B2 = zeros(ComplexF64,H_size,H_size)\n",
    "                B2[i,j] = 0.5im\n",
    "                B2[j,i] = -0.5im\n",
    "                B2 = Hermitian(B2)\n",
    "                #A[l,:,:] = B[:,:]\n",
    "                #A[l+1,:,:] = B2[:,:]\n",
    "                push!(A,B)\n",
    "                push!(A,B2)\n",
    "            end\n",
    "        end\n",
    "    end\n",
    "    return A\n",
    "end"
   ]
  },
  {
   "cell_type": "code",
   "execution_count": 66,
   "metadata": {},
   "outputs": [
    {
     "data": {
      "text/plain": [
       "4-element Vector{Hermitian{ComplexF64, Matrix{ComplexF64}}}:\n",
       " [1.0 + 0.0im 0.0 + 0.0im; 0.0 - 0.0im 0.0 + 0.0im]\n",
       " [0.0 + 0.0im 0.5 + 0.0im; 0.5 - 0.0im 0.0 + 0.0im]\n",
       " [0.0 + 0.0im 0.0 + 0.5im; 0.0 - 0.5im 0.0 + 0.0im]\n",
       " [0.0 + 0.0im 0.0 + 0.0im; 0.0 - 0.0im 1.0 + 0.0im]"
      ]
     },
     "execution_count": 66,
     "metadata": {},
     "output_type": "execute_result"
    }
   ],
   "source": [
    "σ_vec = generate_Me(2)"
   ]
  },
  {
   "cell_type": "code",
   "execution_count": 67,
   "metadata": {},
   "outputs": [
    {
     "data": {
      "text/plain": [
       "VtoM (generic function with 1 method)"
      ]
     },
     "execution_count": 67,
     "metadata": {},
     "output_type": "execute_result"
    }
   ],
   "source": [
    "function VtoM(V::Vector{Float64})\n",
    "    M = V' * σ_vec\n",
    "    return M\n",
    "end"
   ]
  },
  {
   "cell_type": "code",
   "execution_count": 68,
   "metadata": {},
   "outputs": [
    {
     "data": {
      "text/plain": [
       "2×2 Hermitian{ComplexF64, Matrix{ComplexF64}}:\n",
       " 1.0+0.0im  0.0+1.0im\n",
       " 0.0-1.0im  1.0+0.0im"
      ]
     },
     "execution_count": 68,
     "metadata": {},
     "output_type": "execute_result"
    }
   ],
   "source": [
    "V_test = [1.0, 0.0, 2.0, 1.0]\n",
    "C = VtoM(V_test)"
   ]
  },
  {
   "cell_type": "code",
   "execution_count": 69,
   "metadata": {},
   "outputs": [
    {
     "data": {
      "text/plain": [
       "MtoV (generic function with 1 method)"
      ]
     },
     "execution_count": 69,
     "metadata": {},
     "output_type": "execute_result"
    }
   ],
   "source": [
    "function MtoV(M::Hermitian{ComplexF64, Matrix{ComplexF64}})\n",
    "    V = real.(tr.(en.σ_vec .* (M,)))\n",
    "    return V\n",
    "end"
   ]
  },
  {
   "cell_type": "code",
   "execution_count": 70,
   "metadata": {},
   "outputs": [
    {
     "data": {
      "text/plain": [
       "4-element Vector{Float64}:\n",
       " 1.0\n",
       " 0.0\n",
       " 1.0\n",
       " 1.0"
      ]
     },
     "execution_count": 70,
     "metadata": {},
     "output_type": "execute_result"
    }
   ],
   "source": [
    "V_test2 = MtoV(C)"
   ]
  },
  {
   "cell_type": "code",
   "execution_count": 85,
   "metadata": {},
   "outputs": [],
   "source": [
    "using Flux"
   ]
  },
  {
   "cell_type": "code",
   "execution_count": 132,
   "metadata": {},
   "outputs": [
    {
     "data": {
      "text/plain": [
       "Recur(\n",
       "  RNNCell(2 => 3, tanh),                \u001b[90m# 21 parameters\u001b[39m\n",
       ") \u001b[90m        # Total: 4 trainable arrays, \u001b[39m21 parameters,\n",
       "\u001b[90m          # plus 1 non-trainable, 3 parameters, summarysize \u001b[39m400 bytes."
      ]
     },
     "execution_count": 132,
     "metadata": {},
     "output_type": "execute_result"
    }
   ],
   "source": [
    "m_test = RNN(tanh, ones(3,2), ones(3,3), ones(3,1), zeros(3,1))"
   ]
  },
  {
   "cell_type": "code",
   "execution_count": 133,
   "metadata": {},
   "outputs": [
    {
     "data": {
      "text/plain": [
       "3×1 Matrix{Float64}:\n",
       " 0.0\n",
       " 0.0\n",
       " 0.0"
      ]
     },
     "execution_count": 133,
     "metadata": {},
     "output_type": "execute_result"
    }
   ],
   "source": [
    "m_test.state"
   ]
  },
  {
   "cell_type": "code",
   "execution_count": 134,
   "metadata": {},
   "outputs": [
    {
     "data": {
      "text/plain": [
       "3-element Vector{Float64}:\n",
       " 0.988062720573191\n",
       " 0.988062720573191\n",
       " 0.988062720573191"
      ]
     },
     "execution_count": 134,
     "metadata": {},
     "output_type": "execute_result"
    }
   ],
   "source": [
    "y = m_test(rand(Float64,2))"
   ]
  },
  {
   "cell_type": "code",
   "execution_count": 135,
   "metadata": {},
   "outputs": [
    {
     "data": {
      "text/plain": [
       "3×1 Matrix{Float64}:\n",
       " 0.988062720573191\n",
       " 0.988062720573191\n",
       " 0.988062720573191"
      ]
     },
     "execution_count": 135,
     "metadata": {},
     "output_type": "execute_result"
    }
   ],
   "source": [
    "m_test.state"
   ]
  },
  {
   "cell_type": "code",
   "execution_count": 136,
   "metadata": {},
   "outputs": [
    {
     "data": {
      "text/plain": [
       "3-element Vector{Float64}:\n",
       " 0.9996900960865647\n",
       " 0.9996900960865647\n",
       " 0.9996900960865647"
      ]
     },
     "execution_count": 136,
     "metadata": {},
     "output_type": "execute_result"
    }
   ],
   "source": [
    "y = m_test(rand(Float64,2))"
   ]
  },
  {
   "cell_type": "code",
   "execution_count": 137,
   "metadata": {},
   "outputs": [
    {
     "data": {
      "text/plain": [
       "3×1 Matrix{Float64}:\n",
       " 0.9996900960865647\n",
       " 0.9996900960865647\n",
       " 0.9996900960865647"
      ]
     },
     "execution_count": 137,
     "metadata": {},
     "output_type": "execute_result"
    }
   ],
   "source": [
    "m_test.state"
   ]
  },
  {
   "cell_type": "code",
   "execution_count": 95,
   "metadata": {},
   "outputs": [
    {
     "data": {
      "text/plain": [
       "Recur(\n",
       "  RNNCell(3 => 3, tanh),                \u001b[90m# 24 parameters\u001b[39m\n",
       ") \u001b[90m        # Total: 4 trainable arrays, \u001b[39m24 parameters,\n",
       "\u001b[90m          # plus 1 non-trainable, 3 parameters, summarysize \u001b[39m328 bytes."
      ]
     },
     "execution_count": 95,
     "metadata": {},
     "output_type": "execute_result"
    }
   ],
   "source": [
    "m2 = RNN(3 => 3)"
   ]
  },
  {
   "cell_type": "code",
   "execution_count": 97,
   "metadata": {},
   "outputs": [
    {
     "data": {
      "text/plain": [
       "3×1 Matrix{Float32}:\n",
       " 0.0\n",
       " 0.0\n",
       " 0.0"
      ]
     },
     "execution_count": 97,
     "metadata": {},
     "output_type": "execute_result"
    }
   ],
   "source": [
    "m2.state"
   ]
  },
  {
   "cell_type": "code",
   "execution_count": null,
   "metadata": {},
   "outputs": [],
   "source": []
  }
 ],
 "metadata": {
  "kernelspec": {
   "display_name": "Julia 1.7.2",
   "language": "julia",
   "name": "julia-1.7"
  },
  "language_info": {
   "file_extension": ".jl",
   "mimetype": "application/julia",
   "name": "julia",
   "version": "1.7.2"
  },
  "orig_nbformat": 4
 },
 "nbformat": 4,
 "nbformat_minor": 2
}
