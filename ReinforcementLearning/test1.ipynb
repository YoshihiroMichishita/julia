{
 "cells": [
  {
   "cell_type": "code",
   "execution_count": 2,
   "metadata": {},
   "outputs": [],
   "source": [
    "using Flux"
   ]
  },
  {
   "cell_type": "code",
   "execution_count": 3,
   "metadata": {},
   "outputs": [],
   "source": [
    "mutable struct models\n",
    "    model\n",
    "    opt\n",
    "    loss\n",
    "end"
   ]
  },
  {
   "cell_type": "code",
   "execution_count": 4,
   "metadata": {},
   "outputs": [
    {
     "data": {
      "text/plain": [
       "init_nQ (generic function with 1 method)"
      ]
     },
     "execution_count": 4,
     "metadata": {},
     "output_type": "execute_result"
    }
   ],
   "source": [
    "struct netQAgt\n",
    "    n_act::Int\n",
    "    input_size::Int\n",
    "    n_dense::Int\n",
    "    ϵ::Float64\n",
    "    γ::Float64\n",
    "    filepath::String\n",
    "end\n",
    "\n",
    "function init_nQ()\n",
    "    n_act::Int = 3\n",
    "    input_size::Int = 4\n",
    "    n_dense::Int = 32\n",
    "    ϵ::Float64 = 0.1\n",
    "    γ::Float64 = 0.9\n",
    "    filepath::String = \"test\"\n",
    "\n",
    "    return n_act, input_size, n_dense, ϵ, γ, filepath\n",
    "end"
   ]
  },
  {
   "cell_type": "code",
   "execution_count": 13,
   "metadata": {},
   "outputs": [
    {
     "data": {
      "text/plain": [
       "build_model (generic function with 1 method)"
      ]
     },
     "execution_count": 13,
     "metadata": {},
     "output_type": "execute_result"
    }
   ],
   "source": [
    "function build_model(nq::netQAgt)\n",
    "    model = Chain(Dense(nq.input_size, nq.n_dense, relu), Dense(nq.n_dense, nq.n_act))\n",
    "    opt = ADAM()\n",
    "    loss(x,y) = Flux.mse(model(x),y)\n",
    "\n",
    "    return model, opt, loss\n",
    "end\n"
   ]
  },
  {
   "cell_type": "code",
   "execution_count": 14,
   "metadata": {},
   "outputs": [
    {
     "data": {
      "text/plain": [
       "netQAgt(3, 4, 32, 0.1, 0.9, \"test\")"
      ]
     },
     "execution_count": 14,
     "metadata": {},
     "output_type": "execute_result"
    }
   ],
   "source": [
    "nq = netQAgt(init_nQ()...)"
   ]
  },
  {
   "cell_type": "code",
   "execution_count": 15,
   "metadata": {},
   "outputs": [
    {
     "data": {
      "text/plain": [
       "models(Chain(Dense(4 => 32, relu), Dense(32 => 3)), ADAM(0.001, (0.9, 0.999), 1.0e-8, IdDict{Any, Any}()), var\"#loss#3\"{Chain{Tuple{Dense{typeof(relu), Matrix{Float32}, Vector{Float32}}, Dense{typeof(identity), Matrix{Float32}, Vector{Float32}}}}}(Chain(Dense(4 => 32, relu), Dense(32 => 3))))"
      ]
     },
     "execution_count": 15,
     "metadata": {},
     "output_type": "execute_result"
    }
   ],
   "source": [
    "m_test = models(build_model(nq)...)"
   ]
  },
  {
   "cell_type": "code",
   "execution_count": 16,
   "metadata": {},
   "outputs": [
    {
     "data": {
      "text/plain": [
       "3-element Vector{Float64}:\n",
       "  0.07427979263073353\n",
       "  0.12010678845424419\n",
       " -0.4972820025765046"
      ]
     },
     "execution_count": 16,
     "metadata": {},
     "output_type": "execute_result"
    }
   ],
   "source": [
    "b = m_test.model(ones(4))"
   ]
  },
  {
   "cell_type": "code",
   "execution_count": 17,
   "metadata": {},
   "outputs": [
    {
     "data": {
      "text/plain": [
       "1.2910077870985366"
      ]
     },
     "execution_count": 17,
     "metadata": {},
     "output_type": "execute_result"
    }
   ],
   "source": [
    "c = m_test.loss(ones(4),ones(3))"
   ]
  },
  {
   "cell_type": "code",
   "execution_count": 18,
   "metadata": {},
   "outputs": [
    {
     "name": "stdout",
     "output_type": "stream",
     "text": [
      "Chain(Dense(4 => 32, relu), Dense(32 => 3))\n"
     ]
    }
   ],
   "source": [
    "println(m_test.model)"
   ]
  },
  {
   "cell_type": "code",
   "execution_count": 21,
   "metadata": {},
   "outputs": [],
   "source": [
    "using BSON"
   ]
  },
  {
   "cell_type": "code",
   "execution_count": 23,
   "metadata": {},
   "outputs": [
    {
     "ename": "LoadError",
     "evalue": "MethodError: no method matching bson(::String, ::Chain{Tuple{Dense{typeof(relu), Matrix{Float32}, Vector{Float32}}, Dense{typeof(identity), Matrix{Float32}, Vector{Float32}}}})\n\u001b[0mClosest candidates are:\n\u001b[0m  bson(::String; kws...) at ~/.julia/packages/BSON/rOaki/src/write.jl:89\n\u001b[0m  bson(::String, \u001b[91m::AbstractDict\u001b[39m) at ~/.julia/packages/BSON/rOaki/src/write.jl:87",
     "output_type": "error",
     "traceback": [
      "MethodError: no method matching bson(::String, ::Chain{Tuple{Dense{typeof(relu), Matrix{Float32}, Vector{Float32}}, Dense{typeof(identity), Matrix{Float32}, Vector{Float32}}}})\n\u001b[0mClosest candidates are:\n\u001b[0m  bson(::String; kws...) at ~/.julia/packages/BSON/rOaki/src/write.jl:89\n\u001b[0m  bson(::String, \u001b[91m::AbstractDict\u001b[39m) at ~/.julia/packages/BSON/rOaki/src/write.jl:87",
      "",
      "Stacktrace:",
      " [1] top-level scope",
      "   @ In[23]:1",
      " [2] eval",
      "   @ ./boot.jl:373 [inlined]",
      " [3] include_string(mapexpr::typeof(REPL.softscope), mod::Module, code::String, filename::String)",
      "   @ Base ./loading.jl:1196"
     ]
    }
   ],
   "source": [
    "bson(\"test.bson\", m_test.model)"
   ]
  },
  {
   "cell_type": "code",
   "execution_count": 43,
   "metadata": {},
   "outputs": [
    {
     "data": {
      "text/plain": [
       "Chain(\n",
       "  Dense(10 => 5, relu),                 \u001b[90m# 55 parameters\u001b[39m\n",
       "  Dense(5 => 2),                        \u001b[90m# 12 parameters\u001b[39m\n",
       "  NNlib.softmax,\n",
       ") \u001b[90m                  # Total: 4 arrays, \u001b[39m67 parameters, 524 bytes."
      ]
     },
     "execution_count": 43,
     "metadata": {},
     "output_type": "execute_result"
    }
   ],
   "source": [
    "model = Chain(Dense(10, 5, NNlib.relu), Dense(5, 2), NNlib.softmax)"
   ]
  },
  {
   "cell_type": "code",
   "execution_count": 26,
   "metadata": {},
   "outputs": [],
   "source": [
    "using BSON: @save"
   ]
  },
  {
   "cell_type": "code",
   "execution_count": 37,
   "metadata": {},
   "outputs": [
    {
     "data": {
      "text/plain": [
       "Chain{Tuple{Dense{typeof(relu), Matrix{Float32}, Vector{Float32}}, Dense{typeof(identity), Matrix{Float32}, Vector{Float32}}, typeof(softmax)}}"
      ]
     },
     "execution_count": 37,
     "metadata": {},
     "output_type": "execute_result"
    }
   ],
   "source": [
    "typeof(model)"
   ]
  },
  {
   "cell_type": "code",
   "execution_count": 27,
   "metadata": {},
   "outputs": [],
   "source": [
    "@save \"test.bson\" model"
   ]
  },
  {
   "cell_type": "code",
   "execution_count": 28,
   "metadata": {},
   "outputs": [
    {
     "data": {
      "text/plain": [
       "Chain(\n",
       "  Dense(10 => 5, relu),                 \u001b[90m# 55 parameters\u001b[39m\n",
       "  Dense(5 => 2),                        \u001b[90m# 12 parameters\u001b[39m\n",
       "  NNlib.softmax,\n",
       ") \u001b[90m                  # Total: 4 arrays, \u001b[39m67 parameters, 524 bytes."
      ]
     },
     "execution_count": 28,
     "metadata": {},
     "output_type": "execute_result"
    }
   ],
   "source": [
    "m_test.model = Chain(Dense(10, 5, NNlib.relu), Dense(5, 2), NNlib.softmax)"
   ]
  },
  {
   "cell_type": "code",
   "execution_count": 38,
   "metadata": {},
   "outputs": [
    {
     "data": {
      "text/plain": [
       "Dense(10 => 5, relu)  \u001b[90m# 55 parameters\u001b[39m"
      ]
     },
     "execution_count": 38,
     "metadata": {},
     "output_type": "execute_result"
    }
   ],
   "source": [
    "m_test.model[1]"
   ]
  },
  {
   "cell_type": "code",
   "execution_count": 40,
   "metadata": {},
   "outputs": [
    {
     "ename": "LoadError",
     "evalue": "LoadError: Unrecognised @save expression m_test.model\nin expression starting at In[40]:1",
     "output_type": "error",
     "traceback": [
      "LoadError: Unrecognised @save expression m_test.model\nin expression starting at In[40]:1",
      "",
      "Stacktrace:",
      " [1] error(s::String)",
      "   @ Base ./error.jl:33",
      " [2] #65",
      "   @ ~/.julia/packages/BSON/rOaki/src/BSON.jl:40 [inlined]",
      " [3] map(f::BSON.var\"#65#67\", t::Tuple{Expr})",
      "   @ Base ./tuple.jl:221",
      " [4] var\"@save\"(__source__::LineNumberNode, __module__::Module, file::Any, ks::Vararg{Any})",
      "   @ BSON ~/.julia/packages/BSON/rOaki/src/BSON.jl:40",
      " [5] eval",
      "   @ ./boot.jl:373 [inlined]",
      " [6] include_string(mapexpr::typeof(REPL.softscope), mod::Module, code::String, filename::String)",
      "   @ Base ./loading.jl:1196"
     ]
    }
   ],
   "source": [
    "@save \"test.bson\" m_test.model"
   ]
  },
  {
   "cell_type": "code",
   "execution_count": 44,
   "metadata": {},
   "outputs": [
    {
     "ename": "LoadError",
     "evalue": "MethodError: no method matching bson(::String, ::Chain{Tuple{Dense{typeof(relu), Matrix{Float32}, Vector{Float32}}, Dense{typeof(identity), Matrix{Float32}, Vector{Float32}}, typeof(softmax)}})\n\u001b[0mClosest candidates are:\n\u001b[0m  bson(::String; kws...) at ~/.julia/packages/BSON/rOaki/src/write.jl:89\n\u001b[0m  bson(::String, \u001b[91m::AbstractDict\u001b[39m) at ~/.julia/packages/BSON/rOaki/src/write.jl:87",
     "output_type": "error",
     "traceback": [
      "MethodError: no method matching bson(::String, ::Chain{Tuple{Dense{typeof(relu), Matrix{Float32}, Vector{Float32}}, Dense{typeof(identity), Matrix{Float32}, Vector{Float32}}, typeof(softmax)}})\n\u001b[0mClosest candidates are:\n\u001b[0m  bson(::String; kws...) at ~/.julia/packages/BSON/rOaki/src/write.jl:89\n\u001b[0m  bson(::String, \u001b[91m::AbstractDict\u001b[39m) at ~/.julia/packages/BSON/rOaki/src/write.jl:87",
      "",
      "Stacktrace:",
      " [1] top-level scope",
      "   @ In[44]:2",
      " [2] eval",
      "   @ ./boot.jl:373 [inlined]",
      " [3] include_string(mapexpr::typeof(REPL.softscope), mod::Module, code::String, filename::String)",
      "   @ Base ./loading.jl:1196"
     ]
    }
   ],
   "source": [
    "\n",
    "bson(\"test2.bson\", model)"
   ]
  },
  {
   "cell_type": "code",
   "execution_count": 49,
   "metadata": {},
   "outputs": [],
   "source": [
    "@save \"test2.bson\" model"
   ]
  },
  {
   "cell_type": "code",
   "execution_count": 52,
   "metadata": {},
   "outputs": [
    {
     "data": {
      "text/plain": [
       "Chain(\n",
       "  Dense(10 => 5, relu),                 \u001b[90m# 55 parameters\u001b[39m\n",
       "  Dense(5 => 2),                        \u001b[90m# 12 parameters\u001b[39m\n",
       "  NNlib.softmax,\n",
       ") \u001b[90m                  # Total: 4 arrays, \u001b[39m67 parameters, 524 bytes."
      ]
     },
     "execution_count": 52,
     "metadata": {},
     "output_type": "execute_result"
    }
   ],
   "source": [
    "test = m_test.model |> cpu"
   ]
  },
  {
   "cell_type": "code",
   "execution_count": 53,
   "metadata": {},
   "outputs": [],
   "source": [
    "@save \"test2.bson\" test"
   ]
  },
  {
   "cell_type": "code",
   "execution_count": 54,
   "metadata": {},
   "outputs": [],
   "source": [
    "using BSON: @load"
   ]
  },
  {
   "cell_type": "code",
   "execution_count": 59,
   "metadata": {},
   "outputs": [
    {
     "data": {
      "text/plain": [
       "models(Chain(Dense(4 => 32, relu), Dense(32 => 3)), ADAM(0.001, (0.9, 0.999), 1.0e-8, IdDict{Any, Any}()), var\"#loss#3\"{Chain{Tuple{Dense{typeof(relu), Matrix{Float32}, Vector{Float32}}, Dense{typeof(identity), Matrix{Float32}, Vector{Float32}}}}}(Chain(Dense(4 => 32, relu), Dense(32 => 3))))"
      ]
     },
     "execution_count": 59,
     "metadata": {},
     "output_type": "execute_result"
    }
   ],
   "source": [
    "m_test2 = models(build_model(nq)...)\n"
   ]
  },
  {
   "cell_type": "code",
   "execution_count": 69,
   "metadata": {},
   "outputs": [],
   "source": [
    "@load \"test2.bson\" test"
   ]
  },
  {
   "cell_type": "code",
   "execution_count": null,
   "metadata": {},
   "outputs": [],
   "source": []
  }
 ],
 "metadata": {
  "kernelspec": {
   "display_name": "Julia 1.7.2",
   "language": "julia",
   "name": "julia-1.7"
  },
  "language_info": {
   "file_extension": ".jl",
   "mimetype": "application/julia",
   "name": "julia",
   "version": "1.7.2"
  },
  "orig_nbformat": 4
 },
 "nbformat": 4,
 "nbformat_minor": 2
}
