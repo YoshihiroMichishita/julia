{
 "cells": [
  {
   "cell_type": "code",
   "execution_count": 10,
   "metadata": {},
   "outputs": [],
   "source": [
    "using LinearAlgebra"
   ]
  },
  {
   "cell_type": "code",
   "execution_count": 38,
   "metadata": {},
   "outputs": [
    {
     "data": {
      "text/plain": [
       "Any[]"
      ]
     },
     "execution_count": 38,
     "metadata": {},
     "output_type": "execute_result"
    }
   ],
   "source": [
    "test_vec = []"
   ]
  },
  {
   "cell_type": "code",
   "execution_count": 39,
   "metadata": {},
   "outputs": [
    {
     "data": {
      "text/plain": [
       "1-element Vector{Any}:\n",
       " ComplexF64[0.0 + 0.0im 0.0 + 1.0im; -0.0 - 1.0im 0.0 + 0.0im]"
      ]
     },
     "execution_count": 39,
     "metadata": {},
     "output_type": "execute_result"
    }
   ],
   "source": [
    "test_M = [0.0 1.0im; -1.0im 0.0]\n",
    "push!(test_vec,test_M)\n",
    "#test_M = Hermitian(test_M)"
   ]
  },
  {
   "cell_type": "code",
   "execution_count": 40,
   "metadata": {},
   "outputs": [
    {
     "data": {
      "text/plain": [
       "2-element Vector{Any}:\n",
       " ComplexF64[0.0 + 0.0im 0.0 + 1.0im; -0.0 - 1.0im 0.0 + 0.0im]\n",
       " ComplexF64[1.0 + 0.0im 0.0 + 1.0im; -0.0 - 1.0im 1.0 + 0.0im]"
      ]
     },
     "execution_count": 40,
     "metadata": {},
     "output_type": "execute_result"
    }
   ],
   "source": [
    "test_M2 = [1.0 1.0im; -1.0im 1.0]\n",
    "push!(test_vec,test_M2)"
   ]
  },
  {
   "cell_type": "code",
   "execution_count": 62,
   "metadata": {},
   "outputs": [
    {
     "data": {
      "text/plain": [
       "2-element Vector{Float64}:\n",
       " 2.0\n",
       " 4.0"
      ]
     },
     "execution_count": 62,
     "metadata": {},
     "output_type": "execute_result"
    }
   ],
   "source": [
    "S_test = real.(tr.(test_vec .* (test_M2,)))"
   ]
  },
  {
   "cell_type": "code",
   "execution_count": 65,
   "metadata": {},
   "outputs": [
    {
     "data": {
      "text/plain": [
       "generate_Me (generic function with 1 method)"
      ]
     },
     "execution_count": 65,
     "metadata": {},
     "output_type": "execute_result"
    }
   ],
   "source": [
    "function generate_M(H_size::Int)\n",
    "    A::Vector{Hermitian{ComplexF64, Matrix{ComplexF64}}} =[]\n",
    "    for i in 1:H_size\n",
    "        for j in i:H_size\n",
    "            if(i==j)\n",
    "                #l = 2(d+1-i)*(i-1) + (i-1)^2 + 1\n",
    "                B = zeros(ComplexF64,H_size,H_size)\n",
    "                B[i,j] = 1.0\n",
    "                B = Hermitian(B)\n",
    "                push!(A,B)\n",
    "                #A[l,:,:] = B[:,:]\n",
    "            else\n",
    "                #l = 2(d+1-i)*(i-1) + (i-1)^2 + 2*(j-i)\n",
    "                B = zeros(ComplexF64,H_size,H_size)\n",
    "                B[i,j] = 0.5\n",
    "                B[j,i] = 0.5\n",
    "                B = Hermitian(B)\n",
    "                B2 = zeros(ComplexF64,H_size,H_size)\n",
    "                B2[i,j] = 0.5im\n",
    "                B2[j,i] = -0.5im\n",
    "                B2 = Hermitian(B2)\n",
    "                #A[l,:,:] = B[:,:]\n",
    "                #A[l+1,:,:] = B2[:,:]\n",
    "                push!(A,B)\n",
    "                push!(A,B2)\n",
    "            end\n",
    "        end\n",
    "    end\n",
    "    return A\n",
    "end"
   ]
  },
  {
   "cell_type": "code",
   "execution_count": 66,
   "metadata": {},
   "outputs": [
    {
     "data": {
      "text/plain": [
       "4-element Vector{Hermitian{ComplexF64, Matrix{ComplexF64}}}:\n",
       " [1.0 + 0.0im 0.0 + 0.0im; 0.0 - 0.0im 0.0 + 0.0im]\n",
       " [0.0 + 0.0im 0.5 + 0.0im; 0.5 - 0.0im 0.0 + 0.0im]\n",
       " [0.0 + 0.0im 0.0 + 0.5im; 0.0 - 0.5im 0.0 + 0.0im]\n",
       " [0.0 + 0.0im 0.0 + 0.0im; 0.0 - 0.0im 1.0 + 0.0im]"
      ]
     },
     "execution_count": 66,
     "metadata": {},
     "output_type": "execute_result"
    }
   ],
   "source": [
    "σ_vec = generate_Me(2)"
   ]
  },
  {
   "cell_type": "code",
   "execution_count": 67,
   "metadata": {},
   "outputs": [
    {
     "data": {
      "text/plain": [
       "VtoM (generic function with 1 method)"
      ]
     },
     "execution_count": 67,
     "metadata": {},
     "output_type": "execute_result"
    }
   ],
   "source": [
    "function VtoM(V::Vector{Float64})\n",
    "    M = V' * σ_vec\n",
    "    return M\n",
    "end"
   ]
  },
  {
   "cell_type": "code",
   "execution_count": 68,
   "metadata": {},
   "outputs": [
    {
     "data": {
      "text/plain": [
       "2×2 Hermitian{ComplexF64, Matrix{ComplexF64}}:\n",
       " 1.0+0.0im  0.0+1.0im\n",
       " 0.0-1.0im  1.0+0.0im"
      ]
     },
     "execution_count": 68,
     "metadata": {},
     "output_type": "execute_result"
    }
   ],
   "source": [
    "V_test = [1.0, 0.0, 2.0, 1.0]\n",
    "C = VtoM(V_test)"
   ]
  },
  {
   "cell_type": "code",
   "execution_count": 69,
   "metadata": {},
   "outputs": [
    {
     "data": {
      "text/plain": [
       "MtoV (generic function with 1 method)"
      ]
     },
     "execution_count": 69,
     "metadata": {},
     "output_type": "execute_result"
    }
   ],
   "source": [
    "function MtoV(M::Hermitian{ComplexF64, Matrix{ComplexF64}})\n",
    "    V = real.(tr.(en.σ_vec .* (M,)))\n",
    "    return V\n",
    "end"
   ]
  },
  {
   "cell_type": "code",
   "execution_count": 70,
   "metadata": {},
   "outputs": [
    {
     "data": {
      "text/plain": [
       "4-element Vector{Float64}:\n",
       " 1.0\n",
       " 0.0\n",
       " 1.0\n",
       " 1.0"
      ]
     },
     "execution_count": 70,
     "metadata": {},
     "output_type": "execute_result"
    }
   ],
   "source": [
    "V_test2 = MtoV(C)"
   ]
  },
  {
   "cell_type": "code",
   "execution_count": 1,
   "metadata": {},
   "outputs": [],
   "source": [
    "using Flux"
   ]
  },
  {
   "cell_type": "code",
   "execution_count": 15,
   "metadata": {},
   "outputs": [
    {
     "data": {
      "text/plain": [
       "Chain(\n",
       "  Recur(\n",
       "    RNNCell(2 => 5, tanh),              \u001b[90m# 45 parameters\u001b[39m\n",
       "  ),\n",
       "  Dense(5 => 1),                        \u001b[90m# 6 parameters\u001b[39m\n",
       ") \u001b[90m        # Total: 6 trainable arrays, \u001b[39m51 parameters,\n",
       "\u001b[90m          # plus 1 non-trainable, 5 parameters, summarysize \u001b[39m580 bytes."
      ]
     },
     "execution_count": 15,
     "metadata": {},
     "output_type": "execute_result"
    }
   ],
   "source": [
    "model = Chain(RNN(2 => 5), Dense(5 => 1))"
   ]
  },
  {
   "cell_type": "code",
   "execution_count": 18,
   "metadata": {},
   "outputs": [
    {
     "data": {
      "text/plain": [
       "Recur(\n",
       "  RNNCell(2 => 3, tanh),                \u001b[90m# 21 parameters\u001b[39m\n",
       ") \u001b[90m        # Total: 4 trainable arrays, \u001b[39m21 parameters,\n",
       "\u001b[90m          # plus 1 non-trainable, 3 parameters, summarysize \u001b[39m316 bytes."
      ]
     },
     "execution_count": 18,
     "metadata": {},
     "output_type": "execute_result"
    }
   ],
   "source": [
    "model2 = RNN(2 => 3)"
   ]
  },
  {
   "cell_type": "code",
   "execution_count": 41,
   "metadata": {},
   "outputs": [
    {
     "data": {
      "text/plain": [
       "5-element Vector{Float32}:\n",
       " 0.016134918\n",
       " 0.78636706\n",
       " 0.51258606\n",
       " 0.60094887\n",
       " 0.78223944"
      ]
     },
     "execution_count": 41,
     "metadata": {},
     "output_type": "execute_result"
    }
   ],
   "source": [
    "x = rand(Float32, 5)"
   ]
  },
  {
   "cell_type": "code",
   "execution_count": 38,
   "metadata": {},
   "outputs": [
    {
     "data": {
      "text/plain": [
       "1.0"
      ]
     },
     "execution_count": 38,
     "metadata": {},
     "output_type": "execute_result"
    }
   ],
   "source": [
    "st0 = 1.0"
   ]
  },
  {
   "cell_type": "code",
   "execution_count": 43,
   "metadata": {},
   "outputs": [
    {
     "ename": "LoadError",
     "evalue": "MethodError: no method matching (::Flux.RNNCell{typeof(tanh), Matrix{Float32}, Vector{Float32}, Matrix{Float32}})(::Matrix{Float32}, ::Vector{Float64})\n\u001b[0mClosest candidates are:\n\u001b[0m  (::Flux.RNNCell{F, A, V, <:AbstractMatrix{T}})(::Any, ::Union{AbstractVector{T}, AbstractMatrix{T}, Flux.OneHotArray}) where {F, A, V, T} at ~/.julia/packages/Flux/6Q5r4/src/layers/recurrent.jl:138",
     "output_type": "error",
     "traceback": [
      "MethodError: no method matching (::Flux.RNNCell{typeof(tanh), Matrix{Float32}, Vector{Float32}, Matrix{Float32}})(::Matrix{Float32}, ::Vector{Float64})\n\u001b[0mClosest candidates are:\n\u001b[0m  (::Flux.RNNCell{F, A, V, <:AbstractMatrix{T}})(::Any, ::Union{AbstractVector{T}, AbstractMatrix{T}, Flux.OneHotArray}) where {F, A, V, T} at ~/.julia/packages/Flux/6Q5r4/src/layers/recurrent.jl:138",
      "",
      "Stacktrace:",
      " [1] (::Flux.Recur{Flux.RNNCell{typeof(tanh), Matrix{Float32}, Vector{Float32}, Matrix{Float32}}, Matrix{Float32}})(x::Vector{Float64})",
      "   @ Flux ~/.julia/packages/Flux/6Q5r4/src/layers/recurrent.jl:95",
      " [2] top-level scope",
      "   @ In[43]:1",
      " [3] eval",
      "   @ ./boot.jl:373 [inlined]",
      " [4] include_string(mapexpr::typeof(REPL.softscope), mod::Module, code::String, filename::String)",
      "   @ Base ./loading.jl:1196"
     ]
    }
   ],
   "source": [
    "y = model2([st0, x[1]])"
   ]
  },
  {
   "cell_type": "code",
   "execution_count": 35,
   "metadata": {},
   "outputs": [
    {
     "data": {
      "text/plain": [
       "3×1 Matrix{Float32}:\n",
       " -0.2302952\n",
       "  0.45734346\n",
       " -0.04055578"
      ]
     },
     "execution_count": 35,
     "metadata": {},
     "output_type": "execute_result"
    }
   ],
   "source": [
    "st0 = model2.state"
   ]
  },
  {
   "cell_type": "code",
   "execution_count": 34,
   "metadata": {},
   "outputs": [
    {
     "ename": "LoadError",
     "evalue": "MethodError: no method matching (::Flux.RNNCell{typeof(tanh), Matrix{Float32}, Vector{Float32}, Matrix{Float32}})(::Matrix{Float32})\n\u001b[0mClosest candidates are:\n\u001b[0m  (::Flux.RNNCell{F, A, V, <:AbstractMatrix{T}})(::Any, \u001b[91m::Union{AbstractVector{T}, AbstractMatrix{T}, Flux.OneHotArray}\u001b[39m) where {F, A, V, T} at ~/.julia/packages/Flux/6Q5r4/src/layers/recurrent.jl:138",
     "output_type": "error",
     "traceback": [
      "MethodError: no method matching (::Flux.RNNCell{typeof(tanh), Matrix{Float32}, Vector{Float32}, Matrix{Float32}})(::Matrix{Float32})\n\u001b[0mClosest candidates are:\n\u001b[0m  (::Flux.RNNCell{F, A, V, <:AbstractMatrix{T}})(::Any, \u001b[91m::Union{AbstractVector{T}, AbstractMatrix{T}, Flux.OneHotArray}\u001b[39m) where {F, A, V, T} at ~/.julia/packages/Flux/6Q5r4/src/layers/recurrent.jl:138",
      "",
      "Stacktrace:",
      " [1] top-level scope",
      "   @ In[34]:1",
      " [2] eval",
      "   @ ./boot.jl:373 [inlined]",
      " [3] include_string(mapexpr::typeof(REPL.softscope), mod::Module, code::String, filename::String)",
      "   @ Base ./loading.jl:1196"
     ]
    }
   ],
   "source": [
    "model2.cell(model2.state)"
   ]
  },
  {
   "cell_type": "code",
   "execution_count": 31,
   "metadata": {},
   "outputs": [
    {
     "ename": "LoadError",
     "evalue": "MethodError: no method matching (::Flux.RNNCell{typeof(tanh), Matrix{Float32}, Vector{Float32}, Matrix{Float32}})(::Matrix{Float32})\n\u001b[0mClosest candidates are:\n\u001b[0m  (::Flux.RNNCell{F, A, V, <:AbstractMatrix{T}})(::Any, \u001b[91m::Union{AbstractVector{T}, AbstractMatrix{T}, Flux.OneHotArray}\u001b[39m) where {F, A, V, T} at ~/.julia/packages/Flux/6Q5r4/src/layers/recurrent.jl:138",
     "output_type": "error",
     "traceback": [
      "MethodError: no method matching (::Flux.RNNCell{typeof(tanh), Matrix{Float32}, Vector{Float32}, Matrix{Float32}})(::Matrix{Float32})\n\u001b[0mClosest candidates are:\n\u001b[0m  (::Flux.RNNCell{F, A, V, <:AbstractMatrix{T}})(::Any, \u001b[91m::Union{AbstractVector{T}, AbstractMatrix{T}, Flux.OneHotArray}\u001b[39m) where {F, A, V, T} at ~/.julia/packages/Flux/6Q5r4/src/layers/recurrent.jl:138",
      "",
      "Stacktrace:",
      " [1] top-level scope",
      "   @ In[31]:1",
      " [2] eval",
      "   @ ./boot.jl:373 [inlined]",
      " [3] include_string(mapexpr::typeof(REPL.softscope), mod::Module, code::String, filename::String)",
      "   @ Base ./loading.jl:1196"
     ]
    }
   ],
   "source": [
    "model2.state, y = model2.cell(model2.state)"
   ]
  },
  {
   "cell_type": "code",
   "execution_count": null,
   "metadata": {},
   "outputs": [],
   "source": []
  }
 ],
 "metadata": {
  "kernelspec": {
   "display_name": "Julia 1.8.0",
   "language": "julia",
   "name": "julia-1.8"
  },
  "language_info": {
   "file_extension": ".jl",
   "mimetype": "application/julia",
   "name": "julia",
   "version": "1.7.2"
  },
  "orig_nbformat": 4
 },
 "nbformat": 4,
 "nbformat_minor": 2
}
