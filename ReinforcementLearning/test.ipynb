{
 "cells": [
  {
   "cell_type": "code",
   "execution_count": 1,
   "metadata": {},
   "outputs": [
    {
     "data": {
      "text/plain": [
       "get_Q (generic function with 1 method)"
      ]
     },
     "metadata": {},
     "output_type": "display_data"
    }
   ],
   "source": [
    "using LinearAlgebra\n",
    "#module core\n",
    "mutable struct coreEnv\n",
    "    n_act::Int\n",
    "    done::Bool\n",
    "end\n",
    "\n",
    "function coreEnv_init()\n",
    "    return 2, false\n",
    "end\n",
    "\n",
    "function reset(c::coreEnv)\n",
    "    c.done = false\n",
    "    obs = zeros(Int,4)\n",
    "    return obs\n",
    "end\n",
    "\n",
    "function step(c::coreEnv, act)\n",
    "    if(c.done)\n",
    "        obs = reset()\n",
    "        return nothing, nothing, obs\n",
    "    end\n",
    "\n",
    "    rwd::Float64 = 1.0\n",
    "    done::Bool = true\n",
    "\n",
    "    c.doce = done\n",
    "    obs = zeros(Int,4)\n",
    "\n",
    "    return rwd, done, obs\n",
    "end\n",
    "\n",
    "function render()\n",
    "    img = zeros(UInt8, 100, 200, 3)\n",
    "    return img\n",
    "end\n",
    "\n",
    "mutable struct coreAgt\n",
    "    epsilon::Float64\n",
    "end\n",
    "\n",
    "coreAgt_init() = 0.4\n",
    "\n",
    "function select_action(obs::Array{Int,1})\n",
    "    act::Int = 0\n",
    "    return act\n",
    "end\n",
    "\n",
    "function learn(obs::Array{Int,1}, act::Int, rwd::Float64, done::Bool, next_bos)\n",
    "    if(isnothing(rwd))\n",
    "        return\n",
    "    end\n",
    "end\n",
    "\n",
    "function get_Q(obs::Array{Int,1})\n",
    "    Q = zeros(Float64,2)\n",
    "    return Q\n",
    "end"
   ]
  },
  {
   "cell_type": "code",
   "execution_count": 5,
   "metadata": {},
   "outputs": [],
   "source": [
    "using Images\n",
    "\n",
    "PATH_BLANK = \"image/blank.png\"\n",
    "PATH_ROBOT = \"image/robo_right.png\"\n",
    "PATH_CRYSTAL = \"image/crystal_small.png\"\n",
    "\n",
    "struct CorridorEnv\n",
    "    c::coreEnv\n",
    "    ID_blank::Int\n",
    "    ID_robot::Int\n",
    "    ID_crystal::Int\n",
    "    field_length::Int\n",
    "    crystal_candidate::Tuple{Int, Int}\n",
    "    rwd_fail::Float64\n",
    "    rwd_move::Float64\n",
    "    rwd_crystal::Float64\n",
    "    robot_pos\n",
    "    crystal_pos\n",
    "    robot_state\n",
    "    img_robot::Array{RGB{N0f8},2}\n",
    "    img_crystal::Array{RGB{N0f8},2}\n",
    "    img_blank::Array{RGB{N0f8},2}\n",
    "    unit\n",
    "end"
   ]
  },
  {
   "cell_type": "code",
   "execution_count": 10,
   "metadata": {},
   "outputs": [
    {
     "data": {
      "text/plain": [
       "init_corridor_env (generic function with 1 method)"
      ]
     },
     "metadata": {},
     "output_type": "display_data"
    }
   ],
   "source": [
    "function init_corridor_env()\n",
    "    ID_blank::Int = 0\n",
    "    ID_robot::Int = 1\n",
    "    ID_crystal::Int =2\n",
    "    field_length::Int = 4\n",
    "    crystal_candidate::Tuple{Int, Int} = (2,3)\n",
    "    rwd_fail::Float64 = -1.0\n",
    "    rwd_move::Float64 = -1.0\n",
    "    rwd_crystal::Float64 = 5.0\n",
    "    robot_pos = nothing\n",
    "    crystal_pos = nothing\n",
    "    robot_state = nothing\n",
    "    img_robot = load(PATH_ROBOT)\n",
    "    img_crystal = load(PATH_CRYSTAL)\n",
    "    img_blank = load(PATH_BLANK)\n",
    "    unit = size(img_robot)\n",
    "    c = coreEnv(coreEnv_init()...)\n",
    "\n",
    "    return c, ID_blank, ID_robot, ID_crystal, field_length, crystal_candidate, rwd_fail, rwd_move, rwd_crystal, robot_pos, crystal_pos, robot_state, img_robot, img_crystal, img_blank, unit\n",
    "end"
   ]
  },
  {
   "cell_type": "code",
   "execution_count": 11,
   "metadata": {},
   "outputs": [
    {
     "data": {
      "text/plain": [
       "CorridorEnv(coreEnv(2, false), 0, 1, 2, 4, (2, 3), -1.0, -1.0, 5.0, nothing, nothing, nothing, RGB{N0f8}[RGB{N0f8}(1.0,1.0,1.0) RGB{N0f8}(1.0,1.0,1.0) … RGB{N0f8}(1.0,1.0,1.0) RGB{N0f8}(1.0,1.0,1.0); RGB{N0f8}(1.0,1.0,1.0) RGB{N0f8}(1.0,1.0,1.0) … RGB{N0f8}(1.0,1.0,1.0) RGB{N0f8}(1.0,1.0,1.0); … ; RGB{N0f8}(1.0,1.0,1.0) RGB{N0f8}(1.0,1.0,1.0) … RGB{N0f8}(1.0,1.0,1.0) RGB{N0f8}(1.0,1.0,1.0); RGB{N0f8}(1.0,1.0,1.0) RGB{N0f8}(1.0,1.0,1.0) … RGB{N0f8}(1.0,1.0,1.0) RGB{N0f8}(1.0,1.0,1.0)], RGB{N0f8}[RGB{N0f8}(1.0,1.0,1.0) RGB{N0f8}(1.0,1.0,1.0) … RGB{N0f8}(1.0,1.0,1.0) RGB{N0f8}(1.0,1.0,1.0); RGB{N0f8}(1.0,1.0,1.0) RGB{N0f8}(1.0,1.0,1.0) … RGB{N0f8}(1.0,1.0,1.0) RGB{N0f8}(1.0,1.0,1.0); … ; RGB{N0f8}(1.0,1.0,1.0) RGB{N0f8}(1.0,1.0,1.0) … RGB{N0f8}(1.0,1.0,1.0) RGB{N0f8}(1.0,1.0,1.0); RGB{N0f8}(1.0,1.0,1.0) RGB{N0f8}(1.0,1.0,1.0) … RGB{N0f8}(1.0,1.0,1.0) RGB{N0f8}(1.0,1.0,1.0)], RGB{N0f8}[RGB{N0f8}(1.0,0.984,0.941) RGB{N0f8}(1.0,0.984,0.941) … RGB{N0f8}(1.0,0.984,0.941) RGB{N0f8}(1.0,0.984,0.941); RGB{N0f8}(1.0,0.984,0.941) RGB{N0f8}(0.812,0.718,0.624) … RGB{N0f8}(0.812,0.718,0.624) RGB{N0f8}(1.0,0.984,0.941); … ; RGB{N0f8}(1.0,0.984,0.941) RGB{N0f8}(0.749,0.624,0.498) … RGB{N0f8}(0.749,0.624,0.498) RGB{N0f8}(1.0,0.984,0.941); RGB{N0f8}(1.0,0.984,0.941) RGB{N0f8}(1.0,0.984,0.941) … RGB{N0f8}(1.0,0.984,0.941) RGB{N0f8}(1.0,0.984,0.941)], (50, 50))"
      ]
     },
     "metadata": {},
     "output_type": "display_data"
    }
   ],
   "source": [
    "test_corr = CorridorEnv(init_corridor_env()...)"
   ]
  },
  {
   "cell_type": "code",
   "execution_count": 17,
   "metadata": {},
   "outputs": [],
   "source": [
    "using ImageView"
   ]
  },
  {
   "cell_type": "code",
   "execution_count": 20,
   "metadata": {},
   "outputs": [
    {
     "data": {
      "image/png": "[encoded data removed]",
      "text/html": [
       "<img src=\"data:image/png;base64,iVBORw0KGgoAAAANSUhEUgAAAGQAAABkCAIAAAD/gAIDAAAABGdBTUEAALGPC/xhBQAAAAFzUkdCAK7OHOkAAAAgY0hSTQAAeiYAAICEAAD6AAAAgOgAAHUwAADqYAAAOpgAABdwnLpRPAAAAMhJREFUeAHtwTEBAAAMgzAO/FveLFQAiXdHNpKZZCaZSWaSmWQmmUlmkplkJplJZpKZZCaZSWaSmWQmmUlmkplkJplJZpKZZCaZSWaSmWQmmUlmkplkJplJZpKZZCaZSWaSmWQmmUlmkplkJplJZpKZZCaZSWaSmWQmmUlmkplkJplJZpKZZCaZSWaSmWQmmUlmkplkJplJZpKZZCaZSWaSmWQmmUlmkplkJplJZpKZZCaZSWaSmWQmmUlmkplkJplJZpKZZCaZPauqBI664tf+AAAAAElFTkSuQmCC\">"
      ],
      "text/plain": [
       "100×100 Array{RGB{Float32},2} with eltype RGB{Float32}:\n",
       " RGB{Float32}(255.0,255.0,255.0)  …  RGB{Float32}(255.0,255.0,255.0)\n",
       " RGB{Float32}(255.0,255.0,255.0)     RGB{Float32}(255.0,255.0,255.0)\n",
       " RGB{Float32}(255.0,255.0,255.0)     RGB{Float32}(255.0,255.0,255.0)\n",
       " RGB{Float32}(255.0,255.0,255.0)     RGB{Float32}(255.0,255.0,255.0)\n",
       " RGB{Float32}(255.0,255.0,255.0)     RGB{Float32}(255.0,255.0,255.0)\n",
       " RGB{Float32}(255.0,255.0,255.0)  …  RGB{Float32}(255.0,255.0,255.0)\n",
       " RGB{Float32}(255.0,255.0,255.0)     RGB{Float32}(255.0,255.0,255.0)\n",
       " RGB{Float32}(255.0,255.0,255.0)     RGB{Float32}(255.0,255.0,255.0)\n",
       " RGB{Float32}(255.0,255.0,255.0)     RGB{Float32}(255.0,255.0,255.0)\n",
       " RGB{Float32}(255.0,255.0,255.0)     RGB{Float32}(255.0,255.0,255.0)\n",
       " ⋮                                ⋱  \n",
       " RGB{Float32}(255.0,255.0,255.0)     RGB{Float32}(255.0,255.0,255.0)\n",
       " RGB{Float32}(255.0,255.0,255.0)     RGB{Float32}(255.0,255.0,255.0)\n",
       " RGB{Float32}(255.0,255.0,255.0)     RGB{Float32}(255.0,255.0,255.0)\n",
       " RGB{Float32}(255.0,255.0,255.0)     RGB{Float32}(255.0,255.0,255.0)\n",
       " RGB{Float32}(255.0,255.0,255.0)  …  RGB{Float32}(255.0,255.0,255.0)\n",
       " RGB{Float32}(255.0,255.0,255.0)     RGB{Float32}(255.0,255.0,255.0)\n",
       " RGB{Float32}(255.0,255.0,255.0)     RGB{Float32}(255.0,255.0,255.0)\n",
       " RGB{Float32}(255.0,255.0,255.0)     RGB{Float32}(255.0,255.0,255.0)\n",
       " RGB{Float32}(255.0,255.0,255.0)     RGB{Float32}(255.0,255.0,255.0)"
      ]
     },
     "metadata": {},
     "output_type": "display_data"
    }
   ],
   "source": [
    "p = 255*ones(RGB{N0f8},(100,100))\n",
    "#imshow(p)"
   ]
  },
  {
   "cell_type": "code",
   "execution_count": 21,
   "metadata": {},
   "outputs": [],
   "source": [
    "using DataFrames\n",
    "using CSV"
   ]
  },
  {
   "cell_type": "code",
   "execution_count": 22,
   "metadata": {},
   "outputs": [
    {
     "data": {
      "text/plain": [
       "10-element Vector{Int64}:\n",
       " 1\n",
       " 1\n",
       " 1\n",
       " 1\n",
       " 1\n",
       " 1\n",
       " 1\n",
       " 1\n",
       " 1\n",
       " 1"
      ]
     },
     "metadata": {},
     "output_type": "display_data"
    }
   ],
   "source": [
    "a = zeros(Int,10)\n",
    "b = ones(Int,10)"
   ]
  },
  {
   "cell_type": "code",
   "execution_count": 23,
   "metadata": {},
   "outputs": [
    {
     "data": {
      "text/plain": [
       "\"./test.csv\""
      ]
     },
     "metadata": {},
     "output_type": "display_data"
    }
   ],
   "source": [
    "save_data2 = DataFrame(X = a, Y = b)\n",
    "CSV.write(\"./test.csv\", save_data2)"
   ]
  },
  {
   "cell_type": "code",
   "execution_count": 24,
   "metadata": {},
   "outputs": [
    {
     "data": {
      "text/html": [
       "<div class=\"data-frame\"><p>10 rows × 2 columns</p><table class=\"data-frame\"><thead><tr><th></th><th>X</th><th>Y</th></tr><tr><th></th><th title=\"Int64\">Int64</th><th title=\"Int64\">Int64</th></tr></thead><tbody><tr><th>1</th><td>0</td><td>1</td></tr><tr><th>2</th><td>0</td><td>1</td></tr><tr><th>3</th><td>0</td><td>1</td></tr><tr><th>4</th><td>0</td><td>1</td></tr><tr><th>5</th><td>0</td><td>1</td></tr><tr><th>6</th><td>0</td><td>1</td></tr><tr><th>7</th><td>0</td><td>1</td></tr><tr><th>8</th><td>0</td><td>1</td></tr><tr><th>9</th><td>0</td><td>1</td></tr><tr><th>10</th><td>0</td><td>1</td></tr></tbody></table></div>"
      ],
      "text/latex": [
       "\\begin{tabular}{r|cc}\n",
       "\t& X & Y\\\\\n",
       "\t\\hline\n",
       "\t& Int64 & Int64\\\\\n",
       "\t\\hline\n",
       "\t1 & 0 & 1 \\\\\n",
       "\t2 & 0 & 1 \\\\\n",
       "\t3 & 0 & 1 \\\\\n",
       "\t4 & 0 & 1 \\\\\n",
       "\t5 & 0 & 1 \\\\\n",
       "\t6 & 0 & 1 \\\\\n",
       "\t7 & 0 & 1 \\\\\n",
       "\t8 & 0 & 1 \\\\\n",
       "\t9 & 0 & 1 \\\\\n",
       "\t10 & 0 & 1 \\\\\n",
       "\\end{tabular}\n"
      ],
      "text/plain": [
       "\u001b[1m10×2 DataFrame\u001b[0m\n",
       "\u001b[1m Row \u001b[0m│\u001b[1m X     \u001b[0m\u001b[1m Y     \u001b[0m\n",
       "\u001b[1m     \u001b[0m│\u001b[90m Int64 \u001b[0m\u001b[90m Int64 \u001b[0m\n",
       "─────┼──────────────\n",
       "   1 │     0      1\n",
       "   2 │     0      1\n",
       "   3 │     0      1\n",
       "   4 │     0      1\n",
       "   5 │     0      1\n",
       "   6 │     0      1\n",
       "   7 │     0      1\n",
       "   8 │     0      1\n",
       "   9 │     0      1\n",
       "  10 │     0      1"
      ]
     },
     "metadata": {},
     "output_type": "display_data"
    }
   ],
   "source": [
    "read_data = CSV.read(\"./test.csv\", DataFrame)"
   ]
  },
  {
   "cell_type": "code",
   "execution_count": 26,
   "metadata": {},
   "outputs": [
    {
     "data": {
      "text/plain": [
       "10-element Vector{Int64}:\n",
       " 0\n",
       " 0\n",
       " 0\n",
       " 0\n",
       " 0\n",
       " 0\n",
       " 0\n",
       " 0\n",
       " 0\n",
       " 0"
      ]
     },
     "metadata": {},
     "output_type": "display_data"
    }
   ],
   "source": [
    "read_data.X"
   ]
  },
  {
   "cell_type": "code",
   "execution_count": 30,
   "metadata": {},
   "outputs": [],
   "source": [
    "x1 = collect(0:0.1pi:pi)\n",
    "using Plots"
   ]
  },
  {
   "cell_type": "code",
   "execution_count": 33,
   "metadata": {},
   "outputs": [
    {
     "name": "stdout",
     "output_type": "stream",
     "text": [
      "Press any key to continue\n"
     ]
    },
    {
     "data": {
      "text/plain": [
       "wait_for_key (generic function with 1 method)"
      ]
     },
     "metadata": {},
     "output_type": "display_data"
    }
   ],
   "source": [
    "function wait_for_key(msg::String)\n",
    "    println(msg)\n",
    "    r = read(stdin, Char)\n",
    "    string(r)\n",
    "    return r\n",
    "end"
   ]
  },
  {
   "cell_type": "code",
   "execution_count": 34,
   "metadata": {},
   "outputs": [
    {
     "ename": "InterruptException",
     "evalue": "InterruptException:",
     "output_type": "error",
     "traceback": [
      "InterruptException:\n",
      "\n",
      "Stacktrace:\n",
      "  [1] poptask(W::Base.InvasiveLinkedListSynchronized{Task})\n",
      "    @ Base ./task.jl:827\n",
      "  [2] wait()\n",
      "    @ Base ./task.jl:836\n",
      "  [3] wait(c::Base.GenericCondition{Base.Threads.SpinLock})\n",
      "    @ Base ./condition.jl:123\n",
      "  [4] wait_readnb(x::Base.PipeEndpoint, nb::Int64)\n",
      "    @ Base ./stream.jl:413\n",
      "  [5] eof\n",
      "    @ ./stream.jl:106 [inlined]\n",
      "  [6] read(this::Base.PipeEndpoint, #unused#::Type{UInt8})\n",
      "    @ Base ./stream.jl:925\n",
      "  [7] read\n",
      "    @ ./io.jl:366 [inlined]\n",
      "  [8] read(io::VSCodeServer.IJuliaCore.IJuliaStdio{Base.PipeEndpoint, typeof(VSCodeServer.io_send_callback)}, #unused#::Type{Char})\n",
      "    @ Base ./io.jl:752\n",
      "  [9] wait_for_key(msg::String)\n",
      "    @ Main ~/Documents/Codes/julia/ReinforcementLearning/test.ipynb:3\n",
      " [10] eval\n",
      "    @ ./boot.jl:373 [inlined]\n",
      " [11] include_string(mapexpr::typeof(REPL.softscope), mod::Module, code::String, filename::String)\n",
      "    @ Base ./loading.jl:1196\n",
      " [12] #invokelatest#2\n",
      "    @ ./essentials.jl:716 [inlined]\n",
      " [13] invokelatest\n",
      "    @ ./essentials.jl:714 [inlined]\n",
      " [14] (::VSCodeServer.var\"#164#165\"{VSCodeServer.NotebookRunCellArguments, String})()\n",
      "    @ VSCodeServer ~/.vscode/extensions/julialang.language-julia-1.6.17/scripts/packages/VSCodeServer/src/serve_notebook.jl:19\n",
      " [15] withpath(f::VSCodeServer.var\"#164#165\"{VSCodeServer.NotebookRunCellArguments, String}, path::String)\n",
      "    @ VSCodeServer ~/.vscode/extensions/julialang.language-julia-1.6.17/scripts/packages/VSCodeServer/src/repl.jl:184\n",
      " [16] notebook_runcell_request(conn::VSCodeServer.JSONRPC.JSONRPCEndpoint{Base.PipeEndpoint, Base.PipeEndpoint}, params::VSCodeServer.NotebookRunCellArguments)\n",
      "    @ VSCodeServer ~/.vscode/extensions/julialang.language-julia-1.6.17/scripts/packages/VSCodeServer/src/serve_notebook.jl:13\n",
      " [17] dispatch_msg(x::VSCodeServer.JSONRPC.JSONRPCEndpoint{Base.PipeEndpoint, Base.PipeEndpoint}, dispatcher::VSCodeServer.JSONRPC.MsgDispatcher, msg::Dict{String, Any})\n",
      "    @ VSCodeServer.JSONRPC ~/.vscode/extensions/julialang.language-julia-1.6.17/scripts/packages/JSONRPC/src/typed.jl:67\n",
      " [18] serve_notebook(pipename::String, outputchannel_logger::Base.CoreLogging.SimpleLogger; crashreporting_pipename::String)\n",
      "    @ VSCodeServer ~/.vscode/extensions/julialang.language-julia-1.6.17/scripts/packages/VSCodeServer/src/serve_notebook.jl:136\n",
      " [19] top-level scope\n",
      "    @ ~/.vscode/extensions/julialang.language-julia-1.6.17/scripts/notebook/notebook.jl:32\n",
      " [20] include(mod::Module, _path::String)\n",
      "    @ Base ./Base.jl:418\n",
      " [21] exec_options(opts::Base.JLOptions)\n",
      "    @ Base ./client.jl:292\n",
      " [22] _start()\n",
      "    @ Base ./client.jl:495"
     ]
    }
   ],
   "source": [
    "x = wait_for_key(\"Press any key to continue\")"
   ]
  },
  {
   "cell_type": "code",
   "execution_count": null,
   "metadata": {},
   "outputs": [],
   "source": []
  }
 ],
 "metadata": {
  "kernelspec": {
   "display_name": "Julia 1.7.2",
   "language": "julia",
   "name": "julia-1.7"
  },
  "language_info": {
   "file_extension": ".jl",
   "mimetype": "application/julia",
   "name": "julia",
   "version": "1.7.2"
  },
  "orig_nbformat": 4
 },
 "nbformat": 4,
 "nbformat_minor": 2
}
