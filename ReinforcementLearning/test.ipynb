{
 "cells": [
  {
   "cell_type": "code",
   "execution_count": 1,
   "metadata": {},
   "outputs": [
    {
     "data": {
      "text/plain": [
       "get_Q (generic function with 1 method)"
      ]
     },
     "metadata": {},
     "output_type": "display_data"
    }
   ],
   "source": [
    "using LinearAlgebra\n",
    "#module core\n",
    "mutable struct coreEnv\n",
    "    n_act::Int\n",
    "    done::Bool\n",
    "end\n",
    "\n",
    "function coreEnv_init()\n",
    "    return 2, false\n",
    "end\n",
    "\n",
    "function reset(c::coreEnv)\n",
    "    c.done = false\n",
    "    obs = zeros(Int,4)\n",
    "    return obs\n",
    "end\n",
    "\n",
    "function step(c::coreEnv, act)\n",
    "    if(c.done)\n",
    "        obs = reset()\n",
    "        return nothing, nothing, obs\n",
    "    end\n",
    "\n",
    "    rwd::Float64 = 1.0\n",
    "    done::Bool = true\n",
    "\n",
    "    c.doce = done\n",
    "    obs = zeros(Int,4)\n",
    "\n",
    "    return rwd, done, obs\n",
    "end\n",
    "\n",
    "function render()\n",
    "    img = zeros(UInt8, 100, 200, 3)\n",
    "    return img\n",
    "end\n",
    "\n",
    "mutable struct coreAgt\n",
    "    epsilon::Float64\n",
    "end\n",
    "\n",
    "coreAgt_init() = 0.4\n",
    "\n",
    "function select_action(obs::Array{Int,1})\n",
    "    act::Int = 0\n",
    "    return act\n",
    "end\n",
    "\n",
    "function learn(obs::Array{Int,1}, act::Int, rwd::Float64, done::Bool, next_bos)\n",
    "    if(isnothing(rwd))\n",
    "        return\n",
    "    end\n",
    "end\n",
    "\n",
    "function get_Q(obs::Array{Int,1})\n",
    "    Q = zeros(Float64,2)\n",
    "    return Q\n",
    "end"
   ]
  },
  {
   "cell_type": "code",
   "execution_count": 5,
   "metadata": {},
   "outputs": [],
   "source": [
    "using Images\n",
    "\n",
    "PATH_BLANK = \"image/blank.png\"\n",
    "PATH_ROBOT = \"image/robo_right.png\"\n",
    "PATH_CRYSTAL = \"image/crystal_small.png\"\n",
    "\n",
    "struct CorridorEnv\n",
    "    c::coreEnv\n",
    "    ID_blank::Int\n",
    "    ID_robot::Int\n",
    "    ID_crystal::Int\n",
    "    field_length::Int\n",
    "    crystal_candidate::Tuple{Int, Int}\n",
    "    rwd_fail::Float64\n",
    "    rwd_move::Float64\n",
    "    rwd_crystal::Float64\n",
    "    robot_pos\n",
    "    crystal_pos\n",
    "    robot_state\n",
    "    img_robot::Array{RGB{N0f8},2}\n",
    "    img_crystal::Array{RGB{N0f8},2}\n",
    "    img_blank::Array{RGB{N0f8},2}\n",
    "    unit\n",
    "end"
   ]
  },
  {
   "cell_type": "code",
   "execution_count": 10,
   "metadata": {},
   "outputs": [
    {
     "data": {
      "text/plain": [
       "init_corridor_env (generic function with 1 method)"
      ]
     },
     "metadata": {},
     "output_type": "display_data"
    }
   ],
   "source": [
    "function init_corridor_env()\n",
    "    ID_blank::Int = 0\n",
    "    ID_robot::Int = 1\n",
    "    ID_crystal::Int =2\n",
    "    field_length::Int = 4\n",
    "    crystal_candidate::Tuple{Int, Int} = (2,3)\n",
    "    rwd_fail::Float64 = -1.0\n",
    "    rwd_move::Float64 = -1.0\n",
    "    rwd_crystal::Float64 = 5.0\n",
    "    robot_pos = nothing\n",
    "    crystal_pos = nothing\n",
    "    robot_state = nothing\n",
    "    img_robot = load(PATH_ROBOT)\n",
    "    img_crystal = load(PATH_CRYSTAL)\n",
    "    img_blank = load(PATH_BLANK)\n",
    "    unit = size(img_robot)\n",
    "    c = coreEnv(coreEnv_init()...)\n",
    "\n",
    "    return c, ID_blank, ID_robot, ID_crystal, field_length, crystal_candidate, rwd_fail, rwd_move, rwd_crystal, robot_pos, crystal_pos, robot_state, img_robot, img_crystal, img_blank, unit\n",
    "end"
   ]
  },
  {
   "cell_type": "code",
   "execution_count": 11,
   "metadata": {},
   "outputs": [
    {
     "data": {
      "text/plain": [
       "CorridorEnv(coreEnv(2, false), 0, 1, 2, 4, (2, 3), -1.0, -1.0, 5.0, nothing, nothing, nothing, RGB{N0f8}[RGB{N0f8}(1.0,1.0,1.0) RGB{N0f8}(1.0,1.0,1.0) … RGB{N0f8}(1.0,1.0,1.0) RGB{N0f8}(1.0,1.0,1.0); RGB{N0f8}(1.0,1.0,1.0) RGB{N0f8}(1.0,1.0,1.0) … RGB{N0f8}(1.0,1.0,1.0) RGB{N0f8}(1.0,1.0,1.0); … ; RGB{N0f8}(1.0,1.0,1.0) RGB{N0f8}(1.0,1.0,1.0) … RGB{N0f8}(1.0,1.0,1.0) RGB{N0f8}(1.0,1.0,1.0); RGB{N0f8}(1.0,1.0,1.0) RGB{N0f8}(1.0,1.0,1.0) … RGB{N0f8}(1.0,1.0,1.0) RGB{N0f8}(1.0,1.0,1.0)], RGB{N0f8}[RGB{N0f8}(1.0,1.0,1.0) RGB{N0f8}(1.0,1.0,1.0) … RGB{N0f8}(1.0,1.0,1.0) RGB{N0f8}(1.0,1.0,1.0); RGB{N0f8}(1.0,1.0,1.0) RGB{N0f8}(1.0,1.0,1.0) … RGB{N0f8}(1.0,1.0,1.0) RGB{N0f8}(1.0,1.0,1.0); … ; RGB{N0f8}(1.0,1.0,1.0) RGB{N0f8}(1.0,1.0,1.0) … RGB{N0f8}(1.0,1.0,1.0) RGB{N0f8}(1.0,1.0,1.0); RGB{N0f8}(1.0,1.0,1.0) RGB{N0f8}(1.0,1.0,1.0) … RGB{N0f8}(1.0,1.0,1.0) RGB{N0f8}(1.0,1.0,1.0)], RGB{N0f8}[RGB{N0f8}(1.0,0.984,0.941) RGB{N0f8}(1.0,0.984,0.941) … RGB{N0f8}(1.0,0.984,0.941) RGB{N0f8}(1.0,0.984,0.941); RGB{N0f8}(1.0,0.984,0.941) RGB{N0f8}(0.812,0.718,0.624) … RGB{N0f8}(0.812,0.718,0.624) RGB{N0f8}(1.0,0.984,0.941); … ; RGB{N0f8}(1.0,0.984,0.941) RGB{N0f8}(0.749,0.624,0.498) … RGB{N0f8}(0.749,0.624,0.498) RGB{N0f8}(1.0,0.984,0.941); RGB{N0f8}(1.0,0.984,0.941) RGB{N0f8}(1.0,0.984,0.941) … RGB{N0f8}(1.0,0.984,0.941) RGB{N0f8}(1.0,0.984,0.941)], (50, 50))"
      ]
     },
     "metadata": {},
     "output_type": "display_data"
    }
   ],
   "source": [
    "test_corr = CorridorEnv(init_corridor_env()...)"
   ]
  },
  {
   "cell_type": "code",
   "execution_count": 17,
   "metadata": {},
   "outputs": [],
   "source": [
    "using ImageView"
   ]
  },
  {
   "cell_type": "code",
   "execution_count": 20,
   "metadata": {},
   "outputs": [
    {
     "data": {
      "image/png": "[encoded data removed]",
      "text/html": [
       "<img src=\"data:image/png;base64,iVBORw0KGgoAAAANSUhEUgAAAGQAAABkCAIAAAD/gAIDAAAABGdBTUEAALGPC/xhBQAAAAFzUkdCAK7OHOkAAAAgY0hSTQAAeiYAAICEAAD6AAAAgOgAAHUwAADqYAAAOpgAABdwnLpRPAAAAMhJREFUeAHtwTEBAAAMgzAO/FveLFQAiXdHNpKZZCaZSWaSmWQmmUlmkplkJplJZpKZZCaZSWaSmWQmmUlmkplkJplJZpKZZCaZSWaSmWQmmUlmkplkJplJZpKZZCaZSWaSmWQmmUlmkplkJplJZpKZZCaZSWaSmWQmmUlmkplkJplJZpKZZCaZSWaSmWQmmUlmkplkJplJZpKZZCaZSWaSmWQmmUlmkplkJplJZpKZZCaZSWaSmWQmmUlmkplkJplJZpKZZCaZPauqBI664tf+AAAAAElFTkSuQmCC\">"
      ],
      "text/plain": [
       "100×100 Array{RGB{Float32},2} with eltype RGB{Float32}:\n",
       " RGB{Float32}(255.0,255.0,255.0)  …  RGB{Float32}(255.0,255.0,255.0)\n",
       " RGB{Float32}(255.0,255.0,255.0)     RGB{Float32}(255.0,255.0,255.0)\n",
       " RGB{Float32}(255.0,255.0,255.0)     RGB{Float32}(255.0,255.0,255.0)\n",
       " RGB{Float32}(255.0,255.0,255.0)     RGB{Float32}(255.0,255.0,255.0)\n",
       " RGB{Float32}(255.0,255.0,255.0)     RGB{Float32}(255.0,255.0,255.0)\n",
       " RGB{Float32}(255.0,255.0,255.0)  …  RGB{Float32}(255.0,255.0,255.0)\n",
       " RGB{Float32}(255.0,255.0,255.0)     RGB{Float32}(255.0,255.0,255.0)\n",
       " RGB{Float32}(255.0,255.0,255.0)     RGB{Float32}(255.0,255.0,255.0)\n",
       " RGB{Float32}(255.0,255.0,255.0)     RGB{Float32}(255.0,255.0,255.0)\n",
       " RGB{Float32}(255.0,255.0,255.0)     RGB{Float32}(255.0,255.0,255.0)\n",
       " ⋮                                ⋱  \n",
       " RGB{Float32}(255.0,255.0,255.0)     RGB{Float32}(255.0,255.0,255.0)\n",
       " RGB{Float32}(255.0,255.0,255.0)     RGB{Float32}(255.0,255.0,255.0)\n",
       " RGB{Float32}(255.0,255.0,255.0)     RGB{Float32}(255.0,255.0,255.0)\n",
       " RGB{Float32}(255.0,255.0,255.0)     RGB{Float32}(255.0,255.0,255.0)\n",
       " RGB{Float32}(255.0,255.0,255.0)  …  RGB{Float32}(255.0,255.0,255.0)\n",
       " RGB{Float32}(255.0,255.0,255.0)     RGB{Float32}(255.0,255.0,255.0)\n",
       " RGB{Float32}(255.0,255.0,255.0)     RGB{Float32}(255.0,255.0,255.0)\n",
       " RGB{Float32}(255.0,255.0,255.0)     RGB{Float32}(255.0,255.0,255.0)\n",
       " RGB{Float32}(255.0,255.0,255.0)     RGB{Float32}(255.0,255.0,255.0)"
      ]
     },
     "metadata": {},
     "output_type": "display_data"
    }
   ],
   "source": [
    "p = 255*ones(RGB{N0f8},(100,100))\n",
    "#imshow(p)"
   ]
  },
  {
   "cell_type": "code",
   "execution_count": 21,
   "metadata": {},
   "outputs": [],
   "source": [
    "using DataFrames\n",
    "using CSV"
   ]
  },
  {
   "cell_type": "code",
   "execution_count": 22,
   "metadata": {},
   "outputs": [
    {
     "data": {
      "text/plain": [
       "10-element Vector{Int64}:\n",
       " 1\n",
       " 1\n",
       " 1\n",
       " 1\n",
       " 1\n",
       " 1\n",
       " 1\n",
       " 1\n",
       " 1\n",
       " 1"
      ]
     },
     "metadata": {},
     "output_type": "display_data"
    }
   ],
   "source": [
    "a = zeros(Int,10)\n",
    "b = ones(Int,10)"
   ]
  },
  {
   "cell_type": "code",
   "execution_count": 23,
   "metadata": {},
   "outputs": [
    {
     "data": {
      "text/plain": [
       "\"./test.csv\""
      ]
     },
     "metadata": {},
     "output_type": "display_data"
    }
   ],
   "source": [
    "save_data2 = DataFrame(X = a, Y = b)\n",
    "CSV.write(\"./test.csv\", save_data2)"
   ]
  },
  {
   "cell_type": "code",
   "execution_count": 24,
   "metadata": {},
   "outputs": [
    {
     "data": {
      "text/html": [
       "<div class=\"data-frame\"><p>10 rows × 2 columns</p><table class=\"data-frame\"><thead><tr><th></th><th>X</th><th>Y</th></tr><tr><th></th><th title=\"Int64\">Int64</th><th title=\"Int64\">Int64</th></tr></thead><tbody><tr><th>1</th><td>0</td><td>1</td></tr><tr><th>2</th><td>0</td><td>1</td></tr><tr><th>3</th><td>0</td><td>1</td></tr><tr><th>4</th><td>0</td><td>1</td></tr><tr><th>5</th><td>0</td><td>1</td></tr><tr><th>6</th><td>0</td><td>1</td></tr><tr><th>7</th><td>0</td><td>1</td></tr><tr><th>8</th><td>0</td><td>1</td></tr><tr><th>9</th><td>0</td><td>1</td></tr><tr><th>10</th><td>0</td><td>1</td></tr></tbody></table></div>"
      ],
      "text/latex": [
       "\\begin{tabular}{r|cc}\n",
       "\t& X & Y\\\\\n",
       "\t\\hline\n",
       "\t& Int64 & Int64\\\\\n",
       "\t\\hline\n",
       "\t1 & 0 & 1 \\\\\n",
       "\t2 & 0 & 1 \\\\\n",
       "\t3 & 0 & 1 \\\\\n",
       "\t4 & 0 & 1 \\\\\n",
       "\t5 & 0 & 1 \\\\\n",
       "\t6 & 0 & 1 \\\\\n",
       "\t7 & 0 & 1 \\\\\n",
       "\t8 & 0 & 1 \\\\\n",
       "\t9 & 0 & 1 \\\\\n",
       "\t10 & 0 & 1 \\\\\n",
       "\\end{tabular}\n"
      ],
      "text/plain": [
       "\u001b[1m10×2 DataFrame\u001b[0m\n",
       "\u001b[1m Row \u001b[0m│\u001b[1m X     \u001b[0m\u001b[1m Y     \u001b[0m\n",
       "\u001b[1m     \u001b[0m│\u001b[90m Int64 \u001b[0m\u001b[90m Int64 \u001b[0m\n",
       "─────┼──────────────\n",
       "   1 │     0      1\n",
       "   2 │     0      1\n",
       "   3 │     0      1\n",
       "   4 │     0      1\n",
       "   5 │     0      1\n",
       "   6 │     0      1\n",
       "   7 │     0      1\n",
       "   8 │     0      1\n",
       "   9 │     0      1\n",
       "  10 │     0      1"
      ]
     },
     "metadata": {},
     "output_type": "display_data"
    }
   ],
   "source": [
    "read_data = CSV.read(\"./test.csv\", DataFrame)"
   ]
  },
  {
   "cell_type": "code",
   "execution_count": 26,
   "metadata": {},
   "outputs": [
    {
     "data": {
      "text/plain": [
       "10-element Vector{Int64}:\n",
       " 0\n",
       " 0\n",
       " 0\n",
       " 0\n",
       " 0\n",
       " 0\n",
       " 0\n",
       " 0\n",
       " 0\n",
       " 0"
      ]
     },
     "metadata": {},
     "output_type": "display_data"
    }
   ],
   "source": [
    "read_data.X"
   ]
  },
  {
   "cell_type": "code",
   "execution_count": 30,
   "metadata": {},
   "outputs": [],
   "source": [
    "x1 = collect(0:0.1pi:pi)\n",
    "using Plots"
   ]
  },
  {
   "cell_type": "code",
   "execution_count": 22,
   "metadata": {},
   "outputs": [
    {
     "data": {
      "text/plain": [
       "test! (generic function with 1 method)"
      ]
     },
     "execution_count": 22,
     "metadata": {},
     "output_type": "execute_result"
    }
   ],
   "source": [
    "function test!(x)\n",
    "    x+=1\n",
    "    return nothing\n",
    "end"
   ]
  },
  {
   "cell_type": "code",
   "execution_count": 23,
   "metadata": {},
   "outputs": [
    {
     "name": "stdout",
     "output_type": "stream",
     "text": [
      "0\n"
     ]
    }
   ],
   "source": [
    "x=0\n",
    "test!(x)\n",
    "println(x)"
   ]
  },
  {
   "cell_type": "code",
   "execution_count": 7,
   "metadata": {},
   "outputs": [
    {
     "ename": "LoadError",
     "evalue": "invalid redefinition of type xx",
     "output_type": "error",
     "traceback": [
      "invalid redefinition of type xx",
      "",
      "Stacktrace:",
      " [1] top-level scope",
      "   @ In[7]:1",
      " [2] eval",
      "   @ ./boot.jl:373 [inlined]",
      " [3] include_string(mapexpr::typeof(REPL.softscope), mod::Module, code::String, filename::String)",
      "   @ Base ./loading.jl:1196"
     ]
    }
   ],
   "source": [
    "mutable struct xx\n",
    "    x::Int\n",
    "end"
   ]
  },
  {
   "cell_type": "code",
   "execution_count": 8,
   "metadata": {},
   "outputs": [],
   "source": [
    "mutable struct yy\n",
    "    x::Int\n",
    "end"
   ]
  },
  {
   "cell_type": "code",
   "execution_count": 9,
   "metadata": {},
   "outputs": [
    {
     "data": {
      "text/plain": [
       "test2 (generic function with 2 methods)"
      ]
     },
     "execution_count": 9,
     "metadata": {},
     "output_type": "execute_result"
    }
   ],
   "source": [
    "function test2(x1::yy)\n",
    "    x1.x += 1\n",
    "end"
   ]
  },
  {
   "cell_type": "code",
   "execution_count": 10,
   "metadata": {},
   "outputs": [
    {
     "name": "stdout",
     "output_type": "stream",
     "text": [
      "2\n"
     ]
    }
   ],
   "source": [
    "x_test = yy(1)\n",
    "test2(x_test)\n",
    "println(x_test.x)"
   ]
  },
  {
   "cell_type": "code",
   "execution_count": 24,
   "metadata": {},
   "outputs": [],
   "source": [
    "using Random"
   ]
  },
  {
   "cell_type": "code",
   "execution_count": 32,
   "metadata": {},
   "outputs": [
    {
     "data": {
      "text/plain": [
       "0.013928343484312156"
      ]
     },
     "execution_count": 32,
     "metadata": {},
     "output_type": "execute_result"
    }
   ],
   "source": [
    "rand()"
   ]
  },
  {
   "cell_type": "code",
   "execution_count": 34,
   "metadata": {},
   "outputs": [
    {
     "data": {
      "text/plain": [
       "1"
      ]
     },
     "execution_count": 34,
     "metadata": {},
     "output_type": "execute_result"
    }
   ],
   "source": [
    "rand(1:4)"
   ]
  },
  {
   "cell_type": "code",
   "execution_count": 35,
   "metadata": {},
   "outputs": [
    {
     "data": {
      "text/plain": [
       "Dict{String, String} with 1 entry:\n",
       "  \"1\" => \"qw\""
      ]
     },
     "execution_count": 35,
     "metadata": {},
     "output_type": "execute_result"
    }
   ],
   "source": [
    "dic_test = Dict(\"1\"=>\"qw\")"
   ]
  },
  {
   "cell_type": "code",
   "execution_count": 38,
   "metadata": {},
   "outputs": [
    {
     "ename": "LoadError",
     "evalue": "KeyError: key \"2\" not found",
     "output_type": "error",
     "traceback": [
      "KeyError: key \"2\" not found",
      "",
      "Stacktrace:",
      " [1] getindex(h::Dict{String, String}, key::String)",
      "   @ Base ./dict.jl:481",
      " [2] top-level scope",
      "   @ In[38]:1",
      " [3] eval",
      "   @ ./boot.jl:373 [inlined]",
      " [4] include_string(mapexpr::typeof(REPL.softscope), mod::Module, code::String, filename::String)",
      "   @ Base ./loading.jl:1196"
     ]
    }
   ],
   "source": [
    "typeof(dic_test[\"2\"])"
   ]
  },
  {
   "cell_type": "code",
   "execution_count": 40,
   "metadata": {},
   "outputs": [
    {
     "data": {
      "text/plain": [
       "true"
      ]
     },
     "execution_count": 40,
     "metadata": {},
     "output_type": "execute_result"
    }
   ],
   "source": [
    "haskey(dic_test,\"1\")"
   ]
  },
  {
   "cell_type": "code",
   "execution_count": 46,
   "metadata": {},
   "outputs": [
    {
     "data": {
      "text/plain": [
       "testx (generic function with 1 method)"
      ]
     },
     "execution_count": 46,
     "metadata": {},
     "output_type": "execute_result"
    }
   ],
   "source": [
    "function test()\n",
    "    return nothing, nothing, 3\n",
    "end\n",
    "\n",
    "function testx()\n",
    "    a = nothing\n",
    "    b = nothing\n",
    "    c = nothing\n",
    "    a, b, c = test()\n",
    "    println(a)\n",
    "    println(b)\n",
    "    println(c)\n",
    "    typeof(c)\n",
    "end"
   ]
  },
  {
   "cell_type": "code",
   "execution_count": 47,
   "metadata": {},
   "outputs": [
    {
     "name": "stdout",
     "output_type": "stream",
     "text": [
      "nothing\n",
      "nothing\n",
      "3\n"
     ]
    },
    {
     "data": {
      "text/plain": [
       "Int64"
      ]
     },
     "execution_count": 47,
     "metadata": {},
     "output_type": "execute_result"
    }
   ],
   "source": [
    "testx()"
   ]
  },
  {
   "cell_type": "code",
   "execution_count": 48,
   "metadata": {},
   "outputs": [],
   "source": [
    "using Serialization"
   ]
  },
  {
   "cell_type": "code",
   "execution_count": 55,
   "metadata": {},
   "outputs": [
    {
     "data": {
      "text/plain": [
       "Dict{String, String} with 1 entry:\n",
       "  \"a\" => \"apple\""
      ]
     },
     "execution_count": 55,
     "metadata": {},
     "output_type": "execute_result"
    }
   ],
   "source": [
    "data = Dict{String,String}(\"a\" => \"apple\")"
   ]
  },
  {
   "cell_type": "code",
   "execution_count": 56,
   "metadata": {},
   "outputs": [],
   "source": [
    "serialize(\"serialize_test.dat\", data)"
   ]
  },
  {
   "cell_type": "code",
   "execution_count": 58,
   "metadata": {},
   "outputs": [
    {
     "data": {
      "text/plain": [
       "Dict{String, String} with 1 entry:\n",
       "  \"a\" => \"apple\""
      ]
     },
     "execution_count": 58,
     "metadata": {},
     "output_type": "execute_result"
    }
   ],
   "source": [
    "ww = open(deserialize,\"serialize_test.dat\")"
   ]
  },
  {
   "cell_type": "code",
   "execution_count": 59,
   "metadata": {},
   "outputs": [
    {
     "data": {
      "text/plain": [
       "Dict{String, String} with 1 entry:\n",
       "  \"a\" => \"apple\""
      ]
     },
     "execution_count": 59,
     "metadata": {},
     "output_type": "execute_result"
    }
   ],
   "source": [
    "ww"
   ]
  },
  {
   "cell_type": "code",
   "execution_count": 61,
   "metadata": {},
   "outputs": [],
   "source": [
    "using Random"
   ]
  },
  {
   "cell_type": "code",
   "execution_count": 64,
   "metadata": {},
   "outputs": [
    {
     "data": {
      "text/plain": [
       "3"
      ]
     },
     "execution_count": 64,
     "metadata": {},
     "output_type": "execute_result"
    }
   ],
   "source": [
    "rand(1:4)"
   ]
  },
  {
   "cell_type": "code",
   "execution_count": 120,
   "metadata": {},
   "outputs": [],
   "source": [
    "using Images"
   ]
  },
  {
   "cell_type": "code",
   "execution_count": 67,
   "metadata": {},
   "outputs": [
    {
     "data": {
      "image/png": "[encoded data removed]",
      "text/html": [
       "<img src=\"data:image/png;base64,iVBORw0KGgoAAAANSUhEUgAAADIAAADICAIAAAAlVCWZAAAABGdBTUEAALGPC/xhBQAAAAFzUkdCAK7OHOkAAAAgY0hSTQAAeiYAAICEAAD6AAAAgOgAAHUwAADqYAAAOpgAABdwnLpRPAAAAUFJREFUeAHNwTEBAAAAQDCH/pnVsMmSLMmSLMmSLMmSLMmSLMmSLMmSLMmSLMmSLMmSLMmSLMmSLMmSLMmSLMmSLMmSLMmSLMmSLMmSLMmSLMmSLMmSLMmSLMmSLMmSLMmSLMmSLMmSLMmSLMmSLMmSLMmSLMmSLMmSLMmSLMmSLMmSLMmSLMmSLMmSLMmSLMmSLMmSLMmSLMmSLMmSLMmSLMmSLMmSLMmSLMmSLMmSLMmSLMmSLMmSLMmSLMmSLMmSLMmSLMmSLMmSLMmSLMmSLMmSLMmSLMmSLMmSLMmSLMmSLMmSLMmSLMmSLMmSLMmSLMmSLMmSLMmSLMmSLMmSLMmSLMmSLMmSLMmSLMmSLMmSLMmSLMmSLMmSLMmSLMmSLMmSLMmSLMmSLMmSLMmSLMmSLMmSLMmSLMmSLMmSLAXAPwMhR3bs2AAAAABJRU5ErkJg\">"
      ],
      "text/plain": [
       "20×5 Array{RGB{N0f8},2} with eltype RGB{N0f8}:\n",
       " RGB{N0f8}(0.0,0.0,0.0)  RGB{N0f8}(0.0,0.0,0.0)  …  RGB{N0f8}(0.0,0.0,0.0)\n",
       " RGB{N0f8}(0.0,0.0,0.0)  RGB{N0f8}(0.0,0.0,0.0)     RGB{N0f8}(0.0,0.0,0.0)\n",
       " RGB{N0f8}(0.0,0.0,0.0)  RGB{N0f8}(0.0,0.0,0.0)     RGB{N0f8}(0.0,0.0,0.0)\n",
       " RGB{N0f8}(0.0,0.0,0.0)  RGB{N0f8}(0.0,0.0,0.0)     RGB{N0f8}(0.0,0.0,0.0)\n",
       " RGB{N0f8}(0.0,0.0,0.0)  RGB{N0f8}(0.0,0.0,0.0)     RGB{N0f8}(0.0,0.0,0.0)\n",
       " RGB{N0f8}(0.0,0.0,0.0)  RGB{N0f8}(0.0,0.0,0.0)  …  RGB{N0f8}(0.0,0.0,0.0)\n",
       " RGB{N0f8}(0.0,0.0,0.0)  RGB{N0f8}(0.0,0.0,0.0)     RGB{N0f8}(0.0,0.0,0.0)\n",
       " RGB{N0f8}(0.0,0.0,0.0)  RGB{N0f8}(0.0,0.0,0.0)     RGB{N0f8}(0.0,0.0,0.0)\n",
       " RGB{N0f8}(0.0,0.0,0.0)  RGB{N0f8}(0.0,0.0,0.0)     RGB{N0f8}(0.0,0.0,0.0)\n",
       " RGB{N0f8}(0.0,0.0,0.0)  RGB{N0f8}(0.0,0.0,0.0)     RGB{N0f8}(0.0,0.0,0.0)\n",
       " RGB{N0f8}(0.0,0.0,0.0)  RGB{N0f8}(0.0,0.0,0.0)  …  RGB{N0f8}(0.0,0.0,0.0)\n",
       " RGB{N0f8}(0.0,0.0,0.0)  RGB{N0f8}(0.0,0.0,0.0)     RGB{N0f8}(0.0,0.0,0.0)\n",
       " RGB{N0f8}(0.0,0.0,0.0)  RGB{N0f8}(0.0,0.0,0.0)     RGB{N0f8}(0.0,0.0,0.0)\n",
       " RGB{N0f8}(0.0,0.0,0.0)  RGB{N0f8}(0.0,0.0,0.0)     RGB{N0f8}(0.0,0.0,0.0)\n",
       " RGB{N0f8}(0.0,0.0,0.0)  RGB{N0f8}(0.0,0.0,0.0)     RGB{N0f8}(0.0,0.0,0.0)\n",
       " RGB{N0f8}(0.0,0.0,0.0)  RGB{N0f8}(0.0,0.0,0.0)  …  RGB{N0f8}(0.0,0.0,0.0)\n",
       " RGB{N0f8}(0.0,0.0,0.0)  RGB{N0f8}(0.0,0.0,0.0)     RGB{N0f8}(0.0,0.0,0.0)\n",
       " RGB{N0f8}(0.0,0.0,0.0)  RGB{N0f8}(0.0,0.0,0.0)     RGB{N0f8}(0.0,0.0,0.0)\n",
       " RGB{N0f8}(0.0,0.0,0.0)  RGB{N0f8}(0.0,0.0,0.0)     RGB{N0f8}(0.0,0.0,0.0)\n",
       " RGB{N0f8}(0.0,0.0,0.0)  RGB{N0f8}(0.0,0.0,0.0)     RGB{N0f8}(0.0,0.0,0.0)"
      ]
     },
     "execution_count": 67,
     "metadata": {},
     "output_type": "execute_result"
    }
   ],
   "source": [
    "img = zeros(RGB{N0f8},20, 5)"
   ]
  },
  {
   "cell_type": "code",
   "execution_count": 68,
   "metadata": {},
   "outputs": [
    {
     "data": {
      "image/png": "[encoded data removed]",
      "text/html": [
       "<img src=\"data:image/png;base64,iVBORw0KGgoAAAANSUhEUgAAAGQAAABkCAIAAAD/gAIDAAAABGdBTUEAALGPC/xhBQAAAAFzUkdCAK7OHOkAAAAgY0hSTQAAeiYAAICEAAD6AAAAgOgAAHUwAADqYAAAOpgAABdwnLpRPAAAAt1JREFUeAHtwdGRokAUhtGvqT8ATIAiA81AQuoMKDLokDADzIAyAYnA3icfrFprrjO0sjv3HOWccTbCmQlnJpyZ+AXqEHjdkjOPhDMT/7U6BNYjnJnYsDoE1nOaJr5yPBx4TjgzsTF1CKztNE2sQTgzsRl1CDw6TRNrOx4OfJdwZmID6hB4dJomylty5hXCmYmNOU0TfzOOI2urQ+C5JWceCWcmiqlD4HXHw4E1DCnxN6dp4rnj4cBzwpmJAuoQ+LQ+Rh4NKQHjOPJdwpmJVdUh8Og8z7zLvm15ro+RnxHOTKykDoFH53kGmqbhXc7zDOzbljKEMxMFnOcZaJqGu8vlQklN0wBN0wDneQb2bcvdkjNrEM5MODPhzIQzE85MODPhzIQzE85MODPhzIQzE85MODPhzIQzE85MODPhzIQzE85MODPhzEQB+7YFzvMMNE0DNE1DeZfLBdi3LWUIZyaK2bctcJ5n3mXftpQknJko4Hq7AbuqAvZty3tdbzdgV1WsTTgzUcz1dgN2VcW7XG83ShLOTBSzqyruhpQob1dVwPV2owzhzEQBu6ribkiJdxlSAnZVRRnCmYlihpT4hCEloI+RtQlnJgoYUuIVfYx8ZUiJTxPOTHxUHyM2fYzAkBKfI5yZ2IwhJaDrOu7GcQT6GNkG4cyEMxPOTPwCdQi8bsmZR8KZiX9KHyOfI5yZ2LCu64AhJaCPkZ85TRNfOR4OPCecmdiYcRyBruu467oOOE0TaxjHke8SzkwU0McIDCnxlSEloI8R6GMEhpSAcRyBrutYWx8j3yWcmVjJkjNQh8BdHyOv62MEhpSAcRwpacmZVwhnJla15AzUIfAzfYzAkBIl1SHw3JIzj4QzEwUsOfNddQjc9TGyhiEl7oaUeK6PkeeEMxMbs+TMXR0Ca+hjBIaU+BnhzMSGLTmzhjoEoI+RnxHOTDgz4czEL7DkzBqEMxPOTDgz4cyEM/sD+1K9jPhdBwoAAAAASUVORK5C\">"
      ],
      "text/plain": [
       "50×50 IndirectArrays.IndirectArray{RGB{N0f8}, 2, UInt8, Matrix{UInt8}, OffsetArrays.OffsetVector{RGB{N0f8}, Vector{RGB{N0f8}}}}:\n",
       " RGB{N0f8}(1.0,1.0,1.0)  RGB{N0f8}(1.0,1.0,1.0)  …  RGB{N0f8}(1.0,1.0,1.0)\n",
       " RGB{N0f8}(1.0,1.0,1.0)  RGB{N0f8}(1.0,1.0,1.0)     RGB{N0f8}(1.0,1.0,1.0)\n",
       " RGB{N0f8}(1.0,1.0,1.0)  RGB{N0f8}(1.0,1.0,1.0)     RGB{N0f8}(1.0,1.0,1.0)\n",
       " RGB{N0f8}(1.0,1.0,1.0)  RGB{N0f8}(1.0,1.0,1.0)     RGB{N0f8}(1.0,1.0,1.0)\n",
       " RGB{N0f8}(1.0,1.0,1.0)  RGB{N0f8}(1.0,1.0,1.0)     RGB{N0f8}(1.0,1.0,1.0)\n",
       " RGB{N0f8}(1.0,1.0,1.0)  RGB{N0f8}(1.0,1.0,1.0)  …  RGB{N0f8}(1.0,1.0,1.0)\n",
       " RGB{N0f8}(1.0,1.0,1.0)  RGB{N0f8}(1.0,1.0,1.0)     RGB{N0f8}(1.0,1.0,1.0)\n",
       " RGB{N0f8}(1.0,1.0,1.0)  RGB{N0f8}(1.0,1.0,1.0)     RGB{N0f8}(1.0,1.0,1.0)\n",
       " RGB{N0f8}(1.0,1.0,1.0)  RGB{N0f8}(1.0,1.0,1.0)     RGB{N0f8}(1.0,1.0,1.0)\n",
       " RGB{N0f8}(1.0,1.0,1.0)  RGB{N0f8}(1.0,1.0,1.0)     RGB{N0f8}(1.0,1.0,1.0)\n",
       " RGB{N0f8}(1.0,1.0,1.0)  RGB{N0f8}(1.0,1.0,1.0)  …  RGB{N0f8}(1.0,1.0,1.0)\n",
       " RGB{N0f8}(1.0,1.0,1.0)  RGB{N0f8}(1.0,1.0,1.0)     RGB{N0f8}(1.0,1.0,1.0)\n",
       " RGB{N0f8}(1.0,1.0,1.0)  RGB{N0f8}(1.0,1.0,1.0)     RGB{N0f8}(1.0,1.0,1.0)\n",
       " ⋮                                               ⋱  \n",
       " RGB{N0f8}(1.0,1.0,1.0)  RGB{N0f8}(1.0,1.0,1.0)     RGB{N0f8}(1.0,1.0,1.0)\n",
       " RGB{N0f8}(1.0,1.0,1.0)  RGB{N0f8}(1.0,1.0,1.0)     RGB{N0f8}(1.0,1.0,1.0)\n",
       " RGB{N0f8}(1.0,1.0,1.0)  RGB{N0f8}(1.0,1.0,1.0)  …  RGB{N0f8}(1.0,1.0,1.0)\n",
       " RGB{N0f8}(1.0,1.0,1.0)  RGB{N0f8}(1.0,1.0,1.0)     RGB{N0f8}(1.0,1.0,1.0)\n",
       " RGB{N0f8}(1.0,1.0,1.0)  RGB{N0f8}(1.0,1.0,1.0)     RGB{N0f8}(1.0,1.0,1.0)\n",
       " RGB{N0f8}(1.0,1.0,1.0)  RGB{N0f8}(1.0,1.0,1.0)     RGB{N0f8}(1.0,1.0,1.0)\n",
       " RGB{N0f8}(1.0,1.0,1.0)  RGB{N0f8}(1.0,1.0,1.0)     RGB{N0f8}(1.0,1.0,1.0)\n",
       " RGB{N0f8}(1.0,1.0,1.0)  RGB{N0f8}(1.0,1.0,1.0)  …  RGB{N0f8}(1.0,1.0,1.0)\n",
       " RGB{N0f8}(1.0,1.0,1.0)  RGB{N0f8}(1.0,1.0,1.0)     RGB{N0f8}(1.0,1.0,1.0)\n",
       " RGB{N0f8}(1.0,1.0,1.0)  RGB{N0f8}(1.0,1.0,1.0)     RGB{N0f8}(1.0,1.0,1.0)\n",
       " RGB{N0f8}(1.0,1.0,1.0)  RGB{N0f8}(1.0,1.0,1.0)     RGB{N0f8}(1.0,1.0,1.0)\n",
       " RGB{N0f8}(1.0,1.0,1.0)  RGB{N0f8}(1.0,1.0,1.0)     RGB{N0f8}(1.0,1.0,1.0)"
      ]
     },
     "execution_count": 68,
     "metadata": {},
     "output_type": "execute_result"
    }
   ],
   "source": [
    "img = load(\"./image/robo_right.png\")"
   ]
  },
  {
   "cell_type": "code",
   "execution_count": 69,
   "metadata": {},
   "outputs": [
    {
     "data": {
      "text/plain": [
       "IndirectArrays.IndirectArray{RGB{N0f8}, 2, UInt8, Matrix{UInt8}, OffsetArrays.OffsetVector{RGB{N0f8}, Vector{RGB{N0f8}}}}"
      ]
     },
     "execution_count": 69,
     "metadata": {},
     "output_type": "execute_result"
    }
   ],
   "source": [
    "typeof(img)"
   ]
  },
  {
   "cell_type": "code",
   "execution_count": 71,
   "metadata": {},
   "outputs": [
    {
     "data": {
      "text/plain": [
       "(50, 50)"
      ]
     },
     "execution_count": 71,
     "metadata": {},
     "output_type": "execute_result"
    }
   ],
   "source": [
    "size(img)"
   ]
  },
  {
   "cell_type": "code",
   "execution_count": 72,
   "metadata": {},
   "outputs": [
    {
     "data": {
      "image/svg+xml": "<?xml version=\"1.0\" encoding=\"UTF-8\"?>\n<!DOCTYPE svg PUBLIC \"-//W3C//DTD SVG 1.1//EN\"\n \"http://www.w3.org/Graphics/SVG/1.1/DTD/svg11.dtd\">\n<svg xmlns=\"http://www.w3.org/2000/svg\" version=\"1.1\"\n     width=\"25mm\" height=\"25mm\" viewBox=\"0 0 1 1\">\n    <rect width=\"1\" height=\"1\" fill=\"#E0E0E0\" stroke=\"none\"/>\n</svg>\n",
      "text/plain": [
       "RGB{N0f8}(0.878,0.878,0.878)"
      ]
     },
     "execution_count": 72,
     "metadata": {},
     "output_type": "execute_result"
    }
   ],
   "source": [
    "img[25,25]"
   ]
  },
  {
   "cell_type": "code",
   "execution_count": 73,
   "metadata": {},
   "outputs": [
    {
     "data": {
      "text/plain": [
       "RGB{N0f8}"
      ]
     },
     "execution_count": 73,
     "metadata": {},
     "output_type": "execute_result"
    }
   ],
   "source": [
    "typeof(img[25,25])"
   ]
  },
  {
   "cell_type": "code",
   "execution_count": 75,
   "metadata": {},
   "outputs": [
    {
     "data": {
      "text/plain": [
       "Gray{N0f16}"
      ]
     },
     "execution_count": 75,
     "metadata": {},
     "output_type": "execute_result"
    }
   ],
   "source": [
    "Gray{N0f16}"
   ]
  },
  {
   "cell_type": "code",
   "execution_count": 80,
   "metadata": {},
   "outputs": [
    {
     "data": {
      "image/svg+xml": "<?xml version=\"1.0\" encoding=\"UTF-8\"?>\n<!DOCTYPE svg PUBLIC \"-//W3C//DTD SVG 1.1//EN\"\n \"http://www.w3.org/Graphics/SVG/1.1/DTD/svg11.dtd\">\n<svg xmlns=\"http://www.w3.org/2000/svg\" version=\"1.1\"\n     width=\"25mm\" height=\"25mm\" viewBox=\"0 0 1 1\">\n    <rect width=\"1\" height=\"1\" fill=\"#E0E0E0\" stroke=\"none\"/>\n</svg>\n",
      "text/plain": [
       "RGB{N0f8}(0.878,0.878,0.878)"
      ]
     },
     "execution_count": 80,
     "metadata": {},
     "output_type": "execute_result"
    }
   ],
   "source": [
    "a = img[25,25]"
   ]
  },
  {
   "cell_type": "code",
   "execution_count": 81,
   "metadata": {},
   "outputs": [
    {
     "data": {
      "image/svg+xml": "<?xml version=\"1.0\" encoding=\"UTF-8\"?>\n<!DOCTYPE svg PUBLIC \"-//W3C//DTD SVG 1.1//EN\"\n \"http://www.w3.org/Graphics/SVG/1.1/DTD/svg11.dtd\">\n<svg xmlns=\"http://www.w3.org/2000/svg\" version=\"1.1\"\n     width=\"25mm\" height=\"25mm\" viewBox=\"0 0 1 1\">\n    <rect width=\"1\" height=\"1\" fill=\"#E0E0E0\" stroke=\"none\"/>\n</svg>\n",
      "text/plain": [
       "RGB{N0f8}(0.878,0.878,0.878)"
      ]
     },
     "execution_count": 81,
     "metadata": {},
     "output_type": "execute_result"
    }
   ],
   "source": [
    "b = img[25,26]"
   ]
  },
  {
   "cell_type": "code",
   "execution_count": 82,
   "metadata": {},
   "outputs": [
    {
     "data": {
      "text/plain": [
       "true"
      ]
     },
     "execution_count": 82,
     "metadata": {},
     "output_type": "execute_result"
    }
   ],
   "source": [
    "a==b"
   ]
  },
  {
   "cell_type": "code",
   "execution_count": 91,
   "metadata": {},
   "outputs": [],
   "source": [
    "using Colors"
   ]
  },
  {
   "cell_type": "code",
   "execution_count": 126,
   "metadata": {},
   "outputs": [
    {
     "data": {
      "text/plain": [
       "\"RGB{N0f8}\""
      ]
     },
     "execution_count": 126,
     "metadata": {},
     "output_type": "execute_result"
    }
   ],
   "source": [
    "summary(a)"
   ]
  },
  {
   "cell_type": "code",
   "execution_count": 93,
   "metadata": {},
   "outputs": [
    {
     "name": "stdout",
     "output_type": "stream",
     "text": [
      "RGB{N0f8}\n",
      "  r: N0f8\n",
      "    i: UInt8 0xe0\n",
      "  g: N0f8\n",
      "    i: UInt8 0xe0\n",
      "  b: N0f8\n",
      "    i: UInt8 0xe0\n"
     ]
    }
   ],
   "source": [
    "b = dump(a)"
   ]
  },
  {
   "cell_type": "code",
   "execution_count": 94,
   "metadata": {},
   "outputs": [],
   "source": [
    "b"
   ]
  },
  {
   "cell_type": "code",
   "execution_count": 100,
   "metadata": {},
   "outputs": [
    {
     "data": {
      "text/plain": [
       "0.878N0f8"
      ]
     },
     "execution_count": 100,
     "metadata": {},
     "output_type": "execute_result"
    }
   ],
   "source": [
    "red(a)"
   ]
  },
  {
   "cell_type": "code",
   "execution_count": 121,
   "metadata": {},
   "outputs": [
    {
     "data": {
      "text/plain": [
       "show (generic function with 1 method)"
      ]
     },
     "execution_count": 121,
     "metadata": {},
     "output_type": "execute_result"
    }
   ],
   "source": [
    "function show()\n",
    "    b::UInt8 = 255\n",
    "    normedview(b)\n",
    "    println(b)\n",
    "end"
   ]
  },
  {
   "cell_type": "code",
   "execution_count": 118,
   "metadata": {},
   "outputs": [
    {
     "data": {
      "text/plain": [
       "0x11"
      ]
     },
     "execution_count": 118,
     "metadata": {},
     "output_type": "execute_result"
    }
   ],
   "source": [
    "0x11"
   ]
  },
  {
   "cell_type": "code",
   "execution_count": 135,
   "metadata": {},
   "outputs": [
    {
     "data": {
      "text/plain": [
       "true"
      ]
     },
     "execution_count": 135,
     "metadata": {},
     "output_type": "execute_result"
    }
   ],
   "source": [
    "img[1,1] == RGB(1.0, 1.0, 1.0)"
   ]
  },
  {
   "cell_type": "code",
   "execution_count": 137,
   "metadata": {},
   "outputs": [
    {
     "name": "stdout",
     "output_type": "stream",
     "text": [
      "224\n"
     ]
    }
   ],
   "source": [
    "for i in 0:255\n",
    "    if(a == RGB(i/255, i/255, i/255))\n",
    "        println(i)\n",
    "    end    \n",
    "end"
   ]
  },
  {
   "cell_type": "code",
   "execution_count": 138,
   "metadata": {},
   "outputs": [
    {
     "data": {
      "text/plain": [
       "256-element Vector{CartesianIndex{2}}:\n",
       " CartesianIndex(14, 15)\n",
       " CartesianIndex(15, 15)\n",
       " CartesianIndex(16, 15)\n",
       " CartesianIndex(17, 15)\n",
       " CartesianIndex(18, 15)\n",
       " CartesianIndex(19, 15)\n",
       " CartesianIndex(20, 15)\n",
       " CartesianIndex(21, 15)\n",
       " CartesianIndex(22, 15)\n",
       " CartesianIndex(23, 15)\n",
       " CartesianIndex(24, 15)\n",
       " CartesianIndex(25, 15)\n",
       " CartesianIndex(13, 16)\n",
       " ⋮\n",
       " CartesianIndex(14, 36)\n",
       " CartesianIndex(15, 36)\n",
       " CartesianIndex(16, 36)\n",
       " CartesianIndex(17, 36)\n",
       " CartesianIndex(18, 36)\n",
       " CartesianIndex(19, 36)\n",
       " CartesianIndex(20, 36)\n",
       " CartesianIndex(21, 36)\n",
       " CartesianIndex(22, 36)\n",
       " CartesianIndex(23, 36)\n",
       " CartesianIndex(24, 36)\n",
       " CartesianIndex(25, 36)"
      ]
     },
     "execution_count": 138,
     "metadata": {},
     "output_type": "execute_result"
    }
   ],
   "source": [
    "idx = findall(isequal(a), img)"
   ]
  },
  {
   "cell_type": "code",
   "execution_count": 142,
   "metadata": {},
   "outputs": [
    {
     "data": {
      "image/svg+xml": "<?xml version=\"1.0\" encoding=\"UTF-8\"?>\n<!DOCTYPE svg PUBLIC \"-//W3C//DTD SVG 1.1//EN\"\n \"http://www.w3.org/Graphics/SVG/1.1/DTD/svg11.dtd\">\n<svg xmlns=\"http://www.w3.org/2000/svg\" version=\"1.1\"\n     width=\"180mm\" height=\"25mm\"\n     viewBox=\"0 0 256 1\" preserveAspectRatio=\"none\"\n     shape-rendering=\"crispEdges\" stroke=\"none\">\n<rect width=\"1\" height=\".96\" x=\"0\" y=\"0\" fill=\"#00FF00\" />\n<rect width=\"1\" height=\".96\" x=\"1\" y=\"0\" fill=\"#00FF00\" />\n<rect width=\"1\" height=\".96\" x=\"2\" y=\"0\" fill=\"#00FF00\" />\n<rect width=\"1\" height=\".96\" x=\"3\" y=\"0\" fill=\"#00FF00\" />\n<rect width=\"1\" height=\".96\" x=\"4\" y=\"0\" fill=\"#00FF00\" />\n<rect width=\"1\" height=\".96\" x=\"5\" y=\"0\" fill=\"#00FF00\" />\n<rect width=\"1\" height=\".96\" x=\"6\" y=\"0\" fill=\"#00FF00\" />\n<rect width=\"1\" height=\".96\" x=\"7\" y=\"0\" fill=\"#00FF00\" />\n<rect width=\"1\" height=\".96\" x=\"8\" y=\"0\" fill=\"#00FF00\" />\n<rect width=\"1\" height=\".96\" x=\"9\" y=\"0\" fill=\"#00FF00\" />\n<rect width=\"1\" height=\".96\" x=\"10\" y=\"0\" fill=\"#00FF00\" />\n<rect width=\"1\" height=\".96\" x=\"11\" y=\"0\" fill=\"#00FF00\" />\n<rect width=\"1\" height=\".96\" x=\"12\" y=\"0\" fill=\"#00FF00\" />\n<rect width=\"1\" height=\".96\" x=\"13\" y=\"0\" fill=\"#00FF00\" />\n<rect width=\"1\" height=\".96\" x=\"14\" y=\"0\" fill=\"#00FF00\" />\n<rect width=\"1\" height=\".96\" x=\"15\" y=\"0\" fill=\"#00FF00\" />\n<rect width=\"1\" height=\".96\" x=\"16\" y=\"0\" fill=\"#00FF00\" />\n<rect width=\"1\" height=\".96\" x=\"17\" y=\"0\" fill=\"#00FF00\" />\n<rect width=\"1\" height=\".96\" x=\"18\" y=\"0\" fill=\"#00FF00\" />\n<rect width=\"1\" height=\".96\" x=\"19\" y=\"0\" fill=\"#00FF00\" />\n<rect width=\"1\" height=\".96\" x=\"20\" y=\"0\" fill=\"#00FF00\" />\n<rect width=\"1\" height=\".96\" x=\"21\" y=\"0\" fill=\"#00FF00\" />\n<rect width=\"1\" height=\".96\" x=\"22\" y=\"0\" fill=\"#00FF00\" />\n<rect width=\"1\" height=\".96\" x=\"23\" y=\"0\" fill=\"#00FF00\" />\n<rect width=\"1\" height=\".96\" x=\"24\" y=\"0\" fill=\"#00FF00\" />\n<rect width=\"1\" height=\".96\" x=\"25\" y=\"0\" fill=\"#00FF00\" />\n<rect width=\"1\" height=\".96\" x=\"26\" y=\"0\" fill=\"#00FF00\" />\n<rect width=\"1\" height=\".96\" x=\"27\" y=\"0\" fill=\"#00FF00\" />\n<rect width=\"1\" height=\".96\" x=\"28\" y=\"0\" fill=\"#00FF00\" />\n<rect width=\"1\" height=\".96\" x=\"29\" y=\"0\" fill=\"#00FF00\" />\n<rect width=\"1\" height=\".96\" x=\"30\" y=\"0\" fill=\"#00FF00\" />\n<rect width=\"1\" height=\".96\" x=\"31\" y=\"0\" fill=\"#00FF00\" />\n<rect width=\"1\" height=\".96\" x=\"32\" y=\"0\" fill=\"#00FF00\" />\n<rect width=\"1\" height=\".96\" x=\"33\" y=\"0\" fill=\"#00FF00\" />\n<rect width=\"1\" height=\".96\" x=\"34\" y=\"0\" fill=\"#00FF00\" />\n<rect width=\"1\" height=\".96\" x=\"35\" y=\"0\" fill=\"#00FF00\" />\n<rect width=\"1\" height=\".96\" x=\"36\" y=\"0\" fill=\"#00FF00\" />\n<rect width=\"1\" height=\".96\" x=\"37\" y=\"0\" fill=\"#00FF00\" />\n<rect width=\"1\" height=\".96\" x=\"38\" y=\"0\" fill=\"#00FF00\" />\n<rect width=\"1\" height=\".96\" x=\"39\" y=\"0\" fill=\"#00FF00\" />\n<rect width=\"1\" height=\".96\" x=\"40\" y=\"0\" fill=\"#00FF00\" />\n<rect width=\"1\" height=\".96\" x=\"41\" y=\"0\" fill=\"#00FF00\" />\n<rect width=\"1\" height=\".96\" x=\"42\" y=\"0\" fill=\"#00FF00\" />\n<rect width=\"1\" height=\".96\" x=\"43\" y=\"0\" fill=\"#00FF00\" />\n<rect width=\"1\" height=\".96\" x=\"44\" y=\"0\" fill=\"#00FF00\" />\n<rect width=\"1\" height=\".96\" x=\"45\" y=\"0\" fill=\"#00FF00\" />\n<rect width=\"1\" height=\".96\" x=\"46\" y=\"0\" fill=\"#00FF00\" />\n<rect width=\"1\" height=\".96\" x=\"47\" y=\"0\" fill=\"#00FF00\" />\n<rect width=\"1\" height=\".96\" x=\"48\" y=\"0\" fill=\"#00FF00\" />\n<rect width=\"1\" height=\".96\" x=\"49\" y=\"0\" fill=\"#00FF00\" />\n<rect width=\"1\" height=\".96\" x=\"50\" y=\"0\" fill=\"#00FF00\" />\n<rect width=\"1\" height=\".96\" x=\"51\" y=\"0\" fill=\"#00FF00\" />\n<rect width=\"1\" height=\".96\" x=\"52\" y=\"0\" fill=\"#00FF00\" />\n<rect width=\"1\" height=\".96\" x=\"53\" y=\"0\" fill=\"#00FF00\" />\n<rect width=\"1\" height=\".96\" x=\"54\" y=\"0\" fill=\"#00FF00\" />\n<rect width=\"1\" height=\".96\" x=\"55\" y=\"0\" fill=\"#00FF00\" />\n<rect width=\"1\" height=\".96\" x=\"56\" y=\"0\" fill=\"#00FF00\" />\n<rect width=\"1\" height=\".96\" x=\"57\" y=\"0\" fill=\"#00FF00\" />\n<rect width=\"1\" height=\".96\" x=\"58\" y=\"0\" fill=\"#00FF00\" />\n<rect width=\"1\" height=\".96\" x=\"59\" y=\"0\" fill=\"#00FF00\" />\n<rect width=\"1\" height=\".96\" x=\"60\" y=\"0\" fill=\"#00FF00\" />\n<rect width=\"1\" height=\".96\" x=\"61\" y=\"0\" fill=\"#00FF00\" />\n<rect width=\"1\" height=\".96\" x=\"62\" y=\"0\" fill=\"#00FF00\" />\n<rect width=\"1\" height=\".96\" x=\"63\" y=\"0\" fill=\"#00FF00\" />\n<rect width=\"1\" height=\".96\" x=\"64\" y=\"0\" fill=\"#00FF00\" />\n<rect width=\"1\" height=\".96\" x=\"65\" y=\"0\" fill=\"#00FF00\" />\n<rect width=\"1\" height=\".96\" x=\"66\" y=\"0\" fill=\"#00FF00\" />\n<rect width=\"1\" height=\".96\" x=\"67\" y=\"0\" fill=\"#00FF00\" />\n<rect width=\"1\" height=\".96\" x=\"68\" y=\"0\" fill=\"#00FF00\" />\n<rect width=\"1\" height=\".96\" x=\"69\" y=\"0\" fill=\"#00FF00\" />\n<rect width=\"1\" height=\".96\" x=\"70\" y=\"0\" fill=\"#00FF00\" />\n<rect width=\"1\" height=\".96\" x=\"71\" y=\"0\" fill=\"#00FF00\" />\n<rect width=\"1\" height=\".96\" x=\"72\" y=\"0\" fill=\"#00FF00\" />\n<rect width=\"1\" height=\".96\" x=\"73\" y=\"0\" fill=\"#00FF00\" />\n<rect width=\"1\" height=\".96\" x=\"74\" y=\"0\" fill=\"#00FF00\" />\n<rect width=\"1\" height=\".96\" x=\"75\" y=\"0\" fill=\"#00FF00\" />\n<rect width=\"1\" height=\".96\" x=\"76\" y=\"0\" fill=\"#00FF00\" />\n<rect width=\"1\" height=\".96\" x=\"77\" y=\"0\" fill=\"#00FF00\" />\n<rect width=\"1\" height=\".96\" x=\"78\" y=\"0\" fill=\"#00FF00\" />\n<rect width=\"1\" height=\".96\" x=\"79\" y=\"0\" fill=\"#00FF00\" />\n<rect width=\"1\" height=\".96\" x=\"80\" y=\"0\" fill=\"#00FF00\" />\n<rect width=\"1\" height=\".96\" x=\"81\" y=\"0\" fill=\"#00FF00\" />\n<rect width=\"1\" height=\".96\" x=\"82\" y=\"0\" fill=\"#00FF00\" />\n<rect width=\"1\" height=\".96\" x=\"83\" y=\"0\" fill=\"#00FF00\" />\n<rect width=\"1\" height=\".96\" x=\"84\" y=\"0\" fill=\"#00FF00\" />\n<rect width=\"1\" height=\".96\" x=\"85\" y=\"0\" fill=\"#00FF00\" />\n<rect width=\"1\" height=\".96\" x=\"86\" y=\"0\" fill=\"#00FF00\" />\n<rect width=\"1\" height=\".96\" x=\"87\" y=\"0\" fill=\"#00FF00\" />\n<rect width=\"1\" height=\".96\" x=\"88\" y=\"0\" fill=\"#00FF00\" />\n<rect width=\"1\" height=\".96\" x=\"89\" y=\"0\" fill=\"#00FF00\" />\n<rect width=\"1\" height=\".96\" x=\"90\" y=\"0\" fill=\"#00FF00\" />\n<rect width=\"1\" height=\".96\" x=\"91\" y=\"0\" fill=\"#00FF00\" />\n<rect width=\"1\" height=\".96\" x=\"92\" y=\"0\" fill=\"#00FF00\" />\n<rect width=\"1\" height=\".96\" x=\"93\" y=\"0\" fill=\"#00FF00\" />\n<rect width=\"1\" height=\".96\" x=\"94\" y=\"0\" fill=\"#00FF00\" />\n<rect width=\"1\" height=\".96\" x=\"95\" y=\"0\" fill=\"#00FF00\" />\n<rect width=\"1\" height=\".96\" x=\"96\" y=\"0\" fill=\"#00FF00\" />\n<rect width=\"1\" height=\".96\" x=\"97\" y=\"0\" fill=\"#00FF00\" />\n<rect width=\"1\" height=\".96\" x=\"98\" y=\"0\" fill=\"#00FF00\" />\n<rect width=\"1\" height=\".96\" x=\"99\" y=\"0\" fill=\"#00FF00\" />\n<rect width=\"1\" height=\".96\" x=\"100\" y=\"0\" fill=\"#00FF00\" />\n<rect width=\"1\" height=\".96\" x=\"101\" y=\"0\" fill=\"#00FF00\" />\n<rect width=\"1\" height=\".96\" x=\"102\" y=\"0\" fill=\"#00FF00\" />\n<rect width=\"1\" height=\".96\" x=\"103\" y=\"0\" fill=\"#00FF00\" />\n<rect width=\"1\" height=\".96\" x=\"104\" y=\"0\" fill=\"#00FF00\" />\n<rect width=\"1\" height=\".96\" x=\"105\" y=\"0\" fill=\"#00FF00\" />\n<rect width=\"1\" height=\".96\" x=\"106\" y=\"0\" fill=\"#00FF00\" />\n<rect width=\"1\" height=\".96\" x=\"107\" y=\"0\" fill=\"#00FF00\" />\n<rect width=\"1\" height=\".96\" x=\"108\" y=\"0\" fill=\"#00FF00\" />\n<rect width=\"1\" height=\".96\" x=\"109\" y=\"0\" fill=\"#00FF00\" />\n<rect width=\"1\" height=\".96\" x=\"110\" y=\"0\" fill=\"#00FF00\" />\n<rect width=\"1\" height=\".96\" x=\"111\" y=\"0\" fill=\"#00FF00\" />\n<rect width=\"1\" height=\".96\" x=\"112\" y=\"0\" fill=\"#00FF00\" />\n<rect width=\"1\" height=\".96\" x=\"113\" y=\"0\" fill=\"#00FF00\" />\n<rect width=\"1\" height=\".96\" x=\"114\" y=\"0\" fill=\"#00FF00\" />\n<rect width=\"1\" height=\".96\" x=\"115\" y=\"0\" fill=\"#00FF00\" />\n<rect width=\"1\" height=\".96\" x=\"116\" y=\"0\" fill=\"#00FF00\" />\n<rect width=\"1\" height=\".96\" x=\"117\" y=\"0\" fill=\"#00FF00\" />\n<rect width=\"1\" height=\".96\" x=\"118\" y=\"0\" fill=\"#00FF00\" />\n<rect width=\"1\" height=\".96\" x=\"119\" y=\"0\" fill=\"#00FF00\" />\n<rect width=\"1\" height=\".96\" x=\"120\" y=\"0\" fill=\"#00FF00\" />\n<rect width=\"1\" height=\".96\" x=\"121\" y=\"0\" fill=\"#00FF00\" />\n<rect width=\"1\" height=\".96\" x=\"122\" y=\"0\" fill=\"#00FF00\" />\n<rect width=\"1\" height=\".96\" x=\"123\" y=\"0\" fill=\"#00FF00\" />\n<rect width=\"1\" height=\".96\" x=\"124\" y=\"0\" fill=\"#00FF00\" />\n<rect width=\"1\" height=\".96\" x=\"125\" y=\"0\" fill=\"#00FF00\" />\n<rect width=\"1\" height=\".96\" x=\"126\" y=\"0\" fill=\"#00FF00\" />\n<rect width=\"1\" height=\".96\" x=\"127\" y=\"0\" fill=\"#00FF00\" />\n<rect width=\"1\" height=\".96\" x=\"128\" y=\"0\" fill=\"#00FF00\" />\n<rect width=\"1\" height=\".96\" x=\"129\" y=\"0\" fill=\"#00FF00\" />\n<rect width=\"1\" height=\".96\" x=\"130\" y=\"0\" fill=\"#00FF00\" />\n<rect width=\"1\" height=\".96\" x=\"131\" y=\"0\" fill=\"#00FF00\" />\n<rect width=\"1\" height=\".96\" x=\"132\" y=\"0\" fill=\"#00FF00\" />\n<rect width=\"1\" height=\".96\" x=\"133\" y=\"0\" fill=\"#00FF00\" />\n<rect width=\"1\" height=\".96\" x=\"134\" y=\"0\" fill=\"#00FF00\" />\n<rect width=\"1\" height=\".96\" x=\"135\" y=\"0\" fill=\"#00FF00\" />\n<rect width=\"1\" height=\".96\" x=\"136\" y=\"0\" fill=\"#00FF00\" />\n<rect width=\"1\" height=\".96\" x=\"137\" y=\"0\" fill=\"#00FF00\" />\n<rect width=\"1\" height=\".96\" x=\"138\" y=\"0\" fill=\"#00FF00\" />\n<rect width=\"1\" height=\".96\" x=\"139\" y=\"0\" fill=\"#00FF00\" />\n<rect width=\"1\" height=\".96\" x=\"140\" y=\"0\" fill=\"#00FF00\" />\n<rect width=\"1\" height=\".96\" x=\"141\" y=\"0\" fill=\"#00FF00\" />\n<rect width=\"1\" height=\".96\" x=\"142\" y=\"0\" fill=\"#00FF00\" />\n<rect width=\"1\" height=\".96\" x=\"143\" y=\"0\" fill=\"#00FF00\" />\n<rect width=\"1\" height=\".96\" x=\"144\" y=\"0\" fill=\"#00FF00\" />\n<rect width=\"1\" height=\".96\" x=\"145\" y=\"0\" fill=\"#00FF00\" />\n<rect width=\"1\" height=\".96\" x=\"146\" y=\"0\" fill=\"#00FF00\" />\n<rect width=\"1\" height=\".96\" x=\"147\" y=\"0\" fill=\"#00FF00\" />\n<rect width=\"1\" height=\".96\" x=\"148\" y=\"0\" fill=\"#00FF00\" />\n<rect width=\"1\" height=\".96\" x=\"149\" y=\"0\" fill=\"#00FF00\" />\n<rect width=\"1\" height=\".96\" x=\"150\" y=\"0\" fill=\"#00FF00\" />\n<rect width=\"1\" height=\".96\" x=\"151\" y=\"0\" fill=\"#00FF00\" />\n<rect width=\"1\" height=\".96\" x=\"152\" y=\"0\" fill=\"#00FF00\" />\n<rect width=\"1\" height=\".96\" x=\"153\" y=\"0\" fill=\"#00FF00\" />\n<rect width=\"1\" height=\".96\" x=\"154\" y=\"0\" fill=\"#00FF00\" />\n<rect width=\"1\" height=\".96\" x=\"155\" y=\"0\" fill=\"#00FF00\" />\n<rect width=\"1\" height=\".96\" x=\"156\" y=\"0\" fill=\"#00FF00\" />\n<rect width=\"1\" height=\".96\" x=\"157\" y=\"0\" fill=\"#00FF00\" />\n<rect width=\"1\" height=\".96\" x=\"158\" y=\"0\" fill=\"#00FF00\" />\n<rect width=\"1\" height=\".96\" x=\"159\" y=\"0\" fill=\"#00FF00\" />\n<rect width=\"1\" height=\".96\" x=\"160\" y=\"0\" fill=\"#00FF00\" />\n<rect width=\"1\" height=\".96\" x=\"161\" y=\"0\" fill=\"#00FF00\" />\n<rect width=\"1\" height=\".96\" x=\"162\" y=\"0\" fill=\"#00FF00\" />\n<rect width=\"1\" height=\".96\" x=\"163\" y=\"0\" fill=\"#00FF00\" />\n<rect width=\"1\" height=\".96\" x=\"164\" y=\"0\" fill=\"#00FF00\" />\n<rect width=\"1\" height=\".96\" x=\"165\" y=\"0\" fill=\"#00FF00\" />\n<rect width=\"1\" height=\".96\" x=\"166\" y=\"0\" fill=\"#00FF00\" />\n<rect width=\"1\" height=\".96\" x=\"167\" y=\"0\" fill=\"#00FF00\" />\n<rect width=\"1\" height=\".96\" x=\"168\" y=\"0\" fill=\"#00FF00\" />\n<rect width=\"1\" height=\".96\" x=\"169\" y=\"0\" fill=\"#00FF00\" />\n<rect width=\"1\" height=\".96\" x=\"170\" y=\"0\" fill=\"#00FF00\" />\n<rect width=\"1\" height=\".96\" x=\"171\" y=\"0\" fill=\"#00FF00\" />\n<rect width=\"1\" height=\".96\" x=\"172\" y=\"0\" fill=\"#00FF00\" />\n<rect width=\"1\" height=\".96\" x=\"173\" y=\"0\" fill=\"#00FF00\" />\n<rect width=\"1\" height=\".96\" x=\"174\" y=\"0\" fill=\"#00FF00\" />\n<rect width=\"1\" height=\".96\" x=\"175\" y=\"0\" fill=\"#00FF00\" />\n<rect width=\"1\" height=\".96\" x=\"176\" y=\"0\" fill=\"#00FF00\" />\n<rect width=\"1\" height=\".96\" x=\"177\" y=\"0\" fill=\"#00FF00\" />\n<rect width=\"1\" height=\".96\" x=\"178\" y=\"0\" fill=\"#00FF00\" />\n<rect width=\"1\" height=\".96\" x=\"179\" y=\"0\" fill=\"#00FF00\" />\n<rect width=\"1\" height=\".96\" x=\"180\" y=\"0\" fill=\"#00FF00\" />\n<rect width=\"1\" height=\".96\" x=\"181\" y=\"0\" fill=\"#00FF00\" />\n<rect width=\"1\" height=\".96\" x=\"182\" y=\"0\" fill=\"#00FF00\" />\n<rect width=\"1\" height=\".96\" x=\"183\" y=\"0\" fill=\"#00FF00\" />\n<rect width=\"1\" height=\".96\" x=\"184\" y=\"0\" fill=\"#00FF00\" />\n<rect width=\"1\" height=\".96\" x=\"185\" y=\"0\" fill=\"#00FF00\" />\n<rect width=\"1\" height=\".96\" x=\"186\" y=\"0\" fill=\"#00FF00\" />\n<rect width=\"1\" height=\".96\" x=\"187\" y=\"0\" fill=\"#00FF00\" />\n<rect width=\"1\" height=\".96\" x=\"188\" y=\"0\" fill=\"#00FF00\" />\n<rect width=\"1\" height=\".96\" x=\"189\" y=\"0\" fill=\"#00FF00\" />\n<rect width=\"1\" height=\".96\" x=\"190\" y=\"0\" fill=\"#00FF00\" />\n<rect width=\"1\" height=\".96\" x=\"191\" y=\"0\" fill=\"#00FF00\" />\n<rect width=\"1\" height=\".96\" x=\"192\" y=\"0\" fill=\"#00FF00\" />\n<rect width=\"1\" height=\".96\" x=\"193\" y=\"0\" fill=\"#00FF00\" />\n<rect width=\"1\" height=\".96\" x=\"194\" y=\"0\" fill=\"#00FF00\" />\n<rect width=\"1\" height=\".96\" x=\"195\" y=\"0\" fill=\"#00FF00\" />\n<rect width=\"1\" height=\".96\" x=\"196\" y=\"0\" fill=\"#00FF00\" />\n<rect width=\"1\" height=\".96\" x=\"197\" y=\"0\" fill=\"#00FF00\" />\n<rect width=\"1\" height=\".96\" x=\"198\" y=\"0\" fill=\"#00FF00\" />\n<rect width=\"1\" height=\".96\" x=\"199\" y=\"0\" fill=\"#00FF00\" />\n<rect width=\"1\" height=\".96\" x=\"200\" y=\"0\" fill=\"#00FF00\" />\n<rect width=\"1\" height=\".96\" x=\"201\" y=\"0\" fill=\"#00FF00\" />\n<rect width=\"1\" height=\".96\" x=\"202\" y=\"0\" fill=\"#00FF00\" />\n<rect width=\"1\" height=\".96\" x=\"203\" y=\"0\" fill=\"#00FF00\" />\n<rect width=\"1\" height=\".96\" x=\"204\" y=\"0\" fill=\"#00FF00\" />\n<rect width=\"1\" height=\".96\" x=\"205\" y=\"0\" fill=\"#00FF00\" />\n<rect width=\"1\" height=\".96\" x=\"206\" y=\"0\" fill=\"#00FF00\" />\n<rect width=\"1\" height=\".96\" x=\"207\" y=\"0\" fill=\"#00FF00\" />\n<rect width=\"1\" height=\".96\" x=\"208\" y=\"0\" fill=\"#00FF00\" />\n<rect width=\"1\" height=\".96\" x=\"209\" y=\"0\" fill=\"#00FF00\" />\n<rect width=\"1\" height=\".96\" x=\"210\" y=\"0\" fill=\"#00FF00\" />\n<rect width=\"1\" height=\".96\" x=\"211\" y=\"0\" fill=\"#00FF00\" />\n<rect width=\"1\" height=\".96\" x=\"212\" y=\"0\" fill=\"#00FF00\" />\n<rect width=\"1\" height=\".96\" x=\"213\" y=\"0\" fill=\"#00FF00\" />\n<rect width=\"1\" height=\".96\" x=\"214\" y=\"0\" fill=\"#00FF00\" />\n<rect width=\"1\" height=\".96\" x=\"215\" y=\"0\" fill=\"#00FF00\" />\n<rect width=\"1\" height=\".96\" x=\"216\" y=\"0\" fill=\"#00FF00\" />\n<rect width=\"1\" height=\".96\" x=\"217\" y=\"0\" fill=\"#00FF00\" />\n<rect width=\"1\" height=\".96\" x=\"218\" y=\"0\" fill=\"#00FF00\" />\n<rect width=\"1\" height=\".96\" x=\"219\" y=\"0\" fill=\"#00FF00\" />\n<rect width=\"1\" height=\".96\" x=\"220\" y=\"0\" fill=\"#00FF00\" />\n<rect width=\"1\" height=\".96\" x=\"221\" y=\"0\" fill=\"#00FF00\" />\n<rect width=\"1\" height=\".96\" x=\"222\" y=\"0\" fill=\"#00FF00\" />\n<rect width=\"1\" height=\".96\" x=\"223\" y=\"0\" fill=\"#00FF00\" />\n<rect width=\"1\" height=\".96\" x=\"224\" y=\"0\" fill=\"#00FF00\" />\n<rect width=\"1\" height=\".96\" x=\"225\" y=\"0\" fill=\"#00FF00\" />\n<rect width=\"1\" height=\".96\" x=\"226\" y=\"0\" fill=\"#00FF00\" />\n<rect width=\"1\" height=\".96\" x=\"227\" y=\"0\" fill=\"#00FF00\" />\n<rect width=\"1\" height=\".96\" x=\"228\" y=\"0\" fill=\"#00FF00\" />\n<rect width=\"1\" height=\".96\" x=\"229\" y=\"0\" fill=\"#00FF00\" />\n<rect width=\"1\" height=\".96\" x=\"230\" y=\"0\" fill=\"#00FF00\" />\n<rect width=\"1\" height=\".96\" x=\"231\" y=\"0\" fill=\"#00FF00\" />\n<rect width=\"1\" height=\".96\" x=\"232\" y=\"0\" fill=\"#00FF00\" />\n<rect width=\"1\" height=\".96\" x=\"233\" y=\"0\" fill=\"#00FF00\" />\n<rect width=\"1\" height=\".96\" x=\"234\" y=\"0\" fill=\"#00FF00\" />\n<rect width=\"1\" height=\".96\" x=\"235\" y=\"0\" fill=\"#00FF00\" />\n<rect width=\"1\" height=\".96\" x=\"236\" y=\"0\" fill=\"#00FF00\" />\n<rect width=\"1\" height=\".96\" x=\"237\" y=\"0\" fill=\"#00FF00\" />\n<rect width=\"1\" height=\".96\" x=\"238\" y=\"0\" fill=\"#00FF00\" />\n<rect width=\"1\" height=\".96\" x=\"239\" y=\"0\" fill=\"#00FF00\" />\n<rect width=\"1\" height=\".96\" x=\"240\" y=\"0\" fill=\"#00FF00\" />\n<rect width=\"1\" height=\".96\" x=\"241\" y=\"0\" fill=\"#00FF00\" />\n<rect width=\"1\" height=\".96\" x=\"242\" y=\"0\" fill=\"#00FF00\" />\n<rect width=\"1\" height=\".96\" x=\"243\" y=\"0\" fill=\"#00FF00\" />\n<rect width=\"1\" height=\".96\" x=\"244\" y=\"0\" fill=\"#00FF00\" />\n<rect width=\"1\" height=\".96\" x=\"245\" y=\"0\" fill=\"#00FF00\" />\n<rect width=\"1\" height=\".96\" x=\"246\" y=\"0\" fill=\"#00FF00\" />\n<rect width=\"1\" height=\".96\" x=\"247\" y=\"0\" fill=\"#00FF00\" />\n<rect width=\"1\" height=\".96\" x=\"248\" y=\"0\" fill=\"#00FF00\" />\n<rect width=\"1\" height=\".96\" x=\"249\" y=\"0\" fill=\"#00FF00\" />\n<rect width=\"1\" height=\".96\" x=\"250\" y=\"0\" fill=\"#00FF00\" />\n<rect width=\"1\" height=\".96\" x=\"251\" y=\"0\" fill=\"#00FF00\" />\n<rect width=\"1\" height=\".96\" x=\"252\" y=\"0\" fill=\"#00FF00\" />\n<rect width=\"1\" height=\".96\" x=\"253\" y=\"0\" fill=\"#00FF00\" />\n<rect width=\"1\" height=\".96\" x=\"254\" y=\"0\" fill=\"#00FF00\" />\n<rect width=\"1\" height=\".96\" x=\"255\" y=\"0\" fill=\"#00FF00\" />\n</svg>",
      "text/plain": [
       "256-element view(::IndirectArrays.IndirectArray{RGB{N0f8}, 2, UInt8, Matrix{UInt8}, OffsetArrays.OffsetVector{RGB{N0f8}, Vector{RGB{N0f8}}}}, CartesianIndex{2}[CartesianIndex(14, 15), CartesianIndex(15, 15), CartesianIndex(16, 15), CartesianIndex(17, 15), CartesianIndex(18, 15), CartesianIndex(19, 15), CartesianIndex(20, 15), CartesianIndex(21, 15), CartesianIndex(22, 15), CartesianIndex(23, 15)  …  CartesianIndex(16, 36), CartesianIndex(17, 36), CartesianIndex(18, 36), CartesianIndex(19, 36), CartesianIndex(20, 36), CartesianIndex(21, 36), CartesianIndex(22, 36), CartesianIndex(23, 36), CartesianIndex(24, 36), CartesianIndex(25, 36)]) with eltype RGB{N0f8}:\n",
       " RGB{N0f8}(0.0,1.0,0.0)\n",
       " RGB{N0f8}(0.0,1.0,0.0)\n",
       " RGB{N0f8}(0.0,1.0,0.0)\n",
       " RGB{N0f8}(0.0,1.0,0.0)\n",
       " RGB{N0f8}(0.0,1.0,0.0)\n",
       " RGB{N0f8}(0.0,1.0,0.0)\n",
       " RGB{N0f8}(0.0,1.0,0.0)\n",
       " RGB{N0f8}(0.0,1.0,0.0)\n",
       " RGB{N0f8}(0.0,1.0,0.0)\n",
       " RGB{N0f8}(0.0,1.0,0.0)\n",
       " RGB{N0f8}(0.0,1.0,0.0)\n",
       " RGB{N0f8}(0.0,1.0,0.0)\n",
       " RGB{N0f8}(0.0,1.0,0.0)\n",
       " ⋮\n",
       " RGB{N0f8}(0.0,1.0,0.0)\n",
       " RGB{N0f8}(0.0,1.0,0.0)\n",
       " RGB{N0f8}(0.0,1.0,0.0)\n",
       " RGB{N0f8}(0.0,1.0,0.0)\n",
       " RGB{N0f8}(0.0,1.0,0.0)\n",
       " RGB{N0f8}(0.0,1.0,0.0)\n",
       " RGB{N0f8}(0.0,1.0,0.0)\n",
       " RGB{N0f8}(0.0,1.0,0.0)\n",
       " RGB{N0f8}(0.0,1.0,0.0)\n",
       " RGB{N0f8}(0.0,1.0,0.0)\n",
       " RGB{N0f8}(0.0,1.0,0.0)\n",
       " RGB{N0f8}(0.0,1.0,0.0)"
      ]
     },
     "execution_count": 142,
     "metadata": {},
     "output_type": "execute_result"
    }
   ],
   "source": [
    "img[idx] .= RGB(0.0, 1.0, 0.0)"
   ]
  },
  {
   "cell_type": "code",
   "execution_count": 143,
   "metadata": {},
   "outputs": [
    {
     "data": {
      "image/png": "[encoded data removed]",
      "text/html": [
       "<img src=\"data:image/png;base64,iVBORw0KGgoAAAANSUhEUgAAAGQAAABkCAIAAAD/gAIDAAAABGdBTUEAALGPC/xhBQAAAAFzUkdCAK7OHOkAAAAgY0hSTQAAeiYAAICEAAD6AAAAgOgAAHUwAADqYAAAOpgAABdwnLpRPAAAAsdJREFUeAHtwdFt6zgQhtFviP/dcifuICqJHQjqgCXJHaiTKA2QmxcvYOB6M05E23cz56i1RvARwU0ENxHcxC8wmHG/rTWuieAm/tcGM/Yjgpt4YYMZ+zmvK195O524TQQ38WIGM/Z2Xlf2IIKbeBmDGdfO68re3k4nvksEN/ECBjOundeV/rbWuIcIbuLFnNeVP1mWhb0NZty2tcY1EdxEN4MZ93s7ndjDXAp/cl5Xbns7nbhNBDfRwWDGs005c20uBViWhe8SwU3sajDj2kfjYQ7Gf5hy5mdEcBM7Gcy49tH4VFvlUVJLwMHoRAQ30cFH41NtlYtkiZ5qq0BtFUgtAQfjX1tr7EEENxHcRHATwU0ENxHcRHATwU0ENxHcRHATwU0ENxHcRHATwU0ENxHcRHATwU0ENxHcRHATHRyMT6kloLYK1FbpL1kCDkYnIriJbg7Gp9QSj3IwuhLBTXTwXitwTAk4GA/2XitwTIm9ieAmunmvFTimxKO810pPIriJbo4pcTGXQn/HlID3WulDBDfRwTElLuZSeJS5FOCYEn2I4Ca6mUvhGeZSgCln9iaCm+hgLoV7TDnzlbkUnk0EN/FUU874TDkDcyk8jwhu4mXMpQDjOHKxLAsw5cxrEMFNBDcR3MQvMJhxv601rongJv4qU848jwhu4oWN4wjMpQBTzvzMeV35ytvpxG0iuIkXsywLMI4jF+M4Aud1ZQ/LsvBdIriJDqacgbkUvjKXAkw5A1POwFwKsCwLMI4je5ty5rtEcBM72VoDBjMuppy535QzMJcCLMtCT1tr3EMEN7GrrTVgMONnppyBuRR6Gsy4bWuNayK4iQ621viuwYyLKWf2MJfCxVwKt005c5sIbuLFbK1xMZixhylnYC6FnxHBTbywrTX2MJgBU878jAhuIriJ4CZ+ga019iCCmwhuIriJ4CaC2z84Nrz9e6DGfAAAAABJRU5ErkJg\">"
      ],
      "text/plain": [
       "50×50 IndirectArrays.IndirectArray{RGB{N0f8}, 2, UInt8, Matrix{UInt8}, OffsetArrays.OffsetVector{RGB{N0f8}, Vector{RGB{N0f8}}}}:\n",
       " RGB{N0f8}(1.0,1.0,1.0)  RGB{N0f8}(1.0,1.0,1.0)  …  RGB{N0f8}(1.0,1.0,1.0)\n",
       " RGB{N0f8}(1.0,1.0,1.0)  RGB{N0f8}(1.0,1.0,1.0)     RGB{N0f8}(1.0,1.0,1.0)\n",
       " RGB{N0f8}(1.0,1.0,1.0)  RGB{N0f8}(1.0,1.0,1.0)     RGB{N0f8}(1.0,1.0,1.0)\n",
       " RGB{N0f8}(1.0,1.0,1.0)  RGB{N0f8}(1.0,1.0,1.0)     RGB{N0f8}(1.0,1.0,1.0)\n",
       " RGB{N0f8}(1.0,1.0,1.0)  RGB{N0f8}(1.0,1.0,1.0)     RGB{N0f8}(1.0,1.0,1.0)\n",
       " RGB{N0f8}(1.0,1.0,1.0)  RGB{N0f8}(1.0,1.0,1.0)  …  RGB{N0f8}(1.0,1.0,1.0)\n",
       " RGB{N0f8}(1.0,1.0,1.0)  RGB{N0f8}(1.0,1.0,1.0)     RGB{N0f8}(1.0,1.0,1.0)\n",
       " RGB{N0f8}(1.0,1.0,1.0)  RGB{N0f8}(1.0,1.0,1.0)     RGB{N0f8}(1.0,1.0,1.0)\n",
       " RGB{N0f8}(1.0,1.0,1.0)  RGB{N0f8}(1.0,1.0,1.0)     RGB{N0f8}(1.0,1.0,1.0)\n",
       " RGB{N0f8}(1.0,1.0,1.0)  RGB{N0f8}(1.0,1.0,1.0)     RGB{N0f8}(1.0,1.0,1.0)\n",
       " RGB{N0f8}(1.0,1.0,1.0)  RGB{N0f8}(1.0,1.0,1.0)  …  RGB{N0f8}(1.0,1.0,1.0)\n",
       " RGB{N0f8}(1.0,1.0,1.0)  RGB{N0f8}(1.0,1.0,1.0)     RGB{N0f8}(1.0,1.0,1.0)\n",
       " RGB{N0f8}(1.0,1.0,1.0)  RGB{N0f8}(1.0,1.0,1.0)     RGB{N0f8}(1.0,1.0,1.0)\n",
       " ⋮                                               ⋱  \n",
       " RGB{N0f8}(1.0,1.0,1.0)  RGB{N0f8}(1.0,1.0,1.0)     RGB{N0f8}(1.0,1.0,1.0)\n",
       " RGB{N0f8}(1.0,1.0,1.0)  RGB{N0f8}(1.0,1.0,1.0)     RGB{N0f8}(1.0,1.0,1.0)\n",
       " RGB{N0f8}(1.0,1.0,1.0)  RGB{N0f8}(1.0,1.0,1.0)  …  RGB{N0f8}(1.0,1.0,1.0)\n",
       " RGB{N0f8}(1.0,1.0,1.0)  RGB{N0f8}(1.0,1.0,1.0)     RGB{N0f8}(1.0,1.0,1.0)\n",
       " RGB{N0f8}(1.0,1.0,1.0)  RGB{N0f8}(1.0,1.0,1.0)     RGB{N0f8}(1.0,1.0,1.0)\n",
       " RGB{N0f8}(1.0,1.0,1.0)  RGB{N0f8}(1.0,1.0,1.0)     RGB{N0f8}(1.0,1.0,1.0)\n",
       " RGB{N0f8}(1.0,1.0,1.0)  RGB{N0f8}(1.0,1.0,1.0)     RGB{N0f8}(1.0,1.0,1.0)\n",
       " RGB{N0f8}(1.0,1.0,1.0)  RGB{N0f8}(1.0,1.0,1.0)  …  RGB{N0f8}(1.0,1.0,1.0)\n",
       " RGB{N0f8}(1.0,1.0,1.0)  RGB{N0f8}(1.0,1.0,1.0)     RGB{N0f8}(1.0,1.0,1.0)\n",
       " RGB{N0f8}(1.0,1.0,1.0)  RGB{N0f8}(1.0,1.0,1.0)     RGB{N0f8}(1.0,1.0,1.0)\n",
       " RGB{N0f8}(1.0,1.0,1.0)  RGB{N0f8}(1.0,1.0,1.0)     RGB{N0f8}(1.0,1.0,1.0)\n",
       " RGB{N0f8}(1.0,1.0,1.0)  RGB{N0f8}(1.0,1.0,1.0)     RGB{N0f8}(1.0,1.0,1.0)"
      ]
     },
     "execution_count": 143,
     "metadata": {},
     "output_type": "execute_result"
    }
   ],
   "source": [
    "img"
   ]
  },
  {
   "cell_type": "code",
   "execution_count": 1,
   "metadata": {},
   "outputs": [
    {
     "data": {
      "text/plain": [
       "4-element Vector{Int64}:\n",
       " 1\n",
       " 0\n",
       " 0\n",
       " 2"
      ]
     },
     "metadata": {},
     "output_type": "display_data"
    }
   ],
   "source": [
    "a = [1, 0, 0, 2]"
   ]
  },
  {
   "cell_type": "code",
   "execution_count": 2,
   "metadata": {},
   "outputs": [
    {
     "data": {
      "text/plain": [
       "\"[1, 0, 0, 2]\""
      ]
     },
     "metadata": {},
     "output_type": "display_data"
    }
   ],
   "source": [
    "b = string(a)"
   ]
  },
  {
   "cell_type": "code",
   "execution_count": 3,
   "metadata": {},
   "outputs": [
    {
     "data": {
      "text/plain": [
       "true"
      ]
     },
     "metadata": {},
     "output_type": "display_data"
    }
   ],
   "source": [
    "b == \"[1, 0, 0, 2]\""
   ]
  },
  {
   "cell_type": "code",
   "execution_count": 4,
   "metadata": {},
   "outputs": [
    {
     "data": {
      "text/plain": [
       "2"
      ]
     },
     "metadata": {},
     "output_type": "display_data"
    }
   ],
   "source": [
    "maximum(a)"
   ]
  },
  {
   "cell_type": "code",
   "execution_count": 5,
   "metadata": {},
   "outputs": [
    {
     "data": {
      "text/plain": [
       "4"
      ]
     },
     "metadata": {},
     "output_type": "display_data"
    }
   ],
   "source": [
    "argmax(a)"
   ]
  },
  {
   "cell_type": "code",
   "execution_count": null,
   "metadata": {},
   "outputs": [],
   "source": []
  }
 ],
 "metadata": {
  "kernelspec": {
   "display_name": "Julia 1.7.2",
   "language": "julia",
   "name": "julia-1.7"
  },
  "language_info": {
   "file_extension": ".jl",
   "mimetype": "application/julia",
   "name": "julia",
   "version": "1.7.2"
  },
  "orig_nbformat": 4
 },
 "nbformat": 4,
 "nbformat_minor": 2
}
