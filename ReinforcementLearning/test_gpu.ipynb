{
 "cells": [
  {
   "cell_type": "code",
   "execution_count": 1,
   "metadata": {},
   "outputs": [],
   "source": [
    "using Flux, LinearAlgebra"
   ]
  },
  {
   "cell_type": "code",
   "execution_count": 2,
   "metadata": {},
   "outputs": [],
   "source": [
    "using CUDA"
   ]
  },
  {
   "cell_type": "code",
   "execution_count": 43,
   "metadata": {},
   "outputs": [
    {
     "data": {
      "text/plain": [
       "256"
      ]
     },
     "execution_count": 43,
     "metadata": {},
     "output_type": "execute_result"
    }
   ],
   "source": [
    "H_size = 256"
   ]
  },
  {
   "cell_type": "code",
   "execution_count": 44,
   "metadata": {},
   "outputs": [
    {
     "data": {
      "text/plain": [
       "256×256 CuArray{ComplexF32, 2, CUDA.Mem.DeviceBuffer}:\n",
       "   0.96314+0.0im         0.979127+0.250407im   …   0.110224+0.259638im\n",
       "  0.979127-0.250407im    0.257289+0.0im            0.584335+0.441704im\n",
       "  0.739621-0.700684im    0.551744-0.859598im       0.844642+0.753705im\n",
       " 0.0157973-0.746758im    0.979935-0.0645111im      0.469584+0.549023im\n",
       "   0.82662-0.74708im     0.846442-0.288095im      0.0527421+0.704193im\n",
       "  0.530869-0.618187im    0.207986-0.825078im   …   0.724103+0.826193im\n",
       " 0.0226056-0.368113im   0.0844141-0.351148im       0.406036+0.757088im\n",
       " 0.0238313-0.29753im     0.389927-0.984022im      0.0811694+0.144418im\n",
       " 0.0344295-0.535321im    0.726032-0.942331im       0.530748+0.968861im\n",
       "  0.234022-0.21433im     0.252504-0.18802im        0.797713+0.0145537im\n",
       " 0.0809488-0.55293im     0.739012-0.180356im   …   0.227839+0.164737im\n",
       "  0.105394-0.709472im   0.0982998-0.832891im       0.741432+0.915177im\n",
       "  0.191014-0.545978im    0.194198-0.0717512im      0.546038+0.949464im\n",
       "          ⋮                                    ⋱           ⋮\n",
       "  0.130507-0.491949im    0.889513-0.0186084im     0.0901595+0.652188im\n",
       "  0.932187-0.646588im     0.18911-0.931867im   …    0.20299+0.798146im\n",
       "  0.378875-0.934093im    0.940998-0.70901im        0.663701+0.615001im\n",
       "  0.513451-0.710868im    0.131151-0.155756im       0.485293+0.147985im\n",
       "  0.632261-0.778232im    0.361551-0.518594im       0.177994+0.582137im\n",
       "  0.310851-0.992884im    0.913947-0.599667im        0.66216+0.393192im\n",
       "  0.497116-0.0312005im   0.276963-0.732777im   …   0.359258+0.883813im\n",
       "  0.919166-0.303011im    0.718794-0.21013im        0.809808+0.793705im\n",
       "  0.945206-0.0347413im   0.713025-0.544573im      0.0385936+0.468574im\n",
       "  0.151003-0.762945im    0.844859-0.67879im         0.60615+0.42169im\n",
       "  0.607599-0.373974im    0.148599-0.252952im       0.498557+0.279423im\n",
       "  0.110224-0.259638im    0.584335-0.441704im   …   0.234833+0.0im"
      ]
     },
     "execution_count": 44,
     "metadata": {},
     "output_type": "execute_result"
    }
   ],
   "source": [
    "Kp = rand(ComplexF32, H_size,H_size)\n",
    "K = rand(ComplexF32, H_size,H_size)\n",
    "Ht = rand(ComplexF32, H_size,H_size)\n",
    "Kp = Hermitian(Kp)\n",
    "K = Hermitian(K)\n",
    "Ht = Hermitian(Ht)\n",
    "Kp_g = gpu(Kp)\n",
    "K_g = gpu(K)\n",
    "Ht_g = gpu(Ht)"
   ]
  },
  {
   "cell_type": "code",
   "execution_count": 36,
   "metadata": {},
   "outputs": [
    {
     "data": {
      "text/plain": [
       "16×16 Matrix{ComplexF32}:\n",
       "   0.332287+0.0588611im   0.704512+0.18713im    …  0.0635284+0.482013im\n",
       "   0.637764+0.167531im    0.675887+0.289821im       0.311362+0.0240065im\n",
       "   0.278949+0.562976im    0.685481+0.734974im       0.687223+0.80926im\n",
       "   0.253198+0.984443im    0.173556+0.411065im       0.472349+0.868063im\n",
       " 0.00745094+0.709186im    0.346593+0.149007im       0.555137+0.800789im\n",
       "   0.526103+0.361955im    0.429628+0.0258355im  …   0.602438+0.790351im\n",
       "   0.889139+0.548711im     0.86378+0.819289im       0.399055+0.135555im\n",
       "   0.837176+0.781296im    0.077064+0.585948im       0.403364+0.295699im\n",
       "   0.410768+0.580552im    0.918692+0.138405im       0.581379+0.384076im\n",
       "   0.771109+0.691836im    0.427098+0.374244im       0.838153+0.732376im\n",
       "   0.959633+0.919166im    0.236928+0.613902im   …   0.516023+0.677461im\n",
       "   0.231267+0.27581im    0.0170949+0.10747im        0.213306+0.80613im\n",
       "  0.0798038+0.792201im    0.464532+0.456821im       0.870777+0.254211im\n",
       "   0.147822+0.103251im    0.547237+0.0997208im      0.126777+0.301271im\n",
       "   0.699736+0.430292im    0.868859+0.0222879im      0.888662+0.365803im\n",
       "   0.585087+0.924945im    0.208405+0.244826im   …   0.605674+0.602182im"
      ]
     },
     "execution_count": 36,
     "metadata": {},
     "output_type": "execute_result"
    }
   ],
   "source": [
    "Kp = rand(ComplexF32, H_size,H_size)"
   ]
  },
  {
   "cell_type": "code",
   "execution_count": 42,
   "metadata": {},
   "outputs": [
    {
     "data": {
      "text/plain": [
       "16×16 Matrix{ComplexF32}:\n",
       "   0.332287+0.0588611im   0.704512+0.18713im    …  0.0635284+0.482013im\n",
       "   0.637764+0.167531im    0.675887+0.289821im       0.311362+0.0240065im\n",
       "   0.278949+0.562976im    0.685481+0.734974im       0.687223+0.80926im\n",
       "   0.253198+0.984443im    0.173556+0.411065im       0.472349+0.868063im\n",
       " 0.00745094+0.709186im    0.346593+0.149007im       0.555137+0.800789im\n",
       "   0.526103+0.361955im    0.429628+0.0258355im  …   0.602438+0.790351im\n",
       "   0.889139+0.548711im     0.86378+0.819289im       0.399055+0.135555im\n",
       "   0.837176+0.781296im    0.077064+0.585948im       0.403364+0.295699im\n",
       "   0.410768+0.580552im    0.918692+0.138405im       0.581379+0.384076im\n",
       "   0.771109+0.691836im    0.427098+0.374244im       0.838153+0.732376im\n",
       "   0.959633+0.919166im    0.236928+0.613902im   …   0.516023+0.677461im\n",
       "   0.231267+0.27581im    0.0170949+0.10747im        0.213306+0.80613im\n",
       "  0.0798038+0.792201im    0.464532+0.456821im       0.870777+0.254211im\n",
       "   0.147822+0.103251im    0.547237+0.0997208im      0.126777+0.301271im\n",
       "   0.699736+0.430292im    0.868859+0.0222879im      0.888662+0.365803im\n",
       "   0.585087+0.924945im    0.208405+0.244826im   …   0.605674+0.602182im"
      ]
     },
     "execution_count": 42,
     "metadata": {},
     "output_type": "execute_result"
    }
   ],
   "source": [
    "kp32 = ComplexF32.(Kp)"
   ]
  },
  {
   "cell_type": "code",
   "execution_count": 26,
   "metadata": {},
   "outputs": [
    {
     "name": "stdout",
     "output_type": "stream",
     "text": [
      "  0.000602 seconds (24 allocations: 75.562 KiB)\n"
     ]
    },
    {
     "data": {
      "text/plain": [
       "16×16 Matrix{ComplexF64}:\n",
       "   0.460127-0.617063im     0.469558+0.0728497im  …   0.792687+0.150518im\n",
       "   0.685205+0.0246103im    0.240175-0.109147im         1.2225+0.328184im\n",
       "  -0.205947-0.719455im      1.15002-0.812729im        1.06055+0.805476im\n",
       "    1.09345-0.794922im     0.705523-1.20217im         1.17813+0.342637im\n",
       "  -0.177006+0.666981im     0.994214-0.112361im        0.35277+0.0192479im\n",
       "   0.536005-1.70379im      0.821082-0.819894im   …   0.989421-0.461227im\n",
       "   0.281564-1.09736im      0.540638-1.5334im        -0.732891+0.576883im\n",
       "   0.470281-0.835412im     0.233591-0.642959im      -0.295603+0.480285im\n",
       "   0.133752-1.8278im        0.57279-1.17437im        0.560732-0.111831im\n",
       "  -0.238542-0.824268im     0.201105-1.16897im          1.3837-0.549953im\n",
       "   0.157988-1.20905im     -0.464475-1.95225im    …   0.821896-0.457653im\n",
       "  -0.384807-0.598423im    -0.509274-0.911342im       0.345902+0.863304im\n",
       " -0.0588976-0.295688im    -0.295529-1.65424im        0.132169-0.469692im\n",
       "   0.566153-0.537926im     0.209671-0.960044im       0.915262+0.372925im\n",
       "  -0.174572-1.4551im       -0.12071-0.934544im       0.953144-1.12968im\n",
       "  -0.422365-1.18263im    -0.0452386-0.799914im   …    1.02413-1.56024im"
      ]
     },
     "execution_count": 26,
     "metadata": {},
     "output_type": "execute_result"
    }
   ],
   "source": [
    "@time HF = exp(-1.0im*K)*(Ht - 1.0im*Kp)*exp(1.0im*K)"
   ]
  },
  {
   "cell_type": "code",
   "execution_count": 28,
   "metadata": {},
   "outputs": [
    {
     "data": {
      "text/plain": [
       "exp (generic function with 19 methods)"
      ]
     },
     "execution_count": 28,
     "metadata": {},
     "output_type": "execute_result"
    }
   ],
   "source": [
    "exp_g = fmap(cu, exp)"
   ]
  },
  {
   "cell_type": "code",
   "execution_count": 33,
   "metadata": {},
   "outputs": [
    {
     "data": {
      "text/plain": [
       "16×16 CuArray{ComplexF32, 2, CUDA.Mem.DeviceBuffer}:\n",
       "  0.262265+0.0im         0.368812+0.316314im    …   0.0542539+0.132235im\n",
       "  0.368812-0.316314im     0.39067+0.0im              0.447851+0.845683im\n",
       "  0.198525-0.388528im    0.614526-0.276659im         0.332641+0.484879im\n",
       "  0.106901-0.287475im    0.206129-0.708015im         0.553948+0.0190467im\n",
       "     0.842-0.0295336im   0.992862-0.656877im         0.754587+0.169572im\n",
       "  0.171103-0.777609im   0.0971686-0.791291im    …   0.0269341+0.00163627im\n",
       "   0.84189-0.227953im    0.647126-0.242952im         0.636217+0.258483im\n",
       "  0.584901-0.496632im    0.541498-0.190937im         0.776984+0.118476im\n",
       "   0.91715-0.119451im    0.654661-0.00813311im       0.890818+0.276197im\n",
       " 0.0358097-0.886382im   0.0873549-0.00926334im       0.413326+0.46406im\n",
       "  0.302799-0.689764im     0.19833-0.951661im    …    0.815534+0.899434im\n",
       "  0.711628-0.521005im    0.737216-0.13354im          0.572061+0.597117im\n",
       "  0.488623-0.480993im    0.488261-0.135043im         0.903329+0.872021im\n",
       " 0.0545281-0.358691im      0.4841-0.226805im          0.03473+0.960658im\n",
       "  0.505048-0.573171im    0.690167-0.355304im       0.00867921+0.9789im\n",
       " 0.0542539-0.132235im    0.447851-0.845683im    …    0.866861+0.0im"
      ]
     },
     "execution_count": 33,
     "metadata": {},
     "output_type": "execute_result"
    }
   ],
   "source": [
    "g_test = gpu(Kp)"
   ]
  },
  {
   "cell_type": "code",
   "execution_count": 31,
   "metadata": {},
   "outputs": [
    {
     "ename": "LoadError",
     "evalue": "ArgumentError: cannot take the CPU address of a CuArray{ComplexF32, 2, CUDA.Mem.DeviceBuffer}",
     "output_type": "error",
     "traceback": [
      "ArgumentError: cannot take the CPU address of a CuArray{ComplexF32, 2, CUDA.Mem.DeviceBuffer}",
      "",
      "Stacktrace:",
      "  [1] unsafe_convert(#unused#::Type{Ptr{ComplexF32}}, x::CuArray{ComplexF32, 2, CUDA.Mem.DeviceBuffer})",
      "    @ CUDA ~/.julia/packages/CUDA/DfvRa/src/array.jl:319",
      "  [2] syevr!(jobz::Char, range::Char, uplo::Char, A::CuArray{ComplexF32, 2, CUDA.Mem.DeviceBuffer}, vl::Float64, vu::Float64, il::Int64, iu::Int64, abstol::Float64)",
      "    @ LinearAlgebra.LAPACK /opt/julia-1.8.0/share/julia/stdlib/v1.8/LinearAlgebra/src/lapack.jl:5254",
      "  [3] eigen!(A::Hermitian{ComplexF32, CuArray{ComplexF32, 2, CUDA.Mem.DeviceBuffer}}; sortby::Nothing)",
      "    @ LinearAlgebra /opt/julia-1.8.0/share/julia/stdlib/v1.8/LinearAlgebra/src/symmetriceigen.jl:4",
      "  [4] eigen(A::Hermitian{ComplexF32, CuArray{ComplexF32, 2, CUDA.Mem.DeviceBuffer}}; sortby::Nothing)",
      "    @ LinearAlgebra /opt/julia-1.8.0/share/julia/stdlib/v1.8/LinearAlgebra/src/symmetriceigen.jl:10",
      "  [5] eigen(A::Hermitian{ComplexF32, CuArray{ComplexF32, 2, CUDA.Mem.DeviceBuffer}})",
      "    @ LinearAlgebra /opt/julia-1.8.0/share/julia/stdlib/v1.8/LinearAlgebra/src/symmetriceigen.jl:7",
      "  [6] exp(A::Hermitian{ComplexF32, CuArray{ComplexF32, 2, CUDA.Mem.DeviceBuffer}})",
      "    @ LinearAlgebra /opt/julia-1.8.0/share/julia/stdlib/v1.8/LinearAlgebra/src/symmetric.jl:733",
      "  [7] exp!(A::CuArray{ComplexF32, 2, CUDA.Mem.DeviceBuffer})",
      "    @ LinearAlgebra /opt/julia-1.8.0/share/julia/stdlib/v1.8/LinearAlgebra/src/dense.jl:628",
      "  [8] exp(A::CuArray{ComplexF32, 2, CUDA.Mem.DeviceBuffer})",
      "    @ LinearAlgebra /opt/julia-1.8.0/share/julia/stdlib/v1.8/LinearAlgebra/src/dense.jl:569",
      "  [9] top-level scope",
      "    @ In[31]:1",
      " [10] eval",
      "    @ ./boot.jl:368 [inlined]",
      " [11] include_string(mapexpr::typeof(REPL.softscope), mod::Module, code::String, filename::String)",
      "    @ Base ./loading.jl:1428"
     ]
    }
   ],
   "source": [
    "exp_g(Kp_g)"
   ]
  },
  {
   "cell_type": "code",
   "execution_count": 30,
   "metadata": {},
   "outputs": [
    {
     "ename": "LoadError",
     "evalue": "ArgumentError: cannot take the CPU address of a CuArray{ComplexF64, 2, CUDA.Mem.DeviceBuffer}",
     "output_type": "error",
     "traceback": [
      "ArgumentError: cannot take the CPU address of a CuArray{ComplexF64, 2, CUDA.Mem.DeviceBuffer}",
      "",
      "Stacktrace:",
      " [1] unsafe_convert(#unused#::Type{Ptr{ComplexF64}}, x::CuArray{ComplexF64, 2, CUDA.Mem.DeviceBuffer})",
      "   @ CUDA ~/.julia/packages/CUDA/DfvRa/src/array.jl:319",
      " [2] gebal!(job::Char, A::CuArray{ComplexF64, 2, CUDA.Mem.DeviceBuffer})",
      "   @ LinearAlgebra.LAPACK /opt/julia-1.8.0/share/julia/stdlib/v1.8/LinearAlgebra/src/lapack.jl:222",
      " [3] exp!(A::CuArray{ComplexF64, 2, CUDA.Mem.DeviceBuffer})",
      "   @ LinearAlgebra /opt/julia-1.8.0/share/julia/stdlib/v1.8/LinearAlgebra/src/dense.jl:630",
      " [4] exp(A::CuArray{ComplexF64, 2, CUDA.Mem.DeviceBuffer})",
      "   @ LinearAlgebra /opt/julia-1.8.0/share/julia/stdlib/v1.8/LinearAlgebra/src/dense.jl:569",
      " [5] top-level scope",
      "   @ ./timing.jl:263 [inlined]",
      " [6] top-level scope",
      "   @ ./In[30]:0",
      " [7] eval",
      "   @ ./boot.jl:368 [inlined]",
      " [8] include_string(mapexpr::typeof(REPL.softscope), mod::Module, code::String, filename::String)",
      "   @ Base ./loading.jl:1428"
     ]
    }
   ],
   "source": [
    "@time HF_g = exp_g(-1.0im)*(Ht_g - 1.0im*Kp_g)*exp_g(1.0im*K_g)"
   ]
  },
  {
   "cell_type": "code",
   "execution_count": 57,
   "metadata": {},
   "outputs": [
    {
     "data": {
      "text/plain": [
       "1024"
      ]
     },
     "execution_count": 57,
     "metadata": {},
     "output_type": "execute_result"
    }
   ],
   "source": [
    "n_size = 1024"
   ]
  },
  {
   "cell_type": "code",
   "execution_count": 58,
   "metadata": {},
   "outputs": [
    {
     "data": {
      "text/plain": [
       "Chain(\n",
       "  Dense(4 => 1024, tanh),               \u001b[90m# 5_120 parameters\u001b[39m\n",
       "  Dense(1024 => 1024, tanh),            \u001b[90m# 1_049_600 parameters\u001b[39m\n",
       "  Dense(1024 => 1024, tanh),            \u001b[90m# 1_049_600 parameters\u001b[39m\n",
       "  Dense(1024 => 6),                     \u001b[90m# 6_150 parameters\u001b[39m\n",
       ") \u001b[90m                  # Total: 8 arrays, \u001b[39m2_110_470 parameters, 8.051 MiB."
      ]
     },
     "execution_count": 58,
     "metadata": {},
     "output_type": "execute_result"
    }
   ],
   "source": [
    "model = Chain(Dense(4, n_size, tanh), Dense(n_size, n_size, tanh), Dense(n_size, n_size, tanh), Dense(n_size, 6))"
   ]
  },
  {
   "cell_type": "code",
   "execution_count": 59,
   "metadata": {},
   "outputs": [
    {
     "data": {
      "text/plain": [
       "Chain(\n",
       "  Dense(4 => 1024, tanh),               \u001b[90m# 5_120 parameters\u001b[39m\n",
       "  Dense(1024 => 1024, tanh),            \u001b[90m# 1_049_600 parameters\u001b[39m\n",
       "  Dense(1024 => 1024, tanh),            \u001b[90m# 1_049_600 parameters\u001b[39m\n",
       "  Dense(1024 => 6),                     \u001b[90m# 6_150 parameters\u001b[39m\n",
       ") \u001b[90m                  # Total: 8 arrays, \u001b[39m2_110_470 parameters, 1.109 KiB."
      ]
     },
     "execution_count": 59,
     "metadata": {},
     "output_type": "execute_result"
    }
   ],
   "source": [
    "model_g = fmap(cu, model)"
   ]
  },
  {
   "cell_type": "code",
   "execution_count": 48,
   "metadata": {},
   "outputs": [
    {
     "data": {
      "text/plain": [
       "4-element Vector{Float64}:\n",
       " 1.0\n",
       " 2.0\n",
       " 0.5\n",
       " 0.1"
      ]
     },
     "execution_count": 48,
     "metadata": {},
     "output_type": "execute_result"
    }
   ],
   "source": [
    "x = [1.0, 2.0, 0.5, 0.1]"
   ]
  },
  {
   "cell_type": "code",
   "execution_count": 49,
   "metadata": {},
   "outputs": [
    {
     "data": {
      "text/plain": [
       "4-element CuArray{Float32, 1, CUDA.Mem.DeviceBuffer}:\n",
       " 1.0\n",
       " 2.0\n",
       " 0.5\n",
       " 0.1"
      ]
     },
     "execution_count": 49,
     "metadata": {},
     "output_type": "execute_result"
    }
   ],
   "source": [
    "xg = gpu(x)"
   ]
  },
  {
   "cell_type": "code",
   "execution_count": 61,
   "metadata": {},
   "outputs": [
    {
     "name": "stdout",
     "output_type": "stream",
     "text": [
      "  0.000317 seconds (139 allocations: 7.734 KiB)\n"
     ]
    },
    {
     "data": {
      "text/plain": [
       "6-element CuArray{Float32, 1, CUDA.Mem.DeviceBuffer}:\n",
       " -0.12342129\n",
       "  0.004194163\n",
       " -0.06829429\n",
       "  0.09331681\n",
       "  0.013573125\n",
       " -0.06740819"
      ]
     },
     "execution_count": 61,
     "metadata": {},
     "output_type": "execute_result"
    }
   ],
   "source": [
    "@time model_g(xg)"
   ]
  },
  {
   "cell_type": "code",
   "execution_count": 63,
   "metadata": {},
   "outputs": [
    {
     "name": "stdout",
     "output_type": "stream",
     "text": [
      "  0.000721 seconds (8 allocations: 48.969 KiB)\n"
     ]
    },
    {
     "data": {
      "text/plain": [
       "6-element Vector{Float64}:\n",
       " -0.12342129779536755\n",
       "  0.0041941510798478195\n",
       " -0.06829426428790586\n",
       "  0.09331682368706827\n",
       "  0.01357310032307778\n",
       " -0.0674082323288227"
      ]
     },
     "execution_count": 63,
     "metadata": {},
     "output_type": "execute_result"
    }
   ],
   "source": [
    "@time model(x)"
   ]
  },
  {
   "cell_type": "code",
   "execution_count": 7,
   "metadata": {},
   "outputs": [
    {
     "data": {
      "text/plain": [
       "Chain(\n",
       "  Dense(4 => 64, tanh),                 \u001b[90m# 320 parameters\u001b[39m\n",
       "  Dense(64 => 64, tanh),                \u001b[90m# 4_160 parameters\u001b[39m\n",
       "  Dense(64 => 6),                       \u001b[90m# 390 parameters\u001b[39m\n",
       ") \u001b[90m                  # Total: 6 arrays, \u001b[39m4_870 parameters, 19.398 KiB."
      ]
     },
     "execution_count": 7,
     "metadata": {},
     "output_type": "execute_result"
    }
   ],
   "source": [
    "model = Chain(Dense(4, 64, tanh), Dense(64, 64, tanh), Dense(64, 6))"
   ]
  },
  {
   "cell_type": "code",
   "execution_count": 18,
   "metadata": {},
   "outputs": [
    {
     "data": {
      "text/plain": [
       "4-element Vector{Float64}:\n",
       " 1.0\n",
       " 2.0\n",
       " 0.5\n",
       " 0.1"
      ]
     },
     "execution_count": 18,
     "metadata": {},
     "output_type": "execute_result"
    }
   ],
   "source": [
    "y = [1.0, 2.0, 0.5, 0.1]"
   ]
  },
  {
   "cell_type": "code",
   "execution_count": 23,
   "metadata": {},
   "outputs": [
    {
     "name": "stdout",
     "output_type": "stream",
     "text": [
      "  0.005960 seconds (5.80 k allocations: 334.134 KiB, 99.08% compilation time)\n"
     ]
    },
    {
     "data": {
      "text/plain": [
       "6-element Vector{Float64}:\n",
       " -0.10658943090832201\n",
       " -0.25949524817210207\n",
       " -0.38480098976911187\n",
       " -0.2340313191338875\n",
       "  0.12074845135298967\n",
       "  0.09428631872700924"
      ]
     },
     "execution_count": 23,
     "metadata": {},
     "output_type": "execute_result"
    }
   ],
   "source": [
    "@time model(y)"
   ]
  },
  {
   "cell_type": "code",
   "execution_count": null,
   "metadata": {},
   "outputs": [],
   "source": []
  }
 ],
 "metadata": {
  "kernelspec": {
   "display_name": "Julia 1.8.0",
   "language": "julia",
   "name": "julia-1.8"
  },
  "language_info": {
   "file_extension": ".jl",
   "mimetype": "application/julia",
   "name": "julia",
   "version": "1.8.0"
  },
  "orig_nbformat": 4
 },
 "nbformat": 4,
 "nbformat_minor": 2
}
