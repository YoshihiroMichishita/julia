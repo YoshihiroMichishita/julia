{
 "cells": [
  {
   "cell_type": "code",
   "execution_count": 1,
   "metadata": {},
   "outputs": [],
   "source": [
    "using Flux, LinearAlgebra"
   ]
  },
  {
   "cell_type": "code",
   "execution_count": 2,
   "metadata": {},
   "outputs": [],
   "source": [
    "using CUDA"
   ]
  },
  {
   "cell_type": "code",
   "execution_count": 21,
   "metadata": {},
   "outputs": [
    {
     "data": {
      "text/plain": [
       "16"
      ]
     },
     "execution_count": 21,
     "metadata": {},
     "output_type": "execute_result"
    }
   ],
   "source": [
    "H_size = 16"
   ]
  },
  {
   "cell_type": "code",
   "execution_count": 22,
   "metadata": {},
   "outputs": [
    {
     "data": {
      "text/plain": [
       "16×16 CuArray{ComplexF32, 2, CUDA.Mem.DeviceBuffer}:\n",
       "  0.839159+0.0im        0.791178+0.92915im    …   0.255124+0.636849im\n",
       "  0.791178-0.92915im    0.503697+0.0im            0.347082+0.413243im\n",
       "  0.846683-0.334754im   0.948065-0.0756429im      0.502709+0.962857im\n",
       "  0.747884-0.846405im   0.958799-0.324977im       0.747326+0.419077im\n",
       " 0.0788435-0.314229im  0.0356427-0.562537im        0.43728+0.0178365im\n",
       "  0.207245-0.239601im  0.0831298-0.123366im   …  0.0497276+0.268114im\n",
       "  0.466356-0.814077im   0.798071-0.283358im      0.0945815+0.412606im\n",
       "  0.703873-0.74163im   0.0299082-0.818892im      0.0435041+0.765374im\n",
       "  0.101615-0.842481im   0.323173-0.992504im       0.115635+0.341516im\n",
       "    0.9924-0.810692im   0.539046-0.287695im       0.376597+0.595861im\n",
       "  0.151242-0.409853im  0.0501673-0.881003im   …  0.0459595+0.825191im\n",
       "  0.143205-0.116088im   0.221634-0.256928im       0.116766+0.181859im\n",
       "  0.147223-0.830604im   0.140517-0.346802im       0.728939+0.70857im\n",
       "  0.513895-0.716265im   0.966294-0.899195im       0.360209+0.299968im\n",
       "  0.291841-0.837577im   0.385759-0.160015im       0.976332+0.964252im\n",
       "  0.255124-0.636849im   0.347082-0.413243im   …   0.305489+0.0im"
      ]
     },
     "execution_count": 22,
     "metadata": {},
     "output_type": "execute_result"
    }
   ],
   "source": [
    "Kp = rand(ComplexF32, H_size,H_size)\n",
    "K = rand(ComplexF32, H_size,H_size)\n",
    "Ht = rand(ComplexF32, H_size,H_size)\n",
    "Kp = Hermitian(Kp)\n",
    "K = Hermitian(K)\n",
    "Ht = Hermitian(Ht)\n",
    "Kp_g = gpu(Kp)\n",
    "K_g = gpu(K)\n",
    "Ht_g = gpu(Ht)"
   ]
  },
  {
   "cell_type": "code",
   "execution_count": 23,
   "metadata": {},
   "outputs": [
    {
     "name": "stdout",
     "output_type": "stream",
     "text": [
      "  0.000039 seconds (8 allocations: 46.500 KiB)\n"
     ]
    },
    {
     "data": {
      "text/plain": [
       "16×16 Matrix{ComplexF64}:\n",
       "  66.9338-71.5519im    83.7097-52.6268im  …  96.2548+58.9043im\n",
       "  51.3561-94.1284im    76.0312-76.5818im     117.032+34.9033im\n",
       "  32.3679-81.2007im    51.3918-69.1177im       94.79+16.9229im\n",
       "  45.9763-103.649im    72.7873-86.8974im     125.269+28.2318im\n",
       "  35.2342-85.0967im    58.2396-72.6811im     104.313+18.3672im\n",
       "   31.367-92.1965im    52.8503-79.2519im  …   105.92+15.1476im\n",
       "  16.1801-109.922im    47.3932-101.813im     122.749-3.69028im\n",
       "  19.0322-107.311im    44.3719-102.183im     123.472-3.98623im\n",
       "  4.99482-113.257im    33.7594-107.202im     121.084-21.7155im\n",
       " -18.2603-96.6056im    3.69716-98.2237im     100.859-46.9062im\n",
       " -21.1488-94.8318im  0.0491369-100.977im  …  103.905-52.8378im\n",
       "  -18.185-86.0723im   -2.33142-92.9304im     92.4012-44.9927im\n",
       " -33.8809-82.7201im   -14.6325-96.8739im     87.9344-61.5956im\n",
       " -56.9904-90.0241im   -37.0684-107.152im     89.2277-89.6242im\n",
       " -79.0085-70.4634im    -61.017-90.1885im     60.5363-106.689im\n",
       "  -59.273-93.9723im   -37.0367-109.405im  …  92.7337-93.8129im"
      ]
     },
     "execution_count": 23,
     "metadata": {},
     "output_type": "execute_result"
    }
   ],
   "source": [
    "@time HF = K'*(Ht - 1.0im*Kp)*K"
   ]
  },
  {
   "cell_type": "code",
   "execution_count": 25,
   "metadata": {},
   "outputs": [
    {
     "name": "stdout",
     "output_type": "stream",
     "text": [
      "  0.000273 seconds (149 allocations: 7.547 KiB)\n"
     ]
    },
    {
     "data": {
      "text/plain": [
       "16×16 CuArray{ComplexF64, 2, CUDA.Mem.DeviceBuffer}:\n",
       "  66.9338-71.5519im    83.7097-52.6268im  …  96.2548+58.9043im\n",
       "  51.3561-94.1284im    76.0312-76.5818im     117.032+34.9033im\n",
       "  32.3679-81.2007im    51.3918-69.1177im       94.79+16.9229im\n",
       "  45.9763-103.649im    72.7873-86.8974im     125.269+28.2318im\n",
       "  35.2342-85.0967im    58.2396-72.6811im     104.313+18.3672im\n",
       "   31.367-92.1965im    52.8503-79.2519im  …   105.92+15.1476im\n",
       "  16.1801-109.922im    47.3932-101.813im     122.749-3.69028im\n",
       "  19.0322-107.311im    44.3719-102.183im     123.472-3.98623im\n",
       "  4.99482-113.257im    33.7594-107.202im     121.084-21.7155im\n",
       " -18.2603-96.6056im    3.69716-98.2237im     100.859-46.9062im\n",
       " -21.1488-94.8318im  0.0491369-100.977im  …  103.905-52.8378im\n",
       "  -18.185-86.0723im   -2.33142-92.9304im     92.4012-44.9927im\n",
       " -33.8809-82.7201im   -14.6325-96.8739im     87.9344-61.5956im\n",
       " -56.9904-90.0241im   -37.0684-107.152im     89.2277-89.6242im\n",
       " -79.0085-70.4634im    -61.017-90.1885im     60.5363-106.689im\n",
       "  -59.273-93.9723im   -37.0367-109.405im  …  92.7337-93.8129im"
      ]
     },
     "execution_count": 25,
     "metadata": {},
     "output_type": "execute_result"
    }
   ],
   "source": [
    "@time HF_g = K_g'*(Ht_g - 1.0im*Kp_g)*K_g"
   ]
  },
  {
   "cell_type": "code",
   "execution_count": 13,
   "metadata": {},
   "outputs": [
    {
     "data": {
      "text/plain": [
       "128"
      ]
     },
     "execution_count": 13,
     "metadata": {},
     "output_type": "execute_result"
    }
   ],
   "source": [
    "n_size = 128"
   ]
  },
  {
   "cell_type": "code",
   "execution_count": 20,
   "metadata": {},
   "outputs": [
    {
     "data": {
      "text/plain": [
       "Chain(\n",
       "  Dense(4 => 128, tanh),                \u001b[90m# 640 parameters\u001b[39m\n",
       "  Dense(128 => 128, tanh),              \u001b[90m# 16_512 parameters\u001b[39m\n",
       "  Dense(128 => 128, tanh),              \u001b[90m# 16_512 parameters\u001b[39m\n",
       "  Dense(128 => 6),                      \u001b[90m# 774 parameters\u001b[39m\n",
       ") \u001b[90m                  # Total: 8 arrays, \u001b[39m34_438 parameters, 135.023 KiB."
      ]
     },
     "execution_count": 20,
     "metadata": {},
     "output_type": "execute_result"
    }
   ],
   "source": [
    "model = Chain(Dense(4, n_size, tanh), Dense(n_size, n_size, tanh), Dense(n_size, n_size, tanh), Dense(n_size, 6))"
   ]
  },
  {
   "cell_type": "code",
   "execution_count": 21,
   "metadata": {},
   "outputs": [
    {
     "data": {
      "text/plain": [
       "Chain(\n",
       "  Dense(4 => 128, tanh),                \u001b[90m# 640 parameters\u001b[39m\n",
       "  Dense(128 => 128, tanh),              \u001b[90m# 16_512 parameters\u001b[39m\n",
       "  Dense(128 => 128, tanh),              \u001b[90m# 16_512 parameters\u001b[39m\n",
       "  Dense(128 => 6),                      \u001b[90m# 774 parameters\u001b[39m\n",
       ") \u001b[90m                  # Total: 8 arrays, \u001b[39m34_438 parameters, 1.109 KiB."
      ]
     },
     "execution_count": 21,
     "metadata": {},
     "output_type": "execute_result"
    }
   ],
   "source": [
    "model_g = fmap(cu, model)"
   ]
  },
  {
   "cell_type": "code",
   "execution_count": 4,
   "metadata": {},
   "outputs": [
    {
     "data": {
      "text/plain": [
       "4-element Vector{Float64}:\n",
       " 1.0\n",
       " 2.0\n",
       " 0.5\n",
       " 0.1"
      ]
     },
     "execution_count": 4,
     "metadata": {},
     "output_type": "execute_result"
    }
   ],
   "source": [
    "x = [1.0, 2.0, 0.5, 0.1]"
   ]
  },
  {
   "cell_type": "code",
   "execution_count": 16,
   "metadata": {},
   "outputs": [
    {
     "data": {
      "text/plain": [
       "4-element CuArray{Float32, 1, CUDA.Mem.DeviceBuffer}:\n",
       " 1.0\n",
       " 2.0\n",
       " 0.5\n",
       " 0.1"
      ]
     },
     "execution_count": 16,
     "metadata": {},
     "output_type": "execute_result"
    }
   ],
   "source": [
    "x = gpu(x)"
   ]
  },
  {
   "cell_type": "code",
   "execution_count": 22,
   "metadata": {},
   "outputs": [
    {
     "name": "stdout",
     "output_type": "stream",
     "text": [
      "  0.006424 seconds (5.93 k allocations: 334.892 KiB, 96.28% compilation time)\n"
     ]
    },
    {
     "data": {
      "text/plain": [
       "6-element CuArray{Float32, 1, CUDA.Mem.DeviceBuffer}:\n",
       " -0.10658946\n",
       " -0.25949526\n",
       " -0.384801\n",
       " -0.23403132\n",
       "  0.12074848\n",
       "  0.09428628"
      ]
     },
     "execution_count": 22,
     "metadata": {},
     "output_type": "execute_result"
    }
   ],
   "source": [
    "@time model_g(x)"
   ]
  },
  {
   "cell_type": "code",
   "execution_count": 7,
   "metadata": {},
   "outputs": [
    {
     "data": {
      "text/plain": [
       "Chain(\n",
       "  Dense(4 => 64, tanh),                 \u001b[90m# 320 parameters\u001b[39m\n",
       "  Dense(64 => 64, tanh),                \u001b[90m# 4_160 parameters\u001b[39m\n",
       "  Dense(64 => 6),                       \u001b[90m# 390 parameters\u001b[39m\n",
       ") \u001b[90m                  # Total: 6 arrays, \u001b[39m4_870 parameters, 19.398 KiB."
      ]
     },
     "execution_count": 7,
     "metadata": {},
     "output_type": "execute_result"
    }
   ],
   "source": [
    "model = Chain(Dense(4, 64, tanh), Dense(64, 64, tanh), Dense(64, 6))"
   ]
  },
  {
   "cell_type": "code",
   "execution_count": 18,
   "metadata": {},
   "outputs": [
    {
     "data": {
      "text/plain": [
       "4-element Vector{Float64}:\n",
       " 1.0\n",
       " 2.0\n",
       " 0.5\n",
       " 0.1"
      ]
     },
     "execution_count": 18,
     "metadata": {},
     "output_type": "execute_result"
    }
   ],
   "source": [
    "y = [1.0, 2.0, 0.5, 0.1]"
   ]
  },
  {
   "cell_type": "code",
   "execution_count": 23,
   "metadata": {},
   "outputs": [
    {
     "name": "stdout",
     "output_type": "stream",
     "text": [
      "  0.005960 seconds (5.80 k allocations: 334.134 KiB, 99.08% compilation time)\n"
     ]
    },
    {
     "data": {
      "text/plain": [
       "6-element Vector{Float64}:\n",
       " -0.10658943090832201\n",
       " -0.25949524817210207\n",
       " -0.38480098976911187\n",
       " -0.2340313191338875\n",
       "  0.12074845135298967\n",
       "  0.09428631872700924"
      ]
     },
     "execution_count": 23,
     "metadata": {},
     "output_type": "execute_result"
    }
   ],
   "source": [
    "@time model(y)"
   ]
  },
  {
   "cell_type": "code",
   "execution_count": null,
   "metadata": {},
   "outputs": [],
   "source": []
  }
 ],
 "metadata": {
  "kernelspec": {
   "display_name": "Julia 1.8.0",
   "language": "julia",
   "name": "julia-1.8"
  },
  "language_info": {
   "file_extension": ".jl",
   "mimetype": "application/julia",
   "name": "julia",
   "version": "1.8.0"
  },
  "orig_nbformat": 4
 },
 "nbformat": 4,
 "nbformat_minor": 2
}
