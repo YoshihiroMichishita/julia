{
 "cells": [
  {
   "cell_type": "code",
   "execution_count": 62,
   "metadata": {},
   "outputs": [
    {
     "data": {
      "text/plain": [
       "4-element Vector{Int64}:\n",
       " 10\n",
       " 11\n",
       " 12\n",
       " 13"
      ]
     },
     "metadata": {},
     "output_type": "display_data"
    }
   ],
   "source": [
    "using Distributed\n",
    "addprocs(4)"
   ]
  },
  {
   "cell_type": "code",
   "execution_count": 63,
   "metadata": {},
   "outputs": [],
   "source": [
    "@everywhere struct Parm\n",
    "    #Parm of electrons\n",
    "    t_i::Float64\n",
    "    t_e::Float64\n",
    "    t_aa::Float64\n",
    "    t_bb::Float64\n",
    "    Delta::Float64\n",
    "    mu::Float64\n",
    "    eta::Float64\n",
    "    hx::Float64\n",
    "    hy::Float64\n",
    "    hz::Float64\n",
    "\n",
    "    #Parm of phonon\n",
    "    Cp::Float64\n",
    "    m::Float64\n",
    "    M::Float64\n",
    "    U::Float64\n",
    "    T::Float64\n",
    "    K_SIZE::Int\n",
    "    W_MAX::Float64\n",
    "    W_SIZE::Int\n",
    "    W_in::Float64\n",
    "end"
   ]
  },
  {
   "cell_type": "code",
   "execution_count": 64,
   "metadata": {},
   "outputs": [],
   "source": [
    "@everywhere using SharedArrays"
   ]
  },
  {
   "cell_type": "code",
   "execution_count": 65,
   "metadata": {},
   "outputs": [],
   "source": [
    "@everywhere mutable struct Hamiltonian\n",
    "    Hk::SharedArray{ComplexF64,3}\n",
    "    Vx::SharedArray{ComplexF64,3}\n",
    "    Vxx::SharedArray{ComplexF64,3}\n",
    "    E::SharedArray{ComplexF64,2}\n",
    "    #=\n",
    "    Hk::Array{ComplexF64,2}\n",
    "    Vx::Array{ComplexF64,2}\n",
    "    Vxx::Array{ComplexF64,2}\n",
    "    E::Array{ComplexF64,1}=#\n",
    "end\n",
    "\n",
    "@everywhere function HandV(p::Parm)\n",
    "    Hk = SharedArray{ComplexF64,3}(p.K_SIZE,2,2)\n",
    "    Vx = SharedArray{ComplexF64,3}(p.K_SIZE,2,2)\n",
    "    Vxx = SharedArray{ComplexF64,3}(p.K_SIZE,2,2)\n",
    "    E = SharedArray{ComplexF64,2}(p.K_SIZE,2)\n",
    "\n",
    "    @distributed for k in 1:p.K_SIZE\n",
    "        #k0::Float64 = 2.0*(k - p.K_SIZE/2)*pi/p.K_SIZE\n",
    "        k0::Float64 = 2.0k*pi/p.K_SIZE\n",
    "        eps::Float64 = -0.5*(p.t_aa + p.t_bb)*cos(k0)-p.mu\n",
    "        g_x::Float64 = (p.t_e*cos(k0) -p.t_i*sin(k0)) - p.hx\n",
    "        g_y::Float64 = (p.t_e*sin(k0) + p.t_i*cos(k0)) - p.hy\n",
    "        g_z::Float64 = p.Delta - p.hz -0.5*(p.t_aa - p.t_bb)*cos(k0)\n",
    "        gg = [eps, g_x, g_y, g_z]\n",
    "        Hk[k,:,:] =  gg' * sigma\n",
    "\n",
    "        eps_vx::Float64 = 0.5*(p.t_aa + p.t_bb)*sin(k0)\n",
    "        gx_vx::Float64 = (-p.t_e*sin(k0) -p.t_i*cos(k0))\n",
    "        gy_vx::Float64 = (p.t_e*cos(k0) - p.t_i*sin(k0))\n",
    "        gz_vx::Float64 = 0.5*(p.t_aa - p.t_bb)*sin(k0)\n",
    "        gg_x = [eps_vx, gx_vx, gy_vx, gz_vx]\n",
    "        Vx[k,:,:] = gg_x' * sigma\n",
    "\n",
    "        eps_vxx::Float64 = 0.5*(p.t_aa + p.t_bb)*cos(k0)\n",
    "        gx_vxx::Float64 = (-p.t_e*cos(k0) +p.t_i*sin(k0))\n",
    "        gy_vxx::Float64 = (-p.t_e*sin(k0) - p.t_i*cos(k0))\n",
    "        gz_vxx::Float64 = 0.5*(p.t_aa - p.t_bb)*cos(k0)\n",
    "        gg_xx = [eps_vxx, gx_vxx, gy_vxx, gz_vxx]\n",
    "        Vxx[k,:,:] = gg_xx' * sigma\n",
    "\n",
    "        E[k,:] = zeros(2)    \n",
    "    end\n",
    "\n",
    "    return Hk, Vx, Vxx, E \n",
    "end"
   ]
  },
  {
   "cell_type": "code",
   "execution_count": 66,
   "metadata": {},
   "outputs": [],
   "source": [
    "@everywhere sigma = [[1.0 0.0; 0.0 1.0], [0.0 1.0; 1.0 0.0], [0.0 -1.0im; 1.0im 0.0], [1.0 0.0; 0.0 -1.0]]\n"
   ]
  },
  {
   "cell_type": "code",
   "execution_count": 67,
   "metadata": {},
   "outputs": [
    {
     "data": {
      "text/plain": [
       "Parm(1.0, 0.3, 0.1, 0.2, 0.1, -0.8, 0.02, 0.6, 0.0, 0.0, 0.5, 0.5, 1.0, 0.2, 0.02, 20, 1.5, 20, 1.0)"
      ]
     },
     "metadata": {},
     "output_type": "display_data"
    }
   ],
   "source": [
    "p = Parm(1.0, 0.3, 0.1, 0.2, 0.1, -0.8, 0.02, 0.6, 0.0, 0.0, 0.5, 0.5, 1.0, 0.2, 0.02, 20, 1.5, 20, 1.0)"
   ]
  },
  {
   "cell_type": "code",
   "execution_count": 83,
   "metadata": {},
   "outputs": [
    {
     "data": {
      "text/plain": [
       "Hamiltonian([0.8048943483704847 + 0.0im -0.6237000394864014 + 1.0437616146076378im; 0.8190983005625052 + 0.0im -0.9450801539799889 + 0.9853525700626894im; … ; 0.0 + 0.0im 0.0 + 0.0im; 0.0 + 0.0im 0.0 + 0.0im;;; -0.6237000394864014 - 1.0437616146076378im 0.5097886967409693 + 0.0im; -0.9450801539799889 - 0.9853525700626894im 0.5381966011250106 + 0.0im; … ; 0.0 + 0.0im 0.0 + 0.0im; 0.0 + 0.0im 0.0 + 0.0im], [0.030901699437494747 + 0.0im -1.0437616146076378 - 0.02370003948640137im; 0.05877852522924733 + 0.0im -0.9853525700626894 - 0.3450801539799889im; … ; 0.0 + 0.0im 0.0 + 0.0im; 0.0 + 0.0im 0.0 + 0.0im;;; -1.0437616146076378 + 0.02370003948640137im 0.061803398874989486 + 0.0im; -0.9853525700626894 + 0.3450801539799889im 0.11755705045849464 + 0.0im; … ; 0.0 + 0.0im 0.0 + 0.0im; 0.0 + 0.0im 0.0 + 0.0im], [0.09510565162951537 + 0.0im 0.02370003948640137 - 1.0437616146076378im; 0.08090169943749476 + 0.0im 0.3450801539799889 - 0.9853525700626894im; … ; 0.0 + 0.0im 0.0 + 0.0im; 0.0 + 0.0im 0.0 + 0.0im;;; 0.02370003948640137 + 1.0437616146076378im 0.1902113032590307 + 0.0im; 0.3450801539799889 + 0.9853525700626894im 0.1618033988749895 + 0.0im; … ; 0.0 + 0.0im 0.0 + 0.0im; 0.0 + 0.0im 0.0 + 0.0im], ComplexF64[0.0 + 0.0im 0.0 + 0.0im; 0.0 + 0.0im 0.0 + 0.0im; … ; 0.0 + 0.0im 0.0 + 0.0im; 0.0 + 0.0im 0.0 + 0.0im])"
      ]
     },
     "metadata": {},
     "output_type": "display_data"
    }
   ],
   "source": [
    "H = Hamiltonian(HandV(p)...)"
   ]
  },
  {
   "cell_type": "code",
   "execution_count": 84,
   "metadata": {},
   "outputs": [
    {
     "data": {
      "text/plain": [
       "20"
      ]
     },
     "metadata": {},
     "output_type": "display_data"
    }
   ],
   "source": [
    "size(H.Hk,1)"
   ]
  },
  {
   "cell_type": "code",
   "execution_count": 73,
   "metadata": {},
   "outputs": [],
   "source": [
    "@everywhere using LinearAlgebra"
   ]
  },
  {
   "cell_type": "code",
   "execution_count": 86,
   "metadata": {},
   "outputs": [
    {
     "data": {
      "text/plain": [
       "Eigen{ComplexF64, Float64, Matrix{ComplexF64}, Vector{Float64}}\n",
       "values:\n",
       "2-element Vector{Float64}:\n",
       " -0.7801326948388722\n",
       "  2.20379711915113\n",
       "vectors:\n",
       "2×2 Matrix{ComplexF64}:\n",
       " -0.560425-0.377573im  0.611331+0.41187im\n",
       " -0.737131+0.0im       -0.67575+0.0im"
      ]
     },
     "metadata": {},
     "output_type": "display_data"
    }
   ],
   "source": [
    "H.E[3,:], BI = eigen(H.Hk[3,:,:])"
   ]
  },
  {
   "cell_type": "code",
   "execution_count": 87,
   "metadata": {},
   "outputs": [
    {
     "data": {
      "text/plain": [
       "2×2 Matrix{ComplexF64}:\n",
       " 0.841221+0.0im      -1.23268-0.83049im\n",
       " -1.23268+0.83049im  0.582443+0.0im"
      ]
     },
     "metadata": {},
     "output_type": "display_data"
    }
   ],
   "source": [
    "H.Hk[3,:,:]"
   ]
  },
  {
   "cell_type": "code",
   "execution_count": 88,
   "metadata": {},
   "outputs": [
    {
     "data": {
      "text/plain": [
       "2×2 Matrix{ComplexF64}:\n",
       " -0.780133+0.0im     0.0+0.0im\n",
       "       0.0+0.0im  2.2038+0.0im"
      ]
     },
     "metadata": {},
     "output_type": "display_data"
    }
   ],
   "source": [
    "H.Hk[3,:,:] = [H.E[3,1] 0.0; 0.0 H.E[3,2]]"
   ]
  },
  {
   "cell_type": "code",
   "execution_count": 89,
   "metadata": {},
   "outputs": [
    {
     "data": {
      "text/plain": [
       "2×2 Matrix{ComplexF64}:\n",
       " -0.209125+0.0im       0.0693725+0.988741im\n",
       " 0.0693725-0.988741im    0.45183+1.11022e-16im"
      ]
     },
     "metadata": {},
     "output_type": "display_data"
    }
   ],
   "source": [
    "Vx_BI = BI' * H.Vx[3,:,:] * BI"
   ]
  },
  {
   "cell_type": "code",
   "execution_count": 90,
   "metadata": {},
   "outputs": [
    {
     "data": {
      "text/plain": [
       "Task (runnable) @0x000000010bf03820"
      ]
     },
     "metadata": {},
     "output_type": "display_data"
    }
   ],
   "source": [
    "@distributed for k in 1:size(H.Hk,1)\n",
    "    H.E[k,:], BI = eigen(H.Hk[k,:,:])\n",
    "    H.Hk[k,:,:] = [H.E[k,1] 0.0; 0.0 H.E[k,2]]\n",
    "    Vx_BI = BI' * H.Vx[k,:,:] * BI\n",
    "    Vxx_BI = BI' * H.Vxx[k,:,:] * BI\n",
    "\n",
    "\n",
    "    H.Vx[k,:,:] = Vx_BI\n",
    "    H.Vxx[k,:,:] = Vxx_BI\n",
    "end"
   ]
  },
  {
   "cell_type": "code",
   "execution_count": 20,
   "metadata": {},
   "outputs": [
    {
     "data": {
      "text/plain": [
       "Gk (generic function with 1 method)"
      ]
     },
     "metadata": {},
     "output_type": "display_data"
    }
   ],
   "source": [
    "@everywhere mutable struct Green\n",
    "    GR::SharedArray{ComplexF64,4}\n",
    "    GA::SharedArray{ComplexF64,4}\n",
    "    GRmA::SharedArray{ComplexF64,4}\n",
    "    #=\n",
    "    GR::Array{ComplexF64,2}\n",
    "    GA::Array{ComplexF64,2}\n",
    "    GRmA::Array{ComplexF64,2}\n",
    "    GRp::Array{ComplexF64,2}\n",
    "    GAp::Array{ComplexF64,2}\n",
    "    GRm::Array{ComplexF64,2}\n",
    "    GAm::Array{ComplexF64,2}=#\n",
    "end\n"
   ]
  },
  {
   "cell_type": "code",
   "execution_count": 21,
   "metadata": {},
   "outputs": [],
   "source": [
    "\n",
    "@everywhere using LinearAlgebra"
   ]
  },
  {
   "cell_type": "code",
   "execution_count": 23,
   "metadata": {},
   "outputs": [],
   "source": [
    "\n",
    "@everywhere function Gk(Ham::Hamiltonian, p::Parm)\n",
    "\n",
    "    GR = SharedArray{ComplexF64,4}(p.K_SIZE,p.W_SIZE,2,2)\n",
    "    GA = SharedArray{ComplexF64,4}(p.K_SIZE,p.W_SIZE,2,2)\n",
    "    GRmA = SharedArray{ComplexF64,4}(p.K_SIZE,p.W_SIZE,2,2)\n",
    "\n",
    "    @distributed for k in 1:p.K_SIZE\n",
    "        for w in 1:p.W_SIZE\n",
    "            w0 = 2.0*(w - p.W_SIZE/2)*p.W_MAX/p.W_SIZE\n",
    "            GR0::Array{ComplexF64,2} = -Ham.Hk[k,:,:] + Matrix{Complex{Float64}}(w0*I,2,2) + p.eta*Matrix{Complex{Float64}}(1.0im*I,2,2)\n",
    "            GR[k,w,:,:] = inv(GR0)\n",
    "            GA[k,w,:,:] = GR[k,w,:,:]'\n",
    "            GRmA[k,w,:,:] = GR[k,w,:,:] - GA[k,w,:,:]\n",
    "        end\n",
    "    end\n",
    "    return GR, GA, GRmA\n",
    "end"
   ]
  },
  {
   "cell_type": "code",
   "execution_count": 24,
   "metadata": {},
   "outputs": [
    {
     "data": {
      "text/plain": [
       "Green([0.0 + 0.0im 0.0 + 0.0im … 0.0 + 0.0im 0.0 + 0.0im; 0.0 + 0.0im 0.0 + 0.0im … 0.0 + 0.0im 0.0 + 0.0im; … ; 0.0 + 0.0im 0.0 + 0.0im … 0.0 + 0.0im 0.0 + 0.0im; 0.0 + 0.0im 0.0 + 0.0im … 0.0 + 0.0im 0.0 + 0.0im;;; 0.0 + 0.0im 0.0 + 0.0im … 0.0 + 0.0im 0.0 + 0.0im; 0.0 + 0.0im 0.0 + 0.0im … 0.0 + 0.0im 0.0 + 0.0im; … ; 0.0 + 0.0im 0.0 + 0.0im … 0.0 + 0.0im 0.0 + 0.0im; 0.0 + 0.0im 0.0 + 0.0im … 0.0 + 0.0im 0.0 + 0.0im;;;; 0.0 + 0.0im 0.0 + 0.0im … 0.0 + 0.0im 0.0 + 0.0im; 0.0 + 0.0im 0.0 + 0.0im … 0.0 + 0.0im 0.0 + 0.0im; … ; 0.0 + 0.0im 0.0 + 0.0im … 0.0 + 0.0im 0.0 + 0.0im; 0.0 + 0.0im 0.0 + 0.0im … 0.0 + 0.0im 0.0 + 0.0im;;; 0.0 + 0.0im 0.0 + 0.0im … 0.0 + 0.0im 0.0 + 0.0im; 0.0 + 0.0im 0.0 + 0.0im … 0.0 + 0.0im 0.0 + 0.0im; … ; 0.0 + 0.0im 0.0 + 0.0im … 0.0 + 0.0im 0.0 + 0.0im; 0.0 + 0.0im 0.0 + 0.0im … 0.0 + 0.0im 0.0 + 0.0im], [0.0 + 0.0im 0.0 + 0.0im … 0.0 + 0.0im 0.0 + 0.0im; 0.0 + 0.0im 0.0 + 0.0im … 0.0 + 0.0im 0.0 + 0.0im; … ; 0.0 + 0.0im 0.0 + 0.0im … 0.0 + 0.0im 0.0 + 0.0im; 0.0 + 0.0im 0.0 + 0.0im … 0.0 + 0.0im 0.0 + 0.0im;;; 0.0 + 0.0im 0.0 + 0.0im … 0.0 + 0.0im 0.0 + 0.0im; 0.0 + 0.0im 0.0 + 0.0im … 0.0 + 0.0im 0.0 + 0.0im; … ; 0.0 + 0.0im 0.0 + 0.0im … 0.0 + 0.0im 0.0 + 0.0im; 0.0 + 0.0im 0.0 + 0.0im … 0.0 + 0.0im 0.0 + 0.0im;;;; 0.0 + 0.0im 0.0 + 0.0im … 0.0 + 0.0im 0.0 + 0.0im; 0.0 + 0.0im 0.0 + 0.0im … 0.0 + 0.0im 0.0 + 0.0im; … ; 0.0 + 0.0im 0.0 + 0.0im … 0.0 + 0.0im 0.0 + 0.0im; 0.0 + 0.0im 0.0 + 0.0im … 0.0 + 0.0im 0.0 + 0.0im;;; 0.0 + 0.0im 0.0 + 0.0im … 0.0 + 0.0im 0.0 + 0.0im; 0.0 + 0.0im 0.0 + 0.0im … 0.0 + 0.0im 0.0 + 0.0im; … ; 0.0 + 0.0im 0.0 + 0.0im … 0.0 + 0.0im 0.0 + 0.0im; 0.0 + 0.0im 0.0 + 0.0im … 0.0 + 0.0im 0.0 + 0.0im], [0.0 + 0.0im 0.0 + 0.0im … 0.0 + 0.0im 0.0 + 0.0im; 0.0 + 0.0im 0.0 + 0.0im … 0.0 + 0.0im 0.0 + 0.0im; … ; 0.0 + 0.0im 0.0 + 0.0im … 0.0 + 0.0im 0.0 + 0.0im; 0.0 + 0.0im 0.0 + 0.0im … 0.0 + 0.0im 0.0 + 0.0im;;; 0.0 + 0.0im 0.0 + 0.0im … 0.0 + 0.0im 0.0 + 0.0im; 0.0 + 0.0im 0.0 + 0.0im … 0.0 + 0.0im 0.0 + 0.0im; … ; 0.0 + 0.0im 0.0 + 0.0im … 0.0 + 0.0im 0.0 + 0.0im; 0.0 + 0.0im 0.0 + 0.0im … 0.0 + 0.0im 0.0 + 0.0im;;;; 0.0 + 0.0im 0.0 + 0.0im … 0.0 + 0.0im 0.0 + 0.0im; 0.0 + 0.0im 0.0 + 0.0im … 0.0 + 0.0im 0.0 + 0.0im; … ; 0.0 + 0.0im 0.0 + 0.0im … 0.0 + 0.0im 0.0 + 0.0im; 0.0 + 0.0im 0.0 + 0.0im … 0.0 + 0.0im 0.0 + 0.0im;;; 0.0 + 0.0im 0.0 + 0.0im … 0.0 + 0.0im 0.0 + 0.0im; 0.0 + 0.0im 0.0 + 0.0im … 0.0 + 0.0im 0.0 + 0.0im; … ; 0.0 + 0.0im 0.0 + 0.0im … 0.0 + 0.0im 0.0 + 0.0im; 0.0 + 0.0im 0.0 + 0.0im … 0.0 + 0.0im 0.0 + 0.0im])"
      ]
     },
     "metadata": {},
     "output_type": "display_data"
    }
   ],
   "source": [
    "G = Green(Gk(H,p)...)"
   ]
  },
  {
   "cell_type": "code",
   "execution_count": 47,
   "metadata": {},
   "outputs": [
    {
     "data": {
      "text/plain": [
       "2×2 Matrix{ComplexF64}:\n",
       " 0.476352+0.0304395im  0.559332+0.990599im\n",
       " 0.607378-0.961889im   0.752368+0.0372316im"
      ]
     },
     "metadata": {},
     "output_type": "display_data"
    }
   ],
   "source": [
    "G.GA[1,10,:,:]"
   ]
  },
  {
   "cell_type": "code",
   "execution_count": 59,
   "metadata": {},
   "outputs": [
    {
     "data": {
      "text/plain": [
       "PV_calcu_simple (generic function with 2 methods)"
      ]
     },
     "metadata": {},
     "output_type": "display_data"
    }
   ],
   "source": [
    "function PV_calcu_simple(p::Parm, H::Hamiltonian, G::Green, Jxx::SharedArray{Float64,1})\n",
    "    #@everywhere dk::Float64 = 2pi/p.K_SIZE\n",
    "    #@everywhere dw::Float64 = 2*p.W_MAX/p.W_SIZE\n",
    "    #@everywhere wi::Int = 10\n",
    "    #convert(Int,round(p.W_in/dw))\n",
    "\n",
    "    #Jxxx = SharedArray{Float64,1}(p.K_SIZE)\n",
    "\n",
    "    \n",
    "    @distributed for k in 1:p.K_SIZE\n",
    "        dk::Float64 = 2pi/p.K_SIZE\n",
    "        dw::Float64 = 2*p.W_MAX/p.W_SIZE\n",
    "        wi::Int = 10\n",
    "        for w in 1:p.W_SIZE\n",
    "            ww = 2.0p.W_MAX*(w-p.W_SIZE/2)/p.W_SIZE\n",
    "            Jxxx[k] += dk * dw * imag(tr(H.Vx[k,:,:] * G.GR[k,w,:,:] * H.Vx[k,:,:] * (G.GR[k,w+wi,:,:] + G.GR[k,w-wi,:,:]) * H.Vx[k,:,:] * G.GRmA[k,w,:,:])) * f(ww,p.T)\n",
    "            Jxxx[k] += dk * dw * imag(tr(H.Vx[k,:,:] * G.GR[k,w,:,:] * H.Vxx[k,:,:] * G.GRmA[k,w,:,:])) * f(ww,p.T)\n",
    "            Jxxx[k] += dk * dw * imag(tr(H.Vx[k,:,:] * G.GR[k,w-wi,:,:] * H.Vx[k,:,:] * (G.GRmA[k,w,:,:]) * H.Vx[k,:,:] * G.GA[k,w-wi,:,:])) * f(ww,p.T)\n",
    "            Jxxx[k] += dk * dw * imag(tr(H.Vx[k,:,:] * G.GR[k,w+wi,:,:] * H.Vx[k,:,:] * (G.GRmA[k,w,:,:]) * H.Vx[k,:,:] * G.GA[k,w+wi,:,:])) * f(ww,p.T)\n",
    "            Jxxx[k] += dk * dw * imag(tr(H.Vx[k,:,:] * G.GRmA[k,w,:,:] * H.Vx[k,:,:] * (G.GR[k,w+wi,:,:] + G.GR[k,w-wi,:,:]) * H.Vx[k,:,:] * G.GA[k,w,:,:])) * f(ww,p.T)\n",
    "            Jxxx[k] += dk * dw * imag(tr(H.Vx[k,:,:] * G.GRmA[k,w,:,:] * H.Vxx[k,:,:] * G.GA[k,w,:,:])) * f(ww,p.T)\n",
    "        end\n",
    "        if(k==1)\n",
    "            println(\"check!\")\n",
    "            println(Jxxx[k])\n",
    "        end\n",
    "    end\n",
    "    #println(\"Hello\")\n",
    "    #return Jxxx/(2*pi)/(p.W_in^2)\n",
    "end"
   ]
  },
  {
   "cell_type": "code",
   "execution_count": 33,
   "metadata": {},
   "outputs": [
    {
     "data": {
      "text/plain": [
       "20-element SharedVector{Float64}:\n",
       " 0.0\n",
       " 0.0\n",
       " 0.0\n",
       " 0.0\n",
       " 0.0\n",
       " 0.0\n",
       " 0.0\n",
       " 0.0\n",
       " 0.0\n",
       " 0.0\n",
       " 0.0\n",
       " 0.0\n",
       " 0.0\n",
       " 0.0\n",
       " 0.0\n",
       " 0.0\n",
       " 0.0\n",
       " 0.0\n",
       " 0.0\n",
       " 0.0"
      ]
     },
     "metadata": {},
     "output_type": "display_data"
    }
   ],
   "source": [
    "PV_XXX_mu = SharedArray{Float64,1}(p.K_SIZE)\n",
    "#PV_calcu_simple(p, H, G, PV_XXX_mu)"
   ]
  },
  {
   "cell_type": "code",
   "execution_count": 60,
   "metadata": {},
   "outputs": [
    {
     "data": {
      "text/plain": [
       "Task (runnable) @0x000000010d1ebde0"
      ]
     },
     "metadata": {},
     "output_type": "display_data"
    }
   ],
   "source": [
    " #test = PV_calcu_simple(p, H, G)\n",
    " #, PV_XXX_mu)\n",
    "PV_calcu_simple(p, H, G, PV_XXX_mu)"
   ]
  },
  {
   "cell_type": "code",
   "execution_count": 61,
   "metadata": {},
   "outputs": [
    {
     "name": "stderr",
     "output_type": "stream",
     "text": [
      "\u001b[91m\u001b[1mUnhandled Task \u001b[22m\u001b[39m\u001b[91m\u001b[1mERROR: \u001b[22m\u001b[39mOn worker 2:\n",
      "UndefVarError: Jxxx not defined\n",
      "Stacktrace:\n",
      " [1] \u001b[0m\u001b[1mmacro expansion\u001b[22m\n",
      "\u001b[90m   @ \u001b[39m\u001b[90m~/Documents/Codes/julia/\u001b[39m\u001b[90m\u001b[4mtest1.ipynb:16\u001b[24m\u001b[39m\u001b[90m [inlined]\u001b[39m\n",
      " [2] \u001b[0m\u001b[1m#35\u001b[22m\n",
      "\u001b[90m   @ \u001b[39m\u001b[90m/Applications/Julia-1.7.app/Contents/Resources/julia/share/julia/stdlib/v1.7/Distributed/src/\u001b[39m\u001b[90m\u001b[4mmacros.jl:303\u001b[24m\u001b[39m\n",
      " [3] \u001b[0m\u001b[1m#172\u001b[22m\n",
      "\u001b[90m   @ \u001b[39m\u001b[90m/Applications/Julia-1.7.app/Contents/Resources/julia/share/julia/stdlib/v1.7/Distributed/src/\u001b[39m\u001b[90m\u001b[4mmacros.jl:83\u001b[24m\u001b[39m\n",
      " [4] \u001b[0m\u001b[1m#103\u001b[22m\n",
      "\u001b[90m   @ \u001b[39m\u001b[90m/Applications/Julia-1.7.app/Contents/Resources/julia/share/julia/stdlib/v1.7/Distributed/src/\u001b[39m\u001b[90m\u001b[4mprocess_messages.jl:274\u001b[24m\u001b[39m\n",
      " [5] \u001b[0m\u001b[1mrun_work_thunk\u001b[22m\n",
      "\u001b[90m   @ \u001b[39m\u001b[90m/Applications/Julia-1.7.app/Contents/Resources/julia/share/julia/stdlib/v1.7/Distributed/src/\u001b[39m\u001b[90m\u001b[4mprocess_messages.jl:63\u001b[24m\u001b[39m\n",
      " [6] \u001b[0m\u001b[1mrun_work_thunk\u001b[22m\n",
      "\u001b[90m   @ \u001b[39m\u001b[90m/Applications/Julia-1.7.app/Contents/Resources/julia/share/julia/stdlib/v1.7/Distributed/src/\u001b[39m\u001b[90m\u001b[4mprocess_messages.jl:72\u001b[24m\u001b[39m\n",
      " [7] \u001b[0m\u001b[1m#96\u001b[22m\n",
      "\u001b[90m   @ \u001b[39m\u001b[90m./\u001b[39m\u001b[90m\u001b[4mtask.jl:423\u001b[24m\u001b[39m\n",
      "\n",
      "...and 7 more exceptions.\n",
      "\n",
      "Stacktrace:\n",
      " [1] \u001b[0m\u001b[1msync_end\u001b[22m\u001b[0m\u001b[1m(\u001b[22m\u001b[90mc\u001b[39m::\u001b[0mChannel\u001b[90m{Any}\u001b[39m\u001b[0m\u001b[1m)\u001b[22m\n",
      "\u001b[90m   @ \u001b[39m\u001b[90mBase\u001b[39m \u001b[90m./\u001b[39m\u001b[90m\u001b[4mtask.jl:381\u001b[24m\u001b[39m\n",
      " [2] \u001b[0m\u001b[1m(::Distributed.var\"#171#173\"{var\"#35#36\"{Parm, Hamiltonian, Green}, UnitRange{Int64}})\u001b[22m\u001b[0m\u001b[1m(\u001b[22m\u001b[0m\u001b[1m)\u001b[22m\n",
      "\u001b[90m   @ \u001b[39m\u001b[35mDistributed\u001b[39m \u001b[90m./\u001b[39m\u001b[90m\u001b[4mtask.jl:400\u001b[24m\u001b[39m\n"
     ]
    },
    {
     "data": {
      "text/plain": [
       "0.0"
      ]
     },
     "metadata": {},
     "output_type": "display_data"
    }
   ],
   "source": [
    "PV_XXX_mu[5]"
   ]
  },
  {
   "cell_type": "code",
   "execution_count": null,
   "metadata": {},
   "outputs": [],
   "source": []
  }
 ],
 "metadata": {
  "kernelspec": {
   "display_name": "Julia 1.7.2",
   "language": "julia",
   "name": "julia-1.7"
  },
  "language_info": {
   "file_extension": ".jl",
   "mimetype": "application/julia",
   "name": "julia",
   "version": "1.7.2"
  },
  "orig_nbformat": 4
 },
 "nbformat": 4,
 "nbformat_minor": 2
}
