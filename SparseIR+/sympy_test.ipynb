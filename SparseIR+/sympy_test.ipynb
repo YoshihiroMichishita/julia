{
 "cells": [
  {
   "cell_type": "code",
   "execution_count": 1,
   "metadata": {},
   "outputs": [
    {
     "name": "stderr",
     "output_type": "stream",
     "text": [
      "\u001b[32m\u001b[1mPrecompiling\u001b[22m\u001b[39m SymPy\n",
      "\u001b[32m  ✓ \u001b[39mSymPy\n",
      "  1 dependency successfully precompiled in 2 seconds. 52 already precompiled.\n"
     ]
    }
   ],
   "source": [
    "using LinearAlgebra\n",
    "#ENV[\"PYTHON\"] = \"/home/yoshihiro/anaconda3/bin/python\"\n",
    "using SymPy"
   ]
  },
  {
   "cell_type": "code",
   "execution_count": 10,
   "metadata": {},
   "outputs": [
    {
     "data": {
      "text/plain": [
       "2-element Vector{Float64}:\n",
       " -5.2\n",
       " -1.2"
      ]
     },
     "execution_count": 10,
     "metadata": {},
     "output_type": "execute_result"
    }
   ],
   "source": [
    "v = [-5.2, -1.2]"
   ]
  },
  {
   "cell_type": "code",
   "execution_count": 5,
   "metadata": {},
   "outputs": [],
   "source": [
    "using SymPy"
   ]
  },
  {
   "cell_type": "code",
   "execution_count": 3,
   "metadata": {},
   "outputs": [
    {
     "data": {
      "text/plain": [
       "(x,)"
      ]
     },
     "execution_count": 3,
     "metadata": {},
     "output_type": "execute_result"
    }
   ],
   "source": [
    "@syms x\n",
    "#x = symbols(\"x\", real=true)"
   ]
  },
  {
   "cell_type": "code",
   "execution_count": 4,
   "metadata": {},
   "outputs": [
    {
     "data": {
      "text/plain": [
       "f (generic function with 1 method)"
      ]
     },
     "execution_count": 4,
     "metadata": {},
     "output_type": "execute_result"
    }
   ],
   "source": [
    "f(x) = x^2 + v[1]*x + v[2]"
   ]
  },
  {
   "cell_type": "code",
   "execution_count": 5,
   "metadata": {},
   "outputs": [
    {
     "data": {
      "text/latex": [
       "$2.0 \\cdot \\left(0.5 x - 1.0\\right) \\left(1.0 x + 1.0\\right)$"
      ],
      "text/plain": [
       "2.0⋅(0.5⋅x - 1.0)⋅(1.0⋅x + 1.0)"
      ]
     },
     "execution_count": 5,
     "metadata": {},
     "output_type": "execute_result"
    }
   ],
   "source": [
    "factor(f(x))"
   ]
  },
  {
   "cell_type": "code",
   "execution_count": 11,
   "metadata": {},
   "outputs": [
    {
     "data": {
      "text/plain": [
       "2-element Vector{Float64}:\n",
       " -0.2213471959331769\n",
       "  5.421347195933177"
      ]
     },
     "execution_count": 11,
     "metadata": {},
     "output_type": "execute_result"
    }
   ],
   "source": [
    "convert(Vector{Float64},solve(f(x), x))"
   ]
  },
  {
   "cell_type": "code",
   "execution_count": 14,
   "metadata": {},
   "outputs": [
    {
     "data": {
      "text/plain": [
       "create_perms (generic function with 1 method)"
      ]
     },
     "execution_count": 14,
     "metadata": {},
     "output_type": "execute_result"
    }
   ],
   "source": [
    "function create_perms(n::Int)\n",
    "    perms = []\n",
    "    init = [1, 1, 1]\n",
    "    for i in 1:n^3\n",
    "        push!(perms, copy(init))\n",
    "        init[end] += 1\n",
    "        for j in 3:-1:2\n",
    "            if init[j] > n\n",
    "                init[j] = 1\n",
    "                init[j-1] += 1\n",
    "            end\n",
    "        end\n",
    "    end\n",
    "    return perms\n",
    "end"
   ]
  },
  {
   "cell_type": "code",
   "execution_count": 16,
   "metadata": {},
   "outputs": [
    {
     "data": {
      "text/plain": [
       "27-element Vector{Any}:\n",
       " [1, 1, 1]\n",
       " [1, 1, 2]\n",
       " [1, 1, 3]\n",
       " [1, 2, 1]\n",
       " [1, 2, 2]\n",
       " [1, 2, 3]\n",
       " [1, 3, 1]\n",
       " [1, 3, 2]\n",
       " [1, 3, 3]\n",
       " [2, 1, 1]\n",
       " [2, 1, 2]\n",
       " [2, 1, 3]\n",
       " [2, 2, 1]\n",
       " ⋮\n",
       " [2, 3, 1]\n",
       " [2, 3, 2]\n",
       " [2, 3, 3]\n",
       " [3, 1, 1]\n",
       " [3, 1, 2]\n",
       " [3, 1, 3]\n",
       " [3, 2, 1]\n",
       " [3, 2, 2]\n",
       " [3, 2, 3]\n",
       " [3, 3, 1]\n",
       " [3, 3, 2]\n",
       " [3, 3, 3]"
      ]
     },
     "execution_count": 16,
     "metadata": {},
     "output_type": "execute_result"
    }
   ],
   "source": [
    "test_perms = create_perms(3)"
   ]
  },
  {
   "cell_type": "code",
   "execution_count": 18,
   "metadata": {},
   "outputs": [
    {
     "data": {
      "text/plain": [
       "5"
      ]
     },
     "execution_count": 18,
     "metadata": {},
     "output_type": "execute_result"
    }
   ],
   "source": [
    "test = [5,4,3,2,1]\n",
    "argmin(test)"
   ]
  },
  {
   "cell_type": "code",
   "execution_count": 31,
   "metadata": {},
   "outputs": [
    {
     "data": {
      "text/plain": [
       "EM (generic function with 1 method)"
      ]
     },
     "execution_count": 31,
     "metadata": {},
     "output_type": "execute_result"
    }
   ],
   "source": [
    "include(\"gmm.jl\")"
   ]
  },
  {
   "cell_type": "code",
   "execution_count": 21,
   "metadata": {},
   "outputs": [
    {
     "name": "stdout",
     "output_type": "stream",
     "text": [
      "test_gp = rand_init_params(2) = gParams(2, Float32[0.8734417, 0.39927405], Float32[1.9754702, 0.007407007], Float32[0.008144839, 0.99185514])\n"
     ]
    },
    {
     "data": {
      "text/plain": [
       "gParams(2, Float32[0.8734417, 0.39927405], Float32[1.9754702, 0.007407007], Float32[0.008144839, 0.99185514])"
      ]
     },
     "execution_count": 21,
     "metadata": {},
     "output_type": "execute_result"
    }
   ],
   "source": [
    "@show test_gp = rand_init_params(2)"
   ]
  },
  {
   "cell_type": "code",
   "execution_count": 22,
   "metadata": {},
   "outputs": [
    {
     "data": {
      "text/plain": [
       "9-element Vector{Float32}:\n",
       "  1.2727158\n",
       " -4.224522\n",
       "  1.0\n",
       "  0.3487426\n",
       " -3.3395796\n",
       "  0.008078501\n",
       " -4.0126905\n",
       "  0.63530827\n",
       "  0.8695797"
      ]
     },
     "execution_count": 22,
     "metadata": {},
     "output_type": "execute_result"
    }
   ],
   "source": [
    "sym_p = gParams2data_sym2(test_gp)"
   ]
  },
  {
   "cell_type": "code",
   "execution_count": 26,
   "metadata": {},
   "outputs": [
    {
     "data": {
      "text/plain": [
       "testf (generic function with 1 method)"
      ]
     },
     "execution_count": 26,
     "metadata": {},
     "output_type": "execute_result"
    }
   ],
   "source": [
    "testf(x) = x^2 + sym_p[1]*x + sym_p[4]"
   ]
  },
  {
   "cell_type": "code",
   "execution_count": 27,
   "metadata": {},
   "outputs": [
    {
     "data": {
      "text/latex": [
       "$\\left[\\begin{smallmatrix}-0.873441806490539\\\\-0.399274000470521\\end{smallmatrix}\\right]$"
      ],
      "text/plain": [
       "2-element Vector{Sym{PyCall.PyObject}}:\n",
       " -0.873441806490539\n",
       " -0.399274000470521"
      ]
     },
     "execution_count": 27,
     "metadata": {},
     "output_type": "execute_result"
    }
   ],
   "source": [
    "solve(testf(x), x)"
   ]
  },
  {
   "cell_type": "code",
   "execution_count": 28,
   "metadata": {},
   "outputs": [
    {
     "data": {
      "text/plain": [
       "2-element Vector{Float64}:\n",
       " -0.8734418064905394\n",
       " -0.39927400047052064"
      ]
     },
     "execution_count": 28,
     "metadata": {},
     "output_type": "execute_result"
    }
   ],
   "source": [
    "convert(Vector{Float64},solve(testf(x), x))"
   ]
  },
  {
   "cell_type": "code",
   "execution_count": 32,
   "metadata": {},
   "outputs": [
    {
     "data": {
      "text/plain": [
       "6-element Vector{Float32}:\n",
       " 0.399274\n",
       " 0.8734418\n",
       " 1.9754703\n",
       " 0.0074070077\n",
       " 0.99185514\n",
       " 0.008144839"
      ]
     },
     "execution_count": 32,
     "metadata": {},
     "output_type": "execute_result"
    }
   ],
   "source": [
    "recov = sym2params2(sym_p)"
   ]
  },
  {
   "cell_type": "code",
   "execution_count": null,
   "metadata": {},
   "outputs": [],
   "source": []
  }
 ],
 "metadata": {
  "kernelspec": {
   "display_name": "Julia 1.10.3",
   "language": "julia",
   "name": "julia-1.10"
  },
  "language_info": {
   "file_extension": ".jl",
   "mimetype": "application/julia",
   "name": "julia",
   "version": "1.10.3"
  }
 },
 "nbformat": 4,
 "nbformat_minor": 2
}
