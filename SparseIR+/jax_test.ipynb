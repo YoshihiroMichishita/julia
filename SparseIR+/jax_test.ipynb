{
 "cells": [
  {
   "cell_type": "code",
   "execution_count": 1,
   "metadata": {},
   "outputs": [],
   "source": [
    "import jax \n",
    "import jax.numpy as jnp\n",
    "from jax import random\n",
    "from jax import grad, jit, vmap\n",
    "\n",
    "import pandas as pd\n",
    "import matplotlib.pyplot as plt"
   ]
  },
  {
   "cell_type": "code",
   "execution_count": 3,
   "metadata": {},
   "outputs": [],
   "source": [
    "import model_jax as model"
   ]
  },
  {
   "cell_type": "code",
   "execution_count": 4,
   "metadata": {},
   "outputs": [],
   "source": [
    "import optax"
   ]
  },
  {
   "cell_type": "code",
   "execution_count": 5,
   "metadata": {},
   "outputs": [],
   "source": [
    "from flax import linen as nn\n",
    "from flax.training import train_state"
   ]
  },
  {
   "cell_type": "code",
   "execution_count": 66,
   "metadata": {},
   "outputs": [],
   "source": [
    "key0, key1 = random.split(key=random.PRNGKey(1), num=2)"
   ]
  },
  {
   "cell_type": "code",
   "execution_count": 67,
   "metadata": {},
   "outputs": [],
   "source": [
    "train_test =  jnp.asarray(random.normal(key0, (100, 1, 40)))"
   ]
  },
  {
   "cell_type": "code",
   "execution_count": 68,
   "metadata": {},
   "outputs": [],
   "source": [
    "@jax.jit\n",
    "def loss_fn(params, state, inputs, target, mu_filter, sigma_filter, w_filter):\n",
    "    predicts = state.apply_fn(params, inputs)\n",
    "    mu_predict = jnp.matmul(predicts, mu_filter)\n",
    "    sigma_predict = jnp.matmul(predicts, sigma_filter)\n",
    "    w_predict = jnp.matmul(predicts, w_filter)\n",
    "\n",
    "    mu_target = jnp.matmul(target, mu_filter)\n",
    "    sigma_target = jnp.matmul(target, sigma_filter)\n",
    "    w_target = jnp.matmul(target, w_filter)\n",
    "\n",
    "    mu_diff = mu_predict - mu_target\n",
    "    sigma_diff = (sigma_predict - sigma_target)/4\n",
    "\n",
    "\n",
    "    loss = jnp.mean(w_target * (mu_diff**2 / sigma_predict + (jnp.exp(sigma_diff) - jnp.exp(-sigma_diff))**2)) + jnp.mean(w_predict*jnp.log(w_predict/(w_target+1e-10))) \n",
    "\n",
    "    #loss = optax.l2_loss(predicts, target).mean()\n",
    "    return loss\n",
    "\n",
    "@jax.jit\n",
    "def train_step(state, inputs, target, mu_filter, sigma_filter, w_filter):\n",
    "    loss, grad = jax.value_and_grad(loss_fn)(state.params, state, inputs, target, mu_filter, sigma_filter, w_filter)\n",
    "    #updates, new_state = state.tx.update(grad, state)\n",
    "    new_state = state.apply_gradients(grads=grad)\n",
    "    return new_state, loss\n",
    "\n",
    "#@jax.jit \n",
    "def sample_batch(batch, sample_size, rng):\n",
    "    num_samples = batch.shape[0]\n",
    "    if sample_size > num_samples:\n",
    "        sample_size = num_samples\n",
    "    indices = jax.random.choice(rng, num_samples, shape=(sample_size,), replace=False)\n",
    "    sampled_batch = batch[indices,:,:]\n",
    "    return sampled_batch"
   ]
  },
  {
   "cell_type": "code",
   "execution_count": 10,
   "metadata": {},
   "outputs": [
    {
     "name": "stdout",
     "output_type": "stream",
     "text": [
      "(32768, 40)\n",
      "(32768, 1, 40)\n"
     ]
    }
   ],
   "source": [
    "csv_file = 'datas/input_32768_e15_K5_style2_1.csv'\n",
    "df = pd.read_csv(csv_file)\n",
    "data = jnp.transpose(jnp.array(df.values),[1,0])\n",
    "print(data.shape)\n",
    "\n",
    "input_data = data.reshape(data.shape[0], 1, data.shape[1])\n",
    "print(input_data.shape)"
   ]
  },
  {
   "cell_type": "code",
   "execution_count": 11,
   "metadata": {},
   "outputs": [
    {
     "name": "stdout",
     "output_type": "stream",
     "text": [
      "(32768, 15)\n",
      "(32768, 1, 15)\n"
     ]
    }
   ],
   "source": [
    "csv_file = 'datas/target_32768_e15_K5_style2_1.csv'\n",
    "df = pd.read_csv(csv_file)\n",
    "data = jnp.transpose(jnp.array(df.values),[1,0])\n",
    "print(data.shape)\n",
    "\n",
    "target_data = data.reshape(data.shape[0], 1, data.shape[1])\n",
    "print(target_data.shape)"
   ]
  },
  {
   "cell_type": "code",
   "execution_count": 12,
   "metadata": {},
   "outputs": [],
   "source": [
    "n_gauss = 5\n",
    "num_classes = 3*n_gauss"
   ]
  },
  {
   "cell_type": "code",
   "execution_count": 71,
   "metadata": {},
   "outputs": [],
   "source": [
    "heads = 3\n",
    "d_model = 40\n",
    "n_layer = 12\n",
    "var = model.TransformerEncoder(n_gauss, heads, d_model, n_layer).init(key1, train_test)\n",
    "#state = train_state.TrainState.create(apply_fn=model.TransformerEncoder(n_gauss, heads, d_model, n_layer).apply, params=var, tx=optax.chain(optax.scale_by_adam(), optax.scale_by_learning_rate(optax.piecewise_constant_schedule(init_value=1e-3, boundaries_and_scales={1000: 0.3}))))\n",
    "state = train_state.TrainState.create(apply_fn=model.TransformerEncoder(n_gauss, heads, d_model, n_layer).apply, params=var, tx=optax.chain(optax.scale_by_adam(), optax.scale_by_learning_rate(optax.exponential_decay(1e-4, 2000, 0.3))))"
   ]
  },
  {
   "cell_type": "code",
   "execution_count": 14,
   "metadata": {},
   "outputs": [
    {
     "name": "stdout",
     "output_type": "stream",
     "text": [
      "[[0. 0. 0. 0. 0.]\n",
      " [0. 0. 0. 0. 0.]\n",
      " [0. 0. 0. 0. 0.]\n",
      " [0. 0. 0. 0. 0.]\n",
      " [0. 0. 0. 0. 0.]\n",
      " [0. 0. 0. 0. 0.]\n",
      " [0. 0. 0. 0. 0.]\n",
      " [0. 0. 0. 0. 0.]\n",
      " [0. 0. 0. 0. 0.]\n",
      " [0. 0. 0. 0. 0.]\n",
      " [1. 0. 0. 0. 0.]\n",
      " [0. 1. 0. 0. 0.]\n",
      " [0. 0. 1. 0. 0.]\n",
      " [0. 0. 0. 1. 0.]\n",
      " [0. 0. 0. 0. 1.]]\n"
     ]
    }
   ],
   "source": [
    "indices_m = jnp.array(range(0, n_gauss))\n",
    "mu_filter = (jnp.eye(num_classes)[indices_m]).transpose()\n",
    "\n",
    "indice_s = jnp.array(range(n_gauss, 2*n_gauss))\n",
    "sigma_filter = (jnp.eye(num_classes)[indice_s]).transpose()\n",
    "\n",
    "indice_w = jnp.array(range(2*n_gauss, 3*n_gauss))\n",
    "w_filter = (jnp.eye(num_classes)[indice_w]).transpose()\n",
    "print(w_filter)"
   ]
  },
  {
   "cell_type": "code",
   "execution_count": 72,
   "metadata": {},
   "outputs": [
    {
     "name": "stdout",
     "output_type": "stream",
     "text": [
      "step: 2000, loss: 3.1204376220703125\n",
      "step: 4000, loss: 1.4007846117019653\n",
      "step: 6000, loss: 1.1502846479415894\n",
      "step: 8000, loss: 1.0984394550323486\n",
      "step: 10000, loss: 1.02698814868927\n",
      "step: 12000, loss: 1.017311453819275\n",
      "step: 14000, loss: 1.0109211206436157\n",
      "step: 16000, loss: 1.0079233646392822\n",
      "step: 18000, loss: 1.0068368911743164\n",
      "step: 20000, loss: 1.0065221786499023\n",
      "step: 22000, loss: 1.006485939025879\n",
      "step: 24000, loss: 1.0064888000488281\n",
      "step: 26000, loss: 1.0064784288406372\n",
      "step: 28000, loss: 1.0066049098968506\n",
      "step: 30000, loss: 1.0064674615859985\n",
      "step: 32000, loss: 1.0065935850143433\n",
      "step: 34000, loss: 1.0065937042236328\n",
      "step: 36000, loss: 1.0065937042236328\n",
      "step: 38000, loss: 1.0065937042236328\n",
      "step: 40000, loss: 1.0065937042236328\n"
     ]
    },
    {
     "data": {
      "text/plain": [
       "[<matplotlib.lines.Line2D at 0x7c0b18460990>]"
      ]
     },
     "execution_count": 72,
     "metadata": {},
     "output_type": "execute_result"
    },
    {
     "data": {
      "image/png": "[encoded data removed]",
      "text/plain": [
       "<Figure size 640x480 with 1 Axes>"
      ]
     },
     "metadata": {},
     "output_type": "display_data"
    }
   ],
   "source": [
    "loss_hist = []\n",
    "for step in range(1, 16001):\n",
    "    sample_input = sample_batch(input_data, 4096, key0)\n",
    "    sample_target = sample_batch(target_data, 4096, key0)\n",
    "    state, loss = train_step(state, sample_input, sample_target, mu_filter, sigma_filter, w_filter)\n",
    "    loss_hist.append(loss)\n",
    "    if step % 2000 == 0:\n",
    "        print(f'step: {step}, loss: {loss}')\n",
    "\n",
    "plt.semilogy(loss_hist, label='loss')"
   ]
  },
  {
   "cell_type": "code",
   "execution_count": 74,
   "metadata": {},
   "outputs": [
    {
     "name": "stdout",
     "output_type": "stream",
     "text": [
      "[[[-0.4374482  -0.9958357  -0.07876232  0.2741677   0.51665014\n",
      "    0.7162397  -1.5730875   1.6256926   1.9061357   0.9702001\n",
      "    0.8004032   0.05434242  0.01940913  0.02620612  0.09963915]]]\n",
      "[[[-3.5252950e-01 -6.2133265e-01 -2.9643309e-01  3.3991697e-01\n",
      "    7.1397007e-01 -2.8844132e+00 -3.2838550e+00 -2.6919932e+00\n",
      "    1.9851236e+00 -3.4980578e+00  5.7956249e-01  2.5702325e-01\n",
      "    6.7364150e-03  3.3841657e-03  1.5329370e-01]]]\n"
     ]
    }
   ],
   "source": [
    "it = 102\n",
    "print(state.apply_fn(state.params, input_data[it:it+1,:,:]))\n",
    "print(target_data[it:it+1,:,:])"
   ]
  },
  {
   "cell_type": "code",
   "execution_count": null,
   "metadata": {},
   "outputs": [],
   "source": []
  }
 ],
 "metadata": {
  "kernelspec": {
   "display_name": "jax_test",
   "language": "python",
   "name": "python3"
  },
  "language_info": {
   "codemirror_mode": {
    "name": "ipython",
    "version": 3
   },
   "file_extension": ".py",
   "mimetype": "text/x-python",
   "name": "python",
   "nbconvert_exporter": "python",
   "pygments_lexer": "ipython3",
   "version": "3.11.9"
  }
 },
 "nbformat": 4,
 "nbformat_minor": 2
}
