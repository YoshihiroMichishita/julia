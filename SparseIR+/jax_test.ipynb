{
 "cells": [
  {
   "cell_type": "code",
   "execution_count": 1,
   "metadata": {},
   "outputs": [],
   "source": [
    "import jax \n",
    "import jax.numpy as jnp\n",
    "from jax import random\n",
    "from jax import grad, jit, vmap\n",
    "\n",
    "import pandas as pd\n",
    "import matplotlib.pyplot as plt"
   ]
  },
  {
   "cell_type": "code",
   "execution_count": 3,
   "metadata": {},
   "outputs": [],
   "source": [
    "import model_jax as model"
   ]
  },
  {
   "cell_type": "code",
   "execution_count": 4,
   "metadata": {},
   "outputs": [],
   "source": [
    "import optax"
   ]
  },
  {
   "cell_type": "code",
   "execution_count": 5,
   "metadata": {},
   "outputs": [],
   "source": [
    "from flax import linen as nn\n",
    "from flax.training import train_state"
   ]
  },
  {
   "cell_type": "code",
   "execution_count": 6,
   "metadata": {},
   "outputs": [
    {
     "name": "stderr",
     "output_type": "stream",
     "text": [
      "2024-07-28 20:31:56.490504: W external/xla/xla/service/gpu/nvptx_compiler.cc:765] The NVIDIA driver's CUDA version is 12.3 which is older than the ptxas CUDA version (12.5.82). Because the driver is older than the ptxas version, XLA is disabling parallel compilation, which may slow down compilation. You should update your NVIDIA driver or use the NVIDIA-provided CUDA forward compatibility packages.\n"
     ]
    }
   ],
   "source": [
    "key0, key1 = random.split(key=random.PRNGKey(1), num=2)"
   ]
  },
  {
   "cell_type": "code",
   "execution_count": 7,
   "metadata": {},
   "outputs": [],
   "source": [
    "train_test =  jnp.asarray(random.normal(key0, (100, 1, 40)))"
   ]
  },
  {
   "cell_type": "code",
   "execution_count": 8,
   "metadata": {},
   "outputs": [
    {
     "name": "stdout",
     "output_type": "stream",
     "text": [
      "(100, 1, 40)\n"
     ]
    }
   ],
   "source": [
    "print((train_test+1e-10).shape)"
   ]
  },
  {
   "cell_type": "code",
   "execution_count": 106,
   "metadata": {},
   "outputs": [],
   "source": [
    "@jax.jit\n",
    "def dropout(loss, sigma, w, thr):\n",
    "    val = w/jnp.exp(sigma)\n",
    "    mask = jnp.where(val>thr, 1., 0.)\n",
    "    return jnp.mean(loss*mask)"
   ]
  },
  {
   "cell_type": "code",
   "execution_count": 102,
   "metadata": {},
   "outputs": [],
   "source": [
    "@jax.jit\n",
    "def loss_fn_ws(params, state, inputs, target, mu_filter, sigma_filter, w_filter, ratio):\n",
    "    predicts = state.apply_fn(params, inputs)\n",
    "    mu_predict = jnp.matmul(predicts, mu_filter)\n",
    "    sigma_predict = jnp.matmul(predicts, sigma_filter)\n",
    "    w_predict = jnp.matmul(predicts, w_filter)\n",
    "\n",
    "    mu_target = jnp.matmul(target, mu_filter)\n",
    "    sigma_target = jnp.matmul(target, sigma_filter)\n",
    "    w_target = jnp.matmul(target, w_filter)\n",
    "\n",
    "    mu_diff = mu_predict - mu_target\n",
    "    sigma_diff = (sigma_predict - sigma_target)\n",
    "\n",
    "\n",
    "    #loss = jnp.mean(w_target * (mu_diff**2 / sigma_predict + (jnp.exp(sigma_diff) - jnp.exp(-sigma_diff))**2)) + jnp.mean(w_predict*jnp.log(w_predict/(w_target+1e-10))) \n",
    "    #loss = jnp.mean(w_target * (mu_diff**2 +  sigma_diff**2 + ratio*jnp.log(w_target/(w_predict+1e-10)))) + ratio*jnp.mean(w_predict*jnp.log(w_predict/(w_target+1e-10)))\n",
    "    loss = w_target * (mu_diff**2 +  sigma_diff**2) + ratio*w_target*(w_predict/(w_target+1e-6) - w_target/(w_predict+1e-10))**2\n",
    "    #loss = optax.l2_loss(predicts, target).mean()\n",
    "    loss = dropout(loss, sigma_target, w_target, 0.01)\n",
    "    return loss\n",
    "\n",
    "@jax.jit\n",
    "def loss_fn_kl1(params, state, inputs, target, mu_filter, sigma_filter, w_filter, ratio):\n",
    "    predicts = state.apply_fn(params, inputs)\n",
    "    mu_predict = jnp.matmul(predicts, mu_filter)\n",
    "    sigma_predict = jnp.matmul(predicts, sigma_filter)\n",
    "    w_predict = jnp.matmul(predicts, w_filter)\n",
    "\n",
    "    mu_target = jnp.matmul(target, mu_filter)\n",
    "    sigma_target = jnp.matmul(target, sigma_filter)\n",
    "    w_target = jnp.matmul(target, w_filter)\n",
    "\n",
    "    mu_diff = mu_predict - mu_target\n",
    "    sigma_diff = (sigma_predict - sigma_target)\n",
    "\n",
    "\n",
    "    #loss = jnp.mean(w_target * ((mu_diff / jnp.exp(sigma_predict))**2 + (jnp.exp(sigma_diff/2) - jnp.exp(-sigma_diff/2))**2) + ratio*jnp.log(w_target/(w_predict+1e-10))) + ratio*jnp.mean(w_predict*jnp.log(w_predict/(w_target+1e-10)))\n",
    "    loss = jnp.mean(w_target * ((mu_diff / jnp.exp(sigma_target))**2 + jnp.exp(sigma_diff)**2 - 1.0 - sigma_diff)) + ratio*jnp.mean(w_predict*jnp.log(w_predict/(w_target+1e-6))) \n",
    "    #loss = jnp.mean(w_target * (mu_diff**2 +  sigma_diff**2 + ratio*jnp.log(w_target/(w_predict+1e-10)))) + ratio*jnp.mean(w_predict*jnp.log(w_predict/(w_target+1e-10))) \n",
    "    #loss = optax.l2_loss(predicts, target).mean()\n",
    "    return loss\n",
    "\n",
    "@jax.jit\n",
    "def loss_fn_kl3(params, state, inputs, target, mu_filter, sigma_filter, w_filter, ratio):\n",
    "    predicts = state.apply_fn(params, inputs)\n",
    "    mu_predict = jnp.matmul(predicts, mu_filter)\n",
    "    sigma_predict = jnp.matmul(predicts, sigma_filter)\n",
    "    w_predict = jnp.matmul(predicts, w_filter)\n",
    "\n",
    "    mu_target = jnp.matmul(target, mu_filter)\n",
    "    sigma_target = jnp.matmul(target, sigma_filter)\n",
    "    w_target = jnp.matmul(target, w_filter)\n",
    "\n",
    "    mu_diff = mu_predict - mu_target\n",
    "    sigma_diff = (sigma_predict - sigma_target)\n",
    "\n",
    "\n",
    "    #loss = jnp.mean(w_target * ((mu_diff / jnp.exp(sigma_predict))**2 + (jnp.exp(sigma_diff/2) - jnp.exp(-sigma_diff/2))**2) + ratio*jnp.log(w_target/(w_predict+1e-10))) + ratio*jnp.mean(w_predict*jnp.log(w_predict/(w_target+1e-10)))\n",
    "    loss = w_target * ((mu_diff / jnp.exp(sigma_target))**2 + jnp.exp(sigma_diff) + jnp.exp(-sigma_diff) - 2.0) + ratio*w_predict*jnp.log(w_predict/(w_target+1e-10))\n",
    "    #loss = jnp.mean(w_target * (mu_diff**2 +  sigma_diff**2 + ratio*jnp.log(w_target/(w_predict+1e-10)))) + ratio*jnp.mean(w_predict*jnp.log(w_predict/(w_target+1e-10))) \n",
    "    #loss = optax.l2_loss(predicts, target).mean()\n",
    "    loss = dropout(loss, sigma_target, w_target, 0.01)\n",
    "    return loss\n",
    "\n",
    "\n",
    "@jax.jit\n",
    "def loss_fn_kl2(params, state, inputs, target, mu_filter, sigma_filter, w_filter, ratio):\n",
    "    predicts = state.apply_fn(params, inputs)\n",
    "    mu_predict = jnp.matmul(predicts, mu_filter)\n",
    "    sigma_predict = jnp.matmul(predicts, sigma_filter)\n",
    "    w_predict = jnp.matmul(predicts, w_filter)\n",
    "\n",
    "    mu_target = jnp.matmul(target, mu_filter)\n",
    "    sigma_target = jnp.matmul(target, sigma_filter)\n",
    "    w_target = jnp.matmul(target, w_filter)\n",
    "\n",
    "    mu_diff = mu_predict - mu_target\n",
    "    sigma_diff = (sigma_predict - sigma_target)\n",
    "\n",
    "\n",
    "    #loss = jnp.mean(w_target * ((mu_diff / jnp.exp(sigma_predict))**2 + (jnp.exp(sigma_diff/2) - jnp.exp(-sigma_diff/2))**2) + ratio*jnp.log(w_target/(w_predict+1e-10))) + ratio*jnp.mean(w_predict*jnp.log(w_predict/(w_target+1e-10)))\n",
    "    loss = jnp.mean(w_target * ((mu_diff / jnp.exp(sigma_predict))**2 + jnp.exp(-sigma_diff)**2 - 1.0 + sigma_diff)) + ratio*jnp.mean(w_predict*jnp.log(w_predict/(w_target+1e-6))) \n",
    "    #loss = jnp.mean(w_target * (mu_diff**2 +  sigma_diff**2 + ratio*jnp.log(w_target/(w_predict+1e-10)))) + ratio*jnp.mean(w_predict*jnp.log(w_predict/(w_target+1e-10))) \n",
    "    #loss = optax.l2_loss(predicts, target).mean()\n",
    "    return loss\n",
    "\n",
    "@jax.jit\n",
    "def train_step_ws(state, inputs, target, mu_filter, sigma_filter, w_filter, ratio):\n",
    "    loss, grad = jax.value_and_grad(loss_fn_ws)(state.params, state, inputs, target, mu_filter, sigma_filter, w_filter, ratio)\n",
    "    #updates, new_state = state.tx.update(grad, state)\n",
    "    new_state = state.apply_gradients(grads=grad)\n",
    "    return new_state, loss\n",
    "\n",
    "@jax.jit\n",
    "def train_step_kl1(state, inputs, target, mu_filter, sigma_filter, w_filter, ratio):\n",
    "    loss, grad = jax.value_and_grad(loss_fn_kl1)(state.params, state, inputs, target, mu_filter, sigma_filter, w_filter, ratio)\n",
    "    #updates, new_state = state.tx.update(grad, state)\n",
    "    new_state = state.apply_gradients(grads=grad)\n",
    "    return new_state, loss\n",
    "\n",
    "@jax.jit\n",
    "def train_step_kl2(state, inputs, target, mu_filter, sigma_filter, w_filter, ratio):\n",
    "    loss, grad = jax.value_and_grad(loss_fn_kl2)(state.params, state, inputs, target, mu_filter, sigma_filter, w_filter, ratio)\n",
    "    #updates, new_state = state.tx.update(grad, state)\n",
    "    new_state = state.apply_gradients(grads=grad)\n",
    "    return new_state, loss\n",
    "\n",
    "@jax.jit\n",
    "def train_step_kl3(state, inputs, target, mu_filter, sigma_filter, w_filter, ratio):\n",
    "    loss, grad = jax.value_and_grad(loss_fn_kl3)(state.params, state, inputs, target, mu_filter, sigma_filter, w_filter, ratio)\n",
    "    #updates, new_state = state.tx.update(grad, state)\n",
    "    new_state = state.apply_gradients(grads=grad)\n",
    "    return new_state, loss\n",
    "\n",
    "\n",
    "#@jax.jit \n",
    "def sample_batch(input, target, sample_size, rng):\n",
    "    num_samples = input.shape[0]\n",
    "    if sample_size > num_samples:\n",
    "        sample_size = num_samples\n",
    "    indices = jax.random.choice(rng, num_samples, shape=(sample_size,), replace=False)\n",
    "    sampled_batch = input[indices,:,:]\n",
    "    sampled_target = target[indices,:,:]\n",
    "    return sampled_batch, sampled_target"
   ]
  },
  {
   "cell_type": "code",
   "execution_count": 10,
   "metadata": {},
   "outputs": [
    {
     "name": "stdout",
     "output_type": "stream",
     "text": [
      "(32768, 40)\n",
      "(32768, 1, 40)\n"
     ]
    }
   ],
   "source": [
    "csv_file = 'datas/input_32768_e15_K5_phiorder_1.csv'\n",
    "df = pd.read_csv(csv_file)\n",
    "data = jnp.transpose(jnp.array(df.values),[1,0])\n",
    "print(data.shape)\n",
    "\n",
    "input_data = data.reshape(data.shape[0], 1, data.shape[1])\n",
    "print(input_data.shape)"
   ]
  },
  {
   "cell_type": "code",
   "execution_count": 11,
   "metadata": {},
   "outputs": [
    {
     "name": "stdout",
     "output_type": "stream",
     "text": [
      "(32768, 40)\n",
      "(32768, 1, 40)\n"
     ]
    }
   ],
   "source": [
    "csv_file = 'datas/input_32768_e15_K5_phiorder_2.csv'\n",
    "df = pd.read_csv(csv_file)\n",
    "data = jnp.transpose(jnp.array(df.values),[1,0])\n",
    "print(data.shape)\n",
    "\n",
    "input_data2 = data.reshape(data.shape[0], 1, data.shape[1])\n",
    "print(input_data2.shape)"
   ]
  },
  {
   "cell_type": "code",
   "execution_count": 12,
   "metadata": {},
   "outputs": [
    {
     "name": "stdout",
     "output_type": "stream",
     "text": [
      "(32768, 15)\n",
      "(32768, 1, 15)\n"
     ]
    }
   ],
   "source": [
    "csv_file = 'datas/target_32768_e15_K5_phiorder_1.csv'\n",
    "df = pd.read_csv(csv_file)\n",
    "data = jnp.transpose(jnp.array(df.values),[1,0])\n",
    "print(data.shape)\n",
    "\n",
    "target_data = data.reshape(data.shape[0], 1, data.shape[1])\n",
    "print(target_data.shape)"
   ]
  },
  {
   "cell_type": "code",
   "execution_count": 13,
   "metadata": {},
   "outputs": [
    {
     "name": "stdout",
     "output_type": "stream",
     "text": [
      "(32768, 15)\n",
      "(32768, 1, 15)\n"
     ]
    }
   ],
   "source": [
    "csv_file = 'datas/target_32768_e15_K5_phiorder_2.csv'\n",
    "df = pd.read_csv(csv_file)\n",
    "data = jnp.transpose(jnp.array(df.values),[1,0])\n",
    "print(data.shape)\n",
    "\n",
    "target_data2 = data.reshape(data.shape[0], 1, data.shape[1])\n",
    "print(target_data2.shape)"
   ]
  },
  {
   "cell_type": "code",
   "execution_count": 14,
   "metadata": {},
   "outputs": [],
   "source": [
    "n_gauss = 5\n",
    "num_classes = 3*n_gauss"
   ]
  },
  {
   "cell_type": "code",
   "execution_count": 107,
   "metadata": {},
   "outputs": [],
   "source": [
    "heads = 5\n",
    "d_model = 40\n",
    "n_layer = 16\n",
    "var = model.TransformerEncoder(n_gauss, heads, d_model, n_layer).init(key1, train_test)\n",
    "#state = train_state.TrainState.create(apply_fn=model.TransformerEncoder(n_gauss, heads, d_model, n_layer).apply, params=var, tx=optax.chain(optax.scale_by_adam(), optax.scale_by_learning_rate(optax.piecewise_constant_schedule(init_value=1e-3, boundaries_and_scales={1000: 0.3}))))\n",
    "state = train_state.TrainState.create(apply_fn=model.TransformerEncoder(n_gauss, heads, d_model, n_layer).apply, params=var, tx=optax.chain(optax.scale_by_adam(), optax.scale_by_learning_rate(optax.exponential_decay(1e-4, 3000, 0.5, end_value=1e-6))))"
   ]
  },
  {
   "cell_type": "code",
   "execution_count": 16,
   "metadata": {},
   "outputs": [
    {
     "name": "stdout",
     "output_type": "stream",
     "text": [
      "[[0. 0. 0. 0. 0.]\n",
      " [0. 0. 0. 0. 0.]\n",
      " [0. 0. 0. 0. 0.]\n",
      " [0. 0. 0. 0. 0.]\n",
      " [0. 0. 0. 0. 0.]\n",
      " [0. 0. 0. 0. 0.]\n",
      " [0. 0. 0. 0. 0.]\n",
      " [0. 0. 0. 0. 0.]\n",
      " [0. 0. 0. 0. 0.]\n",
      " [0. 0. 0. 0. 0.]\n",
      " [1. 0. 0. 0. 0.]\n",
      " [0. 1. 0. 0. 0.]\n",
      " [0. 0. 1. 0. 0.]\n",
      " [0. 0. 0. 1. 0.]\n",
      " [0. 0. 0. 0. 1.]]\n"
     ]
    }
   ],
   "source": [
    "indices_m = jnp.array(range(0, n_gauss))\n",
    "mu_filter = (jnp.eye(num_classes)[indices_m]).transpose()\n",
    "\n",
    "indice_s = jnp.array(range(n_gauss, 2*n_gauss))\n",
    "sigma_filter = (jnp.eye(num_classes)[indice_s]).transpose()\n",
    "\n",
    "indice_w = jnp.array(range(2*n_gauss, 3*n_gauss))\n",
    "w_filter = (jnp.eye(num_classes)[indice_w]).transpose()\n",
    "print(w_filter)"
   ]
  },
  {
   "cell_type": "code",
   "execution_count": 17,
   "metadata": {},
   "outputs": [],
   "source": [
    "inputs = [input_data, input_data2]\n",
    "targets = [target_data, target_data2]"
   ]
  },
  {
   "cell_type": "code",
   "execution_count": 103,
   "metadata": {},
   "outputs": [
    {
     "name": "stdout",
     "output_type": "stream",
     "text": [
      "step: 3000, loss: 0.0022953622974455357\n",
      "step: 6000, loss: 0.2872339189052582\n",
      "step: 9000, loss: 0.0016241420526057482\n",
      "step: 12000, loss: 0.2009427845478058\n",
      "step: 15000, loss: 0.001481911400333047\n",
      "step: 18000, loss: 0.1792355179786682\n",
      "step: 21000, loss: 0.0014313412830233574\n",
      "step: 24000, loss: 0.17173656821250916\n",
      "step: 27000, loss: 0.001397873624227941\n",
      "step: 30000, loss: 0.16896305978298187\n",
      "step: 33000, loss: 0.0013690001796931028\n"
     ]
    },
    {
     "data": {
      "text/plain": [
       "[<matplotlib.lines.Line2D at 0x73bfe8ce4ad0>]"
      ]
     },
     "execution_count": 103,
     "metadata": {},
     "output_type": "execute_result"
    },
    {
     "data": {
      "image/png": "[encoded data removed]",
      "text/plain": [
       "<Figure size 640x480 with 1 Axes>"
      ]
     },
     "metadata": {},
     "output_type": "display_data"
    }
   ],
   "source": [
    "loss_hist = []\n",
    "for step in range(1, 24000):\n",
    "    sample_input, sample_target = sample_batch(inputs[step%2], targets[step%2], 4096, key0)\n",
    "    #sample_target = sample_batch(, 4096, key0)\n",
    "    if (step % 6000  < 3000):\n",
    "        state, loss = train_step_ws(state, sample_input, sample_target, mu_filter, sigma_filter, w_filter, 5.0)\n",
    "    #elif (step % 2 == 0):\n",
    "    #    state, loss = train_step_kl1(state, sample_input, sample_target, mu_filter, sigma_filter, w_filter, 2.0)\n",
    "    else:\n",
    "        state, loss = train_step_kl3(state, sample_input, sample_target, mu_filter, sigma_filter, w_filter, 2.0)\n",
    "\n",
    "    loss_hist.append(loss)\n",
    "    if (step) % 3000 == 0:\n",
    "        print(f'step: {step}, loss: {loss}')\n",
    "\n",
    "plt.semilogy(loss_hist, label='loss')"
   ]
  },
  {
   "cell_type": "code",
   "execution_count": 29,
   "metadata": {},
   "outputs": [],
   "source": [
    "def gaussian(x, mean, covariance):\n",
    "    return (1.0 / jnp.sqrt(2 * jnp.pi * (covariance**2))) * jnp.exp(-0.5 * ((x - mean) ** 2) / (covariance**2))\n",
    "\n",
    "# Define the GMM function\n",
    "def gmm(x, weights, means, covariances):\n",
    "    return sum([w * gaussian(x, m, c) for w, m, c in zip(weights, means, covariances)])\n",
    "\n",
    "# Generate x values in the range [-1, 1]\n",
    "x = jnp.linspace(-1, 1, 100)\n",
    "\n",
    "def model_check(params, state, input, output, mu_filter, sigma_filter, w_filter, x):\n",
    "    predicts = state.apply_fn(params, input)\n",
    "    mu_predict = jnp.matmul(predicts, mu_filter).reshape(-1)\n",
    "    print(\"mu_predict:\", mu_predict)\n",
    "    sigma_predict = jnp.exp(jnp.matmul(predicts, sigma_filter)).reshape(-1)\n",
    "    print(\"sigma_predict:\", sigma_predict)\n",
    "    w_predict = jnp.matmul(predicts, w_filter).reshape(-1)\n",
    "    print(\"wpredict:\", w_predict)\n",
    "\n",
    "    gmm_predict = [gmm(x0, w_predict, mu_predict, sigma_predict) for x0 in x]\n",
    "\n",
    "    mu = jnp.matmul(output, mu_filter).reshape(-1)\n",
    "    print(\"mu_target:\", mu)\n",
    "    sigma = jnp.exp(jnp.matmul(output, sigma_filter)).reshape(-1)\n",
    "    print(\"sigma_target:\", sigma)\n",
    "    w = jnp.matmul(output, w_filter).reshape(-1)\n",
    "    print(\"w_target:\", w)\n",
    "    gmm_target = [gmm(x0, w, mu, sigma) for x0 in x]\n",
    "    #print(gmm_predict.shape)\n",
    "    plt.plot(x, gmm_predict, label='predict')\n",
    "    plt.plot(x, gmm_target, label='target')\n",
    "    plt.legend()\n",
    "    plt.show()\n",
    "    #return gmm_predict, gmm_target"
   ]
  },
  {
   "cell_type": "code",
   "execution_count": 105,
   "metadata": {},
   "outputs": [
    {
     "name": "stdout",
     "output_type": "stream",
     "text": [
      "mu_predict: [-0.08548434 -0.11285811 -0.00394119 -0.0167364  -0.8678888 ]\n",
      "sigma_predict: [ 1.9997693  1.799426   2.5693948  2.6241338 18.24015  ]\n",
      "wpredict: [0.00243618 0.00331714 0.00704646 0.00907687 0.97812337]\n",
      "mu_target: [ 0.2759522  0.4830886 -0.8539738 -0.4716806 -0.2592071]\n",
      "sigma_target: [0.07939528 0.02737411 0.04574709 0.0626693  0.12590347]\n",
      "w_target: [0.02064375 0.08300576 0.16674913 0.20448491 0.52511644]\n"
     ]
    },
    {
     "data": {
      "image/png": "[encoded data removed]",
      "text/plain": [
       "<Figure size 640x480 with 1 Axes>"
      ]
     },
     "metadata": {},
     "output_type": "display_data"
    }
   ],
   "source": [
    "it = 34\n",
    "#test_predict, test_target = model_check(state.params, state, input_data[it:it+1,:,:], target_data[it:it+1,1,:], mu_filter, sigma_filter, w_filter, x)\n",
    "model_check(state.params, state, input_data[it:it+1,:,:], target_data[it:it+1,:,:], mu_filter, sigma_filter, w_filter, x)\n",
    "#print(state.apply_fn(state.params, input_data[it:it+1,:,:]))\n",
    "#print(target_data[it:it+1,:,:])\n",
    "#print(test_predict[1])"
   ]
  },
  {
   "cell_type": "code",
   "execution_count": 94,
   "metadata": {},
   "outputs": [],
   "source": [
    "class ScaleDot_test(nn.Module):\n",
    "    head_dim: int\n",
    "    \"\"\"\n",
    "    def scaled_dot_product_attention(self, q, k):\n",
    "        #scores = jnp.matmul(q, jnp.transpose(k, (0, 2, 1)))\n",
    "        scores = jnp.matmul(jnp.transpose(k, (0, 2, 1)), q)\n",
    "        #w = nn.softmax(scores / jnp.sqrt(self.head_dim)) # *5\n",
    "        w = nn.softmax(scores / jnp.sqrt(self.head_dim), axis=-2)\n",
    "        #return jnp.matmul(w, v) # *6\n",
    "        return w\n",
    "    \"\"\"\n",
    "\n",
    "    @nn.compact\n",
    "    def __call__(self, hidden_state):\n",
    "        q = nn.Dense(features=self.head_dim)(hidden_state) # *1\n",
    "        return q\n",
    "        #k = nn.Dense(features=self.head_dim)(hidden_state) # *2\n",
    "        #output = self.scaled_dot_product_attention(q, k)\n",
    "        #return output"
   ]
  },
  {
   "cell_type": "code",
   "execution_count": 95,
   "metadata": {},
   "outputs": [],
   "source": [
    "var = ScaleDot_test(8).init(key1, test)\n",
    "#state = train_state.TrainState.create(apply_fn=model.TransformerEncoder(n_gauss, heads, d_model, n_layer).apply, params=var, tx=optax.chain(optax.scale_by_adam(), optax.scale_by_learning_rate(optax.piecewise_constant_schedule(init_value=1e-3, boundaries_and_scales={1000: 0.3}))))\n",
    "state_test = train_state.TrainState.create(apply_fn=ScaleDot_test(8).apply, params=var, tx=optax.chain(optax.scale_by_adam(), optax.scale_by_learning_rate(optax.exponential_decay(1e-4, 3000, 0.5, end_value=1e-6))))"
   ]
  },
  {
   "cell_type": "code",
   "execution_count": 96,
   "metadata": {},
   "outputs": [
    {
     "name": "stdout",
     "output_type": "stream",
     "text": [
      "(1, 1, 8)\n",
      "[[[ 0.7276817  -0.4534678  -0.18004368  0.93782777 -1.2169051\n",
      "    0.5180784  -0.9426379   0.92852926]]]\n"
     ]
    }
   ],
   "source": [
    "print(state_test.apply_fn(state_test.params, test).shape)\n",
    "print(state_test.apply_fn(state_test.params, test))"
   ]
  },
  {
   "cell_type": "code",
   "execution_count": 87,
   "metadata": {},
   "outputs": [
    {
     "name": "stdout",
     "output_type": "stream",
     "text": [
      "[[[ 0.9087967  -0.040249    0.17204419 -1.6576358   0.353745  ]]]\n"
     ]
    }
   ],
   "source": [
    "test =  jnp.asarray(random.normal(key0, (1, 1, 5)))\n",
    "print(test)"
   ]
  },
  {
   "cell_type": "code",
   "execution_count": null,
   "metadata": {},
   "outputs": [],
   "source": []
  }
 ],
 "metadata": {
  "kernelspec": {
   "display_name": "jax_test",
   "language": "python",
   "name": "python3"
  },
  "language_info": {
   "codemirror_mode": {
    "name": "ipython",
    "version": 3
   },
   "file_extension": ".py",
   "mimetype": "text/x-python",
   "name": "python",
   "nbconvert_exporter": "python",
   "pygments_lexer": "ipython3",
   "version": "3.11.9"
  }
 },
 "nbformat": 4,
 "nbformat_minor": 2
}
