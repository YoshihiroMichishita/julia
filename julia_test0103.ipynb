{
 "cells": [
  {
   "cell_type": "code",
   "execution_count": 4,
   "metadata": {},
   "outputs": [],
   "source": [
    "struct Parm\n",
    "    t::Float64\n",
    "    V::Float64\n",
    "    mu::Float64\n",
    "    T::Float64\n",
    "    W_MAX::Float64\n",
    "    K_SIZE::Int\n",
    "    W_SIZE::Int\n",
    "end"
   ]
  },
  {
   "cell_type": "code",
   "execution_count": 5,
   "metadata": {},
   "outputs": [],
   "source": [
    "mutable struct Hamiltonian\n",
    "    Hk::Array{ComplexF64,2}\n",
    "    Vx::Array{ComplexF64,2}\n",
    "    Vy::Array{ComplexF64,2}\n",
    "    Vxx::Array{ComplexF64,2}\n",
    "    Vyx::Array{ComplexF64,2}\n",
    "end"
   ]
  },
  {
   "cell_type": "code",
   "execution_count": 6,
   "metadata": {},
   "outputs": [
    {
     "data": {
      "text/plain": [
       "HandV (generic function with 1 method)"
      ]
     },
     "execution_count": 6,
     "metadata": {},
     "output_type": "execute_result"
    }
   ],
   "source": [
    "function HandV(k::Array{Float64},p::Parm, Ham::Hamiltonian)\n",
    "    Ham.Hk = [p.t*(cos(k[1])+cos(k[2])) p.V\n",
    "    p.V -p.t*(cos(k[1])+cos(k[2]))]\n",
    "\n",
    "    Ham.Vx = [-p.t*(sin(k[1])) 0.0\n",
    "    0.0 p.t*(sin(k[1]))]\n",
    "\n",
    "    Ham.Vy = [-p.t*(sin(k[2])) 0.0\n",
    "    0.0 p.t*(sin(k[2]))]\n",
    "\n",
    "    Ham.Vxx = [-p.t*(cos(k[1])) 0.0\n",
    "    0.0 p.t*(cos(k[1]))]\n",
    "\n",
    "    Ham.Vyx = [0.0 0.0\n",
    "    0.0 0.0]\n",
    "end"
   ]
  },
  {
   "cell_type": "code",
   "execution_count": 7,
   "metadata": {},
   "outputs": [
    {
     "data": {
      "text/plain": [
       "Parm(1.0, 0.5, 0.0, 0.01, 0.2, 5, 10)"
      ]
     },
     "execution_count": 7,
     "metadata": {},
     "output_type": "execute_result"
    }
   ],
   "source": [
    "p = Parm(1.0,0.5,0.0,0.01,0.2,5,10)"
   ]
  },
  {
   "cell_type": "code",
   "execution_count": 8,
   "metadata": {},
   "outputs": [
    {
     "name": "stdout",
     "output_type": "stream",
     "text": [
      "0.01\n"
     ]
    }
   ],
   "source": [
    "println(p.T)"
   ]
  },
  {
   "cell_type": "code",
   "execution_count": 9,
   "metadata": {},
   "outputs": [
    {
     "data": {
      "text/plain": [
       "Hamiltonian(Complex{Float64}[0.0 + 0.0im 0.0 + 0.0im; 0.0 + 0.0im 0.0 + 0.0im], Complex{Float64}[0.0 + 0.0im 0.0 + 0.0im; 0.0 + 0.0im 0.0 + 0.0im], Complex{Float64}[0.0 + 0.0im 0.0 + 0.0im; 0.0 + 0.0im 0.0 + 0.0im], Complex{Float64}[0.0 + 0.0im 0.0 + 0.0im; 0.0 + 0.0im 0.0 + 0.0im], Complex{Float64}[0.0 + 0.0im 0.0 + 0.0im; 0.0 + 0.0im 0.0 + 0.0im])"
      ]
     },
     "execution_count": 9,
     "metadata": {},
     "output_type": "execute_result"
    }
   ],
   "source": [
    "HV = Hamiltonian(zeros(ComplexF64,2,2),zeros(ComplexF64,2,2),zeros(ComplexF64,2,2),zeros(ComplexF64,2,2),zeros(ComplexF64,2,2))"
   ]
  },
  {
   "cell_type": "code",
   "execution_count": 10,
   "metadata": {},
   "outputs": [
    {
     "name": "stdout",
     "output_type": "stream",
     "text": [
      "Complex{Float64}[0.0 + 0.0im 0.0 + 0.0im; 0.0 + 0.0im 0.0 + 0.0im]\n"
     ]
    }
   ],
   "source": [
    "println(HV.Hk)"
   ]
  },
  {
   "cell_type": "code",
   "execution_count": 49,
   "metadata": {},
   "outputs": [
    {
     "data": {
      "text/plain": [
       "6-element Array{Float64,1}:\n",
       " -3.141592653589793\n",
       " -1.8849555921538759\n",
       " -0.6283185307179586\n",
       "  0.6283185307179586\n",
       "  1.8849555921538759\n",
       "  3.141592653589793"
      ]
     },
     "execution_count": 49,
     "metadata": {},
     "output_type": "execute_result"
    }
   ],
   "source": [
    "kx = collect(Float64,-pi:2*pi/p.K_SIZE:pi)\n",
    "ky = collect(Float64,-pi:2*pi/p.K_SIZE:pi)"
   ]
  },
  {
   "cell_type": "code",
   "execution_count": 50,
   "metadata": {},
   "outputs": [],
   "source": [
    "mutable struct Green\n",
    "    GR::Array{ComplexF64,2}\n",
    "    GA::Array{ComplexF64,2}\n",
    "    dGR::Array{ComplexF64,2}\n",
    "    dGA::Array{ComplexF64,2}\n",
    "end"
   ]
  },
  {
   "cell_type": "code",
   "execution_count": 51,
   "metadata": {},
   "outputs": [
    {
     "data": {
      "text/plain": [
       "Gk (generic function with 1 method)"
      ]
     },
     "execution_count": 51,
     "metadata": {},
     "output_type": "execute_result"
    }
   ],
   "source": [
    "function Gk(w::Float64, p::Parm, Ham::Hamiltonian, G::Green)\n",
    "    GR0 = -HV.Hk + Matrix{Complex{Float64}}(w*I,2,2) + 0.005*Matrix{Complex{Float64}}(1.0im*I,2,2)\n",
    "    GA0 = GR0'\n",
    "    G.GR = inv(GR0)\n",
    "    G.GA = inv(GA0)\n",
    "    G.dGR = - G.GR * G.GR\n",
    "    G.dGA = - G.GA * G.GA\n",
    "end"
   ]
  },
  {
   "cell_type": "code",
   "execution_count": 1,
   "metadata": {},
   "outputs": [],
   "source": [
    "using LinearAlgebra"
   ]
  },
  {
   "cell_type": "code",
   "execution_count": 53,
   "metadata": {},
   "outputs": [
    {
     "name": "stderr",
     "output_type": "stream",
     "text": [
      "WARNING: replacing module transport.\n"
     ]
    },
    {
     "data": {
      "text/plain": [
       "Main.transport"
      ]
     },
     "execution_count": 53,
     "metadata": {},
     "output_type": "execute_result"
    }
   ],
   "source": [
    "module transport\n",
    "    using LinearAlgebra\n",
    "    export rho_xx\n",
    "\n",
    "    #=\n",
    "    function fermiD(w::Float64, T::Float64)\n",
    "        f = 1.0/(1.0 + exp(w/T))\n",
    "        return f\n",
    "    end\n",
    "    =#\n",
    "\n",
    "    function dfermiD(w::Float64, T::Float64)\n",
    "        f = -1.0/(1.0 + exp(w/T))/(1.0 + exp(-w/T))/T\n",
    "        return f\n",
    "    end\n",
    "\n",
    "    function rho_xx(w::Float64, p::Main.Parm, Ham::Main.Hamiltonian, G::Main.Green)\n",
    "        rx = real(2.0 * p.W_MAX / p.W_SIZE * tr(Ham.Vx * G.GR * Ham.Vx * G.GA) * dfermiD(w, p.T))\n",
    "        return rx\n",
    "    end\n",
    "end"
   ]
  },
  {
   "cell_type": "code",
   "execution_count": 54,
   "metadata": {},
   "outputs": [
    {
     "name": "stderr",
     "output_type": "stream",
     "text": [
      "WARNING: using transport.rho_xx in module Main conflicts with an existing identifier.\n"
     ]
    }
   ],
   "source": [
    "using .transport"
   ]
  },
  {
   "cell_type": "code",
   "execution_count": 58,
   "metadata": {},
   "outputs": [
    {
     "data": {
      "text/plain": [
       "6×6 Array{Float64,2}:\n",
       " 0.0  0.0  0.0  0.0  0.0  0.0\n",
       " 0.0  0.0  0.0  0.0  0.0  0.0\n",
       " 0.0  0.0  0.0  0.0  0.0  0.0\n",
       " 0.0  0.0  0.0  0.0  0.0  0.0\n",
       " 0.0  0.0  0.0  0.0  0.0  0.0\n",
       " 0.0  0.0  0.0  0.0  0.0  0.0"
      ]
     },
     "execution_count": 58,
     "metadata": {},
     "output_type": "execute_result"
    }
   ],
   "source": [
    "total = 0.0\n",
    "w_sum =  zeros(Float64, p.K_SIZE+1, p.K_SIZE+1)"
   ]
  },
  {
   "cell_type": "code",
   "execution_count": 59,
   "metadata": {},
   "outputs": [
    {
     "data": {
      "text/plain": [
       "1.2566370614359172"
      ]
     },
     "execution_count": 59,
     "metadata": {},
     "output_type": "execute_result"
    }
   ],
   "source": [
    "dk = 2.0*pi/p.K_SIZE"
   ]
  },
  {
   "cell_type": "code",
   "execution_count": 60,
   "metadata": {},
   "outputs": [],
   "source": [
    "for i = 1:p.K_SIZE+1\n",
    "    for j = 1:p.K_SIZE+1\n",
    "        kk = [kx[i],ky[j]]\n",
    "        HVk = Hamiltonian(zeros(ComplexF64,2,2),zeros(ComplexF64,2,2),zeros(ComplexF64,2,2),zeros(ComplexF64,2,2),zeros(ComplexF64,2,2))\n",
    "        HandV(kk,p,HVk)\n",
    "        for ww = 1:p.W_SIZE\n",
    "            w = 2.0 * (ww-p.W_SIZE/2) * p.W_MAX / p.W_SIZE\n",
    "            G = Green(zeros(ComplexF64,2,2),zeros(ComplexF64,2,2),zeros(ComplexF64,2,2),zeros(ComplexF64,2,2))\n",
    "            Gk(w,p,HVk,G)\n",
    "            w_sum[i,j] += 2.0 * p.W_MAX / p.W_SIZE * transport.rho_xx(w, p, HVk, G) /(2.0*pi)\n",
    "        end\n",
    "        total += dk * dk * w_sum[i,j]/(4.0 * pi^2)\n",
    "    end\n",
    "end"
   ]
  },
  {
   "cell_type": "code",
   "execution_count": 61,
   "metadata": {},
   "outputs": [],
   "source": [
    "using PyPlot: PyPlot, plt"
   ]
  },
  {
   "cell_type": "code",
   "execution_count": 62,
   "metadata": {},
   "outputs": [
    {
     "data": {
      "image/png": "[encoded data removed]",
      "text/plain": [
       "PyPlot.Figure(PyObject <Figure size 500x500 with 1 Axes>)"
      ]
     },
     "metadata": {},
     "output_type": "display_data"
    },
    {
     "name": "stderr",
     "output_type": "stream",
     "text": [
      "sys:1: MatplotlibDeprecationWarning: shading='flat' when X and Y have the same dimensions as C is deprecated since 3.3.  Either specify the corners of the quadrilaterals with X and Y, or pass shading='auto', 'nearest' or 'gouraud', or set rcParams['pcolor.shading'].  This will become an error two minor releases later.\n"
     ]
    },
    {
     "data": {
      "text/plain": [
       "PyObject <matplotlib.collections.QuadMesh object at 0x7fc212cc6250>"
      ]
     },
     "execution_count": 62,
     "metadata": {},
     "output_type": "execute_result"
    }
   ],
   "source": [
    "plt.figure(figsize=(5,5))\n",
    "plt.pcolormesh(kx,ky,w_sum, cmap=\"CMRmap\")"
   ]
  },
  {
   "cell_type": "code",
   "execution_count": null,
   "metadata": {},
   "outputs": [],
   "source": []
  }
 ],
 "metadata": {
  "kernelspec": {
   "display_name": "Julia 1.6.2",
   "language": "julia",
   "name": "julia-1.6"
  },
  "language_info": {
   "file_extension": ".jl",
   "mimetype": "application/julia",
   "name": "julia",
   "version": "1.6.2"
  },
  "orig_nbformat": 2
 },
 "nbformat": 4,
 "nbformat_minor": 2
}
