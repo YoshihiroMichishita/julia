{
 "cells": [
  {
   "cell_type": "code",
   "execution_count": 1,
   "metadata": {},
   "outputs": [],
   "source": [
    "using LinearAlgebra\n",
    "using Plots"
   ]
  },
  {
   "cell_type": "code",
   "execution_count": 2,
   "metadata": {},
   "outputs": [
    {
     "data": {
      "text/plain": [
       "0.0 + 1.0im"
      ]
     },
     "execution_count": 2,
     "metadata": {},
     "output_type": "execute_result"
    }
   ],
   "source": [
    "fi = ComplexF64(1.0im)"
   ]
  },
  {
   "cell_type": "code",
   "execution_count": 3,
   "metadata": {},
   "outputs": [
    {
     "data": {
      "text/plain": [
       "vec2hermite (generic function with 1 method)"
      ]
     },
     "execution_count": 3,
     "metadata": {},
     "output_type": "execute_result"
    }
   ],
   "source": [
    "function vec2hermite(v::Vector{Float64})\n",
    "    N = round(Int, sqrt(length(v)))\n",
    "    H = zeros(ComplexF64, N, N)\n",
    "    for i in 1:N\n",
    "        for j in i:N\n",
    "            l = N*(i-1) + 2j - i^2\n",
    "            if(i == j)\n",
    "                H[i,j] = v[l]\n",
    "            else\n",
    "                H[i,j] = v[l-1] + fi*v[l]\n",
    "            end \n",
    "        end\n",
    "    end\n",
    "    H = Hermitian(H)\n",
    "    return H\n",
    "end"
   ]
  },
  {
   "cell_type": "code",
   "execution_count": 4,
   "metadata": {},
   "outputs": [
    {
     "data": {
      "text/plain": [
       "vec2unitary (generic function with 1 method)"
      ]
     },
     "execution_count": 4,
     "metadata": {},
     "output_type": "execute_result"
    }
   ],
   "source": [
    "function vec2unitary(v::Vector{Float64}, τ::Float64)\n",
    "    H = vec2hermite(v)\n",
    "    U = exp(fi*(τ*H))\n",
    "    return U\n",
    "end"
   ]
  },
  {
   "cell_type": "code",
   "execution_count": 5,
   "metadata": {},
   "outputs": [
    {
     "data": {
      "text/plain": [
       "make_unitary (generic function with 1 method)"
      ]
     },
     "execution_count": 5,
     "metadata": {},
     "output_type": "execute_result"
    }
   ],
   "source": [
    "function make_unitary(N::Int, τ::Float64)\n",
    "    v = rand(Float64, N^2)\n",
    "    U = vec2unitary(v, τ)\n",
    "    return U\n",
    "end"
   ]
  },
  {
   "cell_type": "code",
   "execution_count": 6,
   "metadata": {},
   "outputs": [
    {
     "data": {
      "text/plain": [
       "norm! (generic function with 1 method)"
      ]
     },
     "execution_count": 6,
     "metadata": {},
     "output_type": "execute_result"
    }
   ],
   "source": [
    "function norm!(m::Hermitian{ComplexF64, Matrix{ComplexF64}})\n",
    "    T = real(tr(m))\n",
    "    m = m./T\n",
    "end"
   ]
  },
  {
   "cell_type": "code",
   "execution_count": 7,
   "metadata": {},
   "outputs": [
    {
     "data": {
      "text/plain": [
       "make_rand_dm (generic function with 1 method)"
      ]
     },
     "execution_count": 7,
     "metadata": {},
     "output_type": "execute_result"
    }
   ],
   "source": [
    "function make_rand_dm(dim::Int)\n",
    "    ρ_vec = rand(Float64, dim^2)\n",
    "    rt_ρ = vec2hermite(ρ_vec)\n",
    "    ρ = Hermitian(norm!(Hermitian(rt_ρ*rt_ρ')))\n",
    "    return ρ\n",
    "end"
   ]
  },
  {
   "cell_type": "code",
   "execution_count": 8,
   "metadata": {},
   "outputs": [
    {
     "name": "stdout",
     "output_type": "stream",
     "text": [
      "[0.9999999999999999, 1.0000000000000007, 1.0000000000000002, 1.0]\n"
     ]
    }
   ],
   "source": [
    "test_U = make_unitary(4, 1.0e0)\n",
    "II = test_U * test_U'\n",
    "println([real(II[i,i]) for i in 1:4])"
   ]
  },
  {
   "cell_type": "code",
   "execution_count": 9,
   "metadata": {},
   "outputs": [
    {
     "data": {
      "text/plain": [
       "ehot (generic function with 1 method)"
      ]
     },
     "execution_count": 9,
     "metadata": {},
     "output_type": "execute_result"
    }
   ],
   "source": [
    "function ehot(vs::Vector{ComplexF64}, i::Int, e_dim::Int)\n",
    "    s_dim = length(vs)\n",
    "    ve = zeros(ComplexF64, e_dim*s_dim)\n",
    "    ve[(s_dim*(i-1)+1):(s_dim*i)] = vs\n",
    "    #v2 = vcat(vs, ve)\n",
    "    return ve\n",
    "end"
   ]
  },
  {
   "cell_type": "code",
   "execution_count": 10,
   "metadata": {},
   "outputs": [
    {
     "data": {
      "text/plain": [
       "make_ev (generic function with 1 method)"
      ]
     },
     "execution_count": 10,
     "metadata": {},
     "output_type": "execute_result"
    }
   ],
   "source": [
    "function make_ev(s_ev::Matrix{ComplexF64}, e_dim::Int)\n",
    "    #e_vec::Vector{Matrix{Float64}} = []\n",
    "    s_vec::Vector{Matrix{ComplexF64}} = []\n",
    "    s_dim = size(s_ev)[1]\n",
    "    tot_dim = s_dim * e_dim\n",
    "    println(s_dim)\n",
    "    for i in 1:s_dim\n",
    "        sm = zeros(ComplexF64, tot_dim, e_dim)\n",
    "        for j in 1:e_dim\n",
    "            sm[:,j] = ehot(s_ev[:,i], j, e_dim)\n",
    "            #push!(e_vec, twohot(i, j, s_dim))\n",
    "            #push!(s_vec, ehot(s_ev[:,i], j, e_dim))\n",
    "        end\n",
    "        push!(s_vec, sm)\n",
    "    end\n",
    "    #=\n",
    "    for j in 1:e_dim\n",
    "        em = zeros(Float64, tot_dim, s_dim)\n",
    "        for i in 1:s_dim\n",
    "            em[:,i] = twohot(i, j, s_dim, e_dim)\n",
    "        end\n",
    "        push!(e_vec, em)\n",
    "    end=#\n",
    "    return s_vec\n",
    "end"
   ]
  },
  {
   "cell_type": "code",
   "execution_count": 11,
   "metadata": {},
   "outputs": [
    {
     "data": {
      "text/plain": [
       "make_Mk (generic function with 1 method)"
      ]
     },
     "execution_count": 11,
     "metadata": {},
     "output_type": "execute_result"
    }
   ],
   "source": [
    "function make_Mk(U::Matrix{ComplexF64}, s_vec::Vector{Matrix{ComplexF64}})\n",
    "    L = size(U)[1]\n",
    "    e_dim = length(s_vec)\n",
    "    s_dim = div(L,e_dim)\n",
    "    Ms::Vector{Matrix{ComplexF64}} = []\n",
    "    for j in 1:e_dim\n",
    "        for k in 1:s_dim\n",
    "            push!(Ms, (s_vec[k]'*U*s_vec[j]))\n",
    "        end\n",
    "    end\n",
    "    return Ms\n",
    "end"
   ]
  },
  {
   "cell_type": "code",
   "execution_count": 25,
   "metadata": {},
   "outputs": [
    {
     "data": {
      "text/plain": [
       "make_Mk (generic function with 1 method)"
      ]
     },
     "execution_count": 25,
     "metadata": {},
     "output_type": "execute_result"
    }
   ],
   "source": [
    "#=\n",
    "function make_Mk(U::Matrix{ComplexF64}, s_vec::Vector{Matrix{ComplexF64}}, e_vec::Vector{Matrix{Float64}})\n",
    "    L = size(U)[1]\n",
    "    e_dim = length(s_vec)\n",
    "    s_dim = div(L,e_dim)\n",
    "    Ms::Vector{Matrix{ComplexF64}} = []\n",
    "    for j in 1:e_dim\n",
    "        for k in 1:s_dim\n",
    "            push!(Ms, (e_vec[k]'*U*s_vec[j]))\n",
    "        end\n",
    "    end\n",
    "    return Ms\n",
    "end=#"
   ]
  },
  {
   "cell_type": "code",
   "execution_count": 12,
   "metadata": {},
   "outputs": [],
   "source": [
    "struct Dime\n",
    "    s_dim::Int\n",
    "    e_dim::Int\n",
    "    tot_dim::Int\n",
    "    M_size::Int\n",
    "end"
   ]
  },
  {
   "cell_type": "code",
   "execution_count": 13,
   "metadata": {},
   "outputs": [
    {
     "data": {
      "text/plain": [
       "Dime(2, 2, 4, 16)"
      ]
     },
     "execution_count": 13,
     "metadata": {},
     "output_type": "execute_result"
    }
   ],
   "source": [
    "dim = Dime(2, 2, 4, 16)"
   ]
  },
  {
   "cell_type": "code",
   "execution_count": 14,
   "metadata": {},
   "outputs": [
    {
     "data": {
      "text/plain": [
       "Λρ (generic function with 1 method)"
      ]
     },
     "execution_count": 14,
     "metadata": {},
     "output_type": "execute_result"
    }
   ],
   "source": [
    "function Λρ(ρ::Hermitian{ComplexF64, Matrix{ComplexF64}}, Ms::Vector{Matrix{ComplexF64}}, es::Vector{Float64}, ds::Dime)\n",
    "    #ρ_vec = zeros(Float64, tot_dim^2)\n",
    "    Lρ = zeros(ComplexF64, ds.s_dim, ds.s_dim)\n",
    "    for i in 1:tot_dim\n",
    "        Lρ += es[div(i-1,ds.e_dim)+1]*Ms[i]'*ρ*Ms[i]\n",
    "    end\n",
    "    return Hermitian(Lρ)\n",
    "end"
   ]
  },
  {
   "cell_type": "code",
   "execution_count": 15,
   "metadata": {},
   "outputs": [
    {
     "data": {
      "text/plain": [
       "2×2 Hermitian{ComplexF64, Matrix{ComplexF64}}:\n",
       " 0.353482+0.0im        0.407204+0.0737964im\n",
       " 0.407204-0.0737964im  0.646518+0.0im"
      ]
     },
     "execution_count": 15,
     "metadata": {},
     "output_type": "execute_result"
    }
   ],
   "source": [
    "testm = make_rand_dm(2)"
   ]
  },
  {
   "cell_type": "code",
   "execution_count": 16,
   "metadata": {},
   "outputs": [
    {
     "data": {
      "text/plain": [
       "KL_divergence (generic function with 1 method)"
      ]
     },
     "execution_count": 16,
     "metadata": {},
     "output_type": "execute_result"
    }
   ],
   "source": [
    "function KL_divergence(ρ::Hermitian{ComplexF64, Matrix{ComplexF64}}, σ::Hermitian{ComplexF64, Matrix{ComplexF64}})\n",
    "    return real(tr(ρ*(log(ρ)-log(σ))))\n",
    "end"
   ]
  },
  {
   "cell_type": "code",
   "execution_count": 17,
   "metadata": {},
   "outputs": [
    {
     "data": {
      "text/plain": [
       "init_dms (generic function with 1 method)"
      ]
     },
     "execution_count": 17,
     "metadata": {},
     "output_type": "execute_result"
    }
   ],
   "source": [
    "struct DMs\n",
    "    s_dm::Hermitian{ComplexF64, Matrix{ComplexF64}}\n",
    "    e_dm::Hermitian{ComplexF64, Matrix{ComplexF64}}\n",
    "    s_evs::Matrix{ComplexF64}\n",
    "    s_es::Vector{Float64}\n",
    "\n",
    "    U::Matrix{ComplexF64}\n",
    "    Ms::Vector{Matrix{ComplexF64}}\n",
    "end\n",
    "\n",
    "function init_dms(ds::Dime, τ::Float64)\n",
    "    s_dm = make_rand_dm(ds.s_dim)\n",
    "    e_dm = make_rand_dm(ds.e_dim)\n",
    "    s_es, s_evs = eigen(s_dm)\n",
    "    U = make_unitary(ds.tot_dim, τ)\n",
    "    s_evsa = make_ev(s_evs, ds.e_dim)\n",
    "    Ms = make_Mk(U, s_evsa)\n",
    "    return DMs(s_dm, e_dm, s_evs, s_es, U, Ms)\n",
    "end"
   ]
  },
  {
   "cell_type": "code",
   "execution_count": 18,
   "metadata": {},
   "outputs": [
    {
     "data": {
      "text/plain": [
       "Λρ (generic function with 2 methods)"
      ]
     },
     "execution_count": 18,
     "metadata": {},
     "output_type": "execute_result"
    }
   ],
   "source": [
    "function Λρ(ρ::Hermitian{ComplexF64, Matrix{ComplexF64}}, dms::DMs, ds::Dime)\n",
    "    #ρ_vec = zeros(Float64, tot_dim^2)\n",
    "    Lρ = zeros(ComplexF64, ds.s_dim, ds.s_dim)\n",
    "    for i in 1:ds.tot_dim\n",
    "        Lρ += dms.s_es[div(i-1,ds.e_dim)+1]*dms.Ms[i]*ρ*dms.Ms[i]'\n",
    "    end\n",
    "    return Hermitian(Lρ)\n",
    "end"
   ]
  },
  {
   "cell_type": "code",
   "execution_count": 19,
   "metadata": {},
   "outputs": [
    {
     "data": {
      "text/plain": [
       "Λρd (generic function with 1 method)"
      ]
     },
     "execution_count": 19,
     "metadata": {},
     "output_type": "execute_result"
    }
   ],
   "source": [
    "function Λρd(ρ::Hermitian{ComplexF64, Matrix{ComplexF64}}, dms::DMs, ds::Dime)\n",
    "    #ρ_vec = zeros(Float64, tot_dim^2)\n",
    "    Lρ = zeros(ComplexF64, ds.s_dim, ds.s_dim)\n",
    "    for i in 1:ds.tot_dim\n",
    "        Lρ += dms.s_es[div(i-1,ds.e_dim)+1]*dms.Ms[i]'*ρ*dms.Ms[i]\n",
    "    end\n",
    "    return Hermitian(Lρ)\n",
    "end"
   ]
  },
  {
   "cell_type": "code",
   "execution_count": 64,
   "metadata": {},
   "outputs": [
    {
     "data": {
      "text/plain": [
       "Λρ2 (generic function with 1 method)"
      ]
     },
     "execution_count": 64,
     "metadata": {},
     "output_type": "execute_result"
    }
   ],
   "source": [
    "function Λρ2(ρ::Hermitian{ComplexF64, Matrix{ComplexF64}}, dms::DMs, ds::Dime)\n",
    "    #ρ_vec = zeros(Float64, tot_dim^2)\n",
    "    Lρ = zeros(ComplexF64, ds.s_dim, ds.s_dim)\n",
    "    for i in 1:tot_dim\n",
    "        Lρ += dms.s_es[((i-1)%ds.s_dim)+1]*dms.Ms[i]*ρ*dms.Ms[i]'\n",
    "    end\n",
    "    return Hermitian(Lρ)\n",
    "end"
   ]
  },
  {
   "cell_type": "code",
   "execution_count": 20,
   "metadata": {},
   "outputs": [
    {
     "name": "stdout",
     "output_type": "stream",
     "text": [
      "2\n"
     ]
    },
    {
     "data": {
      "text/plain": [
       "DMs(ComplexF64[0.8075575000711211 + 0.0im 0.33299042775435295 + 0.1573913566811746im; 0.33299042775435295 - 0.1573913566811746im 0.1924424999288789 + 0.0im], ComplexF64[0.6049161521148058 + 0.0im 0.07356778639138147 + 0.36084318482188604im; 0.07356778639138147 - 0.36084318482188604im 0.3950838478851942 + 0.0im], ComplexF64[0.3830642493381821 + 0.18105926439383688im 0.81893268460482 + 0.3870769713404297im; -0.905803137362715 + 0.0im 0.4236988038027277 + 0.0im], [0.02016015173397144, 0.9798398482660287], ComplexF64[0.38574887136313946 - 0.19834037505238605im -0.2734152926163762 - 0.5048318534459927im -0.5250836545471671 - 0.1710747731807561im 0.05591500169368854 - 0.4173030932907965im; -0.13450871301356657 + 0.44798384104689565im 0.42536654188224016 + 0.03062562347662018im -0.6815997639452196 + 0.3255898507189614im -0.162215020356189 + 0.04942224790094818im; -0.1916135067409676 + 0.3440799270334196im 0.05870083341212699 - 0.1657817699235573im 0.35006043070164544 - 0.019321630203218754im -0.4838712141401387 - 0.6759562873105456im; 0.1876328550264322 + 0.6346368786260237im -0.5759174210417832 + 0.35482952921355615im -0.03465007296236594 + 0.017813773158448884im 0.3038036263564169 - 0.10310417975701885im], Matrix{ComplexF64}[[0.7160617807733061 - 0.013534580273007595im 0.11158060698998971 + 0.16261661602361865im; -0.4611280825791801 + 0.16907065950616718im 0.6058057090866346 + 0.06662524914982752im], [0.30841615395381244 + 0.25313286959481957im -0.17003263142846461 + 0.24508847495474542im; 0.14384061207839477 + 0.2568296116718957im 0.6066948475356096 + 0.36415385349896806im], [0.15853844983717855 - 0.43398544598145367im 0.4575594350430523 - 0.1591838609657187im; 0.22762964498336405 - 0.5720912208508147im -0.0806881615662893 - 0.041500878279694446im], [0.09505363247207334 - 0.15418017130275824im -0.7988792818933458 - 0.2842691413034265im; -0.3064028452035706 + 0.5298387967408084im 0.048058347971427634 - 0.18905105911006512im]])"
      ]
     },
     "execution_count": 20,
     "metadata": {},
     "output_type": "execute_result"
    }
   ],
   "source": [
    "test_dms = init_dms(dim, 1.0e0)"
   ]
  },
  {
   "cell_type": "code",
   "execution_count": 21,
   "metadata": {},
   "outputs": [
    {
     "data": {
      "text/plain": [
       "0.695155266378352"
      ]
     },
     "execution_count": 21,
     "metadata": {},
     "output_type": "execute_result"
    }
   ],
   "source": [
    "kl = KL_divergence(test_dms.s_dm, testm)"
   ]
  },
  {
   "cell_type": "code",
   "execution_count": 22,
   "metadata": {},
   "outputs": [
    {
     "name": "stdout",
     "output_type": "stream",
     "text": [
      "lp = Λρ(test_dms.s_dm, test_dms, dim) = ComplexF64[0.46743130830177515 + 0.0im 0.34857140059671166 + 0.18520049088243068im; 0.34857140059671166 - 0.18520049088243068im 0.5325686916982244 + 0.0im]\n",
      "tr(lp) = 0.9999999999999996\n"
     ]
    },
    {
     "data": {
      "text/plain": [
       "0.9999999999999996"
      ]
     },
     "execution_count": 22,
     "metadata": {},
     "output_type": "execute_result"
    }
   ],
   "source": [
    "@show lp = Λρ(test_dms.s_dm, test_dms, dim)\n",
    "@show tr(lp)"
   ]
  },
  {
   "cell_type": "code",
   "execution_count": 28,
   "metadata": {},
   "outputs": [
    {
     "name": "stdout",
     "output_type": "stream",
     "text": [
      "lpd = Λρd(test_dms.s_dm, test_dms, dim) = ComplexF64[0.4550148877477402 + 0.0im 0.3005315394049507 + 0.20356430613365323im; 0.3005315394049507 - 0.20356430613365323im 0.7208846292815809 + 0.0im]\n",
      "tr(lpd) = 1.1758995170293212\n"
     ]
    },
    {
     "data": {
      "text/plain": [
       "1.1758995170293212"
      ]
     },
     "execution_count": 28,
     "metadata": {},
     "output_type": "execute_result"
    }
   ],
   "source": [
    "@show lpd = Λρd(test_dms.s_dm, test_dms, dim)\n",
    "@show tr(lpd)"
   ]
  },
  {
   "cell_type": "code",
   "execution_count": 29,
   "metadata": {},
   "outputs": [
    {
     "data": {
      "text/plain": [
       "nroot_m (generic function with 1 method)"
      ]
     },
     "execution_count": 29,
     "metadata": {},
     "output_type": "execute_result"
    }
   ],
   "source": [
    "function nroot_m(ρ::Hermitian{ComplexF64, Matrix{ComplexF64}}, n::Int)\n",
    "    #ρ_vec = zeros(Float64, tot_dim^2)\n",
    "    e, v = eigen(ρ)\n",
    "    en = e.^(1.0e0/n)\n",
    "    ρ_n = v*Diagonal(en)*v'\n",
    "    return Hermitian(ρ_n)\n",
    "end"
   ]
  },
  {
   "cell_type": "code",
   "execution_count": 30,
   "metadata": {},
   "outputs": [
    {
     "data": {
      "text/plain": [
       "UρUd (generic function with 1 method)"
      ]
     },
     "execution_count": 30,
     "metadata": {},
     "output_type": "execute_result"
    }
   ],
   "source": [
    "function UρUd(U, ρ::Hermitian{ComplexF64, Matrix{ComplexF64}})\n",
    "    return Hermitian(U*ρ*U')\n",
    "end"
   ]
  },
  {
   "cell_type": "code",
   "execution_count": 35,
   "metadata": {},
   "outputs": [
    {
     "name": "stdout",
     "output_type": "stream",
     "text": [
      "test1 = UρUd(nroot_m(test_dms.s_dm, 2), Hermitian(Matrix{ComplexF64}(I, 2, 2))) = ComplexF64[0.8075575000711207 + 0.0im 0.3329904277543528 + 0.15739135668117452im; 0.3329904277543528 - 0.15739135668117452im 0.19244249992887885 + 0.0im]\n"
     ]
    },
    {
     "data": {
      "text/plain": [
       "2×2 Hermitian{ComplexF64, Matrix{ComplexF64}}:\n",
       " -4.44089e-16+0.0im          -1.66533e-16-8.32667e-17im\n",
       " -1.66533e-16+8.32667e-17im  -5.55112e-17+0.0im"
      ]
     },
     "execution_count": 35,
     "metadata": {},
     "output_type": "execute_result"
    }
   ],
   "source": [
    "@show test1 = UρUd(nroot_m(test_dms.s_dm, 2), Hermitian(Matrix{ComplexF64}(I, 2, 2)))\n",
    "test1 - test_dms.s_dm"
   ]
  },
  {
   "cell_type": "code",
   "execution_count": 41,
   "metadata": {},
   "outputs": [
    {
     "data": {
      "text/plain": [
       "PetzRecovery (generic function with 1 method)"
      ]
     },
     "execution_count": 41,
     "metadata": {},
     "output_type": "execute_result"
    }
   ],
   "source": [
    "function PetzRecovery(ρ::Hermitian{ComplexF64, Matrix{ComplexF64}}, dms::DMs, ds::Dime)\n",
    "    lρ = Λρ(ρ, dms, ds)\n",
    "    lρ_n = nroot_m(lρ, -2)\n",
    "    lρ1 = UρUd(lρ_n, lρ)\n",
    "    #println(lρ1)\n",
    "    lρ2 = Λρd(lρ1, dms, ds)\n",
    "    #println(lρ2)\n",
    "    ρ_n = nroot_m(ρ, 2)\n",
    "    lρ3 = UρUd(ρ_n, lρ2)\n",
    "    return lρ3\n",
    "end"
   ]
  },
  {
   "cell_type": "code",
   "execution_count": 40,
   "metadata": {},
   "outputs": [],
   "source": [
    "using BenchmarkTools"
   ]
  },
  {
   "cell_type": "code",
   "execution_count": 43,
   "metadata": {},
   "outputs": [
    {
     "data": {
      "text/plain": [
       "BenchmarkTools.Trial: 10000 samples with 1 evaluation.\n",
       " Range \u001b[90m(\u001b[39m\u001b[36m\u001b[1mmin\u001b[22m\u001b[39m … \u001b[35mmax\u001b[39m\u001b[90m):  \u001b[39m\u001b[36m\u001b[1m 8.042 μs\u001b[22m\u001b[39m … \u001b[35m  2.648 ms\u001b[39m  \u001b[90m┊\u001b[39m GC \u001b[90m(\u001b[39mmin … max\u001b[90m): \u001b[39m 0.00% … 98.96%\n",
       " Time  \u001b[90m(\u001b[39m\u001b[34m\u001b[1mmedian\u001b[22m\u001b[39m\u001b[90m):     \u001b[39m\u001b[34m\u001b[1m12.709 μs               \u001b[22m\u001b[39m\u001b[90m┊\u001b[39m GC \u001b[90m(\u001b[39mmedian\u001b[90m):    \u001b[39m 0.00%\n",
       " Time  \u001b[90m(\u001b[39m\u001b[32m\u001b[1mmean\u001b[22m\u001b[39m ± \u001b[32mσ\u001b[39m\u001b[90m):   \u001b[39m\u001b[32m\u001b[1m17.488 μs\u001b[22m\u001b[39m ± \u001b[32m105.916 μs\u001b[39m  \u001b[90m┊\u001b[39m GC \u001b[90m(\u001b[39mmean ± σ\u001b[90m):  \u001b[39m26.77% ±  4.41%\n",
       "\n",
       "  \u001b[39m \u001b[39m▄\u001b[39m \u001b[39m \u001b[39m \u001b[39m \u001b[39m \u001b[39m \u001b[39m \u001b[39m \u001b[39m \u001b[39m \u001b[39m \u001b[39m \u001b[39m \u001b[39m \u001b[39m█\u001b[39m█\u001b[34m▇\u001b[39m\u001b[39m▇\u001b[39m▄\u001b[39m \u001b[39m \u001b[39m \u001b[39m \u001b[39m \u001b[39m \u001b[39m \u001b[39m \u001b[39m \u001b[39m \u001b[39m \u001b[39m \u001b[39m \u001b[39m \u001b[39m \u001b[39m \u001b[32m \u001b[39m\u001b[39m \u001b[39m \u001b[39m \u001b[39m \u001b[39m \u001b[39m \u001b[39m \u001b[39m \u001b[39m \u001b[39m \u001b[39m \u001b[39m \u001b[39m \u001b[39m \u001b[39m \u001b[39m \u001b[39m \u001b[39m \u001b[39m \u001b[39m \u001b[39m \u001b[39m \u001b[39m \u001b[39m \n",
       "  \u001b[39m▄\u001b[39m█\u001b[39m▅\u001b[39m▂\u001b[39m▂\u001b[39m▂\u001b[39m▁\u001b[39m▁\u001b[39m▁\u001b[39m▁\u001b[39m▂\u001b[39m▂\u001b[39m▂\u001b[39m▄\u001b[39m▅\u001b[39m▆\u001b[39m█\u001b[39m█\u001b[34m█\u001b[39m\u001b[39m█\u001b[39m█\u001b[39m█\u001b[39m▅\u001b[39m▃\u001b[39m▂\u001b[39m▂\u001b[39m▂\u001b[39m▂\u001b[39m▄\u001b[39m▅\u001b[39m▅\u001b[39m▄\u001b[39m▂\u001b[39m▂\u001b[39m▂\u001b[39m▂\u001b[39m▁\u001b[32m▁\u001b[39m\u001b[39m▁\u001b[39m▁\u001b[39m▁\u001b[39m▁\u001b[39m▁\u001b[39m▁\u001b[39m▁\u001b[39m▁\u001b[39m▁\u001b[39m▁\u001b[39m▁\u001b[39m▁\u001b[39m▁\u001b[39m▁\u001b[39m▁\u001b[39m▁\u001b[39m▁\u001b[39m▁\u001b[39m▁\u001b[39m▁\u001b[39m▁\u001b[39m▁\u001b[39m \u001b[39m▂\n",
       "  8.04 μs\u001b[90m         Histogram: frequency by time\u001b[39m         23.2 μs \u001b[0m\u001b[1m<\u001b[22m\n",
       "\n",
       " Memory estimate\u001b[90m: \u001b[39m\u001b[33m89.36 KiB\u001b[39m, allocs estimate\u001b[90m: \u001b[39m\u001b[33m80\u001b[39m."
      ]
     },
     "execution_count": 43,
     "metadata": {},
     "output_type": "execute_result"
    }
   ],
   "source": [
    "@benchmark test = PetzRecovery(test_dms.s_dm, test_dms, dim)"
   ]
  },
  {
   "cell_type": "code",
   "execution_count": 33,
   "metadata": {},
   "outputs": [
    {
     "data": {
      "text/plain": [
       "2×2 Hermitian{ComplexF64, Matrix{ComplexF64}}:\n",
       " 0.807558+0.0im        0.33299+0.157391im\n",
       "  0.33299-0.157391im  0.192442+0.0im"
      ]
     },
     "execution_count": 33,
     "metadata": {},
     "output_type": "execute_result"
    }
   ],
   "source": [
    "test_dms.s_dm"
   ]
  },
  {
   "cell_type": "code",
   "execution_count": null,
   "metadata": {},
   "outputs": [],
   "source": []
  }
 ],
 "metadata": {
  "kernelspec": {
   "display_name": "Julia 1.10.0",
   "language": "julia",
   "name": "julia-1.10"
  },
  "language_info": {
   "file_extension": ".jl",
   "mimetype": "application/julia",
   "name": "julia",
   "version": "1.10.0"
  }
 },
 "nbformat": 4,
 "nbformat_minor": 2
}
