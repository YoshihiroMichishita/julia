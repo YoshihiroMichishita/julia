{
 "cells": [
  {
   "cell_type": "code",
   "execution_count": 1,
   "metadata": {},
   "outputs": [],
   "source": [
    "using LinearAlgebra\n",
    "using Plots"
   ]
  },
  {
   "cell_type": "code",
   "execution_count": 2,
   "metadata": {},
   "outputs": [
    {
     "data": {
      "text/plain": [
       "0.0f0 + 1.0f0im"
      ]
     },
     "execution_count": 2,
     "metadata": {},
     "output_type": "execute_result"
    }
   ],
   "source": [
    "fi = ComplexF32(1.0im)"
   ]
  },
  {
   "cell_type": "code",
   "execution_count": 3,
   "metadata": {},
   "outputs": [
    {
     "data": {
      "text/plain": [
       "vec2hermite (generic function with 1 method)"
      ]
     },
     "execution_count": 3,
     "metadata": {},
     "output_type": "execute_result"
    }
   ],
   "source": [
    "function vec2hermite(v::Vector{Float32})\n",
    "    N = round(Int, sqrt(length(v)))\n",
    "    H = zeros(ComplexF32, N, N)\n",
    "    for i in 1:N\n",
    "        for j in i:N\n",
    "            l = N*(i-1) + 2j - i^2\n",
    "            if(i == j)\n",
    "                H[i,j] = v[l]\n",
    "            else\n",
    "                H[i,j] = v[l-1] + fi*v[l]\n",
    "            end \n",
    "        end\n",
    "    end\n",
    "    H = Hermitian(H)\n",
    "    return H\n",
    "end"
   ]
  },
  {
   "cell_type": "code",
   "execution_count": 4,
   "metadata": {},
   "outputs": [
    {
     "data": {
      "text/plain": [
       "vec2unitary (generic function with 1 method)"
      ]
     },
     "execution_count": 4,
     "metadata": {},
     "output_type": "execute_result"
    }
   ],
   "source": [
    "function vec2unitary(v::Vector{Float32}, τ::Float32)\n",
    "    H = vec2hermite(v)\n",
    "    U = exp(fi*(τ*H))\n",
    "    return U\n",
    "end"
   ]
  },
  {
   "cell_type": "code",
   "execution_count": 5,
   "metadata": {},
   "outputs": [
    {
     "data": {
      "text/plain": [
       "make_unitary (generic function with 1 method)"
      ]
     },
     "execution_count": 5,
     "metadata": {},
     "output_type": "execute_result"
    }
   ],
   "source": [
    "function make_unitary(N::Int, τ::Float32)\n",
    "    v = rand(Float32, N^2)\n",
    "    U = vec2unitary(v, τ)\n",
    "    return U\n",
    "end"
   ]
  },
  {
   "cell_type": "code",
   "execution_count": 6,
   "metadata": {},
   "outputs": [
    {
     "data": {
      "text/plain": [
       "9-element Vector{Float32}:\n",
       " 0.356286\n",
       " 0.31322783\n",
       " 0.74740523\n",
       " 0.44164985\n",
       " 0.41414195\n",
       " 0.28483528\n",
       " 0.4944756\n",
       " 0.55824727\n",
       " 0.34678203"
      ]
     },
     "execution_count": 6,
     "metadata": {},
     "output_type": "execute_result"
    }
   ],
   "source": [
    "test = rand(Float32, 9)"
   ]
  },
  {
   "cell_type": "code",
   "execution_count": 7,
   "metadata": {},
   "outputs": [
    {
     "data": {
      "text/plain": [
       "3×3 Matrix{ComplexF32}:\n",
       "  0.994263+0.0353343im  -0.0779995+0.0269764im  -0.0426874+0.0394755im\n",
       " 0.0708991+0.0351993im    0.992112+0.0742939im  -0.0467876+0.041715im\n",
       " 0.0395351+0.0486157im   0.0357417+0.0458886im    0.993558+0.0743832im"
      ]
     },
     "execution_count": 7,
     "metadata": {},
     "output_type": "execute_result"
    }
   ],
   "source": [
    "H_test = vec2hermite(test)\n",
    "U_test = vec2unitary(test, 0.1f0)"
   ]
  },
  {
   "cell_type": "code",
   "execution_count": 8,
   "metadata": {},
   "outputs": [
    {
     "data": {
      "text/plain": [
       "3×3 Matrix{ComplexF32}:\n",
       "        1.0+0.0im         1.86265f-9+7.567f-9im         0.0+3.72529f-9im\n",
       " 1.86265f-9-7.567f-9im           1.0+0.0im       3.72529f-9+0.0im\n",
       "        0.0-3.72529f-9im  3.72529f-9+0.0im              1.0+0.0im"
      ]
     },
     "execution_count": 8,
     "metadata": {},
     "output_type": "execute_result"
    }
   ],
   "source": [
    "U_test*U_test'"
   ]
  },
  {
   "cell_type": "code",
   "execution_count": 49,
   "metadata": {},
   "outputs": [
    {
     "data": {
      "text/plain": [
       "64"
      ]
     },
     "execution_count": 49,
     "metadata": {},
     "output_type": "execute_result"
    }
   ],
   "source": [
    "s_dim = 2\n",
    "e_dim = 4\n",
    "tot_dim = s_dim * e_dim\n",
    "M_size = tot_dim^2"
   ]
  },
  {
   "cell_type": "code",
   "execution_count": 41,
   "metadata": {},
   "outputs": [
    {
     "data": {
      "text/plain": [
       "norm! (generic function with 1 method)"
      ]
     },
     "execution_count": 41,
     "metadata": {},
     "output_type": "execute_result"
    }
   ],
   "source": [
    "function norm!(m::Hermitian{ComplexF32, Matrix{ComplexF32}})\n",
    "    T = real(tr(m))\n",
    "    m = m./T\n",
    "end"
   ]
  },
  {
   "cell_type": "code",
   "execution_count": 42,
   "metadata": {},
   "outputs": [
    {
     "data": {
      "text/plain": [
       "make_rand_dm (generic function with 1 method)"
      ]
     },
     "execution_count": 42,
     "metadata": {},
     "output_type": "execute_result"
    }
   ],
   "source": [
    "function make_rand_dm(dim::Int)\n",
    "    ρ_vec = rand(Float32, dim^2)\n",
    "    rt_ρ = vec2hermite(ρ_vec)\n",
    "    ρ = Hermitian(norm!(Hermitian(rt_ρ*rt_ρ')))\n",
    "    return ρ\n",
    "end"
   ]
  },
  {
   "cell_type": "code",
   "execution_count": 12,
   "metadata": {},
   "outputs": [
    {
     "data": {
      "text/plain": [
       "make_rand_dm_ev (generic function with 1 method)"
      ]
     },
     "execution_count": 12,
     "metadata": {},
     "output_type": "execute_result"
    }
   ],
   "source": [
    "function make_rand_dm_ev(dim::Int)\n",
    "    ρ_vec = rand(Float32, dim^2)\n",
    "    rt_ρ = vec2hermite(ρ_vec)\n",
    "    e, ev = eigen(rt_ρ)\n",
    "    ρ = Hermitian(norm!(rt_ρ*rt_ρ'))\n",
    "    return ρ, ev\n",
    "end"
   ]
  },
  {
   "cell_type": "code",
   "execution_count": 43,
   "metadata": {},
   "outputs": [
    {
     "name": "stdout",
     "output_type": "stream",
     "text": [
      "ComplexF32[0.5512375f0 + 0.0f0im 0.49109903f0 + 0.06636295f0im; 0.49109903f0 - 0.06636295f0im 0.44876245f0 + 0.0f0im]\n"
     ]
    },
    {
     "data": {
      "text/plain": [
       "1.0f0"
      ]
     },
     "execution_count": 43,
     "metadata": {},
     "output_type": "execute_result"
    }
   ],
   "source": [
    "s_dm = make_rand_dm(s_dim)\n",
    "println(s_dm)\n",
    "tr(s_dm)"
   ]
  },
  {
   "cell_type": "code",
   "execution_count": 44,
   "metadata": {},
   "outputs": [
    {
     "data": {
      "text/plain": [
       "0.99999994f0 + 7.275958f-12im"
      ]
     },
     "execution_count": 44,
     "metadata": {},
     "output_type": "execute_result"
    }
   ],
   "source": [
    "es, evs = eigen(s_dm)\n",
    "testm = evs * Diagonal(es) * evs'\n",
    "tr(testm)"
   ]
  },
  {
   "cell_type": "code",
   "execution_count": 45,
   "metadata": {},
   "outputs": [
    {
     "data": {
      "text/plain": [
       "2-element Vector{ComplexF32}:\n",
       "  4.458707f-8 + 3.3469405f-9im\n",
       " 2.8172508f-8 - 1.953966f-9im"
      ]
     },
     "execution_count": 45,
     "metadata": {},
     "output_type": "execute_result"
    }
   ],
   "source": [
    "s_dm * evs[:,1] - es[1] * evs[:,1]"
   ]
  },
  {
   "cell_type": "code",
   "execution_count": 46,
   "metadata": {},
   "outputs": [
    {
     "data": {
      "text/plain": [
       "0.99999994f0 - 1.6865203f-9im"
      ]
     },
     "execution_count": 46,
     "metadata": {},
     "output_type": "execute_result"
    }
   ],
   "source": [
    "evs[:,1]'*evs[:,1]"
   ]
  },
  {
   "cell_type": "code",
   "execution_count": 47,
   "metadata": {},
   "outputs": [
    {
     "name": "stdout",
     "output_type": "stream",
     "text": [
      "ComplexF32[0.23526613f0 + 0.0f0im 0.19455637f0 + 0.013052387f0im 0.105433926f0 + 0.12664899f0im 0.05172421f0 + 0.17908855f0im; 0.19455637f0 - 0.013052387f0im 0.3046407f0 + 0.0f0im 0.1971553f0 + 0.10975214f0im 0.12364557f0 + 0.16229418f0im; 0.105433926f0 - 0.12664899f0im 0.1971553f0 - 0.10975214f0im 0.21607307f0 + 0.0f0im 0.20999402f0 + 0.057906352f0im; 0.05172421f0 - 0.17908855f0im 0.12364557f0 - 0.16229418f0im 0.20999402f0 - 0.057906352f0im 0.24402006f0 + 0.0f0im]\n"
     ]
    },
    {
     "data": {
      "text/plain": [
       "0.99999994f0"
      ]
     },
     "execution_count": 47,
     "metadata": {},
     "output_type": "execute_result"
    }
   ],
   "source": [
    "e_dm = make_rand_dm(e_dim)\n",
    "println(e_dm)\n",
    "tr(e_dm)"
   ]
  },
  {
   "cell_type": "code",
   "execution_count": 50,
   "metadata": {},
   "outputs": [
    {
     "data": {
      "text/plain": [
       "8×8 Matrix{ComplexF32}:\n",
       "   0.303165+0.157195im     -0.33742-0.0812193im  …   0.238759+0.657219im\n",
       "   0.258717+0.0416078im    0.345462-0.235346im      0.0183932-0.0697175im\n",
       "   0.255102+0.00792686im   0.245624+0.0102503im     0.0508646+0.203401im\n",
       "  -0.261306-0.211998im     0.137908-0.29378im        0.249837+0.243911im\n",
       "   0.386219-0.203184im     0.495788-0.0279889im     0.0243188+0.142586im\n",
       "  -0.240705-0.254318im     0.226626+0.0533096im  …  -0.352388-0.0839863im\n",
       " -0.0493961-0.311213im    -0.260997+0.252405im      -0.204033+0.255039im\n",
       "   0.158265+0.446032im      0.11824-0.304069im       0.130095-0.253449im"
      ]
     },
     "execution_count": 50,
     "metadata": {},
     "output_type": "execute_result"
    }
   ],
   "source": [
    "test_U = make_unitary(tot_dim, 1.0f0)"
   ]
  },
  {
   "cell_type": "code",
   "execution_count": 52,
   "metadata": {},
   "outputs": [
    {
     "name": "stdout",
     "output_type": "stream",
     "text": [
      "Float32[0.9999997, 0.9999996, 1.0000002, 0.99999994, 1.0, 0.99999994, 1.0000001, 1.0]\n"
     ]
    }
   ],
   "source": [
    "II = test_U * test_U'\n",
    "println([real(II[i,i]) for i in 1:tot_dim])"
   ]
  },
  {
   "cell_type": "code",
   "execution_count": 65,
   "metadata": {},
   "outputs": [
    {
     "data": {
      "text/plain": [
       "twohot (generic function with 2 methods)"
      ]
     },
     "execution_count": 65,
     "metadata": {},
     "output_type": "execute_result"
    }
   ],
   "source": [
    "function twohot(i::Int, j::Int, s_dim::Int, e_dim::Int)\n",
    "    v = zeros(Float32, s_dim*e_dim)\n",
    "    v[i+s_dim*(j-1)] = 1.0f0\n",
    "    return v\n",
    "end"
   ]
  },
  {
   "cell_type": "code",
   "execution_count": 54,
   "metadata": {},
   "outputs": [
    {
     "data": {
      "text/plain": [
       "ehot (generic function with 1 method)"
      ]
     },
     "execution_count": 54,
     "metadata": {},
     "output_type": "execute_result"
    }
   ],
   "source": [
    "function ehot(vs::Vector{ComplexF32}, i::Int, e_dim::Int)\n",
    "    s_dim = length(vs)\n",
    "    ve = zeros(ComplexF32, e_dim*s_dim)\n",
    "    ve[(s_dim*(i-1)+1):(s_dim*i)] = vs\n",
    "    #v2 = vcat(vs, ve)\n",
    "    return ve\n",
    "end"
   ]
  },
  {
   "cell_type": "code",
   "execution_count": 63,
   "metadata": {},
   "outputs": [
    {
     "data": {
      "text/plain": [
       "make_ev (generic function with 1 method)"
      ]
     },
     "execution_count": 63,
     "metadata": {},
     "output_type": "execute_result"
    }
   ],
   "source": [
    "function make_ev(s_ev::Matrix{ComplexF32}, e_dim::Int)\n",
    "    e_vec::Vector{Matrix{Float32}} = []\n",
    "    s_vec::Vector{Matrix{ComplexF32}} = []\n",
    "    s_dim = size(s_ev)[1]\n",
    "    tot_dim = s_dim * e_dim\n",
    "    println(s_dim)\n",
    "    for i in 1:s_dim\n",
    "        sm = zeros(ComplexF32, tot_dim, e_dim)\n",
    "        for j in 1:e_dim\n",
    "            sm[:,j] = ehot(s_ev[:,i], j, e_dim)\n",
    "            #push!(e_vec, twohot(i, j, s_dim))\n",
    "            #push!(s_vec, ehot(s_ev[:,i], j, e_dim))\n",
    "        end\n",
    "        push!(s_vec, sm)\n",
    "    end\n",
    "\n",
    "    for j in 1:e_dim\n",
    "        em = zeros(Float32, tot_dim, s_dim)\n",
    "        for i in 1:s_dim\n",
    "            em[:,i] = twohot(i, j, s_dim, e_dim)\n",
    "        end\n",
    "        push!(e_vec, em)\n",
    "    end\n",
    "    return s_vec, e_vec\n",
    "end"
   ]
  },
  {
   "cell_type": "code",
   "execution_count": 66,
   "metadata": {},
   "outputs": [
    {
     "name": "stdout",
     "output_type": "stream",
     "text": [
      "2\n"
     ]
    },
    {
     "data": {
      "text/plain": [
       "(Matrix{ComplexF32}[[0.6637269f0 + 0.08969041f0im 0.0f0 + 0.0f0im 0.0f0 + 0.0f0im 0.0f0 + 0.0f0im; -0.742578f0 + 0.0f0im 0.0f0 + 0.0f0im 0.0f0 + 0.0f0im 0.0f0 + 0.0f0im; … ; 0.0f0 + 0.0f0im 0.0f0 + 0.0f0im 0.0f0 + 0.0f0im 0.6637269f0 + 0.08969041f0im; 0.0f0 + 0.0f0im 0.0f0 + 0.0f0im 0.0f0 + 0.0f0im -0.742578f0 + 0.0f0im], [0.73588955f0 + 0.099441856f0im 0.0f0 + 0.0f0im 0.0f0 + 0.0f0im 0.0f0 + 0.0f0im; 0.6697595f0 + 0.0f0im 0.0f0 + 0.0f0im 0.0f0 + 0.0f0im 0.0f0 + 0.0f0im; … ; 0.0f0 + 0.0f0im 0.0f0 + 0.0f0im 0.0f0 + 0.0f0im 0.73588955f0 + 0.099441856f0im; 0.0f0 + 0.0f0im 0.0f0 + 0.0f0im 0.0f0 + 0.0f0im 0.6697595f0 + 0.0f0im]], Matrix{Float32}[[1.0 0.0; 0.0 1.0; … ; 0.0 0.0; 0.0 0.0], [0.0 0.0; 0.0 0.0; … ; 0.0 0.0; 0.0 0.0], [0.0 0.0; 0.0 0.0; … ; 0.0 0.0; 0.0 0.0], [0.0 0.0; 0.0 0.0; … ; 1.0 0.0; 0.0 1.0]])"
      ]
     },
     "execution_count": 66,
     "metadata": {},
     "output_type": "execute_result"
    }
   ],
   "source": [
    "s_evs, e_evs = make_ev(evs, e_dim)"
   ]
  },
  {
   "cell_type": "code",
   "execution_count": 68,
   "metadata": {},
   "outputs": [
    {
     "data": {
      "text/plain": [
       "2×2 Matrix{Float64}:\n",
       " 1.0  0.0\n",
       " 0.0  1.0"
      ]
     },
     "execution_count": 68,
     "metadata": {},
     "output_type": "execute_result"
    }
   ],
   "source": [
    "e_evs[1]'Diagonal(ones(8))*e_evs[1]"
   ]
  },
  {
   "cell_type": "code",
   "execution_count": 70,
   "metadata": {},
   "outputs": [
    {
     "data": {
      "text/plain": [
       "make_Mk (generic function with 1 method)"
      ]
     },
     "execution_count": 70,
     "metadata": {},
     "output_type": "execute_result"
    }
   ],
   "source": [
    "function make_Mk(U::Matrix{ComplexF32}, s_vec::Vector{Matrix{ComplexF32}}, e_vec::Vector{Matrix{Float32}})\n",
    "    L = size(U)[1]\n",
    "    e_dim = length(s_vec)\n",
    "    s_dim = div(L,e_dim)\n",
    "    Ms::Vector{Matrix{ComplexF32}} = []\n",
    "    for j in 1:e_dim\n",
    "        for k in 1:s_dim\n",
    "            push!(Ms, (e_vec[k]'*U*s_vec[j]))\n",
    "        end\n",
    "    end\n",
    "    return Ms\n",
    "end"
   ]
  },
  {
   "cell_type": "code",
   "execution_count": 71,
   "metadata": {},
   "outputs": [
    {
     "data": {
      "text/plain": [
       "8-element Vector{Matrix{ComplexF32}}:\n",
       " [0.43768018f0 + 0.19183713f0im -0.31465524f0 - 0.14959966f0im -0.079657026f0 - 0.19463558f0im -0.31955475f0 - 0.41063914f0im; -0.08854665f0 + 0.2255836f0im -0.12683375f0 + 0.22426392f0im -0.020753548f0 - 0.29442832f0im 0.26760727f0 + 0.020996764f0im]\n",
       " [-0.013788182f0 + 0.020529808f0im 0.6399907f0 - 0.15555431f0im -0.3944964f0 - 0.17374477f0im 0.10507965f0 + 0.0084815705f0im; -0.25682884f0 + 0.054009352f0im 0.122937895f0 + 0.38588935f0im 0.17827128f0 + 0.2736153f0im -0.26790026f0 - 0.23143224f0im]\n",
       " [-0.09359364f0 - 0.079434715f0im 0.0770683f0 - 0.07548167f0im 0.47533765f0 + 0.13831753f0im -0.21186672f0 - 0.108434f0im; -0.3052402f0 - 0.22997293f0im -0.33100596f0 - 0.057116725f0im -0.29592726f0 - 0.18400033f0im 0.14939609f0 + 0.23932214f0im]\n",
       " [0.18893825f0 - 0.3984214f0im 0.018131372f0 - 0.040610347f0im 0.4360096f0 - 0.051609118f0im 0.5718192f0 - 0.18190897f0im; -0.022762207f0 + 0.5360336f0im -0.29577455f0 - 0.022286532f0im 0.12835771f0 - 0.021023622f0im 0.066868015f0 + 0.14135545f0im]\n",
       " [-0.018526042f0 + 0.09142797f0im 0.16068554f0 - 0.012098607f0im 0.057255052f0 + 0.14373761f0im 0.0021861356f0 + 0.5259907f0im; 0.41762584f0 - 0.10127934f0im 0.0124712065f0 - 0.0052910787f0im -0.15996166f0 + 0.62742555f0im 0.3241648f0 - 0.08081365f0im]\n",
       " [0.35144755f0 + 0.03806631f0im 0.1894496f0 + 0.04452018f0im -0.036229964f0 - 0.26355118f0im 0.1924488f0 + 0.31309587f0im; -0.07884534f0 - 0.37875423f0im 0.5010868f0 + 0.24439475f0im -0.23884758f0 - 0.015298466f0im 0.07599813f0 + 0.10758224f0im]\n",
       " [0.6364787f0 - 0.12986055f0im -0.103776045f0 - 0.35560894f0im 0.251326f0 - 0.034400683f0im -0.1985918f0 + 0.09266736f0im; -5.7524627f-5 - 0.17538118f0im 0.4970011f0 - 0.30544317f0im 0.13751411f0 + 0.023861622f0im -0.36050233f0 + 0.1399443f0im]\n",
       " [-0.18020792f0 - 0.06488002f0im 0.19438818f0 - 0.03258222f0im 0.17756341f0 - 0.05599224f0im 0.3293534f0 + 0.17910503f0im; 0.15130349f0 + 0.14031515f0im 0.31497163f0 + 0.097835846f0im 0.3203628f0 - 0.4556671f0im 0.2683788f0 - 0.2216937f0im]"
      ]
     },
     "execution_count": 71,
     "metadata": {},
     "output_type": "execute_result"
    }
   ],
   "source": [
    "Ms = make_Mk(test_U, s_evs, e_evs)"
   ]
  },
  {
   "cell_type": "code",
   "execution_count": 72,
   "metadata": {},
   "outputs": [
    {
     "data": {
      "text/plain": [
       "4×4 Matrix{ComplexF32}:\n",
       "         1.0+6.14039f-9im  …  -6.70552f-8+1.49012f-8im\n",
       "  1.06171f-7+6.42613f-8im     -1.49012f-8-7.82311f-8im\n",
       "  1.93715f-7+5.96046f-8im       8.9407f-8-4.47035f-8im\n",
       " -6.70552f-8+0.0im                    1.0+2.60079f-10im"
      ]
     },
     "execution_count": 72,
     "metadata": {},
     "output_type": "execute_result"
    }
   ],
   "source": [
    "test = sum([Ms[i]'*es[div(i-1,e_dim)+1]*Ms[i] for i in 1:e_dim*s_dim])"
   ]
  },
  {
   "cell_type": "code",
   "execution_count": 78,
   "metadata": {},
   "outputs": [
    {
     "data": {
      "text/plain": [
       "4×4 Matrix{ComplexF32}:\n",
       "   0.906017+8.23896f-10im  -0.0435312+0.209154im    …  0.280127+0.265974im\n",
       " -0.0435312-0.209154im        1.18342-1.70095f-9im     0.173691+0.11145im\n",
       "  0.0175821+0.24567im       -0.174167+0.358149im       0.235622+0.13258im\n",
       "   0.280127-0.265974im       0.173691-0.11145im        0.935342+1.34467f-9im"
      ]
     },
     "execution_count": 78,
     "metadata": {},
     "output_type": "execute_result"
    }
   ],
   "source": [
    "test2 = sum([Ms[i]'*es[((i-1)%s_dim)+1]*Ms[i] for i in 1:e_dim*s_dim])"
   ]
  },
  {
   "cell_type": "code",
   "execution_count": 75,
   "metadata": {},
   "outputs": [
    {
     "data": {
      "text/plain": [
       "2×2 Matrix{ComplexF32}:\n",
       "  1.62761-4.16471f-9im  0.498016+0.376122im\n",
       " 0.498016-0.376122im     2.37238+3.69774f-8im"
      ]
     },
     "execution_count": 75,
     "metadata": {},
     "output_type": "execute_result"
    }
   ],
   "source": [
    "test3 = sum([Ms[i]*es[div(i-1,e_dim)+1]*Ms[i]' for i in 1:e_dim*s_dim])"
   ]
  },
  {
   "cell_type": "code",
   "execution_count": 77,
   "metadata": {},
   "outputs": [
    {
     "data": {
      "text/plain": [
       "2×2 Matrix{ComplexF32}:\n",
       "        2.0-1.08904f-9im  7.45058f-8-1.19209f-7im\n",
       " 7.45058f-8+1.3411f-7im          2.0+1.72627f-8im"
      ]
     },
     "execution_count": 77,
     "metadata": {},
     "output_type": "execute_result"
    }
   ],
   "source": [
    "test4 = sum([Ms[i]*es[((i-1)%s_dim)+1]*Ms[i]' for i in 1:e_dim*s_dim])"
   ]
  },
  {
   "cell_type": "code",
   "execution_count": null,
   "metadata": {},
   "outputs": [],
   "source": []
  }
 ],
 "metadata": {
  "kernelspec": {
   "display_name": "Julia 1.10.0",
   "language": "julia",
   "name": "julia-1.10"
  },
  "language_info": {
   "file_extension": ".jl",
   "mimetype": "application/julia",
   "name": "julia",
   "version": "1.10.0"
  }
 },
 "nbformat": 4,
 "nbformat_minor": 2
}
