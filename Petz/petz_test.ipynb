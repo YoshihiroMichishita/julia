{
 "cells": [
  {
   "cell_type": "code",
   "execution_count": 1,
   "metadata": {},
   "outputs": [],
   "source": [
    "using LinearAlgebra\n",
    "using Plots"
   ]
  },
  {
   "cell_type": "code",
   "execution_count": 2,
   "metadata": {},
   "outputs": [
    {
     "data": {
      "text/plain": [
       "0.0f0 + 1.0f0im"
      ]
     },
     "execution_count": 2,
     "metadata": {},
     "output_type": "execute_result"
    }
   ],
   "source": [
    "fi = ComplexF32(1.0im)"
   ]
  },
  {
   "cell_type": "code",
   "execution_count": 3,
   "metadata": {},
   "outputs": [
    {
     "data": {
      "text/plain": [
       "vec2hermite (generic function with 1 method)"
      ]
     },
     "execution_count": 3,
     "metadata": {},
     "output_type": "execute_result"
    }
   ],
   "source": [
    "function vec2hermite(v::Vector{Float32})\n",
    "    N = round(Int, sqrt(length(v)))\n",
    "    H = zeros(ComplexF32, N, N)\n",
    "    for i in 1:N\n",
    "        for j in i:N\n",
    "            l = N*(i-1) + 2j - i^2\n",
    "            if(i == j)\n",
    "                H[i,j] = v[l]\n",
    "            else\n",
    "                H[i,j] = v[l-1] + fi*v[l]\n",
    "            end \n",
    "        end\n",
    "    end\n",
    "    H = Hermitian(H)\n",
    "    return H\n",
    "end"
   ]
  },
  {
   "cell_type": "code",
   "execution_count": 4,
   "metadata": {},
   "outputs": [
    {
     "data": {
      "text/plain": [
       "vec2unitary (generic function with 1 method)"
      ]
     },
     "execution_count": 4,
     "metadata": {},
     "output_type": "execute_result"
    }
   ],
   "source": [
    "function vec2unitary(v::Vector{Float32}, τ::Float32)\n",
    "    H = vec2hermite(v)\n",
    "    U = exp(fi*(τ*H))\n",
    "    return U\n",
    "end"
   ]
  },
  {
   "cell_type": "code",
   "execution_count": 5,
   "metadata": {},
   "outputs": [
    {
     "data": {
      "text/plain": [
       "make_unitary (generic function with 1 method)"
      ]
     },
     "execution_count": 5,
     "metadata": {},
     "output_type": "execute_result"
    }
   ],
   "source": [
    "function make_unitary(N::Int, τ::Float32)\n",
    "    v = rand(Float32, N^2)\n",
    "    U = vec2unitary(v, τ)\n",
    "    return U\n",
    "end"
   ]
  },
  {
   "cell_type": "code",
   "execution_count": 41,
   "metadata": {},
   "outputs": [
    {
     "data": {
      "text/plain": [
       "norm! (generic function with 1 method)"
      ]
     },
     "execution_count": 41,
     "metadata": {},
     "output_type": "execute_result"
    }
   ],
   "source": [
    "function norm!(m::Hermitian{ComplexF32, Matrix{ComplexF32}})\n",
    "    T = real(tr(m))\n",
    "    m = m/T\n",
    "end"
   ]
  },
  {
   "cell_type": "code",
   "execution_count": 42,
   "metadata": {},
   "outputs": [
    {
     "data": {
      "text/plain": [
       "norm (generic function with 1 method)"
      ]
     },
     "execution_count": 42,
     "metadata": {},
     "output_type": "execute_result"
    }
   ],
   "source": [
    "function norm(m::Hermitian{ComplexF32, Matrix{ComplexF32}})\n",
    "    T = real(tr(m))\n",
    "    return m/T\n",
    "end"
   ]
  },
  {
   "cell_type": "code",
   "execution_count": 40,
   "metadata": {},
   "outputs": [
    {
     "data": {
      "text/plain": [
       "4-element Vector{Float32}:\n",
       " 0.13625076\n",
       " 0.4110931\n",
       " 0.19927171\n",
       " 0.31276777"
      ]
     },
     "execution_count": 40,
     "metadata": {},
     "output_type": "execute_result"
    }
   ],
   "source": []
  },
  {
   "cell_type": "code",
   "execution_count": 7,
   "metadata": {},
   "outputs": [
    {
     "data": {
      "text/plain": [
       "make_rand_dm (generic function with 1 method)"
      ]
     },
     "execution_count": 7,
     "metadata": {},
     "output_type": "execute_result"
    }
   ],
   "source": [
    "function make_rand_dm(dim::Int)\n",
    "    ρ_vec = rand(Float32, dim^2)\n",
    "    rt_ρ = vec2hermite(ρ_vec)\n",
    "    ρ = Hermitian(norm!(Hermitian(rt_ρ*rt_ρ')))\n",
    "    return ρ\n",
    "end"
   ]
  },
  {
   "cell_type": "code",
   "execution_count": 8,
   "metadata": {},
   "outputs": [
    {
     "name": "stdout",
     "output_type": "stream",
     "text": [
      "Float32[0.99999994, 0.99999994, 0.9999999, 0.99999994]\n"
     ]
    }
   ],
   "source": [
    "test_U = make_unitary(4, 1.0f0)\n",
    "II = test_U * test_U'\n",
    "println([real(II[i,i]) for i in 1:4])"
   ]
  },
  {
   "cell_type": "code",
   "execution_count": 9,
   "metadata": {},
   "outputs": [
    {
     "data": {
      "text/plain": [
       "ehot (generic function with 1 method)"
      ]
     },
     "execution_count": 9,
     "metadata": {},
     "output_type": "execute_result"
    }
   ],
   "source": [
    "function ehot(vs::Vector{ComplexF32}, i::Int, e_dim::Int)\n",
    "    s_dim = length(vs)\n",
    "    ve = zeros(ComplexF32, e_dim*s_dim)\n",
    "    ve[(s_dim*(i-1)+1):(s_dim*i)] = vs\n",
    "    #v2 = vcat(vs, ve)\n",
    "    return ve\n",
    "end"
   ]
  },
  {
   "cell_type": "code",
   "execution_count": 10,
   "metadata": {},
   "outputs": [
    {
     "data": {
      "text/plain": [
       "make_ev (generic function with 1 method)"
      ]
     },
     "execution_count": 10,
     "metadata": {},
     "output_type": "execute_result"
    }
   ],
   "source": [
    "function make_ev(s_ev::Matrix{ComplexF32}, e_dim::Int)\n",
    "    #e_vec::Vector{Matrix{Float32}} = []\n",
    "    s_vec::Vector{Matrix{ComplexF32}} = []\n",
    "    s_dim = size(s_ev)[1]\n",
    "    tot_dim = s_dim * e_dim\n",
    "    println(s_dim)\n",
    "    for i in 1:s_dim\n",
    "        sm = zeros(ComplexF32, tot_dim, e_dim)\n",
    "        for j in 1:e_dim\n",
    "            sm[:,j] = ehot(s_ev[:,i], j, e_dim)\n",
    "            #push!(e_vec, twohot(i, j, s_dim))\n",
    "            #push!(s_vec, ehot(s_ev[:,i], j, e_dim))\n",
    "        end\n",
    "        push!(s_vec, sm)\n",
    "    end\n",
    "    #=\n",
    "    for j in 1:e_dim\n",
    "        em = zeros(Float32, tot_dim, s_dim)\n",
    "        for i in 1:s_dim\n",
    "            em[:,i] = twohot(i, j, s_dim, e_dim)\n",
    "        end\n",
    "        push!(e_vec, em)\n",
    "    end=#\n",
    "    return s_vec\n",
    "end"
   ]
  },
  {
   "cell_type": "code",
   "execution_count": 11,
   "metadata": {},
   "outputs": [
    {
     "data": {
      "text/plain": [
       "make_Mk (generic function with 1 method)"
      ]
     },
     "execution_count": 11,
     "metadata": {},
     "output_type": "execute_result"
    }
   ],
   "source": [
    "function make_Mk(U::Matrix{ComplexF32}, s_vec::Vector{Matrix{ComplexF32}})\n",
    "    L = size(U)[1]\n",
    "    e_dim = length(s_vec)\n",
    "    s_dim = div(L,e_dim)\n",
    "    Ms::Vector{Matrix{ComplexF32}} = []\n",
    "    for j in 1:e_dim\n",
    "        for k in 1:s_dim\n",
    "            push!(Ms, (s_vec[k]'*U*s_vec[j]))\n",
    "        end\n",
    "    end\n",
    "    return Ms\n",
    "end"
   ]
  },
  {
   "cell_type": "code",
   "execution_count": 25,
   "metadata": {},
   "outputs": [
    {
     "data": {
      "text/plain": [
       "make_Mk (generic function with 1 method)"
      ]
     },
     "execution_count": 25,
     "metadata": {},
     "output_type": "execute_result"
    }
   ],
   "source": [
    "#=\n",
    "function make_Mk(U::Matrix{ComplexF32}, s_vec::Vector{Matrix{ComplexF32}}, e_vec::Vector{Matrix{Float32}})\n",
    "    L = size(U)[1]\n",
    "    e_dim = length(s_vec)\n",
    "    s_dim = div(L,e_dim)\n",
    "    Ms::Vector{Matrix{ComplexF32}} = []\n",
    "    for j in 1:e_dim\n",
    "        for k in 1:s_dim\n",
    "            push!(Ms, (e_vec[k]'*U*s_vec[j]))\n",
    "        end\n",
    "    end\n",
    "    return Ms\n",
    "end=#"
   ]
  },
  {
   "cell_type": "code",
   "execution_count": 12,
   "metadata": {},
   "outputs": [],
   "source": [
    "struct Dime\n",
    "    s_dim::Int\n",
    "    e_dim::Int\n",
    "    tot_dim::Int\n",
    "    M_size::Int\n",
    "end"
   ]
  },
  {
   "cell_type": "code",
   "execution_count": 13,
   "metadata": {},
   "outputs": [
    {
     "data": {
      "text/plain": [
       "Dime(2, 2, 4, 16)"
      ]
     },
     "execution_count": 13,
     "metadata": {},
     "output_type": "execute_result"
    }
   ],
   "source": [
    "dim = Dime(2, 2, 4, 16)"
   ]
  },
  {
   "cell_type": "code",
   "execution_count": 14,
   "metadata": {},
   "outputs": [
    {
     "data": {
      "text/plain": [
       "Λρ (generic function with 1 method)"
      ]
     },
     "execution_count": 14,
     "metadata": {},
     "output_type": "execute_result"
    }
   ],
   "source": [
    "function Λρ(ρ::Hermitian{ComplexF32, Matrix{ComplexF32}}, Ms::Vector{Matrix{ComplexF32}}, es::Vector{Float32}, ds::Dime)\n",
    "    #ρ_vec = zeros(Float32, tot_dim^2)\n",
    "    Lρ = zeros(ComplexF32, ds.s_dim, ds.s_dim)\n",
    "    for i in 1:tot_dim\n",
    "        Lρ += es[div(i-1,ds.e_dim)+1]*Ms[i]'*ρ*Ms[i]\n",
    "    end\n",
    "    return Hermitian(Lρ)\n",
    "end"
   ]
  },
  {
   "cell_type": "code",
   "execution_count": 15,
   "metadata": {},
   "outputs": [
    {
     "data": {
      "text/plain": [
       "2×2 Hermitian{ComplexF32, Matrix{ComplexF32}}:\n",
       " 0.793846+0.0im       0.301093+0.252951im\n",
       " 0.301093-0.252951im  0.206154+0.0im"
      ]
     },
     "execution_count": 15,
     "metadata": {},
     "output_type": "execute_result"
    }
   ],
   "source": [
    "testm = make_rand_dm(2)"
   ]
  },
  {
   "cell_type": "code",
   "execution_count": 16,
   "metadata": {},
   "outputs": [
    {
     "data": {
      "text/plain": [
       "KL_divergence (generic function with 1 method)"
      ]
     },
     "execution_count": 16,
     "metadata": {},
     "output_type": "execute_result"
    }
   ],
   "source": [
    "function KL_divergence(ρ::Hermitian{ComplexF32, Matrix{ComplexF32}}, σ::Hermitian{ComplexF32, Matrix{ComplexF32}})\n",
    "    return real(tr(ρ*(log(ρ)-log(σ))))\n",
    "end"
   ]
  },
  {
   "cell_type": "code",
   "execution_count": 17,
   "metadata": {},
   "outputs": [
    {
     "data": {
      "text/plain": [
       "init_dms (generic function with 1 method)"
      ]
     },
     "execution_count": 17,
     "metadata": {},
     "output_type": "execute_result"
    }
   ],
   "source": [
    "struct DMs\n",
    "    s_dm::Hermitian{ComplexF32, Matrix{ComplexF32}}\n",
    "    e_dm::Hermitian{ComplexF32, Matrix{ComplexF32}}\n",
    "    s_evs::Matrix{ComplexF32}\n",
    "    s_es::Vector{Float32}\n",
    "\n",
    "    U::Matrix{ComplexF32}\n",
    "    Ms::Vector{Matrix{ComplexF32}}\n",
    "end\n",
    "\n",
    "function init_dms(ds::Dime, τ::Float32)\n",
    "    s_dm = make_rand_dm(ds.s_dim)\n",
    "    e_dm = make_rand_dm(ds.e_dim)\n",
    "    s_es, s_evs = eigen(s_dm)\n",
    "    U = make_unitary(ds.tot_dim, τ)\n",
    "    s_evsa = make_ev(s_evs, ds.e_dim)\n",
    "    Ms = make_Mk(U, s_evsa)\n",
    "    return DMs(s_dm, e_dm, s_evs, s_es, U, Ms)\n",
    "end"
   ]
  },
  {
   "cell_type": "code",
   "execution_count": 18,
   "metadata": {},
   "outputs": [
    {
     "data": {
      "text/plain": [
       "Λρ (generic function with 2 methods)"
      ]
     },
     "execution_count": 18,
     "metadata": {},
     "output_type": "execute_result"
    }
   ],
   "source": [
    "function Λρ(ρ::Hermitian{ComplexF32, Matrix{ComplexF32}}, dms::DMs, ds::Dime)\n",
    "    #ρ_vec = zeros(Float32, tot_dim^2)\n",
    "    Lρ = zeros(ComplexF32, ds.s_dim, ds.s_dim)\n",
    "    for i in 1:ds.tot_dim\n",
    "        Lρ += dms.s_es[div(i-1,ds.e_dim)+1]*dms.Ms[i]*ρ*dms.Ms[i]'\n",
    "    end\n",
    "    return Hermitian(Lρ)\n",
    "end"
   ]
  },
  {
   "cell_type": "code",
   "execution_count": 19,
   "metadata": {},
   "outputs": [
    {
     "data": {
      "text/plain": [
       "Λρd (generic function with 1 method)"
      ]
     },
     "execution_count": 19,
     "metadata": {},
     "output_type": "execute_result"
    }
   ],
   "source": [
    "function Λρd(ρ::Hermitian{ComplexF32, Matrix{ComplexF32}}, dms::DMs, ds::Dime)\n",
    "    #ρ_vec = zeros(Float32, tot_dim^2)\n",
    "    Lρ = zeros(ComplexF32, ds.s_dim, ds.s_dim)\n",
    "    for i in 1:ds.tot_dim\n",
    "        Lρ += dms.s_es[div(i-1,ds.e_dim)+1]*dms.Ms[i]'*ρ*dms.Ms[i]\n",
    "    end\n",
    "    return Hermitian(Lρ)\n",
    "end"
   ]
  },
  {
   "cell_type": "code",
   "execution_count": 64,
   "metadata": {},
   "outputs": [
    {
     "data": {
      "text/plain": [
       "Λρ2 (generic function with 1 method)"
      ]
     },
     "execution_count": 64,
     "metadata": {},
     "output_type": "execute_result"
    }
   ],
   "source": [
    "function Λρ2(ρ::Hermitian{ComplexF32, Matrix{ComplexF32}}, dms::DMs, ds::Dime)\n",
    "    #ρ_vec = zeros(Float32, tot_dim^2)\n",
    "    Lρ = zeros(ComplexF32, ds.s_dim, ds.s_dim)\n",
    "    for i in 1:tot_dim\n",
    "        Lρ += dms.s_es[((i-1)%ds.s_dim)+1]*dms.Ms[i]*ρ*dms.Ms[i]'\n",
    "    end\n",
    "    return Hermitian(Lρ)\n",
    "end"
   ]
  },
  {
   "cell_type": "code",
   "execution_count": 20,
   "metadata": {},
   "outputs": [
    {
     "name": "stdout",
     "output_type": "stream",
     "text": [
      "2\n"
     ]
    },
    {
     "data": {
      "text/plain": [
       "DMs(ComplexF32[0.43760204f0 + 0.0f0im 0.15425375f0 + 0.23607332f0im; 0.15425375f0 - 0.23607332f0im 0.5623979f0 + 0.0f0im], ComplexF32[0.45353186f0 + 0.0f0im 0.2824309f0 + 0.31362054f0im; 0.2824309f0 - 0.31362054f0im 0.54646814f0 + 0.0f0im], ComplexF32[0.42652422f0 + 0.6527621f0im 0.3424645f0 + 0.5241152f0im; -0.626082f0 + 0.0f0im 0.7797572f0 + 0.0f0im], Float32[0.21117765, 0.7888223], ComplexF32[0.37122726f0 - 0.08254771f0im -0.6642448f0 + 0.12845823f0im -0.4379226f0 - 0.43552116f0im 0.12726684f0 - 0.0013786973f0im; 0.36490315f0 + 0.48436528f0im 0.2969689f0 - 0.17298691f0im -0.53947955f0 + 0.124775104f0im -0.4546897f0 + 0.027771514f0im; 0.18255888f0 + 0.49104548f0im -0.37900218f0 + 0.4962829f0im 0.45873877f0 + 0.2547369f0im -0.2431825f0 - 0.033724014f0im; 0.1584299f0 + 0.4336575f0im 0.17054011f0 + 0.07168731f0im -0.10161035f0 + 0.16211513f0im 0.84284323f0 + 0.07501539f0im], Matrix{ComplexF32}[[0.5675085f0 - 0.70224065f0im -0.28286114f0 - 0.014384311f0im; 0.21115528f0 - 0.14130361f0im 0.7814088f0 + 0.09214638f0im], [0.011342932f0 + 0.1454712f0im -0.26158243f0 - 0.41721347f0im; -0.24375862f0 + 0.19882172f0im -0.2406196f0 + 0.017369583f0im], [-0.03858106f0 + 0.20138071f0im 0.20642474f0 - 0.14114138f0im; 0.24075378f0 + 0.41772634f0im -0.21057835f0 + 0.19888447f0im], [0.100687645f0 + 0.4467061f0im -0.60975116f0 - 0.39336532f0im; 0.1419437f0 + 0.7040364f0im 0.5201732f0 + 0.23760591f0im]])"
      ]
     },
     "execution_count": 20,
     "metadata": {},
     "output_type": "execute_result"
    }
   ],
   "source": [
    "test_dms = init_dms(dim, 1.0f0)"
   ]
  },
  {
   "cell_type": "code",
   "execution_count": 21,
   "metadata": {},
   "outputs": [
    {
     "data": {
      "text/plain": [
       "0.99981403f0"
      ]
     },
     "execution_count": 21,
     "metadata": {},
     "output_type": "execute_result"
    }
   ],
   "source": [
    "kl = KL_divergence(test_dms.s_dm, testm)"
   ]
  },
  {
   "cell_type": "code",
   "execution_count": 22,
   "metadata": {},
   "outputs": [
    {
     "name": "stdout",
     "output_type": "stream",
     "text": [
      "lp = Λρ(test_dms.s_dm, test_dms, dim) = ComplexF32[0.4392874f0 + 0.0f0im -0.030048743f0 + 0.15807344f0im; -0.030048743f0 - 0.15807344f0im 0.5607124f0 + 0.0f0im]\n",
      "tr(lp) = 0.99999976f0\n"
     ]
    },
    {
     "data": {
      "text/plain": [
       "0.99999976f0"
      ]
     },
     "execution_count": 22,
     "metadata": {},
     "output_type": "execute_result"
    }
   ],
   "source": [
    "@show lp = Λρ(test_dms.s_dm, test_dms, dim)\n",
    "@show tr(lp)"
   ]
  },
  {
   "cell_type": "code",
   "execution_count": 23,
   "metadata": {},
   "outputs": [
    {
     "name": "stdout",
     "output_type": "stream",
     "text": [
      "lpd = Λρd(test_dms.s_dm, test_dms, dim) = ComplexF32[0.64049673f0 + 0.0f0im 0.07549295f0 + 0.14983143f0im; 0.07549295f0 - 0.14983143f0im 0.35317504f0 + 0.0f0im]\n",
      "tr(lpd) = 0.9936718f0\n"
     ]
    },
    {
     "data": {
      "text/plain": [
       "0.9936718f0"
      ]
     },
     "execution_count": 23,
     "metadata": {},
     "output_type": "execute_result"
    }
   ],
   "source": [
    "@show lpd = Λρd(test_dms.s_dm, test_dms, dim)\n",
    "@show tr(lpd)"
   ]
  },
  {
   "cell_type": "code",
   "execution_count": 24,
   "metadata": {},
   "outputs": [
    {
     "data": {
      "text/plain": [
       "nroot_m (generic function with 1 method)"
      ]
     },
     "execution_count": 24,
     "metadata": {},
     "output_type": "execute_result"
    }
   ],
   "source": [
    "function nroot_m(ρ::Hermitian{ComplexF32, Matrix{ComplexF32}}, n::Int)\n",
    "    #ρ_vec = zeros(Float32, tot_dim^2)\n",
    "    e, v = eigen(ρ)\n",
    "    en = e.^(1.0f0/n)\n",
    "    ρ_n = v*Diagonal(en)*v'\n",
    "    return Hermitian(ρ_n)\n",
    "end"
   ]
  },
  {
   "cell_type": "code",
   "execution_count": 25,
   "metadata": {},
   "outputs": [
    {
     "data": {
      "text/plain": [
       "UρUd (generic function with 1 method)"
      ]
     },
     "execution_count": 25,
     "metadata": {},
     "output_type": "execute_result"
    }
   ],
   "source": [
    "function UρUd(U, ρ::Hermitian{ComplexF32, Matrix{ComplexF32}})\n",
    "    return Hermitian(U*ρ*U')\n",
    "end"
   ]
  },
  {
   "cell_type": "code",
   "execution_count": 26,
   "metadata": {},
   "outputs": [
    {
     "data": {
      "text/plain": [
       "PetzRecovery (generic function with 1 method)"
      ]
     },
     "execution_count": 26,
     "metadata": {},
     "output_type": "execute_result"
    }
   ],
   "source": [
    "function PetzRecovery(ρ::Hermitian{ComplexF32, Matrix{ComplexF32}}, dms::DMs, ds::Dime)\n",
    "    lρ = Λρ(ρ, dms, ds)\n",
    "    lρ_n = nroot_m(lρ, -2)\n",
    "    lρ1 = UρUd(lρ_n, lρ)\n",
    "    lρ2 = Λρd(lρ1, dms, ds)\n",
    "    ρ_n = nroot_m(ρ, 2)\n",
    "    lρ3 = UρUd(ρ_n, lρ2)\n",
    "    return lρ3\n",
    "end"
   ]
  },
  {
   "cell_type": "code",
   "execution_count": 29,
   "metadata": {},
   "outputs": [],
   "source": [
    "using BenchmarkTools"
   ]
  },
  {
   "cell_type": "code",
   "execution_count": 30,
   "metadata": {},
   "outputs": [
    {
     "data": {
      "text/plain": [
       "BenchmarkTools.Trial: 10000 samples with 3 evaluations.\n",
       " Range \u001b[90m(\u001b[39m\u001b[36m\u001b[1mmin\u001b[22m\u001b[39m … \u001b[35mmax\u001b[39m\u001b[90m):  \u001b[39m\u001b[36m\u001b[1m 8.056 μs\u001b[22m\u001b[39m … \u001b[35m865.792 μs\u001b[39m  \u001b[90m┊\u001b[39m GC \u001b[90m(\u001b[39mmin … max\u001b[90m): \u001b[39m 0.00% … 97.56%\n",
       " Time  \u001b[90m(\u001b[39m\u001b[34m\u001b[1mmedian\u001b[22m\u001b[39m\u001b[90m):     \u001b[39m\u001b[34m\u001b[1m12.778 μs               \u001b[22m\u001b[39m\u001b[90m┊\u001b[39m GC \u001b[90m(\u001b[39mmedian\u001b[90m):    \u001b[39m 0.00%\n",
       " Time  \u001b[90m(\u001b[39m\u001b[32m\u001b[1mmean\u001b[22m\u001b[39m ± \u001b[32mσ\u001b[39m\u001b[90m):   \u001b[39m\u001b[32m\u001b[1m16.501 μs\u001b[22m\u001b[39m ± \u001b[32m 53.186 μs\u001b[39m  \u001b[90m┊\u001b[39m GC \u001b[90m(\u001b[39mmean ± σ\u001b[90m):  \u001b[39m24.53% ±  7.47%\n",
       "\n",
       "  \u001b[39m \u001b[39m▄\u001b[39m▂\u001b[39m \u001b[39m \u001b[39m \u001b[39m \u001b[39m \u001b[39m \u001b[39m \u001b[39m \u001b[39m \u001b[39m \u001b[39m \u001b[39m \u001b[39m \u001b[39m \u001b[39m \u001b[39m \u001b[39m \u001b[39m \u001b[39m▁\u001b[39m▆\u001b[39m▆\u001b[39m█\u001b[34m█\u001b[39m\u001b[39m▇\u001b[39m▄\u001b[39m▃\u001b[39m▁\u001b[39m \u001b[39m \u001b[39m \u001b[39m \u001b[39m \u001b[39m \u001b[39m \u001b[39m \u001b[39m \u001b[39m \u001b[39m \u001b[39m \u001b[39m \u001b[39m \u001b[32m \u001b[39m\u001b[39m \u001b[39m \u001b[39m \u001b[39m \u001b[39m \u001b[39m \u001b[39m \u001b[39m \u001b[39m \u001b[39m \u001b[39m \u001b[39m \u001b[39m \u001b[39m \u001b[39m \u001b[39m \u001b[39m \n",
       "  \u001b[39m▃\u001b[39m█\u001b[39m█\u001b[39m▄\u001b[39m▂\u001b[39m▂\u001b[39m▂\u001b[39m▁\u001b[39m▁\u001b[39m▁\u001b[39m▁\u001b[39m▁\u001b[39m▁\u001b[39m▂\u001b[39m▁\u001b[39m▂\u001b[39m▂\u001b[39m▂\u001b[39m▄\u001b[39m▅\u001b[39m▇\u001b[39m█\u001b[39m█\u001b[39m█\u001b[39m█\u001b[34m█\u001b[39m\u001b[39m█\u001b[39m█\u001b[39m█\u001b[39m█\u001b[39m▇\u001b[39m▅\u001b[39m▅\u001b[39m▄\u001b[39m▃\u001b[39m▃\u001b[39m▂\u001b[39m▂\u001b[39m▂\u001b[39m▂\u001b[39m▂\u001b[39m▂\u001b[39m▁\u001b[39m▁\u001b[32m▁\u001b[39m\u001b[39m▁\u001b[39m▁\u001b[39m▁\u001b[39m▁\u001b[39m▁\u001b[39m▁\u001b[39m▁\u001b[39m▁\u001b[39m▁\u001b[39m▁\u001b[39m▁\u001b[39m▁\u001b[39m▁\u001b[39m▁\u001b[39m▁\u001b[39m \u001b[39m▃\n",
       "  8.06 μs\u001b[90m         Histogram: frequency by time\u001b[39m         19.5 μs \u001b[0m\u001b[1m<\u001b[22m\n",
       "\n",
       " Memory estimate\u001b[90m: \u001b[39m\u001b[33m88.98 KiB\u001b[39m, allocs estimate\u001b[90m: \u001b[39m\u001b[33m80\u001b[39m."
      ]
     },
     "execution_count": 30,
     "metadata": {},
     "output_type": "execute_result"
    },
    {
     "name": "stderr",
     "output_type": "stream",
     "text": [
      "WARNING: both Plots and LinearAlgebra export \"rotate!\"; uses of it in module Main must be qualified\n"
     ]
    }
   ],
   "source": [
    "@benchmark test = PetzRecovery(test_dms.s_dm, test_dms, dim)"
   ]
  },
  {
   "cell_type": "code",
   "execution_count": 28,
   "metadata": {},
   "outputs": [
    {
     "data": {
      "text/plain": [
       "2×2 Hermitian{ComplexF32, Matrix{ComplexF32}}:\n",
       " 0.437602+0.0im       0.154254+0.236073im\n",
       " 0.154254-0.236073im  0.562398+0.0im"
      ]
     },
     "execution_count": 28,
     "metadata": {},
     "output_type": "execute_result"
    }
   ],
   "source": [
    "test_dms.s_dm"
   ]
  },
  {
   "cell_type": "code",
   "execution_count": 35,
   "metadata": {},
   "outputs": [
    {
     "data": {
      "text/plain": [
       "generate_M2 (generic function with 1 method)"
      ]
     },
     "execution_count": 35,
     "metadata": {},
     "output_type": "execute_result"
    }
   ],
   "source": [
    "\n",
    "function generate_M2(H_size::Int)\n",
    "    A::Vector{Hermitian{ComplexF32, Matrix{ComplexF32}}} =[]\n",
    "    for i in 1:H_size\n",
    "        for j in i:H_size\n",
    "            if(i==j)\n",
    "                #l = 2(d+1-i)*(i-1) + (i-1)^2 + 1\n",
    "                B = zeros(ComplexF32,H_size,H_size)\n",
    "                B[i,j] = 1.0f0\n",
    "                B = Hermitian(B)\n",
    "                push!(A,B)\n",
    "                #A[l,:,:] = B[:,:]\n",
    "            else\n",
    "                #l = 2(d+1-i)*(i-1) + (i-1)^2 + 2*(j-i)\n",
    "                B = zeros(ComplexF32,H_size,H_size)\n",
    "                B[i,j] = 1.0f0\n",
    "                B[j,i] = 1.0f0\n",
    "                B = Hermitian(B)\n",
    "                B2 = zeros(ComplexF32,H_size,H_size)\n",
    "                B2[i,j] = -fi\n",
    "                B2[j,i] = fi\n",
    "                B2 = Hermitian(B2)\n",
    "                push!(A,B)\n",
    "                push!(A,B2)\n",
    "            end\n",
    "        end\n",
    "    end\n",
    "    return A\n",
    "end"
   ]
  },
  {
   "cell_type": "code",
   "execution_count": 36,
   "metadata": {},
   "outputs": [
    {
     "data": {
      "text/plain": [
       "4-element Vector{Hermitian{ComplexF32, Matrix{ComplexF32}}}:\n",
       " [1.0f0 + 0.0f0im 0.0f0 + 0.0f0im; 0.0f0 - 0.0f0im 0.0f0 + 0.0f0im]\n",
       " [0.0f0 + 0.0f0im 1.0f0 + 0.0f0im; 1.0f0 - 0.0f0im 0.0f0 + 0.0f0im]\n",
       " [0.0f0 + 0.0f0im -0.0f0 - 1.0f0im; -0.0f0 + 1.0f0im 0.0f0 + 0.0f0im]\n",
       " [0.0f0 + 0.0f0im 0.0f0 + 0.0f0im; 0.0f0 - 0.0f0im 1.0f0 + 0.0f0im]"
      ]
     },
     "execution_count": 36,
     "metadata": {},
     "output_type": "execute_result"
    }
   ],
   "source": [
    "v2m_vec = generate_M2(2)"
   ]
  },
  {
   "cell_type": "code",
   "execution_count": 37,
   "metadata": {},
   "outputs": [
    {
     "data": {
      "text/plain": [
       "vec2her (generic function with 1 method)"
      ]
     },
     "execution_count": 37,
     "metadata": {},
     "output_type": "execute_result"
    }
   ],
   "source": [
    "function vec2her(v::Vector{Float32})\n",
    "    return v' * v2m_vec\n",
    "end"
   ]
  },
  {
   "cell_type": "code",
   "execution_count": 38,
   "metadata": {},
   "outputs": [
    {
     "name": "stdout",
     "output_type": "stream",
     "text": [
      "test = rand(Float32, 4) = Float32[0.5652632, 0.46381873, 0.74638265, 0.018238962]\n",
      "test2 = vec2her(test) = ComplexF32[0.5652632f0 + 0.0f0im 0.46381873f0 - 0.74638265f0im; 0.46381873f0 + 0.74638265f0im 0.018238962f0 + 0.0f0im]\n"
     ]
    },
    {
     "data": {
      "text/plain": [
       "2×2 Hermitian{ComplexF32, Matrix{ComplexF32}}:\n",
       " 0.565263+0.0im       0.463819-0.746383im\n",
       " 0.463819+0.746383im  0.018239+0.0im"
      ]
     },
     "execution_count": 38,
     "metadata": {},
     "output_type": "execute_result"
    }
   ],
   "source": [
    "@show test = rand(Float32, 4)\n",
    "@show test2 = vec2her(test)"
   ]
  },
  {
   "cell_type": "code",
   "execution_count": 43,
   "metadata": {},
   "outputs": [
    {
     "data": {
      "text/plain": [
       "vec2dm (generic function with 1 method)"
      ]
     },
     "execution_count": 43,
     "metadata": {},
     "output_type": "execute_result"
    }
   ],
   "source": [
    "function vec2dm(v::Vector{Float32})\n",
    "    rt_ρ = vec2her(v)\n",
    "    ρ = Hermitian(norm(Hermitian(rt_ρ*rt_ρ')))\n",
    "    return ρ\n",
    "end"
   ]
  },
  {
   "cell_type": "code",
   "execution_count": 73,
   "metadata": {},
   "outputs": [
    {
     "data": {
      "text/plain": [
       "loss_petz (generic function with 1 method)"
      ]
     },
     "execution_count": 73,
     "metadata": {},
     "output_type": "execute_result"
    }
   ],
   "source": [
    "function loss_petz(σ_vec::Vector{Float32}, dms::DMs, ds::Dime)\n",
    "    σ = vec2dm(σ_vec)\n",
    "    K1 = KL_divergence(dms.s_dm, σ)\n",
    "    K2 = KL_divergence(Λρ(dms.s_dm,dms, ds), Λρ(σ, dms, ds))\n",
    "    return (K1-K2)^2\n",
    "end"
   ]
  },
  {
   "cell_type": "code",
   "execution_count": 39,
   "metadata": {},
   "outputs": [],
   "source": [
    "using Flux"
   ]
  },
  {
   "cell_type": "code",
   "execution_count": 87,
   "metadata": {},
   "outputs": [
    {
     "data": {
      "text/plain": [
       "Petz_σ (generic function with 1 method)"
      ]
     },
     "execution_count": 87,
     "metadata": {},
     "output_type": "execute_result"
    }
   ],
   "source": [
    "function Petz_σ(dms::DMs, dim::Dime)\n",
    "    σ_vec = 3rand(Float32, dim.s_dim^2)\n",
    "    lds = Float32[]\n",
    "    opt = ADAM(1f-2)\n",
    "    for itr in 1:2000\n",
    "        val, grads = Flux.withgradient(Flux.params(σ_vec)) do\n",
    "            loss_petz(σ_vec, dms, dim)\n",
    "        end\n",
    "        push!(lds, val)\n",
    "        Flux.Optimise.update!(opt, Flux.params(σ_vec), grads)\n",
    "        if(itr==1000)\n",
    "            opt = ADAM(2f-3)\n",
    "        end\n",
    "    end\n",
    "    return σ_vec, lds\n",
    "end"
   ]
  },
  {
   "cell_type": "code",
   "execution_count": 90,
   "metadata": {},
   "outputs": [
    {
     "data": {
      "image/png": "[encoded data removed]",
      "image/svg+xml": [
       "<?xml version=\"1.0\" encoding=\"utf-8\"?>\n",
       "<svg xmlns=\"http://www.w3.org/2000/svg\" xmlns:xlink=\"http://www.w3.org/1999/xlink\" width=\"600\" height=\"400\" viewBox=\"0 0 2400 1600\">\n",
       "<defs>\n",
       "  <clipPath id=\"clip430\">\n",
       "    <rect x=\"0\" y=\"0\" width=\"2400\" height=\"1600\"/>\n",
       "  </clipPath>\n",
       "</defs>\n",
       "<path clip-path=\"url(#clip430)\" d=\"M0 1600 L2400 1600 L2400 0 L0 0  Z\" fill=\"#ffffff\" fill-rule=\"evenodd\" fill-opacity=\"1\"/>\n",
       "<defs>\n",
       "  <clipPath id=\"clip431\">\n",
       "    <rect x=\"480\" y=\"0\" width=\"1681\" height=\"1600\"/>\n",
       "  </clipPath>\n",
       "</defs>\n",
       "<path clip-path=\"url(#clip430)\" d=\"M213.607 1486.45 L2352.76 1486.45 L2352.76 47.2441 L213.607 47.2441  Z\" fill=\"#ffffff\" fill-rule=\"evenodd\" fill-opacity=\"1\"/>\n",
       "<defs>\n",
       "  <clipPath id=\"clip432\">\n",
       "    <rect x=\"213\" y=\"47\" width=\"2140\" height=\"1440\"/>\n",
       "  </clipPath>\n",
       "</defs>\n",
       "<polyline clip-path=\"url(#clip432)\" style=\"stroke:#000000; stroke-linecap:round; stroke-linejoin:round; stroke-width:2; stroke-opacity:0.1; fill:none\" points=\"273.14,1486.45 273.14,47.2441 \"/>\n",
       "<polyline clip-path=\"url(#clip432)\" style=\"stroke:#000000; stroke-linecap:round; stroke-linejoin:round; stroke-width:2; stroke-opacity:0.1; fill:none\" points=\"777.908,1486.45 777.908,47.2441 \"/>\n",
       "<polyline clip-path=\"url(#clip432)\" style=\"stroke:#000000; stroke-linecap:round; stroke-linejoin:round; stroke-width:2; stroke-opacity:0.1; fill:none\" points=\"1282.68,1486.45 1282.68,47.2441 \"/>\n",
       "<polyline clip-path=\"url(#clip432)\" style=\"stroke:#000000; stroke-linecap:round; stroke-linejoin:round; stroke-width:2; stroke-opacity:0.1; fill:none\" points=\"1787.45,1486.45 1787.45,47.2441 \"/>\n",
       "<polyline clip-path=\"url(#clip432)\" style=\"stroke:#000000; stroke-linecap:round; stroke-linejoin:round; stroke-width:2; stroke-opacity:0.1; fill:none\" points=\"2292.21,1486.45 2292.21,47.2441 \"/>\n",
       "<polyline clip-path=\"url(#clip430)\" style=\"stroke:#000000; stroke-linecap:round; stroke-linejoin:round; stroke-width:4; stroke-opacity:1; fill:none\" points=\"213.607,1486.45 2352.76,1486.45 \"/>\n",
       "<polyline clip-path=\"url(#clip430)\" style=\"stroke:#000000; stroke-linecap:round; stroke-linejoin:round; stroke-width:4; stroke-opacity:1; fill:none\" points=\"273.14,1486.45 273.14,1467.55 \"/>\n",
       "<polyline clip-path=\"url(#clip430)\" style=\"stroke:#000000; stroke-linecap:round; stroke-linejoin:round; stroke-width:4; stroke-opacity:1; fill:none\" points=\"777.908,1486.45 777.908,1467.55 \"/>\n",
       "<polyline clip-path=\"url(#clip430)\" style=\"stroke:#000000; stroke-linecap:round; stroke-linejoin:round; stroke-width:4; stroke-opacity:1; fill:none\" points=\"1282.68,1486.45 1282.68,1467.55 \"/>\n",
       "<polyline clip-path=\"url(#clip430)\" style=\"stroke:#000000; stroke-linecap:round; stroke-linejoin:round; stroke-width:4; stroke-opacity:1; fill:none\" points=\"1787.45,1486.45 1787.45,1467.55 \"/>\n",
       "<polyline clip-path=\"url(#clip430)\" style=\"stroke:#000000; stroke-linecap:round; stroke-linejoin:round; stroke-width:4; stroke-opacity:1; fill:none\" points=\"2292.21,1486.45 2292.21,1467.55 \"/>\n",
       "<path clip-path=\"url(#clip430)\" d=\"M273.14 1517.37 Q269.529 1517.37 267.7 1520.93 Q265.895 1524.47 265.895 1531.6 Q265.895 1538.71 267.7 1542.27 Q269.529 1545.82 273.14 1545.82 Q276.774 1545.82 278.58 1542.27 Q280.408 1538.71 280.408 1531.6 Q280.408 1524.47 278.58 1520.93 Q276.774 1517.37 273.14 1517.37 M273.14 1513.66 Q278.95 1513.66 282.006 1518.27 Q285.084 1522.85 285.084 1531.6 Q285.084 1540.33 282.006 1544.94 Q278.95 1549.52 273.14 1549.52 Q267.33 1549.52 264.251 1544.94 Q261.195 1540.33 261.195 1531.6 Q261.195 1522.85 264.251 1518.27 Q267.33 1513.66 273.14 1513.66 Z\" fill=\"#000000\" fill-rule=\"nonzero\" fill-opacity=\"1\" /><path clip-path=\"url(#clip430)\" d=\"M737.527 1514.29 L755.883 1514.29 L755.883 1518.22 L741.809 1518.22 L741.809 1526.7 Q742.828 1526.35 743.846 1526.19 Q744.865 1526 745.883 1526 Q751.67 1526 755.05 1529.17 Q758.429 1532.34 758.429 1537.76 Q758.429 1543.34 754.957 1546.44 Q751.485 1549.52 745.166 1549.52 Q742.99 1549.52 740.721 1549.15 Q738.476 1548.78 736.068 1548.04 L736.068 1543.34 Q738.152 1544.47 740.374 1545.03 Q742.596 1545.58 745.073 1545.58 Q749.078 1545.58 751.415 1543.48 Q753.753 1541.37 753.753 1537.76 Q753.753 1534.15 751.415 1532.04 Q749.078 1529.94 745.073 1529.94 Q743.198 1529.94 741.323 1530.35 Q739.471 1530.77 737.527 1531.65 L737.527 1514.29 Z\" fill=\"#000000\" fill-rule=\"nonzero\" fill-opacity=\"1\" /><path clip-path=\"url(#clip430)\" d=\"M777.642 1517.37 Q774.031 1517.37 772.202 1520.93 Q770.397 1524.47 770.397 1531.6 Q770.397 1538.71 772.202 1542.27 Q774.031 1545.82 777.642 1545.82 Q781.276 1545.82 783.082 1542.27 Q784.911 1538.71 784.911 1531.6 Q784.911 1524.47 783.082 1520.93 Q781.276 1517.37 777.642 1517.37 M777.642 1513.66 Q783.452 1513.66 786.508 1518.27 Q789.587 1522.85 789.587 1531.6 Q789.587 1540.33 786.508 1544.94 Q783.452 1549.52 777.642 1549.52 Q771.832 1549.52 768.753 1544.94 Q765.698 1540.33 765.698 1531.6 Q765.698 1522.85 768.753 1518.27 Q771.832 1513.66 777.642 1513.66 Z\" fill=\"#000000\" fill-rule=\"nonzero\" fill-opacity=\"1\" /><path clip-path=\"url(#clip430)\" d=\"M807.804 1517.37 Q804.193 1517.37 802.364 1520.93 Q800.559 1524.47 800.559 1531.6 Q800.559 1538.71 802.364 1542.27 Q804.193 1545.82 807.804 1545.82 Q811.438 1545.82 813.244 1542.27 Q815.073 1538.71 815.073 1531.6 Q815.073 1524.47 813.244 1520.93 Q811.438 1517.37 807.804 1517.37 M807.804 1513.66 Q813.614 1513.66 816.67 1518.27 Q819.748 1522.85 819.748 1531.6 Q819.748 1540.33 816.67 1544.94 Q813.614 1549.52 807.804 1549.52 Q801.994 1549.52 798.915 1544.94 Q795.86 1540.33 795.86 1531.6 Q795.86 1522.85 798.915 1518.27 Q801.994 1513.66 807.804 1513.66 Z\" fill=\"#000000\" fill-rule=\"nonzero\" fill-opacity=\"1\" /><path clip-path=\"url(#clip430)\" d=\"M1227.2 1544.91 L1234.84 1544.91 L1234.84 1518.55 L1226.53 1520.21 L1226.53 1515.95 L1234.8 1514.29 L1239.47 1514.29 L1239.47 1544.91 L1247.11 1544.91 L1247.11 1548.85 L1227.2 1548.85 L1227.2 1544.91 Z\" fill=\"#000000\" fill-rule=\"nonzero\" fill-opacity=\"1\" /><path clip-path=\"url(#clip430)\" d=\"M1266.55 1517.37 Q1262.94 1517.37 1261.11 1520.93 Q1259.31 1524.47 1259.31 1531.6 Q1259.31 1538.71 1261.11 1542.27 Q1262.94 1545.82 1266.55 1545.82 Q1270.19 1545.82 1271.99 1542.27 Q1273.82 1538.71 1273.82 1531.6 Q1273.82 1524.47 1271.99 1520.93 Q1270.19 1517.37 1266.55 1517.37 M1266.55 1513.66 Q1272.36 1513.66 1275.42 1518.27 Q1278.5 1522.85 1278.5 1531.6 Q1278.5 1540.33 1275.42 1544.94 Q1272.36 1549.52 1266.55 1549.52 Q1260.74 1549.52 1257.67 1544.94 Q1254.61 1540.33 1254.61 1531.6 Q1254.61 1522.85 1257.67 1518.27 Q1260.74 1513.66 1266.55 1513.66 Z\" fill=\"#000000\" fill-rule=\"nonzero\" fill-opacity=\"1\" /><path clip-path=\"url(#clip430)\" d=\"M1296.72 1517.37 Q1293.11 1517.37 1291.28 1520.93 Q1289.47 1524.47 1289.47 1531.6 Q1289.47 1538.71 1291.28 1542.27 Q1293.11 1545.82 1296.72 1545.82 Q1300.35 1545.82 1302.16 1542.27 Q1303.98 1538.71 1303.98 1531.6 Q1303.98 1524.47 1302.16 1520.93 Q1300.35 1517.37 1296.72 1517.37 M1296.72 1513.66 Q1302.53 1513.66 1305.58 1518.27 Q1308.66 1522.85 1308.66 1531.6 Q1308.66 1540.33 1305.58 1544.94 Q1302.53 1549.52 1296.72 1549.52 Q1290.91 1549.52 1287.83 1544.94 Q1284.77 1540.33 1284.77 1531.6 Q1284.77 1522.85 1287.83 1518.27 Q1290.91 1513.66 1296.72 1513.66 Z\" fill=\"#000000\" fill-rule=\"nonzero\" fill-opacity=\"1\" /><path clip-path=\"url(#clip430)\" d=\"M1326.88 1517.37 Q1323.27 1517.37 1321.44 1520.93 Q1319.63 1524.47 1319.63 1531.6 Q1319.63 1538.71 1321.44 1542.27 Q1323.27 1545.82 1326.88 1545.82 Q1330.51 1545.82 1332.32 1542.27 Q1334.15 1538.71 1334.15 1531.6 Q1334.15 1524.47 1332.32 1520.93 Q1330.51 1517.37 1326.88 1517.37 M1326.88 1513.66 Q1332.69 1513.66 1335.74 1518.27 Q1338.82 1522.85 1338.82 1531.6 Q1338.82 1540.33 1335.74 1544.94 Q1332.69 1549.52 1326.88 1549.52 Q1321.07 1549.52 1317.99 1544.94 Q1314.93 1540.33 1314.93 1531.6 Q1314.93 1522.85 1317.99 1518.27 Q1321.07 1513.66 1326.88 1513.66 Z\" fill=\"#000000\" fill-rule=\"nonzero\" fill-opacity=\"1\" /><path clip-path=\"url(#clip430)\" d=\"M1731.97 1544.91 L1739.61 1544.91 L1739.61 1518.55 L1731.3 1520.21 L1731.3 1515.95 L1739.56 1514.29 L1744.24 1514.29 L1744.24 1544.91 L1751.88 1544.91 L1751.88 1548.85 L1731.97 1548.85 L1731.97 1544.91 Z\" fill=\"#000000\" fill-rule=\"nonzero\" fill-opacity=\"1\" /><path clip-path=\"url(#clip430)\" d=\"M1761.37 1514.29 L1779.73 1514.29 L1779.73 1518.22 L1765.65 1518.22 L1765.65 1526.7 Q1766.67 1526.35 1767.69 1526.19 Q1768.71 1526 1769.73 1526 Q1775.51 1526 1778.89 1529.17 Q1782.27 1532.34 1782.27 1537.76 Q1782.27 1543.34 1778.8 1546.44 Q1775.33 1549.52 1769.01 1549.52 Q1766.83 1549.52 1764.56 1549.15 Q1762.32 1548.78 1759.91 1548.04 L1759.91 1543.34 Q1761.99 1544.47 1764.22 1545.03 Q1766.44 1545.58 1768.92 1545.58 Q1772.92 1545.58 1775.26 1543.48 Q1777.6 1541.37 1777.6 1537.76 Q1777.6 1534.15 1775.26 1532.04 Q1772.92 1529.94 1768.92 1529.94 Q1767.04 1529.94 1765.17 1530.35 Q1763.31 1530.77 1761.37 1531.65 L1761.37 1514.29 Z\" fill=\"#000000\" fill-rule=\"nonzero\" fill-opacity=\"1\" /><path clip-path=\"url(#clip430)\" d=\"M1801.48 1517.37 Q1797.87 1517.37 1796.04 1520.93 Q1794.24 1524.47 1794.24 1531.6 Q1794.24 1538.71 1796.04 1542.27 Q1797.87 1545.82 1801.48 1545.82 Q1805.12 1545.82 1806.92 1542.27 Q1808.75 1538.71 1808.75 1531.6 Q1808.75 1524.47 1806.92 1520.93 Q1805.12 1517.37 1801.48 1517.37 M1801.48 1513.66 Q1807.29 1513.66 1810.35 1518.27 Q1813.43 1522.85 1813.43 1531.6 Q1813.43 1540.33 1810.35 1544.94 Q1807.29 1549.52 1801.48 1549.52 Q1795.67 1549.52 1792.6 1544.94 Q1789.54 1540.33 1789.54 1531.6 Q1789.54 1522.85 1792.6 1518.27 Q1795.67 1513.66 1801.48 1513.66 Z\" fill=\"#000000\" fill-rule=\"nonzero\" fill-opacity=\"1\" /><path clip-path=\"url(#clip430)\" d=\"M1831.65 1517.37 Q1828.04 1517.37 1826.21 1520.93 Q1824.4 1524.47 1824.4 1531.6 Q1824.4 1538.71 1826.21 1542.27 Q1828.04 1545.82 1831.65 1545.82 Q1835.28 1545.82 1837.09 1542.27 Q1838.92 1538.71 1838.92 1531.6 Q1838.92 1524.47 1837.09 1520.93 Q1835.28 1517.37 1831.65 1517.37 M1831.65 1513.66 Q1837.46 1513.66 1840.51 1518.27 Q1843.59 1522.85 1843.59 1531.6 Q1843.59 1540.33 1840.51 1544.94 Q1837.46 1549.52 1831.65 1549.52 Q1825.84 1549.52 1822.76 1544.94 Q1819.7 1540.33 1819.7 1531.6 Q1819.7 1522.85 1822.76 1518.27 Q1825.84 1513.66 1831.65 1513.66 Z\" fill=\"#000000\" fill-rule=\"nonzero\" fill-opacity=\"1\" /><path clip-path=\"url(#clip430)\" d=\"M2240.83 1544.91 L2257.14 1544.91 L2257.14 1548.85 L2235.2 1548.85 L2235.2 1544.91 Q2237.86 1542.16 2242.45 1537.53 Q2247.05 1532.88 2248.23 1531.53 Q2250.48 1529.01 2251.36 1527.27 Q2252.26 1525.51 2252.26 1523.82 Q2252.26 1521.07 2250.32 1519.33 Q2248.39 1517.6 2245.29 1517.6 Q2243.09 1517.6 2240.64 1518.36 Q2238.21 1519.13 2235.43 1520.68 L2235.43 1515.95 Q2238.26 1514.82 2240.71 1514.24 Q2243.16 1513.66 2245.2 1513.66 Q2250.57 1513.66 2253.77 1516.35 Q2256.96 1519.03 2256.96 1523.52 Q2256.96 1525.65 2256.15 1527.57 Q2255.36 1529.47 2253.26 1532.07 Q2252.68 1532.74 2249.58 1535.95 Q2246.47 1539.15 2240.83 1544.91 Z\" fill=\"#000000\" fill-rule=\"nonzero\" fill-opacity=\"1\" /><path clip-path=\"url(#clip430)\" d=\"M2276.96 1517.37 Q2273.35 1517.37 2271.52 1520.93 Q2269.71 1524.47 2269.71 1531.6 Q2269.71 1538.71 2271.52 1542.27 Q2273.35 1545.82 2276.96 1545.82 Q2280.59 1545.82 2282.4 1542.27 Q2284.23 1538.71 2284.23 1531.6 Q2284.23 1524.47 2282.4 1520.93 Q2280.59 1517.37 2276.96 1517.37 M2276.96 1513.66 Q2282.77 1513.66 2285.83 1518.27 Q2288.9 1522.85 2288.9 1531.6 Q2288.9 1540.33 2285.83 1544.94 Q2282.77 1549.52 2276.96 1549.52 Q2271.15 1549.52 2268.07 1544.94 Q2265.02 1540.33 2265.02 1531.6 Q2265.02 1522.85 2268.07 1518.27 Q2271.15 1513.66 2276.96 1513.66 Z\" fill=\"#000000\" fill-rule=\"nonzero\" fill-opacity=\"1\" /><path clip-path=\"url(#clip430)\" d=\"M2307.12 1517.37 Q2303.51 1517.37 2301.68 1520.93 Q2299.88 1524.47 2299.88 1531.6 Q2299.88 1538.71 2301.68 1542.27 Q2303.51 1545.82 2307.12 1545.82 Q2310.76 1545.82 2312.56 1542.27 Q2314.39 1538.71 2314.39 1531.6 Q2314.39 1524.47 2312.56 1520.93 Q2310.76 1517.37 2307.12 1517.37 M2307.12 1513.66 Q2312.93 1513.66 2315.99 1518.27 Q2319.07 1522.85 2319.07 1531.6 Q2319.07 1540.33 2315.99 1544.94 Q2312.93 1549.52 2307.12 1549.52 Q2301.31 1549.52 2298.23 1544.94 Q2295.18 1540.33 2295.18 1531.6 Q2295.18 1522.85 2298.23 1518.27 Q2301.31 1513.66 2307.12 1513.66 Z\" fill=\"#000000\" fill-rule=\"nonzero\" fill-opacity=\"1\" /><path clip-path=\"url(#clip430)\" d=\"M2337.28 1517.37 Q2333.67 1517.37 2331.84 1520.93 Q2330.04 1524.47 2330.04 1531.6 Q2330.04 1538.71 2331.84 1542.27 Q2333.67 1545.82 2337.28 1545.82 Q2340.92 1545.82 2342.72 1542.27 Q2344.55 1538.71 2344.55 1531.6 Q2344.55 1524.47 2342.72 1520.93 Q2340.92 1517.37 2337.28 1517.37 M2337.28 1513.66 Q2343.09 1513.66 2346.15 1518.27 Q2349.23 1522.85 2349.23 1531.6 Q2349.23 1540.33 2346.15 1544.94 Q2343.09 1549.52 2337.28 1549.52 Q2331.47 1549.52 2328.39 1544.94 Q2325.34 1540.33 2325.34 1531.6 Q2325.34 1522.85 2328.39 1518.27 Q2331.47 1513.66 2337.28 1513.66 Z\" fill=\"#000000\" fill-rule=\"nonzero\" fill-opacity=\"1\" /><polyline clip-path=\"url(#clip432)\" style=\"stroke:#000000; stroke-linecap:round; stroke-linejoin:round; stroke-width:2; stroke-opacity:0.1; fill:none\" points=\"213.607,1204.24 2352.76,1204.24 \"/>\n",
       "<polyline clip-path=\"url(#clip432)\" style=\"stroke:#000000; stroke-linecap:round; stroke-linejoin:round; stroke-width:2; stroke-opacity:0.1; fill:none\" points=\"213.607,537.226 2352.76,537.226 \"/>\n",
       "<polyline clip-path=\"url(#clip430)\" style=\"stroke:#000000; stroke-linecap:round; stroke-linejoin:round; stroke-width:4; stroke-opacity:1; fill:none\" points=\"213.607,1486.45 213.607,47.2441 \"/>\n",
       "<polyline clip-path=\"url(#clip430)\" style=\"stroke:#000000; stroke-linecap:round; stroke-linejoin:round; stroke-width:4; stroke-opacity:1; fill:none\" points=\"213.607,1204.24 232.505,1204.24 \"/>\n",
       "<polyline clip-path=\"url(#clip430)\" style=\"stroke:#000000; stroke-linecap:round; stroke-linejoin:round; stroke-width:4; stroke-opacity:1; fill:none\" points=\"213.607,537.226 232.505,537.226 \"/>\n",
       "<path clip-path=\"url(#clip430)\" d=\"M51.6634 1224.04 L59.3023 1224.04 L59.3023 1197.67 L50.9921 1199.34 L50.9921 1195.08 L59.256 1193.41 L63.9319 1193.41 L63.9319 1224.04 L71.5707 1224.04 L71.5707 1227.97 L51.6634 1227.97 L51.6634 1224.04 Z\" fill=\"#000000\" fill-rule=\"nonzero\" fill-opacity=\"1\" /><path clip-path=\"url(#clip430)\" d=\"M91.0151 1196.49 Q87.404 1196.49 85.5753 1200.05 Q83.7697 1203.6 83.7697 1210.73 Q83.7697 1217.83 85.5753 1221.4 Q87.404 1224.94 91.0151 1224.94 Q94.6493 1224.94 96.4548 1221.4 Q98.2835 1217.83 98.2835 1210.73 Q98.2835 1203.6 96.4548 1200.05 Q94.6493 1196.49 91.0151 1196.49 M91.0151 1192.79 Q96.8252 1192.79 99.8808 1197.39 Q102.959 1201.98 102.959 1210.73 Q102.959 1219.45 99.8808 1224.06 Q96.8252 1228.64 91.0151 1228.64 Q85.2049 1228.64 82.1262 1224.06 Q79.0707 1219.45 79.0707 1210.73 Q79.0707 1201.98 82.1262 1197.39 Q85.2049 1192.79 91.0151 1192.79 Z\" fill=\"#000000\" fill-rule=\"nonzero\" fill-opacity=\"1\" /><path clip-path=\"url(#clip430)\" d=\"M102.959 1186.89 L127.071 1186.89 L127.071 1190.09 L102.959 1190.09 L102.959 1186.89 Z\" fill=\"#000000\" fill-rule=\"nonzero\" fill-opacity=\"1\" /><path clip-path=\"url(#clip430)\" d=\"M135.929 1197.36 L142.136 1197.36 L142.136 1175.94 L135.384 1177.3 L135.384 1173.84 L142.098 1172.48 L145.898 1172.48 L145.898 1197.36 L152.104 1197.36 L152.104 1200.56 L135.929 1200.56 L135.929 1197.36 Z\" fill=\"#000000\" fill-rule=\"nonzero\" fill-opacity=\"1\" /><path clip-path=\"url(#clip430)\" d=\"M167.903 1174.98 Q164.969 1174.98 163.483 1177.88 Q162.016 1180.76 162.016 1186.55 Q162.016 1192.32 163.483 1195.22 Q164.969 1198.1 167.903 1198.1 Q170.855 1198.1 172.322 1195.22 Q173.808 1192.32 173.808 1186.55 Q173.808 1180.76 172.322 1177.88 Q170.855 1174.98 167.903 1174.98 M167.903 1171.97 Q172.623 1171.97 175.106 1175.72 Q177.607 1179.44 177.607 1186.55 Q177.607 1193.64 175.106 1197.38 Q172.623 1201.11 167.903 1201.11 Q163.182 1201.11 160.68 1197.38 Q158.198 1193.64 158.198 1186.55 Q158.198 1179.44 160.68 1175.72 Q163.182 1171.97 167.903 1171.97 Z\" fill=\"#000000\" fill-rule=\"nonzero\" fill-opacity=\"1\" /><path clip-path=\"url(#clip430)\" d=\"M76.9787 557.018 L84.6175 557.018 L84.6175 530.652 L76.3074 532.319 L76.3074 528.06 L84.5712 526.393 L89.2471 526.393 L89.2471 557.018 L96.886 557.018 L96.886 560.953 L76.9787 560.953 L76.9787 557.018 Z\" fill=\"#000000\" fill-rule=\"nonzero\" fill-opacity=\"1\" /><path clip-path=\"url(#clip430)\" d=\"M116.33 529.472 Q112.719 529.472 110.891 533.037 Q109.085 536.578 109.085 543.708 Q109.085 550.814 110.891 554.379 Q112.719 557.921 116.33 557.921 Q119.965 557.921 121.77 554.379 Q123.599 550.814 123.599 543.708 Q123.599 536.578 121.77 533.037 Q119.965 529.472 116.33 529.472 M116.33 525.768 Q122.14 525.768 125.196 530.375 Q128.275 534.958 128.275 543.708 Q128.275 552.435 125.196 557.041 Q122.14 561.625 116.33 561.625 Q110.52 561.625 107.441 557.041 Q104.386 552.435 104.386 543.708 Q104.386 534.958 107.441 530.375 Q110.52 525.768 116.33 525.768 Z\" fill=\"#000000\" fill-rule=\"nonzero\" fill-opacity=\"1\" /><path clip-path=\"url(#clip430)\" d=\"M128.275 519.87 L152.386 519.87 L152.386 523.067 L128.275 523.067 L128.275 519.87 Z\" fill=\"#000000\" fill-rule=\"nonzero\" fill-opacity=\"1\" /><path clip-path=\"url(#clip430)\" d=\"M160.624 505.463 L175.539 505.463 L175.539 508.66 L164.103 508.66 L164.103 515.544 Q164.931 515.262 165.759 515.13 Q166.586 514.98 167.414 514.98 Q172.116 514.98 174.862 517.556 Q177.607 520.133 177.607 524.534 Q177.607 529.067 174.786 531.587 Q171.965 534.088 166.831 534.088 Q165.063 534.088 163.22 533.787 Q161.395 533.486 159.439 532.885 L159.439 529.067 Q161.132 529.988 162.937 530.44 Q164.743 530.891 166.755 530.891 Q170.009 530.891 171.909 529.179 Q173.808 527.468 173.808 524.534 Q173.808 521.6 171.909 519.888 Q170.009 518.177 166.755 518.177 Q165.232 518.177 163.709 518.515 Q162.204 518.854 160.624 519.569 L160.624 505.463 Z\" fill=\"#000000\" fill-rule=\"nonzero\" fill-opacity=\"1\" /><polyline clip-path=\"url(#clip432)\" style=\"stroke:#009af9; stroke-linecap:round; stroke-linejoin:round; stroke-width:4; stroke-opacity:1; fill:none\" points=\"274.149,87.9763 275.159,90.3635 276.168,92.6694 277.178,94.8866 278.188,97.0084 279.197,99.0282 280.207,100.942 281.216,102.745 282.226,104.436 283.235,106.01 284.245,107.47 285.254,108.814 286.264,110.044 287.273,111.164 288.283,112.176 289.292,113.086 290.302,113.897 291.312,114.617 292.321,115.251 293.331,115.807 294.34,116.291 295.35,116.71 296.359,117.071 297.369,117.382 298.378,117.65 299.388,117.881 300.397,118.081 301.407,118.257 302.416,118.414 303.426,118.557 304.436,118.691 305.445,118.82 306.455,118.947 307.464,119.075 308.474,119.208 309.483,119.346 310.493,119.492 311.502,119.648 312.512,119.814 313.521,119.99 314.531,120.178 315.54,120.377 316.55,120.588 317.56,120.81 318.569,121.043 319.579,121.287 320.588,121.541 321.598,121.806 322.607,122.08 323.617,122.363 324.626,122.655 325.636,122.956 326.645,123.265 327.655,123.582 328.664,123.907 329.674,124.239 330.683,124.58 331.693,124.928 332.703,125.284 333.712,125.648 334.722,126.019 335.731,126.399 336.741,126.787 337.75,127.184 338.76,127.589 339.769,128.003 340.779,128.427 341.788,128.859 342.798,129.301 343.807,129.753 344.817,130.214 345.827,130.686 346.836,131.167 347.846,131.659 348.855,132.161 349.865,132.674 350.874,133.198 351.884,133.732 352.893,134.277 353.903,134.833 354.912,135.399 355.922,135.977 356.931,136.565 357.941,137.164 358.951,137.775 359.96,138.396 360.97,139.028 361.979,139.672 362.989,140.326 363.998,140.991 365.008,141.667 366.017,142.354 367.027,143.052 368.036,143.761 369.046,144.481 370.055,145.211 371.065,145.953 372.075,146.706 373.084,147.47 374.094,148.244 375.103,149.029 376.113,149.826 377.122,150.633 378.132,151.451 379.141,152.28 380.151,153.119 381.16,153.97 382.17,154.832 383.179,155.704 384.189,156.587 385.198,157.481 386.208,158.387 387.218,159.302 388.227,160.229 389.237,161.166 390.246,162.115 391.256,163.074 392.265,164.043 393.275,165.024 394.284,166.016 395.294,167.018 396.303,168.031 397.313,169.055 398.322,170.09 399.332,171.135 400.342,172.191 401.351,173.258 402.361,174.336 403.37,175.424 404.38,176.523 405.389,177.634 406.399,178.754 407.408,179.886 408.418,181.028 409.427,182.181 410.437,183.344 411.446,184.518 412.456,185.702 413.466,186.897 414.475,188.103 415.485,189.319 416.494,190.546 417.504,191.783 418.513,193.03 419.523,194.288 420.532,195.556 421.542,196.834 422.551,198.122 423.561,199.42 424.57,200.728 425.58,202.046 426.59,203.374 427.599,204.711 428.609,206.058 429.618,207.415 430.628,208.781 431.637,210.156 432.647,211.54 433.656,212.934 434.666,214.336 435.675,215.746 436.685,217.166 437.694,218.594 438.704,220.03 439.713,221.474 440.723,222.925 441.733,224.386 442.742,225.853 443.752,227.327 444.761,228.809 445.771,230.298 446.78,231.793 447.79,233.295 448.799,234.803 449.809,236.318 450.818,237.837 451.828,239.363 452.837,240.894 453.847,242.43 454.857,243.971 455.866,245.517 456.876,247.067 457.885,248.622 458.895,250.18 459.904,251.741 460.914,253.307 461.923,254.875 462.933,256.446 463.942,258.02 464.952,259.596 465.961,261.174 466.971,262.755 467.981,264.335 468.99,265.919 470,267.503 471.009,269.088 472.019,270.673 473.028,272.259 474.038,273.844 475.047,275.43 476.057,277.014 477.066,278.599 478.076,280.182 479.085,281.764 480.095,283.345 481.105,284.924 482.114,286.501 483.124,288.077 484.133,289.649 485.143,291.219 486.152,292.789 487.162,294.351 488.171,295.913 489.181,297.472 490.19,299.026 491.2,300.578 492.209,302.125 493.219,303.668 494.228,305.207 495.238,306.742 496.248,308.271 497.257,309.797 498.267,311.318 499.276,312.834 500.286,314.345 501.295,315.85 502.305,317.351 503.314,318.844 504.324,320.335 505.333,321.817 506.343,323.296 507.352,324.768 508.362,326.234 509.372,327.695 510.381,329.148 511.391,330.596 512.4,332.039 513.41,333.474 514.419,334.902 515.429,336.325 516.438,337.742 517.448,339.149 518.457,340.554 519.467,341.951 520.476,343.34 521.486,344.723 522.496,346.099 523.505,347.469 524.515,348.832 525.524,350.189 526.534,351.537 527.543,352.88 528.553,354.215 529.562,355.543 530.572,356.866 531.581,358.182 532.591,359.49 533.6,360.793 534.61,362.087 535.62,363.375 536.629,364.654 537.639,365.932 538.648,367.2 539.658,368.46 540.667,369.715 541.677,370.961 542.686,372.201 543.696,373.438 544.705,374.665 545.715,375.884 546.724,377.1 547.734,378.309 548.743,379.509 549.753,380.707 550.763,381.893 551.772,383.076 552.782,384.252 553.791,385.422 554.801,386.586 555.81,387.74 556.82,388.892 557.829,390.036 558.839,391.174 559.848,392.305 560.858,393.431 561.867,394.552 562.877,395.668 563.887,396.776 564.896,397.878 565.906,398.974 566.915,400.065 567.925,401.148 568.934,402.227 569.944,403.298 570.953,404.368 571.963,405.429 572.972,406.486 573.982,407.536 574.991,408.584 576.001,409.624 577.011,410.656 578.02,411.684 579.03,412.707 580.039,413.728 581.049,414.738 582.058,415.748 583.068,416.748 584.077,417.749 585.087,418.738 586.096,419.726 587.106,420.709 588.115,421.682 589.125,422.658 590.135,423.629 591.144,424.588 592.154,425.549 593.163,426.502 594.173,427.45 595.182,428.392 596.192,429.33 597.201,430.264 598.211,431.199 599.22,432.124 600.23,433.044 601.239,433.959 602.249,434.868 603.258,435.775 604.268,436.679 605.278,437.577 606.287,438.473 607.297,439.361 608.306,440.248 609.316,441.132 610.325,442.008 611.335,442.883 612.344,443.749 613.354,444.617 614.363,445.479 615.373,446.339 616.382,447.19 617.392,448.04 618.402,448.884 619.411,449.723 620.421,450.569 621.43,451.401 622.44,452.228 623.449,453.056 624.459,453.882 625.468,454.7 626.478,455.517 627.487,456.325 628.497,457.133 629.506,457.942 630.516,458.744 631.526,459.54 632.535,460.334 633.545,461.127 634.554,461.913 635.564,462.697 636.573,463.481 637.583,464.256 638.592,465.031 639.602,465.802 640.611,466.57 641.621,467.336 642.63,468.096 643.64,468.855 644.65,469.61 645.659,470.36 646.669,471.112 647.678,471.856 648.688,472.599 649.697,473.339 650.707,474.073 651.716,474.806 652.726,475.543 653.735,476.269 654.745,476.992 655.754,477.718 656.764,478.438 657.773,479.15 658.783,479.866 659.793,480.573 660.802,481.284 661.812,481.988 662.821,482.689 663.831,483.39 664.84,484.086 665.85,484.778 666.859,485.468 667.869,486.16 668.878,486.85 669.888,487.531 670.897,488.212 671.907,488.888 672.917,489.565 673.926,490.239 674.936,490.913 675.945,491.58 676.955,492.242 677.964,492.907 678.974,493.572 679.983,494.225 680.993,494.883 682.002,495.537 683.012,496.194 684.021,496.841 685.031,497.487 686.041,498.132 687.05,498.775 688.06,499.41 689.069,500.05 690.079,500.687 691.088,501.313 692.098,501.949 693.107,502.575 694.117,503.204 695.126,503.826 696.136,504.453 697.145,505.071 698.155,505.689 699.165,506.305 700.174,506.919 701.184,507.527 702.193,508.14 703.203,508.743 704.212,509.346 705.222,509.952 706.231,510.554 707.241,511.154 708.25,511.752 709.26,512.341 710.269,512.938 711.279,513.533 712.288,514.118 713.298,514.709 714.308,515.297 715.317,515.873 716.327,516.456 717.336,517.037 718.346,517.618 719.355,518.192 720.365,518.767 721.374,519.339 722.384,519.911 723.393,520.477 724.403,521.044 725.412,521.61 726.422,522.176 727.432,522.737 728.441,523.292 729.451,523.857 730.46,524.412 731.47,524.966 732.479,525.516 733.489,526.066 734.498,526.614 735.508,527.169 736.517,527.711 737.527,528.254 738.536,528.8 739.546,529.343 740.556,529.874 741.565,530.419 742.575,530.955 743.584,531.48 744.594,532.015 745.603,532.553 746.613,533.089 747.622,533.61 748.632,534.138 749.641,534.663 750.651,535.182 751.66,535.717 752.67,536.225 753.68,536.748 754.689,537.262 755.699,537.784 756.708,538.291 757.718,538.815 758.727,539.326 759.737,539.83 760.746,540.34 761.756,540.851 762.765,541.346 763.775,541.859 764.784,542.366 765.794,542.869 766.803,543.363 767.813,543.862 768.823,544.353 769.832,544.855 770.842,545.355 771.851,545.845 772.861,546.339 773.87,546.827 774.88,547.322 775.889,547.805 776.899,548.294 777.908,548.783 778.918,549.263 779.927,549.748 780.937,550.224 781.947,550.707 782.956,551.187 783.966,551.666 784.975,552.141 785.985,552.611 786.994,553.092 788.004,553.558 789.013,554.027 790.023,554.498 791.032,554.972 792.042,555.436 793.051,555.906 794.061,556.37 795.071,556.838 796.08,557.295 797.09,557.76 798.099,558.217 799.109,558.688 800.118,559.135 801.128,559.599 802.137,560.047 803.147,560.507 804.156,560.958 805.166,561.411 806.175,561.871 807.185,562.313 808.195,562.761 809.204,563.213 810.214,563.651 811.223,564.097 812.233,564.544 813.242,564.995 814.252,565.434 815.261,565.874 816.271,566.318 817.28,566.759 818.29,567.193 819.299,567.631 820.309,568.054 821.318,568.5 822.328,568.939 823.338,569.375 824.347,569.801 825.357,570.227 826.366,570.655 827.376,571.081 828.385,571.519 829.395,571.934 830.404,572.367 831.414,572.795 832.423,573.223 833.433,573.65 834.442,574.061 835.452,574.479 836.462,574.901 837.471,575.319 838.481,575.74 839.49,576.156 840.5,576.571 841.509,576.988 842.519,577.408 843.528,577.806 844.538,578.225 845.547,578.631 846.557,579.038 847.566,579.451 848.576,579.861 849.586,580.263 850.595,580.672 851.605,581.076 852.614,581.474 853.624,581.886 854.633,582.287 855.643,582.687 856.652,583.093 857.662,583.5 858.671,583.893 859.681,584.298 860.69,584.687 861.7,585.087 862.71,585.489 863.719,585.877 864.729,586.273 865.738,586.667 866.748,587.059 867.757,587.444 868.767,587.833 869.776,588.24 870.786,588.622 871.795,589.003 872.805,589.399 873.814,589.784 874.824,590.166 875.833,590.543 876.843,590.936 877.853,591.324 878.862,591.702 879.872,592.088 880.881,592.472 881.891,592.835 882.9,593.223 883.91,593.592 884.919,593.975 885.929,594.338 886.938,594.732 887.948,595.1 888.957,595.493 889.967,595.849 890.977,596.229 891.986,596.593 892.996,596.973 894.005,597.337 895.015,597.715 896.024,598.081 897.034,598.448 898.043,598.815 899.053,599.181 900.062,599.539 901.072,599.914 902.081,600.294 903.091,600.651 904.101,601.006 905.11,601.38 906.12,601.735 907.129,602.088 908.139,602.456 909.148,602.81 910.158,603.174 911.167,603.54 912.177,603.888 913.186,604.241 914.196,604.615 915.205,604.96 916.215,605.301 917.225,605.676 918.234,606.017 919.244,606.37 920.253,606.725 921.263,607.072 922.272,607.431 923.282,607.778 924.291,608.124 925.301,608.468 926.31,608.815 927.32,609.171 928.329,609.506 929.339,609.86 930.348,610.21 931.358,610.551 932.368,610.893 933.377,611.232 934.387,611.592 935.396,611.922 936.406,612.288 937.415,612.61 938.425,612.934 939.434,613.292 940.444,613.623 941.453,613.952 942.463,614.31 943.472,614.632 944.482,614.98 945.492,615.303 946.501,615.638 947.511,615.986 948.52,616.313 949.53,616.658 950.539,616.984 951.549,617.308 952.558,617.636 953.568,617.973 954.577,618.309 955.587,618.639 956.596,618.966 957.606,619.301 958.616,619.611 959.625,619.947 960.635,620.284 961.644,620.609 962.654,620.93 963.663,621.247 964.673,621.573 965.682,621.891 966.692,622.231 967.701,622.55 968.711,622.875 969.72,623.192 970.73,623.509 971.74,623.843 972.749,624.152 973.759,624.476 974.768,624.796 975.778,625.12 976.787,625.421 977.797,625.766 978.806,626.052 979.816,626.391 980.825,626.7 981.835,627.002 982.844,627.346 983.854,627.64 984.863,627.945 985.873,628.254 986.883,628.571 987.892,628.898 988.902,629.195 989.911,629.516 990.921,629.818 991.93,630.126 992.94,630.432 993.949,630.743 994.959,631.038 995.968,631.363 996.978,631.66 997.987,631.992 998.997,632.292 1000.01,632.584 1001.02,632.892 1002.03,633.207 1003.04,633.51 1004.04,633.801 1005.05,634.109 1006.06,634.416 1007.07,634.721 1008.08,635.023 1009.09,635.324 1010.1,635.629 1011.11,635.921 1012.12,636.21 1013.13,636.517 1014.14,636.818 1015.15,637.106 1016.16,637.414 1017.17,637.717 1018.18,638 1019.19,638.297 1020.2,638.601 1021.21,638.893 1022.22,639.205 1023.23,639.474 1024.24,639.769 1025.24,640.058 1026.25,640.371 1027.26,640.666 1028.27,640.953 1029.28,641.23 1030.29,641.541 1031.3,641.816 1032.31,642.113 1033.32,642.415 1034.33,642.678 1035.34,642.973 1036.35,643.272 1037.36,643.552 1038.37,643.853 1039.38,644.147 1040.39,644.418 1041.4,644.709 1042.41,644.997 1043.42,645.255 1044.43,645.575 1045.44,645.844 1046.45,646.12 1047.45,646.425 1048.46,646.699 1049.47,646.984 1050.48,647.263 1051.49,647.545 1052.5,647.828 1053.51,648.117 1054.52,648.392 1055.53,648.671 1056.54,648.942 1057.55,649.237 1058.56,649.508 1059.57,649.78 1060.58,650.077 1061.59,650.351 1062.6,650.618 1063.61,650.883 1064.62,651.181 1065.63,651.457 1066.64,651.72 1067.65,651.996 1068.66,652.266 1069.66,652.545 1070.67,652.828 1071.68,653.096 1072.69,653.376 1073.7,653.637 1074.71,653.924 1075.72,654.207 1076.73,654.468 1077.74,654.733 1078.75,655.018 1079.76,655.252 1080.77,655.547 1081.78,655.824 1082.79,656.094 1083.8,656.348 1084.81,656.615 1085.82,656.891 1086.83,657.162 1087.84,657.415 1088.85,657.698 1089.86,657.967 1090.86,658.223 1091.87,658.491 1092.88,658.76 1093.89,659.028 1094.9,659.286 1095.91,659.553 1096.92,659.809 1097.93,660.082 1098.94,660.339 1099.95,660.602 1100.96,660.86 1101.97,661.12 1102.98,661.371 1103.99,661.663 1105,661.907 1106.01,662.169 1107.02,662.431 1108.03,662.709 1109.04,662.942 1110.05,663.201 1111.06,663.473 1112.07,663.738 1113.07,663.984 1114.08,664.243 1115.09,664.505 1116.1,664.751 1117.11,665.027 1118.12,665.273 1119.13,665.531 1120.14,665.777 1121.15,666.032 1122.16,666.287 1123.17,666.562 1124.18,666.801 1125.19,667.054 1126.2,667.321 1127.21,667.556 1128.22,667.793 1129.23,668.067 1130.24,668.336 1131.25,668.571 1132.26,668.831 1133.27,669.053 1134.27,669.324 1135.28,669.586 1136.29,669.813 1137.3,670.096 1138.31,670.329 1139.32,670.569 1140.33,670.809 1141.34,671.07 1142.35,671.321 1143.36,671.557 1144.37,671.825 1145.38,672.069 1146.39,672.316 1147.4,672.556 1148.41,672.815 1149.42,673.053 1150.43,673.307 1151.44,673.536 1152.45,673.77 1153.46,674.009 1154.47,674.272 1155.48,674.5 1156.48,674.748 1157.49,675.009 1158.5,675.236 1159.51,675.491 1160.52,675.758 1161.53,675.967 1162.54,676.214 1163.55,676.457 1164.56,676.702 1165.57,676.936 1166.58,677.18 1167.59,677.434 1168.6,677.677 1169.61,677.909 1170.62,678.135 1171.63,678.371 1172.64,678.609 1173.65,678.868 1174.66,679.08 1175.67,679.319 1176.68,679.601 1177.69,679.807 1178.69,680.069 1179.7,680.292 1180.71,680.53 1181.72,680.757 1182.73,681.002 1183.74,681.218 1184.75,681.476 1185.76,681.678 1186.77,681.935 1187.78,682.181 1188.79,682.411 1189.8,682.624 1190.81,682.844 1191.82,683.123 1192.83,683.351 1193.84,683.547 1194.85,683.813 1195.86,684.029 1196.87,684.278 1197.88,684.498 1198.89,684.744 1199.89,684.952 1200.9,685.181 1201.91,685.413 1202.92,685.67 1203.93,685.905 1204.94,686.109 1205.95,686.346 1206.96,686.573 1207.97,686.813 1208.98,687.035 1209.99,687.24 1211,687.472 1212.01,687.704 1213.02,687.944 1214.03,688.165 1215.04,688.399 1216.05,688.619 1217.06,688.892 1218.07,689.066 1219.08,689.294 1220.09,689.53 1221.1,689.775 1222.1,690.016 1223.11,690.228 1224.12,690.428 1225.13,690.656 1226.14,690.879 1227.15,691.094 1228.16,691.326 1229.17,691.558 1230.18,691.76 1231.19,692.015 1232.2,692.224 1233.21,692.477 1234.22,692.648 1235.23,692.905 1236.24,693.108 1237.25,693.335 1238.26,693.553 1239.27,693.771 1240.28,693.981 1241.29,694.202 1242.3,694.419 1243.3,694.661 1244.31,694.853 1245.32,695.097 1246.33,695.296 1247.34,695.538 1248.35,695.751 1249.36,695.985 1250.37,696.15 1251.38,696.382 1252.39,696.619 1253.4,696.844 1254.41,697.045 1255.42,697.256 1256.43,697.496 1257.44,697.694 1258.45,697.91 1259.46,698.154 1260.47,698.328 1261.48,698.528 1262.49,698.769 1263.5,699.006 1264.51,699.209 1265.51,699.404 1266.52,699.635 1267.53,699.855 1268.54,700.044 1269.55,700.281 1270.56,700.511 1271.57,700.682 1272.58,700.906 1273.59,701.126 1274.6,701.327 1275.61,701.551 1276.62,701.749 1277.63,701.955 1278.64,702.163 1279.65,702.39 1280.66,702.595 1281.67,702.81 1282.68,703.026 1283.69,703.237 1284.7,709.636 1285.71,716.187 1286.72,722.871 1287.72,729.71 1288.73,736.644 1289.74,743.727 1290.75,750.841 1291.76,758.092 1292.77,765.414 1293.78,772.749 1294.79,780.118 1295.8,787.615 1296.81,795.062 1297.82,802.642 1298.83,810.067 1299.84,817.616 1300.85,824.972 1301.86,832.475 1302.87,839.704 1303.88,846.978 1304.89,854.093 1305.9,861.098 1306.91,868.096 1307.92,874.906 1308.92,881.717 1309.93,888.154 1310.94,894.413 1311.95,900.734 1312.96,906.885 1313.97,912.728 1314.98,918.551 1315.99,924.142 1317,929.581 1318.01,934.711 1319.02,939.888 1320.03,944.849 1321.04,949.751 1322.05,954.308 1323.06,958.763 1324.07,963.058 1325.08,967.051 1326.09,971.486 1327.1,975.619 1328.11,978.927 1329.12,982.521 1330.13,985.875 1331.13,989.333 1332.14,992.794 1333.15,995.683 1334.16,998.727 1335.17,1001.78 1336.18,1004.51 1337.19,1007.12 1338.2,1009.81 1339.21,1012.2 1340.22,1014.73 1341.23,1017.3 1342.24,1019.6 1343.25,1021.73 1344.26,1023.58 1345.27,1026.13 1346.28,1027.66 1347.29,1029.61 1348.3,1032.05 1349.31,1033.99 1350.32,1035.98 1351.33,1037.86 1352.33,1039.13 1353.34,1040.77 1354.35,1042.62 1355.36,1044.11 1356.37,1045.74 1357.38,1047.12 1358.39,1048.99 1359.4,1050.64 1360.41,1051.81 1361.42,1053.33 1362.43,1054.2 1363.44,1056.17 1364.45,1057.45 1365.46,1058.03 1366.47,1059.73 1367.48,1062.09 1368.49,1062.65 1369.5,1063.86 1370.51,1065.2 1371.52,1066.71 1372.53,1067.52 1373.54,1068.96 1374.54,1069.79 1375.55,1071.37 1376.56,1072.66 1377.57,1074.42 1378.58,1074.69 1379.59,1075.58 1380.6,1076.56 1381.61,1078.96 1382.62,1079.7 1383.63,1080.58 1384.64,1082.13 1385.65,1083.25 1386.66,1083.21 1387.67,1084.27 1388.68,1086.46 1389.69,1087.12 1390.7,1087.81 1391.71,1089.73 1392.72,1090.61 1393.73,1091.61 1394.74,1092.44 1395.75,1093.41 1396.75,1094.22 1397.76,1095.68 1398.77,1096.75 1399.78,1096.76 1400.79,1098.18 1401.8,1099.8 1402.81,1100.33 1403.82,1100.52 1404.83,1100.89 1405.84,1102.52 1406.85,1104.24 1407.86,1105.7 1408.87,1106.46 1409.88,1107.66 1410.89,1109.16 1411.9,1110.12 1412.91,1109.94 1413.92,1110.7 1414.93,1111.2 1415.94,1113.04 1416.95,1113.55 1417.95,1115.14 1418.96,1115.28 1419.97,1116.55 1420.98,1117.3 1421.99,1117.9 1423,1118.02 1424.01,1120.07 1425.02,1121.38 1426.03,1122.44 1427.04,1122.11 1428.05,1122.69 1429.06,1123.67 1430.07,1124.37 1431.08,1124.83 1432.09,1126.56 1433.1,1127.45 1434.11,1129.87 1435.12,1130.05 1436.13,1129.65 1437.14,1130.58 1438.15,1131.7 1439.16,1132.71 1440.16,1133.06 1441.17,1135.29 1442.18,1135.86 1443.19,1136.57 1444.2,1137 1445.21,1138.9 1446.22,1139.37 1447.23,1140.01 1448.24,1140.22 1449.25,1141.55 1450.26,1142.13 1451.27,1141.98 1452.28,1143.59 1453.29,1144.57 1454.3,1146.07 1455.31,1144.78 1456.32,1145.9 1457.33,1147.52 1458.34,1148.28 1459.35,1148.97 1460.36,1148.7 1461.36,1150.53 1462.37,1150.63 1463.38,1152.56 1464.39,1150.48 1465.4,1153.53 1466.41,1154.28 1467.42,1154.25 1468.43,1156.49 1469.44,1155.01 1470.45,1156.5 1471.46,1158.01 1472.47,1158 1473.48,1158.65 1474.49,1159.72 1475.5,1161.02 1476.51,1161.38 1477.52,1162.21 1478.53,1161.38 1479.54,1163.53 1480.55,1163.12 1481.56,1164.94 1482.57,1166.15 1483.57,1166.73 1484.58,1167.4 1485.59,1167.56 1486.6,1168.24 1487.61,1169.46 1488.62,1172.06 1489.63,1170.79 1490.64,1169.65 1491.65,1172.29 1492.66,1172.77 1493.67,1172.67 1494.68,1173.95 1495.69,1176.77 1496.7,1174.57 1497.71,1175.99 1498.72,1177.17 1499.73,1177.03 1500.74,1176.94 1501.75,1176.81 1502.76,1178.02 1503.77,1178.5 1504.78,1179.08 1505.78,1182.07 1506.79,1181.51 1507.8,1184.26 1508.81,1182.67 1509.82,1183.64 1510.83,1184.05 1511.84,1184.57 1512.85,1184.92 1513.86,1187.04 1514.87,1186.33 1515.88,1187.49 1516.89,1186.86 1517.9,1189.75 1518.91,1188.04 1519.92,1190.3 1520.93,1188.58 1521.94,1190.37 1522.95,1191.63 1523.96,1193.9 1524.97,1194.11 1525.98,1191.57 1526.98,1192.57 1527.99,1195.21 1529,1194.57 1530.01,1197.11 1531.02,1196.91 1532.03,1198.15 1533.04,1196.92 1534.05,1199.61 1535.06,1201.06 1536.07,1199.93 1537.08,1199.96 1538.09,1200.49 1539.1,1200.51 1540.11,1198.35 1541.12,1204.64 1542.13,1201.01 1543.14,1202.34 1544.15,1202.56 1545.16,1204.88 1546.17,1206.78 1547.18,1203.51 1548.19,1204.19 1549.19,1205.88 1550.2,1205.68 1551.21,1207.77 1552.22,1207.68 1553.23,1207.92 1554.24,1209.63 1555.25,1210.55 1556.26,1210.1 1557.27,1210.06 1558.28,1212.38 1559.29,1211.4 1560.3,1211.37 1561.31,1213.34 1562.32,1215 1563.33,1213.2 1564.34,1212.79 1565.35,1215.31 1566.36,1217.38 1567.37,1214.6 1568.38,1217.81 1569.39,1219.79 1570.39,1217.49 1571.4,1217.32 1572.41,1217.47 1573.42,1219.05 1574.43,1220.45 1575.44,1222.18 1576.45,1221.12 1577.46,1220.51 1578.47,1223.51 1579.48,1223.68 1580.49,1223.9 1581.5,1223.88 1582.51,1225.06 1583.52,1221.68 1584.53,1225.74 1585.54,1226.5 1586.55,1224.6 1587.56,1225.86 1588.57,1229.79 1589.58,1228.12 1590.59,1227.88 1591.6,1230.82 1592.6,1227.92 1593.61,1231.75 1594.62,1232.56 1595.63,1231.93 1596.64,1228.82 1597.65,1228.59 1598.66,1231.69 1599.67,1234.44 1600.68,1232.86 1601.69,1236.03 1602.7,1233.76 1603.71,1236.86 1604.72,1234.25 1605.73,1238.29 1606.74,1236.45 1607.75,1236.07 1608.76,1236.45 1609.77,1234.55 1610.78,1235.62 1611.79,1235.71 1612.8,1236.27 1613.81,1239.13 1614.81,1239.76 1615.82,1240.23 1616.83,1238.79 1617.84,1242.04 1618.85,1241.27 1619.86,1239.96 1620.87,1241.47 1621.88,1239.8 1622.89,1241.51 1623.9,1247.4 1624.91,1242.08 1625.92,1245.93 1626.93,1244.96 1627.94,1248.46 1628.95,1247.96 1629.96,1246.14 1630.97,1249.95 1631.98,1250.22 1632.99,1246.69 1634,1247.18 1635.01,1246.07 1636.01,1249.04 1637.02,1250.66 1638.03,1249.39 1639.04,1249.15 1640.05,1253.78 1641.06,1251.76 1642.07,1252.66 1643.08,1251.01 1644.09,1252.04 1645.1,1251.67 1646.11,1253.94 1647.12,1253.83 1648.13,1258.76 1649.14,1255.68 1650.15,1257.75 1651.16,1255.51 1652.17,1252.46 1653.18,1256.34 1654.19,1259.89 1655.2,1256.27 1656.21,1258.1 1657.22,1258.66 1658.22,1256.93 1659.23,1262.04 1660.24,1259.06 1661.25,1258.82 1662.26,1259.28 1663.27,1261.17 1664.28,1261.16 1665.29,1259.32 1666.3,1262.5 1667.31,1262.06 1668.32,1265 1669.33,1261.16 1670.34,1261.64 1671.35,1265.38 1672.36,1267.93 1673.37,1265.35 1674.38,1268.42 1675.39,1265.93 1676.4,1266.66 1677.41,1266.4 1678.42,1267.98 1679.42,1266.87 1680.43,1265.09 1681.44,1267.9 1682.45,1269.95 1683.46,1267.62 1684.47,1269.68 1685.48,1269.77 1686.49,1268.15 1687.5,1272.35 1688.51,1270.82 1689.52,1271.44 1690.53,1273.82 1691.54,1272.03 1692.55,1276.78 1693.56,1276.23 1694.57,1274.32 1695.58,1273.18 1696.59,1271.36 1697.6,1273.41 1698.61,1274.02 1699.62,1276.53 1700.63,1275.55 1701.63,1276.48 1702.64,1276.34 1703.65,1276.74 1704.66,1279.46 1705.67,1281.14 1706.68,1276.54 1707.69,1279.9 1708.7,1278.86 1709.71,1277.97 1710.72,1278.16 1711.73,1277.71 1712.74,1280.55 1713.75,1281.77 1714.76,1283.18 1715.77,1284.02 1716.78,1282.55 1717.79,1282.1 1718.8,1287.2 1719.81,1286.1 1720.82,1282.41 1721.83,1285.2 1722.84,1284.68 1723.84,1285.89 1724.85,1287.87 1725.86,1285.15 1726.87,1285.13 1727.88,1288.65 1728.89,1286.09 1729.9,1286.4 1730.91,1287.64 1731.92,1286.84 1732.93,1289.58 1733.94,1283.72 1734.95,1290.32 1735.96,1284.28 1736.97,1288.89 1737.98,1289.6 1738.99,1287.85 1740,1289.45 1741.01,1295.48 1742.02,1288.8 1743.03,1293.48 1744.04,1292.21 1745.04,1292.46 1746.05,1293.53 1747.06,1294.59 1748.07,1290.6 1749.08,1294.92 1750.09,1295.32 1751.1,1298.7 1752.11,1294.48 1753.12,1292.47 1754.13,1291.28 1755.14,1295.48 1756.15,1296 1757.16,1292.76 1758.17,1296.7 1759.18,1299.72 1760.19,1296.12 1761.2,1299.19 1762.21,1299.56 1763.22,1299.56 1764.23,1303.8 1765.24,1295.17 1766.25,1300.63 1767.25,1297.48 1768.26,1299.76 1769.27,1297.54 1770.28,1299.9 1771.29,1305.5 1772.3,1300.69 1773.31,1305.96 1774.32,1302.01 1775.33,1302.27 1776.34,1301.64 1777.35,1307.49 1778.36,1305.35 1779.37,1306.46 1780.38,1304.32 1781.39,1304.43 1782.4,1305.33 1783.41,1306.91 1784.42,1305.46 1785.43,1303.65 1786.44,1305.14 1787.45,1307.2 1788.45,1303.88 1789.46,1305.68 1790.47,1306.52 1791.48,1302.58 1792.49,1306.96 1793.5,1308.78 1794.51,1309.97 1795.52,1309.79 1796.53,1307.78 1797.54,1306.53 1798.55,1308.01 1799.56,1310.7 1800.57,1312.39 1801.58,1307.23 1802.59,1313.27 1803.6,1310.78 1804.61,1309.38 1805.62,1308.05 1806.63,1315.61 1807.64,1316.73 1808.65,1309.39 1809.66,1313.33 1810.66,1317.88 1811.67,1316.73 1812.68,1324.37 1813.69,1317.34 1814.7,1316.65 1815.71,1321.25 1816.72,1314.19 1817.73,1321.64 1818.74,1310.71 1819.75,1316.13 1820.76,1314.18 1821.77,1312.2 1822.78,1321.33 1823.79,1320.07 1824.8,1318.07 1825.81,1319.58 1826.82,1321.43 1827.83,1315.02 1828.84,1317.34 1829.85,1325.63 1830.86,1320.63 1831.87,1322.96 1832.87,1323.91 1833.88,1317.45 1834.89,1318.35 1835.9,1326.95 1836.91,1325.16 1837.92,1328.31 1838.93,1327.02 1839.94,1326.47 1840.95,1320.69 1841.96,1319.98 1842.97,1327.79 1843.98,1320.58 1844.99,1320.65 1846,1326.37 1847.01,1328.06 1848.02,1327.37 1849.03,1325.07 1850.04,1328.27 1851.05,1328.55 1852.06,1319.72 1853.07,1332.16 1854.07,1328.99 1855.08,1324.42 1856.09,1333.48 1857.1,1326.06 1858.11,1332.38 1859.12,1325.92 1860.13,1336.63 1861.14,1325.24 1862.15,1328.83 1863.16,1332.38 1864.17,1327.12 1865.18,1329.85 1866.19,1329.18 1867.2,1332.39 1868.21,1332.39 1869.22,1328.61 1870.23,1332.53 1871.24,1330.68 1872.25,1330.99 1873.26,1333.24 1874.27,1334.92 1875.28,1331.15 1876.28,1334.47 1877.29,1333.55 1878.3,1334.26 1879.31,1334.38 1880.32,1331.29 1881.33,1331.42 1882.34,1341.62 1883.35,1345.28 1884.36,1342.8 1885.37,1328.57 1886.38,1339.83 1887.39,1337.33 1888.4,1339.82 1889.41,1340.87 1890.42,1339.27 1891.43,1339.32 1892.44,1339.92 1893.45,1340.31 1894.46,1341.68 1895.47,1342.97 1896.48,1333.76 1897.48,1341.28 1898.49,1341.8 1899.5,1346.03 1900.51,1347.46 1901.52,1337.03 1902.53,1345.66 1903.54,1339.07 1904.55,1336.95 1905.56,1343.44 1906.57,1347.35 1907.58,1346.03 1908.59,1351.22 1909.6,1339.09 1910.61,1347.67 1911.62,1346.63 1912.63,1344.58 1913.64,1352.67 1914.65,1344.98 1915.66,1342.43 1916.67,1345.8 1917.68,1344.65 1918.69,1350.04 1919.69,1352.16 1920.7,1342.03 1921.71,1346.88 1922.72,1349.55 1923.73,1346.57 1924.74,1342.55 1925.75,1350.61 1926.76,1338.77 1927.77,1353.15 1928.78,1350.13 1929.79,1346.73 1930.8,1354.39 1931.81,1357.06 1932.82,1354.25 1933.83,1351.42 1934.84,1344.8 1935.85,1353.94 1936.86,1356.33 1937.87,1350.7 1938.88,1357.1 1939.89,1352.48 1940.9,1351.61 1941.9,1354.21 1942.91,1359.91 1943.92,1345.16 1944.93,1346.99 1945.94,1356.46 1946.95,1354.59 1947.96,1350.87 1948.97,1349.15 1949.98,1351.99 1950.99,1354.49 1952,1355.64 1953.01,1349.1 1954.02,1356.18 1955.03,1356.75 1956.04,1359.79 1957.05,1355.75 1958.06,1362.13 1959.07,1352.56 1960.08,1356.85 1961.09,1360.76 1962.1,1354.71 1963.1,1361.65 1964.11,1354.99 1965.12,1359.57 1966.13,1359.69 1967.14,1349.17 1968.15,1360.19 1969.16,1363.87 1970.17,1351.09 1971.18,1357.13 1972.19,1364.79 1973.2,1369.65 1974.21,1364.69 1975.22,1363 1976.23,1362.1 1977.24,1367.31 1978.25,1357.56 1979.26,1366.11 1980.27,1361.95 1981.28,1362.15 1982.29,1355.32 1983.3,1359.49 1984.31,1356.2 1985.31,1363.04 1986.32,1368.94 1987.33,1361.02 1988.34,1370.26 1989.35,1362.76 1990.36,1367.08 1991.37,1363.71 1992.38,1361.25 1993.39,1358.2 1994.4,1371.17 1995.41,1358.47 1996.42,1359.36 1997.43,1369.75 1998.44,1364.06 1999.45,1368.94 2000.46,1363.13 2001.47,1363.72 2002.48,1365.04 2003.49,1365.38 2004.5,1364.42 2005.51,1362.19 2006.51,1368.09 2007.52,1372.04 2008.53,1366.4 2009.54,1373.93 2010.55,1368.48 2011.56,1363.05 2012.57,1376.7 2013.58,1366.87 2014.59,1377.57 2015.6,1368.27 2016.61,1367.24 2017.62,1375.22 2018.63,1371.11 2019.64,1364.46 2020.65,1366.65 2021.66,1368.32 2022.67,1382.91 2023.68,1371.77 2024.69,1364.37 2025.7,1368.02 2026.71,1378.01 2027.72,1371.63 2028.72,1368.09 2029.73,1393.94 2030.74,1367.34 2031.75,1377.16 2032.76,1381.77 2033.77,1380.64 2034.78,1377.4 2035.79,1380.7 2036.8,1379.5 2037.81,1376.89 2038.82,1373.75 2039.83,1372.3 2040.84,1361.62 2041.85,1376.58 2042.86,1386.43 2043.87,1373.28 2044.88,1377.43 2045.89,1383.04 2046.9,1372.95 2047.91,1374.77 2048.92,1382.78 2049.93,1378.74 2050.93,1373.84 2051.94,1383.53 2052.95,1369.83 2053.96,1381.45 2054.97,1381.13 2055.98,1380.55 2056.99,1376.08 2058,1388.69 2059.01,1375.56 2060.02,1385.84 2061.03,1375.69 2062.04,1372.59 2063.05,1384.48 2064.06,1384.84 2065.07,1383.89 2066.08,1383.56 2067.09,1384.02 2068.1,1388.38 2069.11,1389.9 2070.12,1378.61 2071.13,1389.36 2072.13,1394.23 2073.14,1383.08 2074.15,1381.49 2075.16,1388.53 2076.17,1394.21 2077.18,1388.79 2078.19,1381.08 2079.2,1392.26 2080.21,1381.09 2081.22,1393.81 2082.23,1390.23 2083.24,1402.36 2084.25,1390.05 2085.26,1390.49 2086.27,1384.27 2087.28,1389.73 2088.29,1386.49 2089.3,1382.11 2090.31,1381.02 2091.32,1377.89 2092.33,1383.93 2093.34,1390.14 2094.34,1402.52 2095.35,1391.1 2096.36,1399.04 2097.37,1385.79 2098.38,1389.12 2099.39,1381.39 2100.4,1390.12 2101.41,1398.01 2102.42,1382.21 2103.43,1380.59 2104.44,1383.38 2105.45,1385.26 2106.46,1394.82 2107.47,1390.14 2108.48,1386.14 2109.49,1386.53 2110.5,1380.93 2111.51,1401.14 2112.52,1390.41 2113.53,1396.57 2114.54,1391.38 2115.54,1388.83 2116.55,1387.55 2117.56,1392.16 2118.57,1403.93 2119.58,1393.26 2120.59,1402.13 2121.6,1399.23 2122.61,1398.61 2123.62,1388.05 2124.63,1389.06 2125.64,1405.24 2126.65,1397.67 2127.66,1391.77 2128.67,1387.73 2129.68,1387.74 2130.69,1398.55 2131.7,1394.48 2132.71,1385.55 2133.72,1402.57 2134.73,1404.43 2135.74,1407.29 2136.75,1396.29 2137.75,1394.98 2138.76,1388.68 2139.77,1412.63 2140.78,1397.97 2141.79,1398.84 2142.8,1395.36 2143.81,1409.62 2144.82,1398.99 2145.83,1400.51 2146.84,1415.58 2147.85,1400.18 2148.86,1407.43 2149.87,1395.45 2150.88,1404.03 2151.89,1400.28 2152.9,1401.03 2153.91,1393.43 2154.92,1403.6 2155.93,1404.67 2156.94,1407.92 2157.95,1408.91 2158.96,1388.49 2159.96,1398.27 2160.97,1397.44 2161.98,1399.62 2162.99,1404.87 2164,1402.13 2165.01,1394.14 2166.02,1406.29 2167.03,1411.15 2168.04,1406.07 2169.05,1402.44 2170.06,1418.87 2171.07,1406.04 2172.08,1416.67 2173.09,1405.84 2174.1,1392.5 2175.11,1401.72 2176.12,1405.45 2177.13,1405.21 2178.14,1416.82 2179.15,1412.52 2180.16,1404.05 2181.16,1400.12 2182.17,1410 2183.18,1413.45 2184.19,1412.07 2185.2,1400.53 2186.21,1412.49 2187.22,1415.89 2188.23,1418.04 2189.24,1416.14 2190.25,1398.86 2191.26,1427.47 2192.27,1411.68 2193.28,1414.47 2194.29,1403.19 2195.3,1407.66 2196.31,1407.25 2197.32,1418.43 2198.33,1402.14 2199.34,1406.23 2200.35,1399.02 2201.36,1403.9 2202.37,1414.5 2203.37,1403.9 2204.38,1409.38 2205.39,1405.35 2206.4,1409.76 2207.41,1422.37 2208.42,1401.65 2209.43,1409.38 2210.44,1413.83 2211.45,1408.98 2212.46,1402.3 2213.47,1400.71 2214.48,1409.35 2215.49,1419.35 2216.5,1410.98 2217.51,1404.6 2218.52,1412.22 2219.53,1413.25 2220.54,1411.06 2221.55,1422.56 2222.56,1411.7 2223.57,1399.66 2224.57,1417.07 2225.58,1418.22 2226.59,1426.86 2227.6,1406.91 2228.61,1421.39 2229.62,1411.37 2230.63,1415 2231.64,1419.49 2232.65,1409.44 2233.66,1409.7 2234.67,1408.75 2235.68,1413.81 2236.69,1419.04 2237.7,1419.16 2238.71,1418.39 2239.72,1424.84 2240.73,1411.8 2241.74,1428.24 2242.75,1435.95 2243.76,1419.61 2244.77,1424.4 2245.78,1420.55 2246.78,1426.69 2247.79,1425.46 2248.8,1418.35 2249.81,1408.05 2250.82,1412.02 2251.83,1403.24 2252.84,1413.14 2253.85,1436.88 2254.86,1422.79 2255.87,1414.09 2256.88,1414.44 2257.89,1419.97 2258.9,1419.71 2259.91,1410.53 2260.92,1423.06 2261.93,1432.34 2262.94,1428.77 2263.95,1420.41 2264.96,1421.38 2265.97,1445.72 2266.98,1435.35 2267.99,1415.08 2268.99,1442.36 2270,1422.03 2271.01,1428.72 2272.02,1435.17 2273.03,1419.39 2274.04,1410.84 2275.05,1425.07 2276.06,1421.98 2277.07,1427.81 2278.08,1422.27 2279.09,1419.39 2280.1,1425.94 2281.11,1423.31 2282.12,1434.05 2283.13,1426.26 2284.14,1419.96 2285.15,1429.72 2286.16,1424.1 2287.17,1408.67 2288.18,1429.76 2289.19,1425.71 2290.19,1431.58 2291.2,1415.66 2292.21,1427.29 \"/>\n",
       "<path clip-path=\"url(#clip430)\" d=\"M2015.11 198.898 L2281.45 198.898 L2281.45 95.2176 L2015.11 95.2176  Z\" fill=\"#ffffff\" fill-rule=\"evenodd\" fill-opacity=\"1\"/>\n",
       "<polyline clip-path=\"url(#clip430)\" style=\"stroke:#000000; stroke-linecap:round; stroke-linejoin:round; stroke-width:4; stroke-opacity:1; fill:none\" points=\"2015.11,198.898 2281.45,198.898 2281.45,95.2176 2015.11,95.2176 2015.11,198.898 \"/>\n",
       "<polyline clip-path=\"url(#clip430)\" style=\"stroke:#009af9; stroke-linecap:round; stroke-linejoin:round; stroke-width:4; stroke-opacity:1; fill:none\" points=\"2038.87,147.058 2181.48,147.058 \"/>\n",
       "<path clip-path=\"url(#clip430)\" d=\"M2219.09 166.745 Q2217.29 171.375 2215.58 172.787 Q2213.86 174.199 2210.99 174.199 L2207.59 174.199 L2207.59 170.634 L2210.09 170.634 Q2211.85 170.634 2212.82 169.8 Q2213.79 168.967 2214.97 165.865 L2215.74 163.921 L2205.25 138.412 L2209.77 138.412 L2217.87 158.689 L2225.97 138.412 L2230.48 138.412 L2219.09 166.745 Z\" fill=\"#000000\" fill-rule=\"nonzero\" fill-opacity=\"1\" /><path clip-path=\"url(#clip430)\" d=\"M2237.78 160.402 L2245.41 160.402 L2245.41 134.037 L2237.1 135.703 L2237.1 131.444 L2245.37 129.778 L2250.04 129.778 L2250.04 160.402 L2257.68 160.402 L2257.68 164.338 L2237.78 164.338 L2237.78 160.402 Z\" fill=\"#000000\" fill-rule=\"nonzero\" fill-opacity=\"1\" /></svg>\n"
      ],
      "text/html": [
       "<?xml version=\"1.0\" encoding=\"utf-8\"?>\n",
       "<svg xmlns=\"http://www.w3.org/2000/svg\" xmlns:xlink=\"http://www.w3.org/1999/xlink\" width=\"600\" height=\"400\" viewBox=\"0 0 2400 1600\">\n",
       "<defs>\n",
       "  <clipPath id=\"clip480\">\n",
       "    <rect x=\"0\" y=\"0\" width=\"2400\" height=\"1600\"/>\n",
       "  </clipPath>\n",
       "</defs>\n",
       "<path clip-path=\"url(#clip480)\" d=\"M0 1600 L2400 1600 L2400 0 L0 0  Z\" fill=\"#ffffff\" fill-rule=\"evenodd\" fill-opacity=\"1\"/>\n",
       "<defs>\n",
       "  <clipPath id=\"clip481\">\n",
       "    <rect x=\"480\" y=\"0\" width=\"1681\" height=\"1600\"/>\n",
       "  </clipPath>\n",
       "</defs>\n",
       "<path clip-path=\"url(#clip480)\" d=\"M213.607 1486.45 L2352.76 1486.45 L2352.76 47.2441 L213.607 47.2441  Z\" fill=\"#ffffff\" fill-rule=\"evenodd\" fill-opacity=\"1\"/>\n",
       "<defs>\n",
       "  <clipPath id=\"clip482\">\n",
       "    <rect x=\"213\" y=\"47\" width=\"2140\" height=\"1440\"/>\n",
       "  </clipPath>\n",
       "</defs>\n",
       "<polyline clip-path=\"url(#clip482)\" style=\"stroke:#000000; stroke-linecap:round; stroke-linejoin:round; stroke-width:2; stroke-opacity:0.1; fill:none\" points=\"273.14,1486.45 273.14,47.2441 \"/>\n",
       "<polyline clip-path=\"url(#clip482)\" style=\"stroke:#000000; stroke-linecap:round; stroke-linejoin:round; stroke-width:2; stroke-opacity:0.1; fill:none\" points=\"777.908,1486.45 777.908,47.2441 \"/>\n",
       "<polyline clip-path=\"url(#clip482)\" style=\"stroke:#000000; stroke-linecap:round; stroke-linejoin:round; stroke-width:2; stroke-opacity:0.1; fill:none\" points=\"1282.68,1486.45 1282.68,47.2441 \"/>\n",
       "<polyline clip-path=\"url(#clip482)\" style=\"stroke:#000000; stroke-linecap:round; stroke-linejoin:round; stroke-width:2; stroke-opacity:0.1; fill:none\" points=\"1787.45,1486.45 1787.45,47.2441 \"/>\n",
       "<polyline clip-path=\"url(#clip482)\" style=\"stroke:#000000; stroke-linecap:round; stroke-linejoin:round; stroke-width:2; stroke-opacity:0.1; fill:none\" points=\"2292.21,1486.45 2292.21,47.2441 \"/>\n",
       "<polyline clip-path=\"url(#clip480)\" style=\"stroke:#000000; stroke-linecap:round; stroke-linejoin:round; stroke-width:4; stroke-opacity:1; fill:none\" points=\"213.607,1486.45 2352.76,1486.45 \"/>\n",
       "<polyline clip-path=\"url(#clip480)\" style=\"stroke:#000000; stroke-linecap:round; stroke-linejoin:round; stroke-width:4; stroke-opacity:1; fill:none\" points=\"273.14,1486.45 273.14,1467.55 \"/>\n",
       "<polyline clip-path=\"url(#clip480)\" style=\"stroke:#000000; stroke-linecap:round; stroke-linejoin:round; stroke-width:4; stroke-opacity:1; fill:none\" points=\"777.908,1486.45 777.908,1467.55 \"/>\n",
       "<polyline clip-path=\"url(#clip480)\" style=\"stroke:#000000; stroke-linecap:round; stroke-linejoin:round; stroke-width:4; stroke-opacity:1; fill:none\" points=\"1282.68,1486.45 1282.68,1467.55 \"/>\n",
       "<polyline clip-path=\"url(#clip480)\" style=\"stroke:#000000; stroke-linecap:round; stroke-linejoin:round; stroke-width:4; stroke-opacity:1; fill:none\" points=\"1787.45,1486.45 1787.45,1467.55 \"/>\n",
       "<polyline clip-path=\"url(#clip480)\" style=\"stroke:#000000; stroke-linecap:round; stroke-linejoin:round; stroke-width:4; stroke-opacity:1; fill:none\" points=\"2292.21,1486.45 2292.21,1467.55 \"/>\n",
       "<path clip-path=\"url(#clip480)\" d=\"M273.14 1517.37 Q269.529 1517.37 267.7 1520.93 Q265.895 1524.47 265.895 1531.6 Q265.895 1538.71 267.7 1542.27 Q269.529 1545.82 273.14 1545.82 Q276.774 1545.82 278.58 1542.27 Q280.408 1538.71 280.408 1531.6 Q280.408 1524.47 278.58 1520.93 Q276.774 1517.37 273.14 1517.37 M273.14 1513.66 Q278.95 1513.66 282.006 1518.27 Q285.084 1522.85 285.084 1531.6 Q285.084 1540.33 282.006 1544.94 Q278.95 1549.52 273.14 1549.52 Q267.33 1549.52 264.251 1544.94 Q261.195 1540.33 261.195 1531.6 Q261.195 1522.85 264.251 1518.27 Q267.33 1513.66 273.14 1513.66 Z\" fill=\"#000000\" fill-rule=\"nonzero\" fill-opacity=\"1\" /><path clip-path=\"url(#clip480)\" d=\"M737.527 1514.29 L755.883 1514.29 L755.883 1518.22 L741.809 1518.22 L741.809 1526.7 Q742.828 1526.35 743.846 1526.19 Q744.865 1526 745.883 1526 Q751.67 1526 755.05 1529.17 Q758.429 1532.34 758.429 1537.76 Q758.429 1543.34 754.957 1546.44 Q751.485 1549.52 745.166 1549.52 Q742.99 1549.52 740.721 1549.15 Q738.476 1548.78 736.068 1548.04 L736.068 1543.34 Q738.152 1544.47 740.374 1545.03 Q742.596 1545.58 745.073 1545.58 Q749.078 1545.58 751.415 1543.48 Q753.753 1541.37 753.753 1537.76 Q753.753 1534.15 751.415 1532.04 Q749.078 1529.94 745.073 1529.94 Q743.198 1529.94 741.323 1530.35 Q739.471 1530.77 737.527 1531.65 L737.527 1514.29 Z\" fill=\"#000000\" fill-rule=\"nonzero\" fill-opacity=\"1\" /><path clip-path=\"url(#clip480)\" d=\"M777.642 1517.37 Q774.031 1517.37 772.202 1520.93 Q770.397 1524.47 770.397 1531.6 Q770.397 1538.71 772.202 1542.27 Q774.031 1545.82 777.642 1545.82 Q781.276 1545.82 783.082 1542.27 Q784.911 1538.71 784.911 1531.6 Q784.911 1524.47 783.082 1520.93 Q781.276 1517.37 777.642 1517.37 M777.642 1513.66 Q783.452 1513.66 786.508 1518.27 Q789.587 1522.85 789.587 1531.6 Q789.587 1540.33 786.508 1544.94 Q783.452 1549.52 777.642 1549.52 Q771.832 1549.52 768.753 1544.94 Q765.698 1540.33 765.698 1531.6 Q765.698 1522.85 768.753 1518.27 Q771.832 1513.66 777.642 1513.66 Z\" fill=\"#000000\" fill-rule=\"nonzero\" fill-opacity=\"1\" /><path clip-path=\"url(#clip480)\" d=\"M807.804 1517.37 Q804.193 1517.37 802.364 1520.93 Q800.559 1524.47 800.559 1531.6 Q800.559 1538.71 802.364 1542.27 Q804.193 1545.82 807.804 1545.82 Q811.438 1545.82 813.244 1542.27 Q815.073 1538.71 815.073 1531.6 Q815.073 1524.47 813.244 1520.93 Q811.438 1517.37 807.804 1517.37 M807.804 1513.66 Q813.614 1513.66 816.67 1518.27 Q819.748 1522.85 819.748 1531.6 Q819.748 1540.33 816.67 1544.94 Q813.614 1549.52 807.804 1549.52 Q801.994 1549.52 798.915 1544.94 Q795.86 1540.33 795.86 1531.6 Q795.86 1522.85 798.915 1518.27 Q801.994 1513.66 807.804 1513.66 Z\" fill=\"#000000\" fill-rule=\"nonzero\" fill-opacity=\"1\" /><path clip-path=\"url(#clip480)\" d=\"M1227.2 1544.91 L1234.84 1544.91 L1234.84 1518.55 L1226.53 1520.21 L1226.53 1515.95 L1234.8 1514.29 L1239.47 1514.29 L1239.47 1544.91 L1247.11 1544.91 L1247.11 1548.85 L1227.2 1548.85 L1227.2 1544.91 Z\" fill=\"#000000\" fill-rule=\"nonzero\" fill-opacity=\"1\" /><path clip-path=\"url(#clip480)\" d=\"M1266.55 1517.37 Q1262.94 1517.37 1261.11 1520.93 Q1259.31 1524.47 1259.31 1531.6 Q1259.31 1538.71 1261.11 1542.27 Q1262.94 1545.82 1266.55 1545.82 Q1270.19 1545.82 1271.99 1542.27 Q1273.82 1538.71 1273.82 1531.6 Q1273.82 1524.47 1271.99 1520.93 Q1270.19 1517.37 1266.55 1517.37 M1266.55 1513.66 Q1272.36 1513.66 1275.42 1518.27 Q1278.5 1522.85 1278.5 1531.6 Q1278.5 1540.33 1275.42 1544.94 Q1272.36 1549.52 1266.55 1549.52 Q1260.74 1549.52 1257.67 1544.94 Q1254.61 1540.33 1254.61 1531.6 Q1254.61 1522.85 1257.67 1518.27 Q1260.74 1513.66 1266.55 1513.66 Z\" fill=\"#000000\" fill-rule=\"nonzero\" fill-opacity=\"1\" /><path clip-path=\"url(#clip480)\" d=\"M1296.72 1517.37 Q1293.11 1517.37 1291.28 1520.93 Q1289.47 1524.47 1289.47 1531.6 Q1289.47 1538.71 1291.28 1542.27 Q1293.11 1545.82 1296.72 1545.82 Q1300.35 1545.82 1302.16 1542.27 Q1303.98 1538.71 1303.98 1531.6 Q1303.98 1524.47 1302.16 1520.93 Q1300.35 1517.37 1296.72 1517.37 M1296.72 1513.66 Q1302.53 1513.66 1305.58 1518.27 Q1308.66 1522.85 1308.66 1531.6 Q1308.66 1540.33 1305.58 1544.94 Q1302.53 1549.52 1296.72 1549.52 Q1290.91 1549.52 1287.83 1544.94 Q1284.77 1540.33 1284.77 1531.6 Q1284.77 1522.85 1287.83 1518.27 Q1290.91 1513.66 1296.72 1513.66 Z\" fill=\"#000000\" fill-rule=\"nonzero\" fill-opacity=\"1\" /><path clip-path=\"url(#clip480)\" d=\"M1326.88 1517.37 Q1323.27 1517.37 1321.44 1520.93 Q1319.63 1524.47 1319.63 1531.6 Q1319.63 1538.71 1321.44 1542.27 Q1323.27 1545.82 1326.88 1545.82 Q1330.51 1545.82 1332.32 1542.27 Q1334.15 1538.71 1334.15 1531.6 Q1334.15 1524.47 1332.32 1520.93 Q1330.51 1517.37 1326.88 1517.37 M1326.88 1513.66 Q1332.69 1513.66 1335.74 1518.27 Q1338.82 1522.85 1338.82 1531.6 Q1338.82 1540.33 1335.74 1544.94 Q1332.69 1549.52 1326.88 1549.52 Q1321.07 1549.52 1317.99 1544.94 Q1314.93 1540.33 1314.93 1531.6 Q1314.93 1522.85 1317.99 1518.27 Q1321.07 1513.66 1326.88 1513.66 Z\" fill=\"#000000\" fill-rule=\"nonzero\" fill-opacity=\"1\" /><path clip-path=\"url(#clip480)\" d=\"M1731.97 1544.91 L1739.61 1544.91 L1739.61 1518.55 L1731.3 1520.21 L1731.3 1515.95 L1739.56 1514.29 L1744.24 1514.29 L1744.24 1544.91 L1751.88 1544.91 L1751.88 1548.85 L1731.97 1548.85 L1731.97 1544.91 Z\" fill=\"#000000\" fill-rule=\"nonzero\" fill-opacity=\"1\" /><path clip-path=\"url(#clip480)\" d=\"M1761.37 1514.29 L1779.73 1514.29 L1779.73 1518.22 L1765.65 1518.22 L1765.65 1526.7 Q1766.67 1526.35 1767.69 1526.19 Q1768.71 1526 1769.73 1526 Q1775.51 1526 1778.89 1529.17 Q1782.27 1532.34 1782.27 1537.76 Q1782.27 1543.34 1778.8 1546.44 Q1775.33 1549.52 1769.01 1549.52 Q1766.83 1549.52 1764.56 1549.15 Q1762.32 1548.78 1759.91 1548.04 L1759.91 1543.34 Q1761.99 1544.47 1764.22 1545.03 Q1766.44 1545.58 1768.92 1545.58 Q1772.92 1545.58 1775.26 1543.48 Q1777.6 1541.37 1777.6 1537.76 Q1777.6 1534.15 1775.26 1532.04 Q1772.92 1529.94 1768.92 1529.94 Q1767.04 1529.94 1765.17 1530.35 Q1763.31 1530.77 1761.37 1531.65 L1761.37 1514.29 Z\" fill=\"#000000\" fill-rule=\"nonzero\" fill-opacity=\"1\" /><path clip-path=\"url(#clip480)\" d=\"M1801.48 1517.37 Q1797.87 1517.37 1796.04 1520.93 Q1794.24 1524.47 1794.24 1531.6 Q1794.24 1538.71 1796.04 1542.27 Q1797.87 1545.82 1801.48 1545.82 Q1805.12 1545.82 1806.92 1542.27 Q1808.75 1538.71 1808.75 1531.6 Q1808.75 1524.47 1806.92 1520.93 Q1805.12 1517.37 1801.48 1517.37 M1801.48 1513.66 Q1807.29 1513.66 1810.35 1518.27 Q1813.43 1522.85 1813.43 1531.6 Q1813.43 1540.33 1810.35 1544.94 Q1807.29 1549.52 1801.48 1549.52 Q1795.67 1549.52 1792.6 1544.94 Q1789.54 1540.33 1789.54 1531.6 Q1789.54 1522.85 1792.6 1518.27 Q1795.67 1513.66 1801.48 1513.66 Z\" fill=\"#000000\" fill-rule=\"nonzero\" fill-opacity=\"1\" /><path clip-path=\"url(#clip480)\" d=\"M1831.65 1517.37 Q1828.04 1517.37 1826.21 1520.93 Q1824.4 1524.47 1824.4 1531.6 Q1824.4 1538.71 1826.21 1542.27 Q1828.04 1545.82 1831.65 1545.82 Q1835.28 1545.82 1837.09 1542.27 Q1838.92 1538.71 1838.92 1531.6 Q1838.92 1524.47 1837.09 1520.93 Q1835.28 1517.37 1831.65 1517.37 M1831.65 1513.66 Q1837.46 1513.66 1840.51 1518.27 Q1843.59 1522.85 1843.59 1531.6 Q1843.59 1540.33 1840.51 1544.94 Q1837.46 1549.52 1831.65 1549.52 Q1825.84 1549.52 1822.76 1544.94 Q1819.7 1540.33 1819.7 1531.6 Q1819.7 1522.85 1822.76 1518.27 Q1825.84 1513.66 1831.65 1513.66 Z\" fill=\"#000000\" fill-rule=\"nonzero\" fill-opacity=\"1\" /><path clip-path=\"url(#clip480)\" d=\"M2240.83 1544.91 L2257.14 1544.91 L2257.14 1548.85 L2235.2 1548.85 L2235.2 1544.91 Q2237.86 1542.16 2242.45 1537.53 Q2247.05 1532.88 2248.23 1531.53 Q2250.48 1529.01 2251.36 1527.27 Q2252.26 1525.51 2252.26 1523.82 Q2252.26 1521.07 2250.32 1519.33 Q2248.39 1517.6 2245.29 1517.6 Q2243.09 1517.6 2240.64 1518.36 Q2238.21 1519.13 2235.43 1520.68 L2235.43 1515.95 Q2238.26 1514.82 2240.71 1514.24 Q2243.16 1513.66 2245.2 1513.66 Q2250.57 1513.66 2253.77 1516.35 Q2256.96 1519.03 2256.96 1523.52 Q2256.96 1525.65 2256.15 1527.57 Q2255.36 1529.47 2253.26 1532.07 Q2252.68 1532.74 2249.58 1535.95 Q2246.47 1539.15 2240.83 1544.91 Z\" fill=\"#000000\" fill-rule=\"nonzero\" fill-opacity=\"1\" /><path clip-path=\"url(#clip480)\" d=\"M2276.96 1517.37 Q2273.35 1517.37 2271.52 1520.93 Q2269.71 1524.47 2269.71 1531.6 Q2269.71 1538.71 2271.52 1542.27 Q2273.35 1545.82 2276.96 1545.82 Q2280.59 1545.82 2282.4 1542.27 Q2284.23 1538.71 2284.23 1531.6 Q2284.23 1524.47 2282.4 1520.93 Q2280.59 1517.37 2276.96 1517.37 M2276.96 1513.66 Q2282.77 1513.66 2285.83 1518.27 Q2288.9 1522.85 2288.9 1531.6 Q2288.9 1540.33 2285.83 1544.94 Q2282.77 1549.52 2276.96 1549.52 Q2271.15 1549.52 2268.07 1544.94 Q2265.02 1540.33 2265.02 1531.6 Q2265.02 1522.85 2268.07 1518.27 Q2271.15 1513.66 2276.96 1513.66 Z\" fill=\"#000000\" fill-rule=\"nonzero\" fill-opacity=\"1\" /><path clip-path=\"url(#clip480)\" d=\"M2307.12 1517.37 Q2303.51 1517.37 2301.68 1520.93 Q2299.88 1524.47 2299.88 1531.6 Q2299.88 1538.71 2301.68 1542.27 Q2303.51 1545.82 2307.12 1545.82 Q2310.76 1545.82 2312.56 1542.27 Q2314.39 1538.71 2314.39 1531.6 Q2314.39 1524.47 2312.56 1520.93 Q2310.76 1517.37 2307.12 1517.37 M2307.12 1513.66 Q2312.93 1513.66 2315.99 1518.27 Q2319.07 1522.85 2319.07 1531.6 Q2319.07 1540.33 2315.99 1544.94 Q2312.93 1549.52 2307.12 1549.52 Q2301.31 1549.52 2298.23 1544.94 Q2295.18 1540.33 2295.18 1531.6 Q2295.18 1522.85 2298.23 1518.27 Q2301.31 1513.66 2307.12 1513.66 Z\" fill=\"#000000\" fill-rule=\"nonzero\" fill-opacity=\"1\" /><path clip-path=\"url(#clip480)\" d=\"M2337.28 1517.37 Q2333.67 1517.37 2331.84 1520.93 Q2330.04 1524.47 2330.04 1531.6 Q2330.04 1538.71 2331.84 1542.27 Q2333.67 1545.82 2337.28 1545.82 Q2340.92 1545.82 2342.72 1542.27 Q2344.55 1538.71 2344.55 1531.6 Q2344.55 1524.47 2342.72 1520.93 Q2340.92 1517.37 2337.28 1517.37 M2337.28 1513.66 Q2343.09 1513.66 2346.15 1518.27 Q2349.23 1522.85 2349.23 1531.6 Q2349.23 1540.33 2346.15 1544.94 Q2343.09 1549.52 2337.28 1549.52 Q2331.47 1549.52 2328.39 1544.94 Q2325.34 1540.33 2325.34 1531.6 Q2325.34 1522.85 2328.39 1518.27 Q2331.47 1513.66 2337.28 1513.66 Z\" fill=\"#000000\" fill-rule=\"nonzero\" fill-opacity=\"1\" /><polyline clip-path=\"url(#clip482)\" style=\"stroke:#000000; stroke-linecap:round; stroke-linejoin:round; stroke-width:2; stroke-opacity:0.1; fill:none\" points=\"213.607,1204.24 2352.76,1204.24 \"/>\n",
       "<polyline clip-path=\"url(#clip482)\" style=\"stroke:#000000; stroke-linecap:round; stroke-linejoin:round; stroke-width:2; stroke-opacity:0.1; fill:none\" points=\"213.607,537.226 2352.76,537.226 \"/>\n",
       "<polyline clip-path=\"url(#clip480)\" style=\"stroke:#000000; stroke-linecap:round; stroke-linejoin:round; stroke-width:4; stroke-opacity:1; fill:none\" points=\"213.607,1486.45 213.607,47.2441 \"/>\n",
       "<polyline clip-path=\"url(#clip480)\" style=\"stroke:#000000; stroke-linecap:round; stroke-linejoin:round; stroke-width:4; stroke-opacity:1; fill:none\" points=\"213.607,1204.24 232.505,1204.24 \"/>\n",
       "<polyline clip-path=\"url(#clip480)\" style=\"stroke:#000000; stroke-linecap:round; stroke-linejoin:round; stroke-width:4; stroke-opacity:1; fill:none\" points=\"213.607,537.226 232.505,537.226 \"/>\n",
       "<path clip-path=\"url(#clip480)\" d=\"M51.6634 1224.04 L59.3023 1224.04 L59.3023 1197.67 L50.9921 1199.34 L50.9921 1195.08 L59.256 1193.41 L63.9319 1193.41 L63.9319 1224.04 L71.5707 1224.04 L71.5707 1227.97 L51.6634 1227.97 L51.6634 1224.04 Z\" fill=\"#000000\" fill-rule=\"nonzero\" fill-opacity=\"1\" /><path clip-path=\"url(#clip480)\" d=\"M91.0151 1196.49 Q87.404 1196.49 85.5753 1200.05 Q83.7697 1203.6 83.7697 1210.73 Q83.7697 1217.83 85.5753 1221.4 Q87.404 1224.94 91.0151 1224.94 Q94.6493 1224.94 96.4548 1221.4 Q98.2835 1217.83 98.2835 1210.73 Q98.2835 1203.6 96.4548 1200.05 Q94.6493 1196.49 91.0151 1196.49 M91.0151 1192.79 Q96.8252 1192.79 99.8808 1197.39 Q102.959 1201.98 102.959 1210.73 Q102.959 1219.45 99.8808 1224.06 Q96.8252 1228.64 91.0151 1228.64 Q85.2049 1228.64 82.1262 1224.06 Q79.0707 1219.45 79.0707 1210.73 Q79.0707 1201.98 82.1262 1197.39 Q85.2049 1192.79 91.0151 1192.79 Z\" fill=\"#000000\" fill-rule=\"nonzero\" fill-opacity=\"1\" /><path clip-path=\"url(#clip480)\" d=\"M102.959 1186.89 L127.071 1186.89 L127.071 1190.09 L102.959 1190.09 L102.959 1186.89 Z\" fill=\"#000000\" fill-rule=\"nonzero\" fill-opacity=\"1\" /><path clip-path=\"url(#clip480)\" d=\"M135.929 1197.36 L142.136 1197.36 L142.136 1175.94 L135.384 1177.3 L135.384 1173.84 L142.098 1172.48 L145.898 1172.48 L145.898 1197.36 L152.104 1197.36 L152.104 1200.56 L135.929 1200.56 L135.929 1197.36 Z\" fill=\"#000000\" fill-rule=\"nonzero\" fill-opacity=\"1\" /><path clip-path=\"url(#clip480)\" d=\"M167.903 1174.98 Q164.969 1174.98 163.483 1177.88 Q162.016 1180.76 162.016 1186.55 Q162.016 1192.32 163.483 1195.22 Q164.969 1198.1 167.903 1198.1 Q170.855 1198.1 172.322 1195.22 Q173.808 1192.32 173.808 1186.55 Q173.808 1180.76 172.322 1177.88 Q170.855 1174.98 167.903 1174.98 M167.903 1171.97 Q172.623 1171.97 175.106 1175.72 Q177.607 1179.44 177.607 1186.55 Q177.607 1193.64 175.106 1197.38 Q172.623 1201.11 167.903 1201.11 Q163.182 1201.11 160.68 1197.38 Q158.198 1193.64 158.198 1186.55 Q158.198 1179.44 160.68 1175.72 Q163.182 1171.97 167.903 1171.97 Z\" fill=\"#000000\" fill-rule=\"nonzero\" fill-opacity=\"1\" /><path clip-path=\"url(#clip480)\" d=\"M76.9787 557.018 L84.6175 557.018 L84.6175 530.652 L76.3074 532.319 L76.3074 528.06 L84.5712 526.393 L89.2471 526.393 L89.2471 557.018 L96.886 557.018 L96.886 560.953 L76.9787 560.953 L76.9787 557.018 Z\" fill=\"#000000\" fill-rule=\"nonzero\" fill-opacity=\"1\" /><path clip-path=\"url(#clip480)\" d=\"M116.33 529.472 Q112.719 529.472 110.891 533.037 Q109.085 536.578 109.085 543.708 Q109.085 550.814 110.891 554.379 Q112.719 557.921 116.33 557.921 Q119.965 557.921 121.77 554.379 Q123.599 550.814 123.599 543.708 Q123.599 536.578 121.77 533.037 Q119.965 529.472 116.33 529.472 M116.33 525.768 Q122.14 525.768 125.196 530.375 Q128.275 534.958 128.275 543.708 Q128.275 552.435 125.196 557.041 Q122.14 561.625 116.33 561.625 Q110.52 561.625 107.441 557.041 Q104.386 552.435 104.386 543.708 Q104.386 534.958 107.441 530.375 Q110.52 525.768 116.33 525.768 Z\" fill=\"#000000\" fill-rule=\"nonzero\" fill-opacity=\"1\" /><path clip-path=\"url(#clip480)\" d=\"M128.275 519.87 L152.386 519.87 L152.386 523.067 L128.275 523.067 L128.275 519.87 Z\" fill=\"#000000\" fill-rule=\"nonzero\" fill-opacity=\"1\" /><path clip-path=\"url(#clip480)\" d=\"M160.624 505.463 L175.539 505.463 L175.539 508.66 L164.103 508.66 L164.103 515.544 Q164.931 515.262 165.759 515.13 Q166.586 514.98 167.414 514.98 Q172.116 514.98 174.862 517.556 Q177.607 520.133 177.607 524.534 Q177.607 529.067 174.786 531.587 Q171.965 534.088 166.831 534.088 Q165.063 534.088 163.22 533.787 Q161.395 533.486 159.439 532.885 L159.439 529.067 Q161.132 529.988 162.937 530.44 Q164.743 530.891 166.755 530.891 Q170.009 530.891 171.909 529.179 Q173.808 527.468 173.808 524.534 Q173.808 521.6 171.909 519.888 Q170.009 518.177 166.755 518.177 Q165.232 518.177 163.709 518.515 Q162.204 518.854 160.624 519.569 L160.624 505.463 Z\" fill=\"#000000\" fill-rule=\"nonzero\" fill-opacity=\"1\" /><polyline clip-path=\"url(#clip482)\" style=\"stroke:#009af9; stroke-linecap:round; stroke-linejoin:round; stroke-width:4; stroke-opacity:1; fill:none\" points=\"274.149,87.9763 275.159,90.3635 276.168,92.6694 277.178,94.8866 278.188,97.0084 279.197,99.0282 280.207,100.942 281.216,102.745 282.226,104.436 283.235,106.01 284.245,107.47 285.254,108.814 286.264,110.044 287.273,111.164 288.283,112.176 289.292,113.086 290.302,113.897 291.312,114.617 292.321,115.251 293.331,115.807 294.34,116.291 295.35,116.71 296.359,117.071 297.369,117.382 298.378,117.65 299.388,117.881 300.397,118.081 301.407,118.257 302.416,118.414 303.426,118.557 304.436,118.691 305.445,118.82 306.455,118.947 307.464,119.075 308.474,119.208 309.483,119.346 310.493,119.492 311.502,119.648 312.512,119.814 313.521,119.99 314.531,120.178 315.54,120.377 316.55,120.588 317.56,120.81 318.569,121.043 319.579,121.287 320.588,121.541 321.598,121.806 322.607,122.08 323.617,122.363 324.626,122.655 325.636,122.956 326.645,123.265 327.655,123.582 328.664,123.907 329.674,124.239 330.683,124.58 331.693,124.928 332.703,125.284 333.712,125.648 334.722,126.019 335.731,126.399 336.741,126.787 337.75,127.184 338.76,127.589 339.769,128.003 340.779,128.427 341.788,128.859 342.798,129.301 343.807,129.753 344.817,130.214 345.827,130.686 346.836,131.167 347.846,131.659 348.855,132.161 349.865,132.674 350.874,133.198 351.884,133.732 352.893,134.277 353.903,134.833 354.912,135.399 355.922,135.977 356.931,136.565 357.941,137.164 358.951,137.775 359.96,138.396 360.97,139.028 361.979,139.672 362.989,140.326 363.998,140.991 365.008,141.667 366.017,142.354 367.027,143.052 368.036,143.761 369.046,144.481 370.055,145.211 371.065,145.953 372.075,146.706 373.084,147.47 374.094,148.244 375.103,149.029 376.113,149.826 377.122,150.633 378.132,151.451 379.141,152.28 380.151,153.119 381.16,153.97 382.17,154.832 383.179,155.704 384.189,156.587 385.198,157.481 386.208,158.387 387.218,159.302 388.227,160.229 389.237,161.166 390.246,162.115 391.256,163.074 392.265,164.043 393.275,165.024 394.284,166.016 395.294,167.018 396.303,168.031 397.313,169.055 398.322,170.09 399.332,171.135 400.342,172.191 401.351,173.258 402.361,174.336 403.37,175.424 404.38,176.523 405.389,177.634 406.399,178.754 407.408,179.886 408.418,181.028 409.427,182.181 410.437,183.344 411.446,184.518 412.456,185.702 413.466,186.897 414.475,188.103 415.485,189.319 416.494,190.546 417.504,191.783 418.513,193.03 419.523,194.288 420.532,195.556 421.542,196.834 422.551,198.122 423.561,199.42 424.57,200.728 425.58,202.046 426.59,203.374 427.599,204.711 428.609,206.058 429.618,207.415 430.628,208.781 431.637,210.156 432.647,211.54 433.656,212.934 434.666,214.336 435.675,215.746 436.685,217.166 437.694,218.594 438.704,220.03 439.713,221.474 440.723,222.925 441.733,224.386 442.742,225.853 443.752,227.327 444.761,228.809 445.771,230.298 446.78,231.793 447.79,233.295 448.799,234.803 449.809,236.318 450.818,237.837 451.828,239.363 452.837,240.894 453.847,242.43 454.857,243.971 455.866,245.517 456.876,247.067 457.885,248.622 458.895,250.18 459.904,251.741 460.914,253.307 461.923,254.875 462.933,256.446 463.942,258.02 464.952,259.596 465.961,261.174 466.971,262.755 467.981,264.335 468.99,265.919 470,267.503 471.009,269.088 472.019,270.673 473.028,272.259 474.038,273.844 475.047,275.43 476.057,277.014 477.066,278.599 478.076,280.182 479.085,281.764 480.095,283.345 481.105,284.924 482.114,286.501 483.124,288.077 484.133,289.649 485.143,291.219 486.152,292.789 487.162,294.351 488.171,295.913 489.181,297.472 490.19,299.026 491.2,300.578 492.209,302.125 493.219,303.668 494.228,305.207 495.238,306.742 496.248,308.271 497.257,309.797 498.267,311.318 499.276,312.834 500.286,314.345 501.295,315.85 502.305,317.351 503.314,318.844 504.324,320.335 505.333,321.817 506.343,323.296 507.352,324.768 508.362,326.234 509.372,327.695 510.381,329.148 511.391,330.596 512.4,332.039 513.41,333.474 514.419,334.902 515.429,336.325 516.438,337.742 517.448,339.149 518.457,340.554 519.467,341.951 520.476,343.34 521.486,344.723 522.496,346.099 523.505,347.469 524.515,348.832 525.524,350.189 526.534,351.537 527.543,352.88 528.553,354.215 529.562,355.543 530.572,356.866 531.581,358.182 532.591,359.49 533.6,360.793 534.61,362.087 535.62,363.375 536.629,364.654 537.639,365.932 538.648,367.2 539.658,368.46 540.667,369.715 541.677,370.961 542.686,372.201 543.696,373.438 544.705,374.665 545.715,375.884 546.724,377.1 547.734,378.309 548.743,379.509 549.753,380.707 550.763,381.893 551.772,383.076 552.782,384.252 553.791,385.422 554.801,386.586 555.81,387.74 556.82,388.892 557.829,390.036 558.839,391.174 559.848,392.305 560.858,393.431 561.867,394.552 562.877,395.668 563.887,396.776 564.896,397.878 565.906,398.974 566.915,400.065 567.925,401.148 568.934,402.227 569.944,403.298 570.953,404.368 571.963,405.429 572.972,406.486 573.982,407.536 574.991,408.584 576.001,409.624 577.011,410.656 578.02,411.684 579.03,412.707 580.039,413.728 581.049,414.738 582.058,415.748 583.068,416.748 584.077,417.749 585.087,418.738 586.096,419.726 587.106,420.709 588.115,421.682 589.125,422.658 590.135,423.629 591.144,424.588 592.154,425.549 593.163,426.502 594.173,427.45 595.182,428.392 596.192,429.33 597.201,430.264 598.211,431.199 599.22,432.124 600.23,433.044 601.239,433.959 602.249,434.868 603.258,435.775 604.268,436.679 605.278,437.577 606.287,438.473 607.297,439.361 608.306,440.248 609.316,441.132 610.325,442.008 611.335,442.883 612.344,443.749 613.354,444.617 614.363,445.479 615.373,446.339 616.382,447.19 617.392,448.04 618.402,448.884 619.411,449.723 620.421,450.569 621.43,451.401 622.44,452.228 623.449,453.056 624.459,453.882 625.468,454.7 626.478,455.517 627.487,456.325 628.497,457.133 629.506,457.942 630.516,458.744 631.526,459.54 632.535,460.334 633.545,461.127 634.554,461.913 635.564,462.697 636.573,463.481 637.583,464.256 638.592,465.031 639.602,465.802 640.611,466.57 641.621,467.336 642.63,468.096 643.64,468.855 644.65,469.61 645.659,470.36 646.669,471.112 647.678,471.856 648.688,472.599 649.697,473.339 650.707,474.073 651.716,474.806 652.726,475.543 653.735,476.269 654.745,476.992 655.754,477.718 656.764,478.438 657.773,479.15 658.783,479.866 659.793,480.573 660.802,481.284 661.812,481.988 662.821,482.689 663.831,483.39 664.84,484.086 665.85,484.778 666.859,485.468 667.869,486.16 668.878,486.85 669.888,487.531 670.897,488.212 671.907,488.888 672.917,489.565 673.926,490.239 674.936,490.913 675.945,491.58 676.955,492.242 677.964,492.907 678.974,493.572 679.983,494.225 680.993,494.883 682.002,495.537 683.012,496.194 684.021,496.841 685.031,497.487 686.041,498.132 687.05,498.775 688.06,499.41 689.069,500.05 690.079,500.687 691.088,501.313 692.098,501.949 693.107,502.575 694.117,503.204 695.126,503.826 696.136,504.453 697.145,505.071 698.155,505.689 699.165,506.305 700.174,506.919 701.184,507.527 702.193,508.14 703.203,508.743 704.212,509.346 705.222,509.952 706.231,510.554 707.241,511.154 708.25,511.752 709.26,512.341 710.269,512.938 711.279,513.533 712.288,514.118 713.298,514.709 714.308,515.297 715.317,515.873 716.327,516.456 717.336,517.037 718.346,517.618 719.355,518.192 720.365,518.767 721.374,519.339 722.384,519.911 723.393,520.477 724.403,521.044 725.412,521.61 726.422,522.176 727.432,522.737 728.441,523.292 729.451,523.857 730.46,524.412 731.47,524.966 732.479,525.516 733.489,526.066 734.498,526.614 735.508,527.169 736.517,527.711 737.527,528.254 738.536,528.8 739.546,529.343 740.556,529.874 741.565,530.419 742.575,530.955 743.584,531.48 744.594,532.015 745.603,532.553 746.613,533.089 747.622,533.61 748.632,534.138 749.641,534.663 750.651,535.182 751.66,535.717 752.67,536.225 753.68,536.748 754.689,537.262 755.699,537.784 756.708,538.291 757.718,538.815 758.727,539.326 759.737,539.83 760.746,540.34 761.756,540.851 762.765,541.346 763.775,541.859 764.784,542.366 765.794,542.869 766.803,543.363 767.813,543.862 768.823,544.353 769.832,544.855 770.842,545.355 771.851,545.845 772.861,546.339 773.87,546.827 774.88,547.322 775.889,547.805 776.899,548.294 777.908,548.783 778.918,549.263 779.927,549.748 780.937,550.224 781.947,550.707 782.956,551.187 783.966,551.666 784.975,552.141 785.985,552.611 786.994,553.092 788.004,553.558 789.013,554.027 790.023,554.498 791.032,554.972 792.042,555.436 793.051,555.906 794.061,556.37 795.071,556.838 796.08,557.295 797.09,557.76 798.099,558.217 799.109,558.688 800.118,559.135 801.128,559.599 802.137,560.047 803.147,560.507 804.156,560.958 805.166,561.411 806.175,561.871 807.185,562.313 808.195,562.761 809.204,563.213 810.214,563.651 811.223,564.097 812.233,564.544 813.242,564.995 814.252,565.434 815.261,565.874 816.271,566.318 817.28,566.759 818.29,567.193 819.299,567.631 820.309,568.054 821.318,568.5 822.328,568.939 823.338,569.375 824.347,569.801 825.357,570.227 826.366,570.655 827.376,571.081 828.385,571.519 829.395,571.934 830.404,572.367 831.414,572.795 832.423,573.223 833.433,573.65 834.442,574.061 835.452,574.479 836.462,574.901 837.471,575.319 838.481,575.74 839.49,576.156 840.5,576.571 841.509,576.988 842.519,577.408 843.528,577.806 844.538,578.225 845.547,578.631 846.557,579.038 847.566,579.451 848.576,579.861 849.586,580.263 850.595,580.672 851.605,581.076 852.614,581.474 853.624,581.886 854.633,582.287 855.643,582.687 856.652,583.093 857.662,583.5 858.671,583.893 859.681,584.298 860.69,584.687 861.7,585.087 862.71,585.489 863.719,585.877 864.729,586.273 865.738,586.667 866.748,587.059 867.757,587.444 868.767,587.833 869.776,588.24 870.786,588.622 871.795,589.003 872.805,589.399 873.814,589.784 874.824,590.166 875.833,590.543 876.843,590.936 877.853,591.324 878.862,591.702 879.872,592.088 880.881,592.472 881.891,592.835 882.9,593.223 883.91,593.592 884.919,593.975 885.929,594.338 886.938,594.732 887.948,595.1 888.957,595.493 889.967,595.849 890.977,596.229 891.986,596.593 892.996,596.973 894.005,597.337 895.015,597.715 896.024,598.081 897.034,598.448 898.043,598.815 899.053,599.181 900.062,599.539 901.072,599.914 902.081,600.294 903.091,600.651 904.101,601.006 905.11,601.38 906.12,601.735 907.129,602.088 908.139,602.456 909.148,602.81 910.158,603.174 911.167,603.54 912.177,603.888 913.186,604.241 914.196,604.615 915.205,604.96 916.215,605.301 917.225,605.676 918.234,606.017 919.244,606.37 920.253,606.725 921.263,607.072 922.272,607.431 923.282,607.778 924.291,608.124 925.301,608.468 926.31,608.815 927.32,609.171 928.329,609.506 929.339,609.86 930.348,610.21 931.358,610.551 932.368,610.893 933.377,611.232 934.387,611.592 935.396,611.922 936.406,612.288 937.415,612.61 938.425,612.934 939.434,613.292 940.444,613.623 941.453,613.952 942.463,614.31 943.472,614.632 944.482,614.98 945.492,615.303 946.501,615.638 947.511,615.986 948.52,616.313 949.53,616.658 950.539,616.984 951.549,617.308 952.558,617.636 953.568,617.973 954.577,618.309 955.587,618.639 956.596,618.966 957.606,619.301 958.616,619.611 959.625,619.947 960.635,620.284 961.644,620.609 962.654,620.93 963.663,621.247 964.673,621.573 965.682,621.891 966.692,622.231 967.701,622.55 968.711,622.875 969.72,623.192 970.73,623.509 971.74,623.843 972.749,624.152 973.759,624.476 974.768,624.796 975.778,625.12 976.787,625.421 977.797,625.766 978.806,626.052 979.816,626.391 980.825,626.7 981.835,627.002 982.844,627.346 983.854,627.64 984.863,627.945 985.873,628.254 986.883,628.571 987.892,628.898 988.902,629.195 989.911,629.516 990.921,629.818 991.93,630.126 992.94,630.432 993.949,630.743 994.959,631.038 995.968,631.363 996.978,631.66 997.987,631.992 998.997,632.292 1000.01,632.584 1001.02,632.892 1002.03,633.207 1003.04,633.51 1004.04,633.801 1005.05,634.109 1006.06,634.416 1007.07,634.721 1008.08,635.023 1009.09,635.324 1010.1,635.629 1011.11,635.921 1012.12,636.21 1013.13,636.517 1014.14,636.818 1015.15,637.106 1016.16,637.414 1017.17,637.717 1018.18,638 1019.19,638.297 1020.2,638.601 1021.21,638.893 1022.22,639.205 1023.23,639.474 1024.24,639.769 1025.24,640.058 1026.25,640.371 1027.26,640.666 1028.27,640.953 1029.28,641.23 1030.29,641.541 1031.3,641.816 1032.31,642.113 1033.32,642.415 1034.33,642.678 1035.34,642.973 1036.35,643.272 1037.36,643.552 1038.37,643.853 1039.38,644.147 1040.39,644.418 1041.4,644.709 1042.41,644.997 1043.42,645.255 1044.43,645.575 1045.44,645.844 1046.45,646.12 1047.45,646.425 1048.46,646.699 1049.47,646.984 1050.48,647.263 1051.49,647.545 1052.5,647.828 1053.51,648.117 1054.52,648.392 1055.53,648.671 1056.54,648.942 1057.55,649.237 1058.56,649.508 1059.57,649.78 1060.58,650.077 1061.59,650.351 1062.6,650.618 1063.61,650.883 1064.62,651.181 1065.63,651.457 1066.64,651.72 1067.65,651.996 1068.66,652.266 1069.66,652.545 1070.67,652.828 1071.68,653.096 1072.69,653.376 1073.7,653.637 1074.71,653.924 1075.72,654.207 1076.73,654.468 1077.74,654.733 1078.75,655.018 1079.76,655.252 1080.77,655.547 1081.78,655.824 1082.79,656.094 1083.8,656.348 1084.81,656.615 1085.82,656.891 1086.83,657.162 1087.84,657.415 1088.85,657.698 1089.86,657.967 1090.86,658.223 1091.87,658.491 1092.88,658.76 1093.89,659.028 1094.9,659.286 1095.91,659.553 1096.92,659.809 1097.93,660.082 1098.94,660.339 1099.95,660.602 1100.96,660.86 1101.97,661.12 1102.98,661.371 1103.99,661.663 1105,661.907 1106.01,662.169 1107.02,662.431 1108.03,662.709 1109.04,662.942 1110.05,663.201 1111.06,663.473 1112.07,663.738 1113.07,663.984 1114.08,664.243 1115.09,664.505 1116.1,664.751 1117.11,665.027 1118.12,665.273 1119.13,665.531 1120.14,665.777 1121.15,666.032 1122.16,666.287 1123.17,666.562 1124.18,666.801 1125.19,667.054 1126.2,667.321 1127.21,667.556 1128.22,667.793 1129.23,668.067 1130.24,668.336 1131.25,668.571 1132.26,668.831 1133.27,669.053 1134.27,669.324 1135.28,669.586 1136.29,669.813 1137.3,670.096 1138.31,670.329 1139.32,670.569 1140.33,670.809 1141.34,671.07 1142.35,671.321 1143.36,671.557 1144.37,671.825 1145.38,672.069 1146.39,672.316 1147.4,672.556 1148.41,672.815 1149.42,673.053 1150.43,673.307 1151.44,673.536 1152.45,673.77 1153.46,674.009 1154.47,674.272 1155.48,674.5 1156.48,674.748 1157.49,675.009 1158.5,675.236 1159.51,675.491 1160.52,675.758 1161.53,675.967 1162.54,676.214 1163.55,676.457 1164.56,676.702 1165.57,676.936 1166.58,677.18 1167.59,677.434 1168.6,677.677 1169.61,677.909 1170.62,678.135 1171.63,678.371 1172.64,678.609 1173.65,678.868 1174.66,679.08 1175.67,679.319 1176.68,679.601 1177.69,679.807 1178.69,680.069 1179.7,680.292 1180.71,680.53 1181.72,680.757 1182.73,681.002 1183.74,681.218 1184.75,681.476 1185.76,681.678 1186.77,681.935 1187.78,682.181 1188.79,682.411 1189.8,682.624 1190.81,682.844 1191.82,683.123 1192.83,683.351 1193.84,683.547 1194.85,683.813 1195.86,684.029 1196.87,684.278 1197.88,684.498 1198.89,684.744 1199.89,684.952 1200.9,685.181 1201.91,685.413 1202.92,685.67 1203.93,685.905 1204.94,686.109 1205.95,686.346 1206.96,686.573 1207.97,686.813 1208.98,687.035 1209.99,687.24 1211,687.472 1212.01,687.704 1213.02,687.944 1214.03,688.165 1215.04,688.399 1216.05,688.619 1217.06,688.892 1218.07,689.066 1219.08,689.294 1220.09,689.53 1221.1,689.775 1222.1,690.016 1223.11,690.228 1224.12,690.428 1225.13,690.656 1226.14,690.879 1227.15,691.094 1228.16,691.326 1229.17,691.558 1230.18,691.76 1231.19,692.015 1232.2,692.224 1233.21,692.477 1234.22,692.648 1235.23,692.905 1236.24,693.108 1237.25,693.335 1238.26,693.553 1239.27,693.771 1240.28,693.981 1241.29,694.202 1242.3,694.419 1243.3,694.661 1244.31,694.853 1245.32,695.097 1246.33,695.296 1247.34,695.538 1248.35,695.751 1249.36,695.985 1250.37,696.15 1251.38,696.382 1252.39,696.619 1253.4,696.844 1254.41,697.045 1255.42,697.256 1256.43,697.496 1257.44,697.694 1258.45,697.91 1259.46,698.154 1260.47,698.328 1261.48,698.528 1262.49,698.769 1263.5,699.006 1264.51,699.209 1265.51,699.404 1266.52,699.635 1267.53,699.855 1268.54,700.044 1269.55,700.281 1270.56,700.511 1271.57,700.682 1272.58,700.906 1273.59,701.126 1274.6,701.327 1275.61,701.551 1276.62,701.749 1277.63,701.955 1278.64,702.163 1279.65,702.39 1280.66,702.595 1281.67,702.81 1282.68,703.026 1283.69,703.237 1284.7,709.636 1285.71,716.187 1286.72,722.871 1287.72,729.71 1288.73,736.644 1289.74,743.727 1290.75,750.841 1291.76,758.092 1292.77,765.414 1293.78,772.749 1294.79,780.118 1295.8,787.615 1296.81,795.062 1297.82,802.642 1298.83,810.067 1299.84,817.616 1300.85,824.972 1301.86,832.475 1302.87,839.704 1303.88,846.978 1304.89,854.093 1305.9,861.098 1306.91,868.096 1307.92,874.906 1308.92,881.717 1309.93,888.154 1310.94,894.413 1311.95,900.734 1312.96,906.885 1313.97,912.728 1314.98,918.551 1315.99,924.142 1317,929.581 1318.01,934.711 1319.02,939.888 1320.03,944.849 1321.04,949.751 1322.05,954.308 1323.06,958.763 1324.07,963.058 1325.08,967.051 1326.09,971.486 1327.1,975.619 1328.11,978.927 1329.12,982.521 1330.13,985.875 1331.13,989.333 1332.14,992.794 1333.15,995.683 1334.16,998.727 1335.17,1001.78 1336.18,1004.51 1337.19,1007.12 1338.2,1009.81 1339.21,1012.2 1340.22,1014.73 1341.23,1017.3 1342.24,1019.6 1343.25,1021.73 1344.26,1023.58 1345.27,1026.13 1346.28,1027.66 1347.29,1029.61 1348.3,1032.05 1349.31,1033.99 1350.32,1035.98 1351.33,1037.86 1352.33,1039.13 1353.34,1040.77 1354.35,1042.62 1355.36,1044.11 1356.37,1045.74 1357.38,1047.12 1358.39,1048.99 1359.4,1050.64 1360.41,1051.81 1361.42,1053.33 1362.43,1054.2 1363.44,1056.17 1364.45,1057.45 1365.46,1058.03 1366.47,1059.73 1367.48,1062.09 1368.49,1062.65 1369.5,1063.86 1370.51,1065.2 1371.52,1066.71 1372.53,1067.52 1373.54,1068.96 1374.54,1069.79 1375.55,1071.37 1376.56,1072.66 1377.57,1074.42 1378.58,1074.69 1379.59,1075.58 1380.6,1076.56 1381.61,1078.96 1382.62,1079.7 1383.63,1080.58 1384.64,1082.13 1385.65,1083.25 1386.66,1083.21 1387.67,1084.27 1388.68,1086.46 1389.69,1087.12 1390.7,1087.81 1391.71,1089.73 1392.72,1090.61 1393.73,1091.61 1394.74,1092.44 1395.75,1093.41 1396.75,1094.22 1397.76,1095.68 1398.77,1096.75 1399.78,1096.76 1400.79,1098.18 1401.8,1099.8 1402.81,1100.33 1403.82,1100.52 1404.83,1100.89 1405.84,1102.52 1406.85,1104.24 1407.86,1105.7 1408.87,1106.46 1409.88,1107.66 1410.89,1109.16 1411.9,1110.12 1412.91,1109.94 1413.92,1110.7 1414.93,1111.2 1415.94,1113.04 1416.95,1113.55 1417.95,1115.14 1418.96,1115.28 1419.97,1116.55 1420.98,1117.3 1421.99,1117.9 1423,1118.02 1424.01,1120.07 1425.02,1121.38 1426.03,1122.44 1427.04,1122.11 1428.05,1122.69 1429.06,1123.67 1430.07,1124.37 1431.08,1124.83 1432.09,1126.56 1433.1,1127.45 1434.11,1129.87 1435.12,1130.05 1436.13,1129.65 1437.14,1130.58 1438.15,1131.7 1439.16,1132.71 1440.16,1133.06 1441.17,1135.29 1442.18,1135.86 1443.19,1136.57 1444.2,1137 1445.21,1138.9 1446.22,1139.37 1447.23,1140.01 1448.24,1140.22 1449.25,1141.55 1450.26,1142.13 1451.27,1141.98 1452.28,1143.59 1453.29,1144.57 1454.3,1146.07 1455.31,1144.78 1456.32,1145.9 1457.33,1147.52 1458.34,1148.28 1459.35,1148.97 1460.36,1148.7 1461.36,1150.53 1462.37,1150.63 1463.38,1152.56 1464.39,1150.48 1465.4,1153.53 1466.41,1154.28 1467.42,1154.25 1468.43,1156.49 1469.44,1155.01 1470.45,1156.5 1471.46,1158.01 1472.47,1158 1473.48,1158.65 1474.49,1159.72 1475.5,1161.02 1476.51,1161.38 1477.52,1162.21 1478.53,1161.38 1479.54,1163.53 1480.55,1163.12 1481.56,1164.94 1482.57,1166.15 1483.57,1166.73 1484.58,1167.4 1485.59,1167.56 1486.6,1168.24 1487.61,1169.46 1488.62,1172.06 1489.63,1170.79 1490.64,1169.65 1491.65,1172.29 1492.66,1172.77 1493.67,1172.67 1494.68,1173.95 1495.69,1176.77 1496.7,1174.57 1497.71,1175.99 1498.72,1177.17 1499.73,1177.03 1500.74,1176.94 1501.75,1176.81 1502.76,1178.02 1503.77,1178.5 1504.78,1179.08 1505.78,1182.07 1506.79,1181.51 1507.8,1184.26 1508.81,1182.67 1509.82,1183.64 1510.83,1184.05 1511.84,1184.57 1512.85,1184.92 1513.86,1187.04 1514.87,1186.33 1515.88,1187.49 1516.89,1186.86 1517.9,1189.75 1518.91,1188.04 1519.92,1190.3 1520.93,1188.58 1521.94,1190.37 1522.95,1191.63 1523.96,1193.9 1524.97,1194.11 1525.98,1191.57 1526.98,1192.57 1527.99,1195.21 1529,1194.57 1530.01,1197.11 1531.02,1196.91 1532.03,1198.15 1533.04,1196.92 1534.05,1199.61 1535.06,1201.06 1536.07,1199.93 1537.08,1199.96 1538.09,1200.49 1539.1,1200.51 1540.11,1198.35 1541.12,1204.64 1542.13,1201.01 1543.14,1202.34 1544.15,1202.56 1545.16,1204.88 1546.17,1206.78 1547.18,1203.51 1548.19,1204.19 1549.19,1205.88 1550.2,1205.68 1551.21,1207.77 1552.22,1207.68 1553.23,1207.92 1554.24,1209.63 1555.25,1210.55 1556.26,1210.1 1557.27,1210.06 1558.28,1212.38 1559.29,1211.4 1560.3,1211.37 1561.31,1213.34 1562.32,1215 1563.33,1213.2 1564.34,1212.79 1565.35,1215.31 1566.36,1217.38 1567.37,1214.6 1568.38,1217.81 1569.39,1219.79 1570.39,1217.49 1571.4,1217.32 1572.41,1217.47 1573.42,1219.05 1574.43,1220.45 1575.44,1222.18 1576.45,1221.12 1577.46,1220.51 1578.47,1223.51 1579.48,1223.68 1580.49,1223.9 1581.5,1223.88 1582.51,1225.06 1583.52,1221.68 1584.53,1225.74 1585.54,1226.5 1586.55,1224.6 1587.56,1225.86 1588.57,1229.79 1589.58,1228.12 1590.59,1227.88 1591.6,1230.82 1592.6,1227.92 1593.61,1231.75 1594.62,1232.56 1595.63,1231.93 1596.64,1228.82 1597.65,1228.59 1598.66,1231.69 1599.67,1234.44 1600.68,1232.86 1601.69,1236.03 1602.7,1233.76 1603.71,1236.86 1604.72,1234.25 1605.73,1238.29 1606.74,1236.45 1607.75,1236.07 1608.76,1236.45 1609.77,1234.55 1610.78,1235.62 1611.79,1235.71 1612.8,1236.27 1613.81,1239.13 1614.81,1239.76 1615.82,1240.23 1616.83,1238.79 1617.84,1242.04 1618.85,1241.27 1619.86,1239.96 1620.87,1241.47 1621.88,1239.8 1622.89,1241.51 1623.9,1247.4 1624.91,1242.08 1625.92,1245.93 1626.93,1244.96 1627.94,1248.46 1628.95,1247.96 1629.96,1246.14 1630.97,1249.95 1631.98,1250.22 1632.99,1246.69 1634,1247.18 1635.01,1246.07 1636.01,1249.04 1637.02,1250.66 1638.03,1249.39 1639.04,1249.15 1640.05,1253.78 1641.06,1251.76 1642.07,1252.66 1643.08,1251.01 1644.09,1252.04 1645.1,1251.67 1646.11,1253.94 1647.12,1253.83 1648.13,1258.76 1649.14,1255.68 1650.15,1257.75 1651.16,1255.51 1652.17,1252.46 1653.18,1256.34 1654.19,1259.89 1655.2,1256.27 1656.21,1258.1 1657.22,1258.66 1658.22,1256.93 1659.23,1262.04 1660.24,1259.06 1661.25,1258.82 1662.26,1259.28 1663.27,1261.17 1664.28,1261.16 1665.29,1259.32 1666.3,1262.5 1667.31,1262.06 1668.32,1265 1669.33,1261.16 1670.34,1261.64 1671.35,1265.38 1672.36,1267.93 1673.37,1265.35 1674.38,1268.42 1675.39,1265.93 1676.4,1266.66 1677.41,1266.4 1678.42,1267.98 1679.42,1266.87 1680.43,1265.09 1681.44,1267.9 1682.45,1269.95 1683.46,1267.62 1684.47,1269.68 1685.48,1269.77 1686.49,1268.15 1687.5,1272.35 1688.51,1270.82 1689.52,1271.44 1690.53,1273.82 1691.54,1272.03 1692.55,1276.78 1693.56,1276.23 1694.57,1274.32 1695.58,1273.18 1696.59,1271.36 1697.6,1273.41 1698.61,1274.02 1699.62,1276.53 1700.63,1275.55 1701.63,1276.48 1702.64,1276.34 1703.65,1276.74 1704.66,1279.46 1705.67,1281.14 1706.68,1276.54 1707.69,1279.9 1708.7,1278.86 1709.71,1277.97 1710.72,1278.16 1711.73,1277.71 1712.74,1280.55 1713.75,1281.77 1714.76,1283.18 1715.77,1284.02 1716.78,1282.55 1717.79,1282.1 1718.8,1287.2 1719.81,1286.1 1720.82,1282.41 1721.83,1285.2 1722.84,1284.68 1723.84,1285.89 1724.85,1287.87 1725.86,1285.15 1726.87,1285.13 1727.88,1288.65 1728.89,1286.09 1729.9,1286.4 1730.91,1287.64 1731.92,1286.84 1732.93,1289.58 1733.94,1283.72 1734.95,1290.32 1735.96,1284.28 1736.97,1288.89 1737.98,1289.6 1738.99,1287.85 1740,1289.45 1741.01,1295.48 1742.02,1288.8 1743.03,1293.48 1744.04,1292.21 1745.04,1292.46 1746.05,1293.53 1747.06,1294.59 1748.07,1290.6 1749.08,1294.92 1750.09,1295.32 1751.1,1298.7 1752.11,1294.48 1753.12,1292.47 1754.13,1291.28 1755.14,1295.48 1756.15,1296 1757.16,1292.76 1758.17,1296.7 1759.18,1299.72 1760.19,1296.12 1761.2,1299.19 1762.21,1299.56 1763.22,1299.56 1764.23,1303.8 1765.24,1295.17 1766.25,1300.63 1767.25,1297.48 1768.26,1299.76 1769.27,1297.54 1770.28,1299.9 1771.29,1305.5 1772.3,1300.69 1773.31,1305.96 1774.32,1302.01 1775.33,1302.27 1776.34,1301.64 1777.35,1307.49 1778.36,1305.35 1779.37,1306.46 1780.38,1304.32 1781.39,1304.43 1782.4,1305.33 1783.41,1306.91 1784.42,1305.46 1785.43,1303.65 1786.44,1305.14 1787.45,1307.2 1788.45,1303.88 1789.46,1305.68 1790.47,1306.52 1791.48,1302.58 1792.49,1306.96 1793.5,1308.78 1794.51,1309.97 1795.52,1309.79 1796.53,1307.78 1797.54,1306.53 1798.55,1308.01 1799.56,1310.7 1800.57,1312.39 1801.58,1307.23 1802.59,1313.27 1803.6,1310.78 1804.61,1309.38 1805.62,1308.05 1806.63,1315.61 1807.64,1316.73 1808.65,1309.39 1809.66,1313.33 1810.66,1317.88 1811.67,1316.73 1812.68,1324.37 1813.69,1317.34 1814.7,1316.65 1815.71,1321.25 1816.72,1314.19 1817.73,1321.64 1818.74,1310.71 1819.75,1316.13 1820.76,1314.18 1821.77,1312.2 1822.78,1321.33 1823.79,1320.07 1824.8,1318.07 1825.81,1319.58 1826.82,1321.43 1827.83,1315.02 1828.84,1317.34 1829.85,1325.63 1830.86,1320.63 1831.87,1322.96 1832.87,1323.91 1833.88,1317.45 1834.89,1318.35 1835.9,1326.95 1836.91,1325.16 1837.92,1328.31 1838.93,1327.02 1839.94,1326.47 1840.95,1320.69 1841.96,1319.98 1842.97,1327.79 1843.98,1320.58 1844.99,1320.65 1846,1326.37 1847.01,1328.06 1848.02,1327.37 1849.03,1325.07 1850.04,1328.27 1851.05,1328.55 1852.06,1319.72 1853.07,1332.16 1854.07,1328.99 1855.08,1324.42 1856.09,1333.48 1857.1,1326.06 1858.11,1332.38 1859.12,1325.92 1860.13,1336.63 1861.14,1325.24 1862.15,1328.83 1863.16,1332.38 1864.17,1327.12 1865.18,1329.85 1866.19,1329.18 1867.2,1332.39 1868.21,1332.39 1869.22,1328.61 1870.23,1332.53 1871.24,1330.68 1872.25,1330.99 1873.26,1333.24 1874.27,1334.92 1875.28,1331.15 1876.28,1334.47 1877.29,1333.55 1878.3,1334.26 1879.31,1334.38 1880.32,1331.29 1881.33,1331.42 1882.34,1341.62 1883.35,1345.28 1884.36,1342.8 1885.37,1328.57 1886.38,1339.83 1887.39,1337.33 1888.4,1339.82 1889.41,1340.87 1890.42,1339.27 1891.43,1339.32 1892.44,1339.92 1893.45,1340.31 1894.46,1341.68 1895.47,1342.97 1896.48,1333.76 1897.48,1341.28 1898.49,1341.8 1899.5,1346.03 1900.51,1347.46 1901.52,1337.03 1902.53,1345.66 1903.54,1339.07 1904.55,1336.95 1905.56,1343.44 1906.57,1347.35 1907.58,1346.03 1908.59,1351.22 1909.6,1339.09 1910.61,1347.67 1911.62,1346.63 1912.63,1344.58 1913.64,1352.67 1914.65,1344.98 1915.66,1342.43 1916.67,1345.8 1917.68,1344.65 1918.69,1350.04 1919.69,1352.16 1920.7,1342.03 1921.71,1346.88 1922.72,1349.55 1923.73,1346.57 1924.74,1342.55 1925.75,1350.61 1926.76,1338.77 1927.77,1353.15 1928.78,1350.13 1929.79,1346.73 1930.8,1354.39 1931.81,1357.06 1932.82,1354.25 1933.83,1351.42 1934.84,1344.8 1935.85,1353.94 1936.86,1356.33 1937.87,1350.7 1938.88,1357.1 1939.89,1352.48 1940.9,1351.61 1941.9,1354.21 1942.91,1359.91 1943.92,1345.16 1944.93,1346.99 1945.94,1356.46 1946.95,1354.59 1947.96,1350.87 1948.97,1349.15 1949.98,1351.99 1950.99,1354.49 1952,1355.64 1953.01,1349.1 1954.02,1356.18 1955.03,1356.75 1956.04,1359.79 1957.05,1355.75 1958.06,1362.13 1959.07,1352.56 1960.08,1356.85 1961.09,1360.76 1962.1,1354.71 1963.1,1361.65 1964.11,1354.99 1965.12,1359.57 1966.13,1359.69 1967.14,1349.17 1968.15,1360.19 1969.16,1363.87 1970.17,1351.09 1971.18,1357.13 1972.19,1364.79 1973.2,1369.65 1974.21,1364.69 1975.22,1363 1976.23,1362.1 1977.24,1367.31 1978.25,1357.56 1979.26,1366.11 1980.27,1361.95 1981.28,1362.15 1982.29,1355.32 1983.3,1359.49 1984.31,1356.2 1985.31,1363.04 1986.32,1368.94 1987.33,1361.02 1988.34,1370.26 1989.35,1362.76 1990.36,1367.08 1991.37,1363.71 1992.38,1361.25 1993.39,1358.2 1994.4,1371.17 1995.41,1358.47 1996.42,1359.36 1997.43,1369.75 1998.44,1364.06 1999.45,1368.94 2000.46,1363.13 2001.47,1363.72 2002.48,1365.04 2003.49,1365.38 2004.5,1364.42 2005.51,1362.19 2006.51,1368.09 2007.52,1372.04 2008.53,1366.4 2009.54,1373.93 2010.55,1368.48 2011.56,1363.05 2012.57,1376.7 2013.58,1366.87 2014.59,1377.57 2015.6,1368.27 2016.61,1367.24 2017.62,1375.22 2018.63,1371.11 2019.64,1364.46 2020.65,1366.65 2021.66,1368.32 2022.67,1382.91 2023.68,1371.77 2024.69,1364.37 2025.7,1368.02 2026.71,1378.01 2027.72,1371.63 2028.72,1368.09 2029.73,1393.94 2030.74,1367.34 2031.75,1377.16 2032.76,1381.77 2033.77,1380.64 2034.78,1377.4 2035.79,1380.7 2036.8,1379.5 2037.81,1376.89 2038.82,1373.75 2039.83,1372.3 2040.84,1361.62 2041.85,1376.58 2042.86,1386.43 2043.87,1373.28 2044.88,1377.43 2045.89,1383.04 2046.9,1372.95 2047.91,1374.77 2048.92,1382.78 2049.93,1378.74 2050.93,1373.84 2051.94,1383.53 2052.95,1369.83 2053.96,1381.45 2054.97,1381.13 2055.98,1380.55 2056.99,1376.08 2058,1388.69 2059.01,1375.56 2060.02,1385.84 2061.03,1375.69 2062.04,1372.59 2063.05,1384.48 2064.06,1384.84 2065.07,1383.89 2066.08,1383.56 2067.09,1384.02 2068.1,1388.38 2069.11,1389.9 2070.12,1378.61 2071.13,1389.36 2072.13,1394.23 2073.14,1383.08 2074.15,1381.49 2075.16,1388.53 2076.17,1394.21 2077.18,1388.79 2078.19,1381.08 2079.2,1392.26 2080.21,1381.09 2081.22,1393.81 2082.23,1390.23 2083.24,1402.36 2084.25,1390.05 2085.26,1390.49 2086.27,1384.27 2087.28,1389.73 2088.29,1386.49 2089.3,1382.11 2090.31,1381.02 2091.32,1377.89 2092.33,1383.93 2093.34,1390.14 2094.34,1402.52 2095.35,1391.1 2096.36,1399.04 2097.37,1385.79 2098.38,1389.12 2099.39,1381.39 2100.4,1390.12 2101.41,1398.01 2102.42,1382.21 2103.43,1380.59 2104.44,1383.38 2105.45,1385.26 2106.46,1394.82 2107.47,1390.14 2108.48,1386.14 2109.49,1386.53 2110.5,1380.93 2111.51,1401.14 2112.52,1390.41 2113.53,1396.57 2114.54,1391.38 2115.54,1388.83 2116.55,1387.55 2117.56,1392.16 2118.57,1403.93 2119.58,1393.26 2120.59,1402.13 2121.6,1399.23 2122.61,1398.61 2123.62,1388.05 2124.63,1389.06 2125.64,1405.24 2126.65,1397.67 2127.66,1391.77 2128.67,1387.73 2129.68,1387.74 2130.69,1398.55 2131.7,1394.48 2132.71,1385.55 2133.72,1402.57 2134.73,1404.43 2135.74,1407.29 2136.75,1396.29 2137.75,1394.98 2138.76,1388.68 2139.77,1412.63 2140.78,1397.97 2141.79,1398.84 2142.8,1395.36 2143.81,1409.62 2144.82,1398.99 2145.83,1400.51 2146.84,1415.58 2147.85,1400.18 2148.86,1407.43 2149.87,1395.45 2150.88,1404.03 2151.89,1400.28 2152.9,1401.03 2153.91,1393.43 2154.92,1403.6 2155.93,1404.67 2156.94,1407.92 2157.95,1408.91 2158.96,1388.49 2159.96,1398.27 2160.97,1397.44 2161.98,1399.62 2162.99,1404.87 2164,1402.13 2165.01,1394.14 2166.02,1406.29 2167.03,1411.15 2168.04,1406.07 2169.05,1402.44 2170.06,1418.87 2171.07,1406.04 2172.08,1416.67 2173.09,1405.84 2174.1,1392.5 2175.11,1401.72 2176.12,1405.45 2177.13,1405.21 2178.14,1416.82 2179.15,1412.52 2180.16,1404.05 2181.16,1400.12 2182.17,1410 2183.18,1413.45 2184.19,1412.07 2185.2,1400.53 2186.21,1412.49 2187.22,1415.89 2188.23,1418.04 2189.24,1416.14 2190.25,1398.86 2191.26,1427.47 2192.27,1411.68 2193.28,1414.47 2194.29,1403.19 2195.3,1407.66 2196.31,1407.25 2197.32,1418.43 2198.33,1402.14 2199.34,1406.23 2200.35,1399.02 2201.36,1403.9 2202.37,1414.5 2203.37,1403.9 2204.38,1409.38 2205.39,1405.35 2206.4,1409.76 2207.41,1422.37 2208.42,1401.65 2209.43,1409.38 2210.44,1413.83 2211.45,1408.98 2212.46,1402.3 2213.47,1400.71 2214.48,1409.35 2215.49,1419.35 2216.5,1410.98 2217.51,1404.6 2218.52,1412.22 2219.53,1413.25 2220.54,1411.06 2221.55,1422.56 2222.56,1411.7 2223.57,1399.66 2224.57,1417.07 2225.58,1418.22 2226.59,1426.86 2227.6,1406.91 2228.61,1421.39 2229.62,1411.37 2230.63,1415 2231.64,1419.49 2232.65,1409.44 2233.66,1409.7 2234.67,1408.75 2235.68,1413.81 2236.69,1419.04 2237.7,1419.16 2238.71,1418.39 2239.72,1424.84 2240.73,1411.8 2241.74,1428.24 2242.75,1435.95 2243.76,1419.61 2244.77,1424.4 2245.78,1420.55 2246.78,1426.69 2247.79,1425.46 2248.8,1418.35 2249.81,1408.05 2250.82,1412.02 2251.83,1403.24 2252.84,1413.14 2253.85,1436.88 2254.86,1422.79 2255.87,1414.09 2256.88,1414.44 2257.89,1419.97 2258.9,1419.71 2259.91,1410.53 2260.92,1423.06 2261.93,1432.34 2262.94,1428.77 2263.95,1420.41 2264.96,1421.38 2265.97,1445.72 2266.98,1435.35 2267.99,1415.08 2268.99,1442.36 2270,1422.03 2271.01,1428.72 2272.02,1435.17 2273.03,1419.39 2274.04,1410.84 2275.05,1425.07 2276.06,1421.98 2277.07,1427.81 2278.08,1422.27 2279.09,1419.39 2280.1,1425.94 2281.11,1423.31 2282.12,1434.05 2283.13,1426.26 2284.14,1419.96 2285.15,1429.72 2286.16,1424.1 2287.17,1408.67 2288.18,1429.76 2289.19,1425.71 2290.19,1431.58 2291.2,1415.66 2292.21,1427.29 \"/>\n",
       "<path clip-path=\"url(#clip480)\" d=\"M2015.11 198.898 L2281.45 198.898 L2281.45 95.2176 L2015.11 95.2176  Z\" fill=\"#ffffff\" fill-rule=\"evenodd\" fill-opacity=\"1\"/>\n",
       "<polyline clip-path=\"url(#clip480)\" style=\"stroke:#000000; stroke-linecap:round; stroke-linejoin:round; stroke-width:4; stroke-opacity:1; fill:none\" points=\"2015.11,198.898 2281.45,198.898 2281.45,95.2176 2015.11,95.2176 2015.11,198.898 \"/>\n",
       "<polyline clip-path=\"url(#clip480)\" style=\"stroke:#009af9; stroke-linecap:round; stroke-linejoin:round; stroke-width:4; stroke-opacity:1; fill:none\" points=\"2038.87,147.058 2181.48,147.058 \"/>\n",
       "<path clip-path=\"url(#clip480)\" d=\"M2219.09 166.745 Q2217.29 171.375 2215.58 172.787 Q2213.86 174.199 2210.99 174.199 L2207.59 174.199 L2207.59 170.634 L2210.09 170.634 Q2211.85 170.634 2212.82 169.8 Q2213.79 168.967 2214.97 165.865 L2215.74 163.921 L2205.25 138.412 L2209.77 138.412 L2217.87 158.689 L2225.97 138.412 L2230.48 138.412 L2219.09 166.745 Z\" fill=\"#000000\" fill-rule=\"nonzero\" fill-opacity=\"1\" /><path clip-path=\"url(#clip480)\" d=\"M2237.78 160.402 L2245.41 160.402 L2245.41 134.037 L2237.1 135.703 L2237.1 131.444 L2245.37 129.778 L2250.04 129.778 L2250.04 160.402 L2257.68 160.402 L2257.68 164.338 L2237.78 164.338 L2237.78 160.402 Z\" fill=\"#000000\" fill-rule=\"nonzero\" fill-opacity=\"1\" /></svg>\n"
      ]
     },
     "execution_count": 90,
     "metadata": {},
     "output_type": "execute_result"
    }
   ],
   "source": [
    "test1, lds1 = Petz_σ(test_dms, dim)\n",
    "plot(lds1, yaxis=:log)"
   ]
  },
  {
   "cell_type": "code",
   "execution_count": 91,
   "metadata": {},
   "outputs": [
    {
     "name": "stdout",
     "output_type": "stream",
     "text": [
      "vec2dm(test1) = ComplexF32[0.43781078f0 + 0.0f0im 0.15506414f0 + 0.23558913f0im; 0.15506414f0 - 0.23558913f0im 0.5621892f0 + 0.0f0im]\n",
      "test_dms.s_dm - vec2dm(test1) = ComplexF32[-0.00020873547f0 + 0.0f0im -0.00081038475f0 + 0.00048418343f0im; -0.00081038475f0 - 0.00048418343f0im 0.00020867586f0 + 0.0f0im]\n"
     ]
    },
    {
     "data": {
      "text/plain": [
       "2×2 Hermitian{ComplexF32, Matrix{ComplexF32}}:\n",
       " -0.000208735+0.0im          -0.000810385+0.000484183im\n",
       " -0.000810385-0.000484183im   0.000208676+0.0im"
      ]
     },
     "execution_count": 91,
     "metadata": {},
     "output_type": "execute_result"
    }
   ],
   "source": [
    "@show vec2dm(test1)\n",
    "@show test_dms.s_dm - vec2dm(test1)"
   ]
  },
  {
   "cell_type": "code",
   "execution_count": null,
   "metadata": {},
   "outputs": [],
   "source": []
  }
 ],
 "metadata": {
  "kernelspec": {
   "display_name": "Julia 1.10.0",
   "language": "julia",
   "name": "julia-1.10"
  },
  "language_info": {
   "file_extension": ".jl",
   "mimetype": "application/julia",
   "name": "julia",
   "version": "1.10.0"
  }
 },
 "nbformat": 4,
 "nbformat_minor": 2
}
