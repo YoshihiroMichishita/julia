{
 "cells": [
  {
   "cell_type": "code",
   "execution_count": 31,
   "metadata": {},
   "outputs": [],
   "source": [
    "using LinearAlgebra\n",
    "using Plots"
   ]
  },
  {
   "cell_type": "code",
   "execution_count": 32,
   "metadata": {},
   "outputs": [
    {
     "data": {
      "text/plain": [
       "0.0f0 + 1.0f0im"
      ]
     },
     "execution_count": 32,
     "metadata": {},
     "output_type": "execute_result"
    }
   ],
   "source": [
    "fi = ComplexF32(1.0im)"
   ]
  },
  {
   "cell_type": "code",
   "execution_count": 33,
   "metadata": {},
   "outputs": [
    {
     "data": {
      "text/plain": [
       "vec2hermite (generic function with 1 method)"
      ]
     },
     "execution_count": 33,
     "metadata": {},
     "output_type": "execute_result"
    }
   ],
   "source": [
    "function vec2hermite(v::Vector{Float32})\n",
    "    N = round(Int, sqrt(length(v)))\n",
    "    H = zeros(ComplexF32, N, N)\n",
    "    for i in 1:N\n",
    "        for j in i:N\n",
    "            l = N*(i-1) + 2j - i^2\n",
    "            if(i == j)\n",
    "                H[i,j] = v[l]\n",
    "            else\n",
    "                H[i,j] = v[l-1] + fi*v[l]\n",
    "            end \n",
    "        end\n",
    "    end\n",
    "    H = Hermitian(H)\n",
    "    return H\n",
    "end"
   ]
  },
  {
   "cell_type": "code",
   "execution_count": 34,
   "metadata": {},
   "outputs": [
    {
     "data": {
      "text/plain": [
       "vec2unitary (generic function with 1 method)"
      ]
     },
     "execution_count": 34,
     "metadata": {},
     "output_type": "execute_result"
    }
   ],
   "source": [
    "function vec2unitary(v::Vector{Float32}, τ::Float32)\n",
    "    H = vec2hermite(v)\n",
    "    U = exp(fi*(τ*H))\n",
    "    return U\n",
    "end"
   ]
  },
  {
   "cell_type": "code",
   "execution_count": 35,
   "metadata": {},
   "outputs": [
    {
     "data": {
      "text/plain": [
       "make_unitary (generic function with 1 method)"
      ]
     },
     "execution_count": 35,
     "metadata": {},
     "output_type": "execute_result"
    }
   ],
   "source": [
    "function make_unitary(N::Int, τ::Float32)\n",
    "    v = rand(Float32, N^2)\n",
    "    U = vec2unitary(v, τ)\n",
    "    return U\n",
    "end"
   ]
  },
  {
   "cell_type": "code",
   "execution_count": 36,
   "metadata": {},
   "outputs": [
    {
     "data": {
      "text/plain": [
       "norm! (generic function with 1 method)"
      ]
     },
     "execution_count": 36,
     "metadata": {},
     "output_type": "execute_result"
    }
   ],
   "source": [
    "function norm!(m::Hermitian{ComplexF32, Matrix{ComplexF32}})\n",
    "    T = real(tr(m))\n",
    "    m = m/T\n",
    "end"
   ]
  },
  {
   "cell_type": "code",
   "execution_count": 37,
   "metadata": {},
   "outputs": [
    {
     "data": {
      "text/plain": [
       "norm (generic function with 1 method)"
      ]
     },
     "execution_count": 37,
     "metadata": {},
     "output_type": "execute_result"
    }
   ],
   "source": [
    "function norm(m::Hermitian{ComplexF32, Matrix{ComplexF32}})\n",
    "    T = real(tr(m))\n",
    "    return m/T\n",
    "end"
   ]
  },
  {
   "cell_type": "code",
   "execution_count": 38,
   "metadata": {},
   "outputs": [
    {
     "data": {
      "text/plain": [
       "make_rand_dm (generic function with 1 method)"
      ]
     },
     "execution_count": 38,
     "metadata": {},
     "output_type": "execute_result"
    }
   ],
   "source": [
    "function make_rand_dm(dim::Int)\n",
    "    ρ_vec = rand(Float32, dim^2)\n",
    "    rt_ρ = vec2hermite(ρ_vec)\n",
    "    ρ = Hermitian(norm!(Hermitian(rt_ρ*rt_ρ')))\n",
    "    return ρ\n",
    "end"
   ]
  },
  {
   "cell_type": "code",
   "execution_count": 8,
   "metadata": {},
   "outputs": [
    {
     "name": "stdout",
     "output_type": "stream",
     "text": [
      "Float32[0.99999994, 0.99999994, 0.9999999, 0.99999994]\n"
     ]
    }
   ],
   "source": [
    "test_U = make_unitary(4, 1.0f0)\n",
    "II = test_U * test_U'\n",
    "println([real(II[i,i]) for i in 1:4])"
   ]
  },
  {
   "cell_type": "code",
   "execution_count": 39,
   "metadata": {},
   "outputs": [
    {
     "data": {
      "text/plain": [
       "ehot (generic function with 1 method)"
      ]
     },
     "execution_count": 39,
     "metadata": {},
     "output_type": "execute_result"
    }
   ],
   "source": [
    "function ehot(vs::Vector{ComplexF32}, i::Int, e_dim::Int)\n",
    "    s_dim = length(vs)\n",
    "    ve = zeros(ComplexF32, e_dim*s_dim)\n",
    "    ve[(s_dim*(i-1)+1):(s_dim*i)] = vs\n",
    "    #v2 = vcat(vs, ve)\n",
    "    return ve\n",
    "end"
   ]
  },
  {
   "cell_type": "code",
   "execution_count": 40,
   "metadata": {},
   "outputs": [
    {
     "data": {
      "text/plain": [
       "make_ev (generic function with 1 method)"
      ]
     },
     "execution_count": 40,
     "metadata": {},
     "output_type": "execute_result"
    }
   ],
   "source": [
    "function make_ev(s_ev::Matrix{ComplexF32}, e_dim::Int)\n",
    "    #e_vec::Vector{Matrix{Float32}} = []\n",
    "    s_vec::Vector{Matrix{ComplexF32}} = []\n",
    "    s_dim = size(s_ev)[1]\n",
    "    tot_dim = s_dim * e_dim\n",
    "    println(s_dim)\n",
    "    for i in 1:s_dim\n",
    "        sm = zeros(ComplexF32, tot_dim, e_dim)\n",
    "        for j in 1:e_dim\n",
    "            sm[:,j] = ehot(s_ev[:,i], j, e_dim)\n",
    "            #push!(e_vec, twohot(i, j, s_dim))\n",
    "            #push!(s_vec, ehot(s_ev[:,i], j, e_dim))\n",
    "        end\n",
    "        push!(s_vec, sm)\n",
    "    end\n",
    "    #=\n",
    "    for j in 1:e_dim\n",
    "        em = zeros(Float32, tot_dim, s_dim)\n",
    "        for i in 1:s_dim\n",
    "            em[:,i] = twohot(i, j, s_dim, e_dim)\n",
    "        end\n",
    "        push!(e_vec, em)\n",
    "    end=#\n",
    "    return s_vec\n",
    "end"
   ]
  },
  {
   "cell_type": "code",
   "execution_count": 41,
   "metadata": {},
   "outputs": [
    {
     "data": {
      "text/plain": [
       "make_Mk (generic function with 1 method)"
      ]
     },
     "execution_count": 41,
     "metadata": {},
     "output_type": "execute_result"
    }
   ],
   "source": [
    "function make_Mk(U::Matrix{ComplexF32}, s_vec::Vector{Matrix{ComplexF32}})\n",
    "    L = size(U)[1]\n",
    "    e_dim = length(s_vec)\n",
    "    s_dim = div(L,e_dim)\n",
    "    Ms::Vector{Matrix{ComplexF32}} = []\n",
    "    for j in 1:e_dim\n",
    "        for k in 1:s_dim\n",
    "            push!(Ms, (s_vec[k]'*U*s_vec[j]))\n",
    "        end\n",
    "    end\n",
    "    return Ms\n",
    "end"
   ]
  },
  {
   "cell_type": "code",
   "execution_count": 25,
   "metadata": {},
   "outputs": [
    {
     "data": {
      "text/plain": [
       "make_Mk (generic function with 1 method)"
      ]
     },
     "execution_count": 25,
     "metadata": {},
     "output_type": "execute_result"
    }
   ],
   "source": [
    "#=\n",
    "function make_Mk(U::Matrix{ComplexF32}, s_vec::Vector{Matrix{ComplexF32}}, e_vec::Vector{Matrix{Float32}})\n",
    "    L = size(U)[1]\n",
    "    e_dim = length(s_vec)\n",
    "    s_dim = div(L,e_dim)\n",
    "    Ms::Vector{Matrix{ComplexF32}} = []\n",
    "    for j in 1:e_dim\n",
    "        for k in 1:s_dim\n",
    "            push!(Ms, (e_vec[k]'*U*s_vec[j]))\n",
    "        end\n",
    "    end\n",
    "    return Ms\n",
    "end=#"
   ]
  },
  {
   "cell_type": "code",
   "execution_count": 42,
   "metadata": {},
   "outputs": [],
   "source": [
    "struct Dime\n",
    "    s_dim::Int\n",
    "    e_dim::Int\n",
    "    tot_dim::Int\n",
    "    M_size::Int\n",
    "end"
   ]
  },
  {
   "cell_type": "code",
   "execution_count": 86,
   "metadata": {},
   "outputs": [
    {
     "data": {
      "text/plain": [
       "Dime(4, 4, 16, 256)"
      ]
     },
     "execution_count": 86,
     "metadata": {},
     "output_type": "execute_result"
    }
   ],
   "source": [
    "dim = Dime(4, 4, 16, 256)"
   ]
  },
  {
   "cell_type": "code",
   "execution_count": 44,
   "metadata": {},
   "outputs": [
    {
     "data": {
      "text/plain": [
       "Λρ (generic function with 2 methods)"
      ]
     },
     "execution_count": 44,
     "metadata": {},
     "output_type": "execute_result"
    }
   ],
   "source": [
    "function Λρ(ρ::Hermitian{ComplexF32, Matrix{ComplexF32}}, Ms::Vector{Matrix{ComplexF32}}, es::Vector{Float32}, ds::Dime)\n",
    "    #ρ_vec = zeros(Float32, tot_dim^2)\n",
    "    Lρ = zeros(ComplexF32, ds.s_dim, ds.s_dim)\n",
    "    for i in 1:tot_dim\n",
    "        Lρ += es[div(i-1,ds.e_dim)+1]*Ms[i]'*ρ*Ms[i]\n",
    "    end\n",
    "    return Hermitian(Lρ)\n",
    "end"
   ]
  },
  {
   "cell_type": "code",
   "execution_count": 83,
   "metadata": {},
   "outputs": [
    {
     "data": {
      "text/plain": [
       "4×4 Hermitian{ComplexF32, Matrix{ComplexF32}}:\n",
       " 0.305968+0.0im        0.222911+0.0345511im   …  0.134762+0.22704im\n",
       " 0.222911-0.0345511im  0.288777+0.0im            0.136423+0.17525im\n",
       " 0.102993-0.0471291im  0.145913-0.00998307im     0.122371+0.0671969im\n",
       " 0.134762-0.22704im    0.136423-0.17525im        0.255563+0.0im"
      ]
     },
     "execution_count": 83,
     "metadata": {},
     "output_type": "execute_result"
    }
   ],
   "source": [
    "testm = make_rand_dm(4)"
   ]
  },
  {
   "cell_type": "code",
   "execution_count": 46,
   "metadata": {},
   "outputs": [
    {
     "data": {
      "text/plain": [
       "KL_divergence (generic function with 1 method)"
      ]
     },
     "execution_count": 46,
     "metadata": {},
     "output_type": "execute_result"
    }
   ],
   "source": [
    "function KL_divergence(ρ::Hermitian{ComplexF32, Matrix{ComplexF32}}, σ::Hermitian{ComplexF32, Matrix{ComplexF32}})\n",
    "    return real(tr(ρ*(log(ρ)-log(σ))))\n",
    "end"
   ]
  },
  {
   "cell_type": "code",
   "execution_count": 47,
   "metadata": {},
   "outputs": [
    {
     "data": {
      "text/plain": [
       "init_dms (generic function with 1 method)"
      ]
     },
     "execution_count": 47,
     "metadata": {},
     "output_type": "execute_result"
    }
   ],
   "source": [
    "struct DMs\n",
    "    s_dm::Hermitian{ComplexF32, Matrix{ComplexF32}}\n",
    "    e_dm::Hermitian{ComplexF32, Matrix{ComplexF32}}\n",
    "    s_evs::Matrix{ComplexF32}\n",
    "    s_es::Vector{Float32}\n",
    "\n",
    "    U::Matrix{ComplexF32}\n",
    "    Ms::Vector{Matrix{ComplexF32}}\n",
    "end\n",
    "\n",
    "function init_dms(ds::Dime, τ::Float32)\n",
    "    s_dm = make_rand_dm(ds.s_dim)\n",
    "    e_dm = make_rand_dm(ds.e_dim)\n",
    "    s_es, s_evs = eigen(s_dm)\n",
    "    U = make_unitary(ds.tot_dim, τ)\n",
    "    s_evsa = make_ev(s_evs, ds.e_dim)\n",
    "    Ms = make_Mk(U, s_evsa)\n",
    "    return DMs(s_dm, e_dm, s_evs, s_es, U, Ms)\n",
    "end"
   ]
  },
  {
   "cell_type": "code",
   "execution_count": 48,
   "metadata": {},
   "outputs": [
    {
     "data": {
      "text/plain": [
       "Λρ (generic function with 2 methods)"
      ]
     },
     "execution_count": 48,
     "metadata": {},
     "output_type": "execute_result"
    }
   ],
   "source": [
    "function Λρ(ρ::Hermitian{ComplexF32, Matrix{ComplexF32}}, dms::DMs, ds::Dime)\n",
    "    #ρ_vec = zeros(Float32, tot_dim^2)\n",
    "    Lρ = zeros(ComplexF32, ds.s_dim, ds.s_dim)\n",
    "    for i in 1:ds.tot_dim\n",
    "        Lρ += dms.s_es[div(i-1,ds.e_dim)+1]*dms.Ms[i]*ρ*dms.Ms[i]'\n",
    "    end\n",
    "    return Hermitian(Lρ)\n",
    "end"
   ]
  },
  {
   "cell_type": "code",
   "execution_count": 49,
   "metadata": {},
   "outputs": [
    {
     "data": {
      "text/plain": [
       "Λρd (generic function with 1 method)"
      ]
     },
     "execution_count": 49,
     "metadata": {},
     "output_type": "execute_result"
    }
   ],
   "source": [
    "function Λρd(ρ::Hermitian{ComplexF32, Matrix{ComplexF32}}, dms::DMs, ds::Dime)\n",
    "    #ρ_vec = zeros(Float32, tot_dim^2)\n",
    "    Lρ = zeros(ComplexF32, ds.s_dim, ds.s_dim)\n",
    "    for i in 1:ds.tot_dim\n",
    "        Lρ += dms.s_es[div(i-1,ds.e_dim)+1]*dms.Ms[i]'*ρ*dms.Ms[i]\n",
    "    end\n",
    "    return Hermitian(Lρ)\n",
    "end"
   ]
  },
  {
   "cell_type": "code",
   "execution_count": 64,
   "metadata": {},
   "outputs": [
    {
     "data": {
      "text/plain": [
       "Λρ2 (generic function with 1 method)"
      ]
     },
     "execution_count": 64,
     "metadata": {},
     "output_type": "execute_result"
    }
   ],
   "source": [
    "function Λρ2(ρ::Hermitian{ComplexF32, Matrix{ComplexF32}}, dms::DMs, ds::Dime)\n",
    "    #ρ_vec = zeros(Float32, tot_dim^2)\n",
    "    Lρ = zeros(ComplexF32, ds.s_dim, ds.s_dim)\n",
    "    for i in 1:tot_dim\n",
    "        Lρ += dms.s_es[((i-1)%ds.s_dim)+1]*dms.Ms[i]*ρ*dms.Ms[i]'\n",
    "    end\n",
    "    return Hermitian(Lρ)\n",
    "end"
   ]
  },
  {
   "cell_type": "code",
   "execution_count": 87,
   "metadata": {},
   "outputs": [
    {
     "name": "stdout",
     "output_type": "stream",
     "text": [
      "4\n"
     ]
    },
    {
     "data": {
      "text/plain": [
       "DMs(ComplexF32[0.27735466f0 + 0.0f0im 0.14923662f0 + 0.004779997f0im 0.077183455f0 + 0.15170638f0im 0.0031349387f0 + 0.15098336f0im; 0.14923662f0 - 0.004779997f0im 0.34990498f0 + 0.0f0im 0.16710548f0 + 0.1318603f0im 0.11406498f0 + 0.08757121f0im; 0.077183455f0 - 0.15170638f0im 0.16710548f0 - 0.1318603f0im 0.18863982f0 + 0.0f0im 0.16203815f0 + 0.024234895f0im; 0.0031349387f0 - 0.15098336f0im 0.11406498f0 - 0.08757121f0im 0.16203815f0 - 0.024234895f0im 0.18410054f0 + 0.0f0im], ComplexF32[0.27870548f0 + 0.0f0im 0.11463947f0 + 0.06979321f0im 0.0029037362f0 + 0.09255348f0im -0.06320894f0 + 0.1388006f0im; 0.11463947f0 - 0.06979321f0im 0.30462077f0 + 0.0f0im 0.14717518f0 + 0.052544672f0im 0.06685462f0 + 0.0004686937f0im; 0.0029037362f0 - 0.09255348f0im 0.14717518f0 - 0.052544672f0im 0.16928783f0 + 0.0f0im 0.13520396f0 - 0.002234432f0im; -0.06320894f0 - 0.1388006f0im 0.06685462f0 - 0.0004686937f0im 0.13520396f0 + 0.002234432f0im 0.2473859f0 + 0.0f0im], ComplexF32[0.09185962f0 + 0.14914782f0im -0.20711696f0 + 0.52279353f0im -0.5938864f0 + 0.25230742f0im -0.16547275f0 - 0.4575642f0im; 0.20273602f0 + 0.18068686f0im 0.4283882f0 + 0.014433478f0im 0.13669585f0 - 0.614499f0im -0.3636809f0 - 0.46256593f0im; -0.84391415f0 - 0.061137874f0im -0.1685421f0 - 0.006952798f0im 0.09516169f0 - 0.03757309f0im -0.48704177f0 - 0.08910254f0im; 0.4238376f0 - 0.0f0im -0.6867386f0 - 0.0f0im 0.4205686f0 + 0.0f0im -0.41457665f0 - 0.0f0im], Float32[0.0036704245, 0.03712597, 0.2138732, 0.7453302], ComplexF32[0.05363861f0 + 0.08279759f0im -0.45386285f0 - 0.19999503f0im … -0.10764448f0 - 0.12228835f0im -0.16997768f0 - 0.29879594f0im; -0.005592627f0 + 0.44046742f0im 0.1171701f0 - 0.14688191f0im … -0.053304628f0 + 0.21180634f0im -0.005938136f0 - 0.015848644f0im; … ; -0.23702501f0 + 0.22776222f0im 0.19886304f0 + 0.07169585f0im … 0.46565372f0 - 0.18624456f0im -0.38459074f0 + 0.2500817f0im; -0.14497353f0 + 0.34250423f0im 0.019188957f0 - 0.031016f0im … -0.060245365f0 + 0.11908643f0im 0.11976039f0 - 0.22512771f0im], Matrix{ComplexF32}[[0.4986424f0 - 0.18774629f0im 0.05805227f0 - 0.0045898906f0im 0.06512772f0 - 0.098952845f0im -0.13753022f0 - 0.13531676f0im; 0.23431385f0 + 0.1336626f0im -0.032723494f0 + 0.0077060354f0im 0.3119629f0 - 0.14611113f0im -0.18886791f0 + 0.14416888f0im; -0.09346457f0 - 0.15579571f0im -0.040659226f0 + 0.047169738f0im 0.35872224f0 - 0.11278552f0im -0.051939666f0 - 0.28951856f0im; -0.03912425f0 - 0.09792869f0im 0.18960747f0 + 0.09248362f0im 0.13078667f0 + 0.028806867f0im 0.5250082f0 - 0.37984788f0im], [-0.15960763f0 + 0.15067065f0im -0.43392062f0 + 0.043587133f0im -0.15137571f0 - 0.10443656f0im 0.11342469f0 - 0.2670406f0im; -0.015551814f0 - 0.19721852f0im 0.092485204f0 - 0.11590472f0im -0.08242714f0 + 0.101470456f0im -0.023484943f0 - 0.0332967f0im; -0.24061462f0 - 0.0014147263f0im -0.14374131f0 + 0.008113921f0im 0.1411169f0 + 0.03512804f0im -0.17233391f0 + 0.041569047f0im; 0.054922707f0 - 0.08847341f0im -0.18387368f0 + 0.1772943f0im -0.0060433107f0 + 0.020239677f0im 0.2631295f0 - 0.039915636f0im], [-0.03270262f0 + 0.102093734f0im 0.28551027f0 - 0.03927953f0im -0.07963922f0 - 0.10824697f0im 0.01103703f0 + 0.13214299f0im; 0.2986668f0 + 0.018697359f0im -0.32624552f0 - 0.040511783f0im 0.096518345f0 - 0.05673432f0im 0.004692995f0 - 0.14489803f0im; 0.117531955f0 - 0.0395546f0im -0.32391462f0 + 0.118483506f0im -0.0018971522f0 + 0.5517961f0im -0.16818313f0 + 0.04194402f0im; -0.040937018f0 - 0.43649903f0im 0.15001537f0 + 0.13790366f0im -0.0783491f0 + 0.17249602f0im -0.03157012f0 - 0.05811374f0im], [0.119768105f0 + 0.0029987243f0im -0.08201282f0 - 0.00016465437f0im 0.06600262f0 - 0.21642789f0im 0.2054099f0 - 0.0029656738f0im; 0.26317495f0 + 0.016792761f0im 0.28147796f0 - 0.26092657f0im 0.26060584f0 + 0.19172321f0im -0.11394747f0 + 0.04395219f0im; -0.12722446f0 + 0.110271834f0im 0.023585804f0 + 0.3626949f0im -0.030716494f0 - 0.12793493f0im 0.06781677f0 + 0.18565044f0im; -0.12907743f0 - 0.07498419f0im -0.06411681f0 - 0.08415059f0im 0.04606582f0 + 0.29863176f0im 0.16863765f0 + 0.11894522f0im], [-0.083465725f0 + 0.640685f0im -0.015077236f0 + 0.006222733f0im 0.14423841f0 + 0.20575835f0im -0.124767974f0 - 0.06448235f0im; 0.2110924f0 - 0.31307098f0im 0.043512423f0 + 0.06416109f0im 0.11077138f0 + 0.10516912f0im 0.018097281f0 + 0.276696f0im; 0.006427903f0 - 0.045383763f0im 0.048057847f0 + 0.155754f0im 0.003596095f0 - 0.041288614f0im 0.035267476f0 - 0.20615473f0im; -0.04991693f0 - 0.006410403f0im 0.25904077f0 + 0.06382092f0im 0.033610456f0 - 0.1865166f0im -0.33082575f0 + 0.22142926f0im], [0.0972544f0 - 0.04951862f0im -0.15014678f0 - 0.050823156f0im 0.093253925f0 + 0.22954862f0im -0.12872486f0 - 0.27573532f0im; -0.18143222f0 - 0.08663027f0im 0.21728468f0 + 0.25846314f0im -0.09113346f0 + 0.20063479f0im 0.031738527f0 - 0.17176788f0im; -0.29293054f0 - 0.14570855f0im -0.20456044f0 + 0.31335118f0im 0.17452273f0 + 0.099205494f0im -0.07354072f0 + 0.31795394f0im; 0.14685082f0 + 0.053472355f0im -0.2762251f0 - 0.1467442f0im -0.092455566f0 + 0.12713748f0im 0.4070967f0 + 0.07980488f0im], [0.19773617f0 - 0.14777298f0im 0.3220263f0 - 3.7114027f-5im -0.031734288f0 - 0.043683156f0im -0.13120387f0 - 0.1945873f0im; 0.12368432f0 - 0.052347377f0im -0.039182417f0 + 0.19340715f0im -0.39281267f0 - 0.54706526f0im -0.12493134f0 - 0.050383925f0im; 0.08263168f0 - 0.029293025f0im 0.41911393f0 + 0.03562855f0im 0.01754135f0 - 0.06112227f0im 0.20193203f0 - 0.04542221f0im; -0.25542867f0 - 0.044295337f0im -0.18260883f0 - 0.055274833f0im 0.14045505f0 - 0.25014335f0im 0.06278722f0 + 0.16178508f0im], [0.043516025f0 + 0.052387953f0im 0.095892265f0 + 0.18851663f0im -0.05608293f0 + 0.16529942f0im 0.032706108f0 + 0.086588256f0im; 0.04648557f0 - 0.07757479f0im -0.22445005f0 + 0.031172393f0im -0.032672334f0 + 0.12442964f0im -0.028390266f0 - 0.1121595f0im; 0.07863437f0 + 0.24655737f0im -0.21777408f0 - 0.0013237519f0im -0.14891534f0 - 0.024170658f0im -0.18463612f0 + 0.15316434f0im; 0.03558442f0 + 0.12895368f0im 0.04178378f0 + 0.13320506f0im -0.14962435f0 + 0.2567594f0im -0.1909578f0 + 0.19315057f0im], [0.00027596983f0 - 0.052628376f0im 0.14113049f0 - 0.0040484765f0im 0.19824278f0 - 0.01990298f0im -0.15647304f0 + 0.042123187f0im; -0.15230657f0 - 0.21487504f0im -0.04359112f0 - 0.18728812f0im -0.040426534f0 + 0.17680427f0im -0.31558922f0 - 0.13194455f0im; -0.32822284f0 - 0.21331818f0im 0.15505162f0 + 0.31450734f0im -0.014232318f0 + 0.14059743f0im 0.04269939f0 + 0.3618403f0im; -0.13627943f0 + 0.17106721f0im -0.14175843f0 - 0.07751352f0im 0.08946198f0 - 0.13237193f0im -0.03648862f0 - 0.05116489f0im], [-0.0931071f0 - 0.097898506f0im -0.08589948f0 - 0.056024335f0im -0.16867508f0 + 0.026468683f0im -0.10157186f0 - 0.11988519f0im; 0.10810991f0 - 0.06864064f0im 0.22265537f0 - 0.3257681f0im -0.29796657f0 + 0.28584847f0im 0.1517347f0 + 0.2586463f0im; 0.080158f0 - 0.019018969f0im 0.29310203f0 - 0.021391489f0im 0.31984794f0 - 0.23759773f0im 0.061068363f0 - 0.060576227f0im; -0.02242279f0 + 0.19539249f0im 0.18710671f0 - 0.13496844f0im 0.38019234f0 + 0.15459253f0im 0.015411224f0 - 0.04419693f0im], [0.4430642f0 - 0.0857178f0im 0.11380345f0 + 0.18173875f0im 0.36171713f0 + 0.14981455f0im -0.2610421f0 - 0.0050959233f0im; 0.091495395f0 - 0.020664446f0im 0.119460635f0 - 0.29232258f0im 0.0918384f0 + 0.10297175f0im 0.07156555f0 - 0.04285872f0im; -0.076416105f0 - 0.009317798f0im -0.028748967f0 + 0.2574506f0im 0.13765654f0 - 0.17801829f0im 0.16853909f0 + 0.02415444f0im; 0.22891898f0 - 0.23652342f0im 0.01958445f0 - 0.04157137f0im -0.11176824f0 + 0.2553641f0im 0.0975037f0 - 0.25669643f0im], [0.26404166f0 - 0.18859252f0im 0.115431465f0 + 0.29101217f0im 0.020734591f0 - 0.061644174f0im 0.31965396f0 - 0.17428486f0im; -0.09653245f0 + 0.051559854f0im -0.23744237f0 - 0.19961311f0im 0.024330353f0 - 0.10949313f0im 0.22140752f0 - 0.014757486f0im; 0.06538035f0 - 0.32367906f0im -0.13786235f0 + 0.08085083f0im -0.09558215f0 - 0.009734971f0im 0.17285775f0 + 0.28927243f0im; 0.006302759f0 + 0.3059427f0im 0.22951427f0 - 0.029016757f0im -0.16213962f0 + 0.04554008f0im -0.33265653f0 + 0.101524994f0im], [0.09551371f0 - 0.018165864f0im 0.016558263f0 - 0.0033199566f0im 0.036050968f0 + 0.14755611f0im 0.19839688f0 + 0.007183887f0im; -0.17875949f0 - 0.08197252f0im 0.03999503f0 - 0.31458795f0im -0.22420567f0 + 0.067662045f0im 0.21788003f0 + 0.06611414f0im; 0.07618759f0 - 0.267508f0im -0.12457503f0 - 0.07272087f0im -0.0736545f0 - 0.13040976f0im -0.2862828f0 + 0.17201248f0im; -0.015905702f0 - 0.035045788f0im 0.018515974f0 - 0.080963954f0im -0.11918977f0 - 0.19427858f0im 0.2718662f0 - 0.02764669f0im], [0.03172773f0 - 0.26428083f0im -0.3173356f0 + 0.16673464f0im 0.05020925f0 + 0.1358538f0im 0.318629f0 - 0.21942315f0im; -0.00096320774f0 + 0.03871863f0im 0.22213744f0 - 0.026764339f0im -0.172566f0 - 0.080613375f0im 0.19265464f0 - 0.35936987f0im; 0.36403972f0 + 0.036349487f0im -0.14646064f0 - 0.100911774f0im 0.04165245f0 - 0.07285305f0im 0.07078053f0 - 0.19515385f0im; -0.09939772f0 - 0.19978024f0im 0.16248508f0 + 0.11643142f0im -0.33809966f0 - 0.19458298f0im -0.10442773f0 - 0.1349032f0im], [0.15646665f0 - 0.18596587f0im -0.20544867f0 + 0.18452181f0im -0.16833468f0 - 0.03470953f0im 0.00807513f0 - 0.105633914f0im; 0.10402094f0 + 0.1347658f0im -0.10792197f0 + 0.01966335f0im 0.06699547f0 + 0.20046026f0im -0.123604864f0 - 0.068026036f0im; -0.06729421f0 + 0.06302648f0im -0.08313452f0 + 0.04946473f0im -0.1941197f0 + 0.086624116f0im 0.28644508f0 + 0.043391798f0im; -0.12993248f0 - 0.28337824f0im -0.2108034f0 + 0.09958156f0im -0.04816033f0 + 0.17111903f0im 0.0919013f0 + 0.23416182f0im], [-0.5373503f0 + 0.020048156f0im -0.124021634f0 - 0.18706216f0im 0.24574488f0 - 0.09264875f0im -0.059553202f0 - 0.21210791f0im; -0.09526208f0 + 0.02102394f0im -0.45828527f0 + 0.2724229f0im -0.08379711f0 - 0.30846247f0im -0.020944484f0 - 0.08777658f0im; 0.033198174f0 + 0.2838806f0im -0.1390033f0 + 0.032978754f0im -0.46647826f0 + 0.043488055f0im 0.09184653f0 - 0.03256066f0im; -0.20609096f0 + 0.02180747f0im -0.33746678f0 - 0.019474473f0im -0.08692019f0 + 0.28641468f0im -0.28656262f0 + 0.08806941f0im]])"
      ]
     },
     "execution_count": 87,
     "metadata": {},
     "output_type": "execute_result"
    }
   ],
   "source": [
    "test_dms = init_dms(dim, 1.0f0)"
   ]
  },
  {
   "cell_type": "code",
   "execution_count": 51,
   "metadata": {},
   "outputs": [
    {
     "data": {
      "text/plain": [
       "0.8201263f0"
      ]
     },
     "execution_count": 51,
     "metadata": {},
     "output_type": "execute_result"
    }
   ],
   "source": [
    "kl = KL_divergence(test_dms.s_dm, testm)"
   ]
  },
  {
   "cell_type": "code",
   "execution_count": 52,
   "metadata": {},
   "outputs": [
    {
     "name": "stdout",
     "output_type": "stream",
     "text": [
      "lp = Λρ(test_dms.s_dm, test_dms, dim) = ComplexF32[0.31655082f0 + 0.0f0im 0.17976387f0 + 0.052875564f0im 0.15102462f0 + 0.1352647f0im; 0.17976387f0 - 0.052875564f0im 0.24311842f0 + 0.0f0im 0.21019651f0 + 0.04844262f0im; 0.15102462f0 - 0.1352647f0im 0.21019651f0 - 0.04844262f0im 0.44033048f0 + 0.0f0im]\n",
      "tr(lp) = 0.99999976f0\n"
     ]
    },
    {
     "data": {
      "text/plain": [
       "0.99999976f0"
      ]
     },
     "execution_count": 52,
     "metadata": {},
     "output_type": "execute_result"
    }
   ],
   "source": [
    "@show lp = Λρ(test_dms.s_dm, test_dms, dim)\n",
    "@show tr(lp)"
   ]
  },
  {
   "cell_type": "code",
   "execution_count": 53,
   "metadata": {},
   "outputs": [
    {
     "name": "stdout",
     "output_type": "stream",
     "text": [
      "lpd = Λρd(test_dms.s_dm, test_dms, dim) = ComplexF32[0.3888164f0 + 0.0f0im 0.21166462f0 + 0.044986635f0im 0.19683951f0 + 0.14142354f0im; 0.21166462f0 - 0.044986635f0im 0.382468f0 + 0.0f0im 0.11418142f0 + 0.02941678f0im; 0.19683951f0 - 0.14142354f0im 0.11418142f0 - 0.02941678f0im 0.2849698f0 + 0.0f0im]\n",
      "tr(lpd) = 1.0562541f0\n"
     ]
    },
    {
     "data": {
      "text/plain": [
       "1.0562541f0"
      ]
     },
     "execution_count": 53,
     "metadata": {},
     "output_type": "execute_result"
    }
   ],
   "source": [
    "@show lpd = Λρd(test_dms.s_dm, test_dms, dim)\n",
    "@show tr(lpd)"
   ]
  },
  {
   "cell_type": "code",
   "execution_count": 54,
   "metadata": {},
   "outputs": [
    {
     "data": {
      "text/plain": [
       "nroot_m (generic function with 1 method)"
      ]
     },
     "execution_count": 54,
     "metadata": {},
     "output_type": "execute_result"
    }
   ],
   "source": [
    "function nroot_m(ρ::Hermitian{ComplexF32, Matrix{ComplexF32}}, n::Int)\n",
    "    #ρ_vec = zeros(Float32, tot_dim^2)\n",
    "    e, v = eigen(ρ)\n",
    "    en = e.^(1.0f0/n)\n",
    "    ρ_n = v*Diagonal(en)*v'\n",
    "    return Hermitian(ρ_n)\n",
    "end"
   ]
  },
  {
   "cell_type": "code",
   "execution_count": 55,
   "metadata": {},
   "outputs": [
    {
     "data": {
      "text/plain": [
       "UρUd (generic function with 1 method)"
      ]
     },
     "execution_count": 55,
     "metadata": {},
     "output_type": "execute_result"
    }
   ],
   "source": [
    "function UρUd(U, ρ::Hermitian{ComplexF32, Matrix{ComplexF32}})\n",
    "    return Hermitian(U*ρ*U')\n",
    "end"
   ]
  },
  {
   "cell_type": "code",
   "execution_count": 56,
   "metadata": {},
   "outputs": [
    {
     "data": {
      "text/plain": [
       "PetzRecovery (generic function with 1 method)"
      ]
     },
     "execution_count": 56,
     "metadata": {},
     "output_type": "execute_result"
    }
   ],
   "source": [
    "function PetzRecovery(ρ::Hermitian{ComplexF32, Matrix{ComplexF32}}, dms::DMs, ds::Dime)\n",
    "    lρ = Λρ(ρ, dms, ds)\n",
    "    lρ_n = nroot_m(lρ, -2)\n",
    "    lρ1 = UρUd(lρ_n, lρ)\n",
    "    lρ2 = Λρd(lρ1, dms, ds)\n",
    "    ρ_n = nroot_m(ρ, 2)\n",
    "    lρ3 = UρUd(ρ_n, lρ2)\n",
    "    return lρ3\n",
    "end"
   ]
  },
  {
   "cell_type": "code",
   "execution_count": 58,
   "metadata": {},
   "outputs": [],
   "source": [
    "using BenchmarkTools"
   ]
  },
  {
   "cell_type": "code",
   "execution_count": 59,
   "metadata": {},
   "outputs": [
    {
     "data": {
      "text/plain": [
       "BenchmarkTools.Trial: 10000 samples with 1 evaluation.\n",
       " Range \u001b[90m(\u001b[39m\u001b[36m\u001b[1mmin\u001b[22m\u001b[39m … \u001b[35mmax\u001b[39m\u001b[90m):  \u001b[39m\u001b[36m\u001b[1m 9.042 μs\u001b[22m\u001b[39m … \u001b[35m  2.293 ms\u001b[39m  \u001b[90m┊\u001b[39m GC \u001b[90m(\u001b[39mmin … max\u001b[90m): \u001b[39m 0.00% … 98.28%\n",
       " Time  \u001b[90m(\u001b[39m\u001b[34m\u001b[1mmedian\u001b[22m\u001b[39m\u001b[90m):     \u001b[39m\u001b[34m\u001b[1m16.833 μs               \u001b[22m\u001b[39m\u001b[90m┊\u001b[39m GC \u001b[90m(\u001b[39mmedian\u001b[90m):    \u001b[39m 0.00%\n",
       " Time  \u001b[90m(\u001b[39m\u001b[32m\u001b[1mmean\u001b[22m\u001b[39m ± \u001b[32mσ\u001b[39m\u001b[90m):   \u001b[39m\u001b[32m\u001b[1m24.072 μs\u001b[22m\u001b[39m ± \u001b[32m105.717 μs\u001b[39m  \u001b[90m┊\u001b[39m GC \u001b[90m(\u001b[39mmean ± σ\u001b[90m):  \u001b[39m28.65% ±  6.49%\n",
       "\n",
       "  \u001b[39m▅\u001b[39m▂\u001b[39m \u001b[39m \u001b[39m \u001b[39m \u001b[39m \u001b[39m \u001b[39m \u001b[39m \u001b[39m \u001b[39m \u001b[39m \u001b[39m \u001b[39m \u001b[39m▅\u001b[39m█\u001b[39m▅\u001b[39m▆\u001b[34m▇\u001b[39m\u001b[39m▅\u001b[39m▁\u001b[39m \u001b[39m \u001b[39m \u001b[39m \u001b[39m \u001b[39m \u001b[39m \u001b[39m \u001b[39m \u001b[39m \u001b[39m \u001b[39m \u001b[39m \u001b[39m \u001b[32m \u001b[39m\u001b[39m \u001b[39m \u001b[39m \u001b[39m \u001b[39m \u001b[39m \u001b[39m \u001b[39m \u001b[39m \u001b[39m \u001b[39m \u001b[39m \u001b[39m \u001b[39m \u001b[39m \u001b[39m \u001b[39m \u001b[39m \u001b[39m \u001b[39m \u001b[39m \u001b[39m \u001b[39m \u001b[39m \u001b[39m \n",
       "  \u001b[39m█\u001b[39m█\u001b[39m▄\u001b[39m▃\u001b[39m▂\u001b[39m▂\u001b[39m▂\u001b[39m▂\u001b[39m▂\u001b[39m▂\u001b[39m▂\u001b[39m▃\u001b[39m▄\u001b[39m▅\u001b[39m█\u001b[39m█\u001b[39m█\u001b[39m█\u001b[39m█\u001b[34m█\u001b[39m\u001b[39m█\u001b[39m█\u001b[39m▇\u001b[39m▅\u001b[39m▃\u001b[39m▃\u001b[39m▃\u001b[39m▄\u001b[39m▆\u001b[39m▇\u001b[39m▇\u001b[39m▆\u001b[39m▅\u001b[39m▄\u001b[39m▄\u001b[39m▃\u001b[32m▂\u001b[39m\u001b[39m▂\u001b[39m▂\u001b[39m▁\u001b[39m▂\u001b[39m▂\u001b[39m▁\u001b[39m▁\u001b[39m▁\u001b[39m▁\u001b[39m▁\u001b[39m▁\u001b[39m▁\u001b[39m▁\u001b[39m▁\u001b[39m▁\u001b[39m▁\u001b[39m▁\u001b[39m▁\u001b[39m▁\u001b[39m▁\u001b[39m▁\u001b[39m▁\u001b[39m▁\u001b[39m \u001b[39m▃\n",
       "  9.04 μs\u001b[90m         Histogram: frequency by time\u001b[39m         33.9 μs \u001b[0m\u001b[1m<\u001b[22m\n",
       "\n",
       " Memory estimate\u001b[90m: \u001b[39m\u001b[33m197.78 KiB\u001b[39m, allocs estimate\u001b[90m: \u001b[39m\u001b[33m130\u001b[39m."
      ]
     },
     "execution_count": 59,
     "metadata": {},
     "output_type": "execute_result"
    }
   ],
   "source": [
    "@benchmark test = PetzRecovery(test_dms.s_dm, test_dms, dim)"
   ]
  },
  {
   "cell_type": "code",
   "execution_count": 61,
   "metadata": {},
   "outputs": [
    {
     "data": {
      "text/plain": [
       "1.0f0"
      ]
     },
     "execution_count": 61,
     "metadata": {},
     "output_type": "execute_result"
    }
   ],
   "source": [
    "tr(test_dms.s_dm)"
   ]
  },
  {
   "cell_type": "code",
   "execution_count": 62,
   "metadata": {},
   "outputs": [
    {
     "data": {
      "text/plain": [
       "generate_M2 (generic function with 1 method)"
      ]
     },
     "execution_count": 62,
     "metadata": {},
     "output_type": "execute_result"
    }
   ],
   "source": [
    "\n",
    "function generate_M2(H_size::Int)\n",
    "    A::Vector{Hermitian{ComplexF32, Matrix{ComplexF32}}} =[]\n",
    "    for i in 1:H_size\n",
    "        for j in i:H_size\n",
    "            if(i==j)\n",
    "                #l = 2(d+1-i)*(i-1) + (i-1)^2 + 1\n",
    "                B = zeros(ComplexF32,H_size,H_size)\n",
    "                B[i,j] = 1.0f0\n",
    "                B = Hermitian(B)\n",
    "                push!(A,B)\n",
    "                #A[l,:,:] = B[:,:]\n",
    "            else\n",
    "                #l = 2(d+1-i)*(i-1) + (i-1)^2 + 2*(j-i)\n",
    "                B = zeros(ComplexF32,H_size,H_size)\n",
    "                B[i,j] = 1.0f0\n",
    "                B[j,i] = 1.0f0\n",
    "                B = Hermitian(B)\n",
    "                B2 = zeros(ComplexF32,H_size,H_size)\n",
    "                B2[i,j] = -fi\n",
    "                B2[j,i] = fi\n",
    "                B2 = Hermitian(B2)\n",
    "                push!(A,B)\n",
    "                push!(A,B2)\n",
    "            end\n",
    "        end\n",
    "    end\n",
    "    return A\n",
    "end"
   ]
  },
  {
   "cell_type": "code",
   "execution_count": 88,
   "metadata": {},
   "outputs": [
    {
     "data": {
      "text/plain": [
       "16-element Vector{Hermitian{ComplexF32, Matrix{ComplexF32}}}:\n",
       " [1.0f0 + 0.0f0im 0.0f0 + 0.0f0im 0.0f0 + 0.0f0im 0.0f0 + 0.0f0im; 0.0f0 - 0.0f0im 0.0f0 + 0.0f0im 0.0f0 + 0.0f0im 0.0f0 + 0.0f0im; 0.0f0 - 0.0f0im 0.0f0 - 0.0f0im 0.0f0 + 0.0f0im 0.0f0 + 0.0f0im; 0.0f0 - 0.0f0im 0.0f0 - 0.0f0im 0.0f0 - 0.0f0im 0.0f0 + 0.0f0im]\n",
       " [0.0f0 + 0.0f0im 1.0f0 + 0.0f0im 0.0f0 + 0.0f0im 0.0f0 + 0.0f0im; 1.0f0 - 0.0f0im 0.0f0 + 0.0f0im 0.0f0 + 0.0f0im 0.0f0 + 0.0f0im; 0.0f0 - 0.0f0im 0.0f0 - 0.0f0im 0.0f0 + 0.0f0im 0.0f0 + 0.0f0im; 0.0f0 - 0.0f0im 0.0f0 - 0.0f0im 0.0f0 - 0.0f0im 0.0f0 + 0.0f0im]\n",
       " [0.0f0 + 0.0f0im -0.0f0 - 1.0f0im 0.0f0 + 0.0f0im 0.0f0 + 0.0f0im; -0.0f0 + 1.0f0im 0.0f0 + 0.0f0im 0.0f0 + 0.0f0im 0.0f0 + 0.0f0im; 0.0f0 - 0.0f0im 0.0f0 - 0.0f0im 0.0f0 + 0.0f0im 0.0f0 + 0.0f0im; 0.0f0 - 0.0f0im 0.0f0 - 0.0f0im 0.0f0 - 0.0f0im 0.0f0 + 0.0f0im]\n",
       " [0.0f0 + 0.0f0im 0.0f0 + 0.0f0im 1.0f0 + 0.0f0im 0.0f0 + 0.0f0im; 0.0f0 - 0.0f0im 0.0f0 + 0.0f0im 0.0f0 + 0.0f0im 0.0f0 + 0.0f0im; 1.0f0 - 0.0f0im 0.0f0 - 0.0f0im 0.0f0 + 0.0f0im 0.0f0 + 0.0f0im; 0.0f0 - 0.0f0im 0.0f0 - 0.0f0im 0.0f0 - 0.0f0im 0.0f0 + 0.0f0im]\n",
       " [0.0f0 + 0.0f0im 0.0f0 + 0.0f0im -0.0f0 - 1.0f0im 0.0f0 + 0.0f0im; 0.0f0 - 0.0f0im 0.0f0 + 0.0f0im 0.0f0 + 0.0f0im 0.0f0 + 0.0f0im; -0.0f0 + 1.0f0im 0.0f0 - 0.0f0im 0.0f0 + 0.0f0im 0.0f0 + 0.0f0im; 0.0f0 - 0.0f0im 0.0f0 - 0.0f0im 0.0f0 - 0.0f0im 0.0f0 + 0.0f0im]\n",
       " [0.0f0 + 0.0f0im 0.0f0 + 0.0f0im 0.0f0 + 0.0f0im 1.0f0 + 0.0f0im; 0.0f0 - 0.0f0im 0.0f0 + 0.0f0im 0.0f0 + 0.0f0im 0.0f0 + 0.0f0im; 0.0f0 - 0.0f0im 0.0f0 - 0.0f0im 0.0f0 + 0.0f0im 0.0f0 + 0.0f0im; 1.0f0 - 0.0f0im 0.0f0 - 0.0f0im 0.0f0 - 0.0f0im 0.0f0 + 0.0f0im]\n",
       " [0.0f0 + 0.0f0im 0.0f0 + 0.0f0im 0.0f0 + 0.0f0im -0.0f0 - 1.0f0im; 0.0f0 - 0.0f0im 0.0f0 + 0.0f0im 0.0f0 + 0.0f0im 0.0f0 + 0.0f0im; 0.0f0 - 0.0f0im 0.0f0 - 0.0f0im 0.0f0 + 0.0f0im 0.0f0 + 0.0f0im; -0.0f0 + 1.0f0im 0.0f0 - 0.0f0im 0.0f0 - 0.0f0im 0.0f0 + 0.0f0im]\n",
       " [0.0f0 + 0.0f0im 0.0f0 + 0.0f0im 0.0f0 + 0.0f0im 0.0f0 + 0.0f0im; 0.0f0 - 0.0f0im 1.0f0 + 0.0f0im 0.0f0 + 0.0f0im 0.0f0 + 0.0f0im; 0.0f0 - 0.0f0im 0.0f0 - 0.0f0im 0.0f0 + 0.0f0im 0.0f0 + 0.0f0im; 0.0f0 - 0.0f0im 0.0f0 - 0.0f0im 0.0f0 - 0.0f0im 0.0f0 + 0.0f0im]\n",
       " [0.0f0 + 0.0f0im 0.0f0 + 0.0f0im 0.0f0 + 0.0f0im 0.0f0 + 0.0f0im; 0.0f0 - 0.0f0im 0.0f0 + 0.0f0im 1.0f0 + 0.0f0im 0.0f0 + 0.0f0im; 0.0f0 - 0.0f0im 1.0f0 - 0.0f0im 0.0f0 + 0.0f0im 0.0f0 + 0.0f0im; 0.0f0 - 0.0f0im 0.0f0 - 0.0f0im 0.0f0 - 0.0f0im 0.0f0 + 0.0f0im]\n",
       " [0.0f0 + 0.0f0im 0.0f0 + 0.0f0im 0.0f0 + 0.0f0im 0.0f0 + 0.0f0im; 0.0f0 - 0.0f0im 0.0f0 + 0.0f0im -0.0f0 - 1.0f0im 0.0f0 + 0.0f0im; 0.0f0 - 0.0f0im -0.0f0 + 1.0f0im 0.0f0 + 0.0f0im 0.0f0 + 0.0f0im; 0.0f0 - 0.0f0im 0.0f0 - 0.0f0im 0.0f0 - 0.0f0im 0.0f0 + 0.0f0im]\n",
       " [0.0f0 + 0.0f0im 0.0f0 + 0.0f0im 0.0f0 + 0.0f0im 0.0f0 + 0.0f0im; 0.0f0 - 0.0f0im 0.0f0 + 0.0f0im 0.0f0 + 0.0f0im 1.0f0 + 0.0f0im; 0.0f0 - 0.0f0im 0.0f0 - 0.0f0im 0.0f0 + 0.0f0im 0.0f0 + 0.0f0im; 0.0f0 - 0.0f0im 1.0f0 - 0.0f0im 0.0f0 - 0.0f0im 0.0f0 + 0.0f0im]\n",
       " [0.0f0 + 0.0f0im 0.0f0 + 0.0f0im 0.0f0 + 0.0f0im 0.0f0 + 0.0f0im; 0.0f0 - 0.0f0im 0.0f0 + 0.0f0im 0.0f0 + 0.0f0im -0.0f0 - 1.0f0im; 0.0f0 - 0.0f0im 0.0f0 - 0.0f0im 0.0f0 + 0.0f0im 0.0f0 + 0.0f0im; 0.0f0 - 0.0f0im -0.0f0 + 1.0f0im 0.0f0 - 0.0f0im 0.0f0 + 0.0f0im]\n",
       " [0.0f0 + 0.0f0im 0.0f0 + 0.0f0im 0.0f0 + 0.0f0im 0.0f0 + 0.0f0im; 0.0f0 - 0.0f0im 0.0f0 + 0.0f0im 0.0f0 + 0.0f0im 0.0f0 + 0.0f0im; 0.0f0 - 0.0f0im 0.0f0 - 0.0f0im 1.0f0 + 0.0f0im 0.0f0 + 0.0f0im; 0.0f0 - 0.0f0im 0.0f0 - 0.0f0im 0.0f0 - 0.0f0im 0.0f0 + 0.0f0im]\n",
       " [0.0f0 + 0.0f0im 0.0f0 + 0.0f0im 0.0f0 + 0.0f0im 0.0f0 + 0.0f0im; 0.0f0 - 0.0f0im 0.0f0 + 0.0f0im 0.0f0 + 0.0f0im 0.0f0 + 0.0f0im; 0.0f0 - 0.0f0im 0.0f0 - 0.0f0im 0.0f0 + 0.0f0im 1.0f0 + 0.0f0im; 0.0f0 - 0.0f0im 0.0f0 - 0.0f0im 1.0f0 - 0.0f0im 0.0f0 + 0.0f0im]\n",
       " [0.0f0 + 0.0f0im 0.0f0 + 0.0f0im 0.0f0 + 0.0f0im 0.0f0 + 0.0f0im; 0.0f0 - 0.0f0im 0.0f0 + 0.0f0im 0.0f0 + 0.0f0im 0.0f0 + 0.0f0im; 0.0f0 - 0.0f0im 0.0f0 - 0.0f0im 0.0f0 + 0.0f0im -0.0f0 - 1.0f0im; 0.0f0 - 0.0f0im 0.0f0 - 0.0f0im -0.0f0 + 1.0f0im 0.0f0 + 0.0f0im]\n",
       " [0.0f0 + 0.0f0im 0.0f0 + 0.0f0im 0.0f0 + 0.0f0im 0.0f0 + 0.0f0im; 0.0f0 - 0.0f0im 0.0f0 + 0.0f0im 0.0f0 + 0.0f0im 0.0f0 + 0.0f0im; 0.0f0 - 0.0f0im 0.0f0 - 0.0f0im 0.0f0 + 0.0f0im 0.0f0 + 0.0f0im; 0.0f0 - 0.0f0im 0.0f0 - 0.0f0im 0.0f0 - 0.0f0im 1.0f0 + 0.0f0im]"
      ]
     },
     "execution_count": 88,
     "metadata": {},
     "output_type": "execute_result"
    }
   ],
   "source": [
    "v2m_vec = generate_M2(4)"
   ]
  },
  {
   "cell_type": "code",
   "execution_count": 64,
   "metadata": {},
   "outputs": [
    {
     "data": {
      "text/plain": [
       "vec2her (generic function with 1 method)"
      ]
     },
     "execution_count": 64,
     "metadata": {},
     "output_type": "execute_result"
    }
   ],
   "source": [
    "function vec2her(v::Vector{Float32})\n",
    "    return v' * v2m_vec\n",
    "end"
   ]
  },
  {
   "cell_type": "code",
   "execution_count": 65,
   "metadata": {},
   "outputs": [
    {
     "name": "stdout",
     "output_type": "stream",
     "text": [
      "test = rand(Float32, 9) = Float32[0.04626441, 0.87598336, 0.20790756, 0.5414884, 0.10199368, 0.89626217, 0.16744244, 0.8395615, 0.013387322]\n",
      "test2 = vec2her(test) = ComplexF32[0.04626441f0 + 0.0f0im 0.87598336f0 - 0.20790756f0im 0.5414884f0 - 0.10199368f0im; 0.87598336f0 + 0.20790756f0im 0.89626217f0 + 0.0f0im 0.16744244f0 - 0.8395615f0im; 0.5414884f0 + 0.10199368f0im 0.16744244f0 + 0.8395615f0im 0.013387322f0 + 0.0f0im]\n"
     ]
    },
    {
     "data": {
      "text/plain": [
       "3×3 Hermitian{ComplexF32, Matrix{ComplexF32}}:\n",
       " 0.0462644+0.0im       0.875983-0.207908im   0.541488-0.101994im\n",
       "  0.875983+0.207908im  0.896262+0.0im        0.167442-0.839562im\n",
       "  0.541488+0.101994im  0.167442+0.839562im  0.0133873+0.0im"
      ]
     },
     "execution_count": 65,
     "metadata": {},
     "output_type": "execute_result"
    }
   ],
   "source": [
    "@show test = rand(Float32, 16)\n",
    "@show test2 = vec2her(test)"
   ]
  },
  {
   "cell_type": "code",
   "execution_count": 75,
   "metadata": {},
   "outputs": [
    {
     "data": {
      "text/plain": [
       "3×3 Matrix{ComplexF32}:\n",
       "  0.415224+0.382466im  0.238611-0.280417im   0.389757-0.456323im\n",
       "  0.648404-0.172752im  0.873278+0.244004im  -0.152721-0.300942im\n",
       " 0.0266071-0.211497im  0.420188+0.50203im     0.39407+0.37772im"
      ]
     },
     "execution_count": 75,
     "metadata": {},
     "output_type": "execute_result"
    }
   ],
   "source": [
    "sqrt(test2)"
   ]
  },
  {
   "cell_type": "code",
   "execution_count": 76,
   "metadata": {},
   "outputs": [
    {
     "data": {
      "text/plain": [
       "vec2dm (generic function with 1 method)"
      ]
     },
     "execution_count": 76,
     "metadata": {},
     "output_type": "execute_result"
    }
   ],
   "source": [
    "function vec2dm(v::Vector{Float32})\n",
    "    rt_ρ = vec2her(v)\n",
    "    ρ = Hermitian(norm(sqrt(Hermitian(rt_ρ*rt_ρ'))))\n",
    "    return ρ\n",
    "end"
   ]
  },
  {
   "cell_type": "code",
   "execution_count": 138,
   "metadata": {},
   "outputs": [
    {
     "data": {
      "text/plain": [
       "loss_petz (generic function with 1 method)"
      ]
     },
     "execution_count": 138,
     "metadata": {},
     "output_type": "execute_result"
    }
   ],
   "source": [
    "function loss_petz(σ_vec::Vector{Float32}, dms::DMs, ds::Dime)\n",
    "    σ = vec2dm(σ_vec)\n",
    "    K1 = KL_divergence(σ, dms.s_dm)\n",
    "    K2 = KL_divergence(Λρ(σ, dms, ds), Λρ(dms.s_dm,dms, ds))\n",
    "    sim_loss = -0.01f0log(K1+1f-6)\n",
    "    return (K1-K2)^2 + sim_loss\n",
    "    #(1.0f0-K2/(K1+1f-6))^2 + sim_loss\n",
    "end"
   ]
  },
  {
   "cell_type": "code",
   "execution_count": 126,
   "metadata": {},
   "outputs": [
    {
     "data": {
      "text/plain": [
       "loss_KL (generic function with 1 method)"
      ]
     },
     "execution_count": 126,
     "metadata": {},
     "output_type": "execute_result"
    }
   ],
   "source": [
    "function loss_KL(σ_vec::Vector{Float32}, dms::DMs, ds::Dime)\n",
    "    σ = vec2dm(σ_vec)\n",
    "    K1 = KL_divergence(σ, dms.s_dm)\n",
    "    K2 = KL_divergence(Λρ(σ, dms, ds), Λρ(dms.s_dm,dms, ds))\n",
    "    return (K1-K2)^2\n",
    "end"
   ]
  },
  {
   "cell_type": "code",
   "execution_count": 69,
   "metadata": {},
   "outputs": [],
   "source": [
    "using Flux"
   ]
  },
  {
   "cell_type": "code",
   "execution_count": 134,
   "metadata": {},
   "outputs": [
    {
     "data": {
      "text/plain": [
       "Petz_σ (generic function with 1 method)"
      ]
     },
     "execution_count": 134,
     "metadata": {},
     "output_type": "execute_result"
    }
   ],
   "source": [
    "function Petz_σ(dms::DMs, dim::Dime)\n",
    "    σ_vec = 5rand(Float32, dim.s_dim^2)\n",
    "    lds = Float32[]\n",
    "    opt = ADAM(1f-2)\n",
    "    for itr in 1:2000\n",
    "        val, grads = Flux.withgradient(Flux.params(σ_vec)) do\n",
    "            loss_petz(σ_vec, dms, dim)\n",
    "        end\n",
    "        push!(lds, val)\n",
    "        Flux.Optimise.update!(opt, Flux.params(σ_vec), grads)\n",
    "        if(itr==1000)\n",
    "            opt = ADAM(3f-3)\n",
    "        elseif(itr==1500)\n",
    "            opt = ADAM(2f-3)\n",
    "        end\n",
    "    end\n",
    "    return σ_vec, lds\n",
    "end"
   ]
  },
  {
   "cell_type": "code",
   "execution_count": 139,
   "metadata": {},
   "outputs": [
    {
     "name": "stdout",
     "output_type": "stream",
     "text": [
      "0.0053313104\n"
     ]
    },
    {
     "data": {
      "image/png": "[encoded data removed]",
      "image/svg+xml": [
       "<?xml version=\"1.0\" encoding=\"utf-8\"?>\n",
       "<svg xmlns=\"http://www.w3.org/2000/svg\" xmlns:xlink=\"http://www.w3.org/1999/xlink\" width=\"600\" height=\"400\" viewBox=\"0 0 2400 1600\">\n",
       "<defs>\n",
       "  <clipPath id=\"clip790\">\n",
       "    <rect x=\"0\" y=\"0\" width=\"2400\" height=\"1600\"/>\n",
       "  </clipPath>\n",
       "</defs>\n",
       "<path clip-path=\"url(#clip790)\" d=\"M0 1600 L2400 1600 L2400 0 L0 0  Z\" fill=\"#ffffff\" fill-rule=\"evenodd\" fill-opacity=\"1\"/>\n",
       "<defs>\n",
       "  <clipPath id=\"clip791\">\n",
       "    <rect x=\"480\" y=\"0\" width=\"1681\" height=\"1600\"/>\n",
       "  </clipPath>\n",
       "</defs>\n",
       "<path clip-path=\"url(#clip790)\" d=\"M188.104 1486.45 L2352.76 1486.45 L2352.76 47.2441 L188.104 47.2441  Z\" fill=\"#ffffff\" fill-rule=\"evenodd\" fill-opacity=\"1\"/>\n",
       "<defs>\n",
       "  <clipPath id=\"clip792\">\n",
       "    <rect x=\"188\" y=\"47\" width=\"2166\" height=\"1440\"/>\n",
       "  </clipPath>\n",
       "</defs>\n",
       "<polyline clip-path=\"url(#clip792)\" style=\"stroke:#000000; stroke-linecap:round; stroke-linejoin:round; stroke-width:2; stroke-opacity:0.1; fill:none\" points=\"248.346,1486.45 248.346,47.2441 \"/>\n",
       "<polyline clip-path=\"url(#clip792)\" style=\"stroke:#000000; stroke-linecap:round; stroke-linejoin:round; stroke-width:2; stroke-opacity:0.1; fill:none\" points=\"759.133,1486.45 759.133,47.2441 \"/>\n",
       "<polyline clip-path=\"url(#clip792)\" style=\"stroke:#000000; stroke-linecap:round; stroke-linejoin:round; stroke-width:2; stroke-opacity:0.1; fill:none\" points=\"1269.92,1486.45 1269.92,47.2441 \"/>\n",
       "<polyline clip-path=\"url(#clip792)\" style=\"stroke:#000000; stroke-linecap:round; stroke-linejoin:round; stroke-width:2; stroke-opacity:0.1; fill:none\" points=\"1780.71,1486.45 1780.71,47.2441 \"/>\n",
       "<polyline clip-path=\"url(#clip792)\" style=\"stroke:#000000; stroke-linecap:round; stroke-linejoin:round; stroke-width:2; stroke-opacity:0.1; fill:none\" points=\"2291.49,1486.45 2291.49,47.2441 \"/>\n",
       "<polyline clip-path=\"url(#clip790)\" style=\"stroke:#000000; stroke-linecap:round; stroke-linejoin:round; stroke-width:4; stroke-opacity:1; fill:none\" points=\"188.104,1486.45 2352.76,1486.45 \"/>\n",
       "<polyline clip-path=\"url(#clip790)\" style=\"stroke:#000000; stroke-linecap:round; stroke-linejoin:round; stroke-width:4; stroke-opacity:1; fill:none\" points=\"248.346,1486.45 248.346,1467.55 \"/>\n",
       "<polyline clip-path=\"url(#clip790)\" style=\"stroke:#000000; stroke-linecap:round; stroke-linejoin:round; stroke-width:4; stroke-opacity:1; fill:none\" points=\"759.133,1486.45 759.133,1467.55 \"/>\n",
       "<polyline clip-path=\"url(#clip790)\" style=\"stroke:#000000; stroke-linecap:round; stroke-linejoin:round; stroke-width:4; stroke-opacity:1; fill:none\" points=\"1269.92,1486.45 1269.92,1467.55 \"/>\n",
       "<polyline clip-path=\"url(#clip790)\" style=\"stroke:#000000; stroke-linecap:round; stroke-linejoin:round; stroke-width:4; stroke-opacity:1; fill:none\" points=\"1780.71,1486.45 1780.71,1467.55 \"/>\n",
       "<polyline clip-path=\"url(#clip790)\" style=\"stroke:#000000; stroke-linecap:round; stroke-linejoin:round; stroke-width:4; stroke-opacity:1; fill:none\" points=\"2291.49,1486.45 2291.49,1467.55 \"/>\n",
       "<path clip-path=\"url(#clip790)\" d=\"M248.346 1517.37 Q244.735 1517.37 242.907 1520.93 Q241.101 1524.47 241.101 1531.6 Q241.101 1538.71 242.907 1542.27 Q244.735 1545.82 248.346 1545.82 Q251.981 1545.82 253.786 1542.27 Q255.615 1538.71 255.615 1531.6 Q255.615 1524.47 253.786 1520.93 Q251.981 1517.37 248.346 1517.37 M248.346 1513.66 Q254.156 1513.66 257.212 1518.27 Q260.291 1522.85 260.291 1531.6 Q260.291 1540.33 257.212 1544.94 Q254.156 1549.52 248.346 1549.52 Q242.536 1549.52 239.457 1544.94 Q236.402 1540.33 236.402 1531.6 Q236.402 1522.85 239.457 1518.27 Q242.536 1513.66 248.346 1513.66 Z\" fill=\"#000000\" fill-rule=\"nonzero\" fill-opacity=\"1\" /><path clip-path=\"url(#clip790)\" d=\"M718.751 1514.29 L737.107 1514.29 L737.107 1518.22 L723.033 1518.22 L723.033 1526.7 Q724.052 1526.35 725.07 1526.19 Q726.089 1526 727.107 1526 Q732.894 1526 736.274 1529.17 Q739.654 1532.34 739.654 1537.76 Q739.654 1543.34 736.182 1546.44 Q732.709 1549.52 726.39 1549.52 Q724.214 1549.52 721.945 1549.15 Q719.7 1548.78 717.293 1548.04 L717.293 1543.34 Q719.376 1544.47 721.598 1545.03 Q723.82 1545.58 726.297 1545.58 Q730.302 1545.58 732.64 1543.48 Q734.978 1541.37 734.978 1537.76 Q734.978 1534.15 732.64 1532.04 Q730.302 1529.94 726.297 1529.94 Q724.422 1529.94 722.547 1530.35 Q720.695 1530.77 718.751 1531.65 L718.751 1514.29 Z\" fill=\"#000000\" fill-rule=\"nonzero\" fill-opacity=\"1\" /><path clip-path=\"url(#clip790)\" d=\"M758.867 1517.37 Q755.255 1517.37 753.427 1520.93 Q751.621 1524.47 751.621 1531.6 Q751.621 1538.71 753.427 1542.27 Q755.255 1545.82 758.867 1545.82 Q762.501 1545.82 764.306 1542.27 Q766.135 1538.71 766.135 1531.6 Q766.135 1524.47 764.306 1520.93 Q762.501 1517.37 758.867 1517.37 M758.867 1513.66 Q764.677 1513.66 767.732 1518.27 Q770.811 1522.85 770.811 1531.6 Q770.811 1540.33 767.732 1544.94 Q764.677 1549.52 758.867 1549.52 Q753.056 1549.52 749.978 1544.94 Q746.922 1540.33 746.922 1531.6 Q746.922 1522.85 749.978 1518.27 Q753.056 1513.66 758.867 1513.66 Z\" fill=\"#000000\" fill-rule=\"nonzero\" fill-opacity=\"1\" /><path clip-path=\"url(#clip790)\" d=\"M789.028 1517.37 Q785.417 1517.37 783.589 1520.93 Q781.783 1524.47 781.783 1531.6 Q781.783 1538.71 783.589 1542.27 Q785.417 1545.82 789.028 1545.82 Q792.663 1545.82 794.468 1542.27 Q796.297 1538.71 796.297 1531.6 Q796.297 1524.47 794.468 1520.93 Q792.663 1517.37 789.028 1517.37 M789.028 1513.66 Q794.839 1513.66 797.894 1518.27 Q800.973 1522.85 800.973 1531.6 Q800.973 1540.33 797.894 1544.94 Q794.839 1549.52 789.028 1549.52 Q783.218 1549.52 780.14 1544.94 Q777.084 1540.33 777.084 1531.6 Q777.084 1522.85 780.14 1518.27 Q783.218 1513.66 789.028 1513.66 Z\" fill=\"#000000\" fill-rule=\"nonzero\" fill-opacity=\"1\" /><path clip-path=\"url(#clip790)\" d=\"M1214.44 1544.91 L1222.08 1544.91 L1222.08 1518.55 L1213.77 1520.21 L1213.77 1515.95 L1222.04 1514.29 L1226.71 1514.29 L1226.71 1544.91 L1234.35 1544.91 L1234.35 1548.85 L1214.44 1548.85 L1214.44 1544.91 Z\" fill=\"#000000\" fill-rule=\"nonzero\" fill-opacity=\"1\" /><path clip-path=\"url(#clip790)\" d=\"M1253.8 1517.37 Q1250.19 1517.37 1248.36 1520.93 Q1246.55 1524.47 1246.55 1531.6 Q1246.55 1538.71 1248.36 1542.27 Q1250.19 1545.82 1253.8 1545.82 Q1257.43 1545.82 1259.24 1542.27 Q1261.07 1538.71 1261.07 1531.6 Q1261.07 1524.47 1259.24 1520.93 Q1257.43 1517.37 1253.8 1517.37 M1253.8 1513.66 Q1259.61 1513.66 1262.66 1518.27 Q1265.74 1522.85 1265.74 1531.6 Q1265.74 1540.33 1262.66 1544.94 Q1259.61 1549.52 1253.8 1549.52 Q1247.99 1549.52 1244.91 1544.94 Q1241.85 1540.33 1241.85 1531.6 Q1241.85 1522.85 1244.91 1518.27 Q1247.99 1513.66 1253.8 1513.66 Z\" fill=\"#000000\" fill-rule=\"nonzero\" fill-opacity=\"1\" /><path clip-path=\"url(#clip790)\" d=\"M1283.96 1517.37 Q1280.35 1517.37 1278.52 1520.93 Q1276.71 1524.47 1276.71 1531.6 Q1276.71 1538.71 1278.52 1542.27 Q1280.35 1545.82 1283.96 1545.82 Q1287.59 1545.82 1289.4 1542.27 Q1291.23 1538.71 1291.23 1531.6 Q1291.23 1524.47 1289.4 1520.93 Q1287.59 1517.37 1283.96 1517.37 M1283.96 1513.66 Q1289.77 1513.66 1292.82 1518.27 Q1295.9 1522.85 1295.9 1531.6 Q1295.9 1540.33 1292.82 1544.94 Q1289.77 1549.52 1283.96 1549.52 Q1278.15 1549.52 1275.07 1544.94 Q1272.01 1540.33 1272.01 1531.6 Q1272.01 1522.85 1275.07 1518.27 Q1278.15 1513.66 1283.96 1513.66 Z\" fill=\"#000000\" fill-rule=\"nonzero\" fill-opacity=\"1\" /><path clip-path=\"url(#clip790)\" d=\"M1314.12 1517.37 Q1310.51 1517.37 1308.68 1520.93 Q1306.88 1524.47 1306.88 1531.6 Q1306.88 1538.71 1308.68 1542.27 Q1310.51 1545.82 1314.12 1545.82 Q1317.75 1545.82 1319.56 1542.27 Q1321.39 1538.71 1321.39 1531.6 Q1321.39 1524.47 1319.56 1520.93 Q1317.75 1517.37 1314.12 1517.37 M1314.12 1513.66 Q1319.93 1513.66 1322.99 1518.27 Q1326.06 1522.85 1326.06 1531.6 Q1326.06 1540.33 1322.99 1544.94 Q1319.93 1549.52 1314.12 1549.52 Q1308.31 1549.52 1305.23 1544.94 Q1302.18 1540.33 1302.18 1531.6 Q1302.18 1522.85 1305.23 1518.27 Q1308.31 1513.66 1314.12 1513.66 Z\" fill=\"#000000\" fill-rule=\"nonzero\" fill-opacity=\"1\" /><path clip-path=\"url(#clip790)\" d=\"M1725.23 1544.91 L1732.87 1544.91 L1732.87 1518.55 L1724.56 1520.21 L1724.56 1515.95 L1732.82 1514.29 L1737.5 1514.29 L1737.5 1544.91 L1745.14 1544.91 L1745.14 1548.85 L1725.23 1548.85 L1725.23 1544.91 Z\" fill=\"#000000\" fill-rule=\"nonzero\" fill-opacity=\"1\" /><path clip-path=\"url(#clip790)\" d=\"M1754.63 1514.29 L1772.99 1514.29 L1772.99 1518.22 L1758.91 1518.22 L1758.91 1526.7 Q1759.93 1526.35 1760.95 1526.19 Q1761.97 1526 1762.99 1526 Q1768.77 1526 1772.15 1529.17 Q1775.53 1532.34 1775.53 1537.76 Q1775.53 1543.34 1772.06 1546.44 Q1768.59 1549.52 1762.27 1549.52 Q1760.09 1549.52 1757.82 1549.15 Q1755.58 1548.78 1753.17 1548.04 L1753.17 1543.34 Q1755.25 1544.47 1757.48 1545.03 Q1759.7 1545.58 1762.18 1545.58 Q1766.18 1545.58 1768.52 1543.48 Q1770.86 1541.37 1770.86 1537.76 Q1770.86 1534.15 1768.52 1532.04 Q1766.18 1529.94 1762.18 1529.94 Q1760.3 1529.94 1758.43 1530.35 Q1756.57 1530.77 1754.63 1531.65 L1754.63 1514.29 Z\" fill=\"#000000\" fill-rule=\"nonzero\" fill-opacity=\"1\" /><path clip-path=\"url(#clip790)\" d=\"M1794.74 1517.37 Q1791.13 1517.37 1789.31 1520.93 Q1787.5 1524.47 1787.5 1531.6 Q1787.5 1538.71 1789.31 1542.27 Q1791.13 1545.82 1794.74 1545.82 Q1798.38 1545.82 1800.18 1542.27 Q1802.01 1538.71 1802.01 1531.6 Q1802.01 1524.47 1800.18 1520.93 Q1798.38 1517.37 1794.74 1517.37 M1794.74 1513.66 Q1800.56 1513.66 1803.61 1518.27 Q1806.69 1522.85 1806.69 1531.6 Q1806.69 1540.33 1803.61 1544.94 Q1800.56 1549.52 1794.74 1549.52 Q1788.93 1549.52 1785.86 1544.94 Q1782.8 1540.33 1782.8 1531.6 Q1782.8 1522.85 1785.86 1518.27 Q1788.93 1513.66 1794.74 1513.66 Z\" fill=\"#000000\" fill-rule=\"nonzero\" fill-opacity=\"1\" /><path clip-path=\"url(#clip790)\" d=\"M1824.91 1517.37 Q1821.3 1517.37 1819.47 1520.93 Q1817.66 1524.47 1817.66 1531.6 Q1817.66 1538.71 1819.47 1542.27 Q1821.3 1545.82 1824.91 1545.82 Q1828.54 1545.82 1830.35 1542.27 Q1832.18 1538.71 1832.18 1531.6 Q1832.18 1524.47 1830.35 1520.93 Q1828.54 1517.37 1824.91 1517.37 M1824.91 1513.66 Q1830.72 1513.66 1833.77 1518.27 Q1836.85 1522.85 1836.85 1531.6 Q1836.85 1540.33 1833.77 1544.94 Q1830.72 1549.52 1824.91 1549.52 Q1819.1 1549.52 1816.02 1544.94 Q1812.96 1540.33 1812.96 1531.6 Q1812.96 1522.85 1816.02 1518.27 Q1819.1 1513.66 1824.91 1513.66 Z\" fill=\"#000000\" fill-rule=\"nonzero\" fill-opacity=\"1\" /><path clip-path=\"url(#clip790)\" d=\"M2240.1 1544.91 L2256.42 1544.91 L2256.42 1548.85 L2234.48 1548.85 L2234.48 1544.91 Q2237.14 1542.16 2241.72 1537.53 Q2246.33 1532.88 2247.51 1531.53 Q2249.76 1529.01 2250.64 1527.27 Q2251.54 1525.51 2251.54 1523.82 Q2251.54 1521.07 2249.59 1519.33 Q2247.67 1517.6 2244.57 1517.6 Q2242.37 1517.6 2239.92 1518.36 Q2237.49 1519.13 2234.71 1520.68 L2234.71 1515.95 Q2237.53 1514.82 2239.99 1514.24 Q2242.44 1513.66 2244.48 1513.66 Q2249.85 1513.66 2253.04 1516.35 Q2256.24 1519.03 2256.24 1523.52 Q2256.24 1525.65 2255.43 1527.57 Q2254.64 1529.47 2252.53 1532.07 Q2251.96 1532.74 2248.85 1535.95 Q2245.75 1539.15 2240.1 1544.91 Z\" fill=\"#000000\" fill-rule=\"nonzero\" fill-opacity=\"1\" /><path clip-path=\"url(#clip790)\" d=\"M2276.24 1517.37 Q2272.63 1517.37 2270.8 1520.93 Q2268.99 1524.47 2268.99 1531.6 Q2268.99 1538.71 2270.8 1542.27 Q2272.63 1545.82 2276.24 1545.82 Q2279.87 1545.82 2281.68 1542.27 Q2283.51 1538.71 2283.51 1531.6 Q2283.51 1524.47 2281.68 1520.93 Q2279.87 1517.37 2276.24 1517.37 M2276.24 1513.66 Q2282.05 1513.66 2285.1 1518.27 Q2288.18 1522.85 2288.18 1531.6 Q2288.18 1540.33 2285.1 1544.94 Q2282.05 1549.52 2276.24 1549.52 Q2270.43 1549.52 2267.35 1544.94 Q2264.29 1540.33 2264.29 1531.6 Q2264.29 1522.85 2267.35 1518.27 Q2270.43 1513.66 2276.24 1513.66 Z\" fill=\"#000000\" fill-rule=\"nonzero\" fill-opacity=\"1\" /><path clip-path=\"url(#clip790)\" d=\"M2306.4 1517.37 Q2302.79 1517.37 2300.96 1520.93 Q2299.15 1524.47 2299.15 1531.6 Q2299.15 1538.71 2300.96 1542.27 Q2302.79 1545.82 2306.4 1545.82 Q2310.03 1545.82 2311.84 1542.27 Q2313.67 1538.71 2313.67 1531.6 Q2313.67 1524.47 2311.84 1520.93 Q2310.03 1517.37 2306.4 1517.37 M2306.4 1513.66 Q2312.21 1513.66 2315.27 1518.27 Q2318.34 1522.85 2318.34 1531.6 Q2318.34 1540.33 2315.27 1544.94 Q2312.21 1549.52 2306.4 1549.52 Q2300.59 1549.52 2297.51 1544.94 Q2294.46 1540.33 2294.46 1531.6 Q2294.46 1522.85 2297.51 1518.27 Q2300.59 1513.66 2306.4 1513.66 Z\" fill=\"#000000\" fill-rule=\"nonzero\" fill-opacity=\"1\" /><path clip-path=\"url(#clip790)\" d=\"M2336.56 1517.37 Q2332.95 1517.37 2331.12 1520.93 Q2329.32 1524.47 2329.32 1531.6 Q2329.32 1538.71 2331.12 1542.27 Q2332.95 1545.82 2336.56 1545.82 Q2340.2 1545.82 2342 1542.27 Q2343.83 1538.71 2343.83 1531.6 Q2343.83 1524.47 2342 1520.93 Q2340.2 1517.37 2336.56 1517.37 M2336.56 1513.66 Q2342.37 1513.66 2345.43 1518.27 Q2348.51 1522.85 2348.51 1531.6 Q2348.51 1540.33 2345.43 1544.94 Q2342.37 1549.52 2336.56 1549.52 Q2330.75 1549.52 2327.67 1544.94 Q2324.62 1540.33 2324.62 1531.6 Q2324.62 1522.85 2327.67 1518.27 Q2330.75 1513.66 2336.56 1513.66 Z\" fill=\"#000000\" fill-rule=\"nonzero\" fill-opacity=\"1\" /><polyline clip-path=\"url(#clip792)\" style=\"stroke:#000000; stroke-linecap:round; stroke-linejoin:round; stroke-width:2; stroke-opacity:0.1; fill:none\" points=\"188.104,966.459 2352.76,966.459 \"/>\n",
       "<polyline clip-path=\"url(#clip792)\" style=\"stroke:#000000; stroke-linecap:round; stroke-linejoin:round; stroke-width:2; stroke-opacity:0.1; fill:none\" points=\"188.104,141.382 2352.76,141.382 \"/>\n",
       "<polyline clip-path=\"url(#clip790)\" style=\"stroke:#000000; stroke-linecap:round; stroke-linejoin:round; stroke-width:4; stroke-opacity:1; fill:none\" points=\"188.104,1486.45 188.104,47.2441 \"/>\n",
       "<polyline clip-path=\"url(#clip790)\" style=\"stroke:#000000; stroke-linecap:round; stroke-linejoin:round; stroke-width:4; stroke-opacity:1; fill:none\" points=\"188.104,966.459 207.002,966.459 \"/>\n",
       "<polyline clip-path=\"url(#clip790)\" style=\"stroke:#000000; stroke-linecap:round; stroke-linejoin:round; stroke-width:4; stroke-opacity:1; fill:none\" points=\"188.104,141.382 207.002,141.382 \"/>\n",
       "<path clip-path=\"url(#clip790)\" d=\"M51.6634 986.251 L59.3023 986.251 L59.3023 959.886 L50.9921 961.552 L50.9921 957.293 L59.256 955.626 L63.9319 955.626 L63.9319 986.251 L71.5707 986.251 L71.5707 990.186 L51.6634 990.186 L51.6634 986.251 Z\" fill=\"#000000\" fill-rule=\"nonzero\" fill-opacity=\"1\" /><path clip-path=\"url(#clip790)\" d=\"M91.0151 958.705 Q87.404 958.705 85.5753 962.27 Q83.7697 965.812 83.7697 972.941 Q83.7697 980.048 85.5753 983.612 Q87.404 987.154 91.0151 987.154 Q94.6493 987.154 96.4548 983.612 Q98.2835 980.048 98.2835 972.941 Q98.2835 965.812 96.4548 962.27 Q94.6493 958.705 91.0151 958.705 M91.0151 955.001 Q96.8252 955.001 99.8808 959.608 Q102.959 964.191 102.959 972.941 Q102.959 981.668 99.8808 986.274 Q96.8252 990.858 91.0151 990.858 Q85.2049 990.858 82.1262 986.274 Q79.0707 981.668 79.0707 972.941 Q79.0707 964.191 82.1262 959.608 Q85.2049 955.001 91.0151 955.001 Z\" fill=\"#000000\" fill-rule=\"nonzero\" fill-opacity=\"1\" /><path clip-path=\"url(#clip790)\" d=\"M102.959 949.103 L127.071 949.103 L127.071 952.3 L102.959 952.3 L102.959 949.103 Z\" fill=\"#000000\" fill-rule=\"nonzero\" fill-opacity=\"1\" /><path clip-path=\"url(#clip790)\" d=\"M135.929 959.579 L142.136 959.579 L142.136 938.157 L135.384 939.511 L135.384 936.05 L142.098 934.696 L145.898 934.696 L145.898 959.579 L152.104 959.579 L152.104 962.776 L135.929 962.776 L135.929 959.579 Z\" fill=\"#000000\" fill-rule=\"nonzero\" fill-opacity=\"1\" /><path clip-path=\"url(#clip790)\" d=\"M81.3985 161.175 L89.0374 161.175 L89.0374 134.809 L80.7272 136.476 L80.7272 132.217 L88.9911 130.55 L93.667 130.55 L93.667 161.175 L101.306 161.175 L101.306 165.11 L81.3985 165.11 L81.3985 161.175 Z\" fill=\"#000000\" fill-rule=\"nonzero\" fill-opacity=\"1\" /><path clip-path=\"url(#clip790)\" d=\"M120.75 133.629 Q117.139 133.629 115.31 137.193 Q113.505 140.735 113.505 147.865 Q113.505 154.971 115.31 158.536 Q117.139 162.078 120.75 162.078 Q124.384 162.078 126.19 158.536 Q128.019 154.971 128.019 147.865 Q128.019 140.735 126.19 137.193 Q124.384 133.629 120.75 133.629 M120.75 129.925 Q126.56 129.925 129.616 134.531 Q132.695 139.115 132.695 147.865 Q132.695 156.592 129.616 161.198 Q126.56 165.781 120.75 165.781 Q114.94 165.781 111.861 161.198 Q108.806 156.592 108.806 147.865 Q108.806 139.115 111.861 134.531 Q114.94 129.925 120.75 129.925 Z\" fill=\"#000000\" fill-rule=\"nonzero\" fill-opacity=\"1\" /><path clip-path=\"url(#clip790)\" d=\"M142.399 112.121 Q139.465 112.121 137.98 115.017 Q136.513 117.895 136.513 123.688 Q136.513 129.462 137.98 132.358 Q139.465 135.236 142.399 135.236 Q145.352 135.236 146.819 132.358 Q148.305 129.462 148.305 123.688 Q148.305 117.895 146.819 115.017 Q145.352 112.121 142.399 112.121 M142.399 109.112 Q147.12 109.112 149.603 112.855 Q152.104 116.578 152.104 123.688 Q152.104 130.778 149.603 134.521 Q147.12 138.245 142.399 138.245 Q137.679 138.245 135.177 134.521 Q132.695 130.778 132.695 123.688 Q132.695 116.578 135.177 112.855 Q137.679 109.112 142.399 109.112 Z\" fill=\"#000000\" fill-rule=\"nonzero\" fill-opacity=\"1\" /><polyline clip-path=\"url(#clip792)\" style=\"stroke:#009af9; stroke-linecap:round; stroke-linejoin:round; stroke-width:4; stroke-opacity:1; fill:none\" points=\"249.368,87.9763 250.389,90.6993 251.411,93.4137 252.433,96.1191 253.454,98.8144 254.476,101.5 255.497,104.175 256.519,106.84 257.54,109.494 258.562,112.138 259.584,114.773 260.605,117.4 261.627,120.018 262.648,122.629 263.67,125.234 264.691,127.833 265.713,130.427 266.735,133.014 267.756,135.598 268.778,138.179 269.799,140.756 270.821,143.332 271.842,145.906 272.864,148.48 273.886,151.054 274.907,153.629 275.929,156.206 276.95,158.788 277.972,161.372 278.993,163.962 280.015,166.558 281.037,169.162 282.058,171.774 283.08,174.394 284.101,177.025 285.123,179.666 286.144,182.319 287.166,184.984 288.188,187.66 289.209,190.349 290.231,193.052 291.252,195.768 292.274,198.496 293.296,201.239 294.317,203.995 295.339,206.764 296.36,209.547 297.382,212.344 298.403,215.153 299.425,217.976 300.447,220.813 301.468,223.662 302.49,226.524 303.511,229.398 304.533,232.285 305.554,235.183 306.576,238.092 307.598,241.013 308.619,243.944 309.641,246.884 310.662,249.834 311.684,252.793 312.705,255.759 313.727,258.733 314.749,261.715 315.77,264.701 316.792,267.691 317.813,270.687 318.835,273.686 319.856,276.688 320.878,279.69 321.9,282.694 322.921,285.697 323.943,288.698 324.964,291.698 325.986,294.694 327.007,297.685 328.029,300.672 329.051,303.654 330.072,306.627 331.094,309.594 332.115,312.551 333.137,315.499 334.158,318.437 335.18,321.365 336.202,324.281 337.223,327.185 338.245,330.077 339.266,332.955 340.288,335.82 341.309,338.672 342.331,341.508 343.353,344.332 344.374,347.141 345.396,349.936 346.417,352.716 347.439,355.48 348.46,358.232 349.482,360.968 350.504,363.69 351.525,366.397 352.547,369.093 353.568,371.774 354.59,374.44 355.611,377.094 356.633,379.738 357.655,382.367 358.676,384.985 359.698,387.591 360.719,390.186 361.741,392.77 362.762,395.345 363.784,397.909 364.806,400.463 365.827,403.007 366.849,405.544 367.87,408.071 368.892,410.591 369.913,413.101 370.935,415.605 371.957,418.102 372.978,420.591 374,423.073 375.021,425.55 376.043,428.019 377.064,430.482 378.086,432.939 379.108,435.392 380.129,437.838 381.151,440.28 382.172,442.714 383.194,445.144 384.215,447.57 385.237,449.989 386.259,452.406 387.28,454.816 388.302,457.223 389.323,459.624 390.345,462.022 391.367,464.414 392.388,466.802 393.41,469.186 394.431,471.567 395.453,473.941 396.474,476.313 397.496,478.679 398.518,481.042 399.539,483.4 400.561,485.755 401.582,488.105 402.604,490.451 403.625,492.793 404.647,495.13 405.669,497.464 406.69,499.794 407.712,502.12 408.733,504.441 409.755,506.757 410.776,509.07 411.798,511.381 412.82,513.686 413.841,515.987 414.863,518.282 415.884,520.576 416.906,522.864 417.927,525.149 418.949,527.43 419.971,529.706 420.992,531.978 422.014,534.247 423.035,536.511 424.057,538.77 425.078,541.026 426.1,543.278 427.122,545.525 428.143,547.768 429.165,550.007 430.186,552.242 431.208,554.474 432.229,556.699 433.251,558.921 434.273,561.14 435.294,563.353 436.316,565.563 437.337,567.768 438.359,569.969 439.38,572.165 440.402,574.358 441.424,576.546 442.445,578.729 443.467,580.908 444.488,583.083 445.51,585.253 446.531,587.42 447.553,589.58 448.575,591.738 449.596,593.892 450.618,596.039 451.639,598.183 452.661,600.322 453.682,602.456 454.704,604.586 455.726,606.712 456.747,608.833 457.769,610.95 458.79,613.06 459.812,615.168 460.833,617.271 461.855,619.368 462.877,621.462 463.898,623.55 464.92,625.634 465.941,627.714 466.963,629.787 467.984,631.858 469.006,633.923 470.028,635.984 471.049,638.04 472.071,640.09 473.092,642.137 474.114,644.178 475.135,646.214 476.157,648.248 477.179,650.273 478.2,652.294 479.222,654.312 480.243,656.325 481.265,658.332 482.287,660.337 483.308,662.334 484.33,664.327 485.351,666.315 486.373,668.3 487.394,670.276 488.416,672.251 489.438,674.219 490.459,676.184 491.481,678.143 492.502,680.097 493.524,682.047 494.545,683.99 495.567,685.931 496.589,687.864 497.61,689.794 498.632,691.719 499.653,693.638 500.675,695.553 501.696,697.464 502.718,699.369 503.74,701.27 504.761,703.164 505.783,705.055 506.804,706.941 507.826,708.821 508.847,710.696 509.869,712.567 510.891,714.434 511.912,716.295 512.934,718.151 513.955,720.001 514.977,721.847 515.998,723.688 517.02,725.526 518.042,727.359 519.063,729.184 520.085,731.006 521.106,732.823 522.128,734.634 523.149,736.442 524.171,738.244 525.193,740.04 526.214,741.834 527.236,743.621 528.257,745.405 529.279,747.182 530.3,748.955 531.322,750.724 532.344,752.487 533.365,754.246 534.387,755.999 535.408,757.748 536.43,759.491 537.451,761.231 538.473,762.967 539.495,764.697 540.516,766.42 541.538,768.143 542.559,769.857 543.581,771.568 544.602,773.274 545.624,774.976 546.646,776.672 547.667,778.363 548.689,780.051 549.71,781.733 550.732,783.41 551.753,785.084 552.775,786.752 553.797,788.416 554.818,790.075 555.84,791.729 556.861,793.381 557.883,795.026 558.904,796.665 559.926,798.3 560.948,799.933 561.969,801.559 562.991,803.18 564.012,804.799 565.034,806.411 566.055,808.019 567.077,809.624 568.099,811.224 569.12,812.818 570.142,814.407 571.163,815.995 572.185,817.576 573.206,819.151 574.228,820.724 575.25,822.292 576.271,823.856 577.293,825.415 578.314,826.969 579.336,828.519 580.358,830.065 581.379,831.608 582.401,833.144 583.422,834.677 584.444,836.205 585.465,837.73 586.487,839.249 587.509,840.765 588.53,842.274 589.552,843.782 590.573,845.284 591.595,846.784 592.616,848.276 593.638,849.766 594.66,851.25 595.681,852.732 596.703,854.212 597.724,855.682 598.746,857.151 599.767,858.614 600.789,860.075 601.811,861.532 602.832,862.984 603.854,864.431 604.875,865.876 605.897,867.313 606.918,868.751 607.94,870.182 608.962,871.61 609.983,873.033 611.005,874.45 612.026,875.865 613.048,877.277 614.069,878.684 615.091,880.086 616.113,881.485 617.134,882.881 618.156,884.272 619.177,885.659 620.199,887.043 621.22,888.421 622.242,889.798 623.264,891.169 624.285,892.536 625.307,893.901 626.328,895.26 627.35,896.614 628.371,897.968 629.393,899.315 630.415,900.66 631.436,902 632.458,903.34 633.479,904.671 634.501,906 635.522,907.326 636.544,908.647 637.566,909.965 638.587,911.28 639.609,912.591 640.63,913.898 641.652,915.201 642.673,916.501 643.695,917.795 644.717,919.086 645.738,920.376 646.76,921.662 647.781,922.941 648.803,924.218 649.824,925.495 650.846,926.763 651.868,928.03 652.889,929.294 653.911,930.552 654.932,931.809 655.954,933.063 656.975,934.31 657.997,935.557 659.019,936.797 660.04,938.036 661.062,939.273 662.083,940.502 663.105,941.731 664.126,942.957 665.148,944.178 666.17,945.395 667.191,946.609 668.213,947.819 669.234,949.028 670.256,950.232 671.277,951.433 672.299,952.632 673.321,953.826 674.342,955.016 675.364,956.203 676.385,957.388 677.407,958.568 678.429,959.747 679.45,960.921 680.472,962.091 681.493,963.261 682.515,964.424 683.536,965.585 684.558,966.743 685.58,967.898 686.601,969.049 687.623,970.197 688.644,971.342 689.666,972.484 690.687,973.624 691.709,974.758 692.731,975.893 693.752,977.022 694.774,978.149 695.795,979.272 696.817,980.392 697.838,981.511 698.86,982.623 699.882,983.735 700.903,984.841 701.925,985.947 702.946,987.049 703.968,988.148 704.989,989.241 706.011,990.335 707.033,991.425 708.054,992.511 709.076,993.595 710.097,994.676 711.119,995.753 712.14,996.829 713.162,997.902 714.184,998.97 715.205,1000.04 716.227,1001.1 717.248,1002.16 718.27,1003.22 719.291,1004.27 720.313,1005.32 721.335,1006.37 722.356,1007.41 723.378,1008.46 724.399,1009.5 725.421,1010.54 726.442,1011.57 727.464,1012.6 728.486,1013.63 729.507,1014.66 730.529,1015.68 731.55,1016.7 732.572,1017.72 733.593,1018.73 734.615,1019.74 735.637,1020.76 736.658,1021.76 737.68,1022.76 738.701,1023.77 739.723,1024.76 740.744,1025.76 741.766,1026.75 742.788,1027.74 743.809,1028.73 744.831,1029.72 745.852,1030.7 746.874,1031.68 747.895,1032.66 748.917,1033.63 749.939,1034.61 750.96,1035.57 751.982,1036.54 753.003,1037.5 754.025,1038.47 755.046,1039.42 756.068,1040.38 757.09,1041.33 758.111,1042.29 759.133,1043.23 760.154,1044.18 761.176,1045.13 762.197,1046.07 763.219,1047.01 764.241,1047.94 765.262,1048.87 766.284,1049.81 767.305,1050.74 768.327,1051.66 769.348,1052.59 770.37,1053.51 771.392,1054.43 772.413,1055.34 773.435,1056.26 774.456,1057.17 775.478,1058.07 776.5,1058.98 777.521,1059.89 778.543,1060.79 779.564,1061.69 780.586,1062.59 781.607,1063.48 782.629,1064.37 783.651,1065.26 784.672,1066.15 785.694,1067.04 786.715,1067.92 787.737,1068.8 788.758,1069.68 789.78,1070.56 790.802,1071.43 791.823,1072.31 792.845,1073.17 793.866,1074.04 794.888,1074.9 795.909,1075.77 796.931,1076.63 797.953,1077.49 798.974,1078.34 799.996,1079.19 801.017,1080.05 802.039,1080.89 803.06,1081.74 804.082,1082.59 805.104,1083.43 806.125,1084.27 807.147,1085.11 808.168,1085.94 809.19,1086.78 810.211,1087.61 811.233,1088.44 812.255,1089.27 813.276,1090.09 814.298,1090.91 815.319,1091.74 816.341,1092.55 817.362,1093.37 818.384,1094.19 819.406,1095 820.427,1095.81 821.449,1096.62 822.47,1097.42 823.492,1098.23 824.513,1099.03 825.535,1099.83 826.557,1100.63 827.578,1101.42 828.6,1102.22 829.621,1103.01 830.643,1103.8 831.664,1104.58 832.686,1105.37 833.708,1106.15 834.729,1106.94 835.751,1107.72 836.772,1108.49 837.794,1109.27 838.815,1110.04 839.837,1110.81 840.859,1111.58 841.88,1112.35 842.902,1113.12 843.923,1113.88 844.945,1114.65 845.966,1115.4 846.988,1116.16 848.01,1116.92 849.031,1117.67 850.053,1118.42 851.074,1119.18 852.096,1119.92 853.117,1120.67 854.139,1121.42 855.161,1122.16 856.182,1122.9 857.204,1123.64 858.225,1124.38 859.247,1125.11 860.268,1125.85 861.29,1126.58 862.312,1127.31 863.333,1128.04 864.355,1128.76 865.376,1129.49 866.398,1130.21 867.419,1130.93 868.441,1131.65 869.463,1132.37 870.484,1133.08 871.506,1133.79 872.527,1134.51 873.549,1135.22 874.571,1135.92 875.592,1136.63 876.614,1137.33 877.635,1138.04 878.657,1138.74 879.678,1139.44 880.7,1140.14 881.722,1140.83 882.743,1141.53 883.765,1142.22 884.786,1142.91 885.808,1143.6 886.829,1144.29 887.851,1144.97 888.873,1145.65 889.894,1146.34 890.916,1147.02 891.937,1147.7 892.959,1148.37 893.98,1149.05 895.002,1149.72 896.024,1150.39 897.045,1151.06 898.067,1151.73 899.088,1152.4 900.11,1153.07 901.131,1153.73 902.153,1154.39 903.175,1155.05 904.196,1155.71 905.218,1156.37 906.239,1157.02 907.261,1157.68 908.282,1158.33 909.304,1158.98 910.326,1159.63 911.347,1160.28 912.369,1160.93 913.39,1161.57 914.412,1162.21 915.433,1162.85 916.455,1163.49 917.477,1164.13 918.498,1164.77 919.52,1165.4 920.541,1166.04 921.563,1166.67 922.584,1167.3 923.606,1167.93 924.628,1168.56 925.649,1169.18 926.671,1169.8 927.692,1170.43 928.714,1171.05 929.735,1171.67 930.757,1172.29 931.779,1172.91 932.8,1173.52 933.822,1174.14 934.843,1174.75 935.865,1175.36 936.886,1175.97 937.908,1176.58 938.93,1177.18 939.951,1177.79 940.973,1178.39 941.994,1178.99 943.016,1179.59 944.037,1180.19 945.059,1180.79 946.081,1181.39 947.102,1181.98 948.124,1182.57 949.145,1183.16 950.167,1183.76 951.188,1184.34 952.21,1184.93 953.232,1185.52 954.253,1186.1 955.275,1186.69 956.296,1187.27 957.318,1187.85 958.339,1188.43 959.361,1189.01 960.383,1189.58 961.404,1190.16 962.426,1190.73 963.447,1191.31 964.469,1191.88 965.491,1192.45 966.512,1193.01 967.534,1193.58 968.555,1194.15 969.577,1194.71 970.598,1195.27 971.62,1195.83 972.642,1196.4 973.663,1196.95 974.685,1197.51 975.706,1198.07 976.728,1198.62 977.749,1199.18 978.771,1199.73 979.793,1200.28 980.814,1200.83 981.836,1201.38 982.857,1201.93 983.879,1202.47 984.9,1203.02 985.922,1203.56 986.944,1204.1 987.965,1204.64 988.987,1205.18 990.008,1205.72 991.03,1206.26 992.051,1206.79 993.073,1207.33 994.095,1207.86 995.116,1208.39 996.138,1208.92 997.159,1209.45 998.181,1209.98 999.202,1210.51 1000.22,1211.03 1001.25,1211.56 1002.27,1212.08 1003.29,1212.6 1004.31,1213.12 1005.33,1213.64 1006.35,1214.16 1007.37,1214.68 1008.4,1215.19 1009.42,1215.71 1010.44,1216.22 1011.46,1216.73 1012.48,1217.24 1013.5,1217.75 1014.53,1218.26 1015.55,1218.77 1016.57,1219.28 1017.59,1219.78 1018.61,1220.29 1019.63,1220.79 1020.66,1221.29 1021.68,1221.79 1022.7,1222.29 1023.72,1222.79 1024.74,1223.28 1025.76,1223.78 1026.78,1224.28 1027.81,1224.77 1028.83,1225.26 1029.85,1225.75 1030.87,1226.24 1031.89,1226.73 1032.91,1227.22 1033.94,1227.71 1034.96,1228.19 1035.98,1228.68 1037,1229.16 1038.02,1229.64 1039.04,1230.12 1040.07,1230.6 1041.09,1231.08 1042.11,1231.56 1043.13,1232.04 1044.15,1232.51 1045.17,1232.99 1046.19,1233.46 1047.22,1233.93 1048.24,1234.4 1049.26,1234.87 1050.28,1235.34 1051.3,1235.81 1052.32,1236.28 1053.35,1236.74 1054.37,1237.21 1055.39,1237.67 1056.41,1238.13 1057.43,1238.59 1058.45,1239.06 1059.48,1239.52 1060.5,1239.97 1061.52,1240.43 1062.54,1240.89 1063.56,1241.34 1064.58,1241.8 1065.6,1242.25 1066.63,1242.7 1067.65,1243.15 1068.67,1243.61 1069.69,1244.05 1070.71,1244.5 1071.73,1244.95 1072.76,1245.39 1073.78,1245.84 1074.8,1246.28 1075.82,1246.73 1076.84,1247.17 1077.86,1247.61 1078.89,1248.05 1079.91,1248.49 1080.93,1248.93 1081.95,1249.36 1082.97,1249.8 1083.99,1250.23 1085.01,1250.67 1086.04,1251.1 1087.06,1251.54 1088.08,1251.97 1089.1,1252.4 1090.12,1252.82 1091.14,1253.25 1092.17,1253.68 1093.19,1254.1 1094.21,1254.53 1095.23,1254.95 1096.25,1255.38 1097.27,1255.8 1098.29,1256.23 1099.32,1256.64 1100.34,1257.06 1101.36,1257.48 1102.38,1257.9 1103.4,1258.32 1104.42,1258.73 1105.45,1259.15 1106.47,1259.56 1107.49,1259.97 1108.51,1260.38 1109.53,1260.8 1110.55,1261.21 1111.58,1261.61 1112.6,1262.02 1113.62,1262.43 1114.64,1262.84 1115.66,1263.25 1116.68,1263.65 1117.7,1264.06 1118.73,1264.46 1119.75,1264.86 1120.77,1265.26 1121.79,1265.66 1122.81,1266.06 1123.83,1266.46 1124.86,1266.86 1125.88,1267.26 1126.9,1267.65 1127.92,1268.05 1128.94,1268.44 1129.96,1268.83 1130.99,1269.23 1132.01,1269.62 1133.03,1270.01 1134.05,1270.4 1135.07,1270.79 1136.09,1271.17 1137.11,1271.56 1138.14,1271.95 1139.16,1272.33 1140.18,1272.72 1141.2,1273.1 1142.22,1273.48 1143.24,1273.87 1144.27,1274.25 1145.29,1274.63 1146.31,1275.01 1147.33,1275.38 1148.35,1275.76 1149.37,1276.14 1150.4,1276.52 1151.42,1276.89 1152.44,1277.27 1153.46,1277.64 1154.48,1278.01 1155.5,1278.38 1156.52,1278.76 1157.55,1279.13 1158.57,1279.49 1159.59,1279.87 1160.61,1280.23 1161.63,1280.6 1162.65,1280.97 1163.68,1281.33 1164.7,1281.7 1165.72,1282.06 1166.74,1282.42 1167.76,1282.79 1168.78,1283.15 1169.81,1283.51 1170.83,1283.87 1171.85,1284.23 1172.87,1284.59 1173.89,1284.94 1174.91,1285.3 1175.93,1285.66 1176.96,1286.01 1177.98,1286.37 1179,1286.72 1180.02,1287.07 1181.04,1287.43 1182.06,1287.78 1183.09,1288.13 1184.11,1288.48 1185.13,1288.83 1186.15,1289.18 1187.17,1289.52 1188.19,1289.87 1189.21,1290.22 1190.24,1290.56 1191.26,1290.9 1192.28,1291.25 1193.3,1291.59 1194.32,1291.93 1195.34,1292.28 1196.37,1292.62 1197.39,1292.95 1198.41,1293.29 1199.43,1293.63 1200.45,1293.97 1201.47,1294.31 1202.5,1294.64 1203.52,1294.98 1204.54,1295.32 1205.56,1295.65 1206.58,1295.98 1207.6,1296.32 1208.62,1296.65 1209.65,1296.98 1210.67,1297.31 1211.69,1297.64 1212.71,1297.97 1213.73,1298.3 1214.75,1298.63 1215.78,1298.95 1216.8,1299.28 1217.82,1299.6 1218.84,1299.93 1219.86,1300.25 1220.88,1300.58 1221.91,1300.9 1222.93,1301.22 1223.95,1301.54 1224.97,1301.86 1225.99,1302.18 1227.01,1302.5 1228.03,1302.82 1229.06,1303.14 1230.08,1303.46 1231.1,1303.77 1232.12,1304.09 1233.14,1304.4 1234.16,1304.72 1235.19,1305.03 1236.21,1305.34 1237.23,1305.66 1238.25,1305.97 1239.27,1306.28 1240.29,1306.59 1241.32,1306.9 1242.34,1307.21 1243.36,1307.52 1244.38,1307.83 1245.4,1308.13 1246.42,1308.44 1247.44,1308.75 1248.47,1309.05 1249.49,1309.35 1250.51,1309.66 1251.53,1309.96 1252.55,1310.26 1253.57,1310.57 1254.6,1310.87 1255.62,1311.17 1256.64,1311.47 1257.66,1311.77 1258.68,1312.07 1259.7,1312.36 1260.73,1312.66 1261.75,1312.96 1262.77,1313.25 1263.79,1313.55 1264.81,1313.85 1265.83,1314.14 1266.85,1314.43 1267.88,1314.73 1268.9,1315.02 1269.92,1315.31 1270.94,1315.6 1271.96,1316.23 1272.98,1316.85 1274.01,1317.47 1275.03,1318.09 1276.05,1318.7 1277.07,1319.31 1278.09,1319.91 1279.11,1320.51 1280.13,1321.11 1281.16,1321.7 1282.18,1322.29 1283.2,1322.88 1284.22,1323.46 1285.24,1324.04 1286.26,1324.62 1287.29,1325.19 1288.31,1325.76 1289.33,1326.33 1290.35,1326.89 1291.37,1327.45 1292.39,1328.01 1293.42,1328.57 1294.44,1329.13 1295.46,1329.68 1296.48,1330.23 1297.5,1330.78 1298.52,1331.33 1299.54,1331.87 1300.57,1332.42 1301.59,1332.96 1302.61,1333.49 1303.63,1334.03 1304.65,1334.56 1305.67,1335.1 1306.7,1335.62 1307.72,1336.15 1308.74,1336.68 1309.76,1337.2 1310.78,1337.72 1311.8,1338.24 1312.83,1338.75 1313.85,1339.27 1314.87,1339.78 1315.89,1340.29 1316.91,1340.8 1317.93,1341.3 1318.95,1341.8 1319.98,1342.31 1321,1342.81 1322.02,1343.3 1323.04,1343.8 1324.06,1344.3 1325.08,1344.79 1326.11,1345.28 1327.13,1345.77 1328.15,1346.25 1329.17,1346.74 1330.19,1347.22 1331.21,1347.7 1332.24,1348.18 1333.26,1348.66 1334.28,1349.13 1335.3,1349.61 1336.32,1350.08 1337.34,1350.55 1338.36,1351.02 1339.39,1351.48 1340.41,1351.95 1341.43,1352.41 1342.45,1352.87 1343.47,1353.33 1344.49,1353.79 1345.52,1354.24 1346.54,1354.7 1347.56,1355.15 1348.58,1355.6 1349.6,1356.05 1350.62,1356.49 1351.65,1356.94 1352.67,1357.38 1353.69,1357.82 1354.71,1358.27 1355.73,1358.7 1356.75,1359.14 1357.77,1359.57 1358.8,1360 1359.82,1360.44 1360.84,1360.87 1361.86,1361.29 1362.88,1361.72 1363.9,1362.14 1364.93,1362.56 1365.95,1362.98 1366.97,1363.4 1367.99,1363.82 1369.01,1364.24 1370.03,1364.65 1371.05,1365.06 1372.08,1365.47 1373.1,1365.88 1374.12,1366.29 1375.14,1366.69 1376.16,1367.1 1377.18,1367.5 1378.21,1367.9 1379.23,1368.3 1380.25,1368.7 1381.27,1369.09 1382.29,1369.49 1383.31,1369.88 1384.34,1370.27 1385.36,1370.66 1386.38,1371.04 1387.4,1371.43 1388.42,1371.81 1389.44,1372.2 1390.46,1372.58 1391.49,1372.96 1392.51,1373.34 1393.53,1373.71 1394.55,1374.09 1395.57,1374.46 1396.59,1374.83 1397.62,1375.2 1398.64,1375.57 1399.66,1375.94 1400.68,1376.3 1401.7,1376.66 1402.72,1377.03 1403.75,1377.39 1404.77,1377.74 1405.79,1378.1 1406.81,1378.46 1407.83,1378.81 1408.85,1379.16 1409.87,1379.51 1410.9,1379.86 1411.92,1380.21 1412.94,1380.56 1413.96,1380.9 1414.98,1381.25 1416,1381.59 1417.03,1381.93 1418.05,1382.27 1419.07,1382.61 1420.09,1382.94 1421.11,1383.28 1422.13,1383.61 1423.16,1383.94 1424.18,1384.27 1425.2,1384.6 1426.22,1384.93 1427.24,1385.25 1428.26,1385.58 1429.28,1385.9 1430.31,1386.22 1431.33,1386.54 1432.35,1386.86 1433.37,1387.18 1434.39,1387.49 1435.41,1387.81 1436.44,1388.12 1437.46,1388.43 1438.48,1388.74 1439.5,1389.05 1440.52,1389.36 1441.54,1389.66 1442.57,1389.96 1443.59,1390.27 1444.61,1390.57 1445.63,1390.87 1446.65,1391.17 1447.67,1391.46 1448.69,1391.76 1449.72,1392.06 1450.74,1392.35 1451.76,1392.64 1452.78,1392.93 1453.8,1393.22 1454.82,1393.51 1455.85,1393.79 1456.87,1394.08 1457.89,1394.36 1458.91,1394.64 1459.93,1394.92 1460.95,1395.2 1461.97,1395.48 1463,1395.76 1464.02,1396.03 1465.04,1396.31 1466.06,1396.58 1467.08,1396.85 1468.1,1397.12 1469.13,1397.39 1470.15,1397.66 1471.17,1397.93 1472.19,1398.19 1473.21,1398.46 1474.23,1398.72 1475.26,1398.98 1476.28,1399.24 1477.3,1399.5 1478.32,1399.76 1479.34,1400.01 1480.36,1400.27 1481.38,1400.52 1482.41,1400.77 1483.43,1401.02 1484.45,1401.27 1485.47,1401.52 1486.49,1401.77 1487.51,1402.02 1488.54,1402.26 1489.56,1402.51 1490.58,1402.75 1491.6,1402.99 1492.62,1403.23 1493.64,1403.47 1494.67,1403.71 1495.69,1403.94 1496.71,1404.18 1497.73,1404.41 1498.75,1404.65 1499.77,1404.88 1500.79,1405.11 1501.82,1405.34 1502.84,1405.57 1503.86,1405.8 1504.88,1406.02 1505.9,1406.25 1506.92,1406.47 1507.95,1406.69 1508.97,1406.91 1509.99,1407.13 1511.01,1407.35 1512.03,1407.57 1513.05,1407.79 1514.08,1408 1515.1,1408.22 1516.12,1408.43 1517.14,1408.65 1518.16,1408.86 1519.18,1409.07 1520.2,1409.28 1521.23,1409.49 1522.25,1409.69 1523.27,1409.9 1524.29,1410.1 1525.31,1410.31 1526.33,1410.51 1527.36,1410.71 1528.38,1410.91 1529.4,1411.11 1530.42,1411.31 1531.44,1411.51 1532.46,1411.7 1533.49,1411.9 1534.51,1412.09 1535.53,1412.29 1536.55,1412.48 1537.57,1412.67 1538.59,1412.86 1539.61,1413.05 1540.64,1413.24 1541.66,1413.42 1542.68,1413.61 1543.7,1413.8 1544.72,1413.98 1545.74,1414.16 1546.77,1414.35 1547.79,1414.53 1548.81,1414.71 1549.83,1414.89 1550.85,1415.06 1551.87,1415.24 1552.89,1415.42 1553.92,1415.59 1554.94,1415.77 1555.96,1415.94 1556.98,1416.11 1558,1416.29 1559.02,1416.46 1560.05,1416.63 1561.07,1416.79 1562.09,1416.96 1563.11,1417.13 1564.13,1417.29 1565.15,1417.46 1566.18,1417.62 1567.2,1417.79 1568.22,1417.95 1569.24,1418.11 1570.26,1418.27 1571.28,1418.43 1572.3,1418.59 1573.33,1418.75 1574.35,1418.9 1575.37,1419.06 1576.39,1419.22 1577.41,1419.37 1578.43,1419.52 1579.46,1419.68 1580.48,1419.83 1581.5,1419.98 1582.52,1420.13 1583.54,1420.28 1584.56,1420.43 1585.59,1420.57 1586.61,1420.72 1587.63,1420.87 1588.65,1421.01 1589.67,1421.16 1590.69,1421.3 1591.71,1421.44 1592.74,1421.58 1593.76,1421.73 1594.78,1421.87 1595.8,1422 1596.82,1422.14 1597.84,1422.28 1598.87,1422.42 1599.89,1422.55 1600.91,1422.69 1601.93,1422.82 1602.95,1422.96 1603.97,1423.09 1605,1423.22 1606.02,1423.36 1607.04,1423.49 1608.06,1423.61 1609.08,1423.74 1610.1,1423.87 1611.12,1424 1612.15,1424.13 1613.17,1424.25 1614.19,1424.38 1615.21,1424.5 1616.23,1424.63 1617.25,1424.75 1618.28,1424.87 1619.3,1425 1620.32,1425.12 1621.34,1425.24 1622.36,1425.36 1623.38,1425.48 1624.41,1425.6 1625.43,1425.71 1626.45,1425.83 1627.47,1425.95 1628.49,1426.06 1629.51,1426.18 1630.53,1426.29 1631.56,1426.41 1632.58,1426.52 1633.6,1426.63 1634.62,1426.74 1635.64,1426.85 1636.66,1426.96 1637.69,1427.07 1638.71,1427.18 1639.73,1427.29 1640.75,1427.4 1641.77,1427.51 1642.79,1427.61 1643.81,1427.72 1644.84,1427.82 1645.86,1427.93 1646.88,1428.03 1647.9,1428.13 1648.92,1428.24 1649.94,1428.34 1650.97,1428.44 1651.99,1428.54 1653.01,1428.64 1654.03,1428.74 1655.05,1428.84 1656.07,1428.94 1657.1,1429.04 1658.12,1429.13 1659.14,1429.23 1660.16,1429.33 1661.18,1429.42 1662.2,1429.52 1663.22,1429.61 1664.25,1429.7 1665.27,1429.8 1666.29,1429.89 1667.31,1429.98 1668.33,1430.07 1669.35,1430.16 1670.38,1430.26 1671.4,1430.35 1672.42,1430.44 1673.44,1430.52 1674.46,1430.61 1675.48,1430.7 1676.51,1430.79 1677.53,1430.87 1678.55,1430.96 1679.57,1431.05 1680.59,1431.13 1681.61,1431.22 1682.63,1431.3 1683.66,1431.38 1684.68,1431.47 1685.7,1431.55 1686.72,1431.63 1687.74,1431.71 1688.76,1431.79 1689.79,1431.87 1690.81,1431.96 1691.83,1432.03 1692.85,1432.11 1693.87,1432.19 1694.89,1432.27 1695.92,1432.35 1696.94,1432.42 1697.96,1432.5 1698.98,1432.58 1700,1432.65 1701.02,1432.73 1702.04,1432.8 1703.07,1432.88 1704.09,1432.95 1705.11,1433.02 1706.13,1433.1 1707.15,1433.17 1708.17,1433.24 1709.2,1433.31 1710.22,1433.39 1711.24,1433.46 1712.26,1433.53 1713.28,1433.6 1714.3,1433.67 1715.33,1433.74 1716.35,1433.81 1717.37,1433.87 1718.39,1433.94 1719.41,1434.01 1720.43,1434.08 1721.45,1434.14 1722.48,1434.21 1723.5,1434.28 1724.52,1434.34 1725.54,1434.41 1726.56,1434.47 1727.58,1434.54 1728.61,1434.6 1729.63,1434.66 1730.65,1434.73 1731.67,1434.79 1732.69,1434.85 1733.71,1434.91 1734.73,1434.97 1735.76,1435.04 1736.78,1435.1 1737.8,1435.16 1738.82,1435.22 1739.84,1435.28 1740.86,1435.34 1741.89,1435.39 1742.91,1435.45 1743.93,1435.51 1744.95,1435.57 1745.97,1435.63 1746.99,1435.68 1748.02,1435.74 1749.04,1435.8 1750.06,1435.85 1751.08,1435.91 1752.1,1435.97 1753.12,1436.02 1754.14,1436.08 1755.17,1436.13 1756.19,1436.18 1757.21,1436.24 1758.23,1436.29 1759.25,1436.34 1760.27,1436.4 1761.3,1436.45 1762.32,1436.5 1763.34,1436.55 1764.36,1436.61 1765.38,1436.66 1766.4,1436.71 1767.43,1436.76 1768.45,1436.81 1769.47,1436.86 1770.49,1436.91 1771.51,1436.96 1772.53,1437.01 1773.55,1437.06 1774.58,1437.1 1775.6,1437.15 1776.62,1437.2 1777.64,1437.25 1778.66,1437.29 1779.68,1437.34 1780.71,1437.39 1781.73,1437.44 1782.75,1437.52 1783.77,1437.6 1784.79,1437.69 1785.81,1437.77 1786.84,1437.85 1787.86,1437.93 1788.88,1438.01 1789.9,1438.09 1790.92,1438.17 1791.94,1438.24 1792.96,1438.32 1793.99,1438.4 1795.01,1438.47 1796.03,1438.55 1797.05,1438.62 1798.07,1438.69 1799.09,1438.76 1800.12,1438.84 1801.14,1438.91 1802.16,1438.98 1803.18,1439.05 1804.2,1439.11 1805.22,1439.18 1806.25,1439.25 1807.27,1439.32 1808.29,1439.38 1809.31,1439.45 1810.33,1439.51 1811.35,1439.57 1812.37,1439.64 1813.4,1439.7 1814.42,1439.76 1815.44,1439.82 1816.46,1439.88 1817.48,1439.94 1818.5,1440 1819.53,1440.06 1820.55,1440.12 1821.57,1440.18 1822.59,1440.23 1823.61,1440.29 1824.63,1440.34 1825.65,1440.4 1826.68,1440.45 1827.7,1440.51 1828.72,1440.56 1829.74,1440.61 1830.76,1440.67 1831.78,1440.72 1832.81,1440.77 1833.83,1440.82 1834.85,1440.87 1835.87,1440.92 1836.89,1440.97 1837.91,1441.01 1838.94,1441.06 1839.96,1441.11 1840.98,1441.16 1842,1441.2 1843.02,1441.25 1844.04,1441.29 1845.06,1441.34 1846.09,1441.38 1847.11,1441.43 1848.13,1441.47 1849.15,1441.51 1850.17,1441.56 1851.19,1441.6 1852.22,1441.64 1853.24,1441.68 1854.26,1441.72 1855.28,1441.76 1856.3,1441.8 1857.32,1441.84 1858.35,1441.88 1859.37,1441.92 1860.39,1441.96 1861.41,1442 1862.43,1442.04 1863.45,1442.07 1864.47,1442.11 1865.5,1442.15 1866.52,1442.18 1867.54,1442.22 1868.56,1442.25 1869.58,1442.29 1870.6,1442.32 1871.63,1442.36 1872.65,1442.39 1873.67,1442.43 1874.69,1442.46 1875.71,1442.49 1876.73,1442.53 1877.76,1442.56 1878.78,1442.59 1879.8,1442.62 1880.82,1442.65 1881.84,1442.68 1882.86,1442.71 1883.88,1442.74 1884.91,1442.77 1885.93,1442.8 1886.95,1442.83 1887.97,1442.86 1888.99,1442.89 1890.01,1442.92 1891.04,1442.95 1892.06,1442.98 1893.08,1443 1894.1,1443.03 1895.12,1443.06 1896.14,1443.09 1897.17,1443.11 1898.19,1443.14 1899.21,1443.16 1900.23,1443.19 1901.25,1443.22 1902.27,1443.24 1903.29,1443.27 1904.32,1443.29 1905.34,1443.32 1906.36,1443.34 1907.38,1443.36 1908.4,1443.39 1909.42,1443.41 1910.45,1443.43 1911.47,1443.46 1912.49,1443.48 1913.51,1443.5 1914.53,1443.53 1915.55,1443.55 1916.57,1443.57 1917.6,1443.59 1918.62,1443.61 1919.64,1443.64 1920.66,1443.66 1921.68,1443.68 1922.7,1443.7 1923.73,1443.72 1924.75,1443.74 1925.77,1443.76 1926.79,1443.78 1927.81,1443.8 1928.83,1443.82 1929.86,1443.84 1930.88,1443.86 1931.9,1443.88 1932.92,1443.89 1933.94,1443.91 1934.96,1443.93 1935.98,1443.95 1937.01,1443.97 1938.03,1443.98 1939.05,1444 1940.07,1444.02 1941.09,1444.04 1942.11,1444.05 1943.14,1444.07 1944.16,1444.09 1945.18,1444.1 1946.2,1444.12 1947.22,1444.14 1948.24,1444.15 1949.27,1444.17 1950.29,1444.18 1951.31,1444.2 1952.33,1444.22 1953.35,1444.23 1954.37,1444.25 1955.39,1444.26 1956.42,1444.28 1957.44,1444.29 1958.46,1444.31 1959.48,1444.32 1960.5,1444.33 1961.52,1444.35 1962.55,1444.36 1963.57,1444.38 1964.59,1444.39 1965.61,1444.4 1966.63,1444.42 1967.65,1444.43 1968.68,1444.44 1969.7,1444.46 1970.72,1444.47 1971.74,1444.48 1972.76,1444.49 1973.78,1444.51 1974.8,1444.52 1975.83,1444.53 1976.85,1444.54 1977.87,1444.56 1978.89,1444.57 1979.91,1444.58 1980.93,1444.59 1981.96,1444.6 1982.98,1444.61 1984,1444.63 1985.02,1444.64 1986.04,1444.65 1987.06,1444.66 1988.09,1444.67 1989.11,1444.68 1990.13,1444.69 1991.15,1444.7 1992.17,1444.71 1993.19,1444.72 1994.21,1444.73 1995.24,1444.74 1996.26,1444.75 1997.28,1444.76 1998.3,1444.77 1999.32,1444.78 2000.34,1444.79 2001.37,1444.8 2002.39,1444.81 2003.41,1444.82 2004.43,1444.83 2005.45,1444.84 2006.47,1444.85 2007.49,1444.86 2008.52,1444.87 2009.54,1444.87 2010.56,1444.88 2011.58,1444.89 2012.6,1444.9 2013.62,1444.91 2014.65,1444.92 2015.67,1444.93 2016.69,1444.93 2017.71,1444.94 2018.73,1444.95 2019.75,1444.96 2020.78,1444.96 2021.8,1444.97 2022.82,1444.98 2023.84,1444.99 2024.86,1445 2025.88,1445 2026.9,1445.01 2027.93,1445.02 2028.95,1445.02 2029.97,1445.03 2030.99,1445.04 2032.01,1445.05 2033.03,1445.05 2034.06,1445.06 2035.08,1445.07 2036.1,1445.07 2037.12,1445.08 2038.14,1445.09 2039.16,1445.09 2040.19,1445.1 2041.21,1445.11 2042.23,1445.11 2043.25,1445.12 2044.27,1445.13 2045.29,1445.13 2046.31,1445.14 2047.34,1445.14 2048.36,1445.15 2049.38,1445.16 2050.4,1445.16 2051.42,1445.17 2052.44,1445.17 2053.47,1445.18 2054.49,1445.18 2055.51,1445.19 2056.53,1445.2 2057.55,1445.2 2058.57,1445.21 2059.6,1445.21 2060.62,1445.22 2061.64,1445.22 2062.66,1445.23 2063.68,1445.23 2064.7,1445.24 2065.72,1445.24 2066.75,1445.25 2067.77,1445.25 2068.79,1445.26 2069.81,1445.26 2070.83,1445.27 2071.85,1445.27 2072.88,1445.28 2073.9,1445.28 2074.92,1445.29 2075.94,1445.29 2076.96,1445.3 2077.98,1445.3 2079.01,1445.3 2080.03,1445.31 2081.05,1445.31 2082.07,1445.32 2083.09,1445.32 2084.11,1445.33 2085.13,1445.33 2086.16,1445.33 2087.18,1445.34 2088.2,1445.34 2089.22,1445.35 2090.24,1445.35 2091.26,1445.36 2092.29,1445.36 2093.31,1445.36 2094.33,1445.37 2095.35,1445.37 2096.37,1445.37 2097.39,1445.38 2098.41,1445.38 2099.44,1445.39 2100.46,1445.39 2101.48,1445.39 2102.5,1445.4 2103.52,1445.4 2104.54,1445.4 2105.57,1445.41 2106.59,1445.41 2107.61,1445.41 2108.63,1445.42 2109.65,1445.42 2110.67,1445.42 2111.7,1445.43 2112.72,1445.43 2113.74,1445.43 2114.76,1445.44 2115.78,1445.44 2116.8,1445.44 2117.82,1445.44 2118.85,1445.45 2119.87,1445.45 2120.89,1445.45 2121.91,1445.46 2122.93,1445.46 2123.95,1445.46 2124.98,1445.47 2126,1445.47 2127.02,1445.47 2128.04,1445.47 2129.06,1445.48 2130.08,1445.48 2131.11,1445.48 2132.13,1445.49 2133.15,1445.49 2134.17,1445.49 2135.19,1445.49 2136.21,1445.5 2137.23,1445.5 2138.26,1445.5 2139.28,1445.5 2140.3,1445.51 2141.32,1445.51 2142.34,1445.51 2143.36,1445.51 2144.39,1445.52 2145.41,1445.52 2146.43,1445.52 2147.45,1445.52 2148.47,1445.52 2149.49,1445.53 2150.52,1445.53 2151.54,1445.53 2152.56,1445.53 2153.58,1445.54 2154.6,1445.54 2155.62,1445.54 2156.64,1445.54 2157.67,1445.54 2158.69,1445.55 2159.71,1445.55 2160.73,1445.55 2161.75,1445.55 2162.77,1445.55 2163.8,1445.56 2164.82,1445.56 2165.84,1445.56 2166.86,1445.56 2167.88,1445.56 2168.9,1445.57 2169.92,1445.57 2170.95,1445.57 2171.97,1445.57 2172.99,1445.57 2174.01,1445.58 2175.03,1445.58 2176.05,1445.58 2177.08,1445.58 2178.1,1445.58 2179.12,1445.58 2180.14,1445.59 2181.16,1445.59 2182.18,1445.59 2183.21,1445.59 2184.23,1445.59 2185.25,1445.59 2186.27,1445.6 2187.29,1445.6 2188.31,1445.6 2189.33,1445.6 2190.36,1445.6 2191.38,1445.6 2192.4,1445.61 2193.42,1445.61 2194.44,1445.61 2195.46,1445.61 2196.49,1445.61 2197.51,1445.61 2198.53,1445.62 2199.55,1445.62 2200.57,1445.62 2201.59,1445.62 2202.62,1445.62 2203.64,1445.62 2204.66,1445.62 2205.68,1445.63 2206.7,1445.63 2207.72,1445.63 2208.74,1445.63 2209.77,1445.63 2210.79,1445.63 2211.81,1445.63 2212.83,1445.64 2213.85,1445.64 2214.87,1445.64 2215.9,1445.64 2216.92,1445.64 2217.94,1445.64 2218.96,1445.64 2219.98,1445.64 2221,1445.65 2222.03,1445.65 2223.05,1445.65 2224.07,1445.65 2225.09,1445.65 2226.11,1445.65 2227.13,1445.65 2228.15,1445.65 2229.18,1445.66 2230.2,1445.66 2231.22,1445.66 2232.24,1445.66 2233.26,1445.66 2234.28,1445.66 2235.31,1445.66 2236.33,1445.66 2237.35,1445.66 2238.37,1445.67 2239.39,1445.67 2240.41,1445.67 2241.44,1445.67 2242.46,1445.67 2243.48,1445.67 2244.5,1445.67 2245.52,1445.67 2246.54,1445.67 2247.56,1445.68 2248.59,1445.68 2249.61,1445.68 2250.63,1445.68 2251.65,1445.68 2252.67,1445.68 2253.69,1445.68 2254.72,1445.68 2255.74,1445.68 2256.76,1445.68 2257.78,1445.69 2258.8,1445.69 2259.82,1445.69 2260.84,1445.69 2261.87,1445.69 2262.89,1445.69 2263.91,1445.69 2264.93,1445.69 2265.95,1445.69 2266.97,1445.69 2268,1445.7 2269.02,1445.7 2270.04,1445.7 2271.06,1445.7 2272.08,1445.7 2273.1,1445.7 2274.13,1445.7 2275.15,1445.7 2276.17,1445.7 2277.19,1445.7 2278.21,1445.7 2279.23,1445.71 2280.25,1445.71 2281.28,1445.71 2282.3,1445.71 2283.32,1445.71 2284.34,1445.71 2285.36,1445.71 2286.38,1445.71 2287.41,1445.71 2288.43,1445.71 2289.45,1445.71 2290.47,1445.72 2291.49,1445.72 \"/>\n",
       "<path clip-path=\"url(#clip790)\" d=\"M2011.71 198.898 L2280.6 198.898 L2280.6 95.2176 L2011.71 95.2176  Z\" fill=\"#ffffff\" fill-rule=\"evenodd\" fill-opacity=\"1\"/>\n",
       "<polyline clip-path=\"url(#clip790)\" style=\"stroke:#000000; stroke-linecap:round; stroke-linejoin:round; stroke-width:4; stroke-opacity:1; fill:none\" points=\"2011.71,198.898 2280.6,198.898 2280.6,95.2176 2011.71,95.2176 2011.71,198.898 \"/>\n",
       "<polyline clip-path=\"url(#clip790)\" style=\"stroke:#009af9; stroke-linecap:round; stroke-linejoin:round; stroke-width:4; stroke-opacity:1; fill:none\" points=\"2035.76,147.058 2180.07,147.058 \"/>\n",
       "<path clip-path=\"url(#clip790)\" d=\"M2217.96 166.745 Q2216.16 171.375 2214.44 172.787 Q2212.73 174.199 2209.86 174.199 L2206.46 174.199 L2206.46 170.634 L2208.96 170.634 Q2210.72 170.634 2211.69 169.8 Q2212.66 168.967 2213.84 165.865 L2214.6 163.921 L2204.12 138.412 L2208.63 138.412 L2216.73 158.689 L2224.84 138.412 L2229.35 138.412 L2217.96 166.745 Z\" fill=\"#000000\" fill-rule=\"nonzero\" fill-opacity=\"1\" /><path clip-path=\"url(#clip790)\" d=\"M2236.64 160.402 L2244.28 160.402 L2244.28 134.037 L2235.97 135.703 L2235.97 131.444 L2244.23 129.778 L2248.91 129.778 L2248.91 160.402 L2256.55 160.402 L2256.55 164.338 L2236.64 164.338 L2236.64 160.402 Z\" fill=\"#000000\" fill-rule=\"nonzero\" fill-opacity=\"1\" /></svg>\n"
      ],
      "text/html": [
       "<?xml version=\"1.0\" encoding=\"utf-8\"?>\n",
       "<svg xmlns=\"http://www.w3.org/2000/svg\" xmlns:xlink=\"http://www.w3.org/1999/xlink\" width=\"600\" height=\"400\" viewBox=\"0 0 2400 1600\">\n",
       "<defs>\n",
       "  <clipPath id=\"clip840\">\n",
       "    <rect x=\"0\" y=\"0\" width=\"2400\" height=\"1600\"/>\n",
       "  </clipPath>\n",
       "</defs>\n",
       "<path clip-path=\"url(#clip840)\" d=\"M0 1600 L2400 1600 L2400 0 L0 0  Z\" fill=\"#ffffff\" fill-rule=\"evenodd\" fill-opacity=\"1\"/>\n",
       "<defs>\n",
       "  <clipPath id=\"clip841\">\n",
       "    <rect x=\"480\" y=\"0\" width=\"1681\" height=\"1600\"/>\n",
       "  </clipPath>\n",
       "</defs>\n",
       "<path clip-path=\"url(#clip840)\" d=\"M188.104 1486.45 L2352.76 1486.45 L2352.76 47.2441 L188.104 47.2441  Z\" fill=\"#ffffff\" fill-rule=\"evenodd\" fill-opacity=\"1\"/>\n",
       "<defs>\n",
       "  <clipPath id=\"clip842\">\n",
       "    <rect x=\"188\" y=\"47\" width=\"2166\" height=\"1440\"/>\n",
       "  </clipPath>\n",
       "</defs>\n",
       "<polyline clip-path=\"url(#clip842)\" style=\"stroke:#000000; stroke-linecap:round; stroke-linejoin:round; stroke-width:2; stroke-opacity:0.1; fill:none\" points=\"248.346,1486.45 248.346,47.2441 \"/>\n",
       "<polyline clip-path=\"url(#clip842)\" style=\"stroke:#000000; stroke-linecap:round; stroke-linejoin:round; stroke-width:2; stroke-opacity:0.1; fill:none\" points=\"759.133,1486.45 759.133,47.2441 \"/>\n",
       "<polyline clip-path=\"url(#clip842)\" style=\"stroke:#000000; stroke-linecap:round; stroke-linejoin:round; stroke-width:2; stroke-opacity:0.1; fill:none\" points=\"1269.92,1486.45 1269.92,47.2441 \"/>\n",
       "<polyline clip-path=\"url(#clip842)\" style=\"stroke:#000000; stroke-linecap:round; stroke-linejoin:round; stroke-width:2; stroke-opacity:0.1; fill:none\" points=\"1780.71,1486.45 1780.71,47.2441 \"/>\n",
       "<polyline clip-path=\"url(#clip842)\" style=\"stroke:#000000; stroke-linecap:round; stroke-linejoin:round; stroke-width:2; stroke-opacity:0.1; fill:none\" points=\"2291.49,1486.45 2291.49,47.2441 \"/>\n",
       "<polyline clip-path=\"url(#clip840)\" style=\"stroke:#000000; stroke-linecap:round; stroke-linejoin:round; stroke-width:4; stroke-opacity:1; fill:none\" points=\"188.104,1486.45 2352.76,1486.45 \"/>\n",
       "<polyline clip-path=\"url(#clip840)\" style=\"stroke:#000000; stroke-linecap:round; stroke-linejoin:round; stroke-width:4; stroke-opacity:1; fill:none\" points=\"248.346,1486.45 248.346,1467.55 \"/>\n",
       "<polyline clip-path=\"url(#clip840)\" style=\"stroke:#000000; stroke-linecap:round; stroke-linejoin:round; stroke-width:4; stroke-opacity:1; fill:none\" points=\"759.133,1486.45 759.133,1467.55 \"/>\n",
       "<polyline clip-path=\"url(#clip840)\" style=\"stroke:#000000; stroke-linecap:round; stroke-linejoin:round; stroke-width:4; stroke-opacity:1; fill:none\" points=\"1269.92,1486.45 1269.92,1467.55 \"/>\n",
       "<polyline clip-path=\"url(#clip840)\" style=\"stroke:#000000; stroke-linecap:round; stroke-linejoin:round; stroke-width:4; stroke-opacity:1; fill:none\" points=\"1780.71,1486.45 1780.71,1467.55 \"/>\n",
       "<polyline clip-path=\"url(#clip840)\" style=\"stroke:#000000; stroke-linecap:round; stroke-linejoin:round; stroke-width:4; stroke-opacity:1; fill:none\" points=\"2291.49,1486.45 2291.49,1467.55 \"/>\n",
       "<path clip-path=\"url(#clip840)\" d=\"M248.346 1517.37 Q244.735 1517.37 242.907 1520.93 Q241.101 1524.47 241.101 1531.6 Q241.101 1538.71 242.907 1542.27 Q244.735 1545.82 248.346 1545.82 Q251.981 1545.82 253.786 1542.27 Q255.615 1538.71 255.615 1531.6 Q255.615 1524.47 253.786 1520.93 Q251.981 1517.37 248.346 1517.37 M248.346 1513.66 Q254.156 1513.66 257.212 1518.27 Q260.291 1522.85 260.291 1531.6 Q260.291 1540.33 257.212 1544.94 Q254.156 1549.52 248.346 1549.52 Q242.536 1549.52 239.457 1544.94 Q236.402 1540.33 236.402 1531.6 Q236.402 1522.85 239.457 1518.27 Q242.536 1513.66 248.346 1513.66 Z\" fill=\"#000000\" fill-rule=\"nonzero\" fill-opacity=\"1\" /><path clip-path=\"url(#clip840)\" d=\"M718.751 1514.29 L737.107 1514.29 L737.107 1518.22 L723.033 1518.22 L723.033 1526.7 Q724.052 1526.35 725.07 1526.19 Q726.089 1526 727.107 1526 Q732.894 1526 736.274 1529.17 Q739.654 1532.34 739.654 1537.76 Q739.654 1543.34 736.182 1546.44 Q732.709 1549.52 726.39 1549.52 Q724.214 1549.52 721.945 1549.15 Q719.7 1548.78 717.293 1548.04 L717.293 1543.34 Q719.376 1544.47 721.598 1545.03 Q723.82 1545.58 726.297 1545.58 Q730.302 1545.58 732.64 1543.48 Q734.978 1541.37 734.978 1537.76 Q734.978 1534.15 732.64 1532.04 Q730.302 1529.94 726.297 1529.94 Q724.422 1529.94 722.547 1530.35 Q720.695 1530.77 718.751 1531.65 L718.751 1514.29 Z\" fill=\"#000000\" fill-rule=\"nonzero\" fill-opacity=\"1\" /><path clip-path=\"url(#clip840)\" d=\"M758.867 1517.37 Q755.255 1517.37 753.427 1520.93 Q751.621 1524.47 751.621 1531.6 Q751.621 1538.71 753.427 1542.27 Q755.255 1545.82 758.867 1545.82 Q762.501 1545.82 764.306 1542.27 Q766.135 1538.71 766.135 1531.6 Q766.135 1524.47 764.306 1520.93 Q762.501 1517.37 758.867 1517.37 M758.867 1513.66 Q764.677 1513.66 767.732 1518.27 Q770.811 1522.85 770.811 1531.6 Q770.811 1540.33 767.732 1544.94 Q764.677 1549.52 758.867 1549.52 Q753.056 1549.52 749.978 1544.94 Q746.922 1540.33 746.922 1531.6 Q746.922 1522.85 749.978 1518.27 Q753.056 1513.66 758.867 1513.66 Z\" fill=\"#000000\" fill-rule=\"nonzero\" fill-opacity=\"1\" /><path clip-path=\"url(#clip840)\" d=\"M789.028 1517.37 Q785.417 1517.37 783.589 1520.93 Q781.783 1524.47 781.783 1531.6 Q781.783 1538.71 783.589 1542.27 Q785.417 1545.82 789.028 1545.82 Q792.663 1545.82 794.468 1542.27 Q796.297 1538.71 796.297 1531.6 Q796.297 1524.47 794.468 1520.93 Q792.663 1517.37 789.028 1517.37 M789.028 1513.66 Q794.839 1513.66 797.894 1518.27 Q800.973 1522.85 800.973 1531.6 Q800.973 1540.33 797.894 1544.94 Q794.839 1549.52 789.028 1549.52 Q783.218 1549.52 780.14 1544.94 Q777.084 1540.33 777.084 1531.6 Q777.084 1522.85 780.14 1518.27 Q783.218 1513.66 789.028 1513.66 Z\" fill=\"#000000\" fill-rule=\"nonzero\" fill-opacity=\"1\" /><path clip-path=\"url(#clip840)\" d=\"M1214.44 1544.91 L1222.08 1544.91 L1222.08 1518.55 L1213.77 1520.21 L1213.77 1515.95 L1222.04 1514.29 L1226.71 1514.29 L1226.71 1544.91 L1234.35 1544.91 L1234.35 1548.85 L1214.44 1548.85 L1214.44 1544.91 Z\" fill=\"#000000\" fill-rule=\"nonzero\" fill-opacity=\"1\" /><path clip-path=\"url(#clip840)\" d=\"M1253.8 1517.37 Q1250.19 1517.37 1248.36 1520.93 Q1246.55 1524.47 1246.55 1531.6 Q1246.55 1538.71 1248.36 1542.27 Q1250.19 1545.82 1253.8 1545.82 Q1257.43 1545.82 1259.24 1542.27 Q1261.07 1538.71 1261.07 1531.6 Q1261.07 1524.47 1259.24 1520.93 Q1257.43 1517.37 1253.8 1517.37 M1253.8 1513.66 Q1259.61 1513.66 1262.66 1518.27 Q1265.74 1522.85 1265.74 1531.6 Q1265.74 1540.33 1262.66 1544.94 Q1259.61 1549.52 1253.8 1549.52 Q1247.99 1549.52 1244.91 1544.94 Q1241.85 1540.33 1241.85 1531.6 Q1241.85 1522.85 1244.91 1518.27 Q1247.99 1513.66 1253.8 1513.66 Z\" fill=\"#000000\" fill-rule=\"nonzero\" fill-opacity=\"1\" /><path clip-path=\"url(#clip840)\" d=\"M1283.96 1517.37 Q1280.35 1517.37 1278.52 1520.93 Q1276.71 1524.47 1276.71 1531.6 Q1276.71 1538.71 1278.52 1542.27 Q1280.35 1545.82 1283.96 1545.82 Q1287.59 1545.82 1289.4 1542.27 Q1291.23 1538.71 1291.23 1531.6 Q1291.23 1524.47 1289.4 1520.93 Q1287.59 1517.37 1283.96 1517.37 M1283.96 1513.66 Q1289.77 1513.66 1292.82 1518.27 Q1295.9 1522.85 1295.9 1531.6 Q1295.9 1540.33 1292.82 1544.94 Q1289.77 1549.52 1283.96 1549.52 Q1278.15 1549.52 1275.07 1544.94 Q1272.01 1540.33 1272.01 1531.6 Q1272.01 1522.85 1275.07 1518.27 Q1278.15 1513.66 1283.96 1513.66 Z\" fill=\"#000000\" fill-rule=\"nonzero\" fill-opacity=\"1\" /><path clip-path=\"url(#clip840)\" d=\"M1314.12 1517.37 Q1310.51 1517.37 1308.68 1520.93 Q1306.88 1524.47 1306.88 1531.6 Q1306.88 1538.71 1308.68 1542.27 Q1310.51 1545.82 1314.12 1545.82 Q1317.75 1545.82 1319.56 1542.27 Q1321.39 1538.71 1321.39 1531.6 Q1321.39 1524.47 1319.56 1520.93 Q1317.75 1517.37 1314.12 1517.37 M1314.12 1513.66 Q1319.93 1513.66 1322.99 1518.27 Q1326.06 1522.85 1326.06 1531.6 Q1326.06 1540.33 1322.99 1544.94 Q1319.93 1549.52 1314.12 1549.52 Q1308.31 1549.52 1305.23 1544.94 Q1302.18 1540.33 1302.18 1531.6 Q1302.18 1522.85 1305.23 1518.27 Q1308.31 1513.66 1314.12 1513.66 Z\" fill=\"#000000\" fill-rule=\"nonzero\" fill-opacity=\"1\" /><path clip-path=\"url(#clip840)\" d=\"M1725.23 1544.91 L1732.87 1544.91 L1732.87 1518.55 L1724.56 1520.21 L1724.56 1515.95 L1732.82 1514.29 L1737.5 1514.29 L1737.5 1544.91 L1745.14 1544.91 L1745.14 1548.85 L1725.23 1548.85 L1725.23 1544.91 Z\" fill=\"#000000\" fill-rule=\"nonzero\" fill-opacity=\"1\" /><path clip-path=\"url(#clip840)\" d=\"M1754.63 1514.29 L1772.99 1514.29 L1772.99 1518.22 L1758.91 1518.22 L1758.91 1526.7 Q1759.93 1526.35 1760.95 1526.19 Q1761.97 1526 1762.99 1526 Q1768.77 1526 1772.15 1529.17 Q1775.53 1532.34 1775.53 1537.76 Q1775.53 1543.34 1772.06 1546.44 Q1768.59 1549.52 1762.27 1549.52 Q1760.09 1549.52 1757.82 1549.15 Q1755.58 1548.78 1753.17 1548.04 L1753.17 1543.34 Q1755.25 1544.47 1757.48 1545.03 Q1759.7 1545.58 1762.18 1545.58 Q1766.18 1545.58 1768.52 1543.48 Q1770.86 1541.37 1770.86 1537.76 Q1770.86 1534.15 1768.52 1532.04 Q1766.18 1529.94 1762.18 1529.94 Q1760.3 1529.94 1758.43 1530.35 Q1756.57 1530.77 1754.63 1531.65 L1754.63 1514.29 Z\" fill=\"#000000\" fill-rule=\"nonzero\" fill-opacity=\"1\" /><path clip-path=\"url(#clip840)\" d=\"M1794.74 1517.37 Q1791.13 1517.37 1789.31 1520.93 Q1787.5 1524.47 1787.5 1531.6 Q1787.5 1538.71 1789.31 1542.27 Q1791.13 1545.82 1794.74 1545.82 Q1798.38 1545.82 1800.18 1542.27 Q1802.01 1538.71 1802.01 1531.6 Q1802.01 1524.47 1800.18 1520.93 Q1798.38 1517.37 1794.74 1517.37 M1794.74 1513.66 Q1800.56 1513.66 1803.61 1518.27 Q1806.69 1522.85 1806.69 1531.6 Q1806.69 1540.33 1803.61 1544.94 Q1800.56 1549.52 1794.74 1549.52 Q1788.93 1549.52 1785.86 1544.94 Q1782.8 1540.33 1782.8 1531.6 Q1782.8 1522.85 1785.86 1518.27 Q1788.93 1513.66 1794.74 1513.66 Z\" fill=\"#000000\" fill-rule=\"nonzero\" fill-opacity=\"1\" /><path clip-path=\"url(#clip840)\" d=\"M1824.91 1517.37 Q1821.3 1517.37 1819.47 1520.93 Q1817.66 1524.47 1817.66 1531.6 Q1817.66 1538.71 1819.47 1542.27 Q1821.3 1545.82 1824.91 1545.82 Q1828.54 1545.82 1830.35 1542.27 Q1832.18 1538.71 1832.18 1531.6 Q1832.18 1524.47 1830.35 1520.93 Q1828.54 1517.37 1824.91 1517.37 M1824.91 1513.66 Q1830.72 1513.66 1833.77 1518.27 Q1836.85 1522.85 1836.85 1531.6 Q1836.85 1540.33 1833.77 1544.94 Q1830.72 1549.52 1824.91 1549.52 Q1819.1 1549.52 1816.02 1544.94 Q1812.96 1540.33 1812.96 1531.6 Q1812.96 1522.85 1816.02 1518.27 Q1819.1 1513.66 1824.91 1513.66 Z\" fill=\"#000000\" fill-rule=\"nonzero\" fill-opacity=\"1\" /><path clip-path=\"url(#clip840)\" d=\"M2240.1 1544.91 L2256.42 1544.91 L2256.42 1548.85 L2234.48 1548.85 L2234.48 1544.91 Q2237.14 1542.16 2241.72 1537.53 Q2246.33 1532.88 2247.51 1531.53 Q2249.76 1529.01 2250.64 1527.27 Q2251.54 1525.51 2251.54 1523.82 Q2251.54 1521.07 2249.59 1519.33 Q2247.67 1517.6 2244.57 1517.6 Q2242.37 1517.6 2239.92 1518.36 Q2237.49 1519.13 2234.71 1520.68 L2234.71 1515.95 Q2237.53 1514.82 2239.99 1514.24 Q2242.44 1513.66 2244.48 1513.66 Q2249.85 1513.66 2253.04 1516.35 Q2256.24 1519.03 2256.24 1523.52 Q2256.24 1525.65 2255.43 1527.57 Q2254.64 1529.47 2252.53 1532.07 Q2251.96 1532.74 2248.85 1535.95 Q2245.75 1539.15 2240.1 1544.91 Z\" fill=\"#000000\" fill-rule=\"nonzero\" fill-opacity=\"1\" /><path clip-path=\"url(#clip840)\" d=\"M2276.24 1517.37 Q2272.63 1517.37 2270.8 1520.93 Q2268.99 1524.47 2268.99 1531.6 Q2268.99 1538.71 2270.8 1542.27 Q2272.63 1545.82 2276.24 1545.82 Q2279.87 1545.82 2281.68 1542.27 Q2283.51 1538.71 2283.51 1531.6 Q2283.51 1524.47 2281.68 1520.93 Q2279.87 1517.37 2276.24 1517.37 M2276.24 1513.66 Q2282.05 1513.66 2285.1 1518.27 Q2288.18 1522.85 2288.18 1531.6 Q2288.18 1540.33 2285.1 1544.94 Q2282.05 1549.52 2276.24 1549.52 Q2270.43 1549.52 2267.35 1544.94 Q2264.29 1540.33 2264.29 1531.6 Q2264.29 1522.85 2267.35 1518.27 Q2270.43 1513.66 2276.24 1513.66 Z\" fill=\"#000000\" fill-rule=\"nonzero\" fill-opacity=\"1\" /><path clip-path=\"url(#clip840)\" d=\"M2306.4 1517.37 Q2302.79 1517.37 2300.96 1520.93 Q2299.15 1524.47 2299.15 1531.6 Q2299.15 1538.71 2300.96 1542.27 Q2302.79 1545.82 2306.4 1545.82 Q2310.03 1545.82 2311.84 1542.27 Q2313.67 1538.71 2313.67 1531.6 Q2313.67 1524.47 2311.84 1520.93 Q2310.03 1517.37 2306.4 1517.37 M2306.4 1513.66 Q2312.21 1513.66 2315.27 1518.27 Q2318.34 1522.85 2318.34 1531.6 Q2318.34 1540.33 2315.27 1544.94 Q2312.21 1549.52 2306.4 1549.52 Q2300.59 1549.52 2297.51 1544.94 Q2294.46 1540.33 2294.46 1531.6 Q2294.46 1522.85 2297.51 1518.27 Q2300.59 1513.66 2306.4 1513.66 Z\" fill=\"#000000\" fill-rule=\"nonzero\" fill-opacity=\"1\" /><path clip-path=\"url(#clip840)\" d=\"M2336.56 1517.37 Q2332.95 1517.37 2331.12 1520.93 Q2329.32 1524.47 2329.32 1531.6 Q2329.32 1538.71 2331.12 1542.27 Q2332.95 1545.82 2336.56 1545.82 Q2340.2 1545.82 2342 1542.27 Q2343.83 1538.71 2343.83 1531.6 Q2343.83 1524.47 2342 1520.93 Q2340.2 1517.37 2336.56 1517.37 M2336.56 1513.66 Q2342.37 1513.66 2345.43 1518.27 Q2348.51 1522.85 2348.51 1531.6 Q2348.51 1540.33 2345.43 1544.94 Q2342.37 1549.52 2336.56 1549.52 Q2330.75 1549.52 2327.67 1544.94 Q2324.62 1540.33 2324.62 1531.6 Q2324.62 1522.85 2327.67 1518.27 Q2330.75 1513.66 2336.56 1513.66 Z\" fill=\"#000000\" fill-rule=\"nonzero\" fill-opacity=\"1\" /><polyline clip-path=\"url(#clip842)\" style=\"stroke:#000000; stroke-linecap:round; stroke-linejoin:round; stroke-width:2; stroke-opacity:0.1; fill:none\" points=\"188.104,966.459 2352.76,966.459 \"/>\n",
       "<polyline clip-path=\"url(#clip842)\" style=\"stroke:#000000; stroke-linecap:round; stroke-linejoin:round; stroke-width:2; stroke-opacity:0.1; fill:none\" points=\"188.104,141.382 2352.76,141.382 \"/>\n",
       "<polyline clip-path=\"url(#clip840)\" style=\"stroke:#000000; stroke-linecap:round; stroke-linejoin:round; stroke-width:4; stroke-opacity:1; fill:none\" points=\"188.104,1486.45 188.104,47.2441 \"/>\n",
       "<polyline clip-path=\"url(#clip840)\" style=\"stroke:#000000; stroke-linecap:round; stroke-linejoin:round; stroke-width:4; stroke-opacity:1; fill:none\" points=\"188.104,966.459 207.002,966.459 \"/>\n",
       "<polyline clip-path=\"url(#clip840)\" style=\"stroke:#000000; stroke-linecap:round; stroke-linejoin:round; stroke-width:4; stroke-opacity:1; fill:none\" points=\"188.104,141.382 207.002,141.382 \"/>\n",
       "<path clip-path=\"url(#clip840)\" d=\"M51.6634 986.251 L59.3023 986.251 L59.3023 959.886 L50.9921 961.552 L50.9921 957.293 L59.256 955.626 L63.9319 955.626 L63.9319 986.251 L71.5707 986.251 L71.5707 990.186 L51.6634 990.186 L51.6634 986.251 Z\" fill=\"#000000\" fill-rule=\"nonzero\" fill-opacity=\"1\" /><path clip-path=\"url(#clip840)\" d=\"M91.0151 958.705 Q87.404 958.705 85.5753 962.27 Q83.7697 965.812 83.7697 972.941 Q83.7697 980.048 85.5753 983.612 Q87.404 987.154 91.0151 987.154 Q94.6493 987.154 96.4548 983.612 Q98.2835 980.048 98.2835 972.941 Q98.2835 965.812 96.4548 962.27 Q94.6493 958.705 91.0151 958.705 M91.0151 955.001 Q96.8252 955.001 99.8808 959.608 Q102.959 964.191 102.959 972.941 Q102.959 981.668 99.8808 986.274 Q96.8252 990.858 91.0151 990.858 Q85.2049 990.858 82.1262 986.274 Q79.0707 981.668 79.0707 972.941 Q79.0707 964.191 82.1262 959.608 Q85.2049 955.001 91.0151 955.001 Z\" fill=\"#000000\" fill-rule=\"nonzero\" fill-opacity=\"1\" /><path clip-path=\"url(#clip840)\" d=\"M102.959 949.103 L127.071 949.103 L127.071 952.3 L102.959 952.3 L102.959 949.103 Z\" fill=\"#000000\" fill-rule=\"nonzero\" fill-opacity=\"1\" /><path clip-path=\"url(#clip840)\" d=\"M135.929 959.579 L142.136 959.579 L142.136 938.157 L135.384 939.511 L135.384 936.05 L142.098 934.696 L145.898 934.696 L145.898 959.579 L152.104 959.579 L152.104 962.776 L135.929 962.776 L135.929 959.579 Z\" fill=\"#000000\" fill-rule=\"nonzero\" fill-opacity=\"1\" /><path clip-path=\"url(#clip840)\" d=\"M81.3985 161.175 L89.0374 161.175 L89.0374 134.809 L80.7272 136.476 L80.7272 132.217 L88.9911 130.55 L93.667 130.55 L93.667 161.175 L101.306 161.175 L101.306 165.11 L81.3985 165.11 L81.3985 161.175 Z\" fill=\"#000000\" fill-rule=\"nonzero\" fill-opacity=\"1\" /><path clip-path=\"url(#clip840)\" d=\"M120.75 133.629 Q117.139 133.629 115.31 137.193 Q113.505 140.735 113.505 147.865 Q113.505 154.971 115.31 158.536 Q117.139 162.078 120.75 162.078 Q124.384 162.078 126.19 158.536 Q128.019 154.971 128.019 147.865 Q128.019 140.735 126.19 137.193 Q124.384 133.629 120.75 133.629 M120.75 129.925 Q126.56 129.925 129.616 134.531 Q132.695 139.115 132.695 147.865 Q132.695 156.592 129.616 161.198 Q126.56 165.781 120.75 165.781 Q114.94 165.781 111.861 161.198 Q108.806 156.592 108.806 147.865 Q108.806 139.115 111.861 134.531 Q114.94 129.925 120.75 129.925 Z\" fill=\"#000000\" fill-rule=\"nonzero\" fill-opacity=\"1\" /><path clip-path=\"url(#clip840)\" d=\"M142.399 112.121 Q139.465 112.121 137.98 115.017 Q136.513 117.895 136.513 123.688 Q136.513 129.462 137.98 132.358 Q139.465 135.236 142.399 135.236 Q145.352 135.236 146.819 132.358 Q148.305 129.462 148.305 123.688 Q148.305 117.895 146.819 115.017 Q145.352 112.121 142.399 112.121 M142.399 109.112 Q147.12 109.112 149.603 112.855 Q152.104 116.578 152.104 123.688 Q152.104 130.778 149.603 134.521 Q147.12 138.245 142.399 138.245 Q137.679 138.245 135.177 134.521 Q132.695 130.778 132.695 123.688 Q132.695 116.578 135.177 112.855 Q137.679 109.112 142.399 109.112 Z\" fill=\"#000000\" fill-rule=\"nonzero\" fill-opacity=\"1\" /><polyline clip-path=\"url(#clip842)\" style=\"stroke:#009af9; stroke-linecap:round; stroke-linejoin:round; stroke-width:4; stroke-opacity:1; fill:none\" points=\"249.368,87.9763 250.389,90.6993 251.411,93.4137 252.433,96.1191 253.454,98.8144 254.476,101.5 255.497,104.175 256.519,106.84 257.54,109.494 258.562,112.138 259.584,114.773 260.605,117.4 261.627,120.018 262.648,122.629 263.67,125.234 264.691,127.833 265.713,130.427 266.735,133.014 267.756,135.598 268.778,138.179 269.799,140.756 270.821,143.332 271.842,145.906 272.864,148.48 273.886,151.054 274.907,153.629 275.929,156.206 276.95,158.788 277.972,161.372 278.993,163.962 280.015,166.558 281.037,169.162 282.058,171.774 283.08,174.394 284.101,177.025 285.123,179.666 286.144,182.319 287.166,184.984 288.188,187.66 289.209,190.349 290.231,193.052 291.252,195.768 292.274,198.496 293.296,201.239 294.317,203.995 295.339,206.764 296.36,209.547 297.382,212.344 298.403,215.153 299.425,217.976 300.447,220.813 301.468,223.662 302.49,226.524 303.511,229.398 304.533,232.285 305.554,235.183 306.576,238.092 307.598,241.013 308.619,243.944 309.641,246.884 310.662,249.834 311.684,252.793 312.705,255.759 313.727,258.733 314.749,261.715 315.77,264.701 316.792,267.691 317.813,270.687 318.835,273.686 319.856,276.688 320.878,279.69 321.9,282.694 322.921,285.697 323.943,288.698 324.964,291.698 325.986,294.694 327.007,297.685 328.029,300.672 329.051,303.654 330.072,306.627 331.094,309.594 332.115,312.551 333.137,315.499 334.158,318.437 335.18,321.365 336.202,324.281 337.223,327.185 338.245,330.077 339.266,332.955 340.288,335.82 341.309,338.672 342.331,341.508 343.353,344.332 344.374,347.141 345.396,349.936 346.417,352.716 347.439,355.48 348.46,358.232 349.482,360.968 350.504,363.69 351.525,366.397 352.547,369.093 353.568,371.774 354.59,374.44 355.611,377.094 356.633,379.738 357.655,382.367 358.676,384.985 359.698,387.591 360.719,390.186 361.741,392.77 362.762,395.345 363.784,397.909 364.806,400.463 365.827,403.007 366.849,405.544 367.87,408.071 368.892,410.591 369.913,413.101 370.935,415.605 371.957,418.102 372.978,420.591 374,423.073 375.021,425.55 376.043,428.019 377.064,430.482 378.086,432.939 379.108,435.392 380.129,437.838 381.151,440.28 382.172,442.714 383.194,445.144 384.215,447.57 385.237,449.989 386.259,452.406 387.28,454.816 388.302,457.223 389.323,459.624 390.345,462.022 391.367,464.414 392.388,466.802 393.41,469.186 394.431,471.567 395.453,473.941 396.474,476.313 397.496,478.679 398.518,481.042 399.539,483.4 400.561,485.755 401.582,488.105 402.604,490.451 403.625,492.793 404.647,495.13 405.669,497.464 406.69,499.794 407.712,502.12 408.733,504.441 409.755,506.757 410.776,509.07 411.798,511.381 412.82,513.686 413.841,515.987 414.863,518.282 415.884,520.576 416.906,522.864 417.927,525.149 418.949,527.43 419.971,529.706 420.992,531.978 422.014,534.247 423.035,536.511 424.057,538.77 425.078,541.026 426.1,543.278 427.122,545.525 428.143,547.768 429.165,550.007 430.186,552.242 431.208,554.474 432.229,556.699 433.251,558.921 434.273,561.14 435.294,563.353 436.316,565.563 437.337,567.768 438.359,569.969 439.38,572.165 440.402,574.358 441.424,576.546 442.445,578.729 443.467,580.908 444.488,583.083 445.51,585.253 446.531,587.42 447.553,589.58 448.575,591.738 449.596,593.892 450.618,596.039 451.639,598.183 452.661,600.322 453.682,602.456 454.704,604.586 455.726,606.712 456.747,608.833 457.769,610.95 458.79,613.06 459.812,615.168 460.833,617.271 461.855,619.368 462.877,621.462 463.898,623.55 464.92,625.634 465.941,627.714 466.963,629.787 467.984,631.858 469.006,633.923 470.028,635.984 471.049,638.04 472.071,640.09 473.092,642.137 474.114,644.178 475.135,646.214 476.157,648.248 477.179,650.273 478.2,652.294 479.222,654.312 480.243,656.325 481.265,658.332 482.287,660.337 483.308,662.334 484.33,664.327 485.351,666.315 486.373,668.3 487.394,670.276 488.416,672.251 489.438,674.219 490.459,676.184 491.481,678.143 492.502,680.097 493.524,682.047 494.545,683.99 495.567,685.931 496.589,687.864 497.61,689.794 498.632,691.719 499.653,693.638 500.675,695.553 501.696,697.464 502.718,699.369 503.74,701.27 504.761,703.164 505.783,705.055 506.804,706.941 507.826,708.821 508.847,710.696 509.869,712.567 510.891,714.434 511.912,716.295 512.934,718.151 513.955,720.001 514.977,721.847 515.998,723.688 517.02,725.526 518.042,727.359 519.063,729.184 520.085,731.006 521.106,732.823 522.128,734.634 523.149,736.442 524.171,738.244 525.193,740.04 526.214,741.834 527.236,743.621 528.257,745.405 529.279,747.182 530.3,748.955 531.322,750.724 532.344,752.487 533.365,754.246 534.387,755.999 535.408,757.748 536.43,759.491 537.451,761.231 538.473,762.967 539.495,764.697 540.516,766.42 541.538,768.143 542.559,769.857 543.581,771.568 544.602,773.274 545.624,774.976 546.646,776.672 547.667,778.363 548.689,780.051 549.71,781.733 550.732,783.41 551.753,785.084 552.775,786.752 553.797,788.416 554.818,790.075 555.84,791.729 556.861,793.381 557.883,795.026 558.904,796.665 559.926,798.3 560.948,799.933 561.969,801.559 562.991,803.18 564.012,804.799 565.034,806.411 566.055,808.019 567.077,809.624 568.099,811.224 569.12,812.818 570.142,814.407 571.163,815.995 572.185,817.576 573.206,819.151 574.228,820.724 575.25,822.292 576.271,823.856 577.293,825.415 578.314,826.969 579.336,828.519 580.358,830.065 581.379,831.608 582.401,833.144 583.422,834.677 584.444,836.205 585.465,837.73 586.487,839.249 587.509,840.765 588.53,842.274 589.552,843.782 590.573,845.284 591.595,846.784 592.616,848.276 593.638,849.766 594.66,851.25 595.681,852.732 596.703,854.212 597.724,855.682 598.746,857.151 599.767,858.614 600.789,860.075 601.811,861.532 602.832,862.984 603.854,864.431 604.875,865.876 605.897,867.313 606.918,868.751 607.94,870.182 608.962,871.61 609.983,873.033 611.005,874.45 612.026,875.865 613.048,877.277 614.069,878.684 615.091,880.086 616.113,881.485 617.134,882.881 618.156,884.272 619.177,885.659 620.199,887.043 621.22,888.421 622.242,889.798 623.264,891.169 624.285,892.536 625.307,893.901 626.328,895.26 627.35,896.614 628.371,897.968 629.393,899.315 630.415,900.66 631.436,902 632.458,903.34 633.479,904.671 634.501,906 635.522,907.326 636.544,908.647 637.566,909.965 638.587,911.28 639.609,912.591 640.63,913.898 641.652,915.201 642.673,916.501 643.695,917.795 644.717,919.086 645.738,920.376 646.76,921.662 647.781,922.941 648.803,924.218 649.824,925.495 650.846,926.763 651.868,928.03 652.889,929.294 653.911,930.552 654.932,931.809 655.954,933.063 656.975,934.31 657.997,935.557 659.019,936.797 660.04,938.036 661.062,939.273 662.083,940.502 663.105,941.731 664.126,942.957 665.148,944.178 666.17,945.395 667.191,946.609 668.213,947.819 669.234,949.028 670.256,950.232 671.277,951.433 672.299,952.632 673.321,953.826 674.342,955.016 675.364,956.203 676.385,957.388 677.407,958.568 678.429,959.747 679.45,960.921 680.472,962.091 681.493,963.261 682.515,964.424 683.536,965.585 684.558,966.743 685.58,967.898 686.601,969.049 687.623,970.197 688.644,971.342 689.666,972.484 690.687,973.624 691.709,974.758 692.731,975.893 693.752,977.022 694.774,978.149 695.795,979.272 696.817,980.392 697.838,981.511 698.86,982.623 699.882,983.735 700.903,984.841 701.925,985.947 702.946,987.049 703.968,988.148 704.989,989.241 706.011,990.335 707.033,991.425 708.054,992.511 709.076,993.595 710.097,994.676 711.119,995.753 712.14,996.829 713.162,997.902 714.184,998.97 715.205,1000.04 716.227,1001.1 717.248,1002.16 718.27,1003.22 719.291,1004.27 720.313,1005.32 721.335,1006.37 722.356,1007.41 723.378,1008.46 724.399,1009.5 725.421,1010.54 726.442,1011.57 727.464,1012.6 728.486,1013.63 729.507,1014.66 730.529,1015.68 731.55,1016.7 732.572,1017.72 733.593,1018.73 734.615,1019.74 735.637,1020.76 736.658,1021.76 737.68,1022.76 738.701,1023.77 739.723,1024.76 740.744,1025.76 741.766,1026.75 742.788,1027.74 743.809,1028.73 744.831,1029.72 745.852,1030.7 746.874,1031.68 747.895,1032.66 748.917,1033.63 749.939,1034.61 750.96,1035.57 751.982,1036.54 753.003,1037.5 754.025,1038.47 755.046,1039.42 756.068,1040.38 757.09,1041.33 758.111,1042.29 759.133,1043.23 760.154,1044.18 761.176,1045.13 762.197,1046.07 763.219,1047.01 764.241,1047.94 765.262,1048.87 766.284,1049.81 767.305,1050.74 768.327,1051.66 769.348,1052.59 770.37,1053.51 771.392,1054.43 772.413,1055.34 773.435,1056.26 774.456,1057.17 775.478,1058.07 776.5,1058.98 777.521,1059.89 778.543,1060.79 779.564,1061.69 780.586,1062.59 781.607,1063.48 782.629,1064.37 783.651,1065.26 784.672,1066.15 785.694,1067.04 786.715,1067.92 787.737,1068.8 788.758,1069.68 789.78,1070.56 790.802,1071.43 791.823,1072.31 792.845,1073.17 793.866,1074.04 794.888,1074.9 795.909,1075.77 796.931,1076.63 797.953,1077.49 798.974,1078.34 799.996,1079.19 801.017,1080.05 802.039,1080.89 803.06,1081.74 804.082,1082.59 805.104,1083.43 806.125,1084.27 807.147,1085.11 808.168,1085.94 809.19,1086.78 810.211,1087.61 811.233,1088.44 812.255,1089.27 813.276,1090.09 814.298,1090.91 815.319,1091.74 816.341,1092.55 817.362,1093.37 818.384,1094.19 819.406,1095 820.427,1095.81 821.449,1096.62 822.47,1097.42 823.492,1098.23 824.513,1099.03 825.535,1099.83 826.557,1100.63 827.578,1101.42 828.6,1102.22 829.621,1103.01 830.643,1103.8 831.664,1104.58 832.686,1105.37 833.708,1106.15 834.729,1106.94 835.751,1107.72 836.772,1108.49 837.794,1109.27 838.815,1110.04 839.837,1110.81 840.859,1111.58 841.88,1112.35 842.902,1113.12 843.923,1113.88 844.945,1114.65 845.966,1115.4 846.988,1116.16 848.01,1116.92 849.031,1117.67 850.053,1118.42 851.074,1119.18 852.096,1119.92 853.117,1120.67 854.139,1121.42 855.161,1122.16 856.182,1122.9 857.204,1123.64 858.225,1124.38 859.247,1125.11 860.268,1125.85 861.29,1126.58 862.312,1127.31 863.333,1128.04 864.355,1128.76 865.376,1129.49 866.398,1130.21 867.419,1130.93 868.441,1131.65 869.463,1132.37 870.484,1133.08 871.506,1133.79 872.527,1134.51 873.549,1135.22 874.571,1135.92 875.592,1136.63 876.614,1137.33 877.635,1138.04 878.657,1138.74 879.678,1139.44 880.7,1140.14 881.722,1140.83 882.743,1141.53 883.765,1142.22 884.786,1142.91 885.808,1143.6 886.829,1144.29 887.851,1144.97 888.873,1145.65 889.894,1146.34 890.916,1147.02 891.937,1147.7 892.959,1148.37 893.98,1149.05 895.002,1149.72 896.024,1150.39 897.045,1151.06 898.067,1151.73 899.088,1152.4 900.11,1153.07 901.131,1153.73 902.153,1154.39 903.175,1155.05 904.196,1155.71 905.218,1156.37 906.239,1157.02 907.261,1157.68 908.282,1158.33 909.304,1158.98 910.326,1159.63 911.347,1160.28 912.369,1160.93 913.39,1161.57 914.412,1162.21 915.433,1162.85 916.455,1163.49 917.477,1164.13 918.498,1164.77 919.52,1165.4 920.541,1166.04 921.563,1166.67 922.584,1167.3 923.606,1167.93 924.628,1168.56 925.649,1169.18 926.671,1169.8 927.692,1170.43 928.714,1171.05 929.735,1171.67 930.757,1172.29 931.779,1172.91 932.8,1173.52 933.822,1174.14 934.843,1174.75 935.865,1175.36 936.886,1175.97 937.908,1176.58 938.93,1177.18 939.951,1177.79 940.973,1178.39 941.994,1178.99 943.016,1179.59 944.037,1180.19 945.059,1180.79 946.081,1181.39 947.102,1181.98 948.124,1182.57 949.145,1183.16 950.167,1183.76 951.188,1184.34 952.21,1184.93 953.232,1185.52 954.253,1186.1 955.275,1186.69 956.296,1187.27 957.318,1187.85 958.339,1188.43 959.361,1189.01 960.383,1189.58 961.404,1190.16 962.426,1190.73 963.447,1191.31 964.469,1191.88 965.491,1192.45 966.512,1193.01 967.534,1193.58 968.555,1194.15 969.577,1194.71 970.598,1195.27 971.62,1195.83 972.642,1196.4 973.663,1196.95 974.685,1197.51 975.706,1198.07 976.728,1198.62 977.749,1199.18 978.771,1199.73 979.793,1200.28 980.814,1200.83 981.836,1201.38 982.857,1201.93 983.879,1202.47 984.9,1203.02 985.922,1203.56 986.944,1204.1 987.965,1204.64 988.987,1205.18 990.008,1205.72 991.03,1206.26 992.051,1206.79 993.073,1207.33 994.095,1207.86 995.116,1208.39 996.138,1208.92 997.159,1209.45 998.181,1209.98 999.202,1210.51 1000.22,1211.03 1001.25,1211.56 1002.27,1212.08 1003.29,1212.6 1004.31,1213.12 1005.33,1213.64 1006.35,1214.16 1007.37,1214.68 1008.4,1215.19 1009.42,1215.71 1010.44,1216.22 1011.46,1216.73 1012.48,1217.24 1013.5,1217.75 1014.53,1218.26 1015.55,1218.77 1016.57,1219.28 1017.59,1219.78 1018.61,1220.29 1019.63,1220.79 1020.66,1221.29 1021.68,1221.79 1022.7,1222.29 1023.72,1222.79 1024.74,1223.28 1025.76,1223.78 1026.78,1224.28 1027.81,1224.77 1028.83,1225.26 1029.85,1225.75 1030.87,1226.24 1031.89,1226.73 1032.91,1227.22 1033.94,1227.71 1034.96,1228.19 1035.98,1228.68 1037,1229.16 1038.02,1229.64 1039.04,1230.12 1040.07,1230.6 1041.09,1231.08 1042.11,1231.56 1043.13,1232.04 1044.15,1232.51 1045.17,1232.99 1046.19,1233.46 1047.22,1233.93 1048.24,1234.4 1049.26,1234.87 1050.28,1235.34 1051.3,1235.81 1052.32,1236.28 1053.35,1236.74 1054.37,1237.21 1055.39,1237.67 1056.41,1238.13 1057.43,1238.59 1058.45,1239.06 1059.48,1239.52 1060.5,1239.97 1061.52,1240.43 1062.54,1240.89 1063.56,1241.34 1064.58,1241.8 1065.6,1242.25 1066.63,1242.7 1067.65,1243.15 1068.67,1243.61 1069.69,1244.05 1070.71,1244.5 1071.73,1244.95 1072.76,1245.39 1073.78,1245.84 1074.8,1246.28 1075.82,1246.73 1076.84,1247.17 1077.86,1247.61 1078.89,1248.05 1079.91,1248.49 1080.93,1248.93 1081.95,1249.36 1082.97,1249.8 1083.99,1250.23 1085.01,1250.67 1086.04,1251.1 1087.06,1251.54 1088.08,1251.97 1089.1,1252.4 1090.12,1252.82 1091.14,1253.25 1092.17,1253.68 1093.19,1254.1 1094.21,1254.53 1095.23,1254.95 1096.25,1255.38 1097.27,1255.8 1098.29,1256.23 1099.32,1256.64 1100.34,1257.06 1101.36,1257.48 1102.38,1257.9 1103.4,1258.32 1104.42,1258.73 1105.45,1259.15 1106.47,1259.56 1107.49,1259.97 1108.51,1260.38 1109.53,1260.8 1110.55,1261.21 1111.58,1261.61 1112.6,1262.02 1113.62,1262.43 1114.64,1262.84 1115.66,1263.25 1116.68,1263.65 1117.7,1264.06 1118.73,1264.46 1119.75,1264.86 1120.77,1265.26 1121.79,1265.66 1122.81,1266.06 1123.83,1266.46 1124.86,1266.86 1125.88,1267.26 1126.9,1267.65 1127.92,1268.05 1128.94,1268.44 1129.96,1268.83 1130.99,1269.23 1132.01,1269.62 1133.03,1270.01 1134.05,1270.4 1135.07,1270.79 1136.09,1271.17 1137.11,1271.56 1138.14,1271.95 1139.16,1272.33 1140.18,1272.72 1141.2,1273.1 1142.22,1273.48 1143.24,1273.87 1144.27,1274.25 1145.29,1274.63 1146.31,1275.01 1147.33,1275.38 1148.35,1275.76 1149.37,1276.14 1150.4,1276.52 1151.42,1276.89 1152.44,1277.27 1153.46,1277.64 1154.48,1278.01 1155.5,1278.38 1156.52,1278.76 1157.55,1279.13 1158.57,1279.49 1159.59,1279.87 1160.61,1280.23 1161.63,1280.6 1162.65,1280.97 1163.68,1281.33 1164.7,1281.7 1165.72,1282.06 1166.74,1282.42 1167.76,1282.79 1168.78,1283.15 1169.81,1283.51 1170.83,1283.87 1171.85,1284.23 1172.87,1284.59 1173.89,1284.94 1174.91,1285.3 1175.93,1285.66 1176.96,1286.01 1177.98,1286.37 1179,1286.72 1180.02,1287.07 1181.04,1287.43 1182.06,1287.78 1183.09,1288.13 1184.11,1288.48 1185.13,1288.83 1186.15,1289.18 1187.17,1289.52 1188.19,1289.87 1189.21,1290.22 1190.24,1290.56 1191.26,1290.9 1192.28,1291.25 1193.3,1291.59 1194.32,1291.93 1195.34,1292.28 1196.37,1292.62 1197.39,1292.95 1198.41,1293.29 1199.43,1293.63 1200.45,1293.97 1201.47,1294.31 1202.5,1294.64 1203.52,1294.98 1204.54,1295.32 1205.56,1295.65 1206.58,1295.98 1207.6,1296.32 1208.62,1296.65 1209.65,1296.98 1210.67,1297.31 1211.69,1297.64 1212.71,1297.97 1213.73,1298.3 1214.75,1298.63 1215.78,1298.95 1216.8,1299.28 1217.82,1299.6 1218.84,1299.93 1219.86,1300.25 1220.88,1300.58 1221.91,1300.9 1222.93,1301.22 1223.95,1301.54 1224.97,1301.86 1225.99,1302.18 1227.01,1302.5 1228.03,1302.82 1229.06,1303.14 1230.08,1303.46 1231.1,1303.77 1232.12,1304.09 1233.14,1304.4 1234.16,1304.72 1235.19,1305.03 1236.21,1305.34 1237.23,1305.66 1238.25,1305.97 1239.27,1306.28 1240.29,1306.59 1241.32,1306.9 1242.34,1307.21 1243.36,1307.52 1244.38,1307.83 1245.4,1308.13 1246.42,1308.44 1247.44,1308.75 1248.47,1309.05 1249.49,1309.35 1250.51,1309.66 1251.53,1309.96 1252.55,1310.26 1253.57,1310.57 1254.6,1310.87 1255.62,1311.17 1256.64,1311.47 1257.66,1311.77 1258.68,1312.07 1259.7,1312.36 1260.73,1312.66 1261.75,1312.96 1262.77,1313.25 1263.79,1313.55 1264.81,1313.85 1265.83,1314.14 1266.85,1314.43 1267.88,1314.73 1268.9,1315.02 1269.92,1315.31 1270.94,1315.6 1271.96,1316.23 1272.98,1316.85 1274.01,1317.47 1275.03,1318.09 1276.05,1318.7 1277.07,1319.31 1278.09,1319.91 1279.11,1320.51 1280.13,1321.11 1281.16,1321.7 1282.18,1322.29 1283.2,1322.88 1284.22,1323.46 1285.24,1324.04 1286.26,1324.62 1287.29,1325.19 1288.31,1325.76 1289.33,1326.33 1290.35,1326.89 1291.37,1327.45 1292.39,1328.01 1293.42,1328.57 1294.44,1329.13 1295.46,1329.68 1296.48,1330.23 1297.5,1330.78 1298.52,1331.33 1299.54,1331.87 1300.57,1332.42 1301.59,1332.96 1302.61,1333.49 1303.63,1334.03 1304.65,1334.56 1305.67,1335.1 1306.7,1335.62 1307.72,1336.15 1308.74,1336.68 1309.76,1337.2 1310.78,1337.72 1311.8,1338.24 1312.83,1338.75 1313.85,1339.27 1314.87,1339.78 1315.89,1340.29 1316.91,1340.8 1317.93,1341.3 1318.95,1341.8 1319.98,1342.31 1321,1342.81 1322.02,1343.3 1323.04,1343.8 1324.06,1344.3 1325.08,1344.79 1326.11,1345.28 1327.13,1345.77 1328.15,1346.25 1329.17,1346.74 1330.19,1347.22 1331.21,1347.7 1332.24,1348.18 1333.26,1348.66 1334.28,1349.13 1335.3,1349.61 1336.32,1350.08 1337.34,1350.55 1338.36,1351.02 1339.39,1351.48 1340.41,1351.95 1341.43,1352.41 1342.45,1352.87 1343.47,1353.33 1344.49,1353.79 1345.52,1354.24 1346.54,1354.7 1347.56,1355.15 1348.58,1355.6 1349.6,1356.05 1350.62,1356.49 1351.65,1356.94 1352.67,1357.38 1353.69,1357.82 1354.71,1358.27 1355.73,1358.7 1356.75,1359.14 1357.77,1359.57 1358.8,1360 1359.82,1360.44 1360.84,1360.87 1361.86,1361.29 1362.88,1361.72 1363.9,1362.14 1364.93,1362.56 1365.95,1362.98 1366.97,1363.4 1367.99,1363.82 1369.01,1364.24 1370.03,1364.65 1371.05,1365.06 1372.08,1365.47 1373.1,1365.88 1374.12,1366.29 1375.14,1366.69 1376.16,1367.1 1377.18,1367.5 1378.21,1367.9 1379.23,1368.3 1380.25,1368.7 1381.27,1369.09 1382.29,1369.49 1383.31,1369.88 1384.34,1370.27 1385.36,1370.66 1386.38,1371.04 1387.4,1371.43 1388.42,1371.81 1389.44,1372.2 1390.46,1372.58 1391.49,1372.96 1392.51,1373.34 1393.53,1373.71 1394.55,1374.09 1395.57,1374.46 1396.59,1374.83 1397.62,1375.2 1398.64,1375.57 1399.66,1375.94 1400.68,1376.3 1401.7,1376.66 1402.72,1377.03 1403.75,1377.39 1404.77,1377.74 1405.79,1378.1 1406.81,1378.46 1407.83,1378.81 1408.85,1379.16 1409.87,1379.51 1410.9,1379.86 1411.92,1380.21 1412.94,1380.56 1413.96,1380.9 1414.98,1381.25 1416,1381.59 1417.03,1381.93 1418.05,1382.27 1419.07,1382.61 1420.09,1382.94 1421.11,1383.28 1422.13,1383.61 1423.16,1383.94 1424.18,1384.27 1425.2,1384.6 1426.22,1384.93 1427.24,1385.25 1428.26,1385.58 1429.28,1385.9 1430.31,1386.22 1431.33,1386.54 1432.35,1386.86 1433.37,1387.18 1434.39,1387.49 1435.41,1387.81 1436.44,1388.12 1437.46,1388.43 1438.48,1388.74 1439.5,1389.05 1440.52,1389.36 1441.54,1389.66 1442.57,1389.96 1443.59,1390.27 1444.61,1390.57 1445.63,1390.87 1446.65,1391.17 1447.67,1391.46 1448.69,1391.76 1449.72,1392.06 1450.74,1392.35 1451.76,1392.64 1452.78,1392.93 1453.8,1393.22 1454.82,1393.51 1455.85,1393.79 1456.87,1394.08 1457.89,1394.36 1458.91,1394.64 1459.93,1394.92 1460.95,1395.2 1461.97,1395.48 1463,1395.76 1464.02,1396.03 1465.04,1396.31 1466.06,1396.58 1467.08,1396.85 1468.1,1397.12 1469.13,1397.39 1470.15,1397.66 1471.17,1397.93 1472.19,1398.19 1473.21,1398.46 1474.23,1398.72 1475.26,1398.98 1476.28,1399.24 1477.3,1399.5 1478.32,1399.76 1479.34,1400.01 1480.36,1400.27 1481.38,1400.52 1482.41,1400.77 1483.43,1401.02 1484.45,1401.27 1485.47,1401.52 1486.49,1401.77 1487.51,1402.02 1488.54,1402.26 1489.56,1402.51 1490.58,1402.75 1491.6,1402.99 1492.62,1403.23 1493.64,1403.47 1494.67,1403.71 1495.69,1403.94 1496.71,1404.18 1497.73,1404.41 1498.75,1404.65 1499.77,1404.88 1500.79,1405.11 1501.82,1405.34 1502.84,1405.57 1503.86,1405.8 1504.88,1406.02 1505.9,1406.25 1506.92,1406.47 1507.95,1406.69 1508.97,1406.91 1509.99,1407.13 1511.01,1407.35 1512.03,1407.57 1513.05,1407.79 1514.08,1408 1515.1,1408.22 1516.12,1408.43 1517.14,1408.65 1518.16,1408.86 1519.18,1409.07 1520.2,1409.28 1521.23,1409.49 1522.25,1409.69 1523.27,1409.9 1524.29,1410.1 1525.31,1410.31 1526.33,1410.51 1527.36,1410.71 1528.38,1410.91 1529.4,1411.11 1530.42,1411.31 1531.44,1411.51 1532.46,1411.7 1533.49,1411.9 1534.51,1412.09 1535.53,1412.29 1536.55,1412.48 1537.57,1412.67 1538.59,1412.86 1539.61,1413.05 1540.64,1413.24 1541.66,1413.42 1542.68,1413.61 1543.7,1413.8 1544.72,1413.98 1545.74,1414.16 1546.77,1414.35 1547.79,1414.53 1548.81,1414.71 1549.83,1414.89 1550.85,1415.06 1551.87,1415.24 1552.89,1415.42 1553.92,1415.59 1554.94,1415.77 1555.96,1415.94 1556.98,1416.11 1558,1416.29 1559.02,1416.46 1560.05,1416.63 1561.07,1416.79 1562.09,1416.96 1563.11,1417.13 1564.13,1417.29 1565.15,1417.46 1566.18,1417.62 1567.2,1417.79 1568.22,1417.95 1569.24,1418.11 1570.26,1418.27 1571.28,1418.43 1572.3,1418.59 1573.33,1418.75 1574.35,1418.9 1575.37,1419.06 1576.39,1419.22 1577.41,1419.37 1578.43,1419.52 1579.46,1419.68 1580.48,1419.83 1581.5,1419.98 1582.52,1420.13 1583.54,1420.28 1584.56,1420.43 1585.59,1420.57 1586.61,1420.72 1587.63,1420.87 1588.65,1421.01 1589.67,1421.16 1590.69,1421.3 1591.71,1421.44 1592.74,1421.58 1593.76,1421.73 1594.78,1421.87 1595.8,1422 1596.82,1422.14 1597.84,1422.28 1598.87,1422.42 1599.89,1422.55 1600.91,1422.69 1601.93,1422.82 1602.95,1422.96 1603.97,1423.09 1605,1423.22 1606.02,1423.36 1607.04,1423.49 1608.06,1423.61 1609.08,1423.74 1610.1,1423.87 1611.12,1424 1612.15,1424.13 1613.17,1424.25 1614.19,1424.38 1615.21,1424.5 1616.23,1424.63 1617.25,1424.75 1618.28,1424.87 1619.3,1425 1620.32,1425.12 1621.34,1425.24 1622.36,1425.36 1623.38,1425.48 1624.41,1425.6 1625.43,1425.71 1626.45,1425.83 1627.47,1425.95 1628.49,1426.06 1629.51,1426.18 1630.53,1426.29 1631.56,1426.41 1632.58,1426.52 1633.6,1426.63 1634.62,1426.74 1635.64,1426.85 1636.66,1426.96 1637.69,1427.07 1638.71,1427.18 1639.73,1427.29 1640.75,1427.4 1641.77,1427.51 1642.79,1427.61 1643.81,1427.72 1644.84,1427.82 1645.86,1427.93 1646.88,1428.03 1647.9,1428.13 1648.92,1428.24 1649.94,1428.34 1650.97,1428.44 1651.99,1428.54 1653.01,1428.64 1654.03,1428.74 1655.05,1428.84 1656.07,1428.94 1657.1,1429.04 1658.12,1429.13 1659.14,1429.23 1660.16,1429.33 1661.18,1429.42 1662.2,1429.52 1663.22,1429.61 1664.25,1429.7 1665.27,1429.8 1666.29,1429.89 1667.31,1429.98 1668.33,1430.07 1669.35,1430.16 1670.38,1430.26 1671.4,1430.35 1672.42,1430.44 1673.44,1430.52 1674.46,1430.61 1675.48,1430.7 1676.51,1430.79 1677.53,1430.87 1678.55,1430.96 1679.57,1431.05 1680.59,1431.13 1681.61,1431.22 1682.63,1431.3 1683.66,1431.38 1684.68,1431.47 1685.7,1431.55 1686.72,1431.63 1687.74,1431.71 1688.76,1431.79 1689.79,1431.87 1690.81,1431.96 1691.83,1432.03 1692.85,1432.11 1693.87,1432.19 1694.89,1432.27 1695.92,1432.35 1696.94,1432.42 1697.96,1432.5 1698.98,1432.58 1700,1432.65 1701.02,1432.73 1702.04,1432.8 1703.07,1432.88 1704.09,1432.95 1705.11,1433.02 1706.13,1433.1 1707.15,1433.17 1708.17,1433.24 1709.2,1433.31 1710.22,1433.39 1711.24,1433.46 1712.26,1433.53 1713.28,1433.6 1714.3,1433.67 1715.33,1433.74 1716.35,1433.81 1717.37,1433.87 1718.39,1433.94 1719.41,1434.01 1720.43,1434.08 1721.45,1434.14 1722.48,1434.21 1723.5,1434.28 1724.52,1434.34 1725.54,1434.41 1726.56,1434.47 1727.58,1434.54 1728.61,1434.6 1729.63,1434.66 1730.65,1434.73 1731.67,1434.79 1732.69,1434.85 1733.71,1434.91 1734.73,1434.97 1735.76,1435.04 1736.78,1435.1 1737.8,1435.16 1738.82,1435.22 1739.84,1435.28 1740.86,1435.34 1741.89,1435.39 1742.91,1435.45 1743.93,1435.51 1744.95,1435.57 1745.97,1435.63 1746.99,1435.68 1748.02,1435.74 1749.04,1435.8 1750.06,1435.85 1751.08,1435.91 1752.1,1435.97 1753.12,1436.02 1754.14,1436.08 1755.17,1436.13 1756.19,1436.18 1757.21,1436.24 1758.23,1436.29 1759.25,1436.34 1760.27,1436.4 1761.3,1436.45 1762.32,1436.5 1763.34,1436.55 1764.36,1436.61 1765.38,1436.66 1766.4,1436.71 1767.43,1436.76 1768.45,1436.81 1769.47,1436.86 1770.49,1436.91 1771.51,1436.96 1772.53,1437.01 1773.55,1437.06 1774.58,1437.1 1775.6,1437.15 1776.62,1437.2 1777.64,1437.25 1778.66,1437.29 1779.68,1437.34 1780.71,1437.39 1781.73,1437.44 1782.75,1437.52 1783.77,1437.6 1784.79,1437.69 1785.81,1437.77 1786.84,1437.85 1787.86,1437.93 1788.88,1438.01 1789.9,1438.09 1790.92,1438.17 1791.94,1438.24 1792.96,1438.32 1793.99,1438.4 1795.01,1438.47 1796.03,1438.55 1797.05,1438.62 1798.07,1438.69 1799.09,1438.76 1800.12,1438.84 1801.14,1438.91 1802.16,1438.98 1803.18,1439.05 1804.2,1439.11 1805.22,1439.18 1806.25,1439.25 1807.27,1439.32 1808.29,1439.38 1809.31,1439.45 1810.33,1439.51 1811.35,1439.57 1812.37,1439.64 1813.4,1439.7 1814.42,1439.76 1815.44,1439.82 1816.46,1439.88 1817.48,1439.94 1818.5,1440 1819.53,1440.06 1820.55,1440.12 1821.57,1440.18 1822.59,1440.23 1823.61,1440.29 1824.63,1440.34 1825.65,1440.4 1826.68,1440.45 1827.7,1440.51 1828.72,1440.56 1829.74,1440.61 1830.76,1440.67 1831.78,1440.72 1832.81,1440.77 1833.83,1440.82 1834.85,1440.87 1835.87,1440.92 1836.89,1440.97 1837.91,1441.01 1838.94,1441.06 1839.96,1441.11 1840.98,1441.16 1842,1441.2 1843.02,1441.25 1844.04,1441.29 1845.06,1441.34 1846.09,1441.38 1847.11,1441.43 1848.13,1441.47 1849.15,1441.51 1850.17,1441.56 1851.19,1441.6 1852.22,1441.64 1853.24,1441.68 1854.26,1441.72 1855.28,1441.76 1856.3,1441.8 1857.32,1441.84 1858.35,1441.88 1859.37,1441.92 1860.39,1441.96 1861.41,1442 1862.43,1442.04 1863.45,1442.07 1864.47,1442.11 1865.5,1442.15 1866.52,1442.18 1867.54,1442.22 1868.56,1442.25 1869.58,1442.29 1870.6,1442.32 1871.63,1442.36 1872.65,1442.39 1873.67,1442.43 1874.69,1442.46 1875.71,1442.49 1876.73,1442.53 1877.76,1442.56 1878.78,1442.59 1879.8,1442.62 1880.82,1442.65 1881.84,1442.68 1882.86,1442.71 1883.88,1442.74 1884.91,1442.77 1885.93,1442.8 1886.95,1442.83 1887.97,1442.86 1888.99,1442.89 1890.01,1442.92 1891.04,1442.95 1892.06,1442.98 1893.08,1443 1894.1,1443.03 1895.12,1443.06 1896.14,1443.09 1897.17,1443.11 1898.19,1443.14 1899.21,1443.16 1900.23,1443.19 1901.25,1443.22 1902.27,1443.24 1903.29,1443.27 1904.32,1443.29 1905.34,1443.32 1906.36,1443.34 1907.38,1443.36 1908.4,1443.39 1909.42,1443.41 1910.45,1443.43 1911.47,1443.46 1912.49,1443.48 1913.51,1443.5 1914.53,1443.53 1915.55,1443.55 1916.57,1443.57 1917.6,1443.59 1918.62,1443.61 1919.64,1443.64 1920.66,1443.66 1921.68,1443.68 1922.7,1443.7 1923.73,1443.72 1924.75,1443.74 1925.77,1443.76 1926.79,1443.78 1927.81,1443.8 1928.83,1443.82 1929.86,1443.84 1930.88,1443.86 1931.9,1443.88 1932.92,1443.89 1933.94,1443.91 1934.96,1443.93 1935.98,1443.95 1937.01,1443.97 1938.03,1443.98 1939.05,1444 1940.07,1444.02 1941.09,1444.04 1942.11,1444.05 1943.14,1444.07 1944.16,1444.09 1945.18,1444.1 1946.2,1444.12 1947.22,1444.14 1948.24,1444.15 1949.27,1444.17 1950.29,1444.18 1951.31,1444.2 1952.33,1444.22 1953.35,1444.23 1954.37,1444.25 1955.39,1444.26 1956.42,1444.28 1957.44,1444.29 1958.46,1444.31 1959.48,1444.32 1960.5,1444.33 1961.52,1444.35 1962.55,1444.36 1963.57,1444.38 1964.59,1444.39 1965.61,1444.4 1966.63,1444.42 1967.65,1444.43 1968.68,1444.44 1969.7,1444.46 1970.72,1444.47 1971.74,1444.48 1972.76,1444.49 1973.78,1444.51 1974.8,1444.52 1975.83,1444.53 1976.85,1444.54 1977.87,1444.56 1978.89,1444.57 1979.91,1444.58 1980.93,1444.59 1981.96,1444.6 1982.98,1444.61 1984,1444.63 1985.02,1444.64 1986.04,1444.65 1987.06,1444.66 1988.09,1444.67 1989.11,1444.68 1990.13,1444.69 1991.15,1444.7 1992.17,1444.71 1993.19,1444.72 1994.21,1444.73 1995.24,1444.74 1996.26,1444.75 1997.28,1444.76 1998.3,1444.77 1999.32,1444.78 2000.34,1444.79 2001.37,1444.8 2002.39,1444.81 2003.41,1444.82 2004.43,1444.83 2005.45,1444.84 2006.47,1444.85 2007.49,1444.86 2008.52,1444.87 2009.54,1444.87 2010.56,1444.88 2011.58,1444.89 2012.6,1444.9 2013.62,1444.91 2014.65,1444.92 2015.67,1444.93 2016.69,1444.93 2017.71,1444.94 2018.73,1444.95 2019.75,1444.96 2020.78,1444.96 2021.8,1444.97 2022.82,1444.98 2023.84,1444.99 2024.86,1445 2025.88,1445 2026.9,1445.01 2027.93,1445.02 2028.95,1445.02 2029.97,1445.03 2030.99,1445.04 2032.01,1445.05 2033.03,1445.05 2034.06,1445.06 2035.08,1445.07 2036.1,1445.07 2037.12,1445.08 2038.14,1445.09 2039.16,1445.09 2040.19,1445.1 2041.21,1445.11 2042.23,1445.11 2043.25,1445.12 2044.27,1445.13 2045.29,1445.13 2046.31,1445.14 2047.34,1445.14 2048.36,1445.15 2049.38,1445.16 2050.4,1445.16 2051.42,1445.17 2052.44,1445.17 2053.47,1445.18 2054.49,1445.18 2055.51,1445.19 2056.53,1445.2 2057.55,1445.2 2058.57,1445.21 2059.6,1445.21 2060.62,1445.22 2061.64,1445.22 2062.66,1445.23 2063.68,1445.23 2064.7,1445.24 2065.72,1445.24 2066.75,1445.25 2067.77,1445.25 2068.79,1445.26 2069.81,1445.26 2070.83,1445.27 2071.85,1445.27 2072.88,1445.28 2073.9,1445.28 2074.92,1445.29 2075.94,1445.29 2076.96,1445.3 2077.98,1445.3 2079.01,1445.3 2080.03,1445.31 2081.05,1445.31 2082.07,1445.32 2083.09,1445.32 2084.11,1445.33 2085.13,1445.33 2086.16,1445.33 2087.18,1445.34 2088.2,1445.34 2089.22,1445.35 2090.24,1445.35 2091.26,1445.36 2092.29,1445.36 2093.31,1445.36 2094.33,1445.37 2095.35,1445.37 2096.37,1445.37 2097.39,1445.38 2098.41,1445.38 2099.44,1445.39 2100.46,1445.39 2101.48,1445.39 2102.5,1445.4 2103.52,1445.4 2104.54,1445.4 2105.57,1445.41 2106.59,1445.41 2107.61,1445.41 2108.63,1445.42 2109.65,1445.42 2110.67,1445.42 2111.7,1445.43 2112.72,1445.43 2113.74,1445.43 2114.76,1445.44 2115.78,1445.44 2116.8,1445.44 2117.82,1445.44 2118.85,1445.45 2119.87,1445.45 2120.89,1445.45 2121.91,1445.46 2122.93,1445.46 2123.95,1445.46 2124.98,1445.47 2126,1445.47 2127.02,1445.47 2128.04,1445.47 2129.06,1445.48 2130.08,1445.48 2131.11,1445.48 2132.13,1445.49 2133.15,1445.49 2134.17,1445.49 2135.19,1445.49 2136.21,1445.5 2137.23,1445.5 2138.26,1445.5 2139.28,1445.5 2140.3,1445.51 2141.32,1445.51 2142.34,1445.51 2143.36,1445.51 2144.39,1445.52 2145.41,1445.52 2146.43,1445.52 2147.45,1445.52 2148.47,1445.52 2149.49,1445.53 2150.52,1445.53 2151.54,1445.53 2152.56,1445.53 2153.58,1445.54 2154.6,1445.54 2155.62,1445.54 2156.64,1445.54 2157.67,1445.54 2158.69,1445.55 2159.71,1445.55 2160.73,1445.55 2161.75,1445.55 2162.77,1445.55 2163.8,1445.56 2164.82,1445.56 2165.84,1445.56 2166.86,1445.56 2167.88,1445.56 2168.9,1445.57 2169.92,1445.57 2170.95,1445.57 2171.97,1445.57 2172.99,1445.57 2174.01,1445.58 2175.03,1445.58 2176.05,1445.58 2177.08,1445.58 2178.1,1445.58 2179.12,1445.58 2180.14,1445.59 2181.16,1445.59 2182.18,1445.59 2183.21,1445.59 2184.23,1445.59 2185.25,1445.59 2186.27,1445.6 2187.29,1445.6 2188.31,1445.6 2189.33,1445.6 2190.36,1445.6 2191.38,1445.6 2192.4,1445.61 2193.42,1445.61 2194.44,1445.61 2195.46,1445.61 2196.49,1445.61 2197.51,1445.61 2198.53,1445.62 2199.55,1445.62 2200.57,1445.62 2201.59,1445.62 2202.62,1445.62 2203.64,1445.62 2204.66,1445.62 2205.68,1445.63 2206.7,1445.63 2207.72,1445.63 2208.74,1445.63 2209.77,1445.63 2210.79,1445.63 2211.81,1445.63 2212.83,1445.64 2213.85,1445.64 2214.87,1445.64 2215.9,1445.64 2216.92,1445.64 2217.94,1445.64 2218.96,1445.64 2219.98,1445.64 2221,1445.65 2222.03,1445.65 2223.05,1445.65 2224.07,1445.65 2225.09,1445.65 2226.11,1445.65 2227.13,1445.65 2228.15,1445.65 2229.18,1445.66 2230.2,1445.66 2231.22,1445.66 2232.24,1445.66 2233.26,1445.66 2234.28,1445.66 2235.31,1445.66 2236.33,1445.66 2237.35,1445.66 2238.37,1445.67 2239.39,1445.67 2240.41,1445.67 2241.44,1445.67 2242.46,1445.67 2243.48,1445.67 2244.5,1445.67 2245.52,1445.67 2246.54,1445.67 2247.56,1445.68 2248.59,1445.68 2249.61,1445.68 2250.63,1445.68 2251.65,1445.68 2252.67,1445.68 2253.69,1445.68 2254.72,1445.68 2255.74,1445.68 2256.76,1445.68 2257.78,1445.69 2258.8,1445.69 2259.82,1445.69 2260.84,1445.69 2261.87,1445.69 2262.89,1445.69 2263.91,1445.69 2264.93,1445.69 2265.95,1445.69 2266.97,1445.69 2268,1445.7 2269.02,1445.7 2270.04,1445.7 2271.06,1445.7 2272.08,1445.7 2273.1,1445.7 2274.13,1445.7 2275.15,1445.7 2276.17,1445.7 2277.19,1445.7 2278.21,1445.7 2279.23,1445.71 2280.25,1445.71 2281.28,1445.71 2282.3,1445.71 2283.32,1445.71 2284.34,1445.71 2285.36,1445.71 2286.38,1445.71 2287.41,1445.71 2288.43,1445.71 2289.45,1445.71 2290.47,1445.72 2291.49,1445.72 \"/>\n",
       "<path clip-path=\"url(#clip840)\" d=\"M2011.71 198.898 L2280.6 198.898 L2280.6 95.2176 L2011.71 95.2176  Z\" fill=\"#ffffff\" fill-rule=\"evenodd\" fill-opacity=\"1\"/>\n",
       "<polyline clip-path=\"url(#clip840)\" style=\"stroke:#000000; stroke-linecap:round; stroke-linejoin:round; stroke-width:4; stroke-opacity:1; fill:none\" points=\"2011.71,198.898 2280.6,198.898 2280.6,95.2176 2011.71,95.2176 2011.71,198.898 \"/>\n",
       "<polyline clip-path=\"url(#clip840)\" style=\"stroke:#009af9; stroke-linecap:round; stroke-linejoin:round; stroke-width:4; stroke-opacity:1; fill:none\" points=\"2035.76,147.058 2180.07,147.058 \"/>\n",
       "<path clip-path=\"url(#clip840)\" d=\"M2217.96 166.745 Q2216.16 171.375 2214.44 172.787 Q2212.73 174.199 2209.86 174.199 L2206.46 174.199 L2206.46 170.634 L2208.96 170.634 Q2210.72 170.634 2211.69 169.8 Q2212.66 168.967 2213.84 165.865 L2214.6 163.921 L2204.12 138.412 L2208.63 138.412 L2216.73 158.689 L2224.84 138.412 L2229.35 138.412 L2217.96 166.745 Z\" fill=\"#000000\" fill-rule=\"nonzero\" fill-opacity=\"1\" /><path clip-path=\"url(#clip840)\" d=\"M2236.64 160.402 L2244.28 160.402 L2244.28 134.037 L2235.97 135.703 L2235.97 131.444 L2244.23 129.778 L2248.91 129.778 L2248.91 160.402 L2256.55 160.402 L2256.55 164.338 L2236.64 164.338 L2236.64 160.402 Z\" fill=\"#000000\" fill-rule=\"nonzero\" fill-opacity=\"1\" /></svg>\n"
      ]
     },
     "execution_count": 139,
     "metadata": {},
     "output_type": "execute_result"
    }
   ],
   "source": [
    "test1, lds1 = Petz_σ(test_dms, dim)\n",
    "println(loss_KL(test1, test_dms, dim))\n",
    "plot(lds1, yaxis=:log)"
   ]
  },
  {
   "cell_type": "code",
   "execution_count": 140,
   "metadata": {},
   "outputs": [
    {
     "name": "stdout",
     "output_type": "stream",
     "text": [
      "vec2dm(test1) = ComplexF32[0.37250975f0 + 0.0f0im 0.032461736f0 - 0.07777244f0im 0.064099565f0 + 0.12973288f0im -0.04718313f0 + 0.13450179f0im; 0.032461736f0 + 0.07777244f0im 0.3047053f0 + 0.0f0im 0.095414415f0 + 0.08614182f0im 0.08802388f0 + 0.02947213f0im; 0.064099565f0 - 0.12973288f0im 0.095414415f0 - 0.08614182f0im 0.1406742f0 + 0.0f0im 0.12715685f0 + 0.026005674f0im; -0.04718313f0 - 0.13450179f0im 0.08802388f0 - 0.02947213f0im 0.12715685f0 - 0.026005674f0im 0.18211076f0 + 0.0f0im]\n",
      "test_dms.s_dm - vec2dm(test1) = ComplexF32[-0.09515509f0 + 0.0f0im 0.11677489f0 + 0.08255243f0im 0.01308389f0 + 0.021973506f0im 0.05031807f0 + 0.016481578f0im; 0.11677489f0 - 0.08255243f0im 0.045199692f0 + 0.0f0im 0.071691066f0 + 0.045718484f0im 0.026041098f0 + 0.058099084f0im; 0.01308389f0 - 0.021973506f0im 0.071691066f0 - 0.045718484f0im 0.047965616f0 + 0.0f0im 0.034881294f0 - 0.0017707795f0im; 0.05031807f0 - 0.016481578f0im 0.026041098f0 - 0.058099084f0im 0.034881294f0 + 0.0017707795f0im 0.0019897819f0 + 0.0f0im]\n"
     ]
    },
    {
     "data": {
      "text/plain": [
       "4×4 Hermitian{ComplexF32, Matrix{ComplexF32}}:\n",
       " -0.0951551+0.0im         0.116775+0.0825524im  …   0.0503181+0.0164816im\n",
       "   0.116775-0.0825524im  0.0451997+0.0im            0.0260411+0.0580991im\n",
       "  0.0130839-0.0219735im  0.0716911-0.0457185im      0.0348813-0.00177078im\n",
       "  0.0503181-0.0164816im  0.0260411-0.0580991im     0.00198978+0.0im"
      ]
     },
     "execution_count": 140,
     "metadata": {},
     "output_type": "execute_result"
    }
   ],
   "source": [
    "@show vec2dm(test1)\n",
    "@show test_dms.s_dm - vec2dm(test1)"
   ]
  },
  {
   "cell_type": "code",
   "execution_count": 141,
   "metadata": {},
   "outputs": [
    {
     "name": "stdout",
     "output_type": "stream",
     "text": [
      "petz_dm = vec2dm(test1) = ComplexF32[0.37250975f0 + 0.0f0im 0.032461736f0 - 0.07777244f0im 0.064099565f0 + 0.12973288f0im -0.04718313f0 + 0.13450179f0im; 0.032461736f0 + 0.07777244f0im 0.3047053f0 + 0.0f0im 0.095414415f0 + 0.08614182f0im 0.08802388f0 + 0.02947213f0im; 0.064099565f0 - 0.12973288f0im 0.095414415f0 - 0.08614182f0im 0.1406742f0 + 0.0f0im 0.12715685f0 + 0.026005674f0im; -0.04718313f0 - 0.13450179f0im 0.08802388f0 - 0.02947213f0im 0.12715685f0 - 0.026005674f0im 0.18211076f0 + 0.0f0im]\n",
      "recov_test = PetzRecovery(Λρ(petz_dm, test_dms, dim), test_dms, dim) = ComplexF32[0.29139578f0 + 0.0f0im 0.041600876f0 + 0.09870007f0im -0.0021205626f0 + 0.05487665f0im 0.030169386f0 + 0.12883666f0im; 0.041600876f0 - 0.09870007f0im 0.24225536f0 + 0.0f0im 0.02670309f0 + 0.07362546f0im 0.08662291f0 + 0.051626876f0im; -0.0021205626f0 - 0.05487665f0im 0.02670309f0 - 0.07362546f0im 0.23912306f0 + 0.0f0im 0.022631448f0 - 0.017022166f0im; 0.030169386f0 - 0.12883666f0im 0.08662291f0 - 0.051626876f0im 0.022631448f0 + 0.017022166f0im 0.22722645f0 + 0.0f0im]\n"
     ]
    },
    {
     "data": {
      "text/plain": [
       "4×4 Hermitian{ComplexF32, Matrix{ComplexF32}}:\n",
       "    0.081114+0.0im         …  -0.0773525+0.00566512im\n",
       " -0.00913914+0.176473im       0.00140097-0.0221547im\n",
       "   0.0662201-0.0748562im        0.104525+0.0430278im\n",
       "  -0.0773525-0.00566512im     -0.0451157+0.0im"
      ]
     },
     "execution_count": 141,
     "metadata": {},
     "output_type": "execute_result"
    }
   ],
   "source": [
    "@show petz_dm = vec2dm(test1)\n",
    "@show recov_test = PetzRecovery(Λρ(petz_dm, test_dms, dim), test_dms, dim)\n",
    "petz_dm - recov_test"
   ]
  },
  {
   "cell_type": "code",
   "execution_count": 142,
   "metadata": {},
   "outputs": [],
   "source": [
    "using LinearAlgebra"
   ]
  },
  {
   "cell_type": "code",
   "execution_count": 146,
   "metadata": {},
   "outputs": [
    {
     "data": {
      "text/plain": [
       "2×2 Hermitian{ComplexF32, Matrix{ComplexF32}}:\n",
       " 0.971354+0.0im       0.649136+0.757361im\n",
       " 0.649136-0.757361im  0.649136+0.0im"
      ]
     },
     "execution_count": 146,
     "metadata": {},
     "output_type": "execute_result"
    }
   ],
   "source": [
    "test = rand(Float32, 4)\n",
    "hh = vec2hermite(test)"
   ]
  },
  {
   "cell_type": "code",
   "execution_count": 147,
   "metadata": {},
   "outputs": [
    {
     "data": {
      "text/plain": [
       "Eigen{ComplexF32, Float32, Matrix{ComplexF32}, Vector{Float32}}\n",
       "values:\n",
       "2-element Vector{Float32}:\n",
       " -0.20016588\n",
       "  1.8206556\n",
       "vectors:\n",
       "2×2 Matrix{ComplexF32}:\n",
       "  0.421888+0.492226im  0.495496+0.578107im\n",
       " -0.761396+0.0im       0.648287+0.0im"
      ]
     },
     "execution_count": 147,
     "metadata": {},
     "output_type": "execute_result"
    }
   ],
   "source": [
    "e, v = eigen(hh)"
   ]
  },
  {
   "cell_type": "code",
   "execution_count": null,
   "metadata": {},
   "outputs": [],
   "source": []
  }
 ],
 "metadata": {
  "kernelspec": {
   "display_name": "Julia 1.10.0",
   "language": "julia",
   "name": "julia-1.10"
  },
  "language_info": {
   "file_extension": ".jl",
   "mimetype": "application/julia",
   "name": "julia",
   "version": "1.10.0"
  }
 },
 "nbformat": 4,
 "nbformat_minor": 2
}
