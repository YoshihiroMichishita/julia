{
 "cells": [
  {
   "cell_type": "code",
   "execution_count": 1,
   "metadata": {},
   "outputs": [],
   "source": [
    "using LinearAlgebra\n",
    "using Plots"
   ]
  },
  {
   "cell_type": "code",
   "execution_count": 2,
   "metadata": {},
   "outputs": [
    {
     "data": {
      "text/plain": [
       "0.0f0 + 1.0f0im"
      ]
     },
     "execution_count": 2,
     "metadata": {},
     "output_type": "execute_result"
    }
   ],
   "source": [
    "fi = ComplexF32(1.0im)"
   ]
  },
  {
   "cell_type": "code",
   "execution_count": 3,
   "metadata": {},
   "outputs": [
    {
     "data": {
      "text/plain": [
       "vec2hermite (generic function with 1 method)"
      ]
     },
     "execution_count": 3,
     "metadata": {},
     "output_type": "execute_result"
    }
   ],
   "source": [
    "function vec2hermite(v::Vector{Float32})\n",
    "    N = round(Int, sqrt(length(v)))\n",
    "    H = zeros(ComplexF32, N, N)\n",
    "    for i in 1:N\n",
    "        for j in i:N\n",
    "            l = N*(i-1) + 2j - i^2\n",
    "            if(i == j)\n",
    "                H[i,j] = v[l]\n",
    "            else\n",
    "                H[i,j] = v[l-1] + fi*v[l]\n",
    "            end \n",
    "        end\n",
    "    end\n",
    "    H = Hermitian(H)\n",
    "    return H\n",
    "end"
   ]
  },
  {
   "cell_type": "code",
   "execution_count": 4,
   "metadata": {},
   "outputs": [
    {
     "data": {
      "text/plain": [
       "vec2unitary (generic function with 1 method)"
      ]
     },
     "execution_count": 4,
     "metadata": {},
     "output_type": "execute_result"
    }
   ],
   "source": [
    "function vec2unitary(v::Vector{Float32}, τ::Float32)\n",
    "    H = vec2hermite(v)\n",
    "    U = exp(fi*(τ*H))\n",
    "    return U\n",
    "end"
   ]
  },
  {
   "cell_type": "code",
   "execution_count": 5,
   "metadata": {},
   "outputs": [
    {
     "data": {
      "text/plain": [
       "make_unitary (generic function with 1 method)"
      ]
     },
     "execution_count": 5,
     "metadata": {},
     "output_type": "execute_result"
    }
   ],
   "source": [
    "function make_unitary(N::Int, τ::Float32)\n",
    "    v = rand(Float32, N^2)\n",
    "    U = vec2unitary(v, τ)\n",
    "    return U\n",
    "end"
   ]
  },
  {
   "cell_type": "code",
   "execution_count": 6,
   "metadata": {},
   "outputs": [
    {
     "data": {
      "text/plain": [
       "norm! (generic function with 1 method)"
      ]
     },
     "execution_count": 6,
     "metadata": {},
     "output_type": "execute_result"
    }
   ],
   "source": [
    "function norm!(m::Hermitian{ComplexF32, Matrix{ComplexF32}})\n",
    "    T = real(tr(m))\n",
    "    m = m./T\n",
    "end"
   ]
  },
  {
   "cell_type": "code",
   "execution_count": 7,
   "metadata": {},
   "outputs": [
    {
     "data": {
      "text/plain": [
       "make_rand_dm (generic function with 1 method)"
      ]
     },
     "execution_count": 7,
     "metadata": {},
     "output_type": "execute_result"
    }
   ],
   "source": [
    "function make_rand_dm(dim::Int)\n",
    "    ρ_vec = rand(Float32, dim^2)\n",
    "    rt_ρ = vec2hermite(ρ_vec)\n",
    "    ρ = Hermitian(norm!(Hermitian(rt_ρ*rt_ρ')))\n",
    "    return ρ\n",
    "end"
   ]
  },
  {
   "cell_type": "code",
   "execution_count": 9,
   "metadata": {},
   "outputs": [
    {
     "name": "stdout",
     "output_type": "stream",
     "text": [
      "Float32[0.9999999, 1.0000001, 0.99999994, 0.99999964]\n"
     ]
    }
   ],
   "source": [
    "test_U = make_unitary(4, 1.0f0)\n",
    "II = test_U * test_U'\n",
    "println([real(II[i,i]) for i in 1:4])"
   ]
  },
  {
   "cell_type": "code",
   "execution_count": 10,
   "metadata": {},
   "outputs": [
    {
     "data": {
      "text/plain": [
       "ehot (generic function with 1 method)"
      ]
     },
     "execution_count": 10,
     "metadata": {},
     "output_type": "execute_result"
    }
   ],
   "source": [
    "function ehot(vs::Vector{ComplexF32}, i::Int, e_dim::Int)\n",
    "    s_dim = length(vs)\n",
    "    ve = zeros(ComplexF32, e_dim*s_dim)\n",
    "    ve[(s_dim*(i-1)+1):(s_dim*i)] = vs\n",
    "    #v2 = vcat(vs, ve)\n",
    "    return ve\n",
    "end"
   ]
  },
  {
   "cell_type": "code",
   "execution_count": 11,
   "metadata": {},
   "outputs": [
    {
     "data": {
      "text/plain": [
       "make_ev (generic function with 1 method)"
      ]
     },
     "execution_count": 11,
     "metadata": {},
     "output_type": "execute_result"
    }
   ],
   "source": [
    "function make_ev(s_ev::Matrix{ComplexF32}, e_dim::Int)\n",
    "    #e_vec::Vector{Matrix{Float32}} = []\n",
    "    s_vec::Vector{Matrix{ComplexF32}} = []\n",
    "    s_dim = size(s_ev)[1]\n",
    "    tot_dim = s_dim * e_dim\n",
    "    println(s_dim)\n",
    "    for i in 1:s_dim\n",
    "        sm = zeros(ComplexF32, tot_dim, e_dim)\n",
    "        for j in 1:e_dim\n",
    "            sm[:,j] = ehot(s_ev[:,i], j, e_dim)\n",
    "            #push!(e_vec, twohot(i, j, s_dim))\n",
    "            #push!(s_vec, ehot(s_ev[:,i], j, e_dim))\n",
    "        end\n",
    "        push!(s_vec, sm)\n",
    "    end\n",
    "    #=\n",
    "    for j in 1:e_dim\n",
    "        em = zeros(Float32, tot_dim, s_dim)\n",
    "        for i in 1:s_dim\n",
    "            em[:,i] = twohot(i, j, s_dim, e_dim)\n",
    "        end\n",
    "        push!(e_vec, em)\n",
    "    end=#\n",
    "    return s_vec\n",
    "end"
   ]
  },
  {
   "cell_type": "code",
   "execution_count": 13,
   "metadata": {},
   "outputs": [
    {
     "data": {
      "text/plain": [
       "make_Mk (generic function with 1 method)"
      ]
     },
     "execution_count": 13,
     "metadata": {},
     "output_type": "execute_result"
    }
   ],
   "source": [
    "function make_Mk(U::Matrix{ComplexF32}, s_vec::Vector{Matrix{ComplexF32}})\n",
    "    L = size(U)[1]\n",
    "    e_dim = length(s_vec)\n",
    "    s_dim = div(L,e_dim)\n",
    "    Ms::Vector{Matrix{ComplexF32}} = []\n",
    "    for j in 1:e_dim\n",
    "        for k in 1:s_dim\n",
    "            push!(Ms, (s_vec[k]'*U*s_vec[j]))\n",
    "        end\n",
    "    end\n",
    "    return Ms\n",
    "end"
   ]
  },
  {
   "cell_type": "code",
   "execution_count": 25,
   "metadata": {},
   "outputs": [
    {
     "data": {
      "text/plain": [
       "make_Mk (generic function with 1 method)"
      ]
     },
     "execution_count": 25,
     "metadata": {},
     "output_type": "execute_result"
    }
   ],
   "source": [
    "#=\n",
    "function make_Mk(U::Matrix{ComplexF32}, s_vec::Vector{Matrix{ComplexF32}}, e_vec::Vector{Matrix{Float32}})\n",
    "    L = size(U)[1]\n",
    "    e_dim = length(s_vec)\n",
    "    s_dim = div(L,e_dim)\n",
    "    Ms::Vector{Matrix{ComplexF32}} = []\n",
    "    for j in 1:e_dim\n",
    "        for k in 1:s_dim\n",
    "            push!(Ms, (e_vec[k]'*U*s_vec[j]))\n",
    "        end\n",
    "    end\n",
    "    return Ms\n",
    "end=#"
   ]
  },
  {
   "cell_type": "code",
   "execution_count": 14,
   "metadata": {},
   "outputs": [],
   "source": [
    "struct Dime\n",
    "    s_dim::Int\n",
    "    e_dim::Int\n",
    "    tot_dim::Int\n",
    "    M_size::Int\n",
    "end"
   ]
  },
  {
   "cell_type": "code",
   "execution_count": 16,
   "metadata": {},
   "outputs": [
    {
     "data": {
      "text/plain": [
       "Dime(2, 2, 4, 16)"
      ]
     },
     "execution_count": 16,
     "metadata": {},
     "output_type": "execute_result"
    }
   ],
   "source": [
    "dim = Dime(2, 2, 4, 16)"
   ]
  },
  {
   "cell_type": "code",
   "execution_count": 17,
   "metadata": {},
   "outputs": [
    {
     "data": {
      "text/plain": [
       "Λρ (generic function with 1 method)"
      ]
     },
     "execution_count": 17,
     "metadata": {},
     "output_type": "execute_result"
    }
   ],
   "source": [
    "function Λρ(ρ::Hermitian{ComplexF32, Matrix{ComplexF32}}, Ms::Vector{Matrix{ComplexF32}}, es::Vector{Float32}, ds::Dime)\n",
    "    #ρ_vec = zeros(Float32, tot_dim^2)\n",
    "    Lρ = zeros(ComplexF32, ds.s_dim, ds.s_dim)\n",
    "    for i in 1:tot_dim\n",
    "        Lρ += es[div(i-1,ds.e_dim)+1]*Ms[i]'*ρ*Ms[i]\n",
    "    end\n",
    "    return Hermitian(Lρ)\n",
    "end"
   ]
  },
  {
   "cell_type": "code",
   "execution_count": 18,
   "metadata": {},
   "outputs": [
    {
     "data": {
      "text/plain": [
       "2×2 Hermitian{ComplexF32, Matrix{ComplexF32}}:\n",
       " 0.354515+0.0im       0.366608+0.129076im\n",
       " 0.366608-0.129076im  0.645485+0.0im"
      ]
     },
     "execution_count": 18,
     "metadata": {},
     "output_type": "execute_result"
    }
   ],
   "source": [
    "testm = make_rand_dm(2)"
   ]
  },
  {
   "cell_type": "code",
   "execution_count": 19,
   "metadata": {},
   "outputs": [
    {
     "data": {
      "text/plain": [
       "KL_divergence (generic function with 1 method)"
      ]
     },
     "execution_count": 19,
     "metadata": {},
     "output_type": "execute_result"
    }
   ],
   "source": [
    "function KL_divergence(ρ::Hermitian{ComplexF32, Matrix{ComplexF32}}, σ::Hermitian{ComplexF32, Matrix{ComplexF32}})\n",
    "    return real(tr(ρ*(log(ρ)-log(σ))))\n",
    "end"
   ]
  },
  {
   "cell_type": "code",
   "execution_count": 20,
   "metadata": {},
   "outputs": [
    {
     "data": {
      "text/plain": [
       "init_dms (generic function with 1 method)"
      ]
     },
     "execution_count": 20,
     "metadata": {},
     "output_type": "execute_result"
    }
   ],
   "source": [
    "struct DMs\n",
    "    s_dm::Hermitian{ComplexF32, Matrix{ComplexF32}}\n",
    "    e_dm::Hermitian{ComplexF32, Matrix{ComplexF32}}\n",
    "    s_evs::Matrix{ComplexF32}\n",
    "    s_es::Vector{Float32}\n",
    "\n",
    "    U::Matrix{ComplexF32}\n",
    "    Ms::Vector{Matrix{ComplexF32}}\n",
    "end\n",
    "\n",
    "function init_dms(ds::Dime, τ::Float32)\n",
    "    s_dm = make_rand_dm(ds.s_dim)\n",
    "    e_dm = make_rand_dm(ds.e_dim)\n",
    "    s_es, s_evs = eigen(s_dm)\n",
    "    U = make_unitary(ds.tot_dim, τ)\n",
    "    s_evsa = make_ev(s_evs, ds.e_dim)\n",
    "    Ms = make_Mk(U, s_evsa)\n",
    "    return DMs(s_dm, e_dm, s_evs, s_es, U, Ms)\n",
    "end"
   ]
  },
  {
   "cell_type": "code",
   "execution_count": 25,
   "metadata": {},
   "outputs": [
    {
     "data": {
      "text/plain": [
       "Λρ (generic function with 2 methods)"
      ]
     },
     "execution_count": 25,
     "metadata": {},
     "output_type": "execute_result"
    }
   ],
   "source": [
    "function Λρ(ρ::Hermitian{ComplexF32, Matrix{ComplexF32}}, dms::DMs, ds::Dime)\n",
    "    #ρ_vec = zeros(Float32, tot_dim^2)\n",
    "    Lρ = zeros(ComplexF32, ds.s_dim, ds.s_dim)\n",
    "    for i in 1:ds.tot_dim\n",
    "        Lρ += dms.s_es[div(i-1,ds.e_dim)+1]*dms.Ms[i]*ρ*dms.Ms[i]'\n",
    "    end\n",
    "    return Hermitian(Lρ)\n",
    "end"
   ]
  },
  {
   "cell_type": "code",
   "execution_count": 28,
   "metadata": {},
   "outputs": [
    {
     "data": {
      "text/plain": [
       "Λρd (generic function with 1 method)"
      ]
     },
     "execution_count": 28,
     "metadata": {},
     "output_type": "execute_result"
    }
   ],
   "source": [
    "function Λρd(ρ::Hermitian{ComplexF32, Matrix{ComplexF32}}, dms::DMs, ds::Dime)\n",
    "    #ρ_vec = zeros(Float32, tot_dim^2)\n",
    "    Lρ = zeros(ComplexF32, ds.s_dim, ds.s_dim)\n",
    "    for i in 1:ds.tot_dim\n",
    "        Lρ += dms.s_es[div(i-1,ds.e_dim)+1]*dms.Ms[i]'*ρ*dms.Ms[i]\n",
    "    end\n",
    "    return Hermitian(Lρ)\n",
    "end"
   ]
  },
  {
   "cell_type": "code",
   "execution_count": 64,
   "metadata": {},
   "outputs": [
    {
     "data": {
      "text/plain": [
       "Λρ2 (generic function with 1 method)"
      ]
     },
     "execution_count": 64,
     "metadata": {},
     "output_type": "execute_result"
    }
   ],
   "source": [
    "function Λρ2(ρ::Hermitian{ComplexF32, Matrix{ComplexF32}}, dms::DMs, ds::Dime)\n",
    "    #ρ_vec = zeros(Float32, tot_dim^2)\n",
    "    Lρ = zeros(ComplexF32, ds.s_dim, ds.s_dim)\n",
    "    for i in 1:tot_dim\n",
    "        Lρ += dms.s_es[((i-1)%ds.s_dim)+1]*dms.Ms[i]*ρ*dms.Ms[i]'\n",
    "    end\n",
    "    return Hermitian(Lρ)\n",
    "end"
   ]
  },
  {
   "cell_type": "code",
   "execution_count": 22,
   "metadata": {},
   "outputs": [
    {
     "name": "stdout",
     "output_type": "stream",
     "text": [
      "2\n"
     ]
    },
    {
     "data": {
      "text/plain": [
       "DMs(ComplexF32[0.42669207f0 + 0.0f0im 0.2680267f0 + 0.28211877f0im; 0.2680267f0 - 0.28211877f0im 0.57330793f0 + 0.0f0im], ComplexF32[0.46014696f0 + 0.0f0im 0.22333215f0 + 0.31360644f0im; 0.22333215f0 - 0.31360644f0im 0.5398531f0 + 0.0f0im], ComplexF32[0.5302013f0 + 0.55807775f0im 0.43964547f0 + 0.46276078f0im; -0.6383069f0 + 0.0f0im 0.76978195f0 + 0.0f0im], Float32[0.10401594, 0.89598405], ComplexF32[0.313493f0 + 0.0048079835f0im -0.8688565f0 + 0.14714302f0im -0.15430166f0 - 0.10474976f0im 0.17983979f0 + 0.24085774f0im; 0.38208094f0 - 0.086137116f0im 0.14151652f0 + 0.01036604f0im -0.7126019f0 - 0.09704924f0im -0.55043125f0 - 0.079156f0im; 0.13280118f0 + 0.38294357f0im 0.008898728f0 + 0.41654897f0im 0.44536865f0 + 0.03738212f0im -0.5895205f0 + 0.33888137f0im; 0.15634486f0 + 0.7480427f0im 0.16708548f0 + 0.042344734f0im -0.31525353f0 + 0.38582787f0im 0.36823446f0 + 0.04932799f0im], Matrix{ComplexF32}[[0.32506344f0 - 0.45918882f0im -0.25576654f0 + 0.17491873f0im; 0.20893253f0 - 0.2024867f0im 0.7368686f0 - 0.30071566f0im], [0.477811f0 - 0.17168404f0im -0.17612122f0 - 0.37278768f0im; -0.39993203f0 + 0.4255597f0im -0.19118145f0 - 0.2530649f0im], [-0.3395667f0 + 0.34189522f0im 0.54282266f0 + 0.24619459f0im; 0.34281927f0 + 0.07743885f0im 0.14531302f0 + 0.37054437f0im], [0.12994604f0 + 0.47436285f0im -0.44896626f0 - 0.3588245f0im; 0.09095407f0 + 0.62777495f0im 0.07673444f0 + 0.38742572f0im]])"
      ]
     },
     "execution_count": 22,
     "metadata": {},
     "output_type": "execute_result"
    }
   ],
   "source": [
    "test_dms = init_dms(dim, 1.0f0)"
   ]
  },
  {
   "cell_type": "code",
   "execution_count": 23,
   "metadata": {},
   "outputs": [
    {
     "data": {
      "text/plain": [
       "0.110944256f0"
      ]
     },
     "execution_count": 23,
     "metadata": {},
     "output_type": "execute_result"
    }
   ],
   "source": [
    "kl = KL_divergence(test_dms.s_dm, testm)"
   ]
  },
  {
   "cell_type": "code",
   "execution_count": 29,
   "metadata": {},
   "outputs": [
    {
     "name": "stdout",
     "output_type": "stream",
     "text": [
      "lp = Λρ(test_dms.s_dm, test_dms, dim) = ComplexF32[0.33888808f0 + 0.0f0im 0.1671971f0 + 0.23883107f0im; 0.1671971f0 - 0.23883107f0im 0.6611117f0 + 0.0f0im]\n",
      "tr(lp) = 0.99999976f0\n"
     ]
    },
    {
     "data": {
      "text/plain": [
       "0.99999976f0"
      ]
     },
     "execution_count": 29,
     "metadata": {},
     "output_type": "execute_result"
    }
   ],
   "source": [
    "@show lp = Λρ(test_dms.s_dm, test_dms, dim)\n",
    "@show tr(lp)"
   ]
  },
  {
   "cell_type": "code",
   "execution_count": 30,
   "metadata": {},
   "outputs": [
    {
     "name": "stdout",
     "output_type": "stream",
     "text": [
      "lpd = Λρd(test_dms.s_dm, test_dms, dim) = ComplexF32[0.64546895f0 + 0.0f0im 0.21882442f0 + 0.15587899f0im; 0.21882442f0 - 0.15587899f0im 0.46630204f0 + 0.0f0im]\n",
      "tr(lpd) = 1.111771f0\n"
     ]
    },
    {
     "data": {
      "text/plain": [
       "1.111771f0"
      ]
     },
     "execution_count": 30,
     "metadata": {},
     "output_type": "execute_result"
    }
   ],
   "source": [
    "@show lpd = Λρd(test_dms.s_dm, test_dms, dim)\n",
    "@show tr(lpd)"
   ]
  },
  {
   "cell_type": "code",
   "execution_count": null,
   "metadata": {},
   "outputs": [],
   "source": []
  }
 ],
 "metadata": {
  "kernelspec": {
   "display_name": "Julia 1.10.0",
   "language": "julia",
   "name": "julia-1.10"
  },
  "language_info": {
   "file_extension": ".jl",
   "mimetype": "application/julia",
   "name": "julia",
   "version": "1.10.0"
  }
 },
 "nbformat": 4,
 "nbformat_minor": 2
}
