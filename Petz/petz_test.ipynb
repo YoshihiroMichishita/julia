{
 "cells": [
  {
   "cell_type": "code",
   "execution_count": 1,
   "metadata": {},
   "outputs": [],
   "source": [
    "using LinearAlgebra"
   ]
  },
  {
   "cell_type": "code",
   "execution_count": 3,
   "metadata": {},
   "outputs": [
    {
     "data": {
      "text/plain": [
       "2"
      ]
     },
     "metadata": {},
     "output_type": "display_data"
    }
   ],
   "source": [
    "round(Int, sqrt(4))"
   ]
  },
  {
   "cell_type": "code",
   "execution_count": 5,
   "metadata": {},
   "outputs": [
    {
     "data": {
      "text/plain": [
       "0.0f0 + 1.0f0im"
      ]
     },
     "metadata": {},
     "output_type": "display_data"
    }
   ],
   "source": [
    "fi = ComplexF32(1.0im)"
   ]
  },
  {
   "cell_type": "code",
   "execution_count": 6,
   "metadata": {},
   "outputs": [
    {
     "data": {
      "text/plain": [
       "vec2hermite (generic function with 1 method)"
      ]
     },
     "metadata": {},
     "output_type": "display_data"
    }
   ],
   "source": [
    "function vec2hermite(v::Vector{Float32})\n",
    "    N = round(Int, sqrt(length(v)))\n",
    "    H = zeros(ComplexF32, N, N)\n",
    "    for i in 1:N\n",
    "        for j in i:N\n",
    "            l = N*(i-1) + 2j - i^2\n",
    "            if(i == j)\n",
    "                H[i,j] = v[l]\n",
    "            else\n",
    "                H[i,j] = v[l-1] + fi*v[l]\n",
    "            end \n",
    "        end\n",
    "    end\n",
    "    H = Hermitian(H)\n",
    "    return H\n",
    "end"
   ]
  },
  {
   "cell_type": "code",
   "execution_count": 10,
   "metadata": {},
   "outputs": [
    {
     "data": {
      "text/plain": [
       "vec2unitary (generic function with 1 method)"
      ]
     },
     "metadata": {},
     "output_type": "display_data"
    }
   ],
   "source": [
    "function vec2unitary(v::Vector{Float32}, τ::Float32)\n",
    "    H = vec2hermite(v)\n",
    "    U = exp(fi*(τ*H))\n",
    "    return U\n",
    "end"
   ]
  },
  {
   "cell_type": "code",
   "execution_count": 7,
   "metadata": {},
   "outputs": [
    {
     "data": {
      "text/plain": [
       "9-element Vector{Float32}:\n",
       " 0.579861\n",
       " 0.3000999\n",
       " 0.6829384\n",
       " 0.23975629\n",
       " 0.612435\n",
       " 0.56028795\n",
       " 0.16013771\n",
       " 0.7568738\n",
       " 0.6339585"
      ]
     },
     "metadata": {},
     "output_type": "display_data"
    }
   ],
   "source": [
    "test = rand(Float32, 9)"
   ]
  },
  {
   "cell_type": "code",
   "execution_count": 12,
   "metadata": {},
   "outputs": [
    {
     "data": {
      "text/plain": [
       "3×3 Matrix{ComplexF32}:\n",
       "  0.993392+0.0576073im  -0.0720405+0.025441im   -0.0606471+0.0183969im\n",
       " 0.0639517+0.0340373im    0.992743+0.0678701im  -0.0650247+0.0194355im\n",
       "  0.061081+0.0295695im   0.0568746+0.0279734im    0.993361+0.0679102im"
      ]
     },
     "metadata": {},
     "output_type": "display_data"
    }
   ],
   "source": [
    "H_test = vec2hermite(test)\n",
    "U_test = vec2unitary(test, 0.1f0)"
   ]
  },
  {
   "cell_type": "code",
   "execution_count": 13,
   "metadata": {},
   "outputs": [
    {
     "data": {
      "text/plain": [
       "3×3 Matrix{ComplexF32}:\n",
       "         1.0+0.0im         -1.21072f-8+1.5134f-9im   7.45058f-9+3.72529f-9im\n",
       " -1.21072f-8-1.5134f-9im           1.0+0.0im         7.45058f-9-1.86265f-9im\n",
       "  7.45058f-9-3.72529f-9im   7.45058f-9+1.86265f-9im         1.0+0.0im"
      ]
     },
     "metadata": {},
     "output_type": "display_data"
    }
   ],
   "source": [
    "U_test*U_test'"
   ]
  },
  {
   "cell_type": "code",
   "execution_count": null,
   "metadata": {},
   "outputs": [],
   "source": []
  }
 ],
 "metadata": {
  "kernelspec": {
   "display_name": "Julia 1.10.0",
   "language": "julia",
   "name": "julia-1.10"
  },
  "language_info": {
   "file_extension": ".jl",
   "mimetype": "application/julia",
   "name": "julia",
   "version": "1.10.0"
  }
 },
 "nbformat": 4,
 "nbformat_minor": 2
}
