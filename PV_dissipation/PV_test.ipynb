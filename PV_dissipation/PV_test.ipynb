{
 "cells": [
  {
   "cell_type": "code",
   "execution_count": 1,
   "metadata": {},
   "outputs": [
    {
     "data": {
      "text/plain": [
       "4-element Vector{Int64}:\n",
       " 2\n",
       " 3\n",
       " 4\n",
       " 5"
      ]
     },
     "execution_count": 1,
     "metadata": {},
     "output_type": "execute_result"
    }
   ],
   "source": [
    "using Distributed\n",
    "addprocs(4)"
   ]
  },
  {
   "cell_type": "code",
   "execution_count": 8,
   "metadata": {},
   "outputs": [],
   "source": [
    "@everywhere include(\"./Watanabe_PT_parm.jl\")\n",
    "@everywhere include(\"./transport.jl\")"
   ]
  },
  {
   "cell_type": "code",
   "execution_count": 1,
   "metadata": {},
   "outputs": [
    {
     "data": {
      "text/plain": [
       "Green_SHG_nonlinear_CP (generic function with 1 method)"
      ]
     },
     "execution_count": 1,
     "metadata": {},
     "output_type": "execute_result"
    }
   ],
   "source": [
    "include(\"./Watanabe_PT_parm.jl\")\n",
    "include(\"./transport.jl\")"
   ]
  },
  {
   "cell_type": "code",
   "execution_count": 3,
   "metadata": {},
   "outputs": [
    {
     "data": {
      "text/plain": [
       "Parm(1.0, 0.5, 0.2, 0.4, 0.0, 0.02, 0.02, 1.6, 0.0, 100, 6.0, 2.0, 1000, [1, 2, 2], 4)"
      ]
     },
     "execution_count": 3,
     "metadata": {},
     "output_type": "execute_result"
    }
   ],
   "source": [
    "#t, tl, ar, ad, mu, eta, T, hx, dz, K_size, Wmax, Win, Wsize, abc, \n",
    "p = Parm(set_parm([\"1.0\",\"0.5\", \"0.2\", \"0.4\",\"0.0\", \"0.02\", \"0.02\", \"1.6\", \"0.0\", \"100\", \"6.0\", \"2.0\", \"1000\", \"1\", \"2\", \"2\"])...)"
   ]
  },
  {
   "cell_type": "code",
   "execution_count": 4,
   "metadata": {},
   "outputs": [
    {
     "data": {
      "text/plain": [
       "0.0039478417604357436"
      ]
     },
     "execution_count": 4,
     "metadata": {},
     "output_type": "execute_result"
    }
   ],
   "source": [
    "kk = get_kk(p.K_SIZE)\n",
    "dk2 = (2pi/p.K_SIZE)^2"
   ]
  },
  {
   "cell_type": "code",
   "execution_count": 4,
   "metadata": {},
   "outputs": [
    {
     "name": "stdout",
     "output_type": "stream",
     "text": [
      "[-4.707345624410664e-14, 0.0, 0.0, 0.0, 0.0, 0.0, 0.0, 0.0, 0.0, 0.0]\n"
     ]
    }
   ],
   "source": [
    "length_PV = zeros(Float64, 10) \n",
    "for i in 1:size(kk)[1]\n",
    "    Hamk = Hamiltonian(HandV_fd(kk[i],p)...)\n",
    "    length_PV += Length_PV_BI(p, Hamk)\n",
    "end\n",
    "println(length_PV)"
   ]
  },
  {
   "cell_type": "code",
   "execution_count": 9,
   "metadata": {},
   "outputs": [
    {
     "name": "stdout",
     "output_type": "stream",
     "text": [
      "[-7.494005416219807e-16, 0.0, -4.336808689942018e-17, 0.0, -4.683753385137379e-17, 0.0, -1.942890293094024e-16, 0.0, 9.71445146547012e-17, 5.443529806514676e-20]\n"
     ]
    }
   ],
   "source": [
    "Green_PV = @distributed (+) for i in 1:size(kk)[1]\n",
    "    Hamk = Hamiltonian(HandV_fd(kk[i],p)...)\n",
    "    ll = Green_PV_BI(p, Hamk)\n",
    "\n",
    "    dk2*ll\n",
    "end\n",
    "println(Green_PV)"
   ]
  },
  {
   "cell_type": "code",
   "execution_count": null,
   "metadata": {},
   "outputs": [],
   "source": []
  }
 ],
 "metadata": {
  "kernelspec": {
   "display_name": "Julia 1.8.5",
   "language": "julia",
   "name": "julia-1.8"
  },
  "language_info": {
   "file_extension": ".jl",
   "mimetype": "application/julia",
   "name": "julia",
   "version": "1.8.5"
  },
  "orig_nbformat": 4
 },
 "nbformat": 4,
 "nbformat_minor": 2
}
