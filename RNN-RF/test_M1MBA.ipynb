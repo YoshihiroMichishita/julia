{
 "cells": [
  {
   "cell_type": "code",
   "execution_count": 1,
   "metadata": {},
   "outputs": [],
   "source": [
    "using LinearAlgebra\n",
    "using Flux"
   ]
  },
  {
   "cell_type": "code",
   "execution_count": 2,
   "metadata": {},
   "outputs": [
    {
     "data": {
      "text/plain": [
       "8"
      ]
     },
     "metadata": {},
     "output_type": "display_data"
    }
   ],
   "source": [
    "input = 10\n",
    "middle = 20\n",
    "output = 8"
   ]
  },
  {
   "cell_type": "code",
   "execution_count": 21,
   "metadata": {},
   "outputs": [
    {
     "data": {
      "text/plain": [
       "(1, 2, 3, 4, 5)"
      ]
     },
     "metadata": {},
     "output_type": "display_data"
    }
   ],
   "source": [
    "Tuple(i for i in 1:5)"
   ]
  },
  {
   "cell_type": "code",
   "execution_count": 20,
   "metadata": {},
   "outputs": [
    {
     "data": {
      "text/plain": [
       "Chain(\n",
       "  Dense(10 => 20),                      \u001b[90m# 220 parameters\u001b[39m\n",
       "  Array(\n",
       "    Chain(\n",
       "      Parallel(\n",
       "        +,\n",
       "        Chain(\n",
       "          BatchNorm(20),                \u001b[90m# 40 parameters\u001b[39m\u001b[90m, plus 40\u001b[39m\n",
       "          Dense(20 => 20, relu),        \u001b[90m# 420 parameters\u001b[39m\n",
       "        ),\n",
       "        Dense(20 => 20, relu),          \u001b[90m# 420 parameters\u001b[39m\n",
       "      ),\n",
       "      identity,\n",
       "    ),\n",
       "    Chain(\n",
       "      Parallel(\n",
       "        +,\n",
       "        Chain(\n",
       "          BatchNorm(20),                \u001b[90m# 40 parameters\u001b[39m\u001b[90m, plus 40\u001b[39m\n",
       "          Dense(20 => 20, relu),        \u001b[90m# 420 parameters\u001b[39m\n",
       "        ),\n",
       "        Dense(20 => 20, relu),          \u001b[90m# 420 parameters\u001b[39m\n",
       "      ),\n",
       "      identity,\n",
       "    ),\n",
       "    Chain(\n",
       "      Parallel(\n",
       "        +,\n",
       "        Chain(\n",
       "          BatchNorm(20),                \u001b[90m# 40 parameters\u001b[39m\u001b[90m, plus 40\u001b[39m\n",
       "          Dense(20 => 20, relu),        \u001b[90m# 420 parameters\u001b[39m\n",
       "        ),\n",
       "        Dense(20 => 20, relu),          \u001b[90m# 420 parameters\u001b[39m\n",
       "      ),\n",
       "      identity,\n",
       "    ),\n",
       "  ),\n",
       "  Flux.flatten,\n",
       "  Dense(20 => 8, tanh),                 \u001b[90m# 168 parameters\u001b[39m\n",
       ") \u001b[90m        # Total: 22 trainable arrays, \u001b[39m3_028 parameters,\n",
       "\u001b[90m          # plus 6 non-trainable, 120 parameters, summarysize \u001b[39m14.523 KiB."
      ]
     },
     "metadata": {},
     "output_type": "display_data"
    }
   ],
   "source": [
    "model = Chain(Dense(input, middle), [Chain(Parallel(+, Chain(BatchNorm(middle), Dense(middle, middle, relu)),Dense(middle, middle, relu)), identity) for i in 1:3], Flux.flatten ,Dense(middle, output, tanh))"
   ]
  },
  {
   "cell_type": "code",
   "execution_count": null,
   "metadata": {},
   "outputs": [],
   "source": []
  }
 ],
 "metadata": {
  "kernelspec": {
   "display_name": "Julia 1.9.0",
   "language": "julia",
   "name": "julia-1.9"
  },
  "language_info": {
   "file_extension": ".jl",
   "mimetype": "application/julia",
   "name": "julia",
   "version": "1.9.0"
  },
  "orig_nbformat": 4
 },
 "nbformat": 4,
 "nbformat_minor": 2
}
