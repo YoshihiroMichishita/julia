{
 "cells": [
  {
   "cell_type": "code",
   "execution_count": 10,
   "metadata": {},
   "outputs": [],
   "source": [
    "using LinearAlgebra\n",
    "using Flux"
   ]
  },
  {
   "cell_type": "code",
   "execution_count": 11,
   "metadata": {},
   "outputs": [],
   "source": [
    "using Symbolics\n",
    "using SymbolicNumericIntegration"
   ]
  },
  {
   "cell_type": "code",
   "execution_count": 14,
   "metadata": {},
   "outputs": [
    {
     "data": {
      "text/latex": [
       "$$ \\begin{equation}\n",
       "\\left[\n",
       "\\begin{array}{c}\n",
       "t \\\\\n",
       "\\end{array}\n",
       "\\right]\n",
       "\\end{equation}\n",
       " $$"
      ],
      "text/plain": [
       "1-element Vector{Num}:\n",
       " t"
      ]
     },
     "metadata": {},
     "output_type": "display_data"
    }
   ],
   "source": [
    "@variables t"
   ]
  },
  {
   "cell_type": "code",
   "execution_count": 23,
   "metadata": {},
   "outputs": [
    {
     "data": {
      "text/plain": [
       "test (generic function with 2 methods)"
      ]
     },
     "metadata": {},
     "output_type": "display_data"
    }
   ],
   "source": [
    "function test(tt)\n",
    "    sx = sin(tt)\n",
    "    gx = integrate(sx)\n",
    "    gxx = substitute.(gx, tt=>[0.1, 0.2, 0.3])\n",
    "    return gxx\n",
    "end"
   ]
  },
  {
   "cell_type": "code",
   "execution_count": 24,
   "metadata": {},
   "outputs": [
    {
     "ename": "MethodError",
     "evalue": "MethodError: no method matching cos(::Vector{Float64})\n\nClosest candidates are:\n  cos(!Matched::T) where T<:Union{Float32, Float64}\n   @ Base special/trig.jl:98\n  cos(!Matched::Lazy.List, !Matched::Lazy.List...)\n   @ Lazy ~/.julia/packages/Lazy/9Xnd3/src/Lazy.jl:20\n  cos(!Matched::SymbolicUtils.BasicSymbolic{<:Number})\n   @ SymbolicUtils ~/.julia/packages/SymbolicUtils/H684H/src/methods.jl:83\n  ...\n",
     "output_type": "error",
     "traceback": [
      "MethodError: no method matching cos(::Vector{Float64})\n",
      "\n",
      "Closest candidates are:\n",
      "  cos(!Matched::T) where T<:Union{Float32, Float64}\n",
      "   @ Base special/trig.jl:98\n",
      "  cos(!Matched::Lazy.List, !Matched::Lazy.List...)\n",
      "   @ Lazy ~/.julia/packages/Lazy/9Xnd3/src/Lazy.jl:20\n",
      "  cos(!Matched::SymbolicUtils.BasicSymbolic{<:Number})\n",
      "   @ SymbolicUtils ~/.julia/packages/SymbolicUtils/H684H/src/methods.jl:83\n",
      "  ...\n",
      "\n",
      "\n",
      "Stacktrace:\n",
      "  [1] substitute(expr::SymbolicUtils.BasicSymbolic{Real}, dict::Dict{SymbolicUtils.BasicSymbolic{Real}, Vector{Float64}}; fold::Bool)\n",
      "    @ SymbolicUtils ~/.julia/packages/SymbolicUtils/H684H/src/substitute.jl:28\n",
      "  [2] substitute\n",
      "    @ ~/.julia/packages/SymbolicUtils/H684H/src/substitute.jl:16 [inlined]\n",
      "  [3] (::SymbolicUtils.var\"#313#315\"{Bool, Dict{SymbolicUtils.BasicSymbolic{Real}, Vector{Float64}}})(x::SymbolicUtils.BasicSymbolic{Real})\n",
      "    @ SymbolicUtils ~/.julia/packages/SymbolicUtils/H684H/src/substitute.jl:24\n",
      "  [4] iterate\n",
      "    @ ./generator.jl:47 [inlined]\n",
      "  [5] collect_to!(dest::Vector{Int64}, itr::Base.Generator{Vector{Any}, SymbolicUtils.var\"#313#315\"{Bool, Dict{SymbolicUtils.BasicSymbolic{Real}, Vector{Float64}}}}, offs::Int64, st::Int64)\n",
      "    @ Base ./array.jl:840\n",
      "  [6] collect_to_with_first!(dest::Vector{Int64}, v1::Int64, itr::Base.Generator{Vector{Any}, SymbolicUtils.var\"#313#315\"{Bool, Dict{SymbolicUtils.BasicSymbolic{Real}, Vector{Float64}}}}, st::Int64)\n",
      "    @ Base ./array.jl:818\n",
      "  [7] _collect(c::Vector{Any}, itr::Base.Generator{Vector{Any}, SymbolicUtils.var\"#313#315\"{Bool, Dict{SymbolicUtils.BasicSymbolic{Real}, Vector{Float64}}}}, #unused#::Base.EltypeUnknown, isz::Base.HasShape{1})\n",
      "    @ Base ./array.jl:812\n",
      "  [8] collect_similar(cont::Vector{Any}, itr::Base.Generator{Vector{Any}, SymbolicUtils.var\"#313#315\"{Bool, Dict{SymbolicUtils.BasicSymbolic{Real}, Vector{Float64}}}})\n",
      "    @ Base ./array.jl:711\n",
      "  [9] map(f::Function, A::Vector{Any})\n",
      "    @ Base ./abstractarray.jl:3261\n",
      " [10] substitute(expr::SymbolicUtils.BasicSymbolic{Real}, dict::Dict{SymbolicUtils.BasicSymbolic{Real}, Vector{Float64}}; fold::Bool)\n",
      "    @ SymbolicUtils ~/.julia/packages/SymbolicUtils/H684H/src/substitute.jl:23\n",
      " [11] substitute\n",
      "    @ ~/.julia/packages/SymbolicUtils/H684H/src/substitute.jl:16 [inlined]\n",
      " [12] #16#17\n",
      "    @ ~/.julia/packages/Symbolics/CNA2l/src/num.jl:87 [inlined]\n",
      " [13] (::Symbolics.var\"#16#19\"{Symbolics.var\"#16#17#20\"{Dict{SymbolicUtils.BasicSymbolic{Real}, Vector{Float64}}}})(expr::SymbolicUtils.BasicSymbolic{Real})\n",
      "    @ Symbolics ~/.julia/packages/Symbolics/CNA2l/src/num.jl:87\n",
      " [14] substitute(expr::SymbolicUtils.BasicSymbolic{Real}, s::Pair{Num, Vector{Float64}}; kw::Base.Pairs{Symbol, Union{}, Tuple{}, NamedTuple{(), Tuple{}}})\n",
      "    @ Symbolics ~/.julia/packages/Symbolics/CNA2l/src/num.jl:81\n",
      " [15] substitute\n",
      "    @ ~/.julia/packages/Symbolics/CNA2l/src/num.jl:81 [inlined]\n",
      " [16] _broadcast_getindex_evalf\n",
      "    @ ./broadcast.jl:683 [inlined]\n",
      " [17] _broadcast_getindex\n",
      "    @ ./broadcast.jl:656 [inlined]\n",
      " [18] #31\n",
      "    @ ./broadcast.jl:1088 [inlined]\n",
      " [19] ntuple\n",
      "    @ ./ntuple.jl:50 [inlined]\n",
      " [20] copy(bc::Base.Broadcast.Broadcasted{Base.Broadcast.Style{Tuple}, Nothing, typeof(substitute), Tuple{Tuple{SymbolicUtils.BasicSymbolic{Real}, Int64, Int64}, Base.RefValue{Pair{Num, Vector{Float64}}}}})\n",
      "    @ Base.Broadcast ./broadcast.jl:1088\n",
      " [21] materialize\n",
      "    @ ./broadcast.jl:873 [inlined]\n",
      " [22] test(tt::Num)\n",
      "    @ Main ~/Documents/Codes/julia/RNN-RF/test_M1MBA.ipynb:4\n",
      " [23] top-level scope\n",
      "    @ ~/Documents/Codes/julia/RNN-RF/test_M1MBA.ipynb:1"
     ]
    }
   ],
   "source": [
    "gtt = test(t)"
   ]
  },
  {
   "cell_type": "code",
   "execution_count": 21,
   "metadata": {},
   "outputs": [
    {
     "name": "stdout",
     "output_type": "stream",
     "text": [
      "MethodInstance for test(::Num)\n",
      "  from test(\u001b[90mtt\u001b[39m)\u001b[90m @\u001b[39m \u001b[90mMain\u001b[39m \u001b[90m~/Documents/Codes/julia/RNN-RF/\u001b[39m\u001b[90m\u001b[4mtest_M1MBA.ipynb:1\u001b[24m\u001b[39m\n",
      "Arguments\n",
      "  #self#\u001b[36m::Core.Const(test)\u001b[39m\n",
      "  tt\u001b[36m::Num\u001b[39m\n",
      "Locals\n",
      "  gxx\u001b[91m\u001b[1m::Any\u001b[22m\u001b[39m\n",
      "  gx\u001b[91m\u001b[1m::Tuple{Any, Any, Any}\u001b[22m\u001b[39m\n",
      "  sx\u001b[36m::Num\u001b[39m\n",
      "Body\u001b[91m\u001b[1m::Any\u001b[22m\u001b[39m\n",
      "\u001b[90m1 ─\u001b[39m      (sx = Main.sin(tt))\n",
      "\u001b[90m│  \u001b[39m      (gx = Main.integrate(sx))\n",
      "\u001b[90m│  \u001b[39m %3 = Main.substitute\u001b[36m::Core.Const(SymbolicUtils.substitute)\u001b[39m\n",
      "\u001b[90m│  \u001b[39m %4 = gx\u001b[91m\u001b[1m::Tuple{Any, Any, Any}\u001b[22m\u001b[39m\n",
      "\u001b[90m│  \u001b[39m %5 = (2 * Main.pi)\u001b[36m::Core.Const(6.283185307179586)\u001b[39m\n",
      "\u001b[90m│  \u001b[39m %6 = (0:0.1:%5)\u001b[36m::StepRangeLen{Float64, Base.TwicePrecision{Float64}, Base.TwicePrecision{Float64}, Int64}\u001b[39m\n",
      "\u001b[90m│  \u001b[39m %7 = (tt => %6)\u001b[36m::Pair{Num, StepRangeLen{Float64, Base.TwicePrecision{Float64}, Base.TwicePrecision{Float64}, Int64}}\u001b[39m\n",
      "\u001b[90m│  \u001b[39m %8 = Base.broadcasted(%3, %4, %7)\u001b[91m\u001b[1m::Base.Broadcast.Broadcasted{Style, Nothing, typeof(substitute)} where Style<:Union{Nothing, Base.Broadcast.BroadcastStyle}\u001b[22m\u001b[39m\n",
      "\u001b[90m│  \u001b[39m      (gxx = Base.materialize(%8))\n",
      "\u001b[90m└──\u001b[39m      return gxx\n",
      "\n"
     ]
    }
   ],
   "source": [
    "gxx = @code_warntype test(t)"
   ]
  },
  {
   "cell_type": "code",
   "execution_count": 27,
   "metadata": {},
   "outputs": [
    {
     "data": {
      "text/plain": [
       "Dense(60 => 7)      \u001b[90m# 427 parameters\u001b[39m\u001b[36m  (all zero)\u001b[39m"
      ]
     },
     "metadata": {},
     "output_type": "display_data"
    }
   ],
   "source": [
    "model = Dense(zeros(Float32, 7, 60))"
   ]
  },
  {
   "cell_type": "code",
   "execution_count": 28,
   "metadata": {},
   "outputs": [
    {
     "data": {
      "text/plain": [
       "Dense{typeof(identity), Matrix{Float32}, Vector{Float32}}"
      ]
     },
     "metadata": {},
     "output_type": "display_data"
    }
   ],
   "source": [
    "typeof(model)"
   ]
  },
  {
   "cell_type": "code",
   "execution_count": 29,
   "metadata": {},
   "outputs": [
    {
     "data": {
      "text/plain": [
       "Chain(\n",
       "  Dense(60 => 64),                      \u001b[90m# 3_904 parameters\u001b[39m\n",
       "  Chain(\n",
       "    Parallel(\n",
       "      +,\n",
       "      Chain(\n",
       "        BatchNorm(64),                  \u001b[90m# 128 parameters\u001b[39m\u001b[90m, plus 128\u001b[39m\n",
       "        Dense(64 => 64, relu),          \u001b[90m# 4_160 parameters\u001b[39m\n",
       "      ),\n",
       "      Dense(64 => 64, relu),            \u001b[90m# 4_160 parameters\u001b[39m\n",
       "    ),\n",
       "    identity,\n",
       "  ),\n",
       "  Chain(\n",
       "    Parallel(\n",
       "      +,\n",
       "      Chain(\n",
       "        BatchNorm(64),                  \u001b[90m# 128 parameters\u001b[39m\u001b[90m, plus 128\u001b[39m\n",
       "        Dense(64 => 64, relu),          \u001b[90m# 4_160 parameters\u001b[39m\n",
       "      ),\n",
       "      Dense(64 => 64, relu),            \u001b[90m# 4_160 parameters\u001b[39m\n",
       "    ),\n",
       "    identity,\n",
       "  ),\n",
       "  Flux.flatten,\n",
       "  Parallel(\n",
       "    vcat,\n",
       "    Dense(64 => 6, tanh),               \u001b[90m# 390 parameters\u001b[39m\n",
       "    Dense(64 => 1, tanh),               \u001b[90m# 65 parameters\u001b[39m\n",
       "  ),\n",
       ") \u001b[90m        # Total: 18 trainable arrays, \u001b[39m21_255 parameters,\n",
       "\u001b[90m          # plus 4 non-trainable, 256 parameters, summarysize \u001b[39m85.824 KiB."
      ]
     },
     "metadata": {},
     "output_type": "display_data"
    }
   ],
   "source": [
    "model2 = Chain(Dense(60, 64), Tuple(Chain(Parallel(+, Chain(BatchNorm(64), Dense(64, 64, relu)),Dense(64, 64, relu)), identity) for i in 1:2)..., Flux.flatten, Flux.Parallel(vcat, Dense(64, 6, tanh), Dense(64, 1, tanh)))"
   ]
  },
  {
   "cell_type": "code",
   "execution_count": 30,
   "metadata": {},
   "outputs": [
    {
     "data": {
      "text/plain": [
       "Chain{Tuple{Dense{typeof(identity), Matrix{Float32}, Vector{Float32}}, Chain{Tuple{Parallel{typeof(+), Tuple{Chain{Tuple{BatchNorm{typeof(identity), Vector{Float32}, Float32, Vector{Float32}}, Dense{typeof(relu), Matrix{Float32}, Vector{Float32}}}}, Dense{typeof(relu), Matrix{Float32}, Vector{Float32}}}}, typeof(identity)}}, Chain{Tuple{Parallel{typeof(+), Tuple{Chain{Tuple{BatchNorm{typeof(identity), Vector{Float32}, Float32, Vector{Float32}}, Dense{typeof(relu), Matrix{Float32}, Vector{Float32}}}}, Dense{typeof(relu), Matrix{Float32}, Vector{Float32}}}}, typeof(identity)}}, typeof(Flux.flatten), Parallel{typeof(vcat), Tuple{Dense{typeof(tanh), Matrix{Float32}, Vector{Float32}}, Dense{typeof(tanh), Matrix{Float32}, Vector{Float32}}}}}}"
      ]
     },
     "metadata": {},
     "output_type": "display_data"
    }
   ],
   "source": [
    "typeof(model2)"
   ]
  },
  {
   "cell_type": "code",
   "execution_count": 31,
   "metadata": {},
   "outputs": [],
   "source": [
    "mutable struct test_model\n",
    "    model::Chain\n",
    "end"
   ]
  },
  {
   "cell_type": "code",
   "execution_count": 32,
   "metadata": {},
   "outputs": [
    {
     "data": {
      "text/plain": [
       "test_model(Chain(Dense(60 => 64), Chain(Parallel(+, Chain(BatchNorm(64), Dense(64 => 64, relu)), Dense(64 => 64, relu)), identity), Chain(Parallel(+, Chain(BatchNorm(64), Dense(64 => 64, relu)), Dense(64 => 64, relu)), identity), flatten, Parallel(vcat, Dense(64 => 6, tanh), Dense(64 => 1, tanh))))"
      ]
     },
     "metadata": {},
     "output_type": "display_data"
    }
   ],
   "source": [
    "mm = test_model(model2)"
   ]
  },
  {
   "cell_type": "code",
   "execution_count": 34,
   "metadata": {},
   "outputs": [],
   "source": [
    "mutable struct test_model2\n",
    "    model::Chain\n",
    "    storage::Dict{Int, Chain}\n",
    "end"
   ]
  },
  {
   "cell_type": "code",
   "execution_count": 35,
   "metadata": {},
   "outputs": [
    {
     "data": {
      "text/plain": [
       "test_model2(Chain(Dense(60 => 64), Chain(Parallel(+, Chain(BatchNorm(64), Dense(64 => 64, relu)), Dense(64 => 64, relu)), identity), Chain(Parallel(+, Chain(BatchNorm(64), Dense(64 => 64, relu)), Dense(64 => 64, relu)), identity), flatten, Parallel(vcat, Dense(64 => 6, tanh), Dense(64 => 1, tanh))), Dict{Int64, Chain}())"
      ]
     },
     "metadata": {},
     "output_type": "display_data"
    }
   ],
   "source": [
    "mm2 = test_model2(model2, Dict())"
   ]
  },
  {
   "cell_type": "code",
   "execution_count": 39,
   "metadata": {},
   "outputs": [
    {
     "data": {
      "text/plain": [
       "Dict{Int64, Chain}"
      ]
     },
     "metadata": {},
     "output_type": "display_data"
    }
   ],
   "source": [
    "typeof(mm2.storage)"
   ]
  },
  {
   "cell_type": "code",
   "execution_count": 1,
   "metadata": {},
   "outputs": [
    {
     "data": {
      "text/plain": [
       "Dict{Any, Any}()"
      ]
     },
     "metadata": {},
     "output_type": "display_data"
    }
   ],
   "source": [
    "test = Dict()"
   ]
  },
  {
   "cell_type": "code",
   "execution_count": 2,
   "metadata": {},
   "outputs": [
    {
     "data": {
      "text/plain": [
       "true"
      ]
     },
     "metadata": {},
     "output_type": "display_data"
    }
   ],
   "source": [
    "isempty(test)"
   ]
  },
  {
   "cell_type": "code",
   "execution_count": 5,
   "metadata": {},
   "outputs": [
    {
     "data": {
      "text/plain": [
       "1"
      ]
     },
     "metadata": {},
     "output_type": "display_data"
    }
   ],
   "source": [
    "length(test)"
   ]
  },
  {
   "cell_type": "code",
   "execution_count": 4,
   "metadata": {},
   "outputs": [
    {
     "data": {
      "text/plain": [
       "4"
      ]
     },
     "metadata": {},
     "output_type": "display_data"
    }
   ],
   "source": [
    "test[3] = 4"
   ]
  },
  {
   "cell_type": "code",
   "execution_count": null,
   "metadata": {},
   "outputs": [],
   "source": []
  },
  {
   "cell_type": "code",
   "execution_count": 2,
   "metadata": {},
   "outputs": [
    {
     "data": {
      "text/plain": [
       "5-element Vector{Int64}:\n",
       " 2\n",
       " 3\n",
       " 5\n",
       " 6\n",
       " 1"
      ]
     },
     "metadata": {},
     "output_type": "display_data"
    }
   ],
   "source": [
    "visit = [2, 3, 5, 6, 1]"
   ]
  },
  {
   "cell_type": "code",
   "execution_count": 21,
   "metadata": {},
   "outputs": [],
   "source": [
    "using StatsBase\n",
    "using Distributions"
   ]
  },
  {
   "cell_type": "code",
   "execution_count": 3,
   "metadata": {},
   "outputs": [
    {
     "data": {
      "text/plain": [
       "5-element Vector{Float64}:\n",
       " 0.012695212984686215\n",
       " 0.034509166764689854\n",
       " 0.25499016915164646\n",
       " 0.6931351432406189\n",
       " 0.004670307858358804"
      ]
     },
     "metadata": {},
     "output_type": "display_data"
    }
   ],
   "source": [
    "p = softmax(visit)"
   ]
  },
  {
   "cell_type": "code",
   "execution_count": 13,
   "metadata": {},
   "outputs": [
    {
     "data": {
      "text/plain": [
       "3-element Vector{Float64}:\n",
       " 0.2\n",
       " 0.3\n",
       " 0.5"
      ]
     },
     "metadata": {},
     "output_type": "display_data"
    }
   ],
   "source": [
    "ps = [0.2, 0.3, 0.5]"
   ]
  },
  {
   "cell_type": "code",
   "execution_count": 15,
   "metadata": {},
   "outputs": [
    {
     "data": {
      "text/plain": [
       "0.5"
      ]
     },
     "metadata": {},
     "output_type": "display_data"
    }
   ],
   "source": [
    "rand(ps)"
   ]
  },
  {
   "cell_type": "code",
   "execution_count": 27,
   "metadata": {},
   "outputs": [
    {
     "data": {
      "text/plain": [
       "4"
      ]
     },
     "metadata": {},
     "output_type": "display_data"
    }
   ],
   "source": [
    "rand(Categorical(p))"
   ]
  },
  {
   "cell_type": "code",
   "execution_count": 25,
   "metadata": {},
   "outputs": [
    {
     "data": {
      "text/plain": [
       "8"
      ]
     },
     "metadata": {},
     "output_type": "display_data"
    }
   ],
   "source": [
    "input = 10\n",
    "middle = 20\n",
    "output = 8"
   ]
  },
  {
   "cell_type": "code",
   "execution_count": 21,
   "metadata": {},
   "outputs": [
    {
     "data": {
      "text/plain": [
       "(1, 2, 3, 4, 5)"
      ]
     },
     "metadata": {},
     "output_type": "display_data"
    }
   ],
   "source": [
    "Tuple(i for i in 1:5)"
   ]
  },
  {
   "cell_type": "code",
   "execution_count": 20,
   "metadata": {},
   "outputs": [
    {
     "data": {
      "text/plain": [
       "Chain(\n",
       "  Dense(10 => 20),                      \u001b[90m# 220 parameters\u001b[39m\n",
       "  Array(\n",
       "    Chain(\n",
       "      Parallel(\n",
       "        +,\n",
       "        Chain(\n",
       "          BatchNorm(20),                \u001b[90m# 40 parameters\u001b[39m\u001b[90m, plus 40\u001b[39m\n",
       "          Dense(20 => 20, relu),        \u001b[90m# 420 parameters\u001b[39m\n",
       "        ),\n",
       "        Dense(20 => 20, relu),          \u001b[90m# 420 parameters\u001b[39m\n",
       "      ),\n",
       "      identity,\n",
       "    ),\n",
       "    Chain(\n",
       "      Parallel(\n",
       "        +,\n",
       "        Chain(\n",
       "          BatchNorm(20),                \u001b[90m# 40 parameters\u001b[39m\u001b[90m, plus 40\u001b[39m\n",
       "          Dense(20 => 20, relu),        \u001b[90m# 420 parameters\u001b[39m\n",
       "        ),\n",
       "        Dense(20 => 20, relu),          \u001b[90m# 420 parameters\u001b[39m\n",
       "      ),\n",
       "      identity,\n",
       "    ),\n",
       "    Chain(\n",
       "      Parallel(\n",
       "        +,\n",
       "        Chain(\n",
       "          BatchNorm(20),                \u001b[90m# 40 parameters\u001b[39m\u001b[90m, plus 40\u001b[39m\n",
       "          Dense(20 => 20, relu),        \u001b[90m# 420 parameters\u001b[39m\n",
       "        ),\n",
       "        Dense(20 => 20, relu),          \u001b[90m# 420 parameters\u001b[39m\n",
       "      ),\n",
       "      identity,\n",
       "    ),\n",
       "  ),\n",
       "  Flux.flatten,\n",
       "  Dense(20 => 8, tanh),                 \u001b[90m# 168 parameters\u001b[39m\n",
       ") \u001b[90m        # Total: 22 trainable arrays, \u001b[39m3_028 parameters,\n",
       "\u001b[90m          # plus 6 non-trainable, 120 parameters, summarysize \u001b[39m14.523 KiB."
      ]
     },
     "metadata": {},
     "output_type": "display_data"
    }
   ],
   "source": [
    "model = Chain(Dense(input, middle), [Chain(Parallel(+, Chain(BatchNorm(middle), Dense(middle, middle, relu)),Dense(middle, middle, relu)), identity) for i in 1:3], Flux.flatten ,Dense(middle, output, tanh))"
   ]
  },
  {
   "cell_type": "code",
   "execution_count": null,
   "metadata": {},
   "outputs": [],
   "source": []
  }
 ],
 "metadata": {
  "kernelspec": {
   "display_name": "Julia 1.9.1",
   "language": "julia",
   "name": "julia-1.9"
  },
  "language_info": {
   "file_extension": ".jl",
   "mimetype": "application/julia",
   "name": "julia",
   "version": "1.9.1"
  },
  "orig_nbformat": 4
 },
 "nbformat": 4,
 "nbformat_minor": 2
}
