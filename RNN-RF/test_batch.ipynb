{
 "cells": [
  {
   "cell_type": "code",
   "execution_count": 72,
   "metadata": {},
   "outputs": [
    {
     "data": {
      "text/plain": [
       "calc_score (generic function with 1 method)"
      ]
     },
     "metadata": {},
     "output_type": "display_data"
    }
   ],
   "source": [
    "include(\"/Users/johnbrother/Documents/Codes/julia/RNN-RF/MCTS-RF_env.jl\")"
   ]
  },
  {
   "cell_type": "code",
   "execution_count": 3,
   "metadata": {},
   "outputs": [
    {
     "data": {
      "text/plain": [
       "st_value (generic function with 1 method)"
      ]
     },
     "metadata": {},
     "output_type": "display_data"
    }
   ],
   "source": [
    "\n",
    "using Distributions\n",
    "using StatsBase\n",
    "\n",
    "mutable struct Node\n",
    "    visit_count::Int\n",
    "    prior::Float32\n",
    "    value_sum::Float32\n",
    "    children::Dict{Int, Node}\n",
    "    action::Int\n",
    "end\n",
    "\n",
    "function init_node(prior::Float32)\n",
    "    return Node(0, prior, 0.0, Dict(), 0)\n",
    "end\n",
    "\n",
    "function has_children(node::Node)\n",
    "    return length(node.children) > 0\n",
    "end\n",
    "\n",
    "function st_value(node::Node)\n",
    "    if node.visit_count == 0\n",
    "        return 0.0\n",
    "    else\n",
    "        return node.value_sum / node.visit_count\n",
    "    end\n",
    "end"
   ]
  },
  {
   "cell_type": "code",
   "execution_count": 4,
   "metadata": {},
   "outputs": [
    {
     "data": {
      "text/plain": [
       "select_action (generic function with 1 method)"
      ]
     },
     "metadata": {},
     "output_type": "display_data"
    }
   ],
   "source": [
    "#it stores sigle game history and child visit pi\n",
    "mutable struct Agent\n",
    "    #counts\n",
    "    history::Vector{Int}\n",
    "    branch_left::Vector{Int}\n",
    "    child_visit_pi::Vector{Vector{Float32}}\n",
    "end\n",
    "\n",
    "function init_agt()\n",
    "    return Agent([], [-1], [])\n",
    "end\n",
    "\n",
    "#finishの判定\n",
    "function is_finish(env::Env, agt::Agent)\n",
    "    #max_turnに達したか、branchがなくなって最後のstateがval_numに達したか\n",
    "    return env.max_turn == length(agt.history) || (length(agt.branch_left) == 0 && agt.history[end]<=env.val_num)\n",
    "end\n",
    "\n",
    "#行動可能なactionのリストを返す\n",
    "function legal_action(env::Env, agt::Agent)\n",
    "    if(isempty(agt.history))\n",
    "        return [i for i in 1:env.act_ind]\n",
    "    elseif(agt.history[end]>env.val_num && agt.history[end]<=env.val_num+env.br_num)\n",
    "        return [i for i in 1:env.act_ind if(i!=agt.history[end])]\n",
    "    else\n",
    "        return [i for i in 1:env.act_ind]\n",
    "    end\n",
    "end\n",
    "\n",
    "#historyにactionを追加し、branch_leftを更新\n",
    "function apply!(agt::Agent, act::Int)\n",
    "    push!(agt.history, act)\n",
    "    if act <= env.val_num\n",
    "        pop!(agt.branch_left)\n",
    "    end\n",
    "end\n",
    "\n",
    "#child_visit_piの計算\n",
    "function store_search_statistics!(root::Node, agt::Agent)\n",
    "    agt.child_visit_pi = zeros(Float32, env.act_ind)\n",
    "    sum_visits = sum([child.visit_count for child in root.children])\n",
    "    for child in root.children\n",
    "        agt.child_visit_pi[child.action] = child.visit_count/sum_visits\n",
    "    end\n",
    "end\n",
    "\n",
    "function make_image(env::Env, agt::Agent, turn::Int)\n",
    "    input_data = zeros(Int, env.input_dim)\n",
    "    for act_ind in 1:env.act_ind\n",
    "        ind = findall(x->x==act_ind, agt.history[1:turn])\n",
    "        for it in ind\n",
    "            input_data[(act_ind-1)*env.max_turn+it] = 1\n",
    "        end\n",
    "    end\n",
    "    return input_data\n",
    "    #append!(copy(agt.history[1:turn]), zeros(Int, env.max_turn-turn))\n",
    "end\n",
    "\n",
    "function make_target(env::Env,agt::Agent, turn::Int)\n",
    "    return [agt.child_visit_pi[turn]; calc_score(agt.history, env)]\n",
    "end\n",
    "\n",
    "function add_exploration_noise!(env::Env, node::Node)\n",
    "    actions = Int.(keys(node.children))\n",
    "    noise = Dirichlet(env.α * ones(Float32, length(actions)))\n",
    "    for it in 1:length(actions)\n",
    "        node.children[actions[it]].prior = node.children[actions[it]].prior * (1-env.frac) + noise[it] * env.frac\n",
    "    end\n",
    "end\n",
    "\n",
    "function ucb_score(env::Env, parent::Node, child::Node)\n",
    "    pb_c = log((parent.visit_count + env.Cb + 1) / env.Cb) + env.Ci\n",
    "    pb_c *= sqrt(parent.visit_count) / (child.visit_count + 1)\n",
    "    prior_score = pb_c * child.prior\n",
    "    value_score = child.value_sum / (child.visit_count + 1)\n",
    "    return prior_score + value_score\n",
    "end\n",
    "\n",
    "function select_child(env::Env, node::Node)\n",
    "    actions = Int.(keys(node.children))\n",
    "    children = [node.children[a] for a in actions]\n",
    "    it = findmax([ucb_score(env, node, child) for child in children])\n",
    "    return actions[it], children[it]\n",
    "end\n",
    "\n",
    "function backpropagate!(search_path::Vector{Node}, value::Float32)\n",
    "    for node in search_path\n",
    "        node.value_sum += value\n",
    "        node.visit_count += 1\n",
    "    end\n",
    "end\n",
    "\n",
    "function select_action(root::Node)\n",
    "    actions = Int.(keys(root.children))\n",
    "    visits = [child.visit_count for child in root.children]\n",
    "    return actions[argmax(visits)]\n",
    "end"
   ]
  },
  {
   "cell_type": "code",
   "execution_count": 5,
   "metadata": {},
   "outputs": [
    {
     "data": {
      "text/plain": [
       "evaluate! (generic function with 1 method)"
      ]
     },
     "metadata": {},
     "output_type": "display_data"
    }
   ],
   "source": [
    "function evaluate!(env::Env, agt::Agent,node::Node, model)\n",
    "    @show Y = model(make_image(env, agt, length(agt.history)))\n",
    "    @show value = Y[end] \n",
    "    @show pol_log = Y[1:end-1]\n",
    "    @show A = legal_action(env, agt)\n",
    "    @show policy = softmax(pol_log[a] for a in legal_action(env, agt))\n",
    "    #\n",
    "    #=\n",
    "    for it in 1:length(A)\n",
    "        node.children[A[it]] = init_node(policy[it])\n",
    "    end=#\n",
    "    return value\n",
    "end"
   ]
  },
  {
   "cell_type": "code",
   "execution_count": 74,
   "metadata": {},
   "outputs": [
    {
     "data": {
      "text/plain": [
       "Env(10, 2, 2, 3, 1, 6, 60, 128, 7, 100, 10, 128, 0.0001f0, 0.9f0, Step{Float32, Base.Iterators.Repeated{Int64}}(0.2f0, 0.1f0, Base.Iterators.Repeated{Int64}(20)), 100, 0.3f0, 0.25f0, 100, 4, 10.0f0, 0.2f0, 1.0f0, 0.7f0, 0.5f0, ComplexF32[-2.0f0 + 0.0f0im 0.0f0 + 0.0f0im 0.0f0 + 0.0f0im -0.7f0 + 0.0f0im; 0.0f0 - 0.0f0im 1.0f0 + 0.0f0im -0.7f0 + 0.0f0im 0.0f0 + 0.0f0im; 0.0f0 - 0.0f0im -0.7f0 - 0.0f0im 1.0f0 + 0.0f0im 0.0f0 + 0.0f0im; -0.7f0 - 0.0f0im 0.0f0 - 0.0f0im 0.0f0 - 0.0f0im 0.0f0 + 0.0f0im], ComplexF32[0.0f0 + 0.0f0im -0.2f0 + 0.0f0im -0.2f0 + 0.0f0im 0.0f0 + 0.0f0im; -0.2f0 - 0.0f0im 0.0f0 + 0.0f0im 0.0f0 + 0.0f0im -0.2f0 + 0.0f0im; -0.2f0 - 0.0f0im 0.0f0 - 0.0f0im 0.0f0 + 0.0f0im -0.2f0 + 0.0f0im; 0.0f0 - 0.0f0im -0.2f0 - 0.0f0im -0.2f0 - 0.0f0im 0.0f0 + 0.0f0im], 0.0062831854f0, 100, 0.1f0, 0.1f0)"
      ]
     },
     "metadata": {},
     "output_type": "display_data"
    }
   ],
   "source": [
    "en = init_Env([\"10\", \"2\", \"100\", \"0.3\", \"0.25\", \"100\", \"4\", \"10.0\", \"0.2\", \"1.0\", \"0.7\", \"0.5\", \"100\", \"0.1\", \"0.1\"])"
   ]
  },
  {
   "cell_type": "code",
   "execution_count": 7,
   "metadata": {},
   "outputs": [
    {
     "data": {
      "text/plain": [
       "Agent(Int64[], [-1], Vector{Float32}[])"
      ]
     },
     "metadata": {},
     "output_type": "display_data"
    }
   ],
   "source": [
    "ag = init_agt()"
   ]
  },
  {
   "cell_type": "code",
   "execution_count": 8,
   "metadata": {},
   "outputs": [
    {
     "data": {
      "text/plain": [
       "Node(0, 0.0f0, 0.0f0, Dict{Int64, Node}(), 0)"
      ]
     },
     "metadata": {},
     "output_type": "display_data"
    }
   ],
   "source": [
    "root0 = init_node(Float32(0.0))"
   ]
  },
  {
   "cell_type": "code",
   "execution_count": 9,
   "metadata": {},
   "outputs": [
    {
     "data": {
      "text/plain": [
       "Chain(\n",
       "  Dense(60 => 7),                       \u001b[90m# 427 parameters\u001b[39m\u001b[36m  (all zero)\u001b[39m\n",
       ") "
      ]
     },
     "metadata": {},
     "output_type": "display_data"
    }
   ],
   "source": [
    "model = Chain(Dense(zeros(Float32, en.output,en.input_dim)))\n",
    "#Chain(zeros(Float32, en.input_dim, en.output))"
   ]
  },
  {
   "cell_type": "code",
   "execution_count": 16,
   "metadata": {},
   "outputs": [
    {
     "data": {
      "text/plain": [
       "evaluate! (generic function with 1 method)"
      ]
     },
     "metadata": {},
     "output_type": "display_data"
    }
   ],
   "source": [
    "function evaluate!(env::Env, agt::Agent,node::Node, model)\n",
    "    Y = model(make_image(env, agt, length(agt.history)))\n",
    "    value = Y[end] \n",
    "    pol_log = Y[1:end-1]\n",
    "    A = legal_action(env, agt)\n",
    "    policy = softmax([pol_log[a] for a in A])\n",
    "    \n",
    "    for it in 1:length(A)\n",
    "        node.children[A[it]] = init_node(policy[it])\n",
    "    end\n",
    "    return value\n",
    "end"
   ]
  },
  {
   "cell_type": "code",
   "execution_count": 17,
   "metadata": {},
   "outputs": [
    {
     "name": "stdout",
     "output_type": "stream",
     "text": [
      "Y = model(make_image(env, agt, length(agt.history))) = Float32[0.0, 0.0, 0.0, 0.0, 0.0, 0.0, 0.0]\n",
      "value = Y[end] = 0.0f0\n",
      "pol_log = Y[1:end - 1] = Float32[0.0, 0.0, 0.0, 0.0, 0.0, 0.0]\n",
      "A = legal_action(env, agt) = [1, 2, 3, 4, 5, 6]\n",
      "policy = softmax([pol_log[a] for a = legal_action(env, agt)]) = Float32[0.16666667, 0.16666667, 0.16666667, 0.16666667, 0.16666667, 0.16666667]\n"
     ]
    },
    {
     "data": {
      "text/plain": [
       "0.0f0"
      ]
     },
     "metadata": {},
     "output_type": "display_data"
    }
   ],
   "source": [
    "\n",
    "value = evaluate!(en, ag, root0, model)"
   ]
  },
  {
   "cell_type": "code",
   "execution_count": 21,
   "metadata": {},
   "outputs": [
    {
     "data": {
      "text/plain": [
       "add_exploration_noise! (generic function with 1 method)"
      ]
     },
     "metadata": {},
     "output_type": "display_data"
    }
   ],
   "source": [
    "function add_exploration_noise!(env::Env, node::Node)\n",
    "    actions = Int.(keys(node.children))\n",
    "    noise = rand(Dirichlet(env.α * ones(Float32, length(actions))))\n",
    "    for it in 1:length(actions)\n",
    "        node.children[actions[it]].prior = node.children[actions[it]].prior * (1-env.frac) + noise[it] * env.frac\n",
    "    end\n",
    "end"
   ]
  },
  {
   "cell_type": "code",
   "execution_count": 22,
   "metadata": {},
   "outputs": [],
   "source": [
    "add_exploration_noise!(en, root0)"
   ]
  },
  {
   "cell_type": "code",
   "execution_count": 42,
   "metadata": {},
   "outputs": [
    {
     "data": {
      "text/plain": [
       "select_child (generic function with 1 method)"
      ]
     },
     "metadata": {},
     "output_type": "display_data"
    }
   ],
   "source": [
    "function ucb_score(env::Env, parent::Node, child::Node)\n",
    "    pb_c = log((parent.visit_count + env.Cb + 1) / env.Cb) + env.Ci\n",
    "    pb_c *= sqrt(parent.visit_count) / (child.visit_count + 1)\n",
    "    prior_score = pb_c * child.prior\n",
    "    value_score = child.value_sum / (child.visit_count + 1)\n",
    "    return prior_score + value_score\n",
    "end\n",
    "\n",
    "function select_child(env::Env, node::Node)\n",
    "    actions = Int.(keys(node.children))\n",
    "    children = [node.children[a] for a in actions]\n",
    "    score_v = [ucb_score(env, node, child) for child in children]\n",
    "    it = rand(findall(x -> x==maximum(score_v), score_v))\n",
    "    return actions[it], children[it]\n",
    "end"
   ]
  },
  {
   "cell_type": "code",
   "execution_count": 43,
   "metadata": {},
   "outputs": [
    {
     "name": "stdout",
     "output_type": "stream",
     "text": [
      "actions = Int.(keys(node.children)) = [5, 4, 6, 2, 3, 1]\n",
      "children = [node.children[a] for a = actions] = Node[Node(0, 0.12507942f0, 0.0f0, Dict{Int64, Node}(), 0), Node(0, 0.21653697f0, 0.0f0, Dict{Int64, Node}(), 0), Node(0, 0.2223872f0, 0.0f0, Dict{Int64, Node}(), 0), Node(0, 0.12534882f0, 0.0f0, Dict{Int64, Node}(), 0), Node(0, 0.18564755f0, 0.0f0, Dict{Int64, Node}(), 0), Node(0, 0.12500003f0, 0.0f0, Dict{Int64, Node}(), 0)]\n",
      "score_v = [ucb_score(env, node, child) for child = children] = [0.0, 0.0, 0.0, 0.0, 0.0, 0.0]\n",
      "it = rand(findall((x->begin\n",
      "                    #= /Users/johnbrother/Documents/Codes/julia/RNN-RF/test_batch.ipynb:13 =#\n",
      "                    x == maximum(score_v)\n",
      "                end), score_v)) = 1\n"
     ]
    },
    {
     "data": {
      "text/plain": [
       "(5, Node(0, 0.12507942f0, 0.0f0, Dict{Int64, Node}(), 0))"
      ]
     },
     "metadata": {},
     "output_type": "display_data"
    }
   ],
   "source": [
    "action_test, nodes_test = select_child(en, root0)"
   ]
  },
  {
   "cell_type": "code",
   "execution_count": 49,
   "metadata": {},
   "outputs": [],
   "source": [
    "using ParameterSchedulers"
   ]
  },
  {
   "cell_type": "code",
   "execution_count": 76,
   "metadata": {},
   "outputs": [
    {
     "data": {
      "text/plain": [
       "Chain(\n",
       "  Dense(60 => 128, relu),               \u001b[90m# 7_808 parameters\u001b[39m\n",
       "  BatchNorm(128),                       \u001b[90m# 256 parameters\u001b[39m\u001b[90m, plus 256\u001b[39m\n",
       "  Dense(128 => 128, relu),              \u001b[90m# 16_512 parameters\u001b[39m\n",
       "  BatchNorm(128),                       \u001b[90m# 256 parameters\u001b[39m\u001b[90m, plus 256\u001b[39m\n",
       "  Dense(128 => 7),                      \u001b[90m# 903 parameters\u001b[39m\n",
       ") \u001b[90m        # Total: 10 trainable arrays, \u001b[39m25_735 parameters,\n",
       "\u001b[90m          # plus 4 non-trainable, 512 parameters, summarysize \u001b[39m103.355 KiB."
      ]
     },
     "metadata": {},
     "output_type": "display_data"
    }
   ],
   "source": [
    "model = Chain(Dense(en.input_dim=>en.middle_dim, relu), BatchNorm(en.middle_dim), Dense(en.middle_dim=>en.middle_dim, relu), BatchNorm(en.middle_dim), Dense(en.middle_dim=>en.output))"
   ]
  },
  {
   "cell_type": "code",
   "execution_count": 77,
   "metadata": {},
   "outputs": [
    {
     "data": {
      "text/plain": [
       "Scheduler(Step{Float32, Base.Iterators.Repeated{Int64}}(0.2f0, 0.1f0, Base.Iterators.Repeated{Int64}(20)), Momentum(0.01, 0.9, IdDict{Any, Any}()))"
      ]
     },
     "metadata": {},
     "output_type": "display_data"
    }
   ],
   "source": [
    "opt = ParameterSchedulers.Scheduler(en.scheduler, Momentum())"
   ]
  },
  {
   "cell_type": "code",
   "execution_count": 78,
   "metadata": {},
   "outputs": [
    {
     "data": {
      "text/plain": [
       "7×10 Matrix{Float32}:\n",
       " 0.580108  0.861642   0.168259  0.851203  …  0.475472  0.117645  0.147819\n",
       " 0.729251  0.0405666  0.394469  0.685885     0.966118  0.178081  0.80836\n",
       " 0.761326  0.0225155  0.368836  0.534373     0.518768  0.892446  0.530313\n",
       " 0.366759  0.109585   0.554901  0.457887     0.538702  0.278796  0.46016\n",
       " 0.941067  0.110541   0.834772  0.676243     0.930275  0.847453  0.420174\n",
       " 0.446698  0.269922   0.200423  0.572285  …  0.584625  0.86627   0.538078\n",
       " 0.95214   0.907361   0.201611  0.631629     0.498009  0.496413  0.679903"
      ]
     },
     "metadata": {},
     "output_type": "display_data"
    }
   ],
   "source": [
    "input_data = rand(Int, en.input_dim, 10)\n",
    "target_data = rand(Float32, en.output, 10)"
   ]
  },
  {
   "cell_type": "code",
   "execution_count": 98,
   "metadata": {},
   "outputs": [
    {
     "data": {
      "text/plain": [
       "loss (generic function with 1 method)"
      ]
     },
     "metadata": {},
     "output_type": "display_data"
    }
   ],
   "source": [
    "function loss(x,y)\n",
    "    y1 = model(x)\n",
    "    return sum([((y1[end,i]-y[end,i])^2 - (y1[1:end-1, i])' * log.(y[1:end-1, i])) for i in 1:10])/10 + (1f-4)*sum(Flux.params(model)[1].^2)\n",
    "end"
   ]
  },
  {
   "cell_type": "code",
   "execution_count": 90,
   "metadata": {},
   "outputs": [
    {
     "ename": "MethodError",
     "evalue": "MethodError: no method matching reshape(::Zygote.Params{Zygote.Buffer{Any, Vector{Any}}}, ::Tuple{Int64, Int64})\n\nClosest candidates are:\n  reshape(!Matched::StructArrays.StructArray{T}, ::Tuple{Vararg{Int64, N}} where N) where T\n   @ StructArrays ~/.julia/packages/StructArrays/dNQpc/src/structarray.jl:476\n  reshape(!Matched::StructArrays.StructArray{T}, ::Tuple{Vararg{Union{Colon, Int64}}}) where T\n   @ StructArrays ~/.julia/packages/StructArrays/dNQpc/src/structarray.jl:476\n  reshape(!Matched::StructArrays.StructArray{T}, ::Tuple{Vararg{Union{Colon, Integer}}}) where T\n   @ StructArrays ~/.julia/packages/StructArrays/dNQpc/src/structarray.jl:476\n  ...\n",
     "output_type": "error",
     "traceback": [
      "MethodError: no method matching reshape(::Zygote.Params{Zygote.Buffer{Any, Vector{Any}}}, ::Tuple{Int64, Int64})\n",
      "\n",
      "Closest candidates are:\n",
      "  reshape(!Matched::StructArrays.StructArray{T}, ::Tuple{Vararg{Int64, N}} where N) where T\n",
      "   @ StructArrays ~/.julia/packages/StructArrays/dNQpc/src/structarray.jl:476\n",
      "  reshape(!Matched::StructArrays.StructArray{T}, ::Tuple{Vararg{Union{Colon, Int64}}}) where T\n",
      "   @ StructArrays ~/.julia/packages/StructArrays/dNQpc/src/structarray.jl:476\n",
      "  reshape(!Matched::StructArrays.StructArray{T}, ::Tuple{Vararg{Union{Colon, Integer}}}) where T\n",
      "   @ StructArrays ~/.julia/packages/StructArrays/dNQpc/src/structarray.jl:476\n",
      "  ...\n",
      "\n",
      "\n",
      "Stacktrace:\n",
      " [1] top-level scope\n",
      "   @ ~/Documents/Codes/julia/RNN-RF/test_batch.ipynb:1"
     ]
    }
   ],
   "source": [
    "params_squared = reshape(Flux.params(model), (1, length(Flux.params(model)))) .^ 2"
   ]
  },
  {
   "cell_type": "code",
   "execution_count": 97,
   "metadata": {},
   "outputs": [
    {
     "data": {
      "text/plain": [
       "127.82771f0"
      ]
     },
     "metadata": {},
     "output_type": "display_data"
    }
   ],
   "source": [
    "sum(Flux.params(model)[1].^2)"
   ]
  },
  {
   "cell_type": "code",
   "execution_count": 99,
   "metadata": {},
   "outputs": [],
   "source": [
    "Flux.train!(loss, Flux.params(model), [(input_data, target_data)], opt)"
   ]
  },
  {
   "cell_type": "code",
   "execution_count": 40,
   "metadata": {},
   "outputs": [
    {
     "data": {
      "text/plain": [
       "1"
      ]
     },
     "metadata": {},
     "output_type": "display_data"
    }
   ],
   "source": [
    "x = [1]\n",
    "rand(x)"
   ]
  },
  {
   "cell_type": "code",
   "execution_count": 41,
   "metadata": {},
   "outputs": [
    {
     "data": {
      "text/plain": [
       "20-element Vector{Int64}:\n",
       " 1\n",
       " 1\n",
       " 1\n",
       " 1\n",
       " 1\n",
       " 1\n",
       " 1\n",
       " 1\n",
       " 1\n",
       " 1\n",
       " 1\n",
       " 1\n",
       " 1\n",
       " 1\n",
       " 1\n",
       " 1\n",
       " 1\n",
       " 1\n",
       " 1\n",
       " 1"
      ]
     },
     "metadata": {},
     "output_type": "display_data"
    }
   ],
   "source": [
    "rand(x, 20)"
   ]
  },
  {
   "cell_type": "code",
   "execution_count": 4,
   "metadata": {},
   "outputs": [
    {
     "data": {
      "text/plain": [
       "8-element Vector{Tuple{Int64, Int64}}:\n",
       " (1, 4)\n",
       " (2, 2)\n",
       " (3, 3)\n",
       " (4, 7)\n",
       " (5, 6)\n",
       " (6, 7)\n",
       " (7, 6)\n",
       " (8, 2)"
      ]
     },
     "metadata": {},
     "output_type": "display_data"
    }
   ],
   "source": [
    "x = [(i, rand(1:8)) for i in 1:8]"
   ]
  },
  {
   "cell_type": "code",
   "execution_count": 5,
   "metadata": {},
   "outputs": [
    {
     "data": {
      "text/plain": [
       "8-element Vector{Int64}:\n",
       "  4\n",
       "  4\n",
       "  9\n",
       " 28\n",
       " 30\n",
       " 42\n",
       " 42\n",
       " 16"
      ]
     },
     "metadata": {},
     "output_type": "display_data"
    }
   ],
   "source": [
    "[ i*j for (i,j) in x]"
   ]
  },
  {
   "cell_type": "code",
   "execution_count": 8,
   "metadata": {},
   "outputs": [
    {
     "data": {
      "text/plain": [
       "2-element Vector{Int64}:\n",
       " 2\n",
       " 6"
      ]
     },
     "metadata": {},
     "output_type": "display_data"
    }
   ],
   "source": [
    "a = [1, 3, 5, 7, 9, 3, 5, 7]\n",
    "findall(x->x==3, a)"
   ]
  },
  {
   "cell_type": "code",
   "execution_count": 58,
   "metadata": {},
   "outputs": [],
   "source": [
    "using Flux"
   ]
  },
  {
   "cell_type": "code",
   "execution_count": 19,
   "metadata": {},
   "outputs": [
    {
     "data": {
      "text/plain": [
       "3-element Vector{Tuple{Vector{Float32}, Vector{Float32}}}:\n",
       " ([0.523947, 0.3047166], [0.21535373])\n",
       " ([0.13237017, 0.8566941], [0.06494528])\n",
       " ([0.9243327, 0.81498635], [0.3492868])"
      ]
     },
     "metadata": {},
     "output_type": "display_data"
    }
   ],
   "source": [
    "test_batch = [ (rand(Float32,2), rand(Float32,1)) for i in 1:3]"
   ]
  },
  {
   "cell_type": "code",
   "execution_count": 59,
   "metadata": {},
   "outputs": [
    {
     "data": {
      "text/plain": [
       "1×100 Matrix{Float32}:\n",
       " 0.320748  0.94637  0.392362  0.88544  …  0.296158  0.5328  0.00955468"
      ]
     },
     "metadata": {},
     "output_type": "display_data"
    }
   ],
   "source": [
    "test_imag = rand(Float32,2, 100)\n",
    "test_target = rand(Float32,1, 100)"
   ]
  },
  {
   "cell_type": "code",
   "execution_count": 60,
   "metadata": {},
   "outputs": [
    {
     "data": {
      "text/plain": [
       "Chain(\n",
       "  Dense(2 => 3, tanh),                  \u001b[90m# 9 parameters\u001b[39m\n",
       "  BatchNorm(3),                         \u001b[90m# 6 parameters\u001b[39m\u001b[90m, plus 6\u001b[39m\n",
       "  Dense(3 => 1),                        \u001b[90m# 4 parameters\u001b[39m\n",
       ") \u001b[90m        # Total: 6 trainable arrays, \u001b[39m19 parameters,\n",
       "\u001b[90m          # plus 2 non-trainable, 6 parameters, summarysize \u001b[39m588 bytes."
      ]
     },
     "metadata": {},
     "output_type": "display_data"
    }
   ],
   "source": [
    "model = Chain(Dense(2,3, tanh), BatchNorm(3), Dense(3,1))"
   ]
  },
  {
   "cell_type": "code",
   "execution_count": 61,
   "metadata": {},
   "outputs": [
    {
     "data": {
      "text/plain": [
       "Adam(0.001, (0.9, 0.999), 1.0e-8, IdDict{Any, Any}())"
      ]
     },
     "metadata": {},
     "output_type": "display_data"
    }
   ],
   "source": [
    "opt = ADAM()"
   ]
  },
  {
   "cell_type": "code",
   "execution_count": 35,
   "metadata": {},
   "outputs": [
    {
     "data": {
      "text/plain": [
       "1×100 Matrix{Float32}:\n",
       " 0.668815  1.67469  0.668815  -0.668815  …  0.668815  -0.668815  0.668815"
      ]
     },
     "metadata": {},
     "output_type": "display_data"
    }
   ],
   "source": [
    "model(rand(Int, 2,100))"
   ]
  },
  {
   "cell_type": "code",
   "execution_count": 62,
   "metadata": {},
   "outputs": [
    {
     "data": {
      "text/plain": [
       "loss (generic function with 2 methods)"
      ]
     },
     "metadata": {},
     "output_type": "display_data"
    }
   ],
   "source": [
    "loss(x, y) =  sum([(y[i] .- model(x)[i]).^2 for i=1:length(y) ])/length(y)"
   ]
  },
  {
   "cell_type": "code",
   "execution_count": 64,
   "metadata": {},
   "outputs": [],
   "source": [
    "Flux.train!(loss, Flux.params(model), [(test_imag, test_target)], opt)"
   ]
  },
  {
   "cell_type": "code",
   "execution_count": 1,
   "metadata": {},
   "outputs": [],
   "source": [
    "using SymPy"
   ]
  },
  {
   "cell_type": "code",
   "execution_count": 2,
   "metadata": {},
   "outputs": [
    {
     "data": {
      "text/latex": [
       "$x$"
      ],
      "text/plain": [
       "x"
      ]
     },
     "metadata": {},
     "output_type": "display_data"
    }
   ],
   "source": [
    "x = symbols(\"x\")"
   ]
  },
  {
   "cell_type": "code",
   "execution_count": 18,
   "metadata": {},
   "outputs": [
    {
     "data": {
      "text/latex": [
       "$\\sin{\\left(x \\right)}$"
      ],
      "text/plain": [
       "sin(x)"
      ]
     },
     "metadata": {},
     "output_type": "display_data"
    }
   ],
   "source": [
    "ex1 = sin(x)"
   ]
  },
  {
   "cell_type": "code",
   "execution_count": 20,
   "metadata": {},
   "outputs": [
    {
     "data": {
      "text/plain": [
       "2×2 Matrix{Float64}:\n",
       " 0.0  1.0\n",
       " 1.0  0.0"
      ]
     },
     "metadata": {},
     "output_type": "display_data"
    }
   ],
   "source": [
    "M1 = [1.0 0.0; 0.0 1.0]\n",
    "M2 = [0.0 1.0; 1.0 0.0]"
   ]
  },
  {
   "cell_type": "code",
   "execution_count": 21,
   "metadata": {},
   "outputs": [
    {
     "data": {
      "text/latex": [
       "$\\left[ \\begin{array}{rr}1.0&1.0 \\sin{\\left(x \\right)}\\\\1.0 \\sin{\\left(x \\right)}&1.0\\end{array}\\right]$\n"
      ],
      "text/plain": [
       "2×2 Matrix{Sym}:\n",
       " 1.00000000000000        1.0*sin(x)\n",
       "       1.0*sin(x)  1.00000000000000"
      ]
     },
     "metadata": {},
     "output_type": "display_data"
    }
   ],
   "source": [
    "ex2 = M1 + M2*ex1"
   ]
  },
  {
   "cell_type": "code",
   "execution_count": 24,
   "metadata": {},
   "outputs": [
    {
     "data": {
      "text/latex": [
       "$\\left[ \\begin{array}{rr}1.0 x&1.0 - 1.0 \\cos{\\left(x \\right)}\\\\1.0 - 1.0 \\cos{\\left(x \\right)}&1.0 x\\end{array}\\right]$\n"
      ],
      "text/plain": [
       "2×2 Matrix{Sym}:\n",
       "            1.0*x  1.0 - cos(x)\n",
       " 1.0 - cos(x)             1.0*x"
      ]
     },
     "metadata": {},
     "output_type": "display_data"
    }
   ],
   "source": [
    "ex3 = ex2.integrate((x, 0.0, x))"
   ]
  },
  {
   "cell_type": "code",
   "execution_count": 8,
   "metadata": {},
   "outputs": [
    {
     "data": {
      "text/plain": [
       "10-element Vector{Int64}:\n",
       "  1\n",
       "  2\n",
       "  3\n",
       "  4\n",
       "  5\n",
       "  6\n",
       "  7\n",
       "  8\n",
       "  9\n",
       " 10"
      ]
     },
     "metadata": {},
     "output_type": "display_data"
    }
   ],
   "source": [
    "t = collect(1:10)"
   ]
  },
  {
   "cell_type": "code",
   "execution_count": 17,
   "metadata": {},
   "outputs": [
    {
     "name": "stdout",
     "output_type": "stream",
     "text": [
      "  0.039646 seconds (37.73 k allocations: 2.323 MiB, 74.94% compilation time)\n"
     ]
    },
    {
     "data": {
      "text/plain": [
       "10-element Vector{Int64}:\n",
       "   4\n",
       "   9\n",
       "  16\n",
       "  25\n",
       "  36\n",
       "  49\n",
       "  64\n",
       "  81\n",
       " 100\n",
       " 121"
      ]
     },
     "metadata": {},
     "output_type": "display_data"
    }
   ],
   "source": [
    "@time A = [N(ex1(i)) for i in t]"
   ]
  },
  {
   "cell_type": "code",
   "execution_count": 15,
   "metadata": {},
   "outputs": [
    {
     "data": {
      "text/plain": [
       "Vector{Sym}\u001b[90m (alias for \u001b[39m\u001b[90mArray{Sym, 1}\u001b[39m\u001b[90m)\u001b[39m"
      ]
     },
     "metadata": {},
     "output_type": "display_data"
    }
   ],
   "source": [
    "typeof(A)"
   ]
  },
  {
   "cell_type": "code",
   "execution_count": 25,
   "metadata": {},
   "outputs": [
    {
     "data": {
      "text/latex": [
       "$\\sin{\\left(x \\right)}$"
      ],
      "text/plain": [
       "sin(x)"
      ]
     },
     "metadata": {},
     "output_type": "display_data"
    }
   ],
   "source": [
    "using LinearAlgebra\n",
    "using Flux\n",
    "using ParameterSchedulers\n",
    "using SymPy\n",
    "\n",
    "#=\n",
    "struct Env\n",
    "    max_turn::Int\n",
    "    num_player::Int\n",
    "    val_num::Int\n",
    "    br_num::Int\n",
    "    fn_num::Int\n",
    "    act_ind::Int\n",
    "    input_dim::Int\n",
    "    middle_dim::Int\n",
    "    output::Int\n",
    "\n",
    "    #training parameter\n",
    "    training_step::Int\n",
    "    checkpoint_interval::Int\n",
    "    batch_size::Int\n",
    "    η::Float32\n",
    "    momentum::Float32\n",
    "    scheduler\n",
    "\n",
    "    num_simulation::Int\n",
    "    α::Float32\n",
    "    frac::Float32\n",
    "\n",
    "    t_step::Int\n",
    "    HS_size::Int\n",
    "    Ω::Float32\n",
    "    ξ::Float32\n",
    "    Jz::Float32\n",
    "    Jx::Float32\n",
    "    hz::Float32\n",
    "    H_0::Hermitian{ComplexF32, Matrix{ComplexF32}}\n",
    "    V_t::Hermitian{ComplexF32, Matrix{ComplexF32}}\n",
    "    dt::Float32\n",
    "\n",
    "    Cb::Int\n",
    "    Ci::Float32\n",
    "    C::Float32 #L2 norm weight\n",
    "end=#\n",
    "\n",
    "x = symbols(\"x\")\n",
    "sx = sin(x)"
   ]
  },
  {
   "cell_type": "code",
   "execution_count": 41,
   "metadata": {},
   "outputs": [
    {
     "data": {
      "text/plain": [
       "init_Env (generic function with 1 method)"
      ]
     },
     "metadata": {},
     "output_type": "display_data"
    }
   ],
   "source": [
    "using ParameterSchedulers\n",
    "#max_turn, num_player, num_simulation, α, frac, t_step, HS_size, Ω, ξ, Jz, Jx, hz, Cb, Ci, C\n",
    "function init_Env(args::Vector{String})\n",
    "    max_turn = parse(Int, args[1])\n",
    "    num_player = parse(Int, args[2])\n",
    "    val_num::Int = 2\n",
    "    br_num::Int = 3\n",
    "    fn_num::Int = 2\n",
    "    act_ind = val_num+br_num+fn_num\n",
    "    input_dim = act_ind*max_turn\n",
    "    middle_dim = 128\n",
    "    output =  act_ind + 1\n",
    "\n",
    "    #training parameter\n",
    "    training_step = 100000\n",
    "    checkpoint_interval = 1000\n",
    "    batch_size = 1024\n",
    "    η = 1f-4\n",
    "    momentum = 0.9\n",
    "    scheduler = Step(λ = 2f-1, γ = Float32(0.1), step_sizes = 20000)\n",
    "\n",
    "\n",
    "    num_simulation = parse(Int, args[3])\n",
    "    α = parse(Float32, args[4])\n",
    "    frac = parse(Float32, args[5])\n",
    "\n",
    "    t_step = parse(Int, args[6])\n",
    "    HS_size = parse(Int, args[7])\n",
    "    Ω = parse(Float32, args[8])\n",
    "    ξ = parse(Float32, args[9])\n",
    "    Jz = parse(Float32, args[10])\n",
    "    Jx = parse(Float32, args[11])\n",
    "    hz = parse(Float32, args[12])\n",
    "    H_0 = Hermitian([ -Jz-2hz 0 0 -Jx; 0 Jz -Jx 0; 0 -Jx Jz 0; -Jx 0 0 -Jz+2hz])\n",
    "    V_t = Hermitian([ 0 -ξ -ξ 0; -ξ 0 0 -ξ; -ξ 0 0 -ξ; 0 -ξ -ξ 0])\n",
    "    dt = 2pi/t_step/Ω\n",
    "\n",
    "    Cb = parse(Int, args[13])\n",
    "    Ci = parse(Float32, args[14])\n",
    "    C = parse(Float32, args[15])\n",
    "\n",
    "    return Env(max_turn, num_player, val_num, br_num, fn_num, act_ind, input_dim, middle_dim, output, training_step, checkpoint_interval, batch_size, η, momentum, scheduler, num_simulation, α, frac, t_step, HS_size, Ω, ξ, Jz, Jx, hz, H_0, V_t, dt, Cb, Ci, C)\n",
    "end"
   ]
  },
  {
   "cell_type": "code",
   "execution_count": 42,
   "metadata": {},
   "outputs": [
    {
     "data": {
      "text/plain": [
       "Env(10, 2, 2, 3, 2, 7, 70, 128, 8, 100000, 1000, 1024, 0.0001f0, 0.9f0, Step{Float32, Base.Iterators.Repeated{Int64}}(0.2f0, 0.1f0, Base.Iterators.Repeated{Int64}(20000)), 100, 0.3f0, 0.25f0, 100, 4, 10.0f0, 0.2f0, 1.0f0, 0.7f0, 0.5f0, ComplexF32[-2.0f0 + 0.0f0im 0.0f0 + 0.0f0im 0.0f0 + 0.0f0im -0.7f0 + 0.0f0im; 0.0f0 - 0.0f0im 1.0f0 + 0.0f0im -0.7f0 + 0.0f0im 0.0f0 + 0.0f0im; 0.0f0 - 0.0f0im -0.7f0 - 0.0f0im 1.0f0 + 0.0f0im 0.0f0 + 0.0f0im; -0.7f0 - 0.0f0im 0.0f0 - 0.0f0im 0.0f0 - 0.0f0im 0.0f0 + 0.0f0im], ComplexF32[0.0f0 + 0.0f0im -0.2f0 + 0.0f0im -0.2f0 + 0.0f0im 0.0f0 + 0.0f0im; -0.2f0 - 0.0f0im 0.0f0 + 0.0f0im 0.0f0 + 0.0f0im -0.2f0 + 0.0f0im; -0.2f0 - 0.0f0im 0.0f0 - 0.0f0im 0.0f0 + 0.0f0im -0.2f0 + 0.0f0im; 0.0f0 - 0.0f0im -0.2f0 - 0.0f0im -0.2f0 - 0.0f0im 0.0f0 + 0.0f0im], 0.0062831854f0, 100, 0.1f0, 0.1f0)"
      ]
     },
     "metadata": {},
     "output_type": "display_data"
    }
   ],
   "source": [
    "en = init_Env([\"10\", \"2\", \"100\", \"0.3\", \"0.25\", \"100\", \"4\", \"10.0\", \"0.2\", \"1.0\", \"0.7\", \"0.5\", \"100\", \"0.1\", \"0.1\"])"
   ]
  },
  {
   "cell_type": "code",
   "execution_count": 105,
   "metadata": {},
   "outputs": [
    {
     "data": {
      "text/plain": [
       "calc_Kt (generic function with 1 method)"
      ]
     },
     "metadata": {},
     "output_type": "display_data"
    }
   ],
   "source": [
    "function calc_Kt(history::Vector{Int}, env::Env)\n",
    "    MV = []\n",
    "    his = copy(history)\n",
    "    #println(length(his))\n",
    "    for it in 1:length(his)\n",
    "        sw = pop!(his)\n",
    "        if(sw==1)\n",
    "            push!(MV, env.H_0)\n",
    "        elseif(sw==2)\n",
    "            push!(MV, env.V_t*sin(x))\n",
    "        elseif(sw==3)\n",
    "            A = pop!(MV)\n",
    "            B = pop!(MV)\n",
    "            C = A + B\n",
    "            push!(MV, C)\n",
    "        elseif(sw==4)\n",
    "            A = pop!(MV)\n",
    "            B = pop!(MV)\n",
    "            C = -1.0im*(A*B - B*A)\n",
    "            push!(MV, C)\n",
    "        elseif(sw==5)\n",
    "            A = pop!(MV)\n",
    "            B = pop!(MV)\n",
    "            C = (A*B + B*A)/2\n",
    "            push!(MV, C)\n",
    "        elseif(sw==6)\n",
    "            A = pop!(MV)\n",
    "            B = A.integrate((x, 0, x))\n",
    "            push!(MV, B)\n",
    "        end\n",
    "        #@show MV\n",
    "    end\n",
    "    t = collect(0:env.dt:2pi)\n",
    "\n",
    "    Ks = MV[end]\n",
    "    #println(Ks)\n",
    "    Kt::Vector{Hermitian{ComplexF32, Matrix{ComplexF32}}} = [Hermitian(N(Ks.subs(x,t[i]))) for i in 1:env.t_step]\n",
    "    #Kt = [Hermitian(N(Ks.subs(x,t[i]))) for i in 1:env.t_step]\n",
    "    return Kt\n",
    "end"
   ]
  },
  {
   "cell_type": "code",
   "execution_count": 106,
   "metadata": {},
   "outputs": [
    {
     "data": {
      "text/plain": [
       "100-element Vector{Hermitian{ComplexF32, Matrix{ComplexF32}}}:\n",
       " [-2.0f0 + 0.0f0im 0.0f0 + 0.0f0im 0.0f0 + 0.0f0im -0.7f0 + 0.0f0im; 0.0f0 - 0.0f0im 1.0f0 + 0.0f0im -0.7f0 + 0.0f0im 0.0f0 + 0.0f0im; 0.0f0 - 0.0f0im -0.7f0 - 0.0f0im 1.0f0 + 0.0f0im 0.0f0 + 0.0f0im; -0.7f0 - 0.0f0im 0.0f0 - 0.0f0im 0.0f0 - 0.0f0im 0.0f0 + 0.0f0im]\n",
       " [-2.0f0 + 0.0f0im -3.947829f-6 + 0.0f0im -3.947829f-6 + 0.0f0im -0.7f0 + 0.0f0im; -3.947829f-6 - 0.0f0im 1.0f0 + 0.0f0im -0.7f0 + 0.0f0im -3.947829f-6 + 0.0f0im; -3.947829f-6 - 0.0f0im -0.7f0 - 0.0f0im 1.0f0 + 0.0f0im -3.947829f-6 + 0.0f0im; -0.7f0 - 0.0f0im -3.947829f-6 - 0.0f0im -3.947829f-6 - 0.0f0im 0.0f0 + 0.0f0im]\n",
       " [-2.0f0 + 0.0f0im -1.579116f-5 + 0.0f0im -1.579116f-5 + 0.0f0im -0.7f0 + 0.0f0im; -1.579116f-5 - 0.0f0im 1.0f0 + 0.0f0im -0.7f0 + 0.0f0im -1.579116f-5 + 0.0f0im; -1.579116f-5 - 0.0f0im -0.7f0 - 0.0f0im 1.0f0 + 0.0f0im -1.579116f-5 + 0.0f0im; -0.7f0 - 0.0f0im -1.579116f-5 - 0.0f0im -1.579116f-5 - 0.0f0im 0.0f0 + 0.0f0im]\n",
       " [-2.0f0 + 0.0f0im -3.5529527f-5 + 0.0f0im -3.5529527f-5 + 0.0f0im -0.7f0 + 0.0f0im; -3.5529527f-5 - 0.0f0im 1.0f0 + 0.0f0im -0.7f0 + 0.0f0im -3.5529527f-5 + 0.0f0im; -3.5529527f-5 - 0.0f0im -0.7f0 - 0.0f0im 1.0f0 + 0.0f0im -3.5529527f-5 + 0.0f0im; -0.7f0 - 0.0f0im -3.5529527f-5 - 0.0f0im -3.5529527f-5 - 0.0f0im 0.0f0 + 0.0f0im]\n",
       " [-2.0f0 + 0.0f0im -6.3162144f-5 + 0.0f0im -6.3162144f-5 + 0.0f0im -0.7f0 + 0.0f0im; -6.3162144f-5 - 0.0f0im 1.0f0 + 0.0f0im -0.7f0 + 0.0f0im -6.3162144f-5 + 0.0f0im; -6.3162144f-5 - 0.0f0im -0.7f0 - 0.0f0im 1.0f0 + 0.0f0im -6.3162144f-5 + 0.0f0im; -0.7f0 - 0.0f0im -6.3162144f-5 - 0.0f0im -6.3162144f-5 - 0.0f0im 0.0f0 + 0.0f0im]\n",
       " [-2.0f0 + 0.0f0im -9.868793f-5 + 0.0f0im -9.868793f-5 + 0.0f0im -0.7f0 + 0.0f0im; -9.868793f-5 - 0.0f0im 1.0f0 + 0.0f0im -0.7f0 + 0.0f0im -9.868793f-5 + 0.0f0im; -9.868793f-5 - 0.0f0im -0.7f0 - 0.0f0im 1.0f0 + 0.0f0im -9.868793f-5 + 0.0f0im; -0.7f0 - 0.0f0im -9.868793f-5 - 0.0f0im -9.868793f-5 - 0.0f0im 0.0f0 + 0.0f0im]\n",
       " [-2.0f0 + 0.0f0im -0.00014210548f0 + 0.0f0im -0.00014210548f0 + 0.0f0im -0.7f0 + 0.0f0im; -0.00014210548f0 - 0.0f0im 1.0f0 + 0.0f0im -0.7f0 + 0.0f0im -0.00014210548f0 + 0.0f0im; -0.00014210548f0 - 0.0f0im -0.7f0 - 0.0f0im 1.0f0 + 0.0f0im -0.00014210548f0 + 0.0f0im; -0.7f0 - 0.0f0im -0.00014210548f0 - 0.0f0im -0.00014210548f0 - 0.0f0im 0.0f0 + 0.0f0im]\n",
       " [-2.0f0 + 0.0f0im -0.00019341307f0 + 0.0f0im -0.00019341307f0 + 0.0f0im -0.7f0 + 0.0f0im; -0.00019341307f0 - 0.0f0im 1.0f0 + 0.0f0im -0.7f0 + 0.0f0im -0.00019341307f0 + 0.0f0im; -0.00019341307f0 - 0.0f0im -0.7f0 - 0.0f0im 1.0f0 + 0.0f0im -0.00019341307f0 + 0.0f0im; -0.7f0 - 0.0f0im -0.00019341307f0 - 0.0f0im -0.00019341307f0 - 0.0f0im 0.0f0 + 0.0f0im]\n",
       " [-2.0f0 + 0.0f0im -0.0002526087f0 + 0.0f0im -0.0002526087f0 + 0.0f0im -0.7f0 + 0.0f0im; -0.0002526087f0 - 0.0f0im 1.0f0 + 0.0f0im -0.7f0 + 0.0f0im -0.0002526087f0 + 0.0f0im; -0.0002526087f0 - 0.0f0im -0.7f0 - 0.0f0im 1.0f0 + 0.0f0im -0.0002526087f0 + 0.0f0im; -0.7f0 - 0.0f0im -0.0002526087f0 - 0.0f0im -0.0002526087f0 - 0.0f0im 0.0f0 + 0.0f0im]\n",
       " [-2.0f0 + 0.0f0im -0.00031969f0 + 0.0f0im -0.00031969f0 + 0.0f0im -0.7f0 + 0.0f0im; -0.00031969f0 - 0.0f0im 1.0f0 + 0.0f0im -0.7f0 + 0.0f0im -0.00031969f0 + 0.0f0im; -0.00031969f0 - 0.0f0im -0.7f0 - 0.0f0im 1.0f0 + 0.0f0im -0.00031969f0 + 0.0f0im; -0.7f0 - 0.0f0im -0.00031969f0 - 0.0f0im -0.00031969f0 - 0.0f0im 0.0f0 + 0.0f0im]\n",
       " ⋮\n",
       " [-2.0f0 + 0.0f0im -0.031811085f0 + 0.0f0im -0.031811085f0 + 0.0f0im -0.7f0 + 0.0f0im; -0.031811085f0 - 0.0f0im 1.0f0 + 0.0f0im -0.7f0 + 0.0f0im -0.031811085f0 + 0.0f0im; -0.031811085f0 - 0.0f0im -0.7f0 - 0.0f0im 1.0f0 + 0.0f0im -0.031811085f0 + 0.0f0im; -0.7f0 - 0.0f0im -0.031811085f0 - 0.0f0im -0.031811085f0 - 0.0f0im 0.0f0 + 0.0f0im]\n",
       " [-2.0f0 + 0.0f0im -0.032494392f0 + 0.0f0im -0.032494392f0 + 0.0f0im -0.7f0 + 0.0f0im; -0.032494392f0 - 0.0f0im 1.0f0 + 0.0f0im -0.7f0 + 0.0f0im -0.032494392f0 + 0.0f0im; -0.032494392f0 - 0.0f0im -0.7f0 - 0.0f0im 1.0f0 + 0.0f0im -0.032494392f0 + 0.0f0im; -0.7f0 - 0.0f0im -0.032494392f0 - 0.0f0im -0.032494392f0 - 0.0f0im 0.0f0 + 0.0f0im]\n",
       " [-2.0f0 + 0.0f0im -0.033184316f0 + 0.0f0im -0.033184316f0 + 0.0f0im -0.7f0 + 0.0f0im; -0.033184316f0 - 0.0f0im 1.0f0 + 0.0f0im -0.7f0 + 0.0f0im -0.033184316f0 + 0.0f0im; -0.033184316f0 - 0.0f0im -0.7f0 - 0.0f0im 1.0f0 + 0.0f0im -0.033184316f0 + 0.0f0im; -0.7f0 - 0.0f0im -0.033184316f0 - 0.0f0im -0.033184316f0 - 0.0f0im 0.0f0 + 0.0f0im]\n",
       " [-2.0f0 + 0.0f0im -0.033880822f0 + 0.0f0im -0.033880822f0 + 0.0f0im -0.7f0 + 0.0f0im; -0.033880822f0 - 0.0f0im 1.0f0 + 0.0f0im -0.7f0 + 0.0f0im -0.033880822f0 + 0.0f0im; -0.033880822f0 - 0.0f0im -0.7f0 - 0.0f0im 1.0f0 + 0.0f0im -0.033880822f0 + 0.0f0im; -0.7f0 - 0.0f0im -0.033880822f0 - 0.0f0im -0.033880822f0 - 0.0f0im 0.0f0 + 0.0f0im]\n",
       " [-2.0f0 + 0.0f0im -0.03458389f0 + 0.0f0im -0.03458389f0 + 0.0f0im -0.7f0 + 0.0f0im; -0.03458389f0 - 0.0f0im 1.0f0 + 0.0f0im -0.7f0 + 0.0f0im -0.03458389f0 + 0.0f0im; -0.03458389f0 - 0.0f0im -0.7f0 - 0.0f0im 1.0f0 + 0.0f0im -0.03458389f0 + 0.0f0im; -0.7f0 - 0.0f0im -0.03458389f0 - 0.0f0im -0.03458389f0 - 0.0f0im 0.0f0 + 0.0f0im]\n",
       " [-2.0f0 + 0.0f0im -0.035293482f0 + 0.0f0im -0.035293482f0 + 0.0f0im -0.7f0 + 0.0f0im; -0.035293482f0 - 0.0f0im 1.0f0 + 0.0f0im -0.7f0 + 0.0f0im -0.035293482f0 + 0.0f0im; -0.035293482f0 - 0.0f0im -0.7f0 - 0.0f0im 1.0f0 + 0.0f0im -0.035293482f0 + 0.0f0im; -0.7f0 - 0.0f0im -0.035293482f0 - 0.0f0im -0.035293482f0 - 0.0f0im 0.0f0 + 0.0f0im]\n",
       " [-2.0f0 + 0.0f0im -0.03600958f0 + 0.0f0im -0.03600958f0 + 0.0f0im -0.7f0 + 0.0f0im; -0.03600958f0 - 0.0f0im 1.0f0 + 0.0f0im -0.7f0 + 0.0f0im -0.03600958f0 + 0.0f0im; -0.03600958f0 - 0.0f0im -0.7f0 - 0.0f0im 1.0f0 + 0.0f0im -0.03600958f0 + 0.0f0im; -0.7f0 - 0.0f0im -0.03600958f0 - 0.0f0im -0.03600958f0 - 0.0f0im 0.0f0 + 0.0f0im]\n",
       " [-2.0f0 + 0.0f0im -0.036732152f0 + 0.0f0im -0.036732152f0 + 0.0f0im -0.7f0 + 0.0f0im; -0.036732152f0 - 0.0f0im 1.0f0 + 0.0f0im -0.7f0 + 0.0f0im -0.036732152f0 + 0.0f0im; -0.036732152f0 - 0.0f0im -0.7f0 - 0.0f0im 1.0f0 + 0.0f0im -0.036732152f0 + 0.0f0im; -0.7f0 - 0.0f0im -0.036732152f0 - 0.0f0im -0.036732152f0 - 0.0f0im 0.0f0 + 0.0f0im]\n",
       " [-2.0f0 + 0.0f0im -0.03746117f0 + 0.0f0im -0.03746117f0 + 0.0f0im -0.7f0 + 0.0f0im; -0.03746117f0 - 0.0f0im 1.0f0 + 0.0f0im -0.7f0 + 0.0f0im -0.03746117f0 + 0.0f0im; -0.03746117f0 - 0.0f0im -0.7f0 - 0.0f0im 1.0f0 + 0.0f0im -0.03746117f0 + 0.0f0im; -0.7f0 - 0.0f0im -0.03746117f0 - 0.0f0im -0.03746117f0 - 0.0f0im 0.0f0 + 0.0f0im]"
      ]
     },
     "metadata": {},
     "output_type": "display_data"
    }
   ],
   "source": [
    "Kt = calc_Kt([3, 6, 2, 1], en)"
   ]
  },
  {
   "cell_type": "code",
   "execution_count": 66,
   "metadata": {},
   "outputs": [
    {
     "data": {
      "text/plain": [
       "Any[]"
      ]
     },
     "metadata": {},
     "output_type": "display_data"
    }
   ],
   "source": [
    "test_his = [3, 6, 2, 1]\n",
    "MV0 = []"
   ]
  },
  {
   "cell_type": "code",
   "execution_count": 67,
   "metadata": {},
   "outputs": [
    {
     "data": {
      "text/plain": [
       "4×4 Hermitian{ComplexF32, Matrix{ComplexF32}}:\n",
       " -2.0+0.0im   0.0+0.0im   0.0+0.0im  -0.7+0.0im\n",
       "  0.0-0.0im   1.0+0.0im  -0.7+0.0im   0.0+0.0im\n",
       "  0.0-0.0im  -0.7-0.0im   1.0+0.0im   0.0+0.0im\n",
       " -0.7-0.0im   0.0-0.0im   0.0-0.0im   0.0+0.0im"
      ]
     },
     "metadata": {},
     "output_type": "display_data"
    }
   ],
   "source": [
    "#A = pop!(test_his)\n",
    "push!(MV0, en.H_0)\n",
    "MV0[1]"
   ]
  },
  {
   "cell_type": "code",
   "execution_count": 71,
   "metadata": {},
   "outputs": [
    {
     "data": {
      "text/plain": [
       "Matrix{Sym}\u001b[90m (alias for \u001b[39m\u001b[90mArray{Sym, 2}\u001b[39m\u001b[90m)\u001b[39m"
      ]
     },
     "metadata": {},
     "output_type": "display_data"
    }
   ],
   "source": [
    "typeof(en.H_0+en.V_t*sx)"
   ]
  },
  {
   "cell_type": "code",
   "execution_count": 68,
   "metadata": {},
   "outputs": [
    {
     "name": "stdout",
     "output_type": "stream",
     "text": [
      "MV0 = Any[ComplexF32[-2.0f0 + 0.0f0im 0.0f0 + 0.0f0im 0.0f0 + 0.0f0im -0.7f0 + 0.0f0im; 0.0f0 - 0.0f0im 1.0f0 + 0.0f0im -0.7f0 + 0.0f0im 0.0f0 + 0.0f0im; 0.0f0 - 0.0f0im -0.7f0 - 0.0f0im 1.0f0 + 0.0f0im 0.0f0 + 0.0f0im; -0.7f0 - 0.0f0im 0.0f0 - 0.0f0im 0.0f0 - 0.0f0im 0.0f0 + 0.0f0im], Sym[0 -0.200000002980232*sin(x) -0.200000002980232*sin(x) 0; -0.200000002980232*sin(x) 0 0 -0.200000002980232*sin(x); -0.200000002980232*sin(x) 0 0 -0.200000002980232*sin(x); 0 -0.200000002980232*sin(x) -0.200000002980232*sin(x) 0]]\n"
     ]
    },
    {
     "data": {
      "text/plain": [
       "2-element Vector{Any}:\n",
       " ComplexF32[-2.0f0 + 0.0f0im 0.0f0 + 0.0f0im 0.0f0 + 0.0f0im -0.7f0 + 0.0f0im; 0.0f0 - 0.0f0im 1.0f0 + 0.0f0im -0.7f0 + 0.0f0im 0.0f0 + 0.0f0im; 0.0f0 - 0.0f0im -0.7f0 - 0.0f0im 1.0f0 + 0.0f0im 0.0f0 + 0.0f0im; -0.7f0 - 0.0f0im 0.0f0 - 0.0f0im 0.0f0 - 0.0f0im 0.0f0 + 0.0f0im]\n",
       " Sym[0 -0.200000002980232*sin(x) -0.200000002980232*sin(x) 0; -0.200000002980232*sin(x) 0 0 -0.200000002980232*sin(x); -0.200000002980232*sin(x) 0 0 -0.200000002980232*sin(x); 0 -0.200000002980232*sin(x) -0.200000002980232*sin(x) 0]"
      ]
     },
     "metadata": {},
     "output_type": "display_data"
    }
   ],
   "source": [
    "push!(MV0, en.V_t*sx)\n",
    "@show MV0"
   ]
  },
  {
   "cell_type": "code",
   "execution_count": 64,
   "metadata": {},
   "outputs": [],
   "source": [
    "using SymPy"
   ]
  },
  {
   "cell_type": "code",
   "execution_count": 69,
   "metadata": {},
   "outputs": [
    {
     "ename": "PyCall.PyError",
     "evalue": "PyError ($(Expr(:escape, :(ccall(#= /Users/johnbrother/.julia/packages/PyCall/twYvK/src/pyfncall.jl:43 =# @pysym(:PyObject_Call), PyPtr, (PyPtr, PyPtr, PyPtr), o, pyargsptr, kw))))) <class 'ValueError'>\nValueError('Invalid limits given: ((array([1], dtype=int64), 0, array([1], dtype=int64)),)')\n  File \"/Users/johnbrother/.julia/conda/3/lib/python3.9/site-packages/sympy/matrices/matrices.py\", line 501, in integrate\n    return self.applyfunc(lambda x: x.integrate(*args, **kwargs))\n  File \"/Users/johnbrother/.julia/conda/3/lib/python3.9/site-packages/sympy/matrices/common.py\", line 1989, in applyfunc\n    return self._eval_applyfunc(f)\n  File \"/Users/johnbrother/.julia/conda/3/lib/python3.9/site-packages/sympy/matrices/common.py\", line 1931, in _eval_applyfunc\n    out = self._new(self.rows, self.cols, [f(x) for x in self])\n  File \"/Users/johnbrother/.julia/conda/3/lib/python3.9/site-packages/sympy/matrices/common.py\", line 1931, in <listcomp>\n    out = self._new(self.rows, self.cols, [f(x) for x in self])\n  File \"/Users/johnbrother/.julia/conda/3/lib/python3.9/site-packages/sympy/matrices/matrices.py\", line 501, in <lambda>\n    return self.applyfunc(lambda x: x.integrate(*args, **kwargs))\n  File \"/Users/johnbrother/.julia/conda/3/lib/python3.9/site-packages/sympy/core/expr.py\", line 3726, in integrate\n    return integrate(self, *args, **kwargs)\n  File \"/Users/johnbrother/.julia/conda/3/lib/python3.9/site-packages/sympy/integrals/integrals.py\", line 1564, in integrate\n    integral = Integral(*args, **kwargs)\n  File \"/Users/johnbrother/.julia/conda/3/lib/python3.9/site-packages/sympy/integrals/integrals.py\", line 96, in __new__\n    obj = AddWithLimits.__new__(cls, function, *symbols, **assumptions)\n  File \"/Users/johnbrother/.julia/conda/3/lib/python3.9/site-packages/sympy/concrete/expr_with_limits.py\", line 547, in __new__\n    pre = _common_new(cls, function, *symbols,\n  File \"/Users/johnbrother/.julia/conda/3/lib/python3.9/site-packages/sympy/concrete/expr_with_limits.py\", line 57, in _common_new\n    limits, orientation = _process_limits(*symbols, discrete=discrete)\n  File \"/Users/johnbrother/.julia/conda/3/lib/python3.9/site-packages/sympy/concrete/expr_with_limits.py\", line 194, in _process_limits\n    raise ValueError('Invalid limits given: %s' % str(symbols))\n",
     "output_type": "error",
     "traceback": [
      "PyError ($(Expr(:escape, :(ccall(#= /Users/johnbrother/.julia/packages/PyCall/twYvK/src/pyfncall.jl:43 =# @pysym(:PyObject_Call), PyPtr, (PyPtr, PyPtr, PyPtr), o, pyargsptr, kw))))) <class 'ValueError'>\n",
      "ValueError('Invalid limits given: ((array([1], dtype=int64), 0, array([1], dtype=int64)),)')\n",
      "  File \"/Users/johnbrother/.julia/conda/3/lib/python3.9/site-packages/sympy/matrices/matrices.py\", line 501, in integrate\n",
      "    return self.applyfunc(lambda x: x.integrate(*args, **kwargs))\n",
      "  File \"/Users/johnbrother/.julia/conda/3/lib/python3.9/site-packages/sympy/matrices/common.py\", line 1989, in applyfunc\n",
      "    return self._eval_applyfunc(f)\n",
      "  File \"/Users/johnbrother/.julia/conda/3/lib/python3.9/site-packages/sympy/matrices/common.py\", line 1931, in _eval_applyfunc\n",
      "    out = self._new(self.rows, self.cols, [f(x) for x in self])\n",
      "  File \"/Users/johnbrother/.julia/conda/3/lib/python3.9/site-packages/sympy/matrices/common.py\", line 1931, in <listcomp>\n",
      "    out = self._new(self.rows, self.cols, [f(x) for x in self])\n",
      "  File \"/Users/johnbrother/.julia/conda/3/lib/python3.9/site-packages/sympy/matrices/matrices.py\", line 501, in <lambda>\n",
      "    return self.applyfunc(lambda x: x.integrate(*args, **kwargs))\n",
      "  File \"/Users/johnbrother/.julia/conda/3/lib/python3.9/site-packages/sympy/core/expr.py\", line 3726, in integrate\n",
      "    return integrate(self, *args, **kwargs)\n",
      "  File \"/Users/johnbrother/.julia/conda/3/lib/python3.9/site-packages/sympy/integrals/integrals.py\", line 1564, in integrate\n",
      "    integral = Integral(*args, **kwargs)\n",
      "  File \"/Users/johnbrother/.julia/conda/3/lib/python3.9/site-packages/sympy/integrals/integrals.py\", line 96, in __new__\n",
      "    obj = AddWithLimits.__new__(cls, function, *symbols, **assumptions)\n",
      "  File \"/Users/johnbrother/.julia/conda/3/lib/python3.9/site-packages/sympy/concrete/expr_with_limits.py\", line 547, in __new__\n",
      "    pre = _common_new(cls, function, *symbols,\n",
      "  File \"/Users/johnbrother/.julia/conda/3/lib/python3.9/site-packages/sympy/concrete/expr_with_limits.py\", line 57, in _common_new\n",
      "    limits, orientation = _process_limits(*symbols, discrete=discrete)\n",
      "  File \"/Users/johnbrother/.julia/conda/3/lib/python3.9/site-packages/sympy/concrete/expr_with_limits.py\", line 194, in _process_limits\n",
      "    raise ValueError('Invalid limits given: %s' % str(symbols))\n",
      "\n",
      "\n",
      "Stacktrace:\n",
      "  [1] pyerr_check\n",
      "    @ ~/.julia/packages/PyCall/twYvK/src/exception.jl:75 [inlined]\n",
      "  [2] pyerr_check\n",
      "    @ ~/.julia/packages/PyCall/twYvK/src/exception.jl:79 [inlined]\n",
      "  [3] _handle_error(msg::String)\n",
      "    @ PyCall ~/.julia/packages/PyCall/twYvK/src/exception.jl:96\n",
      "  [4] macro expansion\n",
      "    @ ~/.julia/packages/PyCall/twYvK/src/exception.jl:110 [inlined]\n",
      "  [5] #107\n",
      "    @ ~/.julia/packages/PyCall/twYvK/src/pyfncall.jl:43 [inlined]\n",
      "  [6] disable_sigint\n",
      "    @ ./c.jl:473 [inlined]\n",
      "  [7] __pycall!\n",
      "    @ ~/.julia/packages/PyCall/twYvK/src/pyfncall.jl:42 [inlined]\n",
      "  [8] _pycall!(ret::PyCall.PyObject, o::PyCall.PyObject, args::Tuple{Tuple{Vector{Int64}, Int64, Vector{Int64}}}, nargs::Int64, kw::Ptr{Nothing})\n",
      "    @ PyCall ~/.julia/packages/PyCall/twYvK/src/pyfncall.jl:29\n",
      "  [9] _pycall!\n",
      "    @ ~/.julia/packages/PyCall/twYvK/src/pyfncall.jl:11 [inlined]\n",
      " [10] #_#114\n",
      "    @ ~/.julia/packages/PyCall/twYvK/src/pyfncall.jl:86 [inlined]\n",
      " [11] (::PyCall.PyObject)(args::Tuple{Vector{Int64}, Int64, Vector{Int64}})\n",
      "    @ PyCall ~/.julia/packages/PyCall/twYvK/src/pyfncall.jl:86\n",
      " [12] top-level scope\n",
      "    @ ~/Documents/Codes/julia/RNN-RF/test_batch.ipynb:2"
     ]
    }
   ],
   "source": [
    "A = pop!(MV0)\n",
    "B = A.integrate((x, 0, x))\n",
    "push!(MV0, B)\n",
    "@show MV0"
   ]
  },
  {
   "cell_type": "code",
   "execution_count": 78,
   "metadata": {},
   "outputs": [
    {
     "name": "stdout",
     "output_type": "stream",
     "text": [
      "MV0 = Any[Sym[-2.00000000000000 0.200000002980232*cos(x) - 0.200000002980232 0.200000002980232*cos(x) - 0.200000002980232 -0.699999988079071; 0.200000002980232*cos(x) - 0.200000002980232 1.00000000000000 -0.699999988079071 0.200000002980232*cos(x) - 0.200000002980232; 0.200000002980232*cos(x) - 0.200000002980232 -0.699999988079071 1.00000000000000 0.200000002980232*cos(x) - 0.200000002980232; -0.699999988079071 0.200000002980232*cos(x) - 0.200000002980232 0.200000002980232*cos(x) - 0.200000002980232 0]]\n"
     ]
    },
    {
     "data": {
      "text/plain": [
       "1-element Vector{Any}:\n",
       " Sym[-2.00000000000000 0.200000002980232*cos(x) - 0.200000002980232 0.200000002980232*cos(x) - 0.200000002980232 -0.699999988079071; 0.200000002980232*cos(x) - 0.200000002980232 1.00000000000000 -0.699999988079071 0.200000002980232*cos(x) - 0.200000002980232; 0.200000002980232*cos(x) - 0.200000002980232 -0.699999988079071 1.00000000000000 0.200000002980232*cos(x) - 0.200000002980232; -0.699999988079071 0.200000002980232*cos(x) - 0.200000002980232 0.200000002980232*cos(x) - 0.200000002980232 0]"
      ]
     },
     "metadata": {},
     "output_type": "display_data"
    }
   ],
   "source": [
    "A = pop!(MV0)\n",
    "B = pop!(MV0)\n",
    "C = A+B\n",
    "push!(MV0, C)\n",
    "@show MV0"
   ]
  },
  {
   "cell_type": "code",
   "execution_count": 59,
   "metadata": {},
   "outputs": [
    {
     "ename": "UndefVarError",
     "evalue": "UndefVarError: `MV0` not defined",
     "output_type": "error",
     "traceback": [
      "UndefVarError: `MV0` not defined\n",
      "\n",
      "Stacktrace:\n",
      " [1] top-level scope\n",
      "   @ ~/Documents/Codes/julia/RNN-RF/test_batch.ipynb:1"
     ]
    }
   ],
   "source": [
    "M = MV0[end]"
   ]
  },
  {
   "cell_type": "code",
   "execution_count": 80,
   "metadata": {},
   "outputs": [
    {
     "data": {
      "text/plain": [
       "1000-element Vector{Float64}:\n",
       " 0.0\n",
       " 0.0062831854447722435\n",
       " 0.012566370889544487\n",
       " 0.01884955633431673\n",
       " 0.025132741779088974\n",
       " 0.03141592722386122\n",
       " 0.03769911266863346\n",
       " 0.043982298113405704\n",
       " 0.05026548355817795\n",
       " 0.05654866900295019\n",
       " ⋮\n",
       " 6.226636775769293\n",
       " 6.2329199612140656\n",
       " 6.239203146658838\n",
       " 6.24548633210361\n",
       " 6.251769517548382\n",
       " 6.2580527029931545\n",
       " 6.264335888437927\n",
       " 6.270619073882699\n",
       " 6.276902259327471"
      ]
     },
     "metadata": {},
     "output_type": "display_data"
    }
   ],
   "source": [
    "t = collect(0:en.dt:2pi)"
   ]
  },
  {
   "cell_type": "code",
   "execution_count": 89,
   "metadata": {},
   "outputs": [
    {
     "data": {
      "text/plain": [
       "100-element Vector{Hermitian{Real, Matrix{Real}}}:\n",
       " [-2.0 0 0 -0.699999988079071; 0 1.0 -0.699999988079071 0; 0 -0.699999988079071 1.0 0; -0.699999988079071 0 0 0]\n",
       " [-2.0 -3.947829004313785e-6 -3.947829004313785e-6 -0.699999988079071; -3.947829004313785e-6 1.0 -0.699999988079071 -3.947829004313785e-6; -3.947829004313785e-6 -0.699999988079071 1.0 -3.947829004313785e-6; -0.699999988079071 -3.947829004313785e-6 -3.947829004313785e-6 0]\n",
       " [-2.0 -1.57911601636751e-5 -1.57911601636751e-5 -0.699999988079071; -1.57911601636751e-5 1.0 -0.699999988079071 -1.57911601636751e-5; -1.57911601636751e-5 -0.699999988079071 1.0 -1.57911601636751e-5; -0.699999988079071 -1.57911601636751e-5 -1.57911601636751e-5 0]\n",
       " [-2.0 -3.552952592367209e-5 -3.552952592367209e-5 -0.699999988079071; -3.552952592367209e-5 1.0 -0.699999988079071 -3.552952592367209e-5; -3.552952592367209e-5 -0.699999988079071 1.0 -3.552952592367209e-5; -0.699999988079071 -3.552952592367209e-5 -3.552952592367209e-5 0]\n",
       " [-2.0 -6.316214704737977e-5 -6.316214704737977e-5 -0.699999988079071; -6.316214704737977e-5 1.0 -0.699999988079071 -6.316214704737977e-5; -6.316214704737977e-5 -0.699999988079071 1.0 -6.316214704737977e-5; -0.699999988079071 -6.316214704737977e-5 -6.316214704737977e-5 0]\n",
       " [-2.0 -9.868793264614095e-5 -9.868793264614095e-5 -0.699999988079071; -9.868793264614095e-5 1.0 -0.699999988079071 -9.868793264614095e-5; -9.868793264614095e-5 -0.699999988079071 1.0 -9.868793264614095e-5; -0.699999988079071 -9.868793264614095e-5 -9.868793264614095e-5 0]\n",
       " [-2.0 -0.00014210548022275393 -0.00014210548022275393 -0.699999988079071; -0.00014210548022275393 1.0 -0.699999988079071 -0.00014210548022275393; -0.00014210548022275393 -0.699999988079071 1.0 -0.00014210548022275393; -0.699999988079071 -0.00014210548022275393 -0.00014210548022275393 0]\n",
       " [-2.0 -0.00019341307572670607 -0.00019341307572670607 -0.699999988079071; -0.00019341307572670607 1.0 -0.699999988079071 -0.00019341307572670607; -0.00019341307572670607 -0.699999988079071 1.0 -0.00019341307572670607; -0.699999988079071 -0.00019341307572670607 -0.00019341307572670607 0]\n",
       " [-2.0 -0.00025260869362186966 -0.00025260869362186966 -0.699999988079071; -0.00025260869362186966 1.0 -0.699999988079071 -0.00025260869362186966; -0.00025260869362186966 -0.699999988079071 1.0 -0.00025260869362186966; -0.699999988079071 -0.00025260869362186966 -0.00025260869362186966 0]\n",
       " [-2.0 -0.00031968999696649347 -0.00031968999696649347 -0.699999988079071; -0.00031968999696649347 1.0 -0.699999988079071 -0.00031968999696649347; -0.00031968999696649347 -0.699999988079071 1.0 -0.00031968999696649347; -0.699999988079071 -0.00031968999696649347 -0.00031968999696649347 0]\n",
       " ⋮\n",
       " [-2.0 -0.03181108536945676 -0.03181108536945676 -0.699999988079071; -0.03181108536945676 1.0 -0.699999988079071 -0.03181108536945676; -0.03181108536945676 -0.699999988079071 1.0 -0.03181108536945676; -0.699999988079071 -0.03181108536945676 -0.03181108536945676 0]\n",
       " [-2.0 -0.03249439385908512 -0.03249439385908512 -0.699999988079071; -0.03249439385908512 1.0 -0.699999988079071 -0.03249439385908512; -0.03249439385908512 -0.699999988079071 1.0 -0.03249439385908512; -0.699999988079071 -0.03249439385908512 -0.03249439385908512 0]\n",
       " [-2.0 -0.033184315183635626 -0.033184315183635626 -0.699999988079071; -0.033184315183635626 1.0 -0.699999988079071 -0.033184315183635626; -0.033184315183635626 -0.699999988079071 1.0 -0.033184315183635626; -0.699999988079071 -0.033184315183635626 -0.033184315183635626 0]\n",
       " [-2.0 -0.033880822106194586 -0.033880822106194586 -0.699999988079071; -0.033880822106194586 1.0 -0.699999988079071 -0.033880822106194586; -0.033880822106194586 -0.699999988079071 1.0 -0.033880822106194586; -0.699999988079071 -0.033880822106194586 -0.033880822106194586 0]\n",
       " [-2.0 -0.034583887129860075 -0.034583887129860075 -0.699999988079071; -0.034583887129860075 1.0 -0.699999988079071 -0.034583887129860075; -0.034583887129860075 -0.699999988079071 1.0 -0.034583887129860075; -0.699999988079071 -0.034583887129860075 -0.034583887129860075 0]\n",
       " [-2.0 -0.035293482498827605 -0.035293482498827605 -0.699999988079071; -0.035293482498827605 1.0 -0.699999988079071 -0.035293482498827605; -0.035293482498827605 -0.699999988079071 1.0 -0.035293482498827605; -0.699999988079071 -0.035293482498827605 -0.035293482498827605 0]\n",
       " [-2.0 -0.036009580199485774 -0.036009580199485774 -0.699999988079071; -0.036009580199485774 1.0 -0.699999988079071 -0.036009580199485774; -0.036009580199485774 -0.699999988079071 1.0 -0.036009580199485774; -0.699999988079071 -0.036009580199485774 -0.036009580199485774 0]\n",
       " [-2.0 -0.03673215196152227 -0.03673215196152227 -0.699999988079071; -0.03673215196152227 1.0 -0.699999988079071 -0.03673215196152227; -0.03673215196152227 -0.699999988079071 1.0 -0.03673215196152227; -0.699999988079071 -0.03673215196152227 -0.03673215196152227 0]\n",
       " [-2.0 -0.03746116925903997 -0.03746116925903997 -0.699999988079071; -0.03746116925903997 1.0 -0.699999988079071 -0.03746116925903997; -0.03746116925903997 -0.699999988079071 1.0 -0.03746116925903997; -0.699999988079071 -0.03746116925903997 -0.03746116925903997 0]"
      ]
     },
     "metadata": {},
     "output_type": "display_data"
    }
   ],
   "source": [
    "[Hermitian(N(M.subs(x, t[i]))) for i in 1:en.t_step]"
   ]
  },
  {
   "cell_type": "code",
   "execution_count": 52,
   "metadata": {},
   "outputs": [
    {
     "data": {
      "text/plain": [
       "5-element Vector{Int64}:\n",
       " 1\n",
       " 2\n",
       " 3\n",
       " 4\n",
       " 5"
      ]
     },
     "metadata": {},
     "output_type": "display_data"
    }
   ],
   "source": [
    "A = [1, 2, 3, 4 ,5]"
   ]
  },
  {
   "cell_type": "code",
   "execution_count": 58,
   "metadata": {},
   "outputs": [
    {
     "ename": "ErrorException",
     "evalue": "syntax: missing last argument in \"A[i]:\" range expression ",
     "output_type": "error",
     "traceback": [
      "syntax: missing last argument in \"A[i]:\" range expression \n",
      "\n",
      "Stacktrace:\n",
      " [1] top-level scope\n",
      "   @ ~/Documents/Codes/julia/RNN-RF/test_batch.ipynb:1"
     ]
    }
   ],
   "source": [
    "[ (try a = A[i] catch a=8 end) for i in 1:10]"
   ]
  },
  {
   "cell_type": "code",
   "execution_count": 30,
   "metadata": {},
   "outputs": [],
   "source": [
    "using Flux"
   ]
  },
  {
   "cell_type": "code",
   "execution_count": 31,
   "metadata": {},
   "outputs": [
    {
     "data": {
      "text/plain": [
       "Chain(\n",
       "  Dense(3 => 8, relu),                  \u001b[90m# 32 parameters\u001b[39m\n",
       "  Dense(8 => 8, relu),                  \u001b[90m# 72 parameters\u001b[39m\n",
       "  Parallel(\n",
       "    vcat,\n",
       "    Chain(\n",
       "      Dense(8 => 4, relu),              \u001b[90m# 36 parameters\u001b[39m\n",
       "      Dense(4 => 4),                    \u001b[90m# 20 parameters\u001b[39m\n",
       "      NNlib.softmax,\n",
       "    ),\n",
       "    Dense(8 => 1, tanh),                \u001b[90m# 9 parameters\u001b[39m\n",
       "  ),\n",
       ") \u001b[90m                  # Total: 10 arrays, \u001b[39m169 parameters, 1.441 KiB."
      ]
     },
     "metadata": {},
     "output_type": "display_data"
    }
   ],
   "source": [
    "model = Chain(Dense(3, 8, relu), Dense(8, 8, relu), Flux.Parallel(vcat, Chain(Dense(8, 4, relu), Dense(4,4), softmax), Dense(8, 1, tanh)))"
   ]
  },
  {
   "cell_type": "code",
   "execution_count": 33,
   "metadata": {},
   "outputs": [
    {
     "data": {
      "text/plain": [
       "3-element Vector{Float32}:\n",
       " 0.26861\n",
       " 0.9730785\n",
       " 0.04579234"
      ]
     },
     "metadata": {},
     "output_type": "display_data"
    }
   ],
   "source": [
    "input = rand(Float32, 3)"
   ]
  },
  {
   "cell_type": "code",
   "execution_count": 34,
   "metadata": {},
   "outputs": [
    {
     "data": {
      "text/plain": [
       "5-element Vector{Float32}:\n",
       " 0.27015024\n",
       " 0.24141714\n",
       " 0.2559261\n",
       " 0.2325065\n",
       " 0.16742308"
      ]
     },
     "metadata": {},
     "output_type": "display_data"
    }
   ],
   "source": [
    "out = model(input)"
   ]
  },
  {
   "cell_type": "code",
   "execution_count": 35,
   "metadata": {},
   "outputs": [],
   "source": [
    "using Distributed"
   ]
  },
  {
   "cell_type": "code",
   "execution_count": 36,
   "metadata": {},
   "outputs": [
    {
     "data": {
      "text/plain": [
       "4-element Vector{Int64}:\n",
       " 2\n",
       " 3\n",
       " 4\n",
       " 5"
      ]
     },
     "metadata": {},
     "output_type": "display_data"
    }
   ],
   "source": [
    "addprocs(4)"
   ]
  },
  {
   "cell_type": "code",
   "execution_count": 44,
   "metadata": {},
   "outputs": [],
   "source": [
    "using SharedArrays"
   ]
  },
  {
   "cell_type": "code",
   "execution_count": 61,
   "metadata": {},
   "outputs": [
    {
     "data": {
      "text/plain": [
       "Any[]"
      ]
     },
     "metadata": {},
     "output_type": "display_data"
    }
   ],
   "source": [
    "A = []"
   ]
  },
  {
   "cell_type": "code",
   "execution_count": 68,
   "metadata": {},
   "outputs": [],
   "source": [
    "@everywhere include(\"MCTS-RF_env.jl\")"
   ]
  },
  {
   "cell_type": "code",
   "execution_count": 76,
   "metadata": {},
   "outputs": [],
   "source": [
    "@everywhere include(\"MCTS-RF_agt.jl\")"
   ]
  },
  {
   "cell_type": "code",
   "execution_count": 73,
   "metadata": {},
   "outputs": [
    {
     "data": {
      "text/plain": [
       "4-element SharedVector{typeof(init_agt)}:\n",
       " init_agt (generic function with 1 method)\n",
       " init_agt (generic function with 1 method)\n",
       " init_agt (generic function with 1 method)\n",
       " init_agt (generic function with 1 method)"
      ]
     },
     "metadata": {},
     "output_type": "display_data"
    }
   ],
   "source": [
    "A = SharedVector([agt = init_agt() for i in 1:4])"
   ]
  },
  {
   "cell_type": "code",
   "execution_count": 74,
   "metadata": {},
   "outputs": [],
   "source": [
    "@everywhere using Flux"
   ]
  },
  {
   "cell_type": "code",
   "execution_count": 77,
   "metadata": {},
   "outputs": [
    {
     "data": {
      "text/plain": [
       "Task (runnable) @0x00007f0924a2f080"
      ]
     },
     "metadata": {},
     "output_type": "display_data"
    }
   ],
   "source": [
    "@distributed for i in 1:4\n",
    "    agt = A[i]\n",
    "    model = Dense(zeros(Float32, env.output,env.input_dim))\n",
    "    play_physics!(en, agt, model)\n",
    "end"
   ]
  },
  {
   "cell_type": "code",
   "execution_count": 78,
   "metadata": {},
   "outputs": [
    {
     "data": {
      "text/plain": [
       "init_agt (generic function with 1 method)"
      ]
     },
     "metadata": {},
     "output_type": "display_data"
    }
   ],
   "source": [
    "A[1]"
   ]
  },
  {
   "cell_type": "code",
   "execution_count": 1,
   "metadata": {},
   "outputs": [],
   "source": [
    "using CUDA\n",
    "using Flux"
   ]
  },
  {
   "cell_type": "code",
   "execution_count": 2,
   "metadata": {},
   "outputs": [
    {
     "data": {
      "text/plain": [
       "\"CUDA\""
      ]
     },
     "metadata": {},
     "output_type": "display_data"
    }
   ],
   "source": [
    "Flux.GPU_BACKEND"
   ]
  },
  {
   "cell_type": "code",
   "execution_count": 4,
   "metadata": {},
   "outputs": [
    {
     "data": {
      "text/plain": [
       "Chain(\n",
       "  Dense(120 => 128),                    \u001b[90m# 15_488 parameters\u001b[39m\n",
       "  BatchNorm(128),                       \u001b[90m# 256 parameters\u001b[39m\u001b[90m, plus 256\u001b[39m\n",
       "  Dense(128 => 128, relu),              \u001b[90m# 16_512 parameters\u001b[39m\n",
       "  BatchNorm(128),                       \u001b[90m# 256 parameters\u001b[39m\u001b[90m, plus 256\u001b[39m\n",
       "  Dense(128 => 128, relu),              \u001b[90m# 16_512 parameters\u001b[39m\n",
       "  Parallel(\n",
       "    vcat,\n",
       "    Chain(\n",
       "      Dense(128 => 6, tanh),            \u001b[90m# 774 parameters\u001b[39m\n",
       "      Dense(6 => 6),                    \u001b[90m# 42 parameters\u001b[39m\n",
       "    ),\n",
       "    Chain(\n",
       "      Dense(128 => 1, tanh),            \u001b[90m# 129 parameters\u001b[39m\n",
       "      Dense(1 => 1),                    \u001b[90m# 2 parameters\u001b[39m\n",
       "    ),\n",
       "  ),\n",
       ") \u001b[90m        # Total: 18 trainable arrays, \u001b[39m49_971 parameters,\n",
       "\u001b[90m          # plus 4 non-trainable, 512 parameters, summarysize \u001b[39m198.777 KiB."
      ]
     },
     "metadata": {},
     "output_type": "display_data"
    }
   ],
   "source": [
    "model_cpu = Chain(Dense(120, 128), BatchNorm(128), Dense(128, 128, relu), BatchNorm(128), Dense(128, 128, relu), Parallel(vcat, Chain(Dense(128,6, tanh), Dense(6,6)), Chain(Dense(128, 1, tanh), Dense(1,1))))"
   ]
  },
  {
   "cell_type": "code",
   "execution_count": 5,
   "metadata": {},
   "outputs": [
    {
     "data": {
      "text/plain": [
       "Chain(\n",
       "  Dense(120 => 128),                    \u001b[90m# 15_488 parameters\u001b[39m\n",
       "  BatchNorm(128),                       \u001b[90m# 256 parameters\u001b[39m\u001b[90m, plus 256\u001b[39m\n",
       "  Dense(128 => 128, relu),              \u001b[90m# 16_512 parameters\u001b[39m\n",
       "  BatchNorm(128),                       \u001b[90m# 256 parameters\u001b[39m\u001b[90m, plus 256\u001b[39m\n",
       "  Dense(128 => 128, relu),              \u001b[90m# 16_512 parameters\u001b[39m\n",
       "  Parallel(\n",
       "    vcat,\n",
       "    Chain(\n",
       "      Dense(128 => 6, tanh),            \u001b[90m# 774 parameters\u001b[39m\n",
       "      Dense(6 => 6),                    \u001b[90m# 42 parameters\u001b[39m\n",
       "    ),\n",
       "    Chain(\n",
       "      Dense(128 => 1, tanh),            \u001b[90m# 129 parameters\u001b[39m\n",
       "      Dense(1 => 1),                    \u001b[90m# 2 parameters\u001b[39m\n",
       "    ),\n",
       "  ),\n",
       ") \u001b[90m        # Total: 18 trainable arrays, \u001b[39m49_971 parameters,\n",
       "\u001b[90m          # plus 4 non-trainable, 512 parameters, summarysize \u001b[39m3.195 KiB."
      ]
     },
     "metadata": {},
     "output_type": "display_data"
    }
   ],
   "source": [
    "model_gpu = gpu(model_cpu)"
   ]
  },
  {
   "cell_type": "code",
   "execution_count": 6,
   "metadata": {},
   "outputs": [
    {
     "data": {
      "text/plain": [
       "7×1024 Matrix{Float32}:\n",
       " 0.944783   0.546551  0.306746   0.995058    …  0.175194  0.430924  0.223316\n",
       " 0.826923   0.59864   0.0632063  0.738193       0.234876  0.151102  0.158971\n",
       " 0.161442   0.1614    0.354368   0.279563       0.908646  0.386788  0.523774\n",
       " 0.326405   0.554026  0.141668   0.359125       0.277155  0.127923  0.263541\n",
       " 0.0600685  0.307791  0.367611   0.548013       0.599808  0.471523  0.598647\n",
       " 0.18569    0.487638  0.765314   0.426737    …  0.55001   0.359032  0.708868\n",
       " 0.501412   0.792106  0.983987   0.00653476     0.17026   0.705653  0.685402"
      ]
     },
     "metadata": {},
     "output_type": "display_data"
    }
   ],
   "source": [
    "x_c = rand(Int32, 120, 1024)\n",
    "y_c = rand(Float32, 7, 1024)"
   ]
  },
  {
   "cell_type": "code",
   "execution_count": 7,
   "metadata": {},
   "outputs": [
    {
     "data": {
      "text/plain": [
       "7×1024 CuArray{Float32, 2, CUDA.Mem.DeviceBuffer}:\n",
       " 0.944783   0.546551  0.306746   0.995058    …  0.175194  0.430924  0.223316\n",
       " 0.826923   0.59864   0.0632063  0.738193       0.234876  0.151102  0.158971\n",
       " 0.161442   0.1614    0.354368   0.279563       0.908646  0.386788  0.523774\n",
       " 0.326405   0.554026  0.141668   0.359125       0.277155  0.127923  0.263541\n",
       " 0.0600685  0.307791  0.367611   0.548013       0.599808  0.471523  0.598647\n",
       " 0.18569    0.487638  0.765314   0.426737    …  0.55001   0.359032  0.708868\n",
       " 0.501412   0.792106  0.983987   0.00653476     0.17026   0.705653  0.685402"
      ]
     },
     "metadata": {},
     "output_type": "display_data"
    }
   ],
   "source": [
    "x_g = gpu(x_c)\n",
    "y_g = gpu(y_c)"
   ]
  },
  {
   "cell_type": "code",
   "execution_count": 27,
   "metadata": {},
   "outputs": [
    {
     "data": {
      "text/plain": [
       "loss_g (generic function with 2 methods)"
      ]
     },
     "metadata": {},
     "output_type": "display_data"
    }
   ],
   "source": [
    "function loss_g(x, y, z)\n",
    "    y1 = model_gpu(x)\n",
    "    return sum([((y1[end,i]-y[end,i])^2 - target[1:end-1,i]' * log.(softmax(y1[1:end-1,i]))) for i in 1:z])/z + sum(Flux.params(model)[1].^2)/z\n",
    "end"
   ]
  },
  {
   "cell_type": "code",
   "execution_count": 8,
   "metadata": {},
   "outputs": [
    {
     "data": {
      "text/plain": [
       "loss_g (generic function with 1 method)"
      ]
     },
     "metadata": {},
     "output_type": "display_data"
    }
   ],
   "source": [
    "loss_g(x, y) = sum((y - model_gpu(x)).^2)/1024"
   ]
  },
  {
   "cell_type": "code",
   "execution_count": 9,
   "metadata": {},
   "outputs": [
    {
     "data": {
      "text/plain": [
       "Adam(0.001, (0.9, 0.999), 1.0e-8, IdDict{Any, Any}())"
      ]
     },
     "metadata": {},
     "output_type": "display_data"
    }
   ],
   "source": [
    "opt = ADAM()"
   ]
  },
  {
   "cell_type": "code",
   "execution_count": 14,
   "metadata": {},
   "outputs": [
    {
     "name": "stdout",
     "output_type": "stream",
     "text": [
      "  0.004044 seconds (4.83 k allocations: 347.859 KiB)\n"
     ]
    }
   ],
   "source": [
    "@time Flux.train!(loss_g, Flux.params(model_gpu), [(x_g, y_g)], opt)"
   ]
  },
  {
   "cell_type": "code",
   "execution_count": 15,
   "metadata": {},
   "outputs": [
    {
     "data": {
      "text/plain": [
       "loss_c (generic function with 1 method)"
      ]
     },
     "metadata": {},
     "output_type": "display_data"
    }
   ],
   "source": [
    "loss_c(x, y) = sum((y - model_cpu(x)).^2)/1024"
   ]
  },
  {
   "cell_type": "code",
   "execution_count": 22,
   "metadata": {},
   "outputs": [
    {
     "name": "stdout",
     "output_type": "stream",
     "text": [
      "  0.024550 seconds (1.39 k allocations: 16.310 MiB)\n"
     ]
    }
   ],
   "source": [
    "@time Flux.train!(loss_c, Flux.params(model_cpu), [(x_c, y_c)], opt)"
   ]
  },
  {
   "cell_type": "code",
   "execution_count": 28,
   "metadata": {},
   "outputs": [
    {
     "ename": "ErrorException",
     "evalue": "Scalar indexing is disallowed.\nInvocation of getindex resulted in scalar indexing of a GPU array.\nThis is typically caused by calling an iterating implementation of a method.\nSuch implementations *do not* execute on the GPU, but very slowly on the CPU,\nand therefore are only permitted from the REPL for prototyping purposes.\nIf you did intend to index this array, annotate the caller with @allowscalar.",
     "output_type": "error",
     "traceback": [
      "Scalar indexing is disallowed.\n",
      "Invocation of getindex resulted in scalar indexing of a GPU array.\n",
      "This is typically caused by calling an iterating implementation of a method.\n",
      "Such implementations *do not* execute on the GPU, but very slowly on the CPU,\n",
      "and therefore are only permitted from the REPL for prototyping purposes.\n",
      "If you did intend to index this array, annotate the caller with @allowscalar.\n",
      "\n",
      "Stacktrace:\n",
      "  [1] error(s::String)\n",
      "    @ Base ./error.jl:35\n",
      "  [2] assertscalar(op::String)\n",
      "    @ GPUArraysCore ~/.julia/packages/GPUArraysCore/HaQcr/src/GPUArraysCore.jl:103\n",
      "  [3] getindex(::CuArray{Float32, 2, CUDA.Mem.DeviceBuffer}, ::Int64, ::Int64)\n",
      "    @ GPUArrays ~/.julia/packages/GPUArrays/TnEpb/src/host/indexing.jl:9\n",
      "  [4] adjoint\n",
      "    @ ~/.julia/packages/Zygote/HTsWj/src/lib/array.jl:44 [inlined]\n",
      "  [5] _pullback\n",
      "    @ ~/.julia/packages/ZygoteRules/OgCVT/src/adjoint.jl:66 [inlined]\n",
      "  [6] _pullback\n",
      "    @ ./none:0 [inlined]\n",
      "  [7] _pullback(ctx::Zygote.Context{true}, f::var\"#11#12\"{CuArray{Float32, 2, CUDA.Mem.DeviceBuffer}, CuArray{Float32, 2, CUDA.Mem.DeviceBuffer}}, args::Int64)\n",
      "    @ Zygote ~/.julia/packages/Zygote/HTsWj/src/compiler/interface2.jl:0\n",
      "  [8] #673\n",
      "    @ ~/.julia/packages/Zygote/HTsWj/src/lib/array.jl:201 [inlined]\n",
      "  [9] iterate\n",
      "    @ ./generator.jl:47 [inlined]\n",
      " [10] _collect(c::UnitRange{Int64}, itr::Base.Generator{UnitRange{Int64}, Zygote.var\"#673#677\"{Zygote.Context{true}, var\"#11#12\"{CuArray{Float32, 2, CUDA.Mem.DeviceBuffer}, CuArray{Float32, 2, CUDA.Mem.DeviceBuffer}}}}, #unused#::Base.EltypeUnknown, isz::Base.HasShape{1})\n",
      "    @ Base ./array.jl:802\n",
      " [11] collect_similar\n",
      "    @ ./array.jl:711 [inlined]\n",
      " [12] map\n",
      "    @ ./abstractarray.jl:3261 [inlined]\n",
      " [13] ∇map(cx::Zygote.Context{true}, f::var\"#11#12\"{CuArray{Float32, 2, CUDA.Mem.DeviceBuffer}, CuArray{Float32, 2, CUDA.Mem.DeviceBuffer}}, args::UnitRange{Int64})\n",
      "    @ Zygote ~/.julia/packages/Zygote/HTsWj/src/lib/array.jl:201\n",
      " [14] _pullback(cx::Zygote.Context{true}, #unused#::typeof(collect), g::Base.Generator{UnitRange{Int64}, var\"#11#12\"{CuArray{Float32, 2, CUDA.Mem.DeviceBuffer}, CuArray{Float32, 2, CUDA.Mem.DeviceBuffer}}})\n",
      "    @ Zygote ~/.julia/packages/Zygote/HTsWj/src/lib/array.jl:244\n",
      " [15] _pullback\n",
      "    @ ~/Documents/Codes/julia/RNN-RF/test_batch.ipynb:3 [inlined]\n",
      " [16] _pullback(::Zygote.Context{true}, ::typeof(loss_g), ::CuArray{Int32, 2, CUDA.Mem.DeviceBuffer}, ::CuArray{Float32, 2, CUDA.Mem.DeviceBuffer}, ::Int64)\n",
      "    @ Zygote ~/.julia/packages/Zygote/HTsWj/src/compiler/interface2.jl:0\n",
      " [17] _apply(::Function, ::Vararg{Any})\n",
      "    @ Core ./boot.jl:838\n",
      " [18] adjoint\n",
      "    @ ~/.julia/packages/Zygote/HTsWj/src/lib/lib.jl:203 [inlined]\n",
      " [19] _pullback\n",
      "    @ ~/.julia/packages/ZygoteRules/OgCVT/src/adjoint.jl:66 [inlined]\n",
      " [20] _pullback\n",
      "    @ ~/.julia/packages/Flux/EHgZm/src/optimise/train.jl:143 [inlined]\n",
      " [21] _pullback(::Zygote.Context{true}, ::Flux.Optimise.var\"#37#40\"{typeof(loss_g), Tuple{CuArray{Int32, 2, CUDA.Mem.DeviceBuffer}, CuArray{Float32, 2, CUDA.Mem.DeviceBuffer}, Int64}})\n",
      "    @ Zygote ~/.julia/packages/Zygote/HTsWj/src/compiler/interface2.jl:0\n",
      " [22] pullback(f::Function, ps::Zygote.Params{Zygote.Buffer{Any, Vector{Any}}})\n",
      "    @ Zygote ~/.julia/packages/Zygote/HTsWj/src/compiler/interface.jl:384\n",
      " [23] withgradient(f::Function, args::Zygote.Params{Zygote.Buffer{Any, Vector{Any}}})\n",
      "    @ Zygote ~/.julia/packages/Zygote/HTsWj/src/compiler/interface.jl:132\n",
      " [24] macro expansion\n",
      "    @ ~/.julia/packages/Flux/EHgZm/src/optimise/train.jl:142 [inlined]\n",
      " [25] macro expansion\n",
      "    @ ~/.julia/packages/ProgressLogging/6KXlp/src/ProgressLogging.jl:328 [inlined]\n",
      " [26] train!(loss::Function, ps::Zygote.Params{Zygote.Buffer{Any, Vector{Any}}}, data::Vector{Tuple{CuArray{Int32, 2, CUDA.Mem.DeviceBuffer}, CuArray{Float32, 2, CUDA.Mem.DeviceBuffer}, Int64}}, opt::Adam; cb::Flux.Optimise.var\"#38#41\")\n",
      "    @ Flux.Optimise ~/.julia/packages/Flux/EHgZm/src/optimise/train.jl:140\n",
      " [27] train!(loss::Function, ps::Zygote.Params{Zygote.Buffer{Any, Vector{Any}}}, data::Vector{Tuple{CuArray{Int32, 2, CUDA.Mem.DeviceBuffer}, CuArray{Float32, 2, CUDA.Mem.DeviceBuffer}, Int64}}, opt::Adam)\n",
      "    @ Flux.Optimise ~/.julia/packages/Flux/EHgZm/src/optimise/train.jl:136\n",
      " [28] top-level scope\n",
      "    @ ./timing.jl:273 [inlined]\n",
      " [29] top-level scope\n",
      "    @ ~/Documents/Codes/julia/RNN-RF/test_batch.ipynb:0"
     ]
    }
   ],
   "source": [
    "@time Flux.train!(loss_g, Flux.params(model_gpu), [(gpu(x_c), gpu(y_c), 1024)], opt)"
   ]
  },
  {
   "cell_type": "code",
   "execution_count": 1,
   "metadata": {},
   "outputs": [
    {
     "data": {
      "text/plain": [
       "3"
      ]
     },
     "metadata": {},
     "output_type": "display_data"
    }
   ],
   "source": [
    "maximum([1,3])"
   ]
  },
  {
   "cell_type": "code",
   "execution_count": 2,
   "metadata": {},
   "outputs": [
    {
     "data": {
      "text/plain": [
       "Dict{Any, Any}()"
      ]
     },
     "metadata": {},
     "output_type": "display_data"
    }
   ],
   "source": [
    "dic_test = Dict()"
   ]
  },
  {
   "cell_type": "code",
   "execution_count": 3,
   "metadata": {},
   "outputs": [
    {
     "data": {
      "text/plain": [
       "8"
      ]
     },
     "metadata": {},
     "output_type": "display_data"
    }
   ],
   "source": [
    "dic_test[1] = 5\n",
    "dic_test[3] = 8"
   ]
  },
  {
   "cell_type": "code",
   "execution_count": 4,
   "metadata": {},
   "outputs": [
    {
     "data": {
      "text/plain": [
       "3"
      ]
     },
     "metadata": {},
     "output_type": "display_data"
    }
   ],
   "source": [
    "maximum(keys(dic_test))"
   ]
  },
  {
   "cell_type": "code",
   "execution_count": 5,
   "metadata": {},
   "outputs": [
    {
     "data": {
      "text/plain": [
       "8"
      ]
     },
     "metadata": {},
     "output_type": "display_data"
    }
   ],
   "source": [
    "dic_test[maximum(keys(dic_test))]"
   ]
  },
  {
   "cell_type": "code",
   "execution_count": null,
   "metadata": {},
   "outputs": [],
   "source": []
  }
 ],
 "metadata": {
  "kernelspec": {
   "display_name": "Julia 1.9.1",
   "language": "julia",
   "name": "julia-1.9"
  },
  "language_info": {
   "file_extension": ".jl",
   "mimetype": "application/julia",
   "name": "julia",
   "version": "1.9.1"
  },
  "orig_nbformat": 4
 },
 "nbformat": 4,
 "nbformat_minor": 2
}
