{
 "cells": [
  {
   "cell_type": "code",
   "execution_count": 2,
   "metadata": {},
   "outputs": [
    {
     "data": {
      "text/plain": [
       "7"
      ]
     },
     "metadata": {},
     "output_type": "display_data"
    }
   ],
   "source": [
    "rand(1:8)"
   ]
  },
  {
   "cell_type": "code",
   "execution_count": 4,
   "metadata": {},
   "outputs": [
    {
     "data": {
      "text/plain": [
       "8-element Vector{Tuple{Int64, Int64}}:\n",
       " (1, 4)\n",
       " (2, 2)\n",
       " (3, 3)\n",
       " (4, 7)\n",
       " (5, 6)\n",
       " (6, 7)\n",
       " (7, 6)\n",
       " (8, 2)"
      ]
     },
     "metadata": {},
     "output_type": "display_data"
    }
   ],
   "source": [
    "x = [(i, rand(1:8)) for i in 1:8]"
   ]
  },
  {
   "cell_type": "code",
   "execution_count": 5,
   "metadata": {},
   "outputs": [
    {
     "data": {
      "text/plain": [
       "8-element Vector{Int64}:\n",
       "  4\n",
       "  4\n",
       "  9\n",
       " 28\n",
       " 30\n",
       " 42\n",
       " 42\n",
       " 16"
      ]
     },
     "metadata": {},
     "output_type": "display_data"
    }
   ],
   "source": [
    "[ i*j for (i,j) in x]"
   ]
  },
  {
   "cell_type": "code",
   "execution_count": 8,
   "metadata": {},
   "outputs": [
    {
     "data": {
      "text/plain": [
       "2-element Vector{Int64}:\n",
       " 2\n",
       " 6"
      ]
     },
     "metadata": {},
     "output_type": "display_data"
    }
   ],
   "source": [
    "a = [1, 3, 5, 7, 9, 3, 5, 7]\n",
    "findall(x->x==3, a)"
   ]
  },
  {
   "cell_type": "code",
   "execution_count": 58,
   "metadata": {},
   "outputs": [],
   "source": [
    "using Flux"
   ]
  },
  {
   "cell_type": "code",
   "execution_count": 19,
   "metadata": {},
   "outputs": [
    {
     "data": {
      "text/plain": [
       "3-element Vector{Tuple{Vector{Float32}, Vector{Float32}}}:\n",
       " ([0.523947, 0.3047166], [0.21535373])\n",
       " ([0.13237017, 0.8566941], [0.06494528])\n",
       " ([0.9243327, 0.81498635], [0.3492868])"
      ]
     },
     "metadata": {},
     "output_type": "display_data"
    }
   ],
   "source": [
    "test_batch = [ (rand(Float32,2), rand(Float32,1)) for i in 1:3]"
   ]
  },
  {
   "cell_type": "code",
   "execution_count": 59,
   "metadata": {},
   "outputs": [
    {
     "data": {
      "text/plain": [
       "1×100 Matrix{Float32}:\n",
       " 0.320748  0.94637  0.392362  0.88544  …  0.296158  0.5328  0.00955468"
      ]
     },
     "metadata": {},
     "output_type": "display_data"
    }
   ],
   "source": [
    "test_imag = rand(Float32,2, 100)\n",
    "test_target = rand(Float32,1, 100)"
   ]
  },
  {
   "cell_type": "code",
   "execution_count": 60,
   "metadata": {},
   "outputs": [
    {
     "data": {
      "text/plain": [
       "Chain(\n",
       "  Dense(2 => 3, tanh),                  \u001b[90m# 9 parameters\u001b[39m\n",
       "  BatchNorm(3),                         \u001b[90m# 6 parameters\u001b[39m\u001b[90m, plus 6\u001b[39m\n",
       "  Dense(3 => 1),                        \u001b[90m# 4 parameters\u001b[39m\n",
       ") \u001b[90m        # Total: 6 trainable arrays, \u001b[39m19 parameters,\n",
       "\u001b[90m          # plus 2 non-trainable, 6 parameters, summarysize \u001b[39m588 bytes."
      ]
     },
     "metadata": {},
     "output_type": "display_data"
    }
   ],
   "source": [
    "model = Chain(Dense(2,3, tanh), BatchNorm(3), Dense(3,1))"
   ]
  },
  {
   "cell_type": "code",
   "execution_count": 61,
   "metadata": {},
   "outputs": [
    {
     "data": {
      "text/plain": [
       "Adam(0.001, (0.9, 0.999), 1.0e-8, IdDict{Any, Any}())"
      ]
     },
     "metadata": {},
     "output_type": "display_data"
    }
   ],
   "source": [
    "opt = ADAM()"
   ]
  },
  {
   "cell_type": "code",
   "execution_count": 35,
   "metadata": {},
   "outputs": [
    {
     "data": {
      "text/plain": [
       "1×100 Matrix{Float32}:\n",
       " 0.668815  1.67469  0.668815  -0.668815  …  0.668815  -0.668815  0.668815"
      ]
     },
     "metadata": {},
     "output_type": "display_data"
    }
   ],
   "source": [
    "model(rand(Int, 2,100))"
   ]
  },
  {
   "cell_type": "code",
   "execution_count": 62,
   "metadata": {},
   "outputs": [
    {
     "data": {
      "text/plain": [
       "loss (generic function with 2 methods)"
      ]
     },
     "metadata": {},
     "output_type": "display_data"
    }
   ],
   "source": [
    "loss(x, y) =  sum([(y[i] .- model(x)[i]).^2 for i=1:length(y) ])/length(y)"
   ]
  },
  {
   "cell_type": "code",
   "execution_count": 64,
   "metadata": {},
   "outputs": [],
   "source": [
    "Flux.train!(loss, Flux.params(model), [(test_imag, test_target)], opt)"
   ]
  },
  {
   "cell_type": "code",
   "execution_count": 1,
   "metadata": {},
   "outputs": [],
   "source": [
    "using SymPy"
   ]
  },
  {
   "cell_type": "code",
   "execution_count": 2,
   "metadata": {},
   "outputs": [
    {
     "data": {
      "text/latex": [
       "$x$"
      ],
      "text/plain": [
       "x"
      ]
     },
     "metadata": {},
     "output_type": "display_data"
    }
   ],
   "source": [
    "x = symbols(\"x\")"
   ]
  },
  {
   "cell_type": "code",
   "execution_count": 18,
   "metadata": {},
   "outputs": [
    {
     "data": {
      "text/latex": [
       "$\\sin{\\left(x \\right)}$"
      ],
      "text/plain": [
       "sin(x)"
      ]
     },
     "metadata": {},
     "output_type": "display_data"
    }
   ],
   "source": [
    "ex1 = sin(x)"
   ]
  },
  {
   "cell_type": "code",
   "execution_count": 20,
   "metadata": {},
   "outputs": [
    {
     "data": {
      "text/plain": [
       "2×2 Matrix{Float64}:\n",
       " 0.0  1.0\n",
       " 1.0  0.0"
      ]
     },
     "metadata": {},
     "output_type": "display_data"
    }
   ],
   "source": [
    "M1 = [1.0 0.0; 0.0 1.0]\n",
    "M2 = [0.0 1.0; 1.0 0.0]"
   ]
  },
  {
   "cell_type": "code",
   "execution_count": 21,
   "metadata": {},
   "outputs": [
    {
     "data": {
      "text/latex": [
       "$\\left[ \\begin{array}{rr}1.0&1.0 \\sin{\\left(x \\right)}\\\\1.0 \\sin{\\left(x \\right)}&1.0\\end{array}\\right]$\n"
      ],
      "text/plain": [
       "2×2 Matrix{Sym}:\n",
       " 1.00000000000000        1.0*sin(x)\n",
       "       1.0*sin(x)  1.00000000000000"
      ]
     },
     "metadata": {},
     "output_type": "display_data"
    }
   ],
   "source": [
    "ex2 = M1 + M2*ex1"
   ]
  },
  {
   "cell_type": "code",
   "execution_count": 24,
   "metadata": {},
   "outputs": [
    {
     "data": {
      "text/latex": [
       "$\\left[ \\begin{array}{rr}1.0 x&1.0 - 1.0 \\cos{\\left(x \\right)}\\\\1.0 - 1.0 \\cos{\\left(x \\right)}&1.0 x\\end{array}\\right]$\n"
      ],
      "text/plain": [
       "2×2 Matrix{Sym}:\n",
       "            1.0*x  1.0 - cos(x)\n",
       " 1.0 - cos(x)             1.0*x"
      ]
     },
     "metadata": {},
     "output_type": "display_data"
    }
   ],
   "source": [
    "ex3 = ex2.integrate((x, 0.0, x))"
   ]
  },
  {
   "cell_type": "code",
   "execution_count": 8,
   "metadata": {},
   "outputs": [
    {
     "data": {
      "text/plain": [
       "10-element Vector{Int64}:\n",
       "  1\n",
       "  2\n",
       "  3\n",
       "  4\n",
       "  5\n",
       "  6\n",
       "  7\n",
       "  8\n",
       "  9\n",
       " 10"
      ]
     },
     "metadata": {},
     "output_type": "display_data"
    }
   ],
   "source": [
    "t = collect(1:10)"
   ]
  },
  {
   "cell_type": "code",
   "execution_count": 17,
   "metadata": {},
   "outputs": [
    {
     "name": "stdout",
     "output_type": "stream",
     "text": [
      "  0.039646 seconds (37.73 k allocations: 2.323 MiB, 74.94% compilation time)\n"
     ]
    },
    {
     "data": {
      "text/plain": [
       "10-element Vector{Int64}:\n",
       "   4\n",
       "   9\n",
       "  16\n",
       "  25\n",
       "  36\n",
       "  49\n",
       "  64\n",
       "  81\n",
       " 100\n",
       " 121"
      ]
     },
     "metadata": {},
     "output_type": "display_data"
    }
   ],
   "source": [
    "@time A = [N(ex1(i)) for i in t]"
   ]
  },
  {
   "cell_type": "code",
   "execution_count": 15,
   "metadata": {},
   "outputs": [
    {
     "data": {
      "text/plain": [
       "Vector{Sym}\u001b[90m (alias for \u001b[39m\u001b[90mArray{Sym, 1}\u001b[39m\u001b[90m)\u001b[39m"
      ]
     },
     "metadata": {},
     "output_type": "display_data"
    }
   ],
   "source": [
    "typeof(A)"
   ]
  },
  {
   "cell_type": "code",
   "execution_count": 25,
   "metadata": {},
   "outputs": [
    {
     "data": {
      "text/latex": [
       "$\\sin{\\left(x \\right)}$"
      ],
      "text/plain": [
       "sin(x)"
      ]
     },
     "metadata": {},
     "output_type": "display_data"
    }
   ],
   "source": [
    "using LinearAlgebra\n",
    "using Flux\n",
    "using ParameterSchedulers\n",
    "using SymPy\n",
    "\n",
    "\n",
    "struct Env\n",
    "    max_turn::Int\n",
    "    num_player::Int\n",
    "    val_num::Int\n",
    "    br_num::Int\n",
    "    fn_num::Int\n",
    "    act_ind::Int\n",
    "    input_dim::Int\n",
    "    middle_dim::Int\n",
    "    output::Int\n",
    "\n",
    "    #training parameter\n",
    "    training_step::Int\n",
    "    checkpoint_interval::Int\n",
    "    batch_size::Int\n",
    "    η::Float32\n",
    "    momentum::Float32\n",
    "    scheduler\n",
    "\n",
    "    num_simulation::Int\n",
    "    α::Float32\n",
    "    frac::Float32\n",
    "\n",
    "    t_step::Int\n",
    "    HS_size::Int\n",
    "    Ω::Float32\n",
    "    ξ::Float32\n",
    "    Jz::Float32\n",
    "    Jx::Float32\n",
    "    hz::Float32\n",
    "    H_0::Hermitian{ComplexF32, Matrix{ComplexF32}}\n",
    "    V_t::Hermitian{ComplexF32, Matrix{ComplexF32}}\n",
    "    dt::Float32\n",
    "\n",
    "    Cb::Int\n",
    "    Ci::Float32\n",
    "    C::Float32 #L2 norm weight\n",
    "end\n",
    "\n",
    "x = symbols(\"x\")\n",
    "sx = sin(x)"
   ]
  },
  {
   "cell_type": "code",
   "execution_count": 41,
   "metadata": {},
   "outputs": [
    {
     "data": {
      "text/plain": [
       "init_Env (generic function with 1 method)"
      ]
     },
     "metadata": {},
     "output_type": "display_data"
    }
   ],
   "source": [
    "using ParameterSchedulers\n",
    "#max_turn, num_player, num_simulation, α, frac, t_step, HS_size, Ω, ξ, Jz, Jx, hz, Cb, Ci, C\n",
    "function init_Env(args::Vector{String})\n",
    "    max_turn = parse(Int, args[1])\n",
    "    num_player = parse(Int, args[2])\n",
    "    val_num::Int = 2\n",
    "    br_num::Int = 3\n",
    "    fn_num::Int = 2\n",
    "    act_ind = val_num+br_num+fn_num\n",
    "    input_dim = act_ind*max_turn\n",
    "    middle_dim = 128\n",
    "    output =  act_ind + 1\n",
    "\n",
    "    #training parameter\n",
    "    training_step = 100000\n",
    "    checkpoint_interval = 1000\n",
    "    batch_size = 1024\n",
    "    η = 1f-4\n",
    "    momentum = 0.9\n",
    "    scheduler = Step(λ = 2f-1, γ = Float32(0.1), step_sizes = 20000)\n",
    "\n",
    "\n",
    "    num_simulation = parse(Int, args[3])\n",
    "    α = parse(Float32, args[4])\n",
    "    frac = parse(Float32, args[5])\n",
    "\n",
    "    t_step = parse(Int, args[6])\n",
    "    HS_size = parse(Int, args[7])\n",
    "    Ω = parse(Float32, args[8])\n",
    "    ξ = parse(Float32, args[9])\n",
    "    Jz = parse(Float32, args[10])\n",
    "    Jx = parse(Float32, args[11])\n",
    "    hz = parse(Float32, args[12])\n",
    "    H_0 = Hermitian([ -Jz-2hz 0 0 -Jx; 0 Jz -Jx 0; 0 -Jx Jz 0; -Jx 0 0 -Jz+2hz])\n",
    "    V_t = Hermitian([ 0 -ξ -ξ 0; -ξ 0 0 -ξ; -ξ 0 0 -ξ; 0 -ξ -ξ 0])\n",
    "    dt = 2pi/t_step/Ω\n",
    "\n",
    "    Cb = parse(Int, args[13])\n",
    "    Ci = parse(Float32, args[14])\n",
    "    C = parse(Float32, args[15])\n",
    "\n",
    "    return Env(max_turn, num_player, val_num, br_num, fn_num, act_ind, input_dim, middle_dim, output, training_step, checkpoint_interval, batch_size, η, momentum, scheduler, num_simulation, α, frac, t_step, HS_size, Ω, ξ, Jz, Jx, hz, H_0, V_t, dt, Cb, Ci, C)\n",
    "end"
   ]
  },
  {
   "cell_type": "code",
   "execution_count": 42,
   "metadata": {},
   "outputs": [
    {
     "data": {
      "text/plain": [
       "Env(10, 2, 2, 3, 2, 7, 70, 128, 8, 100000, 1000, 1024, 0.0001f0, 0.9f0, Step{Float32, Base.Iterators.Repeated{Int64}}(0.2f0, 0.1f0, Base.Iterators.Repeated{Int64}(20000)), 100, 0.3f0, 0.25f0, 100, 4, 10.0f0, 0.2f0, 1.0f0, 0.7f0, 0.5f0, ComplexF32[-2.0f0 + 0.0f0im 0.0f0 + 0.0f0im 0.0f0 + 0.0f0im -0.7f0 + 0.0f0im; 0.0f0 - 0.0f0im 1.0f0 + 0.0f0im -0.7f0 + 0.0f0im 0.0f0 + 0.0f0im; 0.0f0 - 0.0f0im -0.7f0 - 0.0f0im 1.0f0 + 0.0f0im 0.0f0 + 0.0f0im; -0.7f0 - 0.0f0im 0.0f0 - 0.0f0im 0.0f0 - 0.0f0im 0.0f0 + 0.0f0im], ComplexF32[0.0f0 + 0.0f0im -0.2f0 + 0.0f0im -0.2f0 + 0.0f0im 0.0f0 + 0.0f0im; -0.2f0 - 0.0f0im 0.0f0 + 0.0f0im 0.0f0 + 0.0f0im -0.2f0 + 0.0f0im; -0.2f0 - 0.0f0im 0.0f0 - 0.0f0im 0.0f0 + 0.0f0im -0.2f0 + 0.0f0im; 0.0f0 - 0.0f0im -0.2f0 - 0.0f0im -0.2f0 - 0.0f0im 0.0f0 + 0.0f0im], 0.0062831854f0, 100, 0.1f0, 0.1f0)"
      ]
     },
     "metadata": {},
     "output_type": "display_data"
    }
   ],
   "source": [
    "en = init_Env([\"10\", \"2\", \"100\", \"0.3\", \"0.25\", \"100\", \"4\", \"10.0\", \"0.2\", \"1.0\", \"0.7\", \"0.5\", \"100\", \"0.1\", \"0.1\"])"
   ]
  },
  {
   "cell_type": "code",
   "execution_count": 105,
   "metadata": {},
   "outputs": [
    {
     "data": {
      "text/plain": [
       "calc_Kt (generic function with 1 method)"
      ]
     },
     "metadata": {},
     "output_type": "display_data"
    }
   ],
   "source": [
    "function calc_Kt(history::Vector{Int}, env::Env)\n",
    "    MV = []\n",
    "    his = copy(history)\n",
    "    #println(length(his))\n",
    "    for it in 1:length(his)\n",
    "        sw = pop!(his)\n",
    "        if(sw==1)\n",
    "            push!(MV, env.H_0)\n",
    "        elseif(sw==2)\n",
    "            push!(MV, env.V_t*sin(x))\n",
    "        elseif(sw==3)\n",
    "            A = pop!(MV)\n",
    "            B = pop!(MV)\n",
    "            C = A + B\n",
    "            push!(MV, C)\n",
    "        elseif(sw==4)\n",
    "            A = pop!(MV)\n",
    "            B = pop!(MV)\n",
    "            C = -1.0im*(A*B - B*A)\n",
    "            push!(MV, C)\n",
    "        elseif(sw==5)\n",
    "            A = pop!(MV)\n",
    "            B = pop!(MV)\n",
    "            C = (A*B + B*A)/2\n",
    "            push!(MV, C)\n",
    "        elseif(sw==6)\n",
    "            A = pop!(MV)\n",
    "            B = A.integrate((x, 0, x))\n",
    "            push!(MV, B)\n",
    "        end\n",
    "        #@show MV\n",
    "    end\n",
    "    t = collect(0:env.dt:2pi)\n",
    "\n",
    "    Ks = MV[end]\n",
    "    #println(Ks)\n",
    "    Kt::Vector{Hermitian{ComplexF32, Matrix{ComplexF32}}} = [Hermitian(N(Ks.subs(x,t[i]))) for i in 1:env.t_step]\n",
    "    #Kt = [Hermitian(N(Ks.subs(x,t[i]))) for i in 1:env.t_step]\n",
    "    return Kt\n",
    "end"
   ]
  },
  {
   "cell_type": "code",
   "execution_count": 106,
   "metadata": {},
   "outputs": [
    {
     "data": {
      "text/plain": [
       "100-element Vector{Hermitian{ComplexF32, Matrix{ComplexF32}}}:\n",
       " [-2.0f0 + 0.0f0im 0.0f0 + 0.0f0im 0.0f0 + 0.0f0im -0.7f0 + 0.0f0im; 0.0f0 - 0.0f0im 1.0f0 + 0.0f0im -0.7f0 + 0.0f0im 0.0f0 + 0.0f0im; 0.0f0 - 0.0f0im -0.7f0 - 0.0f0im 1.0f0 + 0.0f0im 0.0f0 + 0.0f0im; -0.7f0 - 0.0f0im 0.0f0 - 0.0f0im 0.0f0 - 0.0f0im 0.0f0 + 0.0f0im]\n",
       " [-2.0f0 + 0.0f0im -3.947829f-6 + 0.0f0im -3.947829f-6 + 0.0f0im -0.7f0 + 0.0f0im; -3.947829f-6 - 0.0f0im 1.0f0 + 0.0f0im -0.7f0 + 0.0f0im -3.947829f-6 + 0.0f0im; -3.947829f-6 - 0.0f0im -0.7f0 - 0.0f0im 1.0f0 + 0.0f0im -3.947829f-6 + 0.0f0im; -0.7f0 - 0.0f0im -3.947829f-6 - 0.0f0im -3.947829f-6 - 0.0f0im 0.0f0 + 0.0f0im]\n",
       " [-2.0f0 + 0.0f0im -1.579116f-5 + 0.0f0im -1.579116f-5 + 0.0f0im -0.7f0 + 0.0f0im; -1.579116f-5 - 0.0f0im 1.0f0 + 0.0f0im -0.7f0 + 0.0f0im -1.579116f-5 + 0.0f0im; -1.579116f-5 - 0.0f0im -0.7f0 - 0.0f0im 1.0f0 + 0.0f0im -1.579116f-5 + 0.0f0im; -0.7f0 - 0.0f0im -1.579116f-5 - 0.0f0im -1.579116f-5 - 0.0f0im 0.0f0 + 0.0f0im]\n",
       " [-2.0f0 + 0.0f0im -3.5529527f-5 + 0.0f0im -3.5529527f-5 + 0.0f0im -0.7f0 + 0.0f0im; -3.5529527f-5 - 0.0f0im 1.0f0 + 0.0f0im -0.7f0 + 0.0f0im -3.5529527f-5 + 0.0f0im; -3.5529527f-5 - 0.0f0im -0.7f0 - 0.0f0im 1.0f0 + 0.0f0im -3.5529527f-5 + 0.0f0im; -0.7f0 - 0.0f0im -3.5529527f-5 - 0.0f0im -3.5529527f-5 - 0.0f0im 0.0f0 + 0.0f0im]\n",
       " [-2.0f0 + 0.0f0im -6.3162144f-5 + 0.0f0im -6.3162144f-5 + 0.0f0im -0.7f0 + 0.0f0im; -6.3162144f-5 - 0.0f0im 1.0f0 + 0.0f0im -0.7f0 + 0.0f0im -6.3162144f-5 + 0.0f0im; -6.3162144f-5 - 0.0f0im -0.7f0 - 0.0f0im 1.0f0 + 0.0f0im -6.3162144f-5 + 0.0f0im; -0.7f0 - 0.0f0im -6.3162144f-5 - 0.0f0im -6.3162144f-5 - 0.0f0im 0.0f0 + 0.0f0im]\n",
       " [-2.0f0 + 0.0f0im -9.868793f-5 + 0.0f0im -9.868793f-5 + 0.0f0im -0.7f0 + 0.0f0im; -9.868793f-5 - 0.0f0im 1.0f0 + 0.0f0im -0.7f0 + 0.0f0im -9.868793f-5 + 0.0f0im; -9.868793f-5 - 0.0f0im -0.7f0 - 0.0f0im 1.0f0 + 0.0f0im -9.868793f-5 + 0.0f0im; -0.7f0 - 0.0f0im -9.868793f-5 - 0.0f0im -9.868793f-5 - 0.0f0im 0.0f0 + 0.0f0im]\n",
       " [-2.0f0 + 0.0f0im -0.00014210548f0 + 0.0f0im -0.00014210548f0 + 0.0f0im -0.7f0 + 0.0f0im; -0.00014210548f0 - 0.0f0im 1.0f0 + 0.0f0im -0.7f0 + 0.0f0im -0.00014210548f0 + 0.0f0im; -0.00014210548f0 - 0.0f0im -0.7f0 - 0.0f0im 1.0f0 + 0.0f0im -0.00014210548f0 + 0.0f0im; -0.7f0 - 0.0f0im -0.00014210548f0 - 0.0f0im -0.00014210548f0 - 0.0f0im 0.0f0 + 0.0f0im]\n",
       " [-2.0f0 + 0.0f0im -0.00019341307f0 + 0.0f0im -0.00019341307f0 + 0.0f0im -0.7f0 + 0.0f0im; -0.00019341307f0 - 0.0f0im 1.0f0 + 0.0f0im -0.7f0 + 0.0f0im -0.00019341307f0 + 0.0f0im; -0.00019341307f0 - 0.0f0im -0.7f0 - 0.0f0im 1.0f0 + 0.0f0im -0.00019341307f0 + 0.0f0im; -0.7f0 - 0.0f0im -0.00019341307f0 - 0.0f0im -0.00019341307f0 - 0.0f0im 0.0f0 + 0.0f0im]\n",
       " [-2.0f0 + 0.0f0im -0.0002526087f0 + 0.0f0im -0.0002526087f0 + 0.0f0im -0.7f0 + 0.0f0im; -0.0002526087f0 - 0.0f0im 1.0f0 + 0.0f0im -0.7f0 + 0.0f0im -0.0002526087f0 + 0.0f0im; -0.0002526087f0 - 0.0f0im -0.7f0 - 0.0f0im 1.0f0 + 0.0f0im -0.0002526087f0 + 0.0f0im; -0.7f0 - 0.0f0im -0.0002526087f0 - 0.0f0im -0.0002526087f0 - 0.0f0im 0.0f0 + 0.0f0im]\n",
       " [-2.0f0 + 0.0f0im -0.00031969f0 + 0.0f0im -0.00031969f0 + 0.0f0im -0.7f0 + 0.0f0im; -0.00031969f0 - 0.0f0im 1.0f0 + 0.0f0im -0.7f0 + 0.0f0im -0.00031969f0 + 0.0f0im; -0.00031969f0 - 0.0f0im -0.7f0 - 0.0f0im 1.0f0 + 0.0f0im -0.00031969f0 + 0.0f0im; -0.7f0 - 0.0f0im -0.00031969f0 - 0.0f0im -0.00031969f0 - 0.0f0im 0.0f0 + 0.0f0im]\n",
       " ⋮\n",
       " [-2.0f0 + 0.0f0im -0.031811085f0 + 0.0f0im -0.031811085f0 + 0.0f0im -0.7f0 + 0.0f0im; -0.031811085f0 - 0.0f0im 1.0f0 + 0.0f0im -0.7f0 + 0.0f0im -0.031811085f0 + 0.0f0im; -0.031811085f0 - 0.0f0im -0.7f0 - 0.0f0im 1.0f0 + 0.0f0im -0.031811085f0 + 0.0f0im; -0.7f0 - 0.0f0im -0.031811085f0 - 0.0f0im -0.031811085f0 - 0.0f0im 0.0f0 + 0.0f0im]\n",
       " [-2.0f0 + 0.0f0im -0.032494392f0 + 0.0f0im -0.032494392f0 + 0.0f0im -0.7f0 + 0.0f0im; -0.032494392f0 - 0.0f0im 1.0f0 + 0.0f0im -0.7f0 + 0.0f0im -0.032494392f0 + 0.0f0im; -0.032494392f0 - 0.0f0im -0.7f0 - 0.0f0im 1.0f0 + 0.0f0im -0.032494392f0 + 0.0f0im; -0.7f0 - 0.0f0im -0.032494392f0 - 0.0f0im -0.032494392f0 - 0.0f0im 0.0f0 + 0.0f0im]\n",
       " [-2.0f0 + 0.0f0im -0.033184316f0 + 0.0f0im -0.033184316f0 + 0.0f0im -0.7f0 + 0.0f0im; -0.033184316f0 - 0.0f0im 1.0f0 + 0.0f0im -0.7f0 + 0.0f0im -0.033184316f0 + 0.0f0im; -0.033184316f0 - 0.0f0im -0.7f0 - 0.0f0im 1.0f0 + 0.0f0im -0.033184316f0 + 0.0f0im; -0.7f0 - 0.0f0im -0.033184316f0 - 0.0f0im -0.033184316f0 - 0.0f0im 0.0f0 + 0.0f0im]\n",
       " [-2.0f0 + 0.0f0im -0.033880822f0 + 0.0f0im -0.033880822f0 + 0.0f0im -0.7f0 + 0.0f0im; -0.033880822f0 - 0.0f0im 1.0f0 + 0.0f0im -0.7f0 + 0.0f0im -0.033880822f0 + 0.0f0im; -0.033880822f0 - 0.0f0im -0.7f0 - 0.0f0im 1.0f0 + 0.0f0im -0.033880822f0 + 0.0f0im; -0.7f0 - 0.0f0im -0.033880822f0 - 0.0f0im -0.033880822f0 - 0.0f0im 0.0f0 + 0.0f0im]\n",
       " [-2.0f0 + 0.0f0im -0.03458389f0 + 0.0f0im -0.03458389f0 + 0.0f0im -0.7f0 + 0.0f0im; -0.03458389f0 - 0.0f0im 1.0f0 + 0.0f0im -0.7f0 + 0.0f0im -0.03458389f0 + 0.0f0im; -0.03458389f0 - 0.0f0im -0.7f0 - 0.0f0im 1.0f0 + 0.0f0im -0.03458389f0 + 0.0f0im; -0.7f0 - 0.0f0im -0.03458389f0 - 0.0f0im -0.03458389f0 - 0.0f0im 0.0f0 + 0.0f0im]\n",
       " [-2.0f0 + 0.0f0im -0.035293482f0 + 0.0f0im -0.035293482f0 + 0.0f0im -0.7f0 + 0.0f0im; -0.035293482f0 - 0.0f0im 1.0f0 + 0.0f0im -0.7f0 + 0.0f0im -0.035293482f0 + 0.0f0im; -0.035293482f0 - 0.0f0im -0.7f0 - 0.0f0im 1.0f0 + 0.0f0im -0.035293482f0 + 0.0f0im; -0.7f0 - 0.0f0im -0.035293482f0 - 0.0f0im -0.035293482f0 - 0.0f0im 0.0f0 + 0.0f0im]\n",
       " [-2.0f0 + 0.0f0im -0.03600958f0 + 0.0f0im -0.03600958f0 + 0.0f0im -0.7f0 + 0.0f0im; -0.03600958f0 - 0.0f0im 1.0f0 + 0.0f0im -0.7f0 + 0.0f0im -0.03600958f0 + 0.0f0im; -0.03600958f0 - 0.0f0im -0.7f0 - 0.0f0im 1.0f0 + 0.0f0im -0.03600958f0 + 0.0f0im; -0.7f0 - 0.0f0im -0.03600958f0 - 0.0f0im -0.03600958f0 - 0.0f0im 0.0f0 + 0.0f0im]\n",
       " [-2.0f0 + 0.0f0im -0.036732152f0 + 0.0f0im -0.036732152f0 + 0.0f0im -0.7f0 + 0.0f0im; -0.036732152f0 - 0.0f0im 1.0f0 + 0.0f0im -0.7f0 + 0.0f0im -0.036732152f0 + 0.0f0im; -0.036732152f0 - 0.0f0im -0.7f0 - 0.0f0im 1.0f0 + 0.0f0im -0.036732152f0 + 0.0f0im; -0.7f0 - 0.0f0im -0.036732152f0 - 0.0f0im -0.036732152f0 - 0.0f0im 0.0f0 + 0.0f0im]\n",
       " [-2.0f0 + 0.0f0im -0.03746117f0 + 0.0f0im -0.03746117f0 + 0.0f0im -0.7f0 + 0.0f0im; -0.03746117f0 - 0.0f0im 1.0f0 + 0.0f0im -0.7f0 + 0.0f0im -0.03746117f0 + 0.0f0im; -0.03746117f0 - 0.0f0im -0.7f0 - 0.0f0im 1.0f0 + 0.0f0im -0.03746117f0 + 0.0f0im; -0.7f0 - 0.0f0im -0.03746117f0 - 0.0f0im -0.03746117f0 - 0.0f0im 0.0f0 + 0.0f0im]"
      ]
     },
     "metadata": {},
     "output_type": "display_data"
    }
   ],
   "source": [
    "Kt = calc_Kt([3, 6, 2, 1], en)"
   ]
  },
  {
   "cell_type": "code",
   "execution_count": 72,
   "metadata": {},
   "outputs": [
    {
     "data": {
      "text/plain": [
       "Any[]"
      ]
     },
     "metadata": {},
     "output_type": "display_data"
    }
   ],
   "source": [
    "test_his = [3, 6, 2, 1]\n",
    "MV0 = []"
   ]
  },
  {
   "cell_type": "code",
   "execution_count": 73,
   "metadata": {},
   "outputs": [
    {
     "data": {
      "text/plain": [
       "4×4 Hermitian{ComplexF32, Matrix{ComplexF32}}:\n",
       " -2.0+0.0im   0.0+0.0im   0.0+0.0im  -0.7+0.0im\n",
       "  0.0-0.0im   1.0+0.0im  -0.7+0.0im   0.0+0.0im\n",
       "  0.0-0.0im  -0.7-0.0im   1.0+0.0im   0.0+0.0im\n",
       " -0.7-0.0im   0.0-0.0im   0.0-0.0im   0.0+0.0im"
      ]
     },
     "metadata": {},
     "output_type": "display_data"
    }
   ],
   "source": [
    "#A = pop!(test_his)\n",
    "push!(MV0, en.H_0)\n",
    "MV0[1]"
   ]
  },
  {
   "cell_type": "code",
   "execution_count": 75,
   "metadata": {},
   "outputs": [
    {
     "name": "stdout",
     "output_type": "stream",
     "text": [
      "MV0 = Any[ComplexF32[-2.0f0 + 0.0f0im 0.0f0 + 0.0f0im 0.0f0 + 0.0f0im -0.7f0 + 0.0f0im; 0.0f0 - 0.0f0im 1.0f0 + 0.0f0im -0.7f0 + 0.0f0im 0.0f0 + 0.0f0im; 0.0f0 - 0.0f0im -0.7f0 - 0.0f0im 1.0f0 + 0.0f0im 0.0f0 + 0.0f0im; -0.7f0 - 0.0f0im 0.0f0 - 0.0f0im 0.0f0 - 0.0f0im 0.0f0 + 0.0f0im], Sym[0 -0.200000002980232*sin(x) -0.200000002980232*sin(x) 0; -0.200000002980232*sin(x) 0 0 -0.200000002980232*sin(x); -0.200000002980232*sin(x) 0 0 -0.200000002980232*sin(x); 0 -0.200000002980232*sin(x) -0.200000002980232*sin(x) 0]]\n"
     ]
    },
    {
     "data": {
      "text/plain": [
       "2-element Vector{Any}:\n",
       " ComplexF32[-2.0f0 + 0.0f0im 0.0f0 + 0.0f0im 0.0f0 + 0.0f0im -0.7f0 + 0.0f0im; 0.0f0 - 0.0f0im 1.0f0 + 0.0f0im -0.7f0 + 0.0f0im 0.0f0 + 0.0f0im; 0.0f0 - 0.0f0im -0.7f0 - 0.0f0im 1.0f0 + 0.0f0im 0.0f0 + 0.0f0im; -0.7f0 - 0.0f0im 0.0f0 - 0.0f0im 0.0f0 - 0.0f0im 0.0f0 + 0.0f0im]\n",
       " Sym[0 -0.200000002980232*sin(x) -0.200000002980232*sin(x) 0; -0.200000002980232*sin(x) 0 0 -0.200000002980232*sin(x); -0.200000002980232*sin(x) 0 0 -0.200000002980232*sin(x); 0 -0.200000002980232*sin(x) -0.200000002980232*sin(x) 0]"
      ]
     },
     "metadata": {},
     "output_type": "display_data"
    }
   ],
   "source": [
    "push!(MV0, en.V_t*sx)\n",
    "@show MV0"
   ]
  },
  {
   "cell_type": "code",
   "execution_count": 77,
   "metadata": {},
   "outputs": [
    {
     "name": "stdout",
     "output_type": "stream",
     "text": [
      "MV0 = Any[ComplexF32[-2.0f0 + 0.0f0im 0.0f0 + 0.0f0im 0.0f0 + 0.0f0im -0.7f0 + 0.0f0im; 0.0f0 - 0.0f0im 1.0f0 + 0.0f0im -0.7f0 + 0.0f0im 0.0f0 + 0.0f0im; 0.0f0 - 0.0f0im -0.7f0 - 0.0f0im 1.0f0 + 0.0f0im 0.0f0 + 0.0f0im; -0.7f0 - 0.0f0im 0.0f0 - 0.0f0im 0.0f0 - 0.0f0im 0.0f0 + 0.0f0im], Sym[0 0.200000002980232*cos(x) - 0.200000002980232 0.200000002980232*cos(x) - 0.200000002980232 0; 0.200000002980232*cos(x) - 0.200000002980232 0 0 0.200000002980232*cos(x) - 0.200000002980232; 0.200000002980232*cos(x) - 0.200000002980232 0 0 0.200000002980232*cos(x) - 0.200000002980232; 0 0.200000002980232*cos(x) - 0.200000002980232 0.200000002980232*cos(x) - 0.200000002980232 0]]\n"
     ]
    },
    {
     "data": {
      "text/plain": [
       "2-element Vector{Any}:\n",
       " ComplexF32[-2.0f0 + 0.0f0im 0.0f0 + 0.0f0im 0.0f0 + 0.0f0im -0.7f0 + 0.0f0im; 0.0f0 - 0.0f0im 1.0f0 + 0.0f0im -0.7f0 + 0.0f0im 0.0f0 + 0.0f0im; 0.0f0 - 0.0f0im -0.7f0 - 0.0f0im 1.0f0 + 0.0f0im 0.0f0 + 0.0f0im; -0.7f0 - 0.0f0im 0.0f0 - 0.0f0im 0.0f0 - 0.0f0im 0.0f0 + 0.0f0im]\n",
       " Sym[0 0.200000002980232*cos(x) - 0.200000002980232 0.200000002980232*cos(x) - 0.200000002980232 0; 0.200000002980232*cos(x) - 0.200000002980232 0 0 0.200000002980232*cos(x) - 0.200000002980232; 0.200000002980232*cos(x) - 0.200000002980232 0 0 0.200000002980232*cos(x) - 0.200000002980232; 0 0.200000002980232*cos(x) - 0.200000002980232 0.200000002980232*cos(x) - 0.200000002980232 0]"
      ]
     },
     "metadata": {},
     "output_type": "display_data"
    }
   ],
   "source": [
    "A = pop!(MV0)\n",
    "B = A.integrate((x, 0, x))\n",
    "push!(MV0, B)\n",
    "@show MV0"
   ]
  },
  {
   "cell_type": "code",
   "execution_count": 78,
   "metadata": {},
   "outputs": [
    {
     "name": "stdout",
     "output_type": "stream",
     "text": [
      "MV0 = Any[Sym[-2.00000000000000 0.200000002980232*cos(x) - 0.200000002980232 0.200000002980232*cos(x) - 0.200000002980232 -0.699999988079071; 0.200000002980232*cos(x) - 0.200000002980232 1.00000000000000 -0.699999988079071 0.200000002980232*cos(x) - 0.200000002980232; 0.200000002980232*cos(x) - 0.200000002980232 -0.699999988079071 1.00000000000000 0.200000002980232*cos(x) - 0.200000002980232; -0.699999988079071 0.200000002980232*cos(x) - 0.200000002980232 0.200000002980232*cos(x) - 0.200000002980232 0]]\n"
     ]
    },
    {
     "data": {
      "text/plain": [
       "1-element Vector{Any}:\n",
       " Sym[-2.00000000000000 0.200000002980232*cos(x) - 0.200000002980232 0.200000002980232*cos(x) - 0.200000002980232 -0.699999988079071; 0.200000002980232*cos(x) - 0.200000002980232 1.00000000000000 -0.699999988079071 0.200000002980232*cos(x) - 0.200000002980232; 0.200000002980232*cos(x) - 0.200000002980232 -0.699999988079071 1.00000000000000 0.200000002980232*cos(x) - 0.200000002980232; -0.699999988079071 0.200000002980232*cos(x) - 0.200000002980232 0.200000002980232*cos(x) - 0.200000002980232 0]"
      ]
     },
     "metadata": {},
     "output_type": "display_data"
    }
   ],
   "source": [
    "A = pop!(MV0)\n",
    "B = pop!(MV0)\n",
    "C = A+B\n",
    "push!(MV0, C)\n",
    "@show MV0"
   ]
  },
  {
   "cell_type": "code",
   "execution_count": 79,
   "metadata": {},
   "outputs": [
    {
     "data": {
      "text/latex": [
       "$\\left[ \\begin{array}{rrrr}-2.0&0.200000002980232 \\cos{\\left(x \\right)} - 0.200000002980232&0.200000002980232 \\cos{\\left(x \\right)} - 0.200000002980232&-0.699999988079071\\\\0.200000002980232 \\cos{\\left(x \\right)} - 0.200000002980232&1.0&-0.699999988079071&0.200000002980232 \\cos{\\left(x \\right)} - 0.200000002980232\\\\0.200000002980232 \\cos{\\left(x \\right)} - 0.200000002980232&-0.699999988079071&1.0&0.200000002980232 \\cos{\\left(x \\right)} - 0.200000002980232\\\\-0.699999988079071&0.200000002980232 \\cos{\\left(x \\right)} - 0.200000002980232&0.200000002980232 \\cos{\\left(x \\right)} - 0.200000002980232&0\\end{array}\\right]$\n"
      ],
      "text/plain": [
       "4×4 Matrix{Sym}:\n",
       "                            -2.00000000000000  …                            -0.699999988079071\n",
       " 0.200000002980232*cos(x) - 0.200000002980232     0.200000002980232*cos(x) - 0.200000002980232\n",
       " 0.200000002980232*cos(x) - 0.200000002980232     0.200000002980232*cos(x) - 0.200000002980232\n",
       "                           -0.699999988079071                                                0"
      ]
     },
     "metadata": {},
     "output_type": "display_data"
    }
   ],
   "source": [
    "M = MV0[end]"
   ]
  },
  {
   "cell_type": "code",
   "execution_count": 80,
   "metadata": {},
   "outputs": [
    {
     "data": {
      "text/plain": [
       "1000-element Vector{Float64}:\n",
       " 0.0\n",
       " 0.0062831854447722435\n",
       " 0.012566370889544487\n",
       " 0.01884955633431673\n",
       " 0.025132741779088974\n",
       " 0.03141592722386122\n",
       " 0.03769911266863346\n",
       " 0.043982298113405704\n",
       " 0.05026548355817795\n",
       " 0.05654866900295019\n",
       " ⋮\n",
       " 6.226636775769293\n",
       " 6.2329199612140656\n",
       " 6.239203146658838\n",
       " 6.24548633210361\n",
       " 6.251769517548382\n",
       " 6.2580527029931545\n",
       " 6.264335888437927\n",
       " 6.270619073882699\n",
       " 6.276902259327471"
      ]
     },
     "metadata": {},
     "output_type": "display_data"
    }
   ],
   "source": [
    "t = collect(0:en.dt:2pi)"
   ]
  },
  {
   "cell_type": "code",
   "execution_count": 89,
   "metadata": {},
   "outputs": [
    {
     "data": {
      "text/plain": [
       "100-element Vector{Hermitian{Real, Matrix{Real}}}:\n",
       " [-2.0 0 0 -0.699999988079071; 0 1.0 -0.699999988079071 0; 0 -0.699999988079071 1.0 0; -0.699999988079071 0 0 0]\n",
       " [-2.0 -3.947829004313785e-6 -3.947829004313785e-6 -0.699999988079071; -3.947829004313785e-6 1.0 -0.699999988079071 -3.947829004313785e-6; -3.947829004313785e-6 -0.699999988079071 1.0 -3.947829004313785e-6; -0.699999988079071 -3.947829004313785e-6 -3.947829004313785e-6 0]\n",
       " [-2.0 -1.57911601636751e-5 -1.57911601636751e-5 -0.699999988079071; -1.57911601636751e-5 1.0 -0.699999988079071 -1.57911601636751e-5; -1.57911601636751e-5 -0.699999988079071 1.0 -1.57911601636751e-5; -0.699999988079071 -1.57911601636751e-5 -1.57911601636751e-5 0]\n",
       " [-2.0 -3.552952592367209e-5 -3.552952592367209e-5 -0.699999988079071; -3.552952592367209e-5 1.0 -0.699999988079071 -3.552952592367209e-5; -3.552952592367209e-5 -0.699999988079071 1.0 -3.552952592367209e-5; -0.699999988079071 -3.552952592367209e-5 -3.552952592367209e-5 0]\n",
       " [-2.0 -6.316214704737977e-5 -6.316214704737977e-5 -0.699999988079071; -6.316214704737977e-5 1.0 -0.699999988079071 -6.316214704737977e-5; -6.316214704737977e-5 -0.699999988079071 1.0 -6.316214704737977e-5; -0.699999988079071 -6.316214704737977e-5 -6.316214704737977e-5 0]\n",
       " [-2.0 -9.868793264614095e-5 -9.868793264614095e-5 -0.699999988079071; -9.868793264614095e-5 1.0 -0.699999988079071 -9.868793264614095e-5; -9.868793264614095e-5 -0.699999988079071 1.0 -9.868793264614095e-5; -0.699999988079071 -9.868793264614095e-5 -9.868793264614095e-5 0]\n",
       " [-2.0 -0.00014210548022275393 -0.00014210548022275393 -0.699999988079071; -0.00014210548022275393 1.0 -0.699999988079071 -0.00014210548022275393; -0.00014210548022275393 -0.699999988079071 1.0 -0.00014210548022275393; -0.699999988079071 -0.00014210548022275393 -0.00014210548022275393 0]\n",
       " [-2.0 -0.00019341307572670607 -0.00019341307572670607 -0.699999988079071; -0.00019341307572670607 1.0 -0.699999988079071 -0.00019341307572670607; -0.00019341307572670607 -0.699999988079071 1.0 -0.00019341307572670607; -0.699999988079071 -0.00019341307572670607 -0.00019341307572670607 0]\n",
       " [-2.0 -0.00025260869362186966 -0.00025260869362186966 -0.699999988079071; -0.00025260869362186966 1.0 -0.699999988079071 -0.00025260869362186966; -0.00025260869362186966 -0.699999988079071 1.0 -0.00025260869362186966; -0.699999988079071 -0.00025260869362186966 -0.00025260869362186966 0]\n",
       " [-2.0 -0.00031968999696649347 -0.00031968999696649347 -0.699999988079071; -0.00031968999696649347 1.0 -0.699999988079071 -0.00031968999696649347; -0.00031968999696649347 -0.699999988079071 1.0 -0.00031968999696649347; -0.699999988079071 -0.00031968999696649347 -0.00031968999696649347 0]\n",
       " ⋮\n",
       " [-2.0 -0.03181108536945676 -0.03181108536945676 -0.699999988079071; -0.03181108536945676 1.0 -0.699999988079071 -0.03181108536945676; -0.03181108536945676 -0.699999988079071 1.0 -0.03181108536945676; -0.699999988079071 -0.03181108536945676 -0.03181108536945676 0]\n",
       " [-2.0 -0.03249439385908512 -0.03249439385908512 -0.699999988079071; -0.03249439385908512 1.0 -0.699999988079071 -0.03249439385908512; -0.03249439385908512 -0.699999988079071 1.0 -0.03249439385908512; -0.699999988079071 -0.03249439385908512 -0.03249439385908512 0]\n",
       " [-2.0 -0.033184315183635626 -0.033184315183635626 -0.699999988079071; -0.033184315183635626 1.0 -0.699999988079071 -0.033184315183635626; -0.033184315183635626 -0.699999988079071 1.0 -0.033184315183635626; -0.699999988079071 -0.033184315183635626 -0.033184315183635626 0]\n",
       " [-2.0 -0.033880822106194586 -0.033880822106194586 -0.699999988079071; -0.033880822106194586 1.0 -0.699999988079071 -0.033880822106194586; -0.033880822106194586 -0.699999988079071 1.0 -0.033880822106194586; -0.699999988079071 -0.033880822106194586 -0.033880822106194586 0]\n",
       " [-2.0 -0.034583887129860075 -0.034583887129860075 -0.699999988079071; -0.034583887129860075 1.0 -0.699999988079071 -0.034583887129860075; -0.034583887129860075 -0.699999988079071 1.0 -0.034583887129860075; -0.699999988079071 -0.034583887129860075 -0.034583887129860075 0]\n",
       " [-2.0 -0.035293482498827605 -0.035293482498827605 -0.699999988079071; -0.035293482498827605 1.0 -0.699999988079071 -0.035293482498827605; -0.035293482498827605 -0.699999988079071 1.0 -0.035293482498827605; -0.699999988079071 -0.035293482498827605 -0.035293482498827605 0]\n",
       " [-2.0 -0.036009580199485774 -0.036009580199485774 -0.699999988079071; -0.036009580199485774 1.0 -0.699999988079071 -0.036009580199485774; -0.036009580199485774 -0.699999988079071 1.0 -0.036009580199485774; -0.699999988079071 -0.036009580199485774 -0.036009580199485774 0]\n",
       " [-2.0 -0.03673215196152227 -0.03673215196152227 -0.699999988079071; -0.03673215196152227 1.0 -0.699999988079071 -0.03673215196152227; -0.03673215196152227 -0.699999988079071 1.0 -0.03673215196152227; -0.699999988079071 -0.03673215196152227 -0.03673215196152227 0]\n",
       " [-2.0 -0.03746116925903997 -0.03746116925903997 -0.699999988079071; -0.03746116925903997 1.0 -0.699999988079071 -0.03746116925903997; -0.03746116925903997 -0.699999988079071 1.0 -0.03746116925903997; -0.699999988079071 -0.03746116925903997 -0.03746116925903997 0]"
      ]
     },
     "metadata": {},
     "output_type": "display_data"
    }
   ],
   "source": [
    "[Hermitian(N(M.subs(x, t[i]))) for i in 1:en.t_step]"
   ]
  },
  {
   "cell_type": "code",
   "execution_count": null,
   "metadata": {},
   "outputs": [],
   "source": []
  }
 ],
 "metadata": {
  "kernelspec": {
   "display_name": "Julia 1.9.0",
   "language": "julia",
   "name": "julia-1.9"
  },
  "language_info": {
   "file_extension": ".jl",
   "mimetype": "application/julia",
   "name": "julia",
   "version": "1.9.0"
  },
  "orig_nbformat": 4
 },
 "nbformat": 4,
 "nbformat_minor": 2
}
