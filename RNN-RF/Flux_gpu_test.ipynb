{
 "cells": [
  {
   "cell_type": "code",
   "execution_count": 1,
   "metadata": {},
   "outputs": [],
   "source": [
    "using StatsBase"
   ]
  },
  {
   "cell_type": "code",
   "execution_count": 2,
   "metadata": {},
   "outputs": [
    {
     "data": {
      "text/plain": [
       "3-element Vector{Vector{Int64}}:\n",
       " [2, 3, 5]\n",
       " [1]\n",
       " [4, 6, 7, 8, 9, 3, 2, 1, 1, 3]"
      ]
     },
     "metadata": {},
     "output_type": "display_data"
    }
   ],
   "source": [
    "buf = [[2,3,5], [1], [4,6,7,8,9,3, 2, 1, 1, 3]]"
   ]
  },
  {
   "cell_type": "code",
   "execution_count": 5,
   "metadata": {},
   "outputs": [
    {
     "data": {
      "text/plain": [
       "8-element Vector{Vector{Int64}}:\n",
       " [2, 3, 5]\n",
       " [2, 3, 5]\n",
       " [4, 6, 7, 8, 9, 3, 2, 1, 1, 3]\n",
       " [4, 6, 7, 8, 9, 3, 2, 1, 1, 3]\n",
       " [4, 6, 7, 8, 9, 3, 2, 1, 1, 3]\n",
       " [1]\n",
       " [4, 6, 7, 8, 9, 3, 2, 1, 1, 3]\n",
       " [4, 6, 7, 8, 9, 3, 2, 1, 1, 3]"
      ]
     },
     "metadata": {},
     "output_type": "display_data"
    }
   ],
   "source": [
    "test = sample(buf, weights([length(a) for a in buf]), 8, replace=true)"
   ]
  },
  {
   "cell_type": "code",
   "execution_count": 8,
   "metadata": {},
   "outputs": [],
   "source": [
    "using LinearAlgebra\n",
    "using Flux\n",
    "using CUDA"
   ]
  },
  {
   "cell_type": "code",
   "execution_count": 9,
   "metadata": {},
   "outputs": [
    {
     "data": {
      "text/plain": [
       "true"
      ]
     },
     "metadata": {},
     "output_type": "display_data"
    }
   ],
   "source": [
    "CUDA.functional()"
   ]
  },
  {
   "cell_type": "code",
   "execution_count": 12,
   "metadata": {},
   "outputs": [
    {
     "data": {
      "text/plain": [
       "16"
      ]
     },
     "metadata": {},
     "output_type": "display_data"
    }
   ],
   "source": [
    "input = 60\n",
    "middle = 256\n",
    "output = 7\n",
    "depth = 16"
   ]
  },
  {
   "cell_type": "code",
   "execution_count": 10,
   "metadata": {},
   "outputs": [
    {
     "data": {
      "text/plain": [
       "tanh2 (generic function with 1 method)"
      ]
     },
     "metadata": {},
     "output_type": "display_data"
    }
   ],
   "source": [
    "tanh10(x) = Float32(10)*tanh(x)\n",
    "tanh2(x) = Float32(2)*tanh(x)"
   ]
  },
  {
   "cell_type": "code",
   "execution_count": 13,
   "metadata": {},
   "outputs": [
    {
     "data": {
      "text/plain": [
       "Chain(\n",
       "  Dense(60 => 256),                     \u001b[90m# 15_616 parameters\u001b[39m\n",
       "  Chain(\n",
       "    Parallel(\n",
       "      +,\n",
       "      Chain(\n",
       "        BatchNorm(256),                 \u001b[90m# 512 parameters\u001b[39m\u001b[90m, plus 512\u001b[39m\n",
       "        Dense(256 => 256, relu),        \u001b[90m# 65_792 parameters\u001b[39m\n",
       "      ),\n",
       "      Dense(256 => 256, relu),          \u001b[90m# 65_792 parameters\u001b[39m\n",
       "    ),\n",
       "    identity,\n",
       "  ),\n",
       "  Chain(\n",
       "    Parallel(\n",
       "      +,\n",
       "      Chain(\n",
       "        BatchNorm(256),                 \u001b[90m# 512 parameters\u001b[39m\u001b[90m, plus 512\u001b[39m\n",
       "        Dense(256 => 256, relu),        \u001b[90m# 65_792 parameters\u001b[39m\n",
       "      ),\n",
       "      Dense(256 => 256, relu),          \u001b[90m# 65_792 parameters\u001b[39m\n",
       "    ),\n",
       "    identity,\n",
       "  ),\n",
       "  Chain(\n",
       "    Parallel(\n",
       "      +,\n",
       "      Chain(\n",
       "        BatchNorm(256),                 \u001b[90m# 512 parameters\u001b[39m\u001b[90m, plus 512\u001b[39m\n",
       "        Dense(256 => 256, relu),        \u001b[90m# 65_792 parameters\u001b[39m\n",
       "      ),\n",
       "      Dense(256 => 256, relu),          \u001b[90m# 65_792 parameters\u001b[39m\n",
       "    ),\n",
       "    identity,\n",
       "  ),\n",
       "  Chain(\n",
       "    Parallel(\n",
       "      +,\n",
       "      Chain(\n",
       "        BatchNorm(256),                 \u001b[90m# 512 parameters\u001b[39m\u001b[90m, plus 512\u001b[39m\n",
       "        Dense(256 => 256, relu),        \u001b[90m# 65_792 parameters\u001b[39m\n",
       "      ),\n",
       "      Dense(256 => 256, relu),          \u001b[90m# 65_792 parameters\u001b[39m\n",
       "    ),\n",
       "    identity,\n",
       "  ),\n",
       "  Chain(\n",
       "    Parallel(\n",
       "      +,\n",
       "      Chain(\n",
       "        BatchNorm(256),                 \u001b[90m# 512 parameters\u001b[39m\u001b[90m, plus 512\u001b[39m\n",
       "        Dense(256 => 256, relu),        \u001b[90m# 65_792 parameters\u001b[39m\n",
       "      ),\n",
       "      Dense(256 => 256, relu),          \u001b[90m# 65_792 parameters\u001b[39m\n",
       "    ),\n",
       "    identity,\n",
       "  ),\n",
       "  Chain(\n",
       "    Parallel(\n",
       "      +,\n",
       "      Chain(\n",
       "        BatchNorm(256),                 \u001b[90m# 512 parameters\u001b[39m\u001b[90m, plus 512\u001b[39m\n",
       "        Dense(256 => 256, relu),        \u001b[90m# 65_792 parameters\u001b[39m\n",
       "      ),\n",
       "      Dense(256 => 256, relu),          \u001b[90m# 65_792 parameters\u001b[39m\n",
       "    ),\n",
       "    identity,\n",
       "  ),\n",
       "  Chain(\n",
       "    Parallel(\n",
       "      +,\n",
       "      Chain(\n",
       "        BatchNorm(256),                 \u001b[90m# 512 parameters\u001b[39m\u001b[90m, plus 512\u001b[39m\n",
       "        Dense(256 => 256, relu),        \u001b[90m# 65_792 parameters\u001b[39m\n",
       "      ),\n",
       "      Dense(256 => 256, relu),          \u001b[90m# 65_792 parameters\u001b[39m\n",
       "    ),\n",
       "    identity,\n",
       "  ),\n",
       "  Chain(\n",
       "    Parallel(\n",
       "      +,\n",
       "      Chain(\n",
       "        BatchNorm(256),                 \u001b[90m# 512 parameters\u001b[39m\u001b[90m, plus 512\u001b[39m\n",
       "        Dense(256 => 256, relu),        \u001b[90m# 65_792 parameters\u001b[39m\n",
       "      ),\n",
       "      Dense(256 => 256, relu),          \u001b[90m# 65_792 parameters\u001b[39m\n",
       "    ),\n",
       "    identity,\n",
       "  ),\n",
       "  Chain(\n",
       "    Parallel(\n",
       "      +,\n",
       "      Chain(\n",
       "        BatchNorm(256),                 \u001b[90m# 512 parameters\u001b[39m\u001b[90m, plus 512\u001b[39m\n",
       "        Dense(256 => 256, relu),        \u001b[90m# 65_792 parameters\u001b[39m\n",
       "      ),\n",
       "      Dense(256 => 256, relu),          \u001b[90m# 65_792 parameters\u001b[39m\n",
       "    ),\n",
       "    identity,\n",
       "  ),\n",
       "  Chain(\n",
       "    Parallel(\n",
       "      +,\n",
       "      Chain(\n",
       "        BatchNorm(256),                 \u001b[90m# 512 parameters\u001b[39m\u001b[90m, plus 512\u001b[39m\n",
       "        Dense(256 => 256, relu),        \u001b[90m# 65_792 parameters\u001b[39m\n",
       "      ),\n",
       "      Dense(256 => 256, relu),          \u001b[90m# 65_792 parameters\u001b[39m\n",
       "    ),\n",
       "    identity,\n",
       "  ),\n",
       "  Chain(\n",
       "    Parallel(\n",
       "      +,\n",
       "      Chain(\n",
       "        BatchNorm(256),                 \u001b[90m# 512 parameters\u001b[39m\u001b[90m, plus 512\u001b[39m\n",
       "        Dense(256 => 256, relu),        \u001b[90m# 65_792 parameters\u001b[39m\n",
       "      ),\n",
       "      Dense(256 => 256, relu),          \u001b[90m# 65_792 parameters\u001b[39m\n",
       "    ),\n",
       "    identity,\n",
       "  ),\n",
       "  Chain(\n",
       "    Parallel(\n",
       "      +,\n",
       "      Chain(\n",
       "        BatchNorm(256),                 \u001b[90m# 512 parameters\u001b[39m\u001b[90m, plus 512\u001b[39m\n",
       "        Dense(256 => 256, relu),        \u001b[90m# 65_792 parameters\u001b[39m\n",
       "      ),\n",
       "      Dense(256 => 256, relu),          \u001b[90m# 65_792 parameters\u001b[39m\n",
       "    ),\n",
       "    identity,\n",
       "  ),\n",
       "  Chain(\n",
       "    Parallel(\n",
       "      +,\n",
       "      Chain(\n",
       "        BatchNorm(256),                 \u001b[90m# 512 parameters\u001b[39m\u001b[90m, plus 512\u001b[39m\n",
       "        Dense(256 => 256, relu),        \u001b[90m# 65_792 parameters\u001b[39m\n",
       "      ),\n",
       "      Dense(256 => 256, relu),          \u001b[90m# 65_792 parameters\u001b[39m\n",
       "    ),\n",
       "    identity,\n",
       "  ),\n",
       "  Chain(\n",
       "    Parallel(\n",
       "      +,\n",
       "      Chain(\n",
       "        BatchNorm(256),                 \u001b[90m# 512 parameters\u001b[39m\u001b[90m, plus 512\u001b[39m\n",
       "        Dense(256 => 256, relu),        \u001b[90m# 65_792 parameters\u001b[39m\n",
       "      ),\n",
       "      Dense(256 => 256, relu),          \u001b[90m# 65_792 parameters\u001b[39m\n",
       "    ),\n",
       "    identity,\n",
       "  ),\n",
       "  Chain(\n",
       "    Parallel(\n",
       "      +,\n",
       "      Chain(\n",
       "        BatchNorm(256),                 \u001b[90m# 512 parameters\u001b[39m\u001b[90m, plus 512\u001b[39m\n",
       "        Dense(256 => 256, relu),        \u001b[90m# 65_792 parameters\u001b[39m\n",
       "      ),\n",
       "      Dense(256 => 256, relu),          \u001b[90m# 65_792 parameters\u001b[39m\n",
       "    ),\n",
       "    identity,\n",
       "  ),\n",
       "  Chain(\n",
       "    Parallel(\n",
       "      +,\n",
       "      Chain(\n",
       "        BatchNorm(256),                 \u001b[90m# 512 parameters\u001b[39m\u001b[90m, plus 512\u001b[39m\n",
       "        Dense(256 => 256, relu),        \u001b[90m# 65_792 parameters\u001b[39m\n",
       "      ),\n",
       "      Dense(256 => 256, relu),          \u001b[90m# 65_792 parameters\u001b[39m\n",
       "    ),\n",
       "    identity,\n",
       "  ),\n",
       "  Flux.flatten,\n",
       "  Parallel(\n",
       "    vcat,\n",
       "    Chain(\n",
       "      Dense(256 => 256, relu),          \u001b[90m# 65_792 parameters\u001b[39m\n",
       "      Dense(256 => 7),                  \u001b[90m# 1_799 parameters\u001b[39m\n",
       "    ),\n",
       "    Dense(256 => 1, tanh10),            \u001b[90m# 257 parameters\u001b[39m\n",
       "  ),\n",
       ") \u001b[90m        # Total: 104 trainable arrays, \u001b[39m2_197_000 parameters,\n",
       "\u001b[90m          # plus 32 non-trainable, 8_192 parameters, summarysize \u001b[39m8.423 MiB."
      ]
     },
     "metadata": {},
     "output_type": "display_data"
    }
   ],
   "source": [
    "#model_cpu = Chain(Dense(input, middle), [Chain(Parallel(+, Chain(BatchNorm(middle), Dense(middle, middle, relu)),Dense(middle, middle, relu)), identity) for i in 1:depth], Base.Flatten , Parallel(vcat,Chain(Dense(middle, middle, tanh),Dense(middle, output)), Dense(middle, 1)))\n",
    "model_cpu = Chain(Dense(input, middle), Tuple(Chain(Parallel(+, Chain(BatchNorm(middle), Dense(middle, middle, relu)),Dense(middle, middle, relu)), identity) for i in 1:depth)..., Flux.flatten , Parallel(vcat,Chain(Dense(middle, middle, relu),Dense(middle, output)), Dense(middle, 1, tanh10)))"
   ]
  },
  {
   "cell_type": "code",
   "execution_count": 14,
   "metadata": {},
   "outputs": [
    {
     "data": {
      "text/plain": [
       "Chain(\n",
       "  Dense(60 => 256),                     \u001b[90m# 15_616 parameters\u001b[39m\n",
       "  Chain(\n",
       "    Parallel(\n",
       "      +,\n",
       "      Chain(\n",
       "        BatchNorm(256),                 \u001b[90m# 512 parameters\u001b[39m\u001b[90m, plus 512\u001b[39m\n",
       "        Dense(256 => 256, relu),        \u001b[90m# 65_792 parameters\u001b[39m\n",
       "      ),\n",
       "      Dense(256 => 256, relu),          \u001b[90m# 65_792 parameters\u001b[39m\n",
       "    ),\n",
       "    identity,\n",
       "  ),\n",
       "  Chain(\n",
       "    Parallel(\n",
       "      +,\n",
       "      Chain(\n",
       "        BatchNorm(256),                 \u001b[90m# 512 parameters\u001b[39m\u001b[90m, plus 512\u001b[39m\n",
       "        Dense(256 => 256, relu),        \u001b[90m# 65_792 parameters\u001b[39m\n",
       "      ),\n",
       "      Dense(256 => 256, relu),          \u001b[90m# 65_792 parameters\u001b[39m\n",
       "    ),\n",
       "    identity,\n",
       "  ),\n",
       "  Chain(\n",
       "    Parallel(\n",
       "      +,\n",
       "      Chain(\n",
       "        BatchNorm(256),                 \u001b[90m# 512 parameters\u001b[39m\u001b[90m, plus 512\u001b[39m\n",
       "        Dense(256 => 256, relu),        \u001b[90m# 65_792 parameters\u001b[39m\n",
       "      ),\n",
       "      Dense(256 => 256, relu),          \u001b[90m# 65_792 parameters\u001b[39m\n",
       "    ),\n",
       "    identity,\n",
       "  ),\n",
       "  Chain(\n",
       "    Parallel(\n",
       "      +,\n",
       "      Chain(\n",
       "        BatchNorm(256),                 \u001b[90m# 512 parameters\u001b[39m\u001b[90m, plus 512\u001b[39m\n",
       "        Dense(256 => 256, relu),        \u001b[90m# 65_792 parameters\u001b[39m\n",
       "      ),\n",
       "      Dense(256 => 256, relu),          \u001b[90m# 65_792 parameters\u001b[39m\n",
       "    ),\n",
       "    identity,\n",
       "  ),\n",
       "  Chain(\n",
       "    Parallel(\n",
       "      +,\n",
       "      Chain(\n",
       "        BatchNorm(256),                 \u001b[90m# 512 parameters\u001b[39m\u001b[90m, plus 512\u001b[39m\n",
       "        Dense(256 => 256, relu),        \u001b[90m# 65_792 parameters\u001b[39m\n",
       "      ),\n",
       "      Dense(256 => 256, relu),          \u001b[90m# 65_792 parameters\u001b[39m\n",
       "    ),\n",
       "    identity,\n",
       "  ),\n",
       "  Chain(\n",
       "    Parallel(\n",
       "      +,\n",
       "      Chain(\n",
       "        BatchNorm(256),                 \u001b[90m# 512 parameters\u001b[39m\u001b[90m, plus 512\u001b[39m\n",
       "        Dense(256 => 256, relu),        \u001b[90m# 65_792 parameters\u001b[39m\n",
       "      ),\n",
       "      Dense(256 => 256, relu),          \u001b[90m# 65_792 parameters\u001b[39m\n",
       "    ),\n",
       "    identity,\n",
       "  ),\n",
       "  Chain(\n",
       "    Parallel(\n",
       "      +,\n",
       "      Chain(\n",
       "        BatchNorm(256),                 \u001b[90m# 512 parameters\u001b[39m\u001b[90m, plus 512\u001b[39m\n",
       "        Dense(256 => 256, relu),        \u001b[90m# 65_792 parameters\u001b[39m\n",
       "      ),\n",
       "      Dense(256 => 256, relu),          \u001b[90m# 65_792 parameters\u001b[39m\n",
       "    ),\n",
       "    identity,\n",
       "  ),\n",
       "  Chain(\n",
       "    Parallel(\n",
       "      +,\n",
       "      Chain(\n",
       "        BatchNorm(256),                 \u001b[90m# 512 parameters\u001b[39m\u001b[90m, plus 512\u001b[39m\n",
       "        Dense(256 => 256, relu),        \u001b[90m# 65_792 parameters\u001b[39m\n",
       "      ),\n",
       "      Dense(256 => 256, relu),          \u001b[90m# 65_792 parameters\u001b[39m\n",
       "    ),\n",
       "    identity,\n",
       "  ),\n",
       "  Chain(\n",
       "    Parallel(\n",
       "      +,\n",
       "      Chain(\n",
       "        BatchNorm(256),                 \u001b[90m# 512 parameters\u001b[39m\u001b[90m, plus 512\u001b[39m\n",
       "        Dense(256 => 256, relu),        \u001b[90m# 65_792 parameters\u001b[39m\n",
       "      ),\n",
       "      Dense(256 => 256, relu),          \u001b[90m# 65_792 parameters\u001b[39m\n",
       "    ),\n",
       "    identity,\n",
       "  ),\n",
       "  Chain(\n",
       "    Parallel(\n",
       "      +,\n",
       "      Chain(\n",
       "        BatchNorm(256),                 \u001b[90m# 512 parameters\u001b[39m\u001b[90m, plus 512\u001b[39m\n",
       "        Dense(256 => 256, relu),        \u001b[90m# 65_792 parameters\u001b[39m\n",
       "      ),\n",
       "      Dense(256 => 256, relu),          \u001b[90m# 65_792 parameters\u001b[39m\n",
       "    ),\n",
       "    identity,\n",
       "  ),\n",
       "  Chain(\n",
       "    Parallel(\n",
       "      +,\n",
       "      Chain(\n",
       "        BatchNorm(256),                 \u001b[90m# 512 parameters\u001b[39m\u001b[90m, plus 512\u001b[39m\n",
       "        Dense(256 => 256, relu),        \u001b[90m# 65_792 parameters\u001b[39m\n",
       "      ),\n",
       "      Dense(256 => 256, relu),          \u001b[90m# 65_792 parameters\u001b[39m\n",
       "    ),\n",
       "    identity,\n",
       "  ),\n",
       "  Chain(\n",
       "    Parallel(\n",
       "      +,\n",
       "      Chain(\n",
       "        BatchNorm(256),                 \u001b[90m# 512 parameters\u001b[39m\u001b[90m, plus 512\u001b[39m\n",
       "        Dense(256 => 256, relu),        \u001b[90m# 65_792 parameters\u001b[39m\n",
       "      ),\n",
       "      Dense(256 => 256, relu),          \u001b[90m# 65_792 parameters\u001b[39m\n",
       "    ),\n",
       "    identity,\n",
       "  ),\n",
       "  Chain(\n",
       "    Parallel(\n",
       "      +,\n",
       "      Chain(\n",
       "        BatchNorm(256),                 \u001b[90m# 512 parameters\u001b[39m\u001b[90m, plus 512\u001b[39m\n",
       "        Dense(256 => 256, relu),        \u001b[90m# 65_792 parameters\u001b[39m\n",
       "      ),\n",
       "      Dense(256 => 256, relu),          \u001b[90m# 65_792 parameters\u001b[39m\n",
       "    ),\n",
       "    identity,\n",
       "  ),\n",
       "  Chain(\n",
       "    Parallel(\n",
       "      +,\n",
       "      Chain(\n",
       "        BatchNorm(256),                 \u001b[90m# 512 parameters\u001b[39m\u001b[90m, plus 512\u001b[39m\n",
       "        Dense(256 => 256, relu),        \u001b[90m# 65_792 parameters\u001b[39m\n",
       "      ),\n",
       "      Dense(256 => 256, relu),          \u001b[90m# 65_792 parameters\u001b[39m\n",
       "    ),\n",
       "    identity,\n",
       "  ),\n",
       "  Chain(\n",
       "    Parallel(\n",
       "      +,\n",
       "      Chain(\n",
       "        BatchNorm(256),                 \u001b[90m# 512 parameters\u001b[39m\u001b[90m, plus 512\u001b[39m\n",
       "        Dense(256 => 256, relu),        \u001b[90m# 65_792 parameters\u001b[39m\n",
       "      ),\n",
       "      Dense(256 => 256, relu),          \u001b[90m# 65_792 parameters\u001b[39m\n",
       "    ),\n",
       "    identity,\n",
       "  ),\n",
       "  Chain(\n",
       "    Parallel(\n",
       "      +,\n",
       "      Chain(\n",
       "        BatchNorm(256),                 \u001b[90m# 512 parameters\u001b[39m\u001b[90m, plus 512\u001b[39m\n",
       "        Dense(256 => 256, relu),        \u001b[90m# 65_792 parameters\u001b[39m\n",
       "      ),\n",
       "      Dense(256 => 256, relu),          \u001b[90m# 65_792 parameters\u001b[39m\n",
       "    ),\n",
       "    identity,\n",
       "  ),\n",
       "  Flux.flatten,\n",
       "  Parallel(\n",
       "    vcat,\n",
       "    Chain(\n",
       "      Dense(256 => 256, relu),          \u001b[90m# 65_792 parameters\u001b[39m\n",
       "      Dense(256 => 7),                  \u001b[90m# 1_799 parameters\u001b[39m\n",
       "    ),\n",
       "    Dense(256 => 1, tanh10),            \u001b[90m# 257 parameters\u001b[39m\n",
       "  ),\n",
       ") \u001b[90m        # Total: 104 trainable arrays, \u001b[39m2_197_000 parameters,\n",
       "\u001b[90m          # plus 32 non-trainable, 8_192 parameters, summarysize \u001b[39m21.391 KiB."
      ]
     },
     "metadata": {},
     "output_type": "display_data"
    }
   ],
   "source": [
    "model_gpu = gpu(model_cpu)"
   ]
  },
  {
   "cell_type": "code",
   "execution_count": 15,
   "metadata": {},
   "outputs": [
    {
     "data": {
      "text/plain": [
       "60×100 CuArray{Float32, 2, CUDA.Mem.DeviceBuffer}:\n",
       " 0.143417   0.661526   0.300275  …  0.21115    0.390488  0.412317\n",
       " 0.0827365  0.357492   0.675625     0.706847   0.953116  0.952325\n",
       " 0.41502    0.711086   0.285852     0.840857   0.211019  0.0876541\n",
       " 0.213793   0.419338   0.166268     0.724749   0.812207  0.305395\n",
       " 0.837255   0.315357   0.348232     0.381508   0.580714  0.222859\n",
       " 0.884044   0.75536    0.151499  …  0.392569   0.569844  0.438391\n",
       " 0.0397006  0.943632   0.973726     0.792938   0.252825  0.194502\n",
       " 0.755032   0.0695049  0.917548     0.576288   0.987549  0.134156\n",
       " 0.731111   0.179743   0.504391     0.713739   0.322203  0.0667186\n",
       " 0.181318   0.882143   0.160419     0.450602   0.247288  0.999009\n",
       " ⋮                               ⋱                       \n",
       " 0.575558   0.327496   0.791497     0.795949   0.285617  0.498383\n",
       " 0.540626   0.16058    0.277133     0.474717   0.76029   0.38376\n",
       " 0.567841   0.955849   0.896216     0.728827   0.993513  0.189484\n",
       " 0.980667   0.114096   0.59349      0.707117   0.209112  0.488832\n",
       " 0.68795    0.81121    0.289073  …  0.0745723  0.226768  0.695025\n",
       " 0.257663   0.719125   0.960669     0.921068   0.220726  0.00192869\n",
       " 0.618788   0.960808   0.219223     0.515775   0.282581  0.59917\n",
       " 0.957074   0.756547   0.81397      0.953127   0.932897  0.549307\n",
       " 0.410456   0.935471   0.756597     0.482169   0.092729  0.868737"
      ]
     },
     "metadata": {},
     "output_type": "display_data"
    }
   ],
   "source": [
    "input_cpu = rand(Float32, input, 100)\n",
    "input_gpu = gpu(input_cpu)"
   ]
  },
  {
   "cell_type": "code",
   "execution_count": 17,
   "metadata": {},
   "outputs": [],
   "source": [
    "using BenchmarkTools"
   ]
  },
  {
   "cell_type": "code",
   "execution_count": 18,
   "metadata": {},
   "outputs": [
    {
     "data": {
      "text/plain": [
       "BenchmarkTools.Trial: 821 samples with 1 evaluation.\n",
       " Range \u001b[90m(\u001b[39m\u001b[36m\u001b[1mmin\u001b[22m\u001b[39m … \u001b[35mmax\u001b[39m\u001b[90m):  \u001b[39m\u001b[36m\u001b[1m5.325 ms\u001b[22m\u001b[39m … \u001b[35m17.850 ms\u001b[39m  \u001b[90m┊\u001b[39m GC \u001b[90m(\u001b[39mmin … max\u001b[90m): \u001b[39m0.00% …  0.00%\n",
       " Time  \u001b[90m(\u001b[39m\u001b[34m\u001b[1mmedian\u001b[22m\u001b[39m\u001b[90m):     \u001b[39m\u001b[34m\u001b[1m5.514 ms              \u001b[22m\u001b[39m\u001b[90m┊\u001b[39m GC \u001b[90m(\u001b[39mmedian\u001b[90m):    \u001b[39m0.00%\n",
       " Time  \u001b[90m(\u001b[39m\u001b[32m\u001b[1mmean\u001b[22m\u001b[39m ± \u001b[32mσ\u001b[39m\u001b[90m):   \u001b[39m\u001b[32m\u001b[1m6.086 ms\u001b[22m\u001b[39m ± \u001b[32m 1.190 ms\u001b[39m  \u001b[90m┊\u001b[39m GC \u001b[90m(\u001b[39mmean ± σ\u001b[90m):  \u001b[39m8.66% ± 12.39%\n",
       "\n",
       "  \u001b[39m \u001b[39m \u001b[39m▁\u001b[39m█\u001b[34m \u001b[39m\u001b[39m \u001b[39m \u001b[39m \u001b[39m \u001b[39m \u001b[39m \u001b[39m \u001b[39m \u001b[39m \u001b[39m \u001b[32m \u001b[39m\u001b[39m \u001b[39m \u001b[39m \u001b[39m \u001b[39m \u001b[39m \u001b[39m \u001b[39m \u001b[39m \u001b[39m \u001b[39m \u001b[39m \u001b[39m \u001b[39m \u001b[39m \u001b[39m \u001b[39m \u001b[39m \u001b[39m \u001b[39m \u001b[39m \u001b[39m \u001b[39m \u001b[39m \u001b[39m \u001b[39m \u001b[39m \u001b[39m \u001b[39m \u001b[39m \u001b[39m \u001b[39m \u001b[39m \u001b[39m \u001b[39m \u001b[39m \u001b[39m \u001b[39m \u001b[39m \u001b[39m \u001b[39m \u001b[39m \u001b[39m \u001b[39m \n",
       "  \u001b[39m▅\u001b[39m▅\u001b[39m█\u001b[39m█\u001b[34m▇\u001b[39m\u001b[39m▄\u001b[39m▃\u001b[39m▄\u001b[39m▂\u001b[39m▂\u001b[39m▂\u001b[39m▂\u001b[39m▂\u001b[39m▁\u001b[39m▂\u001b[32m▁\u001b[39m\u001b[39m▂\u001b[39m▂\u001b[39m▁\u001b[39m▁\u001b[39m▁\u001b[39m▁\u001b[39m▁\u001b[39m▁\u001b[39m▁\u001b[39m▁\u001b[39m▁\u001b[39m▁\u001b[39m▁\u001b[39m▁\u001b[39m▁\u001b[39m▁\u001b[39m▁\u001b[39m▁\u001b[39m▁\u001b[39m▁\u001b[39m▁\u001b[39m▁\u001b[39m▁\u001b[39m▁\u001b[39m▁\u001b[39m▁\u001b[39m▁\u001b[39m▁\u001b[39m▁\u001b[39m▁\u001b[39m▁\u001b[39m▂\u001b[39m▂\u001b[39m▄\u001b[39m▄\u001b[39m▅\u001b[39m▄\u001b[39m▃\u001b[39m▂\u001b[39m▂\u001b[39m▂\u001b[39m▂\u001b[39m \u001b[39m▂\n",
       "  5.33 ms\u001b[90m        Histogram: frequency by time\u001b[39m         8.2 ms \u001b[0m\u001b[1m<\u001b[22m\n",
       "\n",
       " Memory estimate\u001b[90m: \u001b[39m\u001b[33m9.84 MiB\u001b[39m, allocs estimate\u001b[90m: \u001b[39m\u001b[33m397\u001b[39m."
      ]
     },
     "metadata": {},
     "output_type": "display_data"
    }
   ],
   "source": [
    "@benchmark model_cpu(input_cpu)"
   ]
  },
  {
   "cell_type": "code",
   "execution_count": 19,
   "metadata": {},
   "outputs": [
    {
     "data": {
      "text/plain": [
       "BenchmarkTools.Trial: 3660 samples with 1 evaluation.\n",
       " Range \u001b[90m(\u001b[39m\u001b[36m\u001b[1mmin\u001b[22m\u001b[39m … \u001b[35mmax\u001b[39m\u001b[90m):  \u001b[39m\u001b[36m\u001b[1m1.159 ms\u001b[22m\u001b[39m … \u001b[35m71.857 ms\u001b[39m  \u001b[90m┊\u001b[39m GC \u001b[90m(\u001b[39mmin … max\u001b[90m): \u001b[39m0.00% … 22.89%\n",
       " Time  \u001b[90m(\u001b[39m\u001b[34m\u001b[1mmedian\u001b[22m\u001b[39m\u001b[90m):     \u001b[39m\u001b[34m\u001b[1m1.225 ms              \u001b[22m\u001b[39m\u001b[90m┊\u001b[39m GC \u001b[90m(\u001b[39mmedian\u001b[90m):    \u001b[39m0.00%\n",
       " Time  \u001b[90m(\u001b[39m\u001b[32m\u001b[1mmean\u001b[22m\u001b[39m ± \u001b[32mσ\u001b[39m\u001b[90m):   \u001b[39m\u001b[32m\u001b[1m1.363 ms\u001b[22m\u001b[39m ± \u001b[32m 3.004 ms\u001b[39m  \u001b[90m┊\u001b[39m GC \u001b[90m(\u001b[39mmean ± σ\u001b[90m):  \u001b[39m2.15% ±  0.96%\n",
       "\n",
       "  \u001b[39m \u001b[39m \u001b[39m \u001b[39m \u001b[39m \u001b[39m \u001b[39m \u001b[39m \u001b[39m \u001b[39m \u001b[39m \u001b[39m \u001b[39m \u001b[39m \u001b[39m▃\u001b[39m▃\u001b[39m▄\u001b[39m▆\u001b[39m▆\u001b[39m▇\u001b[39m█\u001b[39m█\u001b[39m█\u001b[34m█\u001b[39m\u001b[39m▇\u001b[39m▆\u001b[39m▆\u001b[39m▅\u001b[39m▄\u001b[39m▂\u001b[39m▂\u001b[39m▁\u001b[39m▁\u001b[39m \u001b[39m \u001b[39m \u001b[39m \u001b[39m \u001b[39m \u001b[39m \u001b[39m \u001b[39m▁\u001b[39m \u001b[39m▂\u001b[39m▁\u001b[39m \u001b[39m▁\u001b[39m \u001b[39m▁\u001b[39m \u001b[39m \u001b[39m▁\u001b[39m \u001b[39m \u001b[39m \u001b[39m \u001b[39m \u001b[39m \u001b[39m \u001b[39m▂\n",
       "  \u001b[39m▅\u001b[39m▆\u001b[39m▄\u001b[39m▅\u001b[39m▅\u001b[39m▅\u001b[39m▄\u001b[39m▄\u001b[39m▁\u001b[39m▅\u001b[39m▄\u001b[39m▁\u001b[39m█\u001b[39m▇\u001b[39m█\u001b[39m█\u001b[39m█\u001b[39m█\u001b[39m█\u001b[39m█\u001b[39m█\u001b[39m█\u001b[39m█\u001b[34m█\u001b[39m\u001b[39m█\u001b[39m█\u001b[39m█\u001b[39m█\u001b[39m█\u001b[39m█\u001b[39m█\u001b[39m█\u001b[39m█\u001b[39m█\u001b[39m█\u001b[39m▇\u001b[39m▆\u001b[39m█\u001b[39m█\u001b[39m█\u001b[39m█\u001b[39m█\u001b[39m█\u001b[39m█\u001b[39m█\u001b[39m█\u001b[39m█\u001b[39m█\u001b[39m█\u001b[39m█\u001b[39m█\u001b[39m█\u001b[39m█\u001b[39m█\u001b[39m█\u001b[39m▇\u001b[39m█\u001b[39m█\u001b[39m \u001b[39m█\n",
       "  1.16 ms\u001b[90m      \u001b[39m\u001b[90mHistogram: \u001b[39m\u001b[90m\u001b[1mlog(\u001b[22m\u001b[39m\u001b[90mfrequency\u001b[39m\u001b[90m\u001b[1m)\u001b[22m\u001b[39m\u001b[90m by time\u001b[39m     1.33 ms \u001b[0m\u001b[1m<\u001b[22m\n",
       "\n",
       " Memory estimate\u001b[90m: \u001b[39m\u001b[33m91.80 KiB\u001b[39m, allocs estimate\u001b[90m: \u001b[39m\u001b[33m2698\u001b[39m."
      ]
     },
     "metadata": {},
     "output_type": "display_data"
    }
   ],
   "source": [
    "@benchmark model_gpu(input_gpu)"
   ]
  },
  {
   "cell_type": "code",
   "execution_count": 24,
   "metadata": {},
   "outputs": [
    {
     "data": {
      "text/plain": [
       "8×100 CuArray{Float32, 2, CUDA.Mem.DeviceBuffer}:\n",
       " 0.442336  0.766151   0.843949   0.54925   …  0.222884   0.499321   0.913901\n",
       " 0.94984   0.112964   0.751297   0.957962     0.623886   0.528018   0.888046\n",
       " 0.921804  0.139142   0.750826   0.92957      0.206175   0.472037   0.684832\n",
       " 0.522072  0.638452   0.406902   0.225323     0.0684221  0.628108   0.722288\n",
       " 0.5117    0.703904   0.552616   0.189341     0.675611   0.676573   0.704262\n",
       " 0.799998  0.730623   0.0191956  0.711513  …  0.907321   0.762375   0.663861\n",
       " 0.991818  0.0983187  0.734487   0.657394     0.301702   0.829439   0.716045\n",
       " 0.762924  0.788548   0.0635926  0.478378     0.452432   0.0764909  0.614054"
      ]
     },
     "metadata": {},
     "output_type": "display_data"
    }
   ],
   "source": [
    "target_cpu = rand(Float32, output+1, 100)\n",
    "target_gpu = gpu(target_cpu)"
   ]
  },
  {
   "cell_type": "code",
   "execution_count": 21,
   "metadata": {},
   "outputs": [
    {
     "data": {
      "text/plain": [
       "2000"
      ]
     },
     "metadata": {},
     "output_type": "display_data"
    }
   ],
   "source": [
    "training_step=2000"
   ]
  },
  {
   "cell_type": "code",
   "execution_count": 25,
   "metadata": {},
   "outputs": [
    {
     "data": {
      "text/plain": [
       "Adam(0.001, (0.9, 0.999), 1.0e-8, IdDict{Any, Any}())"
      ]
     },
     "metadata": {},
     "output_type": "display_data"
    }
   ],
   "source": [
    "opt=ADAM()"
   ]
  },
  {
   "cell_type": "code",
   "execution_count": 31,
   "metadata": {},
   "outputs": [
    {
     "name": "stdout",
     "output_type": "stream",
     "text": [
      " 12.846838 seconds (1.99 M allocations: 19.368 GiB, 11.53% gc time)\n"
     ]
    }
   ],
   "source": [
    "@time for it in 1:training_step\n",
    "    Flux.train!(Flux.mse, Flux.params(model_cpu), [(model_cpu(input_cpu), target_cpu)], opt)\n",
    "end"
   ]
  },
  {
   "cell_type": "code",
   "execution_count": 28,
   "metadata": {},
   "outputs": [
    {
     "data": {
      "text/plain": [
       "Adam(0.001, (0.9, 0.999), 1.0e-8, IdDict{Any, Any}())"
      ]
     },
     "metadata": {},
     "output_type": "display_data"
    }
   ],
   "source": [
    "opt=ADAM()"
   ]
  },
  {
   "cell_type": "code",
   "execution_count": 30,
   "metadata": {},
   "outputs": [
    {
     "name": "stdout",
     "output_type": "stream",
     "text": [
      "  3.347413 seconds (7.34 M allocations: 323.953 MiB, 2.62% gc time)\n"
     ]
    }
   ],
   "source": [
    "@time for it in 1:training_step\n",
    "    Flux.train!(Flux.mse, Flux.params(model_gpu), [(model_gpu(input_gpu), target_gpu)], opt)\n",
    "end"
   ]
  },
  {
   "cell_type": "code",
   "execution_count": null,
   "metadata": {},
   "outputs": [],
   "source": []
  }
 ],
 "metadata": {
  "kernelspec": {
   "display_name": "Julia 1.9.1",
   "language": "julia",
   "name": "julia-1.9"
  },
  "language_info": {
   "file_extension": ".jl",
   "mimetype": "application/julia",
   "name": "julia",
   "version": "1.9.1"
  },
  "orig_nbformat": 4
 },
 "nbformat": 4,
 "nbformat_minor": 2
}
