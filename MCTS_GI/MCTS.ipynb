{
 "cells": [
  {
   "attachments": {},
   "cell_type": "markdown",
   "metadata": {},
   "source": [
    "## 探索空間の定義\n",
    "まず探索空間を定義する。agentにどのような演算(action)を許すかを決めておく。\n",
    "\n",
    "ここで、演算の種類として、\n",
    "1. binary operator:  そこから２つに枝分かれするもの。(eg. +,-,*,/,pow、[,])\n",
    "2. unitary operator: 関数の中に打ち込むもの。(eg. exp[], log[], diag[],)\n",
    "3. containing variable: 変数(M(matrix), θ, π)。終端になる。\n",
    "4. terminal operator: 出発点(最後に行う演算)にしかおけないoperator (Tr[], minimum(eigen())(行列の固有値の最小値を参照)など )\n",
    "\n",
    "を準備しておく。これによって、木の形でゲージ不変量の表式を表現することが出来る。"
   ]
  },
  {
   "cell_type": "code",
   "execution_count": null,
   "metadata": {},
   "outputs": [],
   "source": [
    "struct SearchField\n",
    "    num_var::Int #変数の数。ここではサイトごとの波動関数を演算に使うはずなので、2*サイト数で良いはず\n",
    "    num_bin::Int #binary operatorの数。多分上記の +, -, *, -i[,], {,} の５つ？([,]などは*と+で表現できるが、のちに変数は２回以上使わないという制約を課したいので、変数を一回使うだけで交換関係を表現できるように導入しておく)\n",
    "    num_uni::Int #unitary operatorの数。 多分exp[], log[], diag[]の３つ。\n",
    "    num_ter::Int #terminal operatorの数。最終的に複素数に落とすためのもの。多分Tr[]とminimum(eigen())の２つ？\n",
    "    num_tot::Int\n",
    "    \n",
    "    operation\n",
    "end\n"
   ]
  },
  {
   "cell_type": "code",
   "execution_count": null,
   "metadata": {},
   "outputs": [],
   "source": [
    "function init_SF()\n",
    "    num_var::Int = 6\n",
    "    num_bin::Int = 5\n",
    "    num_uni::Int = 3\n",
    "    num_ter::Int = 2\n",
    "    num_tot = num_var + num_bin + num_uni + num_ter\n",
    "\n",
    "    function operation"
   ]
  }
 ],
 "metadata": {
  "kernelspec": {
   "display_name": "Julia 1.8.5",
   "language": "julia",
   "name": "julia-1.8"
  },
  "language_info": {
   "file_extension": ".jl",
   "mimetype": "application/julia",
   "name": "julia",
   "version": "1.8.5"
  },
  "orig_nbformat": 4,
  "vscode": {
   "interpreter": {
    "hash": "ba9adc20f5d2cbd026ba97e5cdba9f52f75b0bad1640aec7f9933b7bf8f6712d"
   }
  }
 },
 "nbformat": 4,
 "nbformat_minor": 2
}
