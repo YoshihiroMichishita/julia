{
 "cells": [
  {
   "attachments": {},
   "cell_type": "markdown",
   "metadata": {},
   "source": [
    "## 探索空間の定義\n",
    "まず探索空間を定義する。agentにどのような演算(action)を許すかを決めておく。\n",
    "\n",
    "ここで、演算の種類として、\n",
    "1. binary operator:  そこから２つに枝分かれするもの。(eg. +,-,*,/,pow、[,])\n",
    "2. unitary operator: 関数の中に打ち込むもの。(eg. exp[], log[], diag[],)\n",
    "3. containing variable: 変数(M(matrix), θ, π)。終端になる。\n",
    "4. terminal operator: 出発点(最後に行う演算)にしかおけないoperator (Tr[], minimum(eigen())(行列の固有値の最小値を参照)など )\n",
    "\n",
    "を準備しておく。これによって、木の形でゲージ不変量の表式を表現することが出来る。"
   ]
  },
  {
   "cell_type": "code",
   "execution_count": 1,
   "metadata": {},
   "outputs": [],
   "source": [
    "using LinearAlgebra\n",
    "using Random\n",
    "using Flux\n",
    "using Distributions\n",
    "using OneHotArrays"
   ]
  },
  {
   "cell_type": "code",
   "execution_count": null,
   "metadata": {},
   "outputs": [],
   "source": [
    "#=struct SearchField\n",
    "    num_var::Int #変数の数。ここではサイトごとの波動関数を演算に使うはずなので、2*サイト数で良いはず\n",
    "    num_bin::Int #binary operatorの数。多分上記の +, -, *, -i[,], {,} の５つ？([,]などは*と+で表現できるが、のちに変数は２回以上使わないという制約を課したいので、変数を一回使うだけで交換関係を表現できるように導入しておく)\n",
    "    num_uni::Int #unitary operatorの数。 多分exp[], log[], diag[]の３つ。\n",
    "    num_ter::Int #terminal operatorの数。最終的に複素数に落とすためのもの。Tr[]とminimum(eigen())とか？今回はTr[]に限定。\n",
    "    num_tot::Int\n",
    "    \n",
    "    operation\n",
    "end=#\n"
   ]
  },
  {
   "cell_type": "code",
   "execution_count": 2,
   "metadata": {},
   "outputs": [
    {
     "data": {
      "text/plain": [
       "12"
      ]
     },
     "execution_count": 2,
     "metadata": {},
     "output_type": "execute_result"
    }
   ],
   "source": [
    "Ns = 3 #siteの数\n",
    "num_var = 2*Ns  #operatorの数(ψ_iとψ'_i)\n",
    "num_br = 3 #binary operatorの数。多分上記の +, -, *, -i[,], {,} の５つ？([,]などは*と+で表現できるが、のちに変数は２回以上使わないという制約を課したいので、変数を一回使うだけで交換関係を表現できるように導入しておく)1000の位に格納\n",
    "num_fn = 3 #unitary operatorの数。 多分exp[], log[], diag[]の３つ。100の位に格納\n",
    "num_ter = 1\n",
    "num_tot = num_var + num_br + num_fn"
   ]
  },
  {
   "attachments": {},
   "cell_type": "markdown",
   "metadata": {},
   "source": [
    "後々のために、fnについて数字を指定した時にexp, log, diagを返すような関数のベクトルを用意しておく"
   ]
  },
  {
   "cell_type": "code",
   "execution_count": 3,
   "metadata": {},
   "outputs": [
    {
     "data": {
      "text/plain": [
       "set_fn (generic function with 1 method)"
      ]
     },
     "execution_count": 3,
     "metadata": {},
     "output_type": "execute_result"
    }
   ],
   "source": [
    "function set_fn()\n",
    "    function daig_mat(M)\n",
    "        e,v = eigen(M)\n",
    "        return diagm(e)\n",
    "    end\n",
    "    return [x->exp(x), x->log(x), x->daig_mat(x)]\n",
    "end"
   ]
  },
  {
   "cell_type": "code",
   "execution_count": 4,
   "metadata": {},
   "outputs": [
    {
     "data": {
      "text/plain": [
       "3-element Vector{Function}:\n",
       " #1 (generic function with 1 method)\n",
       " #2 (generic function with 1 method)\n",
       " #3 (generic function with 1 method)"
      ]
     },
     "execution_count": 4,
     "metadata": {},
     "output_type": "execute_result"
    }
   ],
   "source": [
    "fn_act = set_fn()"
   ]
  },
  {
   "cell_type": "code",
   "execution_count": 21,
   "metadata": {},
   "outputs": [
    {
     "name": "stdout",
     "output_type": "stream",
     "text": [
      "1.0\n",
      "2.718281828459045\n",
      "[-1.0 0.0; 0.0 3.0]\n"
     ]
    }
   ],
   "source": [
    "println(fn_act[1](0.0))\n",
    "println(fn_act[1](1.0)) \n",
    "println(fn_act[3]([1.0 2.0; 2.0 1.0]))"
   ]
  },
  {
   "cell_type": "code",
   "execution_count": 5,
   "metadata": {},
   "outputs": [
    {
     "data": {
      "text/plain": [
       "set_br (generic function with 1 method)"
      ]
     },
     "execution_count": 5,
     "metadata": {},
     "output_type": "execute_result"
    }
   ],
   "source": [
    "function set_br()\n",
    "    return [(x,y)->(x+y), (x,y)->(x-y), (x,y)->(x*y)]\n",
    "    #return [(x,y)->(x+y), (x,y)->(x-y), (x,y)->(x*y), (x,y)->-1.0im*(x*y .- y*x), (x,y)->(x*y .+ y*x)/2]\n",
    "end"
   ]
  },
  {
   "cell_type": "code",
   "execution_count": 6,
   "metadata": {},
   "outputs": [
    {
     "data": {
      "text/plain": [
       "3-element Vector{Function}:\n",
       " #8 (generic function with 1 method)\n",
       " #9 (generic function with 1 method)\n",
       " #10 (generic function with 1 method)"
      ]
     },
     "execution_count": 6,
     "metadata": {},
     "output_type": "execute_result"
    }
   ],
   "source": [
    "op_br = set_br()"
   ]
  },
  {
   "cell_type": "code",
   "execution_count": 21,
   "metadata": {},
   "outputs": [
    {
     "data": {
      "text/plain": [
       "1×2 adjoint(::Vector{Float64}) with eltype Float64:\n",
       " 0.0  1.0"
      ]
     },
     "execution_count": 21,
     "metadata": {},
     "output_type": "execute_result"
    }
   ],
   "source": [
    "A = [1.0, 2.0]\n",
    "B = [0.0, 1.0]'"
   ]
  },
  {
   "cell_type": "code",
   "execution_count": 27,
   "metadata": {},
   "outputs": [
    {
     "data": {
      "text/plain": [
       "2.0"
      ]
     },
     "execution_count": 27,
     "metadata": {},
     "output_type": "execute_result"
    }
   ],
   "source": [
    "op_br[3](B, A)"
   ]
  },
  {
   "cell_type": "code",
   "execution_count": 7,
   "metadata": {},
   "outputs": [],
   "source": [
    "#NNが出力したQ値からActionを決める時Vectorを行動を示す整数に変換する\n",
    "conv_ac = zeros(Int, num_tot)\n",
    "for i in 1:num_var\n",
    "    conv_ac[i] = i\n",
    "end\n",
    "for i in 1:num_br\n",
    "    conv_ac[i+num_var] = 1000i\n",
    "end\n",
    "for i in 1:num_fn\n",
    "    conv_ac[i+num_var+num_br] = 100i\n",
    "end"
   ]
  },
  {
   "attachments": {},
   "cell_type": "markdown",
   "metadata": {},
   "source": [
    "Deep-Q networkのための設定と、ε-greedy法を使うための確率関数の準備"
   ]
  },
  {
   "cell_type": "code",
   "execution_count": 8,
   "metadata": {},
   "outputs": [
    {
     "data": {
      "text/plain": [
       "12-element Vector{Float64}:\n",
       " 0.08333333333333333\n",
       " 0.08333333333333333\n",
       " 0.08333333333333333\n",
       " 0.08333333333333333\n",
       " 0.08333333333333333\n",
       " 0.08333333333333333\n",
       " 0.08333333333333333\n",
       " 0.08333333333333333\n",
       " 0.08333333333333333\n",
       " 0.08333333333333333\n",
       " 0.08333333333333333\n",
       " 0.08333333333333333"
      ]
     },
     "execution_count": 8,
     "metadata": {},
     "output_type": "execute_result"
    }
   ],
   "source": [
    "width = 64\n",
    "act_MAX = 40\n",
    "ϵ = 0.05\n",
    "prob = [ϵ, 1-ϵ]\n",
    "rand_ac = ones(Float64, num_tot)./num_tot\n"
   ]
  },
  {
   "cell_type": "code",
   "execution_count": 18,
   "metadata": {},
   "outputs": [
    {
     "name": "stdout",
     "output_type": "stream",
     "text": [
      "14\n",
      "6\n",
      "4\n",
      "13\n",
      "9\n",
      "10\n",
      "12\n",
      "1\n",
      "6\n",
      "4\n"
     ]
    }
   ],
   "source": [
    "for i in 1:10\n",
    "    println(rand(Categorical(rand_ac)))\n",
    "end"
   ]
  },
  {
   "cell_type": "code",
   "execution_count": 31,
   "metadata": {},
   "outputs": [
    {
     "data": {
      "text/plain": [
       "Chain(\n",
       "  Dense(40 => 64, relu),                \u001b[90m# 2_624 parameters\u001b[39m\n",
       "  Dense(64 => 64, relu),                \u001b[90m# 4_160 parameters\u001b[39m\n",
       "  Dense(64 => 12),                      \u001b[90m# 780 parameters\u001b[39m\n",
       ") \u001b[90m                  # Total: 6 arrays, \u001b[39m7_564 parameters, 29.922 KiB."
      ]
     },
     "execution_count": 31,
     "metadata": {},
     "output_type": "execute_result"
    }
   ],
   "source": [
    "model = Chain(Dense(act_MAX, width, relu), Dense(width, width, relu), Dense(width, num_tot))"
   ]
  },
  {
   "cell_type": "code",
   "execution_count": 32,
   "metadata": {},
   "outputs": [
    {
     "data": {
      "text/plain": [
       "action_vec (generic function with 2 methods)"
      ]
     },
     "execution_count": 32,
     "metadata": {},
     "output_type": "execute_result"
    }
   ],
   "source": [
    "function action_vec(q_t::Vector{Float32})\n",
    "    sw = rand(Categorical(prob))\n",
    "    if(sw == 1)\n",
    "        act = rand(Categorical(rand_ac))\n",
    "    else\n",
    "        act = argmax(q_t)\n",
    "    end\n",
    "    return onehot(Int, 1:num_tot, act)\n",
    "end\n"
   ]
  },
  {
   "cell_type": "code",
   "execution_count": 30,
   "metadata": {},
   "outputs": [
    {
     "data": {
      "text/plain": [
       "decide_action! (generic function with 1 method)"
      ]
     },
     "execution_count": 30,
     "metadata": {},
     "output_type": "execute_result"
    }
   ],
   "source": [
    "function decide_action!(mm, state::Vector{Int}, t::Int)\n",
    "    rem_turn = zeros(Int, act_MAX + 1 - t)\n",
    "    st_vec = vcat(state, rem_turn)\n",
    "    q_t = mm(st_vec)\n",
    "    act = conv_ac' * action_vec(q_t) \n",
    "    return q_t, act\n",
    "end"
   ]
  },
  {
   "cell_type": "code",
   "execution_count": 11,
   "metadata": {},
   "outputs": [
    {
     "data": {
      "text/plain": [
       "rule_violate (generic function with 1 method)"
      ]
     },
     "execution_count": 11,
     "metadata": {},
     "output_type": "execute_result"
    }
   ],
   "source": [
    "function rule_violate(st::Vector{Int}, ac::Int)\n",
    "    if(ac>99)\n",
    "        if(ac>999)\n",
    "            if(ac == st[end])\n",
    "                return true\n",
    "            elseif(ac<3 && st[end]<3)\n",
    "                return true\n",
    "            else\n",
    "                return false\n",
    "            end\n",
    "        else\n",
    "            if((ac==1 && st[end]==2) || (ac==2 && st[end]==1))\n",
    "                return true\n",
    "            elseif(ac== st[end])\n",
    "                return true\n",
    "            else\n",
    "                return false\n",
    "            end\n",
    "        end\n",
    "    else\n",
    "        if(length(findall(isequal(ac),st))==0)\n",
    "            return false\n",
    "        else\n",
    "            return true\n",
    "        end\n",
    "    end\n",
    "end"
   ]
  },
  {
   "cell_type": "code",
   "execution_count": 3,
   "metadata": {},
   "outputs": [
    {
     "data": {
      "text/plain": [
       "6-element Vector{Vector{Float64}}:\n",
       " [0.0, 0.0]\n",
       " [0.06283185307179587, 0.25132741228718347]\n",
       " [0.1884955592153876, 0.7539822368615504]\n",
       " [0.3141592653589793, 1.2566370614359172]\n",
       " [0.5026548245743669, 2.0106192982974678]\n",
       " [0.6283185307179586, 2.5132741228718345]"
      ]
     },
     "execution_count": 3,
     "metadata": {},
     "output_type": "execute_result"
    }
   ],
   "source": [
    "gauge_test = pi*[0.0, 0.1, 0.3, 0.5, 0.8, 1.0]\n",
    "st_test = [0.2, 0.8]\n",
    "st_test2 = [gauge_test[i]*st_test for i in 1:6]"
   ]
  },
  {
   "cell_type": "code",
   "execution_count": 12,
   "metadata": {},
   "outputs": [
    {
     "data": {
      "text/plain": [
       "VarToLoss (generic function with 1 method)"
      ]
     },
     "execution_count": 12,
     "metadata": {},
     "output_type": "execute_result"
    }
   ],
   "source": [
    "function VarToLoss(var::Vector{ComplexF64})\n",
    "    loss = 0.0\n",
    "    for i in 2:size(var)[1]\n",
    "        for j in 1:i\n",
    "            loss += abs(var[i]-var[j])^2            \n",
    "        end\n",
    "    end\n",
    "    return loss\n",
    "end\n"
   ]
  },
  {
   "cell_type": "code",
   "execution_count": 13,
   "metadata": {},
   "outputs": [
    {
     "data": {
      "text/plain": [
       "wave_fn (generic function with 1 method)"
      ]
     },
     "execution_count": 13,
     "metadata": {},
     "output_type": "execute_result"
    }
   ],
   "source": [
    "function wave_fn(var::Vector{Float64}, sw::Int)\n",
    "    if(sw==1)\n",
    "        wv_fn = ([cos(var[1]), sin(var[1])*exp(1.0im*var[2])])'\n",
    "    else\n",
    "        wv_fn = [cos(var[1]), sin(var[1])*exp(1.0im*var[2])]\n",
    "    end\n",
    "    return wv_fn\n",
    "end"
   ]
  },
  {
   "cell_type": "code",
   "execution_count": 34,
   "metadata": {},
   "outputs": [
    {
     "data": {
      "text/plain": [
       "Fn_Gauge (generic function with 1 method)"
      ]
     },
     "execution_count": 34,
     "metadata": {},
     "output_type": "execute_result"
    }
   ],
   "source": [
    "function Fn_Gauge(st::Vector{Int}, var::Vector{Vector{Float64}}, gauge_sample::Matrix{Float64}, var_sub, var_now)\n",
    "    if(length(st)==0)\n",
    "        return VarToLoss(var_now)\n",
    "    else\n",
    "        ac = pop!(st)\n",
    "    end\n",
    "    if(ac<100)\n",
    "        if(var_now =! nothing)\n",
    "            var_sub = var_now\n",
    "        end\n",
    "        #縦横を区別するためにやっぱりここで作り直すべき\n",
    "        i_s = ac%(Ns+1) + 1\n",
    "        sw = div(ac, Ns+1)\n",
    "        var_now = [exp(1.0im*gauge_sample[b,ac])*wave_fn(var[i_s], sw) for b in 1:n_batch]\n",
    "    elseif(ac < 1000)\n",
    "        var_now = fn_act[ac%100](var_now)\n",
    "    else\n",
    "        var_sub, var_now = op_br[ac%1000](var_sub, var_now)\n",
    "    end\n",
    "    Fn_Gauge(st, var, gauge_sample, var_sub, var_now)\n",
    "end\n"
   ]
  },
  {
   "cell_type": "code",
   "execution_count": 22,
   "metadata": {},
   "outputs": [
    {
     "data": {
      "text/plain": [
       "20"
      ]
     },
     "execution_count": 22,
     "metadata": {},
     "output_type": "execute_result"
    }
   ],
   "source": [
    "n_level = 2\n",
    "n_batch = 20"
   ]
  },
  {
   "cell_type": "code",
   "execution_count": 23,
   "metadata": {},
   "outputs": [
    {
     "data": {
      "text/plain": [
       "Gene_Rand_Var (generic function with 1 method)"
      ]
     },
     "execution_count": 23,
     "metadata": {},
     "output_type": "execute_result"
    }
   ],
   "source": [
    "function Gene_Rand_Var()\n",
    "    var::Vector{Vector{Float64}} = []\n",
    "    θ = zeros(Float64,2)\n",
    "    push!(var, θ)\n",
    "    for i in 1:Ns-1\n",
    "        θ += [pi*(1.0+rand(Float64))/2Ns , pi*(0.5-rand(Float64))/Ns]\n",
    "        push!(var, θ)\n",
    "    end\n",
    "    return var\n",
    "end"
   ]
  },
  {
   "cell_type": "code",
   "execution_count": 24,
   "metadata": {},
   "outputs": [
    {
     "data": {
      "text/plain": [
       "reward (generic function with 1 method)"
      ]
     },
     "execution_count": 24,
     "metadata": {},
     "output_type": "execute_result"
    }
   ],
   "source": [
    "function reward(st::Vector{Int}, var::Vector{Vector{Float64}}, gauge_sample::Matrix{Float64})\n",
    "    #var = Gene_Rand_Var()\n",
    "    #gauge_sample = 2pi*rand(Float64, n_batch, Ns)\n",
    "    st_copy = st\n",
    "    l = Fn_Gauge(st_copy, var, gauge_sample, nothing, nothing)\n",
    "    return -l\n",
    "end\n",
    "    "
   ]
  },
  {
   "cell_type": "code",
   "execution_count": 25,
   "metadata": {},
   "outputs": [
    {
     "data": {
      "text/plain": [
       "act_ind (generic function with 1 method)"
      ]
     },
     "execution_count": 25,
     "metadata": {},
     "output_type": "execute_result"
    }
   ],
   "source": [
    "function act_ind(ac::Int)\n",
    "    id = 0\n",
    "    if(ac<100)\n",
    "        id = ac\n",
    "    elseif(ac>999)\n",
    "        id = num_var + ac%1000\n",
    "    else\n",
    "        id = num_var + num_br + ac%100\n",
    "    end\n",
    "    return id\n",
    "end"
   ]
  },
  {
   "cell_type": "code",
   "execution_count": 26,
   "metadata": {},
   "outputs": [
    {
     "data": {
      "text/plain": [
       "loss (generic function with 1 method)"
      ]
     },
     "execution_count": 26,
     "metadata": {},
     "output_type": "execute_result"
    }
   ],
   "source": [
    "function loss(r::Float64, q_t::Matrix{Float64}, st::Vector{Int})\n",
    "    T = length(st)\n",
    "    l = (q_t[T, act_ind(st[T])] - r)^2\n",
    "    q_t[T, act_ind(st[T])] = r\n",
    "    q_max = maximum(q_t[T,:])\n",
    "    for i in 1:T-1\n",
    "        l += (q_max - q_t[T-i, act_ind(st[T-i])])^2\n",
    "        q_t[T-i, act_ind(st[T-i])] = q_max\n",
    "        q_max = maximum(q_t[T-i,:])\n",
    "    end\n",
    "    return l\n",
    "end "
   ]
  },
  {
   "cell_type": "code",
   "execution_count": 27,
   "metadata": {},
   "outputs": [
    {
     "data": {
      "text/plain": [
       "train_search (generic function with 1 method)"
      ]
     },
     "execution_count": 27,
     "metadata": {},
     "output_type": "execute_result"
    }
   ],
   "source": [
    "function train_search(mm, var::Vector{Vector{Float64}}, gauge_sample::Matrix{Float64})\n",
    "    state::Vector{Int} = []\n",
    "    branch::Vector{Int} = []\n",
    "    r = 0.0\n",
    "    # = zeros(Float32, act_MAX)\n",
    "    q_table = []\n",
    "    for turn in 1:act_MAX\n",
    "        q_t, act = decide_action!(mm, state, turn)\n",
    "        if(act > 999) #actionでbinaryを選んだ場合、２つに分岐するので分岐点を覚えておくためにbranchに入れておく\n",
    "            push!(branch, act)\n",
    "        elseif(act < 100)\n",
    "            if(size(branch)[1]==0)#残りのbranchがなければ関数形が完成しているので終了\n",
    "                push!(state, act)\n",
    "                break;\n",
    "            else #branchが残っていれば、下っ側を埋めていく\n",
    "                b = pop!(branch)\n",
    "            end\n",
    "        end\n",
    "        if(rule_violate(state, act)) #rule違反をしていたら、罰則(負の報酬)を与えて終了\n",
    "            r = -100.0\n",
    "            break;\n",
    "        end\n",
    "\n",
    "        push!(state, act)\n",
    "        #r[turn] = reward(state, act)\n",
    "    end\n",
    "    r = reward(state, var, gauge_sample)\n",
    "    \n",
    "    return loss(r, q_t, state)\n",
    "end"
   ]
  },
  {
   "cell_type": "code",
   "execution_count": 28,
   "metadata": {},
   "outputs": [
    {
     "data": {
      "text/plain": [
       "Chain(\n",
       "  Dense(40 => 64, relu),                \u001b[90m# 2_624 parameters\u001b[39m\u001b[36m  (all zero)\u001b[39m\n",
       "  Dense(64 => 64, relu),                \u001b[90m# 4_160 parameters\u001b[39m\u001b[36m  (all zero)\u001b[39m\n",
       "  Dense(64 => 12),                      \u001b[90m# 780 parameters\u001b[39m\u001b[36m  (all zero)\u001b[39m\n",
       ") \u001b[90m                  # Total: 6 arrays, \u001b[39m7_564 parameters, 29.922 KiB."
      ]
     },
     "execution_count": 28,
     "metadata": {},
     "output_type": "execute_result"
    }
   ],
   "source": [
    "model = Chain(Dense(act_MAX, width, relu, init=Flux.zeros32), Dense(width, width, relu, init=Flux.zeros32), Dense(width, num_tot, init=Flux.zeros32))"
   ]
  },
  {
   "cell_type": "code",
   "execution_count": 35,
   "metadata": {},
   "outputs": [
    {
     "ename": "LoadError",
     "evalue": "MethodError: no method matching !(::Nothing)\n\u001b[0mClosest candidates are:\n\u001b[0m  !(\u001b[91m::Function\u001b[39m) at operators.jl:1077\n\u001b[0m  !(\u001b[91m::Bool\u001b[39m) at bool.jl:35\n\u001b[0m  !(\u001b[91m::Missing\u001b[39m) at missing.jl:101",
     "output_type": "error",
     "traceback": [
      "MethodError: no method matching !(::Nothing)\n\u001b[0mClosest candidates are:\n\u001b[0m  !(\u001b[91m::Function\u001b[39m) at operators.jl:1077\n\u001b[0m  !(\u001b[91m::Bool\u001b[39m) at bool.jl:35\n\u001b[0m  !(\u001b[91m::Missing\u001b[39m) at missing.jl:101",
      "",
      "Stacktrace:",
      "  [1] rrule(#unused#::typeof(!), 352::Nothing)",
      "    @ ChainRules ~/.julia/packages/ChainRules/RZYEu/src/rulesets/Base/nondiff.jl:5",
      "  [2] rrule(::Zygote.ZygoteRuleConfig{Zygote.Context{true}}, ::Function, ::Nothing)",
      "    @ ChainRulesCore ~/.julia/packages/ChainRulesCore/a4mIA/src/rules.jl:134",
      "  [3] chain_rrule",
      "    @ ~/.julia/packages/Zygote/g2w9o/src/compiler/chainrules.jl:223 [inlined]",
      "  [4] macro expansion",
      "    @ ~/.julia/packages/Zygote/g2w9o/src/compiler/interface2.jl:0 [inlined]",
      "  [5] _pullback(ctx::Zygote.Context{true}, f::typeof(!), args::Nothing)",
      "    @ Zygote ~/.julia/packages/Zygote/g2w9o/src/compiler/interface2.jl:9",
      "  [6] _pullback",
      "    @ ./In[34]:8 [inlined]",
      "  [7] _pullback(::Zygote.Context{true}, ::typeof(Fn_Gauge), ::Vector{Int64}, ::Vector{Vector{Float64}}, ::Matrix{Float64}, ::Nothing, ::Nothing)",
      "    @ Zygote ~/.julia/packages/Zygote/g2w9o/src/compiler/interface2.jl:0",
      "  [8] _pullback",
      "    @ ./In[24]:5 [inlined]",
      "  [9] _pullback(::Zygote.Context{true}, ::typeof(reward), ::Vector{Int64}, ::Vector{Vector{Float64}}, ::Matrix{Float64})",
      "    @ Zygote ~/.julia/packages/Zygote/g2w9o/src/compiler/interface2.jl:0",
      " [10] _pullback",
      "    @ ./In[27]:27 [inlined]",
      " [11] _pullback(::Zygote.Context{true}, ::typeof(train_search), ::Chain{Tuple{Dense{typeof(relu), Matrix{Float32}, Vector{Float32}}, Dense{typeof(relu), Matrix{Float32}, Vector{Float32}}, Dense{typeof(identity), Matrix{Float32}, Vector{Float32}}}}, ::Vector{Vector{Float64}}, ::Matrix{Float64})",
      "    @ Zygote ~/.julia/packages/Zygote/g2w9o/src/compiler/interface2.jl:0",
      " [12] _pullback",
      "    @ ./In[35]:7 [inlined]",
      " [13] _pullback(::Zygote.Context{true}, ::var\"#24#25\"{Matrix{Float64}, Vector{Vector{Float64}}})",
      "    @ Zygote ~/.julia/packages/Zygote/g2w9o/src/compiler/interface2.jl:0",
      " [14] pullback(f::Function, ps::Zygote.Params{Zygote.Buffer{Any, Vector{Any}}})",
      "    @ Zygote ~/.julia/packages/Zygote/g2w9o/src/compiler/interface.jl:384",
      " [15] gradient(f::Function, args::Zygote.Params{Zygote.Buffer{Any, Vector{Any}}})",
      "    @ Zygote ~/.julia/packages/Zygote/g2w9o/src/compiler/interface.jl:96",
      " [16] top-level scope",
      "    @ In[35]:6"
     ]
    }
   ],
   "source": [
    "ll_it = zeros(Float64, 100)\n",
    "for it in 1:100\n",
    "    var = Gene_Rand_Var()\n",
    "    gauge_sample = 2pi*rand(Float64, n_batch, Ns)\n",
    "    ll = 0.0\n",
    "    grads = Flux.gradient(Flux.params(model)) do\n",
    "        ll = train_search(model, var, gauge_sample)\n",
    "    end\n",
    "    ll_it[it] = ll\n",
    "    Flux.Optimise.update!(ADAM(), Flux.params(model), grads)\n",
    "end"
   ]
  },
  {
   "cell_type": "code",
   "execution_count": 38,
   "metadata": {},
   "outputs": [
    {
     "data": {
      "text/plain": [
       "2.0"
      ]
     },
     "execution_count": 38,
     "metadata": {},
     "output_type": "execute_result"
    }
   ],
   "source": [
    "max(maximum([1.0, 2.0]), 1.0)"
   ]
  },
  {
   "cell_type": "code",
   "execution_count": 50,
   "metadata": {},
   "outputs": [
    {
     "data": {
      "text/plain": [
       "3-element Vector{Float64}:\n",
       " 0.8414709848078965\n",
       " 0.9092974268256817\n",
       " 0.1411200080598672"
      ]
     },
     "execution_count": 50,
     "metadata": {},
     "output_type": "execute_result"
    }
   ],
   "source": [
    "map([1,2,3]) do x sin(x) end"
   ]
  },
  {
   "cell_type": "code",
   "execution_count": 10,
   "metadata": {},
   "outputs": [
    {
     "data": {
      "text/plain": [
       "test_square (generic function with 1 method)"
      ]
     },
     "execution_count": 10,
     "metadata": {},
     "output_type": "execute_result"
    }
   ],
   "source": [
    "function test_square(x)\n",
    "    H = [x[1]^2 x[2]^2; x[1]^2 x[2]^2]\n",
    "    e = tr(H)\n",
    "    return e\n",
    "end\n"
   ]
  },
  {
   "cell_type": "code",
   "execution_count": 2,
   "metadata": {},
   "outputs": [
    {
     "data": {
      "text/plain": [
       "2-element Vector{Float64}:\n",
       " 1.0\n",
       " 0.5"
      ]
     },
     "execution_count": 2,
     "metadata": {},
     "output_type": "execute_result"
    }
   ],
   "source": [
    "x = [1.0, 0.5]"
   ]
  },
  {
   "cell_type": "code",
   "execution_count": 11,
   "metadata": {},
   "outputs": [
    {
     "data": {
      "text/plain": [
       "([2.0, 1.0],)"
      ]
     },
     "execution_count": 11,
     "metadata": {},
     "output_type": "execute_result"
    }
   ],
   "source": [
    "grads = gradient(test_square, x)"
   ]
  },
  {
   "cell_type": "code",
   "execution_count": 5,
   "metadata": {},
   "outputs": [
    {
     "data": {
      "text/plain": [
       "test2_square (generic function with 1 method)"
      ]
     },
     "execution_count": 5,
     "metadata": {},
     "output_type": "execute_result"
    }
   ],
   "source": [
    "function test2_square(x)\n",
    "    H = zeros(Float64, 2, 2)\n",
    "    H[1,1] = x[1]^2\n",
    "    H[1,2] = x[2]^2\n",
    "    H[2,1] = x[1]^2\n",
    "    H[2,2] = x[2]^2\n",
    "    e = tr(H)\n",
    "    return e\n",
    "end"
   ]
  },
  {
   "cell_type": "code",
   "execution_count": 11,
   "metadata": {},
   "outputs": [
    {
     "data": {
      "text/plain": [
       "([2.0, 1.0],)"
      ]
     },
     "execution_count": 11,
     "metadata": {},
     "output_type": "execute_result"
    }
   ],
   "source": [
    "grads2 = gradient(test2_square, x)"
   ]
  },
  {
   "cell_type": "code",
   "execution_count": 10,
   "metadata": {},
   "outputs": [],
   "source": [
    "function ChainRulesCore.rrule(::typeof(test2_square), x)\n",
    "    y = test2_square(x)\n",
    "    _axis = length(x)\n",
    "    function test2_square_pullback(Δ)\n",
    "        H1 = zeros(Float64, 2, 2)\n",
    "        H1[1,1] = 2x[1]\n",
    "        H1[1,2] = 0.0\n",
    "        H1[2,1] = 2x[1]\n",
    "        H1[2,2] = 0.0\n",
    "        e1 = tr(H1)\n",
    "\n",
    "        H2 = zeros(Float64, 2, 2)\n",
    "        H2[1,1] = 0.0\n",
    "        H2[1,2] = 2x[2]\n",
    "        H2[2,1] = 0.0\n",
    "        H2[2,2] = 2x[2]\n",
    "        e2 = tr(H2)\n",
    "        e = [e1, e2]\n",
    "\n",
    "        return NoTangent(), @thunk(e*Δ)\n",
    "    end\n",
    "    return y, test2_square_pullback\n",
    "end\n",
    "        "
   ]
  },
  {
   "cell_type": "code",
   "execution_count": 3,
   "metadata": {},
   "outputs": [],
   "source": [
    "using ChainRulesCore\n",
    "using Zygote"
   ]
  },
  {
   "cell_type": "code",
   "execution_count": null,
   "metadata": {},
   "outputs": [],
   "source": []
  }
 ],
 "metadata": {
  "kernelspec": {
   "display_name": "Julia 1.8.5",
   "language": "julia",
   "name": "julia-1.8"
  },
  "language_info": {
   "file_extension": ".jl",
   "mimetype": "application/julia",
   "name": "julia",
   "version": "1.8.5"
  },
  "orig_nbformat": 4,
  "vscode": {
   "interpreter": {
    "hash": "ba9adc20f5d2cbd026ba97e5cdba9f52f75b0bad1640aec7f9933b7bf8f6712d"
   }
  }
 },
 "nbformat": 4,
 "nbformat_minor": 2
}
