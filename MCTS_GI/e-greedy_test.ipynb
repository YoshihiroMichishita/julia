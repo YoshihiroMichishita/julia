{
 "cells": [
  {
   "cell_type": "code",
   "execution_count": 2,
   "metadata": {},
   "outputs": [],
   "source": [
    "using LinearAlgebra\n",
    "using Random\n",
    "using Flux\n",
    "using Distributions\n",
    "using OneHotArrays\n",
    "\n",
    "using DataFrames\n",
    "using CSV\n",
    "using BSON: @save\n",
    "using BSON: @load\n",
    "using Plots\n",
    "#ENV[\"GKSwstype\"]=\"nul\""
   ]
  },
  {
   "cell_type": "code",
   "execution_count": 2,
   "metadata": {},
   "outputs": [],
   "source": [
    "struct Env\n",
    "    Ns::Int #siteの数\n",
    "    num_var::Int  #operatorの数(ψ_iとψ'_i)\n",
    "    num_br::Int #binary operatorの数。多分上記の +, -, *, -i[,], {,} の５つ？([,]などは*と+で表現できるが、のちに変数は２回以上使わないという制約を課したいので、変数を一回使うだけで交換関係を表現できるように導入しておく)1000の位に格納\n",
    "    num_fn::Int #unitary operatorの数。 多分exp[], log[], diag[]の３つ。100の位に格納\n",
    "    num_ter::Int\n",
    "    num_tot::Int\n",
    "\n",
    "    n_level::Int\n",
    "    n_batch::Int\n",
    "\n",
    "    op_fn\n",
    "    op_br\n",
    "\n",
    "    conv_ac\n",
    "end"
   ]
  },
  {
   "cell_type": "code",
   "execution_count": 3,
   "metadata": {},
   "outputs": [
    {
     "data": {
      "text/plain": [
       "init_Env (generic function with 1 method)"
      ]
     },
     "execution_count": 3,
     "metadata": {},
     "output_type": "execute_result"
    }
   ],
   "source": [
    "function set_fn()\n",
    "    function daig_mat(M)\n",
    "        e,v = eigen(M)\n",
    "        return diagm(e)\n",
    "    end\n",
    "    return [x->exp.(x), x->log.(x), x->daig_mat.(x)]\n",
    "end\n",
    "\n",
    "function set_br()\n",
    "    return [(x,y)->(x.+y), (x,y)->(x.-y), (x,y)->(x.*y)]\n",
    "    #return [(x,y)->(x+y), (x,y)->(x-y), (x,y)->(x*y), (x,y)->-1.0im*(x*y .- y*x), (x,y)->(x*y .+ y*x)/2]\n",
    "end\n",
    "\n",
    "function init_Env(N::Int, b::Int)\n",
    "    Ns = N #siteの数\n",
    "    num_var = 2*Ns  #operatorの数(ψ_iとψ'_i)\n",
    "    num_br = 3 #binary operatorの数。多分上記の +, -, *, -i[,], {,} の５つ？([,]などは*と+で表現できるが、のちに変数は２回以上使わないという制約を課したいので、変数を一回使うだけで交換関係を表現できるように導入しておく)1000の位に格納\n",
    "    num_fn = 3 #unitary operatorの数。 多分exp[], log[], diag[]の３つ。100の位に格納\n",
    "    num_ter = 1\n",
    "    num_tot = num_var + num_br + num_fn\n",
    "\n",
    "    n_level = 2\n",
    "    n_batch = b\n",
    "\n",
    "    op_fn = set_fn()\n",
    "    op_br = set_br()\n",
    "\n",
    "    conv_ac = zeros(Int, num_tot)\n",
    "    for i in 1:num_var\n",
    "        conv_ac[i] = i\n",
    "    end\n",
    "    for i in 1:num_br\n",
    "        conv_ac[i+num_var] = 1000i\n",
    "    end\n",
    "    for i in 1:num_fn\n",
    "        conv_ac[i+num_var+num_br] = 100i\n",
    "    end\n",
    "\n",
    "    return Ns, num_var, num_br, num_fn, num_ter, num_tot, n_level, n_batch, op_fn, op_br, conv_ac\n",
    "end"
   ]
  },
  {
   "cell_type": "code",
   "execution_count": 4,
   "metadata": {},
   "outputs": [],
   "source": [
    "struct DQN \n",
    "    width\n",
    "    act_MAX\n",
    "    ϵ\n",
    "    prob\n",
    "    rand_ac\n",
    "end"
   ]
  },
  {
   "cell_type": "code",
   "execution_count": 5,
   "metadata": {},
   "outputs": [
    {
     "data": {
      "text/plain": [
       "init_DQN (generic function with 1 method)"
      ]
     },
     "execution_count": 5,
     "metadata": {},
     "output_type": "execute_result"
    }
   ],
   "source": [
    "function init_DQN(w::Int, a_MAX::Int, ϵ::Float64, en::Env)\n",
    "    prob = [ϵ, 1-ϵ]\n",
    "    rand_ac = ones(Float64, en.num_tot)./en.num_tot\n",
    "    return w, a_MAX, ϵ, prob, rand_ac\n",
    "end"
   ]
  },
  {
   "cell_type": "code",
   "execution_count": 6,
   "metadata": {},
   "outputs": [],
   "source": [
    "struct Sample\n",
    "    var::Vector{Vector{Float64}}\n",
    "    gauge_sample::Matrix{Float64}\n",
    "end"
   ]
  },
  {
   "cell_type": "code",
   "execution_count": 7,
   "metadata": {},
   "outputs": [
    {
     "data": {
      "text/plain": [
       "get_Sample (generic function with 1 method)"
      ]
     },
     "execution_count": 7,
     "metadata": {},
     "output_type": "execute_result"
    }
   ],
   "source": [
    "function Gene_Rand_Var(en::Env)\n",
    "    var::Vector{Vector{Float64}} = []\n",
    "    θ = zeros(Float64,2)\n",
    "    push!(var, θ)\n",
    "    for i in 1:en.Ns-1\n",
    "        θ += [pi*(1.0+rand(Float64))/2en.Ns , pi*(0.5-rand(Float64))/en.Ns]\n",
    "        push!(var, θ)\n",
    "    end\n",
    "    return var\n",
    "end\n",
    "\n",
    "function get_Sample(en::Env)\n",
    "    var = Gene_Rand_Var(en)\n",
    "    gauge_sample = 2pi*rand(Float64, en.n_batch, en.Ns)\n",
    "    return var, gauge_sample\n",
    "end"
   ]
  },
  {
   "cell_type": "code",
   "execution_count": 10,
   "metadata": {},
   "outputs": [],
   "source": [
    "mutable struct Agt\n",
    "    #model\n",
    "    state::Vector{Int}\n",
    "    branch::Vector{Int}\n",
    "    q_table::Matrix{Float32}\n",
    "end"
   ]
  },
  {
   "cell_type": "code",
   "execution_count": 8,
   "metadata": {},
   "outputs": [
    {
     "data": {
      "text/plain": [
       "action_vec (generic function with 1 method)"
      ]
     },
     "execution_count": 8,
     "metadata": {},
     "output_type": "execute_result"
    }
   ],
   "source": [
    "function init_agt(en::Env, dq::DQN)\n",
    "    #model = Chain(Dense(dq.act_MAX, dq.width, relu, init=Flux.zeros32), Dense(dq.width, dq.width, relu, init=Flux.zeros32), Dense(dq.width, en.num_tot, init=Flux.zeros32))\n",
    "    state::Vector{Int}=[]\n",
    "    branch::Vector{Int}=[]\n",
    "    q_table = zeros(Float32, dq.act_MAX, en.num_tot)\n",
    "    #return model, state, branch, q_table\n",
    "    return state, branch, q_table\n",
    "end\n",
    "\n",
    "function action_vec(q_t::Vector{Float32}, en::Env, dq::DQN)\n",
    "    sw = rand(Categorical(dq.prob))\n",
    "    if(sw == 1)\n",
    "        act = rand(Categorical(dq.rand_ac))\n",
    "    else\n",
    "        act_n = findall(q_t .== maximum(q_t))\n",
    "        n_a = length(act_n)\n",
    "        ac_prob = ones(Float64, n_a)./n_a\n",
    "        act = act_n[rand(Categorical(ac_prob))]\n",
    "    end\n",
    "    return onehot(Int, 1:en.num_tot, act)\n",
    "end"
   ]
  },
  {
   "cell_type": "code",
   "execution_count": 11,
   "metadata": {},
   "outputs": [
    {
     "data": {
      "text/plain": [
       "decide_action! (generic function with 1 method)"
      ]
     },
     "execution_count": 11,
     "metadata": {},
     "output_type": "execute_result"
    }
   ],
   "source": [
    "function decide_action!(en::Env, dq::DQN, ag::Agt, model, t::Int)\n",
    "    rem_turn = zeros(Int, dq.act_MAX + 1 - t)\n",
    "    st_vec = vcat(ag.state, rem_turn)\n",
    "    #q_t = ag.model(st_vec)\n",
    "    q_t = model(st_vec)\n",
    "    act = en.conv_ac' * action_vec(q_t, en, dq) \n",
    "    return q_t, act\n",
    "end"
   ]
  },
  {
   "cell_type": "code",
   "execution_count": 12,
   "metadata": {},
   "outputs": [
    {
     "data": {
      "text/plain": [
       "wave_fn (generic function with 1 method)"
      ]
     },
     "execution_count": 12,
     "metadata": {},
     "output_type": "execute_result"
    }
   ],
   "source": [
    "function rule_violate(ag::Agt, ac::Int)\n",
    "    if(length(ag.state)>0)\n",
    "        if(ac>99)\n",
    "            if(ac>999) #branch \n",
    "                if(ac == ag.state[end])\n",
    "                    #println(\"branch violation!\")\n",
    "                    return true\n",
    "                elseif(ac<3 && ag.state[end]<3)\n",
    "                    #println(\"branch violation!\")\n",
    "                    return true\n",
    "                else\n",
    "                    return false\n",
    "                end\n",
    "            else\n",
    "                if((ac==1 && ag.state[end]==2) || (ac==2 && ag.state[end]==1))\n",
    "                    #println(\"fn violation!\")\n",
    "                    return true\n",
    "                elseif(ac== ag.state[end])\n",
    "                    #println(\"fn violation!\")\n",
    "                    return true\n",
    "                else\n",
    "                    return false\n",
    "                end\n",
    "            end\n",
    "        else\n",
    "            if(length(findall(isequal(ac),ag.state))==0)\n",
    "                return false\n",
    "            else\n",
    "                #println(\"reuse the same var!\")\n",
    "                return true\n",
    "            end\n",
    "        end\n",
    "    else\n",
    "        return false\n",
    "    end\n",
    "end\n",
    "\n",
    "function VarToLoss(var::Vector{Matrix{ComplexF64}})\n",
    "    loss = 0.0\n",
    "    sw = (size(var[1])[1]==size(var[1])[2])\n",
    "    if(sw)\n",
    "        for i in 2:size(var)[1]\n",
    "            for j in 1:i\n",
    "                loss += abs(tr(var[i])-tr(var[j]))^2\n",
    "            end\n",
    "        end\n",
    "    else\n",
    "        for i in 2:size(var)[1]\n",
    "            for j in 1:i\n",
    "                loss += sum((abs.(var[i]-var[j])).^2)\n",
    "            end\n",
    "        end\n",
    "    end\n",
    "    return loss/size(var)[1]\n",
    "end\n",
    "\n",
    "function VarToLoss(var::Vector{ComplexF64})\n",
    "    loss = 0.0\n",
    "    for i in 2:size(var)[1]\n",
    "        for j in 1:i\n",
    "            loss += real((var[i]-var[j])'*(var[i]-var[j]))            \n",
    "        end\n",
    "    end\n",
    "    return loss/size(var)[1]\n",
    "end\n",
    "\n",
    "function VarToLoss(var::Vector{Vector{ComplexF64}})\n",
    "    loss = 0.0\n",
    "    for i in 2:size(var)[1]\n",
    "        for j in 1:i\n",
    "            loss += real((var[i]-var[j])'*(var[i]-var[j]))            \n",
    "        end\n",
    "    end\n",
    "    return loss/size(var)[1]\n",
    "end\n",
    "\n",
    "function VarToLoss(var::Vector{Adjoint{ComplexF64, Vector{ComplexF64}}})\n",
    "    loss = 0.0\n",
    "    for i in 2:size(var)[1]\n",
    "        for j in 1:i\n",
    "            loss += real((var[i]-var[j])*(var[i]-var[j])')            \n",
    "        end\n",
    "    end\n",
    "    return loss/size(var)[1]\n",
    "end\n",
    "\n",
    "function wave_fn(var::Vector{Float64}, sw::Int)\n",
    "    if(sw==1)\n",
    "        wv_fn = ([cos(var[1]), sin(var[1])*exp(1.0im*var[2])])'\n",
    "    else\n",
    "        wv_fn = [cos(var[1]), sin(var[1])*exp(1.0im*var[2])]\n",
    "    end\n",
    "    return wv_fn\n",
    "end"
   ]
  },
  {
   "cell_type": "code",
   "execution_count": 32,
   "metadata": {},
   "outputs": [
    {
     "data": {
      "text/plain": [
       "loss (generic function with 1 method)"
      ]
     },
     "execution_count": 32,
     "metadata": {},
     "output_type": "execute_result"
    }
   ],
   "source": [
    "function Fn_Gauge(en::Env, sample::Sample, st::Vector{Int}, var_now, var_sub1, var_sub2, it::Int)\n",
    "    if(it==0)\n",
    "        return VarToLoss(var_now)\n",
    "    else\n",
    "        ac = st[it]\n",
    "    end\n",
    "    if(ac<100)\n",
    "        #println(\"var\")\n",
    "        var_sub1 = var_now\n",
    "        var_sub2 = var_sub1\n",
    "        i_s = (ac-1)%en.Ns + 1\n",
    "        sw = div(ac, en.Ns+1)\n",
    "        var_now = [exp(1.0im*sample.gauge_sample[b,i_s])*wave_fn(sample.var[i_s], sw) for b in 1:en.n_batch]\n",
    "    elseif(ac < 1000)\n",
    "        #println(\"fn\")\n",
    "        #=\n",
    "        if(typeof(var_now)==Vector{Matrix{ComplexF64}})\n",
    "            var_now = en.op_fn[div(ac,100)](var_now)\n",
    "        else\n",
    "            return 100.0\n",
    "        end=#\n",
    "        try\n",
    "            var_now = en.op_fn[div(ac,100)](var_now)\n",
    "        catch\n",
    "            return 100.0\n",
    "        end\n",
    "    else\n",
    "        #println(\"br\")\n",
    "        #=\n",
    "        if(div(ac,1000)<3 && typeof(var_now)!=typeof(var_sub1))\n",
    "            return 100.0\n",
    "        elseif(div(ac,1000)==3 && typeof(var_now)==typeof(var_sub1) && typeof(var_now)!=Vector{Matrix{ComplexF64}})\n",
    "            return 100.0\n",
    "        else\n",
    "            var_now = en.op_br[div(ac,1000)](var_sub1, var_now)\n",
    "            var_sub1 = nothing\n",
    "            var_sub1 = var_sub2\n",
    "        end=#\n",
    "        try\n",
    "            var_now = en.op_br[div(ac,1000)](var_sub1, var_now)\n",
    "            var_sub1 = nothing\n",
    "            var_sub1 = var_sub2\n",
    "        catch\n",
    "            return 100.0\n",
    "        end\n",
    "    end\n",
    "    Fn_Gauge(en, sample, st, var_now, var_sub1, var_sub2, it-1)\n",
    "end\n",
    "\n",
    "\n",
    "\n",
    "function reward(en::Env, sample::Sample, ag::Agt)\n",
    "    #var = Gene_Rand_Var()\n",
    "    T = length(ag.state)\n",
    "    #gauge_sample = 2pi*rand(Float64, n_batch, Ns)\n",
    "    #st_copy = copy(ag.state)\n",
    "    l = Fn_Gauge(en, sample, ag.state, nothing, nothing, nothing, T)\n",
    "    return -l + 1.0\n",
    "end\n",
    "\n",
    "function q_update!(en::Env, ag::Agt, r::Float64)\n",
    "    T = length(ag.state)\n",
    "    q_max = Float32(r)\n",
    "    for t in T:1\n",
    "        ag.q_table[t, act_ind(ag.state[t],en)] = q_max\n",
    "        q_max = maximum(ag.q_table[t,:])\n",
    "    end\n",
    "end\n",
    "\n",
    "#function Search!(en::Env, dq::DQN, sample::Sample, ag::Agt)\n",
    "function Search!(en::Env, dq::DQN, sample::Sample, ag::Agt, model)\n",
    "    r = 0.0\n",
    "    # = zeros(Float32, act_MAX)\n",
    "    #q_table = []\n",
    "    ag.state = []\n",
    "    ag.branch = []\n",
    "    for turn in 1:dq.act_MAX\n",
    "        #println(turn)\n",
    "        #ag.q_table[turn,:], act = decide_action!(en, dq, ag, turn)\n",
    "        ag.q_table[turn,:], act = decide_action!(en, dq, ag,model, turn)\n",
    "        if(act > 999) #actionでbinaryを選んだ場合、２つに分岐するので分岐点を覚えておくためにbranchに入れておく\n",
    "            push!(ag.branch, act)\n",
    "        elseif(act < 100)\n",
    "            if(size(ag.branch)[1]==0)#残りのbranchがなければ関数形が完成しているので終了\n",
    "                push!(ag.state, act)\n",
    "                break;\n",
    "            else #branchが残っていれば、下っ側を埋めていく\n",
    "                b = pop!(ag.branch)\n",
    "            end\n",
    "        end\n",
    "        if(rule_violate(ag, act)) #rule違反をしていたら、罰則(負の報酬)を与えて終了\n",
    "            push!(ag.state, act)\n",
    "            r = -100.0\n",
    "            break;\n",
    "        end\n",
    "\n",
    "        push!(ag.state, act)\n",
    "        if(turn == dq.act_MAX)\n",
    "            r = -20.0\n",
    "        end\n",
    "        #r[turn] = reward(state, act)\n",
    "    end\n",
    "    if(r==0.0)\n",
    "        r = reward(en, sample, ag)\n",
    "    end\n",
    "    q_update!(en, ag, r)\n",
    "end\n",
    "\n",
    "function act_ind(ac::Int, en::Env)\n",
    "    id = 0\n",
    "    if(ac<100)\n",
    "        id = ac\n",
    "    elseif(ac>999)\n",
    "        id = en.num_var + ac%1000\n",
    "    else\n",
    "        id = en.num_var + en.num_br + ac%100\n",
    "    end\n",
    "    return id\n",
    "end\n",
    "\n",
    "function loss(dq::DQN,ag::Agt, model)\n",
    "    T = length(ag.state)\n",
    "    l=0.0\n",
    "    for t in 1:T\n",
    "        if(t==1)\n",
    "            st_turn::Vector{Int} = []\n",
    "        else\n",
    "            st_turn = ag.state[1:t-1]\n",
    "        end\n",
    "        rem_turn = zeros(Int, dq.act_MAX - (t-1))\n",
    "        st = vcat(st_turn, rem_turn) \n",
    "        #q = ag.model(st)\n",
    "        q = model(st)\n",
    "        l += sum((q - ag.q_table[t, :]).^2)\n",
    "        #l += q'*q\n",
    "    end\n",
    "    return l\n",
    "end"
   ]
  },
  {
   "cell_type": "code",
   "execution_count": 14,
   "metadata": {},
   "outputs": [
    {
     "data": {
      "text/plain": [
       "RandPolitics (generic function with 1 method)"
      ]
     },
     "execution_count": 14,
     "metadata": {},
     "output_type": "execute_result"
    }
   ],
   "source": [
    "function RandPolitics(en::Env, dq::DQN, sample::Sample, ag::Agt, model)\n",
    "    ag.state = []\n",
    "    ag.branch = []\n",
    "    #branch::Vector{Int} = []\n",
    "    r = 0.0\n",
    "    # = zeros(Float32, act_MAX)\n",
    "    #q_table = []\n",
    "    for turn in 1:dq.act_MAX\n",
    "        #ag.q_table[turn,:], act = decide_action!(en, dq, ag, turn)\n",
    "        ag.q_table[turn,:], act = decide_action!(en, dq, ag,model, turn)\n",
    "        if(act > 999) #actionでbinaryを選んだ場合、２つに分岐するので分岐点を覚えておくためにbranchに入れておく\n",
    "            push!(ag.branch, act)\n",
    "        elseif(act < 100)\n",
    "            if(size(ag.branch)[1]==0)#残りのbranchがなければ関数形が完成しているので終了\n",
    "                push!(ag.state, act)\n",
    "                break;\n",
    "            else #branchが残っていれば、下っ側を埋めていく\n",
    "                b = pop!(ag.branch)\n",
    "            end\n",
    "        end\n",
    "        push!(ag.state, act)\n",
    "        if(rule_violate(ag, act)) #rule違反をしていたら、罰則(負の報酬)を与えて終了\n",
    "            r = -100.0\n",
    "            break;\n",
    "        end\n",
    "        #r[turn] = reward(state, act)\n",
    "    end\n",
    "    if(r == 0.0)\n",
    "        r = reward(en, sample, ag)\n",
    "    end\n",
    "    \n",
    "    return r, ag.state\n",
    "end"
   ]
  },
  {
   "cell_type": "code",
   "execution_count": 34,
   "metadata": {},
   "outputs": [
    {
     "data": {
      "text/plain": [
       "Agt(Int64[], Int64[], Float32[0.0 0.0 … 0.0 0.0; 0.0 0.0 … 0.0 0.0; … ; 0.0 0.0 … 0.0 0.0; 0.0 0.0 … 0.0 0.0])"
      ]
     },
     "execution_count": 34,
     "metadata": {},
     "output_type": "execute_result"
    }
   ],
   "source": [
    "#N_s, n_batch\n",
    "en = Env(init_Env(3, 10)...)\n",
    "#width, act_MAX, ϵ\n",
    "dq = DQN(init_DQN(16, 15, 0.05, en)...)\n",
    "ag = Agt(init_agt(en, dq)...)"
   ]
  },
  {
   "cell_type": "code",
   "execution_count": 16,
   "metadata": {},
   "outputs": [
    {
     "data": {
      "text/plain": [
       "Sample([[0.0, 0.0], [0.7084727885637342, 0.2758179537758741], [1.668841825029368, -0.06482254457532582]], [0.0005941756221670947 3.89609678002478 1.8862549033122866; 4.076235115298894 2.690692944529253 3.464402780219548; … ; 1.1498116596137142 4.51334490713543 3.4244066778769096; 6.243135271965848 0.37355108415637667 1.7097892078910677])"
      ]
     },
     "execution_count": 16,
     "metadata": {},
     "output_type": "execute_result"
    }
   ],
   "source": [
    "sample = Sample(get_Sample(en)...)"
   ]
  },
  {
   "cell_type": "code",
   "execution_count": 36,
   "metadata": {},
   "outputs": [
    {
     "data": {
      "text/plain": [
       "Chain(\n",
       "  Dense(15 => 16, relu),                \u001b[90m# 256 parameters\u001b[39m\n",
       "  Dense(16 => 16, relu),                \u001b[90m# 272 parameters\u001b[39m\n",
       "  Dense(16 => 16, relu),                \u001b[90m# 272 parameters\u001b[39m\n",
       "  Dense(16 => 16, relu),                \u001b[90m# 272 parameters\u001b[39m\n",
       "  Dense(16 => 16, relu),                \u001b[90m# 272 parameters\u001b[39m\n",
       "  Dense(16 => 12, relu),                \u001b[90m# 204 parameters\u001b[39m\u001b[36m  (all zero)\u001b[39m\n",
       ") \u001b[90m                  # Total: 12 arrays, \u001b[39m1_548 parameters, 6.797 KiB."
      ]
     },
     "execution_count": 36,
     "metadata": {},
     "output_type": "execute_result"
    }
   ],
   "source": [
    "model = Chain(Dense(dq.act_MAX, dq.width, relu), Dense(dq.width, dq.width, relu), Dense(dq.width, dq.width, relu), Dense(dq.width, dq.width, relu), Dense(dq.width, dq.width, relu), Dense(dq.width, en.num_tot, init=Flux.zeros32, relu))"
   ]
  },
  {
   "cell_type": "code",
   "execution_count": 38,
   "metadata": {},
   "outputs": [
    {
     "name": "stdout",
     "output_type": "stream",
     "text": [
      "loss:78.21925354003906, [3]\n",
      "loss:0.0, [1000, 5, 6]\n",
      "loss:0.0, [1000, 300, 200, 6, 2000, 200, 1, 4]\n",
      "loss:0.0, [2000, 1, 1]\n",
      "loss:0.0, [300, 200, 5]\n",
      "loss:0.0, [3000, 3, 200, 3000, 1000, 4, 1, 100, 6]\n",
      "loss:61.607173919677734, [6]\n",
      "loss:64.69889068603516, [1]\n",
      "loss:0.0, [100, 1000, 5, 1000, 300, 1000, 200, 4, 4]\n",
      "loss:75.24616241455078, [2]\n",
      "loss:0.0, [2000, 200, 5, 200, 2000, 300, 2, 300, 1]\n",
      "loss:34.64826583862305, [1]\n",
      "loss:0.0, [1000, 6, 1]\n",
      "loss:0.0, [1000, 4, 300, 3000, 2000, 2000]\n",
      "loss:61.39663314819336, [6]\n",
      "loss:0.0, [3000, 100, 4, 6]\n",
      "loss:79.0329360961914, [1]\n",
      "loss:0.0, [200, 4]\n",
      "loss:0.0, [300, 3000, 200, 1, 100, 2]\n",
      "loss:0.0, [200, 300, 4]\n"
     ]
    }
   ],
   "source": [
    "ll_MAX = 20\n",
    "ll_it = zeros(Float64, ll_MAX)\n",
    "for it in 1:ll_MAX\n",
    "    #var = Gene_Rand_Var()\n",
    "    #gauge_sample = 2pi*rand(Float64, n_batch, Ns)\n",
    "    sample = Sample(get_Sample(en)...)\n",
    "    #Search!(en, dq, sample, ag)\n",
    "    Search!(en, dq, sample, ag, model)\n",
    "    #println(ag.state)\n",
    "    #ll = 0.0\n",
    "    #grads = Flux.gradient(Flux.params(ag.model)) do\n",
    "    grads = Flux.gradient(Flux.params(model)) do\n",
    "        #l = loss(dq,ag)\n",
    "        loss(dq,ag, model)/length(ag.state)\n",
    "    end\n",
    "    ll_it[it] = loss(dq,ag, model)\n",
    "    print(\"loss:$(ll_it[it]), \")\n",
    "    println(ag.state)\n",
    "    #Flux.Optimise.update!(ADAM(), Flux.params(ag.model), grads)\n",
    "    Flux.Optimise.update!(ADAM(), Flux.params(model), grads)\n",
    "end"
   ]
  },
  {
   "cell_type": "code",
   "execution_count": 27,
   "metadata": {},
   "outputs": [
    {
     "data": {
      "text/plain": [
       "1-element Vector{Vector{ComplexF64}}:\n",
       " [-0.5532756888199392 + 0.5201040998356157im, -0.5775395376605479 + 0.2997095592967405im]"
      ]
     },
     "execution_count": 27,
     "metadata": {},
     "output_type": "execute_result"
    }
   ],
   "source": [
    "is_test = (2-1)%en.Ns + 1\n",
    "sw_test = div(2, en.Ns+1)\n",
    "var_now = [exp((2sw_test-1)*1.0im*sample.gauge_sample[b,is_test])*wave_fn(sample.var[is_test], sw_test) for b in 1:en.n_batch]"
   ]
  },
  {
   "cell_type": "code",
   "execution_count": 30,
   "metadata": {},
   "outputs": [
    {
     "data": {
      "text/plain": [
       "1-element Vector{Adjoint{ComplexF64, Vector{ComplexF64}}}:\n",
       " [-0.5532756888199392 - 0.5201040998356157im -0.5775395376605479 - 0.2997095592967405im]"
      ]
     },
     "execution_count": 30,
     "metadata": {},
     "output_type": "execute_result"
    }
   ],
   "source": [
    "is_test1 = (5-1)%en.Ns + 1\n",
    "sw_test1 = div(5, en.Ns+1)\n",
    "var_now1 = [exp((2sw_test1-1)*1.0im*sample.gauge_sample[b,is_test1])*wave_fn(sample.var[is_test1], sw_test1) for b in 1:en.n_batch]"
   ]
  },
  {
   "cell_type": "code",
   "execution_count": 31,
   "metadata": {},
   "outputs": [
    {
     "data": {
      "text/plain": [
       "1.0 - 1.8924777989989362e-17im"
      ]
     },
     "execution_count": 31,
     "metadata": {},
     "output_type": "execute_result"
    }
   ],
   "source": [
    "var_now1[1]*var_now[1]"
   ]
  },
  {
   "cell_type": "code",
   "execution_count": 24,
   "metadata": {},
   "outputs": [
    {
     "data": {
      "text/plain": [
       "1.0 - 4.9765067934427186e-18im"
      ]
     },
     "execution_count": 24,
     "metadata": {},
     "output_type": "execute_result"
    }
   ],
   "source": [
    "w1 = wave_fn(sample.var[2], 0)\n",
    "w2 = wave_fn(sample.var[2], 1)\n",
    "w2*w1"
   ]
  },
  {
   "cell_type": "code",
   "execution_count": 16,
   "metadata": {},
   "outputs": [
    {
     "name": "stdout",
     "output_type": "stream",
     "text": [
      "1\n",
      "1\n",
      "1\n"
     ]
    }
   ],
   "source": [
    "Search!(en, dq, sample, ag)"
   ]
  },
  {
   "cell_type": "code",
   "execution_count": null,
   "metadata": {},
   "outputs": [],
   "source": []
  },
  {
   "cell_type": "code",
   "execution_count": 19,
   "metadata": {},
   "outputs": [
    {
     "name": "stdout",
     "output_type": "stream",
     "text": [
      "[1]\n",
      "Int64[]\n",
      "Float32[-21.252821 0.0 0.0 0.0 0.0 0.0 0.0 0.0 0.0 0.0 0.0 0.0; 0.0 0.0 0.0 0.0 0.0 0.0 0.0 0.0 0.0 0.0 0.0 0.0; 0.0 0.0 0.0 0.0 0.0 0.0 0.0 0.0 0.0 0.0 0.0 0.0; 0.0 0.0 0.0 0.0 0.0 0.0 0.0 0.0 0.0 0.0 0.0 0.0; 0.0 0.0 0.0 0.0 0.0 0.0 0.0 0.0 0.0 0.0 0.0 0.0; 0.0 0.0 0.0 0.0 0.0 0.0 0.0 0.0 0.0 0.0 0.0 0.0; 0.0 0.0 0.0 0.0 0.0 0.0 0.0 0.0 0.0 0.0 0.0 0.0; 0.0 0.0 0.0 0.0 0.0 0.0 0.0 0.0 0.0 0.0 0.0 0.0; 0.0 0.0 0.0 0.0 0.0 0.0 0.0 0.0 0.0 0.0 0.0 0.0; 0.0 0.0 0.0 0.0 0.0 0.0 0.0 0.0 0.0 0.0 0.0 0.0; 0.0 0.0 0.0 0.0 0.0 0.0 0.0 0.0 0.0 0.0 0.0 0.0; 0.0 0.0 0.0 0.0 0.0 0.0 0.0 0.0 0.0 0.0 0.0 0.0; 0.0 0.0 0.0 0.0 0.0 0.0 0.0 0.0 0.0 0.0 0.0 0.0; 0.0 0.0 0.0 0.0 0.0 0.0 0.0 0.0 0.0 0.0 0.0 0.0; 0.0 0.0 0.0 0.0 0.0 0.0 0.0 0.0 0.0 0.0 0.0 0.0; 0.0 0.0 0.0 0.0 0.0 0.0 0.0 0.0 0.0 0.0 0.0 0.0; 0.0 0.0 0.0 0.0 0.0 0.0 0.0 0.0 0.0 0.0 0.0 0.0; 0.0 0.0 0.0 0.0 0.0 0.0 0.0 0.0 0.0 0.0 0.0 0.0; 0.0 0.0 0.0 0.0 0.0 0.0 0.0 0.0 0.0 0.0 0.0 0.0; 0.0 0.0 0.0 0.0 0.0 0.0 0.0 0.0 0.0 0.0 0.0 0.0]\n"
     ]
    }
   ],
   "source": [
    "println(ag.state)\n",
    "println(ag.branch)\n",
    "println(ag.q_table)"
   ]
  },
  {
   "cell_type": "code",
   "execution_count": 24,
   "metadata": {},
   "outputs": [
    {
     "name": "stdout",
     "output_type": "stream",
     "text": [
      "1\n",
      "0\n",
      "20\n",
      "20\n",
      "1\n",
      "1\n"
     ]
    }
   ],
   "source": [
    "Search!(en, dq, sample, ag)"
   ]
  },
  {
   "cell_type": "code",
   "execution_count": 25,
   "metadata": {},
   "outputs": [
    {
     "data": {
      "text/plain": [
       "451.6824035644531"
      ]
     },
     "execution_count": 25,
     "metadata": {},
     "output_type": "execute_result"
    }
   ],
   "source": [
    "ll = loss(dq,ag)"
   ]
  },
  {
   "cell_type": "code",
   "execution_count": 32,
   "metadata": {},
   "outputs": [
    {
     "data": {
      "text/plain": [
       "loss (generic function with 1 method)"
      ]
     },
     "execution_count": 32,
     "metadata": {},
     "output_type": "execute_result"
    }
   ],
   "source": [
    "function loss(dq::DQN,ag::Agt)\n",
    "    T = length(ag.state)\n",
    "    l=0.0\n",
    "    for t in 1:T\n",
    "        if(t==1)\n",
    "            st_turn::Vector{Int} = []\n",
    "        else\n",
    "            st_turn = ag.state[1:t-1]\n",
    "        end\n",
    "        rem_turn = zeros(Int, dq.act_MAX - (t-1))\n",
    "        st = vcat(st_turn, rem_turn) \n",
    "        q = ag.model(st)\n",
    "        #l += sum((q - ag.q_table[t, :]).^2)\n",
    "        l += q'*q\n",
    "    end\n",
    "    return l\n",
    "end"
   ]
  },
  {
   "cell_type": "code",
   "execution_count": 33,
   "metadata": {},
   "outputs": [
    {
     "data": {
      "text/plain": [
       "Grads(...)"
      ]
     },
     "execution_count": 33,
     "metadata": {},
     "output_type": "execute_result"
    }
   ],
   "source": [
    "grads = Flux.gradient(Flux.params(ag.model)) do\n",
    "    ll = loss(dq,ag)\n",
    "end"
   ]
  },
  {
   "cell_type": "code",
   "execution_count": 31,
   "metadata": {},
   "outputs": [
    {
     "data": {
      "text/plain": [
       "20-element Vector{Any}:\n",
       " 0\n",
       " 0\n",
       " 0\n",
       " 0\n",
       " 0\n",
       " 0\n",
       " 0\n",
       " 0\n",
       " 0\n",
       " 0\n",
       " 0\n",
       " 0\n",
       " 0\n",
       " 0\n",
       " 0\n",
       " 0\n",
       " 0\n",
       " 0\n",
       " 0\n",
       " 0"
      ]
     },
     "execution_count": 31,
     "metadata": {},
     "output_type": "execute_result"
    }
   ],
   "source": [
    "st_turn = []\n",
    "rem_turn = zeros(Int, dq.act_MAX)\n",
    "st = vcat(st_turn, rem_turn)"
   ]
  },
  {
   "cell_type": "code",
   "execution_count": 34,
   "metadata": {},
   "outputs": [
    {
     "data": {
      "text/plain": [
       "2"
      ]
     },
     "execution_count": 34,
     "metadata": {},
     "output_type": "execute_result"
    }
   ],
   "source": [
    "test1 = [1.0, 2.0, 0.0, 2.0, 2.0]\n",
    "argmax(test1)"
   ]
  },
  {
   "cell_type": "code",
   "execution_count": 35,
   "metadata": {},
   "outputs": [
    {
     "data": {
      "text/plain": [
       "3-element Vector{Int64}:\n",
       " 2\n",
       " 4\n",
       " 5"
      ]
     },
     "execution_count": 35,
     "metadata": {},
     "output_type": "execute_result"
    }
   ],
   "source": [
    "findall(test1 .== maximum(test1))"
   ]
  },
  {
   "cell_type": "code",
   "execution_count": 36,
   "metadata": {},
   "outputs": [
    {
     "data": {
      "text/plain": [
       "1.0"
      ]
     },
     "execution_count": 36,
     "metadata": {},
     "output_type": "execute_result"
    }
   ],
   "source": [
    "1000/1000"
   ]
  },
  {
   "cell_type": "code",
   "execution_count": 1,
   "metadata": {},
   "outputs": [
    {
     "ename": "LoadError",
     "evalue": "LoadError: UndefVarError: @load not defined\nin expression starting at /Users/michishita/Documents/Codes/julia/MCTS_GI/e-greedy_test.ipynb:1",
     "output_type": "error",
     "traceback": [
      "LoadError: UndefVarError: @load not defined\n",
      "in expression starting at /Users/michishita/Documents/Codes/julia/MCTS_GI/e-greedy_test.ipynb:1\n"
     ]
    }
   ],
   "source": [
    "@load \"./mymodel.bson\" model\n",
    "@show model"
   ]
  },
  {
   "cell_type": "code",
   "execution_count": 14,
   "metadata": {},
   "outputs": [
    {
     "name": "stdout",
     "output_type": "stream",
     "text": [
      "model = Chain(Dense(4 => 8), Dense(8 => 8), Dense(8 => 8), Dense(8 => 5))\n"
     ]
    },
    {
     "data": {
      "text/plain": [
       "5-element Vector{Float32}:\n",
       " -8.183295\n",
       " -7.7837644\n",
       " -6.1905055\n",
       "  4.3143835\n",
       " -3.0684485"
      ]
     },
     "metadata": {},
     "output_type": "display_data"
    }
   ],
   "source": [
    "@load \"./mymodel.bson\" model\n",
    "@show model\n",
    "test = [0, 0, 0, 0]\n",
    "A = model(test)"
   ]
  },
  {
   "cell_type": "code",
   "execution_count": 15,
   "metadata": {},
   "outputs": [
    {
     "data": {
      "text/plain": [
       "5-element Vector{Float32}:\n",
       " -16.232706\n",
       " -15.39147\n",
       " -13.146998\n",
       "   9.454458\n",
       "  -5.539211"
      ]
     },
     "metadata": {},
     "output_type": "display_data"
    }
   ],
   "source": [
    "test = [4, 0, 0, 0]\n",
    "A = model(test)"
   ]
  },
  {
   "cell_type": "code",
   "execution_count": 10,
   "metadata": {},
   "outputs": [
    {
     "data": {
      "text/plain": [
       "5-element Vector{Float32}:\n",
       "  -6.812312\n",
       "  -6.8972197\n",
       " -10.720585\n",
       " -11.248022\n",
       " -12.042385"
      ]
     },
     "metadata": {},
     "output_type": "display_data"
    }
   ],
   "source": [
    "test = [5, 10, 0, 0, 0]\n",
    "A = model(test)"
   ]
  },
  {
   "cell_type": "code",
   "execution_count": 126,
   "metadata": {},
   "outputs": [
    {
     "data": {
      "text/plain": [
       "5-element Vector{Float32}:\n",
       " 0.19777422\n",
       " 0.8005499\n",
       " 0.00073171436\n",
       " 0.0004198221\n",
       " 0.0005244279"
      ]
     },
     "execution_count": 126,
     "metadata": {},
     "output_type": "execute_result"
    }
   ],
   "source": [
    "softmax(A)"
   ]
  },
  {
   "cell_type": "code",
   "execution_count": 81,
   "metadata": {},
   "outputs": [
    {
     "ename": "LoadError",
     "evalue": "BoundsError: attempt to access 0-element Vector{Any} at index [0]",
     "output_type": "error",
     "traceback": [
      "BoundsError: attempt to access 0-element Vector{Any} at index [0]",
      "",
      "Stacktrace:",
      " [1] getindex(A::Vector{Any}, i1::Int64)",
      "   @ Base ./array.jl:924",
      " [2] top-level scope",
      "   @ In[81]:2"
     ]
    }
   ],
   "source": [
    "test = []\n",
    "test[end]"
   ]
  },
  {
   "cell_type": "code",
   "execution_count": 64,
   "metadata": {},
   "outputs": [
    {
     "data": {
      "text/plain": [
       "Chain(\n",
       "  Dense(15 => 16, relu),                \u001b[90m# 256 parameters\u001b[39m\n",
       "  Dense(16 => 16, relu),                \u001b[90m# 272 parameters\u001b[39m\n",
       "  Dense(16 => 16, relu),                \u001b[90m# 272 parameters\u001b[39m\n",
       "  Dense(16 => 16, relu),                \u001b[90m# 272 parameters\u001b[39m\n",
       "  Dense(16 => 16, relu),                \u001b[90m# 272 parameters\u001b[39m\n",
       "  Dense(16 => 12),                      \u001b[90m# 204 parameters\u001b[39m\n",
       ") \u001b[90m                  # Total: 12 arrays, \u001b[39m1_548 parameters, 6.797 KiB."
      ]
     },
     "execution_count": 64,
     "metadata": {},
     "output_type": "execute_result"
    }
   ],
   "source": [
    "model = Chain(Dense(dq.act_MAX, dq.width, relu), Dense(dq.width, dq.width, relu), Dense(dq.width, dq.width, relu), Dense(dq.width, dq.width, relu), Dense(dq.width, dq.width, relu), Dense(dq.width, en.num_tot, init=Flux.ones32))"
   ]
  },
  {
   "cell_type": "code",
   "execution_count": 58,
   "metadata": {},
   "outputs": [
    {
     "name": "stdout",
     "output_type": "stream",
     "text": [
      "Float32[-4.133523, -15.241394, -18.704393, -7.3172717, 23.11225, 23.308975, 32.77651, 3.095732, 4.5304666, 3.2952948, 23.721226, -10.427928]\n",
      "Float32[9.333953f-17, 1.3995167f-21, 4.3854665f-23, 3.867056f-18, 6.3497086f-5, 7.7302f-5, 0.99974245, 1.2873322f-13, 5.404903f-13, 1.5716657f-13, 0.00011674247, 1.7236118f-19]\n"
     ]
    }
   ],
   "source": [
    "test = 1000*ones(Float32, 15)\n",
    "a=model(test)\n",
    "println(a)\n",
    "println(softmax(a))"
   ]
  },
  {
   "cell_type": "code",
   "execution_count": 43,
   "metadata": {},
   "outputs": [
    {
     "data": {
      "text/plain": [
       "3-element Vector{Any}:\n",
       " 1\n",
       " 2\n",
       " 3"
      ]
     },
     "execution_count": 43,
     "metadata": {},
     "output_type": "execute_result"
    }
   ],
   "source": [
    "test = []\n",
    "push!(test, 1)\n",
    "push!(test, 2)\n",
    "push!(test, 3)"
   ]
  },
  {
   "cell_type": "code",
   "execution_count": 48,
   "metadata": {},
   "outputs": [
    {
     "data": {
      "text/plain": [
       "1"
      ]
     },
     "execution_count": 48,
     "metadata": {},
     "output_type": "execute_result"
    }
   ],
   "source": [
    "pop!(test)"
   ]
  },
  {
   "cell_type": "code",
   "execution_count": 49,
   "metadata": {},
   "outputs": [
    {
     "data": {
      "text/plain": [
       "Any[]"
      ]
     },
     "execution_count": 49,
     "metadata": {},
     "output_type": "execute_result"
    }
   ],
   "source": [
    "test"
   ]
  },
  {
   "cell_type": "code",
   "execution_count": 50,
   "metadata": {},
   "outputs": [
    {
     "data": {
      "text/plain": [
       "0"
      ]
     },
     "execution_count": 50,
     "metadata": {},
     "output_type": "execute_result"
    }
   ],
   "source": [
    "size(test)[1]"
   ]
  },
  {
   "cell_type": "code",
   "execution_count": 1,
   "metadata": {},
   "outputs": [
    {
     "data": {
      "text/plain": [
       "5.0"
      ]
     },
     "execution_count": 1,
     "metadata": {},
     "output_type": "execute_result"
    }
   ],
   "source": [
    "maximum([1.0, 5.0, 2.0])"
   ]
  },
  {
   "cell_type": "code",
   "execution_count": 32,
   "metadata": {},
   "outputs": [
    {
     "data": {
      "text/plain": [
       "main (generic function with 1 method)"
      ]
     },
     "execution_count": 32,
     "metadata": {},
     "output_type": "execute_result"
    }
   ],
   "source": [
    "include(\"DQN_MC.jl\")"
   ]
  },
  {
   "cell_type": "code",
   "execution_count": 2,
   "metadata": {},
   "outputs": [
    {
     "data": {
      "text/plain": [
       "0.005"
      ]
     },
     "execution_count": 2,
     "metadata": {},
     "output_type": "execute_result"
    }
   ],
   "source": [
    "#N_s, n_batch, penalty\n",
    "en = Env(init_Env(1, 10, 100.0)...)\n",
    "#width, act_MAX, ϵ\n",
    "dq = DQN(init_DQN(16, 5, 0.005, en)...)\n",
    "ag = Agt(init_agt(en, dq)...)\n",
    "\n",
    "model = Chain(Dense(dq.act_MAX, dq.width, relu), Dense(dq.width, dq.width, relu), Dense(dq.width, dq.width, relu), Dense(dq.width, en.num_tot))\n",
    "#model = Chain(Dense(dq.act_MAX, dq.width), Dense(dq.width, dq.width) , Dense(dq.width, dq.width), Dense(dq.width, en.num_tot))\n",
    "#, Dense(dq.width, dq.width, relu) , Dense(dq.width, dq.width, relu),\n",
    "\n",
    "η = 0.005"
   ]
  },
  {
   "cell_type": "code",
   "execution_count": 20,
   "metadata": {},
   "outputs": [],
   "source": [
    "sample = Sample(get_Sample(en)...)\n",
    "Search!(en, dq, sample, ag, model)"
   ]
  },
  {
   "cell_type": "code",
   "execution_count": 21,
   "metadata": {},
   "outputs": [
    {
     "name": "stdout",
     "output_type": "stream",
     "text": [
      "[1, 3, 10, 20, 2]\n"
     ]
    }
   ],
   "source": [
    "println(ag.state)"
   ]
  },
  {
   "cell_type": "code",
   "execution_count": 34,
   "metadata": {},
   "outputs": [
    {
     "name": "stdout",
     "output_type": "stream",
     "text": [
      "ag.q_table = Float32[0.010017703 -0.0049412083 1.7958635 -0.0033347472 0.0026585727; -0.008794929 0.088410944 -0.12989365 0.0016303277 1.7958635; 1.7958635 0.046672914 0.13063908 0.058654938 -0.097600676; 1.029346 1.7958635 -0.11251773 -0.25043476 -0.16263339; 0.15029517 0.22413763 1.7958635 -99.0 -1.7459356]\n"
     ]
    },
    {
     "data": {
      "text/plain": [
       "5×5 Matrix{Float32}:\n",
       "  0.0100177   -0.00494121   1.79586    -0.00333475   0.00265857\n",
       " -0.00879493   0.0884109   -0.129894    0.00163033   1.79586\n",
       "  1.79586      0.0466729    0.130639    0.0586549   -0.0976007\n",
       "  1.02935      1.79586     -0.112518   -0.250435    -0.162633\n",
       "  0.150295     0.224138     1.79586   -99.0         -1.74594"
      ]
     },
     "execution_count": 34,
     "metadata": {},
     "output_type": "execute_result"
    }
   ],
   "source": [
    "@show ag.q_table"
   ]
  },
  {
   "cell_type": "code",
   "execution_count": 26,
   "metadata": {},
   "outputs": [
    {
     "data": {
      "text/plain": [
       "-99.0"
      ]
     },
     "execution_count": 26,
     "metadata": {},
     "output_type": "execute_result"
    }
   ],
   "source": [
    "reward(en, sample, ag)"
   ]
  },
  {
   "cell_type": "code",
   "execution_count": 33,
   "metadata": {},
   "outputs": [
    {
     "name": "stdout",
     "output_type": "stream",
     "text": [
      "-99.0\n",
      "-99.0\n",
      "1.7958635\n",
      "1.7958635\n",
      "1.7958635\n",
      "1.7958635\n"
     ]
    }
   ],
   "source": [
    "q_update!(en, ag, -99.0)"
   ]
  },
  {
   "cell_type": "code",
   "execution_count": 35,
   "metadata": {},
   "outputs": [
    {
     "data": {
      "text/plain": [
       "10035.52076625824"
      ]
     },
     "execution_count": 35,
     "metadata": {},
     "output_type": "execute_result"
    }
   ],
   "source": [
    "grads = Flux.gradient(Flux.params(model)) do\n",
    "    #l = loss(dq,ag)\n",
    "    loss(dq,ag, model)/length(ag.state)\n",
    "end\n",
    "l = loss(dq,ag, model)"
   ]
  },
  {
   "cell_type": "code",
   "execution_count": 36,
   "metadata": {},
   "outputs": [],
   "source": [
    "Flux.Optimise.update!(ADAM(η), Flux.params(model), grads)"
   ]
  },
  {
   "cell_type": "code",
   "execution_count": 15,
   "metadata": {},
   "outputs": [
    {
     "data": {
      "text/plain": [
       "0"
      ]
     },
     "execution_count": 15,
     "metadata": {},
     "output_type": "execute_result"
    }
   ],
   "source": [
    "best_score = -100.0\n",
    "best_state::Vector{Int} = []\n",
    "n_replay = 0\n",
    "n_up = 0"
   ]
  },
  {
   "cell_type": "code",
   "execution_count": 37,
   "metadata": {},
   "outputs": [
    {
     "data": {
      "text/plain": [
       "-100.0"
      ]
     },
     "execution_count": 37,
     "metadata": {},
     "output_type": "execute_result"
    }
   ],
   "source": [
    "best_score"
   ]
  },
  {
   "cell_type": "code",
   "execution_count": 38,
   "metadata": {},
   "outputs": [
    {
     "data": {
      "text/plain": [
       "-99.0"
      ]
     },
     "execution_count": 38,
     "metadata": {},
     "output_type": "execute_result"
    }
   ],
   "source": [
    "reward(en, sample, ag)"
   ]
  },
  {
   "cell_type": "code",
   "execution_count": 16,
   "metadata": {},
   "outputs": [
    {
     "data": {
      "text/plain": [
       "false"
      ]
     },
     "execution_count": 16,
     "metadata": {},
     "output_type": "execute_result"
    }
   ],
   "source": [
    "(best_score > reward(en, sample, ag))"
   ]
  },
  {
   "cell_type": "code",
   "execution_count": 17,
   "metadata": {},
   "outputs": [
    {
     "data": {
      "text/plain": [
       "1-element Vector{Int64}:\n",
       " 20"
      ]
     },
     "execution_count": 17,
     "metadata": {},
     "output_type": "execute_result"
    }
   ],
   "source": [
    "if(best_score > reward(en, sample, ag))\n",
    "    n_replay += 1\n",
    "    ag.state = best_state\n",
    "    grads = Flux.gradient(Flux.params(model)) do\n",
    "        loss(dq,ag, model)/length(ag.state)\n",
    "    end\n",
    "    Flux.Optimise.update!(ADAM(η), Flux.params(model), grads)\n",
    "else\n",
    "    n_up +=1\n",
    "    best_state = ag.state\n",
    "    best_score = reward(en, sample, ag)\n",
    "end"
   ]
  },
  {
   "cell_type": "code",
   "execution_count": 40,
   "metadata": {},
   "outputs": [
    {
     "name": "stdout",
     "output_type": "stream",
     "text": [
      "replay: 0\n",
      "noup: 1\n",
      "-100.0\n",
      "[20]\n"
     ]
    }
   ],
   "source": [
    "println(\"replay: $(n_replay)\")\n",
    "println(\"noup: $(n_up)\")\n",
    "println(best_score)\n",
    "println(best_state)"
   ]
  },
  {
   "cell_type": "code",
   "execution_count": null,
   "metadata": {},
   "outputs": [],
   "source": []
  }
 ],
 "metadata": {
  "kernelspec": {
   "display_name": "Julia 1.8.5",
   "language": "julia",
   "name": "julia-1.8"
  },
  "language_info": {
   "file_extension": ".jl",
   "mimetype": "application/julia",
   "name": "julia",
   "version": "1.8.5"
  },
  "orig_nbformat": 4
 },
 "nbformat": 4,
 "nbformat_minor": 2
}
