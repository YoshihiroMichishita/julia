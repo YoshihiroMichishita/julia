{
 "cells": [
  {
   "cell_type": "code",
   "execution_count": 1,
   "metadata": {},
   "outputs": [],
   "source": [
    "using LinearAlgebra"
   ]
  },
  {
   "cell_type": "code",
   "execution_count": 2,
   "metadata": {},
   "outputs": [],
   "source": [
    "struct Parm\n",
    "    γg::Float64\n",
    "    γl::Float64\n",
    "    gt::Float64\n",
    "    ω::Float64\n",
    "    Nmax::Int\n",
    "    rmax::Float64\n",
    "end"
   ]
  },
  {
   "cell_type": "code",
   "execution_count": 3,
   "metadata": {},
   "outputs": [
    {
     "data": {
      "text/plain": [
       "Parm(0.5, 1.0, 0.01, 0.1, 20, 16.0)"
      ]
     },
     "metadata": {},
     "output_type": "display_data"
    }
   ],
   "source": [
    "p0 = Parm(0.5, 1.0, 0.01, 0.1, 20, 16.0)"
   ]
  },
  {
   "cell_type": "code",
   "execution_count": 4,
   "metadata": {},
   "outputs": [
    {
     "data": {
      "text/plain": [
       "make_GKSL (generic function with 1 method)"
      ]
     },
     "metadata": {},
     "output_type": "display_data"
    }
   ],
   "source": [
    "function make_GKSL(p::Parm)\n",
    "    GKSL = zeros(ComplexF64, (p.Nmax+1)^2, (p.Nmax+1)^2)\n",
    "    #Diagonal part\n",
    "    for i in 0:p.Nmax\n",
    "        for j in 0:p.Nmax\n",
    "            ##consider the term act on \\rho[i,j]\n",
    "            #Hermitian part\n",
    "            GKSL[i*(p.Nmax+1)+j+1, i*(p.Nmax+1)+j+1] += -1.0im * (i-j) * p.ω\n",
    "\n",
    "            #loss term\n",
    "            if(i>0 && j>0)\n",
    "                GKSL[(i-1)*(p.Nmax+1)+j, i*(p.Nmax+1)+j+1] += p.γl * sqrt(i*j)\n",
    "            end\n",
    "            GKSL[i*(p.Nmax+1)+j+1, i*(p.Nmax+1)+j+1] -= (i+j) * p.γl / 2.0\n",
    "\n",
    "            #gain term\n",
    "            if(i<p.Nmax && j<p.Nmax)\n",
    "                GKSL[(i+1)*(p.Nmax+1)+j+2, i*(p.Nmax+1)+j+1] += p.γg * sqrt((i+1)*(j+1))\n",
    "            end\n",
    "            GKSL[i*(p.Nmax+1)+j+1, i*(p.Nmax+1)+j+1] -= (i+j+2) * p.γg / 2.0\n",
    "\n",
    "            #interaction term\n",
    "            if(i>1 && j>1)\n",
    "                GKSL[(i-2)*(p.Nmax+1)+j-1, i*(p.Nmax+1)+j+1] += p.gt * sqrt(i*(i-1)*j*(j-1)) /2.0\n",
    "            elseif(i>1)\n",
    "                GKSL[(i-2)*(p.Nmax+1)+j+1, i*(p.Nmax+1)+j+1] += p.gt * j *sqrt(i*(i-1)) /2.0 - p.gt * (i-2)*sqrt(i*(i-1)) /4.0\n",
    "            elseif(j>1)\n",
    "                GKSL[i*(p.Nmax+1)+j-1, i*(p.Nmax+1)+j+1] += p.gt * i *sqrt(j*(j-1)) /2.0 - p.gt * (j-2)*sqrt(j*(j-1)) /4.0\n",
    "            end\n",
    "\n",
    "            if(i<p.Nmax-1)\n",
    "                GKSL[(i+2)*(p.Nmax+1)+j+1, i*(p.Nmax+1)+j+1] += p.gt * i *sqrt((i+2)*(i+1)) /4.0\n",
    "            end\n",
    "            if(j<p.Nmax-1)\n",
    "                GKSL[i*(p.Nmax+1)+j+3, i*(p.Nmax+1)+j+1] += p.gt * j *sqrt((j+2)*(j+1)) /4.0\n",
    "            end\n",
    "            GKSL[i*(p.Nmax+1)+j+1, i*(p.Nmax+1)+j+1] -= (i+j+2) * p.gt / 2.0\n",
    "        end\n",
    "    end\n",
    "    return GKSL\n",
    "end"
   ]
  },
  {
   "cell_type": "code",
   "execution_count": null,
   "metadata": {},
   "outputs": [],
   "source": []
  }
 ],
 "metadata": {
  "kernelspec": {
   "display_name": "Julia 1.9.0",
   "language": "julia",
   "name": "julia-1.9"
  },
  "language_info": {
   "file_extension": ".jl",
   "mimetype": "application/julia",
   "name": "julia",
   "version": "1.9.0"
  },
  "orig_nbformat": 4
 },
 "nbformat": 4,
 "nbformat_minor": 2
}
