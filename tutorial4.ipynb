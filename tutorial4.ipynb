{
 "cells": [
  {
   "cell_type": "markdown",
   "metadata": {},
   "source": [
    "## IR基底とサンプリングポイントの生成"
   ]
  },
  {
   "cell_type": "code",
   "execution_count": null,
   "metadata": {},
   "outputs": [],
   "source": [
    "using PyCall\n",
    "#run(`$(PyCall.python) -m pip install --upgrade cython`)\n",
    "#run(`$(PyCall.python) -m pip install plfit`)\n",
    "#plfit= pyimport(\"plfit\")\n",
    "#Pkg.add(\"Conda\")\n",
    "PyCall.pyprogramname\n",
    "using Conda\n",
    "run(`$(PyCall.python) -m pip install irbasis3`)\n",
    "#Conda.pip_interop(true, ROOTENV)\n",
    "#Conda.pip(\"install\", \"irbasis3==3.0a4\")\n",
    "#Conda.add(\"plfit\")\n",
    "#PyCall.pyprogramname\n",
    "#pip install irbasis3==3.0a4\n",
    "#import PyCall: pyimport\n",
    "#irbasis3 = pyimport(\"irbasis3\")\n",
    "import PyCall: pyimport\n",
    "irbasis3 = pyimport(\"irbasis3\")\n",
    "const newaxis = [CartesianIndex()]"
   ]
  },
  {
   "cell_type": "code",
   "execution_count": null,
   "metadata": {},
   "outputs": [],
   "source": [
    "\n",
    "lambda_ = 1e+5\n",
    "beta = 1e+3\n",
    "eps = 1e-7\n",
    "# Number of divisions along each reciprocal lattice vector\n",
    "# Note: For a smaller nk (e.g., 64), an unphysical small structures appear in the self-energy at low frequencies.\n",
    "K_size = 256\n",
    "U = 2.0 # Onsite repulsion\n",
    "\n",
    "wmax = lambda_/beta\n",
    "K = irbasis3.KernelFFlat(lambda_=lambda_)\n",
    "basis = irbasis3.FiniteTempBasis(K, statistics=\"F\", beta=beta, eps=eps)\n",
    "L = basis.size\n",
    "\n",
    "# Sparse sampling in tau\n",
    "smpl_tau = irbasis3.TauSampling(basis)\n",
    "ntau = length(smpl_tau.sampling_points)\n",
    "println(\"cond (tau): \", smpl_tau.cond)\n",
    "\n",
    "# Sparse sampling in Matsubara frequencies\n",
    "smpl_matsu = irbasis3.MatsubaraSampling(basis)\n",
    "nw = length(smpl_matsu.sampling_points)\n",
    "println(\"cond (matsu): \", smpl_matsu.cond)"
   ]
  },
  {
   "cell_type": "markdown",
   "metadata": {},
   "source": [
    "## 2. 波数空間上でのnon-interactingのGreen関数の生成"
   ]
  },
  {
   "cell_type": "code",
   "execution_count": null,
   "metadata": {},
   "outputs": [],
   "source": [
    "#tupleの生成\n",
    "kps = (K_size, K_size)\n",
    "\n",
    "#K_sizeの二乗\n",
    "nk = prod(kps)\n",
    "nr = nk\n",
    "\n",
    "ek = zeros(Float64, kps...) # Equivalent to zeros(Float64, kps[1], kps[2])\n",
    "for k2 in 1:K_size, k1 in 1:K_size\n",
    "   ek[k1, k2] = -2 * (cos(2*π*k1/K_size) + cos(2*π*k2/K_size))\n",
    "end"
   ]
  },
  {
   "cell_type": "code",
   "execution_count": null,
   "metadata": {},
   "outputs": [],
   "source": [
    "iv = (im * π/beta) * smpl_matsu.sampling_points\n",
    "gkf = 1.0 ./ (iv[:,newaxis] .- vec(ek)[newaxis,:])\n",
    "\n",
    "using PyPlot\n",
    "\n",
    "rcParams = PyPlot.PyDict(PyPlot.matplotlib.\"rcParams\")\n",
    "\n",
    "#rcParams[\"text.usetex\"] = true\n",
    "rcParams[\"font.family\"] = \"serif\"\n",
    "rcParams[\"font.size\"] = 16\n",
    "#plot()\n",
    "plt.plot(smpl_matsu.sampling_points, imag(gkf[:,1]), label=\"k=Γ\", marker=\"x\")\n",
    "#plt.xlabel(L\"$\\nu$\")\n",
    "#plt.ylabel(L\"$\\mathrm{Im}~G(\\mathrm{i}\\nu)$\")\n",
    "#plt.legend()"
   ]
  },
  {
   "cell_type": "code",
   "execution_count": null,
   "metadata": {},
   "outputs": [],
   "source": [
    "gkl = smpl_matsu.fit(gkf, axis=0)\n",
    "\n",
    "@assert size(gkl) == (L, nk)\n",
    "\n",
    "plt.semilogy(abs.(gkl[:,1]))\n",
    "plt.semilogy(basis.s, ls=\"--\")\n",
    "plt.xlabel(L\"$l$\")\n",
    "plt.ylabel(L\"$|G(l, \\Gamma)|$\")"
   ]
  }
 ],
 "metadata": {
  "kernelspec": {
   "display_name": "Julia 1.6.2",
   "language": "julia",
   "name": "julia-1.6"
  },
  "language_info": {
   "name": "julia"
  },
  "orig_nbformat": 4
 },
 "nbformat": 4,
 "nbformat_minor": 2
}
