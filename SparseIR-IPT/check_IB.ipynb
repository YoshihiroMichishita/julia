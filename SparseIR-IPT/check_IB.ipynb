{
 "cells": [
  {
   "cell_type": "code",
   "execution_count": 1,
   "metadata": {},
   "outputs": [],
   "source": [
    "include(\"model_2D_IB.jl\")\n",
    "\n",
    "using SparseIR, Plots\n",
    "#using OMEinsum\n",
    "#using FastGaussQuadrature\n",
    "import SparseIR: valueim, value\n",
    "import SparseIR: fit"
   ]
  },
  {
   "cell_type": "code",
   "execution_count": 2,
   "metadata": {},
   "outputs": [
    {
     "data": {
      "text/plain": [
       "gk_m (generic function with 1 method)"
      ]
     },
     "execution_count": 2,
     "metadata": {},
     "output_type": "execute_result"
    }
   ],
   "source": [
    "struct IR_params\n",
    "    U::Float64\n",
    "    beta::Float64\n",
    "    bw::Float64\n",
    "    basis::FiniteTempBasis\n",
    "    #{Fermionic, LogisticKernel, Float64, Float64}\n",
    "    \n",
    "    smpl_matsu::MatsubaraSampling64F\n",
    "    smpl_tau::TauSampling64\n",
    "\n",
    "    n_matsu::Int\n",
    "    n_tau::Int\n",
    "\n",
    "    smpl_wn::Vector{ComplexF64}\n",
    "end\n",
    "\n",
    "function set_IR(U::Float64, beta::Float64, bw::Float64)\n",
    "    basis = FiniteTempBasis(Fermionic(), beta, bw, 1e-10)\n",
    "\n",
    "    smpl_matsu = MatsubaraSampling(basis)\n",
    "    n_matsu = size(smpl_matsu.sampling_points)[1]\n",
    "\n",
    "    smpl_tau = TauSampling(basis)\n",
    "    n_tau = size(smpl_tau.sampling_points)[1]\n",
    "\n",
    "    smpl_wn = zeros(ComplexF64, n_matsu)\n",
    "    for w in 1:n_matsu\n",
    "        smpl_wn[w] = valueim(smpl_matsu.sampling_points[w], beta)\n",
    "    end\n",
    "\n",
    "    return U, beta, bw, basis, smpl_matsu, smpl_tau, n_matsu, n_tau, smpl_wn\n",
    "end\n",
    "\n",
    "mutable struct Green_Sigma\n",
    "    g0_ir::Vector{Matrix{ComplexF64}}\n",
    "    g0_ir_vec::Matrix{Float64}\n",
    "    g0_tau::Vector{Matrix{ComplexF64}}\n",
    "    g0_matsu::Vector{Matrix{ComplexF64}}\n",
    "\n",
    "    g_ir::Vector{Matrix{ComplexF64}}\n",
    "    g_ir_vec::Matrix{Float64}\n",
    "    g_matsu::Vector{Matrix{ComplexF64}}\n",
    "\n",
    "    sigma_ir::Vector{Matrix{ComplexF64}}\n",
    "    sigma_tau::Vector{Matrix{ComplexF64}}\n",
    "    sigma_matsu::Vector{Matrix{ComplexF64}}\n",
    "\n",
    "    n_ir::Int\n",
    "end\n",
    "\n",
    "function init_zero_g(ir::IR_params)\n",
    "    \n",
    "    g0_ir::Vector{Matrix{ComplexF64}} = []\n",
    "    g0_ir_vec = zeros(Float64, 43, 4)\n",
    "    g0_tau::Vector{Matrix{ComplexF64}} = []\n",
    "    g0_matsu::Vector{Matrix{ComplexF64}} = []\n",
    "\n",
    "    g_ir::Vector{Matrix{ComplexF64}} = []\n",
    "    g_ir_vec = zeros(Float64, 43, 4)\n",
    "    g_matsu::Vector{Matrix{ComplexF64}} = []\n",
    "\n",
    "    sigma_ir::Vector{Matrix{ComplexF64}} = []\n",
    "    sigma_tau::Vector{Matrix{ComplexF64}} = []\n",
    "    sigma_matsu::Vector{Matrix{ComplexF64}} = []\n",
    "\n",
    "    n_ir::Int = 0\n",
    "\n",
    "    return g0_ir, g0_ir_vec, g0_tau, g0_matsu, g_ir, g_ir_vec, g_matsu, sigma_ir, sigma_tau, sigma_matsu, n_ir\n",
    "end\n",
    "\n",
    "\n",
    "function gk_m(p::Parm, k::Vector{Float64}, w::ComplexF64, g::Green_Sigma)\n",
    "    e = set_H(k,p)\n",
    "    gk = 1.0/(w - e - g.sig)\n",
    "    return gk\n",
    "end\n"
   ]
  },
  {
   "cell_type": "code",
   "execution_count": 47,
   "metadata": {},
   "outputs": [
    {
     "name": "stdout",
     "output_type": "stream",
     "text": [
      "Parm(0.5, 0.2, 0.3, -2.0, 0.05, 200, 2.5e-5)\n"
     ]
    }
   ],
   "source": [
    "px = Parm(set_parm([\"0.5\",\"0.2\",\"0.3\", \"-2.0\", \"0.05\", \"200\"])...)\n",
    "irx = IR_params(set_IR(4.0, 100.0, 4.0)...)\n",
    "gx = Green_Sigma(init_zero_g(irx)...)\n",
    "println(px)"
   ]
  },
  {
   "cell_type": "code",
   "execution_count": 53,
   "metadata": {},
   "outputs": [
    {
     "data": {
      "text/plain": [
       "get_G0mlocal! (generic function with 1 method)"
      ]
     },
     "execution_count": 53,
     "metadata": {},
     "output_type": "execute_result"
    }
   ],
   "source": [
    "\n",
    "function get_G0mlocal!(p::Parm, k_BZ::Vector{Vector{Float64}}, sw::Int,ir::IR_params, g::Green_Sigma)\n",
    "    if(sw == 1)\n",
    "        for wn in 1:ir.n_matsu\n",
    "            gw_l = zeros(ComplexF64, 2, 2)\n",
    "            gl = zeros(ComplexF64, 2, 2)\n",
    "            for i in 1:length(k_BZ)\n",
    "                e = set_H(k_BZ[i],p) - p.mu*Matrix{Complex{Float64}}(I,2,2)\n",
    "                #gk = 1.0/(w - e + p.eta*1.0im*sign(imag(w)))\n",
    "                gk = inv(ir.smpl_wn[wn]*Matrix{Complex{Float64}}(I,2,2) - e)\n",
    "                gw_l += p.dk2 * gk\n",
    "            end\n",
    "            push!(g.g0_matsu, gw_l)\n",
    "            push!(g.g_matsu, gl)\n",
    "        end\n",
    "    else\n",
    "        n_sub = zeros(ComplexF64, 2, 2)\n",
    "        for wn in 1:ir.n_matsu\n",
    "            #gw_l = zeros(ComplexF64, 2, 2)\n",
    "            gl = zeros(ComplexF64, 2, 2)\n",
    "            for i in 1:length(k_BZ)\n",
    "                #e = set_H(k_BZ[i],p) - p.mu*Matrix{Complex{Float64}}(I,2,2) - p.Δ*sigma[4]\n",
    "                #gk = 1.0/(w - e + p.eta*1.0im*sign(imag(w)))\n",
    "                e = set_H(k_BZ[i],p) - p.Δ*sigma[4] - p.mu*sigma[1]\n",
    "                gk = inv(ir.smpl_wn[wn]*Matrix{Complex{Float64}}(I,2,2) - e - g.sigma_matsu[wn])\n",
    "                gl += p.dk2 * gk\n",
    "            end\n",
    "            #gw_l = inv(inv(gl) + g.sigma_matsu[wn])\n",
    "            #g.g0_matsu[wn] = gw_l\n",
    "            g.g_matsu[wn] = gl\n",
    "            n_sub += gl /ir.beta\n",
    "        end\n",
    "        println(2pi*n_sub[1,1])\n",
    "        println(2pi*n_sub[2,2])\n",
    "        for wn in 1:ir.n_matsu\n",
    "            g.g0_matsu[wn] = inv(inv(g.g_matsu[wn]) + g.sigma_matsu[wn] - ir.U*n_sub) \n",
    "        end\n",
    "    end\n",
    "    return nothing\n",
    "end"
   ]
  },
  {
   "cell_type": "code",
   "execution_count": 5,
   "metadata": {},
   "outputs": [
    {
     "data": {
      "text/plain": [
       "MatsuToTau! (generic function with 1 method)"
      ]
     },
     "execution_count": 5,
     "metadata": {},
     "output_type": "execute_result"
    }
   ],
   "source": [
    "function MatsuToTau!(ir::IR_params, g::Green_Sigma)\n",
    "    g.g0_ir = fit(ir.smpl_matsu, g.g0_matsu, dim=1)\n",
    "    g.g_ir = fit(ir.smpl_matsu, g.g_matsu, dim=1)\n",
    "    g.n_ir = size(g.g0_ir)[1]\n",
    "    g.g0_tau = evaluate(ir.smpl_tau, g.g0_ir, dim=1)\n",
    "end"
   ]
  },
  {
   "cell_type": "code",
   "execution_count": 48,
   "metadata": {},
   "outputs": [],
   "source": [
    "kk = get_kk(px.K_SIZE)\n",
    "get_G0mlocal!(px, kk, 1, irx, gx)\n",
    "    #MatsuToTau!(ir, g)"
   ]
  },
  {
   "cell_type": "code",
   "execution_count": 49,
   "metadata": {},
   "outputs": [
    {
     "name": "stdout",
     "output_type": "stream",
     "text": [
      "done!\n"
     ]
    }
   ],
   "source": [
    "MatsuToTau!(irx, gx)\n",
    "println(\"done!\")"
   ]
  },
  {
   "cell_type": "code",
   "execution_count": 9,
   "metadata": {},
   "outputs": [
    {
     "data": {
      "text/plain": [
       "43"
      ]
     },
     "execution_count": 9,
     "metadata": {},
     "output_type": "execute_result"
    }
   ],
   "source": [
    "gx.n_ir"
   ]
  },
  {
   "cell_type": "code",
   "execution_count": 8,
   "metadata": {},
   "outputs": [
    {
     "data": {
      "text/plain": [
       "calc_sigma! (generic function with 1 method)"
      ]
     },
     "execution_count": 8,
     "metadata": {},
     "output_type": "execute_result"
    }
   ],
   "source": [
    "function calc_sigma!(sw::Int, ir::IR_params, g::Green_Sigma)\n",
    "    for tau in 1:ir.n_tau\n",
    "        if(sw == 1)\n",
    "            test = zeros(ComplexF64, 2, 2)\n",
    "            for i in 1:2, j in 1:2 \n",
    "                test[i,j] = ir.U^2 * (g.g0_tau[tau])[i,j] * (g.g0_tau[tau])[3-i,3-j] * (g.g0_tau[end+1-tau])[3-i,3-j]\n",
    "                test[i,j] += ir.U * (g.g0_tau[tau])[3-i,3-j]\n",
    "            end\n",
    "            push!(g.sigma_tau, test)\n",
    "        else\n",
    "            for i in 1:2, j in 1:2 \n",
    "                (g.sigma_tau[tau])[i,j] = ir.U^2 * (g.g0_tau[tau])[i,j] * (g.g0_tau[tau])[3-i,3-j] * (g.g0_tau[end+1-tau])[3-i,3-j]\n",
    "                (g.sigma_tau[tau])[i,j] += ir.U * (g.g0_tau[tau])[3-i,3-j]\n",
    "                #(g.sigma_tau[tau])[i,j] = ir.U^2 * (g.g0_tau[tau])[i,j] * (g.g0_tau[tau])[i,j] * (g.g0_tau[end+1-tau])[i,j]\n",
    "            end\n",
    "        end\n",
    "    end\n",
    "    return nothing\n",
    "end"
   ]
  },
  {
   "cell_type": "code",
   "execution_count": 50,
   "metadata": {},
   "outputs": [],
   "source": [
    "calc_sigma!(1, irx, gx)"
   ]
  },
  {
   "cell_type": "code",
   "execution_count": 10,
   "metadata": {},
   "outputs": [
    {
     "data": {
      "text/plain": [
       "TauToMatsu! (generic function with 1 method)"
      ]
     },
     "execution_count": 10,
     "metadata": {},
     "output_type": "execute_result"
    }
   ],
   "source": [
    "function TauToMatsu!(sw::Int, ir::IR_params, g::Green_Sigma, γ::Float64)\n",
    "    ir_new = fit(ir.smpl_tau, g.sigma_tau)\n",
    "    diff0 =0.0\n",
    "    sum0 = 0.0\n",
    "    if(sw == 1)\n",
    "        for i in 1:g.n_ir\n",
    "            diff0 += sum(abs.(ir_new[i]))\n",
    "            push!(g.sigma_ir, zeros(ComplexF64, 2, 2))\n",
    "        end\n",
    "        sum0 = 1.0\n",
    "    else\n",
    "        for i in 1:g.n_ir\n",
    "            diff0 += sum(abs.(ir_new[i] .- g.sigma_ir[i]))\n",
    "            sum0 += sum(abs.(g.sigma_ir[i]))\n",
    "        end\n",
    "    end\n",
    "    diff = diff0/sum0\n",
    "    g.sigma_ir = (1.0-γ) .* g.sigma_ir .+ γ .* ir_new\n",
    "    g.sigma_matsu = evaluate(ir.smpl_matsu, g.sigma_ir, dim=1)\n",
    "\n",
    "    return diff\n",
    "end"
   ]
  },
  {
   "cell_type": "code",
   "execution_count": 51,
   "metadata": {},
   "outputs": [
    {
     "data": {
      "text/plain": [
       "15.44351987621311"
      ]
     },
     "execution_count": 51,
     "metadata": {},
     "output_type": "execute_result"
    }
   ],
   "source": [
    "diff = TauToMatsu!(1, irx, gx, 0.2)"
   ]
  },
  {
   "cell_type": "code",
   "execution_count": 12,
   "metadata": {},
   "outputs": [
    {
     "data": {
      "text/plain": [
       "update_g! (generic function with 1 method)"
      ]
     },
     "execution_count": 12,
     "metadata": {},
     "output_type": "execute_result"
    }
   ],
   "source": [
    "function update_g!(p::Parm, k_BZ::Vector{Vector{Float64}},sw::Int, ir::IR_params, g::Green_Sigma, γ::Float64)\n",
    "    get_G0mlocal!(p, k_BZ, sw, ir, g)\n",
    "    MatsuToTau!(ir, g)\n",
    "    calc_sigma!(sw, ir, g)\n",
    "    # .+ ir.U .* g.g0_tau\n",
    "    diff = TauToMatsu!(sw, ir, g, γ)\n",
    "    return diff\n",
    "end"
   ]
  },
  {
   "cell_type": "code",
   "execution_count": 54,
   "metadata": {},
   "outputs": [
    {
     "name": "stdout",
     "output_type": "stream",
     "text": [
      "-0.10825744602257223 + 2.690836048268378e-17im\n",
      "0.10825744602257079 + 1.246640498311679e-16im\n",
      "-0.013986082479196669 + 1.2670772277921981e-16im\n",
      "0.013986082479194775 + 7.834079634199075e-18im\n",
      "-0.007135433224464062 + 7.878359214740201e-16im\n",
      "0.007135433224462416 + 1.0661160545670915e-16im\n",
      "-0.004271798218224356 + 3.0825400299783316e-16im\n",
      "0.0042717982182220865 + 6.404871019194757e-15im\n"
     ]
    }
   ],
   "source": [
    "for it in 2:5\n",
    "    L1 = update_g!(px,kk,it,irx,gx, 0.2)\n",
    "    if(L1<1e-7)\n",
    "        println(it)\n",
    "        break\n",
    "    end\n",
    "end"
   ]
  },
  {
   "cell_type": "code",
   "execution_count": 34,
   "metadata": {},
   "outputs": [
    {
     "data": {
      "text/plain": [
       "MtoV! (generic function with 1 method)"
      ]
     },
     "execution_count": 34,
     "metadata": {},
     "output_type": "execute_result"
    }
   ],
   "source": [
    "function MtoV!(g::Green_Sigma)\n",
    "    g.g0_ir_vec = zeros(Float64, g.n_ir, 4)\n",
    "    g.g_ir_vec = zeros(Float64, g.n_ir, 4)\n",
    "    for it in 1:g.n_ir\n",
    "        for mm in 1:4\n",
    "            g.g0_ir_vec[it,mm] = real(tr(sigma[mm]*g.g0_ir[it]))/2\n",
    "            g.g_ir_vec[it,mm] = real(tr(sigma[mm]*g.g_ir[it]))/2\n",
    "        end\n",
    "    end\n",
    "end"
   ]
  },
  {
   "cell_type": "code",
   "execution_count": 35,
   "metadata": {},
   "outputs": [],
   "source": [
    "MtoV!(gx)"
   ]
  },
  {
   "cell_type": "code",
   "execution_count": 25,
   "metadata": {},
   "outputs": [
    {
     "data": {
      "text/plain": [
       "4-element Vector{Float64}:\n",
       " -1.9061641154394238e-11\n",
       " -4.627479060432188e-17\n",
       " -2.5774440282693543e-19\n",
       "  0.6776410033852819"
      ]
     },
     "execution_count": 25,
     "metadata": {},
     "output_type": "execute_result"
    }
   ],
   "source": [
    "gx.g0_ir_vec[2,:]"
   ]
  },
  {
   "cell_type": "code",
   "execution_count": 16,
   "metadata": {},
   "outputs": [
    {
     "data": {
      "text/plain": [
       "F_rho (generic function with 1 method)"
      ]
     },
     "execution_count": 16,
     "metadata": {},
     "output_type": "execute_result"
    }
   ],
   "source": [
    "function F_rho(ir::IR_params, g::Green_Sigma, rho_ls, λ)\n",
    "    vec = g.g_ir_vec - (ir.basis.s .* rho_ls)\n",
    "    \n",
    "    return f = 0.5*sum((vec.^2)) + λ*sum(abs.(rho_ls))\n",
    "end"
   ]
  },
  {
   "cell_type": "code",
   "execution_count": 28,
   "metadata": {},
   "outputs": [
    {
     "data": {
      "text/plain": [
       "43×4 Matrix{Float64}:\n",
       " 0.436605   0.954257    0.929473    0.913241\n",
       " 0.788514   0.696895    0.472924    0.526256\n",
       " 0.326809   0.517553    0.862117    0.605736\n",
       " 0.211879   0.241286    0.284008    0.924883\n",
       " 0.501329   0.260363    0.0631385   0.525095\n",
       " 0.83362    0.424121    0.198255    0.690617\n",
       " 0.249052   0.00771204  0.644888    0.0794197\n",
       " 0.789887   0.421632    0.48051     0.817133\n",
       " 0.936573   0.270528    0.300669    0.340716\n",
       " 0.250777   0.764035    0.517853    0.161304\n",
       " 0.889651   0.588655    0.0375627   0.779875\n",
       " 0.194588   0.35615     0.722702    0.499188\n",
       " 0.353793   0.134418    0.312163    0.533961\n",
       " ⋮                                  \n",
       " 0.231523   0.795159    0.00526082  0.0547728\n",
       " 0.323236   0.573755    0.0241567   0.553438\n",
       " 0.914351   0.105774    0.311697    0.533854\n",
       " 0.78493    0.267466    0.569519    0.396438\n",
       " 0.615437   0.586836    0.872939    0.795205\n",
       " 0.269602   0.640701    0.899007    0.616103\n",
       " 0.817364   0.933638    0.663632    0.913765\n",
       " 0.0060969  0.276458    0.496283    0.166658\n",
       " 0.244047   0.804872    0.401567    0.413357\n",
       " 0.336381   0.885197    0.510521    0.92927\n",
       " 0.227826   0.0603332   0.876318    0.176715\n",
       " 0.355221   0.958366    0.343328    0.717294"
      ]
     },
     "execution_count": 28,
     "metadata": {},
     "output_type": "execute_result"
    }
   ],
   "source": [
    "testm = rand(Float64, gx.n_ir, 4)"
   ]
  },
  {
   "cell_type": "code",
   "execution_count": 31,
   "metadata": {},
   "outputs": [
    {
     "data": {
      "text/plain": [
       "6.712794875798384"
      ]
     },
     "execution_count": 31,
     "metadata": {},
     "output_type": "execute_result"
    }
   ],
   "source": [
    "fff = F_rho(irx, gx, testm, 0.0001)"
   ]
  },
  {
   "cell_type": "code",
   "execution_count": 17,
   "metadata": {},
   "outputs": [],
   "source": [
    "using Flux"
   ]
  },
  {
   "cell_type": "code",
   "execution_count": 23,
   "metadata": {},
   "outputs": [
    {
     "data": {
      "text/plain": [
       "fit_rhow (generic function with 2 methods)"
      ]
     },
     "execution_count": 23,
     "metadata": {},
     "output_type": "execute_result"
    }
   ],
   "source": [
    "function fit_rhow(ir::IR_params, g::Green_Sigma, l_num::Int, batch_num::Int, w_mesh::Vector{Float64}, it_MAX::Int)\n",
    "    sn = range(-12.0, 0.0, length=l_num)\n",
    "    lam_test = 10 .^ (sn)\n",
    "    opt = ADAM()\n",
    "    s_rho_l::Vector{Matrix{Float64}} = []\n",
    "    #rand(Float64, l_num, g.n_ir)\n",
    "    s_F_rho = 1000.0 * ones(Float64, l_num)\n",
    "    for ll in 1:l_num\n",
    "        lam = lam_test[ll]\n",
    "        count::Int = 0\n",
    "        for b in 1:batch_num\n",
    "            rho_ll = rand(Float64, g.n_ir, 4)\n",
    "            \n",
    "            #rho_ll = rand(Float64, g.n_ir)\n",
    "            F_old = 1000.0\n",
    "            F_new = 1000.0\n",
    "            for i in 1:it_MAX\n",
    "                grads = Flux.gradient(Flux.params(rho_ll)) do\n",
    "                    F_rho(ir, g, rho_ll, lam)\n",
    "                end\n",
    "                Flux.Optimise.update!(opt, Flux.params(rho_ll), grads)\n",
    "                F_old = F_new\n",
    "                F_new = F_rho(ir, g, rho_ll, lam)\n",
    "                if(abs(F_old-F_new)/abs(F_old)<1e-6)\n",
    "                    break\n",
    "                end\n",
    "                if(i==it_MAX)\n",
    "                    count += 1\n",
    "                end\n",
    "            end\n",
    "            if(s_F_rho[ll] > F_new)\n",
    "                if(b==1)\n",
    "                    push!(s_rho_l, rho_ll)\n",
    "                else\n",
    "                    s_rho_l[ll] = rho_ll\n",
    "                end\n",
    "                s_F_rho[ll] = F_new\n",
    "            end \n",
    "        end\n",
    "        println(count)\n",
    "    end\n",
    "    b = (log(s_F_rho[end])-log(s_F_rho[1]))/(log(lam_test[end])-log(lam_test[1]))\n",
    "    a = s_F_rho[1]*lam_test[1]^(-b)\n",
    "    ev = a .* lam_test .^ b ./ s_F_rho\n",
    "\n",
    "    p1 = plot(lam_test, ev, xaxis=:log, yaxis=:log, marker=:circle)\n",
    "    #savefig(p1,\"./lambda_opt_G.png\")\n",
    "\n",
    "    it = findmax(ev)[2]\n",
    "    max1 = s_F_rho[it]\n",
    "    println(\"it:$it,  s_F:$max1\")\n",
    "    rho_omega = -(transpose(ir.basis.v(w_mesh)) * s_rho_l[it])\n",
    "    return rho_omega\n",
    "end"
   ]
  },
  {
   "cell_type": "code",
   "execution_count": 19,
   "metadata": {},
   "outputs": [
    {
     "name": "stdout",
     "output_type": "stream",
     "text": [
      "I'm ready!\n"
     ]
    }
   ],
   "source": [
    "lamda_num = 20\n",
    "batch_num = 80\n",
    "w_num = 1000\n",
    "w_mesh = collect(-irx.bw:2irx.bw/(w_num-1):irx.bw)\n",
    "println(\"I'm ready!\")"
   ]
  },
  {
   "cell_type": "code",
   "execution_count": 36,
   "metadata": {},
   "outputs": [
    {
     "name": "stdout",
     "output_type": "stream",
     "text": [
      "0\n",
      "1\n",
      "0\n",
      "0\n",
      "0\n",
      "0\n",
      "0\n",
      "0\n",
      "0\n",
      "0\n",
      "0\n",
      "0\n",
      "0\n",
      "0\n",
      "0\n",
      "0\n",
      "0\n",
      "0\n",
      "0\n",
      "7\n",
      "it:6,  s_F:1.483450180617011e-8\n"
     ]
    },
    {
     "data": {
      "text/plain": [
       "1000×4 Matrix{Float64}:\n",
       "  4.80881    -0.000220881   0.000195525  -0.0377601\n",
       "  4.68099    -0.000205252   0.000180068  -0.0371207\n",
       "  4.55464    -0.000190493   0.000164557  -0.0364869\n",
       "  4.42976    -0.000176562   0.000149054  -0.0358586\n",
       "  4.30635    -0.000163417   0.000133621  -0.0352358\n",
       "  4.1844     -0.000151021   0.000118311  -0.0346183\n",
       "  4.06393    -0.000139334   0.000103179  -0.0340063\n",
       "  3.94492    -0.000128322   8.82719e-5   -0.0333997\n",
       "  3.82738    -0.000117949   7.36363e-5   -0.0327983\n",
       "  3.71131    -0.000108181   5.93141e-5   -0.0322022\n",
       "  3.59671    -9.89861e-5    4.53444e-5   -0.0316113\n",
       "  3.48357    -9.0333e-5     3.17629e-5   -0.0310255\n",
       "  3.3719     -8.2192e-5     1.86028e-5   -0.030445\n",
       "  ⋮                                      \n",
       " -0.0280438  -4.37019e-5   -1.68666e-6    0.000569561\n",
       " -0.0305122  -4.33223e-5   -1.93399e-5    0.000555226\n",
       " -0.0330237  -4.21352e-5   -3.89293e-5    0.000537987\n",
       " -0.0355773  -4.00592e-5   -6.05667e-5    0.00051772\n",
       " -0.038172   -3.70093e-5   -8.43677e-5    0.0004943\n",
       " -0.0408066  -3.28963e-5   -0.000110452   0.000467597\n",
       " -0.0434799  -2.76271e-5   -0.000138944   0.000437481\n",
       " -0.0461906  -2.11048e-5   -0.00016997    0.00040382\n",
       " -0.0489374  -1.32279e-5   -0.000203664   0.000366477\n",
       " -0.051719   -3.89095e-6   -0.000240163   0.000325316\n",
       " -0.054534    7.01597e-6   -0.000279606   0.000280195\n",
       " -0.0573808   1.96071e-5   -0.000322139   0.000230972"
      ]
     },
     "execution_count": 36,
     "metadata": {},
     "output_type": "execute_result"
    }
   ],
   "source": [
    "gi = fit_rhow(irx, gx, lamda_num, batch_num, w_mesh, 20000)"
   ]
  },
  {
   "cell_type": "code",
   "execution_count": 37,
   "metadata": {},
   "outputs": [
    {
     "data": {
      "image/svg+xml": "<?xml version=\"1.0\" encoding=\"utf-8\"?>\n<svg xmlns=\"http://www.w3.org/2000/svg\" xmlns:xlink=\"http://www.w3.org/1999/xlink\" width=\"600\" height=\"400\" viewBox=\"0 0 2400 1600\">\n<defs>\n  <clipPath id=\"clip820\">\n    <rect x=\"0\" y=\"0\" width=\"2400\" height=\"1600\"/>\n  </clipPath>\n</defs>\n<path clip-path=\"url(#clip820)\" d=\"\nM0 1600 L2400 1600 L2400 0 L0 0  Z\n  \" fill=\"#ffffff\" fill-rule=\"evenodd\" fill-opacity=\"1\"/>\n<defs>\n  <clipPath id=\"clip821\">\n    <rect x=\"480\" y=\"0\" width=\"1681\" height=\"1600\"/>\n  </clipPath>\n</defs>\n<path clip-path=\"url(#clip820)\" d=\"\nM147.478 1486.45 L2352.76 1486.45 L2352.76 47.2441 L147.478 47.2441  Z\n  \" fill=\"#ffffff\" fill-rule=\"evenodd\" fill-opacity=\"1\"/>\n<defs>\n  <clipPath id=\"clip822\">\n    <rect x=\"147\" y=\"47\" width=\"2206\" height=\"1440\"/>\n  </clipPath>\n</defs>\n<polyline clip-path=\"url(#clip822)\" style=\"stroke:#000000; stroke-linecap:round; stroke-linejoin:round; stroke-width:2; stroke-opacity:0.1; fill:none\" points=\"\n  209.891,1486.45 209.891,47.2441 \n  \"/>\n<polyline clip-path=\"url(#clip822)\" style=\"stroke:#000000; stroke-linecap:round; stroke-linejoin:round; stroke-width:2; stroke-opacity:0.1; fill:none\" points=\"\n  730.004,1486.45 730.004,47.2441 \n  \"/>\n<polyline clip-path=\"url(#clip822)\" style=\"stroke:#000000; stroke-linecap:round; stroke-linejoin:round; stroke-width:2; stroke-opacity:0.1; fill:none\" points=\"\n  1250.12,1486.45 1250.12,47.2441 \n  \"/>\n<polyline clip-path=\"url(#clip822)\" style=\"stroke:#000000; stroke-linecap:round; stroke-linejoin:round; stroke-width:2; stroke-opacity:0.1; fill:none\" points=\"\n  1770.23,1486.45 1770.23,47.2441 \n  \"/>\n<polyline clip-path=\"url(#clip822)\" style=\"stroke:#000000; stroke-linecap:round; stroke-linejoin:round; stroke-width:2; stroke-opacity:0.1; fill:none\" points=\"\n  2290.34,1486.45 2290.34,47.2441 \n  \"/>\n<polyline clip-path=\"url(#clip820)\" style=\"stroke:#000000; stroke-linecap:round; stroke-linejoin:round; stroke-width:4; stroke-opacity:1; fill:none\" points=\"\n  147.478,1486.45 2352.76,1486.45 \n  \"/>\n<polyline clip-path=\"url(#clip820)\" style=\"stroke:#000000; stroke-linecap:round; stroke-linejoin:round; stroke-width:4; stroke-opacity:1; fill:none\" points=\"\n  209.891,1486.45 209.891,1467.55 \n  \"/>\n<polyline clip-path=\"url(#clip820)\" style=\"stroke:#000000; stroke-linecap:round; stroke-linejoin:round; stroke-width:4; stroke-opacity:1; fill:none\" points=\"\n  730.004,1486.45 730.004,1467.55 \n  \"/>\n<polyline clip-path=\"url(#clip820)\" style=\"stroke:#000000; stroke-linecap:round; stroke-linejoin:round; stroke-width:4; stroke-opacity:1; fill:none\" points=\"\n  1250.12,1486.45 1250.12,1467.55 \n  \"/>\n<polyline clip-path=\"url(#clip820)\" style=\"stroke:#000000; stroke-linecap:round; stroke-linejoin:round; stroke-width:4; stroke-opacity:1; fill:none\" points=\"\n  1770.23,1486.45 1770.23,1467.55 \n  \"/>\n<polyline clip-path=\"url(#clip820)\" style=\"stroke:#000000; stroke-linecap:round; stroke-linejoin:round; stroke-width:4; stroke-opacity:1; fill:none\" points=\"\n  2290.34,1486.45 2290.34,1467.55 \n  \"/>\n<path clip-path=\"url(#clip820)\" d=\"M178.792 1532.02 L208.468 1532.02 L208.468 1535.95 L178.792 1535.95 L178.792 1532.02 Z\" fill=\"#000000\" fill-rule=\"evenodd\" fill-opacity=\"1\" /><path clip-path=\"url(#clip820)\" d=\"M231.408 1518.36 L219.602 1536.81 L231.408 1536.81 L231.408 1518.36 M230.181 1514.29 L236.06 1514.29 L236.06 1536.81 L240.991 1536.81 L240.991 1540.7 L236.06 1540.7 L236.06 1548.85 L231.408 1548.85 L231.408 1540.7 L215.806 1540.7 L215.806 1536.19 L230.181 1514.29 Z\" fill=\"#000000\" fill-rule=\"evenodd\" fill-opacity=\"1\" /><path clip-path=\"url(#clip820)\" d=\"M699.946 1532.02 L729.622 1532.02 L729.622 1535.95 L699.946 1535.95 L699.946 1532.02 Z\" fill=\"#000000\" fill-rule=\"evenodd\" fill-opacity=\"1\" /><path clip-path=\"url(#clip820)\" d=\"M743.743 1544.91 L760.062 1544.91 L760.062 1548.85 L738.118 1548.85 L738.118 1544.91 Q740.78 1542.16 745.363 1537.53 Q749.969 1532.88 751.15 1531.53 Q753.395 1529.01 754.275 1527.27 Q755.178 1525.51 755.178 1523.82 Q755.178 1521.07 753.233 1519.33 Q751.312 1517.6 748.21 1517.6 Q746.011 1517.6 743.557 1518.36 Q741.127 1519.13 738.349 1520.68 L738.349 1515.95 Q741.173 1514.82 743.627 1514.24 Q746.08 1513.66 748.118 1513.66 Q753.488 1513.66 756.682 1516.35 Q759.877 1519.03 759.877 1523.52 Q759.877 1525.65 759.067 1527.57 Q758.279 1529.47 756.173 1532.07 Q755.594 1532.74 752.492 1535.95 Q749.391 1539.15 743.743 1544.91 Z\" fill=\"#000000\" fill-rule=\"evenodd\" fill-opacity=\"1\" /><path clip-path=\"url(#clip820)\" d=\"M1250.12 1517.37 Q1246.51 1517.37 1244.68 1520.93 Q1242.87 1524.47 1242.87 1531.6 Q1242.87 1538.71 1244.68 1542.27 Q1246.51 1545.82 1250.12 1545.82 Q1253.75 1545.82 1255.56 1542.27 Q1257.39 1538.71 1257.39 1531.6 Q1257.39 1524.47 1255.56 1520.93 Q1253.75 1517.37 1250.12 1517.37 M1250.12 1513.66 Q1255.93 1513.66 1258.98 1518.27 Q1262.06 1522.85 1262.06 1531.6 Q1262.06 1540.33 1258.98 1544.94 Q1255.93 1549.52 1250.12 1549.52 Q1244.31 1549.52 1241.23 1544.94 Q1238.17 1540.33 1238.17 1531.6 Q1238.17 1522.85 1241.23 1518.27 Q1244.31 1513.66 1250.12 1513.66 Z\" fill=\"#000000\" fill-rule=\"evenodd\" fill-opacity=\"1\" /><path clip-path=\"url(#clip820)\" d=\"M1764.88 1544.91 L1781.2 1544.91 L1781.2 1548.85 L1759.26 1548.85 L1759.26 1544.91 Q1761.92 1542.16 1766.5 1537.53 Q1771.11 1532.88 1772.29 1531.53 Q1774.54 1529.01 1775.41 1527.27 Q1776.32 1525.51 1776.32 1523.82 Q1776.32 1521.07 1774.37 1519.33 Q1772.45 1517.6 1769.35 1517.6 Q1767.15 1517.6 1764.7 1518.36 Q1762.27 1519.13 1759.49 1520.68 L1759.49 1515.95 Q1762.31 1514.82 1764.77 1514.24 Q1767.22 1513.66 1769.26 1513.66 Q1774.63 1513.66 1777.82 1516.35 Q1781.02 1519.03 1781.02 1523.52 Q1781.02 1525.65 1780.21 1527.57 Q1779.42 1529.47 1777.31 1532.07 Q1776.73 1532.74 1773.63 1535.95 Q1770.53 1539.15 1764.88 1544.91 Z\" fill=\"#000000\" fill-rule=\"evenodd\" fill-opacity=\"1\" /><path clip-path=\"url(#clip820)\" d=\"M2293.35 1518.36 L2281.55 1536.81 L2293.35 1536.81 L2293.35 1518.36 M2292.12 1514.29 L2298 1514.29 L2298 1536.81 L2302.93 1536.81 L2302.93 1540.7 L2298 1540.7 L2298 1548.85 L2293.35 1548.85 L2293.35 1540.7 L2277.75 1540.7 L2277.75 1536.19 L2292.12 1514.29 Z\" fill=\"#000000\" fill-rule=\"evenodd\" fill-opacity=\"1\" /><polyline clip-path=\"url(#clip822)\" style=\"stroke:#000000; stroke-linecap:round; stroke-linejoin:round; stroke-width:2; stroke-opacity:0.1; fill:none\" points=\"\n  147.478,1407.86 2352.76,1407.86 \n  \"/>\n<polyline clip-path=\"url(#clip822)\" style=\"stroke:#000000; stroke-linecap:round; stroke-linejoin:round; stroke-width:2; stroke-opacity:0.1; fill:none\" points=\"\n  147.478,1182.11 2352.76,1182.11 \n  \"/>\n<polyline clip-path=\"url(#clip822)\" style=\"stroke:#000000; stroke-linecap:round; stroke-linejoin:round; stroke-width:2; stroke-opacity:0.1; fill:none\" points=\"\n  147.478,956.354 2352.76,956.354 \n  \"/>\n<polyline clip-path=\"url(#clip822)\" style=\"stroke:#000000; stroke-linecap:round; stroke-linejoin:round; stroke-width:2; stroke-opacity:0.1; fill:none\" points=\"\n  147.478,730.601 2352.76,730.601 \n  \"/>\n<polyline clip-path=\"url(#clip822)\" style=\"stroke:#000000; stroke-linecap:round; stroke-linejoin:round; stroke-width:2; stroke-opacity:0.1; fill:none\" points=\"\n  147.478,504.847 2352.76,504.847 \n  \"/>\n<polyline clip-path=\"url(#clip822)\" style=\"stroke:#000000; stroke-linecap:round; stroke-linejoin:round; stroke-width:2; stroke-opacity:0.1; fill:none\" points=\"\n  147.478,279.093 2352.76,279.093 \n  \"/>\n<polyline clip-path=\"url(#clip822)\" style=\"stroke:#000000; stroke-linecap:round; stroke-linejoin:round; stroke-width:2; stroke-opacity:0.1; fill:none\" points=\"\n  147.478,53.3397 2352.76,53.3397 \n  \"/>\n<polyline clip-path=\"url(#clip820)\" style=\"stroke:#000000; stroke-linecap:round; stroke-linejoin:round; stroke-width:4; stroke-opacity:1; fill:none\" points=\"\n  147.478,1486.45 147.478,47.2441 \n  \"/>\n<polyline clip-path=\"url(#clip820)\" style=\"stroke:#000000; stroke-linecap:round; stroke-linejoin:round; stroke-width:4; stroke-opacity:1; fill:none\" points=\"\n  147.478,1407.86 166.376,1407.86 \n  \"/>\n<polyline clip-path=\"url(#clip820)\" style=\"stroke:#000000; stroke-linecap:round; stroke-linejoin:round; stroke-width:4; stroke-opacity:1; fill:none\" points=\"\n  147.478,1182.11 166.376,1182.11 \n  \"/>\n<polyline clip-path=\"url(#clip820)\" style=\"stroke:#000000; stroke-linecap:round; stroke-linejoin:round; stroke-width:4; stroke-opacity:1; fill:none\" points=\"\n  147.478,956.354 166.376,956.354 \n  \"/>\n<polyline clip-path=\"url(#clip820)\" style=\"stroke:#000000; stroke-linecap:round; stroke-linejoin:round; stroke-width:4; stroke-opacity:1; fill:none\" points=\"\n  147.478,730.601 166.376,730.601 \n  \"/>\n<polyline clip-path=\"url(#clip820)\" style=\"stroke:#000000; stroke-linecap:round; stroke-linejoin:round; stroke-width:4; stroke-opacity:1; fill:none\" points=\"\n  147.478,504.847 166.376,504.847 \n  \"/>\n<polyline clip-path=\"url(#clip820)\" style=\"stroke:#000000; stroke-linecap:round; stroke-linejoin:round; stroke-width:4; stroke-opacity:1; fill:none\" points=\"\n  147.478,279.093 166.376,279.093 \n  \"/>\n<polyline clip-path=\"url(#clip820)\" style=\"stroke:#000000; stroke-linecap:round; stroke-linejoin:round; stroke-width:4; stroke-opacity:1; fill:none\" points=\"\n  147.478,53.3397 166.376,53.3397 \n  \"/>\n<path clip-path=\"url(#clip820)\" d=\"M50.9921 1408.31 L80.6679 1408.31 L80.6679 1412.25 L50.9921 1412.25 L50.9921 1408.31 Z\" fill=\"#000000\" fill-rule=\"evenodd\" fill-opacity=\"1\" /><path clip-path=\"url(#clip820)\" d=\"M91.5706 1421.21 L99.2095 1421.21 L99.2095 1394.84 L90.8993 1396.51 L90.8993 1392.25 L99.1632 1390.58 L103.839 1390.58 L103.839 1421.21 L111.478 1421.21 L111.478 1425.14 L91.5706 1425.14 L91.5706 1421.21 Z\" fill=\"#000000\" fill-rule=\"evenodd\" fill-opacity=\"1\" /><path clip-path=\"url(#clip820)\" d=\"M99.5335 1167.91 Q95.9224 1167.91 94.0937 1171.47 Q92.2882 1175.01 92.2882 1182.14 Q92.2882 1189.25 94.0937 1192.81 Q95.9224 1196.36 99.5335 1196.36 Q103.168 1196.36 104.973 1192.81 Q106.802 1189.25 106.802 1182.14 Q106.802 1175.01 104.973 1171.47 Q103.168 1167.91 99.5335 1167.91 M99.5335 1164.2 Q105.344 1164.2 108.399 1168.81 Q111.478 1173.39 111.478 1182.14 Q111.478 1190.87 108.399 1195.48 Q105.344 1200.06 99.5335 1200.06 Q93.7234 1200.06 90.6447 1195.48 Q87.5892 1190.87 87.5892 1182.14 Q87.5892 1173.39 90.6447 1168.81 Q93.7234 1164.2 99.5335 1164.2 Z\" fill=\"#000000\" fill-rule=\"evenodd\" fill-opacity=\"1\" /><path clip-path=\"url(#clip820)\" d=\"M91.5706 969.699 L99.2095 969.699 L99.2095 943.334 L90.8993 945 L90.8993 940.741 L99.1632 939.074 L103.839 939.074 L103.839 969.699 L111.478 969.699 L111.478 973.634 L91.5706 973.634 L91.5706 969.699 Z\" fill=\"#000000\" fill-rule=\"evenodd\" fill-opacity=\"1\" /><path clip-path=\"url(#clip820)\" d=\"M95.1586 743.946 L111.478 743.946 L111.478 747.881 L89.5336 747.881 L89.5336 743.946 Q92.1956 741.191 96.7789 736.561 Q101.385 731.909 102.566 730.566 Q104.811 728.043 105.691 726.307 Q106.594 724.548 106.594 722.858 Q106.594 720.103 104.649 718.367 Q102.728 716.631 99.6261 716.631 Q97.4271 716.631 94.9734 717.395 Q92.5428 718.159 89.7651 719.71 L89.7651 714.987 Q92.5891 713.853 95.0428 713.274 Q97.4965 712.696 99.5335 712.696 Q104.904 712.696 108.098 715.381 Q111.293 718.066 111.293 722.557 Q111.293 724.686 110.483 726.608 Q109.696 728.506 107.589 731.098 Q107.01 731.77 103.909 734.987 Q100.807 738.182 95.1586 743.946 Z\" fill=\"#000000\" fill-rule=\"evenodd\" fill-opacity=\"1\" /><path clip-path=\"url(#clip820)\" d=\"M104.348 503.493 Q107.705 504.21 109.58 506.479 Q111.478 508.748 111.478 512.081 Q111.478 517.197 107.959 519.997 Q104.441 522.798 97.9595 522.798 Q95.7836 522.798 93.4688 522.359 Q91.1771 521.942 88.7234 521.085 L88.7234 516.572 Q90.6678 517.706 92.9826 518.284 Q95.2974 518.863 97.8206 518.863 Q102.219 518.863 104.51 517.127 Q106.825 515.391 106.825 512.081 Q106.825 509.025 104.672 507.312 Q102.543 505.576 98.7234 505.576 L94.6956 505.576 L94.6956 501.734 L98.9085 501.734 Q102.358 501.734 104.186 500.368 Q106.015 498.979 106.015 496.386 Q106.015 493.724 104.117 492.312 Q102.242 490.877 98.7234 490.877 Q96.8021 490.877 94.603 491.294 Q92.4039 491.711 89.7651 492.59 L89.7651 488.424 Q92.4271 487.683 94.7419 487.312 Q97.0798 486.942 99.14 486.942 Q104.464 486.942 107.566 489.373 Q110.668 491.78 110.668 495.9 Q110.668 498.771 109.024 500.761 Q107.381 502.729 104.348 503.493 Z\" fill=\"#000000\" fill-rule=\"evenodd\" fill-opacity=\"1\" /><path clip-path=\"url(#clip820)\" d=\"M101.895 265.887 L90.0891 284.336 L101.895 284.336 L101.895 265.887 M100.668 261.813 L106.547 261.813 L106.547 284.336 L111.478 284.336 L111.478 288.225 L106.547 288.225 L106.547 296.373 L101.895 296.373 L101.895 288.225 L86.2929 288.225 L86.2929 283.711 L100.668 261.813 Z\" fill=\"#000000\" fill-rule=\"evenodd\" fill-opacity=\"1\" /><path clip-path=\"url(#clip820)\" d=\"M90.5752 36.0597 L108.932 36.0597 L108.932 39.9948 L94.8576 39.9948 L94.8576 48.467 Q95.8761 48.1198 96.8947 47.9578 Q97.9132 47.7726 98.9317 47.7726 Q104.719 47.7726 108.098 50.9438 Q111.478 54.1151 111.478 59.5318 Q111.478 65.1104 108.006 68.2123 Q104.534 71.291 98.2141 71.291 Q96.0382 71.291 93.7697 70.9206 Q91.5243 70.5502 89.1169 69.8095 L89.1169 65.1104 Q91.2002 66.2447 93.4225 66.8002 Q95.6447 67.3558 98.1215 67.3558 Q102.126 67.3558 104.464 65.2493 Q106.802 63.1429 106.802 59.5318 Q106.802 55.9207 104.464 53.8142 Q102.126 51.7077 98.1215 51.7077 Q96.2465 51.7077 94.3715 52.1244 Q92.5197 52.5411 90.5752 53.4207 L90.5752 36.0597 Z\" fill=\"#000000\" fill-rule=\"evenodd\" fill-opacity=\"1\" /><polyline clip-path=\"url(#clip822)\" style=\"stroke:#009af9; stroke-linecap:round; stroke-linejoin:round; stroke-width:8; stroke-opacity:1; fill:none\" points=\"\n  209.891,87.9763 211.974,116.976 214.057,145.644 216.139,173.978 218.222,201.98 220.304,229.649 222.387,256.985 224.469,283.988 226.552,310.659 228.634,336.997 \n  230.717,363.002 232.799,388.675 234.882,414.015 236.964,439.024 239.047,463.701 241.129,488.046 243.212,512.061 245.295,535.744 247.377,559.097 249.46,582.119 \n  251.542,604.812 253.625,627.176 255.707,649.21 257.79,670.917 259.872,692.296 261.955,713.347 264.037,734.073 266.12,754.472 268.202,774.546 270.285,794.295 \n  272.367,813.72 274.45,832.823 276.533,851.603 278.615,870.061 280.698,888.199 282.78,906.017 284.863,923.517 286.945,940.698 289.028,957.563 291.11,974.111 \n  293.193,990.345 295.275,1006.26 297.358,1021.87 299.44,1037.17 301.523,1052.15 303.605,1066.83 305.688,1081.2 307.771,1095.26 309.853,1109.01 311.936,1122.46 \n  314.018,1135.61 316.101,1148.46 318.183,1161.01 320.266,1173.26 322.348,1185.21 324.431,1196.86 326.513,1208.23 328.596,1219.29 330.678,1230.07 332.761,1240.56 \n  334.843,1250.76 336.926,1260.68 339.009,1270.31 341.091,1279.66 343.174,1288.73 345.256,1297.51 347.339,1306.03 349.421,1314.26 351.504,1322.22 353.586,1329.92 \n  355.669,1337.34 357.751,1344.49 359.834,1351.38 361.916,1358.01 363.999,1364.37 366.081,1370.47 368.164,1376.32 370.247,1381.91 372.329,1387.25 374.412,1392.34 \n  376.494,1397.18 378.577,1401.78 380.659,1406.13 382.742,1410.24 384.824,1414.11 386.907,1417.74 388.989,1421.14 391.072,1424.31 393.154,1427.24 395.237,1429.95 \n  397.319,1432.44 399.402,1434.7 401.485,1436.75 403.567,1438.58 405.65,1440.19 407.732,1441.59 409.815,1442.79 411.897,1443.77 413.98,1444.56 416.062,1445.14 \n  418.145,1445.53 420.227,1445.72 422.31,1445.71 424.392,1445.52 426.475,1445.14 428.557,1444.58 430.64,1443.84 432.723,1442.92 434.805,1441.82 436.888,1440.55 \n  438.97,1439.12 441.053,1437.51 443.135,1435.75 445.218,1433.82 447.3,1431.74 449.383,1429.5 451.465,1427.12 453.548,1424.58 455.63,1421.9 457.713,1419.09 \n  459.795,1416.13 461.878,1413.04 463.961,1409.81 466.043,1406.46 468.126,1402.98 470.208,1399.38 472.291,1395.67 474.373,1391.83 476.456,1387.89 478.538,1383.84 \n  480.621,1379.68 482.703,1375.42 484.786,1371.06 486.868,1366.61 488.951,1362.06 491.033,1357.43 493.116,1352.71 495.199,1347.91 497.281,1343.04 499.364,1338.08 \n  501.446,1333.06 503.529,1327.97 505.611,1322.82 507.694,1317.6 509.776,1312.33 511.859,1307 513.941,1301.62 516.024,1296.2 518.106,1290.73 520.189,1285.22 \n  522.271,1279.68 524.354,1274.1 526.437,1268.5 528.519,1262.87 530.602,1257.21 532.684,1251.54 534.767,1245.85 536.849,1240.15 538.932,1234.44 541.014,1228.73 \n  543.097,1223.01 545.179,1217.3 547.262,1211.59 549.344,1205.89 551.427,1200.2 553.509,1194.53 555.592,1188.88 557.675,1183.25 559.757,1177.64 561.84,1172.06 \n  563.922,1166.52 566.005,1161.01 568.087,1155.54 570.17,1150.12 572.252,1144.73 574.335,1139.4 576.417,1134.12 578.5,1128.89 580.582,1123.73 582.665,1118.62 \n  584.747,1113.58 586.83,1108.6 588.913,1103.7 590.995,1098.87 593.078,1094.12 595.16,1089.44 597.243,1084.85 599.325,1080.34 601.408,1075.92 603.49,1071.6 \n  605.573,1067.36 607.655,1063.22 609.738,1059.18 611.82,1055.25 613.903,1051.41 615.985,1047.68 618.068,1044.07 620.151,1040.56 622.233,1037.17 624.316,1033.89 \n  626.398,1030.73 628.481,1027.69 630.563,1024.78 632.646,1021.99 634.728,1019.32 636.811,1016.79 638.893,1014.38 640.976,1012.11 643.058,1009.97 645.141,1007.97 \n  647.223,1006.1 649.306,1004.37 651.389,1002.78 653.471,1001.34 655.554,1000.03 657.636,998.872 659.719,997.857 661.801,996.987 663.884,996.264 665.966,995.689 \n  668.049,995.262 670.131,994.984 672.214,994.855 674.296,994.876 676.379,995.048 678.461,995.37 680.544,995.843 682.627,996.466 684.709,997.24 686.792,998.165 \n  688.874,999.239 690.957,1000.46 693.039,1001.84 695.122,1003.36 697.204,1005.03 699.287,1006.85 701.369,1008.81 703.452,1010.92 705.534,1013.17 707.617,1015.57 \n  709.699,1018.1 711.782,1020.78 713.865,1023.59 715.947,1026.54 718.03,1029.63 720.112,1032.84 722.195,1036.19 724.277,1039.66 726.36,1043.26 728.442,1046.98 \n  730.525,1050.82 732.607,1054.78 734.69,1058.85 736.772,1063.03 738.855,1067.32 740.937,1071.71 743.02,1076.21 745.103,1080.8 747.185,1085.49 749.268,1090.26 \n  751.35,1095.12 753.433,1100.06 755.515,1105.08 757.598,1110.17 759.68,1115.33 761.763,1120.55 763.845,1125.83 765.928,1131.17 768.01,1136.55 770.093,1141.98 \n  772.175,1147.44 774.258,1152.94 776.341,1158.47 778.423,1164.02 780.506,1169.58 782.588,1175.16 784.671,1180.74 786.753,1186.32 788.836,1191.89 790.918,1197.45 \n  793.001,1202.99 795.083,1208.5 797.166,1213.99 799.248,1219.43 801.331,1224.83 803.413,1230.18 805.496,1235.47 807.579,1240.7 809.661,1245.86 811.744,1250.94 \n  813.826,1255.93 815.909,1260.83 817.991,1265.64 820.074,1270.34 822.156,1274.94 824.239,1279.41 826.321,1283.76 828.404,1287.99 830.486,1292.07 832.569,1296.01 \n  834.651,1299.81 836.734,1303.44 838.817,1306.92 840.899,1310.22 842.982,1313.36 845.064,1316.31 847.147,1319.08 849.229,1321.66 851.312,1324.04 853.394,1326.22 \n  855.477,1328.19 857.559,1329.96 859.642,1331.5 861.724,1332.83 863.807,1333.93 865.889,1334.81 867.972,1335.45 870.055,1335.86 872.137,1336.02 874.22,1335.95 \n  876.302,1335.64 878.385,1335.08 880.467,1334.27 882.55,1333.21 884.632,1331.9 886.715,1330.35 888.797,1328.54 890.88,1326.48 892.962,1324.17 895.045,1321.62 \n  897.127,1318.81 899.21,1315.76 901.293,1312.47 903.375,1308.94 905.458,1305.17 907.54,1301.17 909.623,1296.94 911.705,1292.49 913.788,1287.82 915.87,1282.94 \n  917.953,1277.85 920.035,1272.57 922.118,1267.09 924.2,1261.44 926.283,1255.61 928.365,1249.62 930.448,1243.47 932.531,1237.19 934.613,1230.77 936.696,1224.23 \n  938.778,1217.58 940.861,1210.84 942.943,1204.02 945.026,1197.14 947.108,1190.2 949.191,1183.22 951.273,1176.23 953.356,1169.22 955.438,1162.23 957.521,1155.27 \n  959.603,1148.35 961.686,1141.5 963.769,1134.72 965.851,1128.05 967.934,1121.5 970.016,1115.09 972.099,1108.83 974.181,1102.75 976.264,1096.87 978.346,1091.2 \n  980.429,1085.77 982.511,1080.6 984.594,1075.7 986.676,1071.09 988.759,1066.8 990.841,1062.84 992.924,1059.24 995.007,1056 997.089,1053.14 999.172,1050.69 \n  1001.25,1048.66 1003.34,1047.06 1005.42,1045.9 1007.5,1045.21 1009.58,1044.98 1011.67,1045.24 1013.75,1045.99 1015.83,1047.23 1017.91,1048.98 1020,1051.23 \n  1022.08,1053.99 1024.16,1057.26 1026.24,1061.03 1028.33,1065.3 1030.41,1070.06 1032.49,1075.3 1034.57,1081.01 1036.66,1087.18 1038.74,1093.77 1040.82,1100.78 \n  1042.9,1108.17 1044.99,1115.92 1047.07,1124 1049.15,1132.36 1051.23,1140.98 1053.32,1149.81 1055.4,1158.8 1057.48,1167.9 1059.57,1177.06 1061.65,1186.23 \n  1063.73,1195.35 1065.81,1204.35 1067.9,1213.18 1069.98,1221.75 1072.06,1230.01 1074.14,1237.88 1076.23,1245.3 1078.31,1252.17 1080.39,1258.44 1082.47,1264.03 \n  1084.56,1268.86 1086.64,1272.87 1088.72,1275.98 1090.8,1278.13 1092.89,1279.25 1094.97,1279.29 1097.05,1278.21 1099.13,1275.95 1101.22,1272.48 1103.3,1267.77 \n  1105.38,1261.82 1107.46,1254.62 1109.55,1246.18 1111.63,1236.53 1113.71,1225.7 1115.79,1213.75 1117.88,1200.77 1119.96,1186.84 1122.04,1172.07 1124.12,1156.6 \n  1126.21,1140.58 1128.29,1124.17 1130.37,1107.57 1132.45,1090.99 1134.54,1074.64 1136.62,1058.76 1138.7,1043.61 1140.78,1029.43 1142.87,1016.5 1144.95,1005.08 \n  1147.03,995.428 1149.11,987.788 1151.2,982.395 1153.28,979.453 1155.36,979.137 1157.44,981.578 1159.53,986.857 1161.61,994.995 1163.69,1005.94 1165.77,1019.58 \n  1167.86,1035.68 1169.94,1053.94 1172.02,1073.96 1174.1,1095.22 1176.19,1117.13 1178.27,1138.96 1180.35,1159.94 1182.43,1179.21 1184.52,1195.86 1186.6,1209 \n  1188.68,1217.74 1190.76,1221.31 1192.85,1219.06 1194.93,1210.58 1197.01,1195.74 1199.09,1174.78 1201.18,1148.39 1203.26,1117.74 1205.34,1084.5 1207.42,1050.87 \n  1209.51,1019.46 1211.59,993.134 1213.67,974.831 1215.76,967.182 1217.84,972.116 1219.92,990.376 1222,1021.04 1224.09,1061.1 1226.17,1105.32 1228.25,1146.38 \n  1230.33,1175.68 1232.42,1184.82 1234.5,1167.95 1236.58,1124.69 1238.66,1063.26 1240.75,1002.47 1242.83,969.963 1244.91,991.77 1246.99,1067.88 1249.08,1147.27 \n  1251.16,1157.29 1253.24,1091.2 1255.32,1014.46 1257.41,980.559 1259.49,995.772 1261.57,1039.89 1263.65,1089.4 1265.74,1127.84 1267.82,1147.58 1269.9,1148.13 \n  1271.98,1133.39 1274.07,1109.22 1276.15,1081.6 1278.23,1055.56 1280.31,1034.62 1282.4,1020.8 1284.48,1014.73 1286.56,1016 1288.64,1023.52 1290.73,1035.76 \n  1292.81,1051.09 1294.89,1067.91 1296.97,1084.83 1299.06,1100.69 1301.14,1114.63 1303.22,1126.08 1305.3,1134.71 1307.39,1140.42 1309.47,1143.31 1311.55,1143.61 \n  1313.63,1141.62 1315.72,1137.74 1317.8,1132.37 1319.88,1125.93 1321.96,1118.82 1324.05,1111.39 1326.13,1103.98 1328.21,1096.84 1330.29,1090.21 1332.38,1084.27 \n  1334.46,1079.12 1336.54,1074.86 1338.62,1071.54 1340.71,1069.15 1342.79,1067.69 1344.87,1067.1 1346.95,1067.33 1349.04,1068.32 1351.12,1069.96 1353.2,1072.19 \n  1355.28,1074.91 1357.37,1078.03 1359.45,1081.47 1361.53,1085.15 1363.61,1088.99 1365.7,1092.94 1367.78,1096.91 1369.86,1100.87 1371.95,1104.76 1374.03,1108.55 \n  1376.11,1112.21 1378.19,1115.69 1380.28,1119 1382.36,1122.1 1384.44,1125 1386.52,1127.68 1388.61,1130.14 1390.69,1132.39 1392.77,1134.42 1394.85,1136.25 \n  1396.94,1137.87 1399.02,1139.31 1401.1,1140.57 1403.18,1141.67 1405.27,1142.61 1407.35,1143.41 1409.43,1144.08 1411.51,1144.64 1413.6,1145.09 1415.68,1145.45 \n  1417.76,1145.74 1419.84,1145.96 1421.93,1146.13 1424.01,1146.25 1426.09,1146.34 1428.17,1146.41 1430.26,1146.46 1432.34,1146.5 1434.42,1146.55 1436.5,1146.61 \n  1438.59,1146.68 1440.67,1146.77 1442.75,1146.9 1444.83,1147.05 1446.92,1147.23 1449,1147.46 1451.08,1147.73 1453.16,1148.04 1455.25,1148.4 1457.33,1148.81 \n  1459.41,1149.26 1461.49,1149.76 1463.58,1150.32 1465.66,1150.92 1467.74,1151.57 1469.82,1152.27 1471.91,1153.02 1473.99,1153.81 1476.07,1154.64 1478.15,1155.52 \n  1480.24,1156.43 1482.32,1157.38 1484.4,1158.36 1486.48,1159.38 1488.57,1160.42 1490.65,1161.49 1492.73,1162.58 1494.81,1163.7 1496.9,1164.82 1498.98,1165.96 \n  1501.06,1167.12 1503.14,1168.27 1505.23,1169.44 1507.31,1170.6 1509.39,1171.76 1511.47,1172.92 1513.56,1174.07 1515.64,1175.21 1517.72,1176.33 1519.8,1177.44 \n  1521.89,1178.53 1523.97,1179.6 1526.05,1180.65 1528.14,1181.67 1530.22,1182.67 1532.3,1183.64 1534.38,1184.58 1536.47,1185.48 1538.55,1186.36 1540.63,1187.2 \n  1542.71,1188 1544.8,1188.76 1546.88,1189.49 1548.96,1190.18 1551.04,1190.84 1553.13,1191.45 1555.21,1192.02 1557.29,1192.56 1559.37,1193.05 1561.46,1193.5 \n  1563.54,1193.92 1565.62,1194.29 1567.7,1194.63 1569.79,1194.92 1571.87,1195.18 1573.95,1195.4 1576.03,1195.58 1578.12,1195.72 1580.2,1195.83 1582.28,1195.91 \n  1584.36,1195.95 1586.45,1195.96 1588.53,1195.93 1590.61,1195.87 1592.69,1195.79 1594.78,1195.67 1596.86,1195.53 1598.94,1195.36 1601.02,1195.16 1603.11,1194.94 \n  1605.19,1194.7 1607.27,1194.44 1609.35,1194.15 1611.44,1193.85 1613.52,1193.52 1615.6,1193.18 1617.68,1192.82 1619.77,1192.45 1621.85,1192.07 1623.93,1191.67 \n  1626.01,1191.26 1628.1,1190.84 1630.18,1190.42 1632.26,1189.98 1634.34,1189.54 1636.43,1189.09 1638.51,1188.64 1640.59,1188.18 1642.67,1187.72 1644.76,1187.26 \n  1646.84,1186.8 1648.92,1186.33 1651,1185.87 1653.09,1185.41 1655.17,1184.95 1657.25,1184.49 1659.33,1184.04 1661.42,1183.59 1663.5,1183.15 1665.58,1182.71 \n  1667.66,1182.28 1669.75,1181.86 1671.83,1181.44 1673.91,1181.03 1676,1180.63 1678.08,1180.23 1680.16,1179.85 1682.24,1179.47 1684.33,1179.11 1686.41,1178.75 \n  1688.49,1178.4 1690.57,1178.07 1692.66,1177.74 1694.74,1177.43 1696.82,1177.13 1698.9,1176.84 1700.99,1176.56 1703.07,1176.29 1705.15,1176.03 1707.23,1175.79 \n  1709.32,1175.56 1711.4,1175.34 1713.48,1175.13 1715.56,1174.93 1717.65,1174.75 1719.73,1174.57 1721.81,1174.41 1723.89,1174.26 1725.98,1174.13 1728.06,1174 \n  1730.14,1173.89 1732.22,1173.78 1734.31,1173.69 1736.39,1173.61 1738.47,1173.55 1740.55,1173.49 1742.64,1173.44 1744.72,1173.41 1746.8,1173.38 1748.88,1173.37 \n  1750.97,1173.36 1753.05,1173.37 1755.13,1173.38 1757.21,1173.41 1759.3,1173.44 1761.38,1173.49 1763.46,1173.54 1765.54,1173.6 1767.63,1173.68 1769.71,1173.76 \n  1771.79,1173.84 1773.87,1173.94 1775.96,1174.04 1778.04,1174.15 1780.12,1174.27 1782.2,1174.4 1784.29,1174.53 1786.37,1174.67 1788.45,1174.82 1790.53,1174.97 \n  1792.62,1175.13 1794.7,1175.3 1796.78,1175.47 1798.86,1175.64 1800.95,1175.82 1803.03,1176.01 1805.11,1176.2 1807.19,1176.39 1809.28,1176.59 1811.36,1176.79 \n  1813.44,1177 1815.52,1177.21 1817.61,1177.42 1819.69,1177.64 1821.77,1177.86 1823.85,1178.08 1825.94,1178.3 1828.02,1178.53 1830.1,1178.76 1832.19,1178.99 \n  1834.27,1179.22 1836.35,1179.45 1838.43,1179.69 1840.52,1179.92 1842.6,1180.16 1844.68,1180.39 1846.76,1180.63 1848.85,1180.86 1850.93,1181.1 1853.01,1181.34 \n  1855.09,1181.57 1857.18,1181.8 1859.26,1182.04 1861.34,1182.27 1863.42,1182.5 1865.51,1182.73 1867.59,1182.96 1869.67,1183.19 1871.75,1183.41 1873.84,1183.63 \n  1875.92,1183.85 1878,1184.07 1880.08,1184.28 1882.17,1184.49 1884.25,1184.7 1886.33,1184.91 1888.41,1185.11 1890.5,1185.3 1892.58,1185.5 1894.66,1185.69 \n  1896.74,1185.88 1898.83,1186.06 1900.91,1186.24 1902.99,1186.41 1905.07,1186.58 1907.16,1186.74 1909.24,1186.9 1911.32,1187.06 1913.4,1187.21 1915.49,1187.36 \n  1917.57,1187.49 1919.65,1187.63 1921.73,1187.76 1923.82,1187.88 1925.9,1188 1927.98,1188.11 1930.06,1188.22 1932.15,1188.32 1934.23,1188.42 1936.31,1188.5 \n  1938.39,1188.59 1940.48,1188.66 1942.56,1188.73 1944.64,1188.8 1946.72,1188.86 1948.81,1188.91 1950.89,1188.95 1952.97,1188.99 1955.05,1189.03 1957.14,1189.05 \n  1959.22,1189.07 1961.3,1189.09 1963.38,1189.09 1965.47,1189.09 1967.55,1189.09 1969.63,1189.07 1971.71,1189.05 1973.8,1189.03 1975.88,1189 1977.96,1188.96 \n  1980.04,1188.91 1982.13,1188.86 1984.21,1188.81 1986.29,1188.74 1988.38,1188.67 1990.46,1188.6 1992.54,1188.51 1994.62,1188.43 1996.71,1188.33 1998.79,1188.23 \n  2000.87,1188.13 2002.95,1188.02 2005.04,1187.9 2007.12,1187.78 2009.2,1187.65 2011.28,1187.51 2013.37,1187.38 2015.45,1187.23 2017.53,1187.08 2019.61,1186.93 \n  2021.7,1186.77 2023.78,1186.61 2025.86,1186.44 2027.94,1186.27 2030.03,1186.09 2032.11,1185.91 2034.19,1185.73 2036.27,1185.54 2038.36,1185.35 2040.44,1185.16 \n  2042.52,1184.96 2044.6,1184.76 2046.69,1184.55 2048.77,1184.35 2050.85,1184.14 2052.93,1183.93 2055.02,1183.71 2057.1,1183.5 2059.18,1183.28 2061.26,1183.06 \n  2063.35,1182.84 2065.43,1182.62 2067.51,1182.4 2069.59,1182.18 2071.68,1181.95 2073.76,1181.73 2075.84,1181.51 2077.92,1181.28 2080.01,1181.06 2082.09,1180.84 \n  2084.17,1180.62 2086.25,1180.4 2088.34,1180.18 2090.42,1179.96 2092.5,1179.75 2094.58,1179.53 2096.67,1179.32 2098.75,1179.11 2100.83,1178.91 2102.91,1178.7 \n  2105,1178.5 2107.08,1178.31 2109.16,1178.11 2111.24,1177.92 2113.33,1177.74 2115.41,1177.56 2117.49,1177.38 2119.57,1177.21 2121.66,1177.05 2123.74,1176.89 \n  2125.82,1176.73 2127.9,1176.58 2129.99,1176.44 2132.07,1176.3 2134.15,1176.17 2136.23,1176.05 2138.32,1175.93 2140.4,1175.82 2142.48,1175.72 2144.57,1175.63 \n  2146.65,1175.54 2148.73,1175.46 2150.81,1175.39 2152.9,1175.33 2154.98,1175.28 2157.06,1175.23 2159.14,1175.2 2161.23,1175.17 2163.31,1175.16 2165.39,1175.15 \n  2167.47,1175.15 2169.56,1175.16 2171.64,1175.19 2173.72,1175.22 2175.8,1175.26 2177.89,1175.31 2179.97,1175.38 2182.05,1175.45 2184.13,1175.54 2186.22,1175.64 \n  2188.3,1175.75 2190.38,1175.86 2192.46,1176 2194.55,1176.14 2196.63,1176.29 2198.71,1176.46 2200.79,1176.64 2202.88,1176.83 2204.96,1177.03 2207.04,1177.24 \n  2209.12,1177.47 2211.21,1177.7 2213.29,1177.95 2215.37,1178.21 2217.45,1178.49 2219.54,1178.77 2221.62,1179.07 2223.7,1179.38 2225.78,1179.7 2227.87,1180.04 \n  2229.95,1180.38 2232.03,1180.74 2234.11,1181.11 2236.2,1181.49 2238.28,1181.89 2240.36,1182.29 2242.44,1182.71 2244.53,1183.14 2246.61,1183.58 2248.69,1184.03 \n  2250.77,1184.49 2252.86,1184.96 2254.94,1185.45 2257.02,1185.94 2259.1,1186.45 2261.19,1186.96 2263.27,1187.49 2265.35,1188.02 2267.43,1188.57 2269.52,1189.12 \n  2271.6,1189.68 2273.68,1190.26 2275.76,1190.84 2277.85,1191.43 2279.93,1192.02 2282.01,1192.63 2284.09,1193.24 2286.18,1193.86 2288.26,1194.48 2290.34,1195.11 \n  \n  \"/>\n<polyline clip-path=\"url(#clip822)\" style=\"stroke:#e26f46; stroke-linecap:round; stroke-linejoin:round; stroke-width:8; stroke-opacity:1; fill:none\" points=\"\n  209.891,105.025 211.974,133.737 214.057,162.118 216.139,190.169 218.222,217.889 220.304,245.279 222.387,272.339 224.469,299.068 226.552,325.467 228.634,351.536 \n  230.717,377.275 232.799,402.683 234.882,427.762 236.964,452.51 239.047,476.93 241.129,501.02 243.212,524.781 245.295,548.213 247.377,571.318 249.46,594.094 \n  251.542,616.543 253.625,638.664 255.707,660.459 257.79,681.928 259.872,703.071 261.955,723.889 264.037,744.383 266.12,764.553 268.202,784.399 270.285,803.924 \n  272.367,823.126 274.45,842.007 276.533,860.568 278.615,878.809 280.698,896.732 282.78,914.337 284.863,931.625 286.945,948.598 289.028,965.255 291.11,981.598 \n  293.193,997.628 295.275,1013.35 297.358,1028.75 299.44,1043.85 301.523,1058.64 303.605,1073.12 305.688,1087.3 307.771,1101.17 309.853,1114.74 311.936,1128 \n  314.018,1140.97 316.101,1153.63 318.183,1166 320.266,1178.07 322.348,1189.84 324.431,1201.32 326.513,1212.51 328.596,1223.4 330.678,1234.01 332.761,1244.33 \n  334.843,1254.37 336.926,1264.12 339.009,1273.58 341.091,1282.77 343.174,1291.68 345.256,1300.31 347.339,1308.67 349.421,1316.75 351.504,1324.56 353.586,1332.1 \n  355.669,1339.37 357.751,1346.38 359.834,1353.12 361.916,1359.6 363.999,1365.82 366.081,1371.79 368.164,1377.5 370.247,1382.95 372.329,1388.16 374.412,1393.11 \n  376.494,1397.82 378.577,1402.28 380.659,1406.51 382.742,1410.49 384.824,1414.23 386.907,1417.74 388.989,1421.02 391.072,1424.07 393.154,1426.89 395.237,1429.48 \n  397.319,1431.85 399.402,1434.01 401.485,1435.94 403.567,1437.66 405.65,1439.16 407.732,1440.46 409.815,1441.55 411.897,1442.44 413.98,1443.12 416.062,1443.6 \n  418.145,1443.89 420.227,1443.99 422.31,1443.89 424.392,1443.61 426.475,1443.14 428.557,1442.49 430.64,1441.66 432.723,1440.66 434.805,1439.48 436.888,1438.13 \n  438.97,1436.62 441.053,1434.94 443.135,1433.1 445.218,1431.1 447.3,1428.95 449.383,1426.64 451.465,1424.19 453.548,1421.59 455.63,1418.85 457.713,1415.96 \n  459.795,1412.95 461.878,1409.8 463.961,1406.52 466.043,1403.11 468.126,1399.58 470.208,1395.93 472.291,1392.17 474.373,1388.29 476.456,1384.3 478.538,1380.21 \n  480.621,1376.01 482.703,1371.71 484.786,1367.31 486.868,1362.83 488.951,1358.25 491.033,1353.58 493.116,1348.84 495.199,1344.01 497.281,1339.11 499.364,1334.13 \n  501.446,1329.09 503.529,1323.98 505.611,1318.81 507.694,1313.57 509.776,1308.29 511.859,1302.95 513.941,1297.56 516.024,1292.13 518.106,1286.66 520.189,1281.15 \n  522.271,1275.6 524.354,1270.02 526.437,1264.42 528.519,1258.79 530.602,1253.14 532.684,1247.48 534.767,1241.8 536.849,1236.11 538.932,1230.41 541.014,1224.71 \n  543.097,1219.01 545.179,1213.31 547.262,1207.63 549.344,1201.95 551.427,1196.28 553.509,1190.64 555.592,1185.01 557.675,1179.41 559.757,1173.83 561.84,1168.29 \n  563.922,1162.78 566.005,1157.3 568.087,1151.87 570.17,1146.48 572.252,1141.14 574.335,1135.85 576.417,1130.61 578.5,1125.43 580.582,1120.3 582.665,1115.25 \n  584.747,1110.25 586.83,1105.33 588.913,1100.48 590.995,1095.7 593.078,1091 595.16,1086.38 597.243,1081.84 599.325,1077.4 601.408,1073.04 603.49,1068.77 \n  605.573,1064.6 607.655,1060.52 609.738,1056.55 611.82,1052.67 613.903,1048.91 615.985,1045.25 618.068,1041.7 620.151,1038.26 622.233,1034.94 624.316,1031.73 \n  626.398,1028.64 628.481,1025.68 630.563,1022.83 632.646,1020.12 634.728,1017.53 636.811,1015.07 638.893,1012.74 640.976,1010.54 643.058,1008.48 645.141,1006.55 \n  647.223,1004.77 649.306,1003.12 651.389,1001.61 653.471,1000.24 655.554,999.016 657.636,997.936 659.719,997.001 661.801,996.212 663.884,995.569 665.966,995.075 \n  668.049,994.729 670.131,994.531 672.214,994.484 674.296,994.586 676.379,994.838 678.461,995.241 680.544,995.794 682.627,996.498 684.709,997.352 686.792,998.356 \n  688.874,999.51 690.957,1000.81 693.039,1002.27 695.122,1003.87 697.204,1005.61 699.287,1007.51 701.369,1009.55 703.452,1011.73 705.534,1014.06 707.617,1016.53 \n  709.699,1019.14 711.782,1021.89 713.865,1024.78 715.947,1027.8 718.03,1030.95 720.112,1034.24 722.195,1037.65 724.277,1041.19 726.36,1044.86 728.442,1048.64 \n  730.525,1052.55 732.607,1056.57 734.69,1060.7 736.772,1064.95 738.855,1069.3 740.937,1073.75 743.02,1078.3 745.103,1082.95 747.185,1087.69 749.268,1092.52 \n  751.35,1097.43 753.433,1102.42 755.515,1107.49 757.598,1112.63 759.68,1117.83 761.763,1123.1 763.845,1128.42 765.928,1133.8 768.01,1139.22 770.093,1144.69 \n  772.175,1150.19 774.258,1155.72 776.341,1161.28 778.423,1166.86 780.506,1172.46 782.588,1178.06 784.671,1183.67 786.753,1189.27 788.836,1194.87 790.918,1200.45 \n  793.001,1206.01 795.083,1211.54 797.166,1217.04 799.248,1222.5 801.331,1227.91 803.413,1233.27 805.496,1238.56 807.579,1243.8 809.661,1248.95 811.744,1254.03 \n  813.826,1259.03 815.909,1263.93 817.991,1268.73 820.074,1273.43 822.156,1278.01 824.239,1282.47 826.321,1286.81 828.404,1291.01 830.486,1295.08 832.569,1299 \n  834.651,1302.77 836.734,1306.38 838.817,1309.83 840.899,1313.11 842.982,1316.21 845.064,1319.13 847.147,1321.86 849.229,1324.4 851.312,1326.74 853.394,1328.87 \n  855.477,1330.8 857.559,1332.51 859.642,1334.01 861.724,1335.28 863.807,1336.33 865.889,1337.15 867.972,1337.73 870.055,1338.07 872.137,1338.18 874.22,1338.04 \n  876.302,1337.65 878.385,1337.02 880.467,1336.14 882.55,1335 884.632,1333.62 886.715,1331.98 888.797,1330.09 890.88,1327.95 892.962,1325.55 895.045,1322.91 \n  897.127,1320.01 899.21,1316.87 901.293,1313.49 903.375,1309.86 905.458,1305.99 907.54,1301.89 909.623,1297.57 911.705,1293.01 913.788,1288.24 915.87,1283.26 \n  917.953,1278.06 920.035,1272.68 922.118,1267.1 924.2,1261.33 926.283,1255.4 928.365,1249.3 930.448,1243.05 932.531,1236.65 934.613,1230.13 936.696,1223.48 \n  938.778,1216.73 940.861,1209.89 942.943,1202.96 945.026,1195.97 947.108,1188.93 949.191,1181.85 951.273,1174.76 953.356,1167.66 955.438,1160.57 957.521,1153.52 \n  959.603,1146.51 961.686,1139.57 963.769,1132.71 965.851,1125.96 967.934,1119.33 970.016,1112.84 972.099,1106.51 974.181,1100.36 976.264,1094.42 978.346,1088.7 \n  980.429,1083.21 982.511,1077.99 984.594,1073.04 986.676,1068.4 988.759,1064.08 990.841,1060.09 992.924,1056.46 995.007,1053.2 997.089,1050.34 999.172,1047.88 \n  1001.25,1045.85 1003.34,1044.25 1005.42,1043.11 1007.5,1042.43 1009.58,1042.23 1011.67,1042.52 1013.75,1043.3 1015.83,1044.59 1017.91,1046.39 1020,1048.69 \n  1022.08,1051.51 1024.16,1054.84 1026.24,1058.69 1028.33,1063.03 1030.41,1067.87 1032.49,1073.2 1034.57,1079.01 1036.66,1085.26 1038.74,1091.96 1040.82,1099.07 \n  1042.9,1106.57 1044.99,1114.43 1047.07,1122.62 1049.15,1131.1 1051.23,1139.83 1053.32,1148.78 1055.4,1157.89 1057.48,1167.12 1059.57,1176.4 1061.65,1185.7 \n  1063.73,1194.94 1065.81,1204.07 1067.9,1213.01 1069.98,1221.71 1072.06,1230.08 1074.14,1238.07 1076.23,1245.6 1078.31,1252.58 1080.39,1258.96 1082.47,1264.65 \n  1084.56,1269.57 1086.64,1273.67 1088.72,1276.86 1090.8,1279.08 1092.89,1280.27 1094.97,1280.37 1097.05,1279.32 1099.13,1277.1 1101.22,1273.65 1103.3,1268.96 \n  1105.38,1263 1107.46,1255.78 1109.55,1247.31 1111.63,1237.6 1113.71,1226.7 1115.79,1214.67 1117.88,1201.58 1119.96,1187.52 1122.04,1172.61 1124.12,1156.97 \n  1126.21,1140.76 1128.29,1124.14 1130.37,1107.31 1132.45,1090.47 1134.54,1073.85 1136.62,1057.69 1138.7,1042.23 1140.78,1027.74 1142.87,1014.48 1144.95,1002.72 \n  1147.03,992.725 1149.11,984.745 1151.2,979.017 1153.28,975.752 1155.36,975.129 1157.44,977.285 1159.53,982.309 1161.61,990.227 1163.69,1001 1165.77,1014.5 \n  1167.86,1030.52 1169.94,1048.76 1172.02,1068.82 1174.1,1090.18 1176.19,1112.24 1178.27,1134.3 1180.35,1155.56 1182.43,1175.16 1184.52,1192.19 1186.6,1205.74 \n  1188.68,1214.91 1190.76,1218.92 1192.85,1217.12 1194.93,1209.05 1197.01,1194.6 1199.09,1173.98 1201.18,1147.86 1203.26,1117.39 1205.34,1084.25 1207.42,1050.6 \n  1209.51,1019.05 1211.59,992.476 1213.67,973.792 1215.76,965.642 1217.84,969.969 1219.92,987.544 1222,1017.49 1224.09,1056.86 1226.17,1100.51 1228.25,1141.21 \n  1230.33,1170.46 1232.42,1179.95 1234.5,1163.84 1236.58,1121.68 1238.66,1061.46 1240.75,1001.58 1242.83,969.193 1244.91,989.968 1246.99,1064.16 1249.08,1141.98 \n  1251.16,1152.18 1253.24,1087.81 1255.32,1012.74 1257.41,979.447 1259.49,994.209 1261.57,1037.31 1263.65,1085.75 1265.74,1123.37 1267.82,1142.68 1269.9,1143.18 \n  1271.98,1128.69 1274.07,1104.95 1276.15,1077.84 1278.23,1052.3 1280.31,1031.81 1282.4,1018.34 1284.48,1012.53 1286.56,1013.98 1288.64,1021.59 1290.73,1033.85 \n  1292.81,1049.16 1294.89,1065.92 1296.97,1082.74 1299.06,1098.49 1301.14,1112.31 1303.22,1123.62 1305.3,1132.11 1307.39,1137.68 1309.47,1140.44 1311.55,1140.6 \n  1313.63,1138.49 1315.72,1134.51 1317.8,1129.06 1319.88,1122.56 1321.96,1115.4 1324.05,1107.96 1326.13,1100.55 1328.21,1093.44 1330.29,1086.87 1332.38,1080.99 \n  1334.46,1075.94 1336.54,1071.79 1338.62,1068.58 1340.71,1066.32 1342.79,1064.99 1344.87,1064.55 1346.95,1064.92 1349.04,1066.03 1351.12,1067.81 1353.2,1070.16 \n  1355.28,1073 1357.37,1076.22 1359.45,1079.76 1361.53,1083.53 1363.61,1087.45 1365.7,1091.46 1367.78,1095.49 1369.86,1099.49 1371.95,1103.42 1374.03,1107.24 \n  1376.11,1110.91 1378.19,1114.41 1380.28,1117.73 1382.36,1120.84 1384.44,1123.73 1386.52,1126.41 1388.61,1128.87 1390.69,1131.11 1392.77,1133.13 1394.85,1134.95 \n  1396.94,1136.58 1399.02,1138.01 1401.1,1139.27 1403.18,1140.36 1405.27,1141.3 1407.35,1142.1 1409.43,1142.78 1411.51,1143.34 1413.6,1143.8 1415.68,1144.17 \n  1417.76,1144.47 1419.84,1144.7 1421.93,1144.88 1424.01,1145.02 1426.09,1145.13 1428.17,1145.21 1430.26,1145.28 1432.34,1145.35 1434.42,1145.41 1436.5,1145.49 \n  1438.59,1145.59 1440.67,1145.7 1442.75,1145.84 1444.83,1146.02 1446.92,1146.23 1449,1146.48 1451.08,1146.76 1453.16,1147.1 1455.25,1147.48 1457.33,1147.91 \n  1459.41,1148.38 1461.49,1148.91 1463.58,1149.48 1465.66,1150.11 1467.74,1150.78 1469.82,1151.5 1471.91,1152.27 1473.99,1153.08 1476.07,1153.94 1478.15,1154.83 \n  1480.24,1155.77 1482.32,1156.74 1484.4,1157.75 1486.48,1158.78 1488.57,1159.85 1490.65,1160.94 1492.73,1162.06 1494.81,1163.2 1496.9,1164.35 1498.98,1165.51 \n  1501.06,1166.69 1503.14,1167.87 1505.23,1169.06 1507.31,1170.25 1509.39,1171.44 1511.47,1172.62 1513.56,1173.8 1515.64,1174.97 1517.72,1176.12 1519.8,1177.25 \n  1521.89,1178.37 1523.97,1179.47 1526.05,1180.55 1528.14,1181.6 1530.22,1182.62 1532.3,1183.61 1534.38,1184.58 1536.47,1185.51 1538.55,1186.41 1540.63,1187.27 \n  1542.71,1188.1 1544.8,1188.89 1546.88,1189.64 1548.96,1190.35 1551.04,1191.03 1553.13,1191.66 1555.21,1192.26 1557.29,1192.81 1559.37,1193.32 1561.46,1193.79 \n  1563.54,1194.22 1565.62,1194.61 1567.7,1194.96 1569.79,1195.27 1571.87,1195.54 1573.95,1195.77 1576.03,1195.96 1578.12,1196.12 1580.2,1196.24 1582.28,1196.32 \n  1584.36,1196.37 1586.45,1196.38 1588.53,1196.36 1590.61,1196.31 1592.69,1196.22 1594.78,1196.11 1596.86,1195.97 1598.94,1195.8 1601.02,1195.6 1603.11,1195.38 \n  1605.19,1195.14 1607.27,1194.87 1609.35,1194.58 1611.44,1194.27 1613.52,1193.94 1615.6,1193.59 1617.68,1193.23 1619.77,1192.85 1621.85,1192.46 1623.93,1192.05 \n  1626.01,1191.64 1628.1,1191.21 1630.18,1190.77 1632.26,1190.33 1634.34,1189.87 1636.43,1189.41 1638.51,1188.95 1640.59,1188.48 1642.67,1188.01 1644.76,1187.54 \n  1646.84,1187.06 1648.92,1186.59 1651,1186.11 1653.09,1185.64 1655.17,1185.17 1657.25,1184.7 1659.33,1184.24 1661.42,1183.78 1663.5,1183.32 1665.58,1182.87 \n  1667.66,1182.43 1669.75,1181.99 1671.83,1181.56 1673.91,1181.14 1676,1180.73 1678.08,1180.32 1680.16,1179.93 1682.24,1179.54 1684.33,1179.16 1686.41,1178.8 \n  1688.49,1178.44 1690.57,1178.1 1692.66,1177.76 1694.74,1177.44 1696.82,1177.13 1698.9,1176.83 1700.99,1176.54 1703.07,1176.27 1705.15,1176 1707.23,1175.75 \n  1709.32,1175.51 1711.4,1175.28 1713.48,1175.07 1715.56,1174.87 1717.65,1174.67 1719.73,1174.5 1721.81,1174.33 1723.89,1174.17 1725.98,1174.03 1728.06,1173.9 \n  1730.14,1173.78 1732.22,1173.68 1734.31,1173.58 1736.39,1173.5 1738.47,1173.43 1740.55,1173.37 1742.64,1173.32 1744.72,1173.28 1746.8,1173.25 1748.88,1173.23 \n  1750.97,1173.22 1753.05,1173.23 1755.13,1173.24 1757.21,1173.26 1759.3,1173.3 1761.38,1173.34 1763.46,1173.39 1765.54,1173.45 1767.63,1173.52 1769.71,1173.6 \n  1771.79,1173.69 1773.87,1173.78 1775.96,1173.88 1778.04,1173.99 1780.12,1174.11 1782.2,1174.24 1784.29,1174.37 1786.37,1174.51 1788.45,1174.65 1790.53,1174.81 \n  1792.62,1174.96 1794.7,1175.13 1796.78,1175.3 1798.86,1175.47 1800.95,1175.65 1803.03,1175.83 1805.11,1176.02 1807.19,1176.22 1809.28,1176.42 1811.36,1176.62 \n  1813.44,1176.82 1815.52,1177.03 1817.61,1177.24 1819.69,1177.46 1821.77,1177.68 1823.85,1177.9 1825.94,1178.12 1828.02,1178.35 1830.1,1178.58 1832.19,1178.8 \n  1834.27,1179.03 1836.35,1179.27 1838.43,1179.5 1840.52,1179.73 1842.6,1179.97 1844.68,1180.2 1846.76,1180.44 1848.85,1180.68 1850.93,1180.91 1853.01,1181.15 \n  1855.09,1181.38 1857.18,1181.61 1859.26,1181.85 1861.34,1182.08 1863.42,1182.31 1865.51,1182.54 1867.59,1182.77 1869.67,1182.99 1871.75,1183.22 1873.84,1183.44 \n  1875.92,1183.66 1878,1183.87 1880.08,1184.09 1882.17,1184.3 1884.25,1184.51 1886.33,1184.71 1888.41,1184.92 1890.5,1185.12 1892.58,1185.31 1894.66,1185.5 \n  1896.74,1185.69 1898.83,1185.87 1900.91,1186.05 1902.99,1186.23 1905.07,1186.4 1907.16,1186.57 1909.24,1186.73 1911.32,1186.89 1913.4,1187.04 1915.49,1187.19 \n  1917.57,1187.33 1919.65,1187.46 1921.73,1187.6 1923.82,1187.72 1925.9,1187.84 1927.98,1187.96 1930.06,1188.07 1932.15,1188.17 1934.23,1188.27 1936.31,1188.37 \n  1938.39,1188.45 1940.48,1188.53 1942.56,1188.61 1944.64,1188.68 1946.72,1188.74 1948.81,1188.8 1950.89,1188.85 1952.97,1188.89 1955.05,1188.93 1957.14,1188.96 \n  1959.22,1188.99 1961.3,1189 1963.38,1189.02 1965.47,1189.02 1967.55,1189.02 1969.63,1189.02 1971.71,1189 1973.8,1188.98 1975.88,1188.96 1977.96,1188.93 \n  1980.04,1188.89 1982.13,1188.85 1984.21,1188.79 1986.29,1188.74 1988.38,1188.68 1990.46,1188.61 1992.54,1188.53 1994.62,1188.45 1996.71,1188.36 1998.79,1188.27 \n  2000.87,1188.17 2002.95,1188.07 2005.04,1187.96 2007.12,1187.84 2009.2,1187.72 2011.28,1187.6 2013.37,1187.47 2015.45,1187.33 2017.53,1187.19 2019.61,1187.04 \n  2021.7,1186.89 2023.78,1186.74 2025.86,1186.58 2027.94,1186.41 2030.03,1186.24 2032.11,1186.07 2034.19,1185.89 2036.27,1185.71 2038.36,1185.53 2040.44,1185.34 \n  2042.52,1185.15 2044.6,1184.96 2046.69,1184.76 2048.77,1184.56 2050.85,1184.36 2052.93,1184.15 2055.02,1183.94 2057.1,1183.73 2059.18,1183.52 2061.26,1183.31 \n  2063.35,1183.1 2065.43,1182.88 2067.51,1182.66 2069.59,1182.44 2071.68,1182.23 2073.76,1182.01 2075.84,1181.79 2077.92,1181.57 2080.01,1181.35 2082.09,1181.13 \n  2084.17,1180.91 2086.25,1180.69 2088.34,1180.47 2090.42,1180.26 2092.5,1180.05 2094.58,1179.83 2096.67,1179.62 2098.75,1179.41 2100.83,1179.21 2102.91,1179.01 \n  2105,1178.81 2107.08,1178.61 2109.16,1178.41 2111.24,1178.22 2113.33,1178.04 2115.41,1177.86 2117.49,1177.68 2119.57,1177.5 2121.66,1177.34 2123.74,1177.17 \n  2125.82,1177.01 2127.9,1176.86 2129.99,1176.71 2132.07,1176.57 2134.15,1176.44 2136.23,1176.31 2138.32,1176.18 2140.4,1176.07 2142.48,1175.96 2144.57,1175.86 \n  2146.65,1175.77 2148.73,1175.68 2150.81,1175.6 2152.9,1175.53 2154.98,1175.47 2157.06,1175.42 2159.14,1175.37 2161.23,1175.34 2163.31,1175.31 2165.39,1175.29 \n  2167.47,1175.28 2169.56,1175.29 2171.64,1175.3 2173.72,1175.32 2175.8,1175.35 2177.89,1175.39 2179.97,1175.45 2182.05,1175.51 2184.13,1175.59 2186.22,1175.67 \n  2188.3,1175.77 2190.38,1175.87 2192.46,1175.99 2194.55,1176.12 2196.63,1176.27 2198.71,1176.42 2200.79,1176.58 2202.88,1176.76 2204.96,1176.95 2207.04,1177.15 \n  2209.12,1177.37 2211.21,1177.59 2213.29,1177.83 2215.37,1178.08 2217.45,1178.34 2219.54,1178.62 2221.62,1178.9 2223.7,1179.2 2225.78,1179.51 2227.87,1179.84 \n  2229.95,1180.18 2232.03,1180.53 2234.11,1180.89 2236.2,1181.26 2238.28,1181.65 2240.36,1182.05 2242.44,1182.46 2244.53,1182.88 2246.61,1183.32 2248.69,1183.76 \n  2250.77,1184.22 2252.86,1184.69 2254.94,1185.18 2257.02,1185.67 2259.1,1186.18 2261.19,1186.69 2263.27,1187.22 2265.35,1187.76 2267.43,1188.31 2269.52,1188.87 \n  2271.6,1189.44 2273.68,1190.02 2275.76,1190.61 2277.85,1191.21 2279.93,1191.83 2282.01,1192.44 2284.09,1193.07 2286.18,1193.71 2288.26,1194.36 2290.34,1195.01 \n  \n  \"/>\n<polyline clip-path=\"url(#clip822)\" style=\"stroke:#3da44d; stroke-linecap:round; stroke-linejoin:round; stroke-width:8; stroke-opacity:1; fill:none\" points=\"\n  209.891,1182.06 211.974,1182.07 214.057,1182.07 216.139,1182.07 218.222,1182.08 220.304,1182.08 222.387,1182.08 224.469,1182.09 226.552,1182.09 228.634,1182.09 \n  230.717,1182.1 232.799,1182.1 234.882,1182.1 236.964,1182.11 239.047,1182.11 241.129,1182.11 243.212,1182.11 245.295,1182.12 247.377,1182.12 249.46,1182.12 \n  251.542,1182.12 253.625,1182.13 255.707,1182.13 257.79,1182.13 259.872,1182.13 261.955,1182.13 264.037,1182.13 266.12,1182.13 268.202,1182.13 270.285,1182.14 \n  272.367,1182.14 274.45,1182.14 276.533,1182.14 278.615,1182.14 280.698,1182.14 282.78,1182.14 284.863,1182.14 286.945,1182.14 289.028,1182.14 291.11,1182.14 \n  293.193,1182.14 295.275,1182.14 297.358,1182.13 299.44,1182.13 301.523,1182.13 303.605,1182.13 305.688,1182.13 307.771,1182.13 309.853,1182.13 311.936,1182.13 \n  314.018,1182.13 316.101,1182.12 318.183,1182.12 320.266,1182.12 322.348,1182.12 324.431,1182.12 326.513,1182.12 328.596,1182.11 330.678,1182.11 332.761,1182.11 \n  334.843,1182.11 336.926,1182.11 339.009,1182.11 341.091,1182.1 343.174,1182.1 345.256,1182.1 347.339,1182.1 349.421,1182.1 351.504,1182.1 353.586,1182.1 \n  355.669,1182.09 357.751,1182.09 359.834,1182.09 361.916,1182.09 363.999,1182.09 366.081,1182.09 368.164,1182.09 370.247,1182.08 372.329,1182.08 374.412,1182.08 \n  376.494,1182.08 378.577,1182.08 380.659,1182.08 382.742,1182.08 384.824,1182.08 386.907,1182.08 388.989,1182.08 391.072,1182.08 393.154,1182.08 395.237,1182.08 \n  397.319,1182.08 399.402,1182.08 401.485,1182.08 403.567,1182.08 405.65,1182.08 407.732,1182.08 409.815,1182.08 411.897,1182.08 413.98,1182.08 416.062,1182.08 \n  418.145,1182.08 420.227,1182.08 422.31,1182.08 424.392,1182.08 426.475,1182.08 428.557,1182.08 430.64,1182.08 432.723,1182.08 434.805,1182.08 436.888,1182.09 \n  438.97,1182.09 441.053,1182.09 443.135,1182.09 445.218,1182.09 447.3,1182.09 449.383,1182.09 451.465,1182.09 453.548,1182.1 455.63,1182.1 457.713,1182.1 \n  459.795,1182.1 461.878,1182.1 463.961,1182.1 466.043,1182.11 468.126,1182.11 470.208,1182.11 472.291,1182.11 474.373,1182.11 476.456,1182.11 478.538,1182.11 \n  480.621,1182.12 482.703,1182.12 484.786,1182.12 486.868,1182.12 488.951,1182.12 491.033,1182.12 493.116,1182.12 495.199,1182.13 497.281,1182.13 499.364,1182.13 \n  501.446,1182.13 503.529,1182.13 505.611,1182.13 507.694,1182.13 509.776,1182.13 511.859,1182.14 513.941,1182.14 516.024,1182.14 518.106,1182.14 520.189,1182.14 \n  522.271,1182.14 524.354,1182.14 526.437,1182.14 528.519,1182.14 530.602,1182.14 532.684,1182.14 534.767,1182.14 536.849,1182.14 538.932,1182.14 541.014,1182.14 \n  543.097,1182.14 545.179,1182.14 547.262,1182.14 549.344,1182.14 551.427,1182.14 553.509,1182.14 555.592,1182.14 557.675,1182.14 559.757,1182.14 561.84,1182.14 \n  563.922,1182.14 566.005,1182.14 568.087,1182.14 570.17,1182.13 572.252,1182.13 574.335,1182.13 576.417,1182.13 578.5,1182.13 580.582,1182.13 582.665,1182.13 \n  584.747,1182.13 586.83,1182.12 588.913,1182.12 590.995,1182.12 593.078,1182.12 595.16,1182.12 597.243,1182.12 599.325,1182.12 601.408,1182.11 603.49,1182.11 \n  605.573,1182.11 607.655,1182.11 609.738,1182.11 611.82,1182.11 613.903,1182.1 615.985,1182.1 618.068,1182.1 620.151,1182.1 622.233,1182.1 624.316,1182.1 \n  626.398,1182.09 628.481,1182.09 630.563,1182.09 632.646,1182.09 634.728,1182.09 636.811,1182.09 638.893,1182.09 640.976,1182.08 643.058,1182.08 645.141,1182.08 \n  647.223,1182.08 649.306,1182.08 651.389,1182.08 653.471,1182.08 655.554,1182.08 657.636,1182.08 659.719,1182.08 661.801,1182.07 663.884,1182.07 665.966,1182.07 \n  668.049,1182.07 670.131,1182.07 672.214,1182.07 674.296,1182.07 676.379,1182.07 678.461,1182.07 680.544,1182.07 682.627,1182.07 684.709,1182.07 686.792,1182.07 \n  688.874,1182.07 690.957,1182.07 693.039,1182.08 695.122,1182.08 697.204,1182.08 699.287,1182.08 701.369,1182.08 703.452,1182.08 705.534,1182.08 707.617,1182.08 \n  709.699,1182.08 711.782,1182.08 713.865,1182.08 715.947,1182.09 718.03,1182.09 720.112,1182.09 722.195,1182.09 724.277,1182.09 726.36,1182.09 728.442,1182.1 \n  730.525,1182.1 732.607,1182.1 734.69,1182.1 736.772,1182.1 738.855,1182.1 740.937,1182.11 743.02,1182.11 745.103,1182.11 747.185,1182.11 749.268,1182.11 \n  751.35,1182.11 753.433,1182.12 755.515,1182.12 757.598,1182.12 759.68,1182.12 761.763,1182.12 763.845,1182.12 765.928,1182.13 768.01,1182.13 770.093,1182.13 \n  772.175,1182.13 774.258,1182.13 776.341,1182.13 778.423,1182.13 780.506,1182.14 782.588,1182.14 784.671,1182.14 786.753,1182.14 788.836,1182.14 790.918,1182.14 \n  793.001,1182.14 795.083,1182.14 797.166,1182.14 799.248,1182.14 801.331,1182.14 803.413,1182.14 805.496,1182.14 807.579,1182.14 809.661,1182.14 811.744,1182.14 \n  813.826,1182.14 815.909,1182.14 817.991,1182.14 820.074,1182.14 822.156,1182.14 824.239,1182.14 826.321,1182.14 828.404,1182.14 830.486,1182.14 832.569,1182.14 \n  834.651,1182.13 836.734,1182.13 838.817,1182.13 840.899,1182.13 842.982,1182.13 845.064,1182.13 847.147,1182.13 849.229,1182.13 851.312,1182.12 853.394,1182.12 \n  855.477,1182.12 857.559,1182.12 859.642,1182.12 861.724,1182.11 863.807,1182.11 865.889,1182.11 867.972,1182.11 870.055,1182.11 872.137,1182.11 874.22,1182.1 \n  876.302,1182.1 878.385,1182.1 880.467,1182.1 882.55,1182.1 884.632,1182.09 886.715,1182.09 888.797,1182.09 890.88,1182.09 892.962,1182.09 895.045,1182.09 \n  897.127,1182.08 899.21,1182.08 901.293,1182.08 903.375,1182.08 905.458,1182.08 907.54,1182.08 909.623,1182.08 911.705,1182.08 913.788,1182.08 915.87,1182.08 \n  917.953,1182.08 920.035,1182.08 922.118,1182.08 924.2,1182.08 926.283,1182.08 928.365,1182.08 930.448,1182.08 932.531,1182.08 934.613,1182.08 936.696,1182.08 \n  938.778,1182.08 940.861,1182.08 942.943,1182.08 945.026,1182.08 947.108,1182.08 949.191,1182.09 951.273,1182.09 953.356,1182.09 955.438,1182.09 957.521,1182.1 \n  959.603,1182.1 961.686,1182.1 963.769,1182.1 965.851,1182.11 967.934,1182.11 970.016,1182.11 972.099,1182.11 974.181,1182.12 976.264,1182.12 978.346,1182.12 \n  980.429,1182.13 982.511,1182.13 984.594,1182.13 986.676,1182.13 988.759,1182.14 990.841,1182.14 992.924,1182.14 995.007,1182.14 997.089,1182.14 999.172,1182.14 \n  1001.25,1182.14 1003.34,1182.15 1005.42,1182.15 1007.5,1182.15 1009.58,1182.14 1011.67,1182.14 1013.75,1182.14 1015.83,1182.14 1017.91,1182.14 1020,1182.14 \n  1022.08,1182.13 1024.16,1182.13 1026.24,1182.13 1028.33,1182.12 1030.41,1182.12 1032.49,1182.11 1034.57,1182.11 1036.66,1182.1 1038.74,1182.1 1040.82,1182.09 \n  1042.9,1182.09 1044.99,1182.08 1047.07,1182.08 1049.15,1182.08 1051.23,1182.07 1053.32,1182.07 1055.4,1182.06 1057.48,1182.06 1059.57,1182.06 1061.65,1182.06 \n  1063.73,1182.06 1065.81,1182.06 1067.9,1182.06 1069.98,1182.06 1072.06,1182.06 1074.14,1182.07 1076.23,1182.07 1078.31,1182.08 1080.39,1182.09 1082.47,1182.09 \n  1084.56,1182.1 1086.64,1182.11 1088.72,1182.12 1090.8,1182.13 1092.89,1182.13 1094.97,1182.14 1097.05,1182.15 1099.13,1182.16 1101.22,1182.16 1103.3,1182.17 \n  1105.38,1182.17 1107.46,1182.18 1109.55,1182.18 1111.63,1182.18 1113.71,1182.18 1115.79,1182.17 1117.88,1182.17 1119.96,1182.16 1122.04,1182.15 1124.12,1182.14 \n  1126.21,1182.13 1128.29,1182.12 1130.37,1182.1 1132.45,1182.09 1134.54,1182.08 1136.62,1182.06 1138.7,1182.05 1140.78,1182.04 1142.87,1182.03 1144.95,1182.03 \n  1147.03,1182.03 1149.11,1182.03 1151.2,1182.03 1153.28,1182.04 1155.36,1182.05 1157.44,1182.06 1159.53,1182.08 1161.61,1182.1 1163.69,1182.11 1165.77,1182.13 \n  1167.86,1182.15 1169.94,1182.16 1172.02,1182.17 1174.1,1182.18 1176.19,1182.18 1178.27,1182.18 1180.35,1182.18 1182.43,1182.16 1184.52,1182.15 1186.6,1182.13 \n  1188.68,1182.11 1190.76,1182.09 1192.85,1182.07 1194.93,1182.05 1197.01,1182.04 1199.09,1182.04 1201.18,1182.04 1203.26,1182.05 1205.34,1182.07 1207.42,1182.09 \n  1209.51,1182.12 1211.59,1182.14 1213.67,1182.16 1215.76,1182.17 1217.84,1182.17 1219.92,1182.16 1222,1182.14 1224.09,1182.11 1226.17,1182.08 1228.25,1182.06 \n  1230.33,1182.05 1232.42,1182.06 1234.5,1182.09 1236.58,1182.13 1238.66,1182.16 1240.75,1182.16 1242.83,1182.12 1244.91,1182.07 1246.99,1182.05 1249.08,1182.09 \n  1251.16,1182.15 1253.24,1182.17 1255.32,1182.12 1257.41,1182.06 1259.49,1182.03 1261.57,1182.04 1263.65,1182.09 1265.74,1182.14 1267.82,1182.19 1269.9,1182.2 \n  1271.98,1182.19 1274.07,1182.16 1276.15,1182.11 1278.23,1182.07 1280.31,1182.03 1282.4,1182.01 1284.48,1182.01 1286.56,1182.03 1288.64,1182.05 1290.73,1182.09 \n  1292.81,1182.12 1294.89,1182.15 1296.97,1182.17 1299.06,1182.19 1301.14,1182.19 1303.22,1182.19 1305.3,1182.18 1307.39,1182.16 1309.47,1182.14 1311.55,1182.12 \n  1313.63,1182.1 1315.72,1182.08 1317.8,1182.07 1319.88,1182.06 1321.96,1182.05 1324.05,1182.05 1326.13,1182.06 1328.21,1182.07 1330.29,1182.08 1332.38,1182.09 \n  1334.46,1182.1 1336.54,1182.11 1338.62,1182.12 1340.71,1182.13 1342.79,1182.14 1344.87,1182.14 1346.95,1182.14 1349.04,1182.14 1351.12,1182.14 1353.2,1182.14 \n  1355.28,1182.13 1357.37,1182.13 1359.45,1182.12 1361.53,1182.12 1363.61,1182.11 1365.7,1182.1 1367.78,1182.1 1369.86,1182.09 1371.95,1182.08 1374.03,1182.08 \n  1376.11,1182.08 1378.19,1182.07 1380.28,1182.07 1382.36,1182.07 1384.44,1182.07 1386.52,1182.07 1388.61,1182.07 1390.69,1182.07 1392.77,1182.08 1394.85,1182.08 \n  1396.94,1182.08 1399.02,1182.09 1401.1,1182.09 1403.18,1182.09 1405.27,1182.1 1407.35,1182.1 1409.43,1182.11 1411.51,1182.11 1413.6,1182.12 1415.68,1182.12 \n  1417.76,1182.13 1419.84,1182.13 1421.93,1182.13 1424.01,1182.14 1426.09,1182.14 1428.17,1182.14 1430.26,1182.15 1432.34,1182.15 1434.42,1182.15 1436.5,1182.15 \n  1438.59,1182.15 1440.67,1182.15 1442.75,1182.15 1444.83,1182.15 1446.92,1182.15 1449,1182.15 1451.08,1182.15 1453.16,1182.15 1455.25,1182.14 1457.33,1182.14 \n  1459.41,1182.14 1461.49,1182.13 1463.58,1182.13 1465.66,1182.13 1467.74,1182.12 1469.82,1182.12 1471.91,1182.11 1473.99,1182.11 1476.07,1182.11 1478.15,1182.1 \n  1480.24,1182.1 1482.32,1182.09 1484.4,1182.09 1486.48,1182.09 1488.57,1182.08 1490.65,1182.08 1492.73,1182.08 1494.81,1182.08 1496.9,1182.07 1498.98,1182.07 \n  1501.06,1182.07 1503.14,1182.07 1505.23,1182.07 1507.31,1182.07 1509.39,1182.07 1511.47,1182.07 1513.56,1182.07 1515.64,1182.07 1517.72,1182.07 1519.8,1182.07 \n  1521.89,1182.07 1523.97,1182.07 1526.05,1182.08 1528.14,1182.08 1530.22,1182.08 1532.3,1182.08 1534.38,1182.09 1536.47,1182.09 1538.55,1182.09 1540.63,1182.09 \n  1542.71,1182.1 1544.8,1182.1 1546.88,1182.1 1548.96,1182.11 1551.04,1182.11 1553.13,1182.11 1555.21,1182.11 1557.29,1182.12 1559.37,1182.12 1561.46,1182.12 \n  1563.54,1182.12 1565.62,1182.13 1567.7,1182.13 1569.79,1182.13 1571.87,1182.13 1573.95,1182.13 1576.03,1182.14 1578.12,1182.14 1580.2,1182.14 1582.28,1182.14 \n  1584.36,1182.14 1586.45,1182.14 1588.53,1182.14 1590.61,1182.14 1592.69,1182.14 1594.78,1182.14 1596.86,1182.14 1598.94,1182.14 1601.02,1182.14 1603.11,1182.13 \n  1605.19,1182.13 1607.27,1182.13 1609.35,1182.13 1611.44,1182.13 1613.52,1182.13 1615.6,1182.13 1617.68,1182.12 1619.77,1182.12 1621.85,1182.12 1623.93,1182.12 \n  1626.01,1182.12 1628.1,1182.11 1630.18,1182.11 1632.26,1182.11 1634.34,1182.11 1636.43,1182.11 1638.51,1182.1 1640.59,1182.1 1642.67,1182.1 1644.76,1182.1 \n  1646.84,1182.1 1648.92,1182.1 1651,1182.09 1653.09,1182.09 1655.17,1182.09 1657.25,1182.09 1659.33,1182.09 1661.42,1182.09 1663.5,1182.09 1665.58,1182.09 \n  1667.66,1182.08 1669.75,1182.08 1671.83,1182.08 1673.91,1182.08 1676,1182.08 1678.08,1182.08 1680.16,1182.08 1682.24,1182.08 1684.33,1182.08 1686.41,1182.08 \n  1688.49,1182.08 1690.57,1182.08 1692.66,1182.08 1694.74,1182.08 1696.82,1182.08 1698.9,1182.08 1700.99,1182.09 1703.07,1182.09 1705.15,1182.09 1707.23,1182.09 \n  1709.32,1182.09 1711.4,1182.09 1713.48,1182.09 1715.56,1182.09 1717.65,1182.09 1719.73,1182.09 1721.81,1182.1 1723.89,1182.1 1725.98,1182.1 1728.06,1182.1 \n  1730.14,1182.1 1732.22,1182.1 1734.31,1182.1 1736.39,1182.11 1738.47,1182.11 1740.55,1182.11 1742.64,1182.11 1744.72,1182.11 1746.8,1182.11 1748.88,1182.11 \n  1750.97,1182.11 1753.05,1182.12 1755.13,1182.12 1757.21,1182.12 1759.3,1182.12 1761.38,1182.12 1763.46,1182.12 1765.54,1182.12 1767.63,1182.12 1769.71,1182.12 \n  1771.79,1182.12 1773.87,1182.12 1775.96,1182.13 1778.04,1182.13 1780.12,1182.13 1782.2,1182.13 1784.29,1182.13 1786.37,1182.13 1788.45,1182.13 1790.53,1182.13 \n  1792.62,1182.13 1794.7,1182.13 1796.78,1182.13 1798.86,1182.13 1800.95,1182.13 1803.03,1182.13 1805.11,1182.13 1807.19,1182.13 1809.28,1182.13 1811.36,1182.13 \n  1813.44,1182.13 1815.52,1182.13 1817.61,1182.13 1819.69,1182.13 1821.77,1182.13 1823.85,1182.13 1825.94,1182.13 1828.02,1182.13 1830.1,1182.13 1832.19,1182.13 \n  1834.27,1182.13 1836.35,1182.13 1838.43,1182.12 1840.52,1182.12 1842.6,1182.12 1844.68,1182.12 1846.76,1182.12 1848.85,1182.12 1850.93,1182.12 1853.01,1182.12 \n  1855.09,1182.12 1857.18,1182.12 1859.26,1182.12 1861.34,1182.12 1863.42,1182.12 1865.51,1182.12 1867.59,1182.12 1869.67,1182.11 1871.75,1182.11 1873.84,1182.11 \n  1875.92,1182.11 1878,1182.11 1880.08,1182.11 1882.17,1182.11 1884.25,1182.11 1886.33,1182.11 1888.41,1182.11 1890.5,1182.11 1892.58,1182.11 1894.66,1182.11 \n  1896.74,1182.11 1898.83,1182.11 1900.91,1182.1 1902.99,1182.1 1905.07,1182.1 1907.16,1182.1 1909.24,1182.1 1911.32,1182.1 1913.4,1182.1 1915.49,1182.1 \n  1917.57,1182.1 1919.65,1182.1 1921.73,1182.1 1923.82,1182.1 1925.9,1182.1 1927.98,1182.1 1930.06,1182.1 1932.15,1182.1 1934.23,1182.1 1936.31,1182.1 \n  1938.39,1182.1 1940.48,1182.1 1942.56,1182.1 1944.64,1182.1 1946.72,1182.1 1948.81,1182.1 1950.89,1182.1 1952.97,1182.1 1955.05,1182.1 1957.14,1182.09 \n  1959.22,1182.09 1961.3,1182.09 1963.38,1182.09 1965.47,1182.09 1967.55,1182.09 1969.63,1182.09 1971.71,1182.09 1973.8,1182.09 1975.88,1182.09 1977.96,1182.09 \n  1980.04,1182.09 1982.13,1182.09 1984.21,1182.09 1986.29,1182.09 1988.38,1182.09 1990.46,1182.09 1992.54,1182.1 1994.62,1182.1 1996.71,1182.1 1998.79,1182.1 \n  2000.87,1182.1 2002.95,1182.1 2005.04,1182.1 2007.12,1182.1 2009.2,1182.1 2011.28,1182.1 2013.37,1182.1 2015.45,1182.1 2017.53,1182.1 2019.61,1182.1 \n  2021.7,1182.1 2023.78,1182.1 2025.86,1182.1 2027.94,1182.1 2030.03,1182.1 2032.11,1182.1 2034.19,1182.1 2036.27,1182.1 2038.36,1182.1 2040.44,1182.1 \n  2042.52,1182.1 2044.6,1182.1 2046.69,1182.1 2048.77,1182.1 2050.85,1182.1 2052.93,1182.1 2055.02,1182.11 2057.1,1182.11 2059.18,1182.11 2061.26,1182.11 \n  2063.35,1182.11 2065.43,1182.11 2067.51,1182.11 2069.59,1182.11 2071.68,1182.11 2073.76,1182.11 2075.84,1182.11 2077.92,1182.11 2080.01,1182.11 2082.09,1182.11 \n  2084.17,1182.11 2086.25,1182.11 2088.34,1182.11 2090.42,1182.11 2092.5,1182.11 2094.58,1182.12 2096.67,1182.12 2098.75,1182.12 2100.83,1182.12 2102.91,1182.12 \n  2105,1182.12 2107.08,1182.12 2109.16,1182.12 2111.24,1182.12 2113.33,1182.12 2115.41,1182.12 2117.49,1182.12 2119.57,1182.12 2121.66,1182.12 2123.74,1182.12 \n  2125.82,1182.12 2127.9,1182.12 2129.99,1182.12 2132.07,1182.12 2134.15,1182.12 2136.23,1182.12 2138.32,1182.12 2140.4,1182.12 2142.48,1182.12 2144.57,1182.12 \n  2146.65,1182.12 2148.73,1182.12 2150.81,1182.12 2152.9,1182.12 2154.98,1182.12 2157.06,1182.12 2159.14,1182.12 2161.23,1182.12 2163.31,1182.12 2165.39,1182.12 \n  2167.47,1182.12 2169.56,1182.12 2171.64,1182.11 2173.72,1182.11 2175.8,1182.11 2177.89,1182.11 2179.97,1182.11 2182.05,1182.11 2184.13,1182.11 2186.22,1182.11 \n  2188.3,1182.11 2190.38,1182.11 2192.46,1182.11 2194.55,1182.1 2196.63,1182.1 2198.71,1182.1 2200.79,1182.1 2202.88,1182.1 2204.96,1182.1 2207.04,1182.1 \n  2209.12,1182.1 2211.21,1182.1 2213.29,1182.09 2215.37,1182.09 2217.45,1182.09 2219.54,1182.09 2221.62,1182.09 2223.7,1182.09 2225.78,1182.09 2227.87,1182.09 \n  2229.95,1182.09 2232.03,1182.09 2234.11,1182.09 2236.2,1182.09 2238.28,1182.09 2240.36,1182.09 2242.44,1182.09 2244.53,1182.09 2246.61,1182.09 2248.69,1182.09 \n  2250.77,1182.09 2252.86,1182.09 2254.94,1182.09 2257.02,1182.09 2259.1,1182.1 2261.19,1182.1 2263.27,1182.1 2265.35,1182.1 2267.43,1182.11 2269.52,1182.11 \n  2271.6,1182.12 2273.68,1182.12 2275.76,1182.13 2277.85,1182.13 2279.93,1182.14 2282.01,1182.15 2284.09,1182.15 2286.18,1182.16 2288.26,1182.17 2290.34,1182.18 \n  \n  \"/>\n<polyline clip-path=\"url(#clip822)\" style=\"stroke:#c271d2; stroke-linecap:round; stroke-linejoin:round; stroke-width:8; stroke-opacity:1; fill:none\" points=\"\n  209.891,1190.63 211.974,1190.49 214.057,1190.35 216.139,1190.2 218.222,1190.06 220.304,1189.92 222.387,1189.79 224.469,1189.65 226.552,1189.51 228.634,1189.38 \n  230.717,1189.24 232.799,1189.11 234.882,1188.98 236.964,1188.85 239.047,1188.72 241.129,1188.59 243.212,1188.47 245.295,1188.34 247.377,1188.22 249.46,1188.1 \n  251.542,1187.97 253.625,1187.85 255.707,1187.73 257.79,1187.61 259.872,1187.5 261.955,1187.38 264.037,1187.26 266.12,1187.15 268.202,1187.04 270.285,1186.92 \n  272.367,1186.81 274.45,1186.7 276.533,1186.59 278.615,1186.48 280.698,1186.37 282.78,1186.27 284.863,1186.16 286.945,1186.06 289.028,1185.95 291.11,1185.85 \n  293.193,1185.75 295.275,1185.65 297.358,1185.55 299.44,1185.45 301.523,1185.35 303.605,1185.26 305.688,1185.16 307.771,1185.06 309.853,1184.97 311.936,1184.88 \n  314.018,1184.78 316.101,1184.69 318.183,1184.6 320.266,1184.51 322.348,1184.42 324.431,1184.34 326.513,1184.25 328.596,1184.16 330.678,1184.08 332.761,1183.99 \n  334.843,1183.91 336.926,1183.83 339.009,1183.75 341.091,1183.67 343.174,1183.59 345.256,1183.51 347.339,1183.43 349.421,1183.35 351.504,1183.27 353.586,1183.2 \n  355.669,1183.12 357.751,1183.05 359.834,1182.98 361.916,1182.91 363.999,1182.83 366.081,1182.76 368.164,1182.69 370.247,1182.63 372.329,1182.56 374.412,1182.49 \n  376.494,1182.43 378.577,1182.36 380.659,1182.3 382.742,1182.23 384.824,1182.17 386.907,1182.11 388.989,1182.05 391.072,1181.99 393.154,1181.93 395.237,1181.87 \n  397.319,1181.81 399.402,1181.76 401.485,1181.7 403.567,1181.65 405.65,1181.59 407.732,1181.54 409.815,1181.49 411.897,1181.44 413.98,1181.39 416.062,1181.34 \n  418.145,1181.29 420.227,1181.24 422.31,1181.2 424.392,1181.15 426.475,1181.11 428.557,1181.06 430.64,1181.02 432.723,1180.98 434.805,1180.94 436.888,1180.9 \n  438.97,1180.86 441.053,1180.82 443.135,1180.78 445.218,1180.75 447.3,1180.71 449.383,1180.68 451.465,1180.64 453.548,1180.61 455.63,1180.58 457.713,1180.55 \n  459.795,1180.52 461.878,1180.49 463.961,1180.46 466.043,1180.43 468.126,1180.41 470.208,1180.38 472.291,1180.36 474.373,1180.34 476.456,1180.31 478.538,1180.29 \n  480.621,1180.27 482.703,1180.25 484.786,1180.23 486.868,1180.22 488.951,1180.2 491.033,1180.19 493.116,1180.17 495.199,1180.16 497.281,1180.14 499.364,1180.13 \n  501.446,1180.12 503.529,1180.11 505.611,1180.1 507.694,1180.1 509.776,1180.09 511.859,1180.08 513.941,1180.08 516.024,1180.07 518.106,1180.07 520.189,1180.07 \n  522.271,1180.07 524.354,1180.07 526.437,1180.07 528.519,1180.07 530.602,1180.07 532.684,1180.08 534.767,1180.08 536.849,1180.09 538.932,1180.09 541.014,1180.1 \n  543.097,1180.11 545.179,1180.12 547.262,1180.13 549.344,1180.14 551.427,1180.15 553.509,1180.16 555.592,1180.17 557.675,1180.19 559.757,1180.2 561.84,1180.22 \n  563.922,1180.24 566.005,1180.25 568.087,1180.27 570.17,1180.29 572.252,1180.31 574.335,1180.33 576.417,1180.35 578.5,1180.37 580.582,1180.4 582.665,1180.42 \n  584.747,1180.45 586.83,1180.47 588.913,1180.5 590.995,1180.52 593.078,1180.55 595.16,1180.58 597.243,1180.61 599.325,1180.63 601.408,1180.66 603.49,1180.69 \n  605.573,1180.73 607.655,1180.76 609.738,1180.79 611.82,1180.82 613.903,1180.85 615.985,1180.89 618.068,1180.92 620.151,1180.96 622.233,1180.99 624.316,1181.03 \n  626.398,1181.06 628.481,1181.1 630.563,1181.14 632.646,1181.17 634.728,1181.21 636.811,1181.25 638.893,1181.29 640.976,1181.33 643.058,1181.36 645.141,1181.4 \n  647.223,1181.44 649.306,1181.48 651.389,1181.52 653.471,1181.56 655.554,1181.6 657.636,1181.64 659.719,1181.68 661.801,1181.72 663.884,1181.76 665.966,1181.8 \n  668.049,1181.84 670.131,1181.88 672.214,1181.92 674.296,1181.96 676.379,1182 678.461,1182.04 680.544,1182.08 682.627,1182.12 684.709,1182.16 686.792,1182.2 \n  688.874,1182.24 690.957,1182.28 693.039,1182.32 695.122,1182.36 697.204,1182.4 699.287,1182.44 701.369,1182.48 703.452,1182.51 705.534,1182.55 707.617,1182.59 \n  709.699,1182.63 711.782,1182.66 713.865,1182.7 715.947,1182.74 718.03,1182.77 720.112,1182.81 722.195,1182.84 724.277,1182.87 726.36,1182.91 728.442,1182.94 \n  730.525,1182.97 732.607,1183 734.69,1183.04 736.772,1183.07 738.855,1183.1 740.937,1183.13 743.02,1183.15 745.103,1183.18 747.185,1183.21 749.268,1183.24 \n  751.35,1183.26 753.433,1183.29 755.515,1183.31 757.598,1183.34 759.68,1183.36 761.763,1183.38 763.845,1183.4 765.928,1183.42 768.01,1183.44 770.093,1183.46 \n  772.175,1183.48 774.258,1183.5 776.341,1183.52 778.423,1183.53 780.506,1183.55 782.588,1183.56 784.671,1183.57 786.753,1183.59 788.836,1183.6 790.918,1183.61 \n  793.001,1183.62 795.083,1183.63 797.166,1183.63 799.248,1183.64 801.331,1183.65 803.413,1183.65 805.496,1183.65 807.579,1183.66 809.661,1183.66 811.744,1183.66 \n  813.826,1183.66 815.909,1183.66 817.991,1183.65 820.074,1183.65 822.156,1183.64 824.239,1183.64 826.321,1183.63 828.404,1183.62 830.486,1183.61 832.569,1183.6 \n  834.651,1183.59 836.734,1183.58 838.817,1183.56 840.899,1183.55 842.982,1183.53 845.064,1183.52 847.147,1183.5 849.229,1183.48 851.312,1183.46 853.394,1183.43 \n  855.477,1183.41 857.559,1183.39 859.642,1183.36 861.724,1183.33 863.807,1183.31 865.889,1183.28 867.972,1183.25 870.055,1183.22 872.137,1183.18 874.22,1183.15 \n  876.302,1183.12 878.385,1183.08 880.467,1183.04 882.55,1183 884.632,1182.97 886.715,1182.92 888.797,1182.88 890.88,1182.84 892.962,1182.8 895.045,1182.75 \n  897.127,1182.71 899.21,1182.66 901.293,1182.62 903.375,1182.57 905.458,1182.52 907.54,1182.47 909.623,1182.42 911.705,1182.37 913.788,1182.32 915.87,1182.27 \n  917.953,1182.22 920.035,1182.16 922.118,1182.11 924.2,1182.06 926.283,1182 928.365,1181.95 930.448,1181.9 932.531,1181.84 934.613,1181.79 936.696,1181.74 \n  938.778,1181.68 940.861,1181.63 942.943,1181.58 945.026,1181.53 947.108,1181.47 949.191,1181.42 951.273,1181.37 953.356,1181.33 955.438,1181.28 957.521,1181.23 \n  959.603,1181.19 961.686,1181.14 963.769,1181.1 965.851,1181.06 967.934,1181.02 970.016,1180.98 972.099,1180.95 974.181,1180.92 976.264,1180.88 978.346,1180.85 \n  980.429,1180.83 982.511,1180.8 984.594,1180.78 986.676,1180.76 988.759,1180.75 990.841,1180.73 992.924,1180.72 995.007,1180.71 997.089,1180.71 999.172,1180.7 \n  1001.25,1180.7 1003.34,1180.71 1005.42,1180.71 1007.5,1180.72 1009.58,1180.73 1011.67,1180.75 1013.75,1180.77 1015.83,1180.79 1017.91,1180.81 1020,1180.84 \n  1022.08,1180.87 1024.16,1180.9 1026.24,1180.94 1028.33,1180.97 1030.41,1181.02 1032.49,1181.06 1034.57,1181.1 1036.66,1181.15 1038.74,1181.2 1040.82,1181.25 \n  1042.9,1181.31 1044.99,1181.36 1047.07,1181.42 1049.15,1181.48 1051.23,1181.53 1053.32,1181.59 1055.4,1181.66 1057.48,1181.72 1059.57,1181.78 1061.65,1181.84 \n  1063.73,1181.9 1065.81,1181.96 1067.9,1182.02 1069.98,1182.09 1072.06,1182.14 1074.14,1182.2 1076.23,1182.26 1078.31,1182.31 1080.39,1182.37 1082.47,1182.42 \n  1084.56,1182.46 1086.64,1182.51 1088.72,1182.55 1090.8,1182.58 1092.89,1182.62 1094.97,1182.64 1097.05,1182.67 1099.13,1182.68 1101.22,1182.7 1103.3,1182.7 \n  1105.38,1182.7 1107.46,1182.69 1109.55,1182.67 1111.63,1182.65 1113.71,1182.61 1115.79,1182.57 1117.88,1182.51 1119.96,1182.45 1122.04,1182.38 1124.12,1182.29 \n  1126.21,1182.2 1128.29,1182.09 1130.37,1181.98 1132.45,1181.85 1134.54,1181.72 1136.62,1181.57 1138.7,1181.42 1140.78,1181.26 1142.87,1181.1 1144.95,1180.93 \n  1147.03,1180.76 1149.11,1180.59 1151.2,1180.42 1153.28,1180.26 1155.36,1180.1 1157.44,1179.96 1159.53,1179.83 1161.61,1179.72 1163.69,1179.63 1165.77,1179.57 \n  1167.86,1179.53 1169.94,1179.52 1172.02,1179.54 1174.1,1179.59 1176.19,1179.67 1178.27,1179.78 1180.35,1179.92 1182.43,1180.08 1184.52,1180.27 1186.6,1180.48 \n  1188.68,1180.69 1190.76,1180.92 1192.85,1181.14 1194.93,1181.35 1197.01,1181.54 1199.09,1181.71 1201.18,1181.84 1203.26,1181.94 1205.34,1181.98 1207.42,1181.97 \n  1209.51,1181.91 1211.59,1181.78 1213.67,1181.59 1215.76,1181.34 1217.84,1181.03 1219.92,1180.69 1222,1180.33 1224.09,1179.99 1226.17,1179.7 1228.25,1179.52 \n  1230.33,1179.5 1232.42,1179.67 1234.5,1180.05 1236.58,1180.6 1238.66,1181.21 1240.75,1181.66 1242.83,1181.72 1244.91,1181.21 1246.99,1180.24 1249.08,1179.46 \n  1251.16,1179.55 1253.24,1180.41 1255.32,1181.25 1257.41,1181.55 1259.49,1181.33 1261.57,1180.82 1263.65,1180.28 1265.74,1179.87 1267.82,1179.66 1269.9,1179.63 \n  1271.98,1179.76 1274.07,1179.97 1276.15,1180.23 1278.23,1180.48 1280.31,1180.7 1282.4,1180.88 1284.48,1181.01 1286.56,1181.1 1288.64,1181.14 1290.73,1181.16 \n  1292.81,1181.14 1294.89,1181.11 1296.97,1181.07 1299.06,1181.01 1301.14,1180.95 1303.22,1180.88 1305.3,1180.81 1307.39,1180.74 1309.47,1180.67 1311.55,1180.61 \n  1313.63,1180.55 1315.72,1180.49 1317.8,1180.45 1319.88,1180.42 1321.96,1180.4 1324.05,1180.39 1326.13,1180.39 1328.21,1180.41 1330.29,1180.44 1332.38,1180.47 \n  1334.46,1180.52 1336.54,1180.57 1338.62,1180.63 1340.71,1180.69 1342.79,1180.76 1344.87,1180.83 1346.95,1180.9 1349.04,1180.97 1351.12,1181.03 1353.2,1181.09 \n  1355.28,1181.15 1357.37,1181.21 1359.45,1181.25 1361.53,1181.3 1363.61,1181.34 1365.7,1181.37 1367.78,1181.4 1369.86,1181.42 1371.95,1181.44 1374.03,1181.45 \n  1376.11,1181.46 1378.19,1181.47 1380.28,1181.47 1382.36,1181.47 1384.44,1181.47 1386.52,1181.47 1388.61,1181.47 1390.69,1181.47 1392.77,1181.47 1394.85,1181.46 \n  1396.94,1181.46 1399.02,1181.46 1401.1,1181.46 1403.18,1181.45 1405.27,1181.45 1407.35,1181.45 1409.43,1181.46 1411.51,1181.46 1413.6,1181.46 1415.68,1181.47 \n  1417.76,1181.47 1419.84,1181.48 1421.93,1181.49 1424.01,1181.49 1426.09,1181.5 1428.17,1181.51 1430.26,1181.52 1432.34,1181.53 1434.42,1181.54 1436.5,1181.55 \n  1438.59,1181.56 1440.67,1181.57 1442.75,1181.58 1444.83,1181.59 1446.92,1181.6 1449,1181.62 1451.08,1181.63 1453.16,1181.64 1455.25,1181.65 1457.33,1181.66 \n  1459.41,1181.67 1461.49,1181.68 1463.58,1181.69 1465.66,1181.7 1467.74,1181.71 1469.82,1181.72 1471.91,1181.73 1473.99,1181.74 1476.07,1181.76 1478.15,1181.77 \n  1480.24,1181.78 1482.32,1181.79 1484.4,1181.8 1486.48,1181.81 1488.57,1181.82 1490.65,1181.83 1492.73,1181.85 1494.81,1181.86 1496.9,1181.87 1498.98,1181.88 \n  1501.06,1181.9 1503.14,1181.91 1505.23,1181.92 1507.31,1181.93 1509.39,1181.95 1511.47,1181.96 1513.56,1181.97 1515.64,1181.99 1517.72,1182 1519.8,1182.01 \n  1521.89,1182.03 1523.97,1182.04 1526.05,1182.06 1528.14,1182.07 1530.22,1182.08 1532.3,1182.1 1534.38,1182.11 1536.47,1182.12 1538.55,1182.13 1540.63,1182.15 \n  1542.71,1182.16 1544.8,1182.17 1546.88,1182.18 1548.96,1182.19 1551.04,1182.2 1553.13,1182.21 1555.21,1182.22 1557.29,1182.23 1559.37,1182.24 1561.46,1182.25 \n  1563.54,1182.26 1565.62,1182.27 1567.7,1182.28 1569.79,1182.28 1571.87,1182.29 1573.95,1182.3 1576.03,1182.3 1578.12,1182.31 1580.2,1182.31 1582.28,1182.31 \n  1584.36,1182.32 1586.45,1182.32 1588.53,1182.32 1590.61,1182.32 1592.69,1182.33 1594.78,1182.33 1596.86,1182.33 1598.94,1182.33 1601.02,1182.33 1603.11,1182.33 \n  1605.19,1182.33 1607.27,1182.32 1609.35,1182.32 1611.44,1182.32 1613.52,1182.32 1615.6,1182.31 1617.68,1182.31 1619.77,1182.31 1621.85,1182.3 1623.93,1182.3 \n  1626.01,1182.29 1628.1,1182.29 1630.18,1182.29 1632.26,1182.28 1634.34,1182.27 1636.43,1182.27 1638.51,1182.26 1640.59,1182.26 1642.67,1182.25 1644.76,1182.25 \n  1646.84,1182.24 1648.92,1182.24 1651,1182.23 1653.09,1182.22 1655.17,1182.22 1657.25,1182.21 1659.33,1182.2 1661.42,1182.2 1663.5,1182.19 1665.58,1182.19 \n  1667.66,1182.18 1669.75,1182.18 1671.83,1182.17 1673.91,1182.16 1676,1182.16 1678.08,1182.15 1680.16,1182.15 1682.24,1182.14 1684.33,1182.14 1686.41,1182.13 \n  1688.49,1182.13 1690.57,1182.12 1692.66,1182.12 1694.74,1182.11 1696.82,1182.11 1698.9,1182.1 1700.99,1182.1 1703.07,1182.1 1705.15,1182.09 1707.23,1182.09 \n  1709.32,1182.09 1711.4,1182.08 1713.48,1182.08 1715.56,1182.08 1717.65,1182.07 1719.73,1182.07 1721.81,1182.07 1723.89,1182.06 1725.98,1182.06 1728.06,1182.06 \n  1730.14,1182.06 1732.22,1182.05 1734.31,1182.05 1736.39,1182.05 1738.47,1182.05 1740.55,1182.05 1742.64,1182.05 1744.72,1182.04 1746.8,1182.04 1748.88,1182.04 \n  1750.97,1182.04 1753.05,1182.04 1755.13,1182.04 1757.21,1182.04 1759.3,1182.03 1761.38,1182.03 1763.46,1182.03 1765.54,1182.03 1767.63,1182.03 1769.71,1182.03 \n  1771.79,1182.03 1773.87,1182.03 1775.96,1182.03 1778.04,1182.03 1780.12,1182.03 1782.2,1182.03 1784.29,1182.03 1786.37,1182.03 1788.45,1182.03 1790.53,1182.02 \n  1792.62,1182.02 1794.7,1182.02 1796.78,1182.02 1798.86,1182.02 1800.95,1182.02 1803.03,1182.02 1805.11,1182.02 1807.19,1182.02 1809.28,1182.02 1811.36,1182.02 \n  1813.44,1182.02 1815.52,1182.02 1817.61,1182.02 1819.69,1182.02 1821.77,1182.02 1823.85,1182.02 1825.94,1182.02 1828.02,1182.02 1830.1,1182.02 1832.19,1182.02 \n  1834.27,1182.02 1836.35,1182.02 1838.43,1182.02 1840.52,1182.02 1842.6,1182.01 1844.68,1182.01 1846.76,1182.01 1848.85,1182.01 1850.93,1182.01 1853.01,1182.01 \n  1855.09,1182.01 1857.18,1182.01 1859.26,1182.01 1861.34,1182.01 1863.42,1182.01 1865.51,1182.01 1867.59,1182.01 1869.67,1182.01 1871.75,1182.01 1873.84,1182.01 \n  1875.92,1182.01 1878,1182.01 1880.08,1182.01 1882.17,1182.01 1884.25,1182.01 1886.33,1182.01 1888.41,1182.01 1890.5,1182.01 1892.58,1182.01 1894.66,1182.01 \n  1896.74,1182.02 1898.83,1182.02 1900.91,1182.02 1902.99,1182.02 1905.07,1182.02 1907.16,1182.02 1909.24,1182.02 1911.32,1182.02 1913.4,1182.02 1915.49,1182.02 \n  1917.57,1182.02 1919.65,1182.03 1921.73,1182.03 1923.82,1182.03 1925.9,1182.03 1927.98,1182.03 1930.06,1182.03 1932.15,1182.04 1934.23,1182.04 1936.31,1182.04 \n  1938.39,1182.04 1940.48,1182.04 1942.56,1182.05 1944.64,1182.05 1946.72,1182.05 1948.81,1182.05 1950.89,1182.05 1952.97,1182.06 1955.05,1182.06 1957.14,1182.06 \n  1959.22,1182.06 1961.3,1182.07 1963.38,1182.07 1965.47,1182.07 1967.55,1182.08 1969.63,1182.08 1971.71,1182.08 1973.8,1182.09 1975.88,1182.09 1977.96,1182.09 \n  1980.04,1182.1 1982.13,1182.1 1984.21,1182.1 1986.29,1182.11 1988.38,1182.11 1990.46,1182.11 1992.54,1182.12 1994.62,1182.12 1996.71,1182.12 1998.79,1182.13 \n  2000.87,1182.13 2002.95,1182.14 2005.04,1182.14 2007.12,1182.14 2009.2,1182.15 2011.28,1182.15 2013.37,1182.15 2015.45,1182.16 2017.53,1182.16 2019.61,1182.17 \n  2021.7,1182.17 2023.78,1182.17 2025.86,1182.18 2027.94,1182.18 2030.03,1182.18 2032.11,1182.19 2034.19,1182.19 2036.27,1182.19 2038.36,1182.2 2040.44,1182.2 \n  2042.52,1182.21 2044.6,1182.21 2046.69,1182.21 2048.77,1182.21 2050.85,1182.22 2052.93,1182.22 2055.02,1182.22 2057.1,1182.23 2059.18,1182.23 2061.26,1182.23 \n  2063.35,1182.23 2065.43,1182.24 2067.51,1182.24 2069.59,1182.24 2071.68,1182.24 2073.76,1182.25 2075.84,1182.25 2077.92,1182.25 2080.01,1182.25 2082.09,1182.25 \n  2084.17,1182.25 2086.25,1182.26 2088.34,1182.26 2090.42,1182.26 2092.5,1182.26 2094.58,1182.26 2096.67,1182.26 2098.75,1182.26 2100.83,1182.26 2102.91,1182.26 \n  2105,1182.26 2107.08,1182.26 2109.16,1182.26 2111.24,1182.26 2113.33,1182.26 2115.41,1182.26 2117.49,1182.26 2119.57,1182.25 2121.66,1182.25 2123.74,1182.25 \n  2125.82,1182.25 2127.9,1182.25 2129.99,1182.24 2132.07,1182.24 2134.15,1182.24 2136.23,1182.24 2138.32,1182.23 2140.4,1182.23 2142.48,1182.23 2144.57,1182.22 \n  2146.65,1182.22 2148.73,1182.22 2150.81,1182.21 2152.9,1182.21 2154.98,1182.2 2157.06,1182.2 2159.14,1182.19 2161.23,1182.19 2163.31,1182.19 2165.39,1182.18 \n  2167.47,1182.18 2169.56,1182.17 2171.64,1182.16 2173.72,1182.16 2175.8,1182.15 2177.89,1182.15 2179.97,1182.14 2182.05,1182.14 2184.13,1182.13 2186.22,1182.13 \n  2188.3,1182.12 2190.38,1182.11 2192.46,1182.11 2194.55,1182.1 2196.63,1182.09 2198.71,1182.09 2200.79,1182.08 2202.88,1182.08 2204.96,1182.07 2207.04,1182.06 \n  2209.12,1182.06 2211.21,1182.05 2213.29,1182.05 2215.37,1182.04 2217.45,1182.04 2219.54,1182.03 2221.62,1182.02 2223.7,1182.02 2225.78,1182.01 2227.87,1182.01 \n  2229.95,1182 2232.03,1182 2234.11,1182 2236.2,1181.99 2238.28,1181.99 2240.36,1181.99 2242.44,1181.98 2244.53,1181.98 2246.61,1181.98 2248.69,1181.98 \n  2250.77,1181.97 2252.86,1181.97 2254.94,1181.97 2257.02,1181.97 2259.1,1181.97 2261.19,1181.97 2263.27,1181.97 2265.35,1181.98 2267.43,1181.98 2269.52,1181.98 \n  2271.6,1181.99 2273.68,1181.99 2275.76,1182 2277.85,1182 2279.93,1182.01 2282.01,1182.02 2284.09,1182.03 2286.18,1182.03 2288.26,1182.04 2290.34,1182.06 \n  \n  \"/>\n<path clip-path=\"url(#clip820)\" d=\"\nM1980.07 354.418 L2279.25 354.418 L2279.25 95.2176 L1980.07 95.2176  Z\n  \" fill=\"#ffffff\" fill-rule=\"evenodd\" fill-opacity=\"1\"/>\n<polyline clip-path=\"url(#clip820)\" style=\"stroke:#000000; stroke-linecap:round; stroke-linejoin:round; stroke-width:4; stroke-opacity:1; fill:none\" points=\"\n  1980.07,354.418 2279.25,354.418 2279.25,95.2176 1980.07,95.2176 1980.07,354.418 \n  \"/>\n<polyline clip-path=\"url(#clip820)\" style=\"stroke:#009af9; stroke-linecap:round; stroke-linejoin:round; stroke-width:4; stroke-opacity:1; fill:none\" points=\"\n  2004.58,147.058 2151.59,147.058 \n  \"/>\n<path clip-path=\"url(#clip820)\" d=\"M2189.94 166.745 Q2188.13 171.375 2186.42 172.787 Q2184.71 174.199 2181.84 174.199 L2178.44 174.199 L2178.44 170.634 L2180.94 170.634 Q2182.69 170.634 2183.67 169.8 Q2184.64 168.967 2185.82 165.865 L2186.58 163.921 L2176.1 138.412 L2180.61 138.412 L2188.71 158.689 L2196.81 138.412 L2201.33 138.412 L2189.94 166.745 Z\" fill=\"#000000\" fill-rule=\"evenodd\" fill-opacity=\"1\" /><path clip-path=\"url(#clip820)\" d=\"M2208.62 160.402 L2216.26 160.402 L2216.26 134.037 L2207.95 135.703 L2207.95 131.444 L2216.21 129.778 L2220.89 129.778 L2220.89 160.402 L2228.53 160.402 L2228.53 164.338 L2208.62 164.338 L2208.62 160.402 Z\" fill=\"#000000\" fill-rule=\"evenodd\" fill-opacity=\"1\" /><polyline clip-path=\"url(#clip820)\" style=\"stroke:#e26f46; stroke-linecap:round; stroke-linejoin:round; stroke-width:4; stroke-opacity:1; fill:none\" points=\"\n  2004.58,198.898 2151.59,198.898 \n  \"/>\n<path clip-path=\"url(#clip820)\" d=\"M2189.94 218.585 Q2188.13 223.215 2186.42 224.627 Q2184.71 226.039 2181.84 226.039 L2178.44 226.039 L2178.44 222.474 L2180.94 222.474 Q2182.69 222.474 2183.67 221.64 Q2184.64 220.807 2185.82 217.705 L2186.58 215.761 L2176.1 190.252 L2180.61 190.252 L2188.71 210.529 L2196.81 190.252 L2201.33 190.252 L2189.94 218.585 Z\" fill=\"#000000\" fill-rule=\"evenodd\" fill-opacity=\"1\" /><path clip-path=\"url(#clip820)\" d=\"M2211.84 212.242 L2228.16 212.242 L2228.16 216.178 L2206.21 216.178 L2206.21 212.242 Q2208.87 209.488 2213.46 204.858 Q2218.06 200.205 2219.25 198.863 Q2221.49 196.34 2222.37 194.604 Q2223.27 192.844 2223.27 191.155 Q2223.27 188.4 2221.33 186.664 Q2219.41 184.928 2216.31 184.928 Q2214.11 184.928 2211.65 185.692 Q2209.22 186.455 2206.44 188.006 L2206.44 183.284 Q2209.27 182.15 2211.72 181.571 Q2214.18 180.993 2216.21 180.993 Q2221.58 180.993 2224.78 183.678 Q2227.97 186.363 2227.97 190.854 Q2227.97 192.983 2227.16 194.905 Q2226.37 196.803 2224.27 199.395 Q2223.69 200.067 2220.59 203.284 Q2217.49 206.479 2211.84 212.242 Z\" fill=\"#000000\" fill-rule=\"evenodd\" fill-opacity=\"1\" /><polyline clip-path=\"url(#clip820)\" style=\"stroke:#3da44d; stroke-linecap:round; stroke-linejoin:round; stroke-width:4; stroke-opacity:1; fill:none\" points=\"\n  2004.58,250.738 2151.59,250.738 \n  \"/>\n<path clip-path=\"url(#clip820)\" d=\"M2189.94 270.425 Q2188.13 275.055 2186.42 276.467 Q2184.71 277.879 2181.84 277.879 L2178.44 277.879 L2178.44 274.314 L2180.94 274.314 Q2182.69 274.314 2183.67 273.48 Q2184.64 272.647 2185.82 269.545 L2186.58 267.601 L2176.1 242.092 L2180.61 242.092 L2188.71 262.369 L2196.81 242.092 L2201.33 242.092 L2189.94 270.425 Z\" fill=\"#000000\" fill-rule=\"evenodd\" fill-opacity=\"1\" /><path clip-path=\"url(#clip820)\" d=\"M2221.98 249.383 Q2225.33 250.101 2227.21 252.369 Q2229.11 254.638 2229.11 257.971 Q2229.11 263.087 2225.59 265.888 Q2222.07 268.689 2215.59 268.689 Q2213.41 268.689 2211.1 268.249 Q2208.81 267.832 2206.35 266.976 L2206.35 262.462 Q2208.3 263.596 2210.61 264.175 Q2212.93 264.754 2215.45 264.754 Q2219.85 264.754 2222.14 263.018 Q2224.45 261.281 2224.45 257.971 Q2224.45 254.916 2222.3 253.203 Q2220.17 251.467 2216.35 251.467 L2212.32 251.467 L2212.32 247.624 L2216.54 247.624 Q2219.99 247.624 2221.81 246.258 Q2223.64 244.87 2223.64 242.277 Q2223.64 239.615 2221.75 238.203 Q2219.87 236.768 2216.35 236.768 Q2214.43 236.768 2212.23 237.184 Q2210.03 237.601 2207.39 238.481 L2207.39 234.314 Q2210.06 233.573 2212.37 233.203 Q2214.71 232.833 2216.77 232.833 Q2222.09 232.833 2225.19 235.263 Q2228.3 237.67 2228.3 241.791 Q2228.3 244.661 2226.65 246.652 Q2225.01 248.62 2221.98 249.383 Z\" fill=\"#000000\" fill-rule=\"evenodd\" fill-opacity=\"1\" /><polyline clip-path=\"url(#clip820)\" style=\"stroke:#c271d2; stroke-linecap:round; stroke-linejoin:round; stroke-width:4; stroke-opacity:1; fill:none\" points=\"\n  2004.58,302.578 2151.59,302.578 \n  \"/>\n<path clip-path=\"url(#clip820)\" d=\"M2189.94 322.265 Q2188.13 326.895 2186.42 328.307 Q2184.71 329.719 2181.84 329.719 L2178.44 329.719 L2178.44 326.154 L2180.94 326.154 Q2182.69 326.154 2183.67 325.32 Q2184.64 324.487 2185.82 321.385 L2186.58 319.441 L2176.1 293.932 L2180.61 293.932 L2188.71 314.209 L2196.81 293.932 L2201.33 293.932 L2189.94 322.265 Z\" fill=\"#000000\" fill-rule=\"evenodd\" fill-opacity=\"1\" /><path clip-path=\"url(#clip820)\" d=\"M2220.66 289.372 L2208.85 307.821 L2220.66 307.821 L2220.66 289.372 M2219.43 285.298 L2225.31 285.298 L2225.31 307.821 L2230.24 307.821 L2230.24 311.709 L2225.31 311.709 L2225.31 319.858 L2220.66 319.858 L2220.66 311.709 L2205.06 311.709 L2205.06 307.196 L2219.43 285.298 Z\" fill=\"#000000\" fill-rule=\"evenodd\" fill-opacity=\"1\" /></svg>\n"
     },
     "execution_count": 37,
     "metadata": {},
     "output_type": "execute_result"
    }
   ],
   "source": [
    "plot(w_mesh, gi[:,1]-gi[:,4], linewidth=2.0)\n",
    "plot!(w_mesh, gi[:,1]+gi[:,4], linewidth=2.0)\n",
    "plot!(w_mesh, gi[:,3], linewidth=2.0)\n",
    "plot!(w_mesh, gi[:,4], linewidth=2.0)"
   ]
  },
  {
   "cell_type": "code",
   "execution_count": 39,
   "metadata": {},
   "outputs": [
    {
     "data": {
      "text/plain": [
       "KK_GR (generic function with 1 method)"
      ]
     },
     "execution_count": 39,
     "metadata": {},
     "output_type": "execute_result"
    }
   ],
   "source": [
    "\n",
    "function reshape(rho::Vector{Float64}, cutoff::Float64)\n",
    "    v_it::Vector{Int} = []\n",
    "    rho_rep = rho\n",
    "    sw = true\n",
    "    for w in 1:length(rho_rep)\n",
    "        if(rho_rep[w]<0)\n",
    "            if(sw)\n",
    "                for it in v_it\n",
    "                    rho_rep[it] = 0.005                \n",
    "                end\n",
    "                empty!(v_it)\n",
    "                sw = false\n",
    "            elseif(w<length(rho_rep) && rho_rep[w+1]>0.0)\n",
    "                sw = true\n",
    "            end\n",
    "            rho_rep[w] = 0.005\n",
    "\n",
    "        elseif(rho_rep[w]<cutoff)\n",
    "            if(sw)\n",
    "                push!(v_it,w)\n",
    "            #elseif(w<length(rho_rep) && rho_rep[w+1]>rho_rep[w])\n",
    "            #    sw = true\n",
    "            #    push!(v_it,w)\n",
    "            end\n",
    "        elseif(rho_rep[w]>=cutoff && sw)\n",
    "            empty!(v_it)\n",
    "            sw = false\n",
    "        end\n",
    "        if(w == length(rho_rep))\n",
    "            if(sw)\n",
    "                for it in v_it\n",
    "                    rho_rep[it] = 0.005                \n",
    "                end\n",
    "            end\n",
    "        end\n",
    "    end\n",
    "    return rho_rep\n",
    "end\n",
    "\n",
    "\n",
    "function KK_GR(w::Vector{Float64}, rho::Vector{Matrix{ComplexF64}})\n",
    "    #GR_ = zeros(ComplexF64, length(w))\n",
    "    GR_::Vector{Matrix{ComplexF64}} = []\n",
    "    dw = w[2]-w[1]\n",
    "    for w_re in 1:length(w)\n",
    "        re = zeros(ComplexF64, 2, 2)\n",
    "        for w_im in 1:length(w)\n",
    "            if(w_im != w_re)\n",
    "                re += dw * rho[w_im] / (w[w_re] - w[w_im])\n",
    "            end \n",
    "        end\n",
    "        ggg = re - 1.0im * rho[w_re] * pi\n",
    "        push!(GR_, ggg)\n",
    "    end\n",
    "    return GR_\n",
    "end"
   ]
  },
  {
   "cell_type": "code",
   "execution_count": 48,
   "metadata": {},
   "outputs": [
    {
     "data": {
      "text/plain": [
       "500-element Vector{Float64}:\n",
       " 0.005\n",
       " 0.005\n",
       " 0.005\n",
       " 0.005\n",
       " 0.005\n",
       " 0.005\n",
       " 0.005\n",
       " 0.005\n",
       " 0.005\n",
       " 0.005\n",
       " 0.005\n",
       " 0.005\n",
       " 0.005\n",
       " ⋮\n",
       " 0.005\n",
       " 0.005\n",
       " 0.005\n",
       " 0.005\n",
       " 0.005\n",
       " 0.005\n",
       " 0.005\n",
       " 0.005\n",
       " 0.005\n",
       " 0.005\n",
       " 0.005\n",
       " 0.005"
      ]
     },
     "execution_count": 48,
     "metadata": {},
     "output_type": "execute_result"
    }
   ],
   "source": [
    "g11 = reshape(gi[:,1]+gi[:,4], 0.3)\n",
    "g22 = reshape(gi[:,1]-gi[:,4], 0.3)"
   ]
  },
  {
   "cell_type": "code",
   "execution_count": 49,
   "metadata": {},
   "outputs": [
    {
     "data": {
      "text/plain": [
       "500-element Vector{Float64}:\n",
       " 0.0\n",
       " 0.0\n",
       " 0.0\n",
       " 0.0\n",
       " 0.0\n",
       " 0.0\n",
       " 0.0\n",
       " 0.0\n",
       " 0.0\n",
       " 0.0\n",
       " 0.0\n",
       " 0.0\n",
       " 0.0\n",
       " ⋮\n",
       " 0.0\n",
       " 0.0\n",
       " 0.0\n",
       " 0.0\n",
       " 0.0\n",
       " 0.0\n",
       " 0.0\n",
       " 0.0\n",
       " 0.0\n",
       " 0.0\n",
       " 0.0\n",
       " 0.0"
      ]
     },
     "execution_count": 49,
     "metadata": {},
     "output_type": "execute_result"
    }
   ],
   "source": [
    "gi[:,1] = (g11+g22)/2\n",
    "gi[:,4] = (g11-g22)/2"
   ]
  },
  {
   "cell_type": "code",
   "execution_count": 56,
   "metadata": {},
   "outputs": [
    {
     "data": {
      "image/svg+xml": "<?xml version=\"1.0\" encoding=\"utf-8\"?>\n<svg xmlns=\"http://www.w3.org/2000/svg\" xmlns:xlink=\"http://www.w3.org/1999/xlink\" width=\"600\" height=\"400\" viewBox=\"0 0 2400 1600\">\n<defs>\n  <clipPath id=\"clip400\">\n    <rect x=\"0\" y=\"0\" width=\"2400\" height=\"1600\"/>\n  </clipPath>\n</defs>\n<path clip-path=\"url(#clip400)\" d=\"\nM0 1600 L2400 1600 L2400 0 L0 0  Z\n  \" fill=\"#ffffff\" fill-rule=\"evenodd\" fill-opacity=\"1\"/>\n<defs>\n  <clipPath id=\"clip401\">\n    <rect x=\"480\" y=\"0\" width=\"1681\" height=\"1600\"/>\n  </clipPath>\n</defs>\n<path clip-path=\"url(#clip400)\" d=\"\nM194.422 1486.45 L2352.76 1486.45 L2352.76 47.2441 L194.422 47.2441  Z\n  \" fill=\"#ffffff\" fill-rule=\"evenodd\" fill-opacity=\"1\"/>\n<defs>\n  <clipPath id=\"clip402\">\n    <rect x=\"194\" y=\"47\" width=\"2159\" height=\"1440\"/>\n  </clipPath>\n</defs>\n<polyline clip-path=\"url(#clip402)\" style=\"stroke:#000000; stroke-linecap:round; stroke-linejoin:round; stroke-width:2; stroke-opacity:0.1; fill:none\" points=\"\n  255.507,1486.45 255.507,47.2441 \n  \"/>\n<polyline clip-path=\"url(#clip402)\" style=\"stroke:#000000; stroke-linecap:round; stroke-linejoin:round; stroke-width:2; stroke-opacity:0.1; fill:none\" points=\"\n  764.548,1486.45 764.548,47.2441 \n  \"/>\n<polyline clip-path=\"url(#clip402)\" style=\"stroke:#000000; stroke-linecap:round; stroke-linejoin:round; stroke-width:2; stroke-opacity:0.1; fill:none\" points=\"\n  1273.59,1486.45 1273.59,47.2441 \n  \"/>\n<polyline clip-path=\"url(#clip402)\" style=\"stroke:#000000; stroke-linecap:round; stroke-linejoin:round; stroke-width:2; stroke-opacity:0.1; fill:none\" points=\"\n  1782.63,1486.45 1782.63,47.2441 \n  \"/>\n<polyline clip-path=\"url(#clip402)\" style=\"stroke:#000000; stroke-linecap:round; stroke-linejoin:round; stroke-width:2; stroke-opacity:0.1; fill:none\" points=\"\n  2291.67,1486.45 2291.67,47.2441 \n  \"/>\n<polyline clip-path=\"url(#clip400)\" style=\"stroke:#000000; stroke-linecap:round; stroke-linejoin:round; stroke-width:4; stroke-opacity:1; fill:none\" points=\"\n  194.422,1486.45 2352.76,1486.45 \n  \"/>\n<polyline clip-path=\"url(#clip400)\" style=\"stroke:#000000; stroke-linecap:round; stroke-linejoin:round; stroke-width:4; stroke-opacity:1; fill:none\" points=\"\n  255.507,1486.45 255.507,1467.55 \n  \"/>\n<polyline clip-path=\"url(#clip400)\" style=\"stroke:#000000; stroke-linecap:round; stroke-linejoin:round; stroke-width:4; stroke-opacity:1; fill:none\" points=\"\n  764.548,1486.45 764.548,1467.55 \n  \"/>\n<polyline clip-path=\"url(#clip400)\" style=\"stroke:#000000; stroke-linecap:round; stroke-linejoin:round; stroke-width:4; stroke-opacity:1; fill:none\" points=\"\n  1273.59,1486.45 1273.59,1467.55 \n  \"/>\n<polyline clip-path=\"url(#clip400)\" style=\"stroke:#000000; stroke-linecap:round; stroke-linejoin:round; stroke-width:4; stroke-opacity:1; fill:none\" points=\"\n  1782.63,1486.45 1782.63,1467.55 \n  \"/>\n<polyline clip-path=\"url(#clip400)\" style=\"stroke:#000000; stroke-linecap:round; stroke-linejoin:round; stroke-width:4; stroke-opacity:1; fill:none\" points=\"\n  2291.67,1486.45 2291.67,1467.55 \n  \"/>\n<path clip-path=\"url(#clip400)\" d=\"M224.408 1532.02 L254.083 1532.02 L254.083 1535.95 L224.408 1535.95 L224.408 1532.02 Z\" fill=\"#000000\" fill-rule=\"evenodd\" fill-opacity=\"1\" /><path clip-path=\"url(#clip400)\" d=\"M277.023 1518.36 L265.218 1536.81 L277.023 1536.81 L277.023 1518.36 M275.796 1514.29 L281.676 1514.29 L281.676 1536.81 L286.606 1536.81 L286.606 1540.7 L281.676 1540.7 L281.676 1548.85 L277.023 1548.85 L277.023 1540.7 L261.421 1540.7 L261.421 1536.19 L275.796 1514.29 Z\" fill=\"#000000\" fill-rule=\"evenodd\" fill-opacity=\"1\" /><path clip-path=\"url(#clip400)\" d=\"M734.49 1532.02 L764.166 1532.02 L764.166 1535.95 L734.49 1535.95 L734.49 1532.02 Z\" fill=\"#000000\" fill-rule=\"evenodd\" fill-opacity=\"1\" /><path clip-path=\"url(#clip400)\" d=\"M778.286 1544.91 L794.606 1544.91 L794.606 1548.85 L772.661 1548.85 L772.661 1544.91 Q775.323 1542.16 779.907 1537.53 Q784.513 1532.88 785.694 1531.53 Q787.939 1529.01 788.819 1527.27 Q789.721 1525.51 789.721 1523.82 Q789.721 1521.07 787.777 1519.33 Q785.856 1517.6 782.754 1517.6 Q780.555 1517.6 778.101 1518.36 Q775.671 1519.13 772.893 1520.68 L772.893 1515.95 Q775.717 1514.82 778.171 1514.24 Q780.624 1513.66 782.661 1513.66 Q788.032 1513.66 791.226 1516.35 Q794.421 1519.03 794.421 1523.52 Q794.421 1525.65 793.61 1527.57 Q792.823 1529.47 790.717 1532.07 Q790.138 1532.74 787.036 1535.95 Q783.934 1539.15 778.286 1544.91 Z\" fill=\"#000000\" fill-rule=\"evenodd\" fill-opacity=\"1\" /><path clip-path=\"url(#clip400)\" d=\"M1273.59 1517.37 Q1269.98 1517.37 1268.15 1520.93 Q1266.34 1524.47 1266.34 1531.6 Q1266.34 1538.71 1268.15 1542.27 Q1269.98 1545.82 1273.59 1545.82 Q1277.22 1545.82 1279.03 1542.27 Q1280.86 1538.71 1280.86 1531.6 Q1280.86 1524.47 1279.03 1520.93 Q1277.22 1517.37 1273.59 1517.37 M1273.59 1513.66 Q1279.4 1513.66 1282.45 1518.27 Q1285.53 1522.85 1285.53 1531.6 Q1285.53 1540.33 1282.45 1544.94 Q1279.4 1549.52 1273.59 1549.52 Q1267.78 1549.52 1264.7 1544.94 Q1261.64 1540.33 1261.64 1531.6 Q1261.64 1522.85 1264.7 1518.27 Q1267.78 1513.66 1273.59 1513.66 Z\" fill=\"#000000\" fill-rule=\"evenodd\" fill-opacity=\"1\" /><path clip-path=\"url(#clip400)\" d=\"M1777.28 1544.91 L1793.6 1544.91 L1793.6 1548.85 L1771.66 1548.85 L1771.66 1544.91 Q1774.32 1542.16 1778.9 1537.53 Q1783.51 1532.88 1784.69 1531.53 Q1786.94 1529.01 1787.82 1527.27 Q1788.72 1525.51 1788.72 1523.82 Q1788.72 1521.07 1786.77 1519.33 Q1784.85 1517.6 1781.75 1517.6 Q1779.55 1517.6 1777.1 1518.36 Q1774.67 1519.13 1771.89 1520.68 L1771.89 1515.95 Q1774.71 1514.82 1777.17 1514.24 Q1779.62 1513.66 1781.66 1513.66 Q1787.03 1513.66 1790.22 1516.35 Q1793.42 1519.03 1793.42 1523.52 Q1793.42 1525.65 1792.61 1527.57 Q1791.82 1529.47 1789.71 1532.07 Q1789.13 1532.74 1786.03 1535.95 Q1782.93 1539.15 1777.28 1544.91 Z\" fill=\"#000000\" fill-rule=\"evenodd\" fill-opacity=\"1\" /><path clip-path=\"url(#clip400)\" d=\"M2294.68 1518.36 L2282.87 1536.81 L2294.68 1536.81 L2294.68 1518.36 M2293.45 1514.29 L2299.33 1514.29 L2299.33 1536.81 L2304.26 1536.81 L2304.26 1540.7 L2299.33 1540.7 L2299.33 1548.85 L2294.68 1548.85 L2294.68 1540.7 L2279.08 1540.7 L2279.08 1536.19 L2293.45 1514.29 Z\" fill=\"#000000\" fill-rule=\"evenodd\" fill-opacity=\"1\" /><polyline clip-path=\"url(#clip402)\" style=\"stroke:#000000; stroke-linecap:round; stroke-linejoin:round; stroke-width:2; stroke-opacity:0.1; fill:none\" points=\"\n  194.422,1327.77 2352.76,1327.77 \n  \"/>\n<polyline clip-path=\"url(#clip402)\" style=\"stroke:#000000; stroke-linecap:round; stroke-linejoin:round; stroke-width:2; stroke-opacity:0.1; fill:none\" points=\"\n  194.422,1049.06 2352.76,1049.06 \n  \"/>\n<polyline clip-path=\"url(#clip402)\" style=\"stroke:#000000; stroke-linecap:round; stroke-linejoin:round; stroke-width:2; stroke-opacity:0.1; fill:none\" points=\"\n  194.422,770.357 2352.76,770.357 \n  \"/>\n<polyline clip-path=\"url(#clip402)\" style=\"stroke:#000000; stroke-linecap:round; stroke-linejoin:round; stroke-width:2; stroke-opacity:0.1; fill:none\" points=\"\n  194.422,491.651 2352.76,491.651 \n  \"/>\n<polyline clip-path=\"url(#clip402)\" style=\"stroke:#000000; stroke-linecap:round; stroke-linejoin:round; stroke-width:2; stroke-opacity:0.1; fill:none\" points=\"\n  194.422,212.945 2352.76,212.945 \n  \"/>\n<polyline clip-path=\"url(#clip400)\" style=\"stroke:#000000; stroke-linecap:round; stroke-linejoin:round; stroke-width:4; stroke-opacity:1; fill:none\" points=\"\n  194.422,1486.45 194.422,47.2441 \n  \"/>\n<polyline clip-path=\"url(#clip400)\" style=\"stroke:#000000; stroke-linecap:round; stroke-linejoin:round; stroke-width:4; stroke-opacity:1; fill:none\" points=\"\n  194.422,1327.77 213.32,1327.77 \n  \"/>\n<polyline clip-path=\"url(#clip400)\" style=\"stroke:#000000; stroke-linecap:round; stroke-linejoin:round; stroke-width:4; stroke-opacity:1; fill:none\" points=\"\n  194.422,1049.06 213.32,1049.06 \n  \"/>\n<polyline clip-path=\"url(#clip400)\" style=\"stroke:#000000; stroke-linecap:round; stroke-linejoin:round; stroke-width:4; stroke-opacity:1; fill:none\" points=\"\n  194.422,770.357 213.32,770.357 \n  \"/>\n<polyline clip-path=\"url(#clip400)\" style=\"stroke:#000000; stroke-linecap:round; stroke-linejoin:round; stroke-width:4; stroke-opacity:1; fill:none\" points=\"\n  194.422,491.651 213.32,491.651 \n  \"/>\n<polyline clip-path=\"url(#clip400)\" style=\"stroke:#000000; stroke-linecap:round; stroke-linejoin:round; stroke-width:4; stroke-opacity:1; fill:none\" points=\"\n  194.422,212.945 213.32,212.945 \n  \"/>\n<path clip-path=\"url(#clip400)\" d=\"M50.9921 1328.22 L80.6679 1328.22 L80.6679 1332.16 L50.9921 1332.16 L50.9921 1328.22 Z\" fill=\"#000000\" fill-rule=\"evenodd\" fill-opacity=\"1\" /><path clip-path=\"url(#clip400)\" d=\"M100.76 1313.57 Q97.1493 1313.57 95.3206 1317.13 Q93.515 1320.68 93.515 1327.8 Q93.515 1334.91 95.3206 1338.48 Q97.1493 1342.02 100.76 1342.02 Q104.395 1342.02 106.2 1338.48 Q108.029 1334.91 108.029 1327.8 Q108.029 1320.68 106.2 1317.13 Q104.395 1313.57 100.76 1313.57 M100.76 1309.87 Q106.571 1309.87 109.626 1314.47 Q112.705 1319.05 112.705 1327.8 Q112.705 1336.53 109.626 1341.14 Q106.571 1345.72 100.76 1345.72 Q94.9502 1345.72 91.8715 1341.14 Q88.816 1336.53 88.816 1327.8 Q88.816 1319.05 91.8715 1314.47 Q94.9502 1309.87 100.76 1309.87 Z\" fill=\"#000000\" fill-rule=\"evenodd\" fill-opacity=\"1\" /><path clip-path=\"url(#clip400)\" d=\"M120.922 1339.17 L125.807 1339.17 L125.807 1345.05 L120.922 1345.05 L120.922 1339.17 Z\" fill=\"#000000\" fill-rule=\"evenodd\" fill-opacity=\"1\" /><path clip-path=\"url(#clip400)\" d=\"M148.839 1314.56 L137.033 1333.01 L148.839 1333.01 L148.839 1314.56 M147.612 1310.49 L153.492 1310.49 L153.492 1333.01 L158.422 1333.01 L158.422 1336.9 L153.492 1336.9 L153.492 1345.05 L148.839 1345.05 L148.839 1336.9 L133.237 1336.9 L133.237 1332.39 L147.612 1310.49 Z\" fill=\"#000000\" fill-rule=\"evenodd\" fill-opacity=\"1\" /><path clip-path=\"url(#clip400)\" d=\"M53.0754 1049.52 L82.7512 1049.52 L82.7512 1053.45 L53.0754 1053.45 L53.0754 1049.52 Z\" fill=\"#000000\" fill-rule=\"evenodd\" fill-opacity=\"1\" /><path clip-path=\"url(#clip400)\" d=\"M102.844 1034.86 Q99.2326 1034.86 97.4039 1038.43 Q95.5984 1041.97 95.5984 1049.1 Q95.5984 1056.2 97.4039 1059.77 Q99.2326 1063.31 102.844 1063.31 Q106.478 1063.31 108.283 1059.77 Q110.112 1056.2 110.112 1049.1 Q110.112 1041.97 108.283 1038.43 Q106.478 1034.86 102.844 1034.86 M102.844 1031.16 Q108.654 1031.16 111.709 1035.77 Q114.788 1040.35 114.788 1049.1 Q114.788 1057.83 111.709 1062.43 Q108.654 1067.02 102.844 1067.02 Q97.0335 1067.02 93.9549 1062.43 Q90.8993 1057.83 90.8993 1049.1 Q90.8993 1040.35 93.9549 1035.77 Q97.0335 1031.16 102.844 1031.16 Z\" fill=\"#000000\" fill-rule=\"evenodd\" fill-opacity=\"1\" /><path clip-path=\"url(#clip400)\" d=\"M123.006 1060.46 L127.89 1060.46 L127.89 1066.34 L123.006 1066.34 L123.006 1060.46 Z\" fill=\"#000000\" fill-rule=\"evenodd\" fill-opacity=\"1\" /><path clip-path=\"url(#clip400)\" d=\"M142.103 1062.41 L158.422 1062.41 L158.422 1066.34 L136.478 1066.34 L136.478 1062.41 Q139.14 1059.65 143.723 1055.02 Q148.33 1050.37 149.51 1049.03 Q151.755 1046.51 152.635 1044.77 Q153.538 1043.01 153.538 1041.32 Q153.538 1038.57 151.593 1036.83 Q149.672 1035.09 146.57 1035.09 Q144.371 1035.09 141.918 1035.86 Q139.487 1036.62 136.709 1038.17 L136.709 1033.45 Q139.533 1032.32 141.987 1031.74 Q144.441 1031.16 146.478 1031.16 Q151.848 1031.16 155.042 1033.84 Q158.237 1036.53 158.237 1041.02 Q158.237 1043.15 157.427 1045.07 Q156.64 1046.97 154.533 1049.56 Q153.955 1050.23 150.853 1053.45 Q147.751 1056.64 142.103 1062.41 Z\" fill=\"#000000\" fill-rule=\"evenodd\" fill-opacity=\"1\" /><path clip-path=\"url(#clip400)\" d=\"M101.246 756.156 Q97.6354 756.156 95.8067 759.721 Q94.0012 763.263 94.0012 770.392 Q94.0012 777.499 95.8067 781.063 Q97.6354 784.605 101.246 784.605 Q104.881 784.605 106.686 781.063 Q108.515 777.499 108.515 770.392 Q108.515 763.263 106.686 759.721 Q104.881 756.156 101.246 756.156 M101.246 752.452 Q107.057 752.452 110.112 757.059 Q113.191 761.642 113.191 770.392 Q113.191 779.119 110.112 783.725 Q107.057 788.309 101.246 788.309 Q95.4363 788.309 92.3576 783.725 Q89.3021 779.119 89.3021 770.392 Q89.3021 761.642 92.3576 757.059 Q95.4363 752.452 101.246 752.452 Z\" fill=\"#000000\" fill-rule=\"evenodd\" fill-opacity=\"1\" /><path clip-path=\"url(#clip400)\" d=\"M121.408 781.758 L126.293 781.758 L126.293 787.637 L121.408 787.637 L121.408 781.758 Z\" fill=\"#000000\" fill-rule=\"evenodd\" fill-opacity=\"1\" /><path clip-path=\"url(#clip400)\" d=\"M146.478 756.156 Q142.867 756.156 141.038 759.721 Q139.232 763.263 139.232 770.392 Q139.232 777.499 141.038 781.063 Q142.867 784.605 146.478 784.605 Q150.112 784.605 151.918 781.063 Q153.746 777.499 153.746 770.392 Q153.746 763.263 151.918 759.721 Q150.112 756.156 146.478 756.156 M146.478 752.452 Q152.288 752.452 155.343 757.059 Q158.422 761.642 158.422 770.392 Q158.422 779.119 155.343 783.725 Q152.288 788.309 146.478 788.309 Q140.668 788.309 137.589 783.725 Q134.533 779.119 134.533 770.392 Q134.533 761.642 137.589 757.059 Q140.668 752.452 146.478 752.452 Z\" fill=\"#000000\" fill-rule=\"evenodd\" fill-opacity=\"1\" /><path clip-path=\"url(#clip400)\" d=\"M102.844 477.45 Q99.2326 477.45 97.4039 481.015 Q95.5984 484.556 95.5984 491.686 Q95.5984 498.792 97.4039 502.357 Q99.2326 505.899 102.844 505.899 Q106.478 505.899 108.283 502.357 Q110.112 498.792 110.112 491.686 Q110.112 484.556 108.283 481.015 Q106.478 477.45 102.844 477.45 M102.844 473.746 Q108.654 473.746 111.709 478.353 Q114.788 482.936 114.788 491.686 Q114.788 500.413 111.709 505.019 Q108.654 509.602 102.844 509.602 Q97.0335 509.602 93.9549 505.019 Q90.8993 500.413 90.8993 491.686 Q90.8993 482.936 93.9549 478.353 Q97.0335 473.746 102.844 473.746 Z\" fill=\"#000000\" fill-rule=\"evenodd\" fill-opacity=\"1\" /><path clip-path=\"url(#clip400)\" d=\"M123.006 503.052 L127.89 503.052 L127.89 508.931 L123.006 508.931 L123.006 503.052 Z\" fill=\"#000000\" fill-rule=\"evenodd\" fill-opacity=\"1\" /><path clip-path=\"url(#clip400)\" d=\"M142.103 504.996 L158.422 504.996 L158.422 508.931 L136.478 508.931 L136.478 504.996 Q139.14 502.241 143.723 497.612 Q148.33 492.959 149.51 491.616 Q151.755 489.093 152.635 487.357 Q153.538 485.598 153.538 483.908 Q153.538 481.154 151.593 479.417 Q149.672 477.681 146.57 477.681 Q144.371 477.681 141.918 478.445 Q139.487 479.209 136.709 480.76 L136.709 476.038 Q139.533 474.904 141.987 474.325 Q144.441 473.746 146.478 473.746 Q151.848 473.746 155.042 476.431 Q158.237 479.117 158.237 483.607 Q158.237 485.737 157.427 487.658 Q156.64 489.556 154.533 492.149 Q153.955 492.82 150.853 496.038 Q147.751 499.232 142.103 504.996 Z\" fill=\"#000000\" fill-rule=\"evenodd\" fill-opacity=\"1\" /><path clip-path=\"url(#clip400)\" d=\"M100.76 198.744 Q97.1493 198.744 95.3206 202.308 Q93.515 205.85 93.515 212.98 Q93.515 220.086 95.3206 223.651 Q97.1493 227.192 100.76 227.192 Q104.395 227.192 106.2 223.651 Q108.029 220.086 108.029 212.98 Q108.029 205.85 106.2 202.308 Q104.395 198.744 100.76 198.744 M100.76 195.04 Q106.571 195.04 109.626 199.646 Q112.705 204.23 112.705 212.98 Q112.705 221.706 109.626 226.313 Q106.571 230.896 100.76 230.896 Q94.9502 230.896 91.8715 226.313 Q88.816 221.706 88.816 212.98 Q88.816 204.23 91.8715 199.646 Q94.9502 195.04 100.76 195.04 Z\" fill=\"#000000\" fill-rule=\"evenodd\" fill-opacity=\"1\" /><path clip-path=\"url(#clip400)\" d=\"M120.922 224.345 L125.807 224.345 L125.807 230.225 L120.922 230.225 L120.922 224.345 Z\" fill=\"#000000\" fill-rule=\"evenodd\" fill-opacity=\"1\" /><path clip-path=\"url(#clip400)\" d=\"M148.839 199.739 L137.033 218.188 L148.839 218.188 L148.839 199.739 M147.612 195.665 L153.492 195.665 L153.492 218.188 L158.422 218.188 L158.422 222.077 L153.492 222.077 L153.492 230.225 L148.839 230.225 L148.839 222.077 L133.237 222.077 L133.237 217.563 L147.612 195.665 Z\" fill=\"#000000\" fill-rule=\"evenodd\" fill-opacity=\"1\" /><polyline clip-path=\"url(#clip402)\" style=\"stroke:#009af9; stroke-linecap:round; stroke-linejoin:round; stroke-width:8; stroke-opacity:1; fill:none\" points=\"\n  255.507,763.525 259.588,763.525 263.668,763.525 267.748,763.525 271.829,763.525 275.909,763.525 279.99,763.525 284.07,763.525 288.151,763.525 292.231,763.525 \n  296.312,763.525 300.392,763.525 304.473,763.525 308.553,763.525 312.634,763.525 316.714,763.525 320.795,763.525 324.875,763.525 328.956,763.525 333.036,763.525 \n  337.117,763.525 341.197,766.257 345.278,765.278 349.358,764.268 353.439,763.228 357.519,762.158 361.6,761.058 365.68,759.929 369.761,758.77 373.841,757.582 \n  377.922,756.366 382.002,755.121 386.083,753.847 390.163,752.546 394.244,751.216 398.324,749.86 402.405,748.475 406.485,747.064 410.566,745.626 414.646,744.162 \n  418.727,742.672 422.807,741.157 426.888,739.616 430.968,738.05 435.049,736.46 439.129,734.847 443.21,733.21 447.29,731.55 451.37,729.867 455.451,728.163 \n  459.531,726.437 463.612,724.69 467.692,722.924 471.773,721.138 475.853,719.332 479.934,717.509 484.014,715.668 488.095,713.81 492.175,711.937 496.256,710.048 \n  500.336,708.144 504.417,706.227 508.497,704.296 512.578,702.354 516.658,700.401 520.739,698.438 524.819,696.465 528.9,694.485 532.98,692.497 537.061,690.503 \n  541.141,688.505 545.222,686.502 549.302,684.497 553.383,682.49 557.463,680.483 561.544,681.229 565.624,678.338 569.705,675.427 573.785,672.499 577.866,669.556 \n  581.946,666.6 586.027,663.635 590.107,660.661 594.188,657.683 598.268,654.702 602.349,651.72 606.429,648.741 610.51,645.767 614.59,642.801 618.671,639.846 \n  622.751,636.904 626.832,633.979 630.912,631.073 634.992,628.189 639.073,625.33 643.153,622.5 647.234,619.702 651.314,616.938 655.395,614.212 659.475,611.527 \n  663.556,608.886 667.636,606.293 671.717,603.75 675.797,601.262 679.878,598.832 683.958,596.462 688.039,594.156 692.119,591.918 696.2,589.751 700.28,587.659 \n  704.361,585.644 708.441,583.71 712.522,581.861 716.602,580.1 720.683,578.429 724.763,576.853 728.844,575.375 732.924,573.997 737.005,572.723 741.085,571.556 \n  745.166,570.499 749.246,569.554 753.327,568.725 757.407,568.015 761.488,567.425 765.568,566.958 769.649,566.617 773.729,566.403 777.81,566.319 781.89,566.366 \n  785.971,566.546 790.051,566.86 794.132,567.31 798.212,567.896 802.293,568.618 806.373,569.478 810.454,570.475 814.534,571.608 818.614,572.878 822.695,574.282 \n  826.775,575.82 830.856,577.489 834.936,579.287 839.017,581.212 843.097,583.26 847.178,585.427 851.258,587.708 855.339,590.099 859.419,592.595 863.5,595.188 \n  867.58,597.872 871.661,600.639 875.741,603.481 879.822,606.39 883.902,609.354 887.983,612.364 892.063,615.409 896.144,618.475 900.224,621.551 904.305,624.621 \n  908.385,627.671 912.466,630.685 916.546,633.648 920.627,636.54 924.707,639.344 928.788,642.039 932.868,644.607 936.949,647.025 941.029,649.271 945.11,651.323 \n  949.19,653.156 953.271,654.745 957.351,656.066 961.432,657.092 965.512,657.797 969.593,658.153 973.673,658.133 977.754,657.709 981.834,656.853 985.915,655.536 \n  989.995,653.732 994.076,651.413 998.156,648.551 1002.24,645.122 1006.32,641.101 1010.4,636.464 1014.48,631.192 1018.56,625.265 1022.64,618.669 1026.72,611.389 \n  1030.8,603.419 1034.88,594.754 1038.96,585.395 1043.04,575.349 1047.12,564.629 1051.2,553.255 1055.28,541.255 1059.36,528.665 1063.44,515.531 1067.52,501.906 \n  1071.6,487.856 1075.69,473.456 1079.77,458.791 1083.85,443.958 1087.93,429.063 1092.01,414.223 1096.09,399.563 1100.17,385.218 1104.25,371.326 1108.33,358.031 \n  1112.41,345.478 1116.49,333.808 1120.57,323.158 1124.65,313.652 1128.73,305.395 1132.81,298.47 1136.89,292.926 1140.97,288.77 1145.05,285.959 1149.13,284.386 \n  1153.21,283.869 1157.3,284.136 1161.38,284.819 1165.46,285.436 1169.54,285.389 1173.62,276.813 1177.7,267.348 1181.78,256.228 1185.86,243.051 1189.94,227.472 \n  1194.02,209.283 1198.1,188.525 1202.18,165.647 1206.26,141.703 1210.34,118.585 1214.42,99.2624 1218.5,87.9763 1222.58,90.2973 1226.66,112.905 1230.74,162.881 \n  1234.82,246.238 1238.9,365.382 1242.99,515.353 1247.07,679.247 1251.15,763.525 1255.23,763.525 1259.31,763.525 1263.39,763.42 1267.47,660.999 1271.55,755.734 \n  1275.63,755.853 1279.71,660.966 1283.79,763.162 1287.87,763.525 1291.95,763.525 1296.03,763.525 1300.11,679.277 1304.19,515.059 1308.27,364.986 1312.35,245.988 \n  1316.43,162.889 1320.51,113.118 1324.6,90.5702 1328.68,88.1672 1332.76,99.2972 1336.84,118.473 1340.92,141.514 1345,165.472 1349.08,188.439 1353.16,209.326 \n  1357.24,227.642 1361.32,243.313 1365.4,256.529 1369.48,267.629 1373.56,277.024 1377.64,285.572 1381.72,285.449 1385.8,284.657 1389.88,283.815 1393.96,283.419 \n  1398.04,283.852 1402.12,285.387 1406.2,288.206 1410.29,292.411 1414.37,298.038 1418.45,305.07 1422.53,313.447 1426.61,323.077 1430.69,333.847 1434.77,345.624 \n  1438.85,358.269 1442.93,371.636 1447.01,385.58 1451.09,399.955 1455.17,414.625 1459.25,429.457 1463.33,444.329 1467.41,459.128 1471.49,473.75 1475.57,488.101 \n  1479.65,502.098 1483.73,515.671 1487.81,528.755 1491.9,541.297 1495.98,553.255 1500.06,564.592 1504.14,575.281 1508.22,585.303 1512.3,594.643 1516.38,603.296 \n  1520.46,611.259 1524.54,618.535 1528.62,625.134 1532.7,631.065 1536.78,636.345 1540.86,640.991 1544.94,645.023 1549.02,648.463 1553.1,651.337 1557.18,653.668 \n  1561.26,655.484 1565.34,656.811 1569.42,657.678 1573.5,658.111 1577.59,658.139 1581.67,657.79 1585.75,657.091 1589.83,656.07 1593.91,654.754 1597.99,653.167 \n  1602.07,651.337 1606.15,649.288 1610.23,647.043 1614.31,644.626 1618.39,642.059 1622.47,639.364 1626.55,636.561 1630.63,633.669 1634.71,630.707 1638.79,627.692 \n  1642.87,624.642 1646.95,621.571 1651.03,618.496 1655.11,615.429 1659.2,612.384 1663.28,609.374 1667.36,606.409 1671.44,603.499 1675.52,600.656 1679.6,597.888 \n  1683.68,595.203 1687.76,592.608 1691.84,590.111 1695.92,587.718 1700,585.435 1704.08,583.265 1708.16,581.215 1712.24,579.288 1716.32,577.486 1720.4,575.814 \n  1724.48,574.272 1728.56,572.865 1732.64,571.592 1736.72,570.455 1740.8,569.454 1744.89,568.591 1748.97,567.865 1753.05,567.275 1757.13,566.822 1761.21,566.505 \n  1765.29,566.322 1769.37,566.272 1773.45,566.354 1777.53,566.565 1781.61,566.905 1785.69,567.37 1789.77,567.958 1793.85,568.668 1797.93,569.497 1802.01,570.441 \n  1806.09,571.499 1810.17,572.666 1814.25,573.941 1818.33,575.32 1822.41,576.801 1826.5,578.379 1830.58,580.052 1834.66,581.816 1838.74,583.669 1842.82,585.606 \n  1846.9,587.624 1850.98,589.721 1855.06,591.892 1859.14,594.134 1863.22,596.444 1867.3,598.818 1871.38,601.253 1875.46,603.746 1879.54,606.293 1883.62,608.891 \n  1887.7,611.536 1891.78,614.225 1895.86,616.955 1899.94,619.723 1904.02,622.526 1908.11,625.36 1912.19,628.222 1916.27,631.109 1920.35,634.018 1924.43,636.946 \n  1928.51,639.89 1932.59,642.848 1936.67,645.816 1940.75,648.791 1944.83,651.771 1948.91,654.754 1952.99,657.736 1957.07,660.714 1961.15,663.688 1965.23,666.653 \n  1969.31,669.608 1973.39,672.55 1977.47,675.477 1981.55,678.386 1985.63,681.277 1989.71,680.418 1993.8,682.428 1997.88,684.439 2001.96,686.448 2006.04,688.455 \n  2010.12,690.459 2014.2,692.459 2018.28,694.452 2022.36,696.44 2026.44,698.419 2030.52,700.39 2034.6,702.351 2038.68,704.302 2042.76,706.241 2046.84,708.167 \n  2050.92,710.079 2055,711.977 2059.08,713.86 2063.16,715.727 2067.24,717.577 2071.32,719.409 2075.41,721.222 2079.49,723.016 2083.57,724.791 2087.65,726.544 \n  2091.73,728.277 2095.81,729.987 2099.89,731.675 2103.97,733.339 2108.05,734.981 2112.13,736.597 2116.21,738.19 2120.29,739.757 2124.37,741.298 2128.45,742.813 \n  2132.53,744.302 2136.61,745.764 2140.69,747.199 2144.77,748.607 2148.85,749.986 2152.93,751.338 2157.01,752.661 2161.1,753.956 2165.18,755.221 2169.26,756.458 \n  2173.34,757.666 2177.42,758.844 2181.5,759.992 2185.58,761.111 2189.66,762.201 2193.74,763.26 2197.82,764.289 2201.9,765.288 2205.98,766.257 2210.06,763.525 \n  2214.14,763.525 2218.22,763.525 2222.3,763.525 2226.38,763.525 2230.46,763.525 2234.54,763.525 2238.62,763.525 2242.71,763.525 2246.79,763.525 2250.87,763.525 \n  2254.95,763.525 2259.03,763.525 2263.11,763.525 2267.19,763.525 2271.27,763.525 2275.35,763.525 2279.43,763.525 2283.51,763.525 2287.59,763.525 2291.67,763.525 \n  \n  \"/>\n<polyline clip-path=\"url(#clip402)\" style=\"stroke:#e26f46; stroke-linecap:round; stroke-linejoin:round; stroke-width:8; stroke-opacity:1; fill:none\" points=\"\n  255.507,770.357 259.588,770.357 263.668,770.357 267.748,770.357 271.829,770.357 275.909,770.357 279.99,770.357 284.07,770.357 288.151,770.357 292.231,770.357 \n  296.312,770.357 300.392,770.357 304.473,770.357 308.553,770.357 312.634,770.357 316.714,770.357 320.795,770.357 324.875,770.357 328.956,770.357 333.036,770.357 \n  337.117,770.357 341.197,767.625 345.278,768.605 349.358,769.615 353.439,770.655 357.519,771.725 361.6,772.825 365.68,773.954 369.761,775.113 373.841,776.3 \n  377.922,777.517 382.002,778.762 386.083,780.035 390.163,781.337 394.244,782.666 398.324,784.023 402.405,785.408 406.485,786.819 410.566,788.257 414.646,789.721 \n  418.727,791.211 422.807,792.726 426.888,794.267 430.968,795.833 435.049,797.422 439.129,799.036 443.21,800.673 447.29,802.333 451.37,804.016 455.451,805.72 \n  459.531,807.446 463.612,809.192 467.692,810.959 471.773,812.745 475.853,814.55 479.934,816.374 484.014,818.215 488.095,820.072 492.175,821.946 496.256,823.835 \n  500.336,825.739 504.417,827.656 508.497,829.586 512.578,831.529 516.658,833.482 520.739,835.445 524.819,837.417 528.9,839.398 532.98,841.386 537.061,843.379 \n  541.141,845.378 545.222,847.381 549.302,849.386 553.383,851.393 557.463,853.4 561.544,858.159 565.624,859.276 569.705,860.366 573.785,861.43 577.866,862.466 \n  581.946,863.475 586.027,864.456 590.107,865.408 594.188,866.332 598.268,867.225 602.349,868.089 606.429,868.922 610.51,869.724 614.59,870.494 618.671,871.232 \n  622.751,871.937 626.832,872.609 630.912,873.247 634.992,873.85 639.073,874.419 643.153,874.951 647.234,875.448 651.314,875.907 655.395,876.329 659.475,876.713 \n  663.556,877.058 667.636,877.363 671.717,877.628 675.797,877.852 679.878,878.034 683.958,878.173 688.039,878.27 692.119,878.322 696.2,878.329 700.28,878.291 \n  704.361,878.206 708.441,878.074 712.522,877.894 716.602,877.664 720.683,877.384 724.763,877.054 728.844,876.672 732.924,876.236 737.005,875.747 741.085,875.204 \n  745.166,874.604 749.246,873.948 753.327,873.235 757.407,872.462 761.488,871.63 765.568,870.737 769.649,869.783 773.729,868.766 777.81,867.685 781.89,866.539 \n  785.971,865.328 790.051,864.049 794.132,862.704 798.212,861.289 802.293,859.805 806.373,858.25 810.454,856.624 814.534,854.925 818.614,853.153 822.695,851.306 \n  826.775,849.385 830.856,847.387 834.936,845.313 839.017,843.161 843.097,840.93 847.178,838.62 851.258,836.23 855.339,833.759 859.419,831.206 863.5,828.571 \n  867.58,825.852 871.661,823.049 875.741,820.161 879.822,817.188 883.902,814.127 887.983,810.979 892.063,807.743 896.144,804.417 900.224,801 904.305,797.492 \n  908.385,793.892 912.466,790.198 916.546,786.409 920.627,782.524 924.707,778.541 928.788,774.46 932.868,770.279 936.949,765.997 941.029,761.612 945.11,757.123 \n  949.19,752.529 953.271,747.827 957.351,743.017 961.432,738.098 965.512,733.067 969.593,727.924 973.673,722.668 977.754,717.296 981.834,711.809 985.915,706.205 \n  989.995,700.483 994.076,694.641 998.156,688.68 1002.24,682.598 1006.32,676.393 1010.4,670.066 1014.48,663.615 1018.56,657.038 1022.64,650.334 1026.72,643.502 \n  1030.8,636.539 1034.88,629.442 1038.96,622.21 1043.04,614.839 1047.12,607.325 1051.2,599.665 1055.28,591.854 1059.36,583.888 1063.44,575.761 1067.52,567.47 \n  1071.6,559.009 1075.69,550.374 1079.77,541.561 1083.85,532.565 1087.93,523.384 1092.01,514.015 1096.09,504.457 1100.17,494.707 1104.25,484.764 1108.33,474.627 \n  1112.41,464.292 1116.49,453.756 1120.57,443.013 1124.65,432.053 1128.73,420.863 1132.81,409.426 1136.89,397.72 1140.97,385.722 1145.05,373.403 1149.13,360.735 \n  1153.21,347.692 1157.3,334.252 1161.38,320.404 1165.46,306.148 1169.54,291.5 1173.62,283.645 1177.7,274.18 1181.78,263.06 1185.86,249.883 1189.94,234.304 \n  1194.02,216.115 1198.1,195.357 1202.18,172.479 1206.26,148.535 1210.34,125.417 1214.42,106.095 1218.5,94.8084 1222.58,97.1294 1226.66,119.737 1230.74,169.714 \n  1234.82,253.07 1238.9,372.214 1242.99,522.185 1247.07,686.079 1251.15,770.357 1255.23,770.357 1259.31,770.357 1263.39,770.253 1267.47,667.831 1271.55,762.566 \n  1275.63,778.03 1279.71,872.917 1283.79,770.721 1287.87,770.357 1291.95,770.357 1296.03,770.357 1300.11,854.605 1304.19,1018.82 1308.27,1168.9 1312.35,1287.89 \n  1316.43,1370.99 1320.51,1420.76 1324.6,1443.31 1328.68,1445.72 1332.76,1434.59 1336.84,1415.41 1340.92,1392.37 1345,1368.41 1349.08,1345.44 1353.16,1324.56 \n  1357.24,1306.24 1361.32,1290.57 1365.4,1277.35 1369.48,1266.25 1373.56,1256.86 1377.64,1249.18 1381.72,1234.6 1385.8,1220.39 1389.88,1206.58 1393.96,1193.15 \n  1398.04,1180.09 1402.12,1167.4 1406.2,1155.05 1410.29,1143.02 1414.37,1131.29 1418.45,1119.84 1422.53,1108.63 1426.61,1097.67 1430.69,1086.93 1434.77,1076.4 \n  1438.85,1066.08 1442.93,1055.95 1447.01,1046.02 1451.09,1036.27 1455.17,1026.72 1459.25,1017.35 1463.33,1008.17 1467.41,999.171 1471.49,990.356 1475.57,981.72 \n  1479.65,973.259 1483.73,964.97 1487.81,956.848 1491.9,948.887 1495.98,941.083 1500.06,933.431 1504.14,925.925 1508.22,918.561 1512.3,911.334 1516.38,904.241 \n  1520.46,897.278 1524.54,890.441 1528.62,883.73 1532.7,877.142 1536.78,870.675 1540.86,864.328 1544.94,858.101 1549.02,851.994 1553.1,846.005 1557.18,840.136 \n  1561.26,834.385 1565.34,828.754 1569.42,823.241 1573.5,817.846 1577.59,812.569 1581.67,807.41 1585.75,802.367 1589.83,797.44 1593.91,792.628 1597.99,787.929 \n  1602.07,783.343 1606.15,778.866 1610.23,774.499 1614.31,770.238 1618.39,766.083 1622.47,762.031 1626.55,758.08 1630.63,754.228 1634.71,750.474 1638.79,746.815 \n  1642.87,743.25 1646.95,739.777 1651.03,736.395 1655.11,733.101 1659.2,729.895 1663.28,726.774 1667.36,723.738 1671.44,720.786 1675.52,717.916 1679.6,715.127 \n  1683.68,712.419 1687.76,709.791 1691.84,707.242 1695.92,704.771 1700,702.378 1704.08,700.062 1708.16,697.823 1712.24,695.66 1716.32,693.572 1720.4,691.559 \n  1724.48,689.621 1728.56,687.756 1732.64,685.965 1736.72,684.247 1740.8,682.601 1744.89,681.027 1748.97,679.523 1753.05,678.09 1757.13,676.726 1761.21,675.431 \n  1765.29,674.204 1769.37,673.043 1773.45,671.949 1777.53,670.92 1781.61,669.954 1785.69,669.052 1789.77,668.212 1793.85,667.433 1797.93,666.714 1802.01,666.054 \n  1806.09,665.452 1810.17,664.907 1814.25,664.417 1818.33,663.981 1822.41,663.599 1826.5,663.269 1830.58,662.991 1834.66,662.762 1838.74,662.583 1842.82,662.452 \n  1846.9,662.368 1850.98,662.331 1855.06,662.339 1859.14,662.391 1863.22,662.486 1867.3,662.624 1871.38,662.804 1875.46,663.025 1879.54,663.287 1883.62,663.588 \n  1887.7,663.928 1891.78,664.306 1895.86,664.722 1899.94,665.175 1904.02,665.664 1908.11,666.189 1912.19,666.75 1916.27,667.346 1920.35,667.976 1924.43,668.639 \n  1928.51,669.337 1932.59,670.067 1936.67,670.83 1940.75,671.625 1944.83,672.452 1948.91,673.31 1952.99,674.199 1957.07,675.119 1961.15,676.069 1965.23,677.048 \n  1969.31,678.057 1973.39,679.094 1977.47,680.16 1981.55,681.254 1985.63,682.375 1989.71,687.251 1993.8,689.261 1997.88,691.271 2001.96,693.28 2006.04,695.287 \n  2010.12,697.291 2014.2,699.291 2018.28,701.285 2022.36,703.272 2026.44,705.252 2030.52,707.222 2034.6,709.184 2038.68,711.134 2042.76,713.073 2046.84,714.999 \n  2050.92,716.911 2055,718.81 2059.08,720.692 2063.16,722.559 2067.24,724.409 2071.32,726.241 2075.41,728.054 2079.49,729.848 2083.57,731.623 2087.65,733.376 \n  2091.73,735.109 2095.81,736.819 2099.89,738.507 2103.97,740.172 2108.05,741.813 2112.13,743.43 2116.21,745.022 2120.29,746.589 2124.37,748.13 2128.45,749.645 \n  2132.53,751.134 2136.61,752.596 2140.69,754.031 2144.77,755.439 2148.85,756.818 2152.93,758.17 2157.01,759.493 2161.1,760.788 2165.18,762.053 2169.26,763.29 \n  2173.34,764.498 2177.42,765.676 2181.5,766.825 2185.58,767.943 2189.66,769.033 2193.74,770.092 2197.82,771.121 2201.9,772.12 2205.98,773.089 2210.06,770.357 \n  2214.14,770.357 2218.22,770.357 2222.3,770.357 2226.38,770.357 2230.46,770.357 2234.54,770.357 2238.62,770.357 2242.71,770.357 2246.79,770.357 2250.87,770.357 \n  2254.95,770.357 2259.03,770.357 2263.11,770.357 2267.19,770.357 2271.27,770.357 2275.35,770.357 2279.43,770.357 2283.51,770.357 2287.59,770.357 2291.67,770.357 \n  \n  \"/>\n<path clip-path=\"url(#clip400)\" d=\"\nM1988.57 250.738 L2280.81 250.738 L2280.81 95.2176 L1988.57 95.2176  Z\n  \" fill=\"#ffffff\" fill-rule=\"evenodd\" fill-opacity=\"1\"/>\n<polyline clip-path=\"url(#clip400)\" style=\"stroke:#000000; stroke-linecap:round; stroke-linejoin:round; stroke-width:4; stroke-opacity:1; fill:none\" points=\"\n  1988.57,250.738 2280.81,250.738 2280.81,95.2176 1988.57,95.2176 1988.57,250.738 \n  \"/>\n<polyline clip-path=\"url(#clip400)\" style=\"stroke:#009af9; stroke-linecap:round; stroke-linejoin:round; stroke-width:4; stroke-opacity:1; fill:none\" points=\"\n  2012.55,147.058 2156.44,147.058 \n  \"/>\n<path clip-path=\"url(#clip400)\" d=\"M2194.26 166.745 Q2192.46 171.375 2190.74 172.787 Q2189.03 174.199 2186.16 174.199 L2182.76 174.199 L2182.76 170.634 L2185.26 170.634 Q2187.02 170.634 2187.99 169.8 Q2188.96 168.967 2190.14 165.865 L2190.9 163.921 L2180.42 138.412 L2184.93 138.412 L2193.03 158.689 L2201.14 138.412 L2205.65 138.412 L2194.26 166.745 Z\" fill=\"#000000\" fill-rule=\"evenodd\" fill-opacity=\"1\" /><path clip-path=\"url(#clip400)\" d=\"M2212.94 160.402 L2220.58 160.402 L2220.58 134.037 L2212.27 135.703 L2212.27 131.444 L2220.53 129.778 L2225.21 129.778 L2225.21 160.402 L2232.85 160.402 L2232.85 164.338 L2212.94 164.338 L2212.94 160.402 Z\" fill=\"#000000\" fill-rule=\"evenodd\" fill-opacity=\"1\" /><polyline clip-path=\"url(#clip400)\" style=\"stroke:#e26f46; stroke-linecap:round; stroke-linejoin:round; stroke-width:4; stroke-opacity:1; fill:none\" points=\"\n  2012.55,198.898 2156.44,198.898 \n  \"/>\n<path clip-path=\"url(#clip400)\" d=\"M2194.26 218.585 Q2192.46 223.215 2190.74 224.627 Q2189.03 226.039 2186.16 226.039 L2182.76 226.039 L2182.76 222.474 L2185.26 222.474 Q2187.02 222.474 2187.99 221.64 Q2188.96 220.807 2190.14 217.705 L2190.9 215.761 L2180.42 190.252 L2184.93 190.252 L2193.03 210.529 L2201.14 190.252 L2205.65 190.252 L2194.26 218.585 Z\" fill=\"#000000\" fill-rule=\"evenodd\" fill-opacity=\"1\" /><path clip-path=\"url(#clip400)\" d=\"M2216.16 212.242 L2232.48 212.242 L2232.48 216.178 L2210.53 216.178 L2210.53 212.242 Q2213.2 209.488 2217.78 204.858 Q2222.39 200.205 2223.57 198.863 Q2225.81 196.34 2226.69 194.604 Q2227.59 192.844 2227.59 191.155 Q2227.59 188.4 2225.65 186.664 Q2223.73 184.928 2220.63 184.928 Q2218.43 184.928 2215.97 185.692 Q2213.54 186.455 2210.77 188.006 L2210.77 183.284 Q2213.59 182.15 2216.04 181.571 Q2218.5 180.993 2220.53 180.993 Q2225.9 180.993 2229.1 183.678 Q2232.29 186.363 2232.29 190.854 Q2232.29 192.983 2231.48 194.905 Q2230.7 196.803 2228.59 199.395 Q2228.01 200.067 2224.91 203.284 Q2221.81 206.479 2216.16 212.242 Z\" fill=\"#000000\" fill-rule=\"evenodd\" fill-opacity=\"1\" /></svg>\n"
     },
     "execution_count": 56,
     "metadata": {},
     "output_type": "execute_result"
    }
   ],
   "source": [
    "plot(w_mesh, gi[:,1], linewidth=2.0)\n",
    "plot!(w_mesh, gi[:,4], linewidth=2.0)\n",
    "#plot(w_mesh, gi[:,1]-gi[:,4], linewidth=2.0)\n",
    "#plot!(w_mesh, gi[:,1]+gi[:,4], linewidth=2.0)"
   ]
  },
  {
   "cell_type": "code",
   "execution_count": 53,
   "metadata": {},
   "outputs": [
    {
     "data": {
      "text/plain": [
       "renorm_rho (generic function with 1 method)"
      ]
     },
     "execution_count": 53,
     "metadata": {},
     "output_type": "execute_result"
    }
   ],
   "source": [
    "f(beta::Float64, w::Float64) = 1.0/(1.0+exp(beta*w))\n",
    "function renorm_rho(beta::Float64, w::Vector{Float64}, rho::Vector{Float64})\n",
    "    n = 0.0\n",
    "    dw = w[2]-w[1]\n",
    "    for i in 1:length(w)\n",
    "        n += dw * rho[i] * f(beta, w[i])\n",
    "    end\n",
    "    #rho1 = (0.5/n) * rho\n",
    "    #return rho1\n",
    "    return n\n",
    "end"
   ]
  },
  {
   "cell_type": "code",
   "execution_count": 54,
   "metadata": {},
   "outputs": [
    {
     "data": {
      "text/plain": [
       "0.5099196562596192"
      ]
     },
     "execution_count": 54,
     "metadata": {},
     "output_type": "execute_result"
    }
   ],
   "source": [
    "nn = renorm_rho(irx.beta, w_mesh, gi[:,1])"
   ]
  },
  {
   "cell_type": "code",
   "execution_count": 55,
   "metadata": {},
   "outputs": [
    {
     "data": {
      "text/plain": [
       "500×4 Matrix{Float64}:\n",
       " 0.00490273  -0.000532058   4.39906e-5   0.0\n",
       " 0.00490273  -0.000424945   4.08718e-5   0.0\n",
       " 0.00490273  -0.000331557   3.69655e-5   0.0\n",
       " 0.00490273  -0.000250644   3.24299e-5   0.0\n",
       " 0.00490273  -0.000181031   2.74123e-5   0.0\n",
       " 0.00490273  -0.00012162    2.20489e-5   0.0\n",
       " 0.00490273  -7.13822e-5    1.64653e-5   0.0\n",
       " 0.00490273  -2.93565e-5    1.07767e-5   0.0\n",
       " 0.00490273   5.35056e-6    5.08781e-6   0.0\n",
       " 0.00490273   3.35692e-5   -5.06553e-7   0.0\n",
       " 0.00490273   5.60681e-5   -5.92131e-6   0.0\n",
       " 0.00490273   7.35572e-5   -1.10808e-5   0.0\n",
       " 0.00490273   8.66899e-5   -1.59187e-5   0.0\n",
       " ⋮                                       \n",
       " 0.00490273   4.24307e-5    2.74147e-5   0.0\n",
       " 0.00490273   5.06724e-5    1.35215e-5   0.0\n",
       " 0.00490273   6.00051e-5    6.60272e-10  0.0\n",
       " 0.00490273   7.05565e-5   -1.26788e-5   0.0\n",
       " 0.00490273   8.24618e-5   -2.39887e-5   0.0\n",
       " 0.00490273   9.58631e-5   -3.33393e-5   0.0\n",
       " 0.00490273   0.00011091   -4.00759e-5   0.0\n",
       " 0.00490273   0.000127758  -4.34759e-5   0.0\n",
       " 0.00490273   0.000146572  -4.27454e-5   0.0\n",
       " 0.00490273   0.000167522  -3.7017e-5    0.0\n",
       " 0.00490273   0.000190786  -2.53456e-5   0.0\n",
       " 0.00490273   0.000216547  -6.70622e-6   0.0"
      ]
     },
     "execution_count": 55,
     "metadata": {},
     "output_type": "execute_result"
    }
   ],
   "source": [
    "gi = (0.5/nn) * gi"
   ]
  },
  {
   "cell_type": "code",
   "execution_count": 1,
   "metadata": {},
   "outputs": [],
   "source": [
    "using Distributed"
   ]
  },
  {
   "cell_type": "code",
   "execution_count": 2,
   "metadata": {},
   "outputs": [
    {
     "data": {
      "text/plain": [
       "4-element Vector{Int64}:\n",
       " 2\n",
       " 3\n",
       " 4\n",
       " 5"
      ]
     },
     "execution_count": 2,
     "metadata": {},
     "output_type": "execute_result"
    }
   ],
   "source": [
    "addprocs(4)"
   ]
  },
  {
   "cell_type": "code",
   "execution_count": 11,
   "metadata": {},
   "outputs": [],
   "source": [
    "@everywhere using SharedArrays"
   ]
  },
  {
   "cell_type": "code",
   "execution_count": 19,
   "metadata": {},
   "outputs": [
    {
     "data": {
      "text/plain": [
       "8-element SharedVector{Float64}:\n",
       " 0.0\n",
       " 0.0\n",
       " 0.0\n",
       " 0.0\n",
       " 0.0\n",
       " 0.0\n",
       " 0.0\n",
       " 0.0"
      ]
     },
     "execution_count": 19,
     "metadata": {},
     "output_type": "execute_result"
    }
   ],
   "source": [
    "a = SharedArray{Float64}(8)"
   ]
  },
  {
   "cell_type": "code",
   "execution_count": 21,
   "metadata": {},
   "outputs": [
    {
     "data": {
      "text/plain": [
       "Task (runnable) @0x000000010f5270f0"
      ]
     },
     "execution_count": 21,
     "metadata": {},
     "output_type": "execute_result"
    }
   ],
   "source": [
    "@distributed for i in 1:8\n",
    "    a[i] = 5\n",
    "end"
   ]
  },
  {
   "cell_type": "code",
   "execution_count": 22,
   "metadata": {},
   "outputs": [
    {
     "data": {
      "text/plain": [
       "8-element SharedVector{Float64}:\n",
       " 5.0\n",
       " 5.0\n",
       " 5.0\n",
       " 5.0\n",
       " 5.0\n",
       " 5.0\n",
       " 5.0\n",
       " 5.0"
      ]
     },
     "execution_count": 22,
     "metadata": {},
     "output_type": "execute_result"
    }
   ],
   "source": [
    "a"
   ]
  },
  {
   "cell_type": "code",
   "execution_count": 28,
   "metadata": {},
   "outputs": [
    {
     "data": {
      "text/plain": [
       "100×2×2 SharedArray{Float64, 3}:\n",
       "[:, :, 1] =\n",
       " 0.0  0.0\n",
       " 0.0  0.0\n",
       " 0.0  0.0\n",
       " 0.0  0.0\n",
       " 0.0  0.0\n",
       " 0.0  0.0\n",
       " 0.0  0.0\n",
       " 0.0  0.0\n",
       " 0.0  0.0\n",
       " 0.0  0.0\n",
       " 0.0  0.0\n",
       " 0.0  0.0\n",
       " 0.0  0.0\n",
       " ⋮    \n",
       " 0.0  0.0\n",
       " 0.0  0.0\n",
       " 0.0  0.0\n",
       " 0.0  0.0\n",
       " 0.0  0.0\n",
       " 0.0  0.0\n",
       " 0.0  0.0\n",
       " 0.0  0.0\n",
       " 0.0  0.0\n",
       " 0.0  0.0\n",
       " 0.0  0.0\n",
       " 0.0  0.0\n",
       "\n",
       "[:, :, 2] =\n",
       " 0.0  0.0\n",
       " 0.0  0.0\n",
       " 0.0  0.0\n",
       " 0.0  0.0\n",
       " 0.0  0.0\n",
       " 0.0  0.0\n",
       " 0.0  0.0\n",
       " 0.0  0.0\n",
       " 0.0  0.0\n",
       " 0.0  0.0\n",
       " 0.0  0.0\n",
       " 0.0  0.0\n",
       " 0.0  0.0\n",
       " ⋮    \n",
       " 0.0  0.0\n",
       " 0.0  0.0\n",
       " 0.0  0.0\n",
       " 0.0  0.0\n",
       " 0.0  0.0\n",
       " 0.0  0.0\n",
       " 0.0  0.0\n",
       " 0.0  0.0\n",
       " 0.0  0.0\n",
       " 0.0  0.0\n",
       " 0.0  0.0\n",
       " 0.0  0.0"
      ]
     },
     "execution_count": 28,
     "metadata": {},
     "output_type": "execute_result"
    }
   ],
   "source": [
    "z = SharedArray{Float64, 3}(100, 2, 2)"
   ]
  },
  {
   "cell_type": "code",
   "execution_count": 29,
   "metadata": {},
   "outputs": [
    {
     "data": {
      "text/plain": [
       "2×2 Matrix{Float64}:\n",
       " 0.0  0.0\n",
       " 0.0  0.0"
      ]
     },
     "execution_count": 29,
     "metadata": {},
     "output_type": "execute_result"
    }
   ],
   "source": [
    "z[1,:,:]"
   ]
  },
  {
   "cell_type": "code",
   "execution_count": 30,
   "metadata": {},
   "outputs": [
    {
     "data": {
      "text/plain": [
       "2×2 Matrix{Float64}:\n",
       " 2.0  1.0\n",
       " 2.0  1.0"
      ]
     },
     "execution_count": 30,
     "metadata": {},
     "output_type": "execute_result"
    }
   ],
   "source": [
    "z[1,:,:] = [2.0 1.0; 2.0 1.0]"
   ]
  },
  {
   "cell_type": "code",
   "execution_count": null,
   "metadata": {},
   "outputs": [],
   "source": []
  }
 ],
 "metadata": {
  "kernelspec": {
   "display_name": "Julia 1.8.2",
   "language": "julia",
   "name": "julia-1.8"
  },
  "language_info": {
   "file_extension": ".jl",
   "mimetype": "application/julia",
   "name": "julia",
   "version": "1.8.2"
  },
  "orig_nbformat": 4,
  "vscode": {
   "interpreter": {
    "hash": "ba9adc20f5d2cbd026ba97e5cdba9f52f75b0bad1640aec7f9933b7bf8f6712d"
   }
  }
 },
 "nbformat": 4,
 "nbformat_minor": 2
}
