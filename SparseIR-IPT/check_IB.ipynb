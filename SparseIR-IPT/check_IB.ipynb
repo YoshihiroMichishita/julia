{
 "cells": [
  {
   "cell_type": "code",
   "execution_count": 31,
   "metadata": {},
   "outputs": [],
   "source": [
    "include(\"model_2D_IB.jl\")\n",
    "\n",
    "using SparseIR, Plots\n",
    "#using OMEinsum\n",
    "#using FastGaussQuadrature\n",
    "import SparseIR: valueim, value\n",
    "import SparseIR: fit"
   ]
  },
  {
   "cell_type": "code",
   "execution_count": 32,
   "metadata": {},
   "outputs": [
    {
     "data": {
      "text/plain": [
       "gk_m (generic function with 1 method)"
      ]
     },
     "execution_count": 32,
     "metadata": {},
     "output_type": "execute_result"
    }
   ],
   "source": [
    "struct IR_params\n",
    "    U::Float64\n",
    "    beta::Float64\n",
    "    bw::Float64\n",
    "    basis::FiniteTempBasis\n",
    "    #{Fermionic, LogisticKernel, Float64, Float64}\n",
    "    \n",
    "    smpl_matsu::MatsubaraSampling64F\n",
    "    smpl_tau::TauSampling64\n",
    "\n",
    "    n_matsu::Int\n",
    "    n_tau::Int\n",
    "\n",
    "    smpl_wn::Vector{ComplexF64}\n",
    "end\n",
    "\n",
    "function set_IR(U::Float64, beta::Float64, bw::Float64)\n",
    "    basis = FiniteTempBasis(Fermionic(), beta, bw, 1e-10)\n",
    "\n",
    "    smpl_matsu = MatsubaraSampling(basis)\n",
    "    n_matsu = size(smpl_matsu.sampling_points)[1]\n",
    "\n",
    "    smpl_tau = TauSampling(basis)\n",
    "    n_tau = size(smpl_tau.sampling_points)[1]\n",
    "\n",
    "    smpl_wn = zeros(ComplexF64, n_matsu)\n",
    "    for w in 1:n_matsu\n",
    "        smpl_wn[w] = valueim(smpl_matsu.sampling_points[w], beta)\n",
    "    end\n",
    "\n",
    "    return U, beta, bw, basis, smpl_matsu, smpl_tau, n_matsu, n_tau, smpl_wn\n",
    "end\n",
    "\n",
    "mutable struct Green_Sigma\n",
    "    g0_ir::Vector{Matrix{ComplexF64}}\n",
    "    g0_ir_vec::Matrix{Float64}\n",
    "    g0_tau::Vector{Matrix{ComplexF64}}\n",
    "    g0_matsu::Vector{Matrix{ComplexF64}}\n",
    "\n",
    "    g_ir::Vector{Matrix{ComplexF64}}\n",
    "    g_ir_vec::Matrix{Float64}\n",
    "    g_matsu::Vector{Matrix{ComplexF64}}\n",
    "\n",
    "    sigma_ir::Vector{Matrix{ComplexF64}}\n",
    "    sigma_tau::Vector{Matrix{ComplexF64}}\n",
    "    sigma_matsu::Vector{Matrix{ComplexF64}}\n",
    "\n",
    "    n_ir::Int\n",
    "end\n",
    "\n",
    "function init_zero_g(ir::IR_params)\n",
    "    \n",
    "    g0_ir::Vector{Matrix{ComplexF64}} = []\n",
    "    g0_ir_vec = zeros(Float64, 43, 4)\n",
    "    g0_tau::Vector{Matrix{ComplexF64}} = []\n",
    "    g0_matsu::Vector{Matrix{ComplexF64}} = []\n",
    "\n",
    "    g_ir::Vector{Matrix{ComplexF64}} = []\n",
    "    g_ir_vec = zeros(Float64, 43, 4)\n",
    "    g_matsu::Vector{Matrix{ComplexF64}} = []\n",
    "\n",
    "    sigma_ir::Vector{Matrix{ComplexF64}} = []\n",
    "    sigma_tau::Vector{Matrix{ComplexF64}} = []\n",
    "    sigma_matsu::Vector{Matrix{ComplexF64}} = []\n",
    "\n",
    "    n_ir::Int = 0\n",
    "\n",
    "    return g0_ir, g0_ir_vec, g0_tau, g0_matsu, g_ir, g_ir_vec, g_matsu, sigma_ir, sigma_tau, sigma_matsu, n_ir\n",
    "end\n",
    "\n",
    "\n",
    "function gk_m(p::Parm, k::Vector{Float64}, w::ComplexF64, g::Green_Sigma)\n",
    "    e = set_H(k,p)\n",
    "    gk = 1.0/(w - e - g.sig)\n",
    "    return gk\n",
    "end\n"
   ]
  },
  {
   "cell_type": "code",
   "execution_count": 33,
   "metadata": {},
   "outputs": [
    {
     "name": "stdout",
     "output_type": "stream",
     "text": [
      "Parm(0.5, 0.2, 0.3, -2.0, 0.05, 200, 2.5e-5)\n"
     ]
    }
   ],
   "source": [
    "px = Parm(set_parm([\"0.5\",\"0.2\",\"0.3\", \"-2.0\", \"0.05\", \"200\"])...)\n",
    "irx = IR_params(set_IR(4.0, 100.0, 4.0)...)\n",
    "gx = Green_Sigma(init_zero_g(irx)...)\n",
    "println(px)"
   ]
  },
  {
   "cell_type": "code",
   "execution_count": 34,
   "metadata": {},
   "outputs": [
    {
     "data": {
      "text/plain": [
       "get_G0mlocal! (generic function with 1 method)"
      ]
     },
     "execution_count": 34,
     "metadata": {},
     "output_type": "execute_result"
    }
   ],
   "source": [
    "\n",
    "function get_G0mlocal!(p::Parm, k_BZ::Vector{Vector{Float64}}, sw::Int,ir::IR_params, g::Green_Sigma)\n",
    "    if(sw == 1)\n",
    "        for wn in 1:ir.n_matsu\n",
    "            gw_l = zeros(ComplexF64, 2, 2)\n",
    "            gl = zeros(ComplexF64, 2, 2)\n",
    "            for i in 1:length(k_BZ)\n",
    "                e = set_H(k_BZ[i],p) - p.mu*Matrix{Complex{Float64}}(I,2,2)\n",
    "                #gk = 1.0/(w - e + p.eta*1.0im*sign(imag(w)))\n",
    "                gk = inv(ir.smpl_wn[wn]*Matrix{Complex{Float64}}(I,2,2) - e)\n",
    "                gw_l += p.dk2 * gk\n",
    "            end\n",
    "            push!(g.g0_matsu, gw_l)\n",
    "            push!(g.g_matsu, gl)\n",
    "        end\n",
    "    else\n",
    "        for wn in 1:ir.n_matsu\n",
    "            gw_l = zeros(ComplexF64, 2, 2)\n",
    "            gl = zeros(ComplexF64, 2, 2)\n",
    "            for i in 1:length(k_BZ)\n",
    "                e = set_H(k_BZ[i],p) - p.mu*Matrix{Complex{Float64}}(I,2,2)\n",
    "                #gk = 1.0/(w - e + p.eta*1.0im*sign(imag(w)))\n",
    "                gk = inv(ir.smpl_wn[wn]*Matrix{Complex{Float64}}(I,2,2) - e - g.sigma_matsu[wn])\n",
    "                gl += p.dk2 * gk\n",
    "            end\n",
    "            gw_l = inv(inv(gl) + g.sigma_matsu[wn])\n",
    "            g.g0_matsu[wn] = gw_l\n",
    "            g.g_matsu[wn] = gl\n",
    "        end\n",
    "    end\n",
    "    return nothing\n",
    "end"
   ]
  },
  {
   "cell_type": "code",
   "execution_count": 35,
   "metadata": {},
   "outputs": [
    {
     "data": {
      "text/plain": [
       "MatsuToTau! (generic function with 1 method)"
      ]
     },
     "execution_count": 35,
     "metadata": {},
     "output_type": "execute_result"
    }
   ],
   "source": [
    "function MatsuToTau!(ir::IR_params, g::Green_Sigma)\n",
    "    g.g0_ir = fit(ir.smpl_matsu, g.g0_matsu, dim=1)\n",
    "    g.g_ir = fit(ir.smpl_matsu, g.g_matsu, dim=1)\n",
    "    g.n_ir = size(g.g0_ir)[1]\n",
    "    g.g0_tau = evaluate(ir.smpl_tau, g.g0_ir, dim=1)\n",
    "end"
   ]
  },
  {
   "cell_type": "code",
   "execution_count": 36,
   "metadata": {},
   "outputs": [],
   "source": [
    "kk = get_kk(px.K_SIZE)\n",
    "get_G0mlocal!(px, kk, 1, irx, gx)\n",
    "    #MatsuToTau!(ir, g)"
   ]
  },
  {
   "cell_type": "code",
   "execution_count": 37,
   "metadata": {},
   "outputs": [
    {
     "name": "stdout",
     "output_type": "stream",
     "text": [
      "done!\n"
     ]
    }
   ],
   "source": [
    "MatsuToTau!(irx, gx)\n",
    "println(\"done!\")"
   ]
  },
  {
   "cell_type": "code",
   "execution_count": 9,
   "metadata": {},
   "outputs": [
    {
     "data": {
      "text/plain": [
       "43"
      ]
     },
     "execution_count": 9,
     "metadata": {},
     "output_type": "execute_result"
    }
   ],
   "source": [
    "gx.n_ir"
   ]
  },
  {
   "cell_type": "code",
   "execution_count": 38,
   "metadata": {},
   "outputs": [
    {
     "data": {
      "text/plain": [
       "calc_sigma! (generic function with 1 method)"
      ]
     },
     "execution_count": 38,
     "metadata": {},
     "output_type": "execute_result"
    }
   ],
   "source": [
    "function calc_sigma!(sw::Int, ir::IR_params, g::Green_Sigma)\n",
    "    for tau in 1:ir.n_tau\n",
    "        if(sw == 1)\n",
    "            test = zeros(ComplexF64, 2, 2)\n",
    "            for i in 1:2, j in 1:2 \n",
    "                test[i,j] = ir.U^2 * (g.g0_tau[tau])[i,j] * (g.g0_tau[tau])[3-i,3-j] * (g.g0_tau[end+1-tau])[3-i,3-j]\n",
    "                #test[i,j] = ir.U^2 * (g.g0_tau[tau])[i,j] * (g.g0_tau[tau])[i,j] * (g.g0_tau[end+1-tau])[i,j]\n",
    "            end\n",
    "            push!(g.sigma_tau, test)\n",
    "        else\n",
    "            for i in 1:2, j in 1:2 \n",
    "                (g.sigma_tau[tau])[i,j] = ir.U^2 * (g.g0_tau[tau])[i,j] * (g.g0_tau[tau])[3-i,3-j] * (g.g0_tau[end+1-tau])[3-i,3-j]\n",
    "                #(g.sigma_tau[tau])[i,j] = ir.U^2 * (g.g0_tau[tau])[i,j] * (g.g0_tau[tau])[i,j] * (g.g0_tau[end+1-tau])[i,j]\n",
    "            end\n",
    "        end\n",
    "    end\n",
    "    return nothing\n",
    "end"
   ]
  },
  {
   "cell_type": "code",
   "execution_count": 39,
   "metadata": {},
   "outputs": [],
   "source": [
    "calc_sigma!(1, irx, gx)"
   ]
  },
  {
   "cell_type": "code",
   "execution_count": 40,
   "metadata": {},
   "outputs": [
    {
     "data": {
      "text/plain": [
       "TauToMatsu! (generic function with 1 method)"
      ]
     },
     "execution_count": 40,
     "metadata": {},
     "output_type": "execute_result"
    }
   ],
   "source": [
    "function TauToMatsu!(sw::Int, ir::IR_params, g::Green_Sigma, γ::Float64)\n",
    "    ir_new = fit(ir.smpl_tau, g.sigma_tau)\n",
    "    diff0 =0.0\n",
    "    sum0 = 0.0\n",
    "    if(sw == 1)\n",
    "        for i in 1:g.n_ir\n",
    "            diff0 += sum(abs.(ir_new[i]))\n",
    "            push!(g.sigma_ir, zeros(ComplexF64, 2, 2))\n",
    "        end\n",
    "        sum0 = 1.0\n",
    "    else\n",
    "        for i in 1:g.n_ir\n",
    "            diff0 += sum(abs.(ir_new[i] .- g.sigma_ir[i]))\n",
    "            sum0 += sum(abs.(g.sigma_ir[i]))\n",
    "        end\n",
    "    end\n",
    "    diff = diff0/sum0\n",
    "    g.sigma_ir = (1.0-γ) .* g.sigma_ir .+ γ .* ir_new\n",
    "    g.sigma_matsu = evaluate(ir.smpl_matsu, g.sigma_ir, dim=1)\n",
    "\n",
    "    return diff\n",
    "end"
   ]
  },
  {
   "cell_type": "code",
   "execution_count": 41,
   "metadata": {},
   "outputs": [
    {
     "data": {
      "text/plain": [
       "6.367193908753284"
      ]
     },
     "execution_count": 41,
     "metadata": {},
     "output_type": "execute_result"
    }
   ],
   "source": [
    "diff = TauToMatsu!(1, irx, gx, 0.2)"
   ]
  },
  {
   "cell_type": "code",
   "execution_count": 42,
   "metadata": {},
   "outputs": [
    {
     "data": {
      "text/plain": [
       "update_g! (generic function with 1 method)"
      ]
     },
     "execution_count": 42,
     "metadata": {},
     "output_type": "execute_result"
    }
   ],
   "source": [
    "function update_g!(p::Parm, k_BZ::Vector{Vector{Float64}},sw::Int, ir::IR_params, g::Green_Sigma, γ::Float64)\n",
    "    get_G0mlocal!(p, k_BZ, sw, ir, g)\n",
    "    MatsuToTau!(ir, g)\n",
    "    calc_sigma!(sw, ir, g)\n",
    "    # .+ ir.U .* g.g0_tau\n",
    "    diff = TauToMatsu!(sw, ir, g, γ)\n",
    "    return diff\n",
    "end"
   ]
  },
  {
   "cell_type": "code",
   "execution_count": 43,
   "metadata": {},
   "outputs": [
    {
     "name": "stdout",
     "output_type": "stream",
     "text": [
      "81\n"
     ]
    }
   ],
   "source": [
    "for it in 2:1000\n",
    "    L1 = update_g!(px,kk,it,irx,gx, 0.2)\n",
    "    if(L1<1e-7)\n",
    "        println(it)\n",
    "        break\n",
    "    end\n",
    "end"
   ]
  },
  {
   "cell_type": "code",
   "execution_count": 44,
   "metadata": {},
   "outputs": [
    {
     "data": {
      "text/plain": [
       "MtoV! (generic function with 1 method)"
      ]
     },
     "execution_count": 44,
     "metadata": {},
     "output_type": "execute_result"
    }
   ],
   "source": [
    "function MtoV!(g::Green_Sigma)\n",
    "    g.g0_ir_vec = zeros(Float64, g.n_ir, 4)\n",
    "    g.g_ir_vec = zeros(Float64, g.n_ir, 4)\n",
    "    for it in 1:g.n_ir\n",
    "        for mm in 1:4\n",
    "            g.g0_ir_vec[it,mm] = real(tr(sigma[mm]*g.g0_ir[it]))/2\n",
    "            g.g_ir_vec[it,mm] = real(tr(sigma[mm]*g.g_ir[it]))/2\n",
    "        end\n",
    "    end\n",
    "end"
   ]
  },
  {
   "cell_type": "code",
   "execution_count": 17,
   "metadata": {},
   "outputs": [],
   "source": [
    "MtoV!(gx)"
   ]
  },
  {
   "cell_type": "code",
   "execution_count": 25,
   "metadata": {},
   "outputs": [
    {
     "data": {
      "text/plain": [
       "4-element Vector{Float64}:\n",
       " -1.9061641154394238e-11\n",
       " -4.627479060432188e-17\n",
       " -2.5774440282693543e-19\n",
       "  0.6776410033852819"
      ]
     },
     "execution_count": 25,
     "metadata": {},
     "output_type": "execute_result"
    }
   ],
   "source": [
    "gx.g0_ir_vec[2,:]"
   ]
  },
  {
   "cell_type": "code",
   "execution_count": 45,
   "metadata": {},
   "outputs": [
    {
     "data": {
      "text/plain": [
       "F_rho (generic function with 1 method)"
      ]
     },
     "execution_count": 45,
     "metadata": {},
     "output_type": "execute_result"
    }
   ],
   "source": [
    "function F_rho(ir::IR_params, g::Green_Sigma, rho_ls, λ)\n",
    "    vec = g.g_ir_vec - (ir.basis.s .* rho_ls)\n",
    "    \n",
    "    return f = 0.5*sum((vec.^2)) + λ*sum(abs.(rho_ls))\n",
    "end"
   ]
  },
  {
   "cell_type": "code",
   "execution_count": 28,
   "metadata": {},
   "outputs": [
    {
     "data": {
      "text/plain": [
       "43×4 Matrix{Float64}:\n",
       " 0.436605   0.954257    0.929473    0.913241\n",
       " 0.788514   0.696895    0.472924    0.526256\n",
       " 0.326809   0.517553    0.862117    0.605736\n",
       " 0.211879   0.241286    0.284008    0.924883\n",
       " 0.501329   0.260363    0.0631385   0.525095\n",
       " 0.83362    0.424121    0.198255    0.690617\n",
       " 0.249052   0.00771204  0.644888    0.0794197\n",
       " 0.789887   0.421632    0.48051     0.817133\n",
       " 0.936573   0.270528    0.300669    0.340716\n",
       " 0.250777   0.764035    0.517853    0.161304\n",
       " 0.889651   0.588655    0.0375627   0.779875\n",
       " 0.194588   0.35615     0.722702    0.499188\n",
       " 0.353793   0.134418    0.312163    0.533961\n",
       " ⋮                                  \n",
       " 0.231523   0.795159    0.00526082  0.0547728\n",
       " 0.323236   0.573755    0.0241567   0.553438\n",
       " 0.914351   0.105774    0.311697    0.533854\n",
       " 0.78493    0.267466    0.569519    0.396438\n",
       " 0.615437   0.586836    0.872939    0.795205\n",
       " 0.269602   0.640701    0.899007    0.616103\n",
       " 0.817364   0.933638    0.663632    0.913765\n",
       " 0.0060969  0.276458    0.496283    0.166658\n",
       " 0.244047   0.804872    0.401567    0.413357\n",
       " 0.336381   0.885197    0.510521    0.92927\n",
       " 0.227826   0.0603332   0.876318    0.176715\n",
       " 0.355221   0.958366    0.343328    0.717294"
      ]
     },
     "execution_count": 28,
     "metadata": {},
     "output_type": "execute_result"
    }
   ],
   "source": [
    "testm = rand(Float64, gx.n_ir, 4)"
   ]
  },
  {
   "cell_type": "code",
   "execution_count": 31,
   "metadata": {},
   "outputs": [
    {
     "data": {
      "text/plain": [
       "6.712794875798384"
      ]
     },
     "execution_count": 31,
     "metadata": {},
     "output_type": "execute_result"
    }
   ],
   "source": [
    "fff = F_rho(irx, gx, testm, 0.0001)"
   ]
  },
  {
   "cell_type": "code",
   "execution_count": 46,
   "metadata": {},
   "outputs": [],
   "source": [
    "using Flux"
   ]
  },
  {
   "cell_type": "code",
   "execution_count": 47,
   "metadata": {},
   "outputs": [
    {
     "data": {
      "text/plain": [
       "fit_rhow (generic function with 1 method)"
      ]
     },
     "execution_count": 47,
     "metadata": {},
     "output_type": "execute_result"
    }
   ],
   "source": [
    "function fit_rhow(ir::IR_params, g::Green_Sigma, l_num::Int, batch_num::Int, w_mesh::Vector{Float64})\n",
    "    sn = range(-12.0, 0.0, length=l_num)\n",
    "    lam_test = 10 .^ (sn)\n",
    "    opt = ADAM()\n",
    "    s_rho_l::Vector{Matrix{Float64}} = []\n",
    "    #rand(Float64, l_num, g.n_ir)\n",
    "    s_F_rho = 1000.0 * ones(Float64, l_num)\n",
    "    for ll in 1:l_num\n",
    "        lam = lam_test[ll]\n",
    "        count::Int = 0\n",
    "        for b in 1:batch_num\n",
    "            rho_ll = rand(Float64, g.n_ir, 4)\n",
    "            \n",
    "            #rho_ll = rand(Float64, g.n_ir)\n",
    "            F_old = 1000.0\n",
    "            F_new = 1000.0\n",
    "            for i in 1:20000\n",
    "                grads = Flux.gradient(Flux.params(rho_ll)) do\n",
    "                    F_rho(ir, g, rho_ll, lam)\n",
    "                end\n",
    "                Flux.Optimise.update!(opt, Flux.params(rho_ll), grads)\n",
    "                F_old = F_new\n",
    "                F_new = F_rho(ir, g, rho_ll, lam)\n",
    "                if(abs(F_old-F_new)/abs(F_old)<1e-6)\n",
    "                    break\n",
    "                end\n",
    "                if(i==8000)\n",
    "                    count += 1\n",
    "                end\n",
    "            end\n",
    "            if(s_F_rho[ll] > F_new)\n",
    "                if(b==1)\n",
    "                    push!(s_rho_l, rho_ll)\n",
    "                else\n",
    "                    s_rho_l[ll] = rho_ll\n",
    "                end\n",
    "                s_F_rho[ll] = F_new\n",
    "            end \n",
    "        end\n",
    "        println(count)\n",
    "    end\n",
    "    b = (log(s_F_rho[end])-log(s_F_rho[1]))/(log(lam_test[end])-log(lam_test[1]))\n",
    "    a = s_F_rho[1]*lam_test[1]^(-b)\n",
    "    ev = a .* lam_test .^ b ./ s_F_rho\n",
    "\n",
    "    p1 = plot(lam_test, ev, xaxis=:log, yaxis=:log, marker=:circle)\n",
    "    #savefig(p1,\"./lambda_opt_G.png\")\n",
    "\n",
    "    it = findmax(ev)[2]+1\n",
    "    max1 = s_F_rho[it]\n",
    "    println(\"it:$it,  s_F:$max1\")\n",
    "    rho_omega = -(transpose(ir.basis.v(w_mesh)) * s_rho_l[it])\n",
    "    return rho_omega\n",
    "end"
   ]
  },
  {
   "cell_type": "code",
   "execution_count": 48,
   "metadata": {},
   "outputs": [
    {
     "name": "stdout",
     "output_type": "stream",
     "text": [
      "I'm ready!\n"
     ]
    }
   ],
   "source": [
    "lamda_num = 20\n",
    "batch_num = 100\n",
    "w_num = 500\n",
    "w_mesh = collect(-irx.bw:2irx.bw/(w_num-1):irx.bw)\n",
    "println(\"I'm ready!\")"
   ]
  },
  {
   "cell_type": "code",
   "execution_count": 49,
   "metadata": {},
   "outputs": [
    {
     "name": "stdout",
     "output_type": "stream",
     "text": [
      "74\n",
      "60\n",
      "57\n",
      "52\n",
      "62\n",
      "90\n",
      "90\n",
      "95\n",
      "95\n",
      "95\n",
      "93\n",
      "95\n",
      "91\n",
      "95\n",
      "89\n",
      "89\n",
      "86\n",
      "88\n",
      "92\n",
      "82\n",
      "it:7,  s_F:3.007617893808618e-11\n"
     ]
    },
    {
     "data": {
      "text/plain": [
       "500×4 Matrix{Float64}:\n",
       "  0.000260828  -2.05406e-5   -0.00041562   -5.29564e-5\n",
       "  0.00015134    3.2879e-5    -0.000298506  -0.000104418\n",
       "  6.00262e-5    7.57208e-5   -0.000200816  -0.000142014\n",
       " -1.49443e-5    0.000109077  -0.000120557  -0.000167562\n",
       " -7.52867e-5    0.000133975  -5.58595e-5   -0.000182741\n",
       " -0.000122603   0.000151374  -4.97149e-6   -0.000189095\n",
       " -0.000158384   0.000162172   3.37439e-5   -0.000188039\n",
       " -0.000184019   0.000167206   6.18119e-5   -0.000180865\n",
       " -0.000200792   0.000167254   8.06498e-5   -0.000168749\n",
       " -0.000209894   0.000163038   9.15706e-5   -0.000152752\n",
       " -0.000212419   0.000155224   9.57863e-5   -0.000133832\n",
       " -0.000209375   0.000144424   9.44118e-5   -0.000112845\n",
       " -0.000201683   0.000131203   8.84683e-5   -9.05494e-5\n",
       "  ⋮                                        \n",
       "  5.81661e-5   -7.97922e-5   -5.80123e-5   -2.86906e-5\n",
       "  6.99985e-5   -8.29221e-5   -5.666e-5     -4.06962e-5\n",
       "  7.89773e-5   -8.59522e-5   -5.34183e-5   -5.40294e-5\n",
       "  8.43518e-5   -8.88571e-5   -4.80054e-5   -6.87694e-5\n",
       "  8.53027e-5   -9.16051e-5   -4.01165e-5   -8.49939e-5\n",
       "  8.09392e-5   -9.41575e-5   -2.9424e-5    -0.000102779\n",
       "  7.02969e-5   -9.6468e-5    -1.55753e-5   -0.000122196\n",
       "  5.23348e-5   -9.84818e-5    1.80731e-6   -0.000143317\n",
       "  2.59334e-5   -0.000100135   2.31278e-5   -0.000166206\n",
       " -1.01081e-5   -0.000101354   4.88176e-5   -0.000190924\n",
       " -5.70743e-5   -0.000102053   7.93363e-5   -0.000217527\n",
       " -0.000116336  -0.000102138   0.000115173  -0.000246065"
      ]
     },
     "execution_count": 49,
     "metadata": {},
     "output_type": "execute_result"
    }
   ],
   "source": [
    "gi = fit_rhow(irx, gx, lamda_num, batch_num, w_mesh)"
   ]
  },
  {
   "cell_type": "code",
   "execution_count": 50,
   "metadata": {},
   "outputs": [
    {
     "data": {
      "image/svg+xml": "<?xml version=\"1.0\" encoding=\"utf-8\"?>\n<svg xmlns=\"http://www.w3.org/2000/svg\" xmlns:xlink=\"http://www.w3.org/1999/xlink\" width=\"600\" height=\"400\" viewBox=\"0 0 2400 1600\">\n<defs>\n  <clipPath id=\"clip460\">\n    <rect x=\"0\" y=\"0\" width=\"2400\" height=\"1600\"/>\n  </clipPath>\n</defs>\n<path clip-path=\"url(#clip460)\" d=\"\nM0 1600 L2400 1600 L2400 0 L0 0  Z\n  \" fill=\"#ffffff\" fill-rule=\"evenodd\" fill-opacity=\"1\"/>\n<defs>\n  <clipPath id=\"clip461\">\n    <rect x=\"480\" y=\"0\" width=\"1681\" height=\"1600\"/>\n  </clipPath>\n</defs>\n<path clip-path=\"url(#clip460)\" d=\"\nM284.584 1486.45 L2352.76 1486.45 L2352.76 47.2441 L284.584 47.2441  Z\n  \" fill=\"#ffffff\" fill-rule=\"evenodd\" fill-opacity=\"1\"/>\n<defs>\n  <clipPath id=\"clip462\">\n    <rect x=\"284\" y=\"47\" width=\"2069\" height=\"1440\"/>\n  </clipPath>\n</defs>\n<polyline clip-path=\"url(#clip462)\" style=\"stroke:#000000; stroke-linecap:round; stroke-linejoin:round; stroke-width:2; stroke-opacity:0.1; fill:none\" points=\"\n  343.117,1486.45 343.117,47.2441 \n  \"/>\n<polyline clip-path=\"url(#clip462)\" style=\"stroke:#000000; stroke-linecap:round; stroke-linejoin:round; stroke-width:2; stroke-opacity:0.1; fill:none\" points=\"\n  830.893,1486.45 830.893,47.2441 \n  \"/>\n<polyline clip-path=\"url(#clip462)\" style=\"stroke:#000000; stroke-linecap:round; stroke-linejoin:round; stroke-width:2; stroke-opacity:0.1; fill:none\" points=\"\n  1318.67,1486.45 1318.67,47.2441 \n  \"/>\n<polyline clip-path=\"url(#clip462)\" style=\"stroke:#000000; stroke-linecap:round; stroke-linejoin:round; stroke-width:2; stroke-opacity:0.1; fill:none\" points=\"\n  1806.45,1486.45 1806.45,47.2441 \n  \"/>\n<polyline clip-path=\"url(#clip462)\" style=\"stroke:#000000; stroke-linecap:round; stroke-linejoin:round; stroke-width:2; stroke-opacity:0.1; fill:none\" points=\"\n  2294.22,1486.45 2294.22,47.2441 \n  \"/>\n<polyline clip-path=\"url(#clip460)\" style=\"stroke:#000000; stroke-linecap:round; stroke-linejoin:round; stroke-width:4; stroke-opacity:1; fill:none\" points=\"\n  284.584,1486.45 2352.76,1486.45 \n  \"/>\n<polyline clip-path=\"url(#clip460)\" style=\"stroke:#000000; stroke-linecap:round; stroke-linejoin:round; stroke-width:4; stroke-opacity:1; fill:none\" points=\"\n  343.117,1486.45 343.117,1467.55 \n  \"/>\n<polyline clip-path=\"url(#clip460)\" style=\"stroke:#000000; stroke-linecap:round; stroke-linejoin:round; stroke-width:4; stroke-opacity:1; fill:none\" points=\"\n  830.893,1486.45 830.893,1467.55 \n  \"/>\n<polyline clip-path=\"url(#clip460)\" style=\"stroke:#000000; stroke-linecap:round; stroke-linejoin:round; stroke-width:4; stroke-opacity:1; fill:none\" points=\"\n  1318.67,1486.45 1318.67,1467.55 \n  \"/>\n<polyline clip-path=\"url(#clip460)\" style=\"stroke:#000000; stroke-linecap:round; stroke-linejoin:round; stroke-width:4; stroke-opacity:1; fill:none\" points=\"\n  1806.45,1486.45 1806.45,1467.55 \n  \"/>\n<polyline clip-path=\"url(#clip460)\" style=\"stroke:#000000; stroke-linecap:round; stroke-linejoin:round; stroke-width:4; stroke-opacity:1; fill:none\" points=\"\n  2294.22,1486.45 2294.22,1467.55 \n  \"/>\n<path clip-path=\"url(#clip460)\" d=\"M312.017 1532.02 L341.693 1532.02 L341.693 1535.95 L312.017 1535.95 L312.017 1532.02 Z\" fill=\"#000000\" fill-rule=\"evenodd\" fill-opacity=\"1\" /><path clip-path=\"url(#clip460)\" d=\"M364.633 1518.36 L352.827 1536.81 L364.633 1536.81 L364.633 1518.36 M363.406 1514.29 L369.286 1514.29 L369.286 1536.81 L374.216 1536.81 L374.216 1540.7 L369.286 1540.7 L369.286 1548.85 L364.633 1548.85 L364.633 1540.7 L349.031 1540.7 L349.031 1536.19 L363.406 1514.29 Z\" fill=\"#000000\" fill-rule=\"evenodd\" fill-opacity=\"1\" /><path clip-path=\"url(#clip460)\" d=\"M800.836 1532.02 L830.511 1532.02 L830.511 1535.95 L800.836 1535.95 L800.836 1532.02 Z\" fill=\"#000000\" fill-rule=\"evenodd\" fill-opacity=\"1\" /><path clip-path=\"url(#clip460)\" d=\"M844.632 1544.91 L860.951 1544.91 L860.951 1548.85 L839.007 1548.85 L839.007 1544.91 Q841.669 1542.16 846.252 1537.53 Q850.858 1532.88 852.039 1531.53 Q854.284 1529.01 855.164 1527.27 Q856.067 1525.51 856.067 1523.82 Q856.067 1521.07 854.122 1519.33 Q852.201 1517.6 849.099 1517.6 Q846.9 1517.6 844.446 1518.36 Q842.016 1519.13 839.238 1520.68 L839.238 1515.95 Q842.062 1514.82 844.516 1514.24 Q846.97 1513.66 849.007 1513.66 Q854.377 1513.66 857.571 1516.35 Q860.766 1519.03 860.766 1523.52 Q860.766 1525.65 859.956 1527.57 Q859.169 1529.47 857.062 1532.07 Q856.483 1532.74 853.382 1535.95 Q850.28 1539.15 844.632 1544.91 Z\" fill=\"#000000\" fill-rule=\"evenodd\" fill-opacity=\"1\" /><path clip-path=\"url(#clip460)\" d=\"M1318.67 1517.37 Q1315.06 1517.37 1313.23 1520.93 Q1311.42 1524.47 1311.42 1531.6 Q1311.42 1538.71 1313.23 1542.27 Q1315.06 1545.82 1318.67 1545.82 Q1322.3 1545.82 1324.11 1542.27 Q1325.94 1538.71 1325.94 1531.6 Q1325.94 1524.47 1324.11 1520.93 Q1322.3 1517.37 1318.67 1517.37 M1318.67 1513.66 Q1324.48 1513.66 1327.54 1518.27 Q1330.61 1522.85 1330.61 1531.6 Q1330.61 1540.33 1327.54 1544.94 Q1324.48 1549.52 1318.67 1549.52 Q1312.86 1549.52 1309.78 1544.94 Q1306.73 1540.33 1306.73 1531.6 Q1306.73 1522.85 1309.78 1518.27 Q1312.86 1513.66 1318.67 1513.66 Z\" fill=\"#000000\" fill-rule=\"evenodd\" fill-opacity=\"1\" /><path clip-path=\"url(#clip460)\" d=\"M1801.1 1544.91 L1817.42 1544.91 L1817.42 1548.85 L1795.47 1548.85 L1795.47 1544.91 Q1798.14 1542.16 1802.72 1537.53 Q1807.33 1532.88 1808.51 1531.53 Q1810.75 1529.01 1811.63 1527.27 Q1812.53 1525.51 1812.53 1523.82 Q1812.53 1521.07 1810.59 1519.33 Q1808.67 1517.6 1805.57 1517.6 Q1803.37 1517.6 1800.91 1518.36 Q1798.48 1519.13 1795.71 1520.68 L1795.71 1515.95 Q1798.53 1514.82 1800.98 1514.24 Q1803.44 1513.66 1805.47 1513.66 Q1810.84 1513.66 1814.04 1516.35 Q1817.23 1519.03 1817.23 1523.52 Q1817.23 1525.65 1816.42 1527.57 Q1815.64 1529.47 1813.53 1532.07 Q1812.95 1532.74 1809.85 1535.95 Q1806.75 1539.15 1801.1 1544.91 Z\" fill=\"#000000\" fill-rule=\"evenodd\" fill-opacity=\"1\" /><path clip-path=\"url(#clip460)\" d=\"M2297.23 1518.36 L2285.43 1536.81 L2297.23 1536.81 L2297.23 1518.36 M2296.01 1514.29 L2301.88 1514.29 L2301.88 1536.81 L2306.82 1536.81 L2306.82 1540.7 L2301.88 1540.7 L2301.88 1548.85 L2297.23 1548.85 L2297.23 1540.7 L2281.63 1540.7 L2281.63 1536.19 L2296.01 1514.29 Z\" fill=\"#000000\" fill-rule=\"evenodd\" fill-opacity=\"1\" /><polyline clip-path=\"url(#clip462)\" style=\"stroke:#000000; stroke-linecap:round; stroke-linejoin:round; stroke-width:2; stroke-opacity:0.1; fill:none\" points=\"\n  284.584,1292.53 2352.76,1292.53 \n  \"/>\n<polyline clip-path=\"url(#clip462)\" style=\"stroke:#000000; stroke-linecap:round; stroke-linejoin:round; stroke-width:2; stroke-opacity:0.1; fill:none\" points=\"\n  284.584,1037.48 2352.76,1037.48 \n  \"/>\n<polyline clip-path=\"url(#clip462)\" style=\"stroke:#000000; stroke-linecap:round; stroke-linejoin:round; stroke-width:2; stroke-opacity:0.1; fill:none\" points=\"\n  284.584,782.431 2352.76,782.431 \n  \"/>\n<polyline clip-path=\"url(#clip462)\" style=\"stroke:#000000; stroke-linecap:round; stroke-linejoin:round; stroke-width:2; stroke-opacity:0.1; fill:none\" points=\"\n  284.584,527.383 2352.76,527.383 \n  \"/>\n<polyline clip-path=\"url(#clip462)\" style=\"stroke:#000000; stroke-linecap:round; stroke-linejoin:round; stroke-width:2; stroke-opacity:0.1; fill:none\" points=\"\n  284.584,272.335 2352.76,272.335 \n  \"/>\n<polyline clip-path=\"url(#clip460)\" style=\"stroke:#000000; stroke-linecap:round; stroke-linejoin:round; stroke-width:4; stroke-opacity:1; fill:none\" points=\"\n  284.584,1486.45 284.584,47.2441 \n  \"/>\n<polyline clip-path=\"url(#clip460)\" style=\"stroke:#000000; stroke-linecap:round; stroke-linejoin:round; stroke-width:4; stroke-opacity:1; fill:none\" points=\"\n  284.584,1292.53 303.481,1292.53 \n  \"/>\n<polyline clip-path=\"url(#clip460)\" style=\"stroke:#000000; stroke-linecap:round; stroke-linejoin:round; stroke-width:4; stroke-opacity:1; fill:none\" points=\"\n  284.584,1037.48 303.481,1037.48 \n  \"/>\n<polyline clip-path=\"url(#clip460)\" style=\"stroke:#000000; stroke-linecap:round; stroke-linejoin:round; stroke-width:4; stroke-opacity:1; fill:none\" points=\"\n  284.584,782.431 303.481,782.431 \n  \"/>\n<polyline clip-path=\"url(#clip460)\" style=\"stroke:#000000; stroke-linecap:round; stroke-linejoin:round; stroke-width:4; stroke-opacity:1; fill:none\" points=\"\n  284.584,527.383 303.481,527.383 \n  \"/>\n<polyline clip-path=\"url(#clip460)\" style=\"stroke:#000000; stroke-linecap:round; stroke-linejoin:round; stroke-width:4; stroke-opacity:1; fill:none\" points=\"\n  284.584,272.335 303.481,272.335 \n  \"/>\n<path clip-path=\"url(#clip460)\" d=\"M50.9921 1292.98 L80.6679 1292.98 L80.6679 1296.91 L50.9921 1296.91 L50.9921 1292.98 Z\" fill=\"#000000\" fill-rule=\"evenodd\" fill-opacity=\"1\" /><path clip-path=\"url(#clip460)\" d=\"M100.76 1278.33 Q97.1493 1278.33 95.3206 1281.89 Q93.515 1285.43 93.515 1292.56 Q93.515 1299.67 95.3206 1303.23 Q97.1493 1306.77 100.76 1306.77 Q104.395 1306.77 106.2 1303.23 Q108.029 1299.67 108.029 1292.56 Q108.029 1285.43 106.2 1281.89 Q104.395 1278.33 100.76 1278.33 M100.76 1274.62 Q106.571 1274.62 109.626 1279.23 Q112.705 1283.81 112.705 1292.56 Q112.705 1301.29 109.626 1305.89 Q106.571 1310.48 100.76 1310.48 Q94.9502 1310.48 91.8715 1305.89 Q88.816 1301.29 88.816 1292.56 Q88.816 1283.81 91.8715 1279.23 Q94.9502 1274.62 100.76 1274.62 Z\" fill=\"#000000\" fill-rule=\"evenodd\" fill-opacity=\"1\" /><path clip-path=\"url(#clip460)\" d=\"M120.922 1303.93 L125.807 1303.93 L125.807 1309.81 L120.922 1309.81 L120.922 1303.93 Z\" fill=\"#000000\" fill-rule=\"evenodd\" fill-opacity=\"1\" /><path clip-path=\"url(#clip460)\" d=\"M145.992 1278.33 Q142.381 1278.33 140.552 1281.89 Q138.746 1285.43 138.746 1292.56 Q138.746 1299.67 140.552 1303.23 Q142.381 1306.77 145.992 1306.77 Q149.626 1306.77 151.431 1303.23 Q153.26 1299.67 153.26 1292.56 Q153.26 1285.43 151.431 1281.89 Q149.626 1278.33 145.992 1278.33 M145.992 1274.62 Q151.802 1274.62 154.857 1279.23 Q157.936 1283.81 157.936 1292.56 Q157.936 1301.29 154.857 1305.89 Q151.802 1310.48 145.992 1310.48 Q140.181 1310.48 137.103 1305.89 Q134.047 1301.29 134.047 1292.56 Q134.047 1283.81 137.103 1279.23 Q140.181 1274.62 145.992 1274.62 Z\" fill=\"#000000\" fill-rule=\"evenodd\" fill-opacity=\"1\" /><path clip-path=\"url(#clip460)\" d=\"M176.153 1278.33 Q172.542 1278.33 170.714 1281.89 Q168.908 1285.43 168.908 1292.56 Q168.908 1299.67 170.714 1303.23 Q172.542 1306.77 176.153 1306.77 Q179.788 1306.77 181.593 1303.23 Q183.422 1299.67 183.422 1292.56 Q183.422 1285.43 181.593 1281.89 Q179.788 1278.33 176.153 1278.33 M176.153 1274.62 Q181.964 1274.62 185.019 1279.23 Q188.098 1283.81 188.098 1292.56 Q188.098 1301.29 185.019 1305.89 Q181.964 1310.48 176.153 1310.48 Q170.343 1310.48 167.265 1305.89 Q164.209 1301.29 164.209 1292.56 Q164.209 1283.81 167.265 1279.23 Q170.343 1274.62 176.153 1274.62 Z\" fill=\"#000000\" fill-rule=\"evenodd\" fill-opacity=\"1\" /><path clip-path=\"url(#clip460)\" d=\"M206.315 1278.33 Q202.704 1278.33 200.876 1281.89 Q199.07 1285.43 199.07 1292.56 Q199.07 1299.67 200.876 1303.23 Q202.704 1306.77 206.315 1306.77 Q209.95 1306.77 211.755 1303.23 Q213.584 1299.67 213.584 1292.56 Q213.584 1285.43 211.755 1281.89 Q209.95 1278.33 206.315 1278.33 M206.315 1274.62 Q212.126 1274.62 215.181 1279.23 Q218.26 1283.81 218.26 1292.56 Q218.26 1301.29 215.181 1305.89 Q212.126 1310.48 206.315 1310.48 Q200.505 1310.48 197.427 1305.89 Q194.371 1301.29 194.371 1292.56 Q194.371 1283.81 197.427 1279.23 Q200.505 1274.62 206.315 1274.62 Z\" fill=\"#000000\" fill-rule=\"evenodd\" fill-opacity=\"1\" /><path clip-path=\"url(#clip460)\" d=\"M237.056 1290.66 Q233.908 1290.66 232.056 1292.82 Q230.227 1294.97 230.227 1298.72 Q230.227 1302.45 232.056 1304.62 Q233.908 1306.77 237.056 1306.77 Q240.204 1306.77 242.033 1304.62 Q243.885 1302.45 243.885 1298.72 Q243.885 1294.97 242.033 1292.82 Q240.204 1290.66 237.056 1290.66 M246.338 1276.01 L246.338 1280.27 Q244.579 1279.44 242.774 1279 Q240.991 1278.56 239.232 1278.56 Q234.602 1278.56 232.149 1281.68 Q229.718 1284.81 229.371 1291.13 Q230.737 1289.11 232.797 1288.05 Q234.857 1286.96 237.334 1286.96 Q242.542 1286.96 245.551 1290.13 Q248.584 1293.28 248.584 1298.72 Q248.584 1304.04 245.436 1307.26 Q242.287 1310.48 237.056 1310.48 Q231.061 1310.48 227.889 1305.89 Q224.718 1301.29 224.718 1292.56 Q224.718 1284.37 228.607 1279.51 Q232.496 1274.62 239.047 1274.62 Q240.806 1274.62 242.588 1274.97 Q244.394 1275.32 246.338 1276.01 Z\" fill=\"#000000\" fill-rule=\"evenodd\" fill-opacity=\"1\" /><path clip-path=\"url(#clip460)\" d=\"M51.8023 1037.93 L81.4781 1037.93 L81.4781 1041.87 L51.8023 1041.87 L51.8023 1037.93 Z\" fill=\"#000000\" fill-rule=\"evenodd\" fill-opacity=\"1\" /><path clip-path=\"url(#clip460)\" d=\"M101.571 1023.28 Q97.9595 1023.28 96.1308 1026.84 Q94.3252 1030.38 94.3252 1037.51 Q94.3252 1044.62 96.1308 1048.18 Q97.9595 1051.73 101.571 1051.73 Q105.205 1051.73 107.01 1048.18 Q108.839 1044.62 108.839 1037.51 Q108.839 1030.38 107.01 1026.84 Q105.205 1023.28 101.571 1023.28 M101.571 1019.57 Q107.381 1019.57 110.436 1024.18 Q113.515 1028.76 113.515 1037.51 Q113.515 1046.24 110.436 1050.85 Q107.381 1055.43 101.571 1055.43 Q95.7604 1055.43 92.6817 1050.85 Q89.6262 1046.24 89.6262 1037.51 Q89.6262 1028.76 92.6817 1024.18 Q95.7604 1019.57 101.571 1019.57 Z\" fill=\"#000000\" fill-rule=\"evenodd\" fill-opacity=\"1\" /><path clip-path=\"url(#clip460)\" d=\"M121.732 1048.88 L126.617 1048.88 L126.617 1054.76 L121.732 1054.76 L121.732 1048.88 Z\" fill=\"#000000\" fill-rule=\"evenodd\" fill-opacity=\"1\" /><path clip-path=\"url(#clip460)\" d=\"M146.802 1023.28 Q143.191 1023.28 141.362 1026.84 Q139.556 1030.38 139.556 1037.51 Q139.556 1044.62 141.362 1048.18 Q143.191 1051.73 146.802 1051.73 Q150.436 1051.73 152.242 1048.18 Q154.07 1044.62 154.07 1037.51 Q154.07 1030.38 152.242 1026.84 Q150.436 1023.28 146.802 1023.28 M146.802 1019.57 Q152.612 1019.57 155.667 1024.18 Q158.746 1028.76 158.746 1037.51 Q158.746 1046.24 155.667 1050.85 Q152.612 1055.43 146.802 1055.43 Q140.992 1055.43 137.913 1050.85 Q134.857 1046.24 134.857 1037.51 Q134.857 1028.76 137.913 1024.18 Q140.992 1019.57 146.802 1019.57 Z\" fill=\"#000000\" fill-rule=\"evenodd\" fill-opacity=\"1\" /><path clip-path=\"url(#clip460)\" d=\"M176.964 1023.28 Q173.353 1023.28 171.524 1026.84 Q169.718 1030.38 169.718 1037.51 Q169.718 1044.62 171.524 1048.18 Q173.353 1051.73 176.964 1051.73 Q180.598 1051.73 182.403 1048.18 Q184.232 1044.62 184.232 1037.51 Q184.232 1030.38 182.403 1026.84 Q180.598 1023.28 176.964 1023.28 M176.964 1019.57 Q182.774 1019.57 185.829 1024.18 Q188.908 1028.76 188.908 1037.51 Q188.908 1046.24 185.829 1050.85 Q182.774 1055.43 176.964 1055.43 Q171.154 1055.43 168.075 1050.85 Q165.019 1046.24 165.019 1037.51 Q165.019 1028.76 168.075 1024.18 Q171.154 1019.57 176.964 1019.57 Z\" fill=\"#000000\" fill-rule=\"evenodd\" fill-opacity=\"1\" /><path clip-path=\"url(#clip460)\" d=\"M207.126 1023.28 Q203.514 1023.28 201.686 1026.84 Q199.88 1030.38 199.88 1037.51 Q199.88 1044.62 201.686 1048.18 Q203.514 1051.73 207.126 1051.73 Q210.76 1051.73 212.565 1048.18 Q214.394 1044.62 214.394 1037.51 Q214.394 1030.38 212.565 1026.84 Q210.76 1023.28 207.126 1023.28 M207.126 1019.57 Q212.936 1019.57 215.991 1024.18 Q219.07 1028.76 219.07 1037.51 Q219.07 1046.24 215.991 1050.85 Q212.936 1055.43 207.126 1055.43 Q201.315 1055.43 198.237 1050.85 Q195.181 1046.24 195.181 1037.51 Q195.181 1028.76 198.237 1024.18 Q201.315 1019.57 207.126 1019.57 Z\" fill=\"#000000\" fill-rule=\"evenodd\" fill-opacity=\"1\" /><path clip-path=\"url(#clip460)\" d=\"M241.454 1036.12 Q244.811 1036.84 246.686 1039.11 Q248.584 1041.38 248.584 1044.71 Q248.584 1049.83 245.065 1052.63 Q241.547 1055.43 235.065 1055.43 Q232.889 1055.43 230.574 1054.99 Q228.283 1054.57 225.829 1053.72 L225.829 1049.2 Q227.774 1050.34 230.088 1050.92 Q232.403 1051.49 234.926 1051.49 Q239.324 1051.49 241.616 1049.76 Q243.931 1048.02 243.931 1044.71 Q243.931 1041.66 241.778 1039.94 Q239.649 1038.21 235.829 1038.21 L231.801 1038.21 L231.801 1034.37 L236.014 1034.37 Q239.463 1034.37 241.292 1033 Q243.121 1031.61 243.121 1029.02 Q243.121 1026.36 241.223 1024.94 Q239.348 1023.51 235.829 1023.51 Q233.908 1023.51 231.709 1023.93 Q229.51 1024.34 226.871 1025.22 L226.871 1021.06 Q229.533 1020.31 231.848 1019.94 Q234.186 1019.57 236.246 1019.57 Q241.57 1019.57 244.672 1022 Q247.773 1024.41 247.773 1028.53 Q247.773 1031.4 246.13 1033.39 Q244.486 1035.36 241.454 1036.12 Z\" fill=\"#000000\" fill-rule=\"evenodd\" fill-opacity=\"1\" /><path clip-path=\"url(#clip460)\" d=\"M100.922 768.229 Q97.3113 768.229 95.4826 771.794 Q93.6771 775.336 93.6771 782.465 Q93.6771 789.572 95.4826 793.137 Q97.3113 796.678 100.922 796.678 Q104.557 796.678 106.362 793.137 Q108.191 789.572 108.191 782.465 Q108.191 775.336 106.362 771.794 Q104.557 768.229 100.922 768.229 M100.922 764.526 Q106.733 764.526 109.788 769.132 Q112.867 773.715 112.867 782.465 Q112.867 791.192 109.788 795.799 Q106.733 800.382 100.922 800.382 Q95.1123 800.382 92.0336 795.799 Q88.978 791.192 88.978 782.465 Q88.978 773.715 92.0336 769.132 Q95.1123 764.526 100.922 764.526 Z\" fill=\"#000000\" fill-rule=\"evenodd\" fill-opacity=\"1\" /><path clip-path=\"url(#clip460)\" d=\"M121.084 793.831 L125.969 793.831 L125.969 799.711 L121.084 799.711 L121.084 793.831 Z\" fill=\"#000000\" fill-rule=\"evenodd\" fill-opacity=\"1\" /><path clip-path=\"url(#clip460)\" d=\"M146.154 768.229 Q142.543 768.229 140.714 771.794 Q138.908 775.336 138.908 782.465 Q138.908 789.572 140.714 793.137 Q142.543 796.678 146.154 796.678 Q149.788 796.678 151.593 793.137 Q153.422 789.572 153.422 782.465 Q153.422 775.336 151.593 771.794 Q149.788 768.229 146.154 768.229 M146.154 764.526 Q151.964 764.526 155.019 769.132 Q158.098 773.715 158.098 782.465 Q158.098 791.192 155.019 795.799 Q151.964 800.382 146.154 800.382 Q140.343 800.382 137.265 795.799 Q134.209 791.192 134.209 782.465 Q134.209 773.715 137.265 769.132 Q140.343 764.526 146.154 764.526 Z\" fill=\"#000000\" fill-rule=\"evenodd\" fill-opacity=\"1\" /><path clip-path=\"url(#clip460)\" d=\"M176.316 768.229 Q172.704 768.229 170.876 771.794 Q169.07 775.336 169.07 782.465 Q169.07 789.572 170.876 793.137 Q172.704 796.678 176.316 796.678 Q179.95 796.678 181.755 793.137 Q183.584 789.572 183.584 782.465 Q183.584 775.336 181.755 771.794 Q179.95 768.229 176.316 768.229 M176.316 764.526 Q182.126 764.526 185.181 769.132 Q188.26 773.715 188.26 782.465 Q188.26 791.192 185.181 795.799 Q182.126 800.382 176.316 800.382 Q170.505 800.382 167.427 795.799 Q164.371 791.192 164.371 782.465 Q164.371 773.715 167.427 769.132 Q170.505 764.526 176.316 764.526 Z\" fill=\"#000000\" fill-rule=\"evenodd\" fill-opacity=\"1\" /><path clip-path=\"url(#clip460)\" d=\"M206.477 768.229 Q202.866 768.229 201.038 771.794 Q199.232 775.336 199.232 782.465 Q199.232 789.572 201.038 793.137 Q202.866 796.678 206.477 796.678 Q210.112 796.678 211.917 793.137 Q213.746 789.572 213.746 782.465 Q213.746 775.336 211.917 771.794 Q210.112 768.229 206.477 768.229 M206.477 764.526 Q212.288 764.526 215.343 769.132 Q218.422 773.715 218.422 782.465 Q218.422 791.192 215.343 795.799 Q212.288 800.382 206.477 800.382 Q200.667 800.382 197.589 795.799 Q194.533 791.192 194.533 782.465 Q194.533 773.715 197.589 769.132 Q200.667 764.526 206.477 764.526 Z\" fill=\"#000000\" fill-rule=\"evenodd\" fill-opacity=\"1\" /><path clip-path=\"url(#clip460)\" d=\"M236.639 768.229 Q233.028 768.229 231.199 771.794 Q229.394 775.336 229.394 782.465 Q229.394 789.572 231.199 793.137 Q233.028 796.678 236.639 796.678 Q240.274 796.678 242.079 793.137 Q243.908 789.572 243.908 782.465 Q243.908 775.336 242.079 771.794 Q240.274 768.229 236.639 768.229 M236.639 764.526 Q242.449 764.526 245.505 769.132 Q248.584 773.715 248.584 782.465 Q248.584 791.192 245.505 795.799 Q242.449 800.382 236.639 800.382 Q230.829 800.382 227.75 795.799 Q224.695 791.192 224.695 782.465 Q224.695 773.715 227.75 769.132 Q230.829 764.526 236.639 764.526 Z\" fill=\"#000000\" fill-rule=\"evenodd\" fill-opacity=\"1\" /><path clip-path=\"url(#clip460)\" d=\"M101.571 513.181 Q97.9595 513.181 96.1308 516.746 Q94.3252 520.288 94.3252 527.417 Q94.3252 534.524 96.1308 538.089 Q97.9595 541.63 101.571 541.63 Q105.205 541.63 107.01 538.089 Q108.839 534.524 108.839 527.417 Q108.839 520.288 107.01 516.746 Q105.205 513.181 101.571 513.181 M101.571 509.478 Q107.381 509.478 110.436 514.084 Q113.515 518.667 113.515 527.417 Q113.515 536.144 110.436 540.751 Q107.381 545.334 101.571 545.334 Q95.7604 545.334 92.6817 540.751 Q89.6262 536.144 89.6262 527.417 Q89.6262 518.667 92.6817 514.084 Q95.7604 509.478 101.571 509.478 Z\" fill=\"#000000\" fill-rule=\"evenodd\" fill-opacity=\"1\" /><path clip-path=\"url(#clip460)\" d=\"M121.732 538.783 L126.617 538.783 L126.617 544.663 L121.732 544.663 L121.732 538.783 Z\" fill=\"#000000\" fill-rule=\"evenodd\" fill-opacity=\"1\" /><path clip-path=\"url(#clip460)\" d=\"M146.802 513.181 Q143.191 513.181 141.362 516.746 Q139.556 520.288 139.556 527.417 Q139.556 534.524 141.362 538.089 Q143.191 541.63 146.802 541.63 Q150.436 541.63 152.242 538.089 Q154.07 534.524 154.07 527.417 Q154.07 520.288 152.242 516.746 Q150.436 513.181 146.802 513.181 M146.802 509.478 Q152.612 509.478 155.667 514.084 Q158.746 518.667 158.746 527.417 Q158.746 536.144 155.667 540.751 Q152.612 545.334 146.802 545.334 Q140.992 545.334 137.913 540.751 Q134.857 536.144 134.857 527.417 Q134.857 518.667 137.913 514.084 Q140.992 509.478 146.802 509.478 Z\" fill=\"#000000\" fill-rule=\"evenodd\" fill-opacity=\"1\" /><path clip-path=\"url(#clip460)\" d=\"M176.964 513.181 Q173.353 513.181 171.524 516.746 Q169.718 520.288 169.718 527.417 Q169.718 534.524 171.524 538.089 Q173.353 541.63 176.964 541.63 Q180.598 541.63 182.403 538.089 Q184.232 534.524 184.232 527.417 Q184.232 520.288 182.403 516.746 Q180.598 513.181 176.964 513.181 M176.964 509.478 Q182.774 509.478 185.829 514.084 Q188.908 518.667 188.908 527.417 Q188.908 536.144 185.829 540.751 Q182.774 545.334 176.964 545.334 Q171.154 545.334 168.075 540.751 Q165.019 536.144 165.019 527.417 Q165.019 518.667 168.075 514.084 Q171.154 509.478 176.964 509.478 Z\" fill=\"#000000\" fill-rule=\"evenodd\" fill-opacity=\"1\" /><path clip-path=\"url(#clip460)\" d=\"M207.126 513.181 Q203.514 513.181 201.686 516.746 Q199.88 520.288 199.88 527.417 Q199.88 534.524 201.686 538.089 Q203.514 541.63 207.126 541.63 Q210.76 541.63 212.565 538.089 Q214.394 534.524 214.394 527.417 Q214.394 520.288 212.565 516.746 Q210.76 513.181 207.126 513.181 M207.126 509.478 Q212.936 509.478 215.991 514.084 Q219.07 518.667 219.07 527.417 Q219.07 536.144 215.991 540.751 Q212.936 545.334 207.126 545.334 Q201.315 545.334 198.237 540.751 Q195.181 536.144 195.181 527.417 Q195.181 518.667 198.237 514.084 Q201.315 509.478 207.126 509.478 Z\" fill=\"#000000\" fill-rule=\"evenodd\" fill-opacity=\"1\" /><path clip-path=\"url(#clip460)\" d=\"M241.454 526.028 Q244.811 526.746 246.686 529.015 Q248.584 531.283 248.584 534.616 Q248.584 539.732 245.065 542.533 Q241.547 545.334 235.065 545.334 Q232.889 545.334 230.574 544.894 Q228.283 544.477 225.829 543.621 L225.829 539.107 Q227.774 540.241 230.088 540.82 Q232.403 541.399 234.926 541.399 Q239.324 541.399 241.616 539.663 Q243.931 537.927 243.931 534.616 Q243.931 531.561 241.778 529.848 Q239.649 528.112 235.829 528.112 L231.801 528.112 L231.801 524.269 L236.014 524.269 Q239.463 524.269 241.292 522.903 Q243.121 521.515 243.121 518.922 Q243.121 516.26 241.223 514.848 Q239.348 513.413 235.829 513.413 Q233.908 513.413 231.709 513.829 Q229.51 514.246 226.871 515.126 L226.871 510.959 Q229.533 510.218 231.848 509.848 Q234.186 509.478 236.246 509.478 Q241.57 509.478 244.672 511.908 Q247.773 514.316 247.773 518.436 Q247.773 521.306 246.13 523.297 Q244.486 525.265 241.454 526.028 Z\" fill=\"#000000\" fill-rule=\"evenodd\" fill-opacity=\"1\" /><path clip-path=\"url(#clip460)\" d=\"M100.76 258.133 Q97.1493 258.133 95.3206 261.698 Q93.515 265.24 93.515 272.369 Q93.515 279.476 95.3206 283.04 Q97.1493 286.582 100.76 286.582 Q104.395 286.582 106.2 283.04 Q108.029 279.476 108.029 272.369 Q108.029 265.24 106.2 261.698 Q104.395 258.133 100.76 258.133 M100.76 254.43 Q106.571 254.43 109.626 259.036 Q112.705 263.619 112.705 272.369 Q112.705 281.096 109.626 285.703 Q106.571 290.286 100.76 290.286 Q94.9502 290.286 91.8715 285.703 Q88.816 281.096 88.816 272.369 Q88.816 263.619 91.8715 259.036 Q94.9502 254.43 100.76 254.43 Z\" fill=\"#000000\" fill-rule=\"evenodd\" fill-opacity=\"1\" /><path clip-path=\"url(#clip460)\" d=\"M120.922 283.735 L125.807 283.735 L125.807 289.615 L120.922 289.615 L120.922 283.735 Z\" fill=\"#000000\" fill-rule=\"evenodd\" fill-opacity=\"1\" /><path clip-path=\"url(#clip460)\" d=\"M145.992 258.133 Q142.381 258.133 140.552 261.698 Q138.746 265.24 138.746 272.369 Q138.746 279.476 140.552 283.04 Q142.381 286.582 145.992 286.582 Q149.626 286.582 151.431 283.04 Q153.26 279.476 153.26 272.369 Q153.26 265.24 151.431 261.698 Q149.626 258.133 145.992 258.133 M145.992 254.43 Q151.802 254.43 154.857 259.036 Q157.936 263.619 157.936 272.369 Q157.936 281.096 154.857 285.703 Q151.802 290.286 145.992 290.286 Q140.181 290.286 137.103 285.703 Q134.047 281.096 134.047 272.369 Q134.047 263.619 137.103 259.036 Q140.181 254.43 145.992 254.43 Z\" fill=\"#000000\" fill-rule=\"evenodd\" fill-opacity=\"1\" /><path clip-path=\"url(#clip460)\" d=\"M176.153 258.133 Q172.542 258.133 170.714 261.698 Q168.908 265.24 168.908 272.369 Q168.908 279.476 170.714 283.04 Q172.542 286.582 176.153 286.582 Q179.788 286.582 181.593 283.04 Q183.422 279.476 183.422 272.369 Q183.422 265.24 181.593 261.698 Q179.788 258.133 176.153 258.133 M176.153 254.43 Q181.964 254.43 185.019 259.036 Q188.098 263.619 188.098 272.369 Q188.098 281.096 185.019 285.703 Q181.964 290.286 176.153 290.286 Q170.343 290.286 167.265 285.703 Q164.209 281.096 164.209 272.369 Q164.209 263.619 167.265 259.036 Q170.343 254.43 176.153 254.43 Z\" fill=\"#000000\" fill-rule=\"evenodd\" fill-opacity=\"1\" /><path clip-path=\"url(#clip460)\" d=\"M206.315 258.133 Q202.704 258.133 200.876 261.698 Q199.07 265.24 199.07 272.369 Q199.07 279.476 200.876 283.04 Q202.704 286.582 206.315 286.582 Q209.95 286.582 211.755 283.04 Q213.584 279.476 213.584 272.369 Q213.584 265.24 211.755 261.698 Q209.95 258.133 206.315 258.133 M206.315 254.43 Q212.126 254.43 215.181 259.036 Q218.26 263.619 218.26 272.369 Q218.26 281.096 215.181 285.703 Q212.126 290.286 206.315 290.286 Q200.505 290.286 197.427 285.703 Q194.371 281.096 194.371 272.369 Q194.371 263.619 197.427 259.036 Q200.505 254.43 206.315 254.43 Z\" fill=\"#000000\" fill-rule=\"evenodd\" fill-opacity=\"1\" /><path clip-path=\"url(#clip460)\" d=\"M237.056 270.471 Q233.908 270.471 232.056 272.624 Q230.227 274.777 230.227 278.527 Q230.227 282.253 232.056 284.429 Q233.908 286.582 237.056 286.582 Q240.204 286.582 242.033 284.429 Q243.885 282.253 243.885 278.527 Q243.885 274.777 242.033 272.624 Q240.204 270.471 237.056 270.471 M246.338 255.818 L246.338 260.078 Q244.579 259.244 242.774 258.804 Q240.991 258.365 239.232 258.365 Q234.602 258.365 232.149 261.49 Q229.718 264.615 229.371 270.934 Q230.737 268.92 232.797 267.855 Q234.857 266.767 237.334 266.767 Q242.542 266.767 245.551 269.939 Q248.584 273.087 248.584 278.527 Q248.584 283.851 245.436 287.068 Q242.287 290.286 237.056 290.286 Q231.061 290.286 227.889 285.703 Q224.718 281.096 224.718 272.369 Q224.718 264.175 228.607 259.314 Q232.496 254.43 239.047 254.43 Q240.806 254.43 242.588 254.777 Q244.394 255.124 246.338 255.818 Z\" fill=\"#000000\" fill-rule=\"evenodd\" fill-opacity=\"1\" /><polyline clip-path=\"url(#clip462)\" style=\"stroke:#009af9; stroke-linecap:round; stroke-linejoin:round; stroke-width:8; stroke-opacity:1; fill:none\" points=\"\n  343.117,515.664 347.027,564.995 350.937,610.664 354.847,652.681 358.757,691.077 362.667,725.902 366.577,757.219 370.487,785.112 374.397,809.673 378.307,831.01 \n  382.217,849.242 386.127,864.497 390.037,876.912 393.947,886.632 397.857,893.807 401.767,898.593 405.677,901.15 409.587,901.641 413.497,900.232 417.407,897.087 \n  421.317,892.373 425.228,886.255 429.138,878.896 433.048,870.457 436.958,861.096 440.868,850.966 444.778,840.216 448.688,828.99 452.598,817.426 456.508,805.656 \n  460.418,793.805 464.328,781.991 468.238,770.324 472.148,758.907 476.058,747.836 479.968,737.196 483.878,727.067 487.788,717.518 491.698,708.61 495.608,700.397 \n  499.518,692.923 503.428,686.226 507.338,680.332 511.248,675.263 515.158,671.031 519.068,667.641 522.978,665.092 526.888,663.374 530.798,662.472 534.708,662.364 \n  538.618,663.025 542.528,664.421 546.438,666.515 550.349,669.267 554.259,672.632 558.169,676.561 562.079,681.004 565.989,685.909 569.899,691.22 573.809,696.883 \n  577.719,702.841 581.629,709.038 585.539,715.42 589.449,721.932 593.359,728.52 597.269,735.134 601.179,741.726 605.089,748.25 608.999,754.664 612.909,760.929 \n  616.819,767.009 620.729,772.875 624.639,778.5 628.549,783.861 632.459,788.942 636.369,793.73 640.279,798.219 644.189,802.404 648.099,806.289 652.009,809.879 \n  655.919,813.187 659.829,816.227 663.739,819.02 667.649,821.587 671.56,823.957 675.47,826.159 679.38,828.223 683.29,830.186 687.2,832.081 691.11,833.947 \n  695.02,835.818 698.93,837.732 702.84,839.725 706.75,841.831 710.66,844.082 714.57,846.507 718.48,849.132 722.39,851.978 726.3,855.064 730.21,858.402 \n  734.12,861.997 738.03,865.85 741.94,869.955 745.85,874.299 749.76,878.862 753.67,883.617 757.58,888.528 761.49,893.553 765.4,898.643 769.31,903.741 \n  773.22,908.782 777.13,913.698 781.04,918.412 784.95,922.842 788.86,926.904 792.77,930.508 796.681,933.562 800.591,935.973 804.501,937.648 808.411,938.495 \n  812.321,938.423 816.231,937.346 820.141,935.185 824.051,931.865 827.961,927.323 831.871,921.503 835.781,914.363 839.691,905.872 843.601,896.018 847.511,884.8 \n  851.421,872.239 855.331,858.37 859.241,843.252 863.151,826.96 867.061,809.593 870.971,791.268 874.881,772.123 878.791,752.318 882.701,732.03 886.611,711.455 \n  890.521,690.806 894.431,670.311 898.341,650.21 902.251,630.751 906.161,612.19 910.071,594.787 913.981,578.798 917.892,564.478 921.802,552.069 925.712,541.802 \n  929.622,533.887 933.532,528.512 937.442,525.834 941.352,525.981 945.262,529.041 949.172,535.06 953.082,544.039 956.992,555.932 960.902,570.639 964.812,588.011 \n  968.722,607.844 972.632,629.88 976.542,653.813 980.452,679.287 984.362,705.9 988.272,733.214 992.182,760.757 996.092,788.036 1000,814.541 1003.91,839.76 \n  1007.82,863.189 1011.73,884.346 1015.64,902.779 1019.55,918.087 1023.46,929.928 1027.37,938.033 1031.28,942.218 1035.19,942.393 1039.1,938.571 1043.01,930.876 \n  1046.92,919.543 1050.83,904.917 1054.74,887.451 1058.65,867.696 1062.56,846.289 1066.47,823.935 1070.38,801.387 1074.29,779.419 1078.2,758.8 1082.11,740.26 \n  1086.02,724.463 1089.93,711.969 1093.84,703.21 1097.75,698.455 1101.66,697.798 1105.57,701.135 1109.48,708.165 1113.39,718.389 1117.3,731.133 1121.21,745.576 \n  1125.12,760.793 1129.03,775.81 1132.94,789.669 1136.85,801.502 1140.76,810.606 1144.67,816.513 1148.58,819.054 1152.49,818.404 1156.4,815.103 1160.31,810.039 \n  1164.22,804.399 1168.13,799.572 1172.04,797.009 1175.95,798.04 1179.86,803.668 1183.77,814.348 1187.68,829.786 1191.59,848.784 1195.5,869.179 1199.41,887.925 \n  1203.32,901.335 1207.23,905.538 1211.14,897.124 1215.05,873.947 1218.96,835.978 1222.87,786.038 1226.78,730.162 1230.69,677.328 1234.6,638.259 1238.51,623.18 \n  1242.42,638.658 1246.33,684.1 1250.24,749.081 1254.15,813.14 1258.06,849.849 1261.97,836.105 1265.88,765.462 1269.79,660.681 1273.7,576.671 1277.61,583.61 \n  1281.52,725.814 1285.43,969.145 1289.34,1175.57 1293.25,1159.37 1297.16,847.137 1301.07,449.285 1304.98,397.918 1308.89,842.205 1312.8,1094.32 1316.71,600.306 \n  1320.62,779.059 1324.53,1010.34 1328.44,565.503 1332.35,463.946 1336.26,828.311 1340.17,1168.42 1344.08,1186.31 1348,941.465 1351.91,644.307 1355.82,454.961 \n  1359.73,418.736 1363.64,498.972 1367.55,633.436 1371.46,771.697 1375.37,886.279 1379.28,967.726 1383.19,1015.46 1387.1,1031.24 1391.01,1016.86 1394.92,974.655 \n  1398.83,908.839 1402.74,826.31 1406.65,736.315 1410.56,649.242 1414.47,575.012 1418.38,521.601 1422.29,494.034 1426.2,493.998 1430.11,520.018 1434.02,568.067 \n  1437.93,632.399 1441.84,706.447 1445.75,783.627 1449.66,857.982 1453.57,924.614 1457.48,979.914 1461.39,1021.62 1465.3,1048.72 1469.21,1061.32 1473.12,1060.36 \n  1477.03,1047.42 1480.94,1024.5 1484.85,993.783 1488.76,957.477 1492.67,917.706 1496.58,876.403 1500.49,835.256 1504.4,795.675 1508.31,758.791 1512.22,725.454 \n  1516.13,696.263 1520.04,671.583 1523.95,651.582 1527.86,636.256 1531.77,625.465 1535.68,618.959 1539.59,616.402 1543.5,617.401 1547.41,621.522 1551.32,628.309 \n  1555.23,637.301 1559.14,648.044 1563.05,660.099 1566.96,673.054 1570.87,686.531 1574.78,700.188 1578.69,713.722 1582.6,726.877 1586.51,739.438 1590.42,751.234 \n  1594.33,762.137 1598.24,772.058 1602.15,780.946 1606.06,788.783 1609.97,795.582 1613.88,801.378 1617.79,806.232 1621.7,810.219 1625.61,813.424 1629.52,815.945 \n  1633.43,817.881 1637.34,819.331 1641.25,820.392 1645.16,821.156 1649.07,821.707 1652.98,822.118 1656.89,822.452 1660.8,822.76 1664.71,823.079 1668.62,823.436 \n  1672.53,823.842 1676.44,824.301 1680.35,824.805 1684.26,825.333 1688.17,825.863 1692.08,826.36 1695.99,826.788 1699.9,827.106 1703.81,827.274 1707.72,827.25 \n  1711.63,826.992 1715.54,826.465 1719.45,825.635 1723.36,824.474 1727.27,822.96 1731.18,821.079 1735.09,818.822 1739,816.189 1742.91,813.189 1746.82,809.837 \n  1750.73,806.155 1754.64,802.175 1758.55,797.934 1762.46,793.473 1766.37,788.843 1770.28,784.095 1774.19,779.286 1778.1,774.476 1782.01,769.725 1785.92,765.095 \n  1789.83,760.647 1793.74,756.44 1797.65,752.534 1801.56,748.981 1805.47,745.833 1809.38,743.136 1813.29,740.93 1817.2,739.249 1821.11,738.122 1825.02,737.57 \n  1828.93,737.606 1832.84,738.237 1836.75,739.462 1840.66,741.273 1844.57,743.653 1848.48,746.58 1852.39,750.024 1856.3,753.948 1860.21,758.309 1864.12,763.06 \n  1868.03,768.146 1871.94,773.512 1875.85,779.094 1879.76,784.828 1883.67,790.649 1887.58,796.488 1891.49,802.275 1895.4,807.942 1899.31,813.42 1903.22,818.643 \n  1907.13,823.547 1911.04,828.069 1914.95,832.152 1918.86,835.742 1922.77,838.789 1926.68,841.251 1930.59,843.09 1934.5,844.273 1938.41,844.776 1942.32,844.58 \n  1946.23,843.674 1950.14,842.055 1954.05,839.725 1957.96,836.696 1961.87,832.984 1965.78,828.616 1969.69,823.623 1973.6,818.045 1977.51,811.926 1981.42,805.318 \n  1985.33,798.277 1989.24,790.867 1993.15,783.153 1997.06,775.207 2000.97,767.103 2004.88,758.919 2008.79,750.733 2012.7,742.628 2016.61,734.685 2020.52,726.985 \n  2024.43,719.61 2028.34,712.641 2032.25,706.154 2036.16,700.225 2040.07,694.926 2043.98,690.322 2047.89,686.478 2051.8,683.448 2055.71,681.284 2059.62,680.028 \n  2063.53,679.718 2067.44,680.382 2071.35,682.039 2075.26,684.701 2079.17,688.371 2083.08,693.041 2086.99,698.695 2090.9,705.307 2094.81,712.84 2098.72,721.249 \n  2102.63,730.479 2106.54,740.465 2110.45,751.131 2114.36,762.396 2118.27,774.166 2122.18,786.341 2126.09,798.814 2130,811.47 2133.91,824.187 2137.82,836.839 \n  2141.73,849.295 2145.64,861.419 2149.55,873.074 2153.46,884.122 2157.37,894.422 2161.28,903.838 2165.19,912.232 2169.1,919.475 2173.01,925.439 2176.92,930.006 \n  2180.83,933.066 2184.74,934.518 2188.65,934.275 2192.56,932.266 2196.47,928.431 2200.38,922.735 2204.29,915.158 2208.2,905.704 2212.11,894.404 2216.02,881.313 \n  2219.93,866.516 2223.84,850.132 2227.75,832.311 2231.66,813.241 2235.57,793.148 2239.48,772.301 2243.39,751.011 2247.3,729.638 2251.21,708.589 2255.12,688.323 \n  2259.03,669.354 2262.94,652.253 2266.85,637.651 2270.76,626.241 2274.67,618.781 2278.58,616.096 2282.49,619.082 2286.4,628.708 2290.31,646.02 2294.22,672.14 \n  \n  \"/>\n<polyline clip-path=\"url(#clip462)\" style=\"stroke:#e26f46; stroke-linecap:round; stroke-linejoin:round; stroke-width:8; stroke-opacity:1; fill:none\" points=\"\n  343.117,605.707 347.027,742.54 350.937,852.134 354.847,937.591 358.757,1001.8 362.667,1047.42 366.577,1076.95 370.487,1092.64 374.397,1096.6 378.307,1090.74 \n  382.217,1076.8 386.127,1056.37 390.037,1030.88 393.947,1001.6 397.857,969.693 401.767,936.166 405.677,901.912 409.587,867.707 413.497,834.221 417.407,802.02 \n  421.317,771.577 425.228,743.28 429.138,717.432 433.048,694.266 436.958,673.944 440.868,656.568 444.778,642.184 448.688,630.789 452.598,622.333 456.508,616.729 \n  460.418,613.854 464.328,613.558 468.238,615.666 472.148,619.98 476.058,626.289 479.968,634.37 483.878,643.99 487.788,654.911 491.698,666.895 495.608,679.703 \n  499.518,693.102 503.428,706.864 507.338,720.771 511.248,734.614 515.158,748.198 519.068,761.34 522.978,773.874 526.888,785.649 530.798,796.533 534.708,806.409 \n  538.618,815.18 542.528,822.766 546.438,829.107 550.349,834.16 554.259,837.9 558.169,840.32 562.079,841.428 565.989,841.251 569.899,839.827 573.809,837.212 \n  577.719,833.471 581.629,828.684 585.539,822.938 589.449,816.331 593.359,808.968 597.269,800.958 601.179,792.418 605.089,783.465 608.999,774.218 612.909,764.796 \n  616.819,755.317 620.729,745.895 624.639,736.641 628.549,727.657 632.459,719.044 636.369,710.889 640.279,703.275 644.189,696.272 648.099,689.94 652.009,684.33 \n  655.919,679.479 659.829,675.413 663.739,672.145 667.649,669.679 671.56,668.003 675.47,667.097 679.38,666.926 683.29,667.448 687.2,668.609 691.11,670.348 \n  695.02,672.595 698.93,675.272 702.84,678.298 706.75,681.587 710.66,685.051 714.57,688.6 718.48,692.145 722.39,695.6 726.3,698.882 730.21,701.914 \n  734.12,704.625 738.03,706.953 741.94,708.849 745.85,710.27 749.76,711.19 753.67,711.595 757.58,711.486 761.49,710.878 765.4,709.804 769.31,708.311 \n  773.22,706.463 777.13,704.34 781.04,702.035 784.95,699.659 788.86,697.331 792.77,695.187 796.681,693.368 800.591,692.026 804.501,691.316 808.411,691.398 \n  812.321,692.431 816.231,694.569 820.141,697.963 824.051,702.751 827.961,709.06 831.871,717 835.781,726.659 839.691,738.104 843.601,751.373 847.511,766.476 \n  851.421,783.389 855.331,802.054 859.241,822.376 863.151,844.221 867.061,867.416 870.971,891.752 874.881,916.975 878.791,942.801 882.701,968.905 886.611,994.932 \n  890.521,1020.5 894.431,1045.2 898.341,1068.62 902.251,1090.31 906.161,1109.84 910.071,1126.77 913.981,1140.69 917.892,1151.19 921.802,1157.9 925.712,1160.51 \n  929.622,1158.74 933.532,1152.38 937.442,1141.28 941.352,1125.38 945.262,1104.71 949.172,1079.38 953.082,1049.6 956.992,1015.67 960.902,978.01 964.812,937.122 \n  968.722,893.607 972.632,848.147 976.542,801.505 980.452,754.504 984.362,708.015 988.272,662.938 992.182,620.184 996.092,580.646 1000,545.182 1003.91,514.584 \n  1007.82,489.556 1011.73,470.689 1015.64,458.433 1019.55,453.084 1023.46,454.756 1027.37,463.379 1031.28,478.682 1035.19,500.196 1039.1,527.259 1043.01,559.03 \n  1046.92,594.509 1050.83,632.568 1054.74,671.986 1058.65,711.496 1062.56,749.83 1066.47,785.773 1070.38,818.218 1074.29,846.215 1078.2,869.019 1082.11,886.129 \n  1086.02,897.313 1089.93,902.622 1093.84,902.384 1097.75,897.177 1101.66,887.788 1105.57,875.149 1109.48,860.254 1113.39,844.075 1117.3,827.463 1121.21,811.064 \n  1125.12,795.246 1129.03,780.059 1132.94,765.231 1136.85,750.222 1140.76,734.324 1144.67,716.832 1148.58,697.258 1152.49,675.574 1156.4,652.465 1160.31,629.543 \n  1164.22,609.466 1168.13,595.912 1172.04,593.361 1175.95,606.611 1179.86,640.056 1183.77,696.712 1187.68,777.108 1191.59,878.169 1195.5,992.359 1199.41,1107.33 \n  1203.32,1206.44 1207.23,1270.36 1211.14,1279.97 1215.05,1220.4 1218.96,1085.73 1222.87,883.523 1226.78,637.735 1230.69,388.549 1234.6,187.609 1238.51,87.9763 \n  1242.42,129.586 1246.33,323.141 1250.24,637.686 1254.15,998.566 1258.06,1301.72 1261.97,1445.72 1265.88,1374.55 1269.79,1113.62 1273.7,774.878 1277.61,513.018 \n  1281.52,439.594 1285.43,541.984 1289.34,682.042 1293.25,718.946 1297.16,681.84 1301.07,775.324 1304.98,1054.37 1308.89,1086.5 1312.8,530.115 1316.71,528.37 \n  1320.62,1214.45 1324.53,659.974 1328.44,427.164 1332.35,828.986 1336.26,1062.27 1340.17,943.797 1344.08,760.182 1348,709.278 1351.91,747.382 1355.82,746.036 \n  1359.73,653.966 1363.64,527.992 1367.55,467.611 1371.46,538.017 1375.37,734.46 1379.28,993.487 1383.19,1229.47 1387.1,1371.38 1391.01,1384.65 1394.92,1274.77 \n  1398.83,1077.41 1402.74,842.452 1406.65,618.759 1410.56,443.369 1414.47,336.566 1418.38,302.01 1422.29,330.265 1426.2,403.878 1430.11,502.466 1434.02,606.854 \n  1437.93,701.792 1441.84,777.254 1445.75,828.527 1449.66,855.483 1453.57,861.385 1457.48,851.555 1461.39,832.135 1465.3,809.086 1469.21,787.481 1473.12,771.104 \n  1477.03,762.301 1480.94,762.043 1484.85,770.123 1488.76,785.426 1492.67,806.234 1496.58,830.507 1500.49,856.138 1504.4,881.147 1508.31,903.823 1512.22,922.806 \n  1516.13,937.13 1520.04,946.218 1523.95,949.854 1527.86,948.133 1531.77,941.4 1535.68,930.191 1539.59,915.168 1543.5,897.065 1547.41,876.64 1551.32,854.64 \n  1555.23,831.768 1559.14,808.665 1563.05,785.9 1566.96,763.961 1570.87,743.257 1574.78,724.119 1578.69,706.807 1582.6,691.518 1586.51,678.392 1590.42,667.519 \n  1594.33,658.948 1598.24,652.694 1602.15,648.738 1606.06,647.037 1609.97,647.525 1613.88,650.115 1617.79,654.7 1621.7,661.157 1625.61,669.345 1629.52,679.109 \n  1633.43,690.278 1637.34,702.668 1641.25,716.081 1645.16,730.313 1649.07,745.146 1652.98,760.359 1656.89,775.726 1660.8,791.022 1664.71,806.021 1668.62,820.505 \n  1672.53,834.262 1676.44,847.093 1680.35,858.814 1684.26,869.256 1688.17,878.271 1692.08,885.734 1695.99,891.54 1699.9,895.612 1703.81,897.9 1707.72,898.377 \n  1711.63,897.046 1715.54,893.935 1719.45,889.097 1723.36,882.611 1727.27,874.578 1731.18,865.12 1735.09,854.379 1739,842.513 1742.91,829.694 1746.82,816.106 \n  1750.73,801.941 1754.64,787.397 1758.55,772.676 1762.46,757.979 1766.37,743.504 1770.28,729.447 1774.19,715.992 1778.1,703.316 1782.01,691.585 1785.92,680.947 \n  1789.83,671.539 1793.74,663.48 1797.65,656.869 1801.56,651.788 1805.47,648.301 1809.38,646.449 1813.29,646.256 1817.2,647.725 1821.11,650.841 1825.02,655.568 \n  1828.93,661.854 1832.84,669.629 1836.75,678.809 1840.66,689.292 1844.57,700.966 1848.48,713.705 1852.39,727.375 1856.3,741.832 1860.21,756.925 1864.12,772.499 \n  1868.03,788.394 1871.94,804.449 1875.85,820.504 1879.76,836.399 1883.67,851.976 1887.58,867.085 1891.49,881.578 1895.4,895.318 1899.31,908.173 1903.22,920.022 \n  1907.13,930.756 1911.04,940.275 1914.95,948.492 1918.86,955.332 1922.77,960.736 1926.68,964.654 1930.59,967.055 1934.5,967.917 1938.41,967.235 1942.32,965.016 \n  1946.23,961.282 1950.14,956.067 1954.05,949.417 1957.96,941.392 1961.87,932.063 1965.78,921.509 1969.69,909.823 1973.6,897.103 1977.51,883.459 1981.42,869.005 \n  1985.33,853.861 1989.24,838.155 1993.15,822.016 1997.06,805.578 2000.97,788.973 2004.88,772.338 2008.79,755.808 2012.7,739.514 2016.61,723.588 2020.52,708.155 \n  2024.43,693.337 2028.34,679.251 2032.25,666.006 2036.16,653.704 2040.07,642.438 2043.98,632.293 2047.89,623.343 2051.8,615.655 2055.71,609.28 2059.62,604.262 \n  2063.53,600.632 2067.44,598.408 2071.35,597.598 2075.26,598.195 2079.17,600.182 2083.08,603.529 2086.99,608.194 2090.9,614.124 2094.81,621.253 2098.72,629.506 \n  2102.63,638.795 2106.54,649.024 2110.45,660.088 2114.36,671.873 2118.27,684.257 2122.18,697.113 2126.09,710.306 2130,723.698 2133.91,737.149 2137.82,750.516 \n  2141.73,763.653 2145.64,776.419 2149.55,788.671 2153.46,800.274 2157.37,811.094 2161.28,821.007 2165.19,829.895 2169.1,837.652 2173.01,844.184 2176.92,849.41 \n  2180.83,853.265 2184.74,855.701 2188.65,856.689 2192.56,856.223 2196.47,854.318 2200.38,851.016 2204.29,846.384 2208.2,840.52 2212.11,833.552 2216.02,825.641 \n  2219.93,816.982 2223.84,807.809 2227.75,798.393 2231.66,789.046 2235.57,780.123 2239.48,772.024 2243.39,765.195 2247.3,760.129 2251.21,757.372 2255.12,757.519 \n  2259.03,761.221 2262.94,769.183 2266.85,782.168 2270.76,800.998 2274.67,826.554 2278.58,859.78 2282.49,901.685 2286.4,953.34 2290.31,1015.89 2294.22,1090.53 \n  \n  \"/>\n<path clip-path=\"url(#clip460)\" d=\"\nM2001.59 250.738 L2283.82 250.738 L2283.82 95.2176 L2001.59 95.2176  Z\n  \" fill=\"#ffffff\" fill-rule=\"evenodd\" fill-opacity=\"1\"/>\n<polyline clip-path=\"url(#clip460)\" style=\"stroke:#000000; stroke-linecap:round; stroke-linejoin:round; stroke-width:4; stroke-opacity:1; fill:none\" points=\"\n  2001.59,250.738 2283.82,250.738 2283.82,95.2176 2001.59,95.2176 2001.59,250.738 \n  \"/>\n<polyline clip-path=\"url(#clip460)\" style=\"stroke:#009af9; stroke-linecap:round; stroke-linejoin:round; stroke-width:4; stroke-opacity:1; fill:none\" points=\"\n  2024.57,147.058 2162.45,147.058 \n  \"/>\n<path clip-path=\"url(#clip460)\" d=\"M2199.27 166.745 Q2197.46 171.375 2195.75 172.787 Q2194.04 174.199 2191.17 174.199 L2187.77 174.199 L2187.77 170.634 L2190.27 170.634 Q2192.02 170.634 2193 169.8 Q2193.97 168.967 2195.15 165.865 L2195.91 163.921 L2185.43 138.412 L2189.94 138.412 L2198.04 158.689 L2206.14 138.412 L2210.66 138.412 L2199.27 166.745 Z\" fill=\"#000000\" fill-rule=\"evenodd\" fill-opacity=\"1\" /><path clip-path=\"url(#clip460)\" d=\"M2217.95 160.402 L2225.59 160.402 L2225.59 134.037 L2217.28 135.703 L2217.28 131.444 L2225.54 129.778 L2230.22 129.778 L2230.22 160.402 L2237.86 160.402 L2237.86 164.338 L2217.95 164.338 L2217.95 160.402 Z\" fill=\"#000000\" fill-rule=\"evenodd\" fill-opacity=\"1\" /><polyline clip-path=\"url(#clip460)\" style=\"stroke:#e26f46; stroke-linecap:round; stroke-linejoin:round; stroke-width:4; stroke-opacity:1; fill:none\" points=\"\n  2024.57,198.898 2162.45,198.898 \n  \"/>\n<path clip-path=\"url(#clip460)\" d=\"M2199.27 218.585 Q2197.46 223.215 2195.75 224.627 Q2194.04 226.039 2191.17 226.039 L2187.77 226.039 L2187.77 222.474 L2190.27 222.474 Q2192.02 222.474 2193 221.64 Q2193.97 220.807 2195.15 217.705 L2195.91 215.761 L2185.43 190.252 L2189.94 190.252 L2198.04 210.529 L2206.14 190.252 L2210.66 190.252 L2199.27 218.585 Z\" fill=\"#000000\" fill-rule=\"evenodd\" fill-opacity=\"1\" /><path clip-path=\"url(#clip460)\" d=\"M2221.17 212.242 L2237.49 212.242 L2237.49 216.178 L2215.54 216.178 L2215.54 212.242 Q2218.2 209.488 2222.79 204.858 Q2227.39 200.205 2228.58 198.863 Q2230.82 196.34 2231.7 194.604 Q2232.6 192.844 2232.6 191.155 Q2232.6 188.4 2230.66 186.664 Q2228.74 184.928 2225.64 184.928 Q2223.44 184.928 2220.98 185.692 Q2218.55 186.455 2215.77 188.006 L2215.77 183.284 Q2218.6 182.15 2221.05 181.571 Q2223.51 180.993 2225.54 180.993 Q2230.91 180.993 2234.11 183.678 Q2237.3 186.363 2237.3 190.854 Q2237.3 192.983 2236.49 194.905 Q2235.7 196.803 2233.6 199.395 Q2233.02 200.067 2229.92 203.284 Q2226.82 206.479 2221.17 212.242 Z\" fill=\"#000000\" fill-rule=\"evenodd\" fill-opacity=\"1\" /></svg>\n"
     },
     "execution_count": 50,
     "metadata": {},
     "output_type": "execute_result"
    }
   ],
   "source": [
    "plot(w_mesh, gi[:,1]-gi[:,4], linewidth=2.0)\n",
    "plot!(w_mesh, gi[:,1]+gi[:,4], linewidth=2.0)\n",
    "#plot!(w_mesh, gi[:,3], linewidth=2.0)\n",
    "#plot!(w_mesh, gi[:,4], linewidth=2.0)"
   ]
  },
  {
   "cell_type": "code",
   "execution_count": 39,
   "metadata": {},
   "outputs": [
    {
     "data": {
      "text/plain": [
       "KK_GR (generic function with 1 method)"
      ]
     },
     "execution_count": 39,
     "metadata": {},
     "output_type": "execute_result"
    }
   ],
   "source": [
    "\n",
    "function reshape(rho::Vector{Float64}, cutoff::Float64)\n",
    "    v_it::Vector{Int} = []\n",
    "    rho_rep = rho\n",
    "    sw = true\n",
    "    for w in 1:length(rho_rep)\n",
    "        if(rho_rep[w]<0)\n",
    "            if(sw)\n",
    "                for it in v_it\n",
    "                    rho_rep[it] = 0.005                \n",
    "                end\n",
    "                empty!(v_it)\n",
    "                sw = false\n",
    "            elseif(w<length(rho_rep) && rho_rep[w+1]>0.0)\n",
    "                sw = true\n",
    "            end\n",
    "            rho_rep[w] = 0.005\n",
    "\n",
    "        elseif(rho_rep[w]<cutoff)\n",
    "            if(sw)\n",
    "                push!(v_it,w)\n",
    "            #elseif(w<length(rho_rep) && rho_rep[w+1]>rho_rep[w])\n",
    "            #    sw = true\n",
    "            #    push!(v_it,w)\n",
    "            end\n",
    "        elseif(rho_rep[w]>=cutoff && sw)\n",
    "            empty!(v_it)\n",
    "            sw = false\n",
    "        end\n",
    "        if(w == length(rho_rep))\n",
    "            if(sw)\n",
    "                for it in v_it\n",
    "                    rho_rep[it] = 0.005                \n",
    "                end\n",
    "            end\n",
    "        end\n",
    "    end\n",
    "    return rho_rep\n",
    "end\n",
    "\n",
    "\n",
    "function KK_GR(w::Vector{Float64}, rho::Vector{Matrix{ComplexF64}})\n",
    "    #GR_ = zeros(ComplexF64, length(w))\n",
    "    GR_::Vector{Matrix{ComplexF64}} = []\n",
    "    dw = w[2]-w[1]\n",
    "    for w_re in 1:length(w)\n",
    "        re = zeros(ComplexF64, 2, 2)\n",
    "        for w_im in 1:length(w)\n",
    "            if(w_im != w_re)\n",
    "                re += dw * rho[w_im] / (w[w_re] - w[w_im])\n",
    "            end \n",
    "        end\n",
    "        ggg = re - 1.0im * rho[w_re] * pi\n",
    "        push!(GR_, ggg)\n",
    "    end\n",
    "    return GR_\n",
    "end"
   ]
  },
  {
   "cell_type": "code",
   "execution_count": 48,
   "metadata": {},
   "outputs": [
    {
     "data": {
      "text/plain": [
       "500-element Vector{Float64}:\n",
       " 0.005\n",
       " 0.005\n",
       " 0.005\n",
       " 0.005\n",
       " 0.005\n",
       " 0.005\n",
       " 0.005\n",
       " 0.005\n",
       " 0.005\n",
       " 0.005\n",
       " 0.005\n",
       " 0.005\n",
       " 0.005\n",
       " ⋮\n",
       " 0.005\n",
       " 0.005\n",
       " 0.005\n",
       " 0.005\n",
       " 0.005\n",
       " 0.005\n",
       " 0.005\n",
       " 0.005\n",
       " 0.005\n",
       " 0.005\n",
       " 0.005\n",
       " 0.005"
      ]
     },
     "execution_count": 48,
     "metadata": {},
     "output_type": "execute_result"
    }
   ],
   "source": [
    "g11 = reshape(gi[:,1]+gi[:,4], 0.3)\n",
    "g22 = reshape(gi[:,1]-gi[:,4], 0.3)"
   ]
  },
  {
   "cell_type": "code",
   "execution_count": 49,
   "metadata": {},
   "outputs": [
    {
     "data": {
      "text/plain": [
       "500-element Vector{Float64}:\n",
       " 0.0\n",
       " 0.0\n",
       " 0.0\n",
       " 0.0\n",
       " 0.0\n",
       " 0.0\n",
       " 0.0\n",
       " 0.0\n",
       " 0.0\n",
       " 0.0\n",
       " 0.0\n",
       " 0.0\n",
       " 0.0\n",
       " ⋮\n",
       " 0.0\n",
       " 0.0\n",
       " 0.0\n",
       " 0.0\n",
       " 0.0\n",
       " 0.0\n",
       " 0.0\n",
       " 0.0\n",
       " 0.0\n",
       " 0.0\n",
       " 0.0\n",
       " 0.0"
      ]
     },
     "execution_count": 49,
     "metadata": {},
     "output_type": "execute_result"
    }
   ],
   "source": [
    "gi[:,1] = (g11+g22)/2\n",
    "gi[:,4] = (g11-g22)/2"
   ]
  },
  {
   "cell_type": "code",
   "execution_count": 56,
   "metadata": {},
   "outputs": [
    {
     "data": {
      "image/svg+xml": "<?xml version=\"1.0\" encoding=\"utf-8\"?>\n<svg xmlns=\"http://www.w3.org/2000/svg\" xmlns:xlink=\"http://www.w3.org/1999/xlink\" width=\"600\" height=\"400\" viewBox=\"0 0 2400 1600\">\n<defs>\n  <clipPath id=\"clip400\">\n    <rect x=\"0\" y=\"0\" width=\"2400\" height=\"1600\"/>\n  </clipPath>\n</defs>\n<path clip-path=\"url(#clip400)\" d=\"\nM0 1600 L2400 1600 L2400 0 L0 0  Z\n  \" fill=\"#ffffff\" fill-rule=\"evenodd\" fill-opacity=\"1\"/>\n<defs>\n  <clipPath id=\"clip401\">\n    <rect x=\"480\" y=\"0\" width=\"1681\" height=\"1600\"/>\n  </clipPath>\n</defs>\n<path clip-path=\"url(#clip400)\" d=\"\nM194.422 1486.45 L2352.76 1486.45 L2352.76 47.2441 L194.422 47.2441  Z\n  \" fill=\"#ffffff\" fill-rule=\"evenodd\" fill-opacity=\"1\"/>\n<defs>\n  <clipPath id=\"clip402\">\n    <rect x=\"194\" y=\"47\" width=\"2159\" height=\"1440\"/>\n  </clipPath>\n</defs>\n<polyline clip-path=\"url(#clip402)\" style=\"stroke:#000000; stroke-linecap:round; stroke-linejoin:round; stroke-width:2; stroke-opacity:0.1; fill:none\" points=\"\n  255.507,1486.45 255.507,47.2441 \n  \"/>\n<polyline clip-path=\"url(#clip402)\" style=\"stroke:#000000; stroke-linecap:round; stroke-linejoin:round; stroke-width:2; stroke-opacity:0.1; fill:none\" points=\"\n  764.548,1486.45 764.548,47.2441 \n  \"/>\n<polyline clip-path=\"url(#clip402)\" style=\"stroke:#000000; stroke-linecap:round; stroke-linejoin:round; stroke-width:2; stroke-opacity:0.1; fill:none\" points=\"\n  1273.59,1486.45 1273.59,47.2441 \n  \"/>\n<polyline clip-path=\"url(#clip402)\" style=\"stroke:#000000; stroke-linecap:round; stroke-linejoin:round; stroke-width:2; stroke-opacity:0.1; fill:none\" points=\"\n  1782.63,1486.45 1782.63,47.2441 \n  \"/>\n<polyline clip-path=\"url(#clip402)\" style=\"stroke:#000000; stroke-linecap:round; stroke-linejoin:round; stroke-width:2; stroke-opacity:0.1; fill:none\" points=\"\n  2291.67,1486.45 2291.67,47.2441 \n  \"/>\n<polyline clip-path=\"url(#clip400)\" style=\"stroke:#000000; stroke-linecap:round; stroke-linejoin:round; stroke-width:4; stroke-opacity:1; fill:none\" points=\"\n  194.422,1486.45 2352.76,1486.45 \n  \"/>\n<polyline clip-path=\"url(#clip400)\" style=\"stroke:#000000; stroke-linecap:round; stroke-linejoin:round; stroke-width:4; stroke-opacity:1; fill:none\" points=\"\n  255.507,1486.45 255.507,1467.55 \n  \"/>\n<polyline clip-path=\"url(#clip400)\" style=\"stroke:#000000; stroke-linecap:round; stroke-linejoin:round; stroke-width:4; stroke-opacity:1; fill:none\" points=\"\n  764.548,1486.45 764.548,1467.55 \n  \"/>\n<polyline clip-path=\"url(#clip400)\" style=\"stroke:#000000; stroke-linecap:round; stroke-linejoin:round; stroke-width:4; stroke-opacity:1; fill:none\" points=\"\n  1273.59,1486.45 1273.59,1467.55 \n  \"/>\n<polyline clip-path=\"url(#clip400)\" style=\"stroke:#000000; stroke-linecap:round; stroke-linejoin:round; stroke-width:4; stroke-opacity:1; fill:none\" points=\"\n  1782.63,1486.45 1782.63,1467.55 \n  \"/>\n<polyline clip-path=\"url(#clip400)\" style=\"stroke:#000000; stroke-linecap:round; stroke-linejoin:round; stroke-width:4; stroke-opacity:1; fill:none\" points=\"\n  2291.67,1486.45 2291.67,1467.55 \n  \"/>\n<path clip-path=\"url(#clip400)\" d=\"M224.408 1532.02 L254.083 1532.02 L254.083 1535.95 L224.408 1535.95 L224.408 1532.02 Z\" fill=\"#000000\" fill-rule=\"evenodd\" fill-opacity=\"1\" /><path clip-path=\"url(#clip400)\" d=\"M277.023 1518.36 L265.218 1536.81 L277.023 1536.81 L277.023 1518.36 M275.796 1514.29 L281.676 1514.29 L281.676 1536.81 L286.606 1536.81 L286.606 1540.7 L281.676 1540.7 L281.676 1548.85 L277.023 1548.85 L277.023 1540.7 L261.421 1540.7 L261.421 1536.19 L275.796 1514.29 Z\" fill=\"#000000\" fill-rule=\"evenodd\" fill-opacity=\"1\" /><path clip-path=\"url(#clip400)\" d=\"M734.49 1532.02 L764.166 1532.02 L764.166 1535.95 L734.49 1535.95 L734.49 1532.02 Z\" fill=\"#000000\" fill-rule=\"evenodd\" fill-opacity=\"1\" /><path clip-path=\"url(#clip400)\" d=\"M778.286 1544.91 L794.606 1544.91 L794.606 1548.85 L772.661 1548.85 L772.661 1544.91 Q775.323 1542.16 779.907 1537.53 Q784.513 1532.88 785.694 1531.53 Q787.939 1529.01 788.819 1527.27 Q789.721 1525.51 789.721 1523.82 Q789.721 1521.07 787.777 1519.33 Q785.856 1517.6 782.754 1517.6 Q780.555 1517.6 778.101 1518.36 Q775.671 1519.13 772.893 1520.68 L772.893 1515.95 Q775.717 1514.82 778.171 1514.24 Q780.624 1513.66 782.661 1513.66 Q788.032 1513.66 791.226 1516.35 Q794.421 1519.03 794.421 1523.52 Q794.421 1525.65 793.61 1527.57 Q792.823 1529.47 790.717 1532.07 Q790.138 1532.74 787.036 1535.95 Q783.934 1539.15 778.286 1544.91 Z\" fill=\"#000000\" fill-rule=\"evenodd\" fill-opacity=\"1\" /><path clip-path=\"url(#clip400)\" d=\"M1273.59 1517.37 Q1269.98 1517.37 1268.15 1520.93 Q1266.34 1524.47 1266.34 1531.6 Q1266.34 1538.71 1268.15 1542.27 Q1269.98 1545.82 1273.59 1545.82 Q1277.22 1545.82 1279.03 1542.27 Q1280.86 1538.71 1280.86 1531.6 Q1280.86 1524.47 1279.03 1520.93 Q1277.22 1517.37 1273.59 1517.37 M1273.59 1513.66 Q1279.4 1513.66 1282.45 1518.27 Q1285.53 1522.85 1285.53 1531.6 Q1285.53 1540.33 1282.45 1544.94 Q1279.4 1549.52 1273.59 1549.52 Q1267.78 1549.52 1264.7 1544.94 Q1261.64 1540.33 1261.64 1531.6 Q1261.64 1522.85 1264.7 1518.27 Q1267.78 1513.66 1273.59 1513.66 Z\" fill=\"#000000\" fill-rule=\"evenodd\" fill-opacity=\"1\" /><path clip-path=\"url(#clip400)\" d=\"M1777.28 1544.91 L1793.6 1544.91 L1793.6 1548.85 L1771.66 1548.85 L1771.66 1544.91 Q1774.32 1542.16 1778.9 1537.53 Q1783.51 1532.88 1784.69 1531.53 Q1786.94 1529.01 1787.82 1527.27 Q1788.72 1525.51 1788.72 1523.82 Q1788.72 1521.07 1786.77 1519.33 Q1784.85 1517.6 1781.75 1517.6 Q1779.55 1517.6 1777.1 1518.36 Q1774.67 1519.13 1771.89 1520.68 L1771.89 1515.95 Q1774.71 1514.82 1777.17 1514.24 Q1779.62 1513.66 1781.66 1513.66 Q1787.03 1513.66 1790.22 1516.35 Q1793.42 1519.03 1793.42 1523.52 Q1793.42 1525.65 1792.61 1527.57 Q1791.82 1529.47 1789.71 1532.07 Q1789.13 1532.74 1786.03 1535.95 Q1782.93 1539.15 1777.28 1544.91 Z\" fill=\"#000000\" fill-rule=\"evenodd\" fill-opacity=\"1\" /><path clip-path=\"url(#clip400)\" d=\"M2294.68 1518.36 L2282.87 1536.81 L2294.68 1536.81 L2294.68 1518.36 M2293.45 1514.29 L2299.33 1514.29 L2299.33 1536.81 L2304.26 1536.81 L2304.26 1540.7 L2299.33 1540.7 L2299.33 1548.85 L2294.68 1548.85 L2294.68 1540.7 L2279.08 1540.7 L2279.08 1536.19 L2293.45 1514.29 Z\" fill=\"#000000\" fill-rule=\"evenodd\" fill-opacity=\"1\" /><polyline clip-path=\"url(#clip402)\" style=\"stroke:#000000; stroke-linecap:round; stroke-linejoin:round; stroke-width:2; stroke-opacity:0.1; fill:none\" points=\"\n  194.422,1327.77 2352.76,1327.77 \n  \"/>\n<polyline clip-path=\"url(#clip402)\" style=\"stroke:#000000; stroke-linecap:round; stroke-linejoin:round; stroke-width:2; stroke-opacity:0.1; fill:none\" points=\"\n  194.422,1049.06 2352.76,1049.06 \n  \"/>\n<polyline clip-path=\"url(#clip402)\" style=\"stroke:#000000; stroke-linecap:round; stroke-linejoin:round; stroke-width:2; stroke-opacity:0.1; fill:none\" points=\"\n  194.422,770.357 2352.76,770.357 \n  \"/>\n<polyline clip-path=\"url(#clip402)\" style=\"stroke:#000000; stroke-linecap:round; stroke-linejoin:round; stroke-width:2; stroke-opacity:0.1; fill:none\" points=\"\n  194.422,491.651 2352.76,491.651 \n  \"/>\n<polyline clip-path=\"url(#clip402)\" style=\"stroke:#000000; stroke-linecap:round; stroke-linejoin:round; stroke-width:2; stroke-opacity:0.1; fill:none\" points=\"\n  194.422,212.945 2352.76,212.945 \n  \"/>\n<polyline clip-path=\"url(#clip400)\" style=\"stroke:#000000; stroke-linecap:round; stroke-linejoin:round; stroke-width:4; stroke-opacity:1; fill:none\" points=\"\n  194.422,1486.45 194.422,47.2441 \n  \"/>\n<polyline clip-path=\"url(#clip400)\" style=\"stroke:#000000; stroke-linecap:round; stroke-linejoin:round; stroke-width:4; stroke-opacity:1; fill:none\" points=\"\n  194.422,1327.77 213.32,1327.77 \n  \"/>\n<polyline clip-path=\"url(#clip400)\" style=\"stroke:#000000; stroke-linecap:round; stroke-linejoin:round; stroke-width:4; stroke-opacity:1; fill:none\" points=\"\n  194.422,1049.06 213.32,1049.06 \n  \"/>\n<polyline clip-path=\"url(#clip400)\" style=\"stroke:#000000; stroke-linecap:round; stroke-linejoin:round; stroke-width:4; stroke-opacity:1; fill:none\" points=\"\n  194.422,770.357 213.32,770.357 \n  \"/>\n<polyline clip-path=\"url(#clip400)\" style=\"stroke:#000000; stroke-linecap:round; stroke-linejoin:round; stroke-width:4; stroke-opacity:1; fill:none\" points=\"\n  194.422,491.651 213.32,491.651 \n  \"/>\n<polyline clip-path=\"url(#clip400)\" style=\"stroke:#000000; stroke-linecap:round; stroke-linejoin:round; stroke-width:4; stroke-opacity:1; fill:none\" points=\"\n  194.422,212.945 213.32,212.945 \n  \"/>\n<path clip-path=\"url(#clip400)\" d=\"M50.9921 1328.22 L80.6679 1328.22 L80.6679 1332.16 L50.9921 1332.16 L50.9921 1328.22 Z\" fill=\"#000000\" fill-rule=\"evenodd\" fill-opacity=\"1\" /><path clip-path=\"url(#clip400)\" d=\"M100.76 1313.57 Q97.1493 1313.57 95.3206 1317.13 Q93.515 1320.68 93.515 1327.8 Q93.515 1334.91 95.3206 1338.48 Q97.1493 1342.02 100.76 1342.02 Q104.395 1342.02 106.2 1338.48 Q108.029 1334.91 108.029 1327.8 Q108.029 1320.68 106.2 1317.13 Q104.395 1313.57 100.76 1313.57 M100.76 1309.87 Q106.571 1309.87 109.626 1314.47 Q112.705 1319.05 112.705 1327.8 Q112.705 1336.53 109.626 1341.14 Q106.571 1345.72 100.76 1345.72 Q94.9502 1345.72 91.8715 1341.14 Q88.816 1336.53 88.816 1327.8 Q88.816 1319.05 91.8715 1314.47 Q94.9502 1309.87 100.76 1309.87 Z\" fill=\"#000000\" fill-rule=\"evenodd\" fill-opacity=\"1\" /><path clip-path=\"url(#clip400)\" d=\"M120.922 1339.17 L125.807 1339.17 L125.807 1345.05 L120.922 1345.05 L120.922 1339.17 Z\" fill=\"#000000\" fill-rule=\"evenodd\" fill-opacity=\"1\" /><path clip-path=\"url(#clip400)\" d=\"M148.839 1314.56 L137.033 1333.01 L148.839 1333.01 L148.839 1314.56 M147.612 1310.49 L153.492 1310.49 L153.492 1333.01 L158.422 1333.01 L158.422 1336.9 L153.492 1336.9 L153.492 1345.05 L148.839 1345.05 L148.839 1336.9 L133.237 1336.9 L133.237 1332.39 L147.612 1310.49 Z\" fill=\"#000000\" fill-rule=\"evenodd\" fill-opacity=\"1\" /><path clip-path=\"url(#clip400)\" d=\"M53.0754 1049.52 L82.7512 1049.52 L82.7512 1053.45 L53.0754 1053.45 L53.0754 1049.52 Z\" fill=\"#000000\" fill-rule=\"evenodd\" fill-opacity=\"1\" /><path clip-path=\"url(#clip400)\" d=\"M102.844 1034.86 Q99.2326 1034.86 97.4039 1038.43 Q95.5984 1041.97 95.5984 1049.1 Q95.5984 1056.2 97.4039 1059.77 Q99.2326 1063.31 102.844 1063.31 Q106.478 1063.31 108.283 1059.77 Q110.112 1056.2 110.112 1049.1 Q110.112 1041.97 108.283 1038.43 Q106.478 1034.86 102.844 1034.86 M102.844 1031.16 Q108.654 1031.16 111.709 1035.77 Q114.788 1040.35 114.788 1049.1 Q114.788 1057.83 111.709 1062.43 Q108.654 1067.02 102.844 1067.02 Q97.0335 1067.02 93.9549 1062.43 Q90.8993 1057.83 90.8993 1049.1 Q90.8993 1040.35 93.9549 1035.77 Q97.0335 1031.16 102.844 1031.16 Z\" fill=\"#000000\" fill-rule=\"evenodd\" fill-opacity=\"1\" /><path clip-path=\"url(#clip400)\" d=\"M123.006 1060.46 L127.89 1060.46 L127.89 1066.34 L123.006 1066.34 L123.006 1060.46 Z\" fill=\"#000000\" fill-rule=\"evenodd\" fill-opacity=\"1\" /><path clip-path=\"url(#clip400)\" d=\"M142.103 1062.41 L158.422 1062.41 L158.422 1066.34 L136.478 1066.34 L136.478 1062.41 Q139.14 1059.65 143.723 1055.02 Q148.33 1050.37 149.51 1049.03 Q151.755 1046.51 152.635 1044.77 Q153.538 1043.01 153.538 1041.32 Q153.538 1038.57 151.593 1036.83 Q149.672 1035.09 146.57 1035.09 Q144.371 1035.09 141.918 1035.86 Q139.487 1036.62 136.709 1038.17 L136.709 1033.45 Q139.533 1032.32 141.987 1031.74 Q144.441 1031.16 146.478 1031.16 Q151.848 1031.16 155.042 1033.84 Q158.237 1036.53 158.237 1041.02 Q158.237 1043.15 157.427 1045.07 Q156.64 1046.97 154.533 1049.56 Q153.955 1050.23 150.853 1053.45 Q147.751 1056.64 142.103 1062.41 Z\" fill=\"#000000\" fill-rule=\"evenodd\" fill-opacity=\"1\" /><path clip-path=\"url(#clip400)\" d=\"M101.246 756.156 Q97.6354 756.156 95.8067 759.721 Q94.0012 763.263 94.0012 770.392 Q94.0012 777.499 95.8067 781.063 Q97.6354 784.605 101.246 784.605 Q104.881 784.605 106.686 781.063 Q108.515 777.499 108.515 770.392 Q108.515 763.263 106.686 759.721 Q104.881 756.156 101.246 756.156 M101.246 752.452 Q107.057 752.452 110.112 757.059 Q113.191 761.642 113.191 770.392 Q113.191 779.119 110.112 783.725 Q107.057 788.309 101.246 788.309 Q95.4363 788.309 92.3576 783.725 Q89.3021 779.119 89.3021 770.392 Q89.3021 761.642 92.3576 757.059 Q95.4363 752.452 101.246 752.452 Z\" fill=\"#000000\" fill-rule=\"evenodd\" fill-opacity=\"1\" /><path clip-path=\"url(#clip400)\" d=\"M121.408 781.758 L126.293 781.758 L126.293 787.637 L121.408 787.637 L121.408 781.758 Z\" fill=\"#000000\" fill-rule=\"evenodd\" fill-opacity=\"1\" /><path clip-path=\"url(#clip400)\" d=\"M146.478 756.156 Q142.867 756.156 141.038 759.721 Q139.232 763.263 139.232 770.392 Q139.232 777.499 141.038 781.063 Q142.867 784.605 146.478 784.605 Q150.112 784.605 151.918 781.063 Q153.746 777.499 153.746 770.392 Q153.746 763.263 151.918 759.721 Q150.112 756.156 146.478 756.156 M146.478 752.452 Q152.288 752.452 155.343 757.059 Q158.422 761.642 158.422 770.392 Q158.422 779.119 155.343 783.725 Q152.288 788.309 146.478 788.309 Q140.668 788.309 137.589 783.725 Q134.533 779.119 134.533 770.392 Q134.533 761.642 137.589 757.059 Q140.668 752.452 146.478 752.452 Z\" fill=\"#000000\" fill-rule=\"evenodd\" fill-opacity=\"1\" /><path clip-path=\"url(#clip400)\" d=\"M102.844 477.45 Q99.2326 477.45 97.4039 481.015 Q95.5984 484.556 95.5984 491.686 Q95.5984 498.792 97.4039 502.357 Q99.2326 505.899 102.844 505.899 Q106.478 505.899 108.283 502.357 Q110.112 498.792 110.112 491.686 Q110.112 484.556 108.283 481.015 Q106.478 477.45 102.844 477.45 M102.844 473.746 Q108.654 473.746 111.709 478.353 Q114.788 482.936 114.788 491.686 Q114.788 500.413 111.709 505.019 Q108.654 509.602 102.844 509.602 Q97.0335 509.602 93.9549 505.019 Q90.8993 500.413 90.8993 491.686 Q90.8993 482.936 93.9549 478.353 Q97.0335 473.746 102.844 473.746 Z\" fill=\"#000000\" fill-rule=\"evenodd\" fill-opacity=\"1\" /><path clip-path=\"url(#clip400)\" d=\"M123.006 503.052 L127.89 503.052 L127.89 508.931 L123.006 508.931 L123.006 503.052 Z\" fill=\"#000000\" fill-rule=\"evenodd\" fill-opacity=\"1\" /><path clip-path=\"url(#clip400)\" d=\"M142.103 504.996 L158.422 504.996 L158.422 508.931 L136.478 508.931 L136.478 504.996 Q139.14 502.241 143.723 497.612 Q148.33 492.959 149.51 491.616 Q151.755 489.093 152.635 487.357 Q153.538 485.598 153.538 483.908 Q153.538 481.154 151.593 479.417 Q149.672 477.681 146.57 477.681 Q144.371 477.681 141.918 478.445 Q139.487 479.209 136.709 480.76 L136.709 476.038 Q139.533 474.904 141.987 474.325 Q144.441 473.746 146.478 473.746 Q151.848 473.746 155.042 476.431 Q158.237 479.117 158.237 483.607 Q158.237 485.737 157.427 487.658 Q156.64 489.556 154.533 492.149 Q153.955 492.82 150.853 496.038 Q147.751 499.232 142.103 504.996 Z\" fill=\"#000000\" fill-rule=\"evenodd\" fill-opacity=\"1\" /><path clip-path=\"url(#clip400)\" d=\"M100.76 198.744 Q97.1493 198.744 95.3206 202.308 Q93.515 205.85 93.515 212.98 Q93.515 220.086 95.3206 223.651 Q97.1493 227.192 100.76 227.192 Q104.395 227.192 106.2 223.651 Q108.029 220.086 108.029 212.98 Q108.029 205.85 106.2 202.308 Q104.395 198.744 100.76 198.744 M100.76 195.04 Q106.571 195.04 109.626 199.646 Q112.705 204.23 112.705 212.98 Q112.705 221.706 109.626 226.313 Q106.571 230.896 100.76 230.896 Q94.9502 230.896 91.8715 226.313 Q88.816 221.706 88.816 212.98 Q88.816 204.23 91.8715 199.646 Q94.9502 195.04 100.76 195.04 Z\" fill=\"#000000\" fill-rule=\"evenodd\" fill-opacity=\"1\" /><path clip-path=\"url(#clip400)\" d=\"M120.922 224.345 L125.807 224.345 L125.807 230.225 L120.922 230.225 L120.922 224.345 Z\" fill=\"#000000\" fill-rule=\"evenodd\" fill-opacity=\"1\" /><path clip-path=\"url(#clip400)\" d=\"M148.839 199.739 L137.033 218.188 L148.839 218.188 L148.839 199.739 M147.612 195.665 L153.492 195.665 L153.492 218.188 L158.422 218.188 L158.422 222.077 L153.492 222.077 L153.492 230.225 L148.839 230.225 L148.839 222.077 L133.237 222.077 L133.237 217.563 L147.612 195.665 Z\" fill=\"#000000\" fill-rule=\"evenodd\" fill-opacity=\"1\" /><polyline clip-path=\"url(#clip402)\" style=\"stroke:#009af9; stroke-linecap:round; stroke-linejoin:round; stroke-width:8; stroke-opacity:1; fill:none\" points=\"\n  255.507,763.525 259.588,763.525 263.668,763.525 267.748,763.525 271.829,763.525 275.909,763.525 279.99,763.525 284.07,763.525 288.151,763.525 292.231,763.525 \n  296.312,763.525 300.392,763.525 304.473,763.525 308.553,763.525 312.634,763.525 316.714,763.525 320.795,763.525 324.875,763.525 328.956,763.525 333.036,763.525 \n  337.117,763.525 341.197,766.257 345.278,765.278 349.358,764.268 353.439,763.228 357.519,762.158 361.6,761.058 365.68,759.929 369.761,758.77 373.841,757.582 \n  377.922,756.366 382.002,755.121 386.083,753.847 390.163,752.546 394.244,751.216 398.324,749.86 402.405,748.475 406.485,747.064 410.566,745.626 414.646,744.162 \n  418.727,742.672 422.807,741.157 426.888,739.616 430.968,738.05 435.049,736.46 439.129,734.847 443.21,733.21 447.29,731.55 451.37,729.867 455.451,728.163 \n  459.531,726.437 463.612,724.69 467.692,722.924 471.773,721.138 475.853,719.332 479.934,717.509 484.014,715.668 488.095,713.81 492.175,711.937 496.256,710.048 \n  500.336,708.144 504.417,706.227 508.497,704.296 512.578,702.354 516.658,700.401 520.739,698.438 524.819,696.465 528.9,694.485 532.98,692.497 537.061,690.503 \n  541.141,688.505 545.222,686.502 549.302,684.497 553.383,682.49 557.463,680.483 561.544,681.229 565.624,678.338 569.705,675.427 573.785,672.499 577.866,669.556 \n  581.946,666.6 586.027,663.635 590.107,660.661 594.188,657.683 598.268,654.702 602.349,651.72 606.429,648.741 610.51,645.767 614.59,642.801 618.671,639.846 \n  622.751,636.904 626.832,633.979 630.912,631.073 634.992,628.189 639.073,625.33 643.153,622.5 647.234,619.702 651.314,616.938 655.395,614.212 659.475,611.527 \n  663.556,608.886 667.636,606.293 671.717,603.75 675.797,601.262 679.878,598.832 683.958,596.462 688.039,594.156 692.119,591.918 696.2,589.751 700.28,587.659 \n  704.361,585.644 708.441,583.71 712.522,581.861 716.602,580.1 720.683,578.429 724.763,576.853 728.844,575.375 732.924,573.997 737.005,572.723 741.085,571.556 \n  745.166,570.499 749.246,569.554 753.327,568.725 757.407,568.015 761.488,567.425 765.568,566.958 769.649,566.617 773.729,566.403 777.81,566.319 781.89,566.366 \n  785.971,566.546 790.051,566.86 794.132,567.31 798.212,567.896 802.293,568.618 806.373,569.478 810.454,570.475 814.534,571.608 818.614,572.878 822.695,574.282 \n  826.775,575.82 830.856,577.489 834.936,579.287 839.017,581.212 843.097,583.26 847.178,585.427 851.258,587.708 855.339,590.099 859.419,592.595 863.5,595.188 \n  867.58,597.872 871.661,600.639 875.741,603.481 879.822,606.39 883.902,609.354 887.983,612.364 892.063,615.409 896.144,618.475 900.224,621.551 904.305,624.621 \n  908.385,627.671 912.466,630.685 916.546,633.648 920.627,636.54 924.707,639.344 928.788,642.039 932.868,644.607 936.949,647.025 941.029,649.271 945.11,651.323 \n  949.19,653.156 953.271,654.745 957.351,656.066 961.432,657.092 965.512,657.797 969.593,658.153 973.673,658.133 977.754,657.709 981.834,656.853 985.915,655.536 \n  989.995,653.732 994.076,651.413 998.156,648.551 1002.24,645.122 1006.32,641.101 1010.4,636.464 1014.48,631.192 1018.56,625.265 1022.64,618.669 1026.72,611.389 \n  1030.8,603.419 1034.88,594.754 1038.96,585.395 1043.04,575.349 1047.12,564.629 1051.2,553.255 1055.28,541.255 1059.36,528.665 1063.44,515.531 1067.52,501.906 \n  1071.6,487.856 1075.69,473.456 1079.77,458.791 1083.85,443.958 1087.93,429.063 1092.01,414.223 1096.09,399.563 1100.17,385.218 1104.25,371.326 1108.33,358.031 \n  1112.41,345.478 1116.49,333.808 1120.57,323.158 1124.65,313.652 1128.73,305.395 1132.81,298.47 1136.89,292.926 1140.97,288.77 1145.05,285.959 1149.13,284.386 \n  1153.21,283.869 1157.3,284.136 1161.38,284.819 1165.46,285.436 1169.54,285.389 1173.62,276.813 1177.7,267.348 1181.78,256.228 1185.86,243.051 1189.94,227.472 \n  1194.02,209.283 1198.1,188.525 1202.18,165.647 1206.26,141.703 1210.34,118.585 1214.42,99.2624 1218.5,87.9763 1222.58,90.2973 1226.66,112.905 1230.74,162.881 \n  1234.82,246.238 1238.9,365.382 1242.99,515.353 1247.07,679.247 1251.15,763.525 1255.23,763.525 1259.31,763.525 1263.39,763.42 1267.47,660.999 1271.55,755.734 \n  1275.63,755.853 1279.71,660.966 1283.79,763.162 1287.87,763.525 1291.95,763.525 1296.03,763.525 1300.11,679.277 1304.19,515.059 1308.27,364.986 1312.35,245.988 \n  1316.43,162.889 1320.51,113.118 1324.6,90.5702 1328.68,88.1672 1332.76,99.2972 1336.84,118.473 1340.92,141.514 1345,165.472 1349.08,188.439 1353.16,209.326 \n  1357.24,227.642 1361.32,243.313 1365.4,256.529 1369.48,267.629 1373.56,277.024 1377.64,285.572 1381.72,285.449 1385.8,284.657 1389.88,283.815 1393.96,283.419 \n  1398.04,283.852 1402.12,285.387 1406.2,288.206 1410.29,292.411 1414.37,298.038 1418.45,305.07 1422.53,313.447 1426.61,323.077 1430.69,333.847 1434.77,345.624 \n  1438.85,358.269 1442.93,371.636 1447.01,385.58 1451.09,399.955 1455.17,414.625 1459.25,429.457 1463.33,444.329 1467.41,459.128 1471.49,473.75 1475.57,488.101 \n  1479.65,502.098 1483.73,515.671 1487.81,528.755 1491.9,541.297 1495.98,553.255 1500.06,564.592 1504.14,575.281 1508.22,585.303 1512.3,594.643 1516.38,603.296 \n  1520.46,611.259 1524.54,618.535 1528.62,625.134 1532.7,631.065 1536.78,636.345 1540.86,640.991 1544.94,645.023 1549.02,648.463 1553.1,651.337 1557.18,653.668 \n  1561.26,655.484 1565.34,656.811 1569.42,657.678 1573.5,658.111 1577.59,658.139 1581.67,657.79 1585.75,657.091 1589.83,656.07 1593.91,654.754 1597.99,653.167 \n  1602.07,651.337 1606.15,649.288 1610.23,647.043 1614.31,644.626 1618.39,642.059 1622.47,639.364 1626.55,636.561 1630.63,633.669 1634.71,630.707 1638.79,627.692 \n  1642.87,624.642 1646.95,621.571 1651.03,618.496 1655.11,615.429 1659.2,612.384 1663.28,609.374 1667.36,606.409 1671.44,603.499 1675.52,600.656 1679.6,597.888 \n  1683.68,595.203 1687.76,592.608 1691.84,590.111 1695.92,587.718 1700,585.435 1704.08,583.265 1708.16,581.215 1712.24,579.288 1716.32,577.486 1720.4,575.814 \n  1724.48,574.272 1728.56,572.865 1732.64,571.592 1736.72,570.455 1740.8,569.454 1744.89,568.591 1748.97,567.865 1753.05,567.275 1757.13,566.822 1761.21,566.505 \n  1765.29,566.322 1769.37,566.272 1773.45,566.354 1777.53,566.565 1781.61,566.905 1785.69,567.37 1789.77,567.958 1793.85,568.668 1797.93,569.497 1802.01,570.441 \n  1806.09,571.499 1810.17,572.666 1814.25,573.941 1818.33,575.32 1822.41,576.801 1826.5,578.379 1830.58,580.052 1834.66,581.816 1838.74,583.669 1842.82,585.606 \n  1846.9,587.624 1850.98,589.721 1855.06,591.892 1859.14,594.134 1863.22,596.444 1867.3,598.818 1871.38,601.253 1875.46,603.746 1879.54,606.293 1883.62,608.891 \n  1887.7,611.536 1891.78,614.225 1895.86,616.955 1899.94,619.723 1904.02,622.526 1908.11,625.36 1912.19,628.222 1916.27,631.109 1920.35,634.018 1924.43,636.946 \n  1928.51,639.89 1932.59,642.848 1936.67,645.816 1940.75,648.791 1944.83,651.771 1948.91,654.754 1952.99,657.736 1957.07,660.714 1961.15,663.688 1965.23,666.653 \n  1969.31,669.608 1973.39,672.55 1977.47,675.477 1981.55,678.386 1985.63,681.277 1989.71,680.418 1993.8,682.428 1997.88,684.439 2001.96,686.448 2006.04,688.455 \n  2010.12,690.459 2014.2,692.459 2018.28,694.452 2022.36,696.44 2026.44,698.419 2030.52,700.39 2034.6,702.351 2038.68,704.302 2042.76,706.241 2046.84,708.167 \n  2050.92,710.079 2055,711.977 2059.08,713.86 2063.16,715.727 2067.24,717.577 2071.32,719.409 2075.41,721.222 2079.49,723.016 2083.57,724.791 2087.65,726.544 \n  2091.73,728.277 2095.81,729.987 2099.89,731.675 2103.97,733.339 2108.05,734.981 2112.13,736.597 2116.21,738.19 2120.29,739.757 2124.37,741.298 2128.45,742.813 \n  2132.53,744.302 2136.61,745.764 2140.69,747.199 2144.77,748.607 2148.85,749.986 2152.93,751.338 2157.01,752.661 2161.1,753.956 2165.18,755.221 2169.26,756.458 \n  2173.34,757.666 2177.42,758.844 2181.5,759.992 2185.58,761.111 2189.66,762.201 2193.74,763.26 2197.82,764.289 2201.9,765.288 2205.98,766.257 2210.06,763.525 \n  2214.14,763.525 2218.22,763.525 2222.3,763.525 2226.38,763.525 2230.46,763.525 2234.54,763.525 2238.62,763.525 2242.71,763.525 2246.79,763.525 2250.87,763.525 \n  2254.95,763.525 2259.03,763.525 2263.11,763.525 2267.19,763.525 2271.27,763.525 2275.35,763.525 2279.43,763.525 2283.51,763.525 2287.59,763.525 2291.67,763.525 \n  \n  \"/>\n<polyline clip-path=\"url(#clip402)\" style=\"stroke:#e26f46; stroke-linecap:round; stroke-linejoin:round; stroke-width:8; stroke-opacity:1; fill:none\" points=\"\n  255.507,770.357 259.588,770.357 263.668,770.357 267.748,770.357 271.829,770.357 275.909,770.357 279.99,770.357 284.07,770.357 288.151,770.357 292.231,770.357 \n  296.312,770.357 300.392,770.357 304.473,770.357 308.553,770.357 312.634,770.357 316.714,770.357 320.795,770.357 324.875,770.357 328.956,770.357 333.036,770.357 \n  337.117,770.357 341.197,767.625 345.278,768.605 349.358,769.615 353.439,770.655 357.519,771.725 361.6,772.825 365.68,773.954 369.761,775.113 373.841,776.3 \n  377.922,777.517 382.002,778.762 386.083,780.035 390.163,781.337 394.244,782.666 398.324,784.023 402.405,785.408 406.485,786.819 410.566,788.257 414.646,789.721 \n  418.727,791.211 422.807,792.726 426.888,794.267 430.968,795.833 435.049,797.422 439.129,799.036 443.21,800.673 447.29,802.333 451.37,804.016 455.451,805.72 \n  459.531,807.446 463.612,809.192 467.692,810.959 471.773,812.745 475.853,814.55 479.934,816.374 484.014,818.215 488.095,820.072 492.175,821.946 496.256,823.835 \n  500.336,825.739 504.417,827.656 508.497,829.586 512.578,831.529 516.658,833.482 520.739,835.445 524.819,837.417 528.9,839.398 532.98,841.386 537.061,843.379 \n  541.141,845.378 545.222,847.381 549.302,849.386 553.383,851.393 557.463,853.4 561.544,858.159 565.624,859.276 569.705,860.366 573.785,861.43 577.866,862.466 \n  581.946,863.475 586.027,864.456 590.107,865.408 594.188,866.332 598.268,867.225 602.349,868.089 606.429,868.922 610.51,869.724 614.59,870.494 618.671,871.232 \n  622.751,871.937 626.832,872.609 630.912,873.247 634.992,873.85 639.073,874.419 643.153,874.951 647.234,875.448 651.314,875.907 655.395,876.329 659.475,876.713 \n  663.556,877.058 667.636,877.363 671.717,877.628 675.797,877.852 679.878,878.034 683.958,878.173 688.039,878.27 692.119,878.322 696.2,878.329 700.28,878.291 \n  704.361,878.206 708.441,878.074 712.522,877.894 716.602,877.664 720.683,877.384 724.763,877.054 728.844,876.672 732.924,876.236 737.005,875.747 741.085,875.204 \n  745.166,874.604 749.246,873.948 753.327,873.235 757.407,872.462 761.488,871.63 765.568,870.737 769.649,869.783 773.729,868.766 777.81,867.685 781.89,866.539 \n  785.971,865.328 790.051,864.049 794.132,862.704 798.212,861.289 802.293,859.805 806.373,858.25 810.454,856.624 814.534,854.925 818.614,853.153 822.695,851.306 \n  826.775,849.385 830.856,847.387 834.936,845.313 839.017,843.161 843.097,840.93 847.178,838.62 851.258,836.23 855.339,833.759 859.419,831.206 863.5,828.571 \n  867.58,825.852 871.661,823.049 875.741,820.161 879.822,817.188 883.902,814.127 887.983,810.979 892.063,807.743 896.144,804.417 900.224,801 904.305,797.492 \n  908.385,793.892 912.466,790.198 916.546,786.409 920.627,782.524 924.707,778.541 928.788,774.46 932.868,770.279 936.949,765.997 941.029,761.612 945.11,757.123 \n  949.19,752.529 953.271,747.827 957.351,743.017 961.432,738.098 965.512,733.067 969.593,727.924 973.673,722.668 977.754,717.296 981.834,711.809 985.915,706.205 \n  989.995,700.483 994.076,694.641 998.156,688.68 1002.24,682.598 1006.32,676.393 1010.4,670.066 1014.48,663.615 1018.56,657.038 1022.64,650.334 1026.72,643.502 \n  1030.8,636.539 1034.88,629.442 1038.96,622.21 1043.04,614.839 1047.12,607.325 1051.2,599.665 1055.28,591.854 1059.36,583.888 1063.44,575.761 1067.52,567.47 \n  1071.6,559.009 1075.69,550.374 1079.77,541.561 1083.85,532.565 1087.93,523.384 1092.01,514.015 1096.09,504.457 1100.17,494.707 1104.25,484.764 1108.33,474.627 \n  1112.41,464.292 1116.49,453.756 1120.57,443.013 1124.65,432.053 1128.73,420.863 1132.81,409.426 1136.89,397.72 1140.97,385.722 1145.05,373.403 1149.13,360.735 \n  1153.21,347.692 1157.3,334.252 1161.38,320.404 1165.46,306.148 1169.54,291.5 1173.62,283.645 1177.7,274.18 1181.78,263.06 1185.86,249.883 1189.94,234.304 \n  1194.02,216.115 1198.1,195.357 1202.18,172.479 1206.26,148.535 1210.34,125.417 1214.42,106.095 1218.5,94.8084 1222.58,97.1294 1226.66,119.737 1230.74,169.714 \n  1234.82,253.07 1238.9,372.214 1242.99,522.185 1247.07,686.079 1251.15,770.357 1255.23,770.357 1259.31,770.357 1263.39,770.253 1267.47,667.831 1271.55,762.566 \n  1275.63,778.03 1279.71,872.917 1283.79,770.721 1287.87,770.357 1291.95,770.357 1296.03,770.357 1300.11,854.605 1304.19,1018.82 1308.27,1168.9 1312.35,1287.89 \n  1316.43,1370.99 1320.51,1420.76 1324.6,1443.31 1328.68,1445.72 1332.76,1434.59 1336.84,1415.41 1340.92,1392.37 1345,1368.41 1349.08,1345.44 1353.16,1324.56 \n  1357.24,1306.24 1361.32,1290.57 1365.4,1277.35 1369.48,1266.25 1373.56,1256.86 1377.64,1249.18 1381.72,1234.6 1385.8,1220.39 1389.88,1206.58 1393.96,1193.15 \n  1398.04,1180.09 1402.12,1167.4 1406.2,1155.05 1410.29,1143.02 1414.37,1131.29 1418.45,1119.84 1422.53,1108.63 1426.61,1097.67 1430.69,1086.93 1434.77,1076.4 \n  1438.85,1066.08 1442.93,1055.95 1447.01,1046.02 1451.09,1036.27 1455.17,1026.72 1459.25,1017.35 1463.33,1008.17 1467.41,999.171 1471.49,990.356 1475.57,981.72 \n  1479.65,973.259 1483.73,964.97 1487.81,956.848 1491.9,948.887 1495.98,941.083 1500.06,933.431 1504.14,925.925 1508.22,918.561 1512.3,911.334 1516.38,904.241 \n  1520.46,897.278 1524.54,890.441 1528.62,883.73 1532.7,877.142 1536.78,870.675 1540.86,864.328 1544.94,858.101 1549.02,851.994 1553.1,846.005 1557.18,840.136 \n  1561.26,834.385 1565.34,828.754 1569.42,823.241 1573.5,817.846 1577.59,812.569 1581.67,807.41 1585.75,802.367 1589.83,797.44 1593.91,792.628 1597.99,787.929 \n  1602.07,783.343 1606.15,778.866 1610.23,774.499 1614.31,770.238 1618.39,766.083 1622.47,762.031 1626.55,758.08 1630.63,754.228 1634.71,750.474 1638.79,746.815 \n  1642.87,743.25 1646.95,739.777 1651.03,736.395 1655.11,733.101 1659.2,729.895 1663.28,726.774 1667.36,723.738 1671.44,720.786 1675.52,717.916 1679.6,715.127 \n  1683.68,712.419 1687.76,709.791 1691.84,707.242 1695.92,704.771 1700,702.378 1704.08,700.062 1708.16,697.823 1712.24,695.66 1716.32,693.572 1720.4,691.559 \n  1724.48,689.621 1728.56,687.756 1732.64,685.965 1736.72,684.247 1740.8,682.601 1744.89,681.027 1748.97,679.523 1753.05,678.09 1757.13,676.726 1761.21,675.431 \n  1765.29,674.204 1769.37,673.043 1773.45,671.949 1777.53,670.92 1781.61,669.954 1785.69,669.052 1789.77,668.212 1793.85,667.433 1797.93,666.714 1802.01,666.054 \n  1806.09,665.452 1810.17,664.907 1814.25,664.417 1818.33,663.981 1822.41,663.599 1826.5,663.269 1830.58,662.991 1834.66,662.762 1838.74,662.583 1842.82,662.452 \n  1846.9,662.368 1850.98,662.331 1855.06,662.339 1859.14,662.391 1863.22,662.486 1867.3,662.624 1871.38,662.804 1875.46,663.025 1879.54,663.287 1883.62,663.588 \n  1887.7,663.928 1891.78,664.306 1895.86,664.722 1899.94,665.175 1904.02,665.664 1908.11,666.189 1912.19,666.75 1916.27,667.346 1920.35,667.976 1924.43,668.639 \n  1928.51,669.337 1932.59,670.067 1936.67,670.83 1940.75,671.625 1944.83,672.452 1948.91,673.31 1952.99,674.199 1957.07,675.119 1961.15,676.069 1965.23,677.048 \n  1969.31,678.057 1973.39,679.094 1977.47,680.16 1981.55,681.254 1985.63,682.375 1989.71,687.251 1993.8,689.261 1997.88,691.271 2001.96,693.28 2006.04,695.287 \n  2010.12,697.291 2014.2,699.291 2018.28,701.285 2022.36,703.272 2026.44,705.252 2030.52,707.222 2034.6,709.184 2038.68,711.134 2042.76,713.073 2046.84,714.999 \n  2050.92,716.911 2055,718.81 2059.08,720.692 2063.16,722.559 2067.24,724.409 2071.32,726.241 2075.41,728.054 2079.49,729.848 2083.57,731.623 2087.65,733.376 \n  2091.73,735.109 2095.81,736.819 2099.89,738.507 2103.97,740.172 2108.05,741.813 2112.13,743.43 2116.21,745.022 2120.29,746.589 2124.37,748.13 2128.45,749.645 \n  2132.53,751.134 2136.61,752.596 2140.69,754.031 2144.77,755.439 2148.85,756.818 2152.93,758.17 2157.01,759.493 2161.1,760.788 2165.18,762.053 2169.26,763.29 \n  2173.34,764.498 2177.42,765.676 2181.5,766.825 2185.58,767.943 2189.66,769.033 2193.74,770.092 2197.82,771.121 2201.9,772.12 2205.98,773.089 2210.06,770.357 \n  2214.14,770.357 2218.22,770.357 2222.3,770.357 2226.38,770.357 2230.46,770.357 2234.54,770.357 2238.62,770.357 2242.71,770.357 2246.79,770.357 2250.87,770.357 \n  2254.95,770.357 2259.03,770.357 2263.11,770.357 2267.19,770.357 2271.27,770.357 2275.35,770.357 2279.43,770.357 2283.51,770.357 2287.59,770.357 2291.67,770.357 \n  \n  \"/>\n<path clip-path=\"url(#clip400)\" d=\"\nM1988.57 250.738 L2280.81 250.738 L2280.81 95.2176 L1988.57 95.2176  Z\n  \" fill=\"#ffffff\" fill-rule=\"evenodd\" fill-opacity=\"1\"/>\n<polyline clip-path=\"url(#clip400)\" style=\"stroke:#000000; stroke-linecap:round; stroke-linejoin:round; stroke-width:4; stroke-opacity:1; fill:none\" points=\"\n  1988.57,250.738 2280.81,250.738 2280.81,95.2176 1988.57,95.2176 1988.57,250.738 \n  \"/>\n<polyline clip-path=\"url(#clip400)\" style=\"stroke:#009af9; stroke-linecap:round; stroke-linejoin:round; stroke-width:4; stroke-opacity:1; fill:none\" points=\"\n  2012.55,147.058 2156.44,147.058 \n  \"/>\n<path clip-path=\"url(#clip400)\" d=\"M2194.26 166.745 Q2192.46 171.375 2190.74 172.787 Q2189.03 174.199 2186.16 174.199 L2182.76 174.199 L2182.76 170.634 L2185.26 170.634 Q2187.02 170.634 2187.99 169.8 Q2188.96 168.967 2190.14 165.865 L2190.9 163.921 L2180.42 138.412 L2184.93 138.412 L2193.03 158.689 L2201.14 138.412 L2205.65 138.412 L2194.26 166.745 Z\" fill=\"#000000\" fill-rule=\"evenodd\" fill-opacity=\"1\" /><path clip-path=\"url(#clip400)\" d=\"M2212.94 160.402 L2220.58 160.402 L2220.58 134.037 L2212.27 135.703 L2212.27 131.444 L2220.53 129.778 L2225.21 129.778 L2225.21 160.402 L2232.85 160.402 L2232.85 164.338 L2212.94 164.338 L2212.94 160.402 Z\" fill=\"#000000\" fill-rule=\"evenodd\" fill-opacity=\"1\" /><polyline clip-path=\"url(#clip400)\" style=\"stroke:#e26f46; stroke-linecap:round; stroke-linejoin:round; stroke-width:4; stroke-opacity:1; fill:none\" points=\"\n  2012.55,198.898 2156.44,198.898 \n  \"/>\n<path clip-path=\"url(#clip400)\" d=\"M2194.26 218.585 Q2192.46 223.215 2190.74 224.627 Q2189.03 226.039 2186.16 226.039 L2182.76 226.039 L2182.76 222.474 L2185.26 222.474 Q2187.02 222.474 2187.99 221.64 Q2188.96 220.807 2190.14 217.705 L2190.9 215.761 L2180.42 190.252 L2184.93 190.252 L2193.03 210.529 L2201.14 190.252 L2205.65 190.252 L2194.26 218.585 Z\" fill=\"#000000\" fill-rule=\"evenodd\" fill-opacity=\"1\" /><path clip-path=\"url(#clip400)\" d=\"M2216.16 212.242 L2232.48 212.242 L2232.48 216.178 L2210.53 216.178 L2210.53 212.242 Q2213.2 209.488 2217.78 204.858 Q2222.39 200.205 2223.57 198.863 Q2225.81 196.34 2226.69 194.604 Q2227.59 192.844 2227.59 191.155 Q2227.59 188.4 2225.65 186.664 Q2223.73 184.928 2220.63 184.928 Q2218.43 184.928 2215.97 185.692 Q2213.54 186.455 2210.77 188.006 L2210.77 183.284 Q2213.59 182.15 2216.04 181.571 Q2218.5 180.993 2220.53 180.993 Q2225.9 180.993 2229.1 183.678 Q2232.29 186.363 2232.29 190.854 Q2232.29 192.983 2231.48 194.905 Q2230.7 196.803 2228.59 199.395 Q2228.01 200.067 2224.91 203.284 Q2221.81 206.479 2216.16 212.242 Z\" fill=\"#000000\" fill-rule=\"evenodd\" fill-opacity=\"1\" /></svg>\n"
     },
     "execution_count": 56,
     "metadata": {},
     "output_type": "execute_result"
    }
   ],
   "source": [
    "plot(w_mesh, gi[:,1], linewidth=2.0)\n",
    "plot!(w_mesh, gi[:,4], linewidth=2.0)\n",
    "#plot(w_mesh, gi[:,1]-gi[:,4], linewidth=2.0)\n",
    "#plot!(w_mesh, gi[:,1]+gi[:,4], linewidth=2.0)"
   ]
  },
  {
   "cell_type": "code",
   "execution_count": 53,
   "metadata": {},
   "outputs": [
    {
     "data": {
      "text/plain": [
       "renorm_rho (generic function with 1 method)"
      ]
     },
     "execution_count": 53,
     "metadata": {},
     "output_type": "execute_result"
    }
   ],
   "source": [
    "f(beta::Float64, w::Float64) = 1.0/(1.0+exp(beta*w))\n",
    "function renorm_rho(beta::Float64, w::Vector{Float64}, rho::Vector{Float64})\n",
    "    n = 0.0\n",
    "    dw = w[2]-w[1]\n",
    "    for i in 1:length(w)\n",
    "        n += dw * rho[i] * f(beta, w[i])\n",
    "    end\n",
    "    #rho1 = (0.5/n) * rho\n",
    "    #return rho1\n",
    "    return n\n",
    "end"
   ]
  },
  {
   "cell_type": "code",
   "execution_count": 54,
   "metadata": {},
   "outputs": [
    {
     "data": {
      "text/plain": [
       "0.5099196562596192"
      ]
     },
     "execution_count": 54,
     "metadata": {},
     "output_type": "execute_result"
    }
   ],
   "source": [
    "nn = renorm_rho(irx.beta, w_mesh, gi[:,1])"
   ]
  },
  {
   "cell_type": "code",
   "execution_count": 55,
   "metadata": {},
   "outputs": [
    {
     "data": {
      "text/plain": [
       "500×4 Matrix{Float64}:\n",
       " 0.00490273  -0.000532058   4.39906e-5   0.0\n",
       " 0.00490273  -0.000424945   4.08718e-5   0.0\n",
       " 0.00490273  -0.000331557   3.69655e-5   0.0\n",
       " 0.00490273  -0.000250644   3.24299e-5   0.0\n",
       " 0.00490273  -0.000181031   2.74123e-5   0.0\n",
       " 0.00490273  -0.00012162    2.20489e-5   0.0\n",
       " 0.00490273  -7.13822e-5    1.64653e-5   0.0\n",
       " 0.00490273  -2.93565e-5    1.07767e-5   0.0\n",
       " 0.00490273   5.35056e-6    5.08781e-6   0.0\n",
       " 0.00490273   3.35692e-5   -5.06553e-7   0.0\n",
       " 0.00490273   5.60681e-5   -5.92131e-6   0.0\n",
       " 0.00490273   7.35572e-5   -1.10808e-5   0.0\n",
       " 0.00490273   8.66899e-5   -1.59187e-5   0.0\n",
       " ⋮                                       \n",
       " 0.00490273   4.24307e-5    2.74147e-5   0.0\n",
       " 0.00490273   5.06724e-5    1.35215e-5   0.0\n",
       " 0.00490273   6.00051e-5    6.60272e-10  0.0\n",
       " 0.00490273   7.05565e-5   -1.26788e-5   0.0\n",
       " 0.00490273   8.24618e-5   -2.39887e-5   0.0\n",
       " 0.00490273   9.58631e-5   -3.33393e-5   0.0\n",
       " 0.00490273   0.00011091   -4.00759e-5   0.0\n",
       " 0.00490273   0.000127758  -4.34759e-5   0.0\n",
       " 0.00490273   0.000146572  -4.27454e-5   0.0\n",
       " 0.00490273   0.000167522  -3.7017e-5    0.0\n",
       " 0.00490273   0.000190786  -2.53456e-5   0.0\n",
       " 0.00490273   0.000216547  -6.70622e-6   0.0"
      ]
     },
     "execution_count": 55,
     "metadata": {},
     "output_type": "execute_result"
    }
   ],
   "source": [
    "gi = (0.5/nn) * gi"
   ]
  },
  {
   "cell_type": "code",
   "execution_count": 1,
   "metadata": {},
   "outputs": [],
   "source": [
    "using Distributed"
   ]
  },
  {
   "cell_type": "code",
   "execution_count": 2,
   "metadata": {},
   "outputs": [
    {
     "data": {
      "text/plain": [
       "4-element Vector{Int64}:\n",
       " 2\n",
       " 3\n",
       " 4\n",
       " 5"
      ]
     },
     "execution_count": 2,
     "metadata": {},
     "output_type": "execute_result"
    }
   ],
   "source": [
    "addprocs(4)"
   ]
  },
  {
   "cell_type": "code",
   "execution_count": 11,
   "metadata": {},
   "outputs": [],
   "source": [
    "@everywhere using SharedArrays"
   ]
  },
  {
   "cell_type": "code",
   "execution_count": 19,
   "metadata": {},
   "outputs": [
    {
     "data": {
      "text/plain": [
       "8-element SharedVector{Float64}:\n",
       " 0.0\n",
       " 0.0\n",
       " 0.0\n",
       " 0.0\n",
       " 0.0\n",
       " 0.0\n",
       " 0.0\n",
       " 0.0"
      ]
     },
     "execution_count": 19,
     "metadata": {},
     "output_type": "execute_result"
    }
   ],
   "source": [
    "a = SharedArray{Float64}(8)"
   ]
  },
  {
   "cell_type": "code",
   "execution_count": 21,
   "metadata": {},
   "outputs": [
    {
     "data": {
      "text/plain": [
       "Task (runnable) @0x000000010f5270f0"
      ]
     },
     "execution_count": 21,
     "metadata": {},
     "output_type": "execute_result"
    }
   ],
   "source": [
    "@distributed for i in 1:8\n",
    "    a[i] = 5\n",
    "end"
   ]
  },
  {
   "cell_type": "code",
   "execution_count": 22,
   "metadata": {},
   "outputs": [
    {
     "data": {
      "text/plain": [
       "8-element SharedVector{Float64}:\n",
       " 5.0\n",
       " 5.0\n",
       " 5.0\n",
       " 5.0\n",
       " 5.0\n",
       " 5.0\n",
       " 5.0\n",
       " 5.0"
      ]
     },
     "execution_count": 22,
     "metadata": {},
     "output_type": "execute_result"
    }
   ],
   "source": [
    "a"
   ]
  },
  {
   "cell_type": "code",
   "execution_count": 28,
   "metadata": {},
   "outputs": [
    {
     "data": {
      "text/plain": [
       "100×2×2 SharedArray{Float64, 3}:\n",
       "[:, :, 1] =\n",
       " 0.0  0.0\n",
       " 0.0  0.0\n",
       " 0.0  0.0\n",
       " 0.0  0.0\n",
       " 0.0  0.0\n",
       " 0.0  0.0\n",
       " 0.0  0.0\n",
       " 0.0  0.0\n",
       " 0.0  0.0\n",
       " 0.0  0.0\n",
       " 0.0  0.0\n",
       " 0.0  0.0\n",
       " 0.0  0.0\n",
       " ⋮    \n",
       " 0.0  0.0\n",
       " 0.0  0.0\n",
       " 0.0  0.0\n",
       " 0.0  0.0\n",
       " 0.0  0.0\n",
       " 0.0  0.0\n",
       " 0.0  0.0\n",
       " 0.0  0.0\n",
       " 0.0  0.0\n",
       " 0.0  0.0\n",
       " 0.0  0.0\n",
       " 0.0  0.0\n",
       "\n",
       "[:, :, 2] =\n",
       " 0.0  0.0\n",
       " 0.0  0.0\n",
       " 0.0  0.0\n",
       " 0.0  0.0\n",
       " 0.0  0.0\n",
       " 0.0  0.0\n",
       " 0.0  0.0\n",
       " 0.0  0.0\n",
       " 0.0  0.0\n",
       " 0.0  0.0\n",
       " 0.0  0.0\n",
       " 0.0  0.0\n",
       " 0.0  0.0\n",
       " ⋮    \n",
       " 0.0  0.0\n",
       " 0.0  0.0\n",
       " 0.0  0.0\n",
       " 0.0  0.0\n",
       " 0.0  0.0\n",
       " 0.0  0.0\n",
       " 0.0  0.0\n",
       " 0.0  0.0\n",
       " 0.0  0.0\n",
       " 0.0  0.0\n",
       " 0.0  0.0\n",
       " 0.0  0.0"
      ]
     },
     "execution_count": 28,
     "metadata": {},
     "output_type": "execute_result"
    }
   ],
   "source": [
    "z = SharedArray{Float64, 3}(100, 2, 2)"
   ]
  },
  {
   "cell_type": "code",
   "execution_count": 29,
   "metadata": {},
   "outputs": [
    {
     "data": {
      "text/plain": [
       "2×2 Matrix{Float64}:\n",
       " 0.0  0.0\n",
       " 0.0  0.0"
      ]
     },
     "execution_count": 29,
     "metadata": {},
     "output_type": "execute_result"
    }
   ],
   "source": [
    "z[1,:,:]"
   ]
  },
  {
   "cell_type": "code",
   "execution_count": 30,
   "metadata": {},
   "outputs": [
    {
     "data": {
      "text/plain": [
       "2×2 Matrix{Float64}:\n",
       " 2.0  1.0\n",
       " 2.0  1.0"
      ]
     },
     "execution_count": 30,
     "metadata": {},
     "output_type": "execute_result"
    }
   ],
   "source": [
    "z[1,:,:] = [2.0 1.0; 2.0 1.0]"
   ]
  },
  {
   "cell_type": "code",
   "execution_count": null,
   "metadata": {},
   "outputs": [],
   "source": []
  }
 ],
 "metadata": {
  "kernelspec": {
   "display_name": "Julia 1.8.2",
   "language": "julia",
   "name": "julia-1.8"
  },
  "language_info": {
   "file_extension": ".jl",
   "mimetype": "application/julia",
   "name": "julia",
   "version": "1.8.2"
  },
  "orig_nbformat": 4,
  "vscode": {
   "interpreter": {
    "hash": "ba9adc20f5d2cbd026ba97e5cdba9f52f75b0bad1640aec7f9933b7bf8f6712d"
   }
  }
 },
 "nbformat": 4,
 "nbformat_minor": 2
}
