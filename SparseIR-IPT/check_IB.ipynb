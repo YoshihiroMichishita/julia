{
 "cells": [
  {
   "cell_type": "code",
   "execution_count": 1,
   "metadata": {},
   "outputs": [],
   "source": [
    "include(\"model_2D_IB.jl\")\n",
    "\n",
    "using SparseIR, Plots\n",
    "#using OMEinsum\n",
    "#using FastGaussQuadrature\n",
    "import SparseIR: valueim, value\n",
    "import SparseIR: fit"
   ]
  },
  {
   "cell_type": "code",
   "execution_count": 2,
   "metadata": {},
   "outputs": [
    {
     "data": {
      "text/plain": [
       "gk_m (generic function with 1 method)"
      ]
     },
     "execution_count": 2,
     "metadata": {},
     "output_type": "execute_result"
    }
   ],
   "source": [
    "struct IR_params\n",
    "    U::Float64\n",
    "    beta::Float64\n",
    "    bw::Float64\n",
    "    basis::FiniteTempBasis\n",
    "    #{Fermionic, LogisticKernel, Float64, Float64}\n",
    "    \n",
    "    smpl_matsu::MatsubaraSampling64F\n",
    "    smpl_tau::TauSampling64\n",
    "\n",
    "    n_matsu::Int\n",
    "    n_tau::Int\n",
    "\n",
    "    smpl_wn::Vector{ComplexF64}\n",
    "end\n",
    "\n",
    "function set_IR(U::Float64, beta::Float64, bw::Float64)\n",
    "    basis = FiniteTempBasis(Fermionic(), beta, bw, 1e-10)\n",
    "\n",
    "    smpl_matsu = MatsubaraSampling(basis)\n",
    "    n_matsu = size(smpl_matsu.sampling_points)[1]\n",
    "\n",
    "    smpl_tau = TauSampling(basis)\n",
    "    n_tau = size(smpl_tau.sampling_points)[1]\n",
    "\n",
    "    smpl_wn = zeros(ComplexF64, n_matsu)\n",
    "    for w in 1:n_matsu\n",
    "        smpl_wn[w] = valueim(smpl_matsu.sampling_points[w], beta)\n",
    "    end\n",
    "\n",
    "    return U, beta, bw, basis, smpl_matsu, smpl_tau, n_matsu, n_tau, smpl_wn\n",
    "end\n",
    "\n",
    "mutable struct Green_Sigma\n",
    "    g0_ir::Vector{Matrix{ComplexF64}}\n",
    "    g0_ir_vec::Matrix{Float64}\n",
    "    g0_tau::Vector{Matrix{ComplexF64}}\n",
    "    g_tau::Vector{Matrix{ComplexF64}}\n",
    "    g0_matsu::Vector{Matrix{ComplexF64}}\n",
    "\n",
    "    g_ir::Vector{Matrix{ComplexF64}}\n",
    "    g_ir_vec::Matrix{Float64}\n",
    "    g_matsu::Vector{Matrix{ComplexF64}}\n",
    "\n",
    "    sigma_ir::Vector{Matrix{ComplexF64}}\n",
    "    sigma_tau::Vector{Matrix{ComplexF64}}\n",
    "    sigma_matsu::Vector{Matrix{ComplexF64}}\n",
    "\n",
    "    n_ir::Int\n",
    "end\n",
    "\n",
    "function init_zero_g(ir::IR_params)\n",
    "    \n",
    "    g0_ir::Vector{Matrix{ComplexF64}} = []\n",
    "    g0_ir_vec = zeros(Float64, 43, 4)\n",
    "    g0_tau::Vector{Matrix{ComplexF64}} = []\n",
    "    g_tau::Vector{Matrix{ComplexF64}} = []\n",
    "    g0_matsu::Vector{Matrix{ComplexF64}} = []\n",
    "\n",
    "    g_ir::Vector{Matrix{ComplexF64}} = []\n",
    "    g_ir_vec = zeros(Float64, 43, 4)\n",
    "    g_matsu::Vector{Matrix{ComplexF64}} = []\n",
    "\n",
    "    sigma_ir::Vector{Matrix{ComplexF64}} = []\n",
    "    sigma_tau::Vector{Matrix{ComplexF64}} = []\n",
    "    sigma_matsu::Vector{Matrix{ComplexF64}} = []\n",
    "\n",
    "    n_ir::Int = 0\n",
    "\n",
    "    return g0_ir, g0_ir_vec, g0_tau, g_tau, g0_matsu, g_ir, g_ir_vec, g_matsu, sigma_ir, sigma_tau, sigma_matsu, n_ir\n",
    "end\n",
    "\n",
    "\n",
    "function gk_m(p::Parm, k::Vector{Float64}, w::ComplexF64, g::Green_Sigma)\n",
    "    e = set_H(k,p)\n",
    "    gk = 1.0/(w - e - g.sig)\n",
    "    return gk\n",
    "end\n"
   ]
  },
  {
   "cell_type": "code",
   "execution_count": 3,
   "metadata": {},
   "outputs": [
    {
     "name": "stdout",
     "output_type": "stream",
     "text": [
      "Parm(0.5, 0.2, 0.005, -2.0, 0.05, 200, 2.5e-5)\n"
     ]
    }
   ],
   "source": [
    "#t_i, t_b, Δ, mu0, eta, K_SIZE\n",
    "px = Parm(set_parm([\"0.5\",\"0.2\",\"0.005\", \"-2.0\", \"0.05\", \"200\"])...)\n",
    "#U, beta, bw\n",
    "irx = IR_params(set_IR(4.0, 100.0, 3.0)...)\n",
    "println(px)\n"
   ]
  },
  {
   "cell_type": "code",
   "execution_count": 4,
   "metadata": {},
   "outputs": [
    {
     "name": "stdout",
     "output_type": "stream",
     "text": [
      "gx\n"
     ]
    }
   ],
   "source": [
    "#gx = Green_Sigma(init_zero_g(irx)...)\n",
    "kk = get_kk(px.K_SIZE)\n",
    "println(\"gx\")"
   ]
  },
  {
   "cell_type": "code",
   "execution_count": 16,
   "metadata": {},
   "outputs": [
    {
     "data": {
      "text/plain": [
       "get_G0mlocal! (generic function with 1 method)"
      ]
     },
     "execution_count": 16,
     "metadata": {},
     "output_type": "execute_result"
    }
   ],
   "source": [
    "\n",
    "function get_G0mlocal!(p::Parm, k_BZ::Vector{Vector{Float64}}, sw::Int,ir::IR_params, g::Green_Sigma)\n",
    "    if(sw == 1)\n",
    "        for wn in 1:ir.n_matsu\n",
    "            gw_l = zeros(ComplexF64, 2, 2)\n",
    "            gl = zeros(ComplexF64, 2, 2)\n",
    "            for i in 1:length(k_BZ)\n",
    "                e = set_H(k_BZ[i],p) - p.mu*sigma[1]\n",
    "                #gk = 1.0/(w - e + p.eta*1.0im*sign(imag(w)))\n",
    "                gk = inv(ir.smpl_wn[wn]*sigma[1] - e)\n",
    "                gw_l += p.dk2 * gk\n",
    "            end\n",
    "            push!(g.g0_matsu, gw_l)\n",
    "            push!(g.g_matsu, gl)\n",
    "        end\n",
    "    else\n",
    "        if(sw==2)\n",
    "            n_sub = -sigma[2]*g.g0_tau[end]*sigma[2]\n",
    "        else\n",
    "            n_sub = -sigma[2]*g.g_tau[end]*sigma[2]\n",
    "        end\n",
    "        #n_sub = -(sigma[2]*g.g0_tau[1]*sigma[2])\n",
    "        n_re = real(n_sub[1,1]+n_sub[2,2])\n",
    "        n_sub = n_sub ./ n_re\n",
    "        for wn in 1:ir.n_matsu\n",
    "            #gw_l = zeros(ComplexF64, 2, 2)\n",
    "            gl = zeros(ComplexF64, 2, 2)\n",
    "            for i in 1:length(k_BZ)\n",
    "                #e = set_H(k_BZ[i],p) - p.mu*Matrix{Complex{Float64}}(I,2,2) - p.Δ*sigma[4]\n",
    "                #gk = 1.0/(w - e + p.eta*1.0im*sign(imag(w)))\n",
    "                #e = set_H(k_BZ[i],p) - p.Δ*sigma[4]\n",
    "                e = set_H(k_BZ[i],p) - p.Δ*sigma[4]\n",
    "                #gk = inv(ir.smpl_wn[wn]*sigma[1] - e - g.sigma_matsu[wn]- ir.U * n_sub)\n",
    "                gk = inv(ir.smpl_wn[wn]*sigma[1] - e - g.sigma_matsu[wn] -ir.U * n_sub)\n",
    "                #gk = inv(ir.smpl_wn[wn]*sigma[1] - e- ir.U * n_sub)\n",
    "                #gk = inv(ir.smpl_wn[wn]*sigma[1] - e)\n",
    "                gl += p.dk2 * gk\n",
    "            end\n",
    "            #gw_l = inv(inv(gl) + g.sigma_matsu[wn])\n",
    "            #g.g0_matsu[wn] = gw_l\n",
    "            g.g_matsu[wn] = gl\n",
    "        end\n",
    "        #println(\"n_sum:$(n_re), n_sub11:$(real(n_sub[1,1])), n_sub11:$(real(n_sub[2,2]))\")\n",
    "        for wn in 1:ir.n_matsu\n",
    "            g.g0_matsu[wn] = inv(inv(g.g_matsu[wn]) + g.sigma_matsu[wn])\n",
    "            #g.g0_matsu[wn] = inv(inv(g.g_matsu[wn])) \n",
    "        end\n",
    "        #println(g.sigma_matsu[10])\n",
    "    end\n",
    "    return nothing\n",
    "end"
   ]
  },
  {
   "cell_type": "code",
   "execution_count": 6,
   "metadata": {},
   "outputs": [
    {
     "data": {
      "text/plain": [
       "MatsuToTau! (generic function with 1 method)"
      ]
     },
     "execution_count": 6,
     "metadata": {},
     "output_type": "execute_result"
    }
   ],
   "source": [
    "function MatsuToTau!(ir::IR_params, g::Green_Sigma)\n",
    "    g.g0_ir = fit(ir.smpl_matsu, g.g0_matsu, dim=1)\n",
    "    g.g_ir = fit(ir.smpl_matsu, g.g_matsu, dim=1)\n",
    "    g.n_ir = size(g.g0_ir)[1]\n",
    "    g.g0_tau = evaluate(ir.smpl_tau, g.g0_ir, dim=1)\n",
    "    g.g_tau = evaluate(ir.smpl_tau, g.g_ir, dim=1)\n",
    "end"
   ]
  },
  {
   "cell_type": "code",
   "execution_count": 31,
   "metadata": {},
   "outputs": [],
   "source": [
    "get_G0mlocal!(px, kk, 1, irx, gx)"
   ]
  },
  {
   "cell_type": "code",
   "execution_count": 32,
   "metadata": {},
   "outputs": [
    {
     "name": "stdout",
     "output_type": "stream",
     "text": [
      "done!\n"
     ]
    }
   ],
   "source": [
    "MatsuToTau!(irx, gx)\n",
    "println(\"done!\")"
   ]
  },
  {
   "cell_type": "code",
   "execution_count": 7,
   "metadata": {},
   "outputs": [
    {
     "data": {
      "text/plain": [
       "calc_sigma! (generic function with 1 method)"
      ]
     },
     "execution_count": 7,
     "metadata": {},
     "output_type": "execute_result"
    }
   ],
   "source": [
    "function calc_sigma!(sw::Int, ir::IR_params, g::Green_Sigma)\n",
    "    for tau in 1:ir.n_tau\n",
    "        if(sw == 1)\n",
    "            test = zeros(ComplexF64, 2, 2)\n",
    "            for i in 1:2, j in 1:2 \n",
    "                test[i,j] = ir.U^2 * (g.g0_tau[tau])[i,j] * (g.g0_tau[tau])[3-i,3-j] * (g.g0_tau[end+1-tau])[3-i,3-j]\n",
    "                #test[i,j] += -ir.U * (g.g0_tau[1])[3-i,3-j]\n",
    "            end\n",
    "            push!(g.sigma_tau, test)\n",
    "        else\n",
    "            for i in 1:2, j in 1:2 \n",
    "                (g.sigma_tau[tau])[i,j] = ir.U^2 * (g.g0_tau[tau])[i,j] * (g.g0_tau[tau])[3-i,3-j] * (g.g0_tau[end+1-tau])[3-i,3-j]\n",
    "                #(g.sigma_tau[tau])[i,j] += -ir.U * (g.g0_tau[1])[3-i,3-j]\n",
    "                #(g.sigma_tau[tau])[i,j] = ir.U^2 * (g.g0_tau[tau])[i,j] * (g.g0_tau[tau])[i,j] * (g.g0_tau[end+1-tau])[i,j]\n",
    "            end\n",
    "        end\n",
    "    end\n",
    "    #println(\"Sigma1:$((gx.sigma_tau[1])[1,1])\")\n",
    "    #println(\"Sigma2:$((gx.sigma_tau[1])[2,2])\")\n",
    "    return nothing\n",
    "end"
   ]
  },
  {
   "cell_type": "code",
   "execution_count": 8,
   "metadata": {},
   "outputs": [
    {
     "data": {
      "text/plain": [
       "TauToMatsu! (generic function with 1 method)"
      ]
     },
     "execution_count": 8,
     "metadata": {},
     "output_type": "execute_result"
    }
   ],
   "source": [
    "function TauToMatsu!(sw::Int, ir::IR_params, g::Green_Sigma, γ::Float64)\n",
    "    ir_new = fit(ir.smpl_tau, g.sigma_tau)\n",
    "    diff0 =0.0\n",
    "    sum0 = 0.0\n",
    "    if(sw == 1)\n",
    "        for i in 1:g.n_ir\n",
    "            diff0 += sum(abs.(ir_new[i]))\n",
    "            push!(g.sigma_ir, zeros(ComplexF64, 2, 2))\n",
    "        end\n",
    "        sum0 = 1.0\n",
    "    else\n",
    "        for i in 1:g.n_ir\n",
    "            diff0 += sum(abs.(ir_new[i] .- g.sigma_ir[i]))\n",
    "            sum0 += sum(abs.(g.sigma_ir[i]))\n",
    "        end\n",
    "    end\n",
    "    diff = diff0/sum0\n",
    "    g.sigma_ir = (1.0-γ) .* g.sigma_ir .+ γ .* ir_new\n",
    "    g.sigma_matsu = evaluate(ir.smpl_matsu, g.sigma_ir, dim=1)\n",
    "\n",
    "    return diff\n",
    "end"
   ]
  },
  {
   "cell_type": "code",
   "execution_count": 9,
   "metadata": {},
   "outputs": [
    {
     "data": {
      "text/plain": [
       "update_g! (generic function with 1 method)"
      ]
     },
     "execution_count": 9,
     "metadata": {},
     "output_type": "execute_result"
    }
   ],
   "source": [
    "function update_g!(p::Parm, k_BZ::Vector{Vector{Float64}},sw::Int, ir::IR_params, g::Green_Sigma, γ::Float64)\n",
    "    get_G0mlocal!(p, k_BZ, sw, ir, g)\n",
    "    MatsuToTau!(ir, g)\n",
    "    calc_sigma!(sw, ir, g)\n",
    "    # .+ ir.U .* g.g0_tau\n",
    "    diff = TauToMatsu!(sw, ir, g, γ)\n",
    "    return diff\n",
    "end"
   ]
  },
  {
   "cell_type": "code",
   "execution_count": 10,
   "metadata": {},
   "outputs": [
    {
     "data": {
      "text/plain": [
       "Parm(0.5, 0.2, 0.3, -1.0, 0.05, 200, 2.5e-5)"
      ]
     },
     "execution_count": 10,
     "metadata": {},
     "output_type": "execute_result"
    }
   ],
   "source": [
    "px = Parm(set_parm([\"0.5\",\"0.2\",\"0.3\", \"-1.0\", \"0.05\", \"200\"])...)"
   ]
  },
  {
   "cell_type": "code",
   "execution_count": 21,
   "metadata": {},
   "outputs": [
    {
     "name": "stdout",
     "output_type": "stream",
     "text": [
      "[0.30542399464291814, 0.686295027250638]\n"
     ]
    }
   ],
   "source": [
    "w_size= 1001\n",
    "w_mesh = range(-4.0,1.0, length=w_size)\n",
    "dw = w_mesh[2]-w_mesh[1]\n",
    "GR_l = zeros(ComplexF64, w_size, 2, 2)\n",
    "n_l = zeros(Float64, 2)\n",
    "f(ww,bb) = 1.0/(1.0+exp(bb*ww))\n",
    "for id_k in 1:size(kk)[1]\n",
    "    e = set_H(kk[id_k], px) - px.mu*sigma[1]\n",
    "    for id_w in 1:w_size\n",
    "        Gr0 = (w_mesh[id_w]+ 1.0im*px.eta)*sigma[1] - e\n",
    "        GR_l[id_w,:,:] += px.dk2*inv(Gr0) \n",
    "    end\n",
    "end\n",
    "for id_w in 1:w_size\n",
    "    n_l[1] += -dw*imag(GR_l[id_w,1,1])/pi * f(w_mesh[id_w], irx.beta)\n",
    "    n_l[2] += -dw*imag(GR_l[id_w,2,2])/pi * f(w_mesh[id_w], irx.beta)\n",
    "end\n",
    "\n",
    "println(n_l)\n"
   ]
  },
  {
   "cell_type": "code",
   "execution_count": 17,
   "metadata": {},
   "outputs": [],
   "source": [
    "gx = Green_Sigma(init_zero_g(irx)...)\n",
    "for it in 1:1000\n",
    "    L1 = update_g!(px,kk,it,irx,gx, 0.2)\n",
    "    if(L1<1e-7)\n",
    "        println(it)\n",
    "        break\n",
    "    end\n",
    "end"
   ]
  },
  {
   "cell_type": "code",
   "execution_count": 18,
   "metadata": {},
   "outputs": [
    {
     "data": {
      "text/plain": [
       "MtoV (generic function with 1 method)"
      ]
     },
     "execution_count": 18,
     "metadata": {},
     "output_type": "execute_result"
    }
   ],
   "source": [
    "function MtoV(MM::Vector{Matrix{ComplexF64}})\n",
    "    l = size(MM)[1]\n",
    "    VV = zeros(ComplexF64, l, 4)\n",
    "    for it in 1:l\n",
    "        for mm in 1:4\n",
    "            VV[it,mm] = tr(sigma[mm]*MM[it])/2\n",
    "        end\n",
    "    end\n",
    "    return VV\n",
    "end"
   ]
  },
  {
   "cell_type": "code",
   "execution_count": 60,
   "metadata": {},
   "outputs": [
    {
     "data": {
      "text/plain": [
       "44×4 Matrix{ComplexF64}:\n",
       "  1.46755e-15+0.0152074im  …  -0.000288675+2.28116e-16im\n",
       "  -1.2503e-15+0.0458025im      -0.00263735+6.93889e-18im\n",
       " -6.77843e-16+0.0765407im      -0.00747604+4.85723e-16im\n",
       " -8.62158e-16+0.107371im        -0.0150736-4.16334e-17im\n",
       "  1.23165e-16+0.13801im         -0.0258223-6.93889e-17im\n",
       "  6.93889e-17+0.16614im    …    -0.0392834+2.22045e-16im\n",
       "  3.33067e-16+0.191418im        -0.0556055+2.22045e-16im\n",
       "  1.17961e-16+0.211045im        -0.0728782-2.77556e-17im\n",
       "    2.498e-16+0.227254im        -0.0936065-2.08167e-16im\n",
       "  4.85723e-16+0.23735im          -0.116682+4.16334e-17im\n",
       "  1.80411e-16+0.239791im   …     -0.133684+1.11022e-16im\n",
       "  1.70697e-15+0.237229im         -0.153361+1.94289e-16im\n",
       "  1.45717e-15+0.231251im         -0.168004-8.60423e-16im\n",
       "             ⋮             ⋱  \n",
       "  1.94289e-15-0.237229im         -0.153361+8.74301e-16im\n",
       "  6.10623e-16-0.239791im         -0.133684+9.71445e-16im\n",
       "  7.97973e-16-0.23735im          -0.116682+1.05471e-15im\n",
       "  8.25728e-16-0.227254im   …    -0.0936065+1.23512e-15im\n",
       "  2.98372e-16-0.211045im        -0.0728782+9.02056e-16im\n",
       "  8.67362e-16-0.191418im        -0.0556055+7.91034e-16im\n",
       "  3.36536e-16-0.16614im         -0.0392834+8.32667e-16im\n",
       "   1.0391e-15-0.13801im         -0.0258223+1.06859e-15im\n",
       " -3.92048e-16-0.107371im   …    -0.0150736+1.06165e-15im\n",
       "   5.0307e-16-0.0765407im      -0.00747604+5.41234e-16im\n",
       "   6.4033e-16-0.0458025im      -0.00263735+6.55725e-16im\n",
       " -1.91882e-15-0.0152074im     -0.000288675-1.32706e-16im"
      ]
     },
     "execution_count": 60,
     "metadata": {},
     "output_type": "execute_result"
    }
   ],
   "source": [
    "ss = MtoV(gx.sigma_matsu)"
   ]
  },
  {
   "cell_type": "code",
   "execution_count": 19,
   "metadata": {},
   "outputs": [
    {
     "ename": "LoadError",
     "evalue": "UndefVarError: ss not defined",
     "output_type": "error",
     "traceback": [
      "UndefVarError: ss not defined",
      "",
      "Stacktrace:",
      " [1] top-level scope",
      "   @ In[19]:1",
      " [2] eval",
      "   @ ./boot.jl:368 [inlined]",
      " [3] include_string(mapexpr::typeof(REPL.softscope), mod::Module, code::String, filename::String)",
      "   @ Base ./loading.jl:1428"
     ]
    }
   ],
   "source": [
    "plot(imag.(ss[:,1]))\n",
    "plot!(real.(ss[:,4]))\n",
    "plot!(imag.(ss[:,4]))"
   ]
  },
  {
   "cell_type": "code",
   "execution_count": 20,
   "metadata": {},
   "outputs": [
    {
     "data": {
      "text/plain": [
       "MtoV! (generic function with 1 method)"
      ]
     },
     "execution_count": 20,
     "metadata": {},
     "output_type": "execute_result"
    }
   ],
   "source": [
    "function MtoV!(g::Green_Sigma)\n",
    "    g.g0_ir_vec = zeros(Float64, g.n_ir, 4)\n",
    "    g.g_ir_vec = zeros(Float64, g.n_ir, 4)\n",
    "    for it in 1:g.n_ir\n",
    "        for mm in 1:4\n",
    "            g.g0_ir_vec[it,mm] = real(tr(sigma[mm]*g.g0_ir[it]))/2\n",
    "            g.g_ir_vec[it,mm] = real(tr(sigma[mm]*g.g_ir[it]))/2\n",
    "        end\n",
    "    end\n",
    "end"
   ]
  },
  {
   "cell_type": "code",
   "execution_count": 21,
   "metadata": {},
   "outputs": [],
   "source": [
    "MtoV!(gx)"
   ]
  },
  {
   "cell_type": "code",
   "execution_count": 25,
   "metadata": {},
   "outputs": [
    {
     "data": {
      "text/plain": [
       "4-element Vector{Float64}:\n",
       " -1.9061641154394238e-11\n",
       " -4.627479060432188e-17\n",
       " -2.5774440282693543e-19\n",
       "  0.6776410033852819"
      ]
     },
     "execution_count": 25,
     "metadata": {},
     "output_type": "execute_result"
    }
   ],
   "source": [
    "gx.g0_ir_vec[2,:]"
   ]
  },
  {
   "cell_type": "code",
   "execution_count": 22,
   "metadata": {},
   "outputs": [
    {
     "data": {
      "text/plain": [
       "F_rho (generic function with 1 method)"
      ]
     },
     "execution_count": 22,
     "metadata": {},
     "output_type": "execute_result"
    }
   ],
   "source": [
    "function F_rho(ir::IR_params, g::Green_Sigma, rho_ls, λ)\n",
    "    vec = g.g_ir_vec - (ir.basis.s .* rho_ls)\n",
    "    \n",
    "    return f = 0.5*sum((vec.^2)) + λ*sum(abs.(rho_ls))\n",
    "end"
   ]
  },
  {
   "cell_type": "code",
   "execution_count": 28,
   "metadata": {},
   "outputs": [
    {
     "data": {
      "text/plain": [
       "43×4 Matrix{Float64}:\n",
       " 0.436605   0.954257    0.929473    0.913241\n",
       " 0.788514   0.696895    0.472924    0.526256\n",
       " 0.326809   0.517553    0.862117    0.605736\n",
       " 0.211879   0.241286    0.284008    0.924883\n",
       " 0.501329   0.260363    0.0631385   0.525095\n",
       " 0.83362    0.424121    0.198255    0.690617\n",
       " 0.249052   0.00771204  0.644888    0.0794197\n",
       " 0.789887   0.421632    0.48051     0.817133\n",
       " 0.936573   0.270528    0.300669    0.340716\n",
       " 0.250777   0.764035    0.517853    0.161304\n",
       " 0.889651   0.588655    0.0375627   0.779875\n",
       " 0.194588   0.35615     0.722702    0.499188\n",
       " 0.353793   0.134418    0.312163    0.533961\n",
       " ⋮                                  \n",
       " 0.231523   0.795159    0.00526082  0.0547728\n",
       " 0.323236   0.573755    0.0241567   0.553438\n",
       " 0.914351   0.105774    0.311697    0.533854\n",
       " 0.78493    0.267466    0.569519    0.396438\n",
       " 0.615437   0.586836    0.872939    0.795205\n",
       " 0.269602   0.640701    0.899007    0.616103\n",
       " 0.817364   0.933638    0.663632    0.913765\n",
       " 0.0060969  0.276458    0.496283    0.166658\n",
       " 0.244047   0.804872    0.401567    0.413357\n",
       " 0.336381   0.885197    0.510521    0.92927\n",
       " 0.227826   0.0603332   0.876318    0.176715\n",
       " 0.355221   0.958366    0.343328    0.717294"
      ]
     },
     "execution_count": 28,
     "metadata": {},
     "output_type": "execute_result"
    }
   ],
   "source": [
    "testm = rand(Float64, gx.n_ir, 4)"
   ]
  },
  {
   "cell_type": "code",
   "execution_count": 31,
   "metadata": {},
   "outputs": [
    {
     "data": {
      "text/plain": [
       "6.712794875798384"
      ]
     },
     "execution_count": 31,
     "metadata": {},
     "output_type": "execute_result"
    }
   ],
   "source": [
    "fff = F_rho(irx, gx, testm, 0.0001)"
   ]
  },
  {
   "cell_type": "code",
   "execution_count": 23,
   "metadata": {},
   "outputs": [],
   "source": [
    "using Flux"
   ]
  },
  {
   "cell_type": "code",
   "execution_count": 24,
   "metadata": {},
   "outputs": [
    {
     "data": {
      "text/plain": [
       "fit_rhow (generic function with 1 method)"
      ]
     },
     "execution_count": 24,
     "metadata": {},
     "output_type": "execute_result"
    }
   ],
   "source": [
    "function fit_rhow(ir::IR_params, g::Green_Sigma, l_num::Int, batch_num::Int, w_mesh::Vector{Float64}, it_MAX::Int)\n",
    "    sn = range(-12.0, 0.0, length=l_num)\n",
    "    lam_test = 10 .^ (sn)\n",
    "    opt = ADAM()\n",
    "    s_rho_l::Vector{Matrix{Float64}} = []\n",
    "    #rand(Float64, l_num, g.n_ir)\n",
    "    s_F_rho = 1000.0 * ones(Float64, l_num)\n",
    "    for ll in 1:l_num\n",
    "        lam = lam_test[ll]\n",
    "        count::Int = 0\n",
    "        for b in 1:batch_num\n",
    "            rho_ll = rand(Float64, g.n_ir, 4)\n",
    "            \n",
    "            #rho_ll = rand(Float64, g.n_ir)\n",
    "            F_old = 1000.0\n",
    "            F_new = 1000.0\n",
    "            for i in 1:it_MAX\n",
    "                grads = Flux.gradient(Flux.params(rho_ll)) do\n",
    "                    F_rho(ir, g, rho_ll, lam)\n",
    "                end\n",
    "                Flux.Optimise.update!(opt, Flux.params(rho_ll), grads)\n",
    "                F_old = F_new\n",
    "                F_new = F_rho(ir, g, rho_ll, lam)\n",
    "                if(abs(F_old-F_new)/abs(F_old)<1e-6)\n",
    "                    break\n",
    "                end\n",
    "                if(i==it_MAX)\n",
    "                    count += 1\n",
    "                end\n",
    "            end\n",
    "            if(s_F_rho[ll] > F_new)\n",
    "                if(b==1)\n",
    "                    push!(s_rho_l, rho_ll)\n",
    "                else\n",
    "                    s_rho_l[ll] = rho_ll\n",
    "                end\n",
    "                s_F_rho[ll] = F_new\n",
    "            end \n",
    "        end\n",
    "        println(count)\n",
    "    end\n",
    "    b = (log(s_F_rho[end])-log(s_F_rho[1]))/(log(lam_test[end])-log(lam_test[1]))\n",
    "    a = s_F_rho[1]*lam_test[1]^(-b)\n",
    "    ev = a .* lam_test .^ b ./ s_F_rho\n",
    "\n",
    "    p1 = plot(lam_test, ev, xaxis=:log, yaxis=:log, marker=:circle)\n",
    "    #savefig(p1,\"./lambda_opt_G.png\")\n",
    "\n",
    "    it = findmax(ev)[2]\n",
    "    max1 = s_F_rho[it]\n",
    "    println(\"it:$it,  s_F:$max1\")\n",
    "    rho_omega = -(transpose(ir.basis.v(w_mesh)) * s_rho_l[it])\n",
    "    return rho_omega\n",
    "end"
   ]
  },
  {
   "cell_type": "code",
   "execution_count": 25,
   "metadata": {},
   "outputs": [
    {
     "name": "stdout",
     "output_type": "stream",
     "text": [
      "I'm ready!\n"
     ]
    }
   ],
   "source": [
    "lamda_num = 20\n",
    "batch_num = 80\n",
    "w_num = 1000\n",
    "w_mesh = collect(-irx.bw:2irx.bw/(w_num-1):irx.bw)\n",
    "println(\"I'm ready!\")"
   ]
  },
  {
   "cell_type": "code",
   "execution_count": 26,
   "metadata": {},
   "outputs": [
    {
     "name": "stdout",
     "output_type": "stream",
     "text": [
      "0\n",
      "0\n",
      "0\n",
      "0\n",
      "0\n",
      "0\n",
      "0\n",
      "0\n",
      "0\n",
      "0\n",
      "0\n",
      "0\n",
      "0\n",
      "0\n",
      "0\n",
      "0\n",
      "0\n",
      "0\n",
      "0\n",
      "0\n",
      "it:9,  s_F:2.956726458813311e-6\n"
     ]
    },
    {
     "data": {
      "text/plain": [
       "1000×4 Matrix{Float64}:\n",
       " 2.91587   2.16038   0.00088386    0.000216315\n",
       " 2.84517   2.10609   0.000723007   0.000223899\n",
       " 2.77504   2.05226   0.000576157   0.000229773\n",
       " 2.7055    1.9989    0.000442571   0.000234059\n",
       " 2.63653   1.94601   0.000321531   0.000236875\n",
       " 2.56815   1.89359   0.000212347   0.000238332\n",
       " 2.50035   1.84164   0.000114346   0.000238537\n",
       " 2.43313   1.79017   2.68835e-5    0.000237592\n",
       " 2.3665    1.73916  -5.06669e-5    0.000235595\n",
       " 2.30047   1.68864  -0.000118908   0.000232638\n",
       " 2.23502   1.63859  -0.000178422   0.00022881\n",
       " 2.17017   1.58902  -0.00022977    0.000224195\n",
       " 2.10591   1.53993  -0.000273491   0.000218872\n",
       " ⋮                                \n",
       " 3.91353  -2.22185  -0.000422598  -0.000275663\n",
       " 4.0163   -2.2802   -0.000436906  -0.000249027\n",
       " 4.11992  -2.33907  -0.000449613  -0.000218893\n",
       " 4.22438  -2.39846  -0.000460574  -0.000185041\n",
       " 4.32968  -2.45838  -0.000469643  -0.000147243\n",
       " 4.43582  -2.51882  -0.000476667  -0.000105262\n",
       " 4.54279  -2.57978  -0.000481489  -5.88518e-5\n",
       " 4.65058  -2.64126  -0.000483948  -7.75775e-6\n",
       " 4.75921  -2.70326  -0.000483875   4.82847e-5\n",
       " 4.86865  -2.76578  -0.000481099   0.000109549\n",
       " 4.97891  -2.82881  -0.000475443   0.00017632\n",
       " 5.08999  -2.89236  -0.000466724   0.00024889"
      ]
     },
     "execution_count": 26,
     "metadata": {},
     "output_type": "execute_result"
    }
   ],
   "source": [
    "gi = fit_rhow(irx, gx, lamda_num, batch_num, w_mesh, 20000)"
   ]
  },
  {
   "cell_type": "code",
   "execution_count": 27,
   "metadata": {},
   "outputs": [
    {
     "data": {
      "image/svg+xml": "<?xml version=\"1.0\" encoding=\"utf-8\"?>\n<svg xmlns=\"http://www.w3.org/2000/svg\" xmlns:xlink=\"http://www.w3.org/1999/xlink\" width=\"600\" height=\"400\" viewBox=\"0 0 2400 1600\">\n<defs>\n  <clipPath id=\"clip690\">\n    <rect x=\"0\" y=\"0\" width=\"2400\" height=\"1600\"/>\n  </clipPath>\n</defs>\n<path clip-path=\"url(#clip690)\" d=\"\nM0 1600 L2400 1600 L2400 0 L0 0  Z\n  \" fill=\"#ffffff\" fill-rule=\"evenodd\" fill-opacity=\"1\"/>\n<defs>\n  <clipPath id=\"clip691\">\n    <rect x=\"480\" y=\"0\" width=\"1681\" height=\"1600\"/>\n  </clipPath>\n</defs>\n<path clip-path=\"url(#clip690)\" d=\"\nM147.478 1486.45 L2352.76 1486.45 L2352.76 47.2441 L147.478 47.2441  Z\n  \" fill=\"#ffffff\" fill-rule=\"evenodd\" fill-opacity=\"1\"/>\n<defs>\n  <clipPath id=\"clip692\">\n    <rect x=\"147\" y=\"47\" width=\"2206\" height=\"1440\"/>\n  </clipPath>\n</defs>\n<polyline clip-path=\"url(#clip692)\" style=\"stroke:#000000; stroke-linecap:round; stroke-linejoin:round; stroke-width:2; stroke-opacity:0.1; fill:none\" points=\"\n  209.891,1486.45 209.891,47.2441 \n  \"/>\n<polyline clip-path=\"url(#clip692)\" style=\"stroke:#000000; stroke-linecap:round; stroke-linejoin:round; stroke-width:2; stroke-opacity:0.1; fill:none\" points=\"\n  556.633,1486.45 556.633,47.2441 \n  \"/>\n<polyline clip-path=\"url(#clip692)\" style=\"stroke:#000000; stroke-linecap:round; stroke-linejoin:round; stroke-width:2; stroke-opacity:0.1; fill:none\" points=\"\n  903.375,1486.45 903.375,47.2441 \n  \"/>\n<polyline clip-path=\"url(#clip692)\" style=\"stroke:#000000; stroke-linecap:round; stroke-linejoin:round; stroke-width:2; stroke-opacity:0.1; fill:none\" points=\"\n  1250.12,1486.45 1250.12,47.2441 \n  \"/>\n<polyline clip-path=\"url(#clip692)\" style=\"stroke:#000000; stroke-linecap:round; stroke-linejoin:round; stroke-width:2; stroke-opacity:0.1; fill:none\" points=\"\n  1596.86,1486.45 1596.86,47.2441 \n  \"/>\n<polyline clip-path=\"url(#clip692)\" style=\"stroke:#000000; stroke-linecap:round; stroke-linejoin:round; stroke-width:2; stroke-opacity:0.1; fill:none\" points=\"\n  1943.6,1486.45 1943.6,47.2441 \n  \"/>\n<polyline clip-path=\"url(#clip692)\" style=\"stroke:#000000; stroke-linecap:round; stroke-linejoin:round; stroke-width:2; stroke-opacity:0.1; fill:none\" points=\"\n  2290.34,1486.45 2290.34,47.2441 \n  \"/>\n<polyline clip-path=\"url(#clip690)\" style=\"stroke:#000000; stroke-linecap:round; stroke-linejoin:round; stroke-width:4; stroke-opacity:1; fill:none\" points=\"\n  147.478,1486.45 2352.76,1486.45 \n  \"/>\n<polyline clip-path=\"url(#clip690)\" style=\"stroke:#000000; stroke-linecap:round; stroke-linejoin:round; stroke-width:4; stroke-opacity:1; fill:none\" points=\"\n  209.891,1486.45 209.891,1467.55 \n  \"/>\n<polyline clip-path=\"url(#clip690)\" style=\"stroke:#000000; stroke-linecap:round; stroke-linejoin:round; stroke-width:4; stroke-opacity:1; fill:none\" points=\"\n  556.633,1486.45 556.633,1467.55 \n  \"/>\n<polyline clip-path=\"url(#clip690)\" style=\"stroke:#000000; stroke-linecap:round; stroke-linejoin:round; stroke-width:4; stroke-opacity:1; fill:none\" points=\"\n  903.375,1486.45 903.375,1467.55 \n  \"/>\n<polyline clip-path=\"url(#clip690)\" style=\"stroke:#000000; stroke-linecap:round; stroke-linejoin:round; stroke-width:4; stroke-opacity:1; fill:none\" points=\"\n  1250.12,1486.45 1250.12,1467.55 \n  \"/>\n<polyline clip-path=\"url(#clip690)\" style=\"stroke:#000000; stroke-linecap:round; stroke-linejoin:round; stroke-width:4; stroke-opacity:1; fill:none\" points=\"\n  1596.86,1486.45 1596.86,1467.55 \n  \"/>\n<polyline clip-path=\"url(#clip690)\" style=\"stroke:#000000; stroke-linecap:round; stroke-linejoin:round; stroke-width:4; stroke-opacity:1; fill:none\" points=\"\n  1943.6,1486.45 1943.6,1467.55 \n  \"/>\n<polyline clip-path=\"url(#clip690)\" style=\"stroke:#000000; stroke-linecap:round; stroke-linejoin:round; stroke-width:4; stroke-opacity:1; fill:none\" points=\"\n  2290.34,1486.45 2290.34,1467.55 \n  \"/>\n<path clip-path=\"url(#clip690)\" d=\"M179.359 1532.02 L209.035 1532.02 L209.035 1535.95 L179.359 1535.95 L179.359 1532.02 Z\" fill=\"#000000\" fill-rule=\"evenodd\" fill-opacity=\"1\" /><path clip-path=\"url(#clip690)\" d=\"M233.294 1530.21 Q236.651 1530.93 238.526 1533.2 Q240.424 1535.47 240.424 1538.8 Q240.424 1543.92 236.905 1546.72 Q233.387 1549.52 226.905 1549.52 Q224.729 1549.52 222.415 1549.08 Q220.123 1548.66 217.669 1547.81 L217.669 1543.29 Q219.614 1544.43 221.928 1545.01 Q224.243 1545.58 226.766 1545.58 Q231.164 1545.58 233.456 1543.85 Q235.771 1542.11 235.771 1538.8 Q235.771 1535.75 233.618 1534.03 Q231.489 1532.3 227.669 1532.3 L223.641 1532.3 L223.641 1528.45 L227.854 1528.45 Q231.303 1528.45 233.132 1527.09 Q234.961 1525.7 234.961 1523.11 Q234.961 1520.45 233.063 1519.03 Q231.188 1517.6 227.669 1517.6 Q225.748 1517.6 223.549 1518.01 Q221.35 1518.43 218.711 1519.31 L218.711 1515.14 Q221.373 1514.4 223.688 1514.03 Q226.026 1513.66 228.086 1513.66 Q233.41 1513.66 236.512 1516.09 Q239.614 1518.5 239.614 1522.62 Q239.614 1525.49 237.97 1527.48 Q236.326 1529.45 233.294 1530.21 Z\" fill=\"#000000\" fill-rule=\"evenodd\" fill-opacity=\"1\" /><path clip-path=\"url(#clip690)\" d=\"M526.576 1532.02 L556.251 1532.02 L556.251 1535.95 L526.576 1535.95 L526.576 1532.02 Z\" fill=\"#000000\" fill-rule=\"evenodd\" fill-opacity=\"1\" /><path clip-path=\"url(#clip690)\" d=\"M570.372 1544.91 L586.691 1544.91 L586.691 1548.85 L564.747 1548.85 L564.747 1544.91 Q567.409 1542.16 571.992 1537.53 Q576.598 1532.88 577.779 1531.53 Q580.024 1529.01 580.904 1527.27 Q581.807 1525.51 581.807 1523.82 Q581.807 1521.07 579.862 1519.33 Q577.941 1517.6 574.839 1517.6 Q572.64 1517.6 570.186 1518.36 Q567.756 1519.13 564.978 1520.68 L564.978 1515.95 Q567.802 1514.82 570.256 1514.24 Q572.71 1513.66 574.747 1513.66 Q580.117 1513.66 583.311 1516.35 Q586.506 1519.03 586.506 1523.52 Q586.506 1525.65 585.696 1527.57 Q584.909 1529.47 582.802 1532.07 Q582.223 1532.74 579.122 1535.95 Q576.02 1539.15 570.372 1544.91 Z\" fill=\"#000000\" fill-rule=\"evenodd\" fill-opacity=\"1\" /><path clip-path=\"url(#clip690)\" d=\"M873.132 1532.02 L902.808 1532.02 L902.808 1535.95 L873.132 1535.95 L873.132 1532.02 Z\" fill=\"#000000\" fill-rule=\"evenodd\" fill-opacity=\"1\" /><path clip-path=\"url(#clip690)\" d=\"M913.711 1544.91 L921.35 1544.91 L921.35 1518.55 L913.039 1520.21 L913.039 1515.95 L921.303 1514.29 L925.979 1514.29 L925.979 1544.91 L933.618 1544.91 L933.618 1548.85 L913.711 1548.85 L913.711 1544.91 Z\" fill=\"#000000\" fill-rule=\"evenodd\" fill-opacity=\"1\" /><path clip-path=\"url(#clip690)\" d=\"M1250.12 1517.37 Q1246.51 1517.37 1244.68 1520.93 Q1242.87 1524.47 1242.87 1531.6 Q1242.87 1538.71 1244.68 1542.27 Q1246.51 1545.82 1250.12 1545.82 Q1253.75 1545.82 1255.56 1542.27 Q1257.39 1538.71 1257.39 1531.6 Q1257.39 1524.47 1255.56 1520.93 Q1253.75 1517.37 1250.12 1517.37 M1250.12 1513.66 Q1255.93 1513.66 1258.98 1518.27 Q1262.06 1522.85 1262.06 1531.6 Q1262.06 1540.33 1258.98 1544.94 Q1255.93 1549.52 1250.12 1549.52 Q1244.31 1549.52 1241.23 1544.94 Q1238.17 1540.33 1238.17 1531.6 Q1238.17 1522.85 1241.23 1518.27 Q1244.31 1513.66 1250.12 1513.66 Z\" fill=\"#000000\" fill-rule=\"evenodd\" fill-opacity=\"1\" /><path clip-path=\"url(#clip690)\" d=\"M1587.24 1544.91 L1594.88 1544.91 L1594.88 1518.55 L1586.57 1520.21 L1586.57 1515.95 L1594.83 1514.29 L1599.51 1514.29 L1599.51 1544.91 L1607.15 1544.91 L1607.15 1548.85 L1587.24 1548.85 L1587.24 1544.91 Z\" fill=\"#000000\" fill-rule=\"evenodd\" fill-opacity=\"1\" /><path clip-path=\"url(#clip690)\" d=\"M1938.25 1544.91 L1954.57 1544.91 L1954.57 1548.85 L1932.63 1548.85 L1932.63 1544.91 Q1935.29 1542.16 1939.87 1537.53 Q1944.48 1532.88 1945.66 1531.53 Q1947.91 1529.01 1948.79 1527.27 Q1949.69 1525.51 1949.69 1523.82 Q1949.69 1521.07 1947.74 1519.33 Q1945.82 1517.6 1942.72 1517.6 Q1940.52 1517.6 1938.07 1518.36 Q1935.64 1519.13 1932.86 1520.68 L1932.86 1515.95 Q1935.68 1514.82 1938.14 1514.24 Q1940.59 1513.66 1942.63 1513.66 Q1948 1513.66 1951.19 1516.35 Q1954.39 1519.03 1954.39 1523.52 Q1954.39 1525.65 1953.58 1527.57 Q1952.79 1529.47 1950.68 1532.07 Q1950.11 1532.74 1947 1535.95 Q1943.9 1539.15 1938.25 1544.91 Z\" fill=\"#000000\" fill-rule=\"evenodd\" fill-opacity=\"1\" /><path clip-path=\"url(#clip690)\" d=\"M2294.59 1530.21 Q2297.95 1530.93 2299.82 1533.2 Q2301.72 1535.47 2301.72 1538.8 Q2301.72 1543.92 2298.2 1546.72 Q2294.68 1549.52 2288.2 1549.52 Q2286.03 1549.52 2283.71 1549.08 Q2281.42 1548.66 2278.97 1547.81 L2278.97 1543.29 Q2280.91 1544.43 2283.22 1545.01 Q2285.54 1545.58 2288.06 1545.58 Q2292.46 1545.58 2294.75 1543.85 Q2297.07 1542.11 2297.07 1538.8 Q2297.07 1535.75 2294.91 1534.03 Q2292.78 1532.3 2288.97 1532.3 L2284.94 1532.3 L2284.94 1528.45 L2289.15 1528.45 Q2292.6 1528.45 2294.43 1527.09 Q2296.26 1525.7 2296.26 1523.11 Q2296.26 1520.45 2294.36 1519.03 Q2292.48 1517.6 2288.97 1517.6 Q2287.04 1517.6 2284.84 1518.01 Q2282.65 1518.43 2280.01 1519.31 L2280.01 1515.14 Q2282.67 1514.4 2284.98 1514.03 Q2287.32 1513.66 2289.38 1513.66 Q2294.71 1513.66 2297.81 1516.09 Q2300.91 1518.5 2300.91 1522.62 Q2300.91 1525.49 2299.27 1527.48 Q2297.62 1529.45 2294.59 1530.21 Z\" fill=\"#000000\" fill-rule=\"evenodd\" fill-opacity=\"1\" /><polyline clip-path=\"url(#clip692)\" style=\"stroke:#000000; stroke-linecap:round; stroke-linejoin:round; stroke-width:2; stroke-opacity:0.1; fill:none\" points=\"\n  147.478,1291.2 2352.76,1291.2 \n  \"/>\n<polyline clip-path=\"url(#clip692)\" style=\"stroke:#000000; stroke-linecap:round; stroke-linejoin:round; stroke-width:2; stroke-opacity:0.1; fill:none\" points=\"\n  147.478,1093.64 2352.76,1093.64 \n  \"/>\n<polyline clip-path=\"url(#clip692)\" style=\"stroke:#000000; stroke-linecap:round; stroke-linejoin:round; stroke-width:2; stroke-opacity:0.1; fill:none\" points=\"\n  147.478,896.07 2352.76,896.07 \n  \"/>\n<polyline clip-path=\"url(#clip692)\" style=\"stroke:#000000; stroke-linecap:round; stroke-linejoin:round; stroke-width:2; stroke-opacity:0.1; fill:none\" points=\"\n  147.478,698.504 2352.76,698.504 \n  \"/>\n<polyline clip-path=\"url(#clip692)\" style=\"stroke:#000000; stroke-linecap:round; stroke-linejoin:round; stroke-width:2; stroke-opacity:0.1; fill:none\" points=\"\n  147.478,500.937 2352.76,500.937 \n  \"/>\n<polyline clip-path=\"url(#clip692)\" style=\"stroke:#000000; stroke-linecap:round; stroke-linejoin:round; stroke-width:2; stroke-opacity:0.1; fill:none\" points=\"\n  147.478,303.371 2352.76,303.371 \n  \"/>\n<polyline clip-path=\"url(#clip692)\" style=\"stroke:#000000; stroke-linecap:round; stroke-linejoin:round; stroke-width:2; stroke-opacity:0.1; fill:none\" points=\"\n  147.478,105.805 2352.76,105.805 \n  \"/>\n<polyline clip-path=\"url(#clip690)\" style=\"stroke:#000000; stroke-linecap:round; stroke-linejoin:round; stroke-width:4; stroke-opacity:1; fill:none\" points=\"\n  147.478,1486.45 147.478,47.2441 \n  \"/>\n<polyline clip-path=\"url(#clip690)\" style=\"stroke:#000000; stroke-linecap:round; stroke-linejoin:round; stroke-width:4; stroke-opacity:1; fill:none\" points=\"\n  147.478,1291.2 166.376,1291.2 \n  \"/>\n<polyline clip-path=\"url(#clip690)\" style=\"stroke:#000000; stroke-linecap:round; stroke-linejoin:round; stroke-width:4; stroke-opacity:1; fill:none\" points=\"\n  147.478,1093.64 166.376,1093.64 \n  \"/>\n<polyline clip-path=\"url(#clip690)\" style=\"stroke:#000000; stroke-linecap:round; stroke-linejoin:round; stroke-width:4; stroke-opacity:1; fill:none\" points=\"\n  147.478,896.07 166.376,896.07 \n  \"/>\n<polyline clip-path=\"url(#clip690)\" style=\"stroke:#000000; stroke-linecap:round; stroke-linejoin:round; stroke-width:4; stroke-opacity:1; fill:none\" points=\"\n  147.478,698.504 166.376,698.504 \n  \"/>\n<polyline clip-path=\"url(#clip690)\" style=\"stroke:#000000; stroke-linecap:round; stroke-linejoin:round; stroke-width:4; stroke-opacity:1; fill:none\" points=\"\n  147.478,500.937 166.376,500.937 \n  \"/>\n<polyline clip-path=\"url(#clip690)\" style=\"stroke:#000000; stroke-linecap:round; stroke-linejoin:round; stroke-width:4; stroke-opacity:1; fill:none\" points=\"\n  147.478,303.371 166.376,303.371 \n  \"/>\n<polyline clip-path=\"url(#clip690)\" style=\"stroke:#000000; stroke-linecap:round; stroke-linejoin:round; stroke-width:4; stroke-opacity:1; fill:none\" points=\"\n  147.478,105.805 166.376,105.805 \n  \"/>\n<path clip-path=\"url(#clip690)\" d=\"M50.9921 1291.65 L80.6679 1291.65 L80.6679 1295.59 L50.9921 1295.59 L50.9921 1291.65 Z\" fill=\"#000000\" fill-rule=\"evenodd\" fill-opacity=\"1\" /><path clip-path=\"url(#clip690)\" d=\"M91.5706 1304.55 L99.2095 1304.55 L99.2095 1278.18 L90.8993 1279.85 L90.8993 1275.59 L99.1632 1273.92 L103.839 1273.92 L103.839 1304.55 L111.478 1304.55 L111.478 1308.48 L91.5706 1308.48 L91.5706 1304.55 Z\" fill=\"#000000\" fill-rule=\"evenodd\" fill-opacity=\"1\" /><path clip-path=\"url(#clip690)\" d=\"M99.5335 1079.43 Q95.9224 1079.43 94.0937 1083 Q92.2882 1086.54 92.2882 1093.67 Q92.2882 1100.78 94.0937 1104.34 Q95.9224 1107.88 99.5335 1107.88 Q103.168 1107.88 104.973 1104.34 Q106.802 1100.78 106.802 1093.67 Q106.802 1086.54 104.973 1083 Q103.168 1079.43 99.5335 1079.43 M99.5335 1075.73 Q105.344 1075.73 108.399 1080.34 Q111.478 1084.92 111.478 1093.67 Q111.478 1102.4 108.399 1107 Q105.344 1111.59 99.5335 1111.59 Q93.7234 1111.59 90.6447 1107 Q87.5892 1102.4 87.5892 1093.67 Q87.5892 1084.92 90.6447 1080.34 Q93.7234 1075.73 99.5335 1075.73 Z\" fill=\"#000000\" fill-rule=\"evenodd\" fill-opacity=\"1\" /><path clip-path=\"url(#clip690)\" d=\"M91.5706 909.415 L99.2095 909.415 L99.2095 883.049 L90.8993 884.716 L90.8993 880.457 L99.1632 878.79 L103.839 878.79 L103.839 909.415 L111.478 909.415 L111.478 913.35 L91.5706 913.35 L91.5706 909.415 Z\" fill=\"#000000\" fill-rule=\"evenodd\" fill-opacity=\"1\" /><path clip-path=\"url(#clip690)\" d=\"M95.1586 711.848 L111.478 711.848 L111.478 715.784 L89.5336 715.784 L89.5336 711.848 Q92.1956 709.094 96.7789 704.464 Q101.385 699.811 102.566 698.469 Q104.811 695.946 105.691 694.21 Q106.594 692.45 106.594 690.761 Q106.594 688.006 104.649 686.27 Q102.728 684.534 99.6261 684.534 Q97.4271 684.534 94.9734 685.298 Q92.5428 686.062 89.7651 687.612 L89.7651 682.89 Q92.5891 681.756 95.0428 681.177 Q97.4965 680.599 99.5335 680.599 Q104.904 680.599 108.098 683.284 Q111.293 685.969 111.293 690.46 Q111.293 692.589 110.483 694.511 Q109.696 696.409 107.589 699.001 Q107.01 699.673 103.909 702.89 Q100.807 706.085 95.1586 711.848 Z\" fill=\"#000000\" fill-rule=\"evenodd\" fill-opacity=\"1\" /><path clip-path=\"url(#clip690)\" d=\"M104.348 499.583 Q107.705 500.301 109.58 502.569 Q111.478 504.838 111.478 508.171 Q111.478 513.287 107.959 516.088 Q104.441 518.889 97.9595 518.889 Q95.7836 518.889 93.4688 518.449 Q91.1771 518.032 88.7234 517.176 L88.7234 512.662 Q90.6678 513.796 92.9826 514.375 Q95.2974 514.953 97.8206 514.953 Q102.219 514.953 104.51 513.217 Q106.825 511.481 106.825 508.171 Q106.825 505.116 104.672 503.403 Q102.543 501.666 98.7234 501.666 L94.6956 501.666 L94.6956 497.824 L98.9085 497.824 Q102.358 497.824 104.186 496.458 Q106.015 495.069 106.015 492.477 Q106.015 489.815 104.117 488.403 Q102.242 486.967 98.7234 486.967 Q96.8021 486.967 94.603 487.384 Q92.4039 487.801 89.7651 488.68 L89.7651 484.514 Q92.4271 483.773 94.7419 483.403 Q97.0798 483.032 99.14 483.032 Q104.464 483.032 107.566 485.463 Q110.668 487.87 110.668 491.991 Q110.668 494.861 109.024 496.852 Q107.381 498.819 104.348 499.583 Z\" fill=\"#000000\" fill-rule=\"evenodd\" fill-opacity=\"1\" /><path clip-path=\"url(#clip690)\" d=\"M101.895 290.165 L90.0891 308.614 L101.895 308.614 L101.895 290.165 M100.668 286.091 L106.547 286.091 L106.547 308.614 L111.478 308.614 L111.478 312.503 L106.547 312.503 L106.547 320.651 L101.895 320.651 L101.895 312.503 L86.2929 312.503 L86.2929 307.989 L100.668 286.091 Z\" fill=\"#000000\" fill-rule=\"evenodd\" fill-opacity=\"1\" /><path clip-path=\"url(#clip690)\" d=\"M90.5752 88.5247 L108.932 88.5247 L108.932 92.4599 L94.8576 92.4599 L94.8576 100.932 Q95.8761 100.585 96.8947 100.423 Q97.9132 100.238 98.9317 100.238 Q104.719 100.238 108.098 103.409 Q111.478 106.58 111.478 111.997 Q111.478 117.576 108.006 120.677 Q104.534 123.756 98.2141 123.756 Q96.0382 123.756 93.7697 123.386 Q91.5243 123.015 89.1169 122.275 L89.1169 117.576 Q91.2002 118.71 93.4225 119.265 Q95.6447 119.821 98.1215 119.821 Q102.126 119.821 104.464 117.714 Q106.802 115.608 106.802 111.997 Q106.802 108.386 104.464 106.279 Q102.126 104.173 98.1215 104.173 Q96.2465 104.173 94.3715 104.589 Q92.5197 105.006 90.5752 105.886 L90.5752 88.5247 Z\" fill=\"#000000\" fill-rule=\"evenodd\" fill-opacity=\"1\" /><polyline clip-path=\"url(#clip692)\" style=\"stroke:#009af9; stroke-linecap:round; stroke-linejoin:round; stroke-width:8; stroke-opacity:1; fill:none\" points=\"\n  209.891,517.602 211.974,531.571 214.057,545.427 216.139,559.167 218.222,572.793 220.304,586.304 222.387,599.699 224.469,612.978 226.552,626.141 228.634,639.187 \n  230.717,652.117 232.799,664.929 234.882,677.623 236.964,690.2 239.047,702.658 241.129,714.998 243.212,727.219 245.295,739.321 247.377,751.303 249.46,763.165 \n  251.542,774.908 253.625,786.53 255.707,798.031 257.79,809.412 259.872,820.671 261.955,831.809 264.037,842.826 266.12,853.72 268.202,864.492 270.285,875.142 \n  272.367,885.669 274.45,896.073 276.533,906.354 278.615,916.512 280.698,926.546 282.78,936.456 284.863,946.243 286.945,955.905 289.028,965.443 291.11,974.856 \n  293.193,984.144 295.275,993.308 297.358,1002.35 299.44,1011.26 301.523,1020.05 303.605,1028.71 305.688,1037.25 307.771,1045.66 309.853,1053.94 311.936,1062.1 \n  314.018,1070.14 316.101,1078.04 318.183,1085.83 320.266,1093.48 322.348,1101.01 324.431,1108.41 326.513,1115.69 328.596,1122.83 330.678,1129.86 332.761,1136.75 \n  334.843,1143.52 336.926,1150.16 339.009,1156.68 341.091,1163.07 343.174,1169.33 345.256,1175.47 347.339,1181.48 349.421,1187.36 351.504,1193.12 353.586,1198.75 \n  355.669,1204.25 357.751,1209.63 359.834,1214.88 361.916,1220.01 363.999,1225.01 366.081,1229.89 368.164,1234.64 370.247,1239.26 372.329,1243.76 374.412,1248.14 \n  376.494,1252.39 378.577,1256.51 380.659,1260.51 382.742,1264.39 384.824,1268.14 386.907,1271.77 388.989,1275.28 391.072,1278.66 393.154,1281.92 395.237,1285.06 \n  397.319,1288.08 399.402,1290.97 401.485,1293.75 403.567,1296.4 405.65,1298.93 407.732,1301.34 409.815,1303.63 411.897,1305.8 413.98,1307.86 416.062,1309.79 \n  418.145,1311.61 420.227,1313.31 422.31,1314.89 424.392,1316.36 426.475,1317.71 428.557,1318.94 430.64,1320.06 432.723,1321.06 434.805,1321.95 436.888,1322.73 \n  438.97,1323.4 441.053,1323.95 443.135,1324.39 445.218,1324.72 447.3,1324.94 449.383,1325.05 451.465,1325.06 453.548,1324.95 455.63,1324.74 457.713,1324.42 \n  459.795,1324 461.878,1323.47 463.961,1322.84 466.043,1322.11 468.126,1321.27 470.208,1320.33 472.291,1319.29 474.373,1318.15 476.456,1316.92 478.538,1315.58 \n  480.621,1314.15 482.703,1312.62 484.786,1311 486.868,1309.29 488.951,1307.48 491.033,1305.58 493.116,1303.59 495.199,1301.51 497.281,1299.34 499.364,1297.09 \n  501.446,1294.75 503.529,1292.32 505.611,1289.81 507.694,1287.22 509.776,1284.54 511.859,1281.79 513.941,1278.96 516.024,1276.05 518.106,1273.06 520.189,1270 \n  522.271,1266.87 524.354,1263.66 526.437,1260.39 528.519,1257.04 530.602,1253.63 532.684,1250.15 534.767,1246.6 536.849,1242.99 538.932,1239.32 541.014,1235.59 \n  543.097,1231.8 545.179,1227.95 547.262,1224.05 549.344,1220.09 551.427,1216.08 553.509,1212.02 555.592,1207.91 557.675,1203.75 559.757,1199.55 561.84,1195.3 \n  563.922,1191.01 566.005,1186.68 568.087,1182.31 570.17,1177.9 572.252,1173.46 574.335,1168.99 576.417,1164.48 578.5,1159.94 580.582,1155.38 582.665,1150.79 \n  584.747,1146.17 586.83,1141.54 588.913,1136.88 590.995,1132.21 593.078,1127.52 595.16,1122.81 597.243,1118.1 599.325,1113.37 601.408,1108.63 603.49,1103.89 \n  605.573,1099.15 607.655,1094.4 609.738,1089.66 611.82,1084.91 613.903,1080.18 615.985,1075.44 618.068,1070.72 620.151,1066.01 622.233,1061.31 624.316,1056.63 \n  626.398,1051.96 628.481,1047.32 630.563,1042.69 632.646,1038.1 634.728,1033.52 636.811,1028.98 638.893,1024.47 640.976,1019.99 643.058,1015.55 645.141,1011.14 \n  647.223,1006.78 649.306,1002.46 651.389,998.178 653.471,993.948 655.554,989.768 657.636,985.639 659.719,981.564 661.801,977.545 663.884,973.585 665.966,969.685 \n  668.049,965.849 670.131,962.078 672.214,958.375 674.296,954.742 676.379,951.181 678.461,947.694 680.544,944.284 682.627,940.953 684.709,937.702 686.792,934.535 \n  688.874,931.454 690.957,928.46 693.039,925.555 695.122,922.743 697.204,920.024 699.287,917.401 701.369,914.877 703.452,912.452 705.534,910.13 707.617,907.911 \n  709.699,905.799 711.782,903.794 713.865,901.899 715.947,900.116 718.03,898.446 720.112,896.892 722.195,895.454 724.277,894.135 726.36,892.936 728.442,891.859 \n  730.525,890.905 732.607,890.076 734.69,889.374 736.772,888.799 738.855,888.353 740.937,888.037 743.02,887.853 745.103,887.802 747.185,887.885 749.268,888.102 \n  751.35,888.455 753.433,888.945 755.515,889.573 757.598,890.338 759.68,891.243 761.763,892.287 763.845,893.471 765.928,894.796 768.01,896.261 770.093,897.867 \n  772.175,899.614 774.258,901.503 776.341,903.533 778.423,905.703 780.506,908.015 782.588,910.466 784.671,913.058 786.753,915.789 788.836,918.659 790.918,921.667 \n  793.001,924.811 795.083,928.092 797.166,931.507 799.248,935.056 801.331,938.737 803.413,942.548 805.496,946.488 807.579,950.555 809.661,954.748 811.744,959.063 \n  813.826,963.499 815.909,968.053 817.991,972.723 820.074,977.506 822.156,982.399 824.239,987.4 826.321,992.504 828.404,997.71 830.486,1003.01 832.569,1008.41 \n  834.651,1013.89 836.734,1019.47 838.817,1025.12 840.899,1030.85 842.982,1036.65 845.064,1042.53 847.147,1048.46 849.229,1054.46 851.312,1060.5 853.394,1066.6 \n  855.477,1072.73 857.559,1078.91 859.642,1085.11 861.724,1091.34 863.807,1097.58 865.889,1103.84 867.972,1110.11 870.055,1116.37 872.137,1122.62 874.22,1128.86 \n  876.302,1135.07 878.385,1141.25 880.467,1147.4 882.55,1153.5 884.632,1159.55 886.715,1165.53 888.797,1171.44 890.88,1177.28 892.962,1183.03 895.045,1188.68 \n  897.127,1194.22 899.21,1199.66 901.293,1204.97 903.375,1210.15 905.458,1215.19 907.54,1220.08 909.623,1224.81 911.705,1229.37 913.788,1233.75 915.87,1237.95 \n  917.953,1241.94 920.035,1245.73 922.118,1249.31 924.2,1252.66 926.283,1255.77 928.365,1258.64 930.448,1261.26 932.531,1263.62 934.613,1265.7 936.696,1267.5 \n  938.778,1269.01 940.861,1270.23 942.943,1271.13 945.026,1271.73 947.108,1272 949.191,1271.94 951.273,1271.54 953.356,1270.81 955.438,1269.72 957.521,1268.27 \n  959.603,1266.47 961.686,1264.29 963.769,1261.75 965.851,1258.83 967.934,1255.53 970.016,1251.85 972.099,1247.79 974.181,1243.35 976.264,1238.52 978.346,1233.3 \n  980.429,1227.7 982.511,1221.72 984.594,1215.37 986.676,1208.64 988.759,1201.53 990.841,1194.07 992.924,1186.25 995.007,1178.09 997.089,1169.58 999.172,1160.75 \n  1001.25,1151.61 1003.34,1142.17 1005.42,1132.44 1007.5,1122.44 1009.58,1112.19 1011.67,1101.7 1013.75,1091.01 1015.83,1080.13 1017.91,1069.08 1020,1057.9 \n  1022.08,1046.61 1024.16,1035.23 1026.24,1023.8 1028.33,1012.35 1030.41,1000.92 1032.49,989.538 1034.57,978.243 1036.66,967.075 1038.74,956.072 1040.82,945.278 \n  1042.9,934.735 1044.99,924.488 1047.07,914.583 1049.15,905.065 1051.23,895.984 1053.32,887.387 1055.4,879.323 1057.48,871.844 1059.57,864.998 1061.65,858.836 \n  1063.73,853.408 1065.81,848.762 1067.9,844.949 1069.98,842.015 1072.06,840.006 1074.14,838.967 1076.23,838.939 1078.31,839.961 1080.39,842.069 1082.47,845.295 \n  1084.56,849.667 1086.64,855.207 1088.72,861.932 1090.8,869.853 1092.89,878.973 1094.97,889.289 1097.05,900.788 1099.13,913.449 1101.22,927.24 1103.3,942.119 \n  1105.38,958.033 1107.46,974.915 1109.55,992.687 1111.63,1011.26 1113.71,1030.52 1115.79,1050.35 1117.88,1070.61 1119.96,1091.15 1122.04,1111.8 1124.12,1132.38 \n  1126.21,1152.69 1128.29,1172.51 1130.37,1191.61 1132.45,1209.76 1134.54,1226.69 1136.62,1242.15 1138.7,1255.87 1140.78,1267.56 1142.87,1276.96 1144.95,1283.79 \n  1147.03,1287.78 1149.11,1288.69 1151.2,1286.29 1153.28,1280.37 1155.36,1270.77 1157.44,1257.37 1159.53,1240.1 1161.61,1218.95 1163.69,1193.99 1165.77,1165.38 \n  1167.86,1133.37 1169.94,1098.32 1172.02,1060.7 1174.1,1021.11 1176.19,980.261 1178.27,939.019 1180.35,898.365 1182.43,859.405 1184.52,823.351 1186.6,791.501 \n  1188.68,765.206 1190.76,745.822 1192.85,734.66 1194.93,732.912 1197.01,741.565 1199.09,761.306 1201.18,792.409 1203.26,834.618 1205.34,887.024 1207.42,947.956 \n  1209.51,1014.89 1211.59,1084.39 1213.67,1152.12 1215.76,1212.98 1217.84,1261.26 1219.92,1291.09 1222,1296.99 1224.09,1274.63 1226.17,1221.82 1228.25,1139.7 \n  1230.33,1033.91 1232.42,915.758 1234.5,802.795 1236.58,718.385 1238.66,689.095 1240.75,738.326 1242.83,874.291 1244.91,1072.94 1246.99,1266 1249.08,1359.02 \n  1251.16,1293.21 1253.24,1101.43 1255.32,884.727 1257.41,735.105 1259.49,690.518 1261.57,741.434 1263.65,855.56 1265.74,996.993 1267.82,1135.81 1269.9,1251.19 \n  1271.98,1331.35 1274.07,1371.99 1276.15,1374.46 1278.23,1343.82 1280.31,1287.26 1282.4,1212.84 1284.48,1128.5 1286.56,1041.44 1288.64,957.752 1290.73,882.24 \n  1292.81,818.377 1294.89,768.393 1296.97,733.412 1299.06,713.62 1301.14,708.456 1303.22,716.787 1305.3,737.078 1307.39,767.534 1309.47,806.234 1311.55,851.222 \n  1313.63,900.593 1315.72,952.554 1317.8,1005.46 1319.88,1057.85 1321.96,1108.46 1324.05,1156.21 1326.13,1200.24 1328.21,1239.88 1330.29,1274.61 1332.38,1304.1 \n  1334.46,1328.16 1336.54,1346.72 1338.62,1359.83 1340.71,1367.64 1342.79,1370.37 1344.87,1368.29 1346.95,1361.75 1349.04,1351.11 1351.12,1336.77 1353.2,1319.13 \n  1355.28,1298.62 1357.37,1275.66 1359.45,1250.65 1361.53,1224 1363.61,1196.09 1365.7,1167.3 1367.78,1137.95 1369.86,1108.38 1371.95,1078.89 1374.03,1049.75 \n  1376.11,1021.2 1378.19,993.47 1380.28,966.758 1382.36,941.237 1384.44,917.058 1386.52,894.349 1388.61,873.215 1390.69,853.745 1392.77,836.004 1394.85,820.043 \n  1396.94,805.895 1399.02,793.579 1401.1,783.098 1403.18,774.445 1405.27,767.601 1407.35,762.535 1409.43,759.208 1411.51,757.573 1413.6,757.576 1415.68,759.158 \n  1417.76,762.253 1419.84,766.791 1421.93,772.699 1424.01,779.9 1426.09,788.318 1428.17,797.871 1430.26,808.48 1432.34,820.062 1434.42,832.536 1436.5,845.823 \n  1438.59,859.84 1440.67,874.511 1442.75,889.755 1444.83,905.499 1446.92,921.668 1449,938.19 1451.08,954.995 1453.16,972.016 1455.25,989.188 1457.33,1006.45 \n  1459.41,1023.74 1461.49,1041.01 1463.58,1058.19 1465.66,1075.24 1467.74,1092.11 1469.82,1108.76 1471.91,1125.14 1473.99,1141.21 1476.07,1156.93 1478.15,1172.28 \n  1480.24,1187.21 1482.32,1201.7 1484.4,1215.73 1486.48,1229.26 1488.57,1242.28 1490.65,1254.76 1492.73,1266.7 1494.81,1278.07 1496.9,1288.85 1498.98,1299.05 \n  1501.06,1308.64 1503.14,1317.63 1505.23,1326.01 1507.31,1333.76 1509.39,1340.9 1511.47,1347.41 1513.56,1353.3 1515.64,1358.58 1517.72,1363.23 1519.8,1367.27 \n  1521.89,1370.71 1523.97,1373.55 1526.05,1375.79 1528.14,1377.44 1530.22,1378.52 1532.3,1379.04 1534.38,1378.99 1536.47,1378.41 1538.55,1377.28 1540.63,1375.64 \n  1542.71,1373.5 1544.8,1370.85 1546.88,1367.73 1548.96,1364.14 1551.04,1360.1 1553.13,1355.63 1555.21,1350.73 1557.29,1345.43 1559.37,1339.73 1561.46,1333.66 \n  1563.54,1327.23 1565.62,1320.46 1567.7,1313.36 1569.79,1305.94 1571.87,1298.23 1573.95,1290.24 1576.03,1281.98 1578.12,1273.48 1580.2,1264.74 1582.28,1255.78 \n  1584.36,1246.62 1586.45,1237.27 1588.53,1227.74 1590.61,1218.06 1592.69,1208.23 1594.78,1198.27 1596.86,1188.2 1598.94,1178.02 1601.02,1167.76 1603.11,1157.42 \n  1605.19,1147.02 1607.27,1136.56 1609.35,1126.08 1611.44,1115.56 1613.52,1105.03 1615.6,1094.51 1617.68,1083.99 1619.77,1073.49 1621.85,1063.03 1623.93,1052.61 \n  1626.01,1042.24 1628.1,1031.93 1630.18,1021.69 1632.26,1011.54 1634.34,1001.48 1636.43,991.511 1638.51,981.654 1640.59,971.911 1642.67,962.291 1644.76,952.802 \n  1646.84,943.45 1648.92,934.242 1651,925.186 1653.09,916.287 1655.17,907.551 1657.25,898.983 1659.33,890.591 1661.42,882.378 1663.5,874.349 1665.58,866.509 \n  1667.66,858.863 1669.75,851.415 1671.83,844.168 1673.91,837.126 1676,830.293 1678.08,823.671 1680.16,817.264 1682.24,811.074 1684.33,805.104 1686.41,799.356 \n  1688.49,793.832 1690.57,788.533 1692.66,783.462 1694.74,778.62 1696.82,774.008 1698.9,769.626 1700.99,765.477 1703.07,761.56 1705.15,757.875 1707.23,754.425 \n  1709.32,751.207 1711.4,748.223 1713.48,745.472 1715.56,742.953 1717.65,740.667 1719.73,738.612 1721.81,736.788 1723.89,735.194 1725.98,733.829 1728.06,732.692 \n  1730.14,731.78 1732.22,731.094 1734.31,730.63 1736.39,730.389 1738.47,730.367 1740.55,730.562 1742.64,730.974 1744.72,731.6 1746.8,732.437 1748.88,733.484 \n  1750.97,734.737 1753.05,736.195 1755.13,737.855 1757.21,739.714 1759.3,741.77 1761.38,744.02 1763.46,746.461 1765.54,749.091 1767.63,751.905 1769.71,754.902 \n  1771.79,758.078 1773.87,761.43 1775.96,764.955 1778.04,768.65 1780.12,772.511 1782.2,776.536 1784.29,780.72 1786.37,785.06 1788.45,789.554 1790.53,794.197 \n  1792.62,798.986 1794.7,803.918 1796.78,808.989 1798.86,814.195 1800.95,819.533 1803.03,825 1805.11,830.591 1807.19,836.303 1809.28,842.133 1811.36,848.077 \n  1813.44,854.13 1815.52,860.29 1817.61,866.553 1819.69,872.915 1821.77,879.372 1823.85,885.921 1825.94,892.558 1828.02,899.279 1830.1,906.081 1832.19,912.959 \n  1834.27,919.911 1836.35,926.933 1838.43,934.02 1840.52,941.17 1842.6,948.378 1844.68,955.641 1846.76,962.955 1848.85,970.317 1850.93,977.723 1853.01,985.17 \n  1855.09,992.653 1857.18,1000.17 1859.26,1007.72 1861.34,1015.29 1863.42,1022.89 1865.51,1030.5 1867.59,1038.13 1869.67,1045.78 1871.75,1053.43 1873.84,1061.09 \n  1875.92,1068.75 1878,1076.41 1880.08,1084.06 1882.17,1091.71 1884.25,1099.35 1886.33,1106.97 1888.41,1114.57 1890.5,1122.16 1892.58,1129.72 1894.66,1137.25 \n  1896.74,1144.76 1898.83,1152.23 1900.91,1159.66 1902.99,1167.06 1905.07,1174.41 1907.16,1181.72 1909.24,1188.98 1911.32,1196.19 1913.4,1203.35 1915.49,1210.45 \n  1917.57,1217.49 1919.65,1224.47 1921.73,1231.38 1923.82,1238.23 1925.9,1245 1927.98,1251.71 1930.06,1258.34 1932.15,1264.89 1934.23,1271.36 1936.31,1277.74 \n  1938.39,1284.04 1940.48,1290.26 1942.56,1296.38 1944.64,1302.41 1946.72,1308.35 1948.81,1314.18 1950.89,1319.92 1952.97,1325.56 1955.05,1331.09 1957.14,1336.52 \n  1959.22,1341.84 1961.3,1347.04 1963.38,1352.14 1965.47,1357.12 1967.55,1361.98 1969.63,1366.73 1971.71,1371.35 1973.8,1375.85 1975.88,1380.23 1977.96,1384.48 \n  1980.04,1388.61 1982.13,1392.6 1984.21,1396.46 1986.29,1400.19 1988.38,1403.79 1990.46,1407.24 1992.54,1410.56 1994.62,1413.74 1996.71,1416.78 1998.79,1419.67 \n  2000.87,1422.42 2002.95,1425.02 2005.04,1427.48 2007.12,1429.79 2009.2,1431.94 2011.28,1433.95 2013.37,1435.8 2015.45,1437.5 2017.53,1439.04 2019.61,1440.43 \n  2021.7,1441.65 2023.78,1442.72 2025.86,1443.63 2027.94,1444.37 2030.03,1444.96 2032.11,1445.37 2034.19,1445.63 2036.27,1445.72 2038.36,1445.64 2040.44,1445.39 \n  2042.52,1444.97 2044.6,1444.39 2046.69,1443.63 2048.77,1442.7 2050.85,1441.6 2052.93,1440.33 2055.02,1438.88 2057.1,1437.25 2059.18,1435.45 2061.26,1433.48 \n  2063.35,1431.32 2065.43,1428.99 2067.51,1426.48 2069.59,1423.79 2071.68,1420.93 2073.76,1417.88 2075.84,1414.65 2077.92,1411.23 2080.01,1407.64 2082.09,1403.86 \n  2084.17,1399.9 2086.25,1395.76 2088.34,1391.43 2090.42,1386.92 2092.5,1382.22 2094.58,1377.33 2096.67,1372.26 2098.75,1367.01 2100.83,1361.57 2102.91,1355.94 \n  2105,1350.12 2107.08,1344.12 2109.16,1337.93 2111.24,1331.55 2113.33,1324.98 2115.41,1318.22 2117.49,1311.28 2119.57,1304.15 2121.66,1296.82 2123.74,1289.31 \n  2125.82,1281.61 2127.9,1273.72 2129.99,1265.64 2132.07,1257.37 2134.15,1248.91 2136.23,1240.26 2138.32,1231.42 2140.4,1222.4 2142.48,1213.18 2144.57,1203.77 \n  2146.65,1194.17 2148.73,1184.38 2150.81,1174.41 2152.9,1164.24 2154.98,1153.89 2157.06,1143.34 2159.14,1132.6 2161.23,1121.68 2163.31,1110.57 2165.39,1099.27 \n  2167.47,1087.78 2169.56,1076.1 2171.64,1064.23 2173.72,1052.17 2175.8,1039.93 2177.89,1027.5 2179.97,1014.88 2182.05,1002.07 2184.13,989.078 2186.22,975.898 \n  2188.3,962.532 2190.38,948.979 2192.46,935.241 2194.55,921.317 2196.63,907.208 2198.71,892.914 2200.79,878.435 2202.88,863.773 2204.96,848.927 2207.04,833.897 \n  2209.12,818.685 2211.21,803.29 2213.29,787.713 2215.37,771.954 2217.45,756.014 2219.54,739.893 2221.62,723.592 2223.7,707.111 2225.78,690.45 2227.87,673.611 \n  2229.95,656.593 2232.03,639.398 2234.11,622.025 2236.2,604.475 2238.28,586.749 2240.36,568.847 2242.44,550.771 2244.53,532.519 2246.61,514.094 2248.69,495.495 \n  2250.77,476.723 2252.86,457.779 2254.94,438.663 2257.02,419.376 2259.1,399.919 2261.19,380.292 2263.27,360.497 2265.35,340.532 2267.43,320.4 2269.52,300.101 \n  2271.6,279.636 2273.68,259.004 2275.76,238.208 2277.85,217.247 2279.93,196.123 2282.01,174.836 2284.09,153.387 2286.18,131.777 2288.26,110.006 2290.34,88.0746 \n  \n  \"/>\n<polyline clip-path=\"url(#clip692)\" style=\"stroke:#e26f46; stroke-linecap:round; stroke-linejoin:round; stroke-width:8; stroke-opacity:1; fill:none\" points=\"\n  209.891,517.516 211.974,531.483 214.057,545.336 216.139,559.075 218.222,572.7 220.304,586.21 222.387,599.605 224.469,612.884 226.552,626.048 228.634,639.096 \n  230.717,652.026 232.799,664.84 234.882,677.537 236.964,690.116 239.047,702.577 241.129,714.919 243.212,727.143 245.295,739.248 247.377,751.233 249.46,763.099 \n  251.542,774.845 253.625,786.471 255.707,797.976 257.79,809.36 259.872,820.623 261.955,831.764 264.037,842.784 266.12,853.682 268.202,864.458 270.285,875.111 \n  272.367,885.641 274.45,896.049 276.533,906.333 278.615,916.494 280.698,926.531 282.78,936.444 284.863,946.233 286.945,955.898 289.028,965.439 291.11,974.855 \n  293.193,984.146 295.275,993.312 297.358,1002.35 299.44,1011.27 301.523,1020.06 303.605,1028.72 305.688,1037.26 307.771,1045.67 309.853,1053.96 311.936,1062.12 \n  314.018,1070.16 316.101,1078.07 318.183,1085.85 320.266,1093.5 322.348,1101.03 324.431,1108.44 326.513,1115.71 328.596,1122.86 330.678,1129.89 332.761,1136.78 \n  334.843,1143.55 336.926,1150.2 339.009,1156.71 341.091,1163.1 343.174,1169.36 345.256,1175.5 347.339,1181.51 349.421,1187.4 351.504,1193.15 353.586,1198.78 \n  355.669,1204.29 357.751,1209.67 359.834,1214.92 361.916,1220.05 363.999,1225.05 366.081,1229.92 368.164,1234.67 370.247,1239.3 372.329,1243.8 374.412,1248.17 \n  376.494,1252.42 378.577,1256.55 380.659,1260.55 382.742,1264.43 384.824,1268.18 386.907,1271.81 388.989,1275.32 391.072,1278.7 393.154,1281.96 395.237,1285.1 \n  397.319,1288.11 399.402,1291.01 401.485,1293.78 403.567,1296.44 405.65,1298.97 407.732,1301.38 409.815,1303.67 411.897,1305.84 413.98,1307.9 416.062,1309.83 \n  418.145,1311.65 420.227,1313.35 422.31,1314.93 424.392,1316.4 426.475,1317.75 428.557,1318.98 430.64,1320.1 432.723,1321.1 434.805,1322 436.888,1322.77 \n  438.97,1323.44 441.053,1323.99 443.135,1324.43 445.218,1324.77 447.3,1324.99 449.383,1325.1 451.465,1325.1 453.548,1325 455.63,1324.79 457.713,1324.47 \n  459.795,1324.05 461.878,1323.52 463.961,1322.89 466.043,1322.15 468.126,1321.32 470.208,1320.38 472.291,1319.34 474.373,1318.2 476.456,1316.97 478.538,1315.63 \n  480.621,1314.2 482.703,1312.67 484.786,1311.05 486.868,1309.34 488.951,1307.53 491.033,1305.63 493.116,1303.64 495.199,1301.56 497.281,1299.39 499.364,1297.13 \n  501.446,1294.79 503.529,1292.37 505.611,1289.86 507.694,1287.26 509.776,1284.59 511.859,1281.83 513.941,1279 516.024,1276.09 518.106,1273.11 520.189,1270.04 \n  522.271,1266.91 524.354,1263.7 526.437,1260.42 528.519,1257.08 530.602,1253.66 532.684,1250.18 534.767,1246.63 536.849,1243.02 538.932,1239.35 541.014,1235.62 \n  543.097,1231.83 545.179,1227.98 547.262,1224.08 549.344,1220.12 551.427,1216.11 553.509,1212.04 555.592,1207.93 557.675,1203.77 559.757,1199.57 561.84,1195.32 \n  563.922,1191.03 566.005,1186.7 568.087,1182.33 570.17,1177.92 572.252,1173.47 574.335,1169 576.417,1164.49 578.5,1159.95 580.582,1155.39 582.665,1150.79 \n  584.747,1146.18 586.83,1141.54 588.913,1136.88 590.995,1132.21 593.078,1127.52 595.16,1122.81 597.243,1118.09 599.325,1113.37 601.408,1108.63 603.49,1103.89 \n  605.573,1099.14 607.655,1094.4 609.738,1089.65 611.82,1084.9 613.903,1080.17 615.985,1075.43 618.068,1070.71 620.151,1066 622.233,1061.3 624.316,1056.61 \n  626.398,1051.95 628.481,1047.3 630.563,1042.68 632.646,1038.08 634.728,1033.51 636.811,1028.96 638.893,1024.45 640.976,1019.97 643.058,1015.53 645.141,1011.12 \n  647.223,1006.76 649.306,1002.43 651.389,998.156 653.471,993.926 655.554,989.744 657.636,985.615 659.719,981.539 661.801,977.52 663.884,973.559 665.966,969.659 \n  668.049,965.822 670.131,962.051 672.214,958.347 674.296,954.712 676.379,951.151 678.461,947.663 680.544,944.252 682.627,940.92 684.709,937.668 686.792,934.5 \n  688.874,931.417 690.957,928.422 693.039,925.516 695.122,922.703 697.204,919.982 699.287,917.358 701.369,914.832 703.452,912.406 705.534,910.082 707.617,907.861 \n  709.699,905.747 711.782,903.741 713.865,901.844 715.947,900.059 718.03,898.387 720.112,896.83 722.195,895.39 724.277,894.068 726.36,892.867 728.442,891.787 \n  730.525,890.831 732.607,890 734.69,889.295 736.772,888.718 738.855,888.269 740.937,887.951 743.02,887.765 745.103,887.711 747.185,887.791 749.268,888.006 \n  751.35,888.357 753.433,888.845 755.515,889.47 757.598,890.234 759.68,891.136 761.763,892.178 763.845,893.36 765.928,894.683 768.01,896.147 770.093,897.752 \n  772.175,899.498 774.258,901.385 776.341,903.414 778.423,905.584 780.506,907.896 782.588,910.347 784.671,912.939 786.753,915.671 788.836,918.541 790.918,921.55 \n  793.001,924.696 795.083,927.978 797.166,931.396 799.248,934.947 801.331,938.63 803.413,942.445 805.496,946.388 807.579,950.459 809.661,954.656 811.744,958.975 \n  813.826,963.416 815.909,967.976 817.991,972.651 820.074,977.44 822.156,982.34 824.239,987.347 826.321,992.459 828.404,997.672 830.486,1002.98 832.569,1008.39 \n  834.651,1013.88 836.734,1019.46 838.817,1025.12 840.899,1030.86 842.982,1036.68 845.064,1042.56 847.147,1048.5 849.229,1054.51 851.312,1060.56 853.394,1066.67 \n  855.477,1072.81 857.559,1079 859.642,1085.21 861.724,1091.45 863.807,1097.7 865.889,1103.97 867.972,1110.24 870.055,1116.51 872.137,1122.78 874.22,1129.02 \n  876.302,1135.24 878.385,1141.44 880.467,1147.59 882.55,1153.69 884.632,1159.75 886.715,1165.74 888.797,1171.65 890.88,1177.49 892.962,1183.24 895.045,1188.9 \n  897.127,1194.45 899.21,1199.88 901.293,1205.19 903.375,1210.37 905.458,1215.41 907.54,1220.3 909.623,1225.03 911.705,1229.58 913.788,1233.96 915.87,1238.15 \n  917.953,1242.14 920.035,1245.93 922.118,1249.49 924.2,1252.83 926.283,1255.94 928.365,1258.8 930.448,1261.41 932.531,1263.75 934.613,1265.82 936.696,1267.61 \n  938.778,1269.11 940.861,1270.31 942.943,1271.2 945.026,1271.78 947.108,1272.04 949.191,1271.96 951.273,1271.55 953.356,1270.8 955.438,1269.7 957.521,1268.24 \n  959.603,1266.42 961.686,1264.23 963.769,1261.68 965.851,1258.74 967.934,1255.43 970.016,1251.74 972.099,1247.67 974.181,1243.22 976.264,1238.38 978.346,1233.15 \n  980.429,1227.55 982.511,1221.56 984.594,1215.2 986.676,1208.46 988.759,1201.36 990.841,1193.89 992.924,1186.07 995.007,1177.9 997.089,1169.4 999.172,1160.57 \n  1001.25,1151.43 1003.34,1141.99 1005.42,1132.26 1007.5,1122.27 1009.58,1112.02 1011.67,1101.55 1013.75,1090.86 1015.83,1079.99 1017.91,1068.95 1020,1057.77 \n  1022.08,1046.48 1024.16,1035.11 1026.24,1023.69 1028.33,1012.25 1030.41,1000.83 1032.49,989.453 1034.57,978.165 1036.66,967.004 1038.74,956.009 1040.82,945.222 \n  1042.9,934.686 1044.99,924.446 1047.07,914.547 1049.15,905.037 1051.23,895.963 1053.32,887.374 1055.4,879.318 1057.48,871.847 1059.57,865.01 1061.65,858.857 \n  1063.73,853.439 1065.81,848.804 1067.9,845.002 1069.98,842.08 1072.06,840.083 1074.14,839.057 1076.23,839.042 1078.31,840.078 1080.39,842.201 1082.47,845.441 \n  1084.56,849.826 1086.64,855.379 1088.72,862.116 1090.8,870.047 1092.89,879.176 1094.97,889.499 1097.05,901.001 1099.13,913.663 1101.22,927.452 1103.3,942.324 \n  1105.38,958.227 1107.46,975.094 1109.55,992.847 1111.63,1011.39 1113.71,1030.62 1115.79,1050.42 1117.88,1070.64 1119.96,1091.14 1122.04,1111.75 1124.12,1132.29 \n  1126.21,1152.55 1128.29,1172.32 1130.37,1191.39 1132.45,1209.5 1134.54,1226.4 1136.62,1241.83 1138.7,1255.53 1140.78,1267.22 1142.87,1276.62 1144.95,1283.46 \n  1147.03,1287.48 1149.11,1288.43 1151.2,1286.08 1153.28,1280.22 1155.36,1270.7 1157.44,1257.37 1159.53,1240.18 1161.61,1219.11 1163.69,1194.24 1165.77,1165.7 \n  1167.86,1133.76 1169.94,1098.75 1172.02,1061.16 1174.1,1021.58 1176.19,980.715 1178.27,939.435 1180.35,898.72 1182.43,859.677 1184.52,823.524 1186.6,791.562 \n  1188.68,765.148 1190.76,745.648 1192.85,734.379 1194.93,732.541 1197.01,741.13 1199.09,760.836 1201.18,791.94 1203.26,834.183 1205.34,886.657 1207.42,947.684 \n  1209.51,1014.73 1211.59,1084.35 1213.67,1152.2 1215.76,1213.16 1217.84,1261.51 1219.92,1291.38 1222,1297.28 1224.09,1274.88 1226.17,1222.01 1228.25,1139.81 \n  1230.33,1033.94 1232.42,915.73 1234.5,802.73 1236.58,718.311 1238.66,689.034 1240.75,738.284 1242.83,874.261 1244.91,1072.9 1246.99,1265.95 1249.08,1358.97 \n  1251.16,1293.2 1253.24,1101.47 1255.32,884.826 1257.41,735.228 1259.49,690.624 1261.57,741.493 1263.65,855.558 1265.74,996.934 1267.82,1135.7 1269.9,1251.06 \n  1271.98,1331.21 1274.07,1371.86 1276.15,1374.34 1278.23,1343.71 1280.31,1287.18 1282.4,1212.79 1284.48,1128.48 1286.56,1041.45 1288.64,957.792 1290.73,882.309 \n  1292.81,818.474 1294.89,768.515 1296.97,733.554 1299.06,713.778 1301.14,708.622 1303.22,716.954 1305.3,737.237 1307.39,767.68 1309.47,806.36 1311.55,851.323 \n  1313.63,900.666 1315.72,952.597 1317.8,1005.47 1319.88,1057.84 1321.96,1108.42 1324.05,1156.15 1326.13,1200.17 1328.21,1239.79 1330.29,1274.51 1332.38,1304 \n  1334.46,1328.06 1336.54,1346.63 1338.62,1359.76 1340.71,1367.58 1342.79,1370.31 1344.87,1368.25 1346.95,1361.72 1349.04,1351.08 1351.12,1336.74 1353.2,1319.11 \n  1355.28,1298.6 1357.37,1275.63 1359.45,1250.62 1361.53,1223.96 1363.61,1196.04 1365.7,1167.23 1367.78,1137.87 1369.86,1108.29 1371.95,1078.78 1374.03,1049.63 \n  1376.11,1021.07 1378.19,993.33 1380.28,966.612 1382.36,941.088 1384.44,916.908 1386.52,894.201 1388.61,873.073 1390.69,853.61 1392.77,835.881 1394.85,819.933 \n  1396.94,805.802 1399.02,793.504 1401.1,783.043 1403.18,774.412 1405.27,767.589 1407.35,762.546 1409.43,759.242 1411.51,757.631 1413.6,757.657 1415.68,759.26 \n  1417.76,762.376 1419.84,766.933 1421.93,772.859 1424.01,780.077 1426.09,788.509 1428.17,798.074 1430.26,808.693 1432.34,820.284 1434.42,832.765 1436.5,846.055 \n  1438.59,860.075 1440.67,874.745 1442.75,889.989 1444.83,905.729 1446.92,921.893 1449,938.409 1451.08,955.206 1453.16,972.219 1455.25,989.381 1457.33,1006.63 \n  1459.41,1023.91 1461.49,1041.16 1463.58,1058.34 1465.66,1075.38 1467.74,1092.23 1469.82,1108.87 1471.91,1125.23 1473.99,1141.29 1476.07,1157 1478.15,1172.34 \n  1480.24,1187.26 1482.32,1201.74 1484.4,1215.75 1486.48,1229.27 1488.57,1242.28 1490.65,1254.76 1492.73,1266.68 1494.81,1278.04 1496.9,1288.82 1498.98,1299 \n  1501.06,1308.59 1503.14,1317.57 1505.23,1325.94 1507.31,1333.69 1509.39,1340.82 1511.47,1347.33 1513.56,1353.22 1515.64,1358.49 1517.72,1363.14 1519.8,1367.18 \n  1521.89,1370.61 1523.97,1373.44 1526.05,1375.68 1528.14,1377.33 1530.22,1378.41 1532.3,1378.92 1534.38,1378.88 1536.47,1378.29 1538.55,1377.17 1540.63,1375.53 \n  1542.71,1373.38 1544.8,1370.73 1546.88,1367.61 1548.96,1364.02 1551.04,1359.98 1553.13,1355.51 1555.21,1350.61 1557.29,1345.3 1559.37,1339.61 1561.46,1333.54 \n  1563.54,1327.11 1565.62,1320.34 1567.7,1313.24 1569.79,1305.82 1571.87,1298.11 1573.95,1290.12 1576.03,1281.87 1578.12,1273.36 1580.2,1264.62 1582.28,1255.67 \n  1584.36,1246.5 1586.45,1237.15 1588.53,1227.63 1590.61,1217.95 1592.69,1208.12 1594.78,1198.17 1596.86,1188.09 1598.94,1177.92 1601.02,1167.66 1603.11,1157.32 \n  1605.19,1146.92 1607.27,1136.47 1609.35,1125.98 1611.44,1115.47 1613.52,1104.94 1615.6,1094.42 1617.68,1083.9 1619.77,1073.41 1621.85,1062.94 1623.93,1052.52 \n  1626.01,1042.15 1628.1,1031.85 1630.18,1021.62 1632.26,1011.46 1634.34,1001.4 1636.43,991.439 1638.51,981.583 1640.59,971.842 1642.67,962.224 1644.76,952.737 \n  1646.84,943.387 1648.92,934.181 1651,925.127 1653.09,916.23 1655.17,907.496 1657.25,898.931 1659.33,890.54 1661.42,882.33 1663.5,874.303 1665.58,866.466 \n  1667.66,858.823 1669.75,851.377 1671.83,844.132 1673.91,837.093 1676,830.263 1678.08,823.644 1680.16,817.24 1682.24,811.053 1684.33,805.086 1686.41,799.341 \n  1688.49,793.82 1690.57,788.525 1692.66,783.458 1694.74,778.619 1696.82,774.01 1698.9,769.633 1700.99,765.487 1703.07,761.574 1705.15,757.894 1707.23,754.448 \n  1709.32,751.234 1711.4,748.255 1713.48,745.508 1715.56,742.994 1717.65,740.713 1719.73,738.663 1721.81,736.844 1723.89,735.255 1725.98,733.894 1728.06,732.762 \n  1730.14,731.856 1732.22,731.174 1734.31,730.716 1736.39,730.479 1738.47,730.462 1740.55,730.663 1742.64,731.08 1744.72,731.711 1746.8,732.553 1748.88,733.605 \n  1750.97,734.864 1753.05,736.327 1755.13,737.991 1757.21,739.856 1759.3,741.916 1761.38,744.171 1763.46,746.617 1765.54,749.251 1767.63,752.07 1769.71,755.071 \n  1771.79,758.251 1773.87,761.607 1775.96,765.136 1778.04,768.834 1780.12,772.699 1782.2,776.726 1784.29,780.914 1786.37,785.257 1788.45,789.753 1790.53,794.399 \n  1792.62,799.19 1794.7,804.124 1796.78,809.197 1798.86,814.405 1800.95,819.744 1803.03,825.212 1805.11,830.804 1807.19,836.517 1809.28,842.347 1811.36,848.29 \n  1813.44,854.343 1815.52,860.503 1817.61,866.765 1819.69,873.126 1821.77,879.582 1823.85,886.129 1825.94,892.764 1828.02,899.483 1830.1,906.282 1832.19,913.158 \n  1834.27,920.107 1836.35,927.126 1838.43,934.21 1840.52,941.356 1842.6,948.56 1844.68,955.819 1846.76,963.129 1848.85,970.486 1850.93,977.888 1853.01,985.329 \n  1855.09,992.808 1857.18,1000.32 1859.26,1007.86 1861.34,1015.43 1863.42,1023.02 1865.51,1030.63 1867.59,1038.25 1869.67,1045.89 1871.75,1053.54 1873.84,1061.19 \n  1875.92,1068.84 1878,1076.49 1880.08,1084.14 1882.17,1091.78 1884.25,1099.41 1886.33,1107.03 1888.41,1114.62 1890.5,1122.2 1892.58,1129.76 1894.66,1137.28 \n  1896.74,1144.78 1898.83,1152.24 1900.91,1159.67 1902.99,1167.06 1905.07,1174.41 1907.16,1181.71 1909.24,1188.96 1911.32,1196.16 1913.4,1203.31 1915.49,1210.41 \n  1917.57,1217.44 1919.65,1224.41 1921.73,1231.32 1923.82,1238.16 1925.9,1244.93 1927.98,1251.63 1930.06,1258.25 1932.15,1264.79 1934.23,1271.26 1936.31,1277.64 \n  1938.39,1283.93 1940.48,1290.14 1942.56,1296.26 1944.64,1302.29 1946.72,1308.22 1948.81,1314.05 1950.89,1319.78 1952.97,1325.42 1955.05,1330.95 1957.14,1336.37 \n  1959.22,1341.68 1961.3,1346.89 1963.38,1351.98 1965.47,1356.96 1967.55,1361.82 1969.63,1366.56 1971.71,1371.18 1973.8,1375.68 1975.88,1380.06 1977.96,1384.31 \n  1980.04,1388.43 1982.13,1392.42 1984.21,1396.28 1986.29,1400.01 1988.38,1403.6 1990.46,1407.06 1992.54,1410.38 1994.62,1413.56 1996.71,1416.59 1998.79,1419.49 \n  2000.87,1422.24 2002.95,1424.84 2005.04,1427.3 2007.12,1429.61 2009.2,1431.76 2011.28,1433.77 2013.37,1435.62 2015.45,1437.32 2017.53,1438.86 2019.61,1440.25 \n  2021.7,1441.48 2023.78,1442.55 2025.86,1443.46 2027.94,1444.21 2030.03,1444.79 2032.11,1445.21 2034.19,1445.47 2036.27,1445.56 2038.36,1445.48 2040.44,1445.24 \n  2042.52,1444.82 2044.6,1444.24 2046.69,1443.48 2048.77,1442.56 2050.85,1441.46 2052.93,1440.19 2055.02,1438.74 2057.1,1437.12 2059.18,1435.33 2061.26,1433.35 \n  2063.35,1431.2 2065.43,1428.87 2067.51,1426.37 2069.59,1423.68 2071.68,1420.81 2073.76,1417.77 2075.84,1414.54 2077.92,1411.13 2080.01,1407.54 2082.09,1403.76 \n  2084.17,1399.81 2086.25,1395.66 2088.34,1391.34 2090.42,1386.83 2092.5,1382.13 2094.58,1377.25 2096.67,1372.19 2098.75,1366.93 2100.83,1361.49 2102.91,1355.87 \n  2105,1350.05 2107.08,1344.05 2109.16,1337.86 2111.24,1331.49 2113.33,1324.92 2115.41,1318.17 2117.49,1311.23 2119.57,1304.09 2121.66,1296.77 2123.74,1289.27 \n  2125.82,1281.57 2127.9,1273.68 2129.99,1265.6 2132.07,1257.33 2134.15,1248.88 2136.23,1240.23 2138.32,1231.4 2140.4,1222.37 2142.48,1213.16 2144.57,1203.75 \n  2146.65,1194.16 2148.73,1184.37 2150.81,1174.4 2152.9,1164.23 2154.98,1153.88 2157.06,1143.34 2159.14,1132.61 2161.23,1121.69 2163.31,1110.58 2165.39,1099.28 \n  2167.47,1087.79 2169.56,1076.11 2171.64,1064.25 2173.72,1052.2 2175.8,1039.96 2177.89,1027.53 2179.97,1014.92 2182.05,1002.11 2184.13,989.125 2186.22,975.949 \n  2188.3,962.587 2190.38,949.039 2192.46,935.305 2194.55,921.385 2196.63,907.281 2198.71,892.992 2200.79,878.518 2202.88,863.86 2204.96,849.019 2207.04,833.994 \n  2209.12,818.786 2211.21,803.396 2213.29,787.823 2215.37,772.069 2217.45,756.133 2219.54,740.016 2221.62,723.719 2223.7,707.242 2225.78,690.586 2227.87,673.75 \n  2229.95,656.736 2232.03,639.543 2234.11,622.173 2236.2,604.625 2238.28,586.901 2240.36,569.001 2242.44,550.925 2244.53,532.674 2246.61,514.248 2248.69,495.649 \n  2250.77,476.875 2252.86,457.929 2254.94,438.81 2257.02,419.52 2259.1,400.058 2261.19,380.425 2263.27,360.623 2265.35,340.65 2267.43,320.509 2269.52,300.199 \n  2271.6,279.722 2273.68,259.077 2275.76,238.266 2277.85,217.289 2279.93,196.147 2282.01,174.839 2284.09,153.368 2286.18,131.733 2288.26,109.936 2290.34,87.9763 \n  \n  \"/>\n<polyline clip-path=\"url(#clip692)\" style=\"stroke:#3da44d; stroke-linecap:round; stroke-linejoin:round; stroke-width:8; stroke-opacity:1; fill:none\" points=\"\n  209.891,1093.46 211.974,1093.49 214.057,1093.52 216.139,1093.55 218.222,1093.57 220.304,1093.59 222.387,1093.61 224.469,1093.63 226.552,1093.65 228.634,1093.66 \n  230.717,1093.67 232.799,1093.68 234.882,1093.69 236.964,1093.7 239.047,1093.7 241.129,1093.71 243.212,1093.71 245.295,1093.71 247.377,1093.72 249.46,1093.72 \n  251.542,1093.72 253.625,1093.72 255.707,1093.71 257.79,1093.71 259.872,1093.71 261.955,1093.71 264.037,1093.7 266.12,1093.7 268.202,1093.7 270.285,1093.69 \n  272.367,1093.69 274.45,1093.68 276.533,1093.68 278.615,1093.67 280.698,1093.67 282.78,1093.66 284.863,1093.66 286.945,1093.65 289.028,1093.65 291.11,1093.64 \n  293.193,1093.64 295.275,1093.64 297.358,1093.63 299.44,1093.63 301.523,1093.62 303.605,1093.62 305.688,1093.62 307.771,1093.61 309.853,1093.61 311.936,1093.61 \n  314.018,1093.6 316.101,1093.6 318.183,1093.6 320.266,1093.6 322.348,1093.6 324.431,1093.6 326.513,1093.59 328.596,1093.59 330.678,1093.59 332.761,1093.59 \n  334.843,1093.59 336.926,1093.59 339.009,1093.59 341.091,1093.59 343.174,1093.59 345.256,1093.6 347.339,1093.6 349.421,1093.6 351.504,1093.6 353.586,1093.6 \n  355.669,1093.6 357.751,1093.6 359.834,1093.61 361.916,1093.61 363.999,1093.61 366.081,1093.61 368.164,1093.62 370.247,1093.62 372.329,1093.62 374.412,1093.62 \n  376.494,1093.63 378.577,1093.63 380.659,1093.63 382.742,1093.63 384.824,1093.64 386.907,1093.64 388.989,1093.64 391.072,1093.64 393.154,1093.65 395.237,1093.65 \n  397.319,1093.65 399.402,1093.65 401.485,1093.65 403.567,1093.66 405.65,1093.66 407.732,1093.66 409.815,1093.66 411.897,1093.66 413.98,1093.66 416.062,1093.66 \n  418.145,1093.67 420.227,1093.67 422.31,1093.67 424.392,1093.67 426.475,1093.67 428.557,1093.67 430.64,1093.67 432.723,1093.67 434.805,1093.67 436.888,1093.67 \n  438.97,1093.67 441.053,1093.66 443.135,1093.66 445.218,1093.66 447.3,1093.66 449.383,1093.66 451.465,1093.66 453.548,1093.66 455.63,1093.65 457.713,1093.65 \n  459.795,1093.65 461.878,1093.65 463.961,1093.65 466.043,1093.64 468.126,1093.64 470.208,1093.64 472.291,1093.63 474.373,1093.63 476.456,1093.63 478.538,1093.62 \n  480.621,1093.62 482.703,1093.62 484.786,1093.62 486.868,1093.61 488.951,1093.61 491.033,1093.6 493.116,1093.6 495.199,1093.6 497.281,1093.59 499.364,1093.59 \n  501.446,1093.59 503.529,1093.58 505.611,1093.58 507.694,1093.58 509.776,1093.58 511.859,1093.57 513.941,1093.57 516.024,1093.57 518.106,1093.56 520.189,1093.56 \n  522.271,1093.56 524.354,1093.56 526.437,1093.55 528.519,1093.55 530.602,1093.55 532.684,1093.55 534.767,1093.55 536.849,1093.55 538.932,1093.54 541.014,1093.54 \n  543.097,1093.54 545.179,1093.54 547.262,1093.54 549.344,1093.54 551.427,1093.54 553.509,1093.54 555.592,1093.54 557.675,1093.54 559.757,1093.54 561.84,1093.54 \n  563.922,1093.55 566.005,1093.55 568.087,1093.55 570.17,1093.55 572.252,1093.55 574.335,1093.56 576.417,1093.56 578.5,1093.56 580.582,1093.57 582.665,1093.57 \n  584.747,1093.57 586.83,1093.58 588.913,1093.58 590.995,1093.59 593.078,1093.59 595.16,1093.59 597.243,1093.6 599.325,1093.6 601.408,1093.61 603.49,1093.61 \n  605.573,1093.62 607.655,1093.62 609.738,1093.63 611.82,1093.64 613.903,1093.64 615.985,1093.65 618.068,1093.65 620.151,1093.66 622.233,1093.67 624.316,1093.67 \n  626.398,1093.68 628.481,1093.68 630.563,1093.69 632.646,1093.69 634.728,1093.7 636.811,1093.71 638.893,1093.71 640.976,1093.72 643.058,1093.72 645.141,1093.73 \n  647.223,1093.73 649.306,1093.74 651.389,1093.74 653.471,1093.75 655.554,1093.75 657.636,1093.76 659.719,1093.76 661.801,1093.77 663.884,1093.77 665.966,1093.77 \n  668.049,1093.78 670.131,1093.78 672.214,1093.78 674.296,1093.78 676.379,1093.79 678.461,1093.79 680.544,1093.79 682.627,1093.79 684.709,1093.79 686.792,1093.79 \n  688.874,1093.79 690.957,1093.79 693.039,1093.79 695.122,1093.79 697.204,1093.79 699.287,1093.79 701.369,1093.78 703.452,1093.78 705.534,1093.78 707.617,1093.78 \n  709.699,1093.77 711.782,1093.77 713.865,1093.76 715.947,1093.76 718.03,1093.76 720.112,1093.75 722.195,1093.75 724.277,1093.74 726.36,1093.73 728.442,1093.73 \n  730.525,1093.72 732.607,1093.72 734.69,1093.71 736.772,1093.7 738.855,1093.69 740.937,1093.69 743.02,1093.68 745.103,1093.67 747.185,1093.66 749.268,1093.66 \n  751.35,1093.65 753.433,1093.64 755.515,1093.63 757.598,1093.63 759.68,1093.62 761.763,1093.61 763.845,1093.6 765.928,1093.59 768.01,1093.59 770.093,1093.58 \n  772.175,1093.57 774.258,1093.57 776.341,1093.56 778.423,1093.55 780.506,1093.55 782.588,1093.54 784.671,1093.53 786.753,1093.53 788.836,1093.52 790.918,1093.52 \n  793.001,1093.51 795.083,1093.51 797.166,1093.5 799.248,1093.5 801.331,1093.5 803.413,1093.49 805.496,1093.49 807.579,1093.49 809.661,1093.49 811.744,1093.49 \n  813.826,1093.49 815.909,1093.49 817.991,1093.49 820.074,1093.49 822.156,1093.49 824.239,1093.49 826.321,1093.49 828.404,1093.49 830.486,1093.5 832.569,1093.5 \n  834.651,1093.5 836.734,1093.51 838.817,1093.51 840.899,1093.52 842.982,1093.52 845.064,1093.53 847.147,1093.54 849.229,1093.54 851.312,1093.55 853.394,1093.55 \n  855.477,1093.56 857.559,1093.57 859.642,1093.58 861.724,1093.58 863.807,1093.59 865.889,1093.6 867.972,1093.61 870.055,1093.61 872.137,1093.62 874.22,1093.63 \n  876.302,1093.64 878.385,1093.64 880.467,1093.65 882.55,1093.66 884.632,1093.67 886.715,1093.67 888.797,1093.68 890.88,1093.69 892.962,1093.69 895.045,1093.7 \n  897.127,1093.7 899.21,1093.71 901.293,1093.71 903.375,1093.72 905.458,1093.72 907.54,1093.73 909.623,1093.73 911.705,1093.73 913.788,1093.74 915.87,1093.74 \n  917.953,1093.74 920.035,1093.74 922.118,1093.74 924.2,1093.74 926.283,1093.74 928.365,1093.74 930.448,1093.74 932.531,1093.73 934.613,1093.73 936.696,1093.73 \n  938.778,1093.73 940.861,1093.72 942.943,1093.72 945.026,1093.71 947.108,1093.71 949.191,1093.71 951.273,1093.7 953.356,1093.7 955.438,1093.69 957.521,1093.68 \n  959.603,1093.68 961.686,1093.67 963.769,1093.67 965.851,1093.66 967.934,1093.65 970.016,1093.65 972.099,1093.64 974.181,1093.64 976.264,1093.63 978.346,1093.63 \n  980.429,1093.62 982.511,1093.62 984.594,1093.61 986.676,1093.61 988.759,1093.6 990.841,1093.6 992.924,1093.6 995.007,1093.59 997.089,1093.59 999.172,1093.59 \n  1001.25,1093.59 1003.34,1093.59 1005.42,1093.58 1007.5,1093.58 1009.58,1093.58 1011.67,1093.58 1013.75,1093.59 1015.83,1093.59 1017.91,1093.59 1020,1093.59 \n  1022.08,1093.59 1024.16,1093.6 1026.24,1093.6 1028.33,1093.6 1030.41,1093.61 1032.49,1093.61 1034.57,1093.61 1036.66,1093.62 1038.74,1093.62 1040.82,1093.63 \n  1042.9,1093.63 1044.99,1093.63 1047.07,1093.64 1049.15,1093.64 1051.23,1093.64 1053.32,1093.64 1055.4,1093.65 1057.48,1093.65 1059.57,1093.65 1061.65,1093.65 \n  1063.73,1093.65 1065.81,1093.65 1067.9,1093.65 1069.98,1093.65 1072.06,1093.64 1074.14,1093.64 1076.23,1093.64 1078.31,1093.63 1080.39,1093.63 1082.47,1093.62 \n  1084.56,1093.62 1086.64,1093.61 1088.72,1093.61 1090.8,1093.6 1092.89,1093.6 1094.97,1093.59 1097.05,1093.59 1099.13,1093.59 1101.22,1093.58 1103.3,1093.58 \n  1105.38,1093.58 1107.46,1093.59 1109.55,1093.59 1111.63,1093.59 1113.71,1093.6 1115.79,1093.61 1117.88,1093.62 1119.96,1093.63 1122.04,1093.64 1124.12,1093.65 \n  1126.21,1093.67 1128.29,1093.68 1130.37,1093.7 1132.45,1093.71 1134.54,1093.72 1136.62,1093.74 1138.7,1093.75 1140.78,1093.75 1142.87,1093.76 1144.95,1093.76 \n  1147.03,1093.76 1149.11,1093.75 1151.2,1093.74 1153.28,1093.73 1155.36,1093.71 1157.44,1093.69 1159.53,1093.67 1161.61,1093.64 1163.69,1093.62 1165.77,1093.59 \n  1167.86,1093.56 1169.94,1093.54 1172.02,1093.52 1174.1,1093.51 1176.19,1093.5 1178.27,1093.5 1180.35,1093.5 1182.43,1093.51 1184.52,1093.53 1186.6,1093.55 \n  1188.68,1093.57 1190.76,1093.6 1192.85,1093.63 1194.93,1093.66 1197.01,1093.69 1199.09,1093.71 1201.18,1093.72 1203.26,1093.73 1205.34,1093.73 1207.42,1093.73 \n  1209.51,1093.72 1211.59,1093.7 1213.67,1093.68 1215.76,1093.66 1217.84,1093.65 1219.92,1093.63 1222,1093.62 1224.09,1093.6 1226.17,1093.59 1228.25,1093.58 \n  1230.33,1093.58 1232.42,1093.57 1234.5,1093.58 1236.58,1093.59 1238.66,1093.62 1240.75,1093.66 1242.83,1093.7 1244.91,1093.73 1246.99,1093.72 1249.08,1093.66 \n  1251.16,1093.59 1253.24,1093.54 1255.32,1093.54 1257.41,1093.58 1259.49,1093.64 1261.57,1093.69 1263.65,1093.72 1265.74,1093.73 1267.82,1093.72 1269.9,1093.69 \n  1271.98,1093.66 1274.07,1093.63 1276.15,1093.61 1278.23,1093.59 1280.31,1093.59 1282.4,1093.59 1284.48,1093.6 1286.56,1093.61 1288.64,1093.62 1290.73,1093.63 \n  1292.81,1093.63 1294.89,1093.63 1296.97,1093.62 1299.06,1093.61 1301.14,1093.6 1303.22,1093.59 1305.3,1093.58 1307.39,1093.57 1309.47,1093.57 1311.55,1093.58 \n  1313.63,1093.58 1315.72,1093.6 1317.8,1093.61 1319.88,1093.63 1321.96,1093.65 1324.05,1093.68 1326.13,1093.7 1328.21,1093.71 1330.29,1093.73 1332.38,1093.74 \n  1334.46,1093.75 1336.54,1093.75 1338.62,1093.75 1340.71,1093.75 1342.79,1093.74 1344.87,1093.73 1346.95,1093.71 1349.04,1093.7 1351.12,1093.68 1353.2,1093.67 \n  1355.28,1093.65 1357.37,1093.63 1359.45,1093.62 1361.53,1093.61 1363.61,1093.6 1365.7,1093.59 1367.78,1093.58 1369.86,1093.58 1371.95,1093.57 1374.03,1093.57 \n  1376.11,1093.57 1378.19,1093.58 1380.28,1093.58 1382.36,1093.58 1384.44,1093.59 1386.52,1093.6 1388.61,1093.6 1390.69,1093.61 1392.77,1093.61 1394.85,1093.62 \n  1396.94,1093.62 1399.02,1093.63 1401.1,1093.63 1403.18,1093.63 1405.27,1093.63 1407.35,1093.63 1409.43,1093.63 1411.51,1093.63 1413.6,1093.63 1415.68,1093.63 \n  1417.76,1093.63 1419.84,1093.62 1421.93,1093.62 1424.01,1093.62 1426.09,1093.61 1428.17,1093.61 1430.26,1093.61 1432.34,1093.61 1434.42,1093.61 1436.5,1093.6 \n  1438.59,1093.6 1440.67,1093.6 1442.75,1093.6 1444.83,1093.6 1446.92,1093.6 1449,1093.6 1451.08,1093.6 1453.16,1093.61 1455.25,1093.61 1457.33,1093.61 \n  1459.41,1093.61 1461.49,1093.62 1463.58,1093.62 1465.66,1093.62 1467.74,1093.63 1469.82,1093.63 1471.91,1093.64 1473.99,1093.64 1476.07,1093.64 1478.15,1093.65 \n  1480.24,1093.65 1482.32,1093.65 1484.4,1093.66 1486.48,1093.66 1488.57,1093.66 1490.65,1093.67 1492.73,1093.67 1494.81,1093.67 1496.9,1093.67 1498.98,1093.67 \n  1501.06,1093.68 1503.14,1093.68 1505.23,1093.68 1507.31,1093.68 1509.39,1093.68 1511.47,1093.68 1513.56,1093.68 1515.64,1093.68 1517.72,1093.67 1519.8,1093.67 \n  1521.89,1093.67 1523.97,1093.67 1526.05,1093.67 1528.14,1093.67 1530.22,1093.67 1532.3,1093.66 1534.38,1093.66 1536.47,1093.66 1538.55,1093.66 1540.63,1093.66 \n  1542.71,1093.66 1544.8,1093.65 1546.88,1093.65 1548.96,1093.65 1551.04,1093.65 1553.13,1093.65 1555.21,1093.64 1557.29,1093.64 1559.37,1093.64 1561.46,1093.64 \n  1563.54,1093.64 1565.62,1093.64 1567.7,1093.64 1569.79,1093.63 1571.87,1093.63 1573.95,1093.63 1576.03,1093.63 1578.12,1093.63 1580.2,1093.63 1582.28,1093.63 \n  1584.36,1093.63 1586.45,1093.63 1588.53,1093.63 1590.61,1093.63 1592.69,1093.63 1594.78,1093.63 1596.86,1093.63 1598.94,1093.63 1601.02,1093.63 1603.11,1093.63 \n  1605.19,1093.63 1607.27,1093.63 1609.35,1093.63 1611.44,1093.63 1613.52,1093.63 1615.6,1093.63 1617.68,1093.63 1619.77,1093.63 1621.85,1093.63 1623.93,1093.63 \n  1626.01,1093.63 1628.1,1093.63 1630.18,1093.63 1632.26,1093.63 1634.34,1093.63 1636.43,1093.63 1638.51,1093.63 1640.59,1093.63 1642.67,1093.63 1644.76,1093.64 \n  1646.84,1093.64 1648.92,1093.64 1651,1093.64 1653.09,1093.64 1655.17,1093.64 1657.25,1093.64 1659.33,1093.64 1661.42,1093.64 1663.5,1093.64 1665.58,1093.64 \n  1667.66,1093.64 1669.75,1093.64 1671.83,1093.64 1673.91,1093.64 1676,1093.64 1678.08,1093.64 1680.16,1093.64 1682.24,1093.64 1684.33,1093.64 1686.41,1093.64 \n  1688.49,1093.64 1690.57,1093.64 1692.66,1093.64 1694.74,1093.64 1696.82,1093.64 1698.9,1093.64 1700.99,1093.64 1703.07,1093.64 1705.15,1093.64 1707.23,1093.64 \n  1709.32,1093.65 1711.4,1093.65 1713.48,1093.65 1715.56,1093.65 1717.65,1093.65 1719.73,1093.65 1721.81,1093.65 1723.89,1093.65 1725.98,1093.65 1728.06,1093.65 \n  1730.14,1093.65 1732.22,1093.65 1734.31,1093.65 1736.39,1093.65 1738.47,1093.64 1740.55,1093.64 1742.64,1093.64 1744.72,1093.64 1746.8,1093.64 1748.88,1093.64 \n  1750.97,1093.64 1753.05,1093.64 1755.13,1093.64 1757.21,1093.64 1759.3,1093.64 1761.38,1093.64 1763.46,1093.64 1765.54,1093.64 1767.63,1093.64 1769.71,1093.64 \n  1771.79,1093.64 1773.87,1093.64 1775.96,1093.64 1778.04,1093.63 1780.12,1093.63 1782.2,1093.63 1784.29,1093.63 1786.37,1093.63 1788.45,1093.63 1790.53,1093.63 \n  1792.62,1093.63 1794.7,1093.63 1796.78,1093.63 1798.86,1093.63 1800.95,1093.62 1803.03,1093.62 1805.11,1093.62 1807.19,1093.62 1809.28,1093.62 1811.36,1093.62 \n  1813.44,1093.62 1815.52,1093.62 1817.61,1093.62 1819.69,1093.62 1821.77,1093.61 1823.85,1093.61 1825.94,1093.61 1828.02,1093.61 1830.1,1093.61 1832.19,1093.61 \n  1834.27,1093.61 1836.35,1093.61 1838.43,1093.61 1840.52,1093.61 1842.6,1093.61 1844.68,1093.61 1846.76,1093.61 1848.85,1093.6 1850.93,1093.6 1853.01,1093.6 \n  1855.09,1093.6 1857.18,1093.6 1859.26,1093.6 1861.34,1093.6 1863.42,1093.6 1865.51,1093.6 1867.59,1093.6 1869.67,1093.6 1871.75,1093.6 1873.84,1093.6 \n  1875.92,1093.6 1878,1093.6 1880.08,1093.6 1882.17,1093.61 1884.25,1093.61 1886.33,1093.61 1888.41,1093.61 1890.5,1093.61 1892.58,1093.61 1894.66,1093.61 \n  1896.74,1093.61 1898.83,1093.61 1900.91,1093.61 1902.99,1093.61 1905.07,1093.62 1907.16,1093.62 1909.24,1093.62 1911.32,1093.62 1913.4,1093.62 1915.49,1093.62 \n  1917.57,1093.62 1919.65,1093.63 1921.73,1093.63 1923.82,1093.63 1925.9,1093.63 1927.98,1093.63 1930.06,1093.63 1932.15,1093.64 1934.23,1093.64 1936.31,1093.64 \n  1938.39,1093.64 1940.48,1093.64 1942.56,1093.64 1944.64,1093.65 1946.72,1093.65 1948.81,1093.65 1950.89,1093.65 1952.97,1093.65 1955.05,1093.66 1957.14,1093.66 \n  1959.22,1093.66 1961.3,1093.66 1963.38,1093.66 1965.47,1093.67 1967.55,1093.67 1969.63,1093.67 1971.71,1093.67 1973.8,1093.67 1975.88,1093.67 1977.96,1093.67 \n  1980.04,1093.68 1982.13,1093.68 1984.21,1093.68 1986.29,1093.68 1988.38,1093.68 1990.46,1093.68 1992.54,1093.68 1994.62,1093.68 1996.71,1093.69 1998.79,1093.69 \n  2000.87,1093.69 2002.95,1093.69 2005.04,1093.69 2007.12,1093.69 2009.2,1093.69 2011.28,1093.69 2013.37,1093.69 2015.45,1093.69 2017.53,1093.69 2019.61,1093.69 \n  2021.7,1093.69 2023.78,1093.69 2025.86,1093.69 2027.94,1093.69 2030.03,1093.69 2032.11,1093.69 2034.19,1093.69 2036.27,1093.68 2038.36,1093.68 2040.44,1093.68 \n  2042.52,1093.68 2044.6,1093.68 2046.69,1093.68 2048.77,1093.68 2050.85,1093.67 2052.93,1093.67 2055.02,1093.67 2057.1,1093.67 2059.18,1093.67 2061.26,1093.67 \n  2063.35,1093.66 2065.43,1093.66 2067.51,1093.66 2069.59,1093.66 2071.68,1093.65 2073.76,1093.65 2075.84,1093.65 2077.92,1093.65 2080.01,1093.64 2082.09,1093.64 \n  2084.17,1093.64 2086.25,1093.64 2088.34,1093.63 2090.42,1093.63 2092.5,1093.63 2094.58,1093.62 2096.67,1093.62 2098.75,1093.62 2100.83,1093.62 2102.91,1093.61 \n  2105,1093.61 2107.08,1093.61 2109.16,1093.61 2111.24,1093.6 2113.33,1093.6 2115.41,1093.6 2117.49,1093.59 2119.57,1093.59 2121.66,1093.59 2123.74,1093.59 \n  2125.82,1093.58 2127.9,1093.58 2129.99,1093.58 2132.07,1093.58 2134.15,1093.58 2136.23,1093.57 2138.32,1093.57 2140.4,1093.57 2142.48,1093.57 2144.57,1093.57 \n  2146.65,1093.57 2148.73,1093.56 2150.81,1093.56 2152.9,1093.56 2154.98,1093.56 2157.06,1093.56 2159.14,1093.56 2161.23,1093.56 2163.31,1093.56 2165.39,1093.56 \n  2167.47,1093.56 2169.56,1093.56 2171.64,1093.56 2173.72,1093.56 2175.8,1093.56 2177.89,1093.56 2179.97,1093.56 2182.05,1093.57 2184.13,1093.57 2186.22,1093.57 \n  2188.3,1093.57 2190.38,1093.57 2192.46,1093.58 2194.55,1093.58 2196.63,1093.58 2198.71,1093.58 2200.79,1093.59 2202.88,1093.59 2204.96,1093.59 2207.04,1093.6 \n  2209.12,1093.6 2211.21,1093.6 2213.29,1093.61 2215.37,1093.61 2217.45,1093.61 2219.54,1093.62 2221.62,1093.62 2223.7,1093.63 2225.78,1093.63 2227.87,1093.64 \n  2229.95,1093.64 2232.03,1093.65 2234.11,1093.65 2236.2,1093.66 2238.28,1093.66 2240.36,1093.67 2242.44,1093.67 2244.53,1093.67 2246.61,1093.68 2248.69,1093.68 \n  2250.77,1093.69 2252.86,1093.69 2254.94,1093.7 2257.02,1093.7 2259.1,1093.71 2261.19,1093.71 2263.27,1093.71 2265.35,1093.72 2267.43,1093.72 2269.52,1093.72 \n  2271.6,1093.72 2273.68,1093.73 2275.76,1093.73 2277.85,1093.73 2279.93,1093.73 2282.01,1093.73 2284.09,1093.73 2286.18,1093.73 2288.26,1093.73 2290.34,1093.73 \n  \n  \"/>\n<polyline clip-path=\"url(#clip692)\" style=\"stroke:#c271d2; stroke-linecap:round; stroke-linejoin:round; stroke-width:8; stroke-opacity:1; fill:none\" points=\"\n  209.891,1093.59 211.974,1093.59 214.057,1093.59 216.139,1093.59 218.222,1093.59 220.304,1093.59 222.387,1093.59 224.469,1093.59 226.552,1093.59 228.634,1093.59 \n  230.717,1093.59 232.799,1093.59 234.882,1093.59 236.964,1093.59 239.047,1093.6 241.129,1093.6 243.212,1093.6 245.295,1093.6 247.377,1093.6 249.46,1093.6 \n  251.542,1093.6 253.625,1093.61 255.707,1093.61 257.79,1093.61 259.872,1093.61 261.955,1093.61 264.037,1093.62 266.12,1093.62 268.202,1093.62 270.285,1093.62 \n  272.367,1093.62 274.45,1093.62 276.533,1093.63 278.615,1093.63 280.698,1093.63 282.78,1093.63 284.863,1093.63 286.945,1093.63 289.028,1093.63 291.11,1093.64 \n  293.193,1093.64 295.275,1093.64 297.358,1093.64 299.44,1093.64 301.523,1093.64 303.605,1093.64 305.688,1093.64 307.771,1093.64 309.853,1093.64 311.936,1093.65 \n  314.018,1093.65 316.101,1093.65 318.183,1093.65 320.266,1093.65 322.348,1093.65 324.431,1093.65 326.513,1093.65 328.596,1093.65 330.678,1093.65 332.761,1093.65 \n  334.843,1093.65 336.926,1093.65 339.009,1093.65 341.091,1093.65 343.174,1093.65 345.256,1093.65 347.339,1093.65 349.421,1093.65 351.504,1093.65 353.586,1093.65 \n  355.669,1093.65 357.751,1093.65 359.834,1093.65 361.916,1093.65 363.999,1093.65 366.081,1093.65 368.164,1093.65 370.247,1093.65 372.329,1093.65 374.412,1093.65 \n  376.494,1093.65 378.577,1093.65 380.659,1093.65 382.742,1093.65 384.824,1093.65 386.907,1093.65 388.989,1093.65 391.072,1093.65 393.154,1093.65 395.237,1093.65 \n  397.319,1093.65 399.402,1093.65 401.485,1093.65 403.567,1093.65 405.65,1093.65 407.732,1093.66 409.815,1093.66 411.897,1093.66 413.98,1093.66 416.062,1093.66 \n  418.145,1093.66 420.227,1093.66 422.31,1093.66 424.392,1093.66 426.475,1093.66 428.557,1093.66 430.64,1093.66 432.723,1093.66 434.805,1093.66 436.888,1093.66 \n  438.97,1093.66 441.053,1093.66 443.135,1093.66 445.218,1093.66 447.3,1093.66 449.383,1093.66 451.465,1093.66 453.548,1093.66 455.63,1093.66 457.713,1093.66 \n  459.795,1093.66 461.878,1093.66 463.961,1093.66 466.043,1093.66 468.126,1093.66 470.208,1093.66 472.291,1093.66 474.373,1093.66 476.456,1093.66 478.538,1093.66 \n  480.621,1093.66 482.703,1093.66 484.786,1093.66 486.868,1093.66 488.951,1093.66 491.033,1093.66 493.116,1093.66 495.199,1093.66 497.281,1093.66 499.364,1093.66 \n  501.446,1093.66 503.529,1093.66 505.611,1093.66 507.694,1093.66 509.776,1093.66 511.859,1093.66 513.941,1093.66 516.024,1093.66 518.106,1093.66 520.189,1093.66 \n  522.271,1093.66 524.354,1093.66 526.437,1093.66 528.519,1093.66 530.602,1093.65 532.684,1093.65 534.767,1093.65 536.849,1093.65 538.932,1093.65 541.014,1093.65 \n  543.097,1093.65 545.179,1093.65 547.262,1093.65 549.344,1093.65 551.427,1093.65 553.509,1093.65 555.592,1093.65 557.675,1093.65 559.757,1093.65 561.84,1093.65 \n  563.922,1093.64 566.005,1093.64 568.087,1093.64 570.17,1093.64 572.252,1093.64 574.335,1093.64 576.417,1093.64 578.5,1093.64 580.582,1093.64 582.665,1093.64 \n  584.747,1093.64 586.83,1093.64 588.913,1093.64 590.995,1093.64 593.078,1093.64 595.16,1093.64 597.243,1093.63 599.325,1093.63 601.408,1093.63 603.49,1093.63 \n  605.573,1093.63 607.655,1093.63 609.738,1093.63 611.82,1093.63 613.903,1093.63 615.985,1093.63 618.068,1093.63 620.151,1093.63 622.233,1093.63 624.316,1093.63 \n  626.398,1093.63 628.481,1093.63 630.563,1093.63 632.646,1093.63 634.728,1093.63 636.811,1093.63 638.893,1093.63 640.976,1093.63 643.058,1093.63 645.141,1093.63 \n  647.223,1093.63 649.306,1093.63 651.389,1093.63 653.471,1093.62 655.554,1093.62 657.636,1093.62 659.719,1093.62 661.801,1093.62 663.884,1093.62 665.966,1093.62 \n  668.049,1093.62 670.131,1093.62 672.214,1093.62 674.296,1093.62 676.379,1093.62 678.461,1093.62 680.544,1093.62 682.627,1093.62 684.709,1093.62 686.792,1093.62 \n  688.874,1093.62 690.957,1093.62 693.039,1093.62 695.122,1093.62 697.204,1093.62 699.287,1093.61 701.369,1093.61 703.452,1093.61 705.534,1093.61 707.617,1093.61 \n  709.699,1093.61 711.782,1093.61 713.865,1093.61 715.947,1093.61 718.03,1093.61 720.112,1093.61 722.195,1093.6 724.277,1093.6 726.36,1093.6 728.442,1093.6 \n  730.525,1093.6 732.607,1093.6 734.69,1093.6 736.772,1093.6 738.855,1093.59 740.937,1093.59 743.02,1093.59 745.103,1093.59 747.185,1093.59 749.268,1093.59 \n  751.35,1093.59 753.433,1093.59 755.515,1093.58 757.598,1093.58 759.68,1093.58 761.763,1093.58 763.845,1093.58 765.928,1093.58 768.01,1093.58 770.093,1093.58 \n  772.175,1093.58 774.258,1093.58 776.341,1093.58 778.423,1093.58 780.506,1093.58 782.588,1093.58 784.671,1093.58 786.753,1093.58 788.836,1093.58 790.918,1093.58 \n  793.001,1093.58 795.083,1093.58 797.166,1093.58 799.248,1093.58 801.331,1093.58 803.413,1093.58 805.496,1093.59 807.579,1093.59 809.661,1093.59 811.744,1093.59 \n  813.826,1093.59 815.909,1093.6 817.991,1093.6 820.074,1093.6 822.156,1093.61 824.239,1093.61 826.321,1093.61 828.404,1093.62 830.486,1093.62 832.569,1093.62 \n  834.651,1093.63 836.734,1093.63 838.817,1093.64 840.899,1093.64 842.982,1093.65 845.064,1093.65 847.147,1093.66 849.229,1093.66 851.312,1093.67 853.394,1093.67 \n  855.477,1093.68 857.559,1093.68 859.642,1093.69 861.724,1093.69 863.807,1093.7 865.889,1093.7 867.972,1093.71 870.055,1093.71 872.137,1093.71 874.22,1093.72 \n  876.302,1093.72 878.385,1093.73 880.467,1093.73 882.55,1093.73 884.632,1093.74 886.715,1093.74 888.797,1093.74 890.88,1093.74 892.962,1093.75 895.045,1093.75 \n  897.127,1093.75 899.21,1093.75 901.293,1093.75 903.375,1093.75 905.458,1093.75 907.54,1093.75 909.623,1093.75 911.705,1093.74 913.788,1093.74 915.87,1093.74 \n  917.953,1093.74 920.035,1093.73 922.118,1093.73 924.2,1093.72 926.283,1093.72 928.365,1093.71 930.448,1093.71 932.531,1093.7 934.613,1093.7 936.696,1093.69 \n  938.778,1093.68 940.861,1093.68 942.943,1093.67 945.026,1093.66 947.108,1093.66 949.191,1093.65 951.273,1093.64 953.356,1093.63 955.438,1093.63 957.521,1093.62 \n  959.603,1093.61 961.686,1093.61 963.769,1093.6 965.851,1093.59 967.934,1093.59 970.016,1093.58 972.099,1093.58 974.181,1093.57 976.264,1093.57 978.346,1093.56 \n  980.429,1093.56 982.511,1093.55 984.594,1093.55 986.676,1093.55 988.759,1093.55 990.841,1093.55 992.924,1093.55 995.007,1093.55 997.089,1093.55 999.172,1093.55 \n  1001.25,1093.55 1003.34,1093.55 1005.42,1093.55 1007.5,1093.55 1009.58,1093.55 1011.67,1093.56 1013.75,1093.56 1015.83,1093.56 1017.91,1093.57 1020,1093.57 \n  1022.08,1093.57 1024.16,1093.58 1026.24,1093.58 1028.33,1093.59 1030.41,1093.59 1032.49,1093.59 1034.57,1093.6 1036.66,1093.6 1038.74,1093.6 1040.82,1093.61 \n  1042.9,1093.61 1044.99,1093.61 1047.07,1093.62 1049.15,1093.62 1051.23,1093.63 1053.32,1093.63 1055.4,1093.63 1057.48,1093.64 1059.57,1093.64 1061.65,1093.65 \n  1063.73,1093.65 1065.81,1093.66 1067.9,1093.66 1069.98,1093.67 1072.06,1093.67 1074.14,1093.68 1076.23,1093.69 1078.31,1093.69 1080.39,1093.7 1082.47,1093.71 \n  1084.56,1093.72 1086.64,1093.72 1088.72,1093.73 1090.8,1093.73 1092.89,1093.74 1094.97,1093.74 1097.05,1093.74 1099.13,1093.74 1101.22,1093.74 1103.3,1093.74 \n  1105.38,1093.73 1107.46,1093.73 1109.55,1093.72 1111.63,1093.7 1113.71,1093.69 1115.79,1093.67 1117.88,1093.65 1119.96,1093.63 1122.04,1093.61 1124.12,1093.59 \n  1126.21,1093.57 1128.29,1093.55 1130.37,1093.52 1132.45,1093.51 1134.54,1093.49 1136.62,1093.48 1138.7,1093.47 1140.78,1093.46 1142.87,1093.46 1144.95,1093.47 \n  1147.03,1093.49 1149.11,1093.51 1151.2,1093.53 1153.28,1093.56 1155.36,1093.6 1157.44,1093.64 1159.53,1093.68 1161.61,1093.72 1163.69,1093.76 1165.77,1093.8 \n  1167.86,1093.83 1169.94,1093.85 1172.02,1093.87 1174.1,1093.87 1176.19,1093.86 1178.27,1093.84 1180.35,1093.81 1182.43,1093.77 1184.52,1093.72 1186.6,1093.67 \n  1188.68,1093.61 1190.76,1093.55 1192.85,1093.5 1194.93,1093.45 1197.01,1093.42 1199.09,1093.4 1201.18,1093.4 1203.26,1093.42 1205.34,1093.45 1207.42,1093.5 \n  1209.51,1093.56 1211.59,1093.62 1213.67,1093.68 1215.76,1093.73 1217.84,1093.76 1219.92,1093.78 1222,1093.78 1224.09,1093.76 1226.17,1093.73 1228.25,1093.69 \n  1230.33,1093.65 1232.42,1093.62 1234.5,1093.6 1236.58,1093.6 1238.66,1093.61 1240.75,1093.62 1242.83,1093.62 1244.91,1093.62 1246.99,1093.61 1249.08,1093.61 \n  1251.16,1093.63 1253.24,1093.66 1255.32,1093.69 1257.41,1093.7 1259.49,1093.69 1261.57,1093.67 1263.65,1093.64 1265.74,1093.61 1267.82,1093.58 1269.9,1093.57 \n  1271.98,1093.57 1274.07,1093.57 1276.15,1093.57 1278.23,1093.58 1280.31,1093.6 1282.4,1093.61 1284.48,1093.63 1286.56,1093.64 1288.64,1093.66 1290.73,1093.67 \n  1292.81,1093.68 1294.89,1093.7 1296.97,1093.71 1299.06,1093.71 1301.14,1093.72 1303.22,1093.72 1305.3,1093.72 1307.39,1093.71 1309.47,1093.7 1311.55,1093.69 \n  1313.63,1093.67 1315.72,1093.66 1317.8,1093.64 1319.88,1093.63 1321.96,1093.62 1324.05,1093.61 1326.13,1093.6 1328.21,1093.59 1330.29,1093.59 1332.38,1093.59 \n  1334.46,1093.59 1336.54,1093.59 1338.62,1093.6 1340.71,1093.6 1342.79,1093.61 1344.87,1093.61 1346.95,1093.62 1349.04,1093.62 1351.12,1093.62 1353.2,1093.62 \n  1355.28,1093.62 1357.37,1093.62 1359.45,1093.62 1361.53,1093.61 1363.61,1093.61 1365.7,1093.6 1367.78,1093.6 1369.86,1093.59 1371.95,1093.58 1374.03,1093.58 \n  1376.11,1093.57 1378.19,1093.57 1380.28,1093.56 1382.36,1093.56 1384.44,1093.56 1386.52,1093.56 1388.61,1093.56 1390.69,1093.57 1392.77,1093.57 1394.85,1093.58 \n  1396.94,1093.59 1399.02,1093.6 1401.1,1093.61 1403.18,1093.62 1405.27,1093.63 1407.35,1093.64 1409.43,1093.65 1411.51,1093.67 1413.6,1093.68 1415.68,1093.69 \n  1417.76,1093.7 1419.84,1093.71 1421.93,1093.72 1424.01,1093.72 1426.09,1093.73 1428.17,1093.74 1430.26,1093.74 1432.34,1093.75 1434.42,1093.75 1436.5,1093.75 \n  1438.59,1093.75 1440.67,1093.75 1442.75,1093.75 1444.83,1093.75 1446.92,1093.75 1449,1093.75 1451.08,1093.74 1453.16,1093.74 1455.25,1093.73 1457.33,1093.73 \n  1459.41,1093.72 1461.49,1093.72 1463.58,1093.71 1465.66,1093.7 1467.74,1093.7 1469.82,1093.69 1471.91,1093.68 1473.99,1093.68 1476.07,1093.67 1478.15,1093.66 \n  1480.24,1093.66 1482.32,1093.65 1484.4,1093.65 1486.48,1093.64 1488.57,1093.64 1490.65,1093.63 1492.73,1093.63 1494.81,1093.62 1496.9,1093.62 1498.98,1093.61 \n  1501.06,1093.61 1503.14,1093.61 1505.23,1093.6 1507.31,1093.6 1509.39,1093.6 1511.47,1093.6 1513.56,1093.59 1515.64,1093.59 1517.72,1093.59 1519.8,1093.59 \n  1521.89,1093.59 1523.97,1093.58 1526.05,1093.58 1528.14,1093.58 1530.22,1093.58 1532.3,1093.58 1534.38,1093.58 1536.47,1093.58 1538.55,1093.58 1540.63,1093.58 \n  1542.71,1093.58 1544.8,1093.58 1546.88,1093.58 1548.96,1093.58 1551.04,1093.58 1553.13,1093.58 1555.21,1093.58 1557.29,1093.58 1559.37,1093.58 1561.46,1093.58 \n  1563.54,1093.58 1565.62,1093.58 1567.7,1093.58 1569.79,1093.58 1571.87,1093.58 1573.95,1093.58 1576.03,1093.58 1578.12,1093.58 1580.2,1093.58 1582.28,1093.58 \n  1584.36,1093.58 1586.45,1093.58 1588.53,1093.58 1590.61,1093.58 1592.69,1093.58 1594.78,1093.58 1596.86,1093.58 1598.94,1093.58 1601.02,1093.59 1603.11,1093.59 \n  1605.19,1093.59 1607.27,1093.59 1609.35,1093.59 1611.44,1093.59 1613.52,1093.59 1615.6,1093.59 1617.68,1093.59 1619.77,1093.59 1621.85,1093.59 1623.93,1093.59 \n  1626.01,1093.6 1628.1,1093.6 1630.18,1093.6 1632.26,1093.6 1634.34,1093.6 1636.43,1093.6 1638.51,1093.6 1640.59,1093.6 1642.67,1093.6 1644.76,1093.6 \n  1646.84,1093.6 1648.92,1093.61 1651,1093.61 1653.09,1093.61 1655.17,1093.61 1657.25,1093.61 1659.33,1093.61 1661.42,1093.61 1663.5,1093.61 1665.58,1093.61 \n  1667.66,1093.62 1669.75,1093.62 1671.83,1093.62 1673.91,1093.62 1676,1093.62 1678.08,1093.62 1680.16,1093.62 1682.24,1093.63 1684.33,1093.63 1686.41,1093.63 \n  1688.49,1093.63 1690.57,1093.63 1692.66,1093.63 1694.74,1093.64 1696.82,1093.64 1698.9,1093.64 1700.99,1093.64 1703.07,1093.64 1705.15,1093.65 1707.23,1093.65 \n  1709.32,1093.65 1711.4,1093.65 1713.48,1093.65 1715.56,1093.66 1717.65,1093.66 1719.73,1093.66 1721.81,1093.66 1723.89,1093.67 1725.98,1093.67 1728.06,1093.67 \n  1730.14,1093.67 1732.22,1093.68 1734.31,1093.68 1736.39,1093.68 1738.47,1093.68 1740.55,1093.69 1742.64,1093.69 1744.72,1093.69 1746.8,1093.69 1748.88,1093.7 \n  1750.97,1093.7 1753.05,1093.7 1755.13,1093.7 1757.21,1093.71 1759.3,1093.71 1761.38,1093.71 1763.46,1093.71 1765.54,1093.72 1767.63,1093.72 1769.71,1093.72 \n  1771.79,1093.72 1773.87,1093.72 1775.96,1093.73 1778.04,1093.73 1780.12,1093.73 1782.2,1093.73 1784.29,1093.73 1786.37,1093.73 1788.45,1093.74 1790.53,1093.74 \n  1792.62,1093.74 1794.7,1093.74 1796.78,1093.74 1798.86,1093.74 1800.95,1093.74 1803.03,1093.74 1805.11,1093.74 1807.19,1093.74 1809.28,1093.74 1811.36,1093.74 \n  1813.44,1093.74 1815.52,1093.74 1817.61,1093.74 1819.69,1093.74 1821.77,1093.74 1823.85,1093.74 1825.94,1093.74 1828.02,1093.74 1830.1,1093.74 1832.19,1093.74 \n  1834.27,1093.73 1836.35,1093.73 1838.43,1093.73 1840.52,1093.73 1842.6,1093.73 1844.68,1093.73 1846.76,1093.72 1848.85,1093.72 1850.93,1093.72 1853.01,1093.72 \n  1855.09,1093.71 1857.18,1093.71 1859.26,1093.71 1861.34,1093.71 1863.42,1093.7 1865.51,1093.7 1867.59,1093.7 1869.67,1093.69 1871.75,1093.69 1873.84,1093.69 \n  1875.92,1093.68 1878,1093.68 1880.08,1093.68 1882.17,1093.67 1884.25,1093.67 1886.33,1093.67 1888.41,1093.66 1890.5,1093.66 1892.58,1093.65 1894.66,1093.65 \n  1896.74,1093.65 1898.83,1093.64 1900.91,1093.64 1902.99,1093.64 1905.07,1093.63 1907.16,1093.63 1909.24,1093.63 1911.32,1093.62 1913.4,1093.62 1915.49,1093.62 \n  1917.57,1093.61 1919.65,1093.61 1921.73,1093.61 1923.82,1093.6 1925.9,1093.6 1927.98,1093.6 1930.06,1093.59 1932.15,1093.59 1934.23,1093.59 1936.31,1093.58 \n  1938.39,1093.58 1940.48,1093.58 1942.56,1093.58 1944.64,1093.57 1946.72,1093.57 1948.81,1093.57 1950.89,1093.57 1952.97,1093.56 1955.05,1093.56 1957.14,1093.56 \n  1959.22,1093.56 1961.3,1093.56 1963.38,1093.56 1965.47,1093.55 1967.55,1093.55 1969.63,1093.55 1971.71,1093.55 1973.8,1093.55 1975.88,1093.55 1977.96,1093.55 \n  1980.04,1093.55 1982.13,1093.55 1984.21,1093.55 1986.29,1093.55 1988.38,1093.54 1990.46,1093.54 1992.54,1093.54 1994.62,1093.54 1996.71,1093.54 1998.79,1093.54 \n  2000.87,1093.54 2002.95,1093.54 2005.04,1093.54 2007.12,1093.55 2009.2,1093.55 2011.28,1093.55 2013.37,1093.55 2015.45,1093.55 2017.53,1093.55 2019.61,1093.55 \n  2021.7,1093.55 2023.78,1093.55 2025.86,1093.55 2027.94,1093.55 2030.03,1093.55 2032.11,1093.55 2034.19,1093.56 2036.27,1093.56 2038.36,1093.56 2040.44,1093.56 \n  2042.52,1093.56 2044.6,1093.56 2046.69,1093.56 2048.77,1093.56 2050.85,1093.57 2052.93,1093.57 2055.02,1093.57 2057.1,1093.57 2059.18,1093.57 2061.26,1093.57 \n  2063.35,1093.57 2065.43,1093.58 2067.51,1093.58 2069.59,1093.58 2071.68,1093.58 2073.76,1093.58 2075.84,1093.58 2077.92,1093.58 2080.01,1093.59 2082.09,1093.59 \n  2084.17,1093.59 2086.25,1093.59 2088.34,1093.59 2090.42,1093.59 2092.5,1093.59 2094.58,1093.6 2096.67,1093.6 2098.75,1093.6 2100.83,1093.6 2102.91,1093.6 \n  2105,1093.6 2107.08,1093.6 2109.16,1093.6 2111.24,1093.61 2113.33,1093.61 2115.41,1093.61 2117.49,1093.61 2119.57,1093.61 2121.66,1093.61 2123.74,1093.61 \n  2125.82,1093.61 2127.9,1093.62 2129.99,1093.62 2132.07,1093.62 2134.15,1093.62 2136.23,1093.62 2138.32,1093.62 2140.4,1093.62 2142.48,1093.62 2144.57,1093.63 \n  2146.65,1093.63 2148.73,1093.63 2150.81,1093.63 2152.9,1093.63 2154.98,1093.63 2157.06,1093.64 2159.14,1093.64 2161.23,1093.64 2163.31,1093.64 2165.39,1093.64 \n  2167.47,1093.64 2169.56,1093.65 2171.64,1093.65 2173.72,1093.65 2175.8,1093.65 2177.89,1093.65 2179.97,1093.66 2182.05,1093.66 2184.13,1093.66 2186.22,1093.66 \n  2188.3,1093.66 2190.38,1093.67 2192.46,1093.67 2194.55,1093.67 2196.63,1093.67 2198.71,1093.68 2200.79,1093.68 2202.88,1093.68 2204.96,1093.68 2207.04,1093.68 \n  2209.12,1093.69 2211.21,1093.69 2213.29,1093.69 2215.37,1093.69 2217.45,1093.7 2219.54,1093.7 2221.62,1093.7 2223.7,1093.7 2225.78,1093.7 2227.87,1093.71 \n  2229.95,1093.71 2232.03,1093.71 2234.11,1093.71 2236.2,1093.71 2238.28,1093.71 2240.36,1093.71 2242.44,1093.71 2244.53,1093.71 2246.61,1093.71 2248.69,1093.71 \n  2250.77,1093.71 2252.86,1093.71 2254.94,1093.71 2257.02,1093.71 2259.1,1093.71 2261.19,1093.7 2263.27,1093.7 2265.35,1093.7 2267.43,1093.69 2269.52,1093.69 \n  2271.6,1093.68 2273.68,1093.67 2275.76,1093.67 2277.85,1093.66 2279.93,1093.65 2282.01,1093.64 2284.09,1093.63 2286.18,1093.61 2288.26,1093.6 2290.34,1093.59 \n  \n  \"/>\n<path clip-path=\"url(#clip690)\" d=\"\nM1980.07 354.418 L2279.25 354.418 L2279.25 95.2176 L1980.07 95.2176  Z\n  \" fill=\"#ffffff\" fill-rule=\"evenodd\" fill-opacity=\"1\"/>\n<polyline clip-path=\"url(#clip690)\" style=\"stroke:#000000; stroke-linecap:round; stroke-linejoin:round; stroke-width:4; stroke-opacity:1; fill:none\" points=\"\n  1980.07,354.418 2279.25,354.418 2279.25,95.2176 1980.07,95.2176 1980.07,354.418 \n  \"/>\n<polyline clip-path=\"url(#clip690)\" style=\"stroke:#009af9; stroke-linecap:round; stroke-linejoin:round; stroke-width:4; stroke-opacity:1; fill:none\" points=\"\n  2004.58,147.058 2151.59,147.058 \n  \"/>\n<path clip-path=\"url(#clip690)\" d=\"M2189.94 166.745 Q2188.13 171.375 2186.42 172.787 Q2184.71 174.199 2181.84 174.199 L2178.44 174.199 L2178.44 170.634 L2180.94 170.634 Q2182.69 170.634 2183.67 169.8 Q2184.64 168.967 2185.82 165.865 L2186.58 163.921 L2176.1 138.412 L2180.61 138.412 L2188.71 158.689 L2196.81 138.412 L2201.33 138.412 L2189.94 166.745 Z\" fill=\"#000000\" fill-rule=\"evenodd\" fill-opacity=\"1\" /><path clip-path=\"url(#clip690)\" d=\"M2208.62 160.402 L2216.26 160.402 L2216.26 134.037 L2207.95 135.703 L2207.95 131.444 L2216.21 129.778 L2220.89 129.778 L2220.89 160.402 L2228.53 160.402 L2228.53 164.338 L2208.62 164.338 L2208.62 160.402 Z\" fill=\"#000000\" fill-rule=\"evenodd\" fill-opacity=\"1\" /><polyline clip-path=\"url(#clip690)\" style=\"stroke:#e26f46; stroke-linecap:round; stroke-linejoin:round; stroke-width:4; stroke-opacity:1; fill:none\" points=\"\n  2004.58,198.898 2151.59,198.898 \n  \"/>\n<path clip-path=\"url(#clip690)\" d=\"M2189.94 218.585 Q2188.13 223.215 2186.42 224.627 Q2184.71 226.039 2181.84 226.039 L2178.44 226.039 L2178.44 222.474 L2180.94 222.474 Q2182.69 222.474 2183.67 221.64 Q2184.64 220.807 2185.82 217.705 L2186.58 215.761 L2176.1 190.252 L2180.61 190.252 L2188.71 210.529 L2196.81 190.252 L2201.33 190.252 L2189.94 218.585 Z\" fill=\"#000000\" fill-rule=\"evenodd\" fill-opacity=\"1\" /><path clip-path=\"url(#clip690)\" d=\"M2211.84 212.242 L2228.16 212.242 L2228.16 216.178 L2206.21 216.178 L2206.21 212.242 Q2208.87 209.488 2213.46 204.858 Q2218.06 200.205 2219.25 198.863 Q2221.49 196.34 2222.37 194.604 Q2223.27 192.844 2223.27 191.155 Q2223.27 188.4 2221.33 186.664 Q2219.41 184.928 2216.31 184.928 Q2214.11 184.928 2211.65 185.692 Q2209.22 186.455 2206.44 188.006 L2206.44 183.284 Q2209.27 182.15 2211.72 181.571 Q2214.18 180.993 2216.21 180.993 Q2221.58 180.993 2224.78 183.678 Q2227.97 186.363 2227.97 190.854 Q2227.97 192.983 2227.16 194.905 Q2226.37 196.803 2224.27 199.395 Q2223.69 200.067 2220.59 203.284 Q2217.49 206.479 2211.84 212.242 Z\" fill=\"#000000\" fill-rule=\"evenodd\" fill-opacity=\"1\" /><polyline clip-path=\"url(#clip690)\" style=\"stroke:#3da44d; stroke-linecap:round; stroke-linejoin:round; stroke-width:4; stroke-opacity:1; fill:none\" points=\"\n  2004.58,250.738 2151.59,250.738 \n  \"/>\n<path clip-path=\"url(#clip690)\" d=\"M2189.94 270.425 Q2188.13 275.055 2186.42 276.467 Q2184.71 277.879 2181.84 277.879 L2178.44 277.879 L2178.44 274.314 L2180.94 274.314 Q2182.69 274.314 2183.67 273.48 Q2184.64 272.647 2185.82 269.545 L2186.58 267.601 L2176.1 242.092 L2180.61 242.092 L2188.71 262.369 L2196.81 242.092 L2201.33 242.092 L2189.94 270.425 Z\" fill=\"#000000\" fill-rule=\"evenodd\" fill-opacity=\"1\" /><path clip-path=\"url(#clip690)\" d=\"M2221.98 249.383 Q2225.33 250.101 2227.21 252.369 Q2229.11 254.638 2229.11 257.971 Q2229.11 263.087 2225.59 265.888 Q2222.07 268.689 2215.59 268.689 Q2213.41 268.689 2211.1 268.249 Q2208.81 267.832 2206.35 266.976 L2206.35 262.462 Q2208.3 263.596 2210.61 264.175 Q2212.93 264.754 2215.45 264.754 Q2219.85 264.754 2222.14 263.018 Q2224.45 261.281 2224.45 257.971 Q2224.45 254.916 2222.3 253.203 Q2220.17 251.467 2216.35 251.467 L2212.32 251.467 L2212.32 247.624 L2216.54 247.624 Q2219.99 247.624 2221.81 246.258 Q2223.64 244.87 2223.64 242.277 Q2223.64 239.615 2221.75 238.203 Q2219.87 236.768 2216.35 236.768 Q2214.43 236.768 2212.23 237.184 Q2210.03 237.601 2207.39 238.481 L2207.39 234.314 Q2210.06 233.573 2212.37 233.203 Q2214.71 232.833 2216.77 232.833 Q2222.09 232.833 2225.19 235.263 Q2228.3 237.67 2228.3 241.791 Q2228.3 244.661 2226.65 246.652 Q2225.01 248.62 2221.98 249.383 Z\" fill=\"#000000\" fill-rule=\"evenodd\" fill-opacity=\"1\" /><polyline clip-path=\"url(#clip690)\" style=\"stroke:#c271d2; stroke-linecap:round; stroke-linejoin:round; stroke-width:4; stroke-opacity:1; fill:none\" points=\"\n  2004.58,302.578 2151.59,302.578 \n  \"/>\n<path clip-path=\"url(#clip690)\" d=\"M2189.94 322.265 Q2188.13 326.895 2186.42 328.307 Q2184.71 329.719 2181.84 329.719 L2178.44 329.719 L2178.44 326.154 L2180.94 326.154 Q2182.69 326.154 2183.67 325.32 Q2184.64 324.487 2185.82 321.385 L2186.58 319.441 L2176.1 293.932 L2180.61 293.932 L2188.71 314.209 L2196.81 293.932 L2201.33 293.932 L2189.94 322.265 Z\" fill=\"#000000\" fill-rule=\"evenodd\" fill-opacity=\"1\" /><path clip-path=\"url(#clip690)\" d=\"M2220.66 289.372 L2208.85 307.821 L2220.66 307.821 L2220.66 289.372 M2219.43 285.298 L2225.31 285.298 L2225.31 307.821 L2230.24 307.821 L2230.24 311.709 L2225.31 311.709 L2225.31 319.858 L2220.66 319.858 L2220.66 311.709 L2205.06 311.709 L2205.06 307.196 L2219.43 285.298 Z\" fill=\"#000000\" fill-rule=\"evenodd\" fill-opacity=\"1\" /></svg>\n"
     },
     "execution_count": 27,
     "metadata": {},
     "output_type": "execute_result"
    }
   ],
   "source": [
    "plot(w_mesh, gi[:,1]-gi[:,4], linewidth=2.0)\n",
    "plot!(w_mesh, gi[:,1]+gi[:,4], linewidth=2.0)\n",
    "plot!(w_mesh, gi[:,3], linewidth=2.0)\n",
    "plot!(w_mesh, gi[:,4], linewidth=2.0)"
   ]
  },
  {
   "cell_type": "code",
   "execution_count": 39,
   "metadata": {},
   "outputs": [
    {
     "data": {
      "text/plain": [
       "KK_GR (generic function with 1 method)"
      ]
     },
     "execution_count": 39,
     "metadata": {},
     "output_type": "execute_result"
    }
   ],
   "source": [
    "\n",
    "function reshape(rho::Vector{Float64}, cutoff::Float64)\n",
    "    v_it::Vector{Int} = []\n",
    "    rho_rep = rho\n",
    "    sw = true\n",
    "    for w in 1:length(rho_rep)\n",
    "        if(rho_rep[w]<0)\n",
    "            if(sw)\n",
    "                for it in v_it\n",
    "                    rho_rep[it] = 0.005                \n",
    "                end\n",
    "                empty!(v_it)\n",
    "                sw = false\n",
    "            elseif(w<length(rho_rep) && rho_rep[w+1]>0.0)\n",
    "                sw = true\n",
    "            end\n",
    "            rho_rep[w] = 0.005\n",
    "\n",
    "        elseif(rho_rep[w]<cutoff)\n",
    "            if(sw)\n",
    "                push!(v_it,w)\n",
    "            #elseif(w<length(rho_rep) && rho_rep[w+1]>rho_rep[w])\n",
    "            #    sw = true\n",
    "            #    push!(v_it,w)\n",
    "            end\n",
    "        elseif(rho_rep[w]>=cutoff && sw)\n",
    "            empty!(v_it)\n",
    "            sw = false\n",
    "        end\n",
    "        if(w == length(rho_rep))\n",
    "            if(sw)\n",
    "                for it in v_it\n",
    "                    rho_rep[it] = 0.005                \n",
    "                end\n",
    "            end\n",
    "        end\n",
    "    end\n",
    "    return rho_rep\n",
    "end\n",
    "\n",
    "\n",
    "function KK_GR(w::Vector{Float64}, rho::Vector{Matrix{ComplexF64}})\n",
    "    #GR_ = zeros(ComplexF64, length(w))\n",
    "    GR_::Vector{Matrix{ComplexF64}} = []\n",
    "    dw = w[2]-w[1]\n",
    "    for w_re in 1:length(w)\n",
    "        re = zeros(ComplexF64, 2, 2)\n",
    "        for w_im in 1:length(w)\n",
    "            if(w_im != w_re)\n",
    "                re += dw * rho[w_im] / (w[w_re] - w[w_im])\n",
    "            end \n",
    "        end\n",
    "        ggg = re - 1.0im * rho[w_re] * pi\n",
    "        push!(GR_, ggg)\n",
    "    end\n",
    "    return GR_\n",
    "end"
   ]
  },
  {
   "cell_type": "code",
   "execution_count": 48,
   "metadata": {},
   "outputs": [
    {
     "data": {
      "text/plain": [
       "500-element Vector{Float64}:\n",
       " 0.005\n",
       " 0.005\n",
       " 0.005\n",
       " 0.005\n",
       " 0.005\n",
       " 0.005\n",
       " 0.005\n",
       " 0.005\n",
       " 0.005\n",
       " 0.005\n",
       " 0.005\n",
       " 0.005\n",
       " 0.005\n",
       " ⋮\n",
       " 0.005\n",
       " 0.005\n",
       " 0.005\n",
       " 0.005\n",
       " 0.005\n",
       " 0.005\n",
       " 0.005\n",
       " 0.005\n",
       " 0.005\n",
       " 0.005\n",
       " 0.005\n",
       " 0.005"
      ]
     },
     "execution_count": 48,
     "metadata": {},
     "output_type": "execute_result"
    }
   ],
   "source": [
    "g11 = reshape(gi[:,1]+gi[:,4], 0.3)\n",
    "g22 = reshape(gi[:,1]-gi[:,4], 0.3)"
   ]
  },
  {
   "cell_type": "code",
   "execution_count": 49,
   "metadata": {},
   "outputs": [
    {
     "data": {
      "text/plain": [
       "500-element Vector{Float64}:\n",
       " 0.0\n",
       " 0.0\n",
       " 0.0\n",
       " 0.0\n",
       " 0.0\n",
       " 0.0\n",
       " 0.0\n",
       " 0.0\n",
       " 0.0\n",
       " 0.0\n",
       " 0.0\n",
       " 0.0\n",
       " 0.0\n",
       " ⋮\n",
       " 0.0\n",
       " 0.0\n",
       " 0.0\n",
       " 0.0\n",
       " 0.0\n",
       " 0.0\n",
       " 0.0\n",
       " 0.0\n",
       " 0.0\n",
       " 0.0\n",
       " 0.0\n",
       " 0.0"
      ]
     },
     "execution_count": 49,
     "metadata": {},
     "output_type": "execute_result"
    }
   ],
   "source": [
    "gi[:,1] = (g11+g22)/2\n",
    "gi[:,4] = (g11-g22)/2"
   ]
  },
  {
   "cell_type": "code",
   "execution_count": 56,
   "metadata": {},
   "outputs": [
    {
     "data": {
      "image/svg+xml": "<?xml version=\"1.0\" encoding=\"utf-8\"?>\n<svg xmlns=\"http://www.w3.org/2000/svg\" xmlns:xlink=\"http://www.w3.org/1999/xlink\" width=\"600\" height=\"400\" viewBox=\"0 0 2400 1600\">\n<defs>\n  <clipPath id=\"clip400\">\n    <rect x=\"0\" y=\"0\" width=\"2400\" height=\"1600\"/>\n  </clipPath>\n</defs>\n<path clip-path=\"url(#clip400)\" d=\"\nM0 1600 L2400 1600 L2400 0 L0 0  Z\n  \" fill=\"#ffffff\" fill-rule=\"evenodd\" fill-opacity=\"1\"/>\n<defs>\n  <clipPath id=\"clip401\">\n    <rect x=\"480\" y=\"0\" width=\"1681\" height=\"1600\"/>\n  </clipPath>\n</defs>\n<path clip-path=\"url(#clip400)\" d=\"\nM194.422 1486.45 L2352.76 1486.45 L2352.76 47.2441 L194.422 47.2441  Z\n  \" fill=\"#ffffff\" fill-rule=\"evenodd\" fill-opacity=\"1\"/>\n<defs>\n  <clipPath id=\"clip402\">\n    <rect x=\"194\" y=\"47\" width=\"2159\" height=\"1440\"/>\n  </clipPath>\n</defs>\n<polyline clip-path=\"url(#clip402)\" style=\"stroke:#000000; stroke-linecap:round; stroke-linejoin:round; stroke-width:2; stroke-opacity:0.1; fill:none\" points=\"\n  255.507,1486.45 255.507,47.2441 \n  \"/>\n<polyline clip-path=\"url(#clip402)\" style=\"stroke:#000000; stroke-linecap:round; stroke-linejoin:round; stroke-width:2; stroke-opacity:0.1; fill:none\" points=\"\n  764.548,1486.45 764.548,47.2441 \n  \"/>\n<polyline clip-path=\"url(#clip402)\" style=\"stroke:#000000; stroke-linecap:round; stroke-linejoin:round; stroke-width:2; stroke-opacity:0.1; fill:none\" points=\"\n  1273.59,1486.45 1273.59,47.2441 \n  \"/>\n<polyline clip-path=\"url(#clip402)\" style=\"stroke:#000000; stroke-linecap:round; stroke-linejoin:round; stroke-width:2; stroke-opacity:0.1; fill:none\" points=\"\n  1782.63,1486.45 1782.63,47.2441 \n  \"/>\n<polyline clip-path=\"url(#clip402)\" style=\"stroke:#000000; stroke-linecap:round; stroke-linejoin:round; stroke-width:2; stroke-opacity:0.1; fill:none\" points=\"\n  2291.67,1486.45 2291.67,47.2441 \n  \"/>\n<polyline clip-path=\"url(#clip400)\" style=\"stroke:#000000; stroke-linecap:round; stroke-linejoin:round; stroke-width:4; stroke-opacity:1; fill:none\" points=\"\n  194.422,1486.45 2352.76,1486.45 \n  \"/>\n<polyline clip-path=\"url(#clip400)\" style=\"stroke:#000000; stroke-linecap:round; stroke-linejoin:round; stroke-width:4; stroke-opacity:1; fill:none\" points=\"\n  255.507,1486.45 255.507,1467.55 \n  \"/>\n<polyline clip-path=\"url(#clip400)\" style=\"stroke:#000000; stroke-linecap:round; stroke-linejoin:round; stroke-width:4; stroke-opacity:1; fill:none\" points=\"\n  764.548,1486.45 764.548,1467.55 \n  \"/>\n<polyline clip-path=\"url(#clip400)\" style=\"stroke:#000000; stroke-linecap:round; stroke-linejoin:round; stroke-width:4; stroke-opacity:1; fill:none\" points=\"\n  1273.59,1486.45 1273.59,1467.55 \n  \"/>\n<polyline clip-path=\"url(#clip400)\" style=\"stroke:#000000; stroke-linecap:round; stroke-linejoin:round; stroke-width:4; stroke-opacity:1; fill:none\" points=\"\n  1782.63,1486.45 1782.63,1467.55 \n  \"/>\n<polyline clip-path=\"url(#clip400)\" style=\"stroke:#000000; stroke-linecap:round; stroke-linejoin:round; stroke-width:4; stroke-opacity:1; fill:none\" points=\"\n  2291.67,1486.45 2291.67,1467.55 \n  \"/>\n<path clip-path=\"url(#clip400)\" d=\"M224.408 1532.02 L254.083 1532.02 L254.083 1535.95 L224.408 1535.95 L224.408 1532.02 Z\" fill=\"#000000\" fill-rule=\"evenodd\" fill-opacity=\"1\" /><path clip-path=\"url(#clip400)\" d=\"M277.023 1518.36 L265.218 1536.81 L277.023 1536.81 L277.023 1518.36 M275.796 1514.29 L281.676 1514.29 L281.676 1536.81 L286.606 1536.81 L286.606 1540.7 L281.676 1540.7 L281.676 1548.85 L277.023 1548.85 L277.023 1540.7 L261.421 1540.7 L261.421 1536.19 L275.796 1514.29 Z\" fill=\"#000000\" fill-rule=\"evenodd\" fill-opacity=\"1\" /><path clip-path=\"url(#clip400)\" d=\"M734.49 1532.02 L764.166 1532.02 L764.166 1535.95 L734.49 1535.95 L734.49 1532.02 Z\" fill=\"#000000\" fill-rule=\"evenodd\" fill-opacity=\"1\" /><path clip-path=\"url(#clip400)\" d=\"M778.286 1544.91 L794.606 1544.91 L794.606 1548.85 L772.661 1548.85 L772.661 1544.91 Q775.323 1542.16 779.907 1537.53 Q784.513 1532.88 785.694 1531.53 Q787.939 1529.01 788.819 1527.27 Q789.721 1525.51 789.721 1523.82 Q789.721 1521.07 787.777 1519.33 Q785.856 1517.6 782.754 1517.6 Q780.555 1517.6 778.101 1518.36 Q775.671 1519.13 772.893 1520.68 L772.893 1515.95 Q775.717 1514.82 778.171 1514.24 Q780.624 1513.66 782.661 1513.66 Q788.032 1513.66 791.226 1516.35 Q794.421 1519.03 794.421 1523.52 Q794.421 1525.65 793.61 1527.57 Q792.823 1529.47 790.717 1532.07 Q790.138 1532.74 787.036 1535.95 Q783.934 1539.15 778.286 1544.91 Z\" fill=\"#000000\" fill-rule=\"evenodd\" fill-opacity=\"1\" /><path clip-path=\"url(#clip400)\" d=\"M1273.59 1517.37 Q1269.98 1517.37 1268.15 1520.93 Q1266.34 1524.47 1266.34 1531.6 Q1266.34 1538.71 1268.15 1542.27 Q1269.98 1545.82 1273.59 1545.82 Q1277.22 1545.82 1279.03 1542.27 Q1280.86 1538.71 1280.86 1531.6 Q1280.86 1524.47 1279.03 1520.93 Q1277.22 1517.37 1273.59 1517.37 M1273.59 1513.66 Q1279.4 1513.66 1282.45 1518.27 Q1285.53 1522.85 1285.53 1531.6 Q1285.53 1540.33 1282.45 1544.94 Q1279.4 1549.52 1273.59 1549.52 Q1267.78 1549.52 1264.7 1544.94 Q1261.64 1540.33 1261.64 1531.6 Q1261.64 1522.85 1264.7 1518.27 Q1267.78 1513.66 1273.59 1513.66 Z\" fill=\"#000000\" fill-rule=\"evenodd\" fill-opacity=\"1\" /><path clip-path=\"url(#clip400)\" d=\"M1777.28 1544.91 L1793.6 1544.91 L1793.6 1548.85 L1771.66 1548.85 L1771.66 1544.91 Q1774.32 1542.16 1778.9 1537.53 Q1783.51 1532.88 1784.69 1531.53 Q1786.94 1529.01 1787.82 1527.27 Q1788.72 1525.51 1788.72 1523.82 Q1788.72 1521.07 1786.77 1519.33 Q1784.85 1517.6 1781.75 1517.6 Q1779.55 1517.6 1777.1 1518.36 Q1774.67 1519.13 1771.89 1520.68 L1771.89 1515.95 Q1774.71 1514.82 1777.17 1514.24 Q1779.62 1513.66 1781.66 1513.66 Q1787.03 1513.66 1790.22 1516.35 Q1793.42 1519.03 1793.42 1523.52 Q1793.42 1525.65 1792.61 1527.57 Q1791.82 1529.47 1789.71 1532.07 Q1789.13 1532.74 1786.03 1535.95 Q1782.93 1539.15 1777.28 1544.91 Z\" fill=\"#000000\" fill-rule=\"evenodd\" fill-opacity=\"1\" /><path clip-path=\"url(#clip400)\" d=\"M2294.68 1518.36 L2282.87 1536.81 L2294.68 1536.81 L2294.68 1518.36 M2293.45 1514.29 L2299.33 1514.29 L2299.33 1536.81 L2304.26 1536.81 L2304.26 1540.7 L2299.33 1540.7 L2299.33 1548.85 L2294.68 1548.85 L2294.68 1540.7 L2279.08 1540.7 L2279.08 1536.19 L2293.45 1514.29 Z\" fill=\"#000000\" fill-rule=\"evenodd\" fill-opacity=\"1\" /><polyline clip-path=\"url(#clip402)\" style=\"stroke:#000000; stroke-linecap:round; stroke-linejoin:round; stroke-width:2; stroke-opacity:0.1; fill:none\" points=\"\n  194.422,1327.77 2352.76,1327.77 \n  \"/>\n<polyline clip-path=\"url(#clip402)\" style=\"stroke:#000000; stroke-linecap:round; stroke-linejoin:round; stroke-width:2; stroke-opacity:0.1; fill:none\" points=\"\n  194.422,1049.06 2352.76,1049.06 \n  \"/>\n<polyline clip-path=\"url(#clip402)\" style=\"stroke:#000000; stroke-linecap:round; stroke-linejoin:round; stroke-width:2; stroke-opacity:0.1; fill:none\" points=\"\n  194.422,770.357 2352.76,770.357 \n  \"/>\n<polyline clip-path=\"url(#clip402)\" style=\"stroke:#000000; stroke-linecap:round; stroke-linejoin:round; stroke-width:2; stroke-opacity:0.1; fill:none\" points=\"\n  194.422,491.651 2352.76,491.651 \n  \"/>\n<polyline clip-path=\"url(#clip402)\" style=\"stroke:#000000; stroke-linecap:round; stroke-linejoin:round; stroke-width:2; stroke-opacity:0.1; fill:none\" points=\"\n  194.422,212.945 2352.76,212.945 \n  \"/>\n<polyline clip-path=\"url(#clip400)\" style=\"stroke:#000000; stroke-linecap:round; stroke-linejoin:round; stroke-width:4; stroke-opacity:1; fill:none\" points=\"\n  194.422,1486.45 194.422,47.2441 \n  \"/>\n<polyline clip-path=\"url(#clip400)\" style=\"stroke:#000000; stroke-linecap:round; stroke-linejoin:round; stroke-width:4; stroke-opacity:1; fill:none\" points=\"\n  194.422,1327.77 213.32,1327.77 \n  \"/>\n<polyline clip-path=\"url(#clip400)\" style=\"stroke:#000000; stroke-linecap:round; stroke-linejoin:round; stroke-width:4; stroke-opacity:1; fill:none\" points=\"\n  194.422,1049.06 213.32,1049.06 \n  \"/>\n<polyline clip-path=\"url(#clip400)\" style=\"stroke:#000000; stroke-linecap:round; stroke-linejoin:round; stroke-width:4; stroke-opacity:1; fill:none\" points=\"\n  194.422,770.357 213.32,770.357 \n  \"/>\n<polyline clip-path=\"url(#clip400)\" style=\"stroke:#000000; stroke-linecap:round; stroke-linejoin:round; stroke-width:4; stroke-opacity:1; fill:none\" points=\"\n  194.422,491.651 213.32,491.651 \n  \"/>\n<polyline clip-path=\"url(#clip400)\" style=\"stroke:#000000; stroke-linecap:round; stroke-linejoin:round; stroke-width:4; stroke-opacity:1; fill:none\" points=\"\n  194.422,212.945 213.32,212.945 \n  \"/>\n<path clip-path=\"url(#clip400)\" d=\"M50.9921 1328.22 L80.6679 1328.22 L80.6679 1332.16 L50.9921 1332.16 L50.9921 1328.22 Z\" fill=\"#000000\" fill-rule=\"evenodd\" fill-opacity=\"1\" /><path clip-path=\"url(#clip400)\" d=\"M100.76 1313.57 Q97.1493 1313.57 95.3206 1317.13 Q93.515 1320.68 93.515 1327.8 Q93.515 1334.91 95.3206 1338.48 Q97.1493 1342.02 100.76 1342.02 Q104.395 1342.02 106.2 1338.48 Q108.029 1334.91 108.029 1327.8 Q108.029 1320.68 106.2 1317.13 Q104.395 1313.57 100.76 1313.57 M100.76 1309.87 Q106.571 1309.87 109.626 1314.47 Q112.705 1319.05 112.705 1327.8 Q112.705 1336.53 109.626 1341.14 Q106.571 1345.72 100.76 1345.72 Q94.9502 1345.72 91.8715 1341.14 Q88.816 1336.53 88.816 1327.8 Q88.816 1319.05 91.8715 1314.47 Q94.9502 1309.87 100.76 1309.87 Z\" fill=\"#000000\" fill-rule=\"evenodd\" fill-opacity=\"1\" /><path clip-path=\"url(#clip400)\" d=\"M120.922 1339.17 L125.807 1339.17 L125.807 1345.05 L120.922 1345.05 L120.922 1339.17 Z\" fill=\"#000000\" fill-rule=\"evenodd\" fill-opacity=\"1\" /><path clip-path=\"url(#clip400)\" d=\"M148.839 1314.56 L137.033 1333.01 L148.839 1333.01 L148.839 1314.56 M147.612 1310.49 L153.492 1310.49 L153.492 1333.01 L158.422 1333.01 L158.422 1336.9 L153.492 1336.9 L153.492 1345.05 L148.839 1345.05 L148.839 1336.9 L133.237 1336.9 L133.237 1332.39 L147.612 1310.49 Z\" fill=\"#000000\" fill-rule=\"evenodd\" fill-opacity=\"1\" /><path clip-path=\"url(#clip400)\" d=\"M53.0754 1049.52 L82.7512 1049.52 L82.7512 1053.45 L53.0754 1053.45 L53.0754 1049.52 Z\" fill=\"#000000\" fill-rule=\"evenodd\" fill-opacity=\"1\" /><path clip-path=\"url(#clip400)\" d=\"M102.844 1034.86 Q99.2326 1034.86 97.4039 1038.43 Q95.5984 1041.97 95.5984 1049.1 Q95.5984 1056.2 97.4039 1059.77 Q99.2326 1063.31 102.844 1063.31 Q106.478 1063.31 108.283 1059.77 Q110.112 1056.2 110.112 1049.1 Q110.112 1041.97 108.283 1038.43 Q106.478 1034.86 102.844 1034.86 M102.844 1031.16 Q108.654 1031.16 111.709 1035.77 Q114.788 1040.35 114.788 1049.1 Q114.788 1057.83 111.709 1062.43 Q108.654 1067.02 102.844 1067.02 Q97.0335 1067.02 93.9549 1062.43 Q90.8993 1057.83 90.8993 1049.1 Q90.8993 1040.35 93.9549 1035.77 Q97.0335 1031.16 102.844 1031.16 Z\" fill=\"#000000\" fill-rule=\"evenodd\" fill-opacity=\"1\" /><path clip-path=\"url(#clip400)\" d=\"M123.006 1060.46 L127.89 1060.46 L127.89 1066.34 L123.006 1066.34 L123.006 1060.46 Z\" fill=\"#000000\" fill-rule=\"evenodd\" fill-opacity=\"1\" /><path clip-path=\"url(#clip400)\" d=\"M142.103 1062.41 L158.422 1062.41 L158.422 1066.34 L136.478 1066.34 L136.478 1062.41 Q139.14 1059.65 143.723 1055.02 Q148.33 1050.37 149.51 1049.03 Q151.755 1046.51 152.635 1044.77 Q153.538 1043.01 153.538 1041.32 Q153.538 1038.57 151.593 1036.83 Q149.672 1035.09 146.57 1035.09 Q144.371 1035.09 141.918 1035.86 Q139.487 1036.62 136.709 1038.17 L136.709 1033.45 Q139.533 1032.32 141.987 1031.74 Q144.441 1031.16 146.478 1031.16 Q151.848 1031.16 155.042 1033.84 Q158.237 1036.53 158.237 1041.02 Q158.237 1043.15 157.427 1045.07 Q156.64 1046.97 154.533 1049.56 Q153.955 1050.23 150.853 1053.45 Q147.751 1056.64 142.103 1062.41 Z\" fill=\"#000000\" fill-rule=\"evenodd\" fill-opacity=\"1\" /><path clip-path=\"url(#clip400)\" d=\"M101.246 756.156 Q97.6354 756.156 95.8067 759.721 Q94.0012 763.263 94.0012 770.392 Q94.0012 777.499 95.8067 781.063 Q97.6354 784.605 101.246 784.605 Q104.881 784.605 106.686 781.063 Q108.515 777.499 108.515 770.392 Q108.515 763.263 106.686 759.721 Q104.881 756.156 101.246 756.156 M101.246 752.452 Q107.057 752.452 110.112 757.059 Q113.191 761.642 113.191 770.392 Q113.191 779.119 110.112 783.725 Q107.057 788.309 101.246 788.309 Q95.4363 788.309 92.3576 783.725 Q89.3021 779.119 89.3021 770.392 Q89.3021 761.642 92.3576 757.059 Q95.4363 752.452 101.246 752.452 Z\" fill=\"#000000\" fill-rule=\"evenodd\" fill-opacity=\"1\" /><path clip-path=\"url(#clip400)\" d=\"M121.408 781.758 L126.293 781.758 L126.293 787.637 L121.408 787.637 L121.408 781.758 Z\" fill=\"#000000\" fill-rule=\"evenodd\" fill-opacity=\"1\" /><path clip-path=\"url(#clip400)\" d=\"M146.478 756.156 Q142.867 756.156 141.038 759.721 Q139.232 763.263 139.232 770.392 Q139.232 777.499 141.038 781.063 Q142.867 784.605 146.478 784.605 Q150.112 784.605 151.918 781.063 Q153.746 777.499 153.746 770.392 Q153.746 763.263 151.918 759.721 Q150.112 756.156 146.478 756.156 M146.478 752.452 Q152.288 752.452 155.343 757.059 Q158.422 761.642 158.422 770.392 Q158.422 779.119 155.343 783.725 Q152.288 788.309 146.478 788.309 Q140.668 788.309 137.589 783.725 Q134.533 779.119 134.533 770.392 Q134.533 761.642 137.589 757.059 Q140.668 752.452 146.478 752.452 Z\" fill=\"#000000\" fill-rule=\"evenodd\" fill-opacity=\"1\" /><path clip-path=\"url(#clip400)\" d=\"M102.844 477.45 Q99.2326 477.45 97.4039 481.015 Q95.5984 484.556 95.5984 491.686 Q95.5984 498.792 97.4039 502.357 Q99.2326 505.899 102.844 505.899 Q106.478 505.899 108.283 502.357 Q110.112 498.792 110.112 491.686 Q110.112 484.556 108.283 481.015 Q106.478 477.45 102.844 477.45 M102.844 473.746 Q108.654 473.746 111.709 478.353 Q114.788 482.936 114.788 491.686 Q114.788 500.413 111.709 505.019 Q108.654 509.602 102.844 509.602 Q97.0335 509.602 93.9549 505.019 Q90.8993 500.413 90.8993 491.686 Q90.8993 482.936 93.9549 478.353 Q97.0335 473.746 102.844 473.746 Z\" fill=\"#000000\" fill-rule=\"evenodd\" fill-opacity=\"1\" /><path clip-path=\"url(#clip400)\" d=\"M123.006 503.052 L127.89 503.052 L127.89 508.931 L123.006 508.931 L123.006 503.052 Z\" fill=\"#000000\" fill-rule=\"evenodd\" fill-opacity=\"1\" /><path clip-path=\"url(#clip400)\" d=\"M142.103 504.996 L158.422 504.996 L158.422 508.931 L136.478 508.931 L136.478 504.996 Q139.14 502.241 143.723 497.612 Q148.33 492.959 149.51 491.616 Q151.755 489.093 152.635 487.357 Q153.538 485.598 153.538 483.908 Q153.538 481.154 151.593 479.417 Q149.672 477.681 146.57 477.681 Q144.371 477.681 141.918 478.445 Q139.487 479.209 136.709 480.76 L136.709 476.038 Q139.533 474.904 141.987 474.325 Q144.441 473.746 146.478 473.746 Q151.848 473.746 155.042 476.431 Q158.237 479.117 158.237 483.607 Q158.237 485.737 157.427 487.658 Q156.64 489.556 154.533 492.149 Q153.955 492.82 150.853 496.038 Q147.751 499.232 142.103 504.996 Z\" fill=\"#000000\" fill-rule=\"evenodd\" fill-opacity=\"1\" /><path clip-path=\"url(#clip400)\" d=\"M100.76 198.744 Q97.1493 198.744 95.3206 202.308 Q93.515 205.85 93.515 212.98 Q93.515 220.086 95.3206 223.651 Q97.1493 227.192 100.76 227.192 Q104.395 227.192 106.2 223.651 Q108.029 220.086 108.029 212.98 Q108.029 205.85 106.2 202.308 Q104.395 198.744 100.76 198.744 M100.76 195.04 Q106.571 195.04 109.626 199.646 Q112.705 204.23 112.705 212.98 Q112.705 221.706 109.626 226.313 Q106.571 230.896 100.76 230.896 Q94.9502 230.896 91.8715 226.313 Q88.816 221.706 88.816 212.98 Q88.816 204.23 91.8715 199.646 Q94.9502 195.04 100.76 195.04 Z\" fill=\"#000000\" fill-rule=\"evenodd\" fill-opacity=\"1\" /><path clip-path=\"url(#clip400)\" d=\"M120.922 224.345 L125.807 224.345 L125.807 230.225 L120.922 230.225 L120.922 224.345 Z\" fill=\"#000000\" fill-rule=\"evenodd\" fill-opacity=\"1\" /><path clip-path=\"url(#clip400)\" d=\"M148.839 199.739 L137.033 218.188 L148.839 218.188 L148.839 199.739 M147.612 195.665 L153.492 195.665 L153.492 218.188 L158.422 218.188 L158.422 222.077 L153.492 222.077 L153.492 230.225 L148.839 230.225 L148.839 222.077 L133.237 222.077 L133.237 217.563 L147.612 195.665 Z\" fill=\"#000000\" fill-rule=\"evenodd\" fill-opacity=\"1\" /><polyline clip-path=\"url(#clip402)\" style=\"stroke:#009af9; stroke-linecap:round; stroke-linejoin:round; stroke-width:8; stroke-opacity:1; fill:none\" points=\"\n  255.507,763.525 259.588,763.525 263.668,763.525 267.748,763.525 271.829,763.525 275.909,763.525 279.99,763.525 284.07,763.525 288.151,763.525 292.231,763.525 \n  296.312,763.525 300.392,763.525 304.473,763.525 308.553,763.525 312.634,763.525 316.714,763.525 320.795,763.525 324.875,763.525 328.956,763.525 333.036,763.525 \n  337.117,763.525 341.197,766.257 345.278,765.278 349.358,764.268 353.439,763.228 357.519,762.158 361.6,761.058 365.68,759.929 369.761,758.77 373.841,757.582 \n  377.922,756.366 382.002,755.121 386.083,753.847 390.163,752.546 394.244,751.216 398.324,749.86 402.405,748.475 406.485,747.064 410.566,745.626 414.646,744.162 \n  418.727,742.672 422.807,741.157 426.888,739.616 430.968,738.05 435.049,736.46 439.129,734.847 443.21,733.21 447.29,731.55 451.37,729.867 455.451,728.163 \n  459.531,726.437 463.612,724.69 467.692,722.924 471.773,721.138 475.853,719.332 479.934,717.509 484.014,715.668 488.095,713.81 492.175,711.937 496.256,710.048 \n  500.336,708.144 504.417,706.227 508.497,704.296 512.578,702.354 516.658,700.401 520.739,698.438 524.819,696.465 528.9,694.485 532.98,692.497 537.061,690.503 \n  541.141,688.505 545.222,686.502 549.302,684.497 553.383,682.49 557.463,680.483 561.544,681.229 565.624,678.338 569.705,675.427 573.785,672.499 577.866,669.556 \n  581.946,666.6 586.027,663.635 590.107,660.661 594.188,657.683 598.268,654.702 602.349,651.72 606.429,648.741 610.51,645.767 614.59,642.801 618.671,639.846 \n  622.751,636.904 626.832,633.979 630.912,631.073 634.992,628.189 639.073,625.33 643.153,622.5 647.234,619.702 651.314,616.938 655.395,614.212 659.475,611.527 \n  663.556,608.886 667.636,606.293 671.717,603.75 675.797,601.262 679.878,598.832 683.958,596.462 688.039,594.156 692.119,591.918 696.2,589.751 700.28,587.659 \n  704.361,585.644 708.441,583.71 712.522,581.861 716.602,580.1 720.683,578.429 724.763,576.853 728.844,575.375 732.924,573.997 737.005,572.723 741.085,571.556 \n  745.166,570.499 749.246,569.554 753.327,568.725 757.407,568.015 761.488,567.425 765.568,566.958 769.649,566.617 773.729,566.403 777.81,566.319 781.89,566.366 \n  785.971,566.546 790.051,566.86 794.132,567.31 798.212,567.896 802.293,568.618 806.373,569.478 810.454,570.475 814.534,571.608 818.614,572.878 822.695,574.282 \n  826.775,575.82 830.856,577.489 834.936,579.287 839.017,581.212 843.097,583.26 847.178,585.427 851.258,587.708 855.339,590.099 859.419,592.595 863.5,595.188 \n  867.58,597.872 871.661,600.639 875.741,603.481 879.822,606.39 883.902,609.354 887.983,612.364 892.063,615.409 896.144,618.475 900.224,621.551 904.305,624.621 \n  908.385,627.671 912.466,630.685 916.546,633.648 920.627,636.54 924.707,639.344 928.788,642.039 932.868,644.607 936.949,647.025 941.029,649.271 945.11,651.323 \n  949.19,653.156 953.271,654.745 957.351,656.066 961.432,657.092 965.512,657.797 969.593,658.153 973.673,658.133 977.754,657.709 981.834,656.853 985.915,655.536 \n  989.995,653.732 994.076,651.413 998.156,648.551 1002.24,645.122 1006.32,641.101 1010.4,636.464 1014.48,631.192 1018.56,625.265 1022.64,618.669 1026.72,611.389 \n  1030.8,603.419 1034.88,594.754 1038.96,585.395 1043.04,575.349 1047.12,564.629 1051.2,553.255 1055.28,541.255 1059.36,528.665 1063.44,515.531 1067.52,501.906 \n  1071.6,487.856 1075.69,473.456 1079.77,458.791 1083.85,443.958 1087.93,429.063 1092.01,414.223 1096.09,399.563 1100.17,385.218 1104.25,371.326 1108.33,358.031 \n  1112.41,345.478 1116.49,333.808 1120.57,323.158 1124.65,313.652 1128.73,305.395 1132.81,298.47 1136.89,292.926 1140.97,288.77 1145.05,285.959 1149.13,284.386 \n  1153.21,283.869 1157.3,284.136 1161.38,284.819 1165.46,285.436 1169.54,285.389 1173.62,276.813 1177.7,267.348 1181.78,256.228 1185.86,243.051 1189.94,227.472 \n  1194.02,209.283 1198.1,188.525 1202.18,165.647 1206.26,141.703 1210.34,118.585 1214.42,99.2624 1218.5,87.9763 1222.58,90.2973 1226.66,112.905 1230.74,162.881 \n  1234.82,246.238 1238.9,365.382 1242.99,515.353 1247.07,679.247 1251.15,763.525 1255.23,763.525 1259.31,763.525 1263.39,763.42 1267.47,660.999 1271.55,755.734 \n  1275.63,755.853 1279.71,660.966 1283.79,763.162 1287.87,763.525 1291.95,763.525 1296.03,763.525 1300.11,679.277 1304.19,515.059 1308.27,364.986 1312.35,245.988 \n  1316.43,162.889 1320.51,113.118 1324.6,90.5702 1328.68,88.1672 1332.76,99.2972 1336.84,118.473 1340.92,141.514 1345,165.472 1349.08,188.439 1353.16,209.326 \n  1357.24,227.642 1361.32,243.313 1365.4,256.529 1369.48,267.629 1373.56,277.024 1377.64,285.572 1381.72,285.449 1385.8,284.657 1389.88,283.815 1393.96,283.419 \n  1398.04,283.852 1402.12,285.387 1406.2,288.206 1410.29,292.411 1414.37,298.038 1418.45,305.07 1422.53,313.447 1426.61,323.077 1430.69,333.847 1434.77,345.624 \n  1438.85,358.269 1442.93,371.636 1447.01,385.58 1451.09,399.955 1455.17,414.625 1459.25,429.457 1463.33,444.329 1467.41,459.128 1471.49,473.75 1475.57,488.101 \n  1479.65,502.098 1483.73,515.671 1487.81,528.755 1491.9,541.297 1495.98,553.255 1500.06,564.592 1504.14,575.281 1508.22,585.303 1512.3,594.643 1516.38,603.296 \n  1520.46,611.259 1524.54,618.535 1528.62,625.134 1532.7,631.065 1536.78,636.345 1540.86,640.991 1544.94,645.023 1549.02,648.463 1553.1,651.337 1557.18,653.668 \n  1561.26,655.484 1565.34,656.811 1569.42,657.678 1573.5,658.111 1577.59,658.139 1581.67,657.79 1585.75,657.091 1589.83,656.07 1593.91,654.754 1597.99,653.167 \n  1602.07,651.337 1606.15,649.288 1610.23,647.043 1614.31,644.626 1618.39,642.059 1622.47,639.364 1626.55,636.561 1630.63,633.669 1634.71,630.707 1638.79,627.692 \n  1642.87,624.642 1646.95,621.571 1651.03,618.496 1655.11,615.429 1659.2,612.384 1663.28,609.374 1667.36,606.409 1671.44,603.499 1675.52,600.656 1679.6,597.888 \n  1683.68,595.203 1687.76,592.608 1691.84,590.111 1695.92,587.718 1700,585.435 1704.08,583.265 1708.16,581.215 1712.24,579.288 1716.32,577.486 1720.4,575.814 \n  1724.48,574.272 1728.56,572.865 1732.64,571.592 1736.72,570.455 1740.8,569.454 1744.89,568.591 1748.97,567.865 1753.05,567.275 1757.13,566.822 1761.21,566.505 \n  1765.29,566.322 1769.37,566.272 1773.45,566.354 1777.53,566.565 1781.61,566.905 1785.69,567.37 1789.77,567.958 1793.85,568.668 1797.93,569.497 1802.01,570.441 \n  1806.09,571.499 1810.17,572.666 1814.25,573.941 1818.33,575.32 1822.41,576.801 1826.5,578.379 1830.58,580.052 1834.66,581.816 1838.74,583.669 1842.82,585.606 \n  1846.9,587.624 1850.98,589.721 1855.06,591.892 1859.14,594.134 1863.22,596.444 1867.3,598.818 1871.38,601.253 1875.46,603.746 1879.54,606.293 1883.62,608.891 \n  1887.7,611.536 1891.78,614.225 1895.86,616.955 1899.94,619.723 1904.02,622.526 1908.11,625.36 1912.19,628.222 1916.27,631.109 1920.35,634.018 1924.43,636.946 \n  1928.51,639.89 1932.59,642.848 1936.67,645.816 1940.75,648.791 1944.83,651.771 1948.91,654.754 1952.99,657.736 1957.07,660.714 1961.15,663.688 1965.23,666.653 \n  1969.31,669.608 1973.39,672.55 1977.47,675.477 1981.55,678.386 1985.63,681.277 1989.71,680.418 1993.8,682.428 1997.88,684.439 2001.96,686.448 2006.04,688.455 \n  2010.12,690.459 2014.2,692.459 2018.28,694.452 2022.36,696.44 2026.44,698.419 2030.52,700.39 2034.6,702.351 2038.68,704.302 2042.76,706.241 2046.84,708.167 \n  2050.92,710.079 2055,711.977 2059.08,713.86 2063.16,715.727 2067.24,717.577 2071.32,719.409 2075.41,721.222 2079.49,723.016 2083.57,724.791 2087.65,726.544 \n  2091.73,728.277 2095.81,729.987 2099.89,731.675 2103.97,733.339 2108.05,734.981 2112.13,736.597 2116.21,738.19 2120.29,739.757 2124.37,741.298 2128.45,742.813 \n  2132.53,744.302 2136.61,745.764 2140.69,747.199 2144.77,748.607 2148.85,749.986 2152.93,751.338 2157.01,752.661 2161.1,753.956 2165.18,755.221 2169.26,756.458 \n  2173.34,757.666 2177.42,758.844 2181.5,759.992 2185.58,761.111 2189.66,762.201 2193.74,763.26 2197.82,764.289 2201.9,765.288 2205.98,766.257 2210.06,763.525 \n  2214.14,763.525 2218.22,763.525 2222.3,763.525 2226.38,763.525 2230.46,763.525 2234.54,763.525 2238.62,763.525 2242.71,763.525 2246.79,763.525 2250.87,763.525 \n  2254.95,763.525 2259.03,763.525 2263.11,763.525 2267.19,763.525 2271.27,763.525 2275.35,763.525 2279.43,763.525 2283.51,763.525 2287.59,763.525 2291.67,763.525 \n  \n  \"/>\n<polyline clip-path=\"url(#clip402)\" style=\"stroke:#e26f46; stroke-linecap:round; stroke-linejoin:round; stroke-width:8; stroke-opacity:1; fill:none\" points=\"\n  255.507,770.357 259.588,770.357 263.668,770.357 267.748,770.357 271.829,770.357 275.909,770.357 279.99,770.357 284.07,770.357 288.151,770.357 292.231,770.357 \n  296.312,770.357 300.392,770.357 304.473,770.357 308.553,770.357 312.634,770.357 316.714,770.357 320.795,770.357 324.875,770.357 328.956,770.357 333.036,770.357 \n  337.117,770.357 341.197,767.625 345.278,768.605 349.358,769.615 353.439,770.655 357.519,771.725 361.6,772.825 365.68,773.954 369.761,775.113 373.841,776.3 \n  377.922,777.517 382.002,778.762 386.083,780.035 390.163,781.337 394.244,782.666 398.324,784.023 402.405,785.408 406.485,786.819 410.566,788.257 414.646,789.721 \n  418.727,791.211 422.807,792.726 426.888,794.267 430.968,795.833 435.049,797.422 439.129,799.036 443.21,800.673 447.29,802.333 451.37,804.016 455.451,805.72 \n  459.531,807.446 463.612,809.192 467.692,810.959 471.773,812.745 475.853,814.55 479.934,816.374 484.014,818.215 488.095,820.072 492.175,821.946 496.256,823.835 \n  500.336,825.739 504.417,827.656 508.497,829.586 512.578,831.529 516.658,833.482 520.739,835.445 524.819,837.417 528.9,839.398 532.98,841.386 537.061,843.379 \n  541.141,845.378 545.222,847.381 549.302,849.386 553.383,851.393 557.463,853.4 561.544,858.159 565.624,859.276 569.705,860.366 573.785,861.43 577.866,862.466 \n  581.946,863.475 586.027,864.456 590.107,865.408 594.188,866.332 598.268,867.225 602.349,868.089 606.429,868.922 610.51,869.724 614.59,870.494 618.671,871.232 \n  622.751,871.937 626.832,872.609 630.912,873.247 634.992,873.85 639.073,874.419 643.153,874.951 647.234,875.448 651.314,875.907 655.395,876.329 659.475,876.713 \n  663.556,877.058 667.636,877.363 671.717,877.628 675.797,877.852 679.878,878.034 683.958,878.173 688.039,878.27 692.119,878.322 696.2,878.329 700.28,878.291 \n  704.361,878.206 708.441,878.074 712.522,877.894 716.602,877.664 720.683,877.384 724.763,877.054 728.844,876.672 732.924,876.236 737.005,875.747 741.085,875.204 \n  745.166,874.604 749.246,873.948 753.327,873.235 757.407,872.462 761.488,871.63 765.568,870.737 769.649,869.783 773.729,868.766 777.81,867.685 781.89,866.539 \n  785.971,865.328 790.051,864.049 794.132,862.704 798.212,861.289 802.293,859.805 806.373,858.25 810.454,856.624 814.534,854.925 818.614,853.153 822.695,851.306 \n  826.775,849.385 830.856,847.387 834.936,845.313 839.017,843.161 843.097,840.93 847.178,838.62 851.258,836.23 855.339,833.759 859.419,831.206 863.5,828.571 \n  867.58,825.852 871.661,823.049 875.741,820.161 879.822,817.188 883.902,814.127 887.983,810.979 892.063,807.743 896.144,804.417 900.224,801 904.305,797.492 \n  908.385,793.892 912.466,790.198 916.546,786.409 920.627,782.524 924.707,778.541 928.788,774.46 932.868,770.279 936.949,765.997 941.029,761.612 945.11,757.123 \n  949.19,752.529 953.271,747.827 957.351,743.017 961.432,738.098 965.512,733.067 969.593,727.924 973.673,722.668 977.754,717.296 981.834,711.809 985.915,706.205 \n  989.995,700.483 994.076,694.641 998.156,688.68 1002.24,682.598 1006.32,676.393 1010.4,670.066 1014.48,663.615 1018.56,657.038 1022.64,650.334 1026.72,643.502 \n  1030.8,636.539 1034.88,629.442 1038.96,622.21 1043.04,614.839 1047.12,607.325 1051.2,599.665 1055.28,591.854 1059.36,583.888 1063.44,575.761 1067.52,567.47 \n  1071.6,559.009 1075.69,550.374 1079.77,541.561 1083.85,532.565 1087.93,523.384 1092.01,514.015 1096.09,504.457 1100.17,494.707 1104.25,484.764 1108.33,474.627 \n  1112.41,464.292 1116.49,453.756 1120.57,443.013 1124.65,432.053 1128.73,420.863 1132.81,409.426 1136.89,397.72 1140.97,385.722 1145.05,373.403 1149.13,360.735 \n  1153.21,347.692 1157.3,334.252 1161.38,320.404 1165.46,306.148 1169.54,291.5 1173.62,283.645 1177.7,274.18 1181.78,263.06 1185.86,249.883 1189.94,234.304 \n  1194.02,216.115 1198.1,195.357 1202.18,172.479 1206.26,148.535 1210.34,125.417 1214.42,106.095 1218.5,94.8084 1222.58,97.1294 1226.66,119.737 1230.74,169.714 \n  1234.82,253.07 1238.9,372.214 1242.99,522.185 1247.07,686.079 1251.15,770.357 1255.23,770.357 1259.31,770.357 1263.39,770.253 1267.47,667.831 1271.55,762.566 \n  1275.63,778.03 1279.71,872.917 1283.79,770.721 1287.87,770.357 1291.95,770.357 1296.03,770.357 1300.11,854.605 1304.19,1018.82 1308.27,1168.9 1312.35,1287.89 \n  1316.43,1370.99 1320.51,1420.76 1324.6,1443.31 1328.68,1445.72 1332.76,1434.59 1336.84,1415.41 1340.92,1392.37 1345,1368.41 1349.08,1345.44 1353.16,1324.56 \n  1357.24,1306.24 1361.32,1290.57 1365.4,1277.35 1369.48,1266.25 1373.56,1256.86 1377.64,1249.18 1381.72,1234.6 1385.8,1220.39 1389.88,1206.58 1393.96,1193.15 \n  1398.04,1180.09 1402.12,1167.4 1406.2,1155.05 1410.29,1143.02 1414.37,1131.29 1418.45,1119.84 1422.53,1108.63 1426.61,1097.67 1430.69,1086.93 1434.77,1076.4 \n  1438.85,1066.08 1442.93,1055.95 1447.01,1046.02 1451.09,1036.27 1455.17,1026.72 1459.25,1017.35 1463.33,1008.17 1467.41,999.171 1471.49,990.356 1475.57,981.72 \n  1479.65,973.259 1483.73,964.97 1487.81,956.848 1491.9,948.887 1495.98,941.083 1500.06,933.431 1504.14,925.925 1508.22,918.561 1512.3,911.334 1516.38,904.241 \n  1520.46,897.278 1524.54,890.441 1528.62,883.73 1532.7,877.142 1536.78,870.675 1540.86,864.328 1544.94,858.101 1549.02,851.994 1553.1,846.005 1557.18,840.136 \n  1561.26,834.385 1565.34,828.754 1569.42,823.241 1573.5,817.846 1577.59,812.569 1581.67,807.41 1585.75,802.367 1589.83,797.44 1593.91,792.628 1597.99,787.929 \n  1602.07,783.343 1606.15,778.866 1610.23,774.499 1614.31,770.238 1618.39,766.083 1622.47,762.031 1626.55,758.08 1630.63,754.228 1634.71,750.474 1638.79,746.815 \n  1642.87,743.25 1646.95,739.777 1651.03,736.395 1655.11,733.101 1659.2,729.895 1663.28,726.774 1667.36,723.738 1671.44,720.786 1675.52,717.916 1679.6,715.127 \n  1683.68,712.419 1687.76,709.791 1691.84,707.242 1695.92,704.771 1700,702.378 1704.08,700.062 1708.16,697.823 1712.24,695.66 1716.32,693.572 1720.4,691.559 \n  1724.48,689.621 1728.56,687.756 1732.64,685.965 1736.72,684.247 1740.8,682.601 1744.89,681.027 1748.97,679.523 1753.05,678.09 1757.13,676.726 1761.21,675.431 \n  1765.29,674.204 1769.37,673.043 1773.45,671.949 1777.53,670.92 1781.61,669.954 1785.69,669.052 1789.77,668.212 1793.85,667.433 1797.93,666.714 1802.01,666.054 \n  1806.09,665.452 1810.17,664.907 1814.25,664.417 1818.33,663.981 1822.41,663.599 1826.5,663.269 1830.58,662.991 1834.66,662.762 1838.74,662.583 1842.82,662.452 \n  1846.9,662.368 1850.98,662.331 1855.06,662.339 1859.14,662.391 1863.22,662.486 1867.3,662.624 1871.38,662.804 1875.46,663.025 1879.54,663.287 1883.62,663.588 \n  1887.7,663.928 1891.78,664.306 1895.86,664.722 1899.94,665.175 1904.02,665.664 1908.11,666.189 1912.19,666.75 1916.27,667.346 1920.35,667.976 1924.43,668.639 \n  1928.51,669.337 1932.59,670.067 1936.67,670.83 1940.75,671.625 1944.83,672.452 1948.91,673.31 1952.99,674.199 1957.07,675.119 1961.15,676.069 1965.23,677.048 \n  1969.31,678.057 1973.39,679.094 1977.47,680.16 1981.55,681.254 1985.63,682.375 1989.71,687.251 1993.8,689.261 1997.88,691.271 2001.96,693.28 2006.04,695.287 \n  2010.12,697.291 2014.2,699.291 2018.28,701.285 2022.36,703.272 2026.44,705.252 2030.52,707.222 2034.6,709.184 2038.68,711.134 2042.76,713.073 2046.84,714.999 \n  2050.92,716.911 2055,718.81 2059.08,720.692 2063.16,722.559 2067.24,724.409 2071.32,726.241 2075.41,728.054 2079.49,729.848 2083.57,731.623 2087.65,733.376 \n  2091.73,735.109 2095.81,736.819 2099.89,738.507 2103.97,740.172 2108.05,741.813 2112.13,743.43 2116.21,745.022 2120.29,746.589 2124.37,748.13 2128.45,749.645 \n  2132.53,751.134 2136.61,752.596 2140.69,754.031 2144.77,755.439 2148.85,756.818 2152.93,758.17 2157.01,759.493 2161.1,760.788 2165.18,762.053 2169.26,763.29 \n  2173.34,764.498 2177.42,765.676 2181.5,766.825 2185.58,767.943 2189.66,769.033 2193.74,770.092 2197.82,771.121 2201.9,772.12 2205.98,773.089 2210.06,770.357 \n  2214.14,770.357 2218.22,770.357 2222.3,770.357 2226.38,770.357 2230.46,770.357 2234.54,770.357 2238.62,770.357 2242.71,770.357 2246.79,770.357 2250.87,770.357 \n  2254.95,770.357 2259.03,770.357 2263.11,770.357 2267.19,770.357 2271.27,770.357 2275.35,770.357 2279.43,770.357 2283.51,770.357 2287.59,770.357 2291.67,770.357 \n  \n  \"/>\n<path clip-path=\"url(#clip400)\" d=\"\nM1988.57 250.738 L2280.81 250.738 L2280.81 95.2176 L1988.57 95.2176  Z\n  \" fill=\"#ffffff\" fill-rule=\"evenodd\" fill-opacity=\"1\"/>\n<polyline clip-path=\"url(#clip400)\" style=\"stroke:#000000; stroke-linecap:round; stroke-linejoin:round; stroke-width:4; stroke-opacity:1; fill:none\" points=\"\n  1988.57,250.738 2280.81,250.738 2280.81,95.2176 1988.57,95.2176 1988.57,250.738 \n  \"/>\n<polyline clip-path=\"url(#clip400)\" style=\"stroke:#009af9; stroke-linecap:round; stroke-linejoin:round; stroke-width:4; stroke-opacity:1; fill:none\" points=\"\n  2012.55,147.058 2156.44,147.058 \n  \"/>\n<path clip-path=\"url(#clip400)\" d=\"M2194.26 166.745 Q2192.46 171.375 2190.74 172.787 Q2189.03 174.199 2186.16 174.199 L2182.76 174.199 L2182.76 170.634 L2185.26 170.634 Q2187.02 170.634 2187.99 169.8 Q2188.96 168.967 2190.14 165.865 L2190.9 163.921 L2180.42 138.412 L2184.93 138.412 L2193.03 158.689 L2201.14 138.412 L2205.65 138.412 L2194.26 166.745 Z\" fill=\"#000000\" fill-rule=\"evenodd\" fill-opacity=\"1\" /><path clip-path=\"url(#clip400)\" d=\"M2212.94 160.402 L2220.58 160.402 L2220.58 134.037 L2212.27 135.703 L2212.27 131.444 L2220.53 129.778 L2225.21 129.778 L2225.21 160.402 L2232.85 160.402 L2232.85 164.338 L2212.94 164.338 L2212.94 160.402 Z\" fill=\"#000000\" fill-rule=\"evenodd\" fill-opacity=\"1\" /><polyline clip-path=\"url(#clip400)\" style=\"stroke:#e26f46; stroke-linecap:round; stroke-linejoin:round; stroke-width:4; stroke-opacity:1; fill:none\" points=\"\n  2012.55,198.898 2156.44,198.898 \n  \"/>\n<path clip-path=\"url(#clip400)\" d=\"M2194.26 218.585 Q2192.46 223.215 2190.74 224.627 Q2189.03 226.039 2186.16 226.039 L2182.76 226.039 L2182.76 222.474 L2185.26 222.474 Q2187.02 222.474 2187.99 221.64 Q2188.96 220.807 2190.14 217.705 L2190.9 215.761 L2180.42 190.252 L2184.93 190.252 L2193.03 210.529 L2201.14 190.252 L2205.65 190.252 L2194.26 218.585 Z\" fill=\"#000000\" fill-rule=\"evenodd\" fill-opacity=\"1\" /><path clip-path=\"url(#clip400)\" d=\"M2216.16 212.242 L2232.48 212.242 L2232.48 216.178 L2210.53 216.178 L2210.53 212.242 Q2213.2 209.488 2217.78 204.858 Q2222.39 200.205 2223.57 198.863 Q2225.81 196.34 2226.69 194.604 Q2227.59 192.844 2227.59 191.155 Q2227.59 188.4 2225.65 186.664 Q2223.73 184.928 2220.63 184.928 Q2218.43 184.928 2215.97 185.692 Q2213.54 186.455 2210.77 188.006 L2210.77 183.284 Q2213.59 182.15 2216.04 181.571 Q2218.5 180.993 2220.53 180.993 Q2225.9 180.993 2229.1 183.678 Q2232.29 186.363 2232.29 190.854 Q2232.29 192.983 2231.48 194.905 Q2230.7 196.803 2228.59 199.395 Q2228.01 200.067 2224.91 203.284 Q2221.81 206.479 2216.16 212.242 Z\" fill=\"#000000\" fill-rule=\"evenodd\" fill-opacity=\"1\" /></svg>\n"
     },
     "execution_count": 56,
     "metadata": {},
     "output_type": "execute_result"
    }
   ],
   "source": [
    "plot(w_mesh, gi[:,1], linewidth=2.0)\n",
    "plot!(w_mesh, gi[:,4], linewidth=2.0)\n",
    "#plot(w_mesh, gi[:,1]-gi[:,4], linewidth=2.0)\n",
    "#plot!(w_mesh, gi[:,1]+gi[:,4], linewidth=2.0)"
   ]
  },
  {
   "cell_type": "code",
   "execution_count": 53,
   "metadata": {},
   "outputs": [
    {
     "data": {
      "text/plain": [
       "renorm_rho (generic function with 1 method)"
      ]
     },
     "execution_count": 53,
     "metadata": {},
     "output_type": "execute_result"
    }
   ],
   "source": [
    "f(beta::Float64, w::Float64) = 1.0/(1.0+exp(beta*w))\n",
    "function renorm_rho(beta::Float64, w::Vector{Float64}, rho::Vector{Float64})\n",
    "    n = 0.0\n",
    "    dw = w[2]-w[1]\n",
    "    for i in 1:length(w)\n",
    "        n += dw * rho[i] * f(beta, w[i])\n",
    "    end\n",
    "    #rho1 = (0.5/n) * rho\n",
    "    #return rho1\n",
    "    return n\n",
    "end"
   ]
  },
  {
   "cell_type": "code",
   "execution_count": 54,
   "metadata": {},
   "outputs": [
    {
     "data": {
      "text/plain": [
       "0.5099196562596192"
      ]
     },
     "execution_count": 54,
     "metadata": {},
     "output_type": "execute_result"
    }
   ],
   "source": [
    "nn = renorm_rho(irx.beta, w_mesh, gi[:,1])"
   ]
  },
  {
   "cell_type": "code",
   "execution_count": 55,
   "metadata": {},
   "outputs": [
    {
     "data": {
      "text/plain": [
       "500×4 Matrix{Float64}:\n",
       " 0.00490273  -0.000532058   4.39906e-5   0.0\n",
       " 0.00490273  -0.000424945   4.08718e-5   0.0\n",
       " 0.00490273  -0.000331557   3.69655e-5   0.0\n",
       " 0.00490273  -0.000250644   3.24299e-5   0.0\n",
       " 0.00490273  -0.000181031   2.74123e-5   0.0\n",
       " 0.00490273  -0.00012162    2.20489e-5   0.0\n",
       " 0.00490273  -7.13822e-5    1.64653e-5   0.0\n",
       " 0.00490273  -2.93565e-5    1.07767e-5   0.0\n",
       " 0.00490273   5.35056e-6    5.08781e-6   0.0\n",
       " 0.00490273   3.35692e-5   -5.06553e-7   0.0\n",
       " 0.00490273   5.60681e-5   -5.92131e-6   0.0\n",
       " 0.00490273   7.35572e-5   -1.10808e-5   0.0\n",
       " 0.00490273   8.66899e-5   -1.59187e-5   0.0\n",
       " ⋮                                       \n",
       " 0.00490273   4.24307e-5    2.74147e-5   0.0\n",
       " 0.00490273   5.06724e-5    1.35215e-5   0.0\n",
       " 0.00490273   6.00051e-5    6.60272e-10  0.0\n",
       " 0.00490273   7.05565e-5   -1.26788e-5   0.0\n",
       " 0.00490273   8.24618e-5   -2.39887e-5   0.0\n",
       " 0.00490273   9.58631e-5   -3.33393e-5   0.0\n",
       " 0.00490273   0.00011091   -4.00759e-5   0.0\n",
       " 0.00490273   0.000127758  -4.34759e-5   0.0\n",
       " 0.00490273   0.000146572  -4.27454e-5   0.0\n",
       " 0.00490273   0.000167522  -3.7017e-5    0.0\n",
       " 0.00490273   0.000190786  -2.53456e-5   0.0\n",
       " 0.00490273   0.000216547  -6.70622e-6   0.0"
      ]
     },
     "execution_count": 55,
     "metadata": {},
     "output_type": "execute_result"
    }
   ],
   "source": [
    "gi = (0.5/nn) * gi"
   ]
  },
  {
   "cell_type": "code",
   "execution_count": 1,
   "metadata": {},
   "outputs": [],
   "source": [
    "using Distributed"
   ]
  },
  {
   "cell_type": "code",
   "execution_count": 2,
   "metadata": {},
   "outputs": [
    {
     "data": {
      "text/plain": [
       "4-element Vector{Int64}:\n",
       " 2\n",
       " 3\n",
       " 4\n",
       " 5"
      ]
     },
     "execution_count": 2,
     "metadata": {},
     "output_type": "execute_result"
    }
   ],
   "source": [
    "addprocs(4)"
   ]
  },
  {
   "cell_type": "code",
   "execution_count": 11,
   "metadata": {},
   "outputs": [],
   "source": [
    "@everywhere using SharedArrays"
   ]
  },
  {
   "cell_type": "code",
   "execution_count": 19,
   "metadata": {},
   "outputs": [
    {
     "data": {
      "text/plain": [
       "8-element SharedVector{Float64}:\n",
       " 0.0\n",
       " 0.0\n",
       " 0.0\n",
       " 0.0\n",
       " 0.0\n",
       " 0.0\n",
       " 0.0\n",
       " 0.0"
      ]
     },
     "execution_count": 19,
     "metadata": {},
     "output_type": "execute_result"
    }
   ],
   "source": [
    "a = SharedArray{Float64}(8)"
   ]
  },
  {
   "cell_type": "code",
   "execution_count": 21,
   "metadata": {},
   "outputs": [
    {
     "data": {
      "text/plain": [
       "Task (runnable) @0x000000010f5270f0"
      ]
     },
     "execution_count": 21,
     "metadata": {},
     "output_type": "execute_result"
    }
   ],
   "source": [
    "@distributed for i in 1:8\n",
    "    a[i] = 5\n",
    "end"
   ]
  },
  {
   "cell_type": "code",
   "execution_count": 22,
   "metadata": {},
   "outputs": [
    {
     "data": {
      "text/plain": [
       "8-element SharedVector{Float64}:\n",
       " 5.0\n",
       " 5.0\n",
       " 5.0\n",
       " 5.0\n",
       " 5.0\n",
       " 5.0\n",
       " 5.0\n",
       " 5.0"
      ]
     },
     "execution_count": 22,
     "metadata": {},
     "output_type": "execute_result"
    }
   ],
   "source": [
    "a"
   ]
  },
  {
   "cell_type": "code",
   "execution_count": 28,
   "metadata": {},
   "outputs": [
    {
     "data": {
      "text/plain": [
       "100×2×2 SharedArray{Float64, 3}:\n",
       "[:, :, 1] =\n",
       " 0.0  0.0\n",
       " 0.0  0.0\n",
       " 0.0  0.0\n",
       " 0.0  0.0\n",
       " 0.0  0.0\n",
       " 0.0  0.0\n",
       " 0.0  0.0\n",
       " 0.0  0.0\n",
       " 0.0  0.0\n",
       " 0.0  0.0\n",
       " 0.0  0.0\n",
       " 0.0  0.0\n",
       " 0.0  0.0\n",
       " ⋮    \n",
       " 0.0  0.0\n",
       " 0.0  0.0\n",
       " 0.0  0.0\n",
       " 0.0  0.0\n",
       " 0.0  0.0\n",
       " 0.0  0.0\n",
       " 0.0  0.0\n",
       " 0.0  0.0\n",
       " 0.0  0.0\n",
       " 0.0  0.0\n",
       " 0.0  0.0\n",
       " 0.0  0.0\n",
       "\n",
       "[:, :, 2] =\n",
       " 0.0  0.0\n",
       " 0.0  0.0\n",
       " 0.0  0.0\n",
       " 0.0  0.0\n",
       " 0.0  0.0\n",
       " 0.0  0.0\n",
       " 0.0  0.0\n",
       " 0.0  0.0\n",
       " 0.0  0.0\n",
       " 0.0  0.0\n",
       " 0.0  0.0\n",
       " 0.0  0.0\n",
       " 0.0  0.0\n",
       " ⋮    \n",
       " 0.0  0.0\n",
       " 0.0  0.0\n",
       " 0.0  0.0\n",
       " 0.0  0.0\n",
       " 0.0  0.0\n",
       " 0.0  0.0\n",
       " 0.0  0.0\n",
       " 0.0  0.0\n",
       " 0.0  0.0\n",
       " 0.0  0.0\n",
       " 0.0  0.0\n",
       " 0.0  0.0"
      ]
     },
     "execution_count": 28,
     "metadata": {},
     "output_type": "execute_result"
    }
   ],
   "source": [
    "z = SharedArray{Float64, 3}(100, 2, 2)"
   ]
  },
  {
   "cell_type": "code",
   "execution_count": 29,
   "metadata": {},
   "outputs": [
    {
     "data": {
      "text/plain": [
       "2×2 Matrix{Float64}:\n",
       " 0.0  0.0\n",
       " 0.0  0.0"
      ]
     },
     "execution_count": 29,
     "metadata": {},
     "output_type": "execute_result"
    }
   ],
   "source": [
    "z[1,:,:]"
   ]
  },
  {
   "cell_type": "code",
   "execution_count": 30,
   "metadata": {},
   "outputs": [
    {
     "data": {
      "text/plain": [
       "2×2 Matrix{Float64}:\n",
       " 2.0  1.0\n",
       " 2.0  1.0"
      ]
     },
     "execution_count": 30,
     "metadata": {},
     "output_type": "execute_result"
    }
   ],
   "source": [
    "z[1,:,:] = [2.0 1.0; 2.0 1.0]"
   ]
  },
  {
   "cell_type": "code",
   "execution_count": null,
   "metadata": {},
   "outputs": [],
   "source": []
  }
 ],
 "metadata": {
  "kernelspec": {
   "display_name": "Julia 1.8.2",
   "language": "julia",
   "name": "julia-1.8"
  },
  "language_info": {
   "file_extension": ".jl",
   "mimetype": "application/julia",
   "name": "julia",
   "version": "1.8.2"
  },
  "orig_nbformat": 4,
  "vscode": {
   "interpreter": {
    "hash": "ba9adc20f5d2cbd026ba97e5cdba9f52f75b0bad1640aec7f9933b7bf8f6712d"
   }
  }
 },
 "nbformat": 4,
 "nbformat_minor": 2
}
