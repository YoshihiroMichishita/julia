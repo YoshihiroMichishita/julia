{
 "cells": [
  {
   "cell_type": "code",
   "execution_count": 1,
   "metadata": {},
   "outputs": [],
   "source": [
    "include(\"model_2D_IB.jl\")\n",
    "\n",
    "using SparseIR, Plots\n",
    "#using OMEinsum\n",
    "#using FastGaussQuadrature\n",
    "import SparseIR: valueim, value\n",
    "import SparseIR: fit"
   ]
  },
  {
   "cell_type": "code",
   "execution_count": 2,
   "metadata": {},
   "outputs": [
    {
     "data": {
      "text/plain": [
       "gk_m (generic function with 1 method)"
      ]
     },
     "execution_count": 2,
     "metadata": {},
     "output_type": "execute_result"
    }
   ],
   "source": [
    "struct IR_params\n",
    "    U::Float64\n",
    "    beta::Float64\n",
    "    bw::Float64\n",
    "    basis::FiniteTempBasis\n",
    "    #{Fermionic, LogisticKernel, Float64, Float64}\n",
    "    \n",
    "    smpl_matsu::MatsubaraSampling64F\n",
    "    smpl_tau::TauSampling64\n",
    "\n",
    "    n_matsu::Int\n",
    "    n_tau::Int\n",
    "\n",
    "    smpl_wn::Vector{ComplexF64}\n",
    "end\n",
    "\n",
    "function set_IR(U::Float64, beta::Float64, bw::Float64)\n",
    "    basis = FiniteTempBasis(Fermionic(), beta, bw, 1e-10)\n",
    "\n",
    "    smpl_matsu = MatsubaraSampling(basis)\n",
    "    n_matsu = size(smpl_matsu.sampling_points)[1]\n",
    "\n",
    "    smpl_tau = TauSampling(basis)\n",
    "    n_tau = size(smpl_tau.sampling_points)[1]\n",
    "\n",
    "    smpl_wn = zeros(ComplexF64, n_matsu)\n",
    "    for w in 1:n_matsu\n",
    "        smpl_wn[w] = valueim(smpl_matsu.sampling_points[w], beta)\n",
    "    end\n",
    "\n",
    "    return U, beta, bw, basis, smpl_matsu, smpl_tau, n_matsu, n_tau, smpl_wn\n",
    "end\n",
    "\n",
    "mutable struct Green_Sigma\n",
    "    g0_ir::Vector{Matrix{ComplexF64}}\n",
    "    g0_ir_vec::Matrix{Float64}\n",
    "    g0_tau::Vector{Matrix{ComplexF64}}\n",
    "    g0_matsu::Vector{Matrix{ComplexF64}}\n",
    "\n",
    "    g_ir::Vector{Matrix{ComplexF64}}\n",
    "    g_ir_vec::Matrix{Float64}\n",
    "    g_matsu::Vector{Matrix{ComplexF64}}\n",
    "\n",
    "    sigma_ir::Vector{Matrix{ComplexF64}}\n",
    "    sigma_tau::Vector{Matrix{ComplexF64}}\n",
    "    sigma_matsu::Vector{Matrix{ComplexF64}}\n",
    "\n",
    "    n_ir::Int\n",
    "end\n",
    "\n",
    "function init_zero_g(ir::IR_params)\n",
    "    \n",
    "    g0_ir::Vector{Matrix{ComplexF64}} = []\n",
    "    g0_ir_vec = zeros(Float64, 43, 4)\n",
    "    g0_tau::Vector{Matrix{ComplexF64}} = []\n",
    "    g0_matsu::Vector{Matrix{ComplexF64}} = []\n",
    "\n",
    "    g_ir::Vector{Matrix{ComplexF64}} = []\n",
    "    g_ir_vec = zeros(Float64, 43, 4)\n",
    "    g_matsu::Vector{Matrix{ComplexF64}} = []\n",
    "\n",
    "    sigma_ir::Vector{Matrix{ComplexF64}} = []\n",
    "    sigma_tau::Vector{Matrix{ComplexF64}} = []\n",
    "    sigma_matsu::Vector{Matrix{ComplexF64}} = []\n",
    "\n",
    "    n_ir::Int = 0\n",
    "\n",
    "    return g0_ir, g0_ir_vec, g0_tau, g0_matsu, g_ir, g_ir_vec, g_matsu, sigma_ir, sigma_tau, sigma_matsu, n_ir\n",
    "end\n",
    "\n",
    "\n",
    "function gk_m(p::Parm, k::Vector{Float64}, w::ComplexF64, g::Green_Sigma)\n",
    "    e = set_H(k,p)\n",
    "    gk = 1.0/(w - e - g.sig)\n",
    "    return gk\n",
    "end\n"
   ]
  },
  {
   "cell_type": "code",
   "execution_count": 3,
   "metadata": {},
   "outputs": [
    {
     "name": "stdout",
     "output_type": "stream",
     "text": [
      "Parm(0.5, 0.2, 0.005, -2.0, 0.05, 200, 2.5e-5)\n"
     ]
    }
   ],
   "source": [
    "#t_i, t_b, Δ, mu0, eta, K_SIZE\n",
    "px = Parm(set_parm([\"0.5\",\"0.2\",\"0.005\", \"-2.0\", \"0.05\", \"200\"])...)\n",
    "#U, beta, bw\n",
    "irx = IR_params(set_IR(4.0, 100.0, 3.0)...)\n",
    "println(px)\n"
   ]
  },
  {
   "cell_type": "code",
   "execution_count": 4,
   "metadata": {},
   "outputs": [
    {
     "name": "stdout",
     "output_type": "stream",
     "text": [
      "gx\n"
     ]
    }
   ],
   "source": [
    "#gx = Green_Sigma(init_zero_g(irx)...)\n",
    "kk = get_kk(px.K_SIZE)\n",
    "println(\"gx\")"
   ]
  },
  {
   "cell_type": "code",
   "execution_count": 5,
   "metadata": {},
   "outputs": [
    {
     "data": {
      "text/plain": [
       "get_G0mlocal! (generic function with 1 method)"
      ]
     },
     "execution_count": 5,
     "metadata": {},
     "output_type": "execute_result"
    }
   ],
   "source": [
    "\n",
    "function get_G0mlocal!(p::Parm, k_BZ::Vector{Vector{Float64}}, sw::Int,ir::IR_params, g::Green_Sigma)\n",
    "    if(sw == 1)\n",
    "        for wn in 1:ir.n_matsu\n",
    "            gw_l = zeros(ComplexF64, 2, 2)\n",
    "            gl = zeros(ComplexF64, 2, 2)\n",
    "            for i in 1:length(k_BZ)\n",
    "                e = set_H(k_BZ[i],p) - p.mu*sigma[1]\n",
    "                #gk = 1.0/(w - e + p.eta*1.0im*sign(imag(w)))\n",
    "                gk = inv(ir.smpl_wn[wn]*sigma[1] - e)\n",
    "                gw_l += p.dk2 * gk\n",
    "            end\n",
    "            push!(g.g0_matsu, gw_l)\n",
    "            push!(g.g_matsu, gl)\n",
    "        end\n",
    "    else\n",
    "        n_sub = -g.g0_tau[1]\n",
    "        #n_sub = -(sigma[2]*g.g0_tau[1]*sigma[2])\n",
    "        n_re = real(n_sub[1,1]+n_sub[2,2])\n",
    "        n_sub = n_sub ./ n_re\n",
    "        for wn in 1:ir.n_matsu\n",
    "            #gw_l = zeros(ComplexF64, 2, 2)\n",
    "            gl = zeros(ComplexF64, 2, 2)\n",
    "            for i in 1:length(k_BZ)\n",
    "                #e = set_H(k_BZ[i],p) - p.mu*Matrix{Complex{Float64}}(I,2,2) - p.Δ*sigma[4]\n",
    "                #gk = 1.0/(w - e + p.eta*1.0im*sign(imag(w)))\n",
    "                e = set_H(k_BZ[i],p) - p.Δ*sigma[4]\n",
    "                #e = set_H(k_BZ[i],p) - p.mu*sigma[1]\n",
    "                gk = inv(ir.smpl_wn[wn]*sigma[1] - e - g.sigma_matsu[wn]- ir.U * n_sub)\n",
    "                #gk = inv(ir.smpl_wn[wn]*sigma[1] - e- ir.U * n_sub)\n",
    "                #gk = inv(ir.smpl_wn[wn]*sigma[1] - e)\n",
    "                gl += p.dk2 * gk\n",
    "            end\n",
    "            #gw_l = inv(inv(gl) + g.sigma_matsu[wn])\n",
    "            #g.g0_matsu[wn] = gw_l\n",
    "            g.g_matsu[wn] = gl\n",
    "        end\n",
    "        #println(\"n_sum:$(n_re), n_sub11:$(real(n_sub[1,1])), n_sub11:$(real(n_sub[2,2]))\")\n",
    "        for wn in 1:ir.n_matsu\n",
    "            g.g0_matsu[wn] = inv(inv(g.g_matsu[wn]) + g.sigma_matsu[wn])\n",
    "            #g.g0_matsu[wn] = inv(inv(g.g_matsu[wn])) \n",
    "        end\n",
    "        #println(g.sigma_matsu[10])\n",
    "    end\n",
    "    return nothing\n",
    "end"
   ]
  },
  {
   "cell_type": "code",
   "execution_count": 6,
   "metadata": {},
   "outputs": [
    {
     "data": {
      "text/plain": [
       "MatsuToTau! (generic function with 1 method)"
      ]
     },
     "execution_count": 6,
     "metadata": {},
     "output_type": "execute_result"
    }
   ],
   "source": [
    "function MatsuToTau!(ir::IR_params, g::Green_Sigma)\n",
    "    g.g0_ir = fit(ir.smpl_matsu, g.g0_matsu, dim=1)\n",
    "    g.g_ir = fit(ir.smpl_matsu, g.g_matsu, dim=1)\n",
    "    g.n_ir = size(g.g0_ir)[1]\n",
    "    g.g0_tau = evaluate(ir.smpl_tau, g.g0_ir, dim=1)\n",
    "end"
   ]
  },
  {
   "cell_type": "code",
   "execution_count": 31,
   "metadata": {},
   "outputs": [],
   "source": [
    "get_G0mlocal!(px, kk, 1, irx, gx)"
   ]
  },
  {
   "cell_type": "code",
   "execution_count": 32,
   "metadata": {},
   "outputs": [
    {
     "name": "stdout",
     "output_type": "stream",
     "text": [
      "done!\n"
     ]
    }
   ],
   "source": [
    "MatsuToTau!(irx, gx)\n",
    "println(\"done!\")"
   ]
  },
  {
   "cell_type": "code",
   "execution_count": 7,
   "metadata": {},
   "outputs": [
    {
     "data": {
      "text/plain": [
       "calc_sigma! (generic function with 1 method)"
      ]
     },
     "execution_count": 7,
     "metadata": {},
     "output_type": "execute_result"
    }
   ],
   "source": [
    "function calc_sigma!(sw::Int, ir::IR_params, g::Green_Sigma)\n",
    "    for tau in 1:ir.n_tau\n",
    "        if(sw == 1)\n",
    "            test = zeros(ComplexF64, 2, 2)\n",
    "            for i in 1:2, j in 1:2 \n",
    "                test[i,j] = ir.U^2 * (g.g0_tau[tau])[i,j] * (g.g0_tau[tau])[3-i,3-j] * (g.g0_tau[end+1-tau])[3-i,3-j]\n",
    "                #test[i,j] += -ir.U * (g.g0_tau[1])[3-i,3-j]\n",
    "            end\n",
    "            push!(g.sigma_tau, test)\n",
    "        else\n",
    "            for i in 1:2, j in 1:2 \n",
    "                (g.sigma_tau[tau])[i,j] = ir.U^2 * (g.g0_tau[tau])[i,j] * (g.g0_tau[tau])[3-i,3-j] * (g.g0_tau[end+1-tau])[3-i,3-j]\n",
    "                #(g.sigma_tau[tau])[i,j] += -ir.U * (g.g0_tau[1])[3-i,3-j]\n",
    "                #(g.sigma_tau[tau])[i,j] = ir.U^2 * (g.g0_tau[tau])[i,j] * (g.g0_tau[tau])[i,j] * (g.g0_tau[end+1-tau])[i,j]\n",
    "            end\n",
    "        end\n",
    "    end\n",
    "    #println(\"Sigma1:$((gx.sigma_tau[1])[1,1])\")\n",
    "    #println(\"Sigma2:$((gx.sigma_tau[1])[2,2])\")\n",
    "    return nothing\n",
    "end"
   ]
  },
  {
   "cell_type": "code",
   "execution_count": 8,
   "metadata": {},
   "outputs": [
    {
     "data": {
      "text/plain": [
       "TauToMatsu! (generic function with 1 method)"
      ]
     },
     "execution_count": 8,
     "metadata": {},
     "output_type": "execute_result"
    }
   ],
   "source": [
    "function TauToMatsu!(sw::Int, ir::IR_params, g::Green_Sigma, γ::Float64)\n",
    "    ir_new = fit(ir.smpl_tau, g.sigma_tau)\n",
    "    diff0 =0.0\n",
    "    sum0 = 0.0\n",
    "    if(sw == 1)\n",
    "        for i in 1:g.n_ir\n",
    "            diff0 += sum(abs.(ir_new[i]))\n",
    "            push!(g.sigma_ir, zeros(ComplexF64, 2, 2))\n",
    "        end\n",
    "        sum0 = 1.0\n",
    "    else\n",
    "        for i in 1:g.n_ir\n",
    "            diff0 += sum(abs.(ir_new[i] .- g.sigma_ir[i]))\n",
    "            sum0 += sum(abs.(g.sigma_ir[i]))\n",
    "        end\n",
    "    end\n",
    "    diff = diff0/sum0\n",
    "    g.sigma_ir = (1.0-γ) .* g.sigma_ir .+ γ .* ir_new\n",
    "    g.sigma_matsu = evaluate(ir.smpl_matsu, g.sigma_ir, dim=1)\n",
    "\n",
    "    return diff\n",
    "end"
   ]
  },
  {
   "cell_type": "code",
   "execution_count": 9,
   "metadata": {},
   "outputs": [
    {
     "data": {
      "text/plain": [
       "update_g! (generic function with 1 method)"
      ]
     },
     "execution_count": 9,
     "metadata": {},
     "output_type": "execute_result"
    }
   ],
   "source": [
    "function update_g!(p::Parm, k_BZ::Vector{Vector{Float64}},sw::Int, ir::IR_params, g::Green_Sigma, γ::Float64)\n",
    "    get_G0mlocal!(p, k_BZ, sw, ir, g)\n",
    "    MatsuToTau!(ir, g)\n",
    "    calc_sigma!(sw, ir, g)\n",
    "    # .+ ir.U .* g.g0_tau\n",
    "    diff = TauToMatsu!(sw, ir, g, γ)\n",
    "    return diff\n",
    "end"
   ]
  },
  {
   "cell_type": "code",
   "execution_count": 36,
   "metadata": {},
   "outputs": [
    {
     "data": {
      "text/plain": [
       "Parm(0.5, 0.2, 0.002, -1.0, 0.05, 200, 2.5e-5)"
      ]
     },
     "execution_count": 36,
     "metadata": {},
     "output_type": "execute_result"
    }
   ],
   "source": [
    "px = Parm(set_parm([\"0.5\",\"0.2\",\"0.002\", \"-1.0\", \"0.05\", \"200\"])...)"
   ]
  },
  {
   "cell_type": "code",
   "execution_count": 64,
   "metadata": {},
   "outputs": [
    {
     "name": "stdout",
     "output_type": "stream",
     "text": [
      "75\n"
     ]
    }
   ],
   "source": [
    "gx = Green_Sigma(init_zero_g(irx)...)\n",
    "for it in 1:1000\n",
    "    L1 = update_g!(px,kk,it,irx,gx, 0.2)\n",
    "    if(L1<1e-7)\n",
    "        println(it)\n",
    "        break\n",
    "    end\n",
    "end"
   ]
  },
  {
   "cell_type": "code",
   "execution_count": 65,
   "metadata": {},
   "outputs": [
    {
     "data": {
      "text/plain": [
       "MtoV (generic function with 1 method)"
      ]
     },
     "execution_count": 65,
     "metadata": {},
     "output_type": "execute_result"
    }
   ],
   "source": [
    "function MtoV(MM::Vector{Matrix{ComplexF64}})\n",
    "    l = size(MM)[1]\n",
    "    VV = zeros(ComplexF64, l, 4)\n",
    "    for it in 1:l\n",
    "        for mm in 1:4\n",
    "            VV[it,mm] = tr(sigma[mm]*MM[it])/2\n",
    "        end\n",
    "    end\n",
    "    return VV\n",
    "end"
   ]
  },
  {
   "cell_type": "code",
   "execution_count": 60,
   "metadata": {},
   "outputs": [
    {
     "data": {
      "text/plain": [
       "44×4 Matrix{ComplexF64}:\n",
       "  1.46755e-15+0.0152074im  …  -0.000288675+2.28116e-16im\n",
       "  -1.2503e-15+0.0458025im      -0.00263735+6.93889e-18im\n",
       " -6.77843e-16+0.0765407im      -0.00747604+4.85723e-16im\n",
       " -8.62158e-16+0.107371im        -0.0150736-4.16334e-17im\n",
       "  1.23165e-16+0.13801im         -0.0258223-6.93889e-17im\n",
       "  6.93889e-17+0.16614im    …    -0.0392834+2.22045e-16im\n",
       "  3.33067e-16+0.191418im        -0.0556055+2.22045e-16im\n",
       "  1.17961e-16+0.211045im        -0.0728782-2.77556e-17im\n",
       "    2.498e-16+0.227254im        -0.0936065-2.08167e-16im\n",
       "  4.85723e-16+0.23735im          -0.116682+4.16334e-17im\n",
       "  1.80411e-16+0.239791im   …     -0.133684+1.11022e-16im\n",
       "  1.70697e-15+0.237229im         -0.153361+1.94289e-16im\n",
       "  1.45717e-15+0.231251im         -0.168004-8.60423e-16im\n",
       "             ⋮             ⋱  \n",
       "  1.94289e-15-0.237229im         -0.153361+8.74301e-16im\n",
       "  6.10623e-16-0.239791im         -0.133684+9.71445e-16im\n",
       "  7.97973e-16-0.23735im          -0.116682+1.05471e-15im\n",
       "  8.25728e-16-0.227254im   …    -0.0936065+1.23512e-15im\n",
       "  2.98372e-16-0.211045im        -0.0728782+9.02056e-16im\n",
       "  8.67362e-16-0.191418im        -0.0556055+7.91034e-16im\n",
       "  3.36536e-16-0.16614im         -0.0392834+8.32667e-16im\n",
       "   1.0391e-15-0.13801im         -0.0258223+1.06859e-15im\n",
       " -3.92048e-16-0.107371im   …    -0.0150736+1.06165e-15im\n",
       "   5.0307e-16-0.0765407im      -0.00747604+5.41234e-16im\n",
       "   6.4033e-16-0.0458025im      -0.00263735+6.55725e-16im\n",
       " -1.91882e-15-0.0152074im     -0.000288675-1.32706e-16im"
      ]
     },
     "execution_count": 60,
     "metadata": {},
     "output_type": "execute_result"
    }
   ],
   "source": [
    "ss = MtoV(gx.sigma_matsu)"
   ]
  },
  {
   "cell_type": "code",
   "execution_count": 62,
   "metadata": {},
   "outputs": [
    {
     "data": {
      "image/svg+xml": "<?xml version=\"1.0\" encoding=\"utf-8\"?>\n<svg xmlns=\"http://www.w3.org/2000/svg\" xmlns:xlink=\"http://www.w3.org/1999/xlink\" width=\"600\" height=\"400\" viewBox=\"0 0 2400 1600\">\n<defs>\n  <clipPath id=\"clip560\">\n    <rect x=\"0\" y=\"0\" width=\"2400\" height=\"1600\"/>\n  </clipPath>\n</defs>\n<path clip-path=\"url(#clip560)\" d=\"\nM0 1600 L2400 1600 L2400 0 L0 0  Z\n  \" fill=\"#ffffff\" fill-rule=\"evenodd\" fill-opacity=\"1\"/>\n<defs>\n  <clipPath id=\"clip561\">\n    <rect x=\"480\" y=\"0\" width=\"1681\" height=\"1600\"/>\n  </clipPath>\n</defs>\n<path clip-path=\"url(#clip560)\" d=\"\nM192.709 1486.45 L2352.76 1486.45 L2352.76 47.2441 L192.709 47.2441  Z\n  \" fill=\"#ffffff\" fill-rule=\"evenodd\" fill-opacity=\"1\"/>\n<defs>\n  <clipPath id=\"clip562\">\n    <rect x=\"192\" y=\"47\" width=\"2161\" height=\"1440\"/>\n  </clipPath>\n</defs>\n<polyline clip-path=\"url(#clip562)\" style=\"stroke:#000000; stroke-linecap:butt; stroke-linejoin:round; stroke-width:2; stroke-opacity:0.1; fill:none\" points=\"\n  206.452,1486.45 206.452,47.2441 \n  \"/>\n<polyline clip-path=\"url(#clip562)\" style=\"stroke:#000000; stroke-linecap:butt; stroke-linejoin:round; stroke-width:2; stroke-opacity:0.1; fill:none\" points=\"\n  680.355,1486.45 680.355,47.2441 \n  \"/>\n<polyline clip-path=\"url(#clip562)\" style=\"stroke:#000000; stroke-linecap:butt; stroke-linejoin:round; stroke-width:2; stroke-opacity:0.1; fill:none\" points=\"\n  1154.26,1486.45 1154.26,47.2441 \n  \"/>\n<polyline clip-path=\"url(#clip562)\" style=\"stroke:#000000; stroke-linecap:butt; stroke-linejoin:round; stroke-width:2; stroke-opacity:0.1; fill:none\" points=\"\n  1628.16,1486.45 1628.16,47.2441 \n  \"/>\n<polyline clip-path=\"url(#clip562)\" style=\"stroke:#000000; stroke-linecap:butt; stroke-linejoin:round; stroke-width:2; stroke-opacity:0.1; fill:none\" points=\"\n  2102.06,1486.45 2102.06,47.2441 \n  \"/>\n<polyline clip-path=\"url(#clip560)\" style=\"stroke:#000000; stroke-linecap:butt; stroke-linejoin:round; stroke-width:4; stroke-opacity:1; fill:none\" points=\"\n  192.709,1486.45 2352.76,1486.45 \n  \"/>\n<polyline clip-path=\"url(#clip560)\" style=\"stroke:#000000; stroke-linecap:butt; stroke-linejoin:round; stroke-width:4; stroke-opacity:1; fill:none\" points=\"\n  206.452,1486.45 206.452,1467.55 \n  \"/>\n<polyline clip-path=\"url(#clip560)\" style=\"stroke:#000000; stroke-linecap:butt; stroke-linejoin:round; stroke-width:4; stroke-opacity:1; fill:none\" points=\"\n  680.355,1486.45 680.355,1467.55 \n  \"/>\n<polyline clip-path=\"url(#clip560)\" style=\"stroke:#000000; stroke-linecap:butt; stroke-linejoin:round; stroke-width:4; stroke-opacity:1; fill:none\" points=\"\n  1154.26,1486.45 1154.26,1467.55 \n  \"/>\n<polyline clip-path=\"url(#clip560)\" style=\"stroke:#000000; stroke-linecap:butt; stroke-linejoin:round; stroke-width:4; stroke-opacity:1; fill:none\" points=\"\n  1628.16,1486.45 1628.16,1467.55 \n  \"/>\n<polyline clip-path=\"url(#clip560)\" style=\"stroke:#000000; stroke-linecap:butt; stroke-linejoin:round; stroke-width:4; stroke-opacity:1; fill:none\" points=\"\n  2102.06,1486.45 2102.06,1467.55 \n  \"/>\n<path clip-path=\"url(#clip560)\" d=\"M206.452 1517.37 Q202.841 1517.37 201.013 1520.93 Q199.207 1524.47 199.207 1531.6 Q199.207 1538.71 201.013 1542.27 Q202.841 1545.82 206.452 1545.82 Q210.087 1545.82 211.892 1542.27 Q213.721 1538.71 213.721 1531.6 Q213.721 1524.47 211.892 1520.93 Q210.087 1517.37 206.452 1517.37 M206.452 1513.66 Q212.262 1513.66 215.318 1518.27 Q218.397 1522.85 218.397 1531.6 Q218.397 1540.33 215.318 1544.94 Q212.262 1549.52 206.452 1549.52 Q200.642 1549.52 197.563 1544.94 Q194.508 1540.33 194.508 1531.6 Q194.508 1522.85 197.563 1518.27 Q200.642 1513.66 206.452 1513.66 Z\" fill=\"#000000\" fill-rule=\"evenodd\" fill-opacity=\"1\" /><path clip-path=\"url(#clip560)\" d=\"M655.042 1544.91 L662.681 1544.91 L662.681 1518.55 L654.371 1520.21 L654.371 1515.95 L662.635 1514.29 L667.311 1514.29 L667.311 1544.91 L674.95 1544.91 L674.95 1548.85 L655.042 1548.85 L655.042 1544.91 Z\" fill=\"#000000\" fill-rule=\"evenodd\" fill-opacity=\"1\" /><path clip-path=\"url(#clip560)\" d=\"M694.394 1517.37 Q690.783 1517.37 688.954 1520.93 Q687.149 1524.47 687.149 1531.6 Q687.149 1538.71 688.954 1542.27 Q690.783 1545.82 694.394 1545.82 Q698.028 1545.82 699.834 1542.27 Q701.662 1538.71 701.662 1531.6 Q701.662 1524.47 699.834 1520.93 Q698.028 1517.37 694.394 1517.37 M694.394 1513.66 Q700.204 1513.66 703.26 1518.27 Q706.338 1522.85 706.338 1531.6 Q706.338 1540.33 703.26 1544.94 Q700.204 1549.52 694.394 1549.52 Q688.584 1549.52 685.505 1544.94 Q682.45 1540.33 682.45 1531.6 Q682.45 1522.85 685.505 1518.27 Q688.584 1513.66 694.394 1513.66 Z\" fill=\"#000000\" fill-rule=\"evenodd\" fill-opacity=\"1\" /><path clip-path=\"url(#clip560)\" d=\"M1133.03 1544.91 L1149.35 1544.91 L1149.35 1548.85 L1127.41 1548.85 L1127.41 1544.91 Q1130.07 1542.16 1134.65 1537.53 Q1139.26 1532.88 1140.44 1531.53 Q1142.68 1529.01 1143.56 1527.27 Q1144.47 1525.51 1144.47 1523.82 Q1144.47 1521.07 1142.52 1519.33 Q1140.6 1517.6 1137.5 1517.6 Q1135.3 1517.6 1132.85 1518.36 Q1130.41 1519.13 1127.64 1520.68 L1127.64 1515.95 Q1130.46 1514.82 1132.91 1514.24 Q1135.37 1513.66 1137.41 1513.66 Q1142.78 1513.66 1145.97 1516.35 Q1149.16 1519.03 1149.16 1523.52 Q1149.16 1525.65 1148.35 1527.57 Q1147.57 1529.47 1145.46 1532.07 Q1144.88 1532.74 1141.78 1535.95 Q1138.68 1539.15 1133.03 1544.91 Z\" fill=\"#000000\" fill-rule=\"evenodd\" fill-opacity=\"1\" /><path clip-path=\"url(#clip560)\" d=\"M1169.16 1517.37 Q1165.55 1517.37 1163.72 1520.93 Q1161.92 1524.47 1161.92 1531.6 Q1161.92 1538.71 1163.72 1542.27 Q1165.55 1545.82 1169.16 1545.82 Q1172.8 1545.82 1174.6 1542.27 Q1176.43 1538.71 1176.43 1531.6 Q1176.43 1524.47 1174.6 1520.93 Q1172.8 1517.37 1169.16 1517.37 M1169.16 1513.66 Q1174.97 1513.66 1178.03 1518.27 Q1181.11 1522.85 1181.11 1531.6 Q1181.11 1540.33 1178.03 1544.94 Q1174.97 1549.52 1169.16 1549.52 Q1163.35 1549.52 1160.28 1544.94 Q1157.22 1540.33 1157.22 1531.6 Q1157.22 1522.85 1160.28 1518.27 Q1163.35 1513.66 1169.16 1513.66 Z\" fill=\"#000000\" fill-rule=\"evenodd\" fill-opacity=\"1\" /><path clip-path=\"url(#clip560)\" d=\"M1617 1530.21 Q1620.36 1530.93 1622.23 1533.2 Q1624.13 1535.47 1624.13 1538.8 Q1624.13 1543.92 1620.61 1546.72 Q1617.09 1549.52 1610.61 1549.52 Q1608.44 1549.52 1606.12 1549.08 Q1603.83 1548.66 1601.38 1547.81 L1601.38 1543.29 Q1603.32 1544.43 1605.64 1545.01 Q1607.95 1545.58 1610.47 1545.58 Q1614.87 1545.58 1617.16 1543.85 Q1619.48 1542.11 1619.48 1538.8 Q1619.48 1535.75 1617.33 1534.03 Q1615.2 1532.3 1611.38 1532.3 L1607.35 1532.3 L1607.35 1528.45 L1611.56 1528.45 Q1615.01 1528.45 1616.84 1527.09 Q1618.67 1525.7 1618.67 1523.11 Q1618.67 1520.45 1616.77 1519.03 Q1614.9 1517.6 1611.38 1517.6 Q1609.46 1517.6 1607.26 1518.01 Q1605.06 1518.43 1602.42 1519.31 L1602.42 1515.14 Q1605.08 1514.4 1607.4 1514.03 Q1609.73 1513.66 1611.79 1513.66 Q1617.12 1513.66 1620.22 1516.09 Q1623.32 1518.5 1623.32 1522.62 Q1623.32 1525.49 1621.68 1527.48 Q1620.03 1529.45 1617 1530.21 Z\" fill=\"#000000\" fill-rule=\"evenodd\" fill-opacity=\"1\" /><path clip-path=\"url(#clip560)\" d=\"M1643 1517.37 Q1639.39 1517.37 1637.56 1520.93 Q1635.75 1524.47 1635.75 1531.6 Q1635.75 1538.71 1637.56 1542.27 Q1639.39 1545.82 1643 1545.82 Q1646.63 1545.82 1648.44 1542.27 Q1650.27 1538.71 1650.27 1531.6 Q1650.27 1524.47 1648.44 1520.93 Q1646.63 1517.37 1643 1517.37 M1643 1513.66 Q1648.81 1513.66 1651.86 1518.27 Q1654.94 1522.85 1654.94 1531.6 Q1654.94 1540.33 1651.86 1544.94 Q1648.81 1549.52 1643 1549.52 Q1637.19 1549.52 1634.11 1544.94 Q1631.05 1540.33 1631.05 1531.6 Q1631.05 1522.85 1634.11 1518.27 Q1637.19 1513.66 1643 1513.66 Z\" fill=\"#000000\" fill-rule=\"evenodd\" fill-opacity=\"1\" /><path clip-path=\"url(#clip560)\" d=\"M2090.23 1518.36 L2078.43 1536.81 L2090.23 1536.81 L2090.23 1518.36 M2089.01 1514.29 L2094.89 1514.29 L2094.89 1536.81 L2099.82 1536.81 L2099.82 1540.7 L2094.89 1540.7 L2094.89 1548.85 L2090.23 1548.85 L2090.23 1540.7 L2074.63 1540.7 L2074.63 1536.19 L2089.01 1514.29 Z\" fill=\"#000000\" fill-rule=\"evenodd\" fill-opacity=\"1\" /><path clip-path=\"url(#clip560)\" d=\"M2117.55 1517.37 Q2113.94 1517.37 2112.11 1520.93 Q2110.3 1524.47 2110.3 1531.6 Q2110.3 1538.71 2112.11 1542.27 Q2113.94 1545.82 2117.55 1545.82 Q2121.18 1545.82 2122.99 1542.27 Q2124.82 1538.71 2124.82 1531.6 Q2124.82 1524.47 2122.99 1520.93 Q2121.18 1517.37 2117.55 1517.37 M2117.55 1513.66 Q2123.36 1513.66 2126.41 1518.27 Q2129.49 1522.85 2129.49 1531.6 Q2129.49 1540.33 2126.41 1544.94 Q2123.36 1549.52 2117.55 1549.52 Q2111.74 1549.52 2108.66 1544.94 Q2105.6 1540.33 2105.6 1531.6 Q2105.6 1522.85 2108.66 1518.27 Q2111.74 1513.66 2117.55 1513.66 Z\" fill=\"#000000\" fill-rule=\"evenodd\" fill-opacity=\"1\" /><polyline clip-path=\"url(#clip562)\" style=\"stroke:#000000; stroke-linecap:butt; stroke-linejoin:round; stroke-width:2; stroke-opacity:0.1; fill:none\" points=\"\n  192.709,1322.12 2352.76,1322.12 \n  \"/>\n<polyline clip-path=\"url(#clip562)\" style=\"stroke:#000000; stroke-linecap:butt; stroke-linejoin:round; stroke-width:2; stroke-opacity:0.1; fill:none\" points=\"\n  192.709,1041.5 2352.76,1041.5 \n  \"/>\n<polyline clip-path=\"url(#clip562)\" style=\"stroke:#000000; stroke-linecap:butt; stroke-linejoin:round; stroke-width:2; stroke-opacity:0.1; fill:none\" points=\"\n  192.709,760.88 2352.76,760.88 \n  \"/>\n<polyline clip-path=\"url(#clip562)\" style=\"stroke:#000000; stroke-linecap:butt; stroke-linejoin:round; stroke-width:2; stroke-opacity:0.1; fill:none\" points=\"\n  192.709,480.259 2352.76,480.259 \n  \"/>\n<polyline clip-path=\"url(#clip562)\" style=\"stroke:#000000; stroke-linecap:butt; stroke-linejoin:round; stroke-width:2; stroke-opacity:0.1; fill:none\" points=\"\n  192.709,199.637 2352.76,199.637 \n  \"/>\n<polyline clip-path=\"url(#clip560)\" style=\"stroke:#000000; stroke-linecap:butt; stroke-linejoin:round; stroke-width:4; stroke-opacity:1; fill:none\" points=\"\n  192.709,1486.45 192.709,47.2441 \n  \"/>\n<polyline clip-path=\"url(#clip560)\" style=\"stroke:#000000; stroke-linecap:butt; stroke-linejoin:round; stroke-width:4; stroke-opacity:1; fill:none\" points=\"\n  192.709,1322.12 211.607,1322.12 \n  \"/>\n<polyline clip-path=\"url(#clip560)\" style=\"stroke:#000000; stroke-linecap:butt; stroke-linejoin:round; stroke-width:4; stroke-opacity:1; fill:none\" points=\"\n  192.709,1041.5 211.607,1041.5 \n  \"/>\n<polyline clip-path=\"url(#clip560)\" style=\"stroke:#000000; stroke-linecap:butt; stroke-linejoin:round; stroke-width:4; stroke-opacity:1; fill:none\" points=\"\n  192.709,760.88 211.607,760.88 \n  \"/>\n<polyline clip-path=\"url(#clip560)\" style=\"stroke:#000000; stroke-linecap:butt; stroke-linejoin:round; stroke-width:4; stroke-opacity:1; fill:none\" points=\"\n  192.709,480.259 211.607,480.259 \n  \"/>\n<polyline clip-path=\"url(#clip560)\" style=\"stroke:#000000; stroke-linecap:butt; stroke-linejoin:round; stroke-width:4; stroke-opacity:1; fill:none\" points=\"\n  192.709,199.637 211.607,199.637 \n  \"/>\n<path clip-path=\"url(#clip560)\" d=\"M51.3625 1322.57 L81.0383 1322.57 L81.0383 1326.51 L51.3625 1326.51 L51.3625 1322.57 Z\" fill=\"#000000\" fill-rule=\"evenodd\" fill-opacity=\"1\" /><path clip-path=\"url(#clip560)\" d=\"M101.131 1307.92 Q97.5197 1307.92 95.691 1311.49 Q93.8854 1315.03 93.8854 1322.16 Q93.8854 1329.26 95.691 1332.83 Q97.5197 1336.37 101.131 1336.37 Q104.765 1336.37 106.571 1332.83 Q108.399 1329.26 108.399 1322.16 Q108.399 1315.03 106.571 1311.49 Q104.765 1307.92 101.131 1307.92 M101.131 1304.22 Q106.941 1304.22 109.996 1308.82 Q113.075 1313.41 113.075 1322.16 Q113.075 1330.88 109.996 1335.49 Q106.941 1340.07 101.131 1340.07 Q95.3206 1340.07 92.2419 1335.49 Q89.1864 1330.88 89.1864 1322.16 Q89.1864 1313.41 92.2419 1308.82 Q95.3206 1304.22 101.131 1304.22 Z\" fill=\"#000000\" fill-rule=\"evenodd\" fill-opacity=\"1\" /><path clip-path=\"url(#clip560)\" d=\"M121.293 1333.52 L126.177 1333.52 L126.177 1339.4 L121.293 1339.4 L121.293 1333.52 Z\" fill=\"#000000\" fill-rule=\"evenodd\" fill-opacity=\"1\" /><path clip-path=\"url(#clip560)\" d=\"M140.39 1335.47 L156.709 1335.47 L156.709 1339.4 L134.765 1339.4 L134.765 1335.47 Q137.427 1332.71 142.01 1328.08 Q146.617 1323.43 147.797 1322.09 Q150.043 1319.56 150.922 1317.83 Q151.825 1316.07 151.825 1314.38 Q151.825 1311.63 149.88 1309.89 Q147.959 1308.15 144.857 1308.15 Q142.658 1308.15 140.205 1308.92 Q137.774 1309.68 134.996 1311.23 L134.996 1306.51 Q137.82 1305.38 140.274 1304.8 Q142.728 1304.22 144.765 1304.22 Q150.135 1304.22 153.33 1306.9 Q156.524 1309.59 156.524 1314.08 Q156.524 1316.21 155.714 1318.13 Q154.927 1320.03 152.82 1322.62 Q152.242 1323.29 149.14 1326.51 Q146.038 1329.7 140.39 1335.47 Z\" fill=\"#000000\" fill-rule=\"evenodd\" fill-opacity=\"1\" /><path clip-path=\"url(#clip560)\" d=\"M50.9921 1041.95 L80.6679 1041.95 L80.6679 1045.89 L50.9921 1045.89 L50.9921 1041.95 Z\" fill=\"#000000\" fill-rule=\"evenodd\" fill-opacity=\"1\" /><path clip-path=\"url(#clip560)\" d=\"M100.76 1027.3 Q97.1493 1027.3 95.3206 1030.86 Q93.515 1034.41 93.515 1041.54 Q93.515 1048.64 95.3206 1052.21 Q97.1493 1055.75 100.76 1055.75 Q104.395 1055.75 106.2 1052.21 Q108.029 1048.64 108.029 1041.54 Q108.029 1034.41 106.2 1030.86 Q104.395 1027.3 100.76 1027.3 M100.76 1023.6 Q106.571 1023.6 109.626 1028.2 Q112.705 1032.79 112.705 1041.54 Q112.705 1050.26 109.626 1054.87 Q106.571 1059.45 100.76 1059.45 Q94.9502 1059.45 91.8715 1054.87 Q88.816 1050.26 88.816 1041.54 Q88.816 1032.79 91.8715 1028.2 Q94.9502 1023.6 100.76 1023.6 Z\" fill=\"#000000\" fill-rule=\"evenodd\" fill-opacity=\"1\" /><path clip-path=\"url(#clip560)\" d=\"M120.922 1052.9 L125.807 1052.9 L125.807 1058.78 L120.922 1058.78 L120.922 1052.9 Z\" fill=\"#000000\" fill-rule=\"evenodd\" fill-opacity=\"1\" /><path clip-path=\"url(#clip560)\" d=\"M136.802 1054.85 L144.441 1054.85 L144.441 1028.48 L136.131 1030.15 L136.131 1025.89 L144.394 1024.22 L149.07 1024.22 L149.07 1054.85 L156.709 1054.85 L156.709 1058.78 L136.802 1058.78 L136.802 1054.85 Z\" fill=\"#000000\" fill-rule=\"evenodd\" fill-opacity=\"1\" /><path clip-path=\"url(#clip560)\" d=\"M99.5335 746.679 Q95.9224 746.679 94.0937 750.243 Q92.2882 753.785 92.2882 760.915 Q92.2882 768.021 94.0937 771.586 Q95.9224 775.128 99.5335 775.128 Q103.168 775.128 104.973 771.586 Q106.802 768.021 106.802 760.915 Q106.802 753.785 104.973 750.243 Q103.168 746.679 99.5335 746.679 M99.5335 742.975 Q105.344 742.975 108.399 747.581 Q111.478 752.165 111.478 760.915 Q111.478 769.641 108.399 774.248 Q105.344 778.831 99.5335 778.831 Q93.7234 778.831 90.6447 774.248 Q87.5892 769.641 87.5892 760.915 Q87.5892 752.165 90.6447 747.581 Q93.7234 742.975 99.5335 742.975 Z\" fill=\"#000000\" fill-rule=\"evenodd\" fill-opacity=\"1\" /><path clip-path=\"url(#clip560)\" d=\"M119.695 772.28 L124.58 772.28 L124.58 778.16 L119.695 778.16 L119.695 772.28 Z\" fill=\"#000000\" fill-rule=\"evenodd\" fill-opacity=\"1\" /><path clip-path=\"url(#clip560)\" d=\"M144.765 746.679 Q141.154 746.679 139.325 750.243 Q137.519 753.785 137.519 760.915 Q137.519 768.021 139.325 771.586 Q141.154 775.128 144.765 775.128 Q148.399 775.128 150.205 771.586 Q152.033 768.021 152.033 760.915 Q152.033 753.785 150.205 750.243 Q148.399 746.679 144.765 746.679 M144.765 742.975 Q150.575 742.975 153.63 747.581 Q156.709 752.165 156.709 760.915 Q156.709 769.641 153.63 774.248 Q150.575 778.831 144.765 778.831 Q138.955 778.831 135.876 774.248 Q132.82 769.641 132.82 760.915 Q132.82 752.165 135.876 747.581 Q138.955 742.975 144.765 742.975 Z\" fill=\"#000000\" fill-rule=\"evenodd\" fill-opacity=\"1\" /><path clip-path=\"url(#clip560)\" d=\"M100.76 466.057 Q97.1493 466.057 95.3206 469.622 Q93.515 473.164 93.515 480.293 Q93.515 487.4 95.3206 490.964 Q97.1493 494.506 100.76 494.506 Q104.395 494.506 106.2 490.964 Q108.029 487.4 108.029 480.293 Q108.029 473.164 106.2 469.622 Q104.395 466.057 100.76 466.057 M100.76 462.354 Q106.571 462.354 109.626 466.96 Q112.705 471.543 112.705 480.293 Q112.705 489.02 109.626 493.626 Q106.571 498.21 100.76 498.21 Q94.9502 498.21 91.8715 493.626 Q88.816 489.02 88.816 480.293 Q88.816 471.543 91.8715 466.96 Q94.9502 462.354 100.76 462.354 Z\" fill=\"#000000\" fill-rule=\"evenodd\" fill-opacity=\"1\" /><path clip-path=\"url(#clip560)\" d=\"M120.922 491.659 L125.807 491.659 L125.807 497.539 L120.922 497.539 L120.922 491.659 Z\" fill=\"#000000\" fill-rule=\"evenodd\" fill-opacity=\"1\" /><path clip-path=\"url(#clip560)\" d=\"M136.802 493.603 L144.441 493.603 L144.441 467.238 L136.131 468.904 L136.131 464.645 L144.394 462.979 L149.07 462.979 L149.07 493.603 L156.709 493.603 L156.709 497.539 L136.802 497.539 L136.802 493.603 Z\" fill=\"#000000\" fill-rule=\"evenodd\" fill-opacity=\"1\" /><path clip-path=\"url(#clip560)\" d=\"M101.131 185.436 Q97.5197 185.436 95.691 189.001 Q93.8854 192.542 93.8854 199.672 Q93.8854 206.778 95.691 210.343 Q97.5197 213.885 101.131 213.885 Q104.765 213.885 106.571 210.343 Q108.399 206.778 108.399 199.672 Q108.399 192.542 106.571 189.001 Q104.765 185.436 101.131 185.436 M101.131 181.732 Q106.941 181.732 109.996 186.339 Q113.075 190.922 113.075 199.672 Q113.075 208.399 109.996 213.005 Q106.941 217.588 101.131 217.588 Q95.3206 217.588 92.2419 213.005 Q89.1864 208.399 89.1864 199.672 Q89.1864 190.922 92.2419 186.339 Q95.3206 181.732 101.131 181.732 Z\" fill=\"#000000\" fill-rule=\"evenodd\" fill-opacity=\"1\" /><path clip-path=\"url(#clip560)\" d=\"M121.293 211.037 L126.177 211.037 L126.177 216.917 L121.293 216.917 L121.293 211.037 Z\" fill=\"#000000\" fill-rule=\"evenodd\" fill-opacity=\"1\" /><path clip-path=\"url(#clip560)\" d=\"M140.39 212.982 L156.709 212.982 L156.709 216.917 L134.765 216.917 L134.765 212.982 Q137.427 210.227 142.01 205.598 Q146.617 200.945 147.797 199.602 Q150.043 197.079 150.922 195.343 Q151.825 193.584 151.825 191.894 Q151.825 189.139 149.88 187.403 Q147.959 185.667 144.857 185.667 Q142.658 185.667 140.205 186.431 Q137.774 187.195 134.996 188.746 L134.996 184.024 Q137.82 182.889 140.274 182.311 Q142.728 181.732 144.765 181.732 Q150.135 181.732 153.33 184.417 Q156.524 187.102 156.524 191.593 Q156.524 193.723 155.714 195.644 Q154.927 197.542 152.82 200.135 Q152.242 200.806 149.14 204.024 Q146.038 207.218 140.39 212.982 Z\" fill=\"#000000\" fill-rule=\"evenodd\" fill-opacity=\"1\" /><polyline clip-path=\"url(#clip562)\" style=\"stroke:#009af9; stroke-linecap:butt; stroke-linejoin:round; stroke-width:4; stroke-opacity:1; fill:none\" points=\"\n  253.843,718.205 301.233,632.348 348.623,546.09 396.013,459.575 443.403,373.594 490.794,294.656 538.184,223.72 585.574,168.643 632.964,123.156 680.355,94.8248 \n  727.745,87.9763 775.135,95.1638 822.525,111.939 869.916,142.727 917.306,165.114 964.696,193.488 1012.09,229.28 1059.48,274.557 1106.87,332.506 1154.26,408.382 \n  1201.65,511.289 1249.04,656.766 1296.43,864.994 1343.82,1010.47 1391.21,1113.38 1438.6,1189.25 1485.99,1247.2 1533.38,1292.48 1580.77,1328.27 1628.16,1356.65 \n  1675.55,1379.03 1722.94,1409.82 1770.33,1426.6 1817.72,1433.78 1865.11,1426.94 1912.5,1398.6 1959.89,1353.12 2007.28,1298.04 2054.67,1227.1 2102.06,1148.17 \n  2149.45,1062.18 2196.84,975.669 2244.23,889.412 2291.62,803.555 \n  \"/>\n<polyline clip-path=\"url(#clip562)\" style=\"stroke:#e26f46; stroke-linecap:butt; stroke-linejoin:round; stroke-width:4; stroke-opacity:1; fill:none\" points=\"\n  253.843,761.69 301.233,768.281 348.623,781.859 396.013,803.18 443.403,833.343 490.794,871.118 538.184,916.921 585.574,965.392 632.964,1023.56 680.355,1088.31 \n  727.745,1136.03 775.135,1191.24 822.525,1232.33 869.916,1276.62 917.306,1299.78 964.696,1323.43 1012.09,1347.34 1059.48,1371.15 1106.87,1394.29 1154.26,1415.79 \n  1201.65,1433.96 1249.04,1445.72 1296.43,1445.72 1343.82,1433.96 1391.21,1415.79 1438.6,1394.29 1485.99,1371.15 1533.38,1347.34 1580.77,1323.43 1628.16,1299.78 \n  1675.55,1276.62 1722.94,1232.33 1770.33,1191.24 1817.72,1136.03 1865.11,1088.31 1912.5,1023.56 1959.89,965.392 2007.28,916.921 2054.67,871.118 2102.06,833.343 \n  2149.45,803.18 2196.84,781.859 2244.23,768.281 2291.62,761.69 \n  \"/>\n<polyline clip-path=\"url(#clip562)\" style=\"stroke:#3da44d; stroke-linecap:butt; stroke-linejoin:round; stroke-width:4; stroke-opacity:1; fill:none\" points=\"\n  253.843,760.88 301.233,760.88 348.623,760.88 396.013,760.88 443.403,760.88 490.794,760.88 538.184,760.88 585.574,760.88 632.964,760.88 680.355,760.88 \n  727.745,760.88 775.135,760.88 822.525,760.88 869.916,760.88 917.306,760.88 964.696,760.88 1012.09,760.88 1059.48,760.88 1106.87,760.88 1154.26,760.88 \n  1201.65,760.88 1249.04,760.88 1296.43,760.88 1343.82,760.88 1391.21,760.88 1438.6,760.88 1485.99,760.88 1533.38,760.88 1580.77,760.88 1628.16,760.88 \n  1675.55,760.88 1722.94,760.88 1770.33,760.88 1817.72,760.88 1865.11,760.88 1912.5,760.88 1959.89,760.88 2007.28,760.88 2054.67,760.88 2102.06,760.88 \n  2149.45,760.88 2196.84,760.88 2244.23,760.88 2291.62,760.88 \n  \"/>\n<path clip-path=\"url(#clip560)\" d=\"\nM1987.74 302.578 L2280.75 302.578 L2280.75 95.2176 L1987.74 95.2176  Z\n  \" fill=\"#ffffff\" fill-rule=\"evenodd\" fill-opacity=\"1\"/>\n<polyline clip-path=\"url(#clip560)\" style=\"stroke:#000000; stroke-linecap:butt; stroke-linejoin:round; stroke-width:4; stroke-opacity:1; fill:none\" points=\"\n  1987.74,302.578 2280.75,302.578 2280.75,95.2176 1987.74,95.2176 1987.74,302.578 \n  \"/>\n<polyline clip-path=\"url(#clip560)\" style=\"stroke:#009af9; stroke-linecap:butt; stroke-linejoin:round; stroke-width:4; stroke-opacity:1; fill:none\" points=\"\n  2011.74,147.058 2155.74,147.058 \n  \"/>\n<path clip-path=\"url(#clip560)\" d=\"M2193.59 166.745 Q2191.78 171.375 2190.07 172.787 Q2188.36 174.199 2185.49 174.199 L2182.08 174.199 L2182.08 170.634 L2184.58 170.634 Q2186.34 170.634 2187.31 169.8 Q2188.29 168.967 2189.47 165.865 L2190.23 163.921 L2179.74 138.412 L2184.26 138.412 L2192.36 158.689 L2200.46 138.412 L2204.98 138.412 L2193.59 166.745 Z\" fill=\"#000000\" fill-rule=\"evenodd\" fill-opacity=\"1\" /><path clip-path=\"url(#clip560)\" d=\"M2212.27 160.402 L2219.91 160.402 L2219.91 134.037 L2211.6 135.703 L2211.6 131.444 L2219.86 129.778 L2224.54 129.778 L2224.54 160.402 L2232.17 160.402 L2232.17 164.338 L2212.27 164.338 L2212.27 160.402 Z\" fill=\"#000000\" fill-rule=\"evenodd\" fill-opacity=\"1\" /><polyline clip-path=\"url(#clip560)\" style=\"stroke:#e26f46; stroke-linecap:butt; stroke-linejoin:round; stroke-width:4; stroke-opacity:1; fill:none\" points=\"\n  2011.74,198.898 2155.74,198.898 \n  \"/>\n<path clip-path=\"url(#clip560)\" d=\"M2193.59 218.585 Q2191.78 223.215 2190.07 224.627 Q2188.36 226.039 2185.49 226.039 L2182.08 226.039 L2182.08 222.474 L2184.58 222.474 Q2186.34 222.474 2187.31 221.64 Q2188.29 220.807 2189.47 217.705 L2190.23 215.761 L2179.74 190.252 L2184.26 190.252 L2192.36 210.529 L2200.46 190.252 L2204.98 190.252 L2193.59 218.585 Z\" fill=\"#000000\" fill-rule=\"evenodd\" fill-opacity=\"1\" /><path clip-path=\"url(#clip560)\" d=\"M2215.48 212.242 L2231.8 212.242 L2231.8 216.178 L2209.86 216.178 L2209.86 212.242 Q2212.52 209.488 2217.11 204.858 Q2221.71 200.205 2222.89 198.863 Q2225.14 196.34 2226.02 194.604 Q2226.92 192.844 2226.92 191.155 Q2226.92 188.4 2224.98 186.664 Q2223.05 184.928 2219.95 184.928 Q2217.75 184.928 2215.3 185.692 Q2212.87 186.455 2210.09 188.006 L2210.09 183.284 Q2212.92 182.15 2215.37 181.571 Q2217.82 180.993 2219.86 180.993 Q2225.23 180.993 2228.42 183.678 Q2231.62 186.363 2231.62 190.854 Q2231.62 192.983 2230.81 194.905 Q2230.02 196.803 2227.92 199.395 Q2227.34 200.067 2224.23 203.284 Q2221.13 206.479 2215.48 212.242 Z\" fill=\"#000000\" fill-rule=\"evenodd\" fill-opacity=\"1\" /><polyline clip-path=\"url(#clip560)\" style=\"stroke:#3da44d; stroke-linecap:butt; stroke-linejoin:round; stroke-width:4; stroke-opacity:1; fill:none\" points=\"\n  2011.74,250.738 2155.74,250.738 \n  \"/>\n<path clip-path=\"url(#clip560)\" d=\"M2193.59 270.425 Q2191.78 275.055 2190.07 276.467 Q2188.36 277.879 2185.49 277.879 L2182.08 277.879 L2182.08 274.314 L2184.58 274.314 Q2186.34 274.314 2187.31 273.48 Q2188.29 272.647 2189.47 269.545 L2190.23 267.601 L2179.74 242.092 L2184.26 242.092 L2192.36 262.369 L2200.46 242.092 L2204.98 242.092 L2193.59 270.425 Z\" fill=\"#000000\" fill-rule=\"evenodd\" fill-opacity=\"1\" /><path clip-path=\"url(#clip560)\" d=\"M2225.62 249.383 Q2228.98 250.101 2230.86 252.369 Q2232.75 254.638 2232.75 257.971 Q2232.75 263.087 2229.23 265.888 Q2225.72 268.689 2219.23 268.689 Q2217.06 268.689 2214.74 268.249 Q2212.45 267.832 2210 266.976 L2210 262.462 Q2211.94 263.596 2214.26 264.175 Q2216.57 264.754 2219.1 264.754 Q2223.49 264.754 2225.79 263.018 Q2228.1 261.281 2228.1 257.971 Q2228.1 254.916 2225.95 253.203 Q2223.82 251.467 2220 251.467 L2215.97 251.467 L2215.97 247.624 L2220.18 247.624 Q2223.63 247.624 2225.46 246.258 Q2227.29 244.87 2227.29 242.277 Q2227.29 239.615 2225.39 238.203 Q2223.52 236.768 2220 236.768 Q2218.08 236.768 2215.88 237.184 Q2213.68 237.601 2211.04 238.481 L2211.04 234.314 Q2213.7 233.573 2216.02 233.203 Q2218.36 232.833 2220.42 232.833 Q2225.74 232.833 2228.84 235.263 Q2231.94 237.67 2231.94 241.791 Q2231.94 244.661 2230.3 246.652 Q2228.66 248.62 2225.62 249.383 Z\" fill=\"#000000\" fill-rule=\"evenodd\" fill-opacity=\"1\" /></svg>\n"
     },
     "execution_count": 62,
     "metadata": {},
     "output_type": "execute_result"
    }
   ],
   "source": [
    "plot(imag.(ss[:,1]))\n",
    "plot!(real.(ss[:,4]))\n",
    "plot!(imag.(ss[:,4]))"
   ]
  },
  {
   "cell_type": "code",
   "execution_count": 66,
   "metadata": {},
   "outputs": [
    {
     "data": {
      "text/plain": [
       "MtoV! (generic function with 1 method)"
      ]
     },
     "execution_count": 66,
     "metadata": {},
     "output_type": "execute_result"
    }
   ],
   "source": [
    "function MtoV!(g::Green_Sigma)\n",
    "    g.g0_ir_vec = zeros(Float64, g.n_ir, 4)\n",
    "    g.g_ir_vec = zeros(Float64, g.n_ir, 4)\n",
    "    for it in 1:g.n_ir\n",
    "        for mm in 1:4\n",
    "            g.g0_ir_vec[it,mm] = real(tr(sigma[mm]*g.g0_ir[it]))/2\n",
    "            g.g_ir_vec[it,mm] = real(tr(sigma[mm]*g.g_ir[it]))/2\n",
    "        end\n",
    "    end\n",
    "end"
   ]
  },
  {
   "cell_type": "code",
   "execution_count": 67,
   "metadata": {},
   "outputs": [],
   "source": [
    "MtoV!(gx)"
   ]
  },
  {
   "cell_type": "code",
   "execution_count": 25,
   "metadata": {},
   "outputs": [
    {
     "data": {
      "text/plain": [
       "4-element Vector{Float64}:\n",
       " -1.9061641154394238e-11\n",
       " -4.627479060432188e-17\n",
       " -2.5774440282693543e-19\n",
       "  0.6776410033852819"
      ]
     },
     "execution_count": 25,
     "metadata": {},
     "output_type": "execute_result"
    }
   ],
   "source": [
    "gx.g0_ir_vec[2,:]"
   ]
  },
  {
   "cell_type": "code",
   "execution_count": 68,
   "metadata": {},
   "outputs": [
    {
     "data": {
      "text/plain": [
       "F_rho (generic function with 1 method)"
      ]
     },
     "execution_count": 68,
     "metadata": {},
     "output_type": "execute_result"
    }
   ],
   "source": [
    "function F_rho(ir::IR_params, g::Green_Sigma, rho_ls, λ)\n",
    "    vec = g.g_ir_vec - (ir.basis.s .* rho_ls)\n",
    "    \n",
    "    return f = 0.5*sum((vec.^2)) + λ*sum(abs.(rho_ls))\n",
    "end"
   ]
  },
  {
   "cell_type": "code",
   "execution_count": 28,
   "metadata": {},
   "outputs": [
    {
     "data": {
      "text/plain": [
       "43×4 Matrix{Float64}:\n",
       " 0.436605   0.954257    0.929473    0.913241\n",
       " 0.788514   0.696895    0.472924    0.526256\n",
       " 0.326809   0.517553    0.862117    0.605736\n",
       " 0.211879   0.241286    0.284008    0.924883\n",
       " 0.501329   0.260363    0.0631385   0.525095\n",
       " 0.83362    0.424121    0.198255    0.690617\n",
       " 0.249052   0.00771204  0.644888    0.0794197\n",
       " 0.789887   0.421632    0.48051     0.817133\n",
       " 0.936573   0.270528    0.300669    0.340716\n",
       " 0.250777   0.764035    0.517853    0.161304\n",
       " 0.889651   0.588655    0.0375627   0.779875\n",
       " 0.194588   0.35615     0.722702    0.499188\n",
       " 0.353793   0.134418    0.312163    0.533961\n",
       " ⋮                                  \n",
       " 0.231523   0.795159    0.00526082  0.0547728\n",
       " 0.323236   0.573755    0.0241567   0.553438\n",
       " 0.914351   0.105774    0.311697    0.533854\n",
       " 0.78493    0.267466    0.569519    0.396438\n",
       " 0.615437   0.586836    0.872939    0.795205\n",
       " 0.269602   0.640701    0.899007    0.616103\n",
       " 0.817364   0.933638    0.663632    0.913765\n",
       " 0.0060969  0.276458    0.496283    0.166658\n",
       " 0.244047   0.804872    0.401567    0.413357\n",
       " 0.336381   0.885197    0.510521    0.92927\n",
       " 0.227826   0.0603332   0.876318    0.176715\n",
       " 0.355221   0.958366    0.343328    0.717294"
      ]
     },
     "execution_count": 28,
     "metadata": {},
     "output_type": "execute_result"
    }
   ],
   "source": [
    "testm = rand(Float64, gx.n_ir, 4)"
   ]
  },
  {
   "cell_type": "code",
   "execution_count": 31,
   "metadata": {},
   "outputs": [
    {
     "data": {
      "text/plain": [
       "6.712794875798384"
      ]
     },
     "execution_count": 31,
     "metadata": {},
     "output_type": "execute_result"
    }
   ],
   "source": [
    "fff = F_rho(irx, gx, testm, 0.0001)"
   ]
  },
  {
   "cell_type": "code",
   "execution_count": 69,
   "metadata": {},
   "outputs": [],
   "source": [
    "using Flux"
   ]
  },
  {
   "cell_type": "code",
   "execution_count": 70,
   "metadata": {},
   "outputs": [
    {
     "data": {
      "text/plain": [
       "fit_rhow (generic function with 2 methods)"
      ]
     },
     "execution_count": 70,
     "metadata": {},
     "output_type": "execute_result"
    }
   ],
   "source": [
    "function fit_rhow(ir::IR_params, g::Green_Sigma, l_num::Int, batch_num::Int, w_mesh::Vector{Float64}, it_MAX::Int)\n",
    "    sn = range(-12.0, 0.0, length=l_num)\n",
    "    lam_test = 10 .^ (sn)\n",
    "    opt = ADAM()\n",
    "    s_rho_l::Vector{Matrix{Float64}} = []\n",
    "    #rand(Float64, l_num, g.n_ir)\n",
    "    s_F_rho = 1000.0 * ones(Float64, l_num)\n",
    "    for ll in 1:l_num\n",
    "        lam = lam_test[ll]\n",
    "        count::Int = 0\n",
    "        for b in 1:batch_num\n",
    "            rho_ll = rand(Float64, g.n_ir, 4)\n",
    "            \n",
    "            #rho_ll = rand(Float64, g.n_ir)\n",
    "            F_old = 1000.0\n",
    "            F_new = 1000.0\n",
    "            for i in 1:it_MAX\n",
    "                grads = Flux.gradient(Flux.params(rho_ll)) do\n",
    "                    F_rho(ir, g, rho_ll, lam)\n",
    "                end\n",
    "                Flux.Optimise.update!(opt, Flux.params(rho_ll), grads)\n",
    "                F_old = F_new\n",
    "                F_new = F_rho(ir, g, rho_ll, lam)\n",
    "                if(abs(F_old-F_new)/abs(F_old)<1e-6)\n",
    "                    break\n",
    "                end\n",
    "                if(i==it_MAX)\n",
    "                    count += 1\n",
    "                end\n",
    "            end\n",
    "            if(s_F_rho[ll] > F_new)\n",
    "                if(b==1)\n",
    "                    push!(s_rho_l, rho_ll)\n",
    "                else\n",
    "                    s_rho_l[ll] = rho_ll\n",
    "                end\n",
    "                s_F_rho[ll] = F_new\n",
    "            end \n",
    "        end\n",
    "        println(count)\n",
    "    end\n",
    "    b = (log(s_F_rho[end])-log(s_F_rho[1]))/(log(lam_test[end])-log(lam_test[1]))\n",
    "    a = s_F_rho[1]*lam_test[1]^(-b)\n",
    "    ev = a .* lam_test .^ b ./ s_F_rho\n",
    "\n",
    "    p1 = plot(lam_test, ev, xaxis=:log, yaxis=:log, marker=:circle)\n",
    "    #savefig(p1,\"./lambda_opt_G.png\")\n",
    "\n",
    "    it = findmax(ev)[2]\n",
    "    max1 = s_F_rho[it]\n",
    "    println(\"it:$it,  s_F:$max1\")\n",
    "    rho_omega = -(transpose(ir.basis.v(w_mesh)) * s_rho_l[it])\n",
    "    return rho_omega\n",
    "end"
   ]
  },
  {
   "cell_type": "code",
   "execution_count": 71,
   "metadata": {},
   "outputs": [
    {
     "name": "stdout",
     "output_type": "stream",
     "text": [
      "I'm ready!\n"
     ]
    }
   ],
   "source": [
    "lamda_num = 20\n",
    "batch_num = 80\n",
    "w_num = 1000\n",
    "w_mesh = collect(-irx.bw:2irx.bw/(w_num-1):irx.bw)\n",
    "println(\"I'm ready!\")"
   ]
  },
  {
   "cell_type": "code",
   "execution_count": 74,
   "metadata": {},
   "outputs": [
    {
     "name": "stdout",
     "output_type": "stream",
     "text": [
      "0\n",
      "0\n",
      "0\n",
      "0\n",
      "0\n",
      "0\n",
      "0\n",
      "0\n",
      "0\n",
      "0\n",
      "0\n",
      "0\n",
      "0\n",
      "0\n",
      "0\n",
      "0\n",
      "0\n",
      "0\n",
      "1\n",
      "21\n",
      "it:7,  s_F:3.104520539412175e-7\n"
     ]
    },
    {
     "data": {
      "text/plain": [
       "1000×4 Matrix{Float64}:\n",
       " 11.2934    1.06476    0.000296279   5.61535e-6\n",
       " 10.923     0.983065   0.000272191  -6.05489e-6\n",
       " 10.5579    0.902772   0.000249505  -1.6705e-5\n",
       " 10.1979    0.823878   0.000228149  -2.63807e-5\n",
       "  9.84311   0.74638    0.000208056  -3.51265e-5\n",
       "  9.49351   0.670272   0.000189161  -4.29856e-5\n",
       "  9.14909   0.595552   0.000171401  -5.00002e-5\n",
       "  8.80981   0.522214   0.000154716  -5.6211e-5\n",
       "  8.47568   0.450254   0.000139048  -6.1658e-5\n",
       "  8.14667   0.379668   0.000124341  -6.63798e-5\n",
       "  7.82277   0.310451   0.000110544  -7.04137e-5\n",
       "  7.50396   0.242598   9.76035e-5   -7.37963e-5\n",
       "  7.19022   0.176104   8.54725e-5   -7.65628e-5\n",
       "  ⋮                                 \n",
       "  7.50406  -0.242469   7.02635e-5    5.1411e-5\n",
       "  7.8229   -0.310315   6.24027e-5    1.60866e-5\n",
       "  8.14684  -0.379525   5.35792e-5   -2.26863e-5\n",
       "  8.4759   -0.450103   4.37393e-5   -6.50611e-5\n",
       "  8.81008  -0.522053   3.28272e-5   -0.000111194\n",
       "  9.1494   -0.59538    2.07855e-5   -0.000161245\n",
       "  9.49388  -0.670088   7.55456e-6   -0.000215377\n",
       "  9.84353  -0.746182  -6.92727e-6   -0.000273756\n",
       " 10.1984   -0.823664  -2.27236e-5   -0.000336553\n",
       " 10.5584   -0.90254   -3.99003e-5   -0.000403939\n",
       " 10.9236   -0.982814  -5.85252e-5   -0.000476091\n",
       " 11.2941   -1.06449   -7.86685e-5   -0.000553188"
      ]
     },
     "execution_count": 74,
     "metadata": {},
     "output_type": "execute_result"
    }
   ],
   "source": [
    "gi = fit_rhow(irx, gx, lamda_num, batch_num, w_mesh, 20000)"
   ]
  },
  {
   "cell_type": "code",
   "execution_count": 75,
   "metadata": {},
   "outputs": [
    {
     "data": {
      "image/svg+xml": "<?xml version=\"1.0\" encoding=\"utf-8\"?>\n<svg xmlns=\"http://www.w3.org/2000/svg\" xmlns:xlink=\"http://www.w3.org/1999/xlink\" width=\"600\" height=\"400\" viewBox=\"0 0 2400 1600\">\n<defs>\n  <clipPath id=\"clip900\">\n    <rect x=\"0\" y=\"0\" width=\"2400\" height=\"1600\"/>\n  </clipPath>\n</defs>\n<path clip-path=\"url(#clip900)\" d=\"\nM0 1600 L2400 1600 L2400 0 L0 0  Z\n  \" fill=\"#ffffff\" fill-rule=\"evenodd\" fill-opacity=\"1\"/>\n<defs>\n  <clipPath id=\"clip901\">\n    <rect x=\"480\" y=\"0\" width=\"1681\" height=\"1600\"/>\n  </clipPath>\n</defs>\n<path clip-path=\"url(#clip900)\" d=\"\nM147.108 1486.45 L2352.76 1486.45 L2352.76 47.2441 L147.108 47.2441  Z\n  \" fill=\"#ffffff\" fill-rule=\"evenodd\" fill-opacity=\"1\"/>\n<defs>\n  <clipPath id=\"clip902\">\n    <rect x=\"147\" y=\"47\" width=\"2207\" height=\"1440\"/>\n  </clipPath>\n</defs>\n<polyline clip-path=\"url(#clip902)\" style=\"stroke:#000000; stroke-linecap:round; stroke-linejoin:round; stroke-width:2; stroke-opacity:0.1; fill:none\" points=\"\n  209.532,1486.45 209.532,47.2441 \n  \"/>\n<polyline clip-path=\"url(#clip902)\" style=\"stroke:#000000; stroke-linecap:round; stroke-linejoin:round; stroke-width:2; stroke-opacity:0.1; fill:none\" points=\"\n  556.332,1486.45 556.332,47.2441 \n  \"/>\n<polyline clip-path=\"url(#clip902)\" style=\"stroke:#000000; stroke-linecap:round; stroke-linejoin:round; stroke-width:2; stroke-opacity:0.1; fill:none\" points=\"\n  903.132,1486.45 903.132,47.2441 \n  \"/>\n<polyline clip-path=\"url(#clip902)\" style=\"stroke:#000000; stroke-linecap:round; stroke-linejoin:round; stroke-width:2; stroke-opacity:0.1; fill:none\" points=\"\n  1249.93,1486.45 1249.93,47.2441 \n  \"/>\n<polyline clip-path=\"url(#clip902)\" style=\"stroke:#000000; stroke-linecap:round; stroke-linejoin:round; stroke-width:2; stroke-opacity:0.1; fill:none\" points=\"\n  1596.73,1486.45 1596.73,47.2441 \n  \"/>\n<polyline clip-path=\"url(#clip902)\" style=\"stroke:#000000; stroke-linecap:round; stroke-linejoin:round; stroke-width:2; stroke-opacity:0.1; fill:none\" points=\"\n  1943.53,1486.45 1943.53,47.2441 \n  \"/>\n<polyline clip-path=\"url(#clip902)\" style=\"stroke:#000000; stroke-linecap:round; stroke-linejoin:round; stroke-width:2; stroke-opacity:0.1; fill:none\" points=\"\n  2290.33,1486.45 2290.33,47.2441 \n  \"/>\n<polyline clip-path=\"url(#clip900)\" style=\"stroke:#000000; stroke-linecap:round; stroke-linejoin:round; stroke-width:4; stroke-opacity:1; fill:none\" points=\"\n  147.108,1486.45 2352.76,1486.45 \n  \"/>\n<polyline clip-path=\"url(#clip900)\" style=\"stroke:#000000; stroke-linecap:round; stroke-linejoin:round; stroke-width:4; stroke-opacity:1; fill:none\" points=\"\n  209.532,1486.45 209.532,1467.55 \n  \"/>\n<polyline clip-path=\"url(#clip900)\" style=\"stroke:#000000; stroke-linecap:round; stroke-linejoin:round; stroke-width:4; stroke-opacity:1; fill:none\" points=\"\n  556.332,1486.45 556.332,1467.55 \n  \"/>\n<polyline clip-path=\"url(#clip900)\" style=\"stroke:#000000; stroke-linecap:round; stroke-linejoin:round; stroke-width:4; stroke-opacity:1; fill:none\" points=\"\n  903.132,1486.45 903.132,1467.55 \n  \"/>\n<polyline clip-path=\"url(#clip900)\" style=\"stroke:#000000; stroke-linecap:round; stroke-linejoin:round; stroke-width:4; stroke-opacity:1; fill:none\" points=\"\n  1249.93,1486.45 1249.93,1467.55 \n  \"/>\n<polyline clip-path=\"url(#clip900)\" style=\"stroke:#000000; stroke-linecap:round; stroke-linejoin:round; stroke-width:4; stroke-opacity:1; fill:none\" points=\"\n  1596.73,1486.45 1596.73,1467.55 \n  \"/>\n<polyline clip-path=\"url(#clip900)\" style=\"stroke:#000000; stroke-linecap:round; stroke-linejoin:round; stroke-width:4; stroke-opacity:1; fill:none\" points=\"\n  1943.53,1486.45 1943.53,1467.55 \n  \"/>\n<polyline clip-path=\"url(#clip900)\" style=\"stroke:#000000; stroke-linecap:round; stroke-linejoin:round; stroke-width:4; stroke-opacity:1; fill:none\" points=\"\n  2290.33,1486.45 2290.33,1467.55 \n  \"/>\n<path clip-path=\"url(#clip900)\" d=\"M178.999 1532.02 L208.675 1532.02 L208.675 1535.95 L178.999 1535.95 L178.999 1532.02 Z\" fill=\"#000000\" fill-rule=\"evenodd\" fill-opacity=\"1\" /><path clip-path=\"url(#clip900)\" d=\"M232.934 1530.21 Q236.291 1530.93 238.166 1533.2 Q240.064 1535.47 240.064 1538.8 Q240.064 1543.92 236.545 1546.72 Q233.027 1549.52 226.545 1549.52 Q224.369 1549.52 222.055 1549.08 Q219.763 1548.66 217.309 1547.81 L217.309 1543.29 Q219.254 1544.43 221.569 1545.01 Q223.883 1545.58 226.406 1545.58 Q230.805 1545.58 233.096 1543.85 Q235.411 1542.11 235.411 1538.8 Q235.411 1535.75 233.258 1534.03 Q231.129 1532.3 227.309 1532.3 L223.281 1532.3 L223.281 1528.45 L227.494 1528.45 Q230.943 1528.45 232.772 1527.09 Q234.601 1525.7 234.601 1523.11 Q234.601 1520.45 232.703 1519.03 Q230.828 1517.6 227.309 1517.6 Q225.388 1517.6 223.189 1518.01 Q220.99 1518.43 218.351 1519.31 L218.351 1515.14 Q221.013 1514.4 223.328 1514.03 Q225.666 1513.66 227.726 1513.66 Q233.05 1513.66 236.152 1516.09 Q239.254 1518.5 239.254 1522.62 Q239.254 1525.49 237.61 1527.48 Q235.967 1529.45 232.934 1530.21 Z\" fill=\"#000000\" fill-rule=\"evenodd\" fill-opacity=\"1\" /><path clip-path=\"url(#clip900)\" d=\"M526.274 1532.02 L555.95 1532.02 L555.95 1535.95 L526.274 1535.95 L526.274 1532.02 Z\" fill=\"#000000\" fill-rule=\"evenodd\" fill-opacity=\"1\" /><path clip-path=\"url(#clip900)\" d=\"M570.07 1544.91 L586.389 1544.91 L586.389 1548.85 L564.445 1548.85 L564.445 1544.91 Q567.107 1542.16 571.69 1537.53 Q576.297 1532.88 577.477 1531.53 Q579.723 1529.01 580.602 1527.27 Q581.505 1525.51 581.505 1523.82 Q581.505 1521.07 579.561 1519.33 Q577.639 1517.6 574.538 1517.6 Q572.338 1517.6 569.885 1518.36 Q567.454 1519.13 564.676 1520.68 L564.676 1515.95 Q567.501 1514.82 569.954 1514.24 Q572.408 1513.66 574.445 1513.66 Q579.815 1513.66 583.01 1516.35 Q586.204 1519.03 586.204 1523.52 Q586.204 1525.65 585.394 1527.57 Q584.607 1529.47 582.5 1532.07 Q581.922 1532.74 578.82 1535.95 Q575.718 1539.15 570.07 1544.91 Z\" fill=\"#000000\" fill-rule=\"evenodd\" fill-opacity=\"1\" /><path clip-path=\"url(#clip900)\" d=\"M872.889 1532.02 L902.565 1532.02 L902.565 1535.95 L872.889 1535.95 L872.889 1532.02 Z\" fill=\"#000000\" fill-rule=\"evenodd\" fill-opacity=\"1\" /><path clip-path=\"url(#clip900)\" d=\"M913.467 1544.91 L921.106 1544.91 L921.106 1518.55 L912.796 1520.21 L912.796 1515.95 L921.06 1514.29 L925.736 1514.29 L925.736 1544.91 L933.375 1544.91 L933.375 1548.85 L913.467 1548.85 L913.467 1544.91 Z\" fill=\"#000000\" fill-rule=\"evenodd\" fill-opacity=\"1\" /><path clip-path=\"url(#clip900)\" d=\"M1249.93 1517.37 Q1246.32 1517.37 1244.49 1520.93 Q1242.69 1524.47 1242.69 1531.6 Q1242.69 1538.71 1244.49 1542.27 Q1246.32 1545.82 1249.93 1545.82 Q1253.57 1545.82 1255.37 1542.27 Q1257.2 1538.71 1257.2 1531.6 Q1257.2 1524.47 1255.37 1520.93 Q1253.57 1517.37 1249.93 1517.37 M1249.93 1513.66 Q1255.74 1513.66 1258.8 1518.27 Q1261.88 1522.85 1261.88 1531.6 Q1261.88 1540.33 1258.8 1544.94 Q1255.74 1549.52 1249.93 1549.52 Q1244.12 1549.52 1241.04 1544.94 Q1237.99 1540.33 1237.99 1531.6 Q1237.99 1522.85 1241.04 1518.27 Q1244.12 1513.66 1249.93 1513.66 Z\" fill=\"#000000\" fill-rule=\"evenodd\" fill-opacity=\"1\" /><path clip-path=\"url(#clip900)\" d=\"M1587.11 1544.91 L1594.75 1544.91 L1594.75 1518.55 L1586.44 1520.21 L1586.44 1515.95 L1594.71 1514.29 L1599.38 1514.29 L1599.38 1544.91 L1607.02 1544.91 L1607.02 1548.85 L1587.11 1548.85 L1587.11 1544.91 Z\" fill=\"#000000\" fill-rule=\"evenodd\" fill-opacity=\"1\" /><path clip-path=\"url(#clip900)\" d=\"M1938.18 1544.91 L1954.5 1544.91 L1954.5 1548.85 L1932.56 1548.85 L1932.56 1544.91 Q1935.22 1542.16 1939.81 1537.53 Q1944.41 1532.88 1945.59 1531.53 Q1947.84 1529.01 1948.72 1527.27 Q1949.62 1525.51 1949.62 1523.82 Q1949.62 1521.07 1947.68 1519.33 Q1945.75 1517.6 1942.65 1517.6 Q1940.45 1517.6 1938 1518.36 Q1935.57 1519.13 1932.79 1520.68 L1932.79 1515.95 Q1935.62 1514.82 1938.07 1514.24 Q1940.52 1513.66 1942.56 1513.66 Q1947.93 1513.66 1951.12 1516.35 Q1954.32 1519.03 1954.32 1523.52 Q1954.32 1525.65 1953.51 1527.57 Q1952.72 1529.47 1950.62 1532.07 Q1950.04 1532.74 1946.93 1535.95 Q1943.83 1539.15 1938.18 1544.91 Z\" fill=\"#000000\" fill-rule=\"evenodd\" fill-opacity=\"1\" /><path clip-path=\"url(#clip900)\" d=\"M2294.58 1530.21 Q2297.94 1530.93 2299.81 1533.2 Q2301.71 1535.47 2301.71 1538.8 Q2301.71 1543.92 2298.19 1546.72 Q2294.67 1549.52 2288.19 1549.52 Q2286.01 1549.52 2283.7 1549.08 Q2281.41 1548.66 2278.95 1547.81 L2278.95 1543.29 Q2280.9 1544.43 2283.21 1545.01 Q2285.53 1545.58 2288.05 1545.58 Q2292.45 1545.58 2294.74 1543.85 Q2297.06 1542.11 2297.06 1538.8 Q2297.06 1535.75 2294.9 1534.03 Q2292.77 1532.3 2288.95 1532.3 L2284.93 1532.3 L2284.93 1528.45 L2289.14 1528.45 Q2292.59 1528.45 2294.42 1527.09 Q2296.25 1525.7 2296.25 1523.11 Q2296.25 1520.45 2294.35 1519.03 Q2292.47 1517.6 2288.95 1517.6 Q2287.03 1517.6 2284.83 1518.01 Q2282.64 1518.43 2280 1519.31 L2280 1515.14 Q2282.66 1514.4 2284.97 1514.03 Q2287.31 1513.66 2289.37 1513.66 Q2294.7 1513.66 2297.8 1516.09 Q2300.9 1518.5 2300.9 1522.62 Q2300.9 1525.49 2299.26 1527.48 Q2297.61 1529.45 2294.58 1530.21 Z\" fill=\"#000000\" fill-rule=\"evenodd\" fill-opacity=\"1\" /><polyline clip-path=\"url(#clip902)\" style=\"stroke:#000000; stroke-linecap:round; stroke-linejoin:round; stroke-width:2; stroke-opacity:0.1; fill:none\" points=\"\n  147.108,1304.68 2352.76,1304.68 \n  \"/>\n<polyline clip-path=\"url(#clip902)\" style=\"stroke:#000000; stroke-linecap:round; stroke-linejoin:round; stroke-width:2; stroke-opacity:0.1; fill:none\" points=\"\n  147.108,1121.65 2352.76,1121.65 \n  \"/>\n<polyline clip-path=\"url(#clip902)\" style=\"stroke:#000000; stroke-linecap:round; stroke-linejoin:round; stroke-width:2; stroke-opacity:0.1; fill:none\" points=\"\n  147.108,938.61 2352.76,938.61 \n  \"/>\n<polyline clip-path=\"url(#clip902)\" style=\"stroke:#000000; stroke-linecap:round; stroke-linejoin:round; stroke-width:2; stroke-opacity:0.1; fill:none\" points=\"\n  147.108,755.573 2352.76,755.573 \n  \"/>\n<polyline clip-path=\"url(#clip902)\" style=\"stroke:#000000; stroke-linecap:round; stroke-linejoin:round; stroke-width:2; stroke-opacity:0.1; fill:none\" points=\"\n  147.108,572.536 2352.76,572.536 \n  \"/>\n<polyline clip-path=\"url(#clip902)\" style=\"stroke:#000000; stroke-linecap:round; stroke-linejoin:round; stroke-width:2; stroke-opacity:0.1; fill:none\" points=\"\n  147.108,389.499 2352.76,389.499 \n  \"/>\n<polyline clip-path=\"url(#clip902)\" style=\"stroke:#000000; stroke-linecap:round; stroke-linejoin:round; stroke-width:2; stroke-opacity:0.1; fill:none\" points=\"\n  147.108,206.462 2352.76,206.462 \n  \"/>\n<polyline clip-path=\"url(#clip900)\" style=\"stroke:#000000; stroke-linecap:round; stroke-linejoin:round; stroke-width:4; stroke-opacity:1; fill:none\" points=\"\n  147.108,1486.45 147.108,47.2441 \n  \"/>\n<polyline clip-path=\"url(#clip900)\" style=\"stroke:#000000; stroke-linecap:round; stroke-linejoin:round; stroke-width:4; stroke-opacity:1; fill:none\" points=\"\n  147.108,1304.68 166.005,1304.68 \n  \"/>\n<polyline clip-path=\"url(#clip900)\" style=\"stroke:#000000; stroke-linecap:round; stroke-linejoin:round; stroke-width:4; stroke-opacity:1; fill:none\" points=\"\n  147.108,1121.65 166.005,1121.65 \n  \"/>\n<polyline clip-path=\"url(#clip900)\" style=\"stroke:#000000; stroke-linecap:round; stroke-linejoin:round; stroke-width:4; stroke-opacity:1; fill:none\" points=\"\n  147.108,938.61 166.005,938.61 \n  \"/>\n<polyline clip-path=\"url(#clip900)\" style=\"stroke:#000000; stroke-linecap:round; stroke-linejoin:round; stroke-width:4; stroke-opacity:1; fill:none\" points=\"\n  147.108,755.573 166.005,755.573 \n  \"/>\n<polyline clip-path=\"url(#clip900)\" style=\"stroke:#000000; stroke-linecap:round; stroke-linejoin:round; stroke-width:4; stroke-opacity:1; fill:none\" points=\"\n  147.108,572.536 166.005,572.536 \n  \"/>\n<polyline clip-path=\"url(#clip900)\" style=\"stroke:#000000; stroke-linecap:round; stroke-linejoin:round; stroke-width:4; stroke-opacity:1; fill:none\" points=\"\n  147.108,389.499 166.005,389.499 \n  \"/>\n<polyline clip-path=\"url(#clip900)\" style=\"stroke:#000000; stroke-linecap:round; stroke-linejoin:round; stroke-width:4; stroke-opacity:1; fill:none\" points=\"\n  147.108,206.462 166.005,206.462 \n  \"/>\n<path clip-path=\"url(#clip900)\" d=\"M50.9921 1305.14 L80.6679 1305.14 L80.6679 1309.07 L50.9921 1309.07 L50.9921 1305.14 Z\" fill=\"#000000\" fill-rule=\"evenodd\" fill-opacity=\"1\" /><path clip-path=\"url(#clip900)\" d=\"M94.7882 1318.03 L111.108 1318.03 L111.108 1321.96 L89.1632 1321.96 L89.1632 1318.03 Q91.8252 1315.27 96.4085 1310.64 Q101.015 1305.99 102.196 1304.65 Q104.441 1302.13 105.321 1300.39 Q106.223 1298.63 106.223 1296.94 Q106.223 1294.19 104.279 1292.45 Q102.358 1290.71 99.2558 1290.71 Q97.0567 1290.71 94.603 1291.48 Q92.1725 1292.24 89.3947 1293.79 L89.3947 1289.07 Q92.2188 1287.94 94.6724 1287.36 Q97.1261 1286.78 99.1632 1286.78 Q104.534 1286.78 107.728 1289.46 Q110.922 1292.15 110.922 1296.64 Q110.922 1298.77 110.112 1300.69 Q109.325 1302.59 107.219 1305.18 Q106.64 1305.85 103.538 1309.07 Q100.436 1312.27 94.7882 1318.03 Z\" fill=\"#000000\" fill-rule=\"evenodd\" fill-opacity=\"1\" /><path clip-path=\"url(#clip900)\" d=\"M99.1632 1107.45 Q95.5521 1107.45 93.7234 1111.01 Q91.9178 1114.55 91.9178 1121.68 Q91.9178 1128.79 93.7234 1132.35 Q95.5521 1135.89 99.1632 1135.89 Q102.797 1135.89 104.603 1132.35 Q106.432 1128.79 106.432 1121.68 Q106.432 1114.55 104.603 1111.01 Q102.797 1107.45 99.1632 1107.45 M99.1632 1103.74 Q104.973 1103.74 108.029 1108.35 Q111.108 1112.93 111.108 1121.68 Q111.108 1130.41 108.029 1135.02 Q104.973 1139.6 99.1632 1139.6 Q93.353 1139.6 90.2743 1135.02 Q87.2188 1130.41 87.2188 1121.68 Q87.2188 1112.93 90.2743 1108.35 Q93.353 1103.74 99.1632 1103.74 Z\" fill=\"#000000\" fill-rule=\"evenodd\" fill-opacity=\"1\" /><path clip-path=\"url(#clip900)\" d=\"M94.7882 951.955 L111.108 951.955 L111.108 955.89 L89.1632 955.89 L89.1632 951.955 Q91.8252 949.2 96.4085 944.571 Q101.015 939.918 102.196 938.575 Q104.441 936.052 105.321 934.316 Q106.223 932.557 106.223 930.867 Q106.223 928.113 104.279 926.376 Q102.358 924.64 99.2558 924.64 Q97.0567 924.64 94.603 925.404 Q92.1725 926.168 89.3947 927.719 L89.3947 922.997 Q92.2188 921.863 94.6724 921.284 Q97.1261 920.705 99.1632 920.705 Q104.534 920.705 107.728 923.39 Q110.922 926.076 110.922 930.566 Q110.922 932.696 110.112 934.617 Q109.325 936.515 107.219 939.108 Q106.64 939.779 103.538 942.997 Q100.436 946.191 94.7882 951.955 Z\" fill=\"#000000\" fill-rule=\"evenodd\" fill-opacity=\"1\" /><path clip-path=\"url(#clip900)\" d=\"M101.524 742.367 L89.7188 760.816 L101.524 760.816 L101.524 742.367 M100.297 738.293 L106.177 738.293 L106.177 760.816 L111.108 760.816 L111.108 764.705 L106.177 764.705 L106.177 772.853 L101.524 772.853 L101.524 764.705 L85.9225 764.705 L85.9225 760.191 L100.297 738.293 Z\" fill=\"#000000\" fill-rule=\"evenodd\" fill-opacity=\"1\" /><path clip-path=\"url(#clip900)\" d=\"M99.5798 570.673 Q96.4317 570.673 94.5799 572.826 Q92.7512 574.978 92.7512 578.728 Q92.7512 582.455 94.5799 584.631 Q96.4317 586.784 99.5798 586.784 Q102.728 586.784 104.557 584.631 Q106.408 582.455 106.408 578.728 Q106.408 574.978 104.557 572.826 Q102.728 570.673 99.5798 570.673 M108.862 556.02 L108.862 560.279 Q107.103 559.446 105.297 559.006 Q103.515 558.566 101.756 558.566 Q97.1261 558.566 94.6724 561.691 Q92.2419 564.816 91.8947 571.136 Q93.2604 569.122 95.3206 568.057 Q97.3808 566.969 99.8576 566.969 Q105.066 566.969 108.075 570.14 Q111.108 573.289 111.108 578.728 Q111.108 584.052 107.959 587.27 Q104.811 590.488 99.5798 590.488 Q93.5845 590.488 90.4132 585.904 Q87.2419 581.298 87.2419 572.571 Q87.2419 564.377 91.1308 559.515 Q95.0197 554.631 101.571 554.631 Q103.33 554.631 105.112 554.978 Q106.918 555.326 108.862 556.02 Z\" fill=\"#000000\" fill-rule=\"evenodd\" fill-opacity=\"1\" /><path clip-path=\"url(#clip900)\" d=\"M99.2558 390.367 Q95.9224 390.367 94.0012 392.15 Q92.103 393.932 92.103 397.057 Q92.103 400.182 94.0012 401.964 Q95.9224 403.747 99.2558 403.747 Q102.589 403.747 104.51 401.964 Q106.432 400.159 106.432 397.057 Q106.432 393.932 104.51 392.15 Q102.612 390.367 99.2558 390.367 M94.5799 388.377 Q91.5706 387.636 89.8808 385.576 Q88.2141 383.515 88.2141 380.553 Q88.2141 376.409 91.1539 374.002 Q94.1169 371.594 99.2558 371.594 Q104.418 371.594 107.358 374.002 Q110.297 376.409 110.297 380.553 Q110.297 383.515 108.608 385.576 Q106.941 387.636 103.955 388.377 Q107.334 389.164 109.209 391.455 Q111.108 393.747 111.108 397.057 Q111.108 402.08 108.029 404.765 Q104.973 407.451 99.2558 407.451 Q93.5382 407.451 90.4595 404.765 Q87.404 402.08 87.404 397.057 Q87.404 393.747 89.3021 391.455 Q91.2002 389.164 94.5799 388.377 M92.8669 380.992 Q92.8669 383.678 94.5336 385.182 Q96.2234 386.687 99.2558 386.687 Q102.265 386.687 103.955 385.182 Q105.668 383.678 105.668 380.992 Q105.668 378.307 103.955 376.803 Q102.265 375.298 99.2558 375.298 Q96.2234 375.298 94.5336 376.803 Q92.8669 378.307 92.8669 380.992 Z\" fill=\"#000000\" fill-rule=\"evenodd\" fill-opacity=\"1\" /><path clip-path=\"url(#clip900)\" d=\"M59.8115 219.807 L67.4504 219.807 L67.4504 193.441 L59.1402 195.108 L59.1402 190.849 L67.4041 189.182 L72.08 189.182 L72.08 219.807 L79.7188 219.807 L79.7188 223.742 L59.8115 223.742 L59.8115 219.807 Z\" fill=\"#000000\" fill-rule=\"evenodd\" fill-opacity=\"1\" /><path clip-path=\"url(#clip900)\" d=\"M99.1632 192.261 Q95.5521 192.261 93.7234 195.826 Q91.9178 199.367 91.9178 206.497 Q91.9178 213.603 93.7234 217.168 Q95.5521 220.71 99.1632 220.71 Q102.797 220.71 104.603 217.168 Q106.432 213.603 106.432 206.497 Q106.432 199.367 104.603 195.826 Q102.797 192.261 99.1632 192.261 M99.1632 188.557 Q104.973 188.557 108.029 193.164 Q111.108 197.747 111.108 206.497 Q111.108 215.224 108.029 219.83 Q104.973 224.414 99.1632 224.414 Q93.353 224.414 90.2743 219.83 Q87.2188 215.224 87.2188 206.497 Q87.2188 197.747 90.2743 193.164 Q93.353 188.557 99.1632 188.557 Z\" fill=\"#000000\" fill-rule=\"evenodd\" fill-opacity=\"1\" /><polyline clip-path=\"url(#clip902)\" style=\"stroke:#009af9; stroke-linecap:round; stroke-linejoin:round; stroke-width:8; stroke-opacity:1; fill:none\" points=\"\n  209.532,88.0898 211.614,121.987 213.697,155.407 215.78,188.35 217.863,220.818 219.946,252.811 222.029,284.332 224.112,315.381 226.195,345.96 228.278,376.07 \n  230.36,405.713 232.443,434.89 234.526,463.602 236.609,491.851 238.692,519.638 240.775,546.965 242.858,573.834 244.941,600.246 247.023,626.203 249.106,651.706 \n  251.189,676.757 253.272,701.358 255.355,725.511 257.438,749.218 259.521,772.479 261.604,795.298 263.687,817.676 265.769,839.615 267.852,861.116 269.935,882.183 \n  272.018,902.817 274.101,923.019 276.184,942.793 278.267,962.14 280.35,981.063 282.432,999.563 284.515,1017.64 286.598,1035.31 288.681,1052.55 290.764,1069.38 \n  292.847,1085.81 294.93,1101.82 297.013,1117.43 299.096,1132.63 301.178,1147.44 303.261,1161.84 305.344,1175.85 307.427,1189.46 309.51,1202.69 311.593,1215.53 \n  313.676,1227.98 315.759,1240.05 317.841,1251.73 319.924,1263.05 322.007,1273.98 324.09,1284.55 326.173,1294.75 328.256,1304.58 330.339,1314.05 332.422,1323.16 \n  334.505,1331.91 336.587,1340.31 338.67,1348.36 340.753,1356.06 342.836,1363.42 344.919,1370.44 347.002,1377.12 349.085,1383.47 351.168,1389.48 353.25,1395.17 \n  355.333,1400.54 357.416,1405.58 359.499,1410.31 361.582,1414.72 363.665,1418.82 365.748,1422.61 367.831,1426.11 369.914,1429.3 371.996,1432.19 374.079,1434.8 \n  376.162,1437.11 378.245,1439.14 380.328,1440.89 382.411,1442.36 384.494,1443.56 386.577,1444.49 388.66,1445.15 390.742,1445.55 392.825,1445.7 394.908,1445.58 \n  396.991,1445.22 399.074,1444.62 401.157,1443.77 403.24,1442.68 405.323,1441.36 407.405,1439.81 409.488,1438.03 411.571,1436.03 413.654,1433.82 415.737,1431.39 \n  417.82,1428.75 419.903,1425.91 421.986,1422.87 424.069,1419.63 426.151,1416.2 428.234,1412.59 430.317,1408.79 432.4,1404.81 434.483,1400.66 436.566,1396.34 \n  438.649,1391.85 440.732,1387.21 442.814,1382.4 444.897,1377.45 446.98,1372.35 449.063,1367.1 451.146,1361.72 453.229,1356.21 455.312,1350.56 457.395,1344.79 \n  459.478,1338.9 461.56,1332.9 463.643,1326.79 465.726,1320.57 467.809,1314.25 469.892,1307.83 471.975,1301.32 474.058,1294.72 476.141,1288.04 478.223,1281.29 \n  480.306,1274.45 482.389,1267.56 484.472,1260.59 486.555,1253.57 488.638,1246.49 490.721,1239.37 492.804,1232.19 494.887,1224.98 496.969,1217.73 499.052,1210.45 \n  501.135,1203.14 503.218,1195.81 505.301,1188.47 507.384,1181.11 509.467,1173.74 511.55,1166.37 513.633,1159 515.715,1151.63 517.798,1144.27 519.881,1136.93 \n  521.964,1129.61 524.047,1122.31 526.13,1115.04 528.213,1107.8 530.296,1100.6 532.378,1093.44 534.461,1086.32 536.544,1079.25 538.627,1072.24 540.71,1065.29 \n  542.793,1058.4 544.876,1051.57 546.959,1044.81 549.042,1038.13 551.124,1031.53 553.207,1025.01 555.29,1018.58 557.373,1012.24 559.456,1005.99 561.539,999.844 \n  563.622,993.797 565.705,987.856 567.787,982.025 569.87,976.307 571.953,970.705 574.036,965.224 576.119,959.866 578.202,954.635 580.285,949.534 582.368,944.566 \n  584.451,939.736 586.533,935.045 588.616,930.496 590.699,926.094 592.782,921.84 594.865,917.737 596.948,913.789 599.031,909.997 601.114,906.364 603.196,902.893 \n  605.279,899.586 607.362,896.446 609.445,893.474 611.528,890.673 613.611,888.045 615.694,885.591 617.777,883.314 619.86,881.215 621.942,879.296 624.025,877.558 \n  626.108,876.002 628.191,874.631 630.274,873.445 632.357,872.445 634.44,871.633 636.523,871.009 638.605,870.573 640.688,870.327 642.771,870.271 644.854,870.406 \n  646.937,870.731 649.02,871.246 651.103,871.953 653.186,872.85 655.269,873.938 657.351,875.215 659.434,876.682 661.517,878.338 663.6,880.182 665.683,882.213 \n  667.766,884.43 669.849,886.833 671.932,889.418 674.015,892.186 676.097,895.134 678.18,898.261 680.263,901.565 682.346,905.044 684.429,908.695 686.512,912.516 \n  688.595,916.505 690.678,920.659 692.76,924.976 694.843,929.452 696.926,934.084 699.009,938.87 701.092,943.805 703.175,948.887 705.258,954.111 707.341,959.473 \n  709.424,964.971 711.506,970.599 713.589,976.353 715.672,982.23 717.755,988.224 719.838,994.331 721.921,1000.55 724.004,1006.86 726.087,1013.28 728.169,1019.79 \n  730.252,1026.38 732.335,1033.06 734.418,1039.81 736.501,1046.63 738.584,1053.52 740.667,1060.47 742.75,1067.46 744.833,1074.51 746.915,1081.59 748.998,1088.7 \n  751.081,1095.84 753.164,1103 755.247,1110.18 757.33,1117.36 759.413,1124.53 761.496,1131.7 763.578,1138.86 765.661,1145.99 767.744,1153.09 769.827,1160.15 \n  771.91,1167.16 773.993,1174.13 776.076,1181.03 778.159,1187.87 780.242,1194.63 782.324,1201.3 784.407,1207.89 786.49,1214.37 788.573,1220.75 790.656,1227.01 \n  792.739,1233.16 794.822,1239.17 796.905,1245.04 798.988,1250.77 801.07,1256.35 803.153,1261.77 805.236,1267.01 807.319,1272.09 809.402,1276.97 811.485,1281.67 \n  813.568,1286.18 815.651,1290.47 817.733,1294.56 819.816,1298.43 821.899,1302.08 823.982,1305.49 826.065,1308.67 828.148,1311.6 830.231,1314.29 832.314,1316.72 \n  834.397,1318.89 836.479,1320.79 838.562,1322.43 840.645,1323.79 842.728,1324.87 844.811,1325.67 846.894,1326.18 848.977,1326.4 851.06,1326.33 853.142,1325.97 \n  855.225,1325.3 857.308,1324.34 859.391,1323.07 861.474,1321.5 863.557,1319.63 865.64,1317.46 867.723,1314.98 869.806,1312.2 871.888,1309.12 873.971,1305.73 \n  876.054,1302.06 878.137,1298.08 880.22,1293.82 882.303,1289.26 884.386,1284.43 886.469,1279.32 888.551,1273.93 890.634,1268.28 892.717,1262.36 894.8,1256.2 \n  896.883,1249.79 898.966,1243.14 901.049,1236.27 903.132,1229.18 905.215,1221.89 907.297,1214.4 909.38,1206.72 911.463,1198.88 913.546,1190.87 915.629,1182.72 \n  917.712,1174.44 919.795,1166.05 921.878,1157.56 923.961,1148.98 926.043,1140.33 928.126,1131.63 930.209,1122.9 932.292,1114.16 934.375,1105.42 936.458,1096.71 \n  938.541,1088.04 940.624,1079.43 942.706,1070.9 944.789,1062.48 946.872,1054.19 948.955,1046.04 951.038,1038.07 953.121,1030.28 955.204,1022.71 957.287,1015.37 \n  959.37,1008.29 961.452,1001.49 963.535,994.988 965.618,988.81 967.701,982.976 969.784,977.508 971.867,972.426 973.95,967.75 976.033,963.5 978.115,959.695 \n  980.198,956.354 982.281,953.494 984.364,951.131 986.447,949.28 988.53,947.957 990.613,947.174 992.696,946.943 994.779,947.274 996.861,948.176 998.944,949.655 \n  1001.03,951.718 1003.11,954.366 1005.19,957.602 1007.28,961.424 1009.36,965.83 1011.44,970.814 1013.52,976.367 1015.61,982.48 1017.69,989.14 1019.77,996.33 \n  1021.86,1004.03 1023.94,1012.23 1026.02,1020.88 1028.1,1029.98 1030.19,1039.49 1032.27,1049.37 1034.35,1059.59 1036.44,1070.11 1038.52,1080.89 1040.6,1091.88 \n  1042.68,1103.03 1044.77,1114.29 1046.85,1125.61 1048.93,1136.93 1051.02,1148.2 1053.1,1159.35 1055.18,1170.32 1057.27,1181.04 1059.35,1191.45 1061.43,1201.48 \n  1063.51,1211.07 1065.6,1220.15 1067.68,1228.65 1069.76,1236.5 1071.85,1243.63 1073.93,1249.99 1076.01,1255.52 1078.09,1260.15 1080.18,1263.83 1082.26,1266.51 \n  1084.34,1268.15 1086.43,1268.7 1088.51,1268.14 1090.59,1266.45 1092.67,1263.6 1094.76,1259.59 1096.84,1254.42 1098.92,1248.12 1101.01,1240.69 1103.09,1232.19 \n  1105.17,1222.67 1107.25,1212.18 1109.34,1200.8 1111.42,1188.63 1113.5,1175.77 1115.59,1162.34 1117.67,1148.48 1119.75,1134.32 1121.83,1120.02 1123.92,1105.76 \n  1126,1091.72 1128.08,1078.07 1130.17,1065.02 1132.25,1052.75 1134.33,1041.47 1136.41,1031.36 1138.5,1022.62 1140.58,1015.42 1142.66,1009.93 1144.75,1006.28 \n  1146.83,1004.6 1148.91,1004.99 1150.99,1007.48 1153.08,1012.11 1155.16,1018.85 1157.24,1027.62 1159.33,1038.31 1161.41,1050.72 1163.49,1064.64 1165.57,1079.77 \n  1167.66,1095.77 1169.74,1112.25 1171.82,1128.77 1173.91,1144.88 1175.99,1160.07 1178.07,1173.85 1180.16,1185.73 1182.24,1195.26 1184.32,1202.01 1186.4,1205.68 \n  1188.49,1206.01 1190.57,1202.92 1192.65,1196.44 1194.74,1186.78 1196.82,1174.34 1198.9,1159.67 1200.98,1143.53 1203.07,1126.79 1205.15,1110.46 1207.23,1095.58 \n  1209.32,1083.2 1211.4,1074.25 1213.48,1069.45 1215.56,1069.24 1217.65,1073.65 1219.73,1082.26 1221.81,1094.18 1223.9,1108.03 1225.98,1122.11 1228.06,1134.54 \n  1230.14,1143.55 1232.23,1147.8 1234.31,1146.74 1236.39,1140.89 1238.48,1131.98 1240.56,1122.71 1242.64,1116.07 1244.72,1114.01 1246.81,1115.95 1248.89,1118.62 \n  1250.97,1118.64 1253.06,1116 1255.14,1114.06 1257.22,1116.1 1259.3,1122.7 1261.39,1131.94 1263.47,1140.84 1265.55,1146.69 1267.64,1147.76 1269.72,1143.53 \n  1271.8,1134.54 1273.88,1122.14 1275.97,1108.07 1278.05,1094.23 1280.13,1082.32 1282.22,1073.7 1284.3,1069.28 1286.38,1069.48 1288.47,1074.26 1290.55,1083.2 \n  1292.63,1095.56 1294.71,1110.42 1296.8,1126.75 1298.88,1143.49 1300.96,1159.63 1303.05,1174.3 1305.13,1186.75 1307.21,1196.41 1309.29,1202.9 1311.38,1206 \n  1313.46,1205.68 1315.54,1202.02 1317.63,1195.27 1319.71,1185.75 1321.79,1173.87 1323.87,1160.09 1325.96,1144.9 1328.04,1128.79 1330.12,1112.26 1332.21,1095.77 \n  1334.29,1079.77 1336.37,1064.63 1338.45,1050.71 1340.54,1038.29 1342.62,1027.6 1344.7,1018.83 1346.79,1012.09 1348.87,1007.46 1350.95,1004.96 1353.03,1004.58 \n  1355.12,1006.26 1357.2,1009.91 1359.28,1015.41 1361.37,1022.62 1363.45,1031.36 1365.53,1041.47 1367.61,1052.76 1369.7,1065.04 1371.78,1078.1 1373.86,1091.75 \n  1375.95,1105.8 1378.03,1120.06 1380.11,1134.36 1382.19,1148.52 1384.28,1162.39 1386.36,1175.81 1388.44,1188.67 1390.53,1200.84 1392.61,1212.22 1394.69,1222.7 \n  1396.77,1232.23 1398.86,1240.72 1400.94,1248.14 1403.02,1254.44 1405.11,1259.6 1407.19,1263.61 1409.27,1266.45 1411.36,1268.14 1413.44,1268.7 1415.52,1268.14 \n  1417.6,1266.5 1419.69,1263.82 1421.77,1260.14 1423.85,1255.5 1425.94,1249.98 1428.02,1243.62 1430.1,1236.48 1432.18,1228.63 1434.27,1220.13 1436.35,1211.06 \n  1438.43,1201.47 1440.52,1191.43 1442.6,1181.02 1444.68,1170.3 1446.76,1159.34 1448.85,1148.19 1450.93,1136.92 1453.01,1125.6 1455.1,1114.28 1457.18,1103.02 \n  1459.26,1091.87 1461.34,1080.88 1463.43,1070.11 1465.51,1059.59 1467.59,1049.37 1469.68,1039.49 1471.76,1029.98 1473.84,1020.88 1475.92,1012.22 1478.01,1004.03 \n  1480.09,996.327 1482.17,989.136 1484.26,982.475 1486.34,976.361 1488.42,970.806 1490.5,965.821 1492.59,961.414 1494.67,957.59 1496.75,954.353 1498.84,951.703 \n  1500.92,949.639 1503,948.158 1505.08,947.255 1507.17,946.923 1509.25,947.153 1511.33,947.935 1513.42,949.257 1515.5,951.106 1517.58,953.469 1519.67,956.329 \n  1521.75,959.67 1523.83,963.474 1525.91,967.724 1528,972.4 1530.08,977.482 1532.16,982.951 1534.25,988.785 1536.33,994.964 1538.41,1001.47 1540.49,1008.27 \n  1542.58,1015.35 1544.66,1022.69 1546.74,1030.26 1548.83,1038.05 1550.91,1046.03 1552.99,1054.18 1555.07,1062.47 1557.16,1070.89 1559.24,1079.42 1561.32,1088.03 \n  1563.41,1096.7 1565.49,1105.42 1567.57,1114.16 1569.65,1122.9 1571.74,1131.63 1573.82,1140.33 1575.9,1148.98 1577.99,1157.56 1580.07,1166.06 1582.15,1174.45 \n  1584.23,1182.73 1586.32,1190.88 1588.4,1198.89 1590.48,1206.73 1592.57,1214.41 1594.65,1221.9 1596.73,1229.2 1598.81,1236.29 1600.9,1243.16 1602.98,1249.81 \n  1605.06,1256.22 1607.15,1262.38 1609.23,1268.29 1611.31,1273.95 1613.39,1279.33 1615.48,1284.45 1617.56,1289.28 1619.64,1293.83 1621.73,1298.1 1623.81,1302.07 \n  1625.89,1305.75 1627.98,1309.13 1630.06,1312.21 1632.14,1314.99 1634.22,1317.47 1636.31,1319.64 1638.39,1321.52 1640.47,1323.08 1642.56,1324.35 1644.64,1325.31 \n  1646.72,1325.98 1648.8,1326.34 1650.89,1326.41 1652.97,1326.19 1655.05,1325.68 1657.14,1324.88 1659.22,1323.79 1661.3,1322.43 1663.38,1320.8 1665.47,1318.89 \n  1667.55,1316.72 1669.63,1314.29 1671.72,1311.6 1673.8,1308.67 1675.88,1305.49 1677.96,1302.08 1680.05,1298.43 1682.13,1294.56 1684.21,1290.48 1686.3,1286.18 \n  1688.38,1281.68 1690.46,1276.98 1692.54,1272.09 1694.63,1267.01 1696.71,1261.77 1698.79,1256.35 1700.88,1250.78 1702.96,1245.05 1705.04,1239.17 1707.12,1233.16 \n  1709.21,1227.02 1711.29,1220.76 1713.37,1214.38 1715.46,1207.89 1717.54,1201.31 1719.62,1194.63 1721.7,1187.87 1723.79,1181.04 1725.87,1174.14 1727.95,1167.17 \n  1730.04,1160.16 1732.12,1153.1 1734.2,1146 1736.28,1138.87 1738.37,1131.72 1740.45,1124.55 1742.53,1117.37 1744.62,1110.19 1746.7,1103.02 1748.78,1095.86 \n  1750.87,1088.72 1752.95,1081.61 1755.03,1074.53 1757.11,1067.48 1759.2,1060.49 1761.28,1053.54 1763.36,1046.65 1765.45,1039.83 1767.53,1033.08 1769.61,1026.4 \n  1771.69,1019.81 1773.78,1013.3 1775.86,1006.89 1777.94,1000.57 1780.03,994.353 1782.11,988.246 1784.19,982.252 1786.27,976.375 1788.36,970.621 1790.44,964.992 \n  1792.52,959.494 1794.61,954.131 1796.69,948.907 1798.77,943.825 1800.85,938.889 1802.94,934.103 1805.02,929.47 1807.1,924.993 1809.19,920.675 1811.27,916.52 \n  1813.35,912.53 1815.43,908.708 1817.52,905.056 1819.6,901.576 1821.68,898.272 1823.77,895.144 1825.85,892.194 1827.93,889.426 1830.01,886.839 1832.1,884.436 \n  1834.18,882.217 1836.26,880.185 1838.35,878.34 1840.43,876.683 1842.51,875.215 1844.59,873.936 1846.68,872.847 1848.76,871.949 1850.84,871.241 1852.93,870.725 \n  1855.01,870.399 1857.09,870.263 1859.18,870.318 1861.26,870.563 1863.34,870.997 1865.42,871.621 1867.51,872.432 1869.59,873.431 1871.67,874.616 1873.76,875.986 \n  1875.84,877.541 1877.92,879.278 1880,881.196 1882.09,883.295 1884.17,885.571 1886.25,888.024 1888.34,890.652 1890.42,893.452 1892.5,896.424 1894.58,899.564 \n  1896.67,902.87 1898.75,906.34 1900.83,909.973 1902.92,913.764 1905,917.713 1907.08,921.815 1909.16,926.069 1911.25,930.471 1913.33,935.02 1915.41,939.711 \n  1917.5,944.541 1919.58,949.509 1921.66,954.61 1923.74,959.841 1925.83,965.199 1927.91,970.681 1929.99,976.283 1932.08,982.001 1934.16,987.833 1936.24,993.774 \n  1938.32,999.821 1940.41,1005.97 1942.49,1012.22 1944.57,1018.56 1946.66,1024.99 1948.74,1031.51 1950.82,1038.11 1952.9,1044.8 1954.99,1051.55 1957.07,1058.38 \n  1959.15,1065.27 1961.24,1072.23 1963.32,1079.24 1965.4,1086.31 1967.48,1093.42 1969.57,1100.59 1971.65,1107.79 1973.73,1115.03 1975.82,1122.3 1977.9,1129.6 \n  1979.98,1136.92 1982.07,1144.26 1984.15,1151.62 1986.23,1158.99 1988.31,1166.36 1990.4,1173.73 1992.48,1181.1 1994.56,1188.46 1996.65,1195.81 1998.73,1203.14 \n  2000.81,1210.45 2002.89,1217.73 2004.98,1224.98 2007.06,1232.19 2009.14,1239.36 2011.23,1246.49 2013.31,1253.57 2015.39,1260.59 2017.47,1267.55 2019.56,1274.45 \n  2021.64,1281.28 2023.72,1288.04 2025.81,1294.72 2027.89,1301.32 2029.97,1307.83 2032.05,1314.25 2034.14,1320.57 2036.22,1326.79 2038.3,1332.9 2040.39,1338.9 \n  2042.47,1344.79 2044.55,1350.56 2046.63,1356.21 2048.72,1361.72 2050.8,1367.1 2052.88,1372.35 2054.97,1377.45 2057.05,1382.4 2059.13,1387.2 2061.21,1391.85 \n  2063.3,1396.34 2065.38,1400.66 2067.46,1404.81 2069.55,1408.78 2071.63,1412.58 2073.71,1416.2 2075.79,1419.63 2077.88,1422.86 2079.96,1425.9 2082.04,1428.74 \n  2084.13,1431.38 2086.21,1433.81 2088.29,1436.02 2090.38,1438.02 2092.46,1439.8 2094.54,1441.35 2096.62,1442.67 2098.71,1443.76 2100.79,1444.6 2102.87,1445.21 \n  2104.96,1445.57 2107.04,1445.68 2109.12,1445.54 2111.2,1445.14 2113.29,1444.48 2115.37,1443.55 2117.45,1442.35 2119.54,1440.88 2121.62,1439.13 2123.7,1437.1 \n  2125.78,1434.78 2127.87,1432.18 2129.95,1429.28 2132.03,1426.09 2134.12,1422.6 2136.2,1418.81 2138.28,1414.71 2140.36,1410.29 2142.45,1405.57 2144.53,1400.53 \n  2146.61,1395.16 2148.7,1389.48 2150.78,1383.46 2152.86,1377.11 2154.94,1370.44 2157.03,1363.42 2159.11,1356.06 2161.19,1348.36 2163.28,1340.31 2165.36,1331.91 \n  2167.44,1323.16 2169.52,1314.05 2171.61,1304.58 2173.69,1294.75 2175.77,1284.55 2177.86,1273.99 2179.94,1263.05 2182.02,1251.74 2184.1,1240.06 2186.19,1227.99 \n  2188.27,1215.54 2190.35,1202.71 2192.44,1189.48 2194.52,1175.87 2196.6,1161.86 2198.69,1147.46 2200.77,1132.66 2202.85,1117.46 2204.93,1101.85 2207.02,1085.84 \n  2209.1,1069.42 2211.18,1052.59 2213.27,1035.34 2215.35,1017.68 2217.43,999.603 2219.51,981.104 2221.6,962.182 2223.68,942.836 2225.76,923.063 2227.85,902.861 \n  2229.93,882.228 2232.01,861.162 2234.09,839.66 2236.18,817.721 2238.26,795.343 2240.34,772.524 2242.43,749.261 2244.51,725.554 2246.59,701.399 2248.67,676.796 \n  2250.76,651.742 2252.84,626.237 2254.92,600.277 2257.01,573.861 2259.09,546.989 2261.17,519.657 2263.25,491.864 2265.34,463.61 2267.42,434.892 2269.5,405.708 \n  2271.59,376.058 2273.67,345.94 2275.75,315.352 2277.83,284.293 2279.92,252.762 2282,220.758 2284.08,188.278 2286.17,155.322 2288.25,121.888 2290.33,87.9763 \n  \n  \"/>\n<polyline clip-path=\"url(#clip902)\" style=\"stroke:#e26f46; stroke-linecap:round; stroke-linejoin:round; stroke-width:8; stroke-opacity:1; fill:none\" points=\"\n  209.532,88.0888 211.614,121.988 213.697,155.41 215.78,188.355 217.863,220.824 219.946,252.819 222.029,284.341 224.112,315.392 226.195,345.972 228.278,376.083 \n  230.36,405.726 232.443,434.903 234.526,463.616 236.609,491.865 238.692,519.653 240.775,546.98 242.858,573.849 244.941,600.261 247.023,626.218 249.106,651.721 \n  251.189,676.772 253.272,701.373 255.355,725.525 257.438,749.231 259.521,772.493 261.604,795.311 263.687,817.688 265.769,839.626 267.852,861.128 269.935,882.194 \n  272.018,902.827 274.101,923.029 276.184,942.802 278.267,962.148 280.35,981.07 282.432,999.57 284.515,1017.65 286.598,1035.31 288.681,1052.56 290.764,1069.39 \n  292.847,1085.81 294.93,1101.82 297.013,1117.43 299.096,1132.63 301.178,1147.44 303.261,1161.84 305.344,1175.85 307.427,1189.46 309.51,1202.69 311.593,1215.52 \n  313.676,1227.97 315.759,1240.04 317.841,1251.73 319.924,1263.04 322.007,1273.98 324.09,1284.54 326.173,1294.74 328.256,1304.57 330.339,1314.04 332.422,1323.15 \n  334.505,1331.9 336.587,1340.3 338.67,1348.35 340.753,1356.05 342.836,1363.41 344.919,1370.43 347.002,1377.11 349.085,1383.46 351.168,1389.47 353.25,1395.16 \n  355.333,1400.52 357.416,1405.57 359.499,1410.29 361.582,1414.71 363.665,1418.81 365.748,1422.6 367.831,1426.09 369.914,1429.29 371.996,1432.18 374.079,1434.78 \n  376.162,1437.1 378.245,1439.13 380.328,1440.88 382.411,1442.35 384.494,1443.55 386.577,1444.48 388.66,1445.14 390.742,1445.54 392.825,1445.68 394.908,1445.57 \n  396.991,1445.21 399.074,1444.6 401.157,1443.75 403.24,1442.67 405.323,1441.35 407.405,1439.8 409.488,1438.02 411.571,1436.02 413.654,1433.81 415.737,1431.38 \n  417.82,1428.74 419.903,1425.9 421.986,1422.86 424.069,1419.62 426.151,1416.2 428.234,1412.58 430.317,1408.78 432.4,1404.8 434.483,1400.65 436.566,1396.33 \n  438.649,1391.85 440.732,1387.2 442.814,1382.4 444.897,1377.45 446.98,1372.34 449.063,1367.1 451.146,1361.72 453.229,1356.2 455.312,1350.56 457.395,1344.79 \n  459.478,1338.9 461.56,1332.9 463.643,1326.79 465.726,1320.57 467.809,1314.25 469.892,1307.83 471.975,1301.32 474.058,1294.72 476.141,1288.05 478.223,1281.29 \n  480.306,1274.46 482.389,1267.56 484.472,1260.6 486.555,1253.57 488.638,1246.5 490.721,1239.37 492.804,1232.2 494.887,1224.98 496.969,1217.74 499.052,1210.46 \n  501.135,1203.15 503.218,1195.82 505.301,1188.47 507.384,1181.11 509.467,1173.75 511.55,1166.37 513.633,1159 515.715,1151.64 517.798,1144.28 519.881,1136.94 \n  521.964,1129.62 524.047,1122.32 526.13,1115.05 528.213,1107.81 530.296,1100.61 532.378,1093.45 534.461,1086.33 536.544,1079.26 538.627,1072.25 540.71,1065.3 \n  542.793,1058.4 544.876,1051.58 546.959,1044.82 549.042,1038.14 551.124,1031.54 553.207,1025.02 555.29,1018.59 557.373,1012.25 559.456,1006 561.539,999.851 \n  563.622,993.804 565.705,987.863 567.787,982.032 569.87,976.313 571.953,970.711 574.036,965.229 576.119,959.871 578.202,954.64 580.285,949.539 582.368,944.571 \n  584.451,939.74 586.533,935.049 588.616,930.5 590.699,926.097 592.782,921.843 594.865,917.74 596.948,913.791 599.031,909.999 601.114,906.366 603.196,902.894 \n  605.279,899.587 607.362,896.446 609.445,893.474 611.528,890.673 613.611,888.044 615.694,885.59 617.777,883.312 619.86,881.212 621.942,879.293 624.025,877.554 \n  626.108,875.999 628.191,874.627 630.274,873.441 632.357,872.44 634.44,871.628 636.523,871.003 638.605,870.567 640.688,870.321 642.771,870.264 644.854,870.398 \n  646.937,870.723 649.02,871.238 651.103,871.944 653.186,872.841 655.269,873.928 657.351,875.205 659.434,876.672 661.517,878.328 663.6,880.171 665.683,882.202 \n  667.766,884.419 669.849,886.821 671.932,889.407 674.015,892.174 676.097,895.122 678.18,898.249 680.263,901.553 682.346,905.031 684.429,908.682 686.512,912.504 \n  688.595,916.493 690.678,920.647 692.76,924.964 694.843,929.44 696.926,934.073 699.009,938.858 701.092,943.794 703.175,948.875 705.258,954.099 707.341,959.462 \n  709.424,964.96 711.506,970.589 713.589,976.344 715.672,982.221 717.755,988.215 719.838,994.322 721.921,1000.54 724.004,1006.86 726.087,1013.27 728.169,1019.78 \n  730.252,1026.38 732.335,1033.05 734.418,1039.81 736.501,1046.63 738.584,1053.52 740.667,1060.46 742.75,1067.46 744.833,1074.5 746.915,1081.59 748.998,1088.7 \n  751.081,1095.84 753.164,1103.01 755.247,1110.18 757.33,1117.36 759.413,1124.54 761.496,1131.71 763.578,1138.86 765.661,1145.99 767.744,1153.09 769.827,1160.15 \n  771.91,1167.17 773.993,1174.14 776.076,1181.04 778.159,1187.88 780.242,1194.64 782.324,1201.31 784.407,1207.9 786.49,1214.38 788.573,1220.76 790.656,1227.03 \n  792.739,1233.17 794.822,1239.18 796.905,1245.06 798.988,1250.79 801.07,1256.36 803.153,1261.78 805.236,1267.03 807.319,1272.1 809.402,1276.99 811.485,1281.69 \n  813.568,1286.19 815.651,1290.49 817.733,1294.58 819.816,1298.45 821.899,1302.09 823.982,1305.5 826.065,1308.68 828.148,1311.61 830.231,1314.3 832.314,1316.73 \n  834.397,1318.9 836.479,1320.8 838.562,1322.44 840.645,1323.8 842.728,1324.88 844.811,1325.68 846.894,1326.19 848.977,1326.41 851.06,1326.34 853.142,1325.97 \n  855.225,1325.3 857.308,1324.34 859.391,1323.07 861.474,1321.5 863.557,1319.63 865.64,1317.45 867.723,1314.97 869.806,1312.19 871.888,1309.11 873.971,1305.73 \n  876.054,1302.05 878.137,1298.07 880.22,1293.81 882.303,1289.25 884.386,1284.42 886.469,1279.3 888.551,1273.92 890.634,1268.26 892.717,1262.35 894.8,1256.18 \n  896.883,1249.77 898.966,1243.13 901.049,1236.26 903.132,1229.17 905.215,1221.87 907.297,1214.38 909.38,1206.71 911.463,1198.86 913.546,1190.86 915.629,1182.71 \n  917.712,1174.43 919.795,1166.04 921.878,1157.55 923.961,1148.97 926.043,1140.33 928.126,1131.63 930.209,1122.9 932.292,1114.16 934.375,1105.43 936.458,1096.71 \n  938.541,1088.04 940.624,1079.44 942.706,1070.91 944.789,1062.5 946.872,1054.21 948.955,1046.06 951.038,1038.09 953.121,1030.3 955.204,1022.73 957.287,1015.4 \n  959.37,1008.32 961.452,1001.52 963.535,995.02 965.618,988.843 967.701,983.011 969.784,977.544 971.867,972.462 973.95,967.787 976.033,963.538 978.115,959.733 \n  980.198,956.392 982.281,953.531 984.364,951.167 986.447,949.315 988.53,947.991 990.613,947.206 992.696,946.973 994.779,947.301 996.861,948.2 998.944,949.677 \n  1001.03,951.736 1003.11,954.381 1005.19,957.612 1007.28,961.431 1009.36,965.832 1011.44,970.811 1013.52,976.36 1015.61,982.468 1017.69,989.123 1019.77,996.308 \n  1021.86,1004.01 1023.94,1012.19 1026.02,1020.85 1028.1,1029.94 1030.19,1039.44 1032.27,1049.32 1034.35,1059.54 1036.44,1070.05 1038.52,1080.83 1040.6,1091.81 \n  1042.68,1102.96 1044.77,1114.22 1046.85,1125.54 1048.93,1136.87 1051.02,1148.13 1053.1,1159.28 1055.18,1170.25 1057.27,1180.98 1059.35,1191.39 1061.43,1201.43 \n  1063.51,1211.02 1065.6,1220.1 1067.68,1228.6 1069.76,1236.46 1071.85,1243.6 1073.93,1249.97 1076.01,1255.5 1078.09,1260.14 1080.18,1263.82 1082.26,1266.51 \n  1084.34,1268.16 1086.43,1268.72 1088.51,1268.17 1090.59,1266.48 1092.67,1263.63 1094.76,1259.63 1096.84,1254.47 1098.92,1248.17 1101.01,1240.75 1103.09,1232.25 \n  1105.17,1222.73 1107.25,1212.24 1109.34,1200.86 1111.42,1188.69 1113.5,1175.83 1115.59,1162.4 1117.67,1148.53 1119.75,1134.37 1121.83,1120.07 1123.92,1105.81 \n  1126,1091.76 1128.08,1078.11 1130.17,1065.05 1132.25,1052.78 1134.33,1041.49 1136.41,1031.38 1138.5,1022.63 1140.58,1015.43 1142.66,1009.93 1144.75,1006.28 \n  1146.83,1004.6 1148.91,1004.97 1150.99,1007.47 1153.08,1012.09 1155.16,1018.82 1157.24,1027.59 1159.33,1038.27 1161.41,1050.68 1163.49,1064.59 1165.57,1079.72 \n  1167.66,1095.71 1169.74,1112.19 1171.82,1128.72 1173.91,1144.82 1175.99,1160.02 1178.07,1173.81 1180.16,1185.7 1182.24,1195.23 1184.32,1202 1186.4,1205.68 \n  1188.49,1206.03 1190.57,1202.95 1192.65,1196.48 1194.74,1186.83 1196.82,1174.39 1198.9,1159.73 1200.98,1143.58 1203.07,1126.83 1205.15,1110.49 1207.23,1095.6 \n  1209.32,1083.2 1211.4,1074.23 1213.48,1069.42 1215.56,1069.2 1217.65,1073.61 1219.73,1082.23 1221.81,1094.16 1223.9,1108.03 1225.98,1122.13 1228.06,1134.57 \n  1230.14,1143.59 1232.23,1147.83 1234.31,1146.76 1236.39,1140.88 1238.48,1131.94 1240.56,1122.66 1242.64,1116.03 1244.72,1114 1246.81,1115.99 1248.89,1118.69 \n  1250.97,1118.69 1253.06,1116 1255.14,1114.01 1257.22,1116.02 1259.3,1122.63 1261.39,1131.91 1263.47,1140.85 1265.55,1146.74 1267.64,1147.84 1269.72,1143.61 \n  1271.8,1134.62 1273.88,1122.19 1275.97,1108.09 1278.05,1094.22 1280.13,1082.28 1282.22,1073.64 1284.3,1069.21 1286.38,1069.41 1288.47,1074.2 1290.55,1083.14 \n  1292.63,1095.52 1294.71,1110.4 1296.8,1126.74 1298.88,1143.49 1300.96,1159.64 1303.05,1174.32 1305.13,1186.77 1307.21,1196.43 1309.29,1202.92 1311.38,1206.02 \n  1313.46,1205.69 1315.54,1202.04 1317.63,1195.28 1319.71,1185.76 1321.79,1173.88 1323.87,1160.1 1325.96,1144.91 1328.04,1128.81 1330.12,1112.28 1332.21,1095.8 \n  1334.29,1079.79 1336.37,1064.66 1338.45,1050.74 1340.54,1038.32 1342.62,1027.62 1344.7,1018.84 1346.79,1012.1 1348.87,1007.46 1350.95,1004.96 1353.03,1004.57 \n  1355.12,1006.25 1357.2,1009.89 1359.28,1015.38 1361.37,1022.58 1363.45,1031.32 1365.53,1041.43 1367.61,1052.72 1369.7,1064.99 1371.78,1078.05 1373.86,1091.71 \n  1375.95,1105.76 1378.03,1120.03 1380.11,1134.33 1382.19,1148.5 1384.28,1162.37 1386.36,1175.81 1388.44,1188.68 1390.53,1200.85 1392.61,1212.23 1394.69,1222.73 \n  1396.77,1232.26 1398.86,1240.76 1400.94,1248.18 1403.02,1254.49 1405.11,1259.65 1407.19,1263.66 1409.27,1266.5 1411.36,1268.19 1413.44,1268.74 1415.52,1268.18 \n  1417.6,1266.54 1419.69,1263.85 1421.77,1260.16 1423.85,1255.52 1425.94,1249.99 1428.02,1243.62 1430.1,1236.48 1432.18,1228.62 1434.27,1220.12 1436.35,1211.03 \n  1438.43,1201.44 1440.52,1191.4 1442.6,1180.98 1444.68,1170.25 1446.76,1159.28 1448.85,1148.13 1450.93,1136.86 1453.01,1125.54 1455.1,1114.22 1457.18,1102.95 \n  1459.26,1091.8 1461.34,1080.82 1463.43,1070.04 1465.51,1059.53 1467.59,1049.31 1469.68,1039.43 1471.76,1029.93 1473.84,1020.84 1475.92,1012.18 1478.01,1004 \n  1480.09,996.298 1482.17,989.113 1484.26,982.459 1486.34,976.352 1488.42,970.803 1490.5,965.825 1492.59,961.425 1494.67,957.607 1496.75,954.376 1498.84,951.732 \n  1500.92,949.674 1503,948.198 1505.08,947.3 1507.17,946.972 1509.25,947.206 1511.33,947.992 1513.42,949.317 1515.5,951.169 1517.58,953.533 1519.67,956.395 \n  1521.75,959.737 1523.83,963.542 1525.91,967.792 1528,972.467 1530.08,977.549 1532.16,983.017 1534.25,988.849 1536.33,995.026 1538.41,1001.52 1540.49,1008.32 \n  1542.58,1015.4 1544.66,1022.74 1546.74,1030.31 1548.83,1038.09 1550.91,1046.07 1552.99,1054.21 1555.07,1062.5 1557.16,1070.92 1559.24,1079.44 1561.32,1088.05 \n  1563.41,1096.72 1565.49,1105.43 1567.57,1114.17 1569.65,1122.91 1571.74,1131.63 1573.82,1140.33 1575.9,1148.97 1577.99,1157.55 1580.07,1166.04 1582.15,1174.44 \n  1584.23,1182.71 1586.32,1190.86 1588.4,1198.86 1590.48,1206.71 1592.57,1214.38 1594.65,1221.87 1596.73,1229.17 1598.81,1236.25 1600.9,1243.13 1602.98,1249.77 \n  1605.06,1256.18 1607.15,1262.34 1609.23,1268.26 1611.31,1273.91 1613.39,1279.3 1615.48,1284.41 1617.56,1289.25 1619.64,1293.8 1621.73,1298.06 1623.81,1302.04 \n  1625.89,1305.72 1627.98,1309.1 1630.06,1312.18 1632.14,1314.96 1634.22,1317.44 1636.31,1319.62 1638.39,1321.49 1640.47,1323.06 1642.56,1324.33 1644.64,1325.29 \n  1646.72,1325.96 1648.8,1326.33 1650.89,1326.4 1652.97,1326.18 1655.05,1325.67 1657.14,1324.87 1659.22,1323.79 1661.3,1322.43 1663.38,1320.79 1665.47,1318.89 \n  1667.55,1316.72 1669.63,1314.29 1671.72,1311.6 1673.8,1308.67 1675.88,1305.49 1677.96,1302.08 1680.05,1298.44 1682.13,1294.57 1684.21,1290.48 1686.3,1286.18 \n  1688.38,1281.68 1690.46,1276.98 1692.54,1272.09 1694.63,1267.02 1696.71,1261.78 1698.79,1256.36 1700.88,1250.78 1702.96,1245.06 1705.04,1239.18 1707.12,1233.17 \n  1709.21,1227.03 1711.29,1220.76 1713.37,1214.38 1715.46,1207.9 1717.54,1201.31 1719.62,1194.64 1721.7,1187.88 1723.79,1181.05 1725.87,1174.14 1727.95,1167.18 \n  1730.04,1160.16 1732.12,1153.1 1734.2,1146 1736.28,1138.87 1738.37,1131.72 1740.45,1124.55 1742.53,1117.37 1744.62,1110.19 1746.7,1103.02 1748.78,1095.86 \n  1750.87,1088.72 1752.95,1081.6 1755.03,1074.52 1757.11,1067.48 1759.2,1060.48 1761.28,1053.54 1763.36,1046.65 1765.45,1039.83 1767.53,1033.07 1769.61,1026.4 \n  1771.69,1019.8 1773.78,1013.3 1775.86,1006.88 1777.94,1000.56 1780.03,994.347 1782.11,988.241 1784.19,982.247 1786.27,976.37 1788.36,970.615 1790.44,964.987 \n  1792.52,959.489 1794.61,954.126 1796.69,948.902 1798.77,943.82 1800.85,938.885 1802.94,934.099 1805.02,929.467 1807.1,924.99 1809.19,920.673 1811.27,916.519 \n  1813.35,912.529 1815.43,908.707 1817.52,905.056 1819.6,901.577 1821.68,898.273 1823.77,895.145 1825.85,892.196 1827.93,889.428 1830.01,886.842 1832.1,884.439 \n  1834.18,882.221 1836.26,880.19 1838.35,878.345 1840.43,876.689 1842.51,875.221 1844.59,873.943 1846.68,872.854 1848.76,871.957 1850.84,871.249 1852.93,870.733 \n  1855.01,870.407 1857.09,870.272 1859.18,870.327 1861.26,870.572 1863.34,871.007 1865.42,871.63 1867.51,872.442 1869.59,873.441 1871.67,874.626 1873.76,875.996 \n  1875.84,877.55 1877.92,879.288 1880,881.206 1882.09,883.304 1884.17,885.581 1886.25,888.033 1888.34,890.661 1890.42,893.461 1892.5,896.432 1894.58,899.572 \n  1896.67,902.878 1898.75,906.348 1900.83,909.979 1902.92,913.77 1905,917.718 1907.08,921.82 1909.16,926.073 1911.25,930.475 1913.33,935.023 1915.41,939.713 \n  1917.5,944.543 1919.58,949.51 1921.66,954.61 1923.74,959.841 1925.83,965.198 1927.91,970.679 1929.99,976.28 1932.08,981.998 1934.16,987.829 1936.24,993.769 \n  1938.32,999.815 1940.41,1005.96 1942.49,1012.21 1944.57,1018.55 1946.66,1024.98 1948.74,1031.5 1950.82,1038.1 1952.9,1044.78 1954.99,1051.54 1957.07,1058.37 \n  1959.15,1065.26 1961.24,1072.21 1963.32,1079.23 1965.4,1086.29 1967.48,1093.41 1969.57,1100.57 1971.65,1107.77 1973.73,1115.01 1975.82,1122.28 1977.9,1129.58 \n  1979.98,1136.91 1982.07,1144.25 1984.15,1151.6 1986.23,1158.97 1988.31,1166.34 1990.4,1173.71 1992.48,1181.08 1994.56,1188.44 1996.65,1195.79 1998.73,1203.12 \n  2000.81,1210.43 2002.89,1217.71 2004.98,1224.96 2007.06,1232.17 2009.14,1239.35 2011.23,1246.47 2013.31,1253.55 2015.39,1260.58 2017.47,1267.54 2019.56,1274.44 \n  2021.64,1281.27 2023.72,1288.03 2025.81,1294.71 2027.89,1301.31 2029.97,1307.82 2032.05,1314.24 2034.14,1320.56 2036.22,1326.78 2038.3,1332.9 2040.39,1338.9 \n  2042.47,1344.79 2044.55,1350.56 2046.63,1356.2 2048.72,1361.72 2050.8,1367.1 2052.88,1372.35 2054.97,1377.45 2057.05,1382.41 2059.13,1387.21 2061.21,1391.86 \n  2063.3,1396.34 2065.38,1400.67 2067.46,1404.82 2069.55,1408.8 2071.63,1412.6 2073.71,1416.21 2075.79,1419.64 2077.88,1422.88 2079.96,1425.92 2082.04,1428.76 \n  2084.13,1431.4 2086.21,1433.83 2088.29,1436.05 2090.38,1438.05 2092.46,1439.82 2094.54,1441.37 2096.62,1442.7 2098.71,1443.78 2100.79,1444.63 2102.87,1445.24 \n  2104.96,1445.6 2107.04,1445.72 2109.12,1445.57 2111.2,1445.17 2113.29,1444.51 2115.37,1443.58 2117.45,1442.38 2119.54,1440.91 2121.62,1439.16 2123.7,1437.13 \n  2125.78,1434.82 2127.87,1432.22 2129.95,1429.32 2132.03,1426.13 2134.12,1422.64 2136.2,1418.84 2138.28,1414.74 2140.36,1410.33 2142.45,1405.6 2144.53,1400.56 \n  2146.61,1395.19 2148.7,1389.5 2150.78,1383.49 2152.86,1377.14 2154.94,1370.46 2157.03,1363.44 2159.11,1356.08 2161.19,1348.38 2163.28,1340.33 2165.36,1331.93 \n  2167.44,1323.17 2169.52,1314.06 2171.61,1304.59 2173.69,1294.76 2175.77,1284.56 2177.86,1274 2179.94,1263.06 2182.02,1251.75 2184.1,1240.06 2186.19,1227.99 \n  2188.27,1215.54 2190.35,1202.7 2192.44,1189.47 2194.52,1175.86 2196.6,1161.85 2198.69,1147.44 2200.77,1132.64 2202.85,1117.43 2204.93,1101.83 2207.02,1085.81 \n  2209.1,1069.39 2211.18,1052.56 2213.27,1035.31 2215.35,1017.65 2217.43,999.565 2219.51,981.064 2221.6,962.141 2223.68,942.793 2225.76,923.019 2227.85,902.816 \n  2229.93,882.182 2232.01,861.115 2234.09,839.612 2236.18,817.673 2238.26,795.295 2240.34,772.476 2242.43,749.214 2244.51,725.507 2246.59,701.354 2248.67,676.753 \n  2250.76,651.701 2252.84,626.197 2254.92,600.24 2257.01,573.828 2259.09,546.959 2261.17,519.631 2263.25,491.844 2265.34,463.595 2267.42,434.882 2269.5,405.705 \n  2271.59,376.062 2273.67,345.952 2275.75,315.372 2277.83,284.323 2279.92,252.802 2282,220.808 2284.08,188.339 2286.17,155.396 2288.25,121.976 2290.33,88.0775 \n  \n  \"/>\n<polyline clip-path=\"url(#clip902)\" style=\"stroke:#3da44d; stroke-linecap:round; stroke-linejoin:round; stroke-width:8; stroke-opacity:1; fill:none\" points=\"\n  209.532,1121.62 211.614,1121.62 213.697,1121.62 215.78,1121.63 217.863,1121.63 219.946,1121.63 222.029,1121.63 224.112,1121.63 226.195,1121.63 228.278,1121.64 \n  230.36,1121.64 232.443,1121.64 234.526,1121.64 236.609,1121.64 238.692,1121.64 240.775,1121.64 242.858,1121.64 244.941,1121.64 247.023,1121.64 249.106,1121.65 \n  251.189,1121.65 253.272,1121.65 255.355,1121.65 257.438,1121.65 259.521,1121.65 261.604,1121.65 263.687,1121.65 265.769,1121.65 267.852,1121.65 269.935,1121.65 \n  272.018,1121.65 274.101,1121.65 276.184,1121.65 278.267,1121.65 280.35,1121.65 282.432,1121.65 284.515,1121.65 286.598,1121.65 288.681,1121.65 290.764,1121.65 \n  292.847,1121.65 294.93,1121.65 297.013,1121.65 299.096,1121.65 301.178,1121.65 303.261,1121.65 305.344,1121.65 307.427,1121.65 309.51,1121.65 311.593,1121.65 \n  313.676,1121.65 315.759,1121.65 317.841,1121.65 319.924,1121.65 322.007,1121.65 324.09,1121.65 326.173,1121.65 328.256,1121.65 330.339,1121.66 332.422,1121.66 \n  334.505,1121.66 336.587,1121.66 338.67,1121.66 340.753,1121.66 342.836,1121.66 344.919,1121.66 347.002,1121.66 349.085,1121.66 351.168,1121.66 353.25,1121.66 \n  355.333,1121.65 357.416,1121.65 359.499,1121.65 361.582,1121.65 363.665,1121.65 365.748,1121.65 367.831,1121.65 369.914,1121.65 371.996,1121.65 374.079,1121.65 \n  376.162,1121.65 378.245,1121.65 380.328,1121.65 382.411,1121.65 384.494,1121.65 386.577,1121.65 388.66,1121.65 390.742,1121.65 392.825,1121.65 394.908,1121.65 \n  396.991,1121.65 399.074,1121.65 401.157,1121.65 403.24,1121.65 405.323,1121.65 407.405,1121.65 409.488,1121.65 411.571,1121.65 413.654,1121.65 415.737,1121.65 \n  417.82,1121.65 419.903,1121.65 421.986,1121.65 424.069,1121.65 426.151,1121.65 428.234,1121.65 430.317,1121.65 432.4,1121.65 434.483,1121.65 436.566,1121.65 \n  438.649,1121.65 440.732,1121.65 442.814,1121.65 444.897,1121.65 446.98,1121.65 449.063,1121.65 451.146,1121.65 453.229,1121.64 455.312,1121.64 457.395,1121.64 \n  459.478,1121.64 461.56,1121.64 463.643,1121.64 465.726,1121.64 467.809,1121.64 469.892,1121.64 471.975,1121.64 474.058,1121.64 476.141,1121.64 478.223,1121.64 \n  480.306,1121.64 482.389,1121.64 484.472,1121.64 486.555,1121.64 488.638,1121.64 490.721,1121.64 492.804,1121.64 494.887,1121.64 496.969,1121.64 499.052,1121.64 \n  501.135,1121.64 503.218,1121.64 505.301,1121.64 507.384,1121.64 509.467,1121.64 511.55,1121.64 513.633,1121.64 515.715,1121.64 517.798,1121.64 519.881,1121.64 \n  521.964,1121.64 524.047,1121.64 526.13,1121.64 528.213,1121.64 530.296,1121.64 532.378,1121.64 534.461,1121.64 536.544,1121.64 538.627,1121.64 540.71,1121.64 \n  542.793,1121.64 544.876,1121.64 546.959,1121.64 549.042,1121.64 551.124,1121.64 553.207,1121.64 555.29,1121.64 557.373,1121.64 559.456,1121.64 561.539,1121.64 \n  563.622,1121.64 565.705,1121.64 567.787,1121.64 569.87,1121.64 571.953,1121.64 574.036,1121.65 576.119,1121.65 578.202,1121.65 580.285,1121.65 582.368,1121.65 \n  584.451,1121.65 586.533,1121.65 588.616,1121.65 590.699,1121.65 592.782,1121.65 594.865,1121.65 596.948,1121.65 599.031,1121.65 601.114,1121.65 603.196,1121.65 \n  605.279,1121.65 607.362,1121.65 609.445,1121.65 611.528,1121.65 613.611,1121.65 615.694,1121.65 617.777,1121.65 619.86,1121.65 621.942,1121.65 624.025,1121.65 \n  626.108,1121.65 628.191,1121.65 630.274,1121.65 632.357,1121.65 634.44,1121.65 636.523,1121.65 638.605,1121.65 640.688,1121.65 642.771,1121.65 644.854,1121.65 \n  646.937,1121.65 649.02,1121.65 651.103,1121.65 653.186,1121.65 655.269,1121.65 657.351,1121.65 659.434,1121.65 661.517,1121.65 663.6,1121.65 665.683,1121.65 \n  667.766,1121.65 669.849,1121.65 671.932,1121.65 674.015,1121.65 676.097,1121.65 678.18,1121.65 680.263,1121.65 682.346,1121.65 684.429,1121.65 686.512,1121.65 \n  688.595,1121.65 690.678,1121.65 692.76,1121.65 694.843,1121.65 696.926,1121.65 699.009,1121.65 701.092,1121.65 703.175,1121.65 705.258,1121.65 707.341,1121.65 \n  709.424,1121.64 711.506,1121.64 713.589,1121.64 715.672,1121.64 717.755,1121.64 719.838,1121.64 721.921,1121.64 724.004,1121.64 726.087,1121.64 728.169,1121.64 \n  730.252,1121.64 732.335,1121.64 734.418,1121.64 736.501,1121.64 738.584,1121.64 740.667,1121.64 742.75,1121.64 744.833,1121.64 746.915,1121.64 748.998,1121.64 \n  751.081,1121.64 753.164,1121.64 755.247,1121.64 757.33,1121.64 759.413,1121.64 761.496,1121.64 763.578,1121.64 765.661,1121.64 767.744,1121.64 769.827,1121.64 \n  771.91,1121.64 773.993,1121.64 776.076,1121.64 778.159,1121.64 780.242,1121.64 782.324,1121.64 784.407,1121.64 786.49,1121.64 788.573,1121.64 790.656,1121.64 \n  792.739,1121.64 794.822,1121.64 796.905,1121.64 798.988,1121.64 801.07,1121.64 803.153,1121.64 805.236,1121.64 807.319,1121.64 809.402,1121.64 811.485,1121.65 \n  813.568,1121.65 815.651,1121.65 817.733,1121.65 819.816,1121.65 821.899,1121.65 823.982,1121.65 826.065,1121.65 828.148,1121.65 830.231,1121.65 832.314,1121.65 \n  834.397,1121.65 836.479,1121.65 838.562,1121.65 840.645,1121.65 842.728,1121.65 844.811,1121.65 846.894,1121.65 848.977,1121.65 851.06,1121.65 853.142,1121.65 \n  855.225,1121.65 857.308,1121.65 859.391,1121.65 861.474,1121.65 863.557,1121.65 865.64,1121.65 867.723,1121.65 869.806,1121.65 871.888,1121.65 873.971,1121.65 \n  876.054,1121.65 878.137,1121.65 880.22,1121.65 882.303,1121.65 884.386,1121.65 886.469,1121.65 888.551,1121.65 890.634,1121.65 892.717,1121.65 894.8,1121.65 \n  896.883,1121.65 898.966,1121.65 901.049,1121.65 903.132,1121.65 905.215,1121.65 907.297,1121.65 909.38,1121.65 911.463,1121.65 913.546,1121.65 915.629,1121.65 \n  917.712,1121.65 919.795,1121.65 921.878,1121.65 923.961,1121.65 926.043,1121.65 928.126,1121.65 930.209,1121.65 932.292,1121.65 934.375,1121.65 936.458,1121.65 \n  938.541,1121.65 940.624,1121.65 942.706,1121.65 944.789,1121.65 946.872,1121.66 948.955,1121.66 951.038,1121.66 953.121,1121.66 955.204,1121.66 957.287,1121.66 \n  959.37,1121.66 961.452,1121.66 963.535,1121.66 965.618,1121.66 967.701,1121.66 969.784,1121.66 971.867,1121.66 973.95,1121.66 976.033,1121.66 978.115,1121.66 \n  980.198,1121.66 982.281,1121.66 984.364,1121.66 986.447,1121.66 988.53,1121.66 990.613,1121.66 992.696,1121.66 994.779,1121.66 996.861,1121.65 998.944,1121.65 \n  1001.03,1121.65 1003.11,1121.65 1005.19,1121.65 1007.28,1121.65 1009.36,1121.65 1011.44,1121.65 1013.52,1121.64 1015.61,1121.64 1017.69,1121.64 1019.77,1121.64 \n  1021.86,1121.64 1023.94,1121.64 1026.02,1121.64 1028.1,1121.63 1030.19,1121.63 1032.27,1121.63 1034.35,1121.63 1036.44,1121.63 1038.52,1121.63 1040.6,1121.63 \n  1042.68,1121.63 1044.77,1121.62 1046.85,1121.62 1048.93,1121.62 1051.02,1121.62 1053.1,1121.62 1055.18,1121.62 1057.27,1121.62 1059.35,1121.62 1061.43,1121.63 \n  1063.51,1121.63 1065.6,1121.63 1067.68,1121.63 1069.76,1121.63 1071.85,1121.63 1073.93,1121.63 1076.01,1121.64 1078.09,1121.64 1080.18,1121.64 1082.26,1121.64 \n  1084.34,1121.64 1086.43,1121.65 1088.51,1121.65 1090.59,1121.65 1092.67,1121.65 1094.76,1121.65 1096.84,1121.66 1098.92,1121.66 1101.01,1121.66 1103.09,1121.66 \n  1105.17,1121.66 1107.25,1121.66 1109.34,1121.66 1111.42,1121.66 1113.5,1121.66 1115.59,1121.66 1117.67,1121.66 1119.75,1121.66 1121.83,1121.66 1123.92,1121.66 \n  1126,1121.66 1128.08,1121.66 1130.17,1121.66 1132.25,1121.66 1134.33,1121.66 1136.41,1121.65 1138.5,1121.65 1140.58,1121.65 1142.66,1121.65 1144.75,1121.65 \n  1146.83,1121.65 1148.91,1121.65 1150.99,1121.65 1153.08,1121.65 1155.16,1121.65 1157.24,1121.65 1159.33,1121.65 1161.41,1121.65 1163.49,1121.65 1165.57,1121.65 \n  1167.66,1121.65 1169.74,1121.65 1171.82,1121.65 1173.91,1121.65 1175.99,1121.64 1178.07,1121.64 1180.16,1121.64 1182.24,1121.64 1184.32,1121.64 1186.4,1121.64 \n  1188.49,1121.64 1190.57,1121.63 1192.65,1121.63 1194.74,1121.64 1196.82,1121.64 1198.9,1121.64 1200.98,1121.64 1203.07,1121.65 1205.15,1121.65 1207.23,1121.65 \n  1209.32,1121.66 1211.4,1121.66 1213.48,1121.66 1215.56,1121.66 1217.65,1121.66 1219.73,1121.66 1221.81,1121.65 1223.9,1121.64 1225.98,1121.64 1228.06,1121.63 \n  1230.14,1121.63 1232.23,1121.63 1234.31,1121.64 1236.39,1121.65 1238.48,1121.66 1240.56,1121.67 1242.64,1121.67 1244.72,1121.66 1246.81,1121.64 1248.89,1121.63 \n  1250.97,1121.62 1253.06,1121.63 1255.14,1121.65 1257.22,1121.67 1259.3,1121.68 1261.39,1121.67 1263.47,1121.66 1265.55,1121.65 1267.64,1121.63 1269.72,1121.62 \n  1271.8,1121.62 1273.88,1121.62 1275.97,1121.62 1278.05,1121.63 1280.13,1121.64 1282.22,1121.65 1284.3,1121.66 1286.38,1121.66 1288.47,1121.67 1290.55,1121.67 \n  1292.63,1121.67 1294.71,1121.66 1296.8,1121.66 1298.88,1121.66 1300.96,1121.65 1303.05,1121.65 1305.13,1121.65 1307.21,1121.64 1309.29,1121.64 1311.38,1121.64 \n  1313.46,1121.64 1315.54,1121.65 1317.63,1121.65 1319.71,1121.65 1321.79,1121.65 1323.87,1121.65 1325.96,1121.65 1328.04,1121.65 1330.12,1121.65 1332.21,1121.65 \n  1334.29,1121.65 1336.37,1121.65 1338.45,1121.65 1340.54,1121.65 1342.62,1121.64 1344.7,1121.64 1346.79,1121.64 1348.87,1121.64 1350.95,1121.64 1353.03,1121.64 \n  1355.12,1121.63 1357.2,1121.63 1359.28,1121.63 1361.37,1121.63 1363.45,1121.64 1365.53,1121.64 1367.61,1121.64 1369.7,1121.64 1371.78,1121.64 1373.86,1121.64 \n  1375.95,1121.64 1378.03,1121.64 1380.11,1121.65 1382.19,1121.65 1384.28,1121.65 1386.36,1121.65 1388.44,1121.65 1390.53,1121.65 1392.61,1121.65 1394.69,1121.65 \n  1396.77,1121.65 1398.86,1121.65 1400.94,1121.65 1403.02,1121.65 1405.11,1121.65 1407.19,1121.65 1409.27,1121.65 1411.36,1121.65 1413.44,1121.65 1415.52,1121.65 \n  1417.6,1121.65 1419.69,1121.65 1421.77,1121.65 1423.85,1121.65 1425.94,1121.65 1428.02,1121.65 1430.1,1121.65 1432.18,1121.65 1434.27,1121.65 1436.35,1121.65 \n  1438.43,1121.65 1440.52,1121.65 1442.6,1121.65 1444.68,1121.65 1446.76,1121.65 1448.85,1121.65 1450.93,1121.65 1453.01,1121.65 1455.1,1121.65 1457.18,1121.65 \n  1459.26,1121.65 1461.34,1121.65 1463.43,1121.65 1465.51,1121.65 1467.59,1121.65 1469.68,1121.65 1471.76,1121.65 1473.84,1121.65 1475.92,1121.65 1478.01,1121.65 \n  1480.09,1121.65 1482.17,1121.65 1484.26,1121.65 1486.34,1121.65 1488.42,1121.65 1490.5,1121.65 1492.59,1121.64 1494.67,1121.64 1496.75,1121.64 1498.84,1121.64 \n  1500.92,1121.64 1503,1121.64 1505.08,1121.64 1507.17,1121.64 1509.25,1121.64 1511.33,1121.64 1513.42,1121.64 1515.5,1121.64 1517.58,1121.64 1519.67,1121.64 \n  1521.75,1121.64 1523.83,1121.64 1525.91,1121.64 1528,1121.64 1530.08,1121.65 1532.16,1121.65 1534.25,1121.65 1536.33,1121.65 1538.41,1121.65 1540.49,1121.65 \n  1542.58,1121.65 1544.66,1121.65 1546.74,1121.65 1548.83,1121.65 1550.91,1121.65 1552.99,1121.65 1555.07,1121.65 1557.16,1121.65 1559.24,1121.65 1561.32,1121.65 \n  1563.41,1121.65 1565.49,1121.65 1567.57,1121.65 1569.65,1121.65 1571.74,1121.65 1573.82,1121.65 1575.9,1121.65 1577.99,1121.65 1580.07,1121.65 1582.15,1121.65 \n  1584.23,1121.65 1586.32,1121.65 1588.4,1121.65 1590.48,1121.65 1592.57,1121.65 1594.65,1121.65 1596.73,1121.65 1598.81,1121.65 1600.9,1121.65 1602.98,1121.65 \n  1605.06,1121.65 1607.15,1121.65 1609.23,1121.65 1611.31,1121.65 1613.39,1121.65 1615.48,1121.65 1617.56,1121.65 1619.64,1121.65 1621.73,1121.65 1623.81,1121.65 \n  1625.89,1121.65 1627.98,1121.65 1630.06,1121.65 1632.14,1121.65 1634.22,1121.65 1636.31,1121.65 1638.39,1121.65 1640.47,1121.65 1642.56,1121.65 1644.64,1121.65 \n  1646.72,1121.65 1648.8,1121.65 1650.89,1121.65 1652.97,1121.65 1655.05,1121.65 1657.14,1121.65 1659.22,1121.65 1661.3,1121.65 1663.38,1121.65 1665.47,1121.65 \n  1667.55,1121.64 1669.63,1121.64 1671.72,1121.64 1673.8,1121.64 1675.88,1121.64 1677.96,1121.64 1680.05,1121.64 1682.13,1121.64 1684.21,1121.64 1686.3,1121.64 \n  1688.38,1121.64 1690.46,1121.64 1692.54,1121.64 1694.63,1121.64 1696.71,1121.64 1698.79,1121.64 1700.88,1121.64 1702.96,1121.64 1705.04,1121.64 1707.12,1121.64 \n  1709.21,1121.64 1711.29,1121.64 1713.37,1121.64 1715.46,1121.64 1717.54,1121.64 1719.62,1121.64 1721.7,1121.64 1723.79,1121.64 1725.87,1121.64 1727.95,1121.64 \n  1730.04,1121.64 1732.12,1121.64 1734.2,1121.64 1736.28,1121.64 1738.37,1121.64 1740.45,1121.64 1742.53,1121.64 1744.62,1121.64 1746.7,1121.64 1748.78,1121.64 \n  1750.87,1121.64 1752.95,1121.64 1755.03,1121.64 1757.11,1121.64 1759.2,1121.64 1761.28,1121.64 1763.36,1121.64 1765.45,1121.64 1767.53,1121.64 1769.61,1121.64 \n  1771.69,1121.64 1773.78,1121.64 1775.86,1121.64 1777.94,1121.64 1780.03,1121.64 1782.11,1121.64 1784.19,1121.64 1786.27,1121.64 1788.36,1121.64 1790.44,1121.64 \n  1792.52,1121.64 1794.61,1121.64 1796.69,1121.64 1798.77,1121.64 1800.85,1121.64 1802.94,1121.64 1805.02,1121.64 1807.1,1121.64 1809.19,1121.64 1811.27,1121.64 \n  1813.35,1121.64 1815.43,1121.64 1817.52,1121.64 1819.6,1121.64 1821.68,1121.64 1823.77,1121.64 1825.85,1121.64 1827.93,1121.64 1830.01,1121.64 1832.1,1121.64 \n  1834.18,1121.64 1836.26,1121.64 1838.35,1121.64 1840.43,1121.64 1842.51,1121.64 1844.59,1121.64 1846.68,1121.64 1848.76,1121.64 1850.84,1121.64 1852.93,1121.64 \n  1855.01,1121.64 1857.09,1121.64 1859.18,1121.64 1861.26,1121.64 1863.34,1121.64 1865.42,1121.64 1867.51,1121.64 1869.59,1121.64 1871.67,1121.64 1873.76,1121.64 \n  1875.84,1121.64 1877.92,1121.64 1880,1121.64 1882.09,1121.64 1884.17,1121.64 1886.25,1121.64 1888.34,1121.64 1890.42,1121.64 1892.5,1121.64 1894.58,1121.64 \n  1896.67,1121.64 1898.75,1121.64 1900.83,1121.64 1902.92,1121.64 1905,1121.64 1907.08,1121.64 1909.16,1121.65 1911.25,1121.65 1913.33,1121.65 1915.41,1121.65 \n  1917.5,1121.65 1919.58,1121.65 1921.66,1121.65 1923.74,1121.65 1925.83,1121.65 1927.91,1121.65 1929.99,1121.65 1932.08,1121.65 1934.16,1121.65 1936.24,1121.65 \n  1938.32,1121.65 1940.41,1121.65 1942.49,1121.65 1944.57,1121.65 1946.66,1121.65 1948.74,1121.65 1950.82,1121.65 1952.9,1121.65 1954.99,1121.65 1957.07,1121.65 \n  1959.15,1121.65 1961.24,1121.65 1963.32,1121.65 1965.4,1121.65 1967.48,1121.65 1969.57,1121.65 1971.65,1121.65 1973.73,1121.65 1975.82,1121.65 1977.9,1121.65 \n  1979.98,1121.65 1982.07,1121.65 1984.15,1121.65 1986.23,1121.65 1988.31,1121.65 1990.4,1121.65 1992.48,1121.65 1994.56,1121.65 1996.65,1121.65 1998.73,1121.65 \n  2000.81,1121.65 2002.89,1121.65 2004.98,1121.65 2007.06,1121.65 2009.14,1121.65 2011.23,1121.65 2013.31,1121.65 2015.39,1121.65 2017.47,1121.65 2019.56,1121.65 \n  2021.64,1121.65 2023.72,1121.65 2025.81,1121.65 2027.89,1121.65 2029.97,1121.65 2032.05,1121.65 2034.14,1121.65 2036.22,1121.65 2038.3,1121.65 2040.39,1121.65 \n  2042.47,1121.65 2044.55,1121.65 2046.63,1121.65 2048.72,1121.65 2050.8,1121.65 2052.88,1121.65 2054.97,1121.65 2057.05,1121.65 2059.13,1121.65 2061.21,1121.65 \n  2063.3,1121.65 2065.38,1121.65 2067.46,1121.65 2069.55,1121.65 2071.63,1121.65 2073.71,1121.65 2075.79,1121.65 2077.88,1121.65 2079.96,1121.65 2082.04,1121.65 \n  2084.13,1121.65 2086.21,1121.65 2088.29,1121.65 2090.38,1121.65 2092.46,1121.65 2094.54,1121.65 2096.62,1121.65 2098.71,1121.65 2100.79,1121.65 2102.87,1121.65 \n  2104.96,1121.65 2107.04,1121.65 2109.12,1121.65 2111.2,1121.65 2113.29,1121.65 2115.37,1121.65 2117.45,1121.65 2119.54,1121.65 2121.62,1121.65 2123.7,1121.65 \n  2125.78,1121.65 2127.87,1121.65 2129.95,1121.65 2132.03,1121.65 2134.12,1121.65 2136.2,1121.65 2138.28,1121.65 2140.36,1121.65 2142.45,1121.65 2144.53,1121.65 \n  2146.61,1121.65 2148.7,1121.65 2150.78,1121.65 2152.86,1121.65 2154.94,1121.65 2157.03,1121.65 2159.11,1121.65 2161.19,1121.65 2163.28,1121.65 2165.36,1121.65 \n  2167.44,1121.65 2169.52,1121.65 2171.61,1121.65 2173.69,1121.65 2175.77,1121.65 2177.86,1121.65 2179.94,1121.65 2182.02,1121.65 2184.1,1121.65 2186.19,1121.65 \n  2188.27,1121.64 2190.35,1121.64 2192.44,1121.64 2194.52,1121.64 2196.6,1121.64 2198.69,1121.64 2200.77,1121.64 2202.85,1121.64 2204.93,1121.64 2207.02,1121.64 \n  2209.1,1121.64 2211.18,1121.64 2213.27,1121.64 2215.35,1121.64 2217.43,1121.64 2219.51,1121.64 2221.6,1121.64 2223.68,1121.64 2225.76,1121.64 2227.85,1121.64 \n  2229.93,1121.64 2232.01,1121.64 2234.09,1121.64 2236.18,1121.64 2238.26,1121.64 2240.34,1121.64 2242.43,1121.64 2244.51,1121.64 2246.59,1121.64 2248.67,1121.64 \n  2250.76,1121.64 2252.84,1121.64 2254.92,1121.64 2257.01,1121.64 2259.09,1121.64 2261.17,1121.64 2263.25,1121.64 2265.34,1121.64 2267.42,1121.64 2269.5,1121.64 \n  2271.59,1121.64 2273.67,1121.64 2275.75,1121.64 2277.83,1121.65 2279.92,1121.65 2282,1121.65 2284.08,1121.65 2286.17,1121.65 2288.25,1121.65 2290.33,1121.65 \n  \n  \"/>\n<polyline clip-path=\"url(#clip902)\" style=\"stroke:#c271d2; stroke-linecap:round; stroke-linejoin:round; stroke-width:8; stroke-opacity:1; fill:none\" points=\"\n  209.532,1121.65 211.614,1121.65 213.697,1121.65 215.78,1121.65 217.863,1121.65 219.946,1121.65 222.029,1121.65 224.112,1121.65 226.195,1121.65 228.278,1121.65 \n  230.36,1121.65 232.443,1121.65 234.526,1121.65 236.609,1121.65 238.692,1121.65 240.775,1121.65 242.858,1121.65 244.941,1121.65 247.023,1121.65 249.106,1121.65 \n  251.189,1121.65 253.272,1121.65 255.355,1121.65 257.438,1121.65 259.521,1121.65 261.604,1121.65 263.687,1121.65 265.769,1121.65 267.852,1121.65 269.935,1121.65 \n  272.018,1121.65 274.101,1121.65 276.184,1121.65 278.267,1121.65 280.35,1121.65 282.432,1121.65 284.515,1121.65 286.598,1121.65 288.681,1121.65 290.764,1121.65 \n  292.847,1121.65 294.93,1121.65 297.013,1121.65 299.096,1121.65 301.178,1121.65 303.261,1121.65 305.344,1121.65 307.427,1121.65 309.51,1121.65 311.593,1121.65 \n  313.676,1121.65 315.759,1121.64 317.841,1121.64 319.924,1121.64 322.007,1121.64 324.09,1121.64 326.173,1121.64 328.256,1121.64 330.339,1121.64 332.422,1121.64 \n  334.505,1121.64 336.587,1121.64 338.67,1121.64 340.753,1121.64 342.836,1121.64 344.919,1121.64 347.002,1121.64 349.085,1121.64 351.168,1121.64 353.25,1121.64 \n  355.333,1121.64 357.416,1121.64 359.499,1121.64 361.582,1121.64 363.665,1121.64 365.748,1121.64 367.831,1121.64 369.914,1121.64 371.996,1121.64 374.079,1121.64 \n  376.162,1121.64 378.245,1121.64 380.328,1121.64 382.411,1121.64 384.494,1121.64 386.577,1121.64 388.66,1121.64 390.742,1121.64 392.825,1121.64 394.908,1121.64 \n  396.991,1121.64 399.074,1121.64 401.157,1121.64 403.24,1121.64 405.323,1121.64 407.405,1121.64 409.488,1121.64 411.571,1121.64 413.654,1121.64 415.737,1121.64 \n  417.82,1121.64 419.903,1121.64 421.986,1121.64 424.069,1121.64 426.151,1121.64 428.234,1121.64 430.317,1121.64 432.4,1121.64 434.483,1121.64 436.566,1121.64 \n  438.649,1121.64 440.732,1121.64 442.814,1121.65 444.897,1121.65 446.98,1121.65 449.063,1121.65 451.146,1121.65 453.229,1121.65 455.312,1121.65 457.395,1121.65 \n  459.478,1121.65 461.56,1121.65 463.643,1121.65 465.726,1121.65 467.809,1121.65 469.892,1121.65 471.975,1121.65 474.058,1121.65 476.141,1121.65 478.223,1121.65 \n  480.306,1121.65 482.389,1121.65 484.472,1121.65 486.555,1121.65 488.638,1121.65 490.721,1121.65 492.804,1121.65 494.887,1121.65 496.969,1121.65 499.052,1121.65 \n  501.135,1121.65 503.218,1121.65 505.301,1121.65 507.384,1121.65 509.467,1121.65 511.55,1121.65 513.633,1121.65 515.715,1121.65 517.798,1121.65 519.881,1121.65 \n  521.964,1121.65 524.047,1121.65 526.13,1121.65 528.213,1121.65 530.296,1121.65 532.378,1121.65 534.461,1121.65 536.544,1121.65 538.627,1121.65 540.71,1121.65 \n  542.793,1121.65 544.876,1121.65 546.959,1121.65 549.042,1121.65 551.124,1121.65 553.207,1121.65 555.29,1121.65 557.373,1121.65 559.456,1121.65 561.539,1121.65 \n  563.622,1121.65 565.705,1121.65 567.787,1121.65 569.87,1121.65 571.953,1121.65 574.036,1121.65 576.119,1121.65 578.202,1121.65 580.285,1121.65 582.368,1121.65 \n  584.451,1121.65 586.533,1121.65 588.616,1121.65 590.699,1121.65 592.782,1121.65 594.865,1121.65 596.948,1121.65 599.031,1121.65 601.114,1121.65 603.196,1121.65 \n  605.279,1121.65 607.362,1121.65 609.445,1121.65 611.528,1121.65 613.611,1121.65 615.694,1121.65 617.777,1121.65 619.86,1121.65 621.942,1121.65 624.025,1121.65 \n  626.108,1121.65 628.191,1121.65 630.274,1121.64 632.357,1121.64 634.44,1121.64 636.523,1121.64 638.605,1121.64 640.688,1121.64 642.771,1121.64 644.854,1121.64 \n  646.937,1121.64 649.02,1121.64 651.103,1121.64 653.186,1121.64 655.269,1121.64 657.351,1121.64 659.434,1121.64 661.517,1121.64 663.6,1121.64 665.683,1121.64 \n  667.766,1121.64 669.849,1121.64 671.932,1121.64 674.015,1121.64 676.097,1121.64 678.18,1121.64 680.263,1121.64 682.346,1121.64 684.429,1121.64 686.512,1121.64 \n  688.595,1121.64 690.678,1121.64 692.76,1121.64 694.843,1121.64 696.926,1121.64 699.009,1121.64 701.092,1121.64 703.175,1121.64 705.258,1121.64 707.341,1121.64 \n  709.424,1121.64 711.506,1121.64 713.589,1121.64 715.672,1121.64 717.755,1121.64 719.838,1121.64 721.921,1121.64 724.004,1121.64 726.087,1121.64 728.169,1121.64 \n  730.252,1121.64 732.335,1121.64 734.418,1121.64 736.501,1121.65 738.584,1121.65 740.667,1121.65 742.75,1121.65 744.833,1121.65 746.915,1121.65 748.998,1121.65 \n  751.081,1121.65 753.164,1121.65 755.247,1121.65 757.33,1121.65 759.413,1121.65 761.496,1121.65 763.578,1121.65 765.661,1121.65 767.744,1121.65 769.827,1121.65 \n  771.91,1121.65 773.993,1121.65 776.076,1121.65 778.159,1121.65 780.242,1121.65 782.324,1121.65 784.407,1121.65 786.49,1121.65 788.573,1121.65 790.656,1121.65 \n  792.739,1121.65 794.822,1121.65 796.905,1121.65 798.988,1121.65 801.07,1121.65 803.153,1121.65 805.236,1121.65 807.319,1121.65 809.402,1121.65 811.485,1121.65 \n  813.568,1121.65 815.651,1121.65 817.733,1121.65 819.816,1121.65 821.899,1121.65 823.982,1121.65 826.065,1121.65 828.148,1121.65 830.231,1121.65 832.314,1121.65 \n  834.397,1121.65 836.479,1121.65 838.562,1121.65 840.645,1121.65 842.728,1121.65 844.811,1121.65 846.894,1121.65 848.977,1121.65 851.06,1121.65 853.142,1121.65 \n  855.225,1121.65 857.308,1121.65 859.391,1121.65 861.474,1121.65 863.557,1121.65 865.64,1121.65 867.723,1121.64 869.806,1121.64 871.888,1121.64 873.971,1121.64 \n  876.054,1121.64 878.137,1121.64 880.22,1121.64 882.303,1121.64 884.386,1121.64 886.469,1121.64 888.551,1121.64 890.634,1121.64 892.717,1121.64 894.8,1121.64 \n  896.883,1121.64 898.966,1121.64 901.049,1121.64 903.132,1121.64 905.215,1121.64 907.297,1121.64 909.38,1121.64 911.463,1121.64 913.546,1121.64 915.629,1121.64 \n  917.712,1121.64 919.795,1121.64 921.878,1121.64 923.961,1121.64 926.043,1121.65 928.126,1121.65 930.209,1121.65 932.292,1121.65 934.375,1121.65 936.458,1121.65 \n  938.541,1121.65 940.624,1121.65 942.706,1121.65 944.789,1121.65 946.872,1121.66 948.955,1121.66 951.038,1121.66 953.121,1121.66 955.204,1121.66 957.287,1121.66 \n  959.37,1121.66 961.452,1121.66 963.535,1121.66 965.618,1121.66 967.701,1121.66 969.784,1121.67 971.867,1121.67 973.95,1121.67 976.033,1121.67 978.115,1121.67 \n  980.198,1121.67 982.281,1121.67 984.364,1121.67 986.447,1121.66 988.53,1121.66 990.613,1121.66 992.696,1121.66 994.779,1121.66 996.861,1121.66 998.944,1121.66 \n  1001.03,1121.66 1003.11,1121.65 1005.19,1121.65 1007.28,1121.65 1009.36,1121.65 1011.44,1121.65 1013.52,1121.64 1015.61,1121.64 1017.69,1121.64 1019.77,1121.64 \n  1021.86,1121.63 1023.94,1121.63 1026.02,1121.63 1028.1,1121.63 1030.19,1121.62 1032.27,1121.62 1034.35,1121.62 1036.44,1121.62 1038.52,1121.62 1040.6,1121.62 \n  1042.68,1121.61 1044.77,1121.61 1046.85,1121.61 1048.93,1121.61 1051.02,1121.61 1053.1,1121.61 1055.18,1121.61 1057.27,1121.62 1059.35,1121.62 1061.43,1121.62 \n  1063.51,1121.62 1065.6,1121.62 1067.68,1121.63 1069.76,1121.63 1071.85,1121.63 1073.93,1121.64 1076.01,1121.64 1078.09,1121.64 1080.18,1121.65 1082.26,1121.65 \n  1084.34,1121.65 1086.43,1121.66 1088.51,1121.66 1090.59,1121.66 1092.67,1121.67 1094.76,1121.67 1096.84,1121.67 1098.92,1121.67 1101.01,1121.67 1103.09,1121.68 \n  1105.17,1121.68 1107.25,1121.68 1109.34,1121.68 1111.42,1121.68 1113.5,1121.68 1115.59,1121.68 1117.67,1121.67 1119.75,1121.67 1121.83,1121.67 1123.92,1121.67 \n  1126,1121.67 1128.08,1121.67 1130.17,1121.66 1132.25,1121.66 1134.33,1121.66 1136.41,1121.66 1138.5,1121.65 1140.58,1121.65 1142.66,1121.65 1144.75,1121.65 \n  1146.83,1121.64 1148.91,1121.64 1150.99,1121.64 1153.08,1121.64 1155.16,1121.63 1157.24,1121.63 1159.33,1121.63 1161.41,1121.63 1163.49,1121.62 1165.57,1121.62 \n  1167.66,1121.62 1169.74,1121.62 1171.82,1121.62 1173.91,1121.62 1175.99,1121.62 1178.07,1121.63 1180.16,1121.63 1182.24,1121.64 1184.32,1121.64 1186.4,1121.65 \n  1188.49,1121.66 1190.57,1121.66 1192.65,1121.67 1194.74,1121.67 1196.82,1121.67 1198.9,1121.68 1200.98,1121.67 1203.07,1121.67 1205.15,1121.66 1207.23,1121.65 \n  1209.32,1121.65 1211.4,1121.64 1213.48,1121.63 1215.56,1121.63 1217.65,1121.63 1219.73,1121.63 1221.81,1121.64 1223.9,1121.65 1225.98,1121.66 1228.06,1121.66 \n  1230.14,1121.66 1232.23,1121.66 1234.31,1121.65 1236.39,1121.64 1238.48,1121.63 1240.56,1121.62 1242.64,1121.63 1244.72,1121.64 1246.81,1121.67 1248.89,1121.68 \n  1250.97,1121.67 1253.06,1121.65 1255.14,1121.62 1257.22,1121.61 1259.3,1121.61 1261.39,1121.63 1263.47,1121.65 1265.55,1121.67 1267.64,1121.69 1269.72,1121.69 \n  1271.8,1121.68 1273.88,1121.67 1275.97,1121.66 1278.05,1121.64 1280.13,1121.63 1282.22,1121.62 1284.3,1121.61 1286.38,1121.61 1288.47,1121.62 1290.55,1121.62 \n  1292.63,1121.63 1294.71,1121.64 1296.8,1121.64 1298.88,1121.65 1300.96,1121.65 1303.05,1121.66 1305.13,1121.66 1307.21,1121.66 1309.29,1121.66 1311.38,1121.66 \n  1313.46,1121.66 1315.54,1121.65 1317.63,1121.65 1319.71,1121.65 1321.79,1121.65 1323.87,1121.65 1325.96,1121.66 1328.04,1121.66 1330.12,1121.66 1332.21,1121.66 \n  1334.29,1121.66 1336.37,1121.66 1338.45,1121.66 1340.54,1121.66 1342.62,1121.66 1344.7,1121.66 1346.79,1121.65 1348.87,1121.65 1350.95,1121.65 1353.03,1121.64 \n  1355.12,1121.64 1357.2,1121.64 1359.28,1121.63 1361.37,1121.63 1363.45,1121.63 1365.53,1121.63 1367.61,1121.63 1369.7,1121.62 1371.78,1121.63 1373.86,1121.63 \n  1375.95,1121.63 1378.03,1121.63 1380.11,1121.63 1382.19,1121.64 1384.28,1121.64 1386.36,1121.64 1388.44,1121.65 1390.53,1121.65 1392.61,1121.66 1394.69,1121.66 \n  1396.77,1121.66 1398.86,1121.67 1400.94,1121.67 1403.02,1121.67 1405.11,1121.67 1407.19,1121.67 1409.27,1121.67 1411.36,1121.67 1413.44,1121.67 1415.52,1121.67 \n  1417.6,1121.67 1419.69,1121.66 1421.77,1121.66 1423.85,1121.66 1425.94,1121.65 1428.02,1121.65 1430.1,1121.65 1432.18,1121.64 1434.27,1121.64 1436.35,1121.64 \n  1438.43,1121.63 1440.52,1121.63 1442.6,1121.63 1444.68,1121.62 1446.76,1121.62 1448.85,1121.62 1450.93,1121.62 1453.01,1121.61 1455.1,1121.61 1457.18,1121.61 \n  1459.26,1121.61 1461.34,1121.61 1463.43,1121.61 1465.51,1121.62 1467.59,1121.62 1469.68,1121.62 1471.76,1121.62 1473.84,1121.62 1475.92,1121.63 1478.01,1121.63 \n  1480.09,1121.63 1482.17,1121.64 1484.26,1121.64 1486.34,1121.64 1488.42,1121.65 1490.5,1121.65 1492.59,1121.65 1494.67,1121.66 1496.75,1121.66 1498.84,1121.66 \n  1500.92,1121.66 1503,1121.67 1505.08,1121.67 1507.17,1121.67 1509.25,1121.67 1511.33,1121.68 1513.42,1121.68 1515.5,1121.68 1517.58,1121.68 1519.67,1121.68 \n  1521.75,1121.68 1523.83,1121.68 1525.91,1121.68 1528,1121.68 1530.08,1121.68 1532.16,1121.68 1534.25,1121.68 1536.33,1121.68 1538.41,1121.68 1540.49,1121.68 \n  1542.58,1121.67 1544.66,1121.67 1546.74,1121.67 1548.83,1121.67 1550.91,1121.67 1552.99,1121.66 1555.07,1121.66 1557.16,1121.66 1559.24,1121.66 1561.32,1121.66 \n  1563.41,1121.65 1565.49,1121.65 1567.57,1121.65 1569.65,1121.65 1571.74,1121.65 1573.82,1121.64 1575.9,1121.64 1577.99,1121.64 1580.07,1121.64 1582.15,1121.64 \n  1584.23,1121.64 1586.32,1121.64 1588.4,1121.63 1590.48,1121.63 1592.57,1121.63 1594.65,1121.63 1596.73,1121.63 1598.81,1121.63 1600.9,1121.63 1602.98,1121.63 \n  1605.06,1121.63 1607.15,1121.63 1609.23,1121.63 1611.31,1121.63 1613.39,1121.63 1615.48,1121.63 1617.56,1121.63 1619.64,1121.63 1621.73,1121.63 1623.81,1121.63 \n  1625.89,1121.63 1627.98,1121.63 1630.06,1121.63 1632.14,1121.63 1634.22,1121.63 1636.31,1121.63 1638.39,1121.64 1640.47,1121.64 1642.56,1121.64 1644.64,1121.64 \n  1646.72,1121.64 1648.8,1121.64 1650.89,1121.64 1652.97,1121.64 1655.05,1121.64 1657.14,1121.64 1659.22,1121.64 1661.3,1121.64 1663.38,1121.64 1665.47,1121.65 \n  1667.55,1121.65 1669.63,1121.65 1671.72,1121.65 1673.8,1121.65 1675.88,1121.65 1677.96,1121.65 1680.05,1121.65 1682.13,1121.65 1684.21,1121.65 1686.3,1121.65 \n  1688.38,1121.65 1690.46,1121.65 1692.54,1121.65 1694.63,1121.65 1696.71,1121.65 1698.79,1121.65 1700.88,1121.65 1702.96,1121.65 1705.04,1121.65 1707.12,1121.65 \n  1709.21,1121.65 1711.29,1121.65 1713.37,1121.65 1715.46,1121.65 1717.54,1121.65 1719.62,1121.65 1721.7,1121.65 1723.79,1121.65 1725.87,1121.65 1727.95,1121.65 \n  1730.04,1121.65 1732.12,1121.65 1734.2,1121.65 1736.28,1121.65 1738.37,1121.65 1740.45,1121.65 1742.53,1121.65 1744.62,1121.65 1746.7,1121.65 1748.78,1121.65 \n  1750.87,1121.65 1752.95,1121.65 1755.03,1121.65 1757.11,1121.65 1759.2,1121.65 1761.28,1121.64 1763.36,1121.64 1765.45,1121.64 1767.53,1121.64 1769.61,1121.64 \n  1771.69,1121.64 1773.78,1121.64 1775.86,1121.64 1777.94,1121.64 1780.03,1121.64 1782.11,1121.64 1784.19,1121.64 1786.27,1121.64 1788.36,1121.64 1790.44,1121.64 \n  1792.52,1121.64 1794.61,1121.64 1796.69,1121.64 1798.77,1121.65 1800.85,1121.65 1802.94,1121.65 1805.02,1121.65 1807.1,1121.65 1809.19,1121.65 1811.27,1121.65 \n  1813.35,1121.65 1815.43,1121.65 1817.52,1121.65 1819.6,1121.65 1821.68,1121.65 1823.77,1121.65 1825.85,1121.65 1827.93,1121.65 1830.01,1121.65 1832.1,1121.65 \n  1834.18,1121.65 1836.26,1121.65 1838.35,1121.65 1840.43,1121.65 1842.51,1121.65 1844.59,1121.65 1846.68,1121.65 1848.76,1121.65 1850.84,1121.65 1852.93,1121.65 \n  1855.01,1121.65 1857.09,1121.65 1859.18,1121.65 1861.26,1121.65 1863.34,1121.65 1865.42,1121.65 1867.51,1121.65 1869.59,1121.65 1871.67,1121.65 1873.76,1121.65 \n  1875.84,1121.65 1877.92,1121.65 1880,1121.65 1882.09,1121.65 1884.17,1121.65 1886.25,1121.65 1888.34,1121.65 1890.42,1121.65 1892.5,1121.65 1894.58,1121.65 \n  1896.67,1121.65 1898.75,1121.65 1900.83,1121.65 1902.92,1121.65 1905,1121.65 1907.08,1121.65 1909.16,1121.65 1911.25,1121.65 1913.33,1121.65 1915.41,1121.65 \n  1917.5,1121.65 1919.58,1121.65 1921.66,1121.65 1923.74,1121.65 1925.83,1121.65 1927.91,1121.65 1929.99,1121.65 1932.08,1121.65 1934.16,1121.65 1936.24,1121.64 \n  1938.32,1121.64 1940.41,1121.64 1942.49,1121.64 1944.57,1121.64 1946.66,1121.64 1948.74,1121.64 1950.82,1121.64 1952.9,1121.64 1954.99,1121.64 1957.07,1121.64 \n  1959.15,1121.64 1961.24,1121.64 1963.32,1121.64 1965.4,1121.64 1967.48,1121.64 1969.57,1121.64 1971.65,1121.64 1973.73,1121.64 1975.82,1121.64 1977.9,1121.64 \n  1979.98,1121.64 1982.07,1121.64 1984.15,1121.64 1986.23,1121.64 1988.31,1121.64 1990.4,1121.64 1992.48,1121.64 1994.56,1121.64 1996.65,1121.64 1998.73,1121.64 \n  2000.81,1121.64 2002.89,1121.64 2004.98,1121.64 2007.06,1121.64 2009.14,1121.64 2011.23,1121.64 2013.31,1121.64 2015.39,1121.64 2017.47,1121.64 2019.56,1121.64 \n  2021.64,1121.64 2023.72,1121.64 2025.81,1121.64 2027.89,1121.64 2029.97,1121.64 2032.05,1121.64 2034.14,1121.64 2036.22,1121.64 2038.3,1121.64 2040.39,1121.64 \n  2042.47,1121.65 2044.55,1121.65 2046.63,1121.65 2048.72,1121.65 2050.8,1121.65 2052.88,1121.65 2054.97,1121.65 2057.05,1121.65 2059.13,1121.65 2061.21,1121.65 \n  2063.3,1121.65 2065.38,1121.65 2067.46,1121.65 2069.55,1121.65 2071.63,1121.65 2073.71,1121.65 2075.79,1121.66 2077.88,1121.66 2079.96,1121.66 2082.04,1121.66 \n  2084.13,1121.66 2086.21,1121.66 2088.29,1121.66 2090.38,1121.66 2092.46,1121.66 2094.54,1121.66 2096.62,1121.66 2098.71,1121.66 2100.79,1121.66 2102.87,1121.66 \n  2104.96,1121.66 2107.04,1121.66 2109.12,1121.66 2111.2,1121.66 2113.29,1121.66 2115.37,1121.66 2117.45,1121.66 2119.54,1121.66 2121.62,1121.66 2123.7,1121.66 \n  2125.78,1121.66 2127.87,1121.66 2129.95,1121.66 2132.03,1121.66 2134.12,1121.66 2136.2,1121.66 2138.28,1121.66 2140.36,1121.66 2142.45,1121.66 2144.53,1121.66 \n  2146.61,1121.66 2148.7,1121.66 2150.78,1121.66 2152.86,1121.66 2154.94,1121.66 2157.03,1121.66 2159.11,1121.66 2161.19,1121.66 2163.28,1121.66 2165.36,1121.66 \n  2167.44,1121.66 2169.52,1121.65 2171.61,1121.65 2173.69,1121.65 2175.77,1121.65 2177.86,1121.65 2179.94,1121.65 2182.02,1121.65 2184.1,1121.65 2186.19,1121.65 \n  2188.27,1121.64 2190.35,1121.64 2192.44,1121.64 2194.52,1121.64 2196.6,1121.64 2198.69,1121.64 2200.77,1121.64 2202.85,1121.64 2204.93,1121.63 2207.02,1121.63 \n  2209.1,1121.63 2211.18,1121.63 2213.27,1121.63 2215.35,1121.63 2217.43,1121.63 2219.51,1121.63 2221.6,1121.63 2223.68,1121.63 2225.76,1121.63 2227.85,1121.62 \n  2229.93,1121.62 2232.01,1121.62 2234.09,1121.62 2236.18,1121.62 2238.26,1121.62 2240.34,1121.62 2242.43,1121.62 2244.51,1121.62 2246.59,1121.62 2248.67,1121.63 \n  2250.76,1121.63 2252.84,1121.63 2254.92,1121.63 2257.01,1121.63 2259.09,1121.63 2261.17,1121.63 2263.25,1121.64 2265.34,1121.64 2267.42,1121.64 2269.5,1121.65 \n  2271.59,1121.65 2273.67,1121.65 2275.75,1121.66 2277.83,1121.66 2279.92,1121.67 2282,1121.67 2284.08,1121.68 2286.17,1121.68 2288.25,1121.69 2290.33,1121.7 \n  \n  \"/>\n<path clip-path=\"url(#clip900)\" d=\"\nM1980.02 354.418 L2279.23 354.418 L2279.23 95.2176 L1980.02 95.2176  Z\n  \" fill=\"#ffffff\" fill-rule=\"evenodd\" fill-opacity=\"1\"/>\n<polyline clip-path=\"url(#clip900)\" style=\"stroke:#000000; stroke-linecap:round; stroke-linejoin:round; stroke-width:4; stroke-opacity:1; fill:none\" points=\"\n  1980.02,354.418 2279.23,354.418 2279.23,95.2176 1980.02,95.2176 1980.02,354.418 \n  \"/>\n<polyline clip-path=\"url(#clip900)\" style=\"stroke:#009af9; stroke-linecap:round; stroke-linejoin:round; stroke-width:4; stroke-opacity:1; fill:none\" points=\"\n  2004.53,147.058 2151.57,147.058 \n  \"/>\n<path clip-path=\"url(#clip900)\" d=\"M2189.92 166.745 Q2188.11 171.375 2186.4 172.787 Q2184.69 174.199 2181.82 174.199 L2178.41 174.199 L2178.41 170.634 L2180.91 170.634 Q2182.67 170.634 2183.65 169.8 Q2184.62 168.967 2185.8 165.865 L2186.56 163.921 L2176.08 138.412 L2180.59 138.412 L2188.69 158.689 L2196.79 138.412 L2201.31 138.412 L2189.92 166.745 Z\" fill=\"#000000\" fill-rule=\"evenodd\" fill-opacity=\"1\" /><path clip-path=\"url(#clip900)\" d=\"M2208.6 160.402 L2216.24 160.402 L2216.24 134.037 L2207.93 135.703 L2207.93 131.444 L2216.19 129.778 L2220.87 129.778 L2220.87 160.402 L2228.51 160.402 L2228.51 164.338 L2208.6 164.338 L2208.6 160.402 Z\" fill=\"#000000\" fill-rule=\"evenodd\" fill-opacity=\"1\" /><polyline clip-path=\"url(#clip900)\" style=\"stroke:#e26f46; stroke-linecap:round; stroke-linejoin:round; stroke-width:4; stroke-opacity:1; fill:none\" points=\"\n  2004.53,198.898 2151.57,198.898 \n  \"/>\n<path clip-path=\"url(#clip900)\" d=\"M2189.92 218.585 Q2188.11 223.215 2186.4 224.627 Q2184.69 226.039 2181.82 226.039 L2178.41 226.039 L2178.41 222.474 L2180.91 222.474 Q2182.67 222.474 2183.65 221.64 Q2184.62 220.807 2185.8 217.705 L2186.56 215.761 L2176.08 190.252 L2180.59 190.252 L2188.69 210.529 L2196.79 190.252 L2201.31 190.252 L2189.92 218.585 Z\" fill=\"#000000\" fill-rule=\"evenodd\" fill-opacity=\"1\" /><path clip-path=\"url(#clip900)\" d=\"M2211.82 212.242 L2228.14 212.242 L2228.14 216.178 L2206.19 216.178 L2206.19 212.242 Q2208.85 209.488 2213.44 204.858 Q2218.04 200.205 2219.22 198.863 Q2221.47 196.34 2222.35 194.604 Q2223.25 192.844 2223.25 191.155 Q2223.25 188.4 2221.31 186.664 Q2219.39 184.928 2216.28 184.928 Q2214.09 184.928 2211.63 185.692 Q2209.2 186.455 2206.42 188.006 L2206.42 183.284 Q2209.25 182.15 2211.7 181.571 Q2214.16 180.993 2216.19 180.993 Q2221.56 180.993 2224.76 183.678 Q2227.95 186.363 2227.95 190.854 Q2227.95 192.983 2227.14 194.905 Q2226.35 196.803 2224.25 199.395 Q2223.67 200.067 2220.57 203.284 Q2217.47 206.479 2211.82 212.242 Z\" fill=\"#000000\" fill-rule=\"evenodd\" fill-opacity=\"1\" /><polyline clip-path=\"url(#clip900)\" style=\"stroke:#3da44d; stroke-linecap:round; stroke-linejoin:round; stroke-width:4; stroke-opacity:1; fill:none\" points=\"\n  2004.53,250.738 2151.57,250.738 \n  \"/>\n<path clip-path=\"url(#clip900)\" d=\"M2189.92 270.425 Q2188.11 275.055 2186.4 276.467 Q2184.69 277.879 2181.82 277.879 L2178.41 277.879 L2178.41 274.314 L2180.91 274.314 Q2182.67 274.314 2183.65 273.48 Q2184.62 272.647 2185.8 269.545 L2186.56 267.601 L2176.08 242.092 L2180.59 242.092 L2188.69 262.369 L2196.79 242.092 L2201.31 242.092 L2189.92 270.425 Z\" fill=\"#000000\" fill-rule=\"evenodd\" fill-opacity=\"1\" /><path clip-path=\"url(#clip900)\" d=\"M2221.96 249.383 Q2225.31 250.101 2227.19 252.369 Q2229.09 254.638 2229.09 257.971 Q2229.09 263.087 2225.57 265.888 Q2222.05 268.689 2215.57 268.689 Q2213.39 268.689 2211.08 268.249 Q2208.78 267.832 2206.33 266.976 L2206.33 262.462 Q2208.28 263.596 2210.59 264.175 Q2212.91 264.754 2215.43 264.754 Q2219.83 264.754 2222.12 263.018 Q2224.43 261.281 2224.43 257.971 Q2224.43 254.916 2222.28 253.203 Q2220.15 251.467 2216.33 251.467 L2212.3 251.467 L2212.3 247.624 L2216.52 247.624 Q2219.97 247.624 2221.79 246.258 Q2223.62 244.87 2223.62 242.277 Q2223.62 239.615 2221.72 238.203 Q2219.85 236.768 2216.33 236.768 Q2214.41 236.768 2212.21 237.184 Q2210.01 237.601 2207.37 238.481 L2207.37 234.314 Q2210.03 233.573 2212.35 233.203 Q2214.69 232.833 2216.75 232.833 Q2222.07 232.833 2225.17 235.263 Q2228.28 237.67 2228.28 241.791 Q2228.28 244.661 2226.63 246.652 Q2224.99 248.62 2221.96 249.383 Z\" fill=\"#000000\" fill-rule=\"evenodd\" fill-opacity=\"1\" /><polyline clip-path=\"url(#clip900)\" style=\"stroke:#c271d2; stroke-linecap:round; stroke-linejoin:round; stroke-width:4; stroke-opacity:1; fill:none\" points=\"\n  2004.53,302.578 2151.57,302.578 \n  \"/>\n<path clip-path=\"url(#clip900)\" d=\"M2189.92 322.265 Q2188.11 326.895 2186.4 328.307 Q2184.69 329.719 2181.82 329.719 L2178.41 329.719 L2178.41 326.154 L2180.91 326.154 Q2182.67 326.154 2183.65 325.32 Q2184.62 324.487 2185.8 321.385 L2186.56 319.441 L2176.08 293.932 L2180.59 293.932 L2188.69 314.209 L2196.79 293.932 L2201.31 293.932 L2189.92 322.265 Z\" fill=\"#000000\" fill-rule=\"evenodd\" fill-opacity=\"1\" /><path clip-path=\"url(#clip900)\" d=\"M2220.64 289.372 L2208.83 307.821 L2220.64 307.821 L2220.64 289.372 M2219.41 285.298 L2225.29 285.298 L2225.29 307.821 L2230.22 307.821 L2230.22 311.709 L2225.29 311.709 L2225.29 319.858 L2220.64 319.858 L2220.64 311.709 L2205.03 311.709 L2205.03 307.196 L2219.41 285.298 Z\" fill=\"#000000\" fill-rule=\"evenodd\" fill-opacity=\"1\" /></svg>\n"
     },
     "execution_count": 75,
     "metadata": {},
     "output_type": "execute_result"
    }
   ],
   "source": [
    "plot(w_mesh, gi[:,1]-gi[:,4], linewidth=2.0)\n",
    "plot!(w_mesh, gi[:,1]+gi[:,4], linewidth=2.0)\n",
    "plot!(w_mesh, gi[:,3], linewidth=2.0)\n",
    "plot!(w_mesh, gi[:,4], linewidth=2.0)"
   ]
  },
  {
   "cell_type": "code",
   "execution_count": 39,
   "metadata": {},
   "outputs": [
    {
     "data": {
      "text/plain": [
       "KK_GR (generic function with 1 method)"
      ]
     },
     "execution_count": 39,
     "metadata": {},
     "output_type": "execute_result"
    }
   ],
   "source": [
    "\n",
    "function reshape(rho::Vector{Float64}, cutoff::Float64)\n",
    "    v_it::Vector{Int} = []\n",
    "    rho_rep = rho\n",
    "    sw = true\n",
    "    for w in 1:length(rho_rep)\n",
    "        if(rho_rep[w]<0)\n",
    "            if(sw)\n",
    "                for it in v_it\n",
    "                    rho_rep[it] = 0.005                \n",
    "                end\n",
    "                empty!(v_it)\n",
    "                sw = false\n",
    "            elseif(w<length(rho_rep) && rho_rep[w+1]>0.0)\n",
    "                sw = true\n",
    "            end\n",
    "            rho_rep[w] = 0.005\n",
    "\n",
    "        elseif(rho_rep[w]<cutoff)\n",
    "            if(sw)\n",
    "                push!(v_it,w)\n",
    "            #elseif(w<length(rho_rep) && rho_rep[w+1]>rho_rep[w])\n",
    "            #    sw = true\n",
    "            #    push!(v_it,w)\n",
    "            end\n",
    "        elseif(rho_rep[w]>=cutoff && sw)\n",
    "            empty!(v_it)\n",
    "            sw = false\n",
    "        end\n",
    "        if(w == length(rho_rep))\n",
    "            if(sw)\n",
    "                for it in v_it\n",
    "                    rho_rep[it] = 0.005                \n",
    "                end\n",
    "            end\n",
    "        end\n",
    "    end\n",
    "    return rho_rep\n",
    "end\n",
    "\n",
    "\n",
    "function KK_GR(w::Vector{Float64}, rho::Vector{Matrix{ComplexF64}})\n",
    "    #GR_ = zeros(ComplexF64, length(w))\n",
    "    GR_::Vector{Matrix{ComplexF64}} = []\n",
    "    dw = w[2]-w[1]\n",
    "    for w_re in 1:length(w)\n",
    "        re = zeros(ComplexF64, 2, 2)\n",
    "        for w_im in 1:length(w)\n",
    "            if(w_im != w_re)\n",
    "                re += dw * rho[w_im] / (w[w_re] - w[w_im])\n",
    "            end \n",
    "        end\n",
    "        ggg = re - 1.0im * rho[w_re] * pi\n",
    "        push!(GR_, ggg)\n",
    "    end\n",
    "    return GR_\n",
    "end"
   ]
  },
  {
   "cell_type": "code",
   "execution_count": 48,
   "metadata": {},
   "outputs": [
    {
     "data": {
      "text/plain": [
       "500-element Vector{Float64}:\n",
       " 0.005\n",
       " 0.005\n",
       " 0.005\n",
       " 0.005\n",
       " 0.005\n",
       " 0.005\n",
       " 0.005\n",
       " 0.005\n",
       " 0.005\n",
       " 0.005\n",
       " 0.005\n",
       " 0.005\n",
       " 0.005\n",
       " ⋮\n",
       " 0.005\n",
       " 0.005\n",
       " 0.005\n",
       " 0.005\n",
       " 0.005\n",
       " 0.005\n",
       " 0.005\n",
       " 0.005\n",
       " 0.005\n",
       " 0.005\n",
       " 0.005\n",
       " 0.005"
      ]
     },
     "execution_count": 48,
     "metadata": {},
     "output_type": "execute_result"
    }
   ],
   "source": [
    "g11 = reshape(gi[:,1]+gi[:,4], 0.3)\n",
    "g22 = reshape(gi[:,1]-gi[:,4], 0.3)"
   ]
  },
  {
   "cell_type": "code",
   "execution_count": 49,
   "metadata": {},
   "outputs": [
    {
     "data": {
      "text/plain": [
       "500-element Vector{Float64}:\n",
       " 0.0\n",
       " 0.0\n",
       " 0.0\n",
       " 0.0\n",
       " 0.0\n",
       " 0.0\n",
       " 0.0\n",
       " 0.0\n",
       " 0.0\n",
       " 0.0\n",
       " 0.0\n",
       " 0.0\n",
       " 0.0\n",
       " ⋮\n",
       " 0.0\n",
       " 0.0\n",
       " 0.0\n",
       " 0.0\n",
       " 0.0\n",
       " 0.0\n",
       " 0.0\n",
       " 0.0\n",
       " 0.0\n",
       " 0.0\n",
       " 0.0\n",
       " 0.0"
      ]
     },
     "execution_count": 49,
     "metadata": {},
     "output_type": "execute_result"
    }
   ],
   "source": [
    "gi[:,1] = (g11+g22)/2\n",
    "gi[:,4] = (g11-g22)/2"
   ]
  },
  {
   "cell_type": "code",
   "execution_count": 56,
   "metadata": {},
   "outputs": [
    {
     "data": {
      "image/svg+xml": "<?xml version=\"1.0\" encoding=\"utf-8\"?>\n<svg xmlns=\"http://www.w3.org/2000/svg\" xmlns:xlink=\"http://www.w3.org/1999/xlink\" width=\"600\" height=\"400\" viewBox=\"0 0 2400 1600\">\n<defs>\n  <clipPath id=\"clip400\">\n    <rect x=\"0\" y=\"0\" width=\"2400\" height=\"1600\"/>\n  </clipPath>\n</defs>\n<path clip-path=\"url(#clip400)\" d=\"\nM0 1600 L2400 1600 L2400 0 L0 0  Z\n  \" fill=\"#ffffff\" fill-rule=\"evenodd\" fill-opacity=\"1\"/>\n<defs>\n  <clipPath id=\"clip401\">\n    <rect x=\"480\" y=\"0\" width=\"1681\" height=\"1600\"/>\n  </clipPath>\n</defs>\n<path clip-path=\"url(#clip400)\" d=\"\nM194.422 1486.45 L2352.76 1486.45 L2352.76 47.2441 L194.422 47.2441  Z\n  \" fill=\"#ffffff\" fill-rule=\"evenodd\" fill-opacity=\"1\"/>\n<defs>\n  <clipPath id=\"clip402\">\n    <rect x=\"194\" y=\"47\" width=\"2159\" height=\"1440\"/>\n  </clipPath>\n</defs>\n<polyline clip-path=\"url(#clip402)\" style=\"stroke:#000000; stroke-linecap:round; stroke-linejoin:round; stroke-width:2; stroke-opacity:0.1; fill:none\" points=\"\n  255.507,1486.45 255.507,47.2441 \n  \"/>\n<polyline clip-path=\"url(#clip402)\" style=\"stroke:#000000; stroke-linecap:round; stroke-linejoin:round; stroke-width:2; stroke-opacity:0.1; fill:none\" points=\"\n  764.548,1486.45 764.548,47.2441 \n  \"/>\n<polyline clip-path=\"url(#clip402)\" style=\"stroke:#000000; stroke-linecap:round; stroke-linejoin:round; stroke-width:2; stroke-opacity:0.1; fill:none\" points=\"\n  1273.59,1486.45 1273.59,47.2441 \n  \"/>\n<polyline clip-path=\"url(#clip402)\" style=\"stroke:#000000; stroke-linecap:round; stroke-linejoin:round; stroke-width:2; stroke-opacity:0.1; fill:none\" points=\"\n  1782.63,1486.45 1782.63,47.2441 \n  \"/>\n<polyline clip-path=\"url(#clip402)\" style=\"stroke:#000000; stroke-linecap:round; stroke-linejoin:round; stroke-width:2; stroke-opacity:0.1; fill:none\" points=\"\n  2291.67,1486.45 2291.67,47.2441 \n  \"/>\n<polyline clip-path=\"url(#clip400)\" style=\"stroke:#000000; stroke-linecap:round; stroke-linejoin:round; stroke-width:4; stroke-opacity:1; fill:none\" points=\"\n  194.422,1486.45 2352.76,1486.45 \n  \"/>\n<polyline clip-path=\"url(#clip400)\" style=\"stroke:#000000; stroke-linecap:round; stroke-linejoin:round; stroke-width:4; stroke-opacity:1; fill:none\" points=\"\n  255.507,1486.45 255.507,1467.55 \n  \"/>\n<polyline clip-path=\"url(#clip400)\" style=\"stroke:#000000; stroke-linecap:round; stroke-linejoin:round; stroke-width:4; stroke-opacity:1; fill:none\" points=\"\n  764.548,1486.45 764.548,1467.55 \n  \"/>\n<polyline clip-path=\"url(#clip400)\" style=\"stroke:#000000; stroke-linecap:round; stroke-linejoin:round; stroke-width:4; stroke-opacity:1; fill:none\" points=\"\n  1273.59,1486.45 1273.59,1467.55 \n  \"/>\n<polyline clip-path=\"url(#clip400)\" style=\"stroke:#000000; stroke-linecap:round; stroke-linejoin:round; stroke-width:4; stroke-opacity:1; fill:none\" points=\"\n  1782.63,1486.45 1782.63,1467.55 \n  \"/>\n<polyline clip-path=\"url(#clip400)\" style=\"stroke:#000000; stroke-linecap:round; stroke-linejoin:round; stroke-width:4; stroke-opacity:1; fill:none\" points=\"\n  2291.67,1486.45 2291.67,1467.55 \n  \"/>\n<path clip-path=\"url(#clip400)\" d=\"M224.408 1532.02 L254.083 1532.02 L254.083 1535.95 L224.408 1535.95 L224.408 1532.02 Z\" fill=\"#000000\" fill-rule=\"evenodd\" fill-opacity=\"1\" /><path clip-path=\"url(#clip400)\" d=\"M277.023 1518.36 L265.218 1536.81 L277.023 1536.81 L277.023 1518.36 M275.796 1514.29 L281.676 1514.29 L281.676 1536.81 L286.606 1536.81 L286.606 1540.7 L281.676 1540.7 L281.676 1548.85 L277.023 1548.85 L277.023 1540.7 L261.421 1540.7 L261.421 1536.19 L275.796 1514.29 Z\" fill=\"#000000\" fill-rule=\"evenodd\" fill-opacity=\"1\" /><path clip-path=\"url(#clip400)\" d=\"M734.49 1532.02 L764.166 1532.02 L764.166 1535.95 L734.49 1535.95 L734.49 1532.02 Z\" fill=\"#000000\" fill-rule=\"evenodd\" fill-opacity=\"1\" /><path clip-path=\"url(#clip400)\" d=\"M778.286 1544.91 L794.606 1544.91 L794.606 1548.85 L772.661 1548.85 L772.661 1544.91 Q775.323 1542.16 779.907 1537.53 Q784.513 1532.88 785.694 1531.53 Q787.939 1529.01 788.819 1527.27 Q789.721 1525.51 789.721 1523.82 Q789.721 1521.07 787.777 1519.33 Q785.856 1517.6 782.754 1517.6 Q780.555 1517.6 778.101 1518.36 Q775.671 1519.13 772.893 1520.68 L772.893 1515.95 Q775.717 1514.82 778.171 1514.24 Q780.624 1513.66 782.661 1513.66 Q788.032 1513.66 791.226 1516.35 Q794.421 1519.03 794.421 1523.52 Q794.421 1525.65 793.61 1527.57 Q792.823 1529.47 790.717 1532.07 Q790.138 1532.74 787.036 1535.95 Q783.934 1539.15 778.286 1544.91 Z\" fill=\"#000000\" fill-rule=\"evenodd\" fill-opacity=\"1\" /><path clip-path=\"url(#clip400)\" d=\"M1273.59 1517.37 Q1269.98 1517.37 1268.15 1520.93 Q1266.34 1524.47 1266.34 1531.6 Q1266.34 1538.71 1268.15 1542.27 Q1269.98 1545.82 1273.59 1545.82 Q1277.22 1545.82 1279.03 1542.27 Q1280.86 1538.71 1280.86 1531.6 Q1280.86 1524.47 1279.03 1520.93 Q1277.22 1517.37 1273.59 1517.37 M1273.59 1513.66 Q1279.4 1513.66 1282.45 1518.27 Q1285.53 1522.85 1285.53 1531.6 Q1285.53 1540.33 1282.45 1544.94 Q1279.4 1549.52 1273.59 1549.52 Q1267.78 1549.52 1264.7 1544.94 Q1261.64 1540.33 1261.64 1531.6 Q1261.64 1522.85 1264.7 1518.27 Q1267.78 1513.66 1273.59 1513.66 Z\" fill=\"#000000\" fill-rule=\"evenodd\" fill-opacity=\"1\" /><path clip-path=\"url(#clip400)\" d=\"M1777.28 1544.91 L1793.6 1544.91 L1793.6 1548.85 L1771.66 1548.85 L1771.66 1544.91 Q1774.32 1542.16 1778.9 1537.53 Q1783.51 1532.88 1784.69 1531.53 Q1786.94 1529.01 1787.82 1527.27 Q1788.72 1525.51 1788.72 1523.82 Q1788.72 1521.07 1786.77 1519.33 Q1784.85 1517.6 1781.75 1517.6 Q1779.55 1517.6 1777.1 1518.36 Q1774.67 1519.13 1771.89 1520.68 L1771.89 1515.95 Q1774.71 1514.82 1777.17 1514.24 Q1779.62 1513.66 1781.66 1513.66 Q1787.03 1513.66 1790.22 1516.35 Q1793.42 1519.03 1793.42 1523.52 Q1793.42 1525.65 1792.61 1527.57 Q1791.82 1529.47 1789.71 1532.07 Q1789.13 1532.74 1786.03 1535.95 Q1782.93 1539.15 1777.28 1544.91 Z\" fill=\"#000000\" fill-rule=\"evenodd\" fill-opacity=\"1\" /><path clip-path=\"url(#clip400)\" d=\"M2294.68 1518.36 L2282.87 1536.81 L2294.68 1536.81 L2294.68 1518.36 M2293.45 1514.29 L2299.33 1514.29 L2299.33 1536.81 L2304.26 1536.81 L2304.26 1540.7 L2299.33 1540.7 L2299.33 1548.85 L2294.68 1548.85 L2294.68 1540.7 L2279.08 1540.7 L2279.08 1536.19 L2293.45 1514.29 Z\" fill=\"#000000\" fill-rule=\"evenodd\" fill-opacity=\"1\" /><polyline clip-path=\"url(#clip402)\" style=\"stroke:#000000; stroke-linecap:round; stroke-linejoin:round; stroke-width:2; stroke-opacity:0.1; fill:none\" points=\"\n  194.422,1327.77 2352.76,1327.77 \n  \"/>\n<polyline clip-path=\"url(#clip402)\" style=\"stroke:#000000; stroke-linecap:round; stroke-linejoin:round; stroke-width:2; stroke-opacity:0.1; fill:none\" points=\"\n  194.422,1049.06 2352.76,1049.06 \n  \"/>\n<polyline clip-path=\"url(#clip402)\" style=\"stroke:#000000; stroke-linecap:round; stroke-linejoin:round; stroke-width:2; stroke-opacity:0.1; fill:none\" points=\"\n  194.422,770.357 2352.76,770.357 \n  \"/>\n<polyline clip-path=\"url(#clip402)\" style=\"stroke:#000000; stroke-linecap:round; stroke-linejoin:round; stroke-width:2; stroke-opacity:0.1; fill:none\" points=\"\n  194.422,491.651 2352.76,491.651 \n  \"/>\n<polyline clip-path=\"url(#clip402)\" style=\"stroke:#000000; stroke-linecap:round; stroke-linejoin:round; stroke-width:2; stroke-opacity:0.1; fill:none\" points=\"\n  194.422,212.945 2352.76,212.945 \n  \"/>\n<polyline clip-path=\"url(#clip400)\" style=\"stroke:#000000; stroke-linecap:round; stroke-linejoin:round; stroke-width:4; stroke-opacity:1; fill:none\" points=\"\n  194.422,1486.45 194.422,47.2441 \n  \"/>\n<polyline clip-path=\"url(#clip400)\" style=\"stroke:#000000; stroke-linecap:round; stroke-linejoin:round; stroke-width:4; stroke-opacity:1; fill:none\" points=\"\n  194.422,1327.77 213.32,1327.77 \n  \"/>\n<polyline clip-path=\"url(#clip400)\" style=\"stroke:#000000; stroke-linecap:round; stroke-linejoin:round; stroke-width:4; stroke-opacity:1; fill:none\" points=\"\n  194.422,1049.06 213.32,1049.06 \n  \"/>\n<polyline clip-path=\"url(#clip400)\" style=\"stroke:#000000; stroke-linecap:round; stroke-linejoin:round; stroke-width:4; stroke-opacity:1; fill:none\" points=\"\n  194.422,770.357 213.32,770.357 \n  \"/>\n<polyline clip-path=\"url(#clip400)\" style=\"stroke:#000000; stroke-linecap:round; stroke-linejoin:round; stroke-width:4; stroke-opacity:1; fill:none\" points=\"\n  194.422,491.651 213.32,491.651 \n  \"/>\n<polyline clip-path=\"url(#clip400)\" style=\"stroke:#000000; stroke-linecap:round; stroke-linejoin:round; stroke-width:4; stroke-opacity:1; fill:none\" points=\"\n  194.422,212.945 213.32,212.945 \n  \"/>\n<path clip-path=\"url(#clip400)\" d=\"M50.9921 1328.22 L80.6679 1328.22 L80.6679 1332.16 L50.9921 1332.16 L50.9921 1328.22 Z\" fill=\"#000000\" fill-rule=\"evenodd\" fill-opacity=\"1\" /><path clip-path=\"url(#clip400)\" d=\"M100.76 1313.57 Q97.1493 1313.57 95.3206 1317.13 Q93.515 1320.68 93.515 1327.8 Q93.515 1334.91 95.3206 1338.48 Q97.1493 1342.02 100.76 1342.02 Q104.395 1342.02 106.2 1338.48 Q108.029 1334.91 108.029 1327.8 Q108.029 1320.68 106.2 1317.13 Q104.395 1313.57 100.76 1313.57 M100.76 1309.87 Q106.571 1309.87 109.626 1314.47 Q112.705 1319.05 112.705 1327.8 Q112.705 1336.53 109.626 1341.14 Q106.571 1345.72 100.76 1345.72 Q94.9502 1345.72 91.8715 1341.14 Q88.816 1336.53 88.816 1327.8 Q88.816 1319.05 91.8715 1314.47 Q94.9502 1309.87 100.76 1309.87 Z\" fill=\"#000000\" fill-rule=\"evenodd\" fill-opacity=\"1\" /><path clip-path=\"url(#clip400)\" d=\"M120.922 1339.17 L125.807 1339.17 L125.807 1345.05 L120.922 1345.05 L120.922 1339.17 Z\" fill=\"#000000\" fill-rule=\"evenodd\" fill-opacity=\"1\" /><path clip-path=\"url(#clip400)\" d=\"M148.839 1314.56 L137.033 1333.01 L148.839 1333.01 L148.839 1314.56 M147.612 1310.49 L153.492 1310.49 L153.492 1333.01 L158.422 1333.01 L158.422 1336.9 L153.492 1336.9 L153.492 1345.05 L148.839 1345.05 L148.839 1336.9 L133.237 1336.9 L133.237 1332.39 L147.612 1310.49 Z\" fill=\"#000000\" fill-rule=\"evenodd\" fill-opacity=\"1\" /><path clip-path=\"url(#clip400)\" d=\"M53.0754 1049.52 L82.7512 1049.52 L82.7512 1053.45 L53.0754 1053.45 L53.0754 1049.52 Z\" fill=\"#000000\" fill-rule=\"evenodd\" fill-opacity=\"1\" /><path clip-path=\"url(#clip400)\" d=\"M102.844 1034.86 Q99.2326 1034.86 97.4039 1038.43 Q95.5984 1041.97 95.5984 1049.1 Q95.5984 1056.2 97.4039 1059.77 Q99.2326 1063.31 102.844 1063.31 Q106.478 1063.31 108.283 1059.77 Q110.112 1056.2 110.112 1049.1 Q110.112 1041.97 108.283 1038.43 Q106.478 1034.86 102.844 1034.86 M102.844 1031.16 Q108.654 1031.16 111.709 1035.77 Q114.788 1040.35 114.788 1049.1 Q114.788 1057.83 111.709 1062.43 Q108.654 1067.02 102.844 1067.02 Q97.0335 1067.02 93.9549 1062.43 Q90.8993 1057.83 90.8993 1049.1 Q90.8993 1040.35 93.9549 1035.77 Q97.0335 1031.16 102.844 1031.16 Z\" fill=\"#000000\" fill-rule=\"evenodd\" fill-opacity=\"1\" /><path clip-path=\"url(#clip400)\" d=\"M123.006 1060.46 L127.89 1060.46 L127.89 1066.34 L123.006 1066.34 L123.006 1060.46 Z\" fill=\"#000000\" fill-rule=\"evenodd\" fill-opacity=\"1\" /><path clip-path=\"url(#clip400)\" d=\"M142.103 1062.41 L158.422 1062.41 L158.422 1066.34 L136.478 1066.34 L136.478 1062.41 Q139.14 1059.65 143.723 1055.02 Q148.33 1050.37 149.51 1049.03 Q151.755 1046.51 152.635 1044.77 Q153.538 1043.01 153.538 1041.32 Q153.538 1038.57 151.593 1036.83 Q149.672 1035.09 146.57 1035.09 Q144.371 1035.09 141.918 1035.86 Q139.487 1036.62 136.709 1038.17 L136.709 1033.45 Q139.533 1032.32 141.987 1031.74 Q144.441 1031.16 146.478 1031.16 Q151.848 1031.16 155.042 1033.84 Q158.237 1036.53 158.237 1041.02 Q158.237 1043.15 157.427 1045.07 Q156.64 1046.97 154.533 1049.56 Q153.955 1050.23 150.853 1053.45 Q147.751 1056.64 142.103 1062.41 Z\" fill=\"#000000\" fill-rule=\"evenodd\" fill-opacity=\"1\" /><path clip-path=\"url(#clip400)\" d=\"M101.246 756.156 Q97.6354 756.156 95.8067 759.721 Q94.0012 763.263 94.0012 770.392 Q94.0012 777.499 95.8067 781.063 Q97.6354 784.605 101.246 784.605 Q104.881 784.605 106.686 781.063 Q108.515 777.499 108.515 770.392 Q108.515 763.263 106.686 759.721 Q104.881 756.156 101.246 756.156 M101.246 752.452 Q107.057 752.452 110.112 757.059 Q113.191 761.642 113.191 770.392 Q113.191 779.119 110.112 783.725 Q107.057 788.309 101.246 788.309 Q95.4363 788.309 92.3576 783.725 Q89.3021 779.119 89.3021 770.392 Q89.3021 761.642 92.3576 757.059 Q95.4363 752.452 101.246 752.452 Z\" fill=\"#000000\" fill-rule=\"evenodd\" fill-opacity=\"1\" /><path clip-path=\"url(#clip400)\" d=\"M121.408 781.758 L126.293 781.758 L126.293 787.637 L121.408 787.637 L121.408 781.758 Z\" fill=\"#000000\" fill-rule=\"evenodd\" fill-opacity=\"1\" /><path clip-path=\"url(#clip400)\" d=\"M146.478 756.156 Q142.867 756.156 141.038 759.721 Q139.232 763.263 139.232 770.392 Q139.232 777.499 141.038 781.063 Q142.867 784.605 146.478 784.605 Q150.112 784.605 151.918 781.063 Q153.746 777.499 153.746 770.392 Q153.746 763.263 151.918 759.721 Q150.112 756.156 146.478 756.156 M146.478 752.452 Q152.288 752.452 155.343 757.059 Q158.422 761.642 158.422 770.392 Q158.422 779.119 155.343 783.725 Q152.288 788.309 146.478 788.309 Q140.668 788.309 137.589 783.725 Q134.533 779.119 134.533 770.392 Q134.533 761.642 137.589 757.059 Q140.668 752.452 146.478 752.452 Z\" fill=\"#000000\" fill-rule=\"evenodd\" fill-opacity=\"1\" /><path clip-path=\"url(#clip400)\" d=\"M102.844 477.45 Q99.2326 477.45 97.4039 481.015 Q95.5984 484.556 95.5984 491.686 Q95.5984 498.792 97.4039 502.357 Q99.2326 505.899 102.844 505.899 Q106.478 505.899 108.283 502.357 Q110.112 498.792 110.112 491.686 Q110.112 484.556 108.283 481.015 Q106.478 477.45 102.844 477.45 M102.844 473.746 Q108.654 473.746 111.709 478.353 Q114.788 482.936 114.788 491.686 Q114.788 500.413 111.709 505.019 Q108.654 509.602 102.844 509.602 Q97.0335 509.602 93.9549 505.019 Q90.8993 500.413 90.8993 491.686 Q90.8993 482.936 93.9549 478.353 Q97.0335 473.746 102.844 473.746 Z\" fill=\"#000000\" fill-rule=\"evenodd\" fill-opacity=\"1\" /><path clip-path=\"url(#clip400)\" d=\"M123.006 503.052 L127.89 503.052 L127.89 508.931 L123.006 508.931 L123.006 503.052 Z\" fill=\"#000000\" fill-rule=\"evenodd\" fill-opacity=\"1\" /><path clip-path=\"url(#clip400)\" d=\"M142.103 504.996 L158.422 504.996 L158.422 508.931 L136.478 508.931 L136.478 504.996 Q139.14 502.241 143.723 497.612 Q148.33 492.959 149.51 491.616 Q151.755 489.093 152.635 487.357 Q153.538 485.598 153.538 483.908 Q153.538 481.154 151.593 479.417 Q149.672 477.681 146.57 477.681 Q144.371 477.681 141.918 478.445 Q139.487 479.209 136.709 480.76 L136.709 476.038 Q139.533 474.904 141.987 474.325 Q144.441 473.746 146.478 473.746 Q151.848 473.746 155.042 476.431 Q158.237 479.117 158.237 483.607 Q158.237 485.737 157.427 487.658 Q156.64 489.556 154.533 492.149 Q153.955 492.82 150.853 496.038 Q147.751 499.232 142.103 504.996 Z\" fill=\"#000000\" fill-rule=\"evenodd\" fill-opacity=\"1\" /><path clip-path=\"url(#clip400)\" d=\"M100.76 198.744 Q97.1493 198.744 95.3206 202.308 Q93.515 205.85 93.515 212.98 Q93.515 220.086 95.3206 223.651 Q97.1493 227.192 100.76 227.192 Q104.395 227.192 106.2 223.651 Q108.029 220.086 108.029 212.98 Q108.029 205.85 106.2 202.308 Q104.395 198.744 100.76 198.744 M100.76 195.04 Q106.571 195.04 109.626 199.646 Q112.705 204.23 112.705 212.98 Q112.705 221.706 109.626 226.313 Q106.571 230.896 100.76 230.896 Q94.9502 230.896 91.8715 226.313 Q88.816 221.706 88.816 212.98 Q88.816 204.23 91.8715 199.646 Q94.9502 195.04 100.76 195.04 Z\" fill=\"#000000\" fill-rule=\"evenodd\" fill-opacity=\"1\" /><path clip-path=\"url(#clip400)\" d=\"M120.922 224.345 L125.807 224.345 L125.807 230.225 L120.922 230.225 L120.922 224.345 Z\" fill=\"#000000\" fill-rule=\"evenodd\" fill-opacity=\"1\" /><path clip-path=\"url(#clip400)\" d=\"M148.839 199.739 L137.033 218.188 L148.839 218.188 L148.839 199.739 M147.612 195.665 L153.492 195.665 L153.492 218.188 L158.422 218.188 L158.422 222.077 L153.492 222.077 L153.492 230.225 L148.839 230.225 L148.839 222.077 L133.237 222.077 L133.237 217.563 L147.612 195.665 Z\" fill=\"#000000\" fill-rule=\"evenodd\" fill-opacity=\"1\" /><polyline clip-path=\"url(#clip402)\" style=\"stroke:#009af9; stroke-linecap:round; stroke-linejoin:round; stroke-width:8; stroke-opacity:1; fill:none\" points=\"\n  255.507,763.525 259.588,763.525 263.668,763.525 267.748,763.525 271.829,763.525 275.909,763.525 279.99,763.525 284.07,763.525 288.151,763.525 292.231,763.525 \n  296.312,763.525 300.392,763.525 304.473,763.525 308.553,763.525 312.634,763.525 316.714,763.525 320.795,763.525 324.875,763.525 328.956,763.525 333.036,763.525 \n  337.117,763.525 341.197,766.257 345.278,765.278 349.358,764.268 353.439,763.228 357.519,762.158 361.6,761.058 365.68,759.929 369.761,758.77 373.841,757.582 \n  377.922,756.366 382.002,755.121 386.083,753.847 390.163,752.546 394.244,751.216 398.324,749.86 402.405,748.475 406.485,747.064 410.566,745.626 414.646,744.162 \n  418.727,742.672 422.807,741.157 426.888,739.616 430.968,738.05 435.049,736.46 439.129,734.847 443.21,733.21 447.29,731.55 451.37,729.867 455.451,728.163 \n  459.531,726.437 463.612,724.69 467.692,722.924 471.773,721.138 475.853,719.332 479.934,717.509 484.014,715.668 488.095,713.81 492.175,711.937 496.256,710.048 \n  500.336,708.144 504.417,706.227 508.497,704.296 512.578,702.354 516.658,700.401 520.739,698.438 524.819,696.465 528.9,694.485 532.98,692.497 537.061,690.503 \n  541.141,688.505 545.222,686.502 549.302,684.497 553.383,682.49 557.463,680.483 561.544,681.229 565.624,678.338 569.705,675.427 573.785,672.499 577.866,669.556 \n  581.946,666.6 586.027,663.635 590.107,660.661 594.188,657.683 598.268,654.702 602.349,651.72 606.429,648.741 610.51,645.767 614.59,642.801 618.671,639.846 \n  622.751,636.904 626.832,633.979 630.912,631.073 634.992,628.189 639.073,625.33 643.153,622.5 647.234,619.702 651.314,616.938 655.395,614.212 659.475,611.527 \n  663.556,608.886 667.636,606.293 671.717,603.75 675.797,601.262 679.878,598.832 683.958,596.462 688.039,594.156 692.119,591.918 696.2,589.751 700.28,587.659 \n  704.361,585.644 708.441,583.71 712.522,581.861 716.602,580.1 720.683,578.429 724.763,576.853 728.844,575.375 732.924,573.997 737.005,572.723 741.085,571.556 \n  745.166,570.499 749.246,569.554 753.327,568.725 757.407,568.015 761.488,567.425 765.568,566.958 769.649,566.617 773.729,566.403 777.81,566.319 781.89,566.366 \n  785.971,566.546 790.051,566.86 794.132,567.31 798.212,567.896 802.293,568.618 806.373,569.478 810.454,570.475 814.534,571.608 818.614,572.878 822.695,574.282 \n  826.775,575.82 830.856,577.489 834.936,579.287 839.017,581.212 843.097,583.26 847.178,585.427 851.258,587.708 855.339,590.099 859.419,592.595 863.5,595.188 \n  867.58,597.872 871.661,600.639 875.741,603.481 879.822,606.39 883.902,609.354 887.983,612.364 892.063,615.409 896.144,618.475 900.224,621.551 904.305,624.621 \n  908.385,627.671 912.466,630.685 916.546,633.648 920.627,636.54 924.707,639.344 928.788,642.039 932.868,644.607 936.949,647.025 941.029,649.271 945.11,651.323 \n  949.19,653.156 953.271,654.745 957.351,656.066 961.432,657.092 965.512,657.797 969.593,658.153 973.673,658.133 977.754,657.709 981.834,656.853 985.915,655.536 \n  989.995,653.732 994.076,651.413 998.156,648.551 1002.24,645.122 1006.32,641.101 1010.4,636.464 1014.48,631.192 1018.56,625.265 1022.64,618.669 1026.72,611.389 \n  1030.8,603.419 1034.88,594.754 1038.96,585.395 1043.04,575.349 1047.12,564.629 1051.2,553.255 1055.28,541.255 1059.36,528.665 1063.44,515.531 1067.52,501.906 \n  1071.6,487.856 1075.69,473.456 1079.77,458.791 1083.85,443.958 1087.93,429.063 1092.01,414.223 1096.09,399.563 1100.17,385.218 1104.25,371.326 1108.33,358.031 \n  1112.41,345.478 1116.49,333.808 1120.57,323.158 1124.65,313.652 1128.73,305.395 1132.81,298.47 1136.89,292.926 1140.97,288.77 1145.05,285.959 1149.13,284.386 \n  1153.21,283.869 1157.3,284.136 1161.38,284.819 1165.46,285.436 1169.54,285.389 1173.62,276.813 1177.7,267.348 1181.78,256.228 1185.86,243.051 1189.94,227.472 \n  1194.02,209.283 1198.1,188.525 1202.18,165.647 1206.26,141.703 1210.34,118.585 1214.42,99.2624 1218.5,87.9763 1222.58,90.2973 1226.66,112.905 1230.74,162.881 \n  1234.82,246.238 1238.9,365.382 1242.99,515.353 1247.07,679.247 1251.15,763.525 1255.23,763.525 1259.31,763.525 1263.39,763.42 1267.47,660.999 1271.55,755.734 \n  1275.63,755.853 1279.71,660.966 1283.79,763.162 1287.87,763.525 1291.95,763.525 1296.03,763.525 1300.11,679.277 1304.19,515.059 1308.27,364.986 1312.35,245.988 \n  1316.43,162.889 1320.51,113.118 1324.6,90.5702 1328.68,88.1672 1332.76,99.2972 1336.84,118.473 1340.92,141.514 1345,165.472 1349.08,188.439 1353.16,209.326 \n  1357.24,227.642 1361.32,243.313 1365.4,256.529 1369.48,267.629 1373.56,277.024 1377.64,285.572 1381.72,285.449 1385.8,284.657 1389.88,283.815 1393.96,283.419 \n  1398.04,283.852 1402.12,285.387 1406.2,288.206 1410.29,292.411 1414.37,298.038 1418.45,305.07 1422.53,313.447 1426.61,323.077 1430.69,333.847 1434.77,345.624 \n  1438.85,358.269 1442.93,371.636 1447.01,385.58 1451.09,399.955 1455.17,414.625 1459.25,429.457 1463.33,444.329 1467.41,459.128 1471.49,473.75 1475.57,488.101 \n  1479.65,502.098 1483.73,515.671 1487.81,528.755 1491.9,541.297 1495.98,553.255 1500.06,564.592 1504.14,575.281 1508.22,585.303 1512.3,594.643 1516.38,603.296 \n  1520.46,611.259 1524.54,618.535 1528.62,625.134 1532.7,631.065 1536.78,636.345 1540.86,640.991 1544.94,645.023 1549.02,648.463 1553.1,651.337 1557.18,653.668 \n  1561.26,655.484 1565.34,656.811 1569.42,657.678 1573.5,658.111 1577.59,658.139 1581.67,657.79 1585.75,657.091 1589.83,656.07 1593.91,654.754 1597.99,653.167 \n  1602.07,651.337 1606.15,649.288 1610.23,647.043 1614.31,644.626 1618.39,642.059 1622.47,639.364 1626.55,636.561 1630.63,633.669 1634.71,630.707 1638.79,627.692 \n  1642.87,624.642 1646.95,621.571 1651.03,618.496 1655.11,615.429 1659.2,612.384 1663.28,609.374 1667.36,606.409 1671.44,603.499 1675.52,600.656 1679.6,597.888 \n  1683.68,595.203 1687.76,592.608 1691.84,590.111 1695.92,587.718 1700,585.435 1704.08,583.265 1708.16,581.215 1712.24,579.288 1716.32,577.486 1720.4,575.814 \n  1724.48,574.272 1728.56,572.865 1732.64,571.592 1736.72,570.455 1740.8,569.454 1744.89,568.591 1748.97,567.865 1753.05,567.275 1757.13,566.822 1761.21,566.505 \n  1765.29,566.322 1769.37,566.272 1773.45,566.354 1777.53,566.565 1781.61,566.905 1785.69,567.37 1789.77,567.958 1793.85,568.668 1797.93,569.497 1802.01,570.441 \n  1806.09,571.499 1810.17,572.666 1814.25,573.941 1818.33,575.32 1822.41,576.801 1826.5,578.379 1830.58,580.052 1834.66,581.816 1838.74,583.669 1842.82,585.606 \n  1846.9,587.624 1850.98,589.721 1855.06,591.892 1859.14,594.134 1863.22,596.444 1867.3,598.818 1871.38,601.253 1875.46,603.746 1879.54,606.293 1883.62,608.891 \n  1887.7,611.536 1891.78,614.225 1895.86,616.955 1899.94,619.723 1904.02,622.526 1908.11,625.36 1912.19,628.222 1916.27,631.109 1920.35,634.018 1924.43,636.946 \n  1928.51,639.89 1932.59,642.848 1936.67,645.816 1940.75,648.791 1944.83,651.771 1948.91,654.754 1952.99,657.736 1957.07,660.714 1961.15,663.688 1965.23,666.653 \n  1969.31,669.608 1973.39,672.55 1977.47,675.477 1981.55,678.386 1985.63,681.277 1989.71,680.418 1993.8,682.428 1997.88,684.439 2001.96,686.448 2006.04,688.455 \n  2010.12,690.459 2014.2,692.459 2018.28,694.452 2022.36,696.44 2026.44,698.419 2030.52,700.39 2034.6,702.351 2038.68,704.302 2042.76,706.241 2046.84,708.167 \n  2050.92,710.079 2055,711.977 2059.08,713.86 2063.16,715.727 2067.24,717.577 2071.32,719.409 2075.41,721.222 2079.49,723.016 2083.57,724.791 2087.65,726.544 \n  2091.73,728.277 2095.81,729.987 2099.89,731.675 2103.97,733.339 2108.05,734.981 2112.13,736.597 2116.21,738.19 2120.29,739.757 2124.37,741.298 2128.45,742.813 \n  2132.53,744.302 2136.61,745.764 2140.69,747.199 2144.77,748.607 2148.85,749.986 2152.93,751.338 2157.01,752.661 2161.1,753.956 2165.18,755.221 2169.26,756.458 \n  2173.34,757.666 2177.42,758.844 2181.5,759.992 2185.58,761.111 2189.66,762.201 2193.74,763.26 2197.82,764.289 2201.9,765.288 2205.98,766.257 2210.06,763.525 \n  2214.14,763.525 2218.22,763.525 2222.3,763.525 2226.38,763.525 2230.46,763.525 2234.54,763.525 2238.62,763.525 2242.71,763.525 2246.79,763.525 2250.87,763.525 \n  2254.95,763.525 2259.03,763.525 2263.11,763.525 2267.19,763.525 2271.27,763.525 2275.35,763.525 2279.43,763.525 2283.51,763.525 2287.59,763.525 2291.67,763.525 \n  \n  \"/>\n<polyline clip-path=\"url(#clip402)\" style=\"stroke:#e26f46; stroke-linecap:round; stroke-linejoin:round; stroke-width:8; stroke-opacity:1; fill:none\" points=\"\n  255.507,770.357 259.588,770.357 263.668,770.357 267.748,770.357 271.829,770.357 275.909,770.357 279.99,770.357 284.07,770.357 288.151,770.357 292.231,770.357 \n  296.312,770.357 300.392,770.357 304.473,770.357 308.553,770.357 312.634,770.357 316.714,770.357 320.795,770.357 324.875,770.357 328.956,770.357 333.036,770.357 \n  337.117,770.357 341.197,767.625 345.278,768.605 349.358,769.615 353.439,770.655 357.519,771.725 361.6,772.825 365.68,773.954 369.761,775.113 373.841,776.3 \n  377.922,777.517 382.002,778.762 386.083,780.035 390.163,781.337 394.244,782.666 398.324,784.023 402.405,785.408 406.485,786.819 410.566,788.257 414.646,789.721 \n  418.727,791.211 422.807,792.726 426.888,794.267 430.968,795.833 435.049,797.422 439.129,799.036 443.21,800.673 447.29,802.333 451.37,804.016 455.451,805.72 \n  459.531,807.446 463.612,809.192 467.692,810.959 471.773,812.745 475.853,814.55 479.934,816.374 484.014,818.215 488.095,820.072 492.175,821.946 496.256,823.835 \n  500.336,825.739 504.417,827.656 508.497,829.586 512.578,831.529 516.658,833.482 520.739,835.445 524.819,837.417 528.9,839.398 532.98,841.386 537.061,843.379 \n  541.141,845.378 545.222,847.381 549.302,849.386 553.383,851.393 557.463,853.4 561.544,858.159 565.624,859.276 569.705,860.366 573.785,861.43 577.866,862.466 \n  581.946,863.475 586.027,864.456 590.107,865.408 594.188,866.332 598.268,867.225 602.349,868.089 606.429,868.922 610.51,869.724 614.59,870.494 618.671,871.232 \n  622.751,871.937 626.832,872.609 630.912,873.247 634.992,873.85 639.073,874.419 643.153,874.951 647.234,875.448 651.314,875.907 655.395,876.329 659.475,876.713 \n  663.556,877.058 667.636,877.363 671.717,877.628 675.797,877.852 679.878,878.034 683.958,878.173 688.039,878.27 692.119,878.322 696.2,878.329 700.28,878.291 \n  704.361,878.206 708.441,878.074 712.522,877.894 716.602,877.664 720.683,877.384 724.763,877.054 728.844,876.672 732.924,876.236 737.005,875.747 741.085,875.204 \n  745.166,874.604 749.246,873.948 753.327,873.235 757.407,872.462 761.488,871.63 765.568,870.737 769.649,869.783 773.729,868.766 777.81,867.685 781.89,866.539 \n  785.971,865.328 790.051,864.049 794.132,862.704 798.212,861.289 802.293,859.805 806.373,858.25 810.454,856.624 814.534,854.925 818.614,853.153 822.695,851.306 \n  826.775,849.385 830.856,847.387 834.936,845.313 839.017,843.161 843.097,840.93 847.178,838.62 851.258,836.23 855.339,833.759 859.419,831.206 863.5,828.571 \n  867.58,825.852 871.661,823.049 875.741,820.161 879.822,817.188 883.902,814.127 887.983,810.979 892.063,807.743 896.144,804.417 900.224,801 904.305,797.492 \n  908.385,793.892 912.466,790.198 916.546,786.409 920.627,782.524 924.707,778.541 928.788,774.46 932.868,770.279 936.949,765.997 941.029,761.612 945.11,757.123 \n  949.19,752.529 953.271,747.827 957.351,743.017 961.432,738.098 965.512,733.067 969.593,727.924 973.673,722.668 977.754,717.296 981.834,711.809 985.915,706.205 \n  989.995,700.483 994.076,694.641 998.156,688.68 1002.24,682.598 1006.32,676.393 1010.4,670.066 1014.48,663.615 1018.56,657.038 1022.64,650.334 1026.72,643.502 \n  1030.8,636.539 1034.88,629.442 1038.96,622.21 1043.04,614.839 1047.12,607.325 1051.2,599.665 1055.28,591.854 1059.36,583.888 1063.44,575.761 1067.52,567.47 \n  1071.6,559.009 1075.69,550.374 1079.77,541.561 1083.85,532.565 1087.93,523.384 1092.01,514.015 1096.09,504.457 1100.17,494.707 1104.25,484.764 1108.33,474.627 \n  1112.41,464.292 1116.49,453.756 1120.57,443.013 1124.65,432.053 1128.73,420.863 1132.81,409.426 1136.89,397.72 1140.97,385.722 1145.05,373.403 1149.13,360.735 \n  1153.21,347.692 1157.3,334.252 1161.38,320.404 1165.46,306.148 1169.54,291.5 1173.62,283.645 1177.7,274.18 1181.78,263.06 1185.86,249.883 1189.94,234.304 \n  1194.02,216.115 1198.1,195.357 1202.18,172.479 1206.26,148.535 1210.34,125.417 1214.42,106.095 1218.5,94.8084 1222.58,97.1294 1226.66,119.737 1230.74,169.714 \n  1234.82,253.07 1238.9,372.214 1242.99,522.185 1247.07,686.079 1251.15,770.357 1255.23,770.357 1259.31,770.357 1263.39,770.253 1267.47,667.831 1271.55,762.566 \n  1275.63,778.03 1279.71,872.917 1283.79,770.721 1287.87,770.357 1291.95,770.357 1296.03,770.357 1300.11,854.605 1304.19,1018.82 1308.27,1168.9 1312.35,1287.89 \n  1316.43,1370.99 1320.51,1420.76 1324.6,1443.31 1328.68,1445.72 1332.76,1434.59 1336.84,1415.41 1340.92,1392.37 1345,1368.41 1349.08,1345.44 1353.16,1324.56 \n  1357.24,1306.24 1361.32,1290.57 1365.4,1277.35 1369.48,1266.25 1373.56,1256.86 1377.64,1249.18 1381.72,1234.6 1385.8,1220.39 1389.88,1206.58 1393.96,1193.15 \n  1398.04,1180.09 1402.12,1167.4 1406.2,1155.05 1410.29,1143.02 1414.37,1131.29 1418.45,1119.84 1422.53,1108.63 1426.61,1097.67 1430.69,1086.93 1434.77,1076.4 \n  1438.85,1066.08 1442.93,1055.95 1447.01,1046.02 1451.09,1036.27 1455.17,1026.72 1459.25,1017.35 1463.33,1008.17 1467.41,999.171 1471.49,990.356 1475.57,981.72 \n  1479.65,973.259 1483.73,964.97 1487.81,956.848 1491.9,948.887 1495.98,941.083 1500.06,933.431 1504.14,925.925 1508.22,918.561 1512.3,911.334 1516.38,904.241 \n  1520.46,897.278 1524.54,890.441 1528.62,883.73 1532.7,877.142 1536.78,870.675 1540.86,864.328 1544.94,858.101 1549.02,851.994 1553.1,846.005 1557.18,840.136 \n  1561.26,834.385 1565.34,828.754 1569.42,823.241 1573.5,817.846 1577.59,812.569 1581.67,807.41 1585.75,802.367 1589.83,797.44 1593.91,792.628 1597.99,787.929 \n  1602.07,783.343 1606.15,778.866 1610.23,774.499 1614.31,770.238 1618.39,766.083 1622.47,762.031 1626.55,758.08 1630.63,754.228 1634.71,750.474 1638.79,746.815 \n  1642.87,743.25 1646.95,739.777 1651.03,736.395 1655.11,733.101 1659.2,729.895 1663.28,726.774 1667.36,723.738 1671.44,720.786 1675.52,717.916 1679.6,715.127 \n  1683.68,712.419 1687.76,709.791 1691.84,707.242 1695.92,704.771 1700,702.378 1704.08,700.062 1708.16,697.823 1712.24,695.66 1716.32,693.572 1720.4,691.559 \n  1724.48,689.621 1728.56,687.756 1732.64,685.965 1736.72,684.247 1740.8,682.601 1744.89,681.027 1748.97,679.523 1753.05,678.09 1757.13,676.726 1761.21,675.431 \n  1765.29,674.204 1769.37,673.043 1773.45,671.949 1777.53,670.92 1781.61,669.954 1785.69,669.052 1789.77,668.212 1793.85,667.433 1797.93,666.714 1802.01,666.054 \n  1806.09,665.452 1810.17,664.907 1814.25,664.417 1818.33,663.981 1822.41,663.599 1826.5,663.269 1830.58,662.991 1834.66,662.762 1838.74,662.583 1842.82,662.452 \n  1846.9,662.368 1850.98,662.331 1855.06,662.339 1859.14,662.391 1863.22,662.486 1867.3,662.624 1871.38,662.804 1875.46,663.025 1879.54,663.287 1883.62,663.588 \n  1887.7,663.928 1891.78,664.306 1895.86,664.722 1899.94,665.175 1904.02,665.664 1908.11,666.189 1912.19,666.75 1916.27,667.346 1920.35,667.976 1924.43,668.639 \n  1928.51,669.337 1932.59,670.067 1936.67,670.83 1940.75,671.625 1944.83,672.452 1948.91,673.31 1952.99,674.199 1957.07,675.119 1961.15,676.069 1965.23,677.048 \n  1969.31,678.057 1973.39,679.094 1977.47,680.16 1981.55,681.254 1985.63,682.375 1989.71,687.251 1993.8,689.261 1997.88,691.271 2001.96,693.28 2006.04,695.287 \n  2010.12,697.291 2014.2,699.291 2018.28,701.285 2022.36,703.272 2026.44,705.252 2030.52,707.222 2034.6,709.184 2038.68,711.134 2042.76,713.073 2046.84,714.999 \n  2050.92,716.911 2055,718.81 2059.08,720.692 2063.16,722.559 2067.24,724.409 2071.32,726.241 2075.41,728.054 2079.49,729.848 2083.57,731.623 2087.65,733.376 \n  2091.73,735.109 2095.81,736.819 2099.89,738.507 2103.97,740.172 2108.05,741.813 2112.13,743.43 2116.21,745.022 2120.29,746.589 2124.37,748.13 2128.45,749.645 \n  2132.53,751.134 2136.61,752.596 2140.69,754.031 2144.77,755.439 2148.85,756.818 2152.93,758.17 2157.01,759.493 2161.1,760.788 2165.18,762.053 2169.26,763.29 \n  2173.34,764.498 2177.42,765.676 2181.5,766.825 2185.58,767.943 2189.66,769.033 2193.74,770.092 2197.82,771.121 2201.9,772.12 2205.98,773.089 2210.06,770.357 \n  2214.14,770.357 2218.22,770.357 2222.3,770.357 2226.38,770.357 2230.46,770.357 2234.54,770.357 2238.62,770.357 2242.71,770.357 2246.79,770.357 2250.87,770.357 \n  2254.95,770.357 2259.03,770.357 2263.11,770.357 2267.19,770.357 2271.27,770.357 2275.35,770.357 2279.43,770.357 2283.51,770.357 2287.59,770.357 2291.67,770.357 \n  \n  \"/>\n<path clip-path=\"url(#clip400)\" d=\"\nM1988.57 250.738 L2280.81 250.738 L2280.81 95.2176 L1988.57 95.2176  Z\n  \" fill=\"#ffffff\" fill-rule=\"evenodd\" fill-opacity=\"1\"/>\n<polyline clip-path=\"url(#clip400)\" style=\"stroke:#000000; stroke-linecap:round; stroke-linejoin:round; stroke-width:4; stroke-opacity:1; fill:none\" points=\"\n  1988.57,250.738 2280.81,250.738 2280.81,95.2176 1988.57,95.2176 1988.57,250.738 \n  \"/>\n<polyline clip-path=\"url(#clip400)\" style=\"stroke:#009af9; stroke-linecap:round; stroke-linejoin:round; stroke-width:4; stroke-opacity:1; fill:none\" points=\"\n  2012.55,147.058 2156.44,147.058 \n  \"/>\n<path clip-path=\"url(#clip400)\" d=\"M2194.26 166.745 Q2192.46 171.375 2190.74 172.787 Q2189.03 174.199 2186.16 174.199 L2182.76 174.199 L2182.76 170.634 L2185.26 170.634 Q2187.02 170.634 2187.99 169.8 Q2188.96 168.967 2190.14 165.865 L2190.9 163.921 L2180.42 138.412 L2184.93 138.412 L2193.03 158.689 L2201.14 138.412 L2205.65 138.412 L2194.26 166.745 Z\" fill=\"#000000\" fill-rule=\"evenodd\" fill-opacity=\"1\" /><path clip-path=\"url(#clip400)\" d=\"M2212.94 160.402 L2220.58 160.402 L2220.58 134.037 L2212.27 135.703 L2212.27 131.444 L2220.53 129.778 L2225.21 129.778 L2225.21 160.402 L2232.85 160.402 L2232.85 164.338 L2212.94 164.338 L2212.94 160.402 Z\" fill=\"#000000\" fill-rule=\"evenodd\" fill-opacity=\"1\" /><polyline clip-path=\"url(#clip400)\" style=\"stroke:#e26f46; stroke-linecap:round; stroke-linejoin:round; stroke-width:4; stroke-opacity:1; fill:none\" points=\"\n  2012.55,198.898 2156.44,198.898 \n  \"/>\n<path clip-path=\"url(#clip400)\" d=\"M2194.26 218.585 Q2192.46 223.215 2190.74 224.627 Q2189.03 226.039 2186.16 226.039 L2182.76 226.039 L2182.76 222.474 L2185.26 222.474 Q2187.02 222.474 2187.99 221.64 Q2188.96 220.807 2190.14 217.705 L2190.9 215.761 L2180.42 190.252 L2184.93 190.252 L2193.03 210.529 L2201.14 190.252 L2205.65 190.252 L2194.26 218.585 Z\" fill=\"#000000\" fill-rule=\"evenodd\" fill-opacity=\"1\" /><path clip-path=\"url(#clip400)\" d=\"M2216.16 212.242 L2232.48 212.242 L2232.48 216.178 L2210.53 216.178 L2210.53 212.242 Q2213.2 209.488 2217.78 204.858 Q2222.39 200.205 2223.57 198.863 Q2225.81 196.34 2226.69 194.604 Q2227.59 192.844 2227.59 191.155 Q2227.59 188.4 2225.65 186.664 Q2223.73 184.928 2220.63 184.928 Q2218.43 184.928 2215.97 185.692 Q2213.54 186.455 2210.77 188.006 L2210.77 183.284 Q2213.59 182.15 2216.04 181.571 Q2218.5 180.993 2220.53 180.993 Q2225.9 180.993 2229.1 183.678 Q2232.29 186.363 2232.29 190.854 Q2232.29 192.983 2231.48 194.905 Q2230.7 196.803 2228.59 199.395 Q2228.01 200.067 2224.91 203.284 Q2221.81 206.479 2216.16 212.242 Z\" fill=\"#000000\" fill-rule=\"evenodd\" fill-opacity=\"1\" /></svg>\n"
     },
     "execution_count": 56,
     "metadata": {},
     "output_type": "execute_result"
    }
   ],
   "source": [
    "plot(w_mesh, gi[:,1], linewidth=2.0)\n",
    "plot!(w_mesh, gi[:,4], linewidth=2.0)\n",
    "#plot(w_mesh, gi[:,1]-gi[:,4], linewidth=2.0)\n",
    "#plot!(w_mesh, gi[:,1]+gi[:,4], linewidth=2.0)"
   ]
  },
  {
   "cell_type": "code",
   "execution_count": 53,
   "metadata": {},
   "outputs": [
    {
     "data": {
      "text/plain": [
       "renorm_rho (generic function with 1 method)"
      ]
     },
     "execution_count": 53,
     "metadata": {},
     "output_type": "execute_result"
    }
   ],
   "source": [
    "f(beta::Float64, w::Float64) = 1.0/(1.0+exp(beta*w))\n",
    "function renorm_rho(beta::Float64, w::Vector{Float64}, rho::Vector{Float64})\n",
    "    n = 0.0\n",
    "    dw = w[2]-w[1]\n",
    "    for i in 1:length(w)\n",
    "        n += dw * rho[i] * f(beta, w[i])\n",
    "    end\n",
    "    #rho1 = (0.5/n) * rho\n",
    "    #return rho1\n",
    "    return n\n",
    "end"
   ]
  },
  {
   "cell_type": "code",
   "execution_count": 54,
   "metadata": {},
   "outputs": [
    {
     "data": {
      "text/plain": [
       "0.5099196562596192"
      ]
     },
     "execution_count": 54,
     "metadata": {},
     "output_type": "execute_result"
    }
   ],
   "source": [
    "nn = renorm_rho(irx.beta, w_mesh, gi[:,1])"
   ]
  },
  {
   "cell_type": "code",
   "execution_count": 55,
   "metadata": {},
   "outputs": [
    {
     "data": {
      "text/plain": [
       "500×4 Matrix{Float64}:\n",
       " 0.00490273  -0.000532058   4.39906e-5   0.0\n",
       " 0.00490273  -0.000424945   4.08718e-5   0.0\n",
       " 0.00490273  -0.000331557   3.69655e-5   0.0\n",
       " 0.00490273  -0.000250644   3.24299e-5   0.0\n",
       " 0.00490273  -0.000181031   2.74123e-5   0.0\n",
       " 0.00490273  -0.00012162    2.20489e-5   0.0\n",
       " 0.00490273  -7.13822e-5    1.64653e-5   0.0\n",
       " 0.00490273  -2.93565e-5    1.07767e-5   0.0\n",
       " 0.00490273   5.35056e-6    5.08781e-6   0.0\n",
       " 0.00490273   3.35692e-5   -5.06553e-7   0.0\n",
       " 0.00490273   5.60681e-5   -5.92131e-6   0.0\n",
       " 0.00490273   7.35572e-5   -1.10808e-5   0.0\n",
       " 0.00490273   8.66899e-5   -1.59187e-5   0.0\n",
       " ⋮                                       \n",
       " 0.00490273   4.24307e-5    2.74147e-5   0.0\n",
       " 0.00490273   5.06724e-5    1.35215e-5   0.0\n",
       " 0.00490273   6.00051e-5    6.60272e-10  0.0\n",
       " 0.00490273   7.05565e-5   -1.26788e-5   0.0\n",
       " 0.00490273   8.24618e-5   -2.39887e-5   0.0\n",
       " 0.00490273   9.58631e-5   -3.33393e-5   0.0\n",
       " 0.00490273   0.00011091   -4.00759e-5   0.0\n",
       " 0.00490273   0.000127758  -4.34759e-5   0.0\n",
       " 0.00490273   0.000146572  -4.27454e-5   0.0\n",
       " 0.00490273   0.000167522  -3.7017e-5    0.0\n",
       " 0.00490273   0.000190786  -2.53456e-5   0.0\n",
       " 0.00490273   0.000216547  -6.70622e-6   0.0"
      ]
     },
     "execution_count": 55,
     "metadata": {},
     "output_type": "execute_result"
    }
   ],
   "source": [
    "gi = (0.5/nn) * gi"
   ]
  },
  {
   "cell_type": "code",
   "execution_count": 1,
   "metadata": {},
   "outputs": [],
   "source": [
    "using Distributed"
   ]
  },
  {
   "cell_type": "code",
   "execution_count": 2,
   "metadata": {},
   "outputs": [
    {
     "data": {
      "text/plain": [
       "4-element Vector{Int64}:\n",
       " 2\n",
       " 3\n",
       " 4\n",
       " 5"
      ]
     },
     "execution_count": 2,
     "metadata": {},
     "output_type": "execute_result"
    }
   ],
   "source": [
    "addprocs(4)"
   ]
  },
  {
   "cell_type": "code",
   "execution_count": 11,
   "metadata": {},
   "outputs": [],
   "source": [
    "@everywhere using SharedArrays"
   ]
  },
  {
   "cell_type": "code",
   "execution_count": 19,
   "metadata": {},
   "outputs": [
    {
     "data": {
      "text/plain": [
       "8-element SharedVector{Float64}:\n",
       " 0.0\n",
       " 0.0\n",
       " 0.0\n",
       " 0.0\n",
       " 0.0\n",
       " 0.0\n",
       " 0.0\n",
       " 0.0"
      ]
     },
     "execution_count": 19,
     "metadata": {},
     "output_type": "execute_result"
    }
   ],
   "source": [
    "a = SharedArray{Float64}(8)"
   ]
  },
  {
   "cell_type": "code",
   "execution_count": 21,
   "metadata": {},
   "outputs": [
    {
     "data": {
      "text/plain": [
       "Task (runnable) @0x000000010f5270f0"
      ]
     },
     "execution_count": 21,
     "metadata": {},
     "output_type": "execute_result"
    }
   ],
   "source": [
    "@distributed for i in 1:8\n",
    "    a[i] = 5\n",
    "end"
   ]
  },
  {
   "cell_type": "code",
   "execution_count": 22,
   "metadata": {},
   "outputs": [
    {
     "data": {
      "text/plain": [
       "8-element SharedVector{Float64}:\n",
       " 5.0\n",
       " 5.0\n",
       " 5.0\n",
       " 5.0\n",
       " 5.0\n",
       " 5.0\n",
       " 5.0\n",
       " 5.0"
      ]
     },
     "execution_count": 22,
     "metadata": {},
     "output_type": "execute_result"
    }
   ],
   "source": [
    "a"
   ]
  },
  {
   "cell_type": "code",
   "execution_count": 28,
   "metadata": {},
   "outputs": [
    {
     "data": {
      "text/plain": [
       "100×2×2 SharedArray{Float64, 3}:\n",
       "[:, :, 1] =\n",
       " 0.0  0.0\n",
       " 0.0  0.0\n",
       " 0.0  0.0\n",
       " 0.0  0.0\n",
       " 0.0  0.0\n",
       " 0.0  0.0\n",
       " 0.0  0.0\n",
       " 0.0  0.0\n",
       " 0.0  0.0\n",
       " 0.0  0.0\n",
       " 0.0  0.0\n",
       " 0.0  0.0\n",
       " 0.0  0.0\n",
       " ⋮    \n",
       " 0.0  0.0\n",
       " 0.0  0.0\n",
       " 0.0  0.0\n",
       " 0.0  0.0\n",
       " 0.0  0.0\n",
       " 0.0  0.0\n",
       " 0.0  0.0\n",
       " 0.0  0.0\n",
       " 0.0  0.0\n",
       " 0.0  0.0\n",
       " 0.0  0.0\n",
       " 0.0  0.0\n",
       "\n",
       "[:, :, 2] =\n",
       " 0.0  0.0\n",
       " 0.0  0.0\n",
       " 0.0  0.0\n",
       " 0.0  0.0\n",
       " 0.0  0.0\n",
       " 0.0  0.0\n",
       " 0.0  0.0\n",
       " 0.0  0.0\n",
       " 0.0  0.0\n",
       " 0.0  0.0\n",
       " 0.0  0.0\n",
       " 0.0  0.0\n",
       " 0.0  0.0\n",
       " ⋮    \n",
       " 0.0  0.0\n",
       " 0.0  0.0\n",
       " 0.0  0.0\n",
       " 0.0  0.0\n",
       " 0.0  0.0\n",
       " 0.0  0.0\n",
       " 0.0  0.0\n",
       " 0.0  0.0\n",
       " 0.0  0.0\n",
       " 0.0  0.0\n",
       " 0.0  0.0\n",
       " 0.0  0.0"
      ]
     },
     "execution_count": 28,
     "metadata": {},
     "output_type": "execute_result"
    }
   ],
   "source": [
    "z = SharedArray{Float64, 3}(100, 2, 2)"
   ]
  },
  {
   "cell_type": "code",
   "execution_count": 29,
   "metadata": {},
   "outputs": [
    {
     "data": {
      "text/plain": [
       "2×2 Matrix{Float64}:\n",
       " 0.0  0.0\n",
       " 0.0  0.0"
      ]
     },
     "execution_count": 29,
     "metadata": {},
     "output_type": "execute_result"
    }
   ],
   "source": [
    "z[1,:,:]"
   ]
  },
  {
   "cell_type": "code",
   "execution_count": 30,
   "metadata": {},
   "outputs": [
    {
     "data": {
      "text/plain": [
       "2×2 Matrix{Float64}:\n",
       " 2.0  1.0\n",
       " 2.0  1.0"
      ]
     },
     "execution_count": 30,
     "metadata": {},
     "output_type": "execute_result"
    }
   ],
   "source": [
    "z[1,:,:] = [2.0 1.0; 2.0 1.0]"
   ]
  },
  {
   "cell_type": "code",
   "execution_count": null,
   "metadata": {},
   "outputs": [],
   "source": []
  }
 ],
 "metadata": {
  "kernelspec": {
   "display_name": "Julia 1.8.2",
   "language": "julia",
   "name": "julia-1.8"
  },
  "language_info": {
   "file_extension": ".jl",
   "mimetype": "application/julia",
   "name": "julia",
   "version": "1.8.2"
  },
  "orig_nbformat": 4,
  "vscode": {
   "interpreter": {
    "hash": "ba9adc20f5d2cbd026ba97e5cdba9f52f75b0bad1640aec7f9933b7bf8f6712d"
   }
  }
 },
 "nbformat": 4,
 "nbformat_minor": 2
}
