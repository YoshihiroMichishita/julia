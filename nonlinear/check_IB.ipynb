{
 "cells": [
  {
   "cell_type": "code",
   "execution_count": 2,
   "metadata": {},
   "outputs": [],
   "source": [
    "include(\"model_2D_IB.jl\")\n",
    "\n",
    "using SparseIR, Plots\n",
    "#using OMEinsum\n",
    "#using FastGaussQuadrature\n",
    "import SparseIR: valueim, value\n",
    "import SparseIR: fit"
   ]
  },
  {
   "cell_type": "code",
   "execution_count": 3,
   "metadata": {},
   "outputs": [
    {
     "data": {
      "text/plain": [
       "gk_m (generic function with 1 method)"
      ]
     },
     "execution_count": 3,
     "metadata": {},
     "output_type": "execute_result"
    }
   ],
   "source": [
    "struct IR_params\n",
    "    U::Float64\n",
    "    beta::Float64\n",
    "    bw::Float64\n",
    "    basis::FiniteTempBasis\n",
    "    #{Fermionic, LogisticKernel, Float64, Float64}\n",
    "    \n",
    "    smpl_matsu::MatsubaraSampling64F\n",
    "    smpl_tau::TauSampling64\n",
    "\n",
    "    n_matsu::Int\n",
    "    n_tau::Int\n",
    "\n",
    "    smpl_wn::Vector{ComplexF64}\n",
    "end\n",
    "\n",
    "function set_IR(U::Float64, beta::Float64, bw::Float64)\n",
    "    basis = FiniteTempBasis(Fermionic(), beta, bw, 1e-10)\n",
    "\n",
    "    smpl_matsu = MatsubaraSampling(basis)\n",
    "    n_matsu = size(smpl_matsu.sampling_points)[1]\n",
    "\n",
    "    smpl_tau = TauSampling(basis)\n",
    "    n_tau = size(smpl_tau.sampling_points)[1]\n",
    "\n",
    "    smpl_wn = zeros(ComplexF64, n_matsu)\n",
    "    for w in 1:n_matsu\n",
    "        smpl_wn[w] = valueim(smpl_matsu.sampling_points[w], beta)\n",
    "    end\n",
    "\n",
    "    return U, beta, bw, basis, smpl_matsu, smpl_tau, n_matsu, n_tau, smpl_wn\n",
    "end\n",
    "\n",
    "mutable struct Green_Sigma\n",
    "    g0_ir::Vector{Matrix{ComplexF64}}\n",
    "    g0_ir_vec::Matrix{Float64}\n",
    "    g0_tau::Vector{Matrix{ComplexF64}}\n",
    "    g0_matsu::Vector{Matrix{ComplexF64}}\n",
    "\n",
    "    g_ir::Vector{Matrix{ComplexF64}}\n",
    "    g_ir_vec::Matrix{Float64}\n",
    "    g_matsu::Vector{Matrix{ComplexF64}}\n",
    "\n",
    "    sigma_ir::Vector{Matrix{ComplexF64}}\n",
    "    sigma_tau::Vector{Matrix{ComplexF64}}\n",
    "    sigma_matsu::Vector{Matrix{ComplexF64}}\n",
    "\n",
    "    n_ir::Int\n",
    "end\n",
    "\n",
    "function init_zero_g(ir::IR_params)\n",
    "    \n",
    "    g0_ir::Vector{Matrix{ComplexF64}} = []\n",
    "    g0_ir_vec = zeros(Float64, 43, 4)\n",
    "    g0_tau::Vector{Matrix{ComplexF64}} = []\n",
    "    g0_matsu::Vector{Matrix{ComplexF64}} = []\n",
    "\n",
    "    g_ir::Vector{Matrix{ComplexF64}} = []\n",
    "    g_ir_vec = zeros(Float64, 43, 4)\n",
    "    g_matsu::Vector{Matrix{ComplexF64}} = []\n",
    "\n",
    "    sigma_ir::Vector{Matrix{ComplexF64}} = []\n",
    "    sigma_tau::Vector{Matrix{ComplexF64}} = []\n",
    "    sigma_matsu::Vector{Matrix{ComplexF64}} = []\n",
    "\n",
    "    n_ir::Int = 0\n",
    "\n",
    "    return g0_ir, g0_ir_vec, g0_tau, g0_matsu, g_ir, g_ir_vec, g_matsu, sigma_ir, sigma_tau, sigma_matsu, n_ir\n",
    "end\n",
    "\n",
    "\n",
    "function gk_m(p::Parm, k::Vector{Float64}, w::ComplexF64, g::Green_Sigma)\n",
    "    e = set_H(k,p)\n",
    "    gk = 1.0/(w - e - g.sig)\n",
    "    return gk\n",
    "end\n"
   ]
  },
  {
   "cell_type": "code",
   "execution_count": 4,
   "metadata": {},
   "outputs": [
    {
     "name": "stdout",
     "output_type": "stream",
     "text": [
      "Parm(0.5, 0.2, 0.3, -2.0, 0.05, 200, 2.5e-5)\n"
     ]
    }
   ],
   "source": [
    "px = Parm(set_parm([\"0.5\",\"0.2\",\"0.3\", \"-2.0\", \"0.05\", \"200\"])...)\n",
    "irx = IR_params(set_IR(4.0, 100.0, 4.0)...)\n",
    "gx = Green_Sigma(init_zero_g(irx)...)\n",
    "println(px)"
   ]
  },
  {
   "cell_type": "code",
   "execution_count": 5,
   "metadata": {},
   "outputs": [
    {
     "data": {
      "text/plain": [
       "get_G0mlocal! (generic function with 1 method)"
      ]
     },
     "execution_count": 5,
     "metadata": {},
     "output_type": "execute_result"
    }
   ],
   "source": [
    "\n",
    "function get_G0mlocal!(p::Parm, k_BZ::Vector{Vector{Float64}}, sw::Int,ir::IR_params, g::Green_Sigma)\n",
    "    if(sw == 1)\n",
    "        for wn in 1:ir.n_matsu\n",
    "            gw_l = zeros(ComplexF64, 2, 2)\n",
    "            gl = zeros(ComplexF64, 2, 2)\n",
    "            for i in 1:length(k_BZ)\n",
    "                e = set_H(k_BZ[i],p) - p.mu*Matrix{Complex{Float64}}(I,2,2)\n",
    "                #gk = 1.0/(w - e + p.eta*1.0im*sign(imag(w)))\n",
    "                gk = inv(ir.smpl_wn[wn]*Matrix{Complex{Float64}}(I,2,2) - e)\n",
    "                gw_l += p.dk2 * gk\n",
    "            end\n",
    "            push!(g.g0_matsu, gw_l)\n",
    "            push!(g.g_matsu, gl)\n",
    "        end\n",
    "    else\n",
    "        for wn in 1:ir.n_matsu\n",
    "            gw_l = zeros(ComplexF64, 2, 2)\n",
    "            gl = zeros(ComplexF64, 2, 2)\n",
    "            for i in 1:length(k_BZ)\n",
    "                e = set_H(k_BZ[i],p) - p.mu*Matrix{Complex{Float64}}(I,2,2)\n",
    "                #gk = 1.0/(w - e + p.eta*1.0im*sign(imag(w)))\n",
    "                gk = inv(ir.smpl_wn[wn]*Matrix{Complex{Float64}}(I,2,2) - e - g.sigma_matsu[wn])\n",
    "                gl += p.dk2 * gk\n",
    "            end\n",
    "            gw_l = inv(inv(gl) + g.sigma_matsu[wn])\n",
    "            g.g0_matsu[wn] = gw_l\n",
    "            g.g_matsu[wn] = gl\n",
    "        end\n",
    "    end\n",
    "    return nothing\n",
    "end"
   ]
  },
  {
   "cell_type": "code",
   "execution_count": 6,
   "metadata": {},
   "outputs": [
    {
     "data": {
      "text/plain": [
       "MatsuToTau! (generic function with 1 method)"
      ]
     },
     "execution_count": 6,
     "metadata": {},
     "output_type": "execute_result"
    }
   ],
   "source": [
    "function MatsuToTau!(ir::IR_params, g::Green_Sigma)\n",
    "    g.g0_ir = fit(ir.smpl_matsu, g.g0_matsu, dim=1)\n",
    "    g.g_ir = fit(ir.smpl_matsu, g.g_matsu, dim=1)\n",
    "    g.n_ir = size(g.g0_ir)[1]\n",
    "    g.g0_tau = evaluate(ir.smpl_tau, g.g0_ir, dim=1)\n",
    "end"
   ]
  },
  {
   "cell_type": "code",
   "execution_count": 7,
   "metadata": {},
   "outputs": [],
   "source": [
    "kk = get_kk(px.K_SIZE)\n",
    "get_G0mlocal!(px, kk, 1, irx, gx)\n",
    "    #MatsuToTau!(ir, g)"
   ]
  },
  {
   "cell_type": "code",
   "execution_count": 8,
   "metadata": {},
   "outputs": [
    {
     "name": "stdout",
     "output_type": "stream",
     "text": [
      "done!\n"
     ]
    }
   ],
   "source": [
    "MatsuToTau!(irx, gx)\n",
    "println(\"done!\")"
   ]
  },
  {
   "cell_type": "code",
   "execution_count": 9,
   "metadata": {},
   "outputs": [
    {
     "data": {
      "text/plain": [
       "43"
      ]
     },
     "execution_count": 9,
     "metadata": {},
     "output_type": "execute_result"
    }
   ],
   "source": [
    "gx.n_ir"
   ]
  },
  {
   "cell_type": "code",
   "execution_count": 10,
   "metadata": {},
   "outputs": [
    {
     "data": {
      "text/plain": [
       "calc_sigma! (generic function with 1 method)"
      ]
     },
     "execution_count": 10,
     "metadata": {},
     "output_type": "execute_result"
    }
   ],
   "source": [
    "function calc_sigma!(sw::Int, ir::IR_params, g::Green_Sigma)\n",
    "    for tau in 1:ir.n_tau\n",
    "        if(sw == 1)\n",
    "            test = zeros(ComplexF64, 2, 2)\n",
    "            for i in 1:2, j in 1:2 \n",
    "                test[i,j] = ir.U^2 * (g.g0_tau[tau])[i,j] * (g.g0_tau[tau])[3-i,3-j] * (g.g0_tau[end+1-tau])[3-i,3-j]\n",
    "                #test[i,j] = ir.U^2 * (g.g0_tau[tau])[i,j] * (g.g0_tau[tau])[i,j] * (g.g0_tau[end+1-tau])[i,j]\n",
    "            end\n",
    "            push!(g.sigma_tau, test)\n",
    "        else\n",
    "            for i in 1:2, j in 1:2 \n",
    "                (g.sigma_tau[tau])[i,j] = ir.U^2 * (g.g0_tau[tau])[i,j] * (g.g0_tau[tau])[3-i,3-j] * (g.g0_tau[end+1-tau])[3-i,3-j]\n",
    "                #(g.sigma_tau[tau])[i,j] = ir.U^2 * (g.g0_tau[tau])[i,j] * (g.g0_tau[tau])[i,j] * (g.g0_tau[end+1-tau])[i,j]\n",
    "            end\n",
    "        end\n",
    "    end\n",
    "    return nothing\n",
    "end"
   ]
  },
  {
   "cell_type": "code",
   "execution_count": 11,
   "metadata": {},
   "outputs": [],
   "source": [
    "calc_sigma!(1, irx, gx)"
   ]
  },
  {
   "cell_type": "code",
   "execution_count": 12,
   "metadata": {},
   "outputs": [
    {
     "data": {
      "text/plain": [
       "TauToMatsu! (generic function with 1 method)"
      ]
     },
     "execution_count": 12,
     "metadata": {},
     "output_type": "execute_result"
    }
   ],
   "source": [
    "function TauToMatsu!(sw::Int, ir::IR_params, g::Green_Sigma, γ::Float64)\n",
    "    ir_new = fit(ir.smpl_tau, g.sigma_tau)\n",
    "    diff0 =0.0\n",
    "    sum0 = 0.0\n",
    "    if(sw == 1)\n",
    "        for i in 1:g.n_ir\n",
    "            diff0 += sum(abs.(ir_new[i]))\n",
    "            push!(g.sigma_ir, zeros(ComplexF64, 2, 2))\n",
    "        end\n",
    "        sum0 = 1.0\n",
    "    else\n",
    "        for i in 1:g.n_ir\n",
    "            diff0 += sum(abs.(ir_new[i] .- g.sigma_ir[i]))\n",
    "            sum0 += sum(abs.(g.sigma_ir[i]))\n",
    "        end\n",
    "    end\n",
    "    diff = diff0/sum0\n",
    "    g.sigma_ir = (1.0-γ) .* g.sigma_ir .+ γ .* ir_new\n",
    "    g.sigma_matsu = evaluate(ir.smpl_matsu, g.sigma_ir, dim=1)\n",
    "\n",
    "    return diff\n",
    "end"
   ]
  },
  {
   "cell_type": "code",
   "execution_count": 13,
   "metadata": {},
   "outputs": [
    {
     "data": {
      "text/plain": [
       "6.367193908753284"
      ]
     },
     "execution_count": 13,
     "metadata": {},
     "output_type": "execute_result"
    }
   ],
   "source": [
    "diff = TauToMatsu!(1, irx, gx, 0.2)"
   ]
  },
  {
   "cell_type": "code",
   "execution_count": 14,
   "metadata": {},
   "outputs": [
    {
     "data": {
      "text/plain": [
       "update_g! (generic function with 1 method)"
      ]
     },
     "execution_count": 14,
     "metadata": {},
     "output_type": "execute_result"
    }
   ],
   "source": [
    "function update_g!(p::Parm, k_BZ::Vector{Vector{Float64}},sw::Int, ir::IR_params, g::Green_Sigma, γ::Float64)\n",
    "    get_G0mlocal!(p, k_BZ, sw, ir, g)\n",
    "    MatsuToTau!(ir, g)\n",
    "    calc_sigma!(sw, ir, g)\n",
    "    # .+ ir.U .* g.g0_tau\n",
    "    diff = TauToMatsu!(sw, ir, g, γ)\n",
    "    return diff\n",
    "end"
   ]
  },
  {
   "cell_type": "code",
   "execution_count": 15,
   "metadata": {},
   "outputs": [
    {
     "name": "stdout",
     "output_type": "stream",
     "text": [
      "81\n"
     ]
    }
   ],
   "source": [
    "for it in 2:1000\n",
    "    L1 = update_g!(px,kk,it,irx,gx, 0.2)\n",
    "    if(L1<1e-7)\n",
    "        println(it)\n",
    "        break\n",
    "    end\n",
    "end"
   ]
  },
  {
   "cell_type": "code",
   "execution_count": 22,
   "metadata": {},
   "outputs": [
    {
     "data": {
      "text/plain": [
       "MtoV! (generic function with 1 method)"
      ]
     },
     "execution_count": 22,
     "metadata": {},
     "output_type": "execute_result"
    }
   ],
   "source": [
    "function MtoV!(g::Green_Sigma)\n",
    "    g.g0_ir_vec = zeros(Float64, g.n_ir, 4)\n",
    "    g.g_ir_vec = zeros(Float64, g.n_ir, 4)\n",
    "    for it in 1:g.n_ir\n",
    "        for mm in 1:4\n",
    "            g.g0_ir_vec[it,mm] = real(tr(sigma[mm]*g.g0_ir[it]))/2\n",
    "            g.g_ir_vec[it,mm] = real(tr(sigma[mm]*g.g_ir[it]))/2\n",
    "        end\n",
    "    end\n",
    "end"
   ]
  },
  {
   "cell_type": "code",
   "execution_count": 23,
   "metadata": {},
   "outputs": [],
   "source": [
    "MtoV!(gx)"
   ]
  },
  {
   "cell_type": "code",
   "execution_count": 25,
   "metadata": {},
   "outputs": [
    {
     "data": {
      "text/plain": [
       "4-element Vector{Float64}:\n",
       " -1.9061641154394238e-11\n",
       " -4.627479060432188e-17\n",
       " -2.5774440282693543e-19\n",
       "  0.6776410033852819"
      ]
     },
     "execution_count": 25,
     "metadata": {},
     "output_type": "execute_result"
    }
   ],
   "source": [
    "gx.g0_ir_vec[2,:]"
   ]
  },
  {
   "cell_type": "code",
   "execution_count": 30,
   "metadata": {},
   "outputs": [
    {
     "data": {
      "text/plain": [
       "F_rho (generic function with 1 method)"
      ]
     },
     "execution_count": 30,
     "metadata": {},
     "output_type": "execute_result"
    }
   ],
   "source": [
    "function F_rho(ir::IR_params, g::Green_Sigma, rho_ls, λ)\n",
    "    #vec::Vector{Matrix{ComplexF64}} = []\n",
    "    vec = g.g_ir_vec - (ir.basis.s .* rho_ls)\n",
    "    #=vec = zeros(Float64, g.n_ir, 4)\n",
    "    for i in 1:g.n_ir\n",
    "        test = g.g_ir_vec[i] - ir.basis.s[i] * (rho_ls[i,:]' * sigma)\n",
    "        push!(vec, test)\n",
    "    end\n",
    "    f = 0.0\n",
    "    for i in 1:g.n_ir\n",
    "        f += 0.5*real(sum(abs.((vec[i])'*vec[i]))) + λ*sum(abs.(rho_ls[i]))\n",
    "    end=#\n",
    "    return f = 0.5*sum((vec.^2)) + λ*sum(abs.(rho_ls))\n",
    "end"
   ]
  },
  {
   "cell_type": "code",
   "execution_count": 28,
   "metadata": {},
   "outputs": [
    {
     "data": {
      "text/plain": [
       "43×4 Matrix{Float64}:\n",
       " 0.436605   0.954257    0.929473    0.913241\n",
       " 0.788514   0.696895    0.472924    0.526256\n",
       " 0.326809   0.517553    0.862117    0.605736\n",
       " 0.211879   0.241286    0.284008    0.924883\n",
       " 0.501329   0.260363    0.0631385   0.525095\n",
       " 0.83362    0.424121    0.198255    0.690617\n",
       " 0.249052   0.00771204  0.644888    0.0794197\n",
       " 0.789887   0.421632    0.48051     0.817133\n",
       " 0.936573   0.270528    0.300669    0.340716\n",
       " 0.250777   0.764035    0.517853    0.161304\n",
       " 0.889651   0.588655    0.0375627   0.779875\n",
       " 0.194588   0.35615     0.722702    0.499188\n",
       " 0.353793   0.134418    0.312163    0.533961\n",
       " ⋮                                  \n",
       " 0.231523   0.795159    0.00526082  0.0547728\n",
       " 0.323236   0.573755    0.0241567   0.553438\n",
       " 0.914351   0.105774    0.311697    0.533854\n",
       " 0.78493    0.267466    0.569519    0.396438\n",
       " 0.615437   0.586836    0.872939    0.795205\n",
       " 0.269602   0.640701    0.899007    0.616103\n",
       " 0.817364   0.933638    0.663632    0.913765\n",
       " 0.0060969  0.276458    0.496283    0.166658\n",
       " 0.244047   0.804872    0.401567    0.413357\n",
       " 0.336381   0.885197    0.510521    0.92927\n",
       " 0.227826   0.0603332   0.876318    0.176715\n",
       " 0.355221   0.958366    0.343328    0.717294"
      ]
     },
     "execution_count": 28,
     "metadata": {},
     "output_type": "execute_result"
    }
   ],
   "source": [
    "testm = rand(Float64, gx.n_ir, 4)"
   ]
  },
  {
   "cell_type": "code",
   "execution_count": 31,
   "metadata": {},
   "outputs": [
    {
     "data": {
      "text/plain": [
       "6.712794875798384"
      ]
     },
     "execution_count": 31,
     "metadata": {},
     "output_type": "execute_result"
    }
   ],
   "source": [
    "fff = F_rho(irx, gx, testm, 0.0001)"
   ]
  },
  {
   "cell_type": "code",
   "execution_count": 35,
   "metadata": {},
   "outputs": [],
   "source": [
    "using Flux"
   ]
  },
  {
   "cell_type": "code",
   "execution_count": 45,
   "metadata": {},
   "outputs": [
    {
     "data": {
      "text/plain": [
       "fit_rhow (generic function with 1 method)"
      ]
     },
     "execution_count": 45,
     "metadata": {},
     "output_type": "execute_result"
    }
   ],
   "source": [
    "function fit_rhow(ir::IR_params, g::Green_Sigma, l_num::Int, batch_num::Int, w_mesh::Vector{Float64})\n",
    "    sn = range(-12.0, 0.0, length=l_num)\n",
    "    lam_test = 10 .^ (sn)\n",
    "    opt = ADAM()\n",
    "    s_rho_l::Vector{Matrix{Float64}} = []\n",
    "    #rand(Float64, l_num, g.n_ir)\n",
    "    s_F_rho = 1000.0 * ones(Float64, l_num)\n",
    "    for ll in 1:l_num\n",
    "        lam = lam_test[ll]\n",
    "        count::Int = 0\n",
    "        for b in 1:batch_num\n",
    "            rho_ll = rand(Float64, g.n_ir, 4)\n",
    "            \n",
    "            #rho_ll = rand(Float64, g.n_ir)\n",
    "            F_old = 1000.0\n",
    "            F_new = 1000.0\n",
    "            for i in 1:8000\n",
    "                grads = Flux.gradient(Flux.params(rho_ll)) do\n",
    "                    F_rho(ir, g, rho_ll, lam)\n",
    "                end\n",
    "                Flux.Optimise.update!(opt, Flux.params(rho_ll), grads)\n",
    "                F_old = F_new\n",
    "                F_new = F_rho(ir, g, rho_ll, lam)\n",
    "                if(abs(F_old-F_new)/abs(F_old)<1e-6)\n",
    "                    break\n",
    "                end\n",
    "                if(i==8000)\n",
    "                    count += 1\n",
    "                end\n",
    "            end\n",
    "            if(s_F_rho[ll] > F_new)\n",
    "                if(b==1)\n",
    "                    push!(s_rho_l, rho_ll)\n",
    "                else\n",
    "                    s_rho_l[ll] = rho_ll\n",
    "                end\n",
    "                s_F_rho[ll] = F_new\n",
    "            end \n",
    "        end\n",
    "        println(count)\n",
    "    end\n",
    "    b = (log(s_F_rho[end])-log(s_F_rho[1]))/(log(lam_test[end])-log(lam_test[1]))\n",
    "    a = s_F_rho[1]*lam_test[1]^(-b)\n",
    "    ev = a .* lam_test .^ b ./ s_F_rho\n",
    "\n",
    "    p1 = plot(lam_test, ev, xaxis=:log, yaxis=:log, marker=:circle)\n",
    "    #savefig(p1,\"./lambda_opt_G.png\")\n",
    "\n",
    "    it = findmax(ev)[2]+1\n",
    "    max1 = s_F_rho[it]\n",
    "    println(\"it:$it,  s_F:$max1\")\n",
    "    rho_omega = -(transpose(ir.basis.v(w_mesh)) * s_rho_l[it])\n",
    "    return rho_omega\n",
    "end"
   ]
  },
  {
   "cell_type": "code",
   "execution_count": 33,
   "metadata": {},
   "outputs": [
    {
     "name": "stdout",
     "output_type": "stream",
     "text": [
      "I'm ready!\n"
     ]
    }
   ],
   "source": [
    "lamda_num = 20\n",
    "batch_num = 100\n",
    "w_num = 500\n",
    "w_mesh = collect(-irx.bw:2irx.bw/(w_num-1):irx.bw)\n",
    "println(\"I'm ready!\")"
   ]
  },
  {
   "cell_type": "code",
   "execution_count": 46,
   "metadata": {},
   "outputs": [
    {
     "name": "stdout",
     "output_type": "stream",
     "text": [
      "78\n",
      "66\n",
      "64\n",
      "56\n",
      "66\n",
      "10\n",
      "0\n",
      "0\n",
      "0\n",
      "0\n",
      "0\n",
      "0\n",
      "0\n",
      "1\n",
      "0\n",
      "0\n",
      "1\n",
      "4\n",
      "4\n",
      "30\n",
      "it:7,  s_F:1.2680094059607285e-8\n"
     ]
    },
    {
     "data": {
      "text/plain": [
       "500×4 Matrix{Float64}:\n",
       " 0.0104101    0.000160147   3.19098e-5    0.0293089\n",
       " 0.00951093   0.000167025   3.95696e-5    0.0278961\n",
       " 0.00864827   0.000168587   4.28706e-5    0.0264723\n",
       " 0.0078232    0.000165665   4.24857e-5    0.0250396\n",
       " 0.0070368    0.00015902    3.90344e-5    0.0235997\n",
       " 0.0062901    0.000149349   3.30851e-5    0.0221541\n",
       " 0.00558405   0.00013728    2.51568e-5    0.0207045\n",
       " 0.00491957   0.000123384   1.57214e-5    0.0192522\n",
       " 0.0042975    0.00010817    5.20555e-6    0.0177984\n",
       " 0.00371863   9.20936e-5   -6.00716e-6    0.0163443\n",
       " 0.00318371   7.5559e-5    -1.75742e-5    0.0148909\n",
       " 0.00269341   5.892e-5     -2.91923e-5    0.0134391\n",
       " 0.00224839   4.24846e-5   -4.0595e-5     0.0119898\n",
       " ⋮                                       \n",
       " 0.0024916    7.52548e-5   -7.65257e-7   -0.0134241\n",
       " 0.00299917   7.12394e-5   -6.30745e-6   -0.0148469\n",
       " 0.00355905   6.47609e-5   -1.34322e-5   -0.0162738\n",
       " 0.00417157   5.54141e-5   -2.24208e-5   -0.017705\n",
       " 0.00483708   4.27504e-5   -3.35823e-5   -0.0191409\n",
       " 0.00555594   2.62752e-5   -4.72554e-5   -0.0205822\n",
       " 0.00632851   5.44519e-6   -6.38089e-5   -0.0220292\n",
       " 0.00715521  -2.03349e-5   -8.3644e-5    -0.0234826\n",
       " 0.00803643  -5.17148e-5   -0.000107195  -0.0249432\n",
       " 0.00897263  -8.94019e-5   -0.000134932  -0.0264115\n",
       " 0.00996425  -0.000134164  -0.00016736   -0.0278886\n",
       " 0.0110118   -0.000186833  -0.000205022  -0.0293753"
      ]
     },
     "execution_count": 46,
     "metadata": {},
     "output_type": "execute_result"
    }
   ],
   "source": [
    "gi = fit_rhow(irx, gx, lamda_num, batch_num, w_mesh)"
   ]
  },
  {
   "cell_type": "code",
   "execution_count": 47,
   "metadata": {},
   "outputs": [
    {
     "data": {
      "image/svg+xml": "<?xml version=\"1.0\" encoding=\"utf-8\"?>\n<svg xmlns=\"http://www.w3.org/2000/svg\" xmlns:xlink=\"http://www.w3.org/1999/xlink\" width=\"600\" height=\"400\" viewBox=\"0 0 2400 1600\">\n<defs>\n  <clipPath id=\"clip580\">\n    <rect x=\"0\" y=\"0\" width=\"2400\" height=\"1600\"/>\n  </clipPath>\n</defs>\n<path clip-path=\"url(#clip580)\" d=\"\nM0 1600 L2400 1600 L2400 0 L0 0  Z\n  \" fill=\"#ffffff\" fill-rule=\"evenodd\" fill-opacity=\"1\"/>\n<defs>\n  <clipPath id=\"clip581\">\n    <rect x=\"480\" y=\"0\" width=\"1681\" height=\"1600\"/>\n  </clipPath>\n</defs>\n<path clip-path=\"url(#clip580)\" d=\"\nM192.709 1486.45 L2352.76 1486.45 L2352.76 47.2441 L192.709 47.2441  Z\n  \" fill=\"#ffffff\" fill-rule=\"evenodd\" fill-opacity=\"1\"/>\n<defs>\n  <clipPath id=\"clip582\">\n    <rect x=\"192\" y=\"47\" width=\"2161\" height=\"1440\"/>\n  </clipPath>\n</defs>\n<polyline clip-path=\"url(#clip582)\" style=\"stroke:#000000; stroke-linecap:round; stroke-linejoin:round; stroke-width:2; stroke-opacity:0.1; fill:none\" points=\"\n  253.843,1486.45 253.843,47.2441 \n  \"/>\n<polyline clip-path=\"url(#clip582)\" style=\"stroke:#000000; stroke-linecap:round; stroke-linejoin:round; stroke-width:2; stroke-opacity:0.1; fill:none\" points=\"\n  763.288,1486.45 763.288,47.2441 \n  \"/>\n<polyline clip-path=\"url(#clip582)\" style=\"stroke:#000000; stroke-linecap:round; stroke-linejoin:round; stroke-width:2; stroke-opacity:0.1; fill:none\" points=\"\n  1272.73,1486.45 1272.73,47.2441 \n  \"/>\n<polyline clip-path=\"url(#clip582)\" style=\"stroke:#000000; stroke-linecap:round; stroke-linejoin:round; stroke-width:2; stroke-opacity:0.1; fill:none\" points=\"\n  1782.18,1486.45 1782.18,47.2441 \n  \"/>\n<polyline clip-path=\"url(#clip582)\" style=\"stroke:#000000; stroke-linecap:round; stroke-linejoin:round; stroke-width:2; stroke-opacity:0.1; fill:none\" points=\"\n  2291.62,1486.45 2291.62,47.2441 \n  \"/>\n<polyline clip-path=\"url(#clip580)\" style=\"stroke:#000000; stroke-linecap:round; stroke-linejoin:round; stroke-width:4; stroke-opacity:1; fill:none\" points=\"\n  192.709,1486.45 2352.76,1486.45 \n  \"/>\n<polyline clip-path=\"url(#clip580)\" style=\"stroke:#000000; stroke-linecap:round; stroke-linejoin:round; stroke-width:4; stroke-opacity:1; fill:none\" points=\"\n  253.843,1486.45 253.843,1467.55 \n  \"/>\n<polyline clip-path=\"url(#clip580)\" style=\"stroke:#000000; stroke-linecap:round; stroke-linejoin:round; stroke-width:4; stroke-opacity:1; fill:none\" points=\"\n  763.288,1486.45 763.288,1467.55 \n  \"/>\n<polyline clip-path=\"url(#clip580)\" style=\"stroke:#000000; stroke-linecap:round; stroke-linejoin:round; stroke-width:4; stroke-opacity:1; fill:none\" points=\"\n  1272.73,1486.45 1272.73,1467.55 \n  \"/>\n<polyline clip-path=\"url(#clip580)\" style=\"stroke:#000000; stroke-linecap:round; stroke-linejoin:round; stroke-width:4; stroke-opacity:1; fill:none\" points=\"\n  1782.18,1486.45 1782.18,1467.55 \n  \"/>\n<polyline clip-path=\"url(#clip580)\" style=\"stroke:#000000; stroke-linecap:round; stroke-linejoin:round; stroke-width:4; stroke-opacity:1; fill:none\" points=\"\n  2291.62,1486.45 2291.62,1467.55 \n  \"/>\n<path clip-path=\"url(#clip580)\" d=\"M222.743 1532.02 L252.419 1532.02 L252.419 1535.95 L222.743 1535.95 L222.743 1532.02 Z\" fill=\"#000000\" fill-rule=\"evenodd\" fill-opacity=\"1\" /><path clip-path=\"url(#clip580)\" d=\"M275.359 1518.36 L263.553 1536.81 L275.359 1536.81 L275.359 1518.36 M274.132 1514.29 L280.011 1514.29 L280.011 1536.81 L284.942 1536.81 L284.942 1540.7 L280.011 1540.7 L280.011 1548.85 L275.359 1548.85 L275.359 1540.7 L259.757 1540.7 L259.757 1536.19 L274.132 1514.29 Z\" fill=\"#000000\" fill-rule=\"evenodd\" fill-opacity=\"1\" /><path clip-path=\"url(#clip580)\" d=\"M733.23 1532.02 L762.906 1532.02 L762.906 1535.95 L733.23 1535.95 L733.23 1532.02 Z\" fill=\"#000000\" fill-rule=\"evenodd\" fill-opacity=\"1\" /><path clip-path=\"url(#clip580)\" d=\"M777.026 1544.91 L793.345 1544.91 L793.345 1548.85 L771.401 1548.85 L771.401 1544.91 Q774.063 1542.16 778.646 1537.53 Q783.253 1532.88 784.433 1531.53 Q786.679 1529.01 787.558 1527.27 Q788.461 1525.51 788.461 1523.82 Q788.461 1521.07 786.517 1519.33 Q784.595 1517.6 781.493 1517.6 Q779.294 1517.6 776.841 1518.36 Q774.41 1519.13 771.632 1520.68 L771.632 1515.95 Q774.456 1514.82 776.91 1514.24 Q779.364 1513.66 781.401 1513.66 Q786.771 1513.66 789.966 1516.35 Q793.16 1519.03 793.16 1523.52 Q793.16 1525.65 792.35 1527.57 Q791.563 1529.47 789.456 1532.07 Q788.878 1532.74 785.776 1535.95 Q782.674 1539.15 777.026 1544.91 Z\" fill=\"#000000\" fill-rule=\"evenodd\" fill-opacity=\"1\" /><path clip-path=\"url(#clip580)\" d=\"M1272.73 1517.37 Q1269.12 1517.37 1267.29 1520.93 Q1265.49 1524.47 1265.49 1531.6 Q1265.49 1538.71 1267.29 1542.27 Q1269.12 1545.82 1272.73 1545.82 Q1276.37 1545.82 1278.17 1542.27 Q1280 1538.71 1280 1531.6 Q1280 1524.47 1278.17 1520.93 Q1276.37 1517.37 1272.73 1517.37 M1272.73 1513.66 Q1278.54 1513.66 1281.6 1518.27 Q1284.68 1522.85 1284.68 1531.6 Q1284.68 1540.33 1281.6 1544.94 Q1278.54 1549.52 1272.73 1549.52 Q1266.92 1549.52 1263.84 1544.94 Q1260.79 1540.33 1260.79 1531.6 Q1260.79 1522.85 1263.84 1518.27 Q1266.92 1513.66 1272.73 1513.66 Z\" fill=\"#000000\" fill-rule=\"evenodd\" fill-opacity=\"1\" /><path clip-path=\"url(#clip580)\" d=\"M1776.83 1544.91 L1793.15 1544.91 L1793.15 1548.85 L1771.21 1548.85 L1771.21 1544.91 Q1773.87 1542.16 1778.45 1537.53 Q1783.06 1532.88 1784.24 1531.53 Q1786.48 1529.01 1787.36 1527.27 Q1788.27 1525.51 1788.27 1523.82 Q1788.27 1521.07 1786.32 1519.33 Q1784.4 1517.6 1781.3 1517.6 Q1779.1 1517.6 1776.65 1518.36 Q1774.21 1519.13 1771.44 1520.68 L1771.44 1515.95 Q1774.26 1514.82 1776.71 1514.24 Q1779.17 1513.66 1781.21 1513.66 Q1786.58 1513.66 1789.77 1516.35 Q1792.96 1519.03 1792.96 1523.52 Q1792.96 1525.65 1792.15 1527.57 Q1791.37 1529.47 1789.26 1532.07 Q1788.68 1532.74 1785.58 1535.95 Q1782.48 1539.15 1776.83 1544.91 Z\" fill=\"#000000\" fill-rule=\"evenodd\" fill-opacity=\"1\" /><path clip-path=\"url(#clip580)\" d=\"M2294.63 1518.36 L2282.83 1536.81 L2294.63 1536.81 L2294.63 1518.36 M2293.4 1514.29 L2299.28 1514.29 L2299.28 1536.81 L2304.22 1536.81 L2304.22 1540.7 L2299.28 1540.7 L2299.28 1548.85 L2294.63 1548.85 L2294.63 1540.7 L2279.03 1540.7 L2279.03 1536.19 L2293.4 1514.29 Z\" fill=\"#000000\" fill-rule=\"evenodd\" fill-opacity=\"1\" /><polyline clip-path=\"url(#clip582)\" style=\"stroke:#000000; stroke-linecap:round; stroke-linejoin:round; stroke-width:2; stroke-opacity:0.1; fill:none\" points=\"\n  192.709,1390.58 2352.76,1390.58 \n  \"/>\n<polyline clip-path=\"url(#clip582)\" style=\"stroke:#000000; stroke-linecap:round; stroke-linejoin:round; stroke-width:2; stroke-opacity:0.1; fill:none\" points=\"\n  192.709,1189.45 2352.76,1189.45 \n  \"/>\n<polyline clip-path=\"url(#clip582)\" style=\"stroke:#000000; stroke-linecap:round; stroke-linejoin:round; stroke-width:2; stroke-opacity:0.1; fill:none\" points=\"\n  192.709,988.307 2352.76,988.307 \n  \"/>\n<polyline clip-path=\"url(#clip582)\" style=\"stroke:#000000; stroke-linecap:round; stroke-linejoin:round; stroke-width:2; stroke-opacity:0.1; fill:none\" points=\"\n  192.709,787.169 2352.76,787.169 \n  \"/>\n<polyline clip-path=\"url(#clip582)\" style=\"stroke:#000000; stroke-linecap:round; stroke-linejoin:round; stroke-width:2; stroke-opacity:0.1; fill:none\" points=\"\n  192.709,586.031 2352.76,586.031 \n  \"/>\n<polyline clip-path=\"url(#clip582)\" style=\"stroke:#000000; stroke-linecap:round; stroke-linejoin:round; stroke-width:2; stroke-opacity:0.1; fill:none\" points=\"\n  192.709,384.893 2352.76,384.893 \n  \"/>\n<polyline clip-path=\"url(#clip582)\" style=\"stroke:#000000; stroke-linecap:round; stroke-linejoin:round; stroke-width:2; stroke-opacity:0.1; fill:none\" points=\"\n  192.709,183.755 2352.76,183.755 \n  \"/>\n<polyline clip-path=\"url(#clip580)\" style=\"stroke:#000000; stroke-linecap:round; stroke-linejoin:round; stroke-width:4; stroke-opacity:1; fill:none\" points=\"\n  192.709,1486.45 192.709,47.2441 \n  \"/>\n<polyline clip-path=\"url(#clip580)\" style=\"stroke:#000000; stroke-linecap:round; stroke-linejoin:round; stroke-width:4; stroke-opacity:1; fill:none\" points=\"\n  192.709,1390.58 211.607,1390.58 \n  \"/>\n<polyline clip-path=\"url(#clip580)\" style=\"stroke:#000000; stroke-linecap:round; stroke-linejoin:round; stroke-width:4; stroke-opacity:1; fill:none\" points=\"\n  192.709,1189.45 211.607,1189.45 \n  \"/>\n<polyline clip-path=\"url(#clip580)\" style=\"stroke:#000000; stroke-linecap:round; stroke-linejoin:round; stroke-width:4; stroke-opacity:1; fill:none\" points=\"\n  192.709,988.307 211.607,988.307 \n  \"/>\n<polyline clip-path=\"url(#clip580)\" style=\"stroke:#000000; stroke-linecap:round; stroke-linejoin:round; stroke-width:4; stroke-opacity:1; fill:none\" points=\"\n  192.709,787.169 211.607,787.169 \n  \"/>\n<polyline clip-path=\"url(#clip580)\" style=\"stroke:#000000; stroke-linecap:round; stroke-linejoin:round; stroke-width:4; stroke-opacity:1; fill:none\" points=\"\n  192.709,586.031 211.607,586.031 \n  \"/>\n<polyline clip-path=\"url(#clip580)\" style=\"stroke:#000000; stroke-linecap:round; stroke-linejoin:round; stroke-width:4; stroke-opacity:1; fill:none\" points=\"\n  192.709,384.893 211.607,384.893 \n  \"/>\n<polyline clip-path=\"url(#clip580)\" style=\"stroke:#000000; stroke-linecap:round; stroke-linejoin:round; stroke-width:4; stroke-opacity:1; fill:none\" points=\"\n  192.709,183.755 211.607,183.755 \n  \"/>\n<path clip-path=\"url(#clip580)\" d=\"M50.9921 1391.03 L80.6679 1391.03 L80.6679 1394.97 L50.9921 1394.97 L50.9921 1391.03 Z\" fill=\"#000000\" fill-rule=\"evenodd\" fill-opacity=\"1\" /><path clip-path=\"url(#clip580)\" d=\"M100.76 1376.38 Q97.1493 1376.38 95.3206 1379.95 Q93.515 1383.49 93.515 1390.62 Q93.515 1397.72 95.3206 1401.29 Q97.1493 1404.83 100.76 1404.83 Q104.395 1404.83 106.2 1401.29 Q108.029 1397.72 108.029 1390.62 Q108.029 1383.49 106.2 1379.95 Q104.395 1376.38 100.76 1376.38 M100.76 1372.68 Q106.571 1372.68 109.626 1377.28 Q112.705 1381.87 112.705 1390.62 Q112.705 1399.34 109.626 1403.95 Q106.571 1408.53 100.76 1408.53 Q94.9502 1408.53 91.8715 1403.95 Q88.816 1399.34 88.816 1390.62 Q88.816 1381.87 91.8715 1377.28 Q94.9502 1372.68 100.76 1372.68 Z\" fill=\"#000000\" fill-rule=\"evenodd\" fill-opacity=\"1\" /><path clip-path=\"url(#clip580)\" d=\"M120.922 1401.98 L125.807 1401.98 L125.807 1407.86 L120.922 1407.86 L120.922 1401.98 Z\" fill=\"#000000\" fill-rule=\"evenodd\" fill-opacity=\"1\" /><path clip-path=\"url(#clip580)\" d=\"M136.802 1403.93 L144.441 1403.93 L144.441 1377.56 L136.131 1379.23 L136.131 1374.97 L144.394 1373.3 L149.07 1373.3 L149.07 1403.93 L156.709 1403.93 L156.709 1407.86 L136.802 1407.86 L136.802 1403.93 Z\" fill=\"#000000\" fill-rule=\"evenodd\" fill-opacity=\"1\" /><path clip-path=\"url(#clip580)\" d=\"M99.5335 1175.24 Q95.9224 1175.24 94.0937 1178.81 Q92.2882 1182.35 92.2882 1189.48 Q92.2882 1196.59 94.0937 1200.15 Q95.9224 1203.69 99.5335 1203.69 Q103.168 1203.69 104.973 1200.15 Q106.802 1196.59 106.802 1189.48 Q106.802 1182.35 104.973 1178.81 Q103.168 1175.24 99.5335 1175.24 M99.5335 1171.54 Q105.344 1171.54 108.399 1176.15 Q111.478 1180.73 111.478 1189.48 Q111.478 1198.21 108.399 1202.81 Q105.344 1207.4 99.5335 1207.4 Q93.7234 1207.4 90.6447 1202.81 Q87.5892 1198.21 87.5892 1189.48 Q87.5892 1180.73 90.6447 1176.15 Q93.7234 1171.54 99.5335 1171.54 Z\" fill=\"#000000\" fill-rule=\"evenodd\" fill-opacity=\"1\" /><path clip-path=\"url(#clip580)\" d=\"M119.695 1200.85 L124.58 1200.85 L124.58 1206.73 L119.695 1206.73 L119.695 1200.85 Z\" fill=\"#000000\" fill-rule=\"evenodd\" fill-opacity=\"1\" /><path clip-path=\"url(#clip580)\" d=\"M144.765 1175.24 Q141.154 1175.24 139.325 1178.81 Q137.519 1182.35 137.519 1189.48 Q137.519 1196.59 139.325 1200.15 Q141.154 1203.69 144.765 1203.69 Q148.399 1203.69 150.205 1200.15 Q152.033 1196.59 152.033 1189.48 Q152.033 1182.35 150.205 1178.81 Q148.399 1175.24 144.765 1175.24 M144.765 1171.54 Q150.575 1171.54 153.63 1176.15 Q156.709 1180.73 156.709 1189.48 Q156.709 1198.21 153.63 1202.81 Q150.575 1207.4 144.765 1207.4 Q138.955 1207.4 135.876 1202.81 Q132.82 1198.21 132.82 1189.48 Q132.82 1180.73 135.876 1176.15 Q138.955 1171.54 144.765 1171.54 Z\" fill=\"#000000\" fill-rule=\"evenodd\" fill-opacity=\"1\" /><path clip-path=\"url(#clip580)\" d=\"M100.76 974.106 Q97.1493 974.106 95.3206 977.67 Q93.515 981.212 93.515 988.342 Q93.515 995.448 95.3206 999.013 Q97.1493 1002.55 100.76 1002.55 Q104.395 1002.55 106.2 999.013 Q108.029 995.448 108.029 988.342 Q108.029 981.212 106.2 977.67 Q104.395 974.106 100.76 974.106 M100.76 970.402 Q106.571 970.402 109.626 975.008 Q112.705 979.592 112.705 988.342 Q112.705 997.069 109.626 1001.67 Q106.571 1006.26 100.76 1006.26 Q94.9502 1006.26 91.8715 1001.67 Q88.816 997.069 88.816 988.342 Q88.816 979.592 91.8715 975.008 Q94.9502 970.402 100.76 970.402 Z\" fill=\"#000000\" fill-rule=\"evenodd\" fill-opacity=\"1\" /><path clip-path=\"url(#clip580)\" d=\"M120.922 999.707 L125.807 999.707 L125.807 1005.59 L120.922 1005.59 L120.922 999.707 Z\" fill=\"#000000\" fill-rule=\"evenodd\" fill-opacity=\"1\" /><path clip-path=\"url(#clip580)\" d=\"M136.802 1001.65 L144.441 1001.65 L144.441 975.286 L136.131 976.953 L136.131 972.694 L144.394 971.027 L149.07 971.027 L149.07 1001.65 L156.709 1001.65 L156.709 1005.59 L136.802 1005.59 L136.802 1001.65 Z\" fill=\"#000000\" fill-rule=\"evenodd\" fill-opacity=\"1\" /><path clip-path=\"url(#clip580)\" d=\"M101.131 772.968 Q97.5197 772.968 95.691 776.532 Q93.8854 780.074 93.8854 787.204 Q93.8854 794.31 95.691 797.875 Q97.5197 801.416 101.131 801.416 Q104.765 801.416 106.571 797.875 Q108.399 794.31 108.399 787.204 Q108.399 780.074 106.571 776.532 Q104.765 772.968 101.131 772.968 M101.131 769.264 Q106.941 769.264 109.996 773.87 Q113.075 778.454 113.075 787.204 Q113.075 795.93 109.996 800.537 Q106.941 805.12 101.131 805.12 Q95.3206 805.12 92.2419 800.537 Q89.1864 795.93 89.1864 787.204 Q89.1864 778.454 92.2419 773.87 Q95.3206 769.264 101.131 769.264 Z\" fill=\"#000000\" fill-rule=\"evenodd\" fill-opacity=\"1\" /><path clip-path=\"url(#clip580)\" d=\"M121.293 798.569 L126.177 798.569 L126.177 804.449 L121.293 804.449 L121.293 798.569 Z\" fill=\"#000000\" fill-rule=\"evenodd\" fill-opacity=\"1\" /><path clip-path=\"url(#clip580)\" d=\"M140.39 800.514 L156.709 800.514 L156.709 804.449 L134.765 804.449 L134.765 800.514 Q137.427 797.759 142.01 793.129 Q146.617 788.477 147.797 787.134 Q150.043 784.611 150.922 782.875 Q151.825 781.116 151.825 779.426 Q151.825 776.671 149.88 774.935 Q147.959 773.199 144.857 773.199 Q142.658 773.199 140.205 773.963 Q137.774 774.727 134.996 776.278 L134.996 771.556 Q137.82 770.421 140.274 769.843 Q142.728 769.264 144.765 769.264 Q150.135 769.264 153.33 771.949 Q156.524 774.634 156.524 779.125 Q156.524 781.255 155.714 783.176 Q154.927 785.074 152.82 787.667 Q152.242 788.338 149.14 791.555 Q146.038 794.75 140.39 800.514 Z\" fill=\"#000000\" fill-rule=\"evenodd\" fill-opacity=\"1\" /><path clip-path=\"url(#clip580)\" d=\"M100.182 571.829 Q96.5706 571.829 94.7419 575.394 Q92.9363 578.936 92.9363 586.065 Q92.9363 593.172 94.7419 596.737 Q96.5706 600.278 100.182 600.278 Q103.816 600.278 105.621 596.737 Q107.45 593.172 107.45 586.065 Q107.45 578.936 105.621 575.394 Q103.816 571.829 100.182 571.829 M100.182 568.126 Q105.992 568.126 109.047 572.732 Q112.126 577.316 112.126 586.065 Q112.126 594.792 109.047 599.399 Q105.992 603.982 100.182 603.982 Q94.3715 603.982 91.2928 599.399 Q88.2373 594.792 88.2373 586.065 Q88.2373 577.316 91.2928 572.732 Q94.3715 568.126 100.182 568.126 Z\" fill=\"#000000\" fill-rule=\"evenodd\" fill-opacity=\"1\" /><path clip-path=\"url(#clip580)\" d=\"M120.344 597.431 L125.228 597.431 L125.228 603.311 L120.344 603.311 L120.344 597.431 Z\" fill=\"#000000\" fill-rule=\"evenodd\" fill-opacity=\"1\" /><path clip-path=\"url(#clip580)\" d=\"M149.58 584.677 Q152.936 585.394 154.811 587.663 Q156.709 589.931 156.709 593.265 Q156.709 598.38 153.191 601.181 Q149.672 603.982 143.191 603.982 Q141.015 603.982 138.7 603.542 Q136.408 603.126 133.955 602.269 L133.955 597.755 Q135.899 598.889 138.214 599.468 Q140.529 600.047 143.052 600.047 Q147.45 600.047 149.742 598.311 Q152.056 596.575 152.056 593.265 Q152.056 590.209 149.904 588.496 Q147.774 586.76 143.955 586.76 L139.927 586.76 L139.927 582.917 L144.14 582.917 Q147.589 582.917 149.418 581.552 Q151.246 580.163 151.246 577.57 Q151.246 574.908 149.348 573.496 Q147.473 572.061 143.955 572.061 Q142.033 572.061 139.834 572.478 Q137.635 572.894 134.996 573.774 L134.996 569.607 Q137.658 568.866 139.973 568.496 Q142.311 568.126 144.371 568.126 Q149.695 568.126 152.797 570.556 Q155.899 572.964 155.899 577.084 Q155.899 579.954 154.255 581.945 Q152.612 583.913 149.58 584.677 Z\" fill=\"#000000\" fill-rule=\"evenodd\" fill-opacity=\"1\" /><path clip-path=\"url(#clip580)\" d=\"M99.0474 370.691 Q95.4363 370.691 93.6076 374.256 Q91.8021 377.798 91.8021 384.927 Q91.8021 392.034 93.6076 395.599 Q95.4363 399.14 99.0474 399.14 Q102.682 399.14 104.487 395.599 Q106.316 392.034 106.316 384.927 Q106.316 377.798 104.487 374.256 Q102.682 370.691 99.0474 370.691 M99.0474 366.988 Q104.858 366.988 107.913 371.594 Q110.992 376.177 110.992 384.927 Q110.992 393.654 107.913 398.261 Q104.858 402.844 99.0474 402.844 Q93.2373 402.844 90.1586 398.261 Q87.103 393.654 87.103 384.927 Q87.103 376.177 90.1586 371.594 Q93.2373 366.988 99.0474 366.988 Z\" fill=\"#000000\" fill-rule=\"evenodd\" fill-opacity=\"1\" /><path clip-path=\"url(#clip580)\" d=\"M119.209 396.293 L124.094 396.293 L124.094 402.173 L119.209 402.173 L119.209 396.293 Z\" fill=\"#000000\" fill-rule=\"evenodd\" fill-opacity=\"1\" /><path clip-path=\"url(#clip580)\" d=\"M147.126 371.687 L135.32 390.136 L147.126 390.136 L147.126 371.687 M145.899 367.613 L151.779 367.613 L151.779 390.136 L156.709 390.136 L156.709 394.025 L151.779 394.025 L151.779 402.173 L147.126 402.173 L147.126 394.025 L131.524 394.025 L131.524 389.511 L145.899 367.613 Z\" fill=\"#000000\" fill-rule=\"evenodd\" fill-opacity=\"1\" /><path clip-path=\"url(#clip580)\" d=\"M100.529 169.553 Q96.9178 169.553 95.0891 173.118 Q93.2836 176.66 93.2836 183.789 Q93.2836 190.896 95.0891 194.46 Q96.9178 198.002 100.529 198.002 Q104.163 198.002 105.969 194.46 Q107.797 190.896 107.797 183.789 Q107.797 176.66 105.969 173.118 Q104.163 169.553 100.529 169.553 M100.529 165.85 Q106.339 165.85 109.395 170.456 Q112.473 175.039 112.473 183.789 Q112.473 192.516 109.395 197.123 Q106.339 201.706 100.529 201.706 Q94.7187 201.706 91.6401 197.123 Q88.5845 192.516 88.5845 183.789 Q88.5845 175.039 91.6401 170.456 Q94.7187 165.85 100.529 165.85 Z\" fill=\"#000000\" fill-rule=\"evenodd\" fill-opacity=\"1\" /><path clip-path=\"url(#clip580)\" d=\"M120.691 195.155 L125.575 195.155 L125.575 201.035 L120.691 201.035 L120.691 195.155 Z\" fill=\"#000000\" fill-rule=\"evenodd\" fill-opacity=\"1\" /><path clip-path=\"url(#clip580)\" d=\"M135.806 166.475 L154.163 166.475 L154.163 170.41 L140.089 170.41 L140.089 178.882 Q141.107 178.535 142.126 178.373 Q143.144 178.187 144.163 178.187 Q149.95 178.187 153.33 181.359 Q156.709 184.53 156.709 189.947 Q156.709 195.525 153.237 198.627 Q149.765 201.706 143.445 201.706 Q141.269 201.706 139.001 201.335 Q136.756 200.965 134.348 200.224 L134.348 195.525 Q136.431 196.66 138.654 197.215 Q140.876 197.771 143.353 197.771 Q147.357 197.771 149.695 195.664 Q152.033 193.558 152.033 189.947 Q152.033 186.336 149.695 184.229 Q147.357 182.123 143.353 182.123 Q141.478 182.123 139.603 182.539 Q137.751 182.956 135.806 183.836 L135.806 166.475 Z\" fill=\"#000000\" fill-rule=\"evenodd\" fill-opacity=\"1\" /><polyline clip-path=\"url(#clip582)\" style=\"stroke:#009af9; stroke-linecap:round; stroke-linejoin:round; stroke-width:8; stroke-opacity:1; fill:none\" points=\"\n  253.843,1168.51 257.926,1170.31 262.01,1172.05 266.094,1173.71 270.177,1175.29 274.261,1176.79 278.345,1178.21 282.429,1179.55 286.512,1180.8 290.596,1181.97 \n  294.68,1183.04 298.764,1184.03 302.847,1184.92 306.931,1185.73 311.015,1186.44 315.098,1187.05 319.182,1187.57 323.266,1188 327.35,1188.32 331.433,1188.55 \n  335.517,1188.69 339.601,1188.72 343.685,1188.66 347.768,1188.49 351.852,1188.23 355.936,1187.87 360.019,1187.41 364.103,1186.85 368.187,1186.19 372.271,1185.44 \n  376.354,1184.58 380.438,1183.63 384.522,1182.57 388.606,1181.43 392.689,1180.18 396.773,1178.84 400.857,1177.4 404.94,1175.86 409.024,1174.24 413.108,1172.51 \n  417.192,1170.7 421.275,1168.79 425.359,1166.79 429.443,1164.7 433.527,1162.52 437.61,1160.26 441.694,1157.9 445.778,1155.46 449.861,1152.94 453.945,1150.33 \n  458.029,1147.64 462.113,1144.87 466.196,1142.02 470.28,1139.09 474.364,1136.08 478.448,1133 482.531,1129.85 486.615,1126.62 490.699,1123.32 494.782,1119.95 \n  498.866,1116.52 502.95,1113.02 507.034,1109.45 511.117,1105.83 515.201,1102.15 519.285,1098.4 523.369,1094.6 527.452,1090.75 531.536,1086.85 535.62,1082.9 \n  539.703,1078.9 543.787,1074.86 547.871,1070.77 551.955,1066.65 556.038,1062.49 560.122,1058.29 564.206,1054.07 568.29,1049.81 572.373,1045.53 576.457,1041.23 \n  580.541,1036.91 584.624,1032.57 588.708,1028.22 592.792,1023.87 596.876,1019.5 600.959,1015.13 605.043,1010.77 609.127,1006.41 613.211,1002.05 617.294,997.715 \n  621.378,993.393 625.462,989.092 629.545,984.817 633.629,980.572 637.713,976.36 641.797,972.188 645.88,968.058 649.964,963.977 654.048,959.949 658.132,955.978 \n  662.215,952.069 666.299,948.229 670.383,944.461 674.466,940.77 678.55,937.163 682.634,933.643 686.718,930.217 690.801,926.889 694.885,923.665 698.969,920.551 \n  703.053,917.55 707.136,914.67 711.22,911.914 715.304,909.288 719.387,906.798 723.471,904.448 727.555,902.243 731.639,900.189 735.722,898.289 739.806,896.55 \n  743.89,894.975 747.974,893.568 752.057,892.335 756.141,891.279 760.225,890.403 764.308,889.712 768.392,889.209 772.476,888.896 776.56,888.777 780.643,888.855 \n  784.727,889.13 788.811,889.606 792.895,890.283 796.978,891.162 801.062,892.244 805.146,893.53 809.229,895.018 813.313,896.708 817.397,898.599 821.481,900.688 \n  825.564,902.974 829.648,905.452 833.732,908.119 837.816,910.971 841.899,914.003 845.983,917.208 850.067,920.58 854.15,924.111 858.234,927.794 862.318,931.618 \n  866.402,935.574 870.485,939.651 874.569,943.837 878.653,948.119 882.737,952.481 886.82,956.91 890.904,961.389 894.988,965.9 899.071,970.424 903.155,974.941 \n  907.239,979.43 911.323,983.868 915.406,988.23 919.49,992.491 923.574,996.624 927.658,1000.6 931.741,1004.39 935.825,1007.96 939.909,1011.29 943.992,1014.32 \n  948.076,1017.04 952.16,1019.4 956.244,1021.37 960.327,1022.9 964.411,1023.95 968.495,1024.49 972.579,1024.47 976.662,1023.86 980.746,1022.6 984.83,1020.66 \n  988.913,1017.99 992.997,1014.56 997.081,1010.32 1001.16,1005.24 1005.25,999.277 1009.33,992.404 1013.42,984.588 1017.5,975.805 1021.58,966.034 1025.67,955.258 \n  1029.75,943.468 1033.83,930.662 1037.92,916.843 1042,902.025 1046.09,886.231 1050.17,869.492 1054.25,851.851 1058.34,833.363 1062.42,814.095 1066.5,794.125 \n  1070.59,773.546 1074.67,752.464 1078.76,731 1082.84,709.289 1086.92,687.479 1091.01,665.733 1095.09,644.226 1099.17,623.146 1103.26,602.693 1107.34,583.07 \n  1111.43,564.491 1115.51,547.165 1119.59,531.3 1123.68,517.09 1127.76,504.708 1131.84,494.296 1135.93,485.949 1140.01,479.701 1144.1,475.51 1148.18,473.232 \n  1152.26,472.604 1156.35,473.223 1160.43,474.523 1164.51,475.762 1168.6,476.013 1172.68,474.169 1176.76,468.972 1180.85,459.058 1184.93,443.054 1189.02,419.709 \n  1193.1,388.101 1197.18,347.905 1201.27,299.757 1205.35,245.691 1209.43,189.655 1213.52,138.032 1217.6,100.069 1221.69,87.9763 1225.77,116.356 1229.85,200.402 \n  1233.94,352.184 1238.02,574.399 1242.1,851.601 1246.19,1140.93 1250.27,1368.58 1254.36,1444.92 1258.44,1317.28 1262.52,1069.13 1266.61,998.379 1270.69,1304.03 \n  1274.77,1304.98 1278.86,998.521 1282.94,1068.06 1287.03,1316.94 1291.11,1445.72 1295.19,1369.54 1299.28,1141.18 1303.36,851.024 1307.44,573.462 1311.53,351.461 \n  1315.61,200.227 1319.7,116.738 1323.78,88.6928 1327.86,100.82 1331.95,138.567 1336.03,189.839 1340.11,245.515 1344.2,299.307 1348.28,347.32 1352.37,387.527 \n  1356.45,419.269 1360.53,442.828 1364.62,459.078 1368.7,469.223 1372.78,474.603 1376.87,476.557 1380.95,476.335 1385.04,475.046 1389.12,473.628 1393.2,472.841 \n  1397.29,473.273 1401.37,475.347 1405.45,479.348 1409.54,485.435 1413.62,493.663 1417.7,504.007 1421.79,516.372 1425.87,530.617 1429.96,546.563 1434.04,564.008 \n  1438.12,582.737 1442.21,602.527 1446.29,623.156 1450.37,644.409 1454.46,666.078 1458.54,687.967 1462.63,709.895 1466.71,731.694 1470.79,753.215 1474.88,774.321 \n  1478.96,794.894 1483.04,814.829 1487.13,834.036 1491.21,852.442 1495.3,869.983 1499.38,886.611 1503.46,902.287 1507.55,916.984 1511.63,930.684 1515.71,943.378 \n  1519.8,955.063 1523.88,965.746 1527.97,975.439 1532.05,984.157 1536.13,991.924 1540.22,998.765 1544.3,1004.71 1548.38,1009.79 1552.47,1014.04 1556.55,1017.49 \n  1560.64,1020.19 1564.72,1022.17 1568.8,1023.48 1572.89,1024.15 1576.97,1024.22 1581.05,1023.74 1585.14,1022.74 1589.22,1021.26 1593.31,1019.35 1597.39,1017.03 \n  1601.47,1014.36 1605.56,1011.36 1609.64,1008.07 1613.72,1004.52 1617.81,1000.74 1621.89,996.776 1625.97,992.648 1630.06,988.386 1634.14,984.017 1638.23,979.57 \n  1642.31,975.067 1646.39,970.532 1650.48,965.989 1654.56,961.456 1658.64,956.955 1662.73,952.504 1666.81,948.119 1670.9,943.816 1674.98,939.611 1679.06,935.516 \n  1683.15,931.545 1687.23,927.707 1691.31,924.015 1695.4,920.477 1699.48,917.102 1703.57,913.897 1707.65,910.868 1711.73,908.022 1715.82,905.364 1719.9,902.898 \n  1723.98,900.627 1728.07,898.554 1732.15,896.682 1736.24,895.012 1740.32,893.545 1744.4,892.282 1748.49,891.222 1752.57,890.366 1756.65,889.711 1760.74,889.258 \n  1764.82,889.003 1768.91,888.946 1772.99,889.084 1777.07,889.413 1781.16,889.931 1785.24,890.635 1789.32,891.522 1793.41,892.586 1797.49,893.825 1801.58,895.235 \n  1805.66,896.811 1809.74,898.549 1813.83,900.445 1817.91,902.493 1821.99,904.689 1826.08,907.028 1830.16,909.506 1834.25,912.117 1838.33,914.856 1842.41,917.72 \n  1846.5,920.701 1850.58,923.796 1854.66,926.999 1858.75,930.306 1862.83,933.711 1866.91,937.209 1871,940.795 1875.08,944.464 1879.17,948.211 1883.25,952.032 \n  1887.33,955.921 1891.42,959.874 1895.5,963.886 1899.58,967.952 1903.67,972.067 1907.75,976.227 1911.84,980.427 1915.92,984.664 1920,988.931 1924.09,993.226 \n  1928.17,997.544 1932.25,1001.88 1936.34,1006.23 1940.42,1010.59 1944.51,1014.96 1948.59,1019.33 1952.67,1023.7 1956.76,1028.07 1960.84,1032.42 1964.92,1036.77 \n  1969.01,1041.1 1973.09,1045.41 1977.18,1049.7 1981.26,1053.96 1985.34,1058.2 1989.43,1062.4 1993.51,1066.58 1997.59,1070.71 2001.68,1074.8 2005.76,1078.85 \n  2009.85,1082.86 2013.93,1086.82 2018.01,1090.73 2022.1,1094.59 2026.18,1098.39 2030.26,1102.13 2034.35,1105.82 2038.43,1109.45 2042.52,1113.01 2046.6,1116.51 \n  2050.68,1119.94 2054.77,1123.3 2058.85,1126.6 2062.93,1129.82 2067.02,1132.96 2071.1,1136.04 2075.18,1139.04 2079.27,1141.96 2083.35,1144.8 2087.44,1147.56 \n  2091.52,1150.24 2095.6,1152.84 2099.69,1155.35 2103.77,1157.78 2107.85,1160.13 2111.94,1162.39 2116.02,1164.56 2120.11,1166.64 2124.19,1168.64 2128.27,1170.54 \n  2132.36,1172.36 2136.44,1174.08 2140.52,1175.72 2144.61,1177.26 2148.69,1178.71 2152.78,1180.06 2156.86,1181.32 2160.94,1182.49 2165.03,1183.57 2169.11,1184.54 \n  2173.19,1185.42 2177.28,1186.21 2181.36,1186.9 2185.45,1187.49 2189.53,1187.99 2193.61,1188.38 2197.7,1188.68 2201.78,1188.88 2205.86,1188.98 2209.95,1188.98 \n  2214.03,1188.88 2218.12,1188.68 2222.2,1188.38 2226.28,1187.98 2230.37,1187.48 2234.45,1186.87 2238.53,1186.16 2242.62,1185.35 2246.7,1184.43 2250.79,1183.41 \n  2254.87,1182.29 2258.95,1181.05 2263.04,1179.72 2267.12,1178.27 2271.2,1176.72 2275.29,1175.05 2279.37,1173.28 2283.46,1171.4 2287.54,1169.4 2291.62,1167.3 \n  \n  \"/>\n<path clip-path=\"url(#clip580)\" d=\"\nM1988.32 198.898 L2280.75 198.898 L2280.75 95.2176 L1988.32 95.2176  Z\n  \" fill=\"#ffffff\" fill-rule=\"evenodd\" fill-opacity=\"1\"/>\n<polyline clip-path=\"url(#clip580)\" style=\"stroke:#000000; stroke-linecap:round; stroke-linejoin:round; stroke-width:4; stroke-opacity:1; fill:none\" points=\"\n  1988.32,198.898 2280.75,198.898 2280.75,95.2176 1988.32,95.2176 1988.32,198.898 \n  \"/>\n<polyline clip-path=\"url(#clip580)\" style=\"stroke:#009af9; stroke-linecap:round; stroke-linejoin:round; stroke-width:4; stroke-opacity:1; fill:none\" points=\"\n  2012.32,147.058 2156.32,147.058 \n  \"/>\n<path clip-path=\"url(#clip580)\" d=\"M2194.17 166.745 Q2192.36 171.375 2190.65 172.787 Q2188.93 174.199 2186.06 174.199 L2182.66 174.199 L2182.66 170.634 L2185.16 170.634 Q2186.92 170.634 2187.89 169.8 Q2188.86 168.967 2190.05 165.865 L2190.81 163.921 L2180.32 138.412 L2184.84 138.412 L2192.94 158.689 L2201.04 138.412 L2205.55 138.412 L2194.17 166.745 Z\" fill=\"#000000\" fill-rule=\"evenodd\" fill-opacity=\"1\" /><path clip-path=\"url(#clip580)\" d=\"M2212.85 160.402 L2220.48 160.402 L2220.48 134.037 L2212.17 135.703 L2212.17 131.444 L2220.44 129.778 L2225.11 129.778 L2225.11 160.402 L2232.75 160.402 L2232.75 164.338 L2212.85 164.338 L2212.85 160.402 Z\" fill=\"#000000\" fill-rule=\"evenodd\" fill-opacity=\"1\" /></svg>\n"
     },
     "execution_count": 47,
     "metadata": {},
     "output_type": "execute_result"
    }
   ],
   "source": [
    "plot(w_mesh, gi[:,1], linewidth=2.0)"
   ]
  },
  {
   "cell_type": "code",
   "execution_count": null,
   "metadata": {},
   "outputs": [],
   "source": []
  }
 ],
 "metadata": {
  "kernelspec": {
   "display_name": "Julia 1.8.2",
   "language": "julia",
   "name": "julia-1.8"
  },
  "language_info": {
   "file_extension": ".jl",
   "mimetype": "application/julia",
   "name": "julia",
   "version": "1.8.2"
  },
  "orig_nbformat": 4,
  "vscode": {
   "interpreter": {
    "hash": "ba9adc20f5d2cbd026ba97e5cdba9f52f75b0bad1640aec7f9933b7bf8f6712d"
   }
  }
 },
 "nbformat": 4,
 "nbformat_minor": 2
}
