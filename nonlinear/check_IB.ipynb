{
 "cells": [
  {
   "cell_type": "code",
   "execution_count": 3,
   "metadata": {},
   "outputs": [],
   "source": [
    "include(\"model_2D_IB.jl\")\n",
    "\n",
    "using SparseIR, Plots\n",
    "#using OMEinsum\n",
    "#using FastGaussQuadrature\n",
    "import SparseIR: valueim, value\n",
    "import SparseIR: fit"
   ]
  },
  {
   "cell_type": "code",
   "execution_count": 4,
   "metadata": {},
   "outputs": [
    {
     "data": {
      "text/plain": [
       "gk_m (generic function with 1 method)"
      ]
     },
     "execution_count": 4,
     "metadata": {},
     "output_type": "execute_result"
    }
   ],
   "source": [
    "struct IR_params\n",
    "    U::Float64\n",
    "    beta::Float64\n",
    "    bw::Float64\n",
    "    basis::FiniteTempBasis\n",
    "    #{Fermionic, LogisticKernel, Float64, Float64}\n",
    "    \n",
    "    smpl_matsu::MatsubaraSampling64F\n",
    "    smpl_tau::TauSampling64\n",
    "\n",
    "    n_matsu::Int\n",
    "    n_tau::Int\n",
    "\n",
    "    smpl_wn::Vector{ComplexF64}\n",
    "end\n",
    "\n",
    "function set_IR(U::Float64, beta::Float64, bw::Float64)\n",
    "    basis = FiniteTempBasis(Fermionic(), beta, bw, 1e-10)\n",
    "\n",
    "    smpl_matsu = MatsubaraSampling(basis)\n",
    "    n_matsu = size(smpl_matsu.sampling_points)[1]\n",
    "\n",
    "    smpl_tau = TauSampling(basis)\n",
    "    n_tau = size(smpl_tau.sampling_points)[1]\n",
    "\n",
    "    smpl_wn = zeros(ComplexF64, n_matsu)\n",
    "    for w in 1:n_matsu\n",
    "        smpl_wn[w] = valueim(smpl_matsu.sampling_points[w], beta)\n",
    "    end\n",
    "\n",
    "    return U, beta, bw, basis, smpl_matsu, smpl_tau, n_matsu, n_tau, smpl_wn\n",
    "end\n",
    "\n",
    "mutable struct Green_Sigma\n",
    "    g0_ir::Vector{Matrix{ComplexF64}}\n",
    "    g0_ir_vec::Matrix{Float64}\n",
    "    g0_tau::Vector{Matrix{ComplexF64}}\n",
    "    g0_matsu::Vector{Matrix{ComplexF64}}\n",
    "\n",
    "    g_ir::Vector{Matrix{ComplexF64}}\n",
    "    g_ir_vec::Matrix{Float64}\n",
    "    g_matsu::Vector{Matrix{ComplexF64}}\n",
    "\n",
    "    sigma_ir::Vector{Matrix{ComplexF64}}\n",
    "    sigma_tau::Vector{Matrix{ComplexF64}}\n",
    "    sigma_matsu::Vector{Matrix{ComplexF64}}\n",
    "\n",
    "    n_ir::Int\n",
    "end\n",
    "\n",
    "function init_zero_g(ir::IR_params)\n",
    "    \n",
    "    g0_ir::Vector{Matrix{ComplexF64}} = []\n",
    "    g0_ir_vec = zeros(Float64, 43, 4)\n",
    "    g0_tau::Vector{Matrix{ComplexF64}} = []\n",
    "    g0_matsu::Vector{Matrix{ComplexF64}} = []\n",
    "\n",
    "    g_ir::Vector{Matrix{ComplexF64}} = []\n",
    "    g_ir_vec = zeros(Float64, 43, 4)\n",
    "    g_matsu::Vector{Matrix{ComplexF64}} = []\n",
    "\n",
    "    sigma_ir::Vector{Matrix{ComplexF64}} = []\n",
    "    sigma_tau::Vector{Matrix{ComplexF64}} = []\n",
    "    sigma_matsu::Vector{Matrix{ComplexF64}} = []\n",
    "\n",
    "    n_ir::Int = 0\n",
    "\n",
    "    return g0_ir, g0_ir_vec, g0_tau, g0_matsu, g_ir, g_ir_vec, g_matsu, sigma_ir, sigma_tau, sigma_matsu, n_ir\n",
    "end\n",
    "\n",
    "\n",
    "function gk_m(p::Parm, k::Vector{Float64}, w::ComplexF64, g::Green_Sigma)\n",
    "    e = set_H(k,p)\n",
    "    gk = 1.0/(w - e - g.sig)\n",
    "    return gk\n",
    "end\n"
   ]
  },
  {
   "cell_type": "code",
   "execution_count": 5,
   "metadata": {},
   "outputs": [
    {
     "name": "stdout",
     "output_type": "stream",
     "text": [
      "Parm(0.5, 0.2, 0.3, -2.0, 0.05, 200, 2.5e-5)\n"
     ]
    }
   ],
   "source": [
    "px = Parm(set_parm([\"0.5\",\"0.2\",\"0.3\", \"-2.0\", \"0.05\", \"200\"])...)\n",
    "irx = IR_params(set_IR(4.0, 100.0, 4.0)...)\n",
    "gx = Green_Sigma(init_zero_g(irx)...)\n",
    "println(px)"
   ]
  },
  {
   "cell_type": "code",
   "execution_count": 6,
   "metadata": {},
   "outputs": [
    {
     "data": {
      "text/plain": [
       "get_G0mlocal! (generic function with 1 method)"
      ]
     },
     "execution_count": 6,
     "metadata": {},
     "output_type": "execute_result"
    }
   ],
   "source": [
    "\n",
    "function get_G0mlocal!(p::Parm, k_BZ::Vector{Vector{Float64}}, sw::Int,ir::IR_params, g::Green_Sigma)\n",
    "    if(sw == 1)\n",
    "        for wn in 1:ir.n_matsu\n",
    "            gw_l = zeros(ComplexF64, 2, 2)\n",
    "            gl = zeros(ComplexF64, 2, 2)\n",
    "            for i in 1:length(k_BZ)\n",
    "                e = set_H(k_BZ[i],p) - p.mu*Matrix{Complex{Float64}}(I,2,2)\n",
    "                #gk = 1.0/(w - e + p.eta*1.0im*sign(imag(w)))\n",
    "                gk = inv(ir.smpl_wn[wn]*Matrix{Complex{Float64}}(I,2,2) - e)\n",
    "                gw_l += p.dk2 * gk\n",
    "            end\n",
    "            push!(g.g0_matsu, gw_l)\n",
    "            push!(g.g_matsu, gl)\n",
    "        end\n",
    "    else\n",
    "        for wn in 1:ir.n_matsu\n",
    "            gw_l = zeros(ComplexF64, 2, 2)\n",
    "            gl = zeros(ComplexF64, 2, 2)\n",
    "            for i in 1:length(k_BZ)\n",
    "                e = set_H(k_BZ[i],p) - p.mu*Matrix{Complex{Float64}}(I,2,2)\n",
    "                #gk = 1.0/(w - e + p.eta*1.0im*sign(imag(w)))\n",
    "                gk = inv(ir.smpl_wn[wn]*Matrix{Complex{Float64}}(I,2,2) - e - g.sigma_matsu[wn])\n",
    "                gl += p.dk2 * gk\n",
    "            end\n",
    "            gw_l = inv(inv(gl) + g.sigma_matsu[wn])\n",
    "            g.g0_matsu[wn] = gw_l\n",
    "            g.g_matsu[wn] = gl\n",
    "        end\n",
    "    end\n",
    "    return nothing\n",
    "end"
   ]
  },
  {
   "cell_type": "code",
   "execution_count": 7,
   "metadata": {},
   "outputs": [
    {
     "data": {
      "text/plain": [
       "MatsuToTau! (generic function with 1 method)"
      ]
     },
     "execution_count": 7,
     "metadata": {},
     "output_type": "execute_result"
    }
   ],
   "source": [
    "function MatsuToTau!(ir::IR_params, g::Green_Sigma)\n",
    "    g.g0_ir = fit(ir.smpl_matsu, g.g0_matsu, dim=1)\n",
    "    g.g_ir = fit(ir.smpl_matsu, g.g_matsu, dim=1)\n",
    "    g.n_ir = size(g.g0_ir)[1]\n",
    "    g.g0_tau = evaluate(ir.smpl_tau, g.g0_ir, dim=1)\n",
    "end"
   ]
  },
  {
   "cell_type": "code",
   "execution_count": 8,
   "metadata": {},
   "outputs": [],
   "source": [
    "kk = get_kk(px.K_SIZE)\n",
    "get_G0mlocal!(px, kk, 1, irx, gx)\n",
    "    #MatsuToTau!(ir, g)"
   ]
  },
  {
   "cell_type": "code",
   "execution_count": 9,
   "metadata": {},
   "outputs": [
    {
     "name": "stdout",
     "output_type": "stream",
     "text": [
      "done!\n"
     ]
    }
   ],
   "source": [
    "MatsuToTau!(irx, gx)\n",
    "println(\"done!\")"
   ]
  },
  {
   "cell_type": "code",
   "execution_count": 9,
   "metadata": {},
   "outputs": [
    {
     "data": {
      "text/plain": [
       "43"
      ]
     },
     "execution_count": 9,
     "metadata": {},
     "output_type": "execute_result"
    }
   ],
   "source": [
    "gx.n_ir"
   ]
  },
  {
   "cell_type": "code",
   "execution_count": 10,
   "metadata": {},
   "outputs": [
    {
     "data": {
      "text/plain": [
       "calc_sigma! (generic function with 1 method)"
      ]
     },
     "execution_count": 10,
     "metadata": {},
     "output_type": "execute_result"
    }
   ],
   "source": [
    "function calc_sigma!(sw::Int, ir::IR_params, g::Green_Sigma)\n",
    "    for tau in 1:ir.n_tau\n",
    "        if(sw == 1)\n",
    "            test = zeros(ComplexF64, 2, 2)\n",
    "            for i in 1:2, j in 1:2 \n",
    "                test[i,j] = ir.U^2 * (g.g0_tau[tau])[i,j] * (g.g0_tau[tau])[3-i,3-j] * (g.g0_tau[end+1-tau])[3-i,3-j]\n",
    "                #test[i,j] = ir.U^2 * (g.g0_tau[tau])[i,j] * (g.g0_tau[tau])[i,j] * (g.g0_tau[end+1-tau])[i,j]\n",
    "            end\n",
    "            push!(g.sigma_tau, test)\n",
    "        else\n",
    "            for i in 1:2, j in 1:2 \n",
    "                (g.sigma_tau[tau])[i,j] = ir.U^2 * (g.g0_tau[tau])[i,j] * (g.g0_tau[tau])[3-i,3-j] * (g.g0_tau[end+1-tau])[3-i,3-j]\n",
    "                #(g.sigma_tau[tau])[i,j] = ir.U^2 * (g.g0_tau[tau])[i,j] * (g.g0_tau[tau])[i,j] * (g.g0_tau[end+1-tau])[i,j]\n",
    "            end\n",
    "        end\n",
    "    end\n",
    "    return nothing\n",
    "end"
   ]
  },
  {
   "cell_type": "code",
   "execution_count": 11,
   "metadata": {},
   "outputs": [],
   "source": [
    "calc_sigma!(1, irx, gx)"
   ]
  },
  {
   "cell_type": "code",
   "execution_count": 12,
   "metadata": {},
   "outputs": [
    {
     "data": {
      "text/plain": [
       "TauToMatsu! (generic function with 1 method)"
      ]
     },
     "execution_count": 12,
     "metadata": {},
     "output_type": "execute_result"
    }
   ],
   "source": [
    "function TauToMatsu!(sw::Int, ir::IR_params, g::Green_Sigma, γ::Float64)\n",
    "    ir_new = fit(ir.smpl_tau, g.sigma_tau)\n",
    "    diff0 =0.0\n",
    "    sum0 = 0.0\n",
    "    if(sw == 1)\n",
    "        for i in 1:g.n_ir\n",
    "            diff0 += sum(abs.(ir_new[i]))\n",
    "            push!(g.sigma_ir, zeros(ComplexF64, 2, 2))\n",
    "        end\n",
    "        sum0 = 1.0\n",
    "    else\n",
    "        for i in 1:g.n_ir\n",
    "            diff0 += sum(abs.(ir_new[i] .- g.sigma_ir[i]))\n",
    "            sum0 += sum(abs.(g.sigma_ir[i]))\n",
    "        end\n",
    "    end\n",
    "    diff = diff0/sum0\n",
    "    g.sigma_ir = (1.0-γ) .* g.sigma_ir .+ γ .* ir_new\n",
    "    g.sigma_matsu = evaluate(ir.smpl_matsu, g.sigma_ir, dim=1)\n",
    "\n",
    "    return diff\n",
    "end"
   ]
  },
  {
   "cell_type": "code",
   "execution_count": 13,
   "metadata": {},
   "outputs": [
    {
     "data": {
      "text/plain": [
       "6.367193908753284"
      ]
     },
     "execution_count": 13,
     "metadata": {},
     "output_type": "execute_result"
    }
   ],
   "source": [
    "diff = TauToMatsu!(1, irx, gx, 0.2)"
   ]
  },
  {
   "cell_type": "code",
   "execution_count": 14,
   "metadata": {},
   "outputs": [
    {
     "data": {
      "text/plain": [
       "update_g! (generic function with 1 method)"
      ]
     },
     "execution_count": 14,
     "metadata": {},
     "output_type": "execute_result"
    }
   ],
   "source": [
    "function update_g!(p::Parm, k_BZ::Vector{Vector{Float64}},sw::Int, ir::IR_params, g::Green_Sigma, γ::Float64)\n",
    "    get_G0mlocal!(p, k_BZ, sw, ir, g)\n",
    "    MatsuToTau!(ir, g)\n",
    "    calc_sigma!(sw, ir, g)\n",
    "    # .+ ir.U .* g.g0_tau\n",
    "    diff = TauToMatsu!(sw, ir, g, γ)\n",
    "    return diff\n",
    "end"
   ]
  },
  {
   "cell_type": "code",
   "execution_count": 15,
   "metadata": {},
   "outputs": [
    {
     "name": "stdout",
     "output_type": "stream",
     "text": [
      "81\n"
     ]
    }
   ],
   "source": [
    "for it in 2:1000\n",
    "    L1 = update_g!(px,kk,it,irx,gx, 0.2)\n",
    "    if(L1<1e-7)\n",
    "        println(it)\n",
    "        break\n",
    "    end\n",
    "end"
   ]
  },
  {
   "cell_type": "code",
   "execution_count": 16,
   "metadata": {},
   "outputs": [
    {
     "data": {
      "text/plain": [
       "MtoV! (generic function with 1 method)"
      ]
     },
     "execution_count": 16,
     "metadata": {},
     "output_type": "execute_result"
    }
   ],
   "source": [
    "function MtoV!(g::Green_Sigma)\n",
    "    g.g0_ir_vec = zeros(Float64, g.n_ir, 4)\n",
    "    g.g_ir_vec = zeros(Float64, g.n_ir, 4)\n",
    "    for it in 1:g.n_ir\n",
    "        for mm in 1:4\n",
    "            g.g0_ir_vec[it,mm] = real(tr(sigma[mm]*g.g0_ir[it]))/2\n",
    "            g.g_ir_vec[it,mm] = real(tr(sigma[mm]*g.g_ir[it]))/2\n",
    "        end\n",
    "    end\n",
    "end"
   ]
  },
  {
   "cell_type": "code",
   "execution_count": 17,
   "metadata": {},
   "outputs": [],
   "source": [
    "MtoV!(gx)"
   ]
  },
  {
   "cell_type": "code",
   "execution_count": 25,
   "metadata": {},
   "outputs": [
    {
     "data": {
      "text/plain": [
       "4-element Vector{Float64}:\n",
       " -1.9061641154394238e-11\n",
       " -4.627479060432188e-17\n",
       " -2.5774440282693543e-19\n",
       "  0.6776410033852819"
      ]
     },
     "execution_count": 25,
     "metadata": {},
     "output_type": "execute_result"
    }
   ],
   "source": [
    "gx.g0_ir_vec[2,:]"
   ]
  },
  {
   "cell_type": "code",
   "execution_count": 18,
   "metadata": {},
   "outputs": [
    {
     "data": {
      "text/plain": [
       "F_rho (generic function with 1 method)"
      ]
     },
     "execution_count": 18,
     "metadata": {},
     "output_type": "execute_result"
    }
   ],
   "source": [
    "function F_rho(ir::IR_params, g::Green_Sigma, rho_ls, λ)\n",
    "    vec = g.g_ir_vec - (ir.basis.s .* rho_ls)\n",
    "    \n",
    "    return f = 0.5*sum((vec.^2)) + λ*sum(abs.(rho_ls))\n",
    "end"
   ]
  },
  {
   "cell_type": "code",
   "execution_count": 28,
   "metadata": {},
   "outputs": [
    {
     "data": {
      "text/plain": [
       "43×4 Matrix{Float64}:\n",
       " 0.436605   0.954257    0.929473    0.913241\n",
       " 0.788514   0.696895    0.472924    0.526256\n",
       " 0.326809   0.517553    0.862117    0.605736\n",
       " 0.211879   0.241286    0.284008    0.924883\n",
       " 0.501329   0.260363    0.0631385   0.525095\n",
       " 0.83362    0.424121    0.198255    0.690617\n",
       " 0.249052   0.00771204  0.644888    0.0794197\n",
       " 0.789887   0.421632    0.48051     0.817133\n",
       " 0.936573   0.270528    0.300669    0.340716\n",
       " 0.250777   0.764035    0.517853    0.161304\n",
       " 0.889651   0.588655    0.0375627   0.779875\n",
       " 0.194588   0.35615     0.722702    0.499188\n",
       " 0.353793   0.134418    0.312163    0.533961\n",
       " ⋮                                  \n",
       " 0.231523   0.795159    0.00526082  0.0547728\n",
       " 0.323236   0.573755    0.0241567   0.553438\n",
       " 0.914351   0.105774    0.311697    0.533854\n",
       " 0.78493    0.267466    0.569519    0.396438\n",
       " 0.615437   0.586836    0.872939    0.795205\n",
       " 0.269602   0.640701    0.899007    0.616103\n",
       " 0.817364   0.933638    0.663632    0.913765\n",
       " 0.0060969  0.276458    0.496283    0.166658\n",
       " 0.244047   0.804872    0.401567    0.413357\n",
       " 0.336381   0.885197    0.510521    0.92927\n",
       " 0.227826   0.0603332   0.876318    0.176715\n",
       " 0.355221   0.958366    0.343328    0.717294"
      ]
     },
     "execution_count": 28,
     "metadata": {},
     "output_type": "execute_result"
    }
   ],
   "source": [
    "testm = rand(Float64, gx.n_ir, 4)"
   ]
  },
  {
   "cell_type": "code",
   "execution_count": 31,
   "metadata": {},
   "outputs": [
    {
     "data": {
      "text/plain": [
       "6.712794875798384"
      ]
     },
     "execution_count": 31,
     "metadata": {},
     "output_type": "execute_result"
    }
   ],
   "source": [
    "fff = F_rho(irx, gx, testm, 0.0001)"
   ]
  },
  {
   "cell_type": "code",
   "execution_count": 19,
   "metadata": {},
   "outputs": [],
   "source": [
    "using Flux"
   ]
  },
  {
   "cell_type": "code",
   "execution_count": 20,
   "metadata": {},
   "outputs": [
    {
     "data": {
      "text/plain": [
       "fit_rhow (generic function with 1 method)"
      ]
     },
     "execution_count": 20,
     "metadata": {},
     "output_type": "execute_result"
    }
   ],
   "source": [
    "function fit_rhow(ir::IR_params, g::Green_Sigma, l_num::Int, batch_num::Int, w_mesh::Vector{Float64})\n",
    "    sn = range(-12.0, 0.0, length=l_num)\n",
    "    lam_test = 10 .^ (sn)\n",
    "    opt = ADAM()\n",
    "    s_rho_l::Vector{Matrix{Float64}} = []\n",
    "    #rand(Float64, l_num, g.n_ir)\n",
    "    s_F_rho = 1000.0 * ones(Float64, l_num)\n",
    "    for ll in 1:l_num\n",
    "        lam = lam_test[ll]\n",
    "        count::Int = 0\n",
    "        for b in 1:batch_num\n",
    "            rho_ll = rand(Float64, g.n_ir, 4)\n",
    "            \n",
    "            #rho_ll = rand(Float64, g.n_ir)\n",
    "            F_old = 1000.0\n",
    "            F_new = 1000.0\n",
    "            for i in 1:8000\n",
    "                grads = Flux.gradient(Flux.params(rho_ll)) do\n",
    "                    F_rho(ir, g, rho_ll, lam)\n",
    "                end\n",
    "                Flux.Optimise.update!(opt, Flux.params(rho_ll), grads)\n",
    "                F_old = F_new\n",
    "                F_new = F_rho(ir, g, rho_ll, lam)\n",
    "                if(abs(F_old-F_new)/abs(F_old)<1e-6)\n",
    "                    break\n",
    "                end\n",
    "                if(i==8000)\n",
    "                    count += 1\n",
    "                end\n",
    "            end\n",
    "            if(s_F_rho[ll] > F_new)\n",
    "                if(b==1)\n",
    "                    push!(s_rho_l, rho_ll)\n",
    "                else\n",
    "                    s_rho_l[ll] = rho_ll\n",
    "                end\n",
    "                s_F_rho[ll] = F_new\n",
    "            end \n",
    "        end\n",
    "        println(count)\n",
    "    end\n",
    "    b = (log(s_F_rho[end])-log(s_F_rho[1]))/(log(lam_test[end])-log(lam_test[1]))\n",
    "    a = s_F_rho[1]*lam_test[1]^(-b)\n",
    "    ev = a .* lam_test .^ b ./ s_F_rho\n",
    "\n",
    "    p1 = plot(lam_test, ev, xaxis=:log, yaxis=:log, marker=:circle)\n",
    "    #savefig(p1,\"./lambda_opt_G.png\")\n",
    "\n",
    "    it = findmax(ev)[2]+1\n",
    "    max1 = s_F_rho[it]\n",
    "    println(\"it:$it,  s_F:$max1\")\n",
    "    rho_omega = -(transpose(ir.basis.v(w_mesh)) * s_rho_l[it])\n",
    "    return rho_omega\n",
    "end"
   ]
  },
  {
   "cell_type": "code",
   "execution_count": 21,
   "metadata": {},
   "outputs": [
    {
     "name": "stdout",
     "output_type": "stream",
     "text": [
      "I'm ready!\n"
     ]
    }
   ],
   "source": [
    "lamda_num = 20\n",
    "batch_num = 100\n",
    "w_num = 500\n",
    "w_mesh = collect(-irx.bw:2irx.bw/(w_num-1):irx.bw)\n",
    "println(\"I'm ready!\")"
   ]
  },
  {
   "cell_type": "code",
   "execution_count": 37,
   "metadata": {},
   "outputs": [
    {
     "name": "stdout",
     "output_type": "stream",
     "text": [
      "79\n",
      "68\n",
      "70\n",
      "58\n",
      "59\n",
      "6\n",
      "0\n",
      "0\n",
      "0\n",
      "1\n",
      "1\n",
      "0\n",
      "0\n",
      "1\n",
      "0\n",
      "0\n",
      "0\n",
      "7\n",
      "6\n",
      "27\n",
      "it:7,  s_F:1.267962266714438e-8\n"
     ]
    },
    {
     "data": {
      "text/plain": [
       "500×4 Matrix{Float64}:\n",
       " 0.0107667   -0.000542613   4.48633e-5    0.0292437\n",
       " 0.00976156  -0.000433376   4.16827e-5    0.0277869\n",
       " 0.00880944  -0.000338135   3.76989e-5    0.0263341\n",
       " 0.00790992  -0.000255616   3.30733e-5    0.0248852\n",
       " 0.00706259  -0.000184623   2.79561e-5    0.0234399\n",
       " 0.00626709  -0.000124033   2.24863e-5    0.0219981\n",
       " 0.00552304  -7.27984e-5    1.6792e-5     0.0205597\n",
       " 0.00483012  -2.99389e-5    1.09905e-5    0.0191245\n",
       " 0.00418803   5.45671e-6    5.18875e-6    0.0176926\n",
       " 0.00359648   3.42352e-5   -5.16602e-7    0.0162637\n",
       " 0.0030552    5.71804e-5   -6.03878e-6    0.0148379\n",
       " 0.00256394   7.50165e-5   -1.13007e-5    0.0134152\n",
       " 0.00212248   8.84098e-5   -1.62346e-5    0.0119954\n",
       " ⋮                                       \n",
       " 0.0025736    4.32725e-5    2.79586e-5   -0.013287\n",
       " 0.00307243   5.16777e-5    1.37898e-5   -0.0147074\n",
       " 0.00362216   6.11955e-5    6.73372e-10  -0.0161323\n",
       " 0.00422308   7.19563e-5   -1.29303e-5   -0.0175619\n",
       " 0.00487551   8.40978e-5   -2.44646e-5   -0.018996\n",
       " 0.00557977   9.7765e-5    -3.40008e-5   -0.0204346\n",
       " 0.00633621   0.00011311   -4.0871e-5    -0.0218778\n",
       " 0.0071452    0.000130293  -4.43384e-5   -0.0233253\n",
       " 0.00800712   0.00014948   -4.35935e-5   -0.0247771\n",
       " 0.00892241   0.000170846  -3.77513e-5   -0.026233\n",
       " 0.0098915    0.000194571  -2.58484e-5   -0.0276929\n",
       " 0.0109149    0.000220843  -6.83927e-6   -0.0291565"
      ]
     },
     "execution_count": 37,
     "metadata": {},
     "output_type": "execute_result"
    }
   ],
   "source": [
    "gi = fit_rhow(irx, gx, lamda_num, batch_num, w_mesh)"
   ]
  },
  {
   "cell_type": "code",
   "execution_count": 38,
   "metadata": {},
   "outputs": [
    {
     "data": {
      "image/svg+xml": "<?xml version=\"1.0\" encoding=\"utf-8\"?>\n<svg xmlns=\"http://www.w3.org/2000/svg\" xmlns:xlink=\"http://www.w3.org/1999/xlink\" width=\"600\" height=\"400\" viewBox=\"0 0 2400 1600\">\n<defs>\n  <clipPath id=\"clip160\">\n    <rect x=\"0\" y=\"0\" width=\"2400\" height=\"1600\"/>\n  </clipPath>\n</defs>\n<path clip-path=\"url(#clip160)\" d=\"\nM0 1600 L2400 1600 L2400 0 L0 0  Z\n  \" fill=\"#ffffff\" fill-rule=\"evenodd\" fill-opacity=\"1\"/>\n<defs>\n  <clipPath id=\"clip161\">\n    <rect x=\"480\" y=\"0\" width=\"1681\" height=\"1600\"/>\n  </clipPath>\n</defs>\n<path clip-path=\"url(#clip160)\" d=\"\nM186.274 1486.45 L2352.76 1486.45 L2352.76 47.2441 L186.274 47.2441  Z\n  \" fill=\"#ffffff\" fill-rule=\"evenodd\" fill-opacity=\"1\"/>\n<defs>\n  <clipPath id=\"clip162\">\n    <rect x=\"186\" y=\"47\" width=\"2167\" height=\"1440\"/>\n  </clipPath>\n</defs>\n<polyline clip-path=\"url(#clip162)\" style=\"stroke:#000000; stroke-linecap:round; stroke-linejoin:round; stroke-width:2; stroke-opacity:0.1; fill:none\" points=\"\n  247.59,1486.45 247.59,47.2441 \n  \"/>\n<polyline clip-path=\"url(#clip162)\" style=\"stroke:#000000; stroke-linecap:round; stroke-linejoin:round; stroke-width:2; stroke-opacity:0.1; fill:none\" points=\"\n  758.552,1486.45 758.552,47.2441 \n  \"/>\n<polyline clip-path=\"url(#clip162)\" style=\"stroke:#000000; stroke-linecap:round; stroke-linejoin:round; stroke-width:2; stroke-opacity:0.1; fill:none\" points=\"\n  1269.51,1486.45 1269.51,47.2441 \n  \"/>\n<polyline clip-path=\"url(#clip162)\" style=\"stroke:#000000; stroke-linecap:round; stroke-linejoin:round; stroke-width:2; stroke-opacity:0.1; fill:none\" points=\"\n  1780.48,1486.45 1780.48,47.2441 \n  \"/>\n<polyline clip-path=\"url(#clip162)\" style=\"stroke:#000000; stroke-linecap:round; stroke-linejoin:round; stroke-width:2; stroke-opacity:0.1; fill:none\" points=\"\n  2291.44,1486.45 2291.44,47.2441 \n  \"/>\n<polyline clip-path=\"url(#clip160)\" style=\"stroke:#000000; stroke-linecap:round; stroke-linejoin:round; stroke-width:4; stroke-opacity:1; fill:none\" points=\"\n  186.274,1486.45 2352.76,1486.45 \n  \"/>\n<polyline clip-path=\"url(#clip160)\" style=\"stroke:#000000; stroke-linecap:round; stroke-linejoin:round; stroke-width:4; stroke-opacity:1; fill:none\" points=\"\n  247.59,1486.45 247.59,1467.55 \n  \"/>\n<polyline clip-path=\"url(#clip160)\" style=\"stroke:#000000; stroke-linecap:round; stroke-linejoin:round; stroke-width:4; stroke-opacity:1; fill:none\" points=\"\n  758.552,1486.45 758.552,1467.55 \n  \"/>\n<polyline clip-path=\"url(#clip160)\" style=\"stroke:#000000; stroke-linecap:round; stroke-linejoin:round; stroke-width:4; stroke-opacity:1; fill:none\" points=\"\n  1269.51,1486.45 1269.51,1467.55 \n  \"/>\n<polyline clip-path=\"url(#clip160)\" style=\"stroke:#000000; stroke-linecap:round; stroke-linejoin:round; stroke-width:4; stroke-opacity:1; fill:none\" points=\"\n  1780.48,1486.45 1780.48,1467.55 \n  \"/>\n<polyline clip-path=\"url(#clip160)\" style=\"stroke:#000000; stroke-linecap:round; stroke-linejoin:round; stroke-width:4; stroke-opacity:1; fill:none\" points=\"\n  2291.44,1486.45 2291.44,1467.55 \n  \"/>\n<path clip-path=\"url(#clip160)\" d=\"M216.49 1532.02 L246.166 1532.02 L246.166 1535.95 L216.49 1535.95 L216.49 1532.02 Z\" fill=\"#000000\" fill-rule=\"evenodd\" fill-opacity=\"1\" /><path clip-path=\"url(#clip160)\" d=\"M269.106 1518.36 L257.3 1536.81 L269.106 1536.81 L269.106 1518.36 M267.879 1514.29 L273.758 1514.29 L273.758 1536.81 L278.689 1536.81 L278.689 1540.7 L273.758 1540.7 L273.758 1548.85 L269.106 1548.85 L269.106 1540.7 L253.504 1540.7 L253.504 1536.19 L267.879 1514.29 Z\" fill=\"#000000\" fill-rule=\"evenodd\" fill-opacity=\"1\" /><path clip-path=\"url(#clip160)\" d=\"M728.495 1532.02 L758.17 1532.02 L758.17 1535.95 L728.495 1535.95 L728.495 1532.02 Z\" fill=\"#000000\" fill-rule=\"evenodd\" fill-opacity=\"1\" /><path clip-path=\"url(#clip160)\" d=\"M772.291 1544.91 L788.61 1544.91 L788.61 1548.85 L766.666 1548.85 L766.666 1544.91 Q769.328 1542.16 773.911 1537.53 Q778.517 1532.88 779.698 1531.53 Q781.943 1529.01 782.823 1527.27 Q783.726 1525.51 783.726 1523.82 Q783.726 1521.07 781.781 1519.33 Q779.86 1517.6 776.758 1517.6 Q774.559 1517.6 772.105 1518.36 Q769.675 1519.13 766.897 1520.68 L766.897 1515.95 Q769.721 1514.82 772.175 1514.24 Q774.629 1513.66 776.666 1513.66 Q782.036 1513.66 785.23 1516.35 Q788.425 1519.03 788.425 1523.52 Q788.425 1525.65 787.615 1527.57 Q786.828 1529.47 784.721 1532.07 Q784.142 1532.74 781.041 1535.95 Q777.939 1539.15 772.291 1544.91 Z\" fill=\"#000000\" fill-rule=\"evenodd\" fill-opacity=\"1\" /><path clip-path=\"url(#clip160)\" d=\"M1269.51 1517.37 Q1265.9 1517.37 1264.08 1520.93 Q1262.27 1524.47 1262.27 1531.6 Q1262.27 1538.71 1264.08 1542.27 Q1265.9 1545.82 1269.51 1545.82 Q1273.15 1545.82 1274.95 1542.27 Q1276.78 1538.71 1276.78 1531.6 Q1276.78 1524.47 1274.95 1520.93 Q1273.15 1517.37 1269.51 1517.37 M1269.51 1513.66 Q1275.33 1513.66 1278.38 1518.27 Q1281.46 1522.85 1281.46 1531.6 Q1281.46 1540.33 1278.38 1544.94 Q1275.33 1549.52 1269.51 1549.52 Q1263.7 1549.52 1260.63 1544.94 Q1257.57 1540.33 1257.57 1531.6 Q1257.57 1522.85 1260.63 1518.27 Q1263.7 1513.66 1269.51 1513.66 Z\" fill=\"#000000\" fill-rule=\"evenodd\" fill-opacity=\"1\" /><path clip-path=\"url(#clip160)\" d=\"M1775.13 1544.91 L1791.45 1544.91 L1791.45 1548.85 L1769.51 1548.85 L1769.51 1544.91 Q1772.17 1542.16 1776.75 1537.53 Q1781.36 1532.88 1782.54 1531.53 Q1784.78 1529.01 1785.66 1527.27 Q1786.57 1525.51 1786.57 1523.82 Q1786.57 1521.07 1784.62 1519.33 Q1782.7 1517.6 1779.6 1517.6 Q1777.4 1517.6 1774.95 1518.36 Q1772.51 1519.13 1769.74 1520.68 L1769.74 1515.95 Q1772.56 1514.82 1775.01 1514.24 Q1777.47 1513.66 1779.51 1513.66 Q1784.88 1513.66 1788.07 1516.35 Q1791.26 1519.03 1791.26 1523.52 Q1791.26 1525.65 1790.45 1527.57 Q1789.67 1529.47 1787.56 1532.07 Q1786.98 1532.74 1783.88 1535.95 Q1780.78 1539.15 1775.13 1544.91 Z\" fill=\"#000000\" fill-rule=\"evenodd\" fill-opacity=\"1\" /><path clip-path=\"url(#clip160)\" d=\"M2294.45 1518.36 L2282.64 1536.81 L2294.45 1536.81 L2294.45 1518.36 M2293.22 1514.29 L2299.1 1514.29 L2299.1 1536.81 L2304.03 1536.81 L2304.03 1540.7 L2299.1 1540.7 L2299.1 1548.85 L2294.45 1548.85 L2294.45 1540.7 L2278.85 1540.7 L2278.85 1536.19 L2293.22 1514.29 Z\" fill=\"#000000\" fill-rule=\"evenodd\" fill-opacity=\"1\" /><polyline clip-path=\"url(#clip162)\" style=\"stroke:#000000; stroke-linecap:round; stroke-linejoin:round; stroke-width:2; stroke-opacity:0.1; fill:none\" points=\"\n  186.274,1213.65 2352.76,1213.65 \n  \"/>\n<polyline clip-path=\"url(#clip162)\" style=\"stroke:#000000; stroke-linecap:round; stroke-linejoin:round; stroke-width:2; stroke-opacity:0.1; fill:none\" points=\"\n  186.274,930.472 2352.76,930.472 \n  \"/>\n<polyline clip-path=\"url(#clip162)\" style=\"stroke:#000000; stroke-linecap:round; stroke-linejoin:round; stroke-width:2; stroke-opacity:0.1; fill:none\" points=\"\n  186.274,647.294 2352.76,647.294 \n  \"/>\n<polyline clip-path=\"url(#clip162)\" style=\"stroke:#000000; stroke-linecap:round; stroke-linejoin:round; stroke-width:2; stroke-opacity:0.1; fill:none\" points=\"\n  186.274,364.115 2352.76,364.115 \n  \"/>\n<polyline clip-path=\"url(#clip162)\" style=\"stroke:#000000; stroke-linecap:round; stroke-linejoin:round; stroke-width:2; stroke-opacity:0.1; fill:none\" points=\"\n  186.274,80.9364 2352.76,80.9364 \n  \"/>\n<polyline clip-path=\"url(#clip160)\" style=\"stroke:#000000; stroke-linecap:round; stroke-linejoin:round; stroke-width:4; stroke-opacity:1; fill:none\" points=\"\n  186.274,1486.45 186.274,47.2441 \n  \"/>\n<polyline clip-path=\"url(#clip160)\" style=\"stroke:#000000; stroke-linecap:round; stroke-linejoin:round; stroke-width:4; stroke-opacity:1; fill:none\" points=\"\n  186.274,1213.65 205.172,1213.65 \n  \"/>\n<polyline clip-path=\"url(#clip160)\" style=\"stroke:#000000; stroke-linecap:round; stroke-linejoin:round; stroke-width:4; stroke-opacity:1; fill:none\" points=\"\n  186.274,930.472 205.172,930.472 \n  \"/>\n<polyline clip-path=\"url(#clip160)\" style=\"stroke:#000000; stroke-linecap:round; stroke-linejoin:round; stroke-width:4; stroke-opacity:1; fill:none\" points=\"\n  186.274,647.294 205.172,647.294 \n  \"/>\n<polyline clip-path=\"url(#clip160)\" style=\"stroke:#000000; stroke-linecap:round; stroke-linejoin:round; stroke-width:4; stroke-opacity:1; fill:none\" points=\"\n  186.274,364.115 205.172,364.115 \n  \"/>\n<polyline clip-path=\"url(#clip160)\" style=\"stroke:#000000; stroke-linecap:round; stroke-linejoin:round; stroke-width:4; stroke-opacity:1; fill:none\" points=\"\n  186.274,80.9364 205.172,80.9364 \n  \"/>\n<path clip-path=\"url(#clip160)\" d=\"M62.9365 1199.45 Q59.3254 1199.45 57.4967 1203.01 Q55.6912 1206.56 55.6912 1213.69 Q55.6912 1220.79 57.4967 1224.36 Q59.3254 1227.9 62.9365 1227.9 Q66.5707 1227.9 68.3763 1224.36 Q70.205 1220.79 70.205 1213.69 Q70.205 1206.56 68.3763 1203.01 Q66.5707 1199.45 62.9365 1199.45 M62.9365 1195.75 Q68.7467 1195.75 71.8022 1200.35 Q74.8809 1204.94 74.8809 1213.69 Q74.8809 1222.41 71.8022 1227.02 Q68.7467 1231.6 62.9365 1231.6 Q57.1264 1231.6 54.0477 1227.02 Q50.9921 1222.41 50.9921 1213.69 Q50.9921 1204.94 54.0477 1200.35 Q57.1264 1195.75 62.9365 1195.75 Z\" fill=\"#000000\" fill-rule=\"evenodd\" fill-opacity=\"1\" /><path clip-path=\"url(#clip160)\" d=\"M83.0984 1225.05 L87.9827 1225.05 L87.9827 1230.93 L83.0984 1230.93 L83.0984 1225.05 Z\" fill=\"#000000\" fill-rule=\"evenodd\" fill-opacity=\"1\" /><path clip-path=\"url(#clip160)\" d=\"M108.168 1199.45 Q104.557 1199.45 102.728 1203.01 Q100.922 1206.56 100.922 1213.69 Q100.922 1220.79 102.728 1224.36 Q104.557 1227.9 108.168 1227.9 Q111.802 1227.9 113.608 1224.36 Q115.436 1220.79 115.436 1213.69 Q115.436 1206.56 113.608 1203.01 Q111.802 1199.45 108.168 1199.45 M108.168 1195.75 Q113.978 1195.75 117.033 1200.35 Q120.112 1204.94 120.112 1213.69 Q120.112 1222.41 117.033 1227.02 Q113.978 1231.6 108.168 1231.6 Q102.358 1231.6 99.2789 1227.02 Q96.2234 1222.41 96.2234 1213.69 Q96.2234 1204.94 99.2789 1200.35 Q102.358 1195.75 108.168 1195.75 Z\" fill=\"#000000\" fill-rule=\"evenodd\" fill-opacity=\"1\" /><path clip-path=\"url(#clip160)\" d=\"M138.33 1199.45 Q134.719 1199.45 132.89 1203.01 Q131.084 1206.56 131.084 1213.69 Q131.084 1220.79 132.89 1224.36 Q134.719 1227.9 138.33 1227.9 Q141.964 1227.9 143.769 1224.36 Q145.598 1220.79 145.598 1213.69 Q145.598 1206.56 143.769 1203.01 Q141.964 1199.45 138.33 1199.45 M138.33 1195.75 Q144.14 1195.75 147.195 1200.35 Q150.274 1204.94 150.274 1213.69 Q150.274 1222.41 147.195 1227.02 Q144.14 1231.6 138.33 1231.6 Q132.519 1231.6 129.441 1227.02 Q126.385 1222.41 126.385 1213.69 Q126.385 1204.94 129.441 1200.35 Q132.519 1195.75 138.33 1195.75 Z\" fill=\"#000000\" fill-rule=\"evenodd\" fill-opacity=\"1\" /><path clip-path=\"url(#clip160)\" d=\"M63.9319 916.271 Q60.3208 916.271 58.4921 919.836 Q56.6865 923.377 56.6865 930.507 Q56.6865 937.613 58.4921 941.178 Q60.3208 944.72 63.9319 944.72 Q67.5661 944.72 69.3717 941.178 Q71.2004 937.613 71.2004 930.507 Q71.2004 923.377 69.3717 919.836 Q67.5661 916.271 63.9319 916.271 M63.9319 912.567 Q69.742 912.567 72.7976 917.174 Q75.8763 921.757 75.8763 930.507 Q75.8763 939.234 72.7976 943.84 Q69.742 948.424 63.9319 948.424 Q58.1217 948.424 55.043 943.84 Q51.9875 939.234 51.9875 930.507 Q51.9875 921.757 55.043 917.174 Q58.1217 912.567 63.9319 912.567 Z\" fill=\"#000000\" fill-rule=\"evenodd\" fill-opacity=\"1\" /><path clip-path=\"url(#clip160)\" d=\"M84.0938 941.873 L88.978 941.873 L88.978 947.752 L84.0938 947.752 L84.0938 941.873 Z\" fill=\"#000000\" fill-rule=\"evenodd\" fill-opacity=\"1\" /><path clip-path=\"url(#clip160)\" d=\"M103.191 943.817 L119.51 943.817 L119.51 947.752 L97.566 947.752 L97.566 943.817 Q100.228 941.062 104.811 936.433 Q109.418 931.78 110.598 930.438 Q112.844 927.914 113.723 926.178 Q114.626 924.419 114.626 922.729 Q114.626 919.975 112.682 918.239 Q110.76 916.502 107.658 916.502 Q105.459 916.502 103.006 917.266 Q100.575 918.03 97.7974 919.581 L97.7974 914.859 Q100.621 913.725 103.075 913.146 Q105.529 912.567 107.566 912.567 Q112.936 912.567 116.131 915.252 Q119.325 917.938 119.325 922.428 Q119.325 924.558 118.515 926.479 Q117.728 928.377 115.621 930.97 Q115.043 931.641 111.941 934.859 Q108.839 938.053 103.191 943.817 Z\" fill=\"#000000\" fill-rule=\"evenodd\" fill-opacity=\"1\" /><path clip-path=\"url(#clip160)\" d=\"M129.371 913.192 L147.728 913.192 L147.728 917.127 L133.654 917.127 L133.654 925.6 Q134.672 925.252 135.691 925.09 Q136.709 924.905 137.728 924.905 Q143.515 924.905 146.894 928.076 Q150.274 931.248 150.274 936.664 Q150.274 942.243 146.802 945.345 Q143.33 948.424 137.01 948.424 Q134.834 948.424 132.566 948.053 Q130.32 947.683 127.913 946.942 L127.913 942.243 Q129.996 943.377 132.219 943.933 Q134.441 944.488 136.918 944.488 Q140.922 944.488 143.26 942.382 Q145.598 940.275 145.598 936.664 Q145.598 933.053 143.26 930.947 Q140.922 928.84 136.918 928.84 Q135.043 928.84 133.168 929.257 Q131.316 929.674 129.371 930.553 L129.371 913.192 Z\" fill=\"#000000\" fill-rule=\"evenodd\" fill-opacity=\"1\" /><path clip-path=\"url(#clip160)\" d=\"M62.9365 633.092 Q59.3254 633.092 57.4967 636.657 Q55.6912 640.199 55.6912 647.328 Q55.6912 654.435 57.4967 658 Q59.3254 661.541 62.9365 661.541 Q66.5707 661.541 68.3763 658 Q70.205 654.435 70.205 647.328 Q70.205 640.199 68.3763 636.657 Q66.5707 633.092 62.9365 633.092 M62.9365 629.389 Q68.7467 629.389 71.8022 633.995 Q74.8809 638.578 74.8809 647.328 Q74.8809 656.055 71.8022 660.662 Q68.7467 665.245 62.9365 665.245 Q57.1264 665.245 54.0477 660.662 Q50.9921 656.055 50.9921 647.328 Q50.9921 638.578 54.0477 633.995 Q57.1264 629.389 62.9365 629.389 Z\" fill=\"#000000\" fill-rule=\"evenodd\" fill-opacity=\"1\" /><path clip-path=\"url(#clip160)\" d=\"M83.0984 658.694 L87.9827 658.694 L87.9827 664.574 L83.0984 664.574 L83.0984 658.694 Z\" fill=\"#000000\" fill-rule=\"evenodd\" fill-opacity=\"1\" /><path clip-path=\"url(#clip160)\" d=\"M98.2141 630.014 L116.57 630.014 L116.57 633.949 L102.496 633.949 L102.496 642.421 Q103.515 642.074 104.534 641.912 Q105.552 641.727 106.571 641.727 Q112.358 641.727 115.737 644.898 Q119.117 648.069 119.117 653.486 Q119.117 659.064 115.645 662.166 Q112.172 665.245 105.853 665.245 Q103.677 665.245 101.409 664.875 Q99.1632 664.504 96.7558 663.763 L96.7558 659.064 Q98.8391 660.199 101.061 660.754 Q103.284 661.31 105.76 661.31 Q109.765 661.31 112.103 659.203 Q114.441 657.097 114.441 653.486 Q114.441 649.875 112.103 647.768 Q109.765 645.662 105.76 645.662 Q103.885 645.662 102.01 646.078 Q100.159 646.495 98.2141 647.375 L98.2141 630.014 Z\" fill=\"#000000\" fill-rule=\"evenodd\" fill-opacity=\"1\" /><path clip-path=\"url(#clip160)\" d=\"M138.33 633.092 Q134.719 633.092 132.89 636.657 Q131.084 640.199 131.084 647.328 Q131.084 654.435 132.89 658 Q134.719 661.541 138.33 661.541 Q141.964 661.541 143.769 658 Q145.598 654.435 145.598 647.328 Q145.598 640.199 143.769 636.657 Q141.964 633.092 138.33 633.092 M138.33 629.389 Q144.14 629.389 147.195 633.995 Q150.274 638.578 150.274 647.328 Q150.274 656.055 147.195 660.662 Q144.14 665.245 138.33 665.245 Q132.519 665.245 129.441 660.662 Q126.385 656.055 126.385 647.328 Q126.385 638.578 129.441 633.995 Q132.519 629.389 138.33 629.389 Z\" fill=\"#000000\" fill-rule=\"evenodd\" fill-opacity=\"1\" /><path clip-path=\"url(#clip160)\" d=\"M63.9319 349.914 Q60.3208 349.914 58.4921 353.478 Q56.6865 357.02 56.6865 364.15 Q56.6865 371.256 58.4921 374.821 Q60.3208 378.363 63.9319 378.363 Q67.5661 378.363 69.3717 374.821 Q71.2004 371.256 71.2004 364.15 Q71.2004 357.02 69.3717 353.478 Q67.5661 349.914 63.9319 349.914 M63.9319 346.21 Q69.742 346.21 72.7976 350.816 Q75.8763 355.4 75.8763 364.15 Q75.8763 372.877 72.7976 377.483 Q69.742 382.066 63.9319 382.066 Q58.1217 382.066 55.043 377.483 Q51.9875 372.877 51.9875 364.15 Q51.9875 355.4 55.043 350.816 Q58.1217 346.21 63.9319 346.21 Z\" fill=\"#000000\" fill-rule=\"evenodd\" fill-opacity=\"1\" /><path clip-path=\"url(#clip160)\" d=\"M84.0938 375.515 L88.978 375.515 L88.978 381.395 L84.0938 381.395 L84.0938 375.515 Z\" fill=\"#000000\" fill-rule=\"evenodd\" fill-opacity=\"1\" /><path clip-path=\"url(#clip160)\" d=\"M97.9826 346.835 L120.205 346.835 L120.205 348.826 L107.658 381.395 L102.774 381.395 L114.58 350.77 L97.9826 350.77 L97.9826 346.835 Z\" fill=\"#000000\" fill-rule=\"evenodd\" fill-opacity=\"1\" /><path clip-path=\"url(#clip160)\" d=\"M129.371 346.835 L147.728 346.835 L147.728 350.77 L133.654 350.77 L133.654 359.242 Q134.672 358.895 135.691 358.733 Q136.709 358.548 137.728 358.548 Q143.515 358.548 146.894 361.719 Q150.274 364.89 150.274 370.307 Q150.274 375.886 146.802 378.988 Q143.33 382.066 137.01 382.066 Q134.834 382.066 132.566 381.696 Q130.32 381.326 127.913 380.585 L127.913 375.886 Q129.996 377.02 132.219 377.576 Q134.441 378.131 136.918 378.131 Q140.922 378.131 143.26 376.025 Q145.598 373.918 145.598 370.307 Q145.598 366.696 143.26 364.59 Q140.922 362.483 136.918 362.483 Q135.043 362.483 133.168 362.9 Q131.316 363.316 129.371 364.196 L129.371 346.835 Z\" fill=\"#000000\" fill-rule=\"evenodd\" fill-opacity=\"1\" /><path clip-path=\"url(#clip160)\" d=\"M53.7467 94.2812 L61.3856 94.2812 L61.3856 67.9156 L53.0754 69.5823 L53.0754 65.323 L61.3393 63.6564 L66.0152 63.6564 L66.0152 94.2812 L73.654 94.2812 L73.654 98.2164 L53.7467 98.2164 L53.7467 94.2812 Z\" fill=\"#000000\" fill-rule=\"evenodd\" fill-opacity=\"1\" /><path clip-path=\"url(#clip160)\" d=\"M83.0984 92.3368 L87.9827 92.3368 L87.9827 98.2164 L83.0984 98.2164 L83.0984 92.3368 Z\" fill=\"#000000\" fill-rule=\"evenodd\" fill-opacity=\"1\" /><path clip-path=\"url(#clip160)\" d=\"M108.168 66.7351 Q104.557 66.7351 102.728 70.2999 Q100.922 73.8415 100.922 80.9711 Q100.922 88.0776 102.728 91.6424 Q104.557 95.184 108.168 95.184 Q111.802 95.184 113.608 91.6424 Q115.436 88.0776 115.436 80.9711 Q115.436 73.8415 113.608 70.2999 Q111.802 66.7351 108.168 66.7351 M108.168 63.0314 Q113.978 63.0314 117.033 67.6378 Q120.112 72.2212 120.112 80.9711 Q120.112 89.6979 117.033 94.3044 Q113.978 98.8877 108.168 98.8877 Q102.358 98.8877 99.2789 94.3044 Q96.2234 89.6979 96.2234 80.9711 Q96.2234 72.2212 99.2789 67.6378 Q102.358 63.0314 108.168 63.0314 Z\" fill=\"#000000\" fill-rule=\"evenodd\" fill-opacity=\"1\" /><path clip-path=\"url(#clip160)\" d=\"M138.33 66.7351 Q134.719 66.7351 132.89 70.2999 Q131.084 73.8415 131.084 80.9711 Q131.084 88.0776 132.89 91.6424 Q134.719 95.184 138.33 95.184 Q141.964 95.184 143.769 91.6424 Q145.598 88.0776 145.598 80.9711 Q145.598 73.8415 143.769 70.2999 Q141.964 66.7351 138.33 66.7351 M138.33 63.0314 Q144.14 63.0314 147.195 67.6378 Q150.274 72.2212 150.274 80.9711 Q150.274 89.6979 147.195 94.3044 Q144.14 98.8877 138.33 98.8877 Q132.519 98.8877 129.441 94.3044 Q126.385 89.6979 126.385 80.9711 Q126.385 72.2212 129.441 67.6378 Q132.519 63.0314 138.33 63.0314 Z\" fill=\"#000000\" fill-rule=\"evenodd\" fill-opacity=\"1\" /><polyline clip-path=\"url(#clip162)\" style=\"stroke:#009af9; stroke-linecap:round; stroke-linejoin:round; stroke-width:8; stroke-opacity:1; fill:none\" points=\"\n  247.59,1234.58 251.685,1234.07 255.781,1233.5 259.877,1232.88 263.973,1232.2 268.069,1231.47 272.165,1230.68 276.261,1229.84 280.357,1228.95 284.453,1228 \n  288.548,1227 292.644,1225.94 296.74,1224.83 300.836,1223.67 304.932,1222.46 309.028,1221.19 313.124,1219.88 317.22,1218.51 321.316,1217.09 325.412,1215.61 \n  329.507,1214.09 333.603,1212.52 337.699,1210.89 341.795,1209.22 345.891,1207.49 349.987,1205.72 354.083,1203.9 358.179,1202.02 362.275,1200.1 366.37,1198.13 \n  370.466,1196.12 374.562,1194.05 378.658,1191.94 382.754,1189.78 386.85,1187.58 390.946,1185.33 395.042,1183.04 399.138,1180.7 403.233,1178.31 407.329,1175.88 \n  411.425,1173.41 415.521,1170.9 419.617,1168.35 423.713,1165.75 427.809,1163.12 431.905,1160.44 436.001,1157.73 440.097,1154.97 444.192,1152.18 448.288,1149.36 \n  452.384,1146.5 456.48,1143.6 460.576,1140.67 464.672,1137.71 468.768,1134.72 472.864,1131.7 476.96,1128.64 481.055,1125.56 485.151,1122.46 489.247,1119.32 \n  493.343,1116.17 497.439,1112.99 501.535,1109.79 505.631,1106.57 509.727,1103.33 513.823,1100.08 517.918,1096.81 522.014,1093.52 526.11,1090.23 530.206,1086.92 \n  534.302,1083.61 538.398,1080.29 542.494,1076.96 546.59,1073.64 550.686,1070.31 554.782,1066.98 558.877,1063.66 562.973,1060.34 567.069,1057.03 571.165,1053.73 \n  575.261,1050.45 579.357,1047.18 583.453,1043.92 587.549,1040.69 591.645,1037.48 595.74,1034.29 599.836,1031.13 603.932,1028 608.028,1024.9 612.124,1021.84 \n  616.22,1018.82 620.316,1015.84 624.412,1012.9 628.508,1010.01 632.604,1007.17 636.699,1004.38 640.795,1001.65 644.891,998.975 648.987,996.365 653.083,993.821 \n  657.179,991.346 661.275,988.944 665.371,986.617 669.467,984.369 673.562,982.203 677.658,980.122 681.754,978.131 685.85,976.233 689.946,974.43 694.042,972.728 \n  698.138,971.128 702.234,969.634 706.33,968.251 710.425,966.981 714.521,965.828 718.617,964.795 722.713,963.887 726.809,963.105 730.905,962.455 735.001,961.938 \n  739.097,961.558 743.193,961.319 747.289,961.224 751.384,961.275 755.48,961.476 759.576,961.829 763.672,962.337 767.768,963.003 771.864,963.83 775.96,964.818 \n  780.056,965.972 784.152,967.292 788.247,968.78 792.343,970.438 796.439,972.268 800.535,974.269 804.631,976.444 808.727,978.791 812.823,981.313 816.919,984.008 \n  821.015,986.875 825.111,989.915 829.206,993.125 833.302,996.505 837.398,1000.05 841.494,1003.76 845.59,1007.64 849.686,1011.67 853.782,1015.85 857.878,1020.18 \n  861.974,1024.66 866.069,1029.28 870.165,1034.03 874.261,1038.91 878.357,1043.9 882.453,1049.01 886.549,1054.21 890.645,1059.51 894.741,1064.89 898.837,1070.35 \n  902.932,1075.86 907.028,1081.42 911.124,1087.02 915.22,1092.64 919.316,1098.26 923.412,1103.88 927.508,1109.47 931.604,1115.03 935.7,1120.52 939.796,1125.95 \n  943.891,1131.27 947.987,1136.49 952.083,1141.57 956.179,1146.5 960.275,1151.25 964.371,1155.81 968.467,1160.15 972.563,1164.26 976.659,1168.09 980.754,1171.65 \n  984.85,1174.9 988.946,1177.82 993.042,1180.39 997.138,1182.58 1001.23,1184.39 1005.33,1185.8 1009.43,1186.77 1013.52,1187.31 1017.62,1187.4 1021.71,1187.03 \n  1025.81,1186.2 1029.91,1184.9 1034,1183.13 1038.1,1180.92 1042.19,1178.26 1046.29,1175.18 1050.38,1171.71 1054.48,1167.87 1058.58,1163.72 1062.67,1159.3 \n  1066.77,1154.67 1070.86,1149.89 1074.96,1145.04 1079.06,1140.2 1083.15,1135.46 1087.25,1130.93 1091.34,1126.7 1095.44,1122.89 1099.54,1119.61 1103.63,1117 \n  1107.73,1115.16 1111.82,1114.22 1115.92,1114.3 1120.01,1115.5 1124.11,1117.93 1128.21,1121.67 1132.3,1126.78 1136.4,1133.28 1140.49,1141.16 1144.59,1150.36 \n  1148.69,1160.74 1152.78,1172.11 1156.88,1184.15 1160.97,1196.48 1165.07,1208.58 1169.17,1219.84 1173.26,1229.51 1177.36,1236.77 1181.45,1240.76 1185.55,1240.61 \n  1189.65,1235.57 1193.74,1225.12 1197.84,1209.11 1201.93,1188.01 1206.03,1163.1 1210.12,1136.68 1214.22,1112.24 1218.32,1094.46 1222.41,1088.84 1226.51,1100.81 \n  1230.6,1133.9 1234.7,1186.95 1238.8,1250.63 1242.89,1304.66 1246.99,1319.61 1251.08,1269.73 1255.18,1163.34 1259.28,1083.76 1263.37,1174.22 1267.47,1361.65 \n  1271.56,1195.27 1275.66,1037.95 1279.75,1207.39 1283.85,1407.69 1287.95,1445.72 1292.04,1310.04 1296.14,1068.31 1300.23,796.049 1304.33,547.238 1308.43,349.948 \n  1312.52,212.177 1316.62,129.66 1320.71,92.2769 1324.81,88.2927 1328.91,106.746 1333,138.538 1337.1,176.738 1341.19,216.458 1345.29,254.536 1349.38,289.165 \n  1353.48,319.533 1357.58,345.514 1361.67,367.424 1365.77,385.827 1369.86,401.403 1373.96,414.853 1378.06,426.841 1382.15,437.96 1386.25,448.716 1390.34,459.521 \n  1394.44,470.7 1398.54,482.493 1402.63,495.067 1406.73,508.525 1410.82,522.914 1414.92,538.24 1419.02,554.47 1423.11,571.542 1427.21,589.372 1431.3,607.863 \n  1435.4,626.904 1439.49,646.38 1443.59,666.174 1447.69,686.168 1451.78,706.249 1455.88,726.309 1459.97,746.249 1464.07,765.975 1468.17,785.403 1472.26,804.458 \n  1476.36,823.076 1480.45,841.198 1484.55,858.777 1488.65,875.774 1492.74,892.155 1496.84,907.897 1500.93,922.98 1505.03,937.392 1509.12,951.126 1513.22,964.178 \n  1517.32,976.552 1521.41,988.251 1525.51,999.284 1529.6,1009.66 1533.7,1019.4 1537.8,1028.51 1541.89,1037.02 1545.99,1044.93 1550.08,1052.28 1554.18,1059.08 \n  1558.28,1065.35 1562.37,1071.12 1566.47,1076.41 1570.56,1081.24 1574.66,1085.63 1578.75,1089.62 1582.85,1093.22 1586.95,1096.46 1591.04,1099.36 1595.14,1101.94 \n  1599.23,1104.22 1603.33,1106.23 1607.43,1107.99 1611.52,1109.52 1615.62,1110.84 1619.71,1111.96 1623.81,1112.92 1627.91,1113.71 1632,1114.37 1636.1,1114.9 \n  1640.19,1115.33 1644.29,1115.66 1648.39,1115.92 1652.48,1116.11 1656.58,1116.24 1660.67,1116.33 1664.77,1116.39 1668.86,1116.42 1672.96,1116.45 1677.06,1116.46 \n  1681.15,1116.48 1685.25,1116.51 1689.34,1116.55 1693.44,1116.62 1697.54,1116.71 1701.63,1116.83 1705.73,1116.99 1709.82,1117.18 1713.92,1117.42 1718.02,1117.7 \n  1722.11,1118.03 1726.21,1118.41 1730.3,1118.84 1734.4,1119.32 1738.49,1119.86 1742.59,1120.45 1746.69,1121.09 1750.78,1121.79 1754.88,1122.54 1758.97,1123.36 \n  1763.07,1124.22 1767.17,1125.14 1771.26,1126.12 1775.36,1127.14 1779.45,1128.23 1783.55,1129.36 1787.65,1130.54 1791.74,1131.78 1795.84,1133.06 1799.93,1134.39 \n  1804.03,1135.77 1808.12,1137.19 1812.22,1138.65 1816.32,1140.15 1820.41,1141.7 1824.51,1143.28 1828.6,1144.9 1832.7,1146.55 1836.8,1148.23 1840.89,1149.95 \n  1844.99,1151.69 1849.08,1153.46 1853.18,1155.25 1857.28,1157.07 1861.37,1158.9 1865.47,1160.76 1869.56,1162.63 1873.66,1164.51 1877.76,1166.4 1881.85,1168.31 \n  1885.95,1170.22 1890.04,1172.14 1894.14,1174.05 1898.23,1175.97 1902.33,1177.89 1906.43,1179.8 1910.52,1181.71 1914.62,1183.61 1918.71,1185.5 1922.81,1187.38 \n  1926.91,1189.24 1931,1191.09 1935.1,1192.91 1939.19,1194.72 1943.29,1196.51 1947.39,1198.27 1951.48,1200 1955.58,1201.71 1959.67,1203.39 1963.77,1205.03 \n  1967.86,1206.65 1971.96,1208.23 1976.06,1209.77 1980.15,1211.27 1984.25,1212.74 1988.34,1214.17 1992.44,1215.55 1996.54,1216.89 2000.63,1218.19 2004.73,1219.44 \n  2008.82,1220.65 2012.92,1221.81 2017.02,1222.92 2021.11,1223.98 2025.21,1224.99 2029.3,1225.95 2033.4,1226.86 2037.49,1227.72 2041.59,1228.52 2045.69,1229.27 \n  2049.78,1229.97 2053.88,1230.61 2057.97,1231.19 2062.07,1231.72 2066.17,1232.2 2070.26,1232.62 2074.36,1232.98 2078.45,1233.29 2082.55,1233.54 2086.65,1233.73 \n  2090.74,1233.86 2094.84,1233.94 2098.93,1233.96 2103.03,1233.92 2107.13,1233.83 2111.22,1233.67 2115.32,1233.46 2119.41,1233.19 2123.51,1232.86 2127.6,1232.48 \n  2131.7,1232.03 2135.8,1231.53 2139.89,1230.97 2143.99,1230.35 2148.08,1229.67 2152.18,1228.94 2156.28,1228.14 2160.37,1227.29 2164.47,1226.38 2168.56,1225.41 \n  2172.66,1224.38 2176.76,1223.29 2180.85,1222.15 2184.95,1220.94 2189.04,1219.68 2193.14,1218.36 2197.23,1216.98 2201.33,1215.53 2205.43,1214.03 2209.52,1212.47 \n  2213.62,1210.85 2217.71,1209.17 2221.81,1207.43 2225.91,1205.62 2230,1203.76 2234.1,1201.83 2238.19,1199.85 2242.29,1197.8 2246.39,1195.69 2250.48,1193.51 \n  2254.58,1191.27 2258.67,1188.97 2262.77,1186.61 2266.87,1184.18 2270.96,1181.69 2275.06,1179.14 2279.15,1176.52 2283.25,1173.83 2287.34,1171.08 2291.44,1168.26 \n  \n  \"/>\n<polyline clip-path=\"url(#clip162)\" style=\"stroke:#e26f46; stroke-linecap:round; stroke-linejoin:round; stroke-width:8; stroke-opacity:1; fill:none\" points=\"\n  247.59,1168.33 251.685,1171.12 255.781,1173.84 259.877,1176.5 263.973,1179.1 268.069,1181.63 272.165,1184.11 276.261,1186.52 280.357,1188.87 284.453,1191.15 \n  288.548,1193.38 292.644,1195.55 296.74,1197.66 300.836,1199.71 304.932,1201.7 309.028,1203.63 313.124,1205.5 317.22,1207.31 321.316,1209.06 325.412,1210.76 \n  329.507,1212.39 333.603,1213.97 337.699,1215.49 341.795,1216.95 345.891,1218.35 349.987,1219.69 354.083,1220.97 358.179,1222.2 362.275,1223.36 366.37,1224.47 \n  370.466,1225.51 374.562,1226.5 378.658,1227.43 382.754,1228.3 386.85,1229.1 390.946,1229.85 395.042,1230.54 399.138,1231.17 403.233,1231.74 407.329,1232.25 \n  411.425,1232.7 415.521,1233.09 419.617,1233.42 423.713,1233.69 427.809,1233.9 431.905,1234.05 436.001,1234.14 440.097,1234.17 444.192,1234.14 448.288,1234.06 \n  452.384,1233.91 456.48,1233.71 460.576,1233.44 464.672,1233.12 468.768,1232.75 472.864,1232.31 476.96,1231.82 481.055,1231.27 485.151,1230.66 489.247,1230 \n  493.343,1229.29 497.439,1228.52 501.535,1227.7 505.631,1226.82 509.727,1225.9 513.823,1224.92 517.918,1223.89 522.014,1222.82 526.11,1221.69 530.206,1220.52 \n  534.302,1219.3 538.398,1218.04 542.494,1216.73 546.59,1215.38 550.686,1213.98 554.782,1212.55 558.877,1211.08 562.973,1209.57 567.069,1208.03 571.165,1206.44 \n  575.261,1204.83 579.357,1203.19 583.453,1201.51 587.549,1199.81 591.645,1198.08 595.74,1196.32 599.836,1194.54 603.932,1192.74 608.028,1190.92 612.124,1189.08 \n  616.22,1187.23 620.316,1185.36 624.412,1183.48 628.508,1181.59 632.604,1179.69 636.699,1177.79 640.795,1175.88 644.891,1173.97 648.987,1172.06 653.083,1170.15 \n  657.179,1168.25 661.275,1166.35 665.371,1164.46 669.467,1162.59 673.562,1160.72 677.658,1158.87 681.754,1157.04 685.85,1155.23 689.946,1153.44 694.042,1151.67 \n  698.138,1149.93 702.234,1148.22 706.33,1146.54 710.425,1144.89 714.521,1143.27 718.617,1141.69 722.713,1140.15 726.809,1138.64 730.905,1137.18 735.001,1135.77 \n  739.097,1134.39 743.193,1133.07 747.289,1131.79 751.384,1130.56 755.48,1129.38 759.576,1128.25 763.672,1127.18 767.768,1126.16 771.864,1125.19 775.96,1124.28 \n  780.056,1123.43 784.152,1122.63 788.247,1121.88 792.343,1121.2 796.439,1120.56 800.535,1119.99 804.631,1119.47 808.727,1119 812.823,1118.58 816.919,1118.22 \n  821.015,1117.9 825.111,1117.62 829.206,1117.4 833.302,1117.21 837.398,1117.06 841.494,1116.94 845.59,1116.85 849.686,1116.78 853.782,1116.73 857.878,1116.7 \n  861.974,1116.67 866.069,1116.64 870.165,1116.6 874.261,1116.55 878.357,1116.47 882.453,1116.35 886.549,1116.2 890.645,1115.98 894.741,1115.7 898.837,1115.33 \n  902.932,1114.88 907.028,1114.31 911.124,1113.63 915.22,1112.81 919.316,1111.83 923.412,1110.68 927.508,1109.34 931.604,1107.8 935.7,1106.03 939.796,1104 \n  943.891,1101.72 947.987,1099.14 952.083,1096.24 956.179,1093.02 960.275,1089.43 964.371,1085.46 968.467,1081.09 972.563,1076.28 976.659,1071.03 980.754,1065.29 \n  984.85,1059.05 988.946,1052.28 993.042,1044.97 997.138,1037.09 1001.23,1028.61 1005.33,1019.52 1009.43,1009.8 1013.52,999.437 1017.62,988.412 1021.71,976.713 \n  1025.81,964.334 1029.91,951.268 1034,937.515 1038.1,923.077 1042.19,907.962 1046.29,892.183 1050.38,875.761 1054.48,858.72 1058.58,841.096 1062.67,822.928 \n  1066.77,804.268 1070.86,785.173 1074.96,765.71 1079.06,745.957 1083.15,725.999 1087.25,705.93 1091.34,685.854 1095.44,665.88 1099.54,646.122 1103.63,626.697 \n  1107.73,607.724 1111.82,589.317 1115.92,571.582 1120.01,554.616 1124.11,538.496 1128.21,523.274 1132.3,508.975 1136.4,495.584 1140.49,483.042 1144.59,471.236 \n  1148.69,459.995 1152.78,449.076 1156.88,438.163 1160.97,426.856 1165.07,414.674 1169.17,401.054 1173.26,385.362 1177.36,366.925 1181.45,345.078 1185.55,319.25 \n  1189.65,289.094 1193.74,254.679 1197.84,216.749 1201.93,177.052 1206.03,138.723 1210.12,106.688 1214.22,87.9763 1218.32,91.8244 1222.41,129.307 1226.51,212.164 \n  1230.6,350.362 1234.7,547.895 1238.8,796.536 1242.89,1068.26 1246.99,1309.48 1251.08,1445.18 1255.18,1407.72 1259.28,1207.81 1263.37,1038.01 1267.47,1195.07 \n  1271.56,1361.75 1275.66,1174.13 1279.75,1083.78 1283.85,1163.58 1287.95,1269.86 1292.04,1319.45 1296.14,1304.35 1300.23,1250.42 1304.33,1186.95 1308.43,1134.04 \n  1312.52,1100.99 1316.62,1088.96 1320.71,1094.48 1324.81,1112.18 1328.91,1136.58 1333,1163.01 1337.1,1187.95 1341.19,1209.1 1345.29,1225.16 1349.38,1235.67 \n  1353.48,1240.76 1357.58,1240.96 1361.67,1236.99 1365.77,1229.73 1369.86,1220.02 1373.96,1208.71 1378.06,1196.52 1382.15,1184.09 1386.25,1171.93 1390.34,1160.47 \n  1394.44,1150.01 1398.54,1140.76 1402.63,1132.86 1406.73,1126.38 1410.82,1121.32 1414.92,1117.65 1419.02,1115.31 1423.11,1114.2 1427.21,1114.23 1431.3,1115.26 \n  1435.4,1117.19 1439.49,1119.87 1443.59,1123.19 1447.69,1127.03 1451.78,1131.27 1455.88,1135.8 1459.97,1140.52 1464.07,1145.33 1468.17,1150.14 1472.26,1154.88 \n  1476.36,1159.47 1480.45,1163.85 1484.55,1167.96 1488.65,1171.76 1492.74,1175.21 1496.84,1178.26 1500.93,1180.9 1505.03,1183.1 1509.12,1184.85 1513.22,1186.15 \n  1517.32,1186.98 1521.41,1187.34 1525.51,1187.25 1529.6,1186.7 1533.7,1185.72 1537.8,1184.31 1541.89,1182.49 1545.99,1180.28 1550.08,1177.7 1554.18,1174.76 \n  1558.28,1171.5 1562.37,1167.93 1566.47,1164.08 1570.56,1159.97 1574.66,1155.62 1578.75,1151.05 1582.85,1146.29 1586.95,1141.36 1591.04,1136.28 1595.14,1131.07 \n  1599.23,1125.75 1603.33,1120.34 1607.43,1114.86 1611.52,1109.33 1615.62,1103.75 1619.71,1098.16 1623.81,1092.56 1627.91,1086.97 1632,1081.4 1636.1,1075.87 \n  1640.19,1070.39 1644.29,1064.96 1648.39,1059.61 1652.48,1054.34 1656.58,1049.15 1660.67,1044.07 1664.77,1039.1 1668.86,1034.24 1672.96,1029.5 1677.06,1024.9 \n  1681.15,1020.43 1685.25,1016.1 1689.34,1011.91 1693.44,1007.88 1697.54,1004 1701.63,1000.29 1705.73,996.73 1709.82,993.339 1713.92,990.115 1718.02,987.06 \n  1722.11,984.176 1726.21,981.463 1730.3,978.923 1734.4,976.556 1738.49,974.363 1742.59,972.342 1746.69,970.494 1750.78,968.817 1754.88,967.311 1758.97,965.974 \n  1763.07,964.805 1767.17,963.802 1771.26,962.962 1775.36,962.284 1779.45,961.765 1783.55,961.403 1787.65,961.195 1791.74,961.138 1795.84,961.228 1799.93,961.464 \n  1804.03,961.841 1808.12,962.357 1812.22,963.008 1816.32,963.79 1820.41,964.701 1824.51,965.735 1828.6,966.891 1832.7,968.165 1836.8,969.552 1840.89,971.049 \n  1844.99,972.653 1849.08,974.359 1853.18,976.165 1857.28,978.067 1861.37,980.061 1865.47,982.144 1869.56,984.312 1873.66,986.562 1877.76,988.89 1881.85,991.293 \n  1885.95,993.767 1890.04,996.31 1894.14,998.918 1898.23,1001.59 1902.33,1004.32 1906.43,1007.1 1910.52,1009.94 1914.62,1012.83 1918.71,1015.76 1922.81,1018.74 \n  1926.91,1021.76 1931,1024.81 1935.1,1027.91 1939.19,1031.03 1943.29,1034.19 1947.39,1037.37 1951.48,1040.58 1955.58,1043.81 1959.67,1047.06 1963.77,1050.33 \n  1967.86,1053.62 1971.96,1056.92 1976.06,1060.23 1980.15,1063.55 1984.25,1066.87 1988.34,1070.2 1992.44,1073.53 1996.54,1076.87 2000.63,1080.2 2004.73,1083.53 \n  2008.82,1086.85 2012.92,1090.16 2017.02,1093.47 2021.11,1096.76 2025.21,1100.05 2029.3,1103.31 2033.4,1106.57 2037.49,1109.8 2041.59,1113.01 2045.69,1116.21 \n  2049.78,1119.38 2053.88,1122.52 2057.97,1125.65 2062.07,1128.74 2066.17,1131.81 2070.26,1134.84 2074.36,1137.85 2078.45,1140.83 2082.55,1143.77 2086.65,1146.68 \n  2090.74,1149.55 2094.84,1152.38 2098.93,1155.18 2103.03,1157.94 2107.13,1160.66 2111.22,1163.34 2115.32,1165.98 2119.41,1168.58 2123.51,1171.14 2127.6,1173.65 \n  2131.7,1176.12 2135.8,1178.54 2139.89,1180.92 2143.99,1183.25 2148.08,1185.54 2152.18,1187.78 2156.28,1189.97 2160.37,1192.12 2164.47,1194.22 2168.56,1196.27 \n  2172.66,1198.27 2176.76,1200.23 2180.85,1202.13 2184.95,1203.99 2189.04,1205.79 2193.14,1207.55 2197.23,1209.25 2201.33,1210.91 2205.43,1212.52 2209.52,1214.07 \n  2213.62,1215.58 2217.71,1217.03 2221.81,1218.44 2225.91,1219.79 2230,1221.09 2234.1,1222.34 2238.19,1223.54 2242.29,1224.69 2246.39,1225.79 2250.48,1226.83 \n  2254.58,1227.82 2258.67,1228.76 2262.77,1229.65 2266.87,1230.48 2270.96,1231.26 2275.06,1231.98 2279.15,1232.65 2283.25,1233.26 2287.34,1233.81 2291.44,1234.31 \n  \n  \"/>\n<path clip-path=\"url(#clip160)\" d=\"\nM1987.39 250.738 L2280.54 250.738 L2280.54 95.2176 L1987.39 95.2176  Z\n  \" fill=\"#ffffff\" fill-rule=\"evenodd\" fill-opacity=\"1\"/>\n<polyline clip-path=\"url(#clip160)\" style=\"stroke:#000000; stroke-linecap:round; stroke-linejoin:round; stroke-width:4; stroke-opacity:1; fill:none\" points=\"\n  1987.39,250.738 2280.54,250.738 2280.54,95.2176 1987.39,95.2176 1987.39,250.738 \n  \"/>\n<polyline clip-path=\"url(#clip160)\" style=\"stroke:#009af9; stroke-linecap:round; stroke-linejoin:round; stroke-width:4; stroke-opacity:1; fill:none\" points=\"\n  2011.46,147.058 2155.89,147.058 \n  \"/>\n<path clip-path=\"url(#clip160)\" d=\"M2193.81 166.745 Q2192 171.375 2190.29 172.787 Q2188.58 174.199 2185.71 174.199 L2182.3 174.199 L2182.3 170.634 L2184.8 170.634 Q2186.56 170.634 2187.53 169.8 Q2188.51 168.967 2189.69 165.865 L2190.45 163.921 L2179.97 138.412 L2184.48 138.412 L2192.58 158.689 L2200.68 138.412 L2205.2 138.412 L2193.81 166.745 Z\" fill=\"#000000\" fill-rule=\"evenodd\" fill-opacity=\"1\" /><path clip-path=\"url(#clip160)\" d=\"M2212.49 160.402 L2220.13 160.402 L2220.13 134.037 L2211.82 135.703 L2211.82 131.444 L2220.08 129.778 L2224.76 129.778 L2224.76 160.402 L2232.4 160.402 L2232.4 164.338 L2212.49 164.338 L2212.49 160.402 Z\" fill=\"#000000\" fill-rule=\"evenodd\" fill-opacity=\"1\" /><polyline clip-path=\"url(#clip160)\" style=\"stroke:#e26f46; stroke-linecap:round; stroke-linejoin:round; stroke-width:4; stroke-opacity:1; fill:none\" points=\"\n  2011.46,198.898 2155.89,198.898 \n  \"/>\n<path clip-path=\"url(#clip160)\" d=\"M2193.81 218.585 Q2192 223.215 2190.29 224.627 Q2188.58 226.039 2185.71 226.039 L2182.3 226.039 L2182.3 222.474 L2184.8 222.474 Q2186.56 222.474 2187.53 221.64 Q2188.51 220.807 2189.69 217.705 L2190.45 215.761 L2179.97 190.252 L2184.48 190.252 L2192.58 210.529 L2200.68 190.252 L2205.2 190.252 L2193.81 218.585 Z\" fill=\"#000000\" fill-rule=\"evenodd\" fill-opacity=\"1\" /><path clip-path=\"url(#clip160)\" d=\"M2215.71 212.242 L2232.03 212.242 L2232.03 216.178 L2210.08 216.178 L2210.08 212.242 Q2212.74 209.488 2217.33 204.858 Q2221.93 200.205 2223.11 198.863 Q2225.36 196.34 2226.24 194.604 Q2227.14 192.844 2227.14 191.155 Q2227.14 188.4 2225.2 186.664 Q2223.28 184.928 2220.17 184.928 Q2217.97 184.928 2215.52 185.692 Q2213.09 186.455 2210.31 188.006 L2210.31 183.284 Q2213.14 182.15 2215.59 181.571 Q2218.04 180.993 2220.08 180.993 Q2225.45 180.993 2228.65 183.678 Q2231.84 186.363 2231.84 190.854 Q2231.84 192.983 2231.03 194.905 Q2230.24 196.803 2228.14 199.395 Q2227.56 200.067 2224.46 203.284 Q2221.35 206.479 2215.71 212.242 Z\" fill=\"#000000\" fill-rule=\"evenodd\" fill-opacity=\"1\" /></svg>\n"
     },
     "execution_count": 38,
     "metadata": {},
     "output_type": "execute_result"
    }
   ],
   "source": [
    "plot(w_mesh, gi[:,1]-gi[:,4], linewidth=2.0)\n",
    "plot!(w_mesh, gi[:,1]+gi[:,4], linewidth=2.0)\n",
    "#plot!(w_mesh, gi[:,3], linewidth=2.0)\n",
    "#plot!(w_mesh, gi[:,4], linewidth=2.0)"
   ]
  },
  {
   "cell_type": "code",
   "execution_count": 39,
   "metadata": {},
   "outputs": [
    {
     "data": {
      "text/plain": [
       "KK_GR (generic function with 1 method)"
      ]
     },
     "execution_count": 39,
     "metadata": {},
     "output_type": "execute_result"
    }
   ],
   "source": [
    "\n",
    "function reshape(rho::Vector{Float64}, cutoff::Float64)\n",
    "    v_it::Vector{Int} = []\n",
    "    rho_rep = rho\n",
    "    sw = true\n",
    "    for w in 1:length(rho_rep)\n",
    "        if(rho_rep[w]<0)\n",
    "            if(sw)\n",
    "                for it in v_it\n",
    "                    rho_rep[it] = 0.005                \n",
    "                end\n",
    "                empty!(v_it)\n",
    "                sw = false\n",
    "            elseif(w<length(rho_rep) && rho_rep[w+1]>0.0)\n",
    "                sw = true\n",
    "            end\n",
    "            rho_rep[w] = 0.005\n",
    "\n",
    "        elseif(rho_rep[w]<cutoff)\n",
    "            if(sw)\n",
    "                push!(v_it,w)\n",
    "            #elseif(w<length(rho_rep) && rho_rep[w+1]>rho_rep[w])\n",
    "            #    sw = true\n",
    "            #    push!(v_it,w)\n",
    "            end\n",
    "        elseif(rho_rep[w]>=cutoff && sw)\n",
    "            empty!(v_it)\n",
    "            sw = false\n",
    "        end\n",
    "        if(w == length(rho_rep))\n",
    "            if(sw)\n",
    "                for it in v_it\n",
    "                    rho_rep[it] = 0.005                \n",
    "                end\n",
    "            end\n",
    "        end\n",
    "    end\n",
    "    return rho_rep\n",
    "end\n",
    "\n",
    "\n",
    "function KK_GR(w::Vector{Float64}, rho::Vector{Matrix{ComplexF64}})\n",
    "    #GR_ = zeros(ComplexF64, length(w))\n",
    "    GR_::Vector{Matrix{ComplexF64}} = []\n",
    "    dw = w[2]-w[1]\n",
    "    for w_re in 1:length(w)\n",
    "        re = zeros(ComplexF64, 2, 2)\n",
    "        for w_im in 1:length(w)\n",
    "            if(w_im != w_re)\n",
    "                re += dw * rho[w_im] / (w[w_re] - w[w_im])\n",
    "            end \n",
    "        end\n",
    "        ggg = re - 1.0im * rho[w_re] * pi\n",
    "        push!(GR_, ggg)\n",
    "    end\n",
    "    return GR_\n",
    "end"
   ]
  },
  {
   "cell_type": "code",
   "execution_count": 48,
   "metadata": {},
   "outputs": [
    {
     "data": {
      "text/plain": [
       "500-element Vector{Float64}:\n",
       " 0.005\n",
       " 0.005\n",
       " 0.005\n",
       " 0.005\n",
       " 0.005\n",
       " 0.005\n",
       " 0.005\n",
       " 0.005\n",
       " 0.005\n",
       " 0.005\n",
       " 0.005\n",
       " 0.005\n",
       " 0.005\n",
       " ⋮\n",
       " 0.005\n",
       " 0.005\n",
       " 0.005\n",
       " 0.005\n",
       " 0.005\n",
       " 0.005\n",
       " 0.005\n",
       " 0.005\n",
       " 0.005\n",
       " 0.005\n",
       " 0.005\n",
       " 0.005"
      ]
     },
     "execution_count": 48,
     "metadata": {},
     "output_type": "execute_result"
    }
   ],
   "source": [
    "g11 = reshape(gi[:,1]+gi[:,4], 0.3)\n",
    "g22 = reshape(gi[:,1]-gi[:,4], 0.3)"
   ]
  },
  {
   "cell_type": "code",
   "execution_count": 49,
   "metadata": {},
   "outputs": [
    {
     "data": {
      "text/plain": [
       "500-element Vector{Float64}:\n",
       " 0.0\n",
       " 0.0\n",
       " 0.0\n",
       " 0.0\n",
       " 0.0\n",
       " 0.0\n",
       " 0.0\n",
       " 0.0\n",
       " 0.0\n",
       " 0.0\n",
       " 0.0\n",
       " 0.0\n",
       " 0.0\n",
       " ⋮\n",
       " 0.0\n",
       " 0.0\n",
       " 0.0\n",
       " 0.0\n",
       " 0.0\n",
       " 0.0\n",
       " 0.0\n",
       " 0.0\n",
       " 0.0\n",
       " 0.0\n",
       " 0.0\n",
       " 0.0"
      ]
     },
     "execution_count": 49,
     "metadata": {},
     "output_type": "execute_result"
    }
   ],
   "source": [
    "gi[:,1] = (g11+g22)/2\n",
    "gi[:,4] = (g11-g22)/2"
   ]
  },
  {
   "cell_type": "code",
   "execution_count": 56,
   "metadata": {},
   "outputs": [
    {
     "data": {
      "image/svg+xml": "<?xml version=\"1.0\" encoding=\"utf-8\"?>\n<svg xmlns=\"http://www.w3.org/2000/svg\" xmlns:xlink=\"http://www.w3.org/1999/xlink\" width=\"600\" height=\"400\" viewBox=\"0 0 2400 1600\">\n<defs>\n  <clipPath id=\"clip400\">\n    <rect x=\"0\" y=\"0\" width=\"2400\" height=\"1600\"/>\n  </clipPath>\n</defs>\n<path clip-path=\"url(#clip400)\" d=\"\nM0 1600 L2400 1600 L2400 0 L0 0  Z\n  \" fill=\"#ffffff\" fill-rule=\"evenodd\" fill-opacity=\"1\"/>\n<defs>\n  <clipPath id=\"clip401\">\n    <rect x=\"480\" y=\"0\" width=\"1681\" height=\"1600\"/>\n  </clipPath>\n</defs>\n<path clip-path=\"url(#clip400)\" d=\"\nM194.422 1486.45 L2352.76 1486.45 L2352.76 47.2441 L194.422 47.2441  Z\n  \" fill=\"#ffffff\" fill-rule=\"evenodd\" fill-opacity=\"1\"/>\n<defs>\n  <clipPath id=\"clip402\">\n    <rect x=\"194\" y=\"47\" width=\"2159\" height=\"1440\"/>\n  </clipPath>\n</defs>\n<polyline clip-path=\"url(#clip402)\" style=\"stroke:#000000; stroke-linecap:round; stroke-linejoin:round; stroke-width:2; stroke-opacity:0.1; fill:none\" points=\"\n  255.507,1486.45 255.507,47.2441 \n  \"/>\n<polyline clip-path=\"url(#clip402)\" style=\"stroke:#000000; stroke-linecap:round; stroke-linejoin:round; stroke-width:2; stroke-opacity:0.1; fill:none\" points=\"\n  764.548,1486.45 764.548,47.2441 \n  \"/>\n<polyline clip-path=\"url(#clip402)\" style=\"stroke:#000000; stroke-linecap:round; stroke-linejoin:round; stroke-width:2; stroke-opacity:0.1; fill:none\" points=\"\n  1273.59,1486.45 1273.59,47.2441 \n  \"/>\n<polyline clip-path=\"url(#clip402)\" style=\"stroke:#000000; stroke-linecap:round; stroke-linejoin:round; stroke-width:2; stroke-opacity:0.1; fill:none\" points=\"\n  1782.63,1486.45 1782.63,47.2441 \n  \"/>\n<polyline clip-path=\"url(#clip402)\" style=\"stroke:#000000; stroke-linecap:round; stroke-linejoin:round; stroke-width:2; stroke-opacity:0.1; fill:none\" points=\"\n  2291.67,1486.45 2291.67,47.2441 \n  \"/>\n<polyline clip-path=\"url(#clip400)\" style=\"stroke:#000000; stroke-linecap:round; stroke-linejoin:round; stroke-width:4; stroke-opacity:1; fill:none\" points=\"\n  194.422,1486.45 2352.76,1486.45 \n  \"/>\n<polyline clip-path=\"url(#clip400)\" style=\"stroke:#000000; stroke-linecap:round; stroke-linejoin:round; stroke-width:4; stroke-opacity:1; fill:none\" points=\"\n  255.507,1486.45 255.507,1467.55 \n  \"/>\n<polyline clip-path=\"url(#clip400)\" style=\"stroke:#000000; stroke-linecap:round; stroke-linejoin:round; stroke-width:4; stroke-opacity:1; fill:none\" points=\"\n  764.548,1486.45 764.548,1467.55 \n  \"/>\n<polyline clip-path=\"url(#clip400)\" style=\"stroke:#000000; stroke-linecap:round; stroke-linejoin:round; stroke-width:4; stroke-opacity:1; fill:none\" points=\"\n  1273.59,1486.45 1273.59,1467.55 \n  \"/>\n<polyline clip-path=\"url(#clip400)\" style=\"stroke:#000000; stroke-linecap:round; stroke-linejoin:round; stroke-width:4; stroke-opacity:1; fill:none\" points=\"\n  1782.63,1486.45 1782.63,1467.55 \n  \"/>\n<polyline clip-path=\"url(#clip400)\" style=\"stroke:#000000; stroke-linecap:round; stroke-linejoin:round; stroke-width:4; stroke-opacity:1; fill:none\" points=\"\n  2291.67,1486.45 2291.67,1467.55 \n  \"/>\n<path clip-path=\"url(#clip400)\" d=\"M224.408 1532.02 L254.083 1532.02 L254.083 1535.95 L224.408 1535.95 L224.408 1532.02 Z\" fill=\"#000000\" fill-rule=\"evenodd\" fill-opacity=\"1\" /><path clip-path=\"url(#clip400)\" d=\"M277.023 1518.36 L265.218 1536.81 L277.023 1536.81 L277.023 1518.36 M275.796 1514.29 L281.676 1514.29 L281.676 1536.81 L286.606 1536.81 L286.606 1540.7 L281.676 1540.7 L281.676 1548.85 L277.023 1548.85 L277.023 1540.7 L261.421 1540.7 L261.421 1536.19 L275.796 1514.29 Z\" fill=\"#000000\" fill-rule=\"evenodd\" fill-opacity=\"1\" /><path clip-path=\"url(#clip400)\" d=\"M734.49 1532.02 L764.166 1532.02 L764.166 1535.95 L734.49 1535.95 L734.49 1532.02 Z\" fill=\"#000000\" fill-rule=\"evenodd\" fill-opacity=\"1\" /><path clip-path=\"url(#clip400)\" d=\"M778.286 1544.91 L794.606 1544.91 L794.606 1548.85 L772.661 1548.85 L772.661 1544.91 Q775.323 1542.16 779.907 1537.53 Q784.513 1532.88 785.694 1531.53 Q787.939 1529.01 788.819 1527.27 Q789.721 1525.51 789.721 1523.82 Q789.721 1521.07 787.777 1519.33 Q785.856 1517.6 782.754 1517.6 Q780.555 1517.6 778.101 1518.36 Q775.671 1519.13 772.893 1520.68 L772.893 1515.95 Q775.717 1514.82 778.171 1514.24 Q780.624 1513.66 782.661 1513.66 Q788.032 1513.66 791.226 1516.35 Q794.421 1519.03 794.421 1523.52 Q794.421 1525.65 793.61 1527.57 Q792.823 1529.47 790.717 1532.07 Q790.138 1532.74 787.036 1535.95 Q783.934 1539.15 778.286 1544.91 Z\" fill=\"#000000\" fill-rule=\"evenodd\" fill-opacity=\"1\" /><path clip-path=\"url(#clip400)\" d=\"M1273.59 1517.37 Q1269.98 1517.37 1268.15 1520.93 Q1266.34 1524.47 1266.34 1531.6 Q1266.34 1538.71 1268.15 1542.27 Q1269.98 1545.82 1273.59 1545.82 Q1277.22 1545.82 1279.03 1542.27 Q1280.86 1538.71 1280.86 1531.6 Q1280.86 1524.47 1279.03 1520.93 Q1277.22 1517.37 1273.59 1517.37 M1273.59 1513.66 Q1279.4 1513.66 1282.45 1518.27 Q1285.53 1522.85 1285.53 1531.6 Q1285.53 1540.33 1282.45 1544.94 Q1279.4 1549.52 1273.59 1549.52 Q1267.78 1549.52 1264.7 1544.94 Q1261.64 1540.33 1261.64 1531.6 Q1261.64 1522.85 1264.7 1518.27 Q1267.78 1513.66 1273.59 1513.66 Z\" fill=\"#000000\" fill-rule=\"evenodd\" fill-opacity=\"1\" /><path clip-path=\"url(#clip400)\" d=\"M1777.28 1544.91 L1793.6 1544.91 L1793.6 1548.85 L1771.66 1548.85 L1771.66 1544.91 Q1774.32 1542.16 1778.9 1537.53 Q1783.51 1532.88 1784.69 1531.53 Q1786.94 1529.01 1787.82 1527.27 Q1788.72 1525.51 1788.72 1523.82 Q1788.72 1521.07 1786.77 1519.33 Q1784.85 1517.6 1781.75 1517.6 Q1779.55 1517.6 1777.1 1518.36 Q1774.67 1519.13 1771.89 1520.68 L1771.89 1515.95 Q1774.71 1514.82 1777.17 1514.24 Q1779.62 1513.66 1781.66 1513.66 Q1787.03 1513.66 1790.22 1516.35 Q1793.42 1519.03 1793.42 1523.52 Q1793.42 1525.65 1792.61 1527.57 Q1791.82 1529.47 1789.71 1532.07 Q1789.13 1532.74 1786.03 1535.95 Q1782.93 1539.15 1777.28 1544.91 Z\" fill=\"#000000\" fill-rule=\"evenodd\" fill-opacity=\"1\" /><path clip-path=\"url(#clip400)\" d=\"M2294.68 1518.36 L2282.87 1536.81 L2294.68 1536.81 L2294.68 1518.36 M2293.45 1514.29 L2299.33 1514.29 L2299.33 1536.81 L2304.26 1536.81 L2304.26 1540.7 L2299.33 1540.7 L2299.33 1548.85 L2294.68 1548.85 L2294.68 1540.7 L2279.08 1540.7 L2279.08 1536.19 L2293.45 1514.29 Z\" fill=\"#000000\" fill-rule=\"evenodd\" fill-opacity=\"1\" /><polyline clip-path=\"url(#clip402)\" style=\"stroke:#000000; stroke-linecap:round; stroke-linejoin:round; stroke-width:2; stroke-opacity:0.1; fill:none\" points=\"\n  194.422,1327.77 2352.76,1327.77 \n  \"/>\n<polyline clip-path=\"url(#clip402)\" style=\"stroke:#000000; stroke-linecap:round; stroke-linejoin:round; stroke-width:2; stroke-opacity:0.1; fill:none\" points=\"\n  194.422,1049.06 2352.76,1049.06 \n  \"/>\n<polyline clip-path=\"url(#clip402)\" style=\"stroke:#000000; stroke-linecap:round; stroke-linejoin:round; stroke-width:2; stroke-opacity:0.1; fill:none\" points=\"\n  194.422,770.357 2352.76,770.357 \n  \"/>\n<polyline clip-path=\"url(#clip402)\" style=\"stroke:#000000; stroke-linecap:round; stroke-linejoin:round; stroke-width:2; stroke-opacity:0.1; fill:none\" points=\"\n  194.422,491.651 2352.76,491.651 \n  \"/>\n<polyline clip-path=\"url(#clip402)\" style=\"stroke:#000000; stroke-linecap:round; stroke-linejoin:round; stroke-width:2; stroke-opacity:0.1; fill:none\" points=\"\n  194.422,212.945 2352.76,212.945 \n  \"/>\n<polyline clip-path=\"url(#clip400)\" style=\"stroke:#000000; stroke-linecap:round; stroke-linejoin:round; stroke-width:4; stroke-opacity:1; fill:none\" points=\"\n  194.422,1486.45 194.422,47.2441 \n  \"/>\n<polyline clip-path=\"url(#clip400)\" style=\"stroke:#000000; stroke-linecap:round; stroke-linejoin:round; stroke-width:4; stroke-opacity:1; fill:none\" points=\"\n  194.422,1327.77 213.32,1327.77 \n  \"/>\n<polyline clip-path=\"url(#clip400)\" style=\"stroke:#000000; stroke-linecap:round; stroke-linejoin:round; stroke-width:4; stroke-opacity:1; fill:none\" points=\"\n  194.422,1049.06 213.32,1049.06 \n  \"/>\n<polyline clip-path=\"url(#clip400)\" style=\"stroke:#000000; stroke-linecap:round; stroke-linejoin:round; stroke-width:4; stroke-opacity:1; fill:none\" points=\"\n  194.422,770.357 213.32,770.357 \n  \"/>\n<polyline clip-path=\"url(#clip400)\" style=\"stroke:#000000; stroke-linecap:round; stroke-linejoin:round; stroke-width:4; stroke-opacity:1; fill:none\" points=\"\n  194.422,491.651 213.32,491.651 \n  \"/>\n<polyline clip-path=\"url(#clip400)\" style=\"stroke:#000000; stroke-linecap:round; stroke-linejoin:round; stroke-width:4; stroke-opacity:1; fill:none\" points=\"\n  194.422,212.945 213.32,212.945 \n  \"/>\n<path clip-path=\"url(#clip400)\" d=\"M50.9921 1328.22 L80.6679 1328.22 L80.6679 1332.16 L50.9921 1332.16 L50.9921 1328.22 Z\" fill=\"#000000\" fill-rule=\"evenodd\" fill-opacity=\"1\" /><path clip-path=\"url(#clip400)\" d=\"M100.76 1313.57 Q97.1493 1313.57 95.3206 1317.13 Q93.515 1320.68 93.515 1327.8 Q93.515 1334.91 95.3206 1338.48 Q97.1493 1342.02 100.76 1342.02 Q104.395 1342.02 106.2 1338.48 Q108.029 1334.91 108.029 1327.8 Q108.029 1320.68 106.2 1317.13 Q104.395 1313.57 100.76 1313.57 M100.76 1309.87 Q106.571 1309.87 109.626 1314.47 Q112.705 1319.05 112.705 1327.8 Q112.705 1336.53 109.626 1341.14 Q106.571 1345.72 100.76 1345.72 Q94.9502 1345.72 91.8715 1341.14 Q88.816 1336.53 88.816 1327.8 Q88.816 1319.05 91.8715 1314.47 Q94.9502 1309.87 100.76 1309.87 Z\" fill=\"#000000\" fill-rule=\"evenodd\" fill-opacity=\"1\" /><path clip-path=\"url(#clip400)\" d=\"M120.922 1339.17 L125.807 1339.17 L125.807 1345.05 L120.922 1345.05 L120.922 1339.17 Z\" fill=\"#000000\" fill-rule=\"evenodd\" fill-opacity=\"1\" /><path clip-path=\"url(#clip400)\" d=\"M148.839 1314.56 L137.033 1333.01 L148.839 1333.01 L148.839 1314.56 M147.612 1310.49 L153.492 1310.49 L153.492 1333.01 L158.422 1333.01 L158.422 1336.9 L153.492 1336.9 L153.492 1345.05 L148.839 1345.05 L148.839 1336.9 L133.237 1336.9 L133.237 1332.39 L147.612 1310.49 Z\" fill=\"#000000\" fill-rule=\"evenodd\" fill-opacity=\"1\" /><path clip-path=\"url(#clip400)\" d=\"M53.0754 1049.52 L82.7512 1049.52 L82.7512 1053.45 L53.0754 1053.45 L53.0754 1049.52 Z\" fill=\"#000000\" fill-rule=\"evenodd\" fill-opacity=\"1\" /><path clip-path=\"url(#clip400)\" d=\"M102.844 1034.86 Q99.2326 1034.86 97.4039 1038.43 Q95.5984 1041.97 95.5984 1049.1 Q95.5984 1056.2 97.4039 1059.77 Q99.2326 1063.31 102.844 1063.31 Q106.478 1063.31 108.283 1059.77 Q110.112 1056.2 110.112 1049.1 Q110.112 1041.97 108.283 1038.43 Q106.478 1034.86 102.844 1034.86 M102.844 1031.16 Q108.654 1031.16 111.709 1035.77 Q114.788 1040.35 114.788 1049.1 Q114.788 1057.83 111.709 1062.43 Q108.654 1067.02 102.844 1067.02 Q97.0335 1067.02 93.9549 1062.43 Q90.8993 1057.83 90.8993 1049.1 Q90.8993 1040.35 93.9549 1035.77 Q97.0335 1031.16 102.844 1031.16 Z\" fill=\"#000000\" fill-rule=\"evenodd\" fill-opacity=\"1\" /><path clip-path=\"url(#clip400)\" d=\"M123.006 1060.46 L127.89 1060.46 L127.89 1066.34 L123.006 1066.34 L123.006 1060.46 Z\" fill=\"#000000\" fill-rule=\"evenodd\" fill-opacity=\"1\" /><path clip-path=\"url(#clip400)\" d=\"M142.103 1062.41 L158.422 1062.41 L158.422 1066.34 L136.478 1066.34 L136.478 1062.41 Q139.14 1059.65 143.723 1055.02 Q148.33 1050.37 149.51 1049.03 Q151.755 1046.51 152.635 1044.77 Q153.538 1043.01 153.538 1041.32 Q153.538 1038.57 151.593 1036.83 Q149.672 1035.09 146.57 1035.09 Q144.371 1035.09 141.918 1035.86 Q139.487 1036.62 136.709 1038.17 L136.709 1033.45 Q139.533 1032.32 141.987 1031.74 Q144.441 1031.16 146.478 1031.16 Q151.848 1031.16 155.042 1033.84 Q158.237 1036.53 158.237 1041.02 Q158.237 1043.15 157.427 1045.07 Q156.64 1046.97 154.533 1049.56 Q153.955 1050.23 150.853 1053.45 Q147.751 1056.64 142.103 1062.41 Z\" fill=\"#000000\" fill-rule=\"evenodd\" fill-opacity=\"1\" /><path clip-path=\"url(#clip400)\" d=\"M101.246 756.156 Q97.6354 756.156 95.8067 759.721 Q94.0012 763.263 94.0012 770.392 Q94.0012 777.499 95.8067 781.063 Q97.6354 784.605 101.246 784.605 Q104.881 784.605 106.686 781.063 Q108.515 777.499 108.515 770.392 Q108.515 763.263 106.686 759.721 Q104.881 756.156 101.246 756.156 M101.246 752.452 Q107.057 752.452 110.112 757.059 Q113.191 761.642 113.191 770.392 Q113.191 779.119 110.112 783.725 Q107.057 788.309 101.246 788.309 Q95.4363 788.309 92.3576 783.725 Q89.3021 779.119 89.3021 770.392 Q89.3021 761.642 92.3576 757.059 Q95.4363 752.452 101.246 752.452 Z\" fill=\"#000000\" fill-rule=\"evenodd\" fill-opacity=\"1\" /><path clip-path=\"url(#clip400)\" d=\"M121.408 781.758 L126.293 781.758 L126.293 787.637 L121.408 787.637 L121.408 781.758 Z\" fill=\"#000000\" fill-rule=\"evenodd\" fill-opacity=\"1\" /><path clip-path=\"url(#clip400)\" d=\"M146.478 756.156 Q142.867 756.156 141.038 759.721 Q139.232 763.263 139.232 770.392 Q139.232 777.499 141.038 781.063 Q142.867 784.605 146.478 784.605 Q150.112 784.605 151.918 781.063 Q153.746 777.499 153.746 770.392 Q153.746 763.263 151.918 759.721 Q150.112 756.156 146.478 756.156 M146.478 752.452 Q152.288 752.452 155.343 757.059 Q158.422 761.642 158.422 770.392 Q158.422 779.119 155.343 783.725 Q152.288 788.309 146.478 788.309 Q140.668 788.309 137.589 783.725 Q134.533 779.119 134.533 770.392 Q134.533 761.642 137.589 757.059 Q140.668 752.452 146.478 752.452 Z\" fill=\"#000000\" fill-rule=\"evenodd\" fill-opacity=\"1\" /><path clip-path=\"url(#clip400)\" d=\"M102.844 477.45 Q99.2326 477.45 97.4039 481.015 Q95.5984 484.556 95.5984 491.686 Q95.5984 498.792 97.4039 502.357 Q99.2326 505.899 102.844 505.899 Q106.478 505.899 108.283 502.357 Q110.112 498.792 110.112 491.686 Q110.112 484.556 108.283 481.015 Q106.478 477.45 102.844 477.45 M102.844 473.746 Q108.654 473.746 111.709 478.353 Q114.788 482.936 114.788 491.686 Q114.788 500.413 111.709 505.019 Q108.654 509.602 102.844 509.602 Q97.0335 509.602 93.9549 505.019 Q90.8993 500.413 90.8993 491.686 Q90.8993 482.936 93.9549 478.353 Q97.0335 473.746 102.844 473.746 Z\" fill=\"#000000\" fill-rule=\"evenodd\" fill-opacity=\"1\" /><path clip-path=\"url(#clip400)\" d=\"M123.006 503.052 L127.89 503.052 L127.89 508.931 L123.006 508.931 L123.006 503.052 Z\" fill=\"#000000\" fill-rule=\"evenodd\" fill-opacity=\"1\" /><path clip-path=\"url(#clip400)\" d=\"M142.103 504.996 L158.422 504.996 L158.422 508.931 L136.478 508.931 L136.478 504.996 Q139.14 502.241 143.723 497.612 Q148.33 492.959 149.51 491.616 Q151.755 489.093 152.635 487.357 Q153.538 485.598 153.538 483.908 Q153.538 481.154 151.593 479.417 Q149.672 477.681 146.57 477.681 Q144.371 477.681 141.918 478.445 Q139.487 479.209 136.709 480.76 L136.709 476.038 Q139.533 474.904 141.987 474.325 Q144.441 473.746 146.478 473.746 Q151.848 473.746 155.042 476.431 Q158.237 479.117 158.237 483.607 Q158.237 485.737 157.427 487.658 Q156.64 489.556 154.533 492.149 Q153.955 492.82 150.853 496.038 Q147.751 499.232 142.103 504.996 Z\" fill=\"#000000\" fill-rule=\"evenodd\" fill-opacity=\"1\" /><path clip-path=\"url(#clip400)\" d=\"M100.76 198.744 Q97.1493 198.744 95.3206 202.308 Q93.515 205.85 93.515 212.98 Q93.515 220.086 95.3206 223.651 Q97.1493 227.192 100.76 227.192 Q104.395 227.192 106.2 223.651 Q108.029 220.086 108.029 212.98 Q108.029 205.85 106.2 202.308 Q104.395 198.744 100.76 198.744 M100.76 195.04 Q106.571 195.04 109.626 199.646 Q112.705 204.23 112.705 212.98 Q112.705 221.706 109.626 226.313 Q106.571 230.896 100.76 230.896 Q94.9502 230.896 91.8715 226.313 Q88.816 221.706 88.816 212.98 Q88.816 204.23 91.8715 199.646 Q94.9502 195.04 100.76 195.04 Z\" fill=\"#000000\" fill-rule=\"evenodd\" fill-opacity=\"1\" /><path clip-path=\"url(#clip400)\" d=\"M120.922 224.345 L125.807 224.345 L125.807 230.225 L120.922 230.225 L120.922 224.345 Z\" fill=\"#000000\" fill-rule=\"evenodd\" fill-opacity=\"1\" /><path clip-path=\"url(#clip400)\" d=\"M148.839 199.739 L137.033 218.188 L148.839 218.188 L148.839 199.739 M147.612 195.665 L153.492 195.665 L153.492 218.188 L158.422 218.188 L158.422 222.077 L153.492 222.077 L153.492 230.225 L148.839 230.225 L148.839 222.077 L133.237 222.077 L133.237 217.563 L147.612 195.665 Z\" fill=\"#000000\" fill-rule=\"evenodd\" fill-opacity=\"1\" /><polyline clip-path=\"url(#clip402)\" style=\"stroke:#009af9; stroke-linecap:round; stroke-linejoin:round; stroke-width:8; stroke-opacity:1; fill:none\" points=\"\n  255.507,763.525 259.588,763.525 263.668,763.525 267.748,763.525 271.829,763.525 275.909,763.525 279.99,763.525 284.07,763.525 288.151,763.525 292.231,763.525 \n  296.312,763.525 300.392,763.525 304.473,763.525 308.553,763.525 312.634,763.525 316.714,763.525 320.795,763.525 324.875,763.525 328.956,763.525 333.036,763.525 \n  337.117,763.525 341.197,766.257 345.278,765.278 349.358,764.268 353.439,763.228 357.519,762.158 361.6,761.058 365.68,759.929 369.761,758.77 373.841,757.582 \n  377.922,756.366 382.002,755.121 386.083,753.847 390.163,752.546 394.244,751.216 398.324,749.86 402.405,748.475 406.485,747.064 410.566,745.626 414.646,744.162 \n  418.727,742.672 422.807,741.157 426.888,739.616 430.968,738.05 435.049,736.46 439.129,734.847 443.21,733.21 447.29,731.55 451.37,729.867 455.451,728.163 \n  459.531,726.437 463.612,724.69 467.692,722.924 471.773,721.138 475.853,719.332 479.934,717.509 484.014,715.668 488.095,713.81 492.175,711.937 496.256,710.048 \n  500.336,708.144 504.417,706.227 508.497,704.296 512.578,702.354 516.658,700.401 520.739,698.438 524.819,696.465 528.9,694.485 532.98,692.497 537.061,690.503 \n  541.141,688.505 545.222,686.502 549.302,684.497 553.383,682.49 557.463,680.483 561.544,681.229 565.624,678.338 569.705,675.427 573.785,672.499 577.866,669.556 \n  581.946,666.6 586.027,663.635 590.107,660.661 594.188,657.683 598.268,654.702 602.349,651.72 606.429,648.741 610.51,645.767 614.59,642.801 618.671,639.846 \n  622.751,636.904 626.832,633.979 630.912,631.073 634.992,628.189 639.073,625.33 643.153,622.5 647.234,619.702 651.314,616.938 655.395,614.212 659.475,611.527 \n  663.556,608.886 667.636,606.293 671.717,603.75 675.797,601.262 679.878,598.832 683.958,596.462 688.039,594.156 692.119,591.918 696.2,589.751 700.28,587.659 \n  704.361,585.644 708.441,583.71 712.522,581.861 716.602,580.1 720.683,578.429 724.763,576.853 728.844,575.375 732.924,573.997 737.005,572.723 741.085,571.556 \n  745.166,570.499 749.246,569.554 753.327,568.725 757.407,568.015 761.488,567.425 765.568,566.958 769.649,566.617 773.729,566.403 777.81,566.319 781.89,566.366 \n  785.971,566.546 790.051,566.86 794.132,567.31 798.212,567.896 802.293,568.618 806.373,569.478 810.454,570.475 814.534,571.608 818.614,572.878 822.695,574.282 \n  826.775,575.82 830.856,577.489 834.936,579.287 839.017,581.212 843.097,583.26 847.178,585.427 851.258,587.708 855.339,590.099 859.419,592.595 863.5,595.188 \n  867.58,597.872 871.661,600.639 875.741,603.481 879.822,606.39 883.902,609.354 887.983,612.364 892.063,615.409 896.144,618.475 900.224,621.551 904.305,624.621 \n  908.385,627.671 912.466,630.685 916.546,633.648 920.627,636.54 924.707,639.344 928.788,642.039 932.868,644.607 936.949,647.025 941.029,649.271 945.11,651.323 \n  949.19,653.156 953.271,654.745 957.351,656.066 961.432,657.092 965.512,657.797 969.593,658.153 973.673,658.133 977.754,657.709 981.834,656.853 985.915,655.536 \n  989.995,653.732 994.076,651.413 998.156,648.551 1002.24,645.122 1006.32,641.101 1010.4,636.464 1014.48,631.192 1018.56,625.265 1022.64,618.669 1026.72,611.389 \n  1030.8,603.419 1034.88,594.754 1038.96,585.395 1043.04,575.349 1047.12,564.629 1051.2,553.255 1055.28,541.255 1059.36,528.665 1063.44,515.531 1067.52,501.906 \n  1071.6,487.856 1075.69,473.456 1079.77,458.791 1083.85,443.958 1087.93,429.063 1092.01,414.223 1096.09,399.563 1100.17,385.218 1104.25,371.326 1108.33,358.031 \n  1112.41,345.478 1116.49,333.808 1120.57,323.158 1124.65,313.652 1128.73,305.395 1132.81,298.47 1136.89,292.926 1140.97,288.77 1145.05,285.959 1149.13,284.386 \n  1153.21,283.869 1157.3,284.136 1161.38,284.819 1165.46,285.436 1169.54,285.389 1173.62,276.813 1177.7,267.348 1181.78,256.228 1185.86,243.051 1189.94,227.472 \n  1194.02,209.283 1198.1,188.525 1202.18,165.647 1206.26,141.703 1210.34,118.585 1214.42,99.2624 1218.5,87.9763 1222.58,90.2973 1226.66,112.905 1230.74,162.881 \n  1234.82,246.238 1238.9,365.382 1242.99,515.353 1247.07,679.247 1251.15,763.525 1255.23,763.525 1259.31,763.525 1263.39,763.42 1267.47,660.999 1271.55,755.734 \n  1275.63,755.853 1279.71,660.966 1283.79,763.162 1287.87,763.525 1291.95,763.525 1296.03,763.525 1300.11,679.277 1304.19,515.059 1308.27,364.986 1312.35,245.988 \n  1316.43,162.889 1320.51,113.118 1324.6,90.5702 1328.68,88.1672 1332.76,99.2972 1336.84,118.473 1340.92,141.514 1345,165.472 1349.08,188.439 1353.16,209.326 \n  1357.24,227.642 1361.32,243.313 1365.4,256.529 1369.48,267.629 1373.56,277.024 1377.64,285.572 1381.72,285.449 1385.8,284.657 1389.88,283.815 1393.96,283.419 \n  1398.04,283.852 1402.12,285.387 1406.2,288.206 1410.29,292.411 1414.37,298.038 1418.45,305.07 1422.53,313.447 1426.61,323.077 1430.69,333.847 1434.77,345.624 \n  1438.85,358.269 1442.93,371.636 1447.01,385.58 1451.09,399.955 1455.17,414.625 1459.25,429.457 1463.33,444.329 1467.41,459.128 1471.49,473.75 1475.57,488.101 \n  1479.65,502.098 1483.73,515.671 1487.81,528.755 1491.9,541.297 1495.98,553.255 1500.06,564.592 1504.14,575.281 1508.22,585.303 1512.3,594.643 1516.38,603.296 \n  1520.46,611.259 1524.54,618.535 1528.62,625.134 1532.7,631.065 1536.78,636.345 1540.86,640.991 1544.94,645.023 1549.02,648.463 1553.1,651.337 1557.18,653.668 \n  1561.26,655.484 1565.34,656.811 1569.42,657.678 1573.5,658.111 1577.59,658.139 1581.67,657.79 1585.75,657.091 1589.83,656.07 1593.91,654.754 1597.99,653.167 \n  1602.07,651.337 1606.15,649.288 1610.23,647.043 1614.31,644.626 1618.39,642.059 1622.47,639.364 1626.55,636.561 1630.63,633.669 1634.71,630.707 1638.79,627.692 \n  1642.87,624.642 1646.95,621.571 1651.03,618.496 1655.11,615.429 1659.2,612.384 1663.28,609.374 1667.36,606.409 1671.44,603.499 1675.52,600.656 1679.6,597.888 \n  1683.68,595.203 1687.76,592.608 1691.84,590.111 1695.92,587.718 1700,585.435 1704.08,583.265 1708.16,581.215 1712.24,579.288 1716.32,577.486 1720.4,575.814 \n  1724.48,574.272 1728.56,572.865 1732.64,571.592 1736.72,570.455 1740.8,569.454 1744.89,568.591 1748.97,567.865 1753.05,567.275 1757.13,566.822 1761.21,566.505 \n  1765.29,566.322 1769.37,566.272 1773.45,566.354 1777.53,566.565 1781.61,566.905 1785.69,567.37 1789.77,567.958 1793.85,568.668 1797.93,569.497 1802.01,570.441 \n  1806.09,571.499 1810.17,572.666 1814.25,573.941 1818.33,575.32 1822.41,576.801 1826.5,578.379 1830.58,580.052 1834.66,581.816 1838.74,583.669 1842.82,585.606 \n  1846.9,587.624 1850.98,589.721 1855.06,591.892 1859.14,594.134 1863.22,596.444 1867.3,598.818 1871.38,601.253 1875.46,603.746 1879.54,606.293 1883.62,608.891 \n  1887.7,611.536 1891.78,614.225 1895.86,616.955 1899.94,619.723 1904.02,622.526 1908.11,625.36 1912.19,628.222 1916.27,631.109 1920.35,634.018 1924.43,636.946 \n  1928.51,639.89 1932.59,642.848 1936.67,645.816 1940.75,648.791 1944.83,651.771 1948.91,654.754 1952.99,657.736 1957.07,660.714 1961.15,663.688 1965.23,666.653 \n  1969.31,669.608 1973.39,672.55 1977.47,675.477 1981.55,678.386 1985.63,681.277 1989.71,680.418 1993.8,682.428 1997.88,684.439 2001.96,686.448 2006.04,688.455 \n  2010.12,690.459 2014.2,692.459 2018.28,694.452 2022.36,696.44 2026.44,698.419 2030.52,700.39 2034.6,702.351 2038.68,704.302 2042.76,706.241 2046.84,708.167 \n  2050.92,710.079 2055,711.977 2059.08,713.86 2063.16,715.727 2067.24,717.577 2071.32,719.409 2075.41,721.222 2079.49,723.016 2083.57,724.791 2087.65,726.544 \n  2091.73,728.277 2095.81,729.987 2099.89,731.675 2103.97,733.339 2108.05,734.981 2112.13,736.597 2116.21,738.19 2120.29,739.757 2124.37,741.298 2128.45,742.813 \n  2132.53,744.302 2136.61,745.764 2140.69,747.199 2144.77,748.607 2148.85,749.986 2152.93,751.338 2157.01,752.661 2161.1,753.956 2165.18,755.221 2169.26,756.458 \n  2173.34,757.666 2177.42,758.844 2181.5,759.992 2185.58,761.111 2189.66,762.201 2193.74,763.26 2197.82,764.289 2201.9,765.288 2205.98,766.257 2210.06,763.525 \n  2214.14,763.525 2218.22,763.525 2222.3,763.525 2226.38,763.525 2230.46,763.525 2234.54,763.525 2238.62,763.525 2242.71,763.525 2246.79,763.525 2250.87,763.525 \n  2254.95,763.525 2259.03,763.525 2263.11,763.525 2267.19,763.525 2271.27,763.525 2275.35,763.525 2279.43,763.525 2283.51,763.525 2287.59,763.525 2291.67,763.525 \n  \n  \"/>\n<polyline clip-path=\"url(#clip402)\" style=\"stroke:#e26f46; stroke-linecap:round; stroke-linejoin:round; stroke-width:8; stroke-opacity:1; fill:none\" points=\"\n  255.507,770.357 259.588,770.357 263.668,770.357 267.748,770.357 271.829,770.357 275.909,770.357 279.99,770.357 284.07,770.357 288.151,770.357 292.231,770.357 \n  296.312,770.357 300.392,770.357 304.473,770.357 308.553,770.357 312.634,770.357 316.714,770.357 320.795,770.357 324.875,770.357 328.956,770.357 333.036,770.357 \n  337.117,770.357 341.197,767.625 345.278,768.605 349.358,769.615 353.439,770.655 357.519,771.725 361.6,772.825 365.68,773.954 369.761,775.113 373.841,776.3 \n  377.922,777.517 382.002,778.762 386.083,780.035 390.163,781.337 394.244,782.666 398.324,784.023 402.405,785.408 406.485,786.819 410.566,788.257 414.646,789.721 \n  418.727,791.211 422.807,792.726 426.888,794.267 430.968,795.833 435.049,797.422 439.129,799.036 443.21,800.673 447.29,802.333 451.37,804.016 455.451,805.72 \n  459.531,807.446 463.612,809.192 467.692,810.959 471.773,812.745 475.853,814.55 479.934,816.374 484.014,818.215 488.095,820.072 492.175,821.946 496.256,823.835 \n  500.336,825.739 504.417,827.656 508.497,829.586 512.578,831.529 516.658,833.482 520.739,835.445 524.819,837.417 528.9,839.398 532.98,841.386 537.061,843.379 \n  541.141,845.378 545.222,847.381 549.302,849.386 553.383,851.393 557.463,853.4 561.544,858.159 565.624,859.276 569.705,860.366 573.785,861.43 577.866,862.466 \n  581.946,863.475 586.027,864.456 590.107,865.408 594.188,866.332 598.268,867.225 602.349,868.089 606.429,868.922 610.51,869.724 614.59,870.494 618.671,871.232 \n  622.751,871.937 626.832,872.609 630.912,873.247 634.992,873.85 639.073,874.419 643.153,874.951 647.234,875.448 651.314,875.907 655.395,876.329 659.475,876.713 \n  663.556,877.058 667.636,877.363 671.717,877.628 675.797,877.852 679.878,878.034 683.958,878.173 688.039,878.27 692.119,878.322 696.2,878.329 700.28,878.291 \n  704.361,878.206 708.441,878.074 712.522,877.894 716.602,877.664 720.683,877.384 724.763,877.054 728.844,876.672 732.924,876.236 737.005,875.747 741.085,875.204 \n  745.166,874.604 749.246,873.948 753.327,873.235 757.407,872.462 761.488,871.63 765.568,870.737 769.649,869.783 773.729,868.766 777.81,867.685 781.89,866.539 \n  785.971,865.328 790.051,864.049 794.132,862.704 798.212,861.289 802.293,859.805 806.373,858.25 810.454,856.624 814.534,854.925 818.614,853.153 822.695,851.306 \n  826.775,849.385 830.856,847.387 834.936,845.313 839.017,843.161 843.097,840.93 847.178,838.62 851.258,836.23 855.339,833.759 859.419,831.206 863.5,828.571 \n  867.58,825.852 871.661,823.049 875.741,820.161 879.822,817.188 883.902,814.127 887.983,810.979 892.063,807.743 896.144,804.417 900.224,801 904.305,797.492 \n  908.385,793.892 912.466,790.198 916.546,786.409 920.627,782.524 924.707,778.541 928.788,774.46 932.868,770.279 936.949,765.997 941.029,761.612 945.11,757.123 \n  949.19,752.529 953.271,747.827 957.351,743.017 961.432,738.098 965.512,733.067 969.593,727.924 973.673,722.668 977.754,717.296 981.834,711.809 985.915,706.205 \n  989.995,700.483 994.076,694.641 998.156,688.68 1002.24,682.598 1006.32,676.393 1010.4,670.066 1014.48,663.615 1018.56,657.038 1022.64,650.334 1026.72,643.502 \n  1030.8,636.539 1034.88,629.442 1038.96,622.21 1043.04,614.839 1047.12,607.325 1051.2,599.665 1055.28,591.854 1059.36,583.888 1063.44,575.761 1067.52,567.47 \n  1071.6,559.009 1075.69,550.374 1079.77,541.561 1083.85,532.565 1087.93,523.384 1092.01,514.015 1096.09,504.457 1100.17,494.707 1104.25,484.764 1108.33,474.627 \n  1112.41,464.292 1116.49,453.756 1120.57,443.013 1124.65,432.053 1128.73,420.863 1132.81,409.426 1136.89,397.72 1140.97,385.722 1145.05,373.403 1149.13,360.735 \n  1153.21,347.692 1157.3,334.252 1161.38,320.404 1165.46,306.148 1169.54,291.5 1173.62,283.645 1177.7,274.18 1181.78,263.06 1185.86,249.883 1189.94,234.304 \n  1194.02,216.115 1198.1,195.357 1202.18,172.479 1206.26,148.535 1210.34,125.417 1214.42,106.095 1218.5,94.8084 1222.58,97.1294 1226.66,119.737 1230.74,169.714 \n  1234.82,253.07 1238.9,372.214 1242.99,522.185 1247.07,686.079 1251.15,770.357 1255.23,770.357 1259.31,770.357 1263.39,770.253 1267.47,667.831 1271.55,762.566 \n  1275.63,778.03 1279.71,872.917 1283.79,770.721 1287.87,770.357 1291.95,770.357 1296.03,770.357 1300.11,854.605 1304.19,1018.82 1308.27,1168.9 1312.35,1287.89 \n  1316.43,1370.99 1320.51,1420.76 1324.6,1443.31 1328.68,1445.72 1332.76,1434.59 1336.84,1415.41 1340.92,1392.37 1345,1368.41 1349.08,1345.44 1353.16,1324.56 \n  1357.24,1306.24 1361.32,1290.57 1365.4,1277.35 1369.48,1266.25 1373.56,1256.86 1377.64,1249.18 1381.72,1234.6 1385.8,1220.39 1389.88,1206.58 1393.96,1193.15 \n  1398.04,1180.09 1402.12,1167.4 1406.2,1155.05 1410.29,1143.02 1414.37,1131.29 1418.45,1119.84 1422.53,1108.63 1426.61,1097.67 1430.69,1086.93 1434.77,1076.4 \n  1438.85,1066.08 1442.93,1055.95 1447.01,1046.02 1451.09,1036.27 1455.17,1026.72 1459.25,1017.35 1463.33,1008.17 1467.41,999.171 1471.49,990.356 1475.57,981.72 \n  1479.65,973.259 1483.73,964.97 1487.81,956.848 1491.9,948.887 1495.98,941.083 1500.06,933.431 1504.14,925.925 1508.22,918.561 1512.3,911.334 1516.38,904.241 \n  1520.46,897.278 1524.54,890.441 1528.62,883.73 1532.7,877.142 1536.78,870.675 1540.86,864.328 1544.94,858.101 1549.02,851.994 1553.1,846.005 1557.18,840.136 \n  1561.26,834.385 1565.34,828.754 1569.42,823.241 1573.5,817.846 1577.59,812.569 1581.67,807.41 1585.75,802.367 1589.83,797.44 1593.91,792.628 1597.99,787.929 \n  1602.07,783.343 1606.15,778.866 1610.23,774.499 1614.31,770.238 1618.39,766.083 1622.47,762.031 1626.55,758.08 1630.63,754.228 1634.71,750.474 1638.79,746.815 \n  1642.87,743.25 1646.95,739.777 1651.03,736.395 1655.11,733.101 1659.2,729.895 1663.28,726.774 1667.36,723.738 1671.44,720.786 1675.52,717.916 1679.6,715.127 \n  1683.68,712.419 1687.76,709.791 1691.84,707.242 1695.92,704.771 1700,702.378 1704.08,700.062 1708.16,697.823 1712.24,695.66 1716.32,693.572 1720.4,691.559 \n  1724.48,689.621 1728.56,687.756 1732.64,685.965 1736.72,684.247 1740.8,682.601 1744.89,681.027 1748.97,679.523 1753.05,678.09 1757.13,676.726 1761.21,675.431 \n  1765.29,674.204 1769.37,673.043 1773.45,671.949 1777.53,670.92 1781.61,669.954 1785.69,669.052 1789.77,668.212 1793.85,667.433 1797.93,666.714 1802.01,666.054 \n  1806.09,665.452 1810.17,664.907 1814.25,664.417 1818.33,663.981 1822.41,663.599 1826.5,663.269 1830.58,662.991 1834.66,662.762 1838.74,662.583 1842.82,662.452 \n  1846.9,662.368 1850.98,662.331 1855.06,662.339 1859.14,662.391 1863.22,662.486 1867.3,662.624 1871.38,662.804 1875.46,663.025 1879.54,663.287 1883.62,663.588 \n  1887.7,663.928 1891.78,664.306 1895.86,664.722 1899.94,665.175 1904.02,665.664 1908.11,666.189 1912.19,666.75 1916.27,667.346 1920.35,667.976 1924.43,668.639 \n  1928.51,669.337 1932.59,670.067 1936.67,670.83 1940.75,671.625 1944.83,672.452 1948.91,673.31 1952.99,674.199 1957.07,675.119 1961.15,676.069 1965.23,677.048 \n  1969.31,678.057 1973.39,679.094 1977.47,680.16 1981.55,681.254 1985.63,682.375 1989.71,687.251 1993.8,689.261 1997.88,691.271 2001.96,693.28 2006.04,695.287 \n  2010.12,697.291 2014.2,699.291 2018.28,701.285 2022.36,703.272 2026.44,705.252 2030.52,707.222 2034.6,709.184 2038.68,711.134 2042.76,713.073 2046.84,714.999 \n  2050.92,716.911 2055,718.81 2059.08,720.692 2063.16,722.559 2067.24,724.409 2071.32,726.241 2075.41,728.054 2079.49,729.848 2083.57,731.623 2087.65,733.376 \n  2091.73,735.109 2095.81,736.819 2099.89,738.507 2103.97,740.172 2108.05,741.813 2112.13,743.43 2116.21,745.022 2120.29,746.589 2124.37,748.13 2128.45,749.645 \n  2132.53,751.134 2136.61,752.596 2140.69,754.031 2144.77,755.439 2148.85,756.818 2152.93,758.17 2157.01,759.493 2161.1,760.788 2165.18,762.053 2169.26,763.29 \n  2173.34,764.498 2177.42,765.676 2181.5,766.825 2185.58,767.943 2189.66,769.033 2193.74,770.092 2197.82,771.121 2201.9,772.12 2205.98,773.089 2210.06,770.357 \n  2214.14,770.357 2218.22,770.357 2222.3,770.357 2226.38,770.357 2230.46,770.357 2234.54,770.357 2238.62,770.357 2242.71,770.357 2246.79,770.357 2250.87,770.357 \n  2254.95,770.357 2259.03,770.357 2263.11,770.357 2267.19,770.357 2271.27,770.357 2275.35,770.357 2279.43,770.357 2283.51,770.357 2287.59,770.357 2291.67,770.357 \n  \n  \"/>\n<path clip-path=\"url(#clip400)\" d=\"\nM1988.57 250.738 L2280.81 250.738 L2280.81 95.2176 L1988.57 95.2176  Z\n  \" fill=\"#ffffff\" fill-rule=\"evenodd\" fill-opacity=\"1\"/>\n<polyline clip-path=\"url(#clip400)\" style=\"stroke:#000000; stroke-linecap:round; stroke-linejoin:round; stroke-width:4; stroke-opacity:1; fill:none\" points=\"\n  1988.57,250.738 2280.81,250.738 2280.81,95.2176 1988.57,95.2176 1988.57,250.738 \n  \"/>\n<polyline clip-path=\"url(#clip400)\" style=\"stroke:#009af9; stroke-linecap:round; stroke-linejoin:round; stroke-width:4; stroke-opacity:1; fill:none\" points=\"\n  2012.55,147.058 2156.44,147.058 \n  \"/>\n<path clip-path=\"url(#clip400)\" d=\"M2194.26 166.745 Q2192.46 171.375 2190.74 172.787 Q2189.03 174.199 2186.16 174.199 L2182.76 174.199 L2182.76 170.634 L2185.26 170.634 Q2187.02 170.634 2187.99 169.8 Q2188.96 168.967 2190.14 165.865 L2190.9 163.921 L2180.42 138.412 L2184.93 138.412 L2193.03 158.689 L2201.14 138.412 L2205.65 138.412 L2194.26 166.745 Z\" fill=\"#000000\" fill-rule=\"evenodd\" fill-opacity=\"1\" /><path clip-path=\"url(#clip400)\" d=\"M2212.94 160.402 L2220.58 160.402 L2220.58 134.037 L2212.27 135.703 L2212.27 131.444 L2220.53 129.778 L2225.21 129.778 L2225.21 160.402 L2232.85 160.402 L2232.85 164.338 L2212.94 164.338 L2212.94 160.402 Z\" fill=\"#000000\" fill-rule=\"evenodd\" fill-opacity=\"1\" /><polyline clip-path=\"url(#clip400)\" style=\"stroke:#e26f46; stroke-linecap:round; stroke-linejoin:round; stroke-width:4; stroke-opacity:1; fill:none\" points=\"\n  2012.55,198.898 2156.44,198.898 \n  \"/>\n<path clip-path=\"url(#clip400)\" d=\"M2194.26 218.585 Q2192.46 223.215 2190.74 224.627 Q2189.03 226.039 2186.16 226.039 L2182.76 226.039 L2182.76 222.474 L2185.26 222.474 Q2187.02 222.474 2187.99 221.64 Q2188.96 220.807 2190.14 217.705 L2190.9 215.761 L2180.42 190.252 L2184.93 190.252 L2193.03 210.529 L2201.14 190.252 L2205.65 190.252 L2194.26 218.585 Z\" fill=\"#000000\" fill-rule=\"evenodd\" fill-opacity=\"1\" /><path clip-path=\"url(#clip400)\" d=\"M2216.16 212.242 L2232.48 212.242 L2232.48 216.178 L2210.53 216.178 L2210.53 212.242 Q2213.2 209.488 2217.78 204.858 Q2222.39 200.205 2223.57 198.863 Q2225.81 196.34 2226.69 194.604 Q2227.59 192.844 2227.59 191.155 Q2227.59 188.4 2225.65 186.664 Q2223.73 184.928 2220.63 184.928 Q2218.43 184.928 2215.97 185.692 Q2213.54 186.455 2210.77 188.006 L2210.77 183.284 Q2213.59 182.15 2216.04 181.571 Q2218.5 180.993 2220.53 180.993 Q2225.9 180.993 2229.1 183.678 Q2232.29 186.363 2232.29 190.854 Q2232.29 192.983 2231.48 194.905 Q2230.7 196.803 2228.59 199.395 Q2228.01 200.067 2224.91 203.284 Q2221.81 206.479 2216.16 212.242 Z\" fill=\"#000000\" fill-rule=\"evenodd\" fill-opacity=\"1\" /></svg>\n"
     },
     "execution_count": 56,
     "metadata": {},
     "output_type": "execute_result"
    }
   ],
   "source": [
    "plot(w_mesh, gi[:,1], linewidth=2.0)\n",
    "plot!(w_mesh, gi[:,4], linewidth=2.0)\n",
    "#plot(w_mesh, gi[:,1]-gi[:,4], linewidth=2.0)\n",
    "#plot!(w_mesh, gi[:,1]+gi[:,4], linewidth=2.0)"
   ]
  },
  {
   "cell_type": "code",
   "execution_count": 53,
   "metadata": {},
   "outputs": [
    {
     "data": {
      "text/plain": [
       "renorm_rho (generic function with 1 method)"
      ]
     },
     "execution_count": 53,
     "metadata": {},
     "output_type": "execute_result"
    }
   ],
   "source": [
    "f(beta::Float64, w::Float64) = 1.0/(1.0+exp(beta*w))\n",
    "function renorm_rho(beta::Float64, w::Vector{Float64}, rho::Vector{Float64})\n",
    "    n = 0.0\n",
    "    dw = w[2]-w[1]\n",
    "    for i in 1:length(w)\n",
    "        n += dw * rho[i] * f(beta, w[i])\n",
    "    end\n",
    "    #rho1 = (0.5/n) * rho\n",
    "    #return rho1\n",
    "    return n\n",
    "end"
   ]
  },
  {
   "cell_type": "code",
   "execution_count": 54,
   "metadata": {},
   "outputs": [
    {
     "data": {
      "text/plain": [
       "0.5099196562596192"
      ]
     },
     "execution_count": 54,
     "metadata": {},
     "output_type": "execute_result"
    }
   ],
   "source": [
    "nn = renorm_rho(irx.beta, w_mesh, gi[:,1])"
   ]
  },
  {
   "cell_type": "code",
   "execution_count": 55,
   "metadata": {},
   "outputs": [
    {
     "data": {
      "text/plain": [
       "500×4 Matrix{Float64}:\n",
       " 0.00490273  -0.000532058   4.39906e-5   0.0\n",
       " 0.00490273  -0.000424945   4.08718e-5   0.0\n",
       " 0.00490273  -0.000331557   3.69655e-5   0.0\n",
       " 0.00490273  -0.000250644   3.24299e-5   0.0\n",
       " 0.00490273  -0.000181031   2.74123e-5   0.0\n",
       " 0.00490273  -0.00012162    2.20489e-5   0.0\n",
       " 0.00490273  -7.13822e-5    1.64653e-5   0.0\n",
       " 0.00490273  -2.93565e-5    1.07767e-5   0.0\n",
       " 0.00490273   5.35056e-6    5.08781e-6   0.0\n",
       " 0.00490273   3.35692e-5   -5.06553e-7   0.0\n",
       " 0.00490273   5.60681e-5   -5.92131e-6   0.0\n",
       " 0.00490273   7.35572e-5   -1.10808e-5   0.0\n",
       " 0.00490273   8.66899e-5   -1.59187e-5   0.0\n",
       " ⋮                                       \n",
       " 0.00490273   4.24307e-5    2.74147e-5   0.0\n",
       " 0.00490273   5.06724e-5    1.35215e-5   0.0\n",
       " 0.00490273   6.00051e-5    6.60272e-10  0.0\n",
       " 0.00490273   7.05565e-5   -1.26788e-5   0.0\n",
       " 0.00490273   8.24618e-5   -2.39887e-5   0.0\n",
       " 0.00490273   9.58631e-5   -3.33393e-5   0.0\n",
       " 0.00490273   0.00011091   -4.00759e-5   0.0\n",
       " 0.00490273   0.000127758  -4.34759e-5   0.0\n",
       " 0.00490273   0.000146572  -4.27454e-5   0.0\n",
       " 0.00490273   0.000167522  -3.7017e-5    0.0\n",
       " 0.00490273   0.000190786  -2.53456e-5   0.0\n",
       " 0.00490273   0.000216547  -6.70622e-6   0.0"
      ]
     },
     "execution_count": 55,
     "metadata": {},
     "output_type": "execute_result"
    }
   ],
   "source": [
    "gi = (0.5/nn) * gi"
   ]
  },
  {
   "cell_type": "code",
   "execution_count": null,
   "metadata": {},
   "outputs": [],
   "source": []
  }
 ],
 "metadata": {
  "kernelspec": {
   "display_name": "Julia 1.8.2",
   "language": "julia",
   "name": "julia-1.8"
  },
  "language_info": {
   "file_extension": ".jl",
   "mimetype": "application/julia",
   "name": "julia",
   "version": "1.8.2"
  },
  "orig_nbformat": 4,
  "vscode": {
   "interpreter": {
    "hash": "ba9adc20f5d2cbd026ba97e5cdba9f52f75b0bad1640aec7f9933b7bf8f6712d"
   }
  }
 },
 "nbformat": 4,
 "nbformat_minor": 2
}
