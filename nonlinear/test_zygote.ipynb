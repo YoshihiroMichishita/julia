{
 "cells": [
  {
   "cell_type": "code",
   "execution_count": 27,
   "metadata": {},
   "outputs": [],
   "source": [
    "using Zygote"
   ]
  },
  {
   "cell_type": "code",
   "execution_count": 12,
   "metadata": {},
   "outputs": [],
   "source": [
    "struct Parm\n",
    "    t::Float64\n",
    "    V::Float64\n",
    "    λ::Float64\n",
    "end"
   ]
  },
  {
   "cell_type": "code",
   "execution_count": 13,
   "metadata": {},
   "outputs": [
    {
     "data": {
      "text/plain": [
       "4-element Vector{Matrix{ComplexF64}}:\n",
       " [1.0 + 0.0im 0.0 + 0.0im; 0.0 + 0.0im 1.0 + 0.0im]\n",
       " [0.0 + 0.0im 1.0 + 0.0im; 1.0 + 0.0im 0.0 + 0.0im]\n",
       " [0.0 + 0.0im -0.0 - 1.0im; 0.0 + 1.0im 0.0 + 0.0im]\n",
       " [1.0 + 0.0im 0.0 + 0.0im; 0.0 + 0.0im -1.0 + 0.0im]"
      ]
     },
     "metadata": {},
     "output_type": "display_data"
    }
   ],
   "source": [
    "sigma = [[1.0 0.0; 0.0 1.0], [0.0 1.0; 1.0 0.0], [0.0 -1.0im; 1.0im 0.0], [1.0 0.0; 0.0 -1.0]]"
   ]
  },
  {
   "cell_type": "code",
   "execution_count": 88,
   "metadata": {},
   "outputs": [
    {
     "data": {
      "text/plain": [
       "3-element Vector{Float64}:\n",
       " 0.0\n",
       " 0.0\n",
       " 1.0"
      ]
     },
     "metadata": {},
     "output_type": "display_data"
    }
   ],
   "source": [
    "a1 = [1.0, 0.0, 0.0]\n",
    "a2 = [0.0, 1.0, 0.0]\n",
    "a3 = [0.0, 0.0, 1.0]"
   ]
  },
  {
   "cell_type": "code",
   "execution_count": 31,
   "metadata": {},
   "outputs": [
    {
     "data": {
      "text/plain": [
       "H (generic function with 3 methods)"
      ]
     },
     "metadata": {},
     "output_type": "display_data"
    }
   ],
   "source": [
    "function H(kx, ky, p::Parm)\n",
    "    e0 = -p.t*(cos(kx))\n",
    "    sz = -p.t*(cos(ky))\n",
    "    sx = p.V + p.λ*sin(kx)\n",
    "    sy = p.λ*sin(ky)\n",
    "    hv = [e0, sx, sy, sz]\n",
    "    #h::Array{ComplexF64,2} = hv' * sigma\n",
    "    return hv\n",
    "end"
   ]
  },
  {
   "cell_type": "code",
   "execution_count": 42,
   "metadata": {},
   "outputs": [
    {
     "data": {
      "text/plain": [
       "test_H (generic function with 1 method)"
      ]
     },
     "metadata": {},
     "output_type": "display_data"
    }
   ],
   "source": [
    "function test_H(k::Float64, p::Parm)\n",
    "    e0 = -p.t*(cos(k))\n",
    "    sz = -p.t*(cos(k))\n",
    "    sx = p.V + p.λ*sin(k)\n",
    "    sy = p.λ*sin(k)\n",
    "    hv = [e0, sx, sy, sz]\n",
    "    h::Array{ComplexF64,2} = hv' * sigma\n",
    "    return h\n",
    "end"
   ]
  },
  {
   "cell_type": "code",
   "execution_count": 19,
   "metadata": {},
   "outputs": [
    {
     "data": {
      "text/plain": [
       "Parm(1.0, 0.2, 0.4)"
      ]
     },
     "metadata": {},
     "output_type": "display_data"
    }
   ],
   "source": [
    "p0 = Parm(1.0, 0.2, 0.4)"
   ]
  },
  {
   "cell_type": "code",
   "execution_count": 44,
   "metadata": {},
   "outputs": [
    {
     "data": {
      "text/plain": [
       "3-element Vector{Float64}:\n",
       " 1.0\n",
       " 0.2\n",
       " 0.5"
      ]
     },
     "metadata": {},
     "output_type": "display_data"
    }
   ],
   "source": [
    "k = [1.0, 0.2, 0.5]"
   ]
  },
  {
   "cell_type": "code",
   "execution_count": null,
   "metadata": {},
   "outputs": [],
   "source": []
  },
  {
   "cell_type": "code",
   "execution_count": 78,
   "metadata": {},
   "outputs": [
    {
     "data": {
      "text/plain": [
       "4-element Vector{Float64}:\n",
       " 0.19866933079506122\n",
       " 0.39202663113649666\n",
       " 0.0\n",
       " 0.0"
      ]
     },
     "metadata": {},
     "output_type": "display_data"
    }
   ],
   "source": [
    "#Vx(k0::Vector{Float64},p::Parm) = \n",
    "#Vx(k1::Vector{Float64},p1::Parm) = \n",
    "V1 = Zygote.gradient(kx -> H([k0,k[2],k[3]],p), k0)[1]"
   ]
  },
  {
   "cell_type": "code",
   "execution_count": 39,
   "metadata": {},
   "outputs": [
    {
     "data": {
      "text/plain": [
       "set_vx (generic function with 2 methods)"
      ]
     },
     "metadata": {},
     "output_type": "display_data"
    }
   ],
   "source": [
    "function set_vx(kx, ky,p0::Parm)\n",
    "    gg_x = Zygote.jacobian(kx -> H(kx,ky,p0), kx)[1]\n",
    "    #kk = k[1]\n",
    "    #gg_x = (jacobian(kk -> H([kk,k[2],k[3]],p), kk)[1])\n",
    "    #Vx::Array{ComplexF64,2} = gg_x' * sigma\n",
    "    return gg_x\n",
    "end"
   ]
  },
  {
   "cell_type": "code",
   "execution_count": 34,
   "metadata": {},
   "outputs": [
    {
     "data": {
      "text/plain": [
       "4-element Vector{Float64}:\n",
       " 0.8414709848078965\n",
       " 0.2161209223472559\n",
       " 0.0\n",
       " 0.0"
      ]
     },
     "metadata": {},
     "output_type": "display_data"
    }
   ],
   "source": [
    "set_vx(k,p0)"
   ]
  },
  {
   "cell_type": "code",
   "execution_count": 40,
   "metadata": {},
   "outputs": [
    {
     "data": {
      "text/plain": [
       "set_vxx (generic function with 2 methods)"
      ]
     },
     "metadata": {},
     "output_type": "display_data"
    }
   ],
   "source": [
    "function set_vxx(kx, ky, p0::Parm)\n",
    "    #kx=k[1]\n",
    "    #ky=k[2]\n",
    "    gg_x = (Zygote.jacobian(k -> set_vx(kx, ky, p0), k)[1])[:,1]\n",
    "    #kk = k[1]\n",
    "    #gg_x = (jacobian(kk -> H([kk,k[2],k[3]],p), kk)[1])\n",
    "    #Vx::Array{ComplexF64,2} = gg_x' * sigma\n",
    "    return gg_x\n",
    "end"
   ]
  },
  {
   "cell_type": "code",
   "execution_count": 41,
   "metadata": {},
   "outputs": [
    {
     "ename": "ErrorException",
     "evalue": "Mutating arrays is not supported -- called copyto!(SubArray{Float64, 1, Matrix{Float64}, Tuple{Int64, Base.Slice{Base.OneTo{Int64}}}, true}, ...)\nThis error occurs when you ask Zygote to differentiate operations that change\nthe elements of arrays in place (e.g. setting values with x .= ...)\n\nPossible fixes:\n- avoid mutating operations (preferred)\n- or read the documentation and solutions for this error\n  https://fluxml.ai/Zygote.jl/latest/limitations\n",
     "output_type": "error",
     "traceback": [
      "Mutating arrays is not supported -- called copyto!(SubArray{Float64, 1, Matrix{Float64}, Tuple{Int64, Base.Slice{Base.OneTo{Int64}}}, true}, ...)\n",
      "This error occurs when you ask Zygote to differentiate operations that change\n",
      "the elements of arrays in place (e.g. setting values with x .= ...)\n",
      "\n",
      "Possible fixes:\n",
      "- avoid mutating operations (preferred)\n",
      "- or read the documentation and solutions for this error\n",
      "  https://fluxml.ai/Zygote.jl/latest/limitations\n",
      "\n",
      "\n",
      "Stacktrace:\n",
      "  [1] error(s::String)\n",
      "    @ Base ./error.jl:35\n",
      "  [2] _throw_mutation_error(f::Function, args::SubArray{Float64, 1, Matrix{Float64}, Tuple{Int64, Base.Slice{Base.OneTo{Int64}}}, true})\n",
      "    @ Zygote ~/.julia/packages/Zygote/xGkZ5/src/lib/array.jl:68\n",
      "  [3] (::Zygote.var\"#383#384\"{SubArray{Float64, 1, Matrix{Float64}, Tuple{Int64, Base.Slice{Base.OneTo{Int64}}}, true}})(#unused#::Nothing)\n",
      "    @ Zygote ~/.julia/packages/Zygote/xGkZ5/src/lib/array.jl:83\n",
      "  [4] (::Zygote.var\"#2322#back#385\"{Zygote.var\"#383#384\"{SubArray{Float64, 1, Matrix{Float64}, Tuple{Int64, Base.Slice{Base.OneTo{Int64}}}, true}}})(Δ::Nothing)\n",
      "    @ Zygote ~/.julia/packages/ZygoteRules/AIbCs/src/adjoint.jl:67\n",
      "  [5] Pullback\n",
      "    @ ~/.julia/packages/Zygote/xGkZ5/src/lib/grad.jl:172 [inlined]\n",
      "  [6] (::typeof(∂(_gradcopy!)))(Δ::Nothing)\n",
      "    @ Zygote ~/.julia/packages/Zygote/xGkZ5/src/compiler/interface2.jl:0\n",
      "  [7] Pullback\n",
      "    @ ~/.julia/packages/Zygote/xGkZ5/src/lib/grad.jl:153 [inlined]\n",
      "  [8] (::typeof(∂(withjacobian)))(Δ::NamedTuple{(:val, :grad), Tuple{Nothing, Tuple{Vector{Float64}}}})\n",
      "    @ Zygote ~/.julia/packages/Zygote/xGkZ5/src/compiler/interface2.jl:0\n",
      "  [9] (::Zygote.var\"#208#209\"{Tuple{Tuple{Nothing}, Tuple{Nothing}}, typeof(∂(withjacobian))})(Δ::NamedTuple{(:val, :grad), Tuple{Nothing, Tuple{Vector{Float64}}}})\n",
      "    @ Zygote ~/.julia/packages/Zygote/xGkZ5/src/lib/lib.jl:206\n",
      " [10] #1914#back\n",
      "    @ ~/.julia/packages/ZygoteRules/AIbCs/src/adjoint.jl:67 [inlined]\n",
      " [11] Pullback\n",
      "    @ ~/.julia/packages/Zygote/xGkZ5/src/lib/grad.jl:128 [inlined]\n",
      " [12] (::typeof(∂(jacobian)))(Δ::Tuple{Vector{Float64}})\n",
      "    @ Zygote ~/.julia/packages/Zygote/xGkZ5/src/compiler/interface2.jl:0\n",
      " [13] Pullback\n",
      "    @ ~/Documents/Codes/julia/nonlinear/test_zygote.ipynb:2 [inlined]\n",
      " [14] (::typeof(∂(set_vx)))(Δ::Vector{Float64})\n",
      "    @ Zygote ~/.julia/packages/Zygote/xGkZ5/src/compiler/interface2.jl:0\n",
      " [15] Pullback\n",
      "    @ ~/Documents/Codes/julia/nonlinear/test_zygote.ipynb:4 [inlined]\n",
      " [16] (::typeof(∂(λ)))(Δ::Vector{Float64})\n",
      "    @ Zygote ~/.julia/packages/Zygote/xGkZ5/src/compiler/interface2.jl:0\n",
      " [17] #208\n",
      "    @ ~/.julia/packages/Zygote/xGkZ5/src/lib/lib.jl:206 [inlined]\n",
      " [18] (::Zygote.var\"#1914#back#210\"{Zygote.var\"#208#209\"{Tuple{Tuple{Nothing}}, typeof(∂(λ))}})(Δ::Vector{Float64})\n",
      "    @ Zygote ~/.julia/packages/ZygoteRules/AIbCs/src/adjoint.jl:67\n",
      " [19] Pullback\n",
      "    @ ./operators.jl:1030 [inlined]\n",
      " [20] (::typeof(∂(#_#95)))(Δ::Vector{Float64})\n",
      "    @ Zygote ~/.julia/packages/Zygote/xGkZ5/src/compiler/interface2.jl:0\n",
      " [21] (::Zygote.var\"#208#209\"{Tuple{Tuple{Nothing, Nothing}, Tuple{Nothing}}, typeof(∂(#_#95))})(Δ::Vector{Float64})\n",
      "    @ Zygote ~/.julia/packages/Zygote/xGkZ5/src/lib/lib.jl:206\n",
      " [22] #1914#back\n",
      "    @ ~/.julia/packages/ZygoteRules/AIbCs/src/adjoint.jl:67 [inlined]\n",
      " [23] Pullback\n",
      "    @ ./operators.jl:1030 [inlined]\n",
      " [24] (::typeof(∂(λ)))(Δ::Vector{Float64})\n",
      "    @ Zygote ~/.julia/packages/Zygote/xGkZ5/src/compiler/interface2.jl:0\n",
      " [25] (::Zygote.var\"#60#61\"{typeof(∂(λ))})(Δ::Vector{Float64})\n",
      "    @ Zygote ~/.julia/packages/Zygote/xGkZ5/src/compiler/interface.jl:45\n",
      " [26] withjacobian(f::Function, args::Vector{Float64})\n",
      "    @ Zygote ~/.julia/packages/Zygote/xGkZ5/src/lib/grad.jl:150\n",
      " [27] jacobian(f::Function, args::Vector{Float64})\n",
      "    @ Zygote ~/.julia/packages/Zygote/xGkZ5/src/lib/grad.jl:128\n",
      " [28] set_vxx(kx::Float64, ky::Float64, p0::Parm)\n",
      "    @ Main ~/Documents/Codes/julia/nonlinear/test_zygote.ipynb:4\n",
      " [29] top-level scope\n",
      "    @ ~/Documents/Codes/julia/nonlinear/test_zygote.ipynb:1"
     ]
    }
   ],
   "source": [
    "set_vxx(k[1], k[2], p0)"
   ]
  },
  {
   "cell_type": "code",
   "execution_count": 25,
   "metadata": {},
   "outputs": [
    {
     "data": {
      "text/plain": [
       "m (generic function with 2 methods)"
      ]
     },
     "metadata": {},
     "output_type": "display_data"
    }
   ],
   "source": [
    "m(u) = H(u, p0)\n",
    "#H(x::Vector{Float64},p)\n"
   ]
  },
  {
   "cell_type": "code",
   "execution_count": 15,
   "metadata": {},
   "outputs": [],
   "source": [
    "using ForwardDiff"
   ]
  },
  {
   "cell_type": "code",
   "execution_count": 24,
   "metadata": {},
   "outputs": [
    {
     "data": {
      "text/plain": [
       "H (generic function with 2 methods)"
      ]
     },
     "metadata": {},
     "output_type": "display_data"
    }
   ],
   "source": [
    "function H(k,p::Parm)\n",
    "    e0 = -p.t*(cos(k[1])+cos(k[2]))\n",
    "    sz = -p.t*(cos(k[3]))\n",
    "    sx = p.V + p.λ*sin(k[1])\n",
    "    sy = p.λ*sin(k[2])\n",
    "    hv = [e0, sx, sy, sz]\n",
    "    #h::Array{ComplexF64,2} = hv' * sigma\n",
    "    return hv\n",
    "end"
   ]
  },
  {
   "cell_type": "code",
   "execution_count": 47,
   "metadata": {},
   "outputs": [
    {
     "data": {
      "text/plain": [
       "set_vx_f (generic function with 1 method)"
      ]
     },
     "metadata": {},
     "output_type": "display_data"
    }
   ],
   "source": [
    "function set_vx_f(k,p::Parm)\n",
    "    m2(u) = H(u, p)\n",
    "    vx = ForwardDiff.jacobian(m2,k)[:,1]\n",
    "end"
   ]
  },
  {
   "cell_type": "code",
   "execution_count": 48,
   "metadata": {},
   "outputs": [
    {
     "data": {
      "text/plain": [
       "4-element Vector{Float64}:\n",
       " 0.8414709848078965\n",
       " 0.2161209223472559\n",
       " 0.0\n",
       " 0.0"
      ]
     },
     "metadata": {},
     "output_type": "display_data"
    }
   ],
   "source": [
    "vx = set_vx_f(k,p0)"
   ]
  },
  {
   "cell_type": "code",
   "execution_count": 49,
   "metadata": {},
   "outputs": [
    {
     "data": {
      "text/plain": [
       "set_vxx_f (generic function with 1 method)"
      ]
     },
     "metadata": {},
     "output_type": "display_data"
    }
   ],
   "source": [
    "function set_vxx_f(k,p::Parm)\n",
    "    m2(u) = set_vx_f(u, p)\n",
    "    vx = ForwardDiff.jacobian(m2,k)[:,1]\n",
    "end"
   ]
  },
  {
   "cell_type": "code",
   "execution_count": 50,
   "metadata": {},
   "outputs": [
    {
     "data": {
      "text/plain": [
       "4-element Vector{Float64}:\n",
       "  0.5403023058681398\n",
       " -0.33658839392315865\n",
       "  0.0\n",
       "  0.0"
      ]
     },
     "metadata": {},
     "output_type": "display_data"
    }
   ],
   "source": [
    "vxx = set_vxx_f(k,p0)"
   ]
  },
  {
   "cell_type": "code",
   "execution_count": 18,
   "metadata": {},
   "outputs": [
    {
     "data": {
      "text/plain": [
       "5×5 Matrix{Float64}:\n",
       " 1.0  0.0  0.0  0.0  0.0\n",
       " 0.0  2.0  0.0  0.0  0.0\n",
       " 0.0  0.0  3.0  0.0  0.0\n",
       " 0.0  0.0  0.0  4.0  0.0\n",
       " 0.0  0.0  0.0  0.0  5.0"
      ]
     },
     "metadata": {},
     "output_type": "display_data"
    }
   ],
   "source": [
    "function g(u,up)\n",
    "  u .* up\n",
    "end\n",
    "\n",
    "# パラメータの実際は vp として、\n",
    "vp = collect(1.0:1.0:5.0);\n",
    "\n",
    "# 関数の引数は v に格納して、\n",
    "v = randn(5);\n",
    "\n",
    "# 形式的に引数を一つだけ持つ関数 f を定義して、\n",
    "f(u) = g(u, vp)\n",
    "\n",
    "# 位置 v での f の Jacobian を計算してみると、\n",
    "ForwardDiff.jacobian(f, v)"
   ]
  },
  {
   "cell_type": "code",
   "execution_count": 132,
   "metadata": {},
   "outputs": [
    {
     "ename": "MethodError",
     "evalue": "MethodError: no method matching hh(::Vector{ForwardDiff.Dual{ForwardDiff.Tag{typeof(hh), Float64}, Float64, 3}})\nClosest candidates are:\n  hh(!Matched::Vector{Float64}) at ~/Documents/Codes/julia/nonlinear/test_zygote.ipynb:1",
     "output_type": "error",
     "traceback": [
      "MethodError: no method matching hh(::Vector{ForwardDiff.Dual{ForwardDiff.Tag{typeof(hh), Float64}, Float64, 3}})\n",
      "Closest candidates are:\n",
      "  hh(!Matched::Vector{Float64}) at ~/Documents/Codes/julia/nonlinear/test_zygote.ipynb:1\n",
      "\n",
      "Stacktrace:\n",
      " [1] vector_mode_dual_eval!(f::typeof(hh), cfg::ForwardDiff.JacobianConfig{ForwardDiff.Tag{typeof(hh), Float64}, Float64, 3, Vector{ForwardDiff.Dual{ForwardDiff.Tag{typeof(hh), Float64}, Float64, 3}}}, x::Vector{Float64})\n",
      "   @ ForwardDiff ~/.julia/packages/ForwardDiff/wAaVJ/src/apiutils.jl:37\n",
      " [2] vector_mode_jacobian(f::typeof(hh), x::Vector{Float64}, cfg::ForwardDiff.JacobianConfig{ForwardDiff.Tag{typeof(hh), Float64}, Float64, 3, Vector{ForwardDiff.Dual{ForwardDiff.Tag{typeof(hh), Float64}, Float64, 3}}})\n",
      "   @ ForwardDiff ~/.julia/packages/ForwardDiff/wAaVJ/src/jacobian.jl:148\n",
      " [3] jacobian(f::Function, x::Vector{Float64}, cfg::ForwardDiff.JacobianConfig{ForwardDiff.Tag{typeof(hh), Float64}, Float64, 3, Vector{ForwardDiff.Dual{ForwardDiff.Tag{typeof(hh), Float64}, Float64, 3}}}, ::Val{true})\n",
      "   @ ForwardDiff ~/.julia/packages/ForwardDiff/wAaVJ/src/jacobian.jl:0\n",
      " [4] jacobian(f::Function, x::Vector{Float64}, cfg::ForwardDiff.JacobianConfig{ForwardDiff.Tag{typeof(hh), Float64}, Float64, 3, Vector{ForwardDiff.Dual{ForwardDiff.Tag{typeof(hh), Float64}, Float64, 3}}}) (repeats 2 times)\n",
      "   @ ForwardDiff ~/.julia/packages/ForwardDiff/wAaVJ/src/jacobian.jl:19\n",
      " [5] top-level scope\n",
      "   @ ~/Documents/Codes/julia/nonlinear/test_zygote.ipynb:1"
     ]
    }
   ],
   "source": [
    "ForwardDiff.jacobian(hh, k)"
   ]
  },
  {
   "cell_type": "code",
   "execution_count": 95,
   "metadata": {},
   "outputs": [
    {
     "data": {
      "text/plain": [
       "VtoM (generic function with 1 method)"
      ]
     },
     "metadata": {},
     "output_type": "display_data"
    }
   ],
   "source": [
    "function VtoM(v::Vector{Float64})\n",
    "    M = v' * sigma\n",
    "    return M\n",
    "end"
   ]
  },
  {
   "cell_type": "code",
   "execution_count": 119,
   "metadata": {},
   "outputs": [
    {
     "ename": "MethodError",
     "evalue": "MethodError: no method matching hh(::Vector{ForwardDiff.Dual{ForwardDiff.Tag{typeof(hh), Float64}, Float64, 3}})\nClosest candidates are:\n  hh(!Matched::Vector{Float64}) at ~/Documents/Codes/julia/nonlinear/test_zygote.ipynb:1",
     "output_type": "error",
     "traceback": [
      "MethodError: no method matching hh(::Vector{ForwardDiff.Dual{ForwardDiff.Tag{typeof(hh), Float64}, Float64, 3}})\n",
      "Closest candidates are:\n",
      "  hh(!Matched::Vector{Float64}) at ~/Documents/Codes/julia/nonlinear/test_zygote.ipynb:1\n",
      "\n",
      "Stacktrace:\n",
      " [1] vector_mode_dual_eval!(f::typeof(hh), cfg::ForwardDiff.JacobianConfig{ForwardDiff.Tag{typeof(hh), Float64}, Float64, 3, Vector{ForwardDiff.Dual{ForwardDiff.Tag{typeof(hh), Float64}, Float64, 3}}}, x::Vector{Float64})\n",
      "   @ ForwardDiff ~/.julia/packages/ForwardDiff/wAaVJ/src/apiutils.jl:37\n",
      " [2] vector_mode_jacobian(f::typeof(hh), x::Vector{Float64}, cfg::ForwardDiff.JacobianConfig{ForwardDiff.Tag{typeof(hh), Float64}, Float64, 3, Vector{ForwardDiff.Dual{ForwardDiff.Tag{typeof(hh), Float64}, Float64, 3}}})\n",
      "   @ ForwardDiff ~/.julia/packages/ForwardDiff/wAaVJ/src/jacobian.jl:148\n",
      " [3] jacobian(f::Function, x::Vector{Float64}, cfg::ForwardDiff.JacobianConfig{ForwardDiff.Tag{typeof(hh), Float64}, Float64, 3, Vector{ForwardDiff.Dual{ForwardDiff.Tag{typeof(hh), Float64}, Float64, 3}}}, ::Val{true})\n",
      "   @ ForwardDiff ~/.julia/packages/ForwardDiff/wAaVJ/src/jacobian.jl:0\n",
      " [4] jacobian(f::Function, x::Vector{Float64}, cfg::ForwardDiff.JacobianConfig{ForwardDiff.Tag{typeof(hh), Float64}, Float64, 3, Vector{ForwardDiff.Dual{ForwardDiff.Tag{typeof(hh), Float64}, Float64, 3}}}) (repeats 2 times)\n",
      "   @ ForwardDiff ~/.julia/packages/ForwardDiff/wAaVJ/src/jacobian.jl:19\n",
      " [5] set_vx_f(k::Vector{Float64}, p::Parm)\n",
      "   @ Main ~/Documents/Codes/julia/nonlinear/test_zygote.ipynb:3\n",
      " [6] top-level scope\n",
      "   @ ~/Documents/Codes/julia/nonlinear/test_zygote.ipynb:1"
     ]
    }
   ],
   "source": [
    "VVx = set_vx_f(k,p)"
   ]
  },
  {
   "cell_type": "code",
   "execution_count": 105,
   "metadata": {},
   "outputs": [
    {
     "data": {
      "text/plain": [
       "set_vxx_z (generic function with 1 method)"
      ]
     },
     "metadata": {},
     "output_type": "display_data"
    }
   ],
   "source": [
    "function set_vxx_z(k::Vector{Float64},p::Parm)\n",
    "    gg_x = (jacobian(k -> set_vx(k,p), k)[1])[:,1]\n",
    "    #kk = k[1]\n",
    "    #gg_x = (jacobian(kk -> H([kk,k[2],k[3]],p), kk)[1])\n",
    "    #Vx::Array{ComplexF64,2} = gg_x' * sigma\n",
    "    return gg_x\n",
    "end"
   ]
  },
  {
   "cell_type": "markdown",
   "metadata": {},
   "source": []
  },
  {
   "cell_type": "code",
   "execution_count": 106,
   "metadata": {},
   "outputs": [],
   "source": [
    "using ForwardDiff"
   ]
  },
  {
   "cell_type": "code",
   "execution_count": 110,
   "metadata": {},
   "outputs": [
    {
     "data": {
      "text/plain": [
       "set_vxx_f (generic function with 1 method)"
      ]
     },
     "metadata": {},
     "output_type": "display_data"
    }
   ],
   "source": [
    "function set_vxx_f(k::Vector{Float64},p::Parm)\n",
    "    vx(k) = set_vx(k,p)\n",
    "    gg_x = ForwardDiff.jacobian(vx, k)[1]\n",
    "    #kk = k[1]\n",
    "    #gg_x = (jacobian(kk -> H([kk,k[2],k[3]],p), kk)[1])\n",
    "    #Vx::Array{ComplexF64,2} = gg_x' * sigma\n",
    "    return gg_x\n",
    "end"
   ]
  },
  {
   "cell_type": "code",
   "execution_count": 111,
   "metadata": {},
   "outputs": [
    {
     "ename": "MethodError",
     "evalue": "MethodError: no method matching set_vx(::Vector{ForwardDiff.Dual{ForwardDiff.Tag{var\"#vx#120\"{Parm}, Float64}, Float64, 3}}, ::Parm)\nClosest candidates are:\n  set_vx(!Matched::Vector{Float64}, ::Parm) at ~/Documents/Codes/julia/nonlinear/test_zygote.ipynb:1",
     "output_type": "error",
     "traceback": [
      "MethodError: no method matching set_vx(::Vector{ForwardDiff.Dual{ForwardDiff.Tag{var\"#vx#120\"{Parm}, Float64}, Float64, 3}}, ::Parm)\n",
      "Closest candidates are:\n",
      "  set_vx(!Matched::Vector{Float64}, ::Parm) at ~/Documents/Codes/julia/nonlinear/test_zygote.ipynb:1\n",
      "\n",
      "Stacktrace:\n",
      " [1] (::var\"#vx#120\"{Parm})(k::Vector{ForwardDiff.Dual{ForwardDiff.Tag{var\"#vx#120\"{Parm}, Float64}, Float64, 3}})\n",
      "   @ Main ~/Documents/Codes/julia/nonlinear/test_zygote.ipynb:2\n",
      " [2] vector_mode_dual_eval!(f::var\"#vx#120\"{Parm}, cfg::ForwardDiff.JacobianConfig{ForwardDiff.Tag{var\"#vx#120\"{Parm}, Float64}, Float64, 3, Vector{ForwardDiff.Dual{ForwardDiff.Tag{var\"#vx#120\"{Parm}, Float64}, Float64, 3}}}, x::Vector{Float64})\n",
      "   @ ForwardDiff ~/.julia/packages/ForwardDiff/wAaVJ/src/apiutils.jl:37\n",
      " [3] vector_mode_jacobian(f::var\"#vx#120\"{Parm}, x::Vector{Float64}, cfg::ForwardDiff.JacobianConfig{ForwardDiff.Tag{var\"#vx#120\"{Parm}, Float64}, Float64, 3, Vector{ForwardDiff.Dual{ForwardDiff.Tag{var\"#vx#120\"{Parm}, Float64}, Float64, 3}}})\n",
      "   @ ForwardDiff ~/.julia/packages/ForwardDiff/wAaVJ/src/jacobian.jl:148\n",
      " [4] jacobian(f::Function, x::Vector{Float64}, cfg::ForwardDiff.JacobianConfig{ForwardDiff.Tag{var\"#vx#120\"{Parm}, Float64}, Float64, 3, Vector{ForwardDiff.Dual{ForwardDiff.Tag{var\"#vx#120\"{Parm}, Float64}, Float64, 3}}}, ::Val{true})\n",
      "   @ ForwardDiff ~/.julia/packages/ForwardDiff/wAaVJ/src/jacobian.jl:0\n",
      " [5] jacobian(f::Function, x::Vector{Float64}, cfg::ForwardDiff.JacobianConfig{ForwardDiff.Tag{var\"#vx#120\"{Parm}, Float64}, Float64, 3, Vector{ForwardDiff.Dual{ForwardDiff.Tag{var\"#vx#120\"{Parm}, Float64}, Float64, 3}}}) (repeats 2 times)\n",
      "   @ ForwardDiff ~/.julia/packages/ForwardDiff/wAaVJ/src/jacobian.jl:19\n",
      " [6] set_vxx_f(k::Vector{Float64}, p::Parm)\n",
      "   @ Main ~/Documents/Codes/julia/nonlinear/test_zygote.ipynb:3\n",
      " [7] top-level scope\n",
      "   @ ~/Documents/Codes/julia/nonlinear/test_zygote.ipynb:1"
     ]
    }
   ],
   "source": [
    "Vxx = set_vxx_f(k,p)"
   ]
  },
  {
   "cell_type": "code",
   "execution_count": null,
   "metadata": {},
   "outputs": [],
   "source": []
  }
 ],
 "metadata": {
  "kernelspec": {
   "display_name": "Julia 1.8.0",
   "language": "julia",
   "name": "julia-1.8"
  },
  "language_info": {
   "file_extension": ".jl",
   "mimetype": "application/julia",
   "name": "julia",
   "version": "1.8.0"
  },
  "orig_nbformat": 4
 },
 "nbformat": 4,
 "nbformat_minor": 2
}
