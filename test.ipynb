{
 "cells": [
  {
   "cell_type": "code",
   "execution_count": 1,
   "metadata": {},
   "outputs": [
    {
     "data": {
      "text/plain": [
       "4-element Vector{Int64}:\n",
       " 2\n",
       " 3\n",
       " 4\n",
       " 5"
      ]
     },
     "metadata": {},
     "output_type": "display_data"
    }
   ],
   "source": [
    "using Distributed\n",
    "addprocs(4)"
   ]
  },
  {
   "cell_type": "code",
   "execution_count": 2,
   "metadata": {},
   "outputs": [],
   "source": [
    "@everywhere struct Parm\n",
    "    #Parm of electrons\n",
    "    t_i::Float64\n",
    "    t_e::Float64\n",
    "    t_aa::Float64\n",
    "    t_bb::Float64\n",
    "    Delta::Float64\n",
    "    mu::Float64\n",
    "    eta::Float64\n",
    "    hx::Float64\n",
    "    hy::Float64\n",
    "    hz::Float64\n",
    "\n",
    "    #Parm of phonon\n",
    "    Cp::Float64\n",
    "    m::Float64\n",
    "    M::Float64\n",
    "    U::Float64\n",
    "    T::Float64\n",
    "    K_SIZE::Int\n",
    "    W_MAX::Float64\n",
    "    W_SIZE::Int\n",
    "    W_in::Float64\n",
    "end"
   ]
  },
  {
   "cell_type": "code",
   "execution_count": 3,
   "metadata": {},
   "outputs": [],
   "source": [
    "#@everywhere \n",
    "using SharedArrays"
   ]
  },
  {
   "cell_type": "code",
   "execution_count": 4,
   "metadata": {},
   "outputs": [],
   "source": [
    "#@everywhere \n",
    "mutable struct Hamiltonian\n",
    "    Hk::SharedArray{ComplexF64,3}\n",
    "    Vx::SharedArray{ComplexF64,3}\n",
    "    Vxx::SharedArray{ComplexF64,3}\n",
    "    E::SharedArray{ComplexF64,2}\n",
    "    #=\n",
    "    Hk::SharedArray{Array{ComplexF64,2}}\n",
    "    Vx::SharedArray{Array{ComplexF64,2}}\n",
    "    Vxx::SharedArray{Array{ComplexF64,2}}\n",
    "    E::SharedArray{Array{ComplexF64,2}}=#\n",
    "end"
   ]
  },
  {
   "cell_type": "code",
   "execution_count": 5,
   "metadata": {},
   "outputs": [],
   "source": [
    "@everywhere sigma = [[1.0 0.0; 0.0 1.0], [0.0 1.0; 1.0 0.0], [0.0 -1.0im; 1.0im 0.0], [1.0 0.0; 0.0 -1.0]]"
   ]
  },
  {
   "cell_type": "code",
   "execution_count": 48,
   "metadata": {},
   "outputs": [
    {
     "data": {
      "text/plain": [
       "10×2×2 Array{ComplexF64, 3}:\n",
       "[:, :, 1] =\n",
       " 9.12119e-316+9.12119e-316im  9.12119e-316+9.12119e-316im\n",
       " 9.12119e-316+9.12119e-316im  9.12119e-316+1.42298e-315im\n",
       " 9.12119e-316+9.12119e-316im  9.12119e-316+9.12119e-316im\n",
       " 9.12119e-316+9.12119e-316im  9.12119e-316+9.12119e-316im\n",
       " 9.12119e-316+9.12119e-316im  1.42298e-315+9.12119e-316im\n",
       " 9.12119e-316+9.12119e-316im  9.12119e-316+9.12119e-316im\n",
       " 9.12119e-316+9.12119e-316im  9.12119e-316+1.42298e-315im\n",
       " 9.12119e-316+9.12119e-316im  9.12119e-316+9.12119e-316im\n",
       " 9.12119e-316+9.12119e-316im  1.42298e-315+9.12119e-316im\n",
       " 9.12119e-316+9.12119e-316im  9.12119e-316+9.12119e-316im\n",
       "\n",
       "[:, :, 2] =\n",
       " 1.04249e-315+9.12119e-316im  9.12119e-316+9.12119e-316im\n",
       " 9.12119e-316+9.12119e-316im  9.12119e-316+9.12119e-316im\n",
       " 9.12119e-316+9.12119e-316im  9.12119e-316+9.12119e-316im\n",
       " 9.12119e-316+9.12119e-316im  9.12119e-316+9.12119e-316im\n",
       " 9.12119e-316+9.12119e-316im  9.12119e-316+9.12119e-316im\n",
       " 9.12119e-316+9.12119e-316im  1.42298e-315+9.12119e-316im\n",
       " 9.12119e-316+9.12119e-316im  9.12119e-316+9.12119e-316im\n",
       " 9.12119e-316+9.12119e-316im  9.12119e-316+9.12119e-316im\n",
       " 9.12119e-316+9.12119e-316im  9.12119e-316+9.12119e-316im\n",
       " 9.12119e-316+9.12119e-316im  9.12119e-316+9.12119e-316im"
      ]
     },
     "metadata": {},
     "output_type": "display_data"
    }
   ],
   "source": [
    "H0 = Array{ComplexF64,3}(undef, 10, 2, 2)\n",
    "#Array{Array{ComplexF64,1},1}(undef, 10)\n",
    "#Array{Matrix{ComplexF64},1}"
   ]
  },
  {
   "cell_type": "code",
   "execution_count": 50,
   "metadata": {},
   "outputs": [
    {
     "data": {
      "text/plain": [
       "2×2 Matrix{Float64}:\n",
       " 1.0  2.0\n",
       " 1.0  1.0"
      ]
     },
     "metadata": {},
     "output_type": "display_data"
    }
   ],
   "source": [
    "H0[1,:,:] = [1.0 2.0; 1.0 1.0]"
   ]
  },
  {
   "cell_type": "code",
   "execution_count": null,
   "metadata": {},
   "outputs": [],
   "source": [
    "function test(p::Parm)\n",
    "    a::SharedArray\n",
    "end"
   ]
  },
  {
   "cell_type": "code",
   "execution_count": 16,
   "metadata": {},
   "outputs": [
    {
     "data": {
      "text/plain": [
       "HandV (generic function with 1 method)"
      ]
     },
     "metadata": {},
     "output_type": "display_data"
    }
   ],
   "source": [
    "#@everywhere \n",
    "function HandV(p::Parm)\n",
    "    Hk = SharedArray{ComplexF64,3}(p.K_SIZE,2,2)\n",
    "    Vx = SharedArray{ComplexF64,3}(p.K_SIZE,2,2)\n",
    "    Vxx = SharedArray{ComplexF64,3}(p.K_SIZE,2,2)\n",
    "    E = SharedArray{ComplexF64,2}(p.K_SIZE,2)\n",
    "\n",
    "    @distributed for k in 1:p.K_SIZE\n",
    "        k0::Float64 = 2.0*(k - p.K_SIZE/2)*pi/p.K_SIZE\n",
    "        \n",
    "        eps::Float64 = -0.5*(p.t_aa + p.t_bb)*cos(k0)-p.mu\n",
    "        g_x::Float64 = (p.t_e*cos(k0) -p.t_i*sin(k0)) - p.hx\n",
    "        g_y::Float64 = (p.t_e*sin(k0) + p.t_i*cos(k0)) - p.hy\n",
    "        g_z::Float64 = p.Delta - p.hz -0.5*(p.t_aa - p.t_bb)*cos(k0)\n",
    "        gg = [eps, g_x, g_y, g_z] \n",
    "        Hk[k,:,:] = gg' * sigma\n",
    "\n",
    "        eps_vx::Float64 = 0.5*(p.t_aa + p.t_bb)*sin(k0)\n",
    "        gx_vx::Float64 = (-p.t_e*sin(k0) -p.t_i*cos(k0))\n",
    "        gy_vx::Float64 = (p.t_e*cos(k0) - p.t_i*sin(k0))\n",
    "        gz_vx::Float64 = 0.5*(p.t_aa - p.t_bb)*sin(k0)\n",
    "        gg_x = [eps_vx, gx_vx, gy_vx, gz_vx]\n",
    "        Vx[k,:,:] = gg_x' * sigma\n",
    "\n",
    "        eps_vxx::Float64 = 0.5*(p.t_aa + p.t_bb)*cos(k0)\n",
    "        gx_vxx::Float64 = (-p.t_e*cos(k0) +p.t_i*sin(k0))\n",
    "        gy_vxx::Float64 = (-p.t_e*sin(k0) - p.t_i*cos(k0))\n",
    "        gz_vxx::Float64 = 0.5*(p.t_aa - p.t_bb)*cos(k0)\n",
    "        gg_xx = [eps_vxx, gx_vxx, gy_vxx, gz_vxx]\n",
    "        Vxx[k,:,:] = gg_xx' * sigma\n",
    "\n",
    "        E[k,:] = zeros(2)\n",
    "    end\n",
    "\n",
    "    return Hk, Vx, Vxx, E\n",
    "end"
   ]
  },
  {
   "cell_type": "code",
   "execution_count": 7,
   "metadata": {},
   "outputs": [],
   "source": [
    "#Parm(t_i, t_e, t_aa, t_bb, Delta, mu, eta, hx, hy, hz, Cp, m, M, U, T, K_SIZE, W_MAX, W_SIZE, W_in)\n",
    "@everywhere p = Parm(1.0, 0.3, 0.1, 0.2, 0.1, -0.2, 0.02, 0.6, 0.0, 0.0, 0.5, 0.5, 1.0, 0.2, 0.02, 20, 1.5, 20, 1.0)"
   ]
  },
  {
   "cell_type": "code",
   "execution_count": 17,
   "metadata": {},
   "outputs": [
    {
     "data": {
      "text/plain": [
       "Hamiltonian([0.0 + 0.0im 0.0 + 0.0im; 0.0 + 0.0im 0.0 + 0.0im; … ; 0.0 + 0.0im 0.0 + 0.0im; 0.0 + 0.0im 0.0 + 0.0im;;; 0.0 + 0.0im 0.0 + 0.0im; 0.0 + 0.0im 0.0 + 0.0im; … ; 0.0 + 0.0im 0.0 + 0.0im; 0.0 + 0.0im 0.0 + 0.0im], [0.0 + 0.0im 0.0 + 0.0im; 0.0 + 0.0im 0.0 + 0.0im; … ; 0.0 + 0.0im 0.0 + 0.0im; 0.0 + 0.0im 0.0 + 0.0im;;; 0.0 + 0.0im 0.0 + 0.0im; 0.0 + 0.0im 0.0 + 0.0im; … ; 0.0 + 0.0im 0.0 + 0.0im; 0.0 + 0.0im 0.0 + 0.0im], [0.0 + 0.0im 0.0 + 0.0im; 0.0 + 0.0im 0.0 + 0.0im; … ; 0.0 + 0.0im 0.0 + 0.0im; 0.0 + 0.0im 0.0 + 0.0im;;; 0.0 + 0.0im 0.0 + 0.0im; 0.0 + 0.0im 0.0 + 0.0im; … ; 0.0 + 0.0im 0.0 + 0.0im; 0.0 + 0.0im 0.0 + 0.0im], ComplexF64[0.0 + 0.0im 0.0 + 0.0im; 0.0 + 0.0im 0.0 + 0.0im; … ; 0.0 + 0.0im 0.0 + 0.0im; 0.0 + 0.0im 0.0 + 0.0im])"
      ]
     },
     "metadata": {},
     "output_type": "display_data"
    }
   ],
   "source": [
    "#Hk, Vx, Vxx, E = HandV(p)\n",
    "H = Hamiltonian(HandV(p)...)"
   ]
  },
  {
   "cell_type": "code",
   "execution_count": 18,
   "metadata": {},
   "outputs": [
    {
     "data": {
      "text/plain": [
       "2×2 Matrix{ComplexF64}:\n",
       " 0.204894+0.0im         -0.6237-1.04376im\n",
       "  -0.6237+1.04376im  -0.0902113+0.0im"
      ]
     },
     "metadata": {},
     "output_type": "display_data"
    }
   ],
   "source": [
    "H.Hk[11,:,:]"
   ]
  }
 ],
 "metadata": {
  "kernelspec": {
   "display_name": "Julia 1.7.1",
   "language": "julia",
   "name": "julia-1.7"
  },
  "language_info": {
   "file_extension": ".jl",
   "mimetype": "application/julia",
   "name": "julia",
   "version": "1.7.1"
  },
  "orig_nbformat": 4
 },
 "nbformat": 4,
 "nbformat_minor": 2
}
