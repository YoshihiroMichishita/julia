{
 "cells": [
  {
   "cell_type": "code",
   "execution_count": 1,
   "metadata": {},
   "outputs": [],
   "source": [
    "using LinearAlgebra\n",
    "using Random\n",
    "using Flux"
   ]
  },
  {
   "cell_type": "code",
   "execution_count": 2,
   "metadata": {},
   "outputs": [],
   "source": [
    "mutable struct RNNwaveFn\n",
    "    Ns::Int #system size\n",
    "    seed\n",
    "    N_hid::Int # width of the hidden state \n",
    "    N_st::Int # number of states in sigle site\n",
    "    model\n",
    "\n",
    "    Nb::Int # number of sample\n",
    "    sample::Matrix{Int}\n",
    "    s0::Matrix{Float32}\n",
    "end\n"
   ]
  },
  {
   "cell_type": "code",
   "execution_count": 3,
   "metadata": {},
   "outputs": [
    {
     "data": {
      "text/plain": [
       "set_RNN (generic function with 1 method)"
      ]
     },
     "execution_count": 3,
     "metadata": {},
     "output_type": "execute_result"
    }
   ],
   "source": [
    "function set_RNN(Ns0::Int, s0::Int, N_hid0::Int, N_st0::Int, Nb0::Int)\n",
    "    ss = MersenneTwister(s0)\n",
    "    model = Chain(LSTM(N_st0 => N_hid0; init=Flux.glorot_normal(s0)),Dense(N_hid0 => N_st0; init=Flux.randn32(ss)), softmax)\n",
    "    sample = rand(ss, 1:N_st0, Nb0, Ns0)\n",
    "    s0 = zeros(Float32, N_st0, Ns0)\n",
    "\n",
    "    return Ns0, ss, N_hid0, N_st0, model, Nb0, sample\n",
    "end\n"
   ]
  },
  {
   "cell_type": "code",
   "execution_count": null,
   "metadata": {},
   "outputs": [],
   "source": []
  }
 ],
 "metadata": {
  "kernelspec": {
   "display_name": "Julia 1.8.5",
   "language": "julia",
   "name": "julia-1.8"
  },
  "language_info": {
   "file_extension": ".jl",
   "mimetype": "application/julia",
   "name": "julia",
   "version": "1.8.5"
  },
  "orig_nbformat": 4
 },
 "nbformat": 4,
 "nbformat_minor": 2
}
