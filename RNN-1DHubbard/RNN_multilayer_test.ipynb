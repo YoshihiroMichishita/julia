{
 "cells": [
  {
   "cell_type": "code",
   "execution_count": 4,
   "metadata": {},
   "outputs": [],
   "source": [
    "using LinearAlgebra\n",
    "using Random\n",
    "using Flux\n",
    "using Distributions"
   ]
  },
  {
   "cell_type": "code",
   "execution_count": 2,
   "metadata": {},
   "outputs": [],
   "source": [
    "mutable struct RNNwaveFn\n",
    "    Ns::Int #system size\n",
    "    seed\n",
    "    N_hid::Int # width of the hidden state \n",
    "    N_st::Int # number of states in sigle site\n",
    "    model\n",
    "\n",
    "    Nb::Int # number of sample\n",
    "    sample::Matrix{Int}\n",
    "    s0::Matrix{Float32}\n",
    "end\n"
   ]
  },
  {
   "cell_type": "code",
   "execution_count": 3,
   "metadata": {},
   "outputs": [
    {
     "data": {
      "text/plain": [
       "set_RNN (generic function with 1 method)"
      ]
     },
     "execution_count": 3,
     "metadata": {},
     "output_type": "execute_result"
    }
   ],
   "source": [
    "function set_RNN(Ns0::Int, s0::Int, N_hid0::Int, N_st0::Int, Nb0::Int)\n",
    "    ss = MersenneTwister(s0)\n",
    "    model = Chain(LSTM(N_st0 => N_hid0; init=Flux.glorot_normal(s0)),Dense(N_hid0 => N_st0; init=Flux.randn32(ss)), softmax)\n",
    "    sample = rand(ss, 1:N_st0, Nb0, Ns0)\n",
    "    s0 = zeros(Float32, Ns0, N_st0)\n",
    "\n",
    "    return Ns0, ss, N_hid0, N_st0, model, Nb0, sample\n",
    "end\n"
   ]
  },
  {
   "cell_type": "code",
   "execution_count": null,
   "metadata": {},
   "outputs": [],
   "source": [
    "function get_sample(rnn::RNNwaveFn)\n",
    "    for b in 1:rnn.Nb\n",
    "        rnn_state = zeros(Float32, rnn.N_hid)\n",
    "        for i in 1:rnn.Ns\n",
    "            rnn_state, prob = rnn.model(rnn_state, rnn.s0[i,:])\n",
    "            rnn.sample[b, i] = rand(Categorical(prob), 1)\n",
    "        end\n",
    "    end\n",
    "        "
   ]
  },
  {
   "cell_type": "code",
   "execution_count": 34,
   "metadata": {},
   "outputs": [
    {
     "data": {
      "text/plain": [
       "3"
      ]
     },
     "execution_count": 34,
     "metadata": {},
     "output_type": "execute_result"
    }
   ],
   "source": [
    "y = Multinomial(1, [0.1,0.1,0.8])\n",
    "z = rand(y)\n",
    "zz = onecold(z)"
   ]
  },
  {
   "cell_type": "code",
   "execution_count": 24,
   "metadata": {},
   "outputs": [],
   "source": [
    "using StatsBase"
   ]
  },
  {
   "cell_type": "code",
   "execution_count": 33,
   "metadata": {},
   "outputs": [],
   "source": [
    "using OneHotArrays"
   ]
  },
  {
   "cell_type": "code",
   "execution_count": 106,
   "metadata": {},
   "outputs": [
    {
     "data": {
      "text/plain": [
       "1-element Vector{Int64}:\n",
       " 2"
      ]
     },
     "execution_count": 106,
     "metadata": {},
     "output_type": "execute_result"
    }
   ],
   "source": [
    "p = aweights([0.2, 0.8])\n",
    "sample(1:2, p, 1)"
   ]
  },
  {
   "cell_type": "code",
   "execution_count": 109,
   "metadata": {},
   "outputs": [
    {
     "ename": "LoadError",
     "evalue": "DomainError with [0.2, 0.8]:\nCategorical: vector p is not a probability vector",
     "output_type": "error",
     "traceback": [
      "DomainError with [0.2, 0.8]:\nCategorical: vector p is not a probability vector",
      "",
      "Stacktrace:",
      " [1] #118",
      "   @ ~/.julia/packages/Distributions/bQ6Gj/src/univariate/discrete/categorical.jl:30 [inlined]",
      " [2] check_args",
      "   @ ~/.julia/packages/Distributions/bQ6Gj/src/utils.jl:89 [inlined]",
      " [3] #_#117",
      "   @ ~/.julia/packages/Distributions/bQ6Gj/src/univariate/discrete/categorical.jl:30 [inlined]",
      " [4] #Categorical#120",
      "   @ ~/.julia/packages/Distributions/bQ6Gj/src/univariate/discrete/categorical.jl:34 [inlined]",
      " [5] (Categorical{P} where P<:Real)(p::Vector{Float64})",
      "   @ Distributions ~/.julia/packages/Distributions/bQ6Gj/src/univariate/discrete/categorical.jl:34",
      " [6] top-level scope",
      "   @ In[109]:1"
     ]
    }
   ],
   "source": [
    "A = Categorical([0.1999999, 0.8])\n",
    "rand(A, 1)"
   ]
  },
  {
   "cell_type": "code",
   "execution_count": 74,
   "metadata": {},
   "outputs": [
    {
     "data": {
      "text/plain": [
       "-1.6094379124341003"
      ]
     },
     "execution_count": 74,
     "metadata": {},
     "output_type": "execute_result"
    }
   ],
   "source": [
    "logpdf(A,1)"
   ]
  }
 ],
 "metadata": {
  "kernelspec": {
   "display_name": "Julia 1.8.4",
   "language": "julia",
   "name": "julia-1.8"
  },
  "language_info": {
   "file_extension": ".jl",
   "mimetype": "application/julia",
   "name": "julia",
   "version": "1.8.4"
  },
  "orig_nbformat": 4
 },
 "nbformat": 4,
 "nbformat_minor": 2
}
