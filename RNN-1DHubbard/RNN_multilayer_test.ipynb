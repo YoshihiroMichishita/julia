{
 "cells": [
  {
   "cell_type": "code",
   "execution_count": 4,
   "metadata": {},
   "outputs": [],
   "source": [
    "using LinearAlgebra\n",
    "using Random\n",
    "using Flux\n",
    "using Distributions"
   ]
  },
  {
   "cell_type": "code",
   "execution_count": 5,
   "metadata": {},
   "outputs": [],
   "source": [
    "mutable struct RNNwaveFn\n",
    "    Ns::Int #system size\n",
    "    seed\n",
    "    N_hid::Int # width of the hidden state \n",
    "    N_st::Int # number of states in sigle site\n",
    "    model\n",
    "\n",
    "    Nb::Int # number of sample\n",
    "    sample::Matrix{Int}\n",
    "    s0::Matrix{Float32}\n",
    "end\n"
   ]
  },
  {
   "cell_type": "code",
   "execution_count": 3,
   "metadata": {},
   "outputs": [
    {
     "data": {
      "text/plain": [
       "set_RNN (generic function with 1 method)"
      ]
     },
     "execution_count": 3,
     "metadata": {},
     "output_type": "execute_result"
    }
   ],
   "source": [
    "function set_RNN(Ns0::Int, s0::Int, N_hid0::Int, N_st0::Int, Nb0::Int)\n",
    "    ss = MersenneTwister(s0)\n",
    "    model = Chain(LSTM(N_st0 => N_hid0; init=Flux.glorot_normal(s0)),Dense(N_hid0 => N_st0; init=Flux.randn32(ss)), softmax)\n",
    "    sample = rand(ss, 1:N_st0, Nb0, Ns0)\n",
    "    s0 = zeros(Float32, Ns0, N_st0)\n",
    "\n",
    "    return Ns0, ss, N_hid0, N_st0, model, Nb0, sample\n",
    "end\n"
   ]
  },
  {
   "cell_type": "code",
   "execution_count": null,
   "metadata": {},
   "outputs": [],
   "source": [
    "function get_sample!(rnn::RNNwaveFn)\n",
    "    for b in 1:rnn.Nb\n",
    "        #rnn_state = zeros(Float32, rnn.N_hid)\n",
    "        Flux.reset!(rnn.model)\n",
    "        for i in 1:rnn.Ns\n",
    "            prob = rnn.model(rnn.s0[i,:])\n",
    "            rnn.sample[b, i] = rand(Categorical(prob), 1)\n",
    "        end\n",
    "    end\n",
    "end\n",
    "        "
   ]
  },
  {
   "cell_type": "code",
   "execution_count": 1,
   "metadata": {},
   "outputs": [
    {
     "data": {
      "text/plain": [
       "set_Ham (generic function with 1 method)"
      ]
     },
     "execution_count": 1,
     "metadata": {},
     "output_type": "execute_result"
    }
   ],
   "source": [
    "struct Ham\n",
    "    Nst::Int\n",
    "    Jz::Float64\n",
    "    Bx::Float64\n",
    "    Hl::Matrix{ComplexF64}\n",
    "    HB::Matrix{ComplexF64}\n",
    "end\n",
    "\n",
    "function set_Ham(Jz::Float64, Bx::Float64)\n",
    "    Nst::Int = 2\n",
    "    Hl::Matrix{ComplexF64} = [Jz 0.0; 0.0 -Jz]\n",
    "    HB::Matrix{ComplexF64} = [0.0 Bx; Bx 0.0]\n",
    "    return Nst, Jz, Bx, Hl, HB\n",
    "end"
   ]
  },
  {
   "cell_type": "code",
   "execution_count": null,
   "metadata": {},
   "outputs": [],
   "source": [
    "function calc_local(H::Ham, R::RNNwaveFn)\n",
    "    E_l = zeros(Float64, R.Nb)\n",
    "    for s in 1:R.Ns-1\n",
    "        for b in 1:R.Nb\n",
    "            st1 = onehot(Int, 1:H.Nst, R.sample[b,s])\n",
    "            st2 = onehot(Int, 1:H.Nst, R.sample[b,s+1])\n",
    "            E_l[s] += real(s1' * H.Hl * s2)\n",
    "            if(H.Bx != 0)\n",
    "                for bp in b+1:R.Nb\n",
    "                    st3 = onehot(Int, 1:H.Nst, R.sample[bp,s])\n",
    "                    E_l[s] += real(s1' * H.HB * s3 + s3' * H.HB * s1)\n",
    "                end\n",
    "            end\n",
    "        end       \n",
    "    end\n",
    "    return E_l\n",
    "end"
   ]
  },
  {
   "cell_type": "code",
   "execution_count": 34,
   "metadata": {},
   "outputs": [
    {
     "data": {
      "text/plain": [
       "3"
      ]
     },
     "execution_count": 34,
     "metadata": {},
     "output_type": "execute_result"
    }
   ],
   "source": [
    "y = Multinomial(1, [0.1,0.1,0.8])\n",
    "z = rand(y)\n",
    "zz = onecold(z)"
   ]
  },
  {
   "cell_type": "code",
   "execution_count": 24,
   "metadata": {},
   "outputs": [],
   "source": [
    "using StatsBase"
   ]
  },
  {
   "cell_type": "code",
   "execution_count": 33,
   "metadata": {},
   "outputs": [],
   "source": [
    "using OneHotArrays"
   ]
  },
  {
   "cell_type": "code",
   "execution_count": 106,
   "metadata": {},
   "outputs": [
    {
     "data": {
      "text/plain": [
       "1-element Vector{Int64}:\n",
       " 2"
      ]
     },
     "execution_count": 106,
     "metadata": {},
     "output_type": "execute_result"
    }
   ],
   "source": [
    "p = aweights([0.2, 0.8])\n",
    "sample(1:2, p, 1)"
   ]
  },
  {
   "cell_type": "code",
   "execution_count": 109,
   "metadata": {},
   "outputs": [
    {
     "ename": "LoadError",
     "evalue": "DomainError with [0.2, 0.8]:\nCategorical: vector p is not a probability vector",
     "output_type": "error",
     "traceback": [
      "DomainError with [0.2, 0.8]:\nCategorical: vector p is not a probability vector",
      "",
      "Stacktrace:",
      " [1] #118",
      "   @ ~/.julia/packages/Distributions/bQ6Gj/src/univariate/discrete/categorical.jl:30 [inlined]",
      " [2] check_args",
      "   @ ~/.julia/packages/Distributions/bQ6Gj/src/utils.jl:89 [inlined]",
      " [3] #_#117",
      "   @ ~/.julia/packages/Distributions/bQ6Gj/src/univariate/discrete/categorical.jl:30 [inlined]",
      " [4] #Categorical#120",
      "   @ ~/.julia/packages/Distributions/bQ6Gj/src/univariate/discrete/categorical.jl:34 [inlined]",
      " [5] (Categorical{P} where P<:Real)(p::Vector{Float64})",
      "   @ Distributions ~/.julia/packages/Distributions/bQ6Gj/src/univariate/discrete/categorical.jl:34",
      " [6] top-level scope",
      "   @ In[109]:1"
     ]
    }
   ],
   "source": [
    "A = Categorical([0.1999999, 0.8])\n",
    "rand(A, 1)"
   ]
  },
  {
   "cell_type": "code",
   "execution_count": 74,
   "metadata": {},
   "outputs": [
    {
     "data": {
      "text/plain": [
       "-1.6094379124341003"
      ]
     },
     "execution_count": 74,
     "metadata": {},
     "output_type": "execute_result"
    }
   ],
   "source": [
    "logpdf(A,1)"
   ]
  }
 ],
 "metadata": {
  "kernelspec": {
   "display_name": "Julia 1.8.5",
   "language": "julia",
   "name": "julia-1.8"
  },
  "language_info": {
   "file_extension": ".jl",
   "mimetype": "application/julia",
   "name": "julia",
   "version": "1.8.5"
  },
  "orig_nbformat": 4
 },
 "nbformat": 4,
 "nbformat_minor": 2
}
